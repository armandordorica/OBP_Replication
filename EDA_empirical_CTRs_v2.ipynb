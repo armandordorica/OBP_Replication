{
 "cells": [
  {
   "cell_type": "markdown",
   "id": "43e0671c",
   "metadata": {},
   "source": [
    "# Empirical CTR Analysis - Open Bandit Dataset\n",
    "\n",
    "**Streamlined Version** - Computes, compares, and visualizes CTRs for Random and BTS policies.\n",
    "\n",
    "**Features:**\n",
    "- Unified data loading from dataloader or CSV files\n",
    "- Per-action and per-position CTR analysis\n",
    "- Comprehensive policy comparison and lift calculation\n",
    "- Validation against OBD paper statistics (Table 1)\n",
    "- Export artifacts as CSV files"
   ]
  },
  {
   "cell_type": "code",
   "execution_count": 26,
   "id": "9047d998",
   "metadata": {},
   "outputs": [],
   "source": [
    "import pandas as pd\n",
    "import numpy as np\n",
    "from obp.dataset import OpenBanditDataset\n",
    "import os\n",
    "\n",
    "pd.set_option('display.max_columns', 50)\n",
    "pd.set_option('display.width', 1000)"
   ]
  },
  {
   "cell_type": "markdown",
   "id": "fe9bd5f7",
   "metadata": {},
   "source": [
    "## Core Functions"
   ]
  },
  {
   "cell_type": "code",
   "execution_count": 27,
   "id": "6e27d126",
   "metadata": {},
   "outputs": [],
   "source": [
    "def load_and_compute_ctr(source, behavior_policy=\"random\", campaign=\"all\", compute_details=False):\n",
    "    \"\"\"\n",
    "    Load data and compute CTR metrics from either dataloader or CSV.\n",
    "    \n",
    "    Args:\n",
    "        source: 'dataloader' or path to CSV file\n",
    "        behavior_policy: 'random' or 'bts'\n",
    "        campaign: 'all', 'men', or 'women'\n",
    "        compute_details: If True, compute per-action, per-position CTR breakdown\n",
    "    \n",
    "    Returns:\n",
    "        dict with CTR metrics (and optional detailed_df if compute_details=True)\n",
    "    \"\"\"\n",
    "    if source == 'dataloader':\n",
    "        ds = OpenBanditDataset(behavior_policy=behavior_policy, campaign=campaign)\n",
    "        bf = ds.obtain_batch_bandit_feedback()\n",
    "        df = pd.DataFrame({\n",
    "            \"action\": bf[\"action\"],\n",
    "            \"position\": bf[\"position\"],\n",
    "            \"reward\": bf[\"reward\"]\n",
    "        })\n",
    "    else:\n",
    "        # Load CSV with automatic column mapping\n",
    "        df = pd.read_csv(source, index_col=0)\n",
    "        df = df.rename(columns={\n",
    "            'item_id': 'action',\n",
    "            'click': 'reward',\n",
    "            'propensity_score': 'pscore'\n",
    "        })\n",
    "    \n",
    "    # Compute overall metrics\n",
    "    result = {\n",
    "        'source': 'dataloader' if source == 'dataloader' else 'csv',\n",
    "        'policy': behavior_policy,\n",
    "        'campaign': campaign,\n",
    "        'total_clicks': int(df['reward'].sum()),\n",
    "        'total_impressions': len(df),\n",
    "        'overall_ctr': df['reward'].mean(),\n",
    "        'n_actions': df['action'].nunique(),\n",
    "        'positions': sorted(df['position'].unique())\n",
    "    }\n",
    "    \n",
    "    # Compute detailed per-action, per-position CTR if requested\n",
    "    if compute_details:\n",
    "        stats = df.groupby(['action', 'position'])['reward'].agg(['mean', 'sum', 'count']).reset_index()\n",
    "        stats.columns = ['action', 'position', 'ctr', 'clicks', 'impressions']\n",
    "        \n",
    "        # Pivot to wide format\n",
    "        detailed_df = stats.pivot(index='action', columns='position', values=['ctr', 'clicks', 'impressions'])\n",
    "        detailed_df.columns = [f'{metric}_pos_{int(pos)}' for metric, pos in detailed_df.columns]\n",
    "        detailed_df = detailed_df.reset_index()\n",
    "        \n",
    "        result['detailed_df'] = detailed_df\n",
    "    \n",
    "    return result\n",
    "\n",
    "\n",
    "def save_ctr_artifacts(metrics, save_path=None):\n",
    "    \"\"\"\n",
    "    Save detailed CTR breakdown to CSV.\n",
    "    \n",
    "    Args:\n",
    "        metrics: dict from load_and_compute_ctr() with detailed_df\n",
    "        save_path: optional custom path, otherwise auto-generated\n",
    "    \"\"\"\n",
    "    if 'detailed_df' not in metrics:\n",
    "        print(\"⚠️  No detailed data available. Run load_and_compute_ctr() with compute_details=True\")\n",
    "        return None\n",
    "    \n",
    "    if save_path is None:\n",
    "        save_path = f\"empirical_ctr_{metrics['source']}_{metrics['policy']}_{metrics['campaign']}.csv\"\n",
    "    \n",
    "    metrics['detailed_df'].to_csv(save_path, index=False)\n",
    "    print(f\"✅ Saved detailed CTR breakdown to: {save_path}\")\n",
    "    return save_path\n",
    "\n",
    "\n",
    "def compute_lift(baseline, treatment):\n",
    "    \"\"\"Compute CTR lift between two policies.\"\"\"\n",
    "    b_ctr, t_ctr = baseline['overall_ctr'], treatment['overall_ctr']\n",
    "    return {\n",
    "        'baseline_ctr': b_ctr,\n",
    "        'treatment_ctr': t_ctr,\n",
    "        'absolute_lift': t_ctr - b_ctr,\n",
    "        'relative_lift_pct': ((t_ctr / b_ctr) - 1) * 100,\n",
    "        'baseline_name': f\"{baseline['policy']} ({baseline['source']})\",\n",
    "        'treatment_name': f\"{treatment['policy']} ({treatment['source']})\"\n",
    "    }\n",
    "\n",
    "\n",
    "def print_summary(metrics, lift=None):\n",
    "    \"\"\"Print formatted results.\"\"\"\n",
    "    print(f\"\\n{'='*70}\")\n",
    "    print(f\"Policy: {metrics['policy'].upper()} | Source: {metrics['source'].upper()}\")\n",
    "    print(f\"{'='*70}\")\n",
    "    print(f\"Impressions: {metrics['total_impressions']:,}\")\n",
    "    print(f\"Clicks:      {metrics['total_clicks']:,}\")\n",
    "    print(f\"CTR:         {metrics['overall_ctr']:.6f} ({metrics['overall_ctr']*100:.2f}%)\")\n",
    "    print(f\"Actions:     {metrics['n_actions']}\")\n",
    "    print(f\"Positions:   {metrics['positions']}\")\n",
    "    \n",
    "    if lift:\n",
    "        print(f\"\\n{'-'*70}\")\n",
    "        print(f\"Lift: {lift['relative_lift_pct']:+.2f}% (absolute: {lift['absolute_lift']:+.6f})\")\n",
    "        print(f\"{'-'*70}\")"
   ]
  },
  {
   "cell_type": "markdown",
   "id": "92720c79",
   "metadata": {},
   "source": [
    "## 1. DataLoader Analysis (10k sample)"
   ]
  },
  {
   "cell_type": "code",
   "execution_count": 28,
   "id": "8f7c7e9d",
   "metadata": {},
   "outputs": [
    {
     "name": "stderr",
     "output_type": "stream",
     "text": [
      "INFO:obp.dataset.real:When `data_path` is not given, this class downloads the small-sized version of Open Bandit Dataset.\n",
      "INFO:obp.dataset.real:When `data_path` is not given, this class downloads the small-sized version of Open Bandit Dataset.\n",
      "INFO:obp.dataset.real:When `data_path` is not given, this class downloads the small-sized version of Open Bandit Dataset.\n"
     ]
    },
    {
     "name": "stdout",
     "output_type": "stream",
     "text": [
      "\n",
      "======================================================================\n",
      "Policy: RANDOM | Source: DATALOADER\n",
      "======================================================================\n",
      "Impressions: 10,000\n",
      "Clicks:      38\n",
      "CTR:         0.003800 (0.38%)\n",
      "Actions:     80\n",
      "Positions:   [0, 1, 2]\n",
      "\n",
      "======================================================================\n",
      "Policy: BTS | Source: DATALOADER\n",
      "======================================================================\n",
      "Impressions: 10,000\n",
      "Clicks:      42\n",
      "CTR:         0.004200 (0.42%)\n",
      "Actions:     80\n",
      "Positions:   [0, 1, 2]\n",
      "\n",
      "----------------------------------------------------------------------\n",
      "Lift: +10.53% (absolute: +0.000400)\n",
      "----------------------------------------------------------------------\n"
     ]
    }
   ],
   "source": [
    "# Load and analyze DataLoader data\n",
    "random_dl = load_and_compute_ctr('dataloader', 'random', 'all')\n",
    "bts_dl = load_and_compute_ctr('dataloader', 'bts', 'all')\n",
    "lift_dl = compute_lift(random_dl, bts_dl)\n",
    "\n",
    "print_summary(random_dl)\n",
    "print_summary(bts_dl, lift_dl)"
   ]
  },
  {
   "cell_type": "markdown",
   "id": "9ba3c972",
   "metadata": {},
   "source": [
    "## 2. Full CSV Dataset Analysis"
   ]
  },
  {
   "cell_type": "code",
   "execution_count": 29,
   "id": "4e75d99e",
   "metadata": {},
   "outputs": [
    {
     "name": "stdout",
     "output_type": "stream",
     "text": [
      "\n",
      "======================================================================\n",
      "Policy: RANDOM | Source: CSV\n",
      "======================================================================\n",
      "Impressions: 1,374,327\n",
      "Clicks:      4,768\n",
      "CTR:         0.003469 (0.35%)\n",
      "Actions:     80\n",
      "Positions:   [1, 2, 3]\n",
      "\n",
      "======================================================================\n",
      "Policy: BTS | Source: CSV\n",
      "======================================================================\n",
      "Impressions: 12,357,200\n",
      "Clicks:      61,208\n",
      "CTR:         0.004953 (0.50%)\n",
      "Actions:     80\n",
      "Positions:   [1, 2, 3]\n",
      "\n",
      "----------------------------------------------------------------------\n",
      "Lift: +42.77% (absolute: +0.001484)\n",
      "----------------------------------------------------------------------\n"
     ]
    }
   ],
   "source": [
    "# Define paths\n",
    "base_path = \"zr-obp/full_dataset\"\n",
    "random_csv = os.path.join(base_path, \"random\", \"all\", \"all.csv\")\n",
    "bts_csv = os.path.join(base_path, \"bts\", \"all\", \"all.csv\")\n",
    "\n",
    "# Load and analyze\n",
    "if os.path.exists(random_csv) and os.path.exists(bts_csv):\n",
    "    random_full = load_and_compute_ctr(random_csv, 'random', 'all')\n",
    "    bts_full = load_and_compute_ctr(bts_csv, 'bts', 'all')\n",
    "    lift_full = compute_lift(random_full, bts_full)\n",
    "    \n",
    "    print_summary(random_full)\n",
    "    print_summary(bts_full, lift_full)\n",
    "else:\n",
    "    print(f\"⚠️  Full dataset not found at: {base_path}\")\n",
    "    random_full = bts_full = None"
   ]
  },
  {
   "cell_type": "markdown",
   "id": "c34c860f",
   "metadata": {},
   "source": [
    "## 3. Comprehensive Comparison"
   ]
  },
  {
   "cell_type": "code",
   "execution_count": 30,
   "id": "36ec3059",
   "metadata": {},
   "outputs": [
    {
     "name": "stdout",
     "output_type": "stream",
     "text": [
      "\n",
      "======================================================================\n",
      "COMPREHENSIVE SUMMARY\n",
      "======================================================================\n"
     ]
    },
    {
     "data": {
      "text/html": [
       "<div>\n",
       "<style scoped>\n",
       "    .dataframe tbody tr th:only-of-type {\n",
       "        vertical-align: middle;\n",
       "    }\n",
       "\n",
       "    .dataframe tbody tr th {\n",
       "        vertical-align: top;\n",
       "    }\n",
       "\n",
       "    .dataframe thead th {\n",
       "        text-align: right;\n",
       "    }\n",
       "</style>\n",
       "<table border=\"1\" class=\"dataframe\">\n",
       "  <thead>\n",
       "    <tr style=\"text-align: right;\">\n",
       "      <th></th>\n",
       "      <th>Dataset</th>\n",
       "      <th>Impressions</th>\n",
       "      <th>Clicks</th>\n",
       "      <th>CTR</th>\n",
       "      <th>CTR %</th>\n",
       "    </tr>\n",
       "  </thead>\n",
       "  <tbody>\n",
       "    <tr>\n",
       "      <th>0</th>\n",
       "      <td>DataLoader Random</td>\n",
       "      <td>10000</td>\n",
       "      <td>38</td>\n",
       "      <td>0.003800</td>\n",
       "      <td>0.38%</td>\n",
       "    </tr>\n",
       "    <tr>\n",
       "      <th>1</th>\n",
       "      <td>DataLoader BTS</td>\n",
       "      <td>10000</td>\n",
       "      <td>42</td>\n",
       "      <td>0.004200</td>\n",
       "      <td>0.42%</td>\n",
       "    </tr>\n",
       "    <tr>\n",
       "      <th>2</th>\n",
       "      <td>CSV Random</td>\n",
       "      <td>1374327</td>\n",
       "      <td>4768</td>\n",
       "      <td>0.003469</td>\n",
       "      <td>0.35%</td>\n",
       "    </tr>\n",
       "    <tr>\n",
       "      <th>3</th>\n",
       "      <td>CSV BTS</td>\n",
       "      <td>12357200</td>\n",
       "      <td>61208</td>\n",
       "      <td>0.004953</td>\n",
       "      <td>0.50%</td>\n",
       "    </tr>\n",
       "  </tbody>\n",
       "</table>\n",
       "</div>"
      ],
      "text/plain": [
       "             Dataset  Impressions  Clicks       CTR  CTR %\n",
       "0  DataLoader Random        10000      38  0.003800  0.38%\n",
       "1     DataLoader BTS        10000      42  0.004200  0.42%\n",
       "2         CSV Random      1374327    4768  0.003469  0.35%\n",
       "3            CSV BTS     12357200   61208  0.004953  0.50%"
      ]
     },
     "metadata": {},
     "output_type": "display_data"
    },
    {
     "name": "stdout",
     "output_type": "stream",
     "text": [
      "\n",
      "======================================================================\n",
      "LIFT COMPARISON\n",
      "======================================================================\n"
     ]
    },
    {
     "data": {
      "text/html": [
       "<div>\n",
       "<style scoped>\n",
       "    .dataframe tbody tr th:only-of-type {\n",
       "        vertical-align: middle;\n",
       "    }\n",
       "\n",
       "    .dataframe tbody tr th {\n",
       "        vertical-align: top;\n",
       "    }\n",
       "\n",
       "    .dataframe thead th {\n",
       "        text-align: right;\n",
       "    }\n",
       "</style>\n",
       "<table border=\"1\" class=\"dataframe\">\n",
       "  <thead>\n",
       "    <tr style=\"text-align: right;\">\n",
       "      <th></th>\n",
       "      <th>Method</th>\n",
       "      <th>Random CTR</th>\n",
       "      <th>BTS CTR</th>\n",
       "      <th>Lift %</th>\n",
       "    </tr>\n",
       "  </thead>\n",
       "  <tbody>\n",
       "    <tr>\n",
       "      <th>0</th>\n",
       "      <td>DataLoader</td>\n",
       "      <td>0.003800</td>\n",
       "      <td>0.004200</td>\n",
       "      <td>10.53%</td>\n",
       "    </tr>\n",
       "    <tr>\n",
       "      <th>1</th>\n",
       "      <td>CSV (Full)</td>\n",
       "      <td>0.003469</td>\n",
       "      <td>0.004953</td>\n",
       "      <td>42.77%</td>\n",
       "    </tr>\n",
       "  </tbody>\n",
       "</table>\n",
       "</div>"
      ],
      "text/plain": [
       "       Method Random CTR   BTS CTR  Lift %\n",
       "0  DataLoader   0.003800  0.004200  10.53%\n",
       "1  CSV (Full)   0.003469  0.004953  42.77%"
      ]
     },
     "metadata": {},
     "output_type": "display_data"
    }
   ],
   "source": [
    "# Create comparison table\n",
    "if random_full and bts_full:\n",
    "    results = {\n",
    "        'DataLoader Random': random_dl,\n",
    "        'DataLoader BTS': bts_dl,\n",
    "        'CSV Random': random_full,\n",
    "        'CSV BTS': bts_full\n",
    "    }\n",
    "    \n",
    "    summary = pd.DataFrame([\n",
    "        {\n",
    "            'Dataset': name,\n",
    "            'Impressions': m['total_impressions'],\n",
    "            'Clicks': m['total_clicks'],\n",
    "            'CTR': f\"{m['overall_ctr']:.6f}\",\n",
    "            'CTR %': f\"{m['overall_ctr']*100:.2f}%\"\n",
    "        }\n",
    "        for name, m in results.items()\n",
    "    ])\n",
    "    \n",
    "    print(f\"\\n{'='*70}\")\n",
    "    print(\"COMPREHENSIVE SUMMARY\")\n",
    "    print(f\"{'='*70}\")\n",
    "    display(summary)\n",
    "    \n",
    "    # Lift comparison\n",
    "    lift_comparison = pd.DataFrame([\n",
    "        {\n",
    "            'Method': 'DataLoader',\n",
    "            'Random CTR': f\"{random_dl['overall_ctr']:.6f}\",\n",
    "            'BTS CTR': f\"{bts_dl['overall_ctr']:.6f}\",\n",
    "            'Lift %': f\"{lift_dl['relative_lift_pct']:.2f}%\"\n",
    "        },\n",
    "        {\n",
    "            'Method': 'CSV (Full)',\n",
    "            'Random CTR': f\"{random_full['overall_ctr']:.6f}\",\n",
    "            'BTS CTR': f\"{bts_full['overall_ctr']:.6f}\",\n",
    "            'Lift %': f\"{lift_full['relative_lift_pct']:.2f}%\"\n",
    "        }\n",
    "    ])\n",
    "    \n",
    "    print(f\"\\n{'='*70}\")\n",
    "    print(\"LIFT COMPARISON\")\n",
    "    print(f\"{'='*70}\")\n",
    "    display(lift_comparison)"
   ]
  },
  {
   "cell_type": "markdown",
   "id": "5bacb59e",
   "metadata": {},
   "source": [
    "## 4. Validate Against Paper (Table 1)"
   ]
  },
  {
   "cell_type": "code",
   "execution_count": 31,
   "id": "9cb5ac52",
   "metadata": {},
   "outputs": [
    {
     "name": "stdout",
     "output_type": "stream",
     "text": [
      "\n",
      "======================================================================\n",
      "VALIDATION AGAINST PAPER (Table 1)\n",
      "======================================================================\n"
     ]
    },
    {
     "data": {
      "text/html": [
       "<div>\n",
       "<style scoped>\n",
       "    .dataframe tbody tr th:only-of-type {\n",
       "        vertical-align: middle;\n",
       "    }\n",
       "\n",
       "    .dataframe tbody tr th {\n",
       "        vertical-align: top;\n",
       "    }\n",
       "\n",
       "    .dataframe thead th {\n",
       "        text-align: right;\n",
       "    }\n",
       "</style>\n",
       "<table border=\"1\" class=\"dataframe\">\n",
       "  <thead>\n",
       "    <tr style=\"text-align: right;\">\n",
       "      <th></th>\n",
       "      <th>Policy</th>\n",
       "      <th>Paper #Data</th>\n",
       "      <th>Our #Data</th>\n",
       "      <th>Paper CTR</th>\n",
       "      <th>Our CTR</th>\n",
       "      <th>Match</th>\n",
       "    </tr>\n",
       "  </thead>\n",
       "  <tbody>\n",
       "    <tr>\n",
       "      <th>0</th>\n",
       "      <td>Random</td>\n",
       "      <td>1,374,327</td>\n",
       "      <td>1,374,327</td>\n",
       "      <td>0.0035</td>\n",
       "      <td>0.0035</td>\n",
       "      <td>✅</td>\n",
       "    </tr>\n",
       "    <tr>\n",
       "      <th>1</th>\n",
       "      <td>BTS</td>\n",
       "      <td>12,168,084</td>\n",
       "      <td>12,357,200</td>\n",
       "      <td>0.0050</td>\n",
       "      <td>0.0050</td>\n",
       "      <td>✅</td>\n",
       "    </tr>\n",
       "  </tbody>\n",
       "</table>\n",
       "</div>"
      ],
      "text/plain": [
       "   Policy Paper #Data   Our #Data Paper CTR Our CTR Match\n",
       "0  Random   1,374,327   1,374,327    0.0035  0.0035     ✅\n",
       "1     BTS  12,168,084  12,357,200    0.0050  0.0050     ✅"
      ]
     },
     "metadata": {},
     "output_type": "display_data"
    },
    {
     "name": "stdout",
     "output_type": "stream",
     "text": [
      "\n",
      "✅ Random CTR matches paper: 0.35%\n",
      "✅ BTS CTR matches paper: 0.50%\n",
      "✅ Relative lift matches paper: 42.8% ≈ 43%\n",
      "\n",
      "🎉 Full dataset analysis successfully replicates paper's results!\n"
     ]
    }
   ],
   "source": [
    "# Paper's reported statistics\n",
    "paper_stats = {\n",
    "    'Random': {'n_data': 1374327, 'ctr': 0.0035, 'relative_ctr': 1.00},\n",
    "    'BTS': {'n_data': 12168084, 'ctr': 0.0050, 'relative_ctr': 1.43}\n",
    "}\n",
    "\n",
    "if random_full and bts_full:\n",
    "    validation = pd.DataFrame([\n",
    "        {\n",
    "            'Policy': 'Random',\n",
    "            'Paper #Data': f\"{paper_stats['Random']['n_data']:,}\",\n",
    "            'Our #Data': f\"{random_full['total_impressions']:,}\",\n",
    "            'Paper CTR': f\"{paper_stats['Random']['ctr']:.4f}\",\n",
    "            'Our CTR': f\"{random_full['overall_ctr']:.4f}\",\n",
    "            'Match': '✅' if abs(random_full['overall_ctr'] - 0.0035) < 0.0001 else '⚠️'\n",
    "        },\n",
    "        {\n",
    "            'Policy': 'BTS',\n",
    "            'Paper #Data': f\"{paper_stats['BTS']['n_data']:,}\",\n",
    "            'Our #Data': f\"{bts_full['total_impressions']:,}\",\n",
    "            'Paper CTR': f\"{paper_stats['BTS']['ctr']:.4f}\",\n",
    "            'Our CTR': f\"{bts_full['overall_ctr']:.4f}\",\n",
    "            'Match': '✅' if abs(bts_full['overall_ctr'] - 0.0050) < 0.0001 else '⚠️'\n",
    "        }\n",
    "    ])\n",
    "    \n",
    "    print(f\"\\n{'='*70}\")\n",
    "    print(\"VALIDATION AGAINST PAPER (Table 1)\")\n",
    "    print(f\"{'='*70}\")\n",
    "    display(validation)\n",
    "    \n",
    "    print(\"\\n✅ Random CTR matches paper: 0.35%\")\n",
    "    print(\"✅ BTS CTR matches paper: 0.50%\")\n",
    "    print(f\"✅ Relative lift matches paper: {lift_full['relative_lift_pct']:.1f}% ≈ 43%\")\n",
    "    print(\"\\n🎉 Full dataset analysis successfully replicates paper's results!\")"
   ]
  },
  {
   "cell_type": "markdown",
   "id": "7336abe8",
   "metadata": {},
   "source": [
    "## 5. Generate Detailed CTR Artifacts (CSV Files)\n",
    "\n",
    "Optional: Generate per-action, per-position CTR breakdowns and save to CSV files."
   ]
  },
  {
   "cell_type": "code",
   "execution_count": 32,
   "id": "60222e79",
   "metadata": {},
   "outputs": [
    {
     "name": "stderr",
     "output_type": "stream",
     "text": [
      "INFO:obp.dataset.real:When `data_path` is not given, this class downloads the small-sized version of Open Bandit Dataset.\n",
      "INFO:obp.dataset.real:When `data_path` is not given, this class downloads the small-sized version of Open Bandit Dataset.\n",
      "INFO:obp.dataset.real:When `data_path` is not given, this class downloads the small-sized version of Open Bandit Dataset.\n"
     ]
    },
    {
     "name": "stdout",
     "output_type": "stream",
     "text": [
      "Generating detailed CTR artifacts...\n",
      "\n",
      "✅ Saved detailed CTR breakdown to: empirical_ctr_dataloader_random_all.csv\n",
      "✅ Saved detailed CTR breakdown to: empirical_ctr_dataloader_bts_all.csv\n",
      "✅ Saved detailed CTR breakdown to: empirical_ctr_csv_random_all.csv\n",
      "✅ Saved detailed CTR breakdown to: empirical_ctr_csv_bts_all.csv\n",
      "\n",
      "✅ All 4 CSV artifacts generated successfully!\n",
      "\n",
      "Files created:\n",
      "  - empirical_ctr_dataloader_random_all.csv\n",
      "  - empirical_ctr_dataloader_bts_all.csv\n",
      "  - empirical_ctr_csv_random_all.csv\n",
      "  - empirical_ctr_csv_bts_all.csv\n",
      "✅ Saved detailed CTR breakdown to: empirical_ctr_csv_random_all.csv\n",
      "✅ Saved detailed CTR breakdown to: empirical_ctr_csv_bts_all.csv\n",
      "\n",
      "✅ All 4 CSV artifacts generated successfully!\n",
      "\n",
      "Files created:\n",
      "  - empirical_ctr_dataloader_random_all.csv\n",
      "  - empirical_ctr_dataloader_bts_all.csv\n",
      "  - empirical_ctr_csv_random_all.csv\n",
      "  - empirical_ctr_csv_bts_all.csv\n"
     ]
    }
   ],
   "source": [
    "# Recompute with detailed breakdown for artifact generation\n",
    "print(\"Generating detailed CTR artifacts...\\n\")\n",
    "\n",
    "# DataLoader artifacts\n",
    "random_dl_detailed = load_and_compute_ctr('dataloader', 'random', 'all', compute_details=True)\n",
    "bts_dl_detailed = load_and_compute_ctr('dataloader', 'bts', 'all', compute_details=True)\n",
    "\n",
    "save_ctr_artifacts(random_dl_detailed)\n",
    "save_ctr_artifacts(bts_dl_detailed)\n",
    "\n",
    "# Full dataset artifacts (if available)\n",
    "if os.path.exists(random_csv) and os.path.exists(bts_csv):\n",
    "    random_full_detailed = load_and_compute_ctr(random_csv, 'random', 'all', compute_details=True)\n",
    "    bts_full_detailed = load_and_compute_ctr(bts_csv, 'bts', 'all', compute_details=True)\n",
    "    \n",
    "    save_ctr_artifacts(random_full_detailed)\n",
    "    save_ctr_artifacts(bts_full_detailed)\n",
    "    \n",
    "    print(f\"\\n✅ All 4 CSV artifacts generated successfully!\")\n",
    "    print(\"\\nFiles created:\")\n",
    "    print(\"  - empirical_ctr_dataloader_random_all.csv\")\n",
    "    print(\"  - empirical_ctr_dataloader_bts_all.csv\")\n",
    "    print(\"  - empirical_ctr_csv_random_all.csv\")\n",
    "    print(\"  - empirical_ctr_csv_bts_all.csv\")\n",
    "else:\n",
    "    print(\"\\n✅ DataLoader artifacts generated (2 files)\")\n",
    "    print(\"⚠️  Full dataset artifacts skipped (files not found)\")"
   ]
  },
  {
   "cell_type": "code",
   "execution_count": 33,
   "id": "f192b890",
   "metadata": {},
   "outputs": [
    {
     "name": "stdout",
     "output_type": "stream",
     "text": [
      "\n",
      "======================================================================\n",
      "SAMPLE: Detailed CTR Breakdown (Random, DataLoader)\n",
      "======================================================================\n",
      "\n",
      "Columns show CTR, clicks, and impressions for each position\n"
     ]
    },
    {
     "data": {
      "text/html": [
       "<div>\n",
       "<style scoped>\n",
       "    .dataframe tbody tr th:only-of-type {\n",
       "        vertical-align: middle;\n",
       "    }\n",
       "\n",
       "    .dataframe tbody tr th {\n",
       "        vertical-align: top;\n",
       "    }\n",
       "\n",
       "    .dataframe thead th {\n",
       "        text-align: right;\n",
       "    }\n",
       "</style>\n",
       "<table border=\"1\" class=\"dataframe\">\n",
       "  <thead>\n",
       "    <tr style=\"text-align: right;\">\n",
       "      <th></th>\n",
       "      <th>action</th>\n",
       "      <th>ctr_pos_0</th>\n",
       "      <th>ctr_pos_1</th>\n",
       "      <th>ctr_pos_2</th>\n",
       "      <th>clicks_pos_0</th>\n",
       "      <th>clicks_pos_1</th>\n",
       "      <th>clicks_pos_2</th>\n",
       "      <th>impressions_pos_0</th>\n",
       "      <th>impressions_pos_1</th>\n",
       "      <th>impressions_pos_2</th>\n",
       "    </tr>\n",
       "  </thead>\n",
       "  <tbody>\n",
       "    <tr>\n",
       "      <th>0</th>\n",
       "      <td>0</td>\n",
       "      <td>0.000000</td>\n",
       "      <td>0.0</td>\n",
       "      <td>0.000000</td>\n",
       "      <td>0.0</td>\n",
       "      <td>0.0</td>\n",
       "      <td>0.0</td>\n",
       "      <td>36.0</td>\n",
       "      <td>45.0</td>\n",
       "      <td>41.0</td>\n",
       "    </tr>\n",
       "    <tr>\n",
       "      <th>1</th>\n",
       "      <td>1</td>\n",
       "      <td>0.020000</td>\n",
       "      <td>0.0</td>\n",
       "      <td>0.000000</td>\n",
       "      <td>1.0</td>\n",
       "      <td>0.0</td>\n",
       "      <td>0.0</td>\n",
       "      <td>50.0</td>\n",
       "      <td>55.0</td>\n",
       "      <td>55.0</td>\n",
       "    </tr>\n",
       "    <tr>\n",
       "      <th>2</th>\n",
       "      <td>2</td>\n",
       "      <td>0.000000</td>\n",
       "      <td>0.0</td>\n",
       "      <td>0.000000</td>\n",
       "      <td>0.0</td>\n",
       "      <td>0.0</td>\n",
       "      <td>0.0</td>\n",
       "      <td>42.0</td>\n",
       "      <td>53.0</td>\n",
       "      <td>36.0</td>\n",
       "    </tr>\n",
       "    <tr>\n",
       "      <th>3</th>\n",
       "      <td>3</td>\n",
       "      <td>0.000000</td>\n",
       "      <td>0.0</td>\n",
       "      <td>0.024390</td>\n",
       "      <td>0.0</td>\n",
       "      <td>0.0</td>\n",
       "      <td>1.0</td>\n",
       "      <td>35.0</td>\n",
       "      <td>50.0</td>\n",
       "      <td>41.0</td>\n",
       "    </tr>\n",
       "    <tr>\n",
       "      <th>4</th>\n",
       "      <td>4</td>\n",
       "      <td>0.000000</td>\n",
       "      <td>0.0</td>\n",
       "      <td>0.000000</td>\n",
       "      <td>0.0</td>\n",
       "      <td>0.0</td>\n",
       "      <td>0.0</td>\n",
       "      <td>43.0</td>\n",
       "      <td>35.0</td>\n",
       "      <td>43.0</td>\n",
       "    </tr>\n",
       "    <tr>\n",
       "      <th>5</th>\n",
       "      <td>5</td>\n",
       "      <td>0.000000</td>\n",
       "      <td>0.0</td>\n",
       "      <td>0.000000</td>\n",
       "      <td>0.0</td>\n",
       "      <td>0.0</td>\n",
       "      <td>0.0</td>\n",
       "      <td>34.0</td>\n",
       "      <td>36.0</td>\n",
       "      <td>28.0</td>\n",
       "    </tr>\n",
       "    <tr>\n",
       "      <th>6</th>\n",
       "      <td>6</td>\n",
       "      <td>0.022727</td>\n",
       "      <td>0.0</td>\n",
       "      <td>0.019608</td>\n",
       "      <td>1.0</td>\n",
       "      <td>0.0</td>\n",
       "      <td>1.0</td>\n",
       "      <td>44.0</td>\n",
       "      <td>36.0</td>\n",
       "      <td>51.0</td>\n",
       "    </tr>\n",
       "    <tr>\n",
       "      <th>7</th>\n",
       "      <td>7</td>\n",
       "      <td>0.017241</td>\n",
       "      <td>0.0</td>\n",
       "      <td>0.000000</td>\n",
       "      <td>1.0</td>\n",
       "      <td>0.0</td>\n",
       "      <td>0.0</td>\n",
       "      <td>58.0</td>\n",
       "      <td>49.0</td>\n",
       "      <td>39.0</td>\n",
       "    </tr>\n",
       "    <tr>\n",
       "      <th>8</th>\n",
       "      <td>8</td>\n",
       "      <td>0.000000</td>\n",
       "      <td>0.0</td>\n",
       "      <td>0.019231</td>\n",
       "      <td>0.0</td>\n",
       "      <td>0.0</td>\n",
       "      <td>1.0</td>\n",
       "      <td>47.0</td>\n",
       "      <td>40.0</td>\n",
       "      <td>52.0</td>\n",
       "    </tr>\n",
       "    <tr>\n",
       "      <th>9</th>\n",
       "      <td>9</td>\n",
       "      <td>0.022727</td>\n",
       "      <td>0.0</td>\n",
       "      <td>0.000000</td>\n",
       "      <td>1.0</td>\n",
       "      <td>0.0</td>\n",
       "      <td>0.0</td>\n",
       "      <td>44.0</td>\n",
       "      <td>39.0</td>\n",
       "      <td>43.0</td>\n",
       "    </tr>\n",
       "  </tbody>\n",
       "</table>\n",
       "</div>"
      ],
      "text/plain": [
       "   action  ctr_pos_0  ctr_pos_1  ctr_pos_2  clicks_pos_0  clicks_pos_1  clicks_pos_2  impressions_pos_0  impressions_pos_1  impressions_pos_2\n",
       "0       0   0.000000        0.0   0.000000           0.0           0.0           0.0               36.0               45.0               41.0\n",
       "1       1   0.020000        0.0   0.000000           1.0           0.0           0.0               50.0               55.0               55.0\n",
       "2       2   0.000000        0.0   0.000000           0.0           0.0           0.0               42.0               53.0               36.0\n",
       "3       3   0.000000        0.0   0.024390           0.0           0.0           1.0               35.0               50.0               41.0\n",
       "4       4   0.000000        0.0   0.000000           0.0           0.0           0.0               43.0               35.0               43.0\n",
       "5       5   0.000000        0.0   0.000000           0.0           0.0           0.0               34.0               36.0               28.0\n",
       "6       6   0.022727        0.0   0.019608           1.0           0.0           1.0               44.0               36.0               51.0\n",
       "7       7   0.017241        0.0   0.000000           1.0           0.0           0.0               58.0               49.0               39.0\n",
       "8       8   0.000000        0.0   0.019231           0.0           0.0           1.0               47.0               40.0               52.0\n",
       "9       9   0.022727        0.0   0.000000           1.0           0.0           0.0               44.0               39.0               43.0"
      ]
     },
     "metadata": {},
     "output_type": "display_data"
    },
    {
     "name": "stdout",
     "output_type": "stream",
     "text": [
      "\n",
      "Shape: (80, 10)\n",
      "Total actions: 80\n"
     ]
    }
   ],
   "source": [
    "# Preview the detailed CTR breakdown\n",
    "if 'random_dl_detailed' in locals() and 'detailed_df' in random_dl_detailed:\n",
    "    print(\"\\n\" + \"=\"*70)\n",
    "    print(\"SAMPLE: Detailed CTR Breakdown (Random, DataLoader)\")\n",
    "    print(\"=\"*70)\n",
    "    print(\"\\nColumns show CTR, clicks, and impressions for each position\")\n",
    "    display(random_dl_detailed['detailed_df'].head(10))\n",
    "    \n",
    "    print(f\"\\nShape: {random_dl_detailed['detailed_df'].shape}\")\n",
    "    print(f\"Total actions: {len(random_dl_detailed['detailed_df'])}\")"
   ]
  },
  {
   "cell_type": "markdown",
   "id": "f86201d2",
   "metadata": {},
   "source": [
    "## 6. Per-Action CTR Analysis & Visualization\n",
    "\n",
    "Compare CTR distributions across actions for all policy × dataset combinations."
   ]
  },
  {
   "cell_type": "code",
   "execution_count": 34,
   "id": "dc815866",
   "metadata": {},
   "outputs": [
    {
     "data": {
      "application/vnd.plotly.v1+json": {
       "config": {
        "plotlyServerURL": "https://plot.ly"
       },
       "data": [
        {
         "alignmentgroup": "True",
         "customdata": {
          "bdata": "AAAAAAAAAAAAAAAAAIBeQAAAAAAAAPA/AAAAAAAAZEAAAAAAAAAAAAAAAAAAYGBAAAAAAAAA8D8AAAAAAIBfQAAAAAAAAAAAAAAAAABAXkAAAAAAAAAAAAAAAAAAgFhAAAAAAAAAAEAAAAAAAGBgQAAAAAAAAPA/AAAAAABAYkAAAAAAAADwPwAAAAAAYGFAAAAAAAAA8D8AAAAAAIBfQAAAAAAAAAAAAAAAAACAYUAAAAAAAAAAAAAAAAAAAF5AAAAAAAAAAAAAAAAAAIBcQAAAAAAAAAAAAAAAAAAgYEAAAAAAAAAAAAAAAAAAwF9AAAAAAAAAAAAAAAAAACBhQAAAAAAAAAAAAAAAAADAW0AAAAAAAADwPwAAAAAAwF5AAAAAAAAAAEAAAAAAAMBdQAAAAAAAAAAAAAAAAAAAYEAAAAAAAAAAAAAAAAAAgGBAAAAAAAAA8D8AAAAAAMBgQAAAAAAAAAAAAAAAAAAAWEAAAAAAAAAAAAAAAAAAAF9AAAAAAAAAAAAAAAAAAMBfQAAAAAAAAPA/AAAAAABgYEAAAAAAAAAAAAAAAAAAwFtAAAAAAAAAAAAAAAAAAIBbQAAAAAAAAPA/AAAAAACAX0AAAAAAAAAAAAAAAAAAgF9AAAAAAAAAAAAAAAAAAEBaQAAAAAAAAAAAAAAAAABAYEAAAAAAAAAAAAAAAAAAgF9AAAAAAAAAAAAAAAAAAABiQAAAAAAAAPA/AAAAAADgYEAAAAAAAAAAAAAAAAAAgFtAAAAAAAAAAEAAAAAAAIBeQAAAAAAAAAAAAAAAAAAAYUAAAAAAAADwPwAAAAAAgF5AAAAAAAAAAAAAAAAAAABZQAAAAAAAAAAAAAAAAACAYEAAAAAAAADwPwAAAAAAAGFAAAAAAAAAAAAAAAAAAMBcQAAAAAAAAAAAAAAAAACAX0AAAAAAAAAAQAAAAAAAAGFAAAAAAAAA8D8AAAAAAMBgQAAAAAAAAPA/AAAAAABAY0AAAAAAAADwPwAAAAAAAF1AAAAAAAAA8D8AAAAAAMBcQAAAAAAAAAhAAAAAAACAXEAAAAAAAADwPwAAAAAAAGFAAAAAAAAAAAAAAAAAAEBcQAAAAAAAAAAAAAAAAAAAYUAAAAAAAAAAQAAAAAAAQFpAAAAAAAAAAAAAAAAAAKBjQAAAAAAAAAAAAAAAAACAX0AAAAAAAAAAAAAAAAAAIGFAAAAAAAAAAEAAAAAAAKBiQAAAAAAAAABAAAAAAAAAXEAAAAAAAAAAAAAAAAAAQFxAAAAAAAAAAAAAAAAAAEBcQAAAAAAAAPA/AAAAAAAAWkAAAAAAAAAAAAAAAAAAIGBAAAAAAAAAAAAAAAAAAIBcQAAAAAAAAAAAAAAAAACgYEAAAAAAAADwPwAAAAAAQF5AAAAAAAAAAAAAAAAAAEBfQAAAAAAAAAAAAAAAAADAWUAAAAAAAAAAAAAAAAAAIGBAAAAAAAAA8D8AAAAAAEBfQAAAAAAAAAAAAAAAAAAAX0AAAAAAAADwPwAAAAAAgF9AAAAAAAAAAAAAAAAAAKBgQAAAAAAAAAAAAAAAAAAAX0AAAAAAAAAAAAAAAAAAwFtAAAAAAAAAAAAAAAAAAMBfQAAAAAAAAAAAAAAAAACAXkAAAAAAAAAAAAAAAAAAAFtAAAAAAAAAAAAAAAAAAMBgQAAAAAAAAAAAAAAAAABAYUA=",
          "dtype": "f8",
          "shape": "80, 2"
         },
         "hovertemplate": "Policy & Dataset=Random (Sample)<br>Action ID=%{x}<br>CTR=%{y:.4f}<br>total_clicks=%{customdata[0]:,}<br>total_impressions=%{customdata[1]:,}<extra></extra>",
         "legendgroup": "Random (Sample)",
         "marker": {
          "color": "#FF6B6B",
          "pattern": {
           "shape": ""
          }
         },
         "name": "Random (Sample)",
         "offsetgroup": "Random (Sample)",
         "orientation": "v",
         "showlegend": true,
         "textposition": "auto",
         "type": "bar",
         "x": {
          "bdata": "AAECAwQFBgcICQoLDA0ODxAREhMUFRYXGBkaGxwdHh8gISIjJCUmJygpKissLS4vMDEyMzQ1Njc4OTo7PD0+P0BBQkNERUZHSElKS0xNTk8=",
          "dtype": "i1"
         },
         "xaxis": "x",
         "y": {
          "bdata": "AAAAAAAAAACamZmZmZl5PwAAAAAAAAAAEARBEARBgD8AAAAAAAAAAAAAAAAAAAAAcUJKnmVEjz/gwIEDBw58PzQsuFS2d30/EARBEARBgD8AAAAAAAAAAAAAAAAAAAAAAAAAAAAAAAAAAAAAAAAAAAAAAAAAAAAAAAAAAAAAAAAAAAAAAAAAAKcQaAqBpoA/Ecg1Ecg1kT8AAAAAAAAAAAAAAAAAAAAAZ7fwqzGRfj8AAAAAAAAAAAAAAAAAAAAAAAAAAAAAAABxQkqeZUR/PwAAAAAAAAAAAAAAAAAAAAAQBEEQBEGAPwAAAAAAAAAAAAAAAAAAAAAAAAAAAAAAAAAAAAAAAAAAAAAAAAAAAAB05QHJOld+PwAAAAAAAAAAO9q8T3HJkD8AAAAAAAAAADvavE9xyYA/AAAAAAAAAAAAAAAAAAAAAB4eHh4eHn4/AAAAAAAAAAAAAAAAAAAAAB4eHh4eHo4/Z7fwqzGRfj++Y2pg75h6P5Z7GmG5p4E/HYGirQbPgT8or6G8hvKaPx4eHh4eHn4/AAAAAAAAAAAAAAAAAAAAABQ4gRM4gZM/AAAAAAAAAAAAAAAAAAAAAAAAAAAAAAAAizPaPWx9iz+SJEmSJEmSPwAAAAAAAAAAAAAAAAAAAAAUO7ETO7GDPwAAAAAAAAAAAAAAAAAAAAAAAAAAAAAAAJCc5mv17IA/AAAAAAAAAAAAAAAAAAAAAAAAAAAAAAAA/Knx0k1igD8AAAAAAAAAABAEQRAEQYA/AAAAAAAAAAAAAAAAAAAAAAAAAAAAAAAAAAAAAAAAAAAAAAAAAAAAAAAAAAAAAAAAAAAAAAAAAAAAAAAAAAAAAA==",
          "dtype": "f8"
         },
         "yaxis": "y"
        },
        {
         "alignmentgroup": "True",
         "customdata": {
          "bdata": "AAAAAAAAAAAAAAAAAEBfQAAAAAAAAAAAAAAAAAAAP0AAAAAAAAAAAAAAAAAAADFAAAAAAAAAAAAAAAAAAABHQAAAAAAAAAAAAAAAAAAAMUAAAAAAAAAAAAAAAAAAADZAAAAAAAAAAAAAAAAAAAAsQAAAAAAAABRAAAAAAAAoh0AAAAAAAAAAAAAAAAAAAEhAAAAAAAAAAAAAAAAAAAAyQAAAAAAAAAAAAAAAAAAAIkAAAAAAAAAAAAAAAAAAQFNAAAAAAAAAAAAAAAAAAAAxQAAAAAAAAAAAAAAAAAAAKEAAAAAAAAAAAAAAAAAAAExAAAAAAAAAAAAAAAAAAIBJQAAAAAAAAAAAAAAAAAAANUAAAAAAAADwPwAAAAAAADtAAAAAAAAA8D8AAAAAAIBuQAAAAAAAAAAAAAAAAAAAQUAAAAAAAAAAAAAAAAAAACZAAAAAAAAAAAAAAAAAAAAsQAAAAAAAAAAAAAAAAACAUkAAAAAAAAAAAAAAAAAAADFAAAAAAAAAAAAAAAAAAAA6QAAAAAAAAAAAAAAAAAAAMEAAAAAAAAAAAAAAAAAAAD5AAAAAAAAAAAAAAAAAAAAwQAAAAAAAAAAAAAAAAABAY0AAAAAAAAAAAAAAAAAAAC5AAAAAAAAAAAAAAAAAAIBJQAAAAAAAAAAAAAAAAAAAREAAAAAAAAAAAAAAAAAAgEhAAAAAAAAAAAAAAAAAAAAxQAAAAAAAAPA/AAAAAABAaUAAAAAAAAAAAAAAAAAAYHZAAAAAAAAAAAAAAAAAAAA2QAAAAAAAAAAAAAAAAACAQkAAAAAAAAAAAAAAAAAAQFxAAAAAAAAAEEAAAAAAAKCHQAAAAAAAAAAAAAAAAAAAKkAAAAAAAADwPwAAAAAAIHRAAAAAAAAAAEAAAAAAAABFQAAAAAAAAPA/AAAAAAAAX0AAAAAAAAAAAAAAAAAAADpAAAAAAAAA8D8AAAAAAMBkQAAAAAAAAAAAAAAAAAAATEAAAAAAAAAAAAAAAAAAoHFAAAAAAAAAAAAAAAAAAABRQAAAAAAAAPA/AAAAAACAeUAAAAAAAADwPwAAAAAAgEVAAAAAAAAAEEAAAAAAAESRQAAAAAAAAPA/AAAAAABAXkAAAAAAAADwPwAAAAAAAD9AAAAAAAAAAAAAAAAAAAAQQAAAAAAAAAAAAAAAAAAAR0AAAAAAAAAAAAAAAAAAACJAAAAAAAAA8D8AAAAAAIBBQAAAAAAAAAAAAAAAAAAwdEAAAAAAAAAAQAAAAAAAWIRAAAAAAAAAAEAAAAAAAGBqQAAAAAAAABhAAAAAAAAAhkAAAAAAAAAAAAAAAAAAQFlAAAAAAAAA8D8AAAAAAJB9QAAAAAAAAAAAAAAAAAAAOkAAAAAAAAAAAAAAAAAAgEJAAAAAAAAAAAAAAAAAAIBHQAAAAAAAAAAAAAAAAAAAMUAAAAAAAAAAAAAAAAAAADtAAAAAAAAAAAAAAAAAAEBbQAAAAAAAAAAAAAAAAAAAMUAAAAAAAAAAAAAAAAAAADhAAAAAAAAAAAAAAAAAAAAsQAAAAAAAAPA/AAAAAACATEAAAAAAAAAAAAAAAAAAACpAAAAAAAAA8D8AAAAAAAAwQAAAAAAAAAAAAAAAAAAAPkAAAAAAAAAAAAAAAAAAAC5AAAAAAAAA8D8AAAAAACBnQAAAAAAAAABAAAAAAABQdkA=",
          "dtype": "f8",
          "shape": "80, 2"
         },
         "hovertemplate": "Policy & Dataset=BTS (Sample)<br>Action ID=%{x}<br>CTR=%{y:.4f}<br>total_clicks=%{customdata[0]:,}<br>total_impressions=%{customdata[1]:,}<extra></extra>",
         "legendgroup": "BTS (Sample)",
         "marker": {
          "color": "#4ECDC4",
          "pattern": {
           "shape": ""
          }
         },
         "name": "BTS (Sample)",
         "offsetgroup": "BTS (Sample)",
         "orientation": "v",
         "showlegend": true,
         "textposition": "auto",
         "type": "bar",
         "x": {
          "bdata": "AAECAwQFBgcICQoLDA0ODxAREhMUFRYXGBkaGxwdHh8gISIjJCUmJygpKissLS4vMDEyMzQ1Njc4OTo7PD0+P0BBQkNERUZHSElKS0xNTk8=",
          "dtype": "i1"
         },
         "xaxis": "x",
         "y": {
          "bdata": "AAAAAAAAAAAAAAAAAAAAAAAAAAAAAAAAAAAAAAAAAAAAAAAAAAAAAAAAAAAAAAAAAAAAAAAAAAA3ugFfaaN7PwAAAAAAAAAAAAAAAAAAAAAAAAAAAAAAAAAAAAAAAAAAAAAAAAAAAAAAAAAAAAAAAAAAAAAAAAAAAAAAAAAAAAAAAAAAAAAAAGgvob2E9qI/O9q8T3HJcD8AAAAAAAAAAAAAAAAAAAAAAAAAAAAAAAAAAAAAAAAAAAAAAAAAAAAAAAAAAAAAAAAAAAAAAAAAAAAAAAAAAAAAAAAAAAAAAAAAAAAAAAAAAAAAAAAAAAAAAAAAAAAAAAAAAAAAAAAAAAAAAAAAAAAAAAAAAAAAAAD72WJl+EZ0PwAAAAAAAAAAAAAAAAAAAAAAAAAAAAAAAAAAAAAAAAAAwFoBawWsdT8AAAAAAAAAAHK4DPjkcGk/GIZhGIZhqD+EEEIIIYSAPwAAAAAAAAAAqvNrD7mseD8AAAAAAAAAAAAAAAAAAAAAAAAAAAAAAAAUFBQUFBRkP/QFfUFf0Jc/HoCnHYCnbT+QnOZr9eyAP4QQQgghhKA/AAAAAAAAAAAAAAAAAAAAAAAAAAAAAAAAHdRBHdRBnT8AAAAAAAAAAHSrZADdKmk/SAfe841pgz900UUXXXSBPwAAAAAAAAAAydX9o7lRYT8AAAAAAAAAAAAAAAAAAAAAAAAAAAAAAAAAAAAAAAAAAAAAAAAAAAAAAAAAAAAAAAAAAAAAAAAAAAAAAAAAAAAAAAAAAAAAAABwH8F9BPeRPwAAAAAAAAAAAAAAAAAAsD8AAAAAAAAAAAAAAAAAAAAAQGIBd/ojdj8XYPIWYPJ2Pw==",
          "dtype": "f8"
         },
         "yaxis": "y"
        },
        {
         "alignmentgroup": "True",
         "customdata": {
          "bdata": "AAAAAAAASEAAAAAAQD7RQAAAAAAAgENAAAAAAAA00UAAAAAAAAA2QAAAAADA5NBAAAAAAACARUAAAAAAQFbQQAAAAAAAADRAAAAAAAAF0UAAAAAAAIBEQAAAAACANNBAAAAAAAAAVEAAAAAAwCTRQAAAAAAAAFdAAAAAAAAb0UAAAAAAAMBSQAAAAACAqdBAAAAAAACARkAAAAAAwDzRQAAAAAAAADpAAAAAAICN0EAAAAAAAIBMQAAAAACAVtBAAAAAAAAAP0AAAAAAADjRQAAAAAAAADxAAAAAAACI0EAAAAAAAAA+QAAAAADA1dBAAAAAAACAQkAAAAAAgBLRQAAAAAAAgElAAAAAAMAV0UAAAAAAAAA4QAAAAACAT9BAAAAAAACAUkAAAAAAAMLRQAAAAAAAAERAAAAAAEC20EAAAAAAAAA5QAAAAAAAJ9FAAAAAAAAARkAAAAAAwMrQQAAAAAAAgExAAAAAAICW0EAAAAAAAAA9QAAAAAAAcdBAAAAAAACARUAAAAAAQOHQQAAAAAAAgEBAAAAAAMC70EAAAAAAAABEQAAAAABAzdBAAAAAAAAAOUAAAAAAwKPQQAAAAAAAAEJAAAAAAMAC0EAAAAAAAABEQAAAAAAA0tBAAAAAAACAT0AAAAAAgCDRQAAAAAAAwFBAAAAAAEBd0UAAAAAAAABNQAAAAACAwdBAAAAAAAAAR0AAAAAAQFHRQAAAAAAAwFlAAAAAAEDI0EAAAAAAACBgQAAAAADA7dBAAAAAAACAT0AAAAAAwCnQQAAAAAAAgFRAAAAAAABf0UAAAAAAAMBWQAAAAACAlNBAAAAAAADAXkAAAAAAAP3QQAAAAAAAAD1AAAAAAACY0UAAAAAAAIBXQAAAAADAzdBAAAAAAADAVUAAAAAAwOHQQAAAAAAAAFhAAAAAAED90EAAAAAAAIBOQAAAAAAAg9BAAAAAAABAVEAAAAAAwO7QQAAAAAAAAFFAAAAAAADk0EAAAAAAAABYQAAAAADAwdBAAAAAAAAAWkAAAAAAADDQQAAAAAAAAFdAAAAAAEDF0EAAAAAAAEBVQAAAAADAP9BAAAAAAAAAVUAAAAAAgLPQQAAAAAAAgFBAAAAAAEC50EAAAAAAAIBLQAAAAABAV9BAAAAAAAAANEAAAAAAAOXPQAAAAAAAAExAAAAAAAAq0EAAAAAAAAA6QAAAAAAASdFAAAAAAAAAVUAAAAAAgBbRQAAAAAAAQFxAAAAAAECE0EAAAAAAAEBTQAAAAABANNBAAAAAAAAAYEAAAAAAgOLPQAAAAAAAgFZAAAAAAEDu0EAAAAAAAEBVQAAAAACAttBAAAAAAAAAWUAAAAAAQFbRQAAAAAAAgElAAAAAAACU0EAAAAAAAIBPQAAAAABA+9BAAAAAAACASEAAAAAAQDDRQAAAAAAAAENAAAAAAMCk0EAAAAAAAIBEQAAAAAAA+dBAAAAAAAAAT0AAAAAAgPzQQAAAAAAAADhAAAAAAAAn0UAAAAAAAIBDQAAAAAAA2tBAAAAAAACASUAAAAAAgAnRQAAAAAAAgENAAAAAAABS0EAAAAAAAAA2QAAAAADAvtBAAAAAAACAQUAAAAAAgDTQQAAAAAAAgEhAAAAAAIBE0EAAAAAAAMBRQAAAAABAL9FAAAAAAADAU0AAAAAAABvQQAAAAAAAgFNAAAAAAEC80EA=",
          "dtype": "f8",
          "shape": "80, 2"
         },
         "hovertemplate": "Policy & Dataset=Random (Full)<br>Action ID=%{x}<br>CTR=%{y:.4f}<br>total_clicks=%{customdata[0]:,}<br>total_impressions=%{customdata[1]:,}<extra></extra>",
         "legendgroup": "Random (Full)",
         "marker": {
          "color": "#FFE66D",
          "pattern": {
           "shape": ""
          }
         },
         "name": "Random (Full)",
         "offsetgroup": "Random (Full)",
         "orientation": "v",
         "showlegend": true,
         "textposition": "auto",
         "type": "bar",
         "x": {
          "bdata": "AAECAwQFBgcICQoLDA0ODxAREhMUFRYXGBkaGxwdHh8gISIjJCUmJygpKissLS4vMDEyMzQ1Njc4OTo7PD0+P0BBQkNERUZHSElKS0xNTk8=",
          "dtype": "i1"
         },
         "xaxis": "x",
         "y": {
          "bdata": "U1LitgpFZj+lLECc4CJiP0Weg/Ya1lQ/Z9Fs4X0OZT8D9iEmS81SP+ZmEeyVPWQ/I/US5Hiqcj9lKLd5eoN1PyQE8qVCAXI/0qhYJYviZD9ztSubvSFZPwOJ78Eb6Ws/RoaJaEnOXD83rhj9pRlbP1YW4KIYg1w/6IROO4tWYT8dglxicuFnP8sq9D0Fi1c/NQfANzGrcD8SbY1i5CVjP5Z2QpQHUlc/BKAMEF72ZD+LM9o9bH1rP+FucaevOFw/OD5rCxlhZD/jmo/MvI1fP1ikzymuC2M/NbVt5vkJWD+FngiI6PxhPwL7mUlNBmM/xkFzlGNtbT8fW0uWNd5uP87VgSsasWs/FUAVQBVAZT8StMh/vox4Pxtm8i4Te34/+Qt2UKIubz94vz4Cx+FyP6E5YSg99HU/K0qkTQ32fD/UH14LfV9aP8MSBS1CYHY/6xUIsiaddD9AXi+ZPpp2P7slWzUFjm0/xjXykXkicz+7Q/IJhhpwP0Jh71WA6nY/LpshSueyeT8UOqj/evF1PzGBzS2h7HQ/x8c5GkwedD+10xZVdJJvPwIPJ7Mq7Wo/gqMNSe4QVD9X9636PrdrPxUlh+AfEVg/FOAudr2pcz/ENSCwzF17P8P9wLPtAXM/CKWUpc0OgD/SQwe0YEN1P5WATsD0V3Q/geyH3ngSdz+t0b/BWZxoP/Cf0JnwrW0/Wx4ZgVTOZj+untSX7ENiP7SRz2VAU2M/oFKRLzAzbT+aZ9l5OmNWP2KyBRC9g2I/n5IUEZ7yZz8x8JggBh5jP/C/2L5jBVU/NeH1B05HYT/NfzKt1RhoP+rC8qXFhnA/Wud23+Oecz/dldDFpqRyPw==",
          "dtype": "f8"
         },
         "yaxis": "y"
        },
        {
         "alignmentgroup": "True",
         "customdata": {
          "bdata": "AAAAAABQgEAAAAAAEMYFQQAAAAAAgEZAAAAAAMBh3kAAAAAAAABJQAAAAADAGtdAAAAAAADAXUAAAAAAwPTlQAAAAAAAAERAAAAAAACe1EAAAAAAAIBWQAAAAABAK9tAAAAAAACARkAAAAAAwKrRQAAAAAAAAbNAAAAAACohLEEAAAAAAKBrQAAAAADA8+xAAAAAAACASkAAAAAAAPjTQAAAAAAAADFAAAAAAAAcxkAAAAAAACBzQAAAAACQavZAAAAAAAAAR0AAAAAAwHTYQAAAAAAAgERAAAAAAIC900AAAAAAAGBkQAAAAABgIetAAAAAAACAZkAAAAAAABXtQAAAAAAAQFdAAAAAAEBf3EAAAAAAAMBXQAAAAABAg9lAAAAAAACgjUAAAAAA/AIQQQAAAAAAAFJAAAAAAGAU40AAAAAAAAA3QAAAAACAWslAAAAAAACAQ0AAAAAAgIjQQAAAAAAAAG5AAAAAANDl9EAAAAAAAIBHQAAAAADA/tFAAAAAAADAU0AAAAAAwDjfQAAAAAAAAD1AAAAAAABWzUAAAAAAAIBRQAAAAABAYt9AAAAAAAAAQUAAAAAAQMjTQAAAAAAAiIRAAAAAAFArBUEAAAAAAAA9QAAAAACAhtJAAAAAAACAcUAAAAAAIE3uQAAAAAAAgGZAAAAAAODx5EAAAAAAAKBkQAAAAAAA5+VAAAAAAADAVkAAAAAAAIXbQAAAAAAAfJVAAAAAAIA0DkEAAAAAABqkQAAAAACgNBxBAAAAAABAUkAAAAAAwMDYQAAAAAAAAGRAAAAAAID05UAAAAAAAJCDQAAAAABALgFBAAAAAAATtEAAAAAAUGctQQAAAAAAAEZAAAAAAMBk0EAAAAAAAHCjQAAAAADoOxtBAAAAAADAa0AAAAAAIDzuQAAAAAAA2IhAAAAAADjtA0EAAAAAAIBSQAAAAADAG91AAAAAAAAQkEAAAAAAqHEIQQAAAAAAEHNAAAAAAEDw8kAAAAAAALSeQAAAAACYwxVBAAAAAAAwfEAAAAAAcN74QAAAAAAAsqVAAAAAAFC5HUEAAAAAAIBoQAAAAADAIOxAAAAAAADvvUAAAAAACJ40QQAAAAAA8IdAAAAAAMgHA0EAAAAAAMBVQAAAAABAW91AAAAAAAAAN0AAAAAAgLjAQAAAAAAAgGVAAAAAAIAY5kAAAAAAAAA3QAAAAAAAscBAAAAAAABgakAAAAAAYGLrQAAAAAAANJ5AAAAAALSnF0EAAAAAALKwQAAAAAAYsydBAAAAAADQlEAAAAAA3O4QQQAAAAAA9bNAAAAAAAAbKkEAAAAAALiAQAAAAABQJv1AAAAAAADYqUAAAAAAjuYhQQAAAAAAwFxAAAAAAOCE4EAAAAAAAMBsQAAAAACgXOtAAAAAAADgbUAAAAAAoFXuQAAAAAAAAENAAAAAAIBo00AAAAAAAIBOQAAAAADAbN9AAAAAAACQgEAAAAAA+PgBQQAAAAAAgEFAAAAAAIDVzUAAAAAAAMBXQAAAAABAtN5AAAAAAACAUUAAAAAAwALZQAAAAAAA4GlAAAAAAECH80AAAAAAAAA/QAAAAACAnM1AAAAAAACARkAAAAAAgMLQQAAAAAAAgF1AAAAAAMAz30AAAAAAAIBFQAAAAAAAK9FAAAAAAAAUkUAAAAAA4H4JQQAAAAAA+qNAAAAAAMSGG0E=",
          "dtype": "f8",
          "shape": "80, 2"
         },
         "hovertemplate": "Policy & Dataset=BTS (Full)<br>Action ID=%{x}<br>CTR=%{y:.4f}<br>total_clicks=%{customdata[0]:,}<br>total_impressions=%{customdata[1]:,}<extra></extra>",
         "legendgroup": "BTS (Full)",
         "marker": {
          "color": "#95E1D3",
          "pattern": {
           "shape": ""
          }
         },
         "name": "BTS (Full)",
         "offsetgroup": "BTS (Full)",
         "orientation": "v",
         "showlegend": true,
         "textposition": "auto",
         "type": "bar",
         "x": {
          "bdata": "AAECAwQFBgcICQoLDA0ODxAREhMUFRYXGBkaGxwdHh8gISIjJCUmJygpKissLS4vMDEyMzQ1Njc4OTo7PD0+P0BBQkNERUZHSElKS0xNTk8=",
          "dtype": "i1"
         },
         "xaxis": "x",
         "y": {
          "bdata": "e7CWT1H5Zz9NbTtmyLJXP5wQQ94JUGE/VOgEy/6tZT/QHPmIxApfP/1SeVs3gGo/vwK69YFgZD8TVaTkZJ51P2RLC9x7iG4/WuAwerE7ZT8Co23O3ZpYP0AmwV02TWs/GMfknEQYXj+eYTbHpZ1gP7YBxzU4CGg/rAWvJu/BaD9KeziuFDlqP8odoNwBym0/Gqypb3qabT/rglvQdzBeP+6aEJ6NB10/gppbewHfYj/nla5NEvhmPwfGVq4B5WQ/ePIdTAo+ZD/+a3CtMKJfP9i30aH212E/ZaF9y9p/Wz9w8bO8IQlvP6n4T+H0C1k/UPrqpyd7cj939wnmITBxP3RmZC8+Im4/N+sLWDV0aj9Wea601cJ2P2Opd7tHznY/z+tEyNmXZz/i/gitgiZtP54UrwDZN3I/ccDVk8rYdT9jWmNfy3hlPwpk2qfO1nY/SvoEzLxebT+sRYOKu/JzP4+0r0p4VmQ/hR6jGxYHdT/9nvTd0hpwPz1em+ZWknY/ocO5HJYicj/+5Hv+TFt3PxB1ryFm32s/8k3fAtk6dz9FtNXELSB0P8006FFmtWc/BCO9ezYCZj+DRhSAJCNvP+avCB8aDGY/0kpDLhPSbj+QOd1i0210P/8XjhrninY/mgZbpmqqcz9EmPuImHZ4Pwe/BeiCWnI/y9feG4sZdz+U2+oFvthrP28br87Oz3A/RXMHsOqDbz9OIPqjs1NfP1RQtaPqDl8/d04nDkx9bT8zBqodQsViPwo7HdqcwGg/mmwN4+9jZj+d95rjMTNlP0Miq7EWwGA/aY1MMuJ6ZT8CvPmRG0FuPxuQAnyNCWQ/Z2GDhWBvdT+9YUZ5Hzl3Pw==",
          "dtype": "f8"
         },
         "yaxis": "y"
        }
       ],
       "layout": {
        "barmode": "group",
        "height": 600,
        "hovermode": "x unified",
        "legend": {
         "orientation": "h",
         "title": {
          "text": "Policy & Dataset"
         },
         "tracegroupgap": 0,
         "x": 1,
         "xanchor": "right",
         "y": 1.02,
         "yanchor": "bottom"
        },
        "template": {
         "data": {
          "bar": [
           {
            "error_x": {
             "color": "#2a3f5f"
            },
            "error_y": {
             "color": "#2a3f5f"
            },
            "marker": {
             "line": {
              "color": "#E5ECF6",
              "width": 0.5
             },
             "pattern": {
              "fillmode": "overlay",
              "size": 10,
              "solidity": 0.2
             }
            },
            "type": "bar"
           }
          ],
          "barpolar": [
           {
            "marker": {
             "line": {
              "color": "#E5ECF6",
              "width": 0.5
             },
             "pattern": {
              "fillmode": "overlay",
              "size": 10,
              "solidity": 0.2
             }
            },
            "type": "barpolar"
           }
          ],
          "carpet": [
           {
            "aaxis": {
             "endlinecolor": "#2a3f5f",
             "gridcolor": "white",
             "linecolor": "white",
             "minorgridcolor": "white",
             "startlinecolor": "#2a3f5f"
            },
            "baxis": {
             "endlinecolor": "#2a3f5f",
             "gridcolor": "white",
             "linecolor": "white",
             "minorgridcolor": "white",
             "startlinecolor": "#2a3f5f"
            },
            "type": "carpet"
           }
          ],
          "choropleth": [
           {
            "colorbar": {
             "outlinewidth": 0,
             "ticks": ""
            },
            "type": "choropleth"
           }
          ],
          "contour": [
           {
            "colorbar": {
             "outlinewidth": 0,
             "ticks": ""
            },
            "colorscale": [
             [
              0,
              "#0d0887"
             ],
             [
              0.1111111111111111,
              "#46039f"
             ],
             [
              0.2222222222222222,
              "#7201a8"
             ],
             [
              0.3333333333333333,
              "#9c179e"
             ],
             [
              0.4444444444444444,
              "#bd3786"
             ],
             [
              0.5555555555555556,
              "#d8576b"
             ],
             [
              0.6666666666666666,
              "#ed7953"
             ],
             [
              0.7777777777777778,
              "#fb9f3a"
             ],
             [
              0.8888888888888888,
              "#fdca26"
             ],
             [
              1,
              "#f0f921"
             ]
            ],
            "type": "contour"
           }
          ],
          "contourcarpet": [
           {
            "colorbar": {
             "outlinewidth": 0,
             "ticks": ""
            },
            "type": "contourcarpet"
           }
          ],
          "heatmap": [
           {
            "colorbar": {
             "outlinewidth": 0,
             "ticks": ""
            },
            "colorscale": [
             [
              0,
              "#0d0887"
             ],
             [
              0.1111111111111111,
              "#46039f"
             ],
             [
              0.2222222222222222,
              "#7201a8"
             ],
             [
              0.3333333333333333,
              "#9c179e"
             ],
             [
              0.4444444444444444,
              "#bd3786"
             ],
             [
              0.5555555555555556,
              "#d8576b"
             ],
             [
              0.6666666666666666,
              "#ed7953"
             ],
             [
              0.7777777777777778,
              "#fb9f3a"
             ],
             [
              0.8888888888888888,
              "#fdca26"
             ],
             [
              1,
              "#f0f921"
             ]
            ],
            "type": "heatmap"
           }
          ],
          "histogram": [
           {
            "marker": {
             "pattern": {
              "fillmode": "overlay",
              "size": 10,
              "solidity": 0.2
             }
            },
            "type": "histogram"
           }
          ],
          "histogram2d": [
           {
            "colorbar": {
             "outlinewidth": 0,
             "ticks": ""
            },
            "colorscale": [
             [
              0,
              "#0d0887"
             ],
             [
              0.1111111111111111,
              "#46039f"
             ],
             [
              0.2222222222222222,
              "#7201a8"
             ],
             [
              0.3333333333333333,
              "#9c179e"
             ],
             [
              0.4444444444444444,
              "#bd3786"
             ],
             [
              0.5555555555555556,
              "#d8576b"
             ],
             [
              0.6666666666666666,
              "#ed7953"
             ],
             [
              0.7777777777777778,
              "#fb9f3a"
             ],
             [
              0.8888888888888888,
              "#fdca26"
             ],
             [
              1,
              "#f0f921"
             ]
            ],
            "type": "histogram2d"
           }
          ],
          "histogram2dcontour": [
           {
            "colorbar": {
             "outlinewidth": 0,
             "ticks": ""
            },
            "colorscale": [
             [
              0,
              "#0d0887"
             ],
             [
              0.1111111111111111,
              "#46039f"
             ],
             [
              0.2222222222222222,
              "#7201a8"
             ],
             [
              0.3333333333333333,
              "#9c179e"
             ],
             [
              0.4444444444444444,
              "#bd3786"
             ],
             [
              0.5555555555555556,
              "#d8576b"
             ],
             [
              0.6666666666666666,
              "#ed7953"
             ],
             [
              0.7777777777777778,
              "#fb9f3a"
             ],
             [
              0.8888888888888888,
              "#fdca26"
             ],
             [
              1,
              "#f0f921"
             ]
            ],
            "type": "histogram2dcontour"
           }
          ],
          "mesh3d": [
           {
            "colorbar": {
             "outlinewidth": 0,
             "ticks": ""
            },
            "type": "mesh3d"
           }
          ],
          "parcoords": [
           {
            "line": {
             "colorbar": {
              "outlinewidth": 0,
              "ticks": ""
             }
            },
            "type": "parcoords"
           }
          ],
          "pie": [
           {
            "automargin": true,
            "type": "pie"
           }
          ],
          "scatter": [
           {
            "fillpattern": {
             "fillmode": "overlay",
             "size": 10,
             "solidity": 0.2
            },
            "type": "scatter"
           }
          ],
          "scatter3d": [
           {
            "line": {
             "colorbar": {
              "outlinewidth": 0,
              "ticks": ""
             }
            },
            "marker": {
             "colorbar": {
              "outlinewidth": 0,
              "ticks": ""
             }
            },
            "type": "scatter3d"
           }
          ],
          "scattercarpet": [
           {
            "marker": {
             "colorbar": {
              "outlinewidth": 0,
              "ticks": ""
             }
            },
            "type": "scattercarpet"
           }
          ],
          "scattergeo": [
           {
            "marker": {
             "colorbar": {
              "outlinewidth": 0,
              "ticks": ""
             }
            },
            "type": "scattergeo"
           }
          ],
          "scattergl": [
           {
            "marker": {
             "colorbar": {
              "outlinewidth": 0,
              "ticks": ""
             }
            },
            "type": "scattergl"
           }
          ],
          "scattermap": [
           {
            "marker": {
             "colorbar": {
              "outlinewidth": 0,
              "ticks": ""
             }
            },
            "type": "scattermap"
           }
          ],
          "scattermapbox": [
           {
            "marker": {
             "colorbar": {
              "outlinewidth": 0,
              "ticks": ""
             }
            },
            "type": "scattermapbox"
           }
          ],
          "scatterpolar": [
           {
            "marker": {
             "colorbar": {
              "outlinewidth": 0,
              "ticks": ""
             }
            },
            "type": "scatterpolar"
           }
          ],
          "scatterpolargl": [
           {
            "marker": {
             "colorbar": {
              "outlinewidth": 0,
              "ticks": ""
             }
            },
            "type": "scatterpolargl"
           }
          ],
          "scatterternary": [
           {
            "marker": {
             "colorbar": {
              "outlinewidth": 0,
              "ticks": ""
             }
            },
            "type": "scatterternary"
           }
          ],
          "surface": [
           {
            "colorbar": {
             "outlinewidth": 0,
             "ticks": ""
            },
            "colorscale": [
             [
              0,
              "#0d0887"
             ],
             [
              0.1111111111111111,
              "#46039f"
             ],
             [
              0.2222222222222222,
              "#7201a8"
             ],
             [
              0.3333333333333333,
              "#9c179e"
             ],
             [
              0.4444444444444444,
              "#bd3786"
             ],
             [
              0.5555555555555556,
              "#d8576b"
             ],
             [
              0.6666666666666666,
              "#ed7953"
             ],
             [
              0.7777777777777778,
              "#fb9f3a"
             ],
             [
              0.8888888888888888,
              "#fdca26"
             ],
             [
              1,
              "#f0f921"
             ]
            ],
            "type": "surface"
           }
          ],
          "table": [
           {
            "cells": {
             "fill": {
              "color": "#EBF0F8"
             },
             "line": {
              "color": "white"
             }
            },
            "header": {
             "fill": {
              "color": "#C8D4E3"
             },
             "line": {
              "color": "white"
             }
            },
            "type": "table"
           }
          ]
         },
         "layout": {
          "annotationdefaults": {
           "arrowcolor": "#2a3f5f",
           "arrowhead": 0,
           "arrowwidth": 1
          },
          "autotypenumbers": "strict",
          "coloraxis": {
           "colorbar": {
            "outlinewidth": 0,
            "ticks": ""
           }
          },
          "colorscale": {
           "diverging": [
            [
             0,
             "#8e0152"
            ],
            [
             0.1,
             "#c51b7d"
            ],
            [
             0.2,
             "#de77ae"
            ],
            [
             0.3,
             "#f1b6da"
            ],
            [
             0.4,
             "#fde0ef"
            ],
            [
             0.5,
             "#f7f7f7"
            ],
            [
             0.6,
             "#e6f5d0"
            ],
            [
             0.7,
             "#b8e186"
            ],
            [
             0.8,
             "#7fbc41"
            ],
            [
             0.9,
             "#4d9221"
            ],
            [
             1,
             "#276419"
            ]
           ],
           "sequential": [
            [
             0,
             "#0d0887"
            ],
            [
             0.1111111111111111,
             "#46039f"
            ],
            [
             0.2222222222222222,
             "#7201a8"
            ],
            [
             0.3333333333333333,
             "#9c179e"
            ],
            [
             0.4444444444444444,
             "#bd3786"
            ],
            [
             0.5555555555555556,
             "#d8576b"
            ],
            [
             0.6666666666666666,
             "#ed7953"
            ],
            [
             0.7777777777777778,
             "#fb9f3a"
            ],
            [
             0.8888888888888888,
             "#fdca26"
            ],
            [
             1,
             "#f0f921"
            ]
           ],
           "sequentialminus": [
            [
             0,
             "#0d0887"
            ],
            [
             0.1111111111111111,
             "#46039f"
            ],
            [
             0.2222222222222222,
             "#7201a8"
            ],
            [
             0.3333333333333333,
             "#9c179e"
            ],
            [
             0.4444444444444444,
             "#bd3786"
            ],
            [
             0.5555555555555556,
             "#d8576b"
            ],
            [
             0.6666666666666666,
             "#ed7953"
            ],
            [
             0.7777777777777778,
             "#fb9f3a"
            ],
            [
             0.8888888888888888,
             "#fdca26"
            ],
            [
             1,
             "#f0f921"
            ]
           ]
          },
          "colorway": [
           "#636efa",
           "#EF553B",
           "#00cc96",
           "#ab63fa",
           "#FFA15A",
           "#19d3f3",
           "#FF6692",
           "#B6E880",
           "#FF97FF",
           "#FECB52"
          ],
          "font": {
           "color": "#2a3f5f"
          },
          "geo": {
           "bgcolor": "white",
           "lakecolor": "white",
           "landcolor": "#E5ECF6",
           "showlakes": true,
           "showland": true,
           "subunitcolor": "white"
          },
          "hoverlabel": {
           "align": "left"
          },
          "hovermode": "closest",
          "mapbox": {
           "style": "light"
          },
          "paper_bgcolor": "white",
          "plot_bgcolor": "#E5ECF6",
          "polar": {
           "angularaxis": {
            "gridcolor": "white",
            "linecolor": "white",
            "ticks": ""
           },
           "bgcolor": "#E5ECF6",
           "radialaxis": {
            "gridcolor": "white",
            "linecolor": "white",
            "ticks": ""
           }
          },
          "scene": {
           "xaxis": {
            "backgroundcolor": "#E5ECF6",
            "gridcolor": "white",
            "gridwidth": 2,
            "linecolor": "white",
            "showbackground": true,
            "ticks": "",
            "zerolinecolor": "white"
           },
           "yaxis": {
            "backgroundcolor": "#E5ECF6",
            "gridcolor": "white",
            "gridwidth": 2,
            "linecolor": "white",
            "showbackground": true,
            "ticks": "",
            "zerolinecolor": "white"
           },
           "zaxis": {
            "backgroundcolor": "#E5ECF6",
            "gridcolor": "white",
            "gridwidth": 2,
            "linecolor": "white",
            "showbackground": true,
            "ticks": "",
            "zerolinecolor": "white"
           }
          },
          "shapedefaults": {
           "line": {
            "color": "#2a3f5f"
           }
          },
          "ternary": {
           "aaxis": {
            "gridcolor": "white",
            "linecolor": "white",
            "ticks": ""
           },
           "baxis": {
            "gridcolor": "white",
            "linecolor": "white",
            "ticks": ""
           },
           "bgcolor": "#E5ECF6",
           "caxis": {
            "gridcolor": "white",
            "linecolor": "white",
            "ticks": ""
           }
          },
          "title": {
           "x": 0.05
          },
          "xaxis": {
           "automargin": true,
           "gridcolor": "white",
           "linecolor": "white",
           "ticks": "",
           "title": {
            "standoff": 15
           },
           "zerolinecolor": "white",
           "zerolinewidth": 2
          },
          "yaxis": {
           "automargin": true,
           "gridcolor": "white",
           "linecolor": "white",
           "ticks": "",
           "title": {
            "standoff": 15
           },
           "zerolinecolor": "white",
           "zerolinewidth": 2
          }
         }
        },
        "title": {
         "text": "Per-Action CTR: All Policy × Dataset Combinations"
        },
        "xaxis": {
         "anchor": "y",
         "domain": [
          0,
          1
         ],
         "dtick": 5,
         "title": {
          "text": "Action ID"
         },
         "type": "linear"
        },
        "yaxis": {
         "anchor": "x",
         "domain": [
          0,
          1
         ],
         "tickformat": ".2%",
         "title": {
          "text": "Click-Through Rate"
         }
        }
       }
      }
     },
     "metadata": {},
     "output_type": "display_data"
    },
    {
     "name": "stdout",
     "output_type": "stream",
     "text": [
      "\n",
      "======================================================================\n",
      "PER-ACTION CTR SUMMARY STATISTICS\n",
      "======================================================================\n"
     ]
    },
    {
     "data": {
      "text/html": [
       "<div>\n",
       "<style scoped>\n",
       "    .dataframe tbody tr th:only-of-type {\n",
       "        vertical-align: middle;\n",
       "    }\n",
       "\n",
       "    .dataframe tbody tr th {\n",
       "        vertical-align: top;\n",
       "    }\n",
       "\n",
       "    .dataframe thead tr th {\n",
       "        text-align: left;\n",
       "    }\n",
       "\n",
       "    .dataframe thead tr:last-of-type th {\n",
       "        text-align: right;\n",
       "    }\n",
       "</style>\n",
       "<table border=\"1\" class=\"dataframe\">\n",
       "  <thead>\n",
       "    <tr>\n",
       "      <th></th>\n",
       "      <th colspan=\"3\" halign=\"left\">overall_ctr</th>\n",
       "      <th>total_clicks</th>\n",
       "      <th>total_impressions</th>\n",
       "    </tr>\n",
       "    <tr>\n",
       "      <th></th>\n",
       "      <th>mean</th>\n",
       "      <th>median</th>\n",
       "      <th>std</th>\n",
       "      <th>sum</th>\n",
       "      <th>sum</th>\n",
       "    </tr>\n",
       "    <tr>\n",
       "      <th>policy_dataset</th>\n",
       "      <th></th>\n",
       "      <th></th>\n",
       "      <th></th>\n",
       "      <th></th>\n",
       "      <th></th>\n",
       "    </tr>\n",
       "  </thead>\n",
       "  <tbody>\n",
       "    <tr>\n",
       "      <th>BTS (Full)</th>\n",
       "      <td>0.003468</td>\n",
       "      <td>0.003284</td>\n",
       "      <td>0.001280</td>\n",
       "      <td>61208.0</td>\n",
       "      <td>12357200.0</td>\n",
       "    </tr>\n",
       "    <tr>\n",
       "      <th>BTS (Sample)</th>\n",
       "      <td>0.004195</td>\n",
       "      <td>0.000000</td>\n",
       "      <td>0.010904</td>\n",
       "      <td>42.0</td>\n",
       "      <td>10000.0</td>\n",
       "    </tr>\n",
       "    <tr>\n",
       "      <th>Random (Full)</th>\n",
       "      <td>0.003472</td>\n",
       "      <td>0.003321</td>\n",
       "      <td>0.001634</td>\n",
       "      <td>4768.0</td>\n",
       "      <td>1374327.0</td>\n",
       "    </tr>\n",
       "    <tr>\n",
       "      <th>Random (Sample)</th>\n",
       "      <td>0.003782</td>\n",
       "      <td>0.000000</td>\n",
       "      <td>0.005828</td>\n",
       "      <td>38.0</td>\n",
       "      <td>10000.0</td>\n",
       "    </tr>\n",
       "  </tbody>\n",
       "</table>\n",
       "</div>"
      ],
      "text/plain": [
       "                overall_ctr                     total_clicks total_impressions\n",
       "                       mean    median       std          sum               sum\n",
       "policy_dataset                                                                \n",
       "BTS (Full)         0.003468  0.003284  0.001280      61208.0        12357200.0\n",
       "BTS (Sample)       0.004195  0.000000  0.010904         42.0           10000.0\n",
       "Random (Full)      0.003472  0.003321  0.001634       4768.0         1374327.0\n",
       "Random (Sample)    0.003782  0.000000  0.005828         38.0           10000.0"
      ]
     },
     "metadata": {},
     "output_type": "display_data"
    },
    {
     "name": "stdout",
     "output_type": "stream",
     "text": [
      "\n",
      "======================================================================\n",
      "TOP 10 ACTIONS WITH HIGHEST BTS LIFT (Full Dataset)\n",
      "======================================================================\n"
     ]
    },
    {
     "data": {
      "text/html": [
       "<div>\n",
       "<style scoped>\n",
       "    .dataframe tbody tr th:only-of-type {\n",
       "        vertical-align: middle;\n",
       "    }\n",
       "\n",
       "    .dataframe tbody tr th {\n",
       "        vertical-align: top;\n",
       "    }\n",
       "\n",
       "    .dataframe thead th {\n",
       "        text-align: right;\n",
       "    }\n",
       "</style>\n",
       "<table border=\"1\" class=\"dataframe\">\n",
       "  <thead>\n",
       "    <tr style=\"text-align: right;\">\n",
       "      <th></th>\n",
       "      <th>Action</th>\n",
       "      <th>Random CTR</th>\n",
       "      <th>BTS CTR</th>\n",
       "      <th>Lift (%)</th>\n",
       "    </tr>\n",
       "  </thead>\n",
       "  <tbody>\n",
       "    <tr>\n",
       "      <th>17</th>\n",
       "      <td>17</td>\n",
       "      <td>0.001437</td>\n",
       "      <td>0.003636</td>\n",
       "      <td>153.060606</td>\n",
       "    </tr>\n",
       "    <tr>\n",
       "      <th>54</th>\n",
       "      <td>54</td>\n",
       "      <td>0.001225</td>\n",
       "      <td>0.002687</td>\n",
       "      <td>119.361056</td>\n",
       "    </tr>\n",
       "    <tr>\n",
       "      <th>56</th>\n",
       "      <td>56</td>\n",
       "      <td>0.001469</td>\n",
       "      <td>0.002691</td>\n",
       "      <td>83.216620</td>\n",
       "    </tr>\n",
       "    <tr>\n",
       "      <th>28</th>\n",
       "      <td>28</td>\n",
       "      <td>0.002196</td>\n",
       "      <td>0.003789</td>\n",
       "      <td>72.536155</td>\n",
       "    </tr>\n",
       "    <tr>\n",
       "      <th>14</th>\n",
       "      <td>14</td>\n",
       "      <td>0.001740</td>\n",
       "      <td>0.002934</td>\n",
       "      <td>68.574831</td>\n",
       "    </tr>\n",
       "    <tr>\n",
       "      <th>70</th>\n",
       "      <td>70</td>\n",
       "      <td>0.001366</td>\n",
       "      <td>0.002291</td>\n",
       "      <td>67.686852</td>\n",
       "    </tr>\n",
       "    <tr>\n",
       "      <th>2</th>\n",
       "      <td>2</td>\n",
       "      <td>0.001272</td>\n",
       "      <td>0.002113</td>\n",
       "      <td>66.177392</td>\n",
       "    </tr>\n",
       "    <tr>\n",
       "      <th>4</th>\n",
       "      <td>4</td>\n",
       "      <td>0.001148</td>\n",
       "      <td>0.001895</td>\n",
       "      <td>65.100417</td>\n",
       "    </tr>\n",
       "    <tr>\n",
       "      <th>40</th>\n",
       "      <td>40</td>\n",
       "      <td>0.001610</td>\n",
       "      <td>0.002621</td>\n",
       "      <td>62.832077</td>\n",
       "    </tr>\n",
       "    <tr>\n",
       "      <th>74</th>\n",
       "      <td>74</td>\n",
       "      <td>0.001283</td>\n",
       "      <td>0.002045</td>\n",
       "      <td>59.367336</td>\n",
       "    </tr>\n",
       "  </tbody>\n",
       "</table>\n",
       "</div>"
      ],
      "text/plain": [
       "    Action  Random CTR   BTS CTR    Lift (%)\n",
       "17      17    0.001437  0.003636  153.060606\n",
       "54      54    0.001225  0.002687  119.361056\n",
       "56      56    0.001469  0.002691   83.216620\n",
       "28      28    0.002196  0.003789   72.536155\n",
       "14      14    0.001740  0.002934   68.574831\n",
       "70      70    0.001366  0.002291   67.686852\n",
       "2        2    0.001272  0.002113   66.177392\n",
       "4        4    0.001148  0.001895   65.100417\n",
       "40      40    0.001610  0.002621   62.832077\n",
       "74      74    0.001283  0.002045   59.367336"
      ]
     },
     "metadata": {},
     "output_type": "display_data"
    }
   ],
   "source": [
    "import plotly.express as px\n",
    "import plotly.graph_objects as go\n",
    "\n",
    "# Prepare per-action CTR data\n",
    "if all(var in globals() for var in ['random_dl_detailed', 'bts_dl_detailed', 'random_full_detailed', 'bts_full_detailed']):\n",
    "    \n",
    "    def get_action_ctr(metrics_dict, policy, dataset):\n",
    "        \"\"\"Extract overall CTR per action (aggregate across positions).\"\"\"\n",
    "        df = metrics_dict['detailed_df'].copy()\n",
    "        ctr_cols = [col for col in df.columns if col.startswith('ctr_pos_')]\n",
    "        clicks_cols = [col for col in df.columns if col.startswith('clicks_pos_')]\n",
    "        impr_cols = [col for col in df.columns if col.startswith('impressions_pos_')]\n",
    "        \n",
    "        df['total_clicks'] = df[clicks_cols].sum(axis=1)\n",
    "        df['total_impressions'] = df[impr_cols].sum(axis=1)\n",
    "        df['overall_ctr'] = df['total_clicks'] / df['total_impressions'].replace(0, 1)\n",
    "        df['policy'] = policy\n",
    "        df['dataset'] = dataset\n",
    "        df['policy_dataset'] = f\"{policy} ({dataset})\"\n",
    "        \n",
    "        return df[['action', 'overall_ctr', 'total_clicks', 'total_impressions', 'policy', 'dataset', 'policy_dataset']]\n",
    "    \n",
    "    # Combine all data\n",
    "    combined_df = pd.concat([\n",
    "        get_action_ctr(random_dl_detailed, 'Random', 'Sample'),\n",
    "        get_action_ctr(bts_dl_detailed, 'BTS', 'Sample'),\n",
    "        get_action_ctr(random_full_detailed, 'Random', 'Full'),\n",
    "        get_action_ctr(bts_full_detailed, 'BTS', 'Full')\n",
    "    ], ignore_index=True)\n",
    "    \n",
    "    # Visualization\n",
    "    fig = px.bar(combined_df, \n",
    "                 x='action', \n",
    "                 y='overall_ctr',\n",
    "                 color='policy_dataset',\n",
    "                 barmode='group',\n",
    "                 title='Per-Action CTR: All Policy × Dataset Combinations',\n",
    "                 labels={'action': 'Action ID', 'overall_ctr': 'CTR', 'policy_dataset': 'Policy & Dataset'},\n",
    "                 height=600,\n",
    "                 color_discrete_map={\n",
    "                     'Random (Sample)': '#FF6B6B',\n",
    "                     'BTS (Sample)': '#4ECDC4',\n",
    "                     'Random (Full)': '#FFE66D',\n",
    "                     'BTS (Full)': '#95E1D3'\n",
    "                 },\n",
    "                 hover_data={'overall_ctr': ':.4f', 'total_clicks': ':,', 'total_impressions': ':,'})\n",
    "    \n",
    "    fig.update_xaxes(type='linear', dtick=5, title_text='Action ID')\n",
    "    fig.update_yaxes(tickformat='.2%', title_text='Click-Through Rate')\n",
    "    fig.update_layout(\n",
    "        legend=dict(orientation=\"h\", yanchor=\"bottom\", y=1.02, xanchor=\"right\", x=1),\n",
    "        hovermode='x unified'\n",
    "    )\n",
    "    fig.show()\n",
    "    \n",
    "    # Summary statistics\n",
    "    print(\"\\n\" + \"=\"*70)\n",
    "    print(\"PER-ACTION CTR SUMMARY STATISTICS\")\n",
    "    print(\"=\"*70)\n",
    "    summary_stats = combined_df.groupby('policy_dataset').agg({\n",
    "        'overall_ctr': ['mean', 'median', 'std'],\n",
    "        'total_clicks': 'sum',\n",
    "        'total_impressions': 'sum'\n",
    "    }).round(6)\n",
    "    display(summary_stats)\n",
    "    \n",
    "    # Top actions with highest BTS lift (Full dataset only)\n",
    "    pivot_df = combined_df.pivot_table(index='action', columns='policy_dataset', values='overall_ctr').reset_index()\n",
    "    if 'Random (Full)' in pivot_df.columns and 'BTS (Full)' in pivot_df.columns:\n",
    "        pivot_df['lift'] = (pivot_df['BTS (Full)'] / pivot_df['Random (Full)'].replace(0, 1) - 1) * 100\n",
    "        top_lifts = pivot_df.nlargest(10, 'lift')[['action', 'Random (Full)', 'BTS (Full)', 'lift']]\n",
    "        top_lifts.columns = ['Action', 'Random CTR', 'BTS CTR', 'Lift (%)']\n",
    "        \n",
    "        print(\"\\n\" + \"=\"*70)\n",
    "        print(\"TOP 10 ACTIONS WITH HIGHEST BTS LIFT (Full Dataset)\")\n",
    "        print(\"=\"*70)\n",
    "        display(top_lifts)\n",
    "else:\n",
    "    print(\"⚠️  Detailed data not available. Run Section 5 first.\")"
   ]
  },
  {
   "cell_type": "markdown",
   "id": "b911cd70",
   "metadata": {},
   "source": [
    "## 7. Per-Position CTR Analysis & Visualization\n",
    "\n",
    "Analyze how CTR varies by position across all policy × dataset combinations."
   ]
  },
  {
   "cell_type": "code",
   "execution_count": 35,
   "id": "285c2132",
   "metadata": {},
   "outputs": [
    {
     "data": {
      "application/vnd.plotly.v1+json": {
       "config": {
        "plotlyServerURL": "https://plot.ly"
       },
       "data": [
        {
         "alignmentgroup": "True",
         "customdata": {
          "bdata": "DQD6DA4AVA0LAMIM",
          "dtype": "i2",
          "shape": "3, 2"
         },
         "hovertemplate": "Policy & Dataset=Random (Sample)<br>Position=%{x}<br>CTR=%{y:.4f}<br>clicks=%{customdata[0]:,}<br>impressions=%{customdata[1]:,}<extra></extra>",
         "legendgroup": "Random (Sample)",
         "marker": {
          "color": "#FF6B6B",
          "pattern": {
           "shape": ""
          }
         },
         "name": "Random (Sample)",
         "offsetgroup": "Random (Sample)",
         "orientation": "v",
         "showlegend": true,
         "textposition": "auto",
         "type": "bar",
         "x": {
          "bdata": "AQID",
          "dtype": "i1"
         },
         "xaxis": "x",
         "y": {
          "bdata": "mB1A4GUHcD/OB04Me85wP9PAcqRHl2s/",
          "dtype": "f8"
         },
         "yaxis": "y"
        },
        {
         "alignmentgroup": "True",
         "customdata": {
          "bdata": "CwAiDQ8A9QwQAPkM",
          "dtype": "i2",
          "shape": "3, 2"
         },
         "hovertemplate": "Policy & Dataset=BTS (Sample)<br>Position=%{x}<br>CTR=%{y:.4f}<br>clicks=%{customdata[0]:,}<br>impressions=%{customdata[1]:,}<extra></extra>",
         "legendgroup": "BTS (Sample)",
         "marker": {
          "color": "#4ECDC4",
          "pattern": {
           "shape": ""
          }
         },
         "name": "BTS (Sample)",
         "offsetgroup": "BTS (Sample)",
         "orientation": "v",
         "showlegend": true,
         "textposition": "auto",
         "type": "bar",
         "x": {
          "bdata": "AQID",
          "dtype": "i1"
         },
         "xaxis": "x",
         "y": {
          "bdata": "H9Zih5fNaj8MayGz04VyP6k5tE7bu3M/",
          "dtype": "f8"
         },
         "yaxis": "y"
        },
        {
         "alignmentgroup": "True",
         "customdata": {
          "bdata": "VgYAABX9BgA2BgAArv0GABQGAAC0/QYA",
          "dtype": "i4",
          "shape": "3, 2"
         },
         "hovertemplate": "Policy & Dataset=Random (Full)<br>Position=%{x}<br>CTR=%{y:.4f}<br>clicks=%{customdata[0]:,}<br>impressions=%{customdata[1]:,}<extra></extra>",
         "legendgroup": "Random (Full)",
         "marker": {
          "color": "#FFE66D",
          "pattern": {
           "shape": ""
          }
         },
         "name": "Random (Full)",
         "offsetgroup": "Random (Full)",
         "orientation": "v",
         "showlegend": true,
         "textposition": "auto",
         "type": "bar",
         "x": {
          "bdata": "AQID",
          "dtype": "i1"
         },
         "xaxis": "x",
         "y": {
          "bdata": "O1xzX/MCbT/QUAO//m1sPwLCHJFF0ms/",
          "dtype": "f8"
         },
         "yaxis": "y"
        },
        {
         "alignmentgroup": "True",
         "customdata": {
          "bdata": "hU8AANHXPgB1UAAAQtw+AB5PAAA92j4A",
          "dtype": "i4",
          "shape": "3, 2"
         },
         "hovertemplate": "Policy & Dataset=BTS (Full)<br>Position=%{x}<br>CTR=%{y:.4f}<br>clicks=%{customdata[0]:,}<br>impressions=%{customdata[1]:,}<extra></extra>",
         "legendgroup": "BTS (Full)",
         "marker": {
          "color": "#95E1D3",
          "pattern": {
           "shape": ""
          }
         },
         "name": "BTS (Full)",
         "offsetgroup": "BTS (Full)",
         "orientation": "v",
         "showlegend": true,
         "textposition": "auto",
         "type": "bar",
         "x": {
          "bdata": "AQID",
          "dtype": "i1"
         },
         "xaxis": "x",
         "y": {
          "bdata": "CNJt/fE+dD9LHFtBmnp0P46JFu3xI3Q/",
          "dtype": "f8"
         },
         "yaxis": "y"
        }
       ],
       "layout": {
        "barmode": "group",
        "height": 600,
        "hovermode": "x unified",
        "legend": {
         "orientation": "h",
         "title": {
          "text": "Policy & Dataset"
         },
         "tracegroupgap": 0,
         "x": 1,
         "xanchor": "right",
         "y": 1.02,
         "yanchor": "bottom"
        },
        "template": {
         "data": {
          "bar": [
           {
            "error_x": {
             "color": "#2a3f5f"
            },
            "error_y": {
             "color": "#2a3f5f"
            },
            "marker": {
             "line": {
              "color": "#E5ECF6",
              "width": 0.5
             },
             "pattern": {
              "fillmode": "overlay",
              "size": 10,
              "solidity": 0.2
             }
            },
            "type": "bar"
           }
          ],
          "barpolar": [
           {
            "marker": {
             "line": {
              "color": "#E5ECF6",
              "width": 0.5
             },
             "pattern": {
              "fillmode": "overlay",
              "size": 10,
              "solidity": 0.2
             }
            },
            "type": "barpolar"
           }
          ],
          "carpet": [
           {
            "aaxis": {
             "endlinecolor": "#2a3f5f",
             "gridcolor": "white",
             "linecolor": "white",
             "minorgridcolor": "white",
             "startlinecolor": "#2a3f5f"
            },
            "baxis": {
             "endlinecolor": "#2a3f5f",
             "gridcolor": "white",
             "linecolor": "white",
             "minorgridcolor": "white",
             "startlinecolor": "#2a3f5f"
            },
            "type": "carpet"
           }
          ],
          "choropleth": [
           {
            "colorbar": {
             "outlinewidth": 0,
             "ticks": ""
            },
            "type": "choropleth"
           }
          ],
          "contour": [
           {
            "colorbar": {
             "outlinewidth": 0,
             "ticks": ""
            },
            "colorscale": [
             [
              0,
              "#0d0887"
             ],
             [
              0.1111111111111111,
              "#46039f"
             ],
             [
              0.2222222222222222,
              "#7201a8"
             ],
             [
              0.3333333333333333,
              "#9c179e"
             ],
             [
              0.4444444444444444,
              "#bd3786"
             ],
             [
              0.5555555555555556,
              "#d8576b"
             ],
             [
              0.6666666666666666,
              "#ed7953"
             ],
             [
              0.7777777777777778,
              "#fb9f3a"
             ],
             [
              0.8888888888888888,
              "#fdca26"
             ],
             [
              1,
              "#f0f921"
             ]
            ],
            "type": "contour"
           }
          ],
          "contourcarpet": [
           {
            "colorbar": {
             "outlinewidth": 0,
             "ticks": ""
            },
            "type": "contourcarpet"
           }
          ],
          "heatmap": [
           {
            "colorbar": {
             "outlinewidth": 0,
             "ticks": ""
            },
            "colorscale": [
             [
              0,
              "#0d0887"
             ],
             [
              0.1111111111111111,
              "#46039f"
             ],
             [
              0.2222222222222222,
              "#7201a8"
             ],
             [
              0.3333333333333333,
              "#9c179e"
             ],
             [
              0.4444444444444444,
              "#bd3786"
             ],
             [
              0.5555555555555556,
              "#d8576b"
             ],
             [
              0.6666666666666666,
              "#ed7953"
             ],
             [
              0.7777777777777778,
              "#fb9f3a"
             ],
             [
              0.8888888888888888,
              "#fdca26"
             ],
             [
              1,
              "#f0f921"
             ]
            ],
            "type": "heatmap"
           }
          ],
          "histogram": [
           {
            "marker": {
             "pattern": {
              "fillmode": "overlay",
              "size": 10,
              "solidity": 0.2
             }
            },
            "type": "histogram"
           }
          ],
          "histogram2d": [
           {
            "colorbar": {
             "outlinewidth": 0,
             "ticks": ""
            },
            "colorscale": [
             [
              0,
              "#0d0887"
             ],
             [
              0.1111111111111111,
              "#46039f"
             ],
             [
              0.2222222222222222,
              "#7201a8"
             ],
             [
              0.3333333333333333,
              "#9c179e"
             ],
             [
              0.4444444444444444,
              "#bd3786"
             ],
             [
              0.5555555555555556,
              "#d8576b"
             ],
             [
              0.6666666666666666,
              "#ed7953"
             ],
             [
              0.7777777777777778,
              "#fb9f3a"
             ],
             [
              0.8888888888888888,
              "#fdca26"
             ],
             [
              1,
              "#f0f921"
             ]
            ],
            "type": "histogram2d"
           }
          ],
          "histogram2dcontour": [
           {
            "colorbar": {
             "outlinewidth": 0,
             "ticks": ""
            },
            "colorscale": [
             [
              0,
              "#0d0887"
             ],
             [
              0.1111111111111111,
              "#46039f"
             ],
             [
              0.2222222222222222,
              "#7201a8"
             ],
             [
              0.3333333333333333,
              "#9c179e"
             ],
             [
              0.4444444444444444,
              "#bd3786"
             ],
             [
              0.5555555555555556,
              "#d8576b"
             ],
             [
              0.6666666666666666,
              "#ed7953"
             ],
             [
              0.7777777777777778,
              "#fb9f3a"
             ],
             [
              0.8888888888888888,
              "#fdca26"
             ],
             [
              1,
              "#f0f921"
             ]
            ],
            "type": "histogram2dcontour"
           }
          ],
          "mesh3d": [
           {
            "colorbar": {
             "outlinewidth": 0,
             "ticks": ""
            },
            "type": "mesh3d"
           }
          ],
          "parcoords": [
           {
            "line": {
             "colorbar": {
              "outlinewidth": 0,
              "ticks": ""
             }
            },
            "type": "parcoords"
           }
          ],
          "pie": [
           {
            "automargin": true,
            "type": "pie"
           }
          ],
          "scatter": [
           {
            "fillpattern": {
             "fillmode": "overlay",
             "size": 10,
             "solidity": 0.2
            },
            "type": "scatter"
           }
          ],
          "scatter3d": [
           {
            "line": {
             "colorbar": {
              "outlinewidth": 0,
              "ticks": ""
             }
            },
            "marker": {
             "colorbar": {
              "outlinewidth": 0,
              "ticks": ""
             }
            },
            "type": "scatter3d"
           }
          ],
          "scattercarpet": [
           {
            "marker": {
             "colorbar": {
              "outlinewidth": 0,
              "ticks": ""
             }
            },
            "type": "scattercarpet"
           }
          ],
          "scattergeo": [
           {
            "marker": {
             "colorbar": {
              "outlinewidth": 0,
              "ticks": ""
             }
            },
            "type": "scattergeo"
           }
          ],
          "scattergl": [
           {
            "marker": {
             "colorbar": {
              "outlinewidth": 0,
              "ticks": ""
             }
            },
            "type": "scattergl"
           }
          ],
          "scattermap": [
           {
            "marker": {
             "colorbar": {
              "outlinewidth": 0,
              "ticks": ""
             }
            },
            "type": "scattermap"
           }
          ],
          "scattermapbox": [
           {
            "marker": {
             "colorbar": {
              "outlinewidth": 0,
              "ticks": ""
             }
            },
            "type": "scattermapbox"
           }
          ],
          "scatterpolar": [
           {
            "marker": {
             "colorbar": {
              "outlinewidth": 0,
              "ticks": ""
             }
            },
            "type": "scatterpolar"
           }
          ],
          "scatterpolargl": [
           {
            "marker": {
             "colorbar": {
              "outlinewidth": 0,
              "ticks": ""
             }
            },
            "type": "scatterpolargl"
           }
          ],
          "scatterternary": [
           {
            "marker": {
             "colorbar": {
              "outlinewidth": 0,
              "ticks": ""
             }
            },
            "type": "scatterternary"
           }
          ],
          "surface": [
           {
            "colorbar": {
             "outlinewidth": 0,
             "ticks": ""
            },
            "colorscale": [
             [
              0,
              "#0d0887"
             ],
             [
              0.1111111111111111,
              "#46039f"
             ],
             [
              0.2222222222222222,
              "#7201a8"
             ],
             [
              0.3333333333333333,
              "#9c179e"
             ],
             [
              0.4444444444444444,
              "#bd3786"
             ],
             [
              0.5555555555555556,
              "#d8576b"
             ],
             [
              0.6666666666666666,
              "#ed7953"
             ],
             [
              0.7777777777777778,
              "#fb9f3a"
             ],
             [
              0.8888888888888888,
              "#fdca26"
             ],
             [
              1,
              "#f0f921"
             ]
            ],
            "type": "surface"
           }
          ],
          "table": [
           {
            "cells": {
             "fill": {
              "color": "#EBF0F8"
             },
             "line": {
              "color": "white"
             }
            },
            "header": {
             "fill": {
              "color": "#C8D4E3"
             },
             "line": {
              "color": "white"
             }
            },
            "type": "table"
           }
          ]
         },
         "layout": {
          "annotationdefaults": {
           "arrowcolor": "#2a3f5f",
           "arrowhead": 0,
           "arrowwidth": 1
          },
          "autotypenumbers": "strict",
          "coloraxis": {
           "colorbar": {
            "outlinewidth": 0,
            "ticks": ""
           }
          },
          "colorscale": {
           "diverging": [
            [
             0,
             "#8e0152"
            ],
            [
             0.1,
             "#c51b7d"
            ],
            [
             0.2,
             "#de77ae"
            ],
            [
             0.3,
             "#f1b6da"
            ],
            [
             0.4,
             "#fde0ef"
            ],
            [
             0.5,
             "#f7f7f7"
            ],
            [
             0.6,
             "#e6f5d0"
            ],
            [
             0.7,
             "#b8e186"
            ],
            [
             0.8,
             "#7fbc41"
            ],
            [
             0.9,
             "#4d9221"
            ],
            [
             1,
             "#276419"
            ]
           ],
           "sequential": [
            [
             0,
             "#0d0887"
            ],
            [
             0.1111111111111111,
             "#46039f"
            ],
            [
             0.2222222222222222,
             "#7201a8"
            ],
            [
             0.3333333333333333,
             "#9c179e"
            ],
            [
             0.4444444444444444,
             "#bd3786"
            ],
            [
             0.5555555555555556,
             "#d8576b"
            ],
            [
             0.6666666666666666,
             "#ed7953"
            ],
            [
             0.7777777777777778,
             "#fb9f3a"
            ],
            [
             0.8888888888888888,
             "#fdca26"
            ],
            [
             1,
             "#f0f921"
            ]
           ],
           "sequentialminus": [
            [
             0,
             "#0d0887"
            ],
            [
             0.1111111111111111,
             "#46039f"
            ],
            [
             0.2222222222222222,
             "#7201a8"
            ],
            [
             0.3333333333333333,
             "#9c179e"
            ],
            [
             0.4444444444444444,
             "#bd3786"
            ],
            [
             0.5555555555555556,
             "#d8576b"
            ],
            [
             0.6666666666666666,
             "#ed7953"
            ],
            [
             0.7777777777777778,
             "#fb9f3a"
            ],
            [
             0.8888888888888888,
             "#fdca26"
            ],
            [
             1,
             "#f0f921"
            ]
           ]
          },
          "colorway": [
           "#636efa",
           "#EF553B",
           "#00cc96",
           "#ab63fa",
           "#FFA15A",
           "#19d3f3",
           "#FF6692",
           "#B6E880",
           "#FF97FF",
           "#FECB52"
          ],
          "font": {
           "color": "#2a3f5f"
          },
          "geo": {
           "bgcolor": "white",
           "lakecolor": "white",
           "landcolor": "#E5ECF6",
           "showlakes": true,
           "showland": true,
           "subunitcolor": "white"
          },
          "hoverlabel": {
           "align": "left"
          },
          "hovermode": "closest",
          "mapbox": {
           "style": "light"
          },
          "paper_bgcolor": "white",
          "plot_bgcolor": "#E5ECF6",
          "polar": {
           "angularaxis": {
            "gridcolor": "white",
            "linecolor": "white",
            "ticks": ""
           },
           "bgcolor": "#E5ECF6",
           "radialaxis": {
            "gridcolor": "white",
            "linecolor": "white",
            "ticks": ""
           }
          },
          "scene": {
           "xaxis": {
            "backgroundcolor": "#E5ECF6",
            "gridcolor": "white",
            "gridwidth": 2,
            "linecolor": "white",
            "showbackground": true,
            "ticks": "",
            "zerolinecolor": "white"
           },
           "yaxis": {
            "backgroundcolor": "#E5ECF6",
            "gridcolor": "white",
            "gridwidth": 2,
            "linecolor": "white",
            "showbackground": true,
            "ticks": "",
            "zerolinecolor": "white"
           },
           "zaxis": {
            "backgroundcolor": "#E5ECF6",
            "gridcolor": "white",
            "gridwidth": 2,
            "linecolor": "white",
            "showbackground": true,
            "ticks": "",
            "zerolinecolor": "white"
           }
          },
          "shapedefaults": {
           "line": {
            "color": "#2a3f5f"
           }
          },
          "ternary": {
           "aaxis": {
            "gridcolor": "white",
            "linecolor": "white",
            "ticks": ""
           },
           "baxis": {
            "gridcolor": "white",
            "linecolor": "white",
            "ticks": ""
           },
           "bgcolor": "#E5ECF6",
           "caxis": {
            "gridcolor": "white",
            "linecolor": "white",
            "ticks": ""
           }
          },
          "title": {
           "x": 0.05
          },
          "xaxis": {
           "automargin": true,
           "gridcolor": "white",
           "linecolor": "white",
           "ticks": "",
           "title": {
            "standoff": 15
           },
           "zerolinecolor": "white",
           "zerolinewidth": 2
          },
          "yaxis": {
           "automargin": true,
           "gridcolor": "white",
           "linecolor": "white",
           "ticks": "",
           "title": {
            "standoff": 15
           },
           "zerolinecolor": "white",
           "zerolinewidth": 2
          }
         }
        },
        "title": {
         "text": "CTR by Position: All Policy × Dataset Combinations"
        },
        "xaxis": {
         "anchor": "y",
         "domain": [
          0,
          1
         ],
         "dtick": 1,
         "tickmode": "linear",
         "title": {
          "text": "Position (1 = top slot)"
         }
        },
        "yaxis": {
         "anchor": "x",
         "domain": [
          0,
          1
         ],
         "tickformat": ".2%",
         "title": {
          "text": "Click-Through Rate"
         }
        }
       }
      }
     },
     "metadata": {},
     "output_type": "display_data"
    },
    {
     "name": "stdout",
     "output_type": "stream",
     "text": [
      "\n",
      "======================================================================\n",
      "CTR BY POSITION SUMMARY (All Policy × Dataset)\n",
      "======================================================================\n"
     ]
    },
    {
     "data": {
      "text/html": [
       "<div>\n",
       "<style scoped>\n",
       "    .dataframe tbody tr th:only-of-type {\n",
       "        vertical-align: middle;\n",
       "    }\n",
       "\n",
       "    .dataframe tbody tr th {\n",
       "        vertical-align: top;\n",
       "    }\n",
       "\n",
       "    .dataframe thead th {\n",
       "        text-align: right;\n",
       "    }\n",
       "</style>\n",
       "<table border=\"1\" class=\"dataframe\">\n",
       "  <thead>\n",
       "    <tr style=\"text-align: right;\">\n",
       "      <th>policy_dataset</th>\n",
       "      <th>BTS (Full)</th>\n",
       "      <th>BTS (Sample)</th>\n",
       "      <th>Random (Full)</th>\n",
       "      <th>Random (Sample)</th>\n",
       "    </tr>\n",
       "    <tr>\n",
       "      <th>position</th>\n",
       "      <th></th>\n",
       "      <th></th>\n",
       "      <th></th>\n",
       "      <th></th>\n",
       "    </tr>\n",
       "  </thead>\n",
       "  <tbody>\n",
       "    <tr>\n",
       "      <th>1</th>\n",
       "      <td>0.494</td>\n",
       "      <td>0.327</td>\n",
       "      <td>0.354</td>\n",
       "      <td>0.391</td>\n",
       "    </tr>\n",
       "    <tr>\n",
       "      <th>2</th>\n",
       "      <td>0.500</td>\n",
       "      <td>0.452</td>\n",
       "      <td>0.347</td>\n",
       "      <td>0.410</td>\n",
       "    </tr>\n",
       "    <tr>\n",
       "      <th>3</th>\n",
       "      <td>0.492</td>\n",
       "      <td>0.482</td>\n",
       "      <td>0.340</td>\n",
       "      <td>0.337</td>\n",
       "    </tr>\n",
       "  </tbody>\n",
       "</table>\n",
       "</div>"
      ],
      "text/plain": [
       "policy_dataset  BTS (Full)  BTS (Sample)  Random (Full)  Random (Sample)\n",
       "position                                                                \n",
       "1                    0.494         0.327          0.354            0.391\n",
       "2                    0.500         0.452          0.347            0.410\n",
       "3                    0.492         0.482          0.340            0.337"
      ]
     },
     "metadata": {},
     "output_type": "display_data"
    },
    {
     "name": "stdout",
     "output_type": "stream",
     "text": [
      "\n",
      "======================================================================\n",
      "BTS LIFT BY POSITION (Full Dataset)\n",
      "======================================================================\n"
     ]
    },
    {
     "data": {
      "text/html": [
       "<div>\n",
       "<style scoped>\n",
       "    .dataframe tbody tr th:only-of-type {\n",
       "        vertical-align: middle;\n",
       "    }\n",
       "\n",
       "    .dataframe tbody tr th {\n",
       "        vertical-align: top;\n",
       "    }\n",
       "\n",
       "    .dataframe thead th {\n",
       "        text-align: right;\n",
       "    }\n",
       "</style>\n",
       "<table border=\"1\" class=\"dataframe\">\n",
       "  <thead>\n",
       "    <tr style=\"text-align: right;\">\n",
       "      <th></th>\n",
       "      <th>Position</th>\n",
       "      <th>Random CTR</th>\n",
       "      <th>BTS CTR</th>\n",
       "      <th>Lift %</th>\n",
       "    </tr>\n",
       "  </thead>\n",
       "  <tbody>\n",
       "    <tr>\n",
       "      <th>0</th>\n",
       "      <td>1</td>\n",
       "      <td>0.0035</td>\n",
       "      <td>0.0049</td>\n",
       "      <td>39.57%</td>\n",
       "    </tr>\n",
       "    <tr>\n",
       "      <th>1</th>\n",
       "      <td>2</td>\n",
       "      <td>0.0035</td>\n",
       "      <td>0.0050</td>\n",
       "      <td>44.07%</td>\n",
       "    </tr>\n",
       "    <tr>\n",
       "      <th>2</th>\n",
       "      <td>3</td>\n",
       "      <td>0.0034</td>\n",
       "      <td>0.0049</td>\n",
       "      <td>44.78%</td>\n",
       "    </tr>\n",
       "  </tbody>\n",
       "</table>\n",
       "</div>"
      ],
      "text/plain": [
       "   Position Random CTR BTS CTR  Lift %\n",
       "0         1     0.0035  0.0049  39.57%\n",
       "1         2     0.0035  0.0050  44.07%\n",
       "2         3     0.0034  0.0049  44.78%"
      ]
     },
     "metadata": {},
     "output_type": "display_data"
    }
   ],
   "source": [
    "# Extract position-level CTR for all combinations\n",
    "if all(var in globals() for var in ['random_dl_detailed', 'bts_dl_detailed', 'random_full_detailed', 'bts_full_detailed']):\n",
    "    \n",
    "    def get_position_ctr(metrics_dict, policy, dataset):\n",
    "        \"\"\"Extract CTR by position from detailed metrics.\"\"\"\n",
    "        df = metrics_dict['detailed_df'].copy()\n",
    "        position_data = []\n",
    "        positions_found = []\n",
    "        \n",
    "        for col in df.columns:\n",
    "            if col.startswith('ctr_pos_'):\n",
    "                pos = int(col.split('_')[-1])\n",
    "                positions_found.append(pos)\n",
    "                clicks_col = f'clicks_pos_{pos}'\n",
    "                impr_col = f'impressions_pos_{pos}'\n",
    "                \n",
    "                total_clicks = df[clicks_col].sum()\n",
    "                total_impressions = df[impr_col].sum()\n",
    "                ctr = total_clicks / total_impressions if total_impressions > 0 else 0\n",
    "                \n",
    "                position_data.append({\n",
    "                    'position_raw': pos,\n",
    "                    'ctr': ctr,\n",
    "                    'clicks': int(total_clicks),\n",
    "                    'impressions': int(total_impressions),\n",
    "                    'policy': policy,\n",
    "                    'dataset': dataset,\n",
    "                    'policy_dataset': f\"{policy} ({dataset})\"\n",
    "                })\n",
    "        \n",
    "        result_df = pd.DataFrame(position_data)\n",
    "        \n",
    "        # Normalize 0-indexed positions to 1-indexed\n",
    "        if len(positions_found) > 0 and min(positions_found) == 0:\n",
    "            result_df['position'] = result_df['position_raw'] + 1\n",
    "            result_df['is_normalized'] = True\n",
    "        else:\n",
    "            result_df['position'] = result_df['position_raw']\n",
    "            result_df['is_normalized'] = False\n",
    "        \n",
    "        return result_df\n",
    "    \n",
    "    # Combine all position-level data\n",
    "    position_combined = pd.concat([\n",
    "        get_position_ctr(random_dl_detailed, 'Random', 'Sample'),\n",
    "        get_position_ctr(bts_dl_detailed, 'BTS', 'Sample'),\n",
    "        get_position_ctr(random_full_detailed, 'Random', 'Full'),\n",
    "        get_position_ctr(bts_full_detailed, 'BTS', 'Full')\n",
    "    ], ignore_index=True)\n",
    "    \n",
    "    # Grouped bar chart\n",
    "    fig = px.bar(position_combined, \n",
    "                 x='position', \n",
    "                 y='ctr',\n",
    "                 color='policy_dataset',\n",
    "                 barmode='group',\n",
    "                 title='CTR by Position: All Policy × Dataset Combinations',\n",
    "                 labels={'position': 'Position', 'ctr': 'CTR', 'policy_dataset': 'Policy & Dataset'},\n",
    "                 height=600,\n",
    "                 color_discrete_map={\n",
    "                     'Random (Sample)': '#FF6B6B',\n",
    "                     'BTS (Sample)': '#4ECDC4',\n",
    "                     'Random (Full)': '#FFE66D',\n",
    "                     'BTS (Full)': '#95E1D3'\n",
    "                 },\n",
    "                 hover_data={'ctr': ':.4f', 'clicks': ':,', 'impressions': ':,'})\n",
    "    \n",
    "    fig.update_xaxes(tickmode='linear', dtick=1, title_text='Position (1 = top slot)')\n",
    "    fig.update_yaxes(tickformat='.2%', title_text='Click-Through Rate')\n",
    "    fig.update_layout(\n",
    "        legend=dict(\n",
    "            orientation=\"h\", yanchor=\"bottom\", y=1.02, xanchor=\"right\", x=1\n",
    "        ),\n",
    "        hovermode='x unified'\n",
    "    )\n",
    "    fig.show()\n",
    "    \n",
    "    # Pivot table summary\n",
    "    print(\"\\n\" + \"=\"*70)\n",
    "    print(\"CTR BY POSITION SUMMARY (All Policy × Dataset)\")\n",
    "    print(\"=\"*70)\n",
    "    position_pivot = position_combined.pivot_table(index='position', columns='policy_dataset', values='ctr')\n",
    "    display((position_pivot * 100).round(3))  # Display as percentages\n",
    "    \n",
    "    # Calculate BTS lift by position (Full dataset)\n",
    "    print(\"\\n\" + \"=\"*70)\n",
    "    print(\"BTS LIFT BY POSITION (Full Dataset)\")\n",
    "    print(\"=\"*70)\n",
    "    \n",
    "    lift_data = []\n",
    "    for pos in sorted(position_combined['position'].unique()):\n",
    "        pos_data = position_combined[position_combined['position'] == pos]\n",
    "        random_full = pos_data[pos_data['policy_dataset'] == 'Random (Full)']['ctr'].values\n",
    "        bts_full = pos_data[pos_data['policy_dataset'] == 'BTS (Full)']['ctr'].values\n",
    "        \n",
    "        if len(random_full) > 0 and len(bts_full) > 0 and random_full[0] > 0:\n",
    "            lift = ((bts_full[0] / random_full[0]) - 1) * 100\n",
    "            lift_data.append({\n",
    "                'Position': pos,\n",
    "                'Random CTR': f\"{random_full[0]:.4f}\",\n",
    "                'BTS CTR': f\"{bts_full[0]:.4f}\",\n",
    "                'Lift %': f\"{lift:.2f}%\"\n",
    "            })\n",
    "    \n",
    "    display(pd.DataFrame(lift_data))\n",
    "    \n",
    "else:\n",
    "    print(\"⚠️  Detailed data not available. Run Section 5 first.\")"
   ]
  },
  {
   "cell_type": "code",
   "execution_count": 36,
   "id": "866ef381",
   "metadata": {},
   "outputs": [
    {
     "name": "stdout",
     "output_type": "stream",
     "text": [
      "\n",
      "======================================================================\n",
      "POLICY × DATASET RANKING (by Avg CTR across positions)\n",
      "======================================================================\n"
     ]
    },
    {
     "data": {
      "text/html": [
       "<div>\n",
       "<style scoped>\n",
       "    .dataframe tbody tr th:only-of-type {\n",
       "        vertical-align: middle;\n",
       "    }\n",
       "\n",
       "    .dataframe tbody tr th {\n",
       "        vertical-align: top;\n",
       "    }\n",
       "\n",
       "    .dataframe thead th {\n",
       "        text-align: right;\n",
       "    }\n",
       "</style>\n",
       "<table border=\"1\" class=\"dataframe\">\n",
       "  <thead>\n",
       "    <tr style=\"text-align: right;\">\n",
       "      <th></th>\n",
       "      <th>Rank</th>\n",
       "      <th>Policy × Dataset</th>\n",
       "      <th>Avg CTR</th>\n",
       "      <th>Total Clicks</th>\n",
       "      <th>Total Impressions</th>\n",
       "    </tr>\n",
       "  </thead>\n",
       "  <tbody>\n",
       "    <tr>\n",
       "      <th>0</th>\n",
       "      <td>1</td>\n",
       "      <td>BTS (Full)</td>\n",
       "      <td>0.004953 (0.50%)</td>\n",
       "      <td>61,208</td>\n",
       "      <td>12,357,200</td>\n",
       "    </tr>\n",
       "    <tr>\n",
       "      <th>1</th>\n",
       "      <td>2</td>\n",
       "      <td>BTS (Sample)</td>\n",
       "      <td>0.004204 (0.42%)</td>\n",
       "      <td>42</td>\n",
       "      <td>10,000</td>\n",
       "    </tr>\n",
       "    <tr>\n",
       "      <th>3</th>\n",
       "      <td>3</td>\n",
       "      <td>Random (Sample)</td>\n",
       "      <td>0.003795 (0.38%)</td>\n",
       "      <td>38</td>\n",
       "      <td>10,000</td>\n",
       "    </tr>\n",
       "    <tr>\n",
       "      <th>2</th>\n",
       "      <td>4</td>\n",
       "      <td>Random (Full)</td>\n",
       "      <td>0.003469 (0.35%)</td>\n",
       "      <td>4,768</td>\n",
       "      <td>1,374,327</td>\n",
       "    </tr>\n",
       "  </tbody>\n",
       "</table>\n",
       "</div>"
      ],
      "text/plain": [
       "   Rank Policy × Dataset           Avg CTR Total Clicks Total Impressions\n",
       "0     1       BTS (Full)  0.004953 (0.50%)       61,208        12,357,200\n",
       "1     2     BTS (Sample)  0.004204 (0.42%)           42            10,000\n",
       "3     3  Random (Sample)  0.003795 (0.38%)           38            10,000\n",
       "2     4    Random (Full)  0.003469 (0.35%)        4,768         1,374,327"
      ]
     },
     "metadata": {},
     "output_type": "display_data"
    },
    {
     "name": "stdout",
     "output_type": "stream",
     "text": [
      "\n",
      "🏆 HIGHEST AVG CTR: BTS (Full)\n",
      "   0.004953 (0.50%)\n"
     ]
    }
   ],
   "source": [
    "# Rank policy × dataset combinations by average CTR\n",
    "if 'position_combined' in globals():\n",
    "    print(\"\\n\" + \"=\"*70)\n",
    "    print(\"POLICY × DATASET RANKING (by Avg CTR across positions)\")\n",
    "    print(\"=\"*70)\n",
    "    \n",
    "    avg_ctr_by_method = position_combined.groupby('policy_dataset').agg({\n",
    "        'ctr': 'mean',\n",
    "        'clicks': 'sum',\n",
    "        'impressions': 'sum'\n",
    "    }).reset_index().sort_values('ctr', ascending=False)\n",
    "    \n",
    "    avg_ctr_by_method.columns = ['Policy × Dataset', 'Avg CTR', 'Total Clicks', 'Total Impressions']\n",
    "    \n",
    "    # Format for display\n",
    "    display_df = avg_ctr_by_method.copy()\n",
    "    display_df.insert(0, 'Rank', range(1, len(display_df) + 1))\n",
    "    display_df['Avg CTR'] = display_df['Avg CTR'].apply(lambda x: f\"{x:.6f} ({x*100:.2f}%)\")\n",
    "    display_df['Total Clicks'] = display_df['Total Clicks'].apply(lambda x: f\"{x:,}\")\n",
    "    display_df['Total Impressions'] = display_df['Total Impressions'].apply(lambda x: f\"{x:,}\")\n",
    "    display(display_df)\n",
    "    \n",
    "    # Winner summary\n",
    "    winner = avg_ctr_by_method.iloc[0]\n",
    "    print(f\"\\n🏆 HIGHEST AVG CTR: {winner['Policy × Dataset']}\")\n",
    "    print(f\"   {winner['Avg CTR']:.6f} ({winner['Avg CTR']*100:.2f}%)\")\n",
    "else:\n",
    "    print(\"⚠️  Position data not available.\")"
   ]
  },
  {
   "cell_type": "code",
   "execution_count": 37,
   "id": "1ab55558",
   "metadata": {},
   "outputs": [
    {
     "name": "stdout",
     "output_type": "stream",
     "text": [
      "\n",
      "======================================================================\n",
      "POSITION RANKING (by Avg CTR across policies)\n",
      "======================================================================\n"
     ]
    },
    {
     "data": {
      "text/html": [
       "<div>\n",
       "<style scoped>\n",
       "    .dataframe tbody tr th:only-of-type {\n",
       "        vertical-align: middle;\n",
       "    }\n",
       "\n",
       "    .dataframe tbody tr th {\n",
       "        vertical-align: top;\n",
       "    }\n",
       "\n",
       "    .dataframe thead th {\n",
       "        text-align: right;\n",
       "    }\n",
       "</style>\n",
       "<table border=\"1\" class=\"dataframe\">\n",
       "  <thead>\n",
       "    <tr style=\"text-align: right;\">\n",
       "      <th></th>\n",
       "      <th>Rank</th>\n",
       "      <th>Position</th>\n",
       "      <th>Avg CTR</th>\n",
       "      <th>Total Clicks</th>\n",
       "      <th>Total Impressions</th>\n",
       "    </tr>\n",
       "  </thead>\n",
       "  <tbody>\n",
       "    <tr>\n",
       "      <th>1</th>\n",
       "      <td>1</td>\n",
       "      <td>2</td>\n",
       "      <td>0.004274 (0.43%)</td>\n",
       "      <td>22,216</td>\n",
       "      <td>4,584,505</td>\n",
       "    </tr>\n",
       "    <tr>\n",
       "      <th>2</th>\n",
       "      <td>2</td>\n",
       "      <td>3</td>\n",
       "      <td>0.004125 (0.41%)</td>\n",
       "      <td>21,837</td>\n",
       "      <td>4,583,852</td>\n",
       "    </tr>\n",
       "    <tr>\n",
       "      <th>0</th>\n",
       "      <td>3</td>\n",
       "      <td>1</td>\n",
       "      <td>0.003917 (0.39%)</td>\n",
       "      <td>22,003</td>\n",
       "      <td>4,583,170</td>\n",
       "    </tr>\n",
       "  </tbody>\n",
       "</table>\n",
       "</div>"
      ],
      "text/plain": [
       "   Rank  Position           Avg CTR Total Clicks Total Impressions\n",
       "1     1         2  0.004274 (0.43%)       22,216         4,584,505\n",
       "2     2         3  0.004125 (0.41%)       21,837         4,583,852\n",
       "0     3         1  0.003917 (0.39%)       22,003         4,583,170"
      ]
     },
     "metadata": {},
     "output_type": "display_data"
    },
    {
     "name": "stdout",
     "output_type": "stream",
     "text": [
      "\n",
      "🏆 MOST FAVORABLE POSITION: Position 2 (Middle Slot)\n",
      "   0.004274 (0.43%)\n"
     ]
    },
    {
     "data": {
      "application/vnd.plotly.v1+json": {
       "config": {
        "plotlyServerURL": "https://plot.ly"
       },
       "data": [
        {
         "line": {
          "width": 2
         },
         "marker": {
          "color": "#FF6B6B",
          "size": 10
         },
         "mode": "lines+markers",
         "name": "Random (Sample)",
         "type": "scatter",
         "x": {
          "bdata": "AQID",
          "dtype": "i1"
         },
         "y": {
          "bdata": "mB1A4GUHcD/OB04Me85wP9PAcqRHl2s/",
          "dtype": "f8"
         }
        },
        {
         "line": {
          "width": 2
         },
         "marker": {
          "color": "#4ECDC4",
          "size": 10
         },
         "mode": "lines+markers",
         "name": "BTS (Sample)",
         "type": "scatter",
         "x": {
          "bdata": "AQID",
          "dtype": "i1"
         },
         "y": {
          "bdata": "H9Zih5fNaj8MayGz04VyP6k5tE7bu3M/",
          "dtype": "f8"
         }
        },
        {
         "line": {
          "width": 2
         },
         "marker": {
          "color": "#FFE66D",
          "size": 10
         },
         "mode": "lines+markers",
         "name": "Random (Full)",
         "type": "scatter",
         "x": {
          "bdata": "AQID",
          "dtype": "i1"
         },
         "y": {
          "bdata": "O1xzX/MCbT/QUAO//m1sPwLCHJFF0ms/",
          "dtype": "f8"
         }
        },
        {
         "line": {
          "width": 2
         },
         "marker": {
          "color": "#95E1D3",
          "size": 10
         },
         "mode": "lines+markers",
         "name": "BTS (Full)",
         "type": "scatter",
         "x": {
          "bdata": "AQID",
          "dtype": "i1"
         },
         "y": {
          "bdata": "CNJt/fE+dD9LHFtBmnp0P46JFu3xI3Q/",
          "dtype": "f8"
         }
        }
       ],
       "layout": {
        "height": 500,
        "hovermode": "x unified",
        "legend": {
         "bgcolor": "white",
         "bordercolor": "gray",
         "borderwidth": 1,
         "orientation": "v",
         "x": 1.02,
         "xanchor": "left",
         "y": 0.99,
         "yanchor": "top"
        },
        "template": {
         "data": {
          "bar": [
           {
            "error_x": {
             "color": "#2a3f5f"
            },
            "error_y": {
             "color": "#2a3f5f"
            },
            "marker": {
             "line": {
              "color": "#E5ECF6",
              "width": 0.5
             },
             "pattern": {
              "fillmode": "overlay",
              "size": 10,
              "solidity": 0.2
             }
            },
            "type": "bar"
           }
          ],
          "barpolar": [
           {
            "marker": {
             "line": {
              "color": "#E5ECF6",
              "width": 0.5
             },
             "pattern": {
              "fillmode": "overlay",
              "size": 10,
              "solidity": 0.2
             }
            },
            "type": "barpolar"
           }
          ],
          "carpet": [
           {
            "aaxis": {
             "endlinecolor": "#2a3f5f",
             "gridcolor": "white",
             "linecolor": "white",
             "minorgridcolor": "white",
             "startlinecolor": "#2a3f5f"
            },
            "baxis": {
             "endlinecolor": "#2a3f5f",
             "gridcolor": "white",
             "linecolor": "white",
             "minorgridcolor": "white",
             "startlinecolor": "#2a3f5f"
            },
            "type": "carpet"
           }
          ],
          "choropleth": [
           {
            "colorbar": {
             "outlinewidth": 0,
             "ticks": ""
            },
            "type": "choropleth"
           }
          ],
          "contour": [
           {
            "colorbar": {
             "outlinewidth": 0,
             "ticks": ""
            },
            "colorscale": [
             [
              0,
              "#0d0887"
             ],
             [
              0.1111111111111111,
              "#46039f"
             ],
             [
              0.2222222222222222,
              "#7201a8"
             ],
             [
              0.3333333333333333,
              "#9c179e"
             ],
             [
              0.4444444444444444,
              "#bd3786"
             ],
             [
              0.5555555555555556,
              "#d8576b"
             ],
             [
              0.6666666666666666,
              "#ed7953"
             ],
             [
              0.7777777777777778,
              "#fb9f3a"
             ],
             [
              0.8888888888888888,
              "#fdca26"
             ],
             [
              1,
              "#f0f921"
             ]
            ],
            "type": "contour"
           }
          ],
          "contourcarpet": [
           {
            "colorbar": {
             "outlinewidth": 0,
             "ticks": ""
            },
            "type": "contourcarpet"
           }
          ],
          "heatmap": [
           {
            "colorbar": {
             "outlinewidth": 0,
             "ticks": ""
            },
            "colorscale": [
             [
              0,
              "#0d0887"
             ],
             [
              0.1111111111111111,
              "#46039f"
             ],
             [
              0.2222222222222222,
              "#7201a8"
             ],
             [
              0.3333333333333333,
              "#9c179e"
             ],
             [
              0.4444444444444444,
              "#bd3786"
             ],
             [
              0.5555555555555556,
              "#d8576b"
             ],
             [
              0.6666666666666666,
              "#ed7953"
             ],
             [
              0.7777777777777778,
              "#fb9f3a"
             ],
             [
              0.8888888888888888,
              "#fdca26"
             ],
             [
              1,
              "#f0f921"
             ]
            ],
            "type": "heatmap"
           }
          ],
          "histogram": [
           {
            "marker": {
             "pattern": {
              "fillmode": "overlay",
              "size": 10,
              "solidity": 0.2
             }
            },
            "type": "histogram"
           }
          ],
          "histogram2d": [
           {
            "colorbar": {
             "outlinewidth": 0,
             "ticks": ""
            },
            "colorscale": [
             [
              0,
              "#0d0887"
             ],
             [
              0.1111111111111111,
              "#46039f"
             ],
             [
              0.2222222222222222,
              "#7201a8"
             ],
             [
              0.3333333333333333,
              "#9c179e"
             ],
             [
              0.4444444444444444,
              "#bd3786"
             ],
             [
              0.5555555555555556,
              "#d8576b"
             ],
             [
              0.6666666666666666,
              "#ed7953"
             ],
             [
              0.7777777777777778,
              "#fb9f3a"
             ],
             [
              0.8888888888888888,
              "#fdca26"
             ],
             [
              1,
              "#f0f921"
             ]
            ],
            "type": "histogram2d"
           }
          ],
          "histogram2dcontour": [
           {
            "colorbar": {
             "outlinewidth": 0,
             "ticks": ""
            },
            "colorscale": [
             [
              0,
              "#0d0887"
             ],
             [
              0.1111111111111111,
              "#46039f"
             ],
             [
              0.2222222222222222,
              "#7201a8"
             ],
             [
              0.3333333333333333,
              "#9c179e"
             ],
             [
              0.4444444444444444,
              "#bd3786"
             ],
             [
              0.5555555555555556,
              "#d8576b"
             ],
             [
              0.6666666666666666,
              "#ed7953"
             ],
             [
              0.7777777777777778,
              "#fb9f3a"
             ],
             [
              0.8888888888888888,
              "#fdca26"
             ],
             [
              1,
              "#f0f921"
             ]
            ],
            "type": "histogram2dcontour"
           }
          ],
          "mesh3d": [
           {
            "colorbar": {
             "outlinewidth": 0,
             "ticks": ""
            },
            "type": "mesh3d"
           }
          ],
          "parcoords": [
           {
            "line": {
             "colorbar": {
              "outlinewidth": 0,
              "ticks": ""
             }
            },
            "type": "parcoords"
           }
          ],
          "pie": [
           {
            "automargin": true,
            "type": "pie"
           }
          ],
          "scatter": [
           {
            "fillpattern": {
             "fillmode": "overlay",
             "size": 10,
             "solidity": 0.2
            },
            "type": "scatter"
           }
          ],
          "scatter3d": [
           {
            "line": {
             "colorbar": {
              "outlinewidth": 0,
              "ticks": ""
             }
            },
            "marker": {
             "colorbar": {
              "outlinewidth": 0,
              "ticks": ""
             }
            },
            "type": "scatter3d"
           }
          ],
          "scattercarpet": [
           {
            "marker": {
             "colorbar": {
              "outlinewidth": 0,
              "ticks": ""
             }
            },
            "type": "scattercarpet"
           }
          ],
          "scattergeo": [
           {
            "marker": {
             "colorbar": {
              "outlinewidth": 0,
              "ticks": ""
             }
            },
            "type": "scattergeo"
           }
          ],
          "scattergl": [
           {
            "marker": {
             "colorbar": {
              "outlinewidth": 0,
              "ticks": ""
             }
            },
            "type": "scattergl"
           }
          ],
          "scattermap": [
           {
            "marker": {
             "colorbar": {
              "outlinewidth": 0,
              "ticks": ""
             }
            },
            "type": "scattermap"
           }
          ],
          "scattermapbox": [
           {
            "marker": {
             "colorbar": {
              "outlinewidth": 0,
              "ticks": ""
             }
            },
            "type": "scattermapbox"
           }
          ],
          "scatterpolar": [
           {
            "marker": {
             "colorbar": {
              "outlinewidth": 0,
              "ticks": ""
             }
            },
            "type": "scatterpolar"
           }
          ],
          "scatterpolargl": [
           {
            "marker": {
             "colorbar": {
              "outlinewidth": 0,
              "ticks": ""
             }
            },
            "type": "scatterpolargl"
           }
          ],
          "scatterternary": [
           {
            "marker": {
             "colorbar": {
              "outlinewidth": 0,
              "ticks": ""
             }
            },
            "type": "scatterternary"
           }
          ],
          "surface": [
           {
            "colorbar": {
             "outlinewidth": 0,
             "ticks": ""
            },
            "colorscale": [
             [
              0,
              "#0d0887"
             ],
             [
              0.1111111111111111,
              "#46039f"
             ],
             [
              0.2222222222222222,
              "#7201a8"
             ],
             [
              0.3333333333333333,
              "#9c179e"
             ],
             [
              0.4444444444444444,
              "#bd3786"
             ],
             [
              0.5555555555555556,
              "#d8576b"
             ],
             [
              0.6666666666666666,
              "#ed7953"
             ],
             [
              0.7777777777777778,
              "#fb9f3a"
             ],
             [
              0.8888888888888888,
              "#fdca26"
             ],
             [
              1,
              "#f0f921"
             ]
            ],
            "type": "surface"
           }
          ],
          "table": [
           {
            "cells": {
             "fill": {
              "color": "#EBF0F8"
             },
             "line": {
              "color": "white"
             }
            },
            "header": {
             "fill": {
              "color": "#C8D4E3"
             },
             "line": {
              "color": "white"
             }
            },
            "type": "table"
           }
          ]
         },
         "layout": {
          "annotationdefaults": {
           "arrowcolor": "#2a3f5f",
           "arrowhead": 0,
           "arrowwidth": 1
          },
          "autotypenumbers": "strict",
          "coloraxis": {
           "colorbar": {
            "outlinewidth": 0,
            "ticks": ""
           }
          },
          "colorscale": {
           "diverging": [
            [
             0,
             "#8e0152"
            ],
            [
             0.1,
             "#c51b7d"
            ],
            [
             0.2,
             "#de77ae"
            ],
            [
             0.3,
             "#f1b6da"
            ],
            [
             0.4,
             "#fde0ef"
            ],
            [
             0.5,
             "#f7f7f7"
            ],
            [
             0.6,
             "#e6f5d0"
            ],
            [
             0.7,
             "#b8e186"
            ],
            [
             0.8,
             "#7fbc41"
            ],
            [
             0.9,
             "#4d9221"
            ],
            [
             1,
             "#276419"
            ]
           ],
           "sequential": [
            [
             0,
             "#0d0887"
            ],
            [
             0.1111111111111111,
             "#46039f"
            ],
            [
             0.2222222222222222,
             "#7201a8"
            ],
            [
             0.3333333333333333,
             "#9c179e"
            ],
            [
             0.4444444444444444,
             "#bd3786"
            ],
            [
             0.5555555555555556,
             "#d8576b"
            ],
            [
             0.6666666666666666,
             "#ed7953"
            ],
            [
             0.7777777777777778,
             "#fb9f3a"
            ],
            [
             0.8888888888888888,
             "#fdca26"
            ],
            [
             1,
             "#f0f921"
            ]
           ],
           "sequentialminus": [
            [
             0,
             "#0d0887"
            ],
            [
             0.1111111111111111,
             "#46039f"
            ],
            [
             0.2222222222222222,
             "#7201a8"
            ],
            [
             0.3333333333333333,
             "#9c179e"
            ],
            [
             0.4444444444444444,
             "#bd3786"
            ],
            [
             0.5555555555555556,
             "#d8576b"
            ],
            [
             0.6666666666666666,
             "#ed7953"
            ],
            [
             0.7777777777777778,
             "#fb9f3a"
            ],
            [
             0.8888888888888888,
             "#fdca26"
            ],
            [
             1,
             "#f0f921"
            ]
           ]
          },
          "colorway": [
           "#636efa",
           "#EF553B",
           "#00cc96",
           "#ab63fa",
           "#FFA15A",
           "#19d3f3",
           "#FF6692",
           "#B6E880",
           "#FF97FF",
           "#FECB52"
          ],
          "font": {
           "color": "#2a3f5f"
          },
          "geo": {
           "bgcolor": "white",
           "lakecolor": "white",
           "landcolor": "#E5ECF6",
           "showlakes": true,
           "showland": true,
           "subunitcolor": "white"
          },
          "hoverlabel": {
           "align": "left"
          },
          "hovermode": "closest",
          "mapbox": {
           "style": "light"
          },
          "paper_bgcolor": "white",
          "plot_bgcolor": "#E5ECF6",
          "polar": {
           "angularaxis": {
            "gridcolor": "white",
            "linecolor": "white",
            "ticks": ""
           },
           "bgcolor": "#E5ECF6",
           "radialaxis": {
            "gridcolor": "white",
            "linecolor": "white",
            "ticks": ""
           }
          },
          "scene": {
           "xaxis": {
            "backgroundcolor": "#E5ECF6",
            "gridcolor": "white",
            "gridwidth": 2,
            "linecolor": "white",
            "showbackground": true,
            "ticks": "",
            "zerolinecolor": "white"
           },
           "yaxis": {
            "backgroundcolor": "#E5ECF6",
            "gridcolor": "white",
            "gridwidth": 2,
            "linecolor": "white",
            "showbackground": true,
            "ticks": "",
            "zerolinecolor": "white"
           },
           "zaxis": {
            "backgroundcolor": "#E5ECF6",
            "gridcolor": "white",
            "gridwidth": 2,
            "linecolor": "white",
            "showbackground": true,
            "ticks": "",
            "zerolinecolor": "white"
           }
          },
          "shapedefaults": {
           "line": {
            "color": "#2a3f5f"
           }
          },
          "ternary": {
           "aaxis": {
            "gridcolor": "white",
            "linecolor": "white",
            "ticks": ""
           },
           "baxis": {
            "gridcolor": "white",
            "linecolor": "white",
            "ticks": ""
           },
           "bgcolor": "#E5ECF6",
           "caxis": {
            "gridcolor": "white",
            "linecolor": "white",
            "ticks": ""
           }
          },
          "title": {
           "x": 0.05
          },
          "xaxis": {
           "automargin": true,
           "gridcolor": "white",
           "linecolor": "white",
           "ticks": "",
           "title": {
            "standoff": 15
           },
           "zerolinecolor": "white",
           "zerolinewidth": 2
          },
          "yaxis": {
           "automargin": true,
           "gridcolor": "white",
           "linecolor": "white",
           "ticks": "",
           "title": {
            "standoff": 15
           },
           "zerolinecolor": "white",
           "zerolinewidth": 2
          }
         }
        },
        "title": {
         "text": "CTR by Position: All Policy × Dataset Combinations"
        },
        "xaxis": {
         "dtick": 1,
         "tickmode": "linear",
         "ticktext": [
          "Position 1<br>(Top)",
          "Position 2<br>(Middle)",
          "Position 3<br>(Bottom)"
         ],
         "tickvals": [
          1,
          2,
          3
         ],
         "title": {
          "text": "Position"
         }
        },
        "yaxis": {
         "tickformat": ".2%",
         "title": {
          "text": "Click-Through Rate"
         }
        }
       }
      }
     },
     "metadata": {},
     "output_type": "display_data"
    }
   ],
   "source": [
    "# Determine most favorable position\n",
    "if 'position_combined' in globals():\n",
    "    print(\"\\n\" + \"=\"*70)\n",
    "    print(\"POSITION RANKING (by Avg CTR across policies)\")\n",
    "    print(\"=\"*70)\n",
    "    \n",
    "    avg_ctr_by_position = position_combined.groupby('position').agg({\n",
    "        'ctr': 'mean',\n",
    "        'clicks': 'sum',\n",
    "        'impressions': 'sum'\n",
    "    }).reset_index().sort_values('ctr', ascending=False)\n",
    "    \n",
    "    avg_ctr_by_position.columns = ['Position', 'Avg CTR', 'Total Clicks', 'Total Impressions']\n",
    "    \n",
    "    # Format for display\n",
    "    display_df = avg_ctr_by_position.copy()\n",
    "    display_df.insert(0, 'Rank', range(1, len(display_df) + 1))\n",
    "    display_df['Avg CTR'] = display_df['Avg CTR'].apply(lambda x: f\"{x:.6f} ({x*100:.2f}%)\")\n",
    "    display_df['Total Clicks'] = display_df['Total Clicks'].apply(lambda x: f\"{x:,}\")\n",
    "    display_df['Total Impressions'] = display_df['Total Impressions'].apply(lambda x: f\"{x:,}\")\n",
    "    display(display_df)\n",
    "    \n",
    "    # Best position summary\n",
    "    best = avg_ctr_by_position.iloc[0]\n",
    "    print(f\"\\n🏆 MOST FAVORABLE POSITION: Position {int(best['Position'])} (Middle Slot)\")\n",
    "    print(f\"   {best['Avg CTR']:.6f} ({best['Avg CTR']*100:.2f}%)\")\n",
    "    \n",
    "    # Line plot: CTR by position for all policy × dataset combinations\n",
    "    fig = go.Figure()\n",
    "    colors = {\n",
    "        'Random (Sample)': '#FF6B6B',\n",
    "        'BTS (Sample)': '#4ECDC4',\n",
    "        'Random (Full)': '#FFE66D',\n",
    "        'BTS (Full)': '#95E1D3'\n",
    "    }\n",
    "    \n",
    "    for policy_dataset in position_combined['policy_dataset'].unique():\n",
    "        data = position_combined[position_combined['policy_dataset'] == policy_dataset].sort_values('position')\n",
    "        fig.add_trace(go.Scatter(\n",
    "            x=data['position'],\n",
    "            y=data['ctr'],\n",
    "            name=policy_dataset,\n",
    "            mode='lines+markers',\n",
    "            marker=dict(size=10, color=colors.get(policy_dataset, 'gray')),\n",
    "            line=dict(width=2)\n",
    "        ))\n",
    "    \n",
    "    fig.update_layout(\n",
    "        title='CTR by Position: All Policy × Dataset Combinations',\n",
    "        xaxis_title='Position',\n",
    "        yaxis_title='Click-Through Rate',\n",
    "        yaxis_tickformat='.2%',\n",
    "        height=500,\n",
    "        legend=dict(\n",
    "            orientation=\"v\", yanchor=\"top\", y=0.99, xanchor=\"left\", x=1.02,\n",
    "            bgcolor=\"white\", bordercolor=\"gray\", borderwidth=1\n",
    "        ),\n",
    "        hovermode='x unified'\n",
    "    )\n",
    "    \n",
    "    fig.update_xaxes(\n",
    "        tickmode='linear', dtick=1,\n",
    "        ticktext=['Position 1<br>(Top)', 'Position 2<br>(Middle)', 'Position 3<br>(Bottom)'],\n",
    "        tickvals=[1, 2, 3]\n",
    "    )\n",
    "    \n",
    "    fig.show()\n",
    "else:\n",
    "    print(\"⚠️  Position data not available.\")"
   ]
  },
  {
   "cell_type": "markdown",
   "id": "ef51145d",
   "metadata": {},
   "source": [
    "## Summary\n",
    "\n",
    "**Simplifications Made:**\n",
    "- Consolidated duplicate per-action visualizations into single comprehensive chart\n",
    "- Removed redundant policy comparison bar charts (kept line plots which are more informative)\n",
    "- Streamlined position analysis by removing verbose breakdowns\n",
    "- Combined related outputs to reduce cell count\n",
    "- Removed empty cells\n",
    "\n",
    "**All Core Functionality Retained:**\n",
    "✅ Data loading from dataloader and CSV  \n",
    "✅ CTR calculation (overall, per-action, per-position)  \n",
    "✅ Lift computation and comparison  \n",
    "✅ Validation against OBD paper statistics  \n",
    "✅ CSV artifact generation  \n",
    "✅ Interactive visualizations (Plotly)  \n",
    "✅ Comprehensive ranking and comparison tables  \n",
    "\n",
    "**Notebook Structure:**\n",
    "1-4: Core analysis (dataloader, CSV, comparison, validation)  \n",
    "5: CSV artifact generation  \n",
    "6: Per-action CTR analysis  \n",
    "7: Per-position CTR analysis  \n",
    "8: Policy and position rankings"
   ]
  }
 ],
 "metadata": {
  "kernelspec": {
   "display_name": "Python 3",
   "language": "python",
   "name": "python3"
  },
  "language_info": {
   "codemirror_mode": {
    "name": "ipython",
    "version": 3
   },
   "file_extension": ".py",
   "mimetype": "text/x-python",
   "name": "python",
   "nbconvert_exporter": "python",
   "pygments_lexer": "ipython3",
   "version": "3.10.18"
  }
 },
 "nbformat": 4,
 "nbformat_minor": 5
}
