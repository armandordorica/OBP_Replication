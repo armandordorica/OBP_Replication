{
 "cells": [
  {
   "cell_type": "code",
   "execution_count": 23,
   "id": "512d406b",
   "metadata": {},
   "outputs": [],
   "source": [
    "import pandas as pd\n",
    "from obp.dataset import OpenBanditDataset\n",
    "\n",
    "pd.set_option('display.max_rows', 500)\n",
    "pd.set_option('display.max_columns', 500)\n",
    "pd.set_option('display.width', 1000)"
   ]
  },
  {
   "cell_type": "code",
   "execution_count": null,
   "id": "cceddd01",
   "metadata": {},
   "outputs": [
    {
     "name": "stderr",
     "output_type": "stream",
     "text": [
      "INFO:obp.dataset.real:When `data_path` is not given, this class downloads the small-sized version of Open Bandit Dataset.\n"
     ]
    },
    {
     "data": {
      "text/html": [
       "<div>\n",
       "<style scoped>\n",
       "    .dataframe tbody tr th:only-of-type {\n",
       "        vertical-align: middle;\n",
       "    }\n",
       "\n",
       "    .dataframe tbody tr th {\n",
       "        vertical-align: top;\n",
       "    }\n",
       "\n",
       "    .dataframe thead th {\n",
       "        text-align: right;\n",
       "    }\n",
       "</style>\n",
       "<table border=\"1\" class=\"dataframe\">\n",
       "  <thead>\n",
       "    <tr style=\"text-align: right;\">\n",
       "      <th></th>\n",
       "      <th>round_id</th>\n",
       "      <th>action</th>\n",
       "      <th>position</th>\n",
       "      <th>reward</th>\n",
       "      <th>pscore</th>\n",
       "    </tr>\n",
       "  </thead>\n",
       "  <tbody>\n",
       "    <tr>\n",
       "      <th>0</th>\n",
       "      <td>0</td>\n",
       "      <td>14</td>\n",
       "      <td>2</td>\n",
       "      <td>0</td>\n",
       "      <td>0.0125</td>\n",
       "    </tr>\n",
       "    <tr>\n",
       "      <th>1</th>\n",
       "      <td>1</td>\n",
       "      <td>14</td>\n",
       "      <td>2</td>\n",
       "      <td>0</td>\n",
       "      <td>0.0125</td>\n",
       "    </tr>\n",
       "    <tr>\n",
       "      <th>2</th>\n",
       "      <td>2</td>\n",
       "      <td>27</td>\n",
       "      <td>2</td>\n",
       "      <td>0</td>\n",
       "      <td>0.0125</td>\n",
       "    </tr>\n",
       "    <tr>\n",
       "      <th>3</th>\n",
       "      <td>3</td>\n",
       "      <td>48</td>\n",
       "      <td>1</td>\n",
       "      <td>0</td>\n",
       "      <td>0.0125</td>\n",
       "    </tr>\n",
       "    <tr>\n",
       "      <th>4</th>\n",
       "      <td>4</td>\n",
       "      <td>36</td>\n",
       "      <td>1</td>\n",
       "      <td>0</td>\n",
       "      <td>0.0125</td>\n",
       "    </tr>\n",
       "  </tbody>\n",
       "</table>\n",
       "</div>"
      ],
      "text/plain": [
       "   round_id  action  position  reward  pscore\n",
       "0         0      14         2       0  0.0125\n",
       "1         1      14         2       0  0.0125\n",
       "2         2      27         2       0  0.0125\n",
       "3         3      48         1       0  0.0125\n",
       "4         4      36         1       0  0.0125"
      ]
     },
     "execution_count": 4,
     "metadata": {},
     "output_type": "execute_result"
    }
   ],
   "source": [
    "\n",
    "# pick a campaign + behavior policy\n",
    "d = OpenBanditDataset(behavior_policy=\"random\", campaign=\"all\")\n",
    "bf = d.obtain_batch_bandit_feedback()\n",
    "\n",
    "# Start with scalar arrays (1D)\n",
    "df = pd.DataFrame({\n",
    "    \"round_id\": range(bf[\"n_rounds\"]),\n",
    "    \"action\": bf[\"action\"],       # which item was chosen\n",
    "    \"position\": bf[\"position\"],   # slot index (0,1,2)\n",
    "    \"reward\": bf[\"reward\"],       # click (0/1)\n",
    "    \"pscore\": bf[\"pscore\"],       # logging policy prob\n",
    "})\n",
    "\n",
    "df.head()"
   ]
  },
  {
   "cell_type": "code",
   "execution_count": null,
   "id": "0aced068",
   "metadata": {},
   "outputs": [
    {
     "name": "stderr",
     "output_type": "stream",
     "text": [
      "INFO:obp.dataset.real:When `data_path` is not given, this class downloads the small-sized version of Open Bandit Dataset.\n"
     ]
    },
    {
     "name": "stdout",
     "output_type": "stream",
     "text": [
      "   round_id  action  position  reward  pscore\n",
      "0         0      14         2       0  0.0125\n",
      "1         1      14         2       0  0.0125\n",
      "2         2      27         2       0  0.0125\n",
      "3         3      48         1       0  0.0125\n",
      "4         4      36         1       0  0.0125\n",
      "     f0    f1   f2        f3  action\n",
      "0   5.0  10.0  4.0 -0.499172       0\n",
      "1   1.0  10.0  4.0 -0.543775       1\n",
      "2   1.0  12.0  1.0  0.972752       2\n",
      "3   2.0  15.0  6.0 -0.521473       3\n",
      "4  10.0   1.0  1.0  1.909430       4\n"
     ]
    }
   ],
   "source": []
  },
  {
   "cell_type": "code",
   "execution_count": 13,
   "id": "80881a85",
   "metadata": {},
   "outputs": [
    {
     "data": {
      "text/plain": [
       "'/Users/armandoordoricadelatorre/Documents/U of T/PhD/PhD Research/OBP_Replication'"
      ]
     },
     "execution_count": 13,
     "metadata": {},
     "output_type": "execute_result"
    }
   ],
   "source": [
    "import os\n",
    "os.getcwd()"
   ]
  },
  {
   "cell_type": "code",
   "execution_count": 16,
   "id": "d526e037",
   "metadata": {},
   "outputs": [
    {
     "name": "stdout",
     "output_type": "stream",
     "text": [
      "\u001b[34m.\u001b[m\u001b[m/                \u001b[34m.vscode\u001b[m\u001b[m/          eda.ipynb         \u001b[34mvenv\u001b[m\u001b[m/\n",
      "\u001b[34m..\u001b[m\u001b[m/               Miniconda3.sh     obd.duckdb        \u001b[34mzr-obp\u001b[m\u001b[m/\n",
      "\u001b[34m.git\u001b[m\u001b[m/             README.md         requirements.txt\n",
      "\n",
      "./.git:\n",
      "\u001b[34m.\u001b[m\u001b[m/              HEAD            \u001b[34mhooks\u001b[m\u001b[m/          \u001b[34mlogs\u001b[m\u001b[m/           \u001b[34mrefs\u001b[m\u001b[m/\n",
      "\u001b[34m..\u001b[m\u001b[m/             config          index           \u001b[34mobjects\u001b[m\u001b[m/\n",
      "COMMIT_EDITMSG  description     \u001b[34minfo\u001b[m\u001b[m/           packed-refs\n",
      "\n",
      "./.git/hooks:\n",
      "\u001b[34m.\u001b[m\u001b[m/                         \u001b[31mpre-merge-commit.sample\u001b[m\u001b[m*\n",
      "\u001b[34m..\u001b[m\u001b[m/                        \u001b[31mpre-push.sample\u001b[m\u001b[m*\n",
      "\u001b[31mapplypatch-msg.sample\u001b[m\u001b[m*     \u001b[31mpre-rebase.sample\u001b[m\u001b[m*\n",
      "\u001b[31mcommit-msg.sample\u001b[m\u001b[m*         \u001b[31mpre-receive.sample\u001b[m\u001b[m*\n",
      "\u001b[31mfsmonitor-watchman.sample\u001b[m\u001b[m* \u001b[31mprepare-commit-msg.sample\u001b[m\u001b[m*\n",
      "\u001b[31mpost-update.sample\u001b[m\u001b[m*        \u001b[31mpush-to-checkout.sample\u001b[m\u001b[m*\n",
      "\u001b[31mpre-applypatch.sample\u001b[m\u001b[m*     \u001b[31mupdate.sample\u001b[m\u001b[m*\n",
      "\u001b[31mpre-commit.sample\u001b[m\u001b[m*\n",
      "\n",
      "./.git/info:\n",
      "\u001b[34m.\u001b[m\u001b[m/       \u001b[34m..\u001b[m\u001b[m/      exclude\n",
      "\n",
      "./.git/logs:\n",
      "\u001b[34m.\u001b[m\u001b[m/    \u001b[34m..\u001b[m\u001b[m/   HEAD  \u001b[34mrefs\u001b[m\u001b[m/\n",
      "\n",
      "./.git/logs/refs:\n",
      "\u001b[34m.\u001b[m\u001b[m/       \u001b[34m..\u001b[m\u001b[m/      \u001b[34mheads\u001b[m\u001b[m/   \u001b[34mremotes\u001b[m\u001b[m/\n",
      "\n",
      "./.git/logs/refs/heads:\n",
      "\u001b[34m.\u001b[m\u001b[m/    \u001b[34m..\u001b[m\u001b[m/   main\n",
      "\n",
      "./.git/logs/refs/remotes:\n",
      "\u001b[34m.\u001b[m\u001b[m/      \u001b[34m..\u001b[m\u001b[m/     \u001b[34morigin\u001b[m\u001b[m/\n",
      "\n",
      "./.git/logs/refs/remotes/origin:\n",
      "\u001b[34m.\u001b[m\u001b[m/    \u001b[34m..\u001b[m\u001b[m/   HEAD  main\n",
      "\n",
      "./.git/objects:\n",
      "\u001b[34m.\u001b[m\u001b[m/    \u001b[34m..\u001b[m\u001b[m/   \u001b[34m32\u001b[m\u001b[m/   \u001b[34m6d\u001b[m\u001b[m/   \u001b[34m80\u001b[m\u001b[m/   \u001b[34m91\u001b[m\u001b[m/   \u001b[34m93\u001b[m\u001b[m/   \u001b[34mb8\u001b[m\u001b[m/   \u001b[34mbf\u001b[m\u001b[m/   \u001b[34md8\u001b[m\u001b[m/   \u001b[34mdd\u001b[m\u001b[m/   \u001b[34minfo\u001b[m\u001b[m/ \u001b[34mpack\u001b[m\u001b[m/\n",
      "\n",
      "./.git/objects/32:\n",
      "\u001b[34m.\u001b[m\u001b[m/                                      c6d163df7a22de59170db955194a7febea06b6\n",
      "\u001b[34m..\u001b[m\u001b[m/\n",
      "\n",
      "./.git/objects/6d:\n",
      "\u001b[34m.\u001b[m\u001b[m/                                      be3236deb2d991bace4cd0189e4b99b47cc8f3\n",
      "\u001b[34m..\u001b[m\u001b[m/\n",
      "\n",
      "./.git/objects/80:\n",
      "\u001b[34m.\u001b[m\u001b[m/                                      04d63ea936ccf82f6ee301c1726ebfce84dcc4\n",
      "\u001b[34m..\u001b[m\u001b[m/\n",
      "\n",
      "./.git/objects/91:\n",
      "\u001b[34m.\u001b[m\u001b[m/                                      07db6246501ad72fda3ad14c04a9d5630a3aeb\n",
      "\u001b[34m..\u001b[m\u001b[m/\n",
      "\n",
      "./.git/objects/93:\n",
      "\u001b[34m.\u001b[m\u001b[m/                                      cd601c2d644f07d86ff5c7c49751711b403fde\n",
      "\u001b[34m..\u001b[m\u001b[m/\n",
      "\n",
      "./.git/objects/b8:\n",
      "\u001b[34m.\u001b[m\u001b[m/                                      db5ad48b56635b35bb39d21cb857d45bcc567f\n",
      "\u001b[34m..\u001b[m\u001b[m/\n",
      "\n",
      "./.git/objects/bf:\n",
      "\u001b[34m.\u001b[m\u001b[m/                                      cd5ba00752167c34c93dfdf7c98d9e55448079\n",
      "\u001b[34m..\u001b[m\u001b[m/\n",
      "\n",
      "./.git/objects/d8:\n",
      "\u001b[34m.\u001b[m\u001b[m/                                      6da04825d08834090a50da752e1537e22082b5\n",
      "\u001b[34m..\u001b[m\u001b[m/\n",
      "\n",
      "./.git/objects/dd:\n",
      "\u001b[34m.\u001b[m\u001b[m/                                      9ee1dfe3d1ea2184b369e00f3ce9bb121fee1e\n",
      "\u001b[34m..\u001b[m\u001b[m/\n",
      "\n",
      "./.git/objects/info:\n",
      "\u001b[34m.\u001b[m\u001b[m/  \u001b[34m..\u001b[m\u001b[m/\n",
      "\n",
      "./.git/objects/pack:\n",
      "\u001b[34m.\u001b[m\u001b[m/\n",
      "\u001b[34m..\u001b[m\u001b[m/\n",
      "pack-1b72809a1d591287d185c7ffd86a05dd868c94a5.idx\n",
      "pack-1b72809a1d591287d185c7ffd86a05dd868c94a5.pack\n",
      "\n",
      "./.git/refs:\n",
      "\u001b[34m.\u001b[m\u001b[m/       \u001b[34m..\u001b[m\u001b[m/      \u001b[34mheads\u001b[m\u001b[m/   \u001b[34mremotes\u001b[m\u001b[m/ \u001b[34mtags\u001b[m\u001b[m/\n",
      "\n",
      "./.git/refs/heads:\n",
      "\u001b[34m.\u001b[m\u001b[m/    \u001b[34m..\u001b[m\u001b[m/   main\n",
      "\n",
      "./.git/refs/remotes:\n",
      "\u001b[34m.\u001b[m\u001b[m/      \u001b[34m..\u001b[m\u001b[m/     \u001b[34morigin\u001b[m\u001b[m/\n",
      "\n",
      "./.git/refs/remotes/origin:\n",
      "\u001b[34m.\u001b[m\u001b[m/    \u001b[34m..\u001b[m\u001b[m/   HEAD  main\n",
      "\n",
      "./.git/refs/tags:\n",
      "\u001b[34m.\u001b[m\u001b[m/  \u001b[34m..\u001b[m\u001b[m/\n",
      "\n",
      "./.vscode:\n",
      "\u001b[34m.\u001b[m\u001b[m/             \u001b[34m..\u001b[m\u001b[m/            settings.json\n",
      "\n",
      "./venv:\n",
      "\u001b[34m.\u001b[m\u001b[m/          \u001b[34m..\u001b[m\u001b[m/         \u001b[34mbin\u001b[m\u001b[m/        \u001b[34minclude\u001b[m\u001b[m/    \u001b[34mlib\u001b[m\u001b[m/        pyvenv.cfg\n",
      "\n",
      "./venv/bin:\n",
      "\u001b[34m.\u001b[m\u001b[m/             activate       \u001b[31mpip\u001b[m\u001b[m*           \u001b[35mpython\u001b[m\u001b[m@\n",
      "\u001b[34m..\u001b[m\u001b[m/            activate.csh   \u001b[31mpip3\u001b[m\u001b[m*          \u001b[35mpython3\u001b[m\u001b[m@\n",
      "Activate.ps1   activate.fish  \u001b[31mpip3.9\u001b[m\u001b[m*        \u001b[35mpython3.9\u001b[m\u001b[m@\n",
      "\n",
      "./venv/include:\n",
      "\u001b[34m.\u001b[m\u001b[m/  \u001b[34m..\u001b[m\u001b[m/\n",
      "\n",
      "./venv/lib:\n",
      "\u001b[34m.\u001b[m\u001b[m/         \u001b[34m..\u001b[m\u001b[m/        \u001b[34mpython3.9\u001b[m\u001b[m/\n",
      "\n",
      "./venv/lib/python3.9:\n",
      "\u001b[34m.\u001b[m\u001b[m/             \u001b[34m..\u001b[m\u001b[m/            \u001b[34msite-packages\u001b[m\u001b[m/\n",
      "\n",
      "./venv/lib/python3.9/site-packages:\n",
      "\u001b[34m.\u001b[m\u001b[m/                           \u001b[34mpip-21.2.4.dist-info\u001b[m\u001b[m/\n",
      "\u001b[34m..\u001b[m\u001b[m/                          \u001b[34mpkg_resources\u001b[m\u001b[m/\n",
      "\u001b[34m_distutils_hack\u001b[m\u001b[m/             \u001b[34msetuptools\u001b[m\u001b[m/\n",
      "distutils-precedence.pth     \u001b[34msetuptools-58.0.4.dist-info\u001b[m\u001b[m/\n",
      "\u001b[34mpip\u001b[m\u001b[m/\n",
      "\n",
      "./venv/lib/python3.9/site-packages/_distutils_hack:\n",
      "\u001b[34m.\u001b[m\u001b[m/           \u001b[34m..\u001b[m\u001b[m/          __init__.py  override.py\n",
      "\n",
      "./venv/lib/python3.9/site-packages/pip:\n",
      "\u001b[34m.\u001b[m\u001b[m/           __init__.py  \u001b[34m_internal\u001b[m\u001b[m/   py.typed\n",
      "\u001b[34m..\u001b[m\u001b[m/          __main__.py  \u001b[34m_vendor\u001b[m\u001b[m/\n",
      "\n",
      "./venv/lib/python3.9/site-packages/pip/_internal:\n",
      "\u001b[34m.\u001b[m\u001b[m/                      \u001b[34mdistributions\u001b[m\u001b[m/          \u001b[34moperations\u001b[m\u001b[m/\n",
      "\u001b[34m..\u001b[m\u001b[m/                     exceptions.py           pyproject.py\n",
      "__init__.py             \u001b[34mindex\u001b[m\u001b[m/                  \u001b[34mreq\u001b[m\u001b[m/\n",
      "build_env.py            \u001b[34mlocations\u001b[m\u001b[m/              \u001b[34mresolution\u001b[m\u001b[m/\n",
      "cache.py                main.py                 self_outdated_check.py\n",
      "\u001b[34mcli\u001b[m\u001b[m/                    \u001b[34mmetadata\u001b[m\u001b[m/               \u001b[34mutils\u001b[m\u001b[m/\n",
      "\u001b[34mcommands\u001b[m\u001b[m/               \u001b[34mmodels\u001b[m\u001b[m/                 \u001b[34mvcs\u001b[m\u001b[m/\n",
      "configuration.py        \u001b[34mnetwork\u001b[m\u001b[m/                wheel_builder.py\n",
      "\n",
      "./venv/lib/python3.9/site-packages/pip/_internal/cli:\n",
      "\u001b[34m.\u001b[m\u001b[m/                  base_command.py     main_parser.py      spinners.py\n",
      "\u001b[34m..\u001b[m\u001b[m/                 cmdoptions.py       parser.py           status_codes.py\n",
      "__init__.py         command_context.py  progress_bars.py\n",
      "autocompletion.py   main.py             req_command.py\n",
      "\n",
      "./venv/lib/python3.9/site-packages/pip/_internal/commands:\n",
      "\u001b[34m.\u001b[m\u001b[m/                completion.py     hash.py           search.py\n",
      "\u001b[34m..\u001b[m\u001b[m/               configuration.py  help.py           show.py\n",
      "__init__.py       debug.py          index.py          uninstall.py\n",
      "cache.py          download.py       install.py        wheel.py\n",
      "check.py          freeze.py         list.py\n",
      "\n",
      "./venv/lib/python3.9/site-packages/pip/_internal/distributions:\n",
      "\u001b[34m.\u001b[m\u001b[m/            __init__.py   installed.py  wheel.py\n",
      "\u001b[34m..\u001b[m\u001b[m/           base.py       sdist.py\n",
      "\n",
      "./venv/lib/python3.9/site-packages/pip/_internal/index:\n",
      "\u001b[34m.\u001b[m\u001b[m/                 __init__.py        package_finder.py\n",
      "\u001b[34m..\u001b[m\u001b[m/                collector.py       sources.py\n",
      "\n",
      "./venv/lib/python3.9/site-packages/pip/_internal/locations:\n",
      "\u001b[34m.\u001b[m\u001b[m/             __init__.py    _sysconfig.py\n",
      "\u001b[34m..\u001b[m\u001b[m/            _distutils.py  base.py\n",
      "\n",
      "./venv/lib/python3.9/site-packages/pip/_internal/metadata:\n",
      "\u001b[34m.\u001b[m\u001b[m/                __init__.py       pkg_resources.py\n",
      "\u001b[34m..\u001b[m\u001b[m/               base.py\n",
      "\n",
      "./venv/lib/python3.9/site-packages/pip/_internal/models:\n",
      "\u001b[34m.\u001b[m\u001b[m/                  direct_url.py       scheme.py           wheel.py\n",
      "\u001b[34m..\u001b[m\u001b[m/                 format_control.py   search_scope.py\n",
      "__init__.py         index.py            selection_prefs.py\n",
      "candidate.py        link.py             target_python.py\n",
      "\n",
      "./venv/lib/python3.9/site-packages/pip/_internal/network:\n",
      "\u001b[34m.\u001b[m\u001b[m/             __init__.py    cache.py       lazy_wheel.py  utils.py\n",
      "\u001b[34m..\u001b[m\u001b[m/            auth.py        download.py    session.py     xmlrpc.py\n",
      "\n",
      "./venv/lib/python3.9/site-packages/pip/_internal/operations:\n",
      "\u001b[34m.\u001b[m\u001b[m/           __init__.py  check.py     \u001b[34minstall\u001b[m\u001b[m/\n",
      "\u001b[34m..\u001b[m\u001b[m/          \u001b[34mbuild\u001b[m\u001b[m/       freeze.py    prepare.py\n",
      "\n",
      "./venv/lib/python3.9/site-packages/pip/_internal/operations/build:\n",
      "\u001b[34m.\u001b[m\u001b[m/                  __init__.py         metadata_legacy.py  wheel_legacy.py\n",
      "\u001b[34m..\u001b[m\u001b[m/                 metadata.py         wheel.py\n",
      "\n",
      "./venv/lib/python3.9/site-packages/pip/_internal/operations/install:\n",
      "\u001b[34m.\u001b[m\u001b[m/                  __init__.py         legacy.py\n",
      "\u001b[34m..\u001b[m\u001b[m/                 editable_legacy.py  wheel.py\n",
      "\n",
      "./venv/lib/python3.9/site-packages/pip/_internal/req:\n",
      "\u001b[34m.\u001b[m\u001b[m/                constructors.py   req_set.py\n",
      "\u001b[34m..\u001b[m\u001b[m/               req_file.py       req_tracker.py\n",
      "__init__.py       req_install.py    req_uninstall.py\n",
      "\n",
      "./venv/lib/python3.9/site-packages/pip/_internal/resolution:\n",
      "\u001b[34m.\u001b[m\u001b[m/           \u001b[34m..\u001b[m\u001b[m/          __init__.py  base.py      \u001b[34mlegacy\u001b[m\u001b[m/      \u001b[34mresolvelib\u001b[m\u001b[m/\n",
      "\n",
      "./venv/lib/python3.9/site-packages/pip/_internal/resolution/legacy:\n",
      "\u001b[34m.\u001b[m\u001b[m/           \u001b[34m..\u001b[m\u001b[m/          __init__.py  resolver.py\n",
      "\n",
      "./venv/lib/python3.9/site-packages/pip/_internal/resolution/resolvelib:\n",
      "\u001b[34m.\u001b[m\u001b[m/                   candidates.py        reporter.py\n",
      "\u001b[34m..\u001b[m\u001b[m/                  factory.py           requirements.py\n",
      "__init__.py          found_candidates.py  resolver.py\n",
      "base.py              provider.py\n",
      "\n",
      "./venv/lib/python3.9/site-packages/pip/_internal/utils:\n",
      "\u001b[34m.\u001b[m\u001b[m/                         hashes.py\n",
      "\u001b[34m..\u001b[m\u001b[m/                        inject_securetransport.py\n",
      "__init__.py                logging.py\n",
      "_log.py                    misc.py\n",
      "appdirs.py                 models.py\n",
      "compat.py                  packaging.py\n",
      "compatibility_tags.py      parallel.py\n",
      "datetime.py                pkg_resources.py\n",
      "deprecation.py             setuptools_build.py\n",
      "direct_url_helpers.py      subprocess.py\n",
      "distutils_args.py          temp_dir.py\n",
      "encoding.py                unpacking.py\n",
      "entrypoints.py             urls.py\n",
      "filesystem.py              virtualenv.py\n",
      "filetypes.py               wheel.py\n",
      "glibc.py\n",
      "\n",
      "./venv/lib/python3.9/site-packages/pip/_internal/vcs:\n",
      "\u001b[34m.\u001b[m\u001b[m/                 __init__.py        git.py             subversion.py\n",
      "\u001b[34m..\u001b[m\u001b[m/                bazaar.py          mercurial.py       versioncontrol.py\n",
      "\n",
      "./venv/lib/python3.9/site-packages/pip/_vendor:\n",
      "\u001b[34m.\u001b[m\u001b[m/             \u001b[34mchardet\u001b[m\u001b[m/       \u001b[34mmsgpack\u001b[m\u001b[m/       \u001b[34mrequests\u001b[m\u001b[m/      vendor.txt\n",
      "\u001b[34m..\u001b[m\u001b[m/            \u001b[34mcolorama\u001b[m\u001b[m/      \u001b[34mpackaging\u001b[m\u001b[m/     \u001b[34mresolvelib\u001b[m\u001b[m/    \u001b[34mwebencodings\u001b[m\u001b[m/\n",
      "__init__.py    \u001b[34mdistlib\u001b[m\u001b[m/       \u001b[34mpep517\u001b[m\u001b[m/        six.py\n",
      "appdirs.py     distro.py      \u001b[34mpkg_resources\u001b[m\u001b[m/ \u001b[34mtenacity\u001b[m\u001b[m/\n",
      "\u001b[34mcachecontrol\u001b[m\u001b[m/  \u001b[34mhtml5lib\u001b[m\u001b[m/      \u001b[34mprogress\u001b[m\u001b[m/      \u001b[34mtomli\u001b[m\u001b[m/\n",
      "\u001b[34mcertifi\u001b[m\u001b[m/       \u001b[34midna\u001b[m\u001b[m/          pyparsing.py   \u001b[34murllib3\u001b[m\u001b[m/\n",
      "\n",
      "./venv/lib/python3.9/site-packages/pip/_vendor/cachecontrol:\n",
      "\u001b[34m.\u001b[m\u001b[m/              _cmd.py         \u001b[34mcaches\u001b[m\u001b[m/         filewrapper.py  wrapper.py\n",
      "\u001b[34m..\u001b[m\u001b[m/             adapter.py      compat.py       heuristics.py\n",
      "__init__.py     cache.py        controller.py   serialize.py\n",
      "\n",
      "./venv/lib/python3.9/site-packages/pip/_vendor/cachecontrol/caches:\n",
      "\u001b[34m.\u001b[m\u001b[m/              \u001b[34m..\u001b[m\u001b[m/             __init__.py     file_cache.py   redis_cache.py\n",
      "\n",
      "./venv/lib/python3.9/site-packages/pip/_vendor/certifi:\n",
      "\u001b[34m.\u001b[m\u001b[m/           \u001b[34m..\u001b[m\u001b[m/          __init__.py  __main__.py  cacert.pem   core.py\n",
      "\n",
      "./venv/lib/python3.9/site-packages/pip/_vendor/chardet:\n",
      "\u001b[34m.\u001b[m\u001b[m/                     eucjpprober.py         langthaimodel.py\n",
      "\u001b[34m..\u001b[m\u001b[m/                    euckrfreq.py           langturkishmodel.py\n",
      "__init__.py            euckrprober.py         latin1prober.py\n",
      "big5freq.py            euctwfreq.py           mbcharsetprober.py\n",
      "big5prober.py          euctwprober.py         mbcsgroupprober.py\n",
      "chardistribution.py    gb2312freq.py          mbcssm.py\n",
      "charsetgroupprober.py  gb2312prober.py        \u001b[34mmetadata\u001b[m\u001b[m/\n",
      "charsetprober.py       hebrewprober.py        sbcharsetprober.py\n",
      "\u001b[34mcli\u001b[m\u001b[m/                   jisfreq.py             sbcsgroupprober.py\n",
      "codingstatemachine.py  jpcntx.py              sjisprober.py\n",
      "compat.py              langbulgarianmodel.py  universaldetector.py\n",
      "cp949prober.py         langgreekmodel.py      utf8prober.py\n",
      "enums.py               langhebrewmodel.py     version.py\n",
      "escprober.py           langhungarianmodel.py\n",
      "escsm.py               langrussianmodel.py\n",
      "\n",
      "./venv/lib/python3.9/site-packages/pip/_vendor/chardet/cli:\n",
      "\u001b[34m.\u001b[m\u001b[m/             \u001b[34m..\u001b[m\u001b[m/            __init__.py    chardetect.py\n",
      "\n",
      "./venv/lib/python3.9/site-packages/pip/_vendor/chardet/metadata:\n",
      "\u001b[34m.\u001b[m\u001b[m/            \u001b[34m..\u001b[m\u001b[m/           __init__.py   languages.py\n",
      "\n",
      "./venv/lib/python3.9/site-packages/pip/_vendor/colorama:\n",
      "\u001b[34m.\u001b[m\u001b[m/              __init__.py     ansitowin32.py  win32.py\n",
      "\u001b[34m..\u001b[m\u001b[m/             ansi.py         initialise.py   winterm.py\n",
      "\n",
      "./venv/lib/python3.9/site-packages/pip/_vendor/distlib:\n",
      "\u001b[34m.\u001b[m\u001b[m/            compat.py     manifest.py   scripts.py    version.py\n",
      "\u001b[34m..\u001b[m\u001b[m/           database.py   markers.py    t32.exe       w32.exe\n",
      "__init__.py   index.py      metadata.py   t64.exe       w64.exe\n",
      "\u001b[34m_backport\u001b[m\u001b[m/    locators.py   resources.py  util.py       wheel.py\n",
      "\n",
      "./venv/lib/python3.9/site-packages/pip/_vendor/distlib/_backport:\n",
      "\u001b[34m.\u001b[m\u001b[m/             __init__.py    shutil.py      sysconfig.py\n",
      "\u001b[34m..\u001b[m\u001b[m/            misc.py        sysconfig.cfg  tarfile.py\n",
      "\n",
      "./venv/lib/python3.9/site-packages/pip/_vendor/html5lib:\n",
      "\u001b[34m.\u001b[m\u001b[m/               _inputstream.py  constants.py     \u001b[34mtreeadapters\u001b[m\u001b[m/\n",
      "\u001b[34m..\u001b[m\u001b[m/              _tokenizer.py    \u001b[34mfilters\u001b[m\u001b[m/         \u001b[34mtreebuilders\u001b[m\u001b[m/\n",
      "__init__.py      \u001b[34m_trie\u001b[m\u001b[m/           html5parser.py   \u001b[34mtreewalkers\u001b[m\u001b[m/\n",
      "_ihatexml.py     _utils.py        serializer.py\n",
      "\n",
      "./venv/lib/python3.9/site-packages/pip/_vendor/html5lib/_trie:\n",
      "\u001b[34m.\u001b[m\u001b[m/           \u001b[34m..\u001b[m\u001b[m/          __init__.py  _base.py     py.py\n",
      "\n",
      "./venv/lib/python3.9/site-packages/pip/_vendor/html5lib/filters:\n",
      "\u001b[34m.\u001b[m\u001b[m/                         inject_meta_charset.py\n",
      "\u001b[34m..\u001b[m\u001b[m/                        lint.py\n",
      "__init__.py                optionaltags.py\n",
      "alphabeticalattributes.py  sanitizer.py\n",
      "base.py                    whitespace.py\n",
      "\n",
      "./venv/lib/python3.9/site-packages/pip/_vendor/html5lib/treeadapters:\n",
      "\u001b[34m.\u001b[m\u001b[m/           \u001b[34m..\u001b[m\u001b[m/          __init__.py  genshi.py    sax.py\n",
      "\n",
      "./venv/lib/python3.9/site-packages/pip/_vendor/html5lib/treebuilders:\n",
      "\u001b[34m.\u001b[m\u001b[m/             __init__.py    dom.py         etree_lxml.py\n",
      "\u001b[34m..\u001b[m\u001b[m/            base.py        etree.py\n",
      "\n",
      "./venv/lib/python3.9/site-packages/pip/_vendor/html5lib/treewalkers:\n",
      "\u001b[34m.\u001b[m\u001b[m/             __init__.py    dom.py         etree_lxml.py\n",
      "\u001b[34m..\u001b[m\u001b[m/            base.py        etree.py       genshi.py\n",
      "\n",
      "./venv/lib/python3.9/site-packages/pip/_vendor/idna:\n",
      "\u001b[34m.\u001b[m\u001b[m/               codec.py         idnadata.py      uts46data.py\n",
      "\u001b[34m..\u001b[m\u001b[m/              compat.py        intranges.py\n",
      "__init__.py      core.py          package_data.py\n",
      "\n",
      "./venv/lib/python3.9/site-packages/pip/_vendor/msgpack:\n",
      "\u001b[34m.\u001b[m\u001b[m/             __init__.py    exceptions.py  fallback.py\n",
      "\u001b[34m..\u001b[m\u001b[m/            _version.py    ext.py\n",
      "\n",
      "./venv/lib/python3.9/site-packages/pip/_vendor/packaging:\n",
      "\u001b[34m.\u001b[m\u001b[m/               _manylinux.py    requirements.py  version.py\n",
      "\u001b[34m..\u001b[m\u001b[m/              _musllinux.py    specifiers.py\n",
      "__about__.py     _structures.py   tags.py\n",
      "__init__.py      markers.py       utils.py\n",
      "\n",
      "./venv/lib/python3.9/site-packages/pip/_vendor/pep517:\n",
      "\u001b[34m.\u001b[m\u001b[m/           __init__.py  check.py     compat.py    envbuild.py  meta.py\n",
      "\u001b[34m..\u001b[m\u001b[m/          build.py     colorlog.py  dirtools.py  \u001b[34min_process\u001b[m\u001b[m/  wrappers.py\n",
      "\n",
      "./venv/lib/python3.9/site-packages/pip/_vendor/pep517/in_process:\n",
      "\u001b[34m.\u001b[m\u001b[m/              \u001b[34m..\u001b[m\u001b[m/             __init__.py     _in_process.py\n",
      "\n",
      "./venv/lib/python3.9/site-packages/pip/_vendor/pkg_resources:\n",
      "\u001b[34m.\u001b[m\u001b[m/             \u001b[34m..\u001b[m\u001b[m/            __init__.py    py31compat.py\n",
      "\n",
      "./venv/lib/python3.9/site-packages/pip/_vendor/progress:\n",
      "\u001b[34m.\u001b[m\u001b[m/           \u001b[34m..\u001b[m\u001b[m/          __init__.py  bar.py       counter.py   spinner.py\n",
      "\n",
      "./venv/lib/python3.9/site-packages/pip/_vendor/requests:\n",
      "\u001b[34m.\u001b[m\u001b[m/                  adapters.py         cookies.py          packages.py\n",
      "\u001b[34m..\u001b[m\u001b[m/                 api.py              exceptions.py       sessions.py\n",
      "__init__.py         auth.py             help.py             status_codes.py\n",
      "__version__.py      certs.py            hooks.py            structures.py\n",
      "_internal_utils.py  compat.py           models.py           utils.py\n",
      "\n",
      "./venv/lib/python3.9/site-packages/pip/_vendor/resolvelib:\n",
      "\u001b[34m.\u001b[m\u001b[m/            __init__.py   providers.py  resolvers.py\n",
      "\u001b[34m..\u001b[m\u001b[m/           \u001b[34mcompat\u001b[m\u001b[m/       reporters.py  structs.py\n",
      "\n",
      "./venv/lib/python3.9/site-packages/pip/_vendor/resolvelib/compat:\n",
      "\u001b[34m.\u001b[m\u001b[m/                  \u001b[34m..\u001b[m\u001b[m/                 __init__.py         collections_abc.py\n",
      "\n",
      "./venv/lib/python3.9/site-packages/pip/_vendor/tenacity:\n",
      "\u001b[34m.\u001b[m\u001b[m/               _utils.py        nap.py           wait.py\n",
      "\u001b[34m..\u001b[m\u001b[m/              after.py         retry.py\n",
      "__init__.py      before.py        stop.py\n",
      "_asyncio.py      before_sleep.py  tornadoweb.py\n",
      "\n",
      "./venv/lib/python3.9/site-packages/pip/_vendor/tomli:\n",
      "\u001b[34m.\u001b[m\u001b[m/           \u001b[34m..\u001b[m\u001b[m/          __init__.py  _parser.py   _re.py\n",
      "\n",
      "./venv/lib/python3.9/site-packages/pip/_vendor/urllib3:\n",
      "\u001b[34m.\u001b[m\u001b[m/                 _version.py        exceptions.py      poolmanager.py\n",
      "\u001b[34m..\u001b[m\u001b[m/                connection.py      fields.py          request.py\n",
      "__init__.py        connectionpool.py  filepost.py        response.py\n",
      "_collections.py    \u001b[34mcontrib\u001b[m\u001b[m/           \u001b[34mpackages\u001b[m\u001b[m/          \u001b[34mutil\u001b[m\u001b[m/\n",
      "\n",
      "./venv/lib/python3.9/site-packages/pip/_vendor/urllib3/contrib:\n",
      "\u001b[34m.\u001b[m\u001b[m/                     \u001b[34m_securetransport\u001b[m\u001b[m/      securetransport.py\n",
      "\u001b[34m..\u001b[m\u001b[m/                    appengine.py           socks.py\n",
      "__init__.py            ntlmpool.py\n",
      "_appengine_environ.py  pyopenssl.py\n",
      "\n",
      "./venv/lib/python3.9/site-packages/pip/_vendor/urllib3/contrib/_securetransport:\n",
      "\u001b[34m.\u001b[m\u001b[m/            \u001b[34m..\u001b[m\u001b[m/           __init__.py   bindings.py   low_level.py\n",
      "\n",
      "./venv/lib/python3.9/site-packages/pip/_vendor/urllib3/packages:\n",
      "\u001b[34m.\u001b[m\u001b[m/                  __init__.py         six.py\n",
      "\u001b[34m..\u001b[m\u001b[m/                 \u001b[34mbackports\u001b[m\u001b[m/          \u001b[34mssl_match_hostname\u001b[m\u001b[m/\n",
      "\n",
      "./venv/lib/python3.9/site-packages/pip/_vendor/urllib3/packages/backports:\n",
      "\u001b[34m.\u001b[m\u001b[m/           \u001b[34m..\u001b[m\u001b[m/          __init__.py  makefile.py\n",
      "\n",
      "./venv/lib/python3.9/site-packages/pip/_vendor/urllib3/packages/ssl_match_hostname:\n",
      "\u001b[34m.\u001b[m\u001b[m/                  \u001b[34m..\u001b[m\u001b[m/                 __init__.py         _implementation.py\n",
      "\n",
      "./venv/lib/python3.9/site-packages/pip/_vendor/urllib3/util:\n",
      "\u001b[34m.\u001b[m\u001b[m/               proxy.py         retry.py         url.py\n",
      "\u001b[34m..\u001b[m\u001b[m/              queue.py         ssl_.py          wait.py\n",
      "__init__.py      request.py       ssltransport.py\n",
      "connection.py    response.py      timeout.py\n",
      "\n",
      "./venv/lib/python3.9/site-packages/pip/_vendor/webencodings:\n",
      "\u001b[34m.\u001b[m\u001b[m/                 __init__.py        mklabels.py        x_user_defined.py\n",
      "\u001b[34m..\u001b[m\u001b[m/                labels.py          tests.py\n",
      "\n",
      "./venv/lib/python3.9/site-packages/pip-21.2.4.dist-info:\n",
      "\u001b[34m.\u001b[m\u001b[m/                LICENSE.txt       REQUESTED         top_level.txt\n",
      "\u001b[34m..\u001b[m\u001b[m/               METADATA          WHEEL\n",
      "INSTALLER         RECORD            entry_points.txt\n",
      "\n",
      "./venv/lib/python3.9/site-packages/pkg_resources:\n",
      "\u001b[34m.\u001b[m\u001b[m/           \u001b[34m..\u001b[m\u001b[m/          __init__.py  \u001b[34m_vendor\u001b[m\u001b[m/     \u001b[34mextern\u001b[m\u001b[m/      \u001b[34mtests\u001b[m\u001b[m/\n",
      "\n",
      "./venv/lib/python3.9/site-packages/pkg_resources/_vendor:\n",
      "\u001b[34m.\u001b[m\u001b[m/            __init__.py   \u001b[34mpackaging\u001b[m\u001b[m/\n",
      "\u001b[34m..\u001b[m\u001b[m/           appdirs.py    pyparsing.py\n",
      "\n",
      "./venv/lib/python3.9/site-packages/pkg_resources/_vendor/packaging:\n",
      "\u001b[34m.\u001b[m\u001b[m/               _compat.py       requirements.py  version.py\n",
      "\u001b[34m..\u001b[m\u001b[m/              _structures.py   specifiers.py\n",
      "__about__.py     _typing.py       tags.py\n",
      "__init__.py      markers.py       utils.py\n",
      "\n",
      "./venv/lib/python3.9/site-packages/pkg_resources/extern:\n",
      "\u001b[34m.\u001b[m\u001b[m/           \u001b[34m..\u001b[m\u001b[m/          __init__.py\n",
      "\n",
      "./venv/lib/python3.9/site-packages/pkg_resources/tests:\n",
      "\u001b[34m.\u001b[m\u001b[m/    \u001b[34m..\u001b[m\u001b[m/   \u001b[34mdata\u001b[m\u001b[m/\n",
      "\n",
      "./venv/lib/python3.9/site-packages/pkg_resources/tests/data:\n",
      "\u001b[34m.\u001b[m\u001b[m/                      \u001b[34m..\u001b[m\u001b[m/                     \u001b[34mmy-test-package-source\u001b[m\u001b[m/\n",
      "\n",
      "./venv/lib/python3.9/site-packages/pkg_resources/tests/data/my-test-package-source:\n",
      "\u001b[34m.\u001b[m\u001b[m/        \u001b[34m..\u001b[m\u001b[m/       setup.py\n",
      "\n",
      "./venv/lib/python3.9/site-packages/setuptools:\n",
      "\u001b[34m.\u001b[m\u001b[m/                       config.py                monkey.py\n",
      "\u001b[34m..\u001b[m\u001b[m/                      dep_util.py              msvc.py\n",
      "__init__.py              depends.py               namespaces.py\n",
      "_deprecation_warning.py  dist.py                  package_index.py\n",
      "\u001b[34m_distutils\u001b[m\u001b[m/              errors.py                py34compat.py\n",
      "_imp.py                  extension.py             sandbox.py\n",
      "\u001b[34m_vendor\u001b[m\u001b[m/                 \u001b[34mextern\u001b[m\u001b[m/                  script (dev).tmpl\n",
      "archive_util.py          glob.py                  script.tmpl\n",
      "build_meta.py            gui-32.exe               unicode_utils.py\n",
      "cli-32.exe               gui-64.exe               version.py\n",
      "cli-64.exe               gui.exe                  wheel.py\n",
      "cli.exe                  installer.py             windows_support.py\n",
      "\u001b[34mcommand\u001b[m\u001b[m/                 launch.py\n",
      "\n",
      "./venv/lib/python3.9/site-packages/setuptools/_distutils:\n",
      "\u001b[34m.\u001b[m\u001b[m/                   cygwinccompiler.py   msvc9compiler.py\n",
      "\u001b[34m..\u001b[m\u001b[m/                  debug.py             msvccompiler.py\n",
      "__init__.py          dep_util.py          py35compat.py\n",
      "_msvccompiler.py     dir_util.py          py38compat.py\n",
      "archive_util.py      dist.py              spawn.py\n",
      "bcppcompiler.py      errors.py            sysconfig.py\n",
      "ccompiler.py         extension.py         text_file.py\n",
      "cmd.py               fancy_getopt.py      unixccompiler.py\n",
      "\u001b[34mcommand\u001b[m\u001b[m/             file_util.py         util.py\n",
      "config.py            filelist.py          version.py\n",
      "core.py              log.py               versionpredicate.py\n",
      "\n",
      "./venv/lib/python3.9/site-packages/setuptools/_distutils/command:\n",
      "\u001b[34m.\u001b[m\u001b[m/                   build_clib.py        install_egg_info.py\n",
      "\u001b[34m..\u001b[m\u001b[m/                  build_ext.py         install_headers.py\n",
      "__init__.py          build_py.py          install_lib.py\n",
      "bdist.py             build_scripts.py     install_scripts.py\n",
      "bdist_dumb.py        check.py             py37compat.py\n",
      "bdist_msi.py         clean.py             register.py\n",
      "bdist_rpm.py         config.py            sdist.py\n",
      "bdist_wininst.py     install.py           upload.py\n",
      "build.py             install_data.py\n",
      "\n",
      "./venv/lib/python3.9/site-packages/setuptools/_vendor:\n",
      "\u001b[34m.\u001b[m\u001b[m/              __init__.py     ordered_set.py  pyparsing.py\n",
      "\u001b[34m..\u001b[m\u001b[m/             \u001b[34mmore_itertools\u001b[m\u001b[m/ \u001b[34mpackaging\u001b[m\u001b[m/\n",
      "\n",
      "./venv/lib/python3.9/site-packages/setuptools/_vendor/more_itertools:\n",
      "\u001b[34m.\u001b[m\u001b[m/           \u001b[34m..\u001b[m\u001b[m/          __init__.py  more.py      recipes.py\n",
      "\n",
      "./venv/lib/python3.9/site-packages/setuptools/_vendor/packaging:\n",
      "\u001b[34m.\u001b[m\u001b[m/               _compat.py       requirements.py  version.py\n",
      "\u001b[34m..\u001b[m\u001b[m/              _structures.py   specifiers.py\n",
      "__about__.py     _typing.py       tags.py\n",
      "__init__.py      markers.py       utils.py\n",
      "\n",
      "./venv/lib/python3.9/site-packages/setuptools/command:\n",
      "\u001b[34m.\u001b[m\u001b[m/                     develop.py             py36compat.py\n",
      "\u001b[34m..\u001b[m\u001b[m/                    dist_info.py           register.py\n",
      "__init__.py            easy_install.py        rotate.py\n",
      "alias.py               egg_info.py            saveopts.py\n",
      "bdist_egg.py           install.py             sdist.py\n",
      "bdist_rpm.py           install_egg_info.py    setopt.py\n",
      "build_clib.py          install_lib.py         test.py\n",
      "build_ext.py           install_scripts.py     upload.py\n",
      "build_py.py            launcher manifest.xml  upload_docs.py\n",
      "\n",
      "./venv/lib/python3.9/site-packages/setuptools/extern:\n",
      "\u001b[34m.\u001b[m\u001b[m/           \u001b[34m..\u001b[m\u001b[m/          __init__.py\n",
      "\n",
      "./venv/lib/python3.9/site-packages/setuptools-58.0.4.dist-info:\n",
      "\u001b[34m.\u001b[m\u001b[m/                LICENSE           REQUESTED         top_level.txt\n",
      "\u001b[34m..\u001b[m\u001b[m/               METADATA          WHEEL\n",
      "INSTALLER         RECORD            entry_points.txt\n",
      "\n",
      "./zr-obp:\n",
      "\u001b[34m.\u001b[m\u001b[m/                CONTRIBUTING.md   \u001b[34mdocs\u001b[m\u001b[m/             pyproject.toml\n",
      "\u001b[34m..\u001b[m\u001b[m/               LICENSE           \u001b[34mexamples\u001b[m\u001b[m/         setup.cfg\n",
      "\u001b[34m.git\u001b[m\u001b[m/             MANIFEST.in       \u001b[34mimages\u001b[m\u001b[m/           setup.py\n",
      "\u001b[34m.github\u001b[m\u001b[m/          README.md         \u001b[34mobd\u001b[m\u001b[m/              \u001b[34mslides\u001b[m\u001b[m/\n",
      ".gitignore        README_JN.md      \u001b[34mobp\u001b[m\u001b[m/              \u001b[34mtests\u001b[m\u001b[m/\n",
      ".readthedocs.yml  \u001b[34mbenchmark\u001b[m\u001b[m/        poetry.lock\n",
      "\n",
      "./zr-obp/.git:\n",
      "\u001b[34m.\u001b[m\u001b[m/           config       index        \u001b[34mlogs\u001b[m\u001b[m/        \u001b[34mrefs\u001b[m\u001b[m/\n",
      "\u001b[34m..\u001b[m\u001b[m/          description  \u001b[34minfo\u001b[m\u001b[m/        \u001b[34mobjects\u001b[m\u001b[m/\n",
      "HEAD         \u001b[34mhooks\u001b[m\u001b[m/       \u001b[34mlfs\u001b[m\u001b[m/         packed-refs\n",
      "\n",
      "./zr-obp/.git/hooks:\n",
      "\u001b[34m.\u001b[m\u001b[m/                         \u001b[31mpre-commit.sample\u001b[m\u001b[m*\n",
      "\u001b[34m..\u001b[m\u001b[m/                        \u001b[31mpre-merge-commit.sample\u001b[m\u001b[m*\n",
      "\u001b[31mapplypatch-msg.sample\u001b[m\u001b[m*     \u001b[31mpre-push\u001b[m\u001b[m*\n",
      "\u001b[31mcommit-msg.sample\u001b[m\u001b[m*         \u001b[31mpre-push.sample\u001b[m\u001b[m*\n",
      "\u001b[31mfsmonitor-watchman.sample\u001b[m\u001b[m* \u001b[31mpre-rebase.sample\u001b[m\u001b[m*\n",
      "\u001b[31mpost-checkout\u001b[m\u001b[m*             \u001b[31mpre-receive.sample\u001b[m\u001b[m*\n",
      "\u001b[31mpost-commit\u001b[m\u001b[m*               \u001b[31mprepare-commit-msg.sample\u001b[m\u001b[m*\n",
      "\u001b[31mpost-merge\u001b[m\u001b[m*                \u001b[31mpush-to-checkout.sample\u001b[m\u001b[m*\n",
      "\u001b[31mpost-update.sample\u001b[m\u001b[m*        \u001b[31mupdate.sample\u001b[m\u001b[m*\n",
      "\u001b[31mpre-applypatch.sample\u001b[m\u001b[m*\n",
      "\n",
      "./zr-obp/.git/info:\n",
      "\u001b[34m.\u001b[m\u001b[m/       \u001b[34m..\u001b[m\u001b[m/      exclude\n",
      "\n",
      "./zr-obp/.git/lfs:\n",
      "\u001b[34m.\u001b[m\u001b[m/   \u001b[34m..\u001b[m\u001b[m/  \u001b[34mtmp\u001b[m\u001b[m/\n",
      "\n",
      "./zr-obp/.git/lfs/tmp:\n",
      "\u001b[34m.\u001b[m\u001b[m/  \u001b[34m..\u001b[m\u001b[m/\n",
      "\n",
      "./zr-obp/.git/logs:\n",
      "\u001b[34m.\u001b[m\u001b[m/    \u001b[34m..\u001b[m\u001b[m/   HEAD  \u001b[34mrefs\u001b[m\u001b[m/\n",
      "\n",
      "./zr-obp/.git/logs/refs:\n",
      "\u001b[34m.\u001b[m\u001b[m/       \u001b[34m..\u001b[m\u001b[m/      \u001b[34mheads\u001b[m\u001b[m/   \u001b[34mremotes\u001b[m\u001b[m/\n",
      "\n",
      "./zr-obp/.git/logs/refs/heads:\n",
      "\u001b[34m.\u001b[m\u001b[m/      \u001b[34m..\u001b[m\u001b[m/     master\n",
      "\n",
      "./zr-obp/.git/logs/refs/remotes:\n",
      "\u001b[34m.\u001b[m\u001b[m/      \u001b[34m..\u001b[m\u001b[m/     \u001b[34morigin\u001b[m\u001b[m/\n",
      "\n",
      "./zr-obp/.git/logs/refs/remotes/origin:\n",
      "\u001b[34m.\u001b[m\u001b[m/    \u001b[34m..\u001b[m\u001b[m/   HEAD\n",
      "\n",
      "./zr-obp/.git/objects:\n",
      "\u001b[34m.\u001b[m\u001b[m/    \u001b[34m..\u001b[m\u001b[m/   \u001b[34minfo\u001b[m\u001b[m/ \u001b[34mpack\u001b[m\u001b[m/\n",
      "\n",
      "./zr-obp/.git/objects/info:\n",
      "\u001b[34m.\u001b[m\u001b[m/  \u001b[34m..\u001b[m\u001b[m/\n",
      "\n",
      "./zr-obp/.git/objects/pack:\n",
      "\u001b[34m.\u001b[m\u001b[m/\n",
      "\u001b[34m..\u001b[m\u001b[m/\n",
      "pack-8b4ccfb510fdea8923d52477e5d630804ae615f3.idx\n",
      "pack-8b4ccfb510fdea8923d52477e5d630804ae615f3.pack\n",
      "\n",
      "./zr-obp/.git/refs:\n",
      "\u001b[34m.\u001b[m\u001b[m/       \u001b[34m..\u001b[m\u001b[m/      \u001b[34mheads\u001b[m\u001b[m/   \u001b[34mremotes\u001b[m\u001b[m/ \u001b[34mtags\u001b[m\u001b[m/\n",
      "\n",
      "./zr-obp/.git/refs/heads:\n",
      "\u001b[34m.\u001b[m\u001b[m/      \u001b[34m..\u001b[m\u001b[m/     master\n",
      "\n",
      "./zr-obp/.git/refs/remotes:\n",
      "\u001b[34m.\u001b[m\u001b[m/      \u001b[34m..\u001b[m\u001b[m/     \u001b[34morigin\u001b[m\u001b[m/\n",
      "\n",
      "./zr-obp/.git/refs/remotes/origin:\n",
      "\u001b[34m.\u001b[m\u001b[m/    \u001b[34m..\u001b[m\u001b[m/   HEAD\n",
      "\n",
      "./zr-obp/.git/refs/tags:\n",
      "\u001b[34m.\u001b[m\u001b[m/  \u001b[34m..\u001b[m\u001b[m/\n",
      "\n",
      "./zr-obp/.github:\n",
      "\u001b[34m.\u001b[m\u001b[m/         \u001b[34m..\u001b[m\u001b[m/        \u001b[34mworkflows\u001b[m\u001b[m/\n",
      "\n",
      "./zr-obp/.github/workflows:\n",
      "\u001b[34m.\u001b[m\u001b[m/         \u001b[34m..\u001b[m\u001b[m/        lints.yml  tests.yml\n",
      "\n",
      "./zr-obp/benchmark:\n",
      "\u001b[34m.\u001b[m\u001b[m/                README.md         \u001b[34mope\u001b[m\u001b[m/\n",
      "\u001b[34m..\u001b[m\u001b[m/               \u001b[34mcf_policy_search\u001b[m\u001b[m/\n",
      "\n",
      "./zr-obp/benchmark/cf_policy_search:\n",
      "\u001b[34m.\u001b[m\u001b[m/                       README.md                custom_dataset.py\n",
      "\u001b[34m..\u001b[m\u001b[m/                      \u001b[34mconf\u001b[m\u001b[m/                    run_cf_policy_search.py\n",
      "\n",
      "./zr-obp/benchmark/cf_policy_search/conf:\n",
      "\u001b[34m.\u001b[m\u001b[m/                \u001b[34m..\u001b[m\u001b[m/               hyperparams.yaml\n",
      "\n",
      "./zr-obp/benchmark/ope:\n",
      "\u001b[34m.\u001b[m\u001b[m/                                  benchmark_ope_estimators_hypara.py\n",
      "\u001b[34m..\u001b[m\u001b[m/                                 \u001b[34mconf\u001b[m\u001b[m/\n",
      "README.md                           poetry.lock\n",
      "benchmark_ope_estimators.py         pyproject.toml\n",
      "\n",
      "./zr-obp/benchmark/ope/conf:\n",
      "\u001b[34m.\u001b[m\u001b[m/                     config.yaml            \u001b[34mreg_model_hyperparams\u001b[m\u001b[m/\n",
      "\u001b[34m..\u001b[m\u001b[m/                    \u001b[34mestimator_hyperparams\u001b[m\u001b[m/ \u001b[34msetting\u001b[m\u001b[m/\n",
      "\n",
      "./zr-obp/benchmark/ope/conf/estimator_hyperparams:\n",
      "\u001b[34m.\u001b[m\u001b[m/            \u001b[34m..\u001b[m\u001b[m/           default.yaml\n",
      "\n",
      "./zr-obp/benchmark/ope/conf/reg_model_hyperparams:\n",
      "\u001b[34m.\u001b[m\u001b[m/            \u001b[34m..\u001b[m\u001b[m/           default.yaml\n",
      "\n",
      "./zr-obp/benchmark/ope/conf/setting:\n",
      "\u001b[34m.\u001b[m\u001b[m/            \u001b[34m..\u001b[m\u001b[m/           default.yaml\n",
      "\n",
      "./zr-obp/docs:\n",
      "\u001b[34m.\u001b[m\u001b[m/                  conf.py             make.bat            refs.bib\n",
      "\u001b[34m..\u001b[m\u001b[m/                 estimators.rst      obp.rst             related.rst\n",
      "Makefile            evaluation_ope.rst  ope.rst             requirements.txt\n",
      "\u001b[34m_static\u001b[m\u001b[m/            index.rst           quickstart.rst\n",
      "about.rst           installation.rst    references.rst\n",
      "\n",
      "./zr-obp/docs/_static:\n",
      "\u001b[34m.\u001b[m\u001b[m/      \u001b[34m..\u001b[m\u001b[m/     \u001b[34mimages\u001b[m\u001b[m/\n",
      "\n",
      "./zr-obp/docs/_static/images:\n",
      "\u001b[34m.\u001b[m\u001b[m/                             overview.png\n",
      "\u001b[34m..\u001b[m\u001b[m/                            recommended_fashion_items.png\n",
      "dataset.png                    related_data.png\n",
      "evaluation_of_ope_algo.png     related_packages.png\n",
      "logo.png                       statistics_of_obd.png\n",
      "\n",
      "./zr-obp/examples:\n",
      "\u001b[34m.\u001b[m\u001b[m/          README.md   \u001b[34mobd\u001b[m\u001b[m/        \u001b[34mquickstart\u001b[m\u001b[m/ \u001b[34msynthetic\u001b[m\u001b[m/\n",
      "\u001b[34m..\u001b[m\u001b[m/         \u001b[34mmulticlass\u001b[m\u001b[m/ \u001b[34mopl\u001b[m\u001b[m/        \u001b[34mreplay\u001b[m\u001b[m/\n",
      "\n",
      "./zr-obp/examples/multiclass:\n",
      "\u001b[34m.\u001b[m\u001b[m/                                 \u001b[34mconf\u001b[m\u001b[m/\n",
      "\u001b[34m..\u001b[m\u001b[m/                                evaluate_off_policy_estimators.py\n",
      "README.md\n",
      "\n",
      "./zr-obp/examples/multiclass/conf:\n",
      "\u001b[34m.\u001b[m\u001b[m/                \u001b[34m..\u001b[m\u001b[m/               hyperparams.yaml\n",
      "\n",
      "./zr-obp/examples/obd:\n",
      "\u001b[34m.\u001b[m\u001b[m/                                 \u001b[34mconf\u001b[m\u001b[m/\n",
      "\u001b[34m..\u001b[m\u001b[m/                                evaluate_off_policy_estimators.py\n",
      "README.md\n",
      "\n",
      "./zr-obp/examples/obd/conf:\n",
      "\u001b[34m.\u001b[m\u001b[m/                \u001b[34m..\u001b[m\u001b[m/               hyperparams.yaml\n",
      "\n",
      "./zr-obp/examples/opl:\n",
      "\u001b[34m.\u001b[m\u001b[m/                               \u001b[34mconf\u001b[m\u001b[m/\n",
      "\u001b[34m..\u001b[m\u001b[m/                              evaluate_off_policy_learners.py\n",
      "README.md\n",
      "\n",
      "./zr-obp/examples/opl/conf:\n",
      "\u001b[34m.\u001b[m\u001b[m/                \u001b[34m..\u001b[m\u001b[m/               hyperparams.yaml\n",
      "\n",
      "./zr-obp/examples/quickstart:\n",
      "\u001b[34m.\u001b[m\u001b[m/\n",
      "\u001b[34m..\u001b[m\u001b[m/\n",
      "README.md\n",
      "multiclass.ipynb\n",
      "obd.ipynb\n",
      "online-bandit-vs-opl-simulation.ipynb\n",
      "online-bandit-with-delay-simulation.ipynb\n",
      "online-bandit-with-drift-simulation.ipynb\n",
      "opl.ipynb\n",
      "replay.ipynb\n",
      "synthetic.ipynb\n",
      "synthetic_slate.ipynb\n",
      "\n",
      "./zr-obp/examples/replay:\n",
      "\u001b[34m.\u001b[m\u001b[m/                                 README.md\n",
      "\u001b[34m..\u001b[m\u001b[m/                                evaluate_off_policy_estimators.py\n",
      "\n",
      "./zr-obp/examples/synthetic:\n",
      "\u001b[34m.\u001b[m\u001b[m/                                 \u001b[34mconf\u001b[m\u001b[m/\n",
      "\u001b[34m..\u001b[m\u001b[m/                                evaluate_off_policy_estimators.py\n",
      "README.md\n",
      "\n",
      "./zr-obp/examples/synthetic/conf:\n",
      "\u001b[34m.\u001b[m\u001b[m/                \u001b[34m..\u001b[m\u001b[m/               hyperparams.yaml\n",
      "\n",
      "./zr-obp/images:\n",
      "\u001b[34m.\u001b[m\u001b[m/                             obd_stats.png\n",
      "\u001b[34m..\u001b[m\u001b[m/                            ope_results_example.png\n",
      "dataset.png                    overview.png\n",
      "logo.png                       recommended_fashion_items.png\n",
      "\n",
      "./zr-obp/obd:\n",
      "\u001b[34m.\u001b[m\u001b[m/            README.md     \u001b[34mbts\u001b[m\u001b[m/\n",
      "\u001b[34m..\u001b[m\u001b[m/           README_JN.md  \u001b[34mrandom\u001b[m\u001b[m/\n",
      "\n",
      "./zr-obp/obd/bts:\n",
      "\u001b[34m.\u001b[m\u001b[m/     \u001b[34m..\u001b[m\u001b[m/    \u001b[34mall\u001b[m\u001b[m/   \u001b[34mmen\u001b[m\u001b[m/   \u001b[34mwomen\u001b[m\u001b[m/\n",
      "\n",
      "./zr-obp/obd/bts/all:\n",
      "\u001b[34m.\u001b[m\u001b[m/                \u001b[34m..\u001b[m\u001b[m/               all.csv           item_context.csv\n",
      "\n",
      "./zr-obp/obd/bts/men:\n",
      "\u001b[34m.\u001b[m\u001b[m/                \u001b[34m..\u001b[m\u001b[m/               item_context.csv  men.csv\n",
      "\n",
      "./zr-obp/obd/bts/women:\n",
      "\u001b[34m.\u001b[m\u001b[m/                \u001b[34m..\u001b[m\u001b[m/               item_context.csv  women.csv\n",
      "\n",
      "./zr-obp/obd/random:\n",
      "\u001b[34m.\u001b[m\u001b[m/     \u001b[34m..\u001b[m\u001b[m/    \u001b[34mall\u001b[m\u001b[m/   \u001b[34mmen\u001b[m\u001b[m/   \u001b[34mwomen\u001b[m\u001b[m/\n",
      "\n",
      "./zr-obp/obd/random/all:\n",
      "\u001b[34m.\u001b[m\u001b[m/                \u001b[34m..\u001b[m\u001b[m/               all.csv           item_context.csv\n",
      "\n",
      "./zr-obp/obd/random/men:\n",
      "\u001b[34m.\u001b[m\u001b[m/                \u001b[34m..\u001b[m\u001b[m/               item_context.csv  men.csv\n",
      "\n",
      "./zr-obp/obd/random/women:\n",
      "\u001b[34m.\u001b[m\u001b[m/                \u001b[34m..\u001b[m\u001b[m/               item_context.csv  women.csv\n",
      "\n",
      "./zr-obp/obp:\n",
      "\u001b[34m.\u001b[m\u001b[m/           __init__.py  \u001b[34mope\u001b[m\u001b[m/         \u001b[34msimulator\u001b[m\u001b[m/   \u001b[31mutils.py\u001b[m\u001b[m*\n",
      "\u001b[34m..\u001b[m\u001b[m/          \u001b[34mdataset\u001b[m\u001b[m/     \u001b[34mpolicy\u001b[m\u001b[m/      types.py     version.py\n",
      "\n",
      "./zr-obp/obp/dataset:\n",
      "\u001b[34m.\u001b[m\u001b[m/                       \u001b[34mobd\u001b[m\u001b[m/                     synthetic_embed.py\n",
      "\u001b[34m..\u001b[m\u001b[m/                      real.py                  synthetic_multi.py\n",
      "__init__.py              reward_type.py           synthetic_slate.py\n",
      "base.py                  synthetic.py\n",
      "multiclass.py            synthetic_continuous.py\n",
      "\n",
      "./zr-obp/obp/dataset/obd:\n",
      "\u001b[34m.\u001b[m\u001b[m/      \u001b[34m..\u001b[m\u001b[m/     \u001b[34mbts\u001b[m\u001b[m/    \u001b[34mrandom\u001b[m\u001b[m/\n",
      "\n",
      "./zr-obp/obp/dataset/obd/bts:\n",
      "\u001b[34m.\u001b[m\u001b[m/     \u001b[34m..\u001b[m\u001b[m/    \u001b[34mall\u001b[m\u001b[m/   \u001b[34mmen\u001b[m\u001b[m/   \u001b[34mwomen\u001b[m\u001b[m/\n",
      "\n",
      "./zr-obp/obp/dataset/obd/bts/all:\n",
      "\u001b[34m.\u001b[m\u001b[m/                \u001b[34m..\u001b[m\u001b[m/               all.csv           item_context.csv\n",
      "\n",
      "./zr-obp/obp/dataset/obd/bts/men:\n",
      "\u001b[34m.\u001b[m\u001b[m/                \u001b[34m..\u001b[m\u001b[m/               item_context.csv  men.csv\n",
      "\n",
      "./zr-obp/obp/dataset/obd/bts/women:\n",
      "\u001b[34m.\u001b[m\u001b[m/                \u001b[34m..\u001b[m\u001b[m/               item_context.csv  women.csv\n",
      "\n",
      "./zr-obp/obp/dataset/obd/random:\n",
      "\u001b[34m.\u001b[m\u001b[m/     \u001b[34m..\u001b[m\u001b[m/    \u001b[34mall\u001b[m\u001b[m/   \u001b[34mmen\u001b[m\u001b[m/   \u001b[34mwomen\u001b[m\u001b[m/\n",
      "\n",
      "./zr-obp/obp/dataset/obd/random/all:\n",
      "\u001b[34m.\u001b[m\u001b[m/                \u001b[34m..\u001b[m\u001b[m/               all.csv           item_context.csv\n",
      "\n",
      "./zr-obp/obp/dataset/obd/random/men:\n",
      "\u001b[34m.\u001b[m\u001b[m/                \u001b[34m..\u001b[m\u001b[m/               item_context.csv  men.csv\n",
      "\n",
      "./zr-obp/obp/dataset/obd/random/women:\n",
      "\u001b[34m.\u001b[m\u001b[m/                \u001b[34m..\u001b[m\u001b[m/               item_context.csv  women.csv\n",
      "\n",
      "./zr-obp/obp/ope:\n",
      "\u001b[34m.\u001b[m\u001b[m/                         estimators_tuning.py\n",
      "\u001b[34m..\u001b[m\u001b[m/                        helper.py\n",
      "__init__.py                meta.py\n",
      "classification_model.py    meta_continuous.py\n",
      "estimators.py              meta_multi.py\n",
      "estimators_continuous.py   meta_slate.py\n",
      "estimators_embed.py        regression_model.py\n",
      "estimators_multi.py        regression_model_slate.py\n",
      "estimators_slate.py\n",
      "\n",
      "./zr-obp/obp/policy:\n",
      "\u001b[34m.\u001b[m\u001b[m/                     \u001b[34mconf\u001b[m\u001b[m/                  offline.py\n",
      "\u001b[34m..\u001b[m\u001b[m/                    contextfree.py         offline_continuous.py\n",
      "__init__.py            linear.py              policy_type.py\n",
      "base.py                logistic.py\n",
      "\n",
      "./zr-obp/obp/policy/conf:\n",
      "\u001b[34m.\u001b[m\u001b[m/              \u001b[34m..\u001b[m\u001b[m/             prior_bts.yaml\n",
      "\n",
      "./zr-obp/obp/simulator:\n",
      "\u001b[34m.\u001b[m\u001b[m/                      coefficient_drifter.py  \u001b[31msimulator.py\u001b[m\u001b[m*\n",
      "\u001b[34m..\u001b[m\u001b[m/                     delay_sampler.py\n",
      "__init__.py             replay.py\n",
      "\n",
      "./zr-obp/slides:\n",
      "\u001b[34m.\u001b[m\u001b[m/             \u001b[34m..\u001b[m\u001b[m/            slides_EN.pdf  slides_JN.pdf\n",
      "\n",
      "./zr-obp/tests:\n",
      "\u001b[34m.\u001b[m\u001b[m/             \u001b[34mdataset\u001b[m\u001b[m/       \u001b[34mpolicy\u001b[m\u001b[m/        test_utils.py\n",
      "\u001b[34m..\u001b[m\u001b[m/            \u001b[34mope\u001b[m\u001b[m/           \u001b[34msimulator\u001b[m\u001b[m/\n",
      "\n",
      "./zr-obp/tests/dataset:\n",
      "\u001b[34m.\u001b[m\u001b[m/                                 test_synthetic_continuous.py\n",
      "\u001b[34m..\u001b[m\u001b[m/                                test_synthetic_embed.py\n",
      "test_multiclass.py                 test_synthetic_multi.py\n",
      "test_real.py                       test_synthetic_slate.py\n",
      "test_synthetic.py                  test_synthetic_slate_functions.py\n",
      "\n",
      "./zr-obp/tests/ope:\n",
      "\u001b[34m.\u001b[m\u001b[m/                                      test_ipw_estimators_continuous.py\n",
      "\u001b[34m..\u001b[m\u001b[m/                                     test_ipw_estimators_embed.py\n",
      "conftest.py                             test_ipw_estimators_multi.py\n",
      "hyperparams.yaml                        test_ipw_estimators_slate.py\n",
      "hyperparams_slate.yaml                  test_kernel_functions.py\n",
      "test_all_estimators.py                  test_meta.py\n",
      "test_bipw_estimators.py                 test_meta_continuous.py\n",
      "test_dm_estimators.py                   test_meta_multi.py\n",
      "test_dr_estimators.py                   test_meta_slate.py\n",
      "test_dr_estimators_continuous.py        test_offline_estimation_performance.py\n",
      "test_dr_estimators_multi.py             test_propensity_score_estimator.py\n",
      "test_dr_estimators_slate.py             test_regression_models.py\n",
      "test_importance_weight_estimator.py     test_regression_models_slate.py\n",
      "test_ipw_estimators.py\n",
      "\n",
      "./zr-obp/tests/policy:\n",
      "\u001b[34m.\u001b[m\u001b[m/\n",
      "\u001b[34m..\u001b[m\u001b[m/\n",
      "test_contextfree.py\n",
      "test_linear.py\n",
      "test_logistic.py\n",
      "test_offline.py\n",
      "test_offline_continuous.py\n",
      "test_offline_learner_continuous_performance.py\n",
      "test_offline_learner_performance.py\n",
      "\n",
      "./zr-obp/tests/simulator:\n",
      "\u001b[34m.\u001b[m\u001b[m/                           test_delay_sampler.py\n",
      "\u001b[34m..\u001b[m\u001b[m/                          test_simulator.py\n",
      "test_coefficient_drifter.py\n"
     ]
    }
   ],
   "source": [
    "ls -a -R"
   ]
  },
  {
   "cell_type": "code",
   "execution_count": null,
   "id": "c764eb4f",
   "metadata": {},
   "outputs": [
    {
     "data": {
      "text/plain": [
       "'/Users/armandoordoricadelatorre/Documents/U of T/PhD/PhD Research/OBP_Replication'"
      ]
     },
     "execution_count": 18,
     "metadata": {},
     "output_type": "execute_result"
    }
   ],
   "source": []
  },
  {
   "cell_type": "code",
   "execution_count": 4,
   "id": "0680605f",
   "metadata": {},
   "outputs": [
    {
     "name": "stdout",
     "output_type": "stream",
     "text": [
      "log_df shape: (10000, 89)\n",
      "items_df shape: (80, 5)\n",
      "\n",
      "log_df columns:\n",
      "['timestamp', 'item_id', 'position', 'click', 'propensity_score', 'user_feature_0', 'user_feature_1', 'user_feature_2', 'user_feature_3', 'user-item_affinity_0', 'user-item_affinity_1', 'user-item_affinity_2', 'user-item_affinity_3', 'user-item_affinity_4', 'user-item_affinity_5', 'user-item_affinity_6', 'user-item_affinity_7', 'user-item_affinity_8', 'user-item_affinity_9', 'user-item_affinity_10', 'user-item_affinity_11', 'user-item_affinity_12', 'user-item_affinity_13', 'user-item_affinity_14', 'user-item_affinity_15', 'user-item_affinity_16', 'user-item_affinity_17', 'user-item_affinity_18', 'user-item_affinity_19', 'user-item_affinity_20', 'user-item_affinity_21', 'user-item_affinity_22', 'user-item_affinity_23', 'user-item_affinity_24', 'user-item_affinity_25', 'user-item_affinity_26', 'user-item_affinity_27', 'user-item_affinity_28', 'user-item_affinity_29', 'user-item_affinity_30']\n",
      "\n",
      "first 5 log rows:\n",
      "                          timestamp  item_id  position  click  \\\n",
      "0  2019-11-24 00:00:17.004101+00:00       79         2      0   \n",
      "1  2019-11-24 00:00:19.715857+00:00       14         1      0   \n",
      "2  2019-11-24 00:01:04.303227+00:00       18         2      0   \n",
      "3  2019-11-24 00:01:11.571162+00:00       28         1      0   \n",
      "4  2019-11-24 00:02:41.811768+00:00       65         2      0   \n",
      "\n",
      "   propensity_score                    user_feature_0  \\\n",
      "0          0.087125  81ce123cbb5bd8ce818f60fb3586bba5   \n",
      "1          0.006235  81ce123cbb5bd8ce818f60fb3586bba5   \n",
      "2          0.061300  81ce123cbb5bd8ce818f60fb3586bba5   \n",
      "3          0.019430  81ce123cbb5bd8ce818f60fb3586bba5   \n",
      "4          0.019375  81ce123cbb5bd8ce818f60fb3586bba5   \n",
      "\n",
      "                     user_feature_1                    user_feature_2  \\\n",
      "0  03a5648a76832f83c859d46bc06cb64a  7bc94a2da491829b777c49c4b5e480f2   \n",
      "1  2d03db5543b14483e52d761760686b64  2723d2eb8bba04e0362098011fa3997b   \n",
      "2  03a5648a76832f83c859d46bc06cb64a  c2e4f76cdbabecd33b8c762aeef386b3   \n",
      "3  03a5648a76832f83c859d46bc06cb64a  7bc94a2da491829b777c49c4b5e480f2   \n",
      "4  03a5648a76832f83c859d46bc06cb64a  c2e4f76cdbabecd33b8c762aeef386b3   \n",
      "\n",
      "                     user_feature_3  user-item_affinity_0  ...  \\\n",
      "0  c39b0c7dd5d4eb9a18e7db6ba2f258f8                   0.0  ...   \n",
      "1  9bde591ffaab8d54c457448e4dca6f53                   0.0  ...   \n",
      "2  c39b0c7dd5d4eb9a18e7db6ba2f258f8                   0.0  ...   \n",
      "3  9bde591ffaab8d54c457448e4dca6f53                   0.0  ...   \n",
      "4  9bde591ffaab8d54c457448e4dca6f53                   0.0  ...   \n",
      "\n",
      "   user-item_affinity_70  user-item_affinity_71  user-item_affinity_72  \\\n",
      "0                    0.0                    0.0                    0.0   \n",
      "1                    0.0                    0.0                    0.0   \n",
      "2                    0.0                    0.0                    0.0   \n",
      "3                    0.0                    0.0                    0.0   \n",
      "4                    0.0                    0.0                    0.0   \n",
      "\n",
      "   user-item_affinity_73  user-item_affinity_74  user-item_affinity_75  \\\n",
      "0                    0.0                    0.0                    0.0   \n",
      "1                    0.0                    0.0                    0.0   \n",
      "2                    0.0                    0.0                    0.0   \n",
      "3                    0.0                    0.0                    0.0   \n",
      "4                    0.0                    0.0                    0.0   \n",
      "\n",
      "   user-item_affinity_76  user-item_affinity_77  user-item_affinity_78  \\\n",
      "0                    0.0                    0.0                    0.0   \n",
      "1                    0.0                    0.0                    0.0   \n",
      "2                    0.0                    0.0                    0.0   \n",
      "3                    0.0                    0.0                    0.0   \n",
      "4                    0.0                    0.0                    0.0   \n",
      "\n",
      "   user-item_affinity_79  \n",
      "0                    0.0  \n",
      "1                    0.0  \n",
      "2                    0.0  \n",
      "3                    0.0  \n",
      "4                    0.0  \n",
      "\n",
      "[5 rows x 89 columns]\n",
      "\n",
      "first 5 item rows:\n",
      "   item_id  item_feature_0                    item_feature_1  \\\n",
      "0        0       -0.499172  527a325f46248058e3c5df9fb548f05f   \n",
      "1        1       -0.543775  84c5238bc7dfedff64df3e71e39456d3   \n",
      "2        2        0.972752  84c5238bc7dfedff64df3e71e39456d3   \n",
      "3        3       -0.521473  ab5678265d1b6b884ddc30cac35dc0b7   \n",
      "4        4        1.909430  31a4dca305b5aae308a77f24d2568951   \n",
      "\n",
      "                     item_feature_2                    item_feature_3  \n",
      "0  5e92ce840abf12dc17408ca42b189836  84fd569b1b2309788c39aced8f88d084  \n",
      "1  5e92ce840abf12dc17408ca42b189836  84fd569b1b2309788c39aced8f88d084  \n",
      "2  b913be25b9f7b764dcdeeac826fbd94b  78469ccb0d9544e55354632ff51ed422  \n",
      "3  1c3a19a4f1fb7e108afd14f43393a79d  3c8f79fff6b73fd5a3eaebdc20b37078  \n",
      "4  8d83a426afeac570837704062f5bbe37  78469ccb0d9544e55354632ff51ed422  \n"
     ]
    }
   ],
   "source": [
    "import pandas as pd\n",
    "\n",
    "# BTS / ALL sample\n",
    "log_df   = pd.read_csv(\"zr-obp/obd/bts/all/all.csv\", index_col=0)\n",
    "items_df = pd.read_csv(\"zr-obp/obd/bts/all/item_context.csv\", index_col=0)\n",
    "\n",
    "print(\"log_df shape:\", log_df.shape)\n",
    "print(\"items_df shape:\", items_df.shape)\n",
    "\n",
    "print(\"\\nlog_df columns:\")\n",
    "print(log_df.columns.tolist()[:40])  # peek first ~40 col names\n",
    "\n",
    "print(\"\\nfirst 5 log rows:\")\n",
    "print(log_df.head())\n",
    "\n",
    "print(\"\\nfirst 5 item rows:\")\n",
    "print(items_df.head())"
   ]
  },
  {
   "cell_type": "code",
   "execution_count": 5,
   "id": "d4ca4e12",
   "metadata": {},
   "outputs": [
    {
     "name": "stdout",
     "output_type": "stream",
     "text": [
      "Index(['timestamp', 'item_id', 'position', 'click', 'propensity_score',\n",
      "       'user_feature_0', 'user_feature_1', 'user_feature_2', 'user_feature_3',\n",
      "       'user-item_affinity_0', 'user-item_affinity_1', 'user-item_affinity_2',\n",
      "       'user-item_affinity_3', 'user-item_affinity_4', 'user-item_affinity_5',\n",
      "       'user-item_affinity_6', 'user-item_affinity_7', 'user-item_affinity_8',\n",
      "       'user-item_affinity_9', 'user-item_affinity_10',\n",
      "       'user-item_affinity_11', 'user-item_affinity_12',\n",
      "       'user-item_affinity_13', 'user-item_affinity_14',\n",
      "       'user-item_affinity_15', 'user-item_affinity_16',\n",
      "       'user-item_affinity_17', 'user-item_affinity_18',\n",
      "       'user-item_affinity_19', 'user-item_affinity_20',\n",
      "       'user-item_affinity_21', 'user-item_affinity_22',\n",
      "       'user-item_affinity_23', 'user-item_affinity_24',\n",
      "       'user-item_affinity_25', 'user-item_affinity_26',\n",
      "       'user-item_affinity_27', 'user-item_affinity_28',\n",
      "       'user-item_affinity_29', 'user-item_affinity_30',\n",
      "       'user-item_affinity_31', 'user-item_affinity_32',\n",
      "       'user-item_affinity_33', 'user-item_affinity_34',\n",
      "       'user-item_affinity_35', 'user-item_affinity_36',\n",
      "       'user-item_affinity_37', 'user-item_affinity_38',\n",
      "       'user-item_affinity_39', 'user-item_affinity_40',\n",
      "       'user-item_affinity_41', 'user-item_affinity_42',\n",
      "       'user-item_affinity_43', 'user-item_affinity_44',\n",
      "       'user-item_affinity_45', 'user-item_affinity_46',\n",
      "       'user-item_affinity_47', 'user-item_affinity_48',\n",
      "       'user-item_affinity_49', 'user-item_affinity_50',\n",
      "       'user-item_affinity_51', 'user-item_affinity_52',\n",
      "       'user-item_affinity_53', 'user-item_affinity_54',\n",
      "       'user-item_affinity_55', 'user-item_affinity_56',\n",
      "       'user-item_affinity_57', 'user-item_affinity_58',\n",
      "       'user-item_affinity_59', 'user-item_affinity_60',\n",
      "       'user-item_affinity_61', 'user-item_affinity_62',\n",
      "       'user-item_affinity_63', 'user-item_affinity_64',\n",
      "       'user-item_affinity_65', 'user-item_affinity_66',\n",
      "       'user-item_affinity_67', 'user-item_affinity_68',\n",
      "       'user-item_affinity_69', 'user-item_affinity_70',\n",
      "       'user-item_affinity_71', 'user-item_affinity_72',\n",
      "       'user-item_affinity_73', 'user-item_affinity_74',\n",
      "       'user-item_affinity_75', 'user-item_affinity_76',\n",
      "       'user-item_affinity_77', 'user-item_affinity_78',\n",
      "       'user-item_affinity_79'],\n",
      "      dtype='object')\n"
     ]
    }
   ],
   "source": [
    "print(log_df.columns)"
   ]
  },
  {
   "cell_type": "code",
   "execution_count": 6,
   "id": "e1bf4cbc",
   "metadata": {},
   "outputs": [
    {
     "data": {
      "text/html": [
       "<div>\n",
       "<style scoped>\n",
       "    .dataframe tbody tr th:only-of-type {\n",
       "        vertical-align: middle;\n",
       "    }\n",
       "\n",
       "    .dataframe tbody tr th {\n",
       "        vertical-align: top;\n",
       "    }\n",
       "\n",
       "    .dataframe thead th {\n",
       "        text-align: right;\n",
       "    }\n",
       "</style>\n",
       "<table border=\"1\" class=\"dataframe\">\n",
       "  <thead>\n",
       "    <tr style=\"text-align: right;\">\n",
       "      <th></th>\n",
       "      <th>timestamp</th>\n",
       "      <th>item_id</th>\n",
       "      <th>position</th>\n",
       "      <th>click</th>\n",
       "      <th>propensity_score</th>\n",
       "      <th>user_feature_0</th>\n",
       "      <th>user_feature_1</th>\n",
       "      <th>user_feature_2</th>\n",
       "      <th>user_feature_3</th>\n",
       "      <th>user-item_affinity_0</th>\n",
       "      <th>...</th>\n",
       "      <th>user-item_affinity_70</th>\n",
       "      <th>user-item_affinity_71</th>\n",
       "      <th>user-item_affinity_72</th>\n",
       "      <th>user-item_affinity_73</th>\n",
       "      <th>user-item_affinity_74</th>\n",
       "      <th>user-item_affinity_75</th>\n",
       "      <th>user-item_affinity_76</th>\n",
       "      <th>user-item_affinity_77</th>\n",
       "      <th>user-item_affinity_78</th>\n",
       "      <th>user-item_affinity_79</th>\n",
       "    </tr>\n",
       "  </thead>\n",
       "  <tbody>\n",
       "    <tr>\n",
       "      <th>0</th>\n",
       "      <td>2019-11-24 00:00:17.004101+00:00</td>\n",
       "      <td>79</td>\n",
       "      <td>2</td>\n",
       "      <td>0</td>\n",
       "      <td>0.087125</td>\n",
       "      <td>81ce123cbb5bd8ce818f60fb3586bba5</td>\n",
       "      <td>03a5648a76832f83c859d46bc06cb64a</td>\n",
       "      <td>7bc94a2da491829b777c49c4b5e480f2</td>\n",
       "      <td>c39b0c7dd5d4eb9a18e7db6ba2f258f8</td>\n",
       "      <td>0.0</td>\n",
       "      <td>...</td>\n",
       "      <td>0.0</td>\n",
       "      <td>0.0</td>\n",
       "      <td>0.0</td>\n",
       "      <td>0.0</td>\n",
       "      <td>0.0</td>\n",
       "      <td>0.0</td>\n",
       "      <td>0.0</td>\n",
       "      <td>0.0</td>\n",
       "      <td>0.0</td>\n",
       "      <td>0.0</td>\n",
       "    </tr>\n",
       "    <tr>\n",
       "      <th>1</th>\n",
       "      <td>2019-11-24 00:00:19.715857+00:00</td>\n",
       "      <td>14</td>\n",
       "      <td>1</td>\n",
       "      <td>0</td>\n",
       "      <td>0.006235</td>\n",
       "      <td>81ce123cbb5bd8ce818f60fb3586bba5</td>\n",
       "      <td>2d03db5543b14483e52d761760686b64</td>\n",
       "      <td>2723d2eb8bba04e0362098011fa3997b</td>\n",
       "      <td>9bde591ffaab8d54c457448e4dca6f53</td>\n",
       "      <td>0.0</td>\n",
       "      <td>...</td>\n",
       "      <td>0.0</td>\n",
       "      <td>0.0</td>\n",
       "      <td>0.0</td>\n",
       "      <td>0.0</td>\n",
       "      <td>0.0</td>\n",
       "      <td>0.0</td>\n",
       "      <td>0.0</td>\n",
       "      <td>0.0</td>\n",
       "      <td>0.0</td>\n",
       "      <td>0.0</td>\n",
       "    </tr>\n",
       "    <tr>\n",
       "      <th>2</th>\n",
       "      <td>2019-11-24 00:01:04.303227+00:00</td>\n",
       "      <td>18</td>\n",
       "      <td>2</td>\n",
       "      <td>0</td>\n",
       "      <td>0.061300</td>\n",
       "      <td>81ce123cbb5bd8ce818f60fb3586bba5</td>\n",
       "      <td>03a5648a76832f83c859d46bc06cb64a</td>\n",
       "      <td>c2e4f76cdbabecd33b8c762aeef386b3</td>\n",
       "      <td>c39b0c7dd5d4eb9a18e7db6ba2f258f8</td>\n",
       "      <td>0.0</td>\n",
       "      <td>...</td>\n",
       "      <td>0.0</td>\n",
       "      <td>0.0</td>\n",
       "      <td>0.0</td>\n",
       "      <td>0.0</td>\n",
       "      <td>0.0</td>\n",
       "      <td>0.0</td>\n",
       "      <td>0.0</td>\n",
       "      <td>0.0</td>\n",
       "      <td>0.0</td>\n",
       "      <td>0.0</td>\n",
       "    </tr>\n",
       "    <tr>\n",
       "      <th>3</th>\n",
       "      <td>2019-11-24 00:01:11.571162+00:00</td>\n",
       "      <td>28</td>\n",
       "      <td>1</td>\n",
       "      <td>0</td>\n",
       "      <td>0.019430</td>\n",
       "      <td>81ce123cbb5bd8ce818f60fb3586bba5</td>\n",
       "      <td>03a5648a76832f83c859d46bc06cb64a</td>\n",
       "      <td>7bc94a2da491829b777c49c4b5e480f2</td>\n",
       "      <td>9bde591ffaab8d54c457448e4dca6f53</td>\n",
       "      <td>0.0</td>\n",
       "      <td>...</td>\n",
       "      <td>0.0</td>\n",
       "      <td>0.0</td>\n",
       "      <td>0.0</td>\n",
       "      <td>0.0</td>\n",
       "      <td>0.0</td>\n",
       "      <td>0.0</td>\n",
       "      <td>0.0</td>\n",
       "      <td>0.0</td>\n",
       "      <td>0.0</td>\n",
       "      <td>0.0</td>\n",
       "    </tr>\n",
       "    <tr>\n",
       "      <th>4</th>\n",
       "      <td>2019-11-24 00:02:41.811768+00:00</td>\n",
       "      <td>65</td>\n",
       "      <td>2</td>\n",
       "      <td>0</td>\n",
       "      <td>0.019375</td>\n",
       "      <td>81ce123cbb5bd8ce818f60fb3586bba5</td>\n",
       "      <td>03a5648a76832f83c859d46bc06cb64a</td>\n",
       "      <td>c2e4f76cdbabecd33b8c762aeef386b3</td>\n",
       "      <td>9bde591ffaab8d54c457448e4dca6f53</td>\n",
       "      <td>0.0</td>\n",
       "      <td>...</td>\n",
       "      <td>0.0</td>\n",
       "      <td>0.0</td>\n",
       "      <td>0.0</td>\n",
       "      <td>0.0</td>\n",
       "      <td>0.0</td>\n",
       "      <td>0.0</td>\n",
       "      <td>0.0</td>\n",
       "      <td>0.0</td>\n",
       "      <td>0.0</td>\n",
       "      <td>0.0</td>\n",
       "    </tr>\n",
       "  </tbody>\n",
       "</table>\n",
       "<p>5 rows × 89 columns</p>\n",
       "</div>"
      ],
      "text/plain": [
       "                          timestamp  item_id  position  click  \\\n",
       "0  2019-11-24 00:00:17.004101+00:00       79         2      0   \n",
       "1  2019-11-24 00:00:19.715857+00:00       14         1      0   \n",
       "2  2019-11-24 00:01:04.303227+00:00       18         2      0   \n",
       "3  2019-11-24 00:01:11.571162+00:00       28         1      0   \n",
       "4  2019-11-24 00:02:41.811768+00:00       65         2      0   \n",
       "\n",
       "   propensity_score                    user_feature_0  \\\n",
       "0          0.087125  81ce123cbb5bd8ce818f60fb3586bba5   \n",
       "1          0.006235  81ce123cbb5bd8ce818f60fb3586bba5   \n",
       "2          0.061300  81ce123cbb5bd8ce818f60fb3586bba5   \n",
       "3          0.019430  81ce123cbb5bd8ce818f60fb3586bba5   \n",
       "4          0.019375  81ce123cbb5bd8ce818f60fb3586bba5   \n",
       "\n",
       "                     user_feature_1                    user_feature_2  \\\n",
       "0  03a5648a76832f83c859d46bc06cb64a  7bc94a2da491829b777c49c4b5e480f2   \n",
       "1  2d03db5543b14483e52d761760686b64  2723d2eb8bba04e0362098011fa3997b   \n",
       "2  03a5648a76832f83c859d46bc06cb64a  c2e4f76cdbabecd33b8c762aeef386b3   \n",
       "3  03a5648a76832f83c859d46bc06cb64a  7bc94a2da491829b777c49c4b5e480f2   \n",
       "4  03a5648a76832f83c859d46bc06cb64a  c2e4f76cdbabecd33b8c762aeef386b3   \n",
       "\n",
       "                     user_feature_3  user-item_affinity_0  ...  \\\n",
       "0  c39b0c7dd5d4eb9a18e7db6ba2f258f8                   0.0  ...   \n",
       "1  9bde591ffaab8d54c457448e4dca6f53                   0.0  ...   \n",
       "2  c39b0c7dd5d4eb9a18e7db6ba2f258f8                   0.0  ...   \n",
       "3  9bde591ffaab8d54c457448e4dca6f53                   0.0  ...   \n",
       "4  9bde591ffaab8d54c457448e4dca6f53                   0.0  ...   \n",
       "\n",
       "   user-item_affinity_70  user-item_affinity_71  user-item_affinity_72  \\\n",
       "0                    0.0                    0.0                    0.0   \n",
       "1                    0.0                    0.0                    0.0   \n",
       "2                    0.0                    0.0                    0.0   \n",
       "3                    0.0                    0.0                    0.0   \n",
       "4                    0.0                    0.0                    0.0   \n",
       "\n",
       "   user-item_affinity_73  user-item_affinity_74  user-item_affinity_75  \\\n",
       "0                    0.0                    0.0                    0.0   \n",
       "1                    0.0                    0.0                    0.0   \n",
       "2                    0.0                    0.0                    0.0   \n",
       "3                    0.0                    0.0                    0.0   \n",
       "4                    0.0                    0.0                    0.0   \n",
       "\n",
       "   user-item_affinity_76  user-item_affinity_77  user-item_affinity_78  \\\n",
       "0                    0.0                    0.0                    0.0   \n",
       "1                    0.0                    0.0                    0.0   \n",
       "2                    0.0                    0.0                    0.0   \n",
       "3                    0.0                    0.0                    0.0   \n",
       "4                    0.0                    0.0                    0.0   \n",
       "\n",
       "   user-item_affinity_79  \n",
       "0                    0.0  \n",
       "1                    0.0  \n",
       "2                    0.0  \n",
       "3                    0.0  \n",
       "4                    0.0  \n",
       "\n",
       "[5 rows x 89 columns]"
      ]
     },
     "execution_count": 6,
     "metadata": {},
     "output_type": "execute_result"
    }
   ],
   "source": [
    "log_df.head()"
   ]
  },
  {
   "cell_type": "code",
   "execution_count": null,
   "id": "50e9e363",
   "metadata": {},
   "outputs": [],
   "source": []
  },
  {
   "cell_type": "markdown",
   "id": "2d5196eb",
   "metadata": {},
   "source": [
    "### Histogram on number of rows per day "
   ]
  },
  {
   "cell_type": "code",
   "execution_count": 9,
   "id": "d9f62bd7",
   "metadata": {},
   "outputs": [],
   "source": [
    "import pandas as pd\n",
    "import plotly.express as px\n",
    "\n",
    "# Ensure proper datetime dtype (keeps timezone info)\n",
    "log_df = log_df.copy()\n",
    "log_df['timestamp'] = pd.to_datetime(log_df['timestamp'], utc=True, errors='coerce')\n",
    "log_df = log_df.loc[log_df['timestamp'].notna()]\n",
    "\n",
    "# # Optional: convert to your local timezone (example: Toronto)\n",
    "# # log_df['timestamp'] = log_df['timestamp'].dt.tz_convert('America/Toronto')\n",
    "\n",
    "# # Count rows per day, including days with zero rows\n",
    "# daily_counts = (\n",
    "#     log_df\n",
    "#     .set_index('timestamp')\n",
    "#     .resample('D')\n",
    "#     .size()\n",
    "#     .rename('rows')\n",
    "#     .reset_index()\n",
    "# )\n",
    "\n",
    "# # Plot with Plotly\n",
    "# fig = px.bar(\n",
    "#     daily_counts,\n",
    "#     x='timestamp',\n",
    "#     y='rows',\n",
    "#     title='Number of Rows per Day',\n",
    "#     labels={'timestamp': 'Date', 'rows': 'Rows'}\n",
    "# )\n",
    "# fig.update_xaxes(title='Date')  # Plotly will format dates nicely\n",
    "# fig.update_yaxes(title='Rows')\n",
    "# fig.show()\n"
   ]
  },
  {
   "cell_type": "code",
   "execution_count": 10,
   "id": "e558f26c",
   "metadata": {},
   "outputs": [
    {
     "data": {
      "application/vnd.plotly.v1+json": {
       "config": {
        "plotlyServerURL": "https://plot.ly"
       },
       "data": [
        {
         "cliponaxis": false,
         "hovertemplate": "Date=%{x}<br>Rows=%{text}<extra></extra>",
         "legendgroup": "",
         "marker": {
          "color": "#636efa",
          "pattern": {
           "shape": ""
          }
         },
         "name": "",
         "orientation": "v",
         "showlegend": false,
         "text": {
          "bdata": "AAAAAAC0l0AAAAAAACSSQAAAAAAAtJRAAAAAAADomEAAAAAAAASaQAAAAAAAxJZAAAAAAAAElEA=",
          "dtype": "f8"
         },
         "textposition": "outside",
         "texttemplate": "%{text:,}",
         "type": "bar",
         "x": [
          "2019-11-24T00:00:00.000000000",
          "2019-11-25T00:00:00.000000000",
          "2019-11-26T00:00:00.000000000",
          "2019-11-27T00:00:00.000000000",
          "2019-11-28T00:00:00.000000000",
          "2019-11-29T00:00:00.000000000",
          "2019-11-30T00:00:00.000000000"
         ],
         "xaxis": "x",
         "y": {
          "bdata": "7QWJBC0FOgaBBrEFAQU=",
          "dtype": "i2"
         },
         "yaxis": "y"
        }
       ],
       "layout": {
        "barmode": "relative",
        "legend": {
         "tracegroupgap": 0
        },
        "template": {
         "data": {
          "bar": [
           {
            "error_x": {
             "color": "#2a3f5f"
            },
            "error_y": {
             "color": "#2a3f5f"
            },
            "marker": {
             "line": {
              "color": "#E5ECF6",
              "width": 0.5
             },
             "pattern": {
              "fillmode": "overlay",
              "size": 10,
              "solidity": 0.2
             }
            },
            "type": "bar"
           }
          ],
          "barpolar": [
           {
            "marker": {
             "line": {
              "color": "#E5ECF6",
              "width": 0.5
             },
             "pattern": {
              "fillmode": "overlay",
              "size": 10,
              "solidity": 0.2
             }
            },
            "type": "barpolar"
           }
          ],
          "carpet": [
           {
            "aaxis": {
             "endlinecolor": "#2a3f5f",
             "gridcolor": "white",
             "linecolor": "white",
             "minorgridcolor": "white",
             "startlinecolor": "#2a3f5f"
            },
            "baxis": {
             "endlinecolor": "#2a3f5f",
             "gridcolor": "white",
             "linecolor": "white",
             "minorgridcolor": "white",
             "startlinecolor": "#2a3f5f"
            },
            "type": "carpet"
           }
          ],
          "choropleth": [
           {
            "colorbar": {
             "outlinewidth": 0,
             "ticks": ""
            },
            "type": "choropleth"
           }
          ],
          "contour": [
           {
            "colorbar": {
             "outlinewidth": 0,
             "ticks": ""
            },
            "colorscale": [
             [
              0,
              "#0d0887"
             ],
             [
              0.1111111111111111,
              "#46039f"
             ],
             [
              0.2222222222222222,
              "#7201a8"
             ],
             [
              0.3333333333333333,
              "#9c179e"
             ],
             [
              0.4444444444444444,
              "#bd3786"
             ],
             [
              0.5555555555555556,
              "#d8576b"
             ],
             [
              0.6666666666666666,
              "#ed7953"
             ],
             [
              0.7777777777777778,
              "#fb9f3a"
             ],
             [
              0.8888888888888888,
              "#fdca26"
             ],
             [
              1,
              "#f0f921"
             ]
            ],
            "type": "contour"
           }
          ],
          "contourcarpet": [
           {
            "colorbar": {
             "outlinewidth": 0,
             "ticks": ""
            },
            "type": "contourcarpet"
           }
          ],
          "heatmap": [
           {
            "colorbar": {
             "outlinewidth": 0,
             "ticks": ""
            },
            "colorscale": [
             [
              0,
              "#0d0887"
             ],
             [
              0.1111111111111111,
              "#46039f"
             ],
             [
              0.2222222222222222,
              "#7201a8"
             ],
             [
              0.3333333333333333,
              "#9c179e"
             ],
             [
              0.4444444444444444,
              "#bd3786"
             ],
             [
              0.5555555555555556,
              "#d8576b"
             ],
             [
              0.6666666666666666,
              "#ed7953"
             ],
             [
              0.7777777777777778,
              "#fb9f3a"
             ],
             [
              0.8888888888888888,
              "#fdca26"
             ],
             [
              1,
              "#f0f921"
             ]
            ],
            "type": "heatmap"
           }
          ],
          "histogram": [
           {
            "marker": {
             "pattern": {
              "fillmode": "overlay",
              "size": 10,
              "solidity": 0.2
             }
            },
            "type": "histogram"
           }
          ],
          "histogram2d": [
           {
            "colorbar": {
             "outlinewidth": 0,
             "ticks": ""
            },
            "colorscale": [
             [
              0,
              "#0d0887"
             ],
             [
              0.1111111111111111,
              "#46039f"
             ],
             [
              0.2222222222222222,
              "#7201a8"
             ],
             [
              0.3333333333333333,
              "#9c179e"
             ],
             [
              0.4444444444444444,
              "#bd3786"
             ],
             [
              0.5555555555555556,
              "#d8576b"
             ],
             [
              0.6666666666666666,
              "#ed7953"
             ],
             [
              0.7777777777777778,
              "#fb9f3a"
             ],
             [
              0.8888888888888888,
              "#fdca26"
             ],
             [
              1,
              "#f0f921"
             ]
            ],
            "type": "histogram2d"
           }
          ],
          "histogram2dcontour": [
           {
            "colorbar": {
             "outlinewidth": 0,
             "ticks": ""
            },
            "colorscale": [
             [
              0,
              "#0d0887"
             ],
             [
              0.1111111111111111,
              "#46039f"
             ],
             [
              0.2222222222222222,
              "#7201a8"
             ],
             [
              0.3333333333333333,
              "#9c179e"
             ],
             [
              0.4444444444444444,
              "#bd3786"
             ],
             [
              0.5555555555555556,
              "#d8576b"
             ],
             [
              0.6666666666666666,
              "#ed7953"
             ],
             [
              0.7777777777777778,
              "#fb9f3a"
             ],
             [
              0.8888888888888888,
              "#fdca26"
             ],
             [
              1,
              "#f0f921"
             ]
            ],
            "type": "histogram2dcontour"
           }
          ],
          "mesh3d": [
           {
            "colorbar": {
             "outlinewidth": 0,
             "ticks": ""
            },
            "type": "mesh3d"
           }
          ],
          "parcoords": [
           {
            "line": {
             "colorbar": {
              "outlinewidth": 0,
              "ticks": ""
             }
            },
            "type": "parcoords"
           }
          ],
          "pie": [
           {
            "automargin": true,
            "type": "pie"
           }
          ],
          "scatter": [
           {
            "fillpattern": {
             "fillmode": "overlay",
             "size": 10,
             "solidity": 0.2
            },
            "type": "scatter"
           }
          ],
          "scatter3d": [
           {
            "line": {
             "colorbar": {
              "outlinewidth": 0,
              "ticks": ""
             }
            },
            "marker": {
             "colorbar": {
              "outlinewidth": 0,
              "ticks": ""
             }
            },
            "type": "scatter3d"
           }
          ],
          "scattercarpet": [
           {
            "marker": {
             "colorbar": {
              "outlinewidth": 0,
              "ticks": ""
             }
            },
            "type": "scattercarpet"
           }
          ],
          "scattergeo": [
           {
            "marker": {
             "colorbar": {
              "outlinewidth": 0,
              "ticks": ""
             }
            },
            "type": "scattergeo"
           }
          ],
          "scattergl": [
           {
            "marker": {
             "colorbar": {
              "outlinewidth": 0,
              "ticks": ""
             }
            },
            "type": "scattergl"
           }
          ],
          "scattermap": [
           {
            "marker": {
             "colorbar": {
              "outlinewidth": 0,
              "ticks": ""
             }
            },
            "type": "scattermap"
           }
          ],
          "scattermapbox": [
           {
            "marker": {
             "colorbar": {
              "outlinewidth": 0,
              "ticks": ""
             }
            },
            "type": "scattermapbox"
           }
          ],
          "scatterpolar": [
           {
            "marker": {
             "colorbar": {
              "outlinewidth": 0,
              "ticks": ""
             }
            },
            "type": "scatterpolar"
           }
          ],
          "scatterpolargl": [
           {
            "marker": {
             "colorbar": {
              "outlinewidth": 0,
              "ticks": ""
             }
            },
            "type": "scatterpolargl"
           }
          ],
          "scatterternary": [
           {
            "marker": {
             "colorbar": {
              "outlinewidth": 0,
              "ticks": ""
             }
            },
            "type": "scatterternary"
           }
          ],
          "surface": [
           {
            "colorbar": {
             "outlinewidth": 0,
             "ticks": ""
            },
            "colorscale": [
             [
              0,
              "#0d0887"
             ],
             [
              0.1111111111111111,
              "#46039f"
             ],
             [
              0.2222222222222222,
              "#7201a8"
             ],
             [
              0.3333333333333333,
              "#9c179e"
             ],
             [
              0.4444444444444444,
              "#bd3786"
             ],
             [
              0.5555555555555556,
              "#d8576b"
             ],
             [
              0.6666666666666666,
              "#ed7953"
             ],
             [
              0.7777777777777778,
              "#fb9f3a"
             ],
             [
              0.8888888888888888,
              "#fdca26"
             ],
             [
              1,
              "#f0f921"
             ]
            ],
            "type": "surface"
           }
          ],
          "table": [
           {
            "cells": {
             "fill": {
              "color": "#EBF0F8"
             },
             "line": {
              "color": "white"
             }
            },
            "header": {
             "fill": {
              "color": "#C8D4E3"
             },
             "line": {
              "color": "white"
             }
            },
            "type": "table"
           }
          ]
         },
         "layout": {
          "annotationdefaults": {
           "arrowcolor": "#2a3f5f",
           "arrowhead": 0,
           "arrowwidth": 1
          },
          "autotypenumbers": "strict",
          "coloraxis": {
           "colorbar": {
            "outlinewidth": 0,
            "ticks": ""
           }
          },
          "colorscale": {
           "diverging": [
            [
             0,
             "#8e0152"
            ],
            [
             0.1,
             "#c51b7d"
            ],
            [
             0.2,
             "#de77ae"
            ],
            [
             0.3,
             "#f1b6da"
            ],
            [
             0.4,
             "#fde0ef"
            ],
            [
             0.5,
             "#f7f7f7"
            ],
            [
             0.6,
             "#e6f5d0"
            ],
            [
             0.7,
             "#b8e186"
            ],
            [
             0.8,
             "#7fbc41"
            ],
            [
             0.9,
             "#4d9221"
            ],
            [
             1,
             "#276419"
            ]
           ],
           "sequential": [
            [
             0,
             "#0d0887"
            ],
            [
             0.1111111111111111,
             "#46039f"
            ],
            [
             0.2222222222222222,
             "#7201a8"
            ],
            [
             0.3333333333333333,
             "#9c179e"
            ],
            [
             0.4444444444444444,
             "#bd3786"
            ],
            [
             0.5555555555555556,
             "#d8576b"
            ],
            [
             0.6666666666666666,
             "#ed7953"
            ],
            [
             0.7777777777777778,
             "#fb9f3a"
            ],
            [
             0.8888888888888888,
             "#fdca26"
            ],
            [
             1,
             "#f0f921"
            ]
           ],
           "sequentialminus": [
            [
             0,
             "#0d0887"
            ],
            [
             0.1111111111111111,
             "#46039f"
            ],
            [
             0.2222222222222222,
             "#7201a8"
            ],
            [
             0.3333333333333333,
             "#9c179e"
            ],
            [
             0.4444444444444444,
             "#bd3786"
            ],
            [
             0.5555555555555556,
             "#d8576b"
            ],
            [
             0.6666666666666666,
             "#ed7953"
            ],
            [
             0.7777777777777778,
             "#fb9f3a"
            ],
            [
             0.8888888888888888,
             "#fdca26"
            ],
            [
             1,
             "#f0f921"
            ]
           ]
          },
          "colorway": [
           "#636efa",
           "#EF553B",
           "#00cc96",
           "#ab63fa",
           "#FFA15A",
           "#19d3f3",
           "#FF6692",
           "#B6E880",
           "#FF97FF",
           "#FECB52"
          ],
          "font": {
           "color": "#2a3f5f"
          },
          "geo": {
           "bgcolor": "white",
           "lakecolor": "white",
           "landcolor": "#E5ECF6",
           "showlakes": true,
           "showland": true,
           "subunitcolor": "white"
          },
          "hoverlabel": {
           "align": "left"
          },
          "hovermode": "closest",
          "mapbox": {
           "style": "light"
          },
          "paper_bgcolor": "white",
          "plot_bgcolor": "#E5ECF6",
          "polar": {
           "angularaxis": {
            "gridcolor": "white",
            "linecolor": "white",
            "ticks": ""
           },
           "bgcolor": "#E5ECF6",
           "radialaxis": {
            "gridcolor": "white",
            "linecolor": "white",
            "ticks": ""
           }
          },
          "scene": {
           "xaxis": {
            "backgroundcolor": "#E5ECF6",
            "gridcolor": "white",
            "gridwidth": 2,
            "linecolor": "white",
            "showbackground": true,
            "ticks": "",
            "zerolinecolor": "white"
           },
           "yaxis": {
            "backgroundcolor": "#E5ECF6",
            "gridcolor": "white",
            "gridwidth": 2,
            "linecolor": "white",
            "showbackground": true,
            "ticks": "",
            "zerolinecolor": "white"
           },
           "zaxis": {
            "backgroundcolor": "#E5ECF6",
            "gridcolor": "white",
            "gridwidth": 2,
            "linecolor": "white",
            "showbackground": true,
            "ticks": "",
            "zerolinecolor": "white"
           }
          },
          "shapedefaults": {
           "line": {
            "color": "#2a3f5f"
           }
          },
          "ternary": {
           "aaxis": {
            "gridcolor": "white",
            "linecolor": "white",
            "ticks": ""
           },
           "baxis": {
            "gridcolor": "white",
            "linecolor": "white",
            "ticks": ""
           },
           "bgcolor": "#E5ECF6",
           "caxis": {
            "gridcolor": "white",
            "linecolor": "white",
            "ticks": ""
           }
          },
          "title": {
           "x": 0.05
          },
          "xaxis": {
           "automargin": true,
           "gridcolor": "white",
           "linecolor": "white",
           "ticks": "",
           "title": {
            "standoff": 15
           },
           "zerolinecolor": "white",
           "zerolinewidth": 2
          },
          "yaxis": {
           "automargin": true,
           "gridcolor": "white",
           "linecolor": "white",
           "ticks": "",
           "title": {
            "standoff": 15
           },
           "zerolinecolor": "white",
           "zerolinewidth": 2
          }
         }
        },
        "title": {
         "text": "Number of Rows per Day"
        },
        "xaxis": {
         "anchor": "y",
         "domain": [
          0,
          1
         ],
         "title": {
          "text": "Date"
         }
        },
        "yaxis": {
         "anchor": "x",
         "domain": [
          0,
          1
         ],
         "range": [
          0,
          1831.5000000000002
         ],
         "title": {
          "text": "Rows"
         }
        }
       }
      }
     },
     "metadata": {},
     "output_type": "display_data"
    }
   ],
   "source": [
    "import plotly.express as px\n",
    "\n",
    "fig = px.bar(\n",
    "    daily_counts,\n",
    "    x='timestamp',\n",
    "    y='rows',\n",
    "    text='rows',\n",
    "    title='Number of Rows per Day',\n",
    "    labels={'timestamp': 'Date', 'rows': 'Rows'}\n",
    ")\n",
    "# Show values on top of each bar\n",
    "fig.update_traces(\n",
    "    texttemplate='%{text:,}',   # thousands separator\n",
    "    textposition='outside',\n",
    "    cliponaxis=False\n",
    ")\n",
    "# Add a bit of headroom so labels don’t get clipped\n",
    "max_y = daily_counts['rows'].max()\n",
    "fig.update_layout(yaxis_range=[0, max(1, max_y * 1.1)])\n",
    "\n",
    "fig.show()\n"
   ]
  },
  {
   "cell_type": "code",
   "execution_count": null,
   "id": "8457a6f2",
   "metadata": {},
   "outputs": [],
   "source": []
  }
 ],
 "metadata": {
  "kernelspec": {
   "display_name": "obp_replication",
   "language": "python",
   "name": "python3"
  },
  "language_info": {
   "codemirror_mode": {
    "name": "ipython",
    "version": 3
   },
   "file_extension": ".py",
   "mimetype": "text/x-python",
   "name": "python",
   "nbconvert_exporter": "python",
   "pygments_lexer": "ipython3",
   "version": "3.10.18"
  }
 },
 "nbformat": 4,
 "nbformat_minor": 5
}
