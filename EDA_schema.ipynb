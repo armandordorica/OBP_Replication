{
 "cells": [
  {
   "cell_type": "code",
   "execution_count": 1,
   "id": "512d406b",
   "metadata": {},
   "outputs": [
    {
     "name": "stdout",
     "output_type": "stream",
     "text": [
      "/Users/armandoordoricadelatorre/Documents/U of T/PhD/PhD Research/OBP_Replication\n"
     ]
    }
   ],
   "source": [
    "import pandas as pd\n",
    "from obp.dataset import OpenBanditDataset\n",
    "import os\n",
    "import plotly.express as px\n",
    "import numpy as np\n",
    "import string\n",
    "import plotly.graph_objects as go\n",
    "import math\n",
    "from plotly.subplots import make_subplots\n",
    "\n",
    "from sklearn.ensemble import RandomForestClassifier\n",
    "from sklearn.model_selection import train_test_split\n",
    "from sklearn.metrics import roc_auc_score, accuracy_score\n",
    "\n",
    "# Import visualization functions from our custom module\n",
    "from visualizations import plot_bar_chart, plot_distribution_with_cdf\n",
    "\n",
    "print(os.getcwd())\n",
    "\n",
    "pd.set_option('display.max_rows', 500)\n",
    "pd.set_option('display.max_columns', 500)\n",
    "pd.set_option('display.width', 1000)"
   ]
  },
  {
   "cell_type": "markdown",
   "id": "3a601ab8",
   "metadata": {},
   "source": [
    "### Helper functions"
   ]
  },
  {
   "cell_type": "code",
   "execution_count": 2,
   "id": "fe189c91",
   "metadata": {},
   "outputs": [],
   "source": [
    "\n",
    "def remap_user_features(df, feature_cols):\n",
    "    \"\"\"\n",
    "    Map hash values in user_feature_N to short readable codes like A1, B1, ...\n",
    "    \"\"\"\n",
    "    df_copy = df.copy()\n",
    "    mapping_dicts = {}\n",
    "\n",
    "    for col in feature_cols:\n",
    "        # Extract the feature index (N from 'user_feature_N')\n",
    "        feature_idx = col.split(\"_\")[-1]\n",
    "        uniques = df[col].dropna().unique()\n",
    "\n",
    "        # Build codes A{N}, B{N}, C{N}...\n",
    "        codes = [f\"{letter}{feature_idx}\" for letter in string.ascii_uppercase[:len(uniques)]]\n",
    "        mapping = dict(zip(uniques, codes))\n",
    "\n",
    "        df_copy[col] = df[col].map(mapping)\n",
    "        mapping_dicts[col] = mapping\n",
    "\n",
    "    return df_copy, mapping_dicts"
   ]
  },
  {
   "cell_type": "markdown",
   "id": "9e8b881c",
   "metadata": {},
   "source": [
    "### Import logged data from `all.csv` and `item_context.csv`"
   ]
  },
  {
   "cell_type": "code",
   "execution_count": 3,
   "id": "0680605f",
   "metadata": {},
   "outputs": [
    {
     "name": "stdout",
     "output_type": "stream",
     "text": [
      "log_df shape: (10000, 89)\n",
      "items_df shape: (80, 5)\n",
      "\n",
      "log_df columns:\n",
      "['timestamp', 'item_id', 'position', 'click', 'propensity_score', 'user_feature_0', 'user_feature_1', 'user_feature_2', 'user_feature_3', 'user-item_affinity_0', 'user-item_affinity_1', 'user-item_affinity_2', 'user-item_affinity_3', 'user-item_affinity_4', 'user-item_affinity_5', 'user-item_affinity_6', 'user-item_affinity_7', 'user-item_affinity_8', 'user-item_affinity_9', 'user-item_affinity_10', 'user-item_affinity_11', 'user-item_affinity_12', 'user-item_affinity_13', 'user-item_affinity_14', 'user-item_affinity_15', 'user-item_affinity_16', 'user-item_affinity_17', 'user-item_affinity_18', 'user-item_affinity_19', 'user-item_affinity_20', 'user-item_affinity_21', 'user-item_affinity_22', 'user-item_affinity_23', 'user-item_affinity_24', 'user-item_affinity_25', 'user-item_affinity_26', 'user-item_affinity_27', 'user-item_affinity_28', 'user-item_affinity_29', 'user-item_affinity_30']\n",
      "\n",
      "first 5 log rows:\n",
      "                          timestamp  item_id  position  click  propensity_score                    user_feature_0                    user_feature_1                    user_feature_2                    user_feature_3  user-item_affinity_0  user-item_affinity_1  user-item_affinity_2  user-item_affinity_3  user-item_affinity_4  user-item_affinity_5  user-item_affinity_6  user-item_affinity_7  user-item_affinity_8  user-item_affinity_9  user-item_affinity_10  user-item_affinity_11  user-item_affinity_12  user-item_affinity_13  user-item_affinity_14  user-item_affinity_15  user-item_affinity_16  user-item_affinity_17  user-item_affinity_18  user-item_affinity_19  user-item_affinity_20  user-item_affinity_21  user-item_affinity_22  user-item_affinity_23  user-item_affinity_24  user-item_affinity_25  user-item_affinity_26  user-item_affinity_27  user-item_affinity_28  user-item_affinity_29  user-item_affinity_30  user-item_affinity_31  user-item_affinity_32  user-item_affinity_33  \\\n",
      "0  2019-11-24 00:00:17.004101+00:00       79         2      0          0.087125  81ce123cbb5bd8ce818f60fb3586bba5  03a5648a76832f83c859d46bc06cb64a  7bc94a2da491829b777c49c4b5e480f2  c39b0c7dd5d4eb9a18e7db6ba2f258f8                   0.0                   0.0                   0.0                   0.0                   0.0                   0.0                   0.0                   0.0                   0.0                   0.0                    0.0                    0.0                    0.0                    0.0                    0.0                    0.0                    0.0                    0.0                    0.0                    0.0                    0.0                    0.0                    0.0                    0.0                    0.0                    0.0                    0.0                    0.0                    0.0                    0.0                    0.0                    0.0                    0.0                    0.0   \n",
      "1  2019-11-24 00:00:19.715857+00:00       14         1      0          0.006235  81ce123cbb5bd8ce818f60fb3586bba5  2d03db5543b14483e52d761760686b64  2723d2eb8bba04e0362098011fa3997b  9bde591ffaab8d54c457448e4dca6f53                   0.0                   0.0                   0.0                   0.0                   0.0                   0.0                   0.0                   0.0                   0.0                   0.0                    0.0                    0.0                    0.0                    0.0                    0.0                    0.0                    0.0                    0.0                    0.0                    0.0                    0.0                    0.0                    0.0                    0.0                    0.0                    0.0                    0.0                    0.0                    0.0                    0.0                    0.0                    0.0                    0.0                    0.0   \n",
      "2  2019-11-24 00:01:04.303227+00:00       18         2      0          0.061300  81ce123cbb5bd8ce818f60fb3586bba5  03a5648a76832f83c859d46bc06cb64a  c2e4f76cdbabecd33b8c762aeef386b3  c39b0c7dd5d4eb9a18e7db6ba2f258f8                   0.0                   0.0                   0.0                   0.0                   0.0                   0.0                   0.0                   0.0                   0.0                   0.0                    0.0                    0.0                    0.0                    0.0                    0.0                    0.0                    0.0                    0.0                    0.0                    0.0                    0.0                    0.0                    0.0                    0.0                    0.0                    0.0                    0.0                    0.0                    0.0                    0.0                    0.0                    0.0                    0.0                    0.0   \n",
      "3  2019-11-24 00:01:11.571162+00:00       28         1      0          0.019430  81ce123cbb5bd8ce818f60fb3586bba5  03a5648a76832f83c859d46bc06cb64a  7bc94a2da491829b777c49c4b5e480f2  9bde591ffaab8d54c457448e4dca6f53                   0.0                   0.0                   0.0                   0.0                   0.0                   0.0                   0.0                   0.0                   0.0                   0.0                    0.0                    0.0                    0.0                    0.0                    0.0                    0.0                    0.0                    0.0                    0.0                    0.0                    0.0                    0.0                    0.0                    0.0                    0.0                    0.0                    0.0                    0.0                    0.0                    0.0                    0.0                    0.0                    0.0                    0.0   \n",
      "4  2019-11-24 00:02:41.811768+00:00       65         2      0          0.019375  81ce123cbb5bd8ce818f60fb3586bba5  03a5648a76832f83c859d46bc06cb64a  c2e4f76cdbabecd33b8c762aeef386b3  9bde591ffaab8d54c457448e4dca6f53                   0.0                   0.0                   0.0                   0.0                   0.0                   0.0                   0.0                   0.0                   0.0                   0.0                    0.0                    0.0                    0.0                    0.0                    0.0                    0.0                    0.0                    0.0                    0.0                    0.0                    0.0                    0.0                    0.0                    0.0                    0.0                    0.0                    0.0                    0.0                    0.0                    0.0                    0.0                    0.0                    0.0                    0.0   \n",
      "\n",
      "   user-item_affinity_34  user-item_affinity_35  user-item_affinity_36  user-item_affinity_37  user-item_affinity_38  user-item_affinity_39  user-item_affinity_40  user-item_affinity_41  user-item_affinity_42  user-item_affinity_43  user-item_affinity_44  user-item_affinity_45  user-item_affinity_46  user-item_affinity_47  user-item_affinity_48  user-item_affinity_49  user-item_affinity_50  user-item_affinity_51  user-item_affinity_52  user-item_affinity_53  user-item_affinity_54  user-item_affinity_55  user-item_affinity_56  user-item_affinity_57  user-item_affinity_58  user-item_affinity_59  user-item_affinity_60  user-item_affinity_61  user-item_affinity_62  user-item_affinity_63  user-item_affinity_64  user-item_affinity_65  user-item_affinity_66  user-item_affinity_67  user-item_affinity_68  user-item_affinity_69  user-item_affinity_70  user-item_affinity_71  user-item_affinity_72  user-item_affinity_73  user-item_affinity_74  user-item_affinity_75  user-item_affinity_76  \\\n",
      "0                    0.0                    0.0                    0.0                    0.0                    0.0                    0.0                    0.0                    0.0                    0.0                    0.0                    0.0                    0.0                    0.0                    0.0                    0.0                    0.0                    0.0                    0.0                    0.0                    0.0                    0.0                    0.0                    0.0                    0.0                    0.0                    0.0                    0.0                    0.0                    0.0                    0.0                    0.0                    0.0                    0.0                    0.0                    0.0                    0.0                    0.0                    0.0                    0.0                    0.0                    0.0                    0.0                    0.0   \n",
      "1                    0.0                    0.0                    0.0                    0.0                    0.0                    0.0                    0.0                    0.0                    0.0                    0.0                    0.0                    0.0                    0.0                    0.0                    0.0                    0.0                    0.0                    0.0                    0.0                    0.0                    0.0                    0.0                    0.0                    0.0                    0.0                    0.0                    0.0                    0.0                    0.0                    0.0                    0.0                    0.0                    0.0                    0.0                    0.0                    0.0                    0.0                    0.0                    0.0                    0.0                    0.0                    0.0                    0.0   \n",
      "2                    0.0                    0.0                    0.0                    0.0                    0.0                    0.0                    0.0                    0.0                    0.0                    0.0                    0.0                    0.0                    0.0                    0.0                    0.0                    0.0                    0.0                    0.0                    0.0                    0.0                    0.0                    0.0                    0.0                    0.0                    0.0                    0.0                    0.0                    0.0                    0.0                    0.0                    0.0                    0.0                    0.0                    0.0                    0.0                    0.0                    0.0                    0.0                    0.0                    0.0                    0.0                    0.0                    0.0   \n",
      "3                    0.0                    0.0                    0.0                    0.0                    0.0                    0.0                    0.0                    0.0                    0.0                    0.0                    0.0                    0.0                    0.0                    0.0                    0.0                    0.0                    0.0                    0.0                    0.0                    0.0                    0.0                    0.0                    0.0                    0.0                    0.0                    0.0                    0.0                    0.0                    0.0                    0.0                    0.0                    0.0                    0.0                    0.0                    0.0                    0.0                    0.0                    0.0                    0.0                    0.0                    0.0                    0.0                    0.0   \n",
      "4                    0.0                    0.0                    0.0                    0.0                    0.0                    0.0                    0.0                    0.0                    0.0                    0.0                    0.0                    0.0                    0.0                    0.0                    0.0                    0.0                    0.0                    0.0                    0.0                    0.0                    0.0                    0.0                    0.0                    0.0                    0.0                    0.0                    0.0                    0.0                    0.0                    0.0                    0.0                    0.0                    0.0                    0.0                    0.0                    0.0                    0.0                    0.0                    0.0                    0.0                    0.0                    0.0                    0.0   \n",
      "\n",
      "   user-item_affinity_77  user-item_affinity_78  user-item_affinity_79  \n",
      "0                    0.0                    0.0                    0.0  \n",
      "1                    0.0                    0.0                    0.0  \n",
      "2                    0.0                    0.0                    0.0  \n",
      "3                    0.0                    0.0                    0.0  \n",
      "4                    0.0                    0.0                    0.0  \n",
      "\n",
      "first 5 item rows:\n",
      "   item_id  item_feature_0                    item_feature_1                    item_feature_2                    item_feature_3\n",
      "0        0       -0.499172  527a325f46248058e3c5df9fb548f05f  5e92ce840abf12dc17408ca42b189836  84fd569b1b2309788c39aced8f88d084\n",
      "1        1       -0.543775  84c5238bc7dfedff64df3e71e39456d3  5e92ce840abf12dc17408ca42b189836  84fd569b1b2309788c39aced8f88d084\n",
      "2        2        0.972752  84c5238bc7dfedff64df3e71e39456d3  b913be25b9f7b764dcdeeac826fbd94b  78469ccb0d9544e55354632ff51ed422\n",
      "3        3       -0.521473  ab5678265d1b6b884ddc30cac35dc0b7  1c3a19a4f1fb7e108afd14f43393a79d  3c8f79fff6b73fd5a3eaebdc20b37078\n",
      "4        4        1.909430  31a4dca305b5aae308a77f24d2568951  8d83a426afeac570837704062f5bbe37  78469ccb0d9544e55354632ff51ed422\n"
     ]
    }
   ],
   "source": [
    "\n",
    "# BTS / ALL sample\n",
    "log_df   = pd.read_csv(\"zr-obp/obd/bts/all/all.csv\", index_col=0)\n",
    "items_df = pd.read_csv(\"zr-obp/obd/bts/all/item_context.csv\", index_col=0)\n",
    "\n",
    "print(\"log_df shape:\", log_df.shape)\n",
    "print(\"items_df shape:\", items_df.shape)\n",
    "\n",
    "print(\"\\nlog_df columns:\")\n",
    "print(log_df.columns.tolist()[:40])  # peek first ~40 col names\n",
    "\n",
    "print(\"\\nfirst 5 log rows:\")\n",
    "print(log_df.head())\n",
    "\n",
    "print(\"\\nfirst 5 item rows:\")\n",
    "print(items_df.head())"
   ]
  },
  {
   "cell_type": "code",
   "execution_count": 4,
   "id": "3d64ef2e",
   "metadata": {},
   "outputs": [
    {
     "name": "stderr",
     "output_type": "stream",
     "text": [
      "/var/folders/y5/tznhkgh5213_vwg51thdy0x80000gn/T/ipykernel_13061/924298069.py:2: UserWarning: \n",
      "\n",
      "`distplot` is a deprecated function and will be removed in seaborn v0.14.0.\n",
      "\n",
      "Please adapt your code to use either `displot` (a figure-level function with\n",
      "similar flexibility) or `histplot` (an axes-level function for histograms).\n",
      "\n",
      "For a guide to updating your code to use the new functions, please see\n",
      "https://gist.github.com/mwaskom/de44147ed2974457ad6372750bbe5751\n",
      "\n",
      "  sns.distplot(items_df['item_feature_0'])\n"
     ]
    },
    {
     "data": {
      "text/plain": [
       "<Axes: xlabel='item_feature_0', ylabel='Density'>"
      ]
     },
     "execution_count": 4,
     "metadata": {},
     "output_type": "execute_result"
    },
    {
     "data": {
      "image/png": "[encoded data removed]",
      "text/plain": [
       "<Figure size 640x480 with 1 Axes>"
      ]
     },
     "metadata": {},
     "output_type": "display_data"
    }
   ],
   "source": [
    "import seaborn as sns\n",
    "sns.distplot(items_df['item_feature_0'])"
   ]
  },
  {
   "cell_type": "code",
   "execution_count": 5,
   "id": "7d8ea37a",
   "metadata": {},
   "outputs": [
    {
     "data": {
      "text/plain": [
       "(-1.056718399349641, 3.782787592501191, 41)"
      ]
     },
     "execution_count": 5,
     "metadata": {},
     "output_type": "execute_result"
    }
   ],
   "source": [
    "items_df['item_feature_0'].min(), items_df['item_feature_0'].max(), items_df['item_feature_0'].nunique()"
   ]
  },
  {
   "cell_type": "code",
   "execution_count": 6,
   "id": "1cb21fcb",
   "metadata": {},
   "outputs": [
    {
     "data": {
      "text/plain": [
       "(4.5e-05, 0.95424, 7883)"
      ]
     },
     "execution_count": 6,
     "metadata": {},
     "output_type": "execute_result"
    }
   ],
   "source": [
    "log_df['propensity_score'].min(), log_df['propensity_score'].max(), log_df['propensity_score'].nunique()"
   ]
  },
  {
   "cell_type": "code",
   "execution_count": 7,
   "id": "d3ffbe7a",
   "metadata": {},
   "outputs": [
    {
     "name": "stdout",
     "output_type": "stream",
     "text": [
      "user_feature_0: min=4ae385d792f81dde128124a925a830de, max=cef3390ed299c09874189c387777674a, unique=3\n",
      "user_feature_1: min=03a5648a76832f83c859d46bc06cb64a, max=f1c2d6a32ec39249160cf784b63f4c6f, unique=5\n",
      "user_feature_2: min=2723d2eb8bba04e0362098011fa3997b, max=c7cce49040b6630e9b5484dfcc0e6cd1, unique=9\n",
      "user_feature_3: min=05b76f5e97e51128862059ac7df9e42a, max=f97571b9c14a786aab269f0b427d2a85, unique=9\n"
     ]
    }
   ],
   "source": [
    "for user_features in log_df.columns.tolist():\n",
    "    if user_features.startswith(\"user_feature_\"):\n",
    "        print(f\"{user_features}: min={log_df[user_features].min()}, max={log_df[user_features].max()}, unique={log_df[user_features].nunique()}\")"
   ]
  },
  {
   "cell_type": "code",
   "execution_count": 8,
   "id": "d2438b52",
   "metadata": {},
   "outputs": [
    {
     "data": {
      "text/plain": [
       "(0.0, 0.0, 1)"
      ]
     },
     "execution_count": 8,
     "metadata": {},
     "output_type": "execute_result"
    }
   ],
   "source": [
    "log_df['user-item_affinity_0'].min(), log_df['user-item_affinity_0'].max(), log_df['user-item_affinity_0'].nunique()"
   ]
  },
  {
   "cell_type": "code",
   "execution_count": 9,
   "id": "3fea6e72",
   "metadata": {},
   "outputs": [
    {
     "name": "stdout",
     "output_type": "stream",
     "text": [
      "item_feature_0: min=-1.056718399349641, max=3.782787592501191, unique=41\n",
      "item_feature_1: min=1c3ca9815f059a8c26c6d1fae6071105, max=fd5c8b8aa48f0f39108b280da9c3bb99, unique=12\n",
      "item_feature_2: min=02f313f24a15548a9d0c2948d584f370, max=e338631de2b9905f20cc62bd7764ce49, unique=21\n",
      "item_feature_3: min=36163e60414fb83e275f7a3cff00ccbc, max=ee93c727c612367ffb4d9881f8948d68, unique=7\n"
     ]
    }
   ],
   "source": [
    "for item_feature in items_df.columns.tolist():\n",
    "    if item_feature.startswith(\"item_feature_\"):\n",
    "        print(f\"{item_feature}: min={items_df[item_feature].min()}, max={items_df[item_feature].max()}, unique={items_df[item_feature].nunique()}\")"
   ]
  },
  {
   "cell_type": "markdown",
   "id": "df6fb8aa",
   "metadata": {},
   "source": [
    "### Remapping categorical features to readable categories"
   ]
  },
  {
   "cell_type": "code",
   "execution_count": 10,
   "id": "085e89eb",
   "metadata": {},
   "outputs": [
    {
     "name": "stdout",
     "output_type": "stream",
     "text": [
      "Sample remapped features:\n"
     ]
    },
    {
     "data": {
      "text/html": [
       "<div>\n",
       "<style scoped>\n",
       "    .dataframe tbody tr th:only-of-type {\n",
       "        vertical-align: middle;\n",
       "    }\n",
       "\n",
       "    .dataframe tbody tr th {\n",
       "        vertical-align: top;\n",
       "    }\n",
       "\n",
       "    .dataframe thead th {\n",
       "        text-align: right;\n",
       "    }\n",
       "</style>\n",
       "<table border=\"1\" class=\"dataframe\">\n",
       "  <thead>\n",
       "    <tr style=\"text-align: right;\">\n",
       "      <th></th>\n",
       "      <th>user_feature_0</th>\n",
       "      <th>user_feature_1</th>\n",
       "      <th>user_feature_2</th>\n",
       "      <th>user_feature_3</th>\n",
       "    </tr>\n",
       "  </thead>\n",
       "  <tbody>\n",
       "    <tr>\n",
       "      <th>0</th>\n",
       "      <td>A0</td>\n",
       "      <td>A1</td>\n",
       "      <td>A2</td>\n",
       "      <td>A3</td>\n",
       "    </tr>\n",
       "    <tr>\n",
       "      <th>1</th>\n",
       "      <td>A0</td>\n",
       "      <td>B1</td>\n",
       "      <td>B2</td>\n",
       "      <td>B3</td>\n",
       "    </tr>\n",
       "    <tr>\n",
       "      <th>2</th>\n",
       "      <td>A0</td>\n",
       "      <td>A1</td>\n",
       "      <td>C2</td>\n",
       "      <td>A3</td>\n",
       "    </tr>\n",
       "    <tr>\n",
       "      <th>3</th>\n",
       "      <td>A0</td>\n",
       "      <td>A1</td>\n",
       "      <td>A2</td>\n",
       "      <td>B3</td>\n",
       "    </tr>\n",
       "    <tr>\n",
       "      <th>4</th>\n",
       "      <td>A0</td>\n",
       "      <td>A1</td>\n",
       "      <td>C2</td>\n",
       "      <td>B3</td>\n",
       "    </tr>\n",
       "  </tbody>\n",
       "</table>\n",
       "</div>"
      ],
      "text/plain": [
       "  user_feature_0 user_feature_1 user_feature_2 user_feature_3\n",
       "0             A0             A1             A2             A3\n",
       "1             A0             B1             B2             B3\n",
       "2             A0             A1             C2             A3\n",
       "3             A0             A1             A2             B3\n",
       "4             A0             A1             C2             B3"
      ]
     },
     "metadata": {},
     "output_type": "display_data"
    },
    {
     "name": "stdout",
     "output_type": "stream",
     "text": [
      "\n",
      "Mappings used:\n",
      "user_feature_0: {'81ce123cbb5bd8ce818f60fb3586bba5': 'A0', 'cef3390ed299c09874189c387777674a': 'B0', '4ae385d792f81dde128124a925a830de': 'C0'}\n",
      "user_feature_1: {'03a5648a76832f83c859d46bc06cb64a': 'A1', '2d03db5543b14483e52d761760686b64': 'B1', '6ff54aa8ff7a9dde75161c20a3ee4231': 'C1', 'f1c2d6a32ec39249160cf784b63f4c6f': 'D1', '8b50621825ffd909dd8d8317d366271f': 'E1'}\n",
      "user_feature_2: {'7bc94a2da491829b777c49c4b5e480f2': 'A2', '2723d2eb8bba04e0362098011fa3997b': 'B2', 'c2e4f76cdbabecd33b8c762aeef386b3': 'C2', '719dab53a7560218a9d1f96b25d6fa32': 'D2', '9b2d331c329ceb74d3dcfb48d8798c78': 'E2', '302deff13f835d731df1c842eed95971': 'F2', '9f4e8271d3d3014af5f35124c2de5082': 'G2', '7ae37150e596e6e8f19e27a06bd4d359': 'H2', 'c7cce49040b6630e9b5484dfcc0e6cd1': 'I2'}\n",
      "user_feature_3: {'c39b0c7dd5d4eb9a18e7db6ba2f258f8': 'A3', '9bde591ffaab8d54c457448e4dca6f53': 'B3', '05b76f5e97e51128862059ac7df9e42a': 'C3', 'f97571b9c14a786aab269f0b427d2a85': 'D3', '06128286bcc64b6a4b0fb7bc0328fe17': 'E3', '270b3e1c052b4f2e9c90bf0ebeb84f34': 'F3', 'ec6cfbbf6c92863522964288cddad06c': 'G3', '3aef83d337306549f1f8ca5a8b8ecff8': 'H3', '1f5491ca59138af653430c90c33319b5': 'I3'}\n"
     ]
    }
   ],
   "source": [
    "user_feature_cols = [c for c in log_df.columns if c.startswith(\"user_feature\")]\n",
    "log_df_readable, mappings = remap_user_features(log_df, user_feature_cols)\n",
    "\n",
    "print(\"Sample remapped features:\")\n",
    "display(log_df_readable[user_feature_cols].head())\n",
    "\n",
    "print(\"\\nMappings used:\")\n",
    "for feat, mapping in mappings.items():\n",
    "    print(f\"{feat}: {mapping}\")"
   ]
  },
  {
   "cell_type": "code",
   "execution_count": 11,
   "id": "1e2f11a7",
   "metadata": {},
   "outputs": [
    {
     "data": {
      "text/html": [
       "<div>\n",
       "<style scoped>\n",
       "    .dataframe tbody tr th:only-of-type {\n",
       "        vertical-align: middle;\n",
       "    }\n",
       "\n",
       "    .dataframe tbody tr th {\n",
       "        vertical-align: top;\n",
       "    }\n",
       "\n",
       "    .dataframe thead th {\n",
       "        text-align: right;\n",
       "    }\n",
       "</style>\n",
       "<table border=\"1\" class=\"dataframe\">\n",
       "  <thead>\n",
       "    <tr style=\"text-align: right;\">\n",
       "      <th></th>\n",
       "      <th>timestamp</th>\n",
       "      <th>item_id</th>\n",
       "      <th>position</th>\n",
       "      <th>click</th>\n",
       "      <th>propensity_score</th>\n",
       "      <th>user_feature_0</th>\n",
       "      <th>user_feature_1</th>\n",
       "      <th>user_feature_2</th>\n",
       "      <th>user_feature_3</th>\n",
       "      <th>user-item_affinity_0</th>\n",
       "      <th>user-item_affinity_1</th>\n",
       "      <th>user-item_affinity_2</th>\n",
       "      <th>user-item_affinity_3</th>\n",
       "      <th>user-item_affinity_4</th>\n",
       "      <th>user-item_affinity_5</th>\n",
       "      <th>user-item_affinity_6</th>\n",
       "      <th>user-item_affinity_7</th>\n",
       "      <th>user-item_affinity_8</th>\n",
       "      <th>user-item_affinity_9</th>\n",
       "      <th>user-item_affinity_10</th>\n",
       "      <th>user-item_affinity_11</th>\n",
       "      <th>user-item_affinity_12</th>\n",
       "      <th>user-item_affinity_13</th>\n",
       "      <th>user-item_affinity_14</th>\n",
       "      <th>user-item_affinity_15</th>\n",
       "      <th>user-item_affinity_16</th>\n",
       "      <th>user-item_affinity_17</th>\n",
       "      <th>user-item_affinity_18</th>\n",
       "      <th>user-item_affinity_19</th>\n",
       "      <th>user-item_affinity_20</th>\n",
       "      <th>user-item_affinity_21</th>\n",
       "      <th>user-item_affinity_22</th>\n",
       "      <th>user-item_affinity_23</th>\n",
       "      <th>user-item_affinity_24</th>\n",
       "      <th>user-item_affinity_25</th>\n",
       "      <th>user-item_affinity_26</th>\n",
       "      <th>user-item_affinity_27</th>\n",
       "      <th>user-item_affinity_28</th>\n",
       "      <th>user-item_affinity_29</th>\n",
       "      <th>user-item_affinity_30</th>\n",
       "      <th>user-item_affinity_31</th>\n",
       "      <th>user-item_affinity_32</th>\n",
       "      <th>user-item_affinity_33</th>\n",
       "      <th>user-item_affinity_34</th>\n",
       "      <th>user-item_affinity_35</th>\n",
       "      <th>user-item_affinity_36</th>\n",
       "      <th>user-item_affinity_37</th>\n",
       "      <th>user-item_affinity_38</th>\n",
       "      <th>user-item_affinity_39</th>\n",
       "      <th>user-item_affinity_40</th>\n",
       "      <th>user-item_affinity_41</th>\n",
       "      <th>user-item_affinity_42</th>\n",
       "      <th>user-item_affinity_43</th>\n",
       "      <th>user-item_affinity_44</th>\n",
       "      <th>user-item_affinity_45</th>\n",
       "      <th>user-item_affinity_46</th>\n",
       "      <th>user-item_affinity_47</th>\n",
       "      <th>user-item_affinity_48</th>\n",
       "      <th>user-item_affinity_49</th>\n",
       "      <th>user-item_affinity_50</th>\n",
       "      <th>user-item_affinity_51</th>\n",
       "      <th>user-item_affinity_52</th>\n",
       "      <th>user-item_affinity_53</th>\n",
       "      <th>user-item_affinity_54</th>\n",
       "      <th>user-item_affinity_55</th>\n",
       "      <th>user-item_affinity_56</th>\n",
       "      <th>user-item_affinity_57</th>\n",
       "      <th>user-item_affinity_58</th>\n",
       "      <th>user-item_affinity_59</th>\n",
       "      <th>user-item_affinity_60</th>\n",
       "      <th>user-item_affinity_61</th>\n",
       "      <th>user-item_affinity_62</th>\n",
       "      <th>user-item_affinity_63</th>\n",
       "      <th>user-item_affinity_64</th>\n",
       "      <th>user-item_affinity_65</th>\n",
       "      <th>user-item_affinity_66</th>\n",
       "      <th>user-item_affinity_67</th>\n",
       "      <th>user-item_affinity_68</th>\n",
       "      <th>user-item_affinity_69</th>\n",
       "      <th>user-item_affinity_70</th>\n",
       "      <th>user-item_affinity_71</th>\n",
       "      <th>user-item_affinity_72</th>\n",
       "      <th>user-item_affinity_73</th>\n",
       "      <th>user-item_affinity_74</th>\n",
       "      <th>user-item_affinity_75</th>\n",
       "      <th>user-item_affinity_76</th>\n",
       "      <th>user-item_affinity_77</th>\n",
       "      <th>user-item_affinity_78</th>\n",
       "      <th>user-item_affinity_79</th>\n",
       "    </tr>\n",
       "  </thead>\n",
       "  <tbody>\n",
       "    <tr>\n",
       "      <th>0</th>\n",
       "      <td>2019-11-24 00:00:17.004101+00:00</td>\n",
       "      <td>79</td>\n",
       "      <td>2</td>\n",
       "      <td>0</td>\n",
       "      <td>0.087125</td>\n",
       "      <td>A0</td>\n",
       "      <td>A1</td>\n",
       "      <td>A2</td>\n",
       "      <td>A3</td>\n",
       "      <td>0.0</td>\n",
       "      <td>0.0</td>\n",
       "      <td>0.0</td>\n",
       "      <td>0.0</td>\n",
       "      <td>0.0</td>\n",
       "      <td>0.0</td>\n",
       "      <td>0.0</td>\n",
       "      <td>0.0</td>\n",
       "      <td>0.0</td>\n",
       "      <td>0.0</td>\n",
       "      <td>0.0</td>\n",
       "      <td>0.0</td>\n",
       "      <td>0.0</td>\n",
       "      <td>0.0</td>\n",
       "      <td>0.0</td>\n",
       "      <td>0.0</td>\n",
       "      <td>0.0</td>\n",
       "      <td>0.0</td>\n",
       "      <td>0.0</td>\n",
       "      <td>0.0</td>\n",
       "      <td>0.0</td>\n",
       "      <td>0.0</td>\n",
       "      <td>0.0</td>\n",
       "      <td>0.0</td>\n",
       "      <td>0.0</td>\n",
       "      <td>0.0</td>\n",
       "      <td>0.0</td>\n",
       "      <td>0.0</td>\n",
       "      <td>0.0</td>\n",
       "      <td>0.0</td>\n",
       "      <td>0.0</td>\n",
       "      <td>0.0</td>\n",
       "      <td>0.0</td>\n",
       "      <td>0.0</td>\n",
       "      <td>0.0</td>\n",
       "      <td>0.0</td>\n",
       "      <td>0.0</td>\n",
       "      <td>0.0</td>\n",
       "      <td>0.0</td>\n",
       "      <td>0.0</td>\n",
       "      <td>0.0</td>\n",
       "      <td>0.0</td>\n",
       "      <td>0.0</td>\n",
       "      <td>0.0</td>\n",
       "      <td>0.0</td>\n",
       "      <td>0.0</td>\n",
       "      <td>0.0</td>\n",
       "      <td>0.0</td>\n",
       "      <td>0.0</td>\n",
       "      <td>0.0</td>\n",
       "      <td>0.0</td>\n",
       "      <td>0.0</td>\n",
       "      <td>0.0</td>\n",
       "      <td>0.0</td>\n",
       "      <td>0.0</td>\n",
       "      <td>0.0</td>\n",
       "      <td>0.0</td>\n",
       "      <td>0.0</td>\n",
       "      <td>0.0</td>\n",
       "      <td>0.0</td>\n",
       "      <td>0.0</td>\n",
       "      <td>0.0</td>\n",
       "      <td>0.0</td>\n",
       "      <td>0.0</td>\n",
       "      <td>0.0</td>\n",
       "      <td>0.0</td>\n",
       "      <td>0.0</td>\n",
       "      <td>0.0</td>\n",
       "      <td>0.0</td>\n",
       "      <td>0.0</td>\n",
       "      <td>0.0</td>\n",
       "      <td>0.0</td>\n",
       "      <td>0.0</td>\n",
       "      <td>0.0</td>\n",
       "      <td>0.0</td>\n",
       "      <td>0.0</td>\n",
       "      <td>0.0</td>\n",
       "      <td>0.0</td>\n",
       "      <td>0.0</td>\n",
       "      <td>0.0</td>\n",
       "    </tr>\n",
       "    <tr>\n",
       "      <th>1</th>\n",
       "      <td>2019-11-24 00:00:19.715857+00:00</td>\n",
       "      <td>14</td>\n",
       "      <td>1</td>\n",
       "      <td>0</td>\n",
       "      <td>0.006235</td>\n",
       "      <td>A0</td>\n",
       "      <td>B1</td>\n",
       "      <td>B2</td>\n",
       "      <td>B3</td>\n",
       "      <td>0.0</td>\n",
       "      <td>0.0</td>\n",
       "      <td>0.0</td>\n",
       "      <td>0.0</td>\n",
       "      <td>0.0</td>\n",
       "      <td>0.0</td>\n",
       "      <td>0.0</td>\n",
       "      <td>0.0</td>\n",
       "      <td>0.0</td>\n",
       "      <td>0.0</td>\n",
       "      <td>0.0</td>\n",
       "      <td>0.0</td>\n",
       "      <td>0.0</td>\n",
       "      <td>0.0</td>\n",
       "      <td>0.0</td>\n",
       "      <td>0.0</td>\n",
       "      <td>0.0</td>\n",
       "      <td>0.0</td>\n",
       "      <td>0.0</td>\n",
       "      <td>0.0</td>\n",
       "      <td>0.0</td>\n",
       "      <td>0.0</td>\n",
       "      <td>0.0</td>\n",
       "      <td>0.0</td>\n",
       "      <td>0.0</td>\n",
       "      <td>0.0</td>\n",
       "      <td>0.0</td>\n",
       "      <td>0.0</td>\n",
       "      <td>0.0</td>\n",
       "      <td>0.0</td>\n",
       "      <td>0.0</td>\n",
       "      <td>0.0</td>\n",
       "      <td>0.0</td>\n",
       "      <td>0.0</td>\n",
       "      <td>0.0</td>\n",
       "      <td>0.0</td>\n",
       "      <td>0.0</td>\n",
       "      <td>0.0</td>\n",
       "      <td>0.0</td>\n",
       "      <td>0.0</td>\n",
       "      <td>0.0</td>\n",
       "      <td>0.0</td>\n",
       "      <td>0.0</td>\n",
       "      <td>0.0</td>\n",
       "      <td>0.0</td>\n",
       "      <td>0.0</td>\n",
       "      <td>0.0</td>\n",
       "      <td>0.0</td>\n",
       "      <td>0.0</td>\n",
       "      <td>0.0</td>\n",
       "      <td>0.0</td>\n",
       "      <td>0.0</td>\n",
       "      <td>0.0</td>\n",
       "      <td>0.0</td>\n",
       "      <td>0.0</td>\n",
       "      <td>0.0</td>\n",
       "      <td>0.0</td>\n",
       "      <td>0.0</td>\n",
       "      <td>0.0</td>\n",
       "      <td>0.0</td>\n",
       "      <td>0.0</td>\n",
       "      <td>0.0</td>\n",
       "      <td>0.0</td>\n",
       "      <td>0.0</td>\n",
       "      <td>0.0</td>\n",
       "      <td>0.0</td>\n",
       "      <td>0.0</td>\n",
       "      <td>0.0</td>\n",
       "      <td>0.0</td>\n",
       "      <td>0.0</td>\n",
       "      <td>0.0</td>\n",
       "      <td>0.0</td>\n",
       "      <td>0.0</td>\n",
       "      <td>0.0</td>\n",
       "      <td>0.0</td>\n",
       "      <td>0.0</td>\n",
       "      <td>0.0</td>\n",
       "      <td>0.0</td>\n",
       "      <td>0.0</td>\n",
       "      <td>0.0</td>\n",
       "    </tr>\n",
       "    <tr>\n",
       "      <th>2</th>\n",
       "      <td>2019-11-24 00:01:04.303227+00:00</td>\n",
       "      <td>18</td>\n",
       "      <td>2</td>\n",
       "      <td>0</td>\n",
       "      <td>0.061300</td>\n",
       "      <td>A0</td>\n",
       "      <td>A1</td>\n",
       "      <td>C2</td>\n",
       "      <td>A3</td>\n",
       "      <td>0.0</td>\n",
       "      <td>0.0</td>\n",
       "      <td>0.0</td>\n",
       "      <td>0.0</td>\n",
       "      <td>0.0</td>\n",
       "      <td>0.0</td>\n",
       "      <td>0.0</td>\n",
       "      <td>0.0</td>\n",
       "      <td>0.0</td>\n",
       "      <td>0.0</td>\n",
       "      <td>0.0</td>\n",
       "      <td>0.0</td>\n",
       "      <td>0.0</td>\n",
       "      <td>0.0</td>\n",
       "      <td>0.0</td>\n",
       "      <td>0.0</td>\n",
       "      <td>0.0</td>\n",
       "      <td>0.0</td>\n",
       "      <td>0.0</td>\n",
       "      <td>0.0</td>\n",
       "      <td>0.0</td>\n",
       "      <td>0.0</td>\n",
       "      <td>0.0</td>\n",
       "      <td>0.0</td>\n",
       "      <td>0.0</td>\n",
       "      <td>0.0</td>\n",
       "      <td>0.0</td>\n",
       "      <td>0.0</td>\n",
       "      <td>0.0</td>\n",
       "      <td>0.0</td>\n",
       "      <td>0.0</td>\n",
       "      <td>0.0</td>\n",
       "      <td>0.0</td>\n",
       "      <td>0.0</td>\n",
       "      <td>0.0</td>\n",
       "      <td>0.0</td>\n",
       "      <td>0.0</td>\n",
       "      <td>0.0</td>\n",
       "      <td>0.0</td>\n",
       "      <td>0.0</td>\n",
       "      <td>0.0</td>\n",
       "      <td>0.0</td>\n",
       "      <td>0.0</td>\n",
       "      <td>0.0</td>\n",
       "      <td>0.0</td>\n",
       "      <td>0.0</td>\n",
       "      <td>0.0</td>\n",
       "      <td>0.0</td>\n",
       "      <td>0.0</td>\n",
       "      <td>0.0</td>\n",
       "      <td>0.0</td>\n",
       "      <td>0.0</td>\n",
       "      <td>0.0</td>\n",
       "      <td>0.0</td>\n",
       "      <td>0.0</td>\n",
       "      <td>0.0</td>\n",
       "      <td>0.0</td>\n",
       "      <td>0.0</td>\n",
       "      <td>0.0</td>\n",
       "      <td>0.0</td>\n",
       "      <td>0.0</td>\n",
       "      <td>0.0</td>\n",
       "      <td>0.0</td>\n",
       "      <td>0.0</td>\n",
       "      <td>0.0</td>\n",
       "      <td>0.0</td>\n",
       "      <td>0.0</td>\n",
       "      <td>0.0</td>\n",
       "      <td>0.0</td>\n",
       "      <td>0.0</td>\n",
       "      <td>0.0</td>\n",
       "      <td>0.0</td>\n",
       "      <td>0.0</td>\n",
       "      <td>0.0</td>\n",
       "      <td>0.0</td>\n",
       "      <td>0.0</td>\n",
       "      <td>0.0</td>\n",
       "      <td>0.0</td>\n",
       "      <td>0.0</td>\n",
       "      <td>0.0</td>\n",
       "    </tr>\n",
       "    <tr>\n",
       "      <th>3</th>\n",
       "      <td>2019-11-24 00:01:11.571162+00:00</td>\n",
       "      <td>28</td>\n",
       "      <td>1</td>\n",
       "      <td>0</td>\n",
       "      <td>0.019430</td>\n",
       "      <td>A0</td>\n",
       "      <td>A1</td>\n",
       "      <td>A2</td>\n",
       "      <td>B3</td>\n",
       "      <td>0.0</td>\n",
       "      <td>0.0</td>\n",
       "      <td>0.0</td>\n",
       "      <td>0.0</td>\n",
       "      <td>0.0</td>\n",
       "      <td>0.0</td>\n",
       "      <td>0.0</td>\n",
       "      <td>0.0</td>\n",
       "      <td>0.0</td>\n",
       "      <td>0.0</td>\n",
       "      <td>0.0</td>\n",
       "      <td>0.0</td>\n",
       "      <td>0.0</td>\n",
       "      <td>0.0</td>\n",
       "      <td>0.0</td>\n",
       "      <td>0.0</td>\n",
       "      <td>0.0</td>\n",
       "      <td>0.0</td>\n",
       "      <td>0.0</td>\n",
       "      <td>0.0</td>\n",
       "      <td>0.0</td>\n",
       "      <td>0.0</td>\n",
       "      <td>0.0</td>\n",
       "      <td>0.0</td>\n",
       "      <td>0.0</td>\n",
       "      <td>0.0</td>\n",
       "      <td>0.0</td>\n",
       "      <td>0.0</td>\n",
       "      <td>0.0</td>\n",
       "      <td>0.0</td>\n",
       "      <td>0.0</td>\n",
       "      <td>0.0</td>\n",
       "      <td>0.0</td>\n",
       "      <td>0.0</td>\n",
       "      <td>0.0</td>\n",
       "      <td>0.0</td>\n",
       "      <td>0.0</td>\n",
       "      <td>0.0</td>\n",
       "      <td>0.0</td>\n",
       "      <td>0.0</td>\n",
       "      <td>0.0</td>\n",
       "      <td>0.0</td>\n",
       "      <td>0.0</td>\n",
       "      <td>0.0</td>\n",
       "      <td>0.0</td>\n",
       "      <td>0.0</td>\n",
       "      <td>0.0</td>\n",
       "      <td>0.0</td>\n",
       "      <td>0.0</td>\n",
       "      <td>0.0</td>\n",
       "      <td>0.0</td>\n",
       "      <td>0.0</td>\n",
       "      <td>0.0</td>\n",
       "      <td>0.0</td>\n",
       "      <td>0.0</td>\n",
       "      <td>0.0</td>\n",
       "      <td>0.0</td>\n",
       "      <td>0.0</td>\n",
       "      <td>0.0</td>\n",
       "      <td>0.0</td>\n",
       "      <td>0.0</td>\n",
       "      <td>0.0</td>\n",
       "      <td>0.0</td>\n",
       "      <td>0.0</td>\n",
       "      <td>0.0</td>\n",
       "      <td>0.0</td>\n",
       "      <td>0.0</td>\n",
       "      <td>0.0</td>\n",
       "      <td>0.0</td>\n",
       "      <td>0.0</td>\n",
       "      <td>0.0</td>\n",
       "      <td>0.0</td>\n",
       "      <td>0.0</td>\n",
       "      <td>0.0</td>\n",
       "      <td>0.0</td>\n",
       "      <td>0.0</td>\n",
       "      <td>0.0</td>\n",
       "      <td>0.0</td>\n",
       "      <td>0.0</td>\n",
       "      <td>0.0</td>\n",
       "    </tr>\n",
       "    <tr>\n",
       "      <th>4</th>\n",
       "      <td>2019-11-24 00:02:41.811768+00:00</td>\n",
       "      <td>65</td>\n",
       "      <td>2</td>\n",
       "      <td>0</td>\n",
       "      <td>0.019375</td>\n",
       "      <td>A0</td>\n",
       "      <td>A1</td>\n",
       "      <td>C2</td>\n",
       "      <td>B3</td>\n",
       "      <td>0.0</td>\n",
       "      <td>0.0</td>\n",
       "      <td>0.0</td>\n",
       "      <td>0.0</td>\n",
       "      <td>0.0</td>\n",
       "      <td>0.0</td>\n",
       "      <td>0.0</td>\n",
       "      <td>0.0</td>\n",
       "      <td>0.0</td>\n",
       "      <td>0.0</td>\n",
       "      <td>0.0</td>\n",
       "      <td>0.0</td>\n",
       "      <td>0.0</td>\n",
       "      <td>0.0</td>\n",
       "      <td>0.0</td>\n",
       "      <td>0.0</td>\n",
       "      <td>0.0</td>\n",
       "      <td>0.0</td>\n",
       "      <td>0.0</td>\n",
       "      <td>0.0</td>\n",
       "      <td>0.0</td>\n",
       "      <td>0.0</td>\n",
       "      <td>0.0</td>\n",
       "      <td>0.0</td>\n",
       "      <td>0.0</td>\n",
       "      <td>0.0</td>\n",
       "      <td>0.0</td>\n",
       "      <td>0.0</td>\n",
       "      <td>0.0</td>\n",
       "      <td>0.0</td>\n",
       "      <td>0.0</td>\n",
       "      <td>0.0</td>\n",
       "      <td>0.0</td>\n",
       "      <td>0.0</td>\n",
       "      <td>0.0</td>\n",
       "      <td>0.0</td>\n",
       "      <td>0.0</td>\n",
       "      <td>0.0</td>\n",
       "      <td>0.0</td>\n",
       "      <td>0.0</td>\n",
       "      <td>0.0</td>\n",
       "      <td>0.0</td>\n",
       "      <td>0.0</td>\n",
       "      <td>0.0</td>\n",
       "      <td>0.0</td>\n",
       "      <td>0.0</td>\n",
       "      <td>0.0</td>\n",
       "      <td>0.0</td>\n",
       "      <td>0.0</td>\n",
       "      <td>0.0</td>\n",
       "      <td>0.0</td>\n",
       "      <td>0.0</td>\n",
       "      <td>0.0</td>\n",
       "      <td>0.0</td>\n",
       "      <td>0.0</td>\n",
       "      <td>0.0</td>\n",
       "      <td>0.0</td>\n",
       "      <td>0.0</td>\n",
       "      <td>0.0</td>\n",
       "      <td>0.0</td>\n",
       "      <td>0.0</td>\n",
       "      <td>0.0</td>\n",
       "      <td>0.0</td>\n",
       "      <td>0.0</td>\n",
       "      <td>0.0</td>\n",
       "      <td>0.0</td>\n",
       "      <td>0.0</td>\n",
       "      <td>0.0</td>\n",
       "      <td>0.0</td>\n",
       "      <td>0.0</td>\n",
       "      <td>0.0</td>\n",
       "      <td>0.0</td>\n",
       "      <td>0.0</td>\n",
       "      <td>0.0</td>\n",
       "      <td>0.0</td>\n",
       "      <td>0.0</td>\n",
       "      <td>0.0</td>\n",
       "      <td>0.0</td>\n",
       "      <td>0.0</td>\n",
       "      <td>0.0</td>\n",
       "    </tr>\n",
       "  </tbody>\n",
       "</table>\n",
       "</div>"
      ],
      "text/plain": [
       "                          timestamp  item_id  position  click  propensity_score user_feature_0 user_feature_1 user_feature_2 user_feature_3  user-item_affinity_0  user-item_affinity_1  user-item_affinity_2  user-item_affinity_3  user-item_affinity_4  user-item_affinity_5  user-item_affinity_6  user-item_affinity_7  user-item_affinity_8  user-item_affinity_9  user-item_affinity_10  user-item_affinity_11  user-item_affinity_12  user-item_affinity_13  user-item_affinity_14  user-item_affinity_15  user-item_affinity_16  user-item_affinity_17  user-item_affinity_18  user-item_affinity_19  user-item_affinity_20  user-item_affinity_21  user-item_affinity_22  user-item_affinity_23  user-item_affinity_24  user-item_affinity_25  user-item_affinity_26  user-item_affinity_27  user-item_affinity_28  user-item_affinity_29  user-item_affinity_30  user-item_affinity_31  user-item_affinity_32  user-item_affinity_33  user-item_affinity_34  user-item_affinity_35  user-item_affinity_36  \\\n",
       "0  2019-11-24 00:00:17.004101+00:00       79         2      0          0.087125             A0             A1             A2             A3                   0.0                   0.0                   0.0                   0.0                   0.0                   0.0                   0.0                   0.0                   0.0                   0.0                    0.0                    0.0                    0.0                    0.0                    0.0                    0.0                    0.0                    0.0                    0.0                    0.0                    0.0                    0.0                    0.0                    0.0                    0.0                    0.0                    0.0                    0.0                    0.0                    0.0                    0.0                    0.0                    0.0                    0.0                    0.0                    0.0                    0.0   \n",
       "1  2019-11-24 00:00:19.715857+00:00       14         1      0          0.006235             A0             B1             B2             B3                   0.0                   0.0                   0.0                   0.0                   0.0                   0.0                   0.0                   0.0                   0.0                   0.0                    0.0                    0.0                    0.0                    0.0                    0.0                    0.0                    0.0                    0.0                    0.0                    0.0                    0.0                    0.0                    0.0                    0.0                    0.0                    0.0                    0.0                    0.0                    0.0                    0.0                    0.0                    0.0                    0.0                    0.0                    0.0                    0.0                    0.0   \n",
       "2  2019-11-24 00:01:04.303227+00:00       18         2      0          0.061300             A0             A1             C2             A3                   0.0                   0.0                   0.0                   0.0                   0.0                   0.0                   0.0                   0.0                   0.0                   0.0                    0.0                    0.0                    0.0                    0.0                    0.0                    0.0                    0.0                    0.0                    0.0                    0.0                    0.0                    0.0                    0.0                    0.0                    0.0                    0.0                    0.0                    0.0                    0.0                    0.0                    0.0                    0.0                    0.0                    0.0                    0.0                    0.0                    0.0   \n",
       "3  2019-11-24 00:01:11.571162+00:00       28         1      0          0.019430             A0             A1             A2             B3                   0.0                   0.0                   0.0                   0.0                   0.0                   0.0                   0.0                   0.0                   0.0                   0.0                    0.0                    0.0                    0.0                    0.0                    0.0                    0.0                    0.0                    0.0                    0.0                    0.0                    0.0                    0.0                    0.0                    0.0                    0.0                    0.0                    0.0                    0.0                    0.0                    0.0                    0.0                    0.0                    0.0                    0.0                    0.0                    0.0                    0.0   \n",
       "4  2019-11-24 00:02:41.811768+00:00       65         2      0          0.019375             A0             A1             C2             B3                   0.0                   0.0                   0.0                   0.0                   0.0                   0.0                   0.0                   0.0                   0.0                   0.0                    0.0                    0.0                    0.0                    0.0                    0.0                    0.0                    0.0                    0.0                    0.0                    0.0                    0.0                    0.0                    0.0                    0.0                    0.0                    0.0                    0.0                    0.0                    0.0                    0.0                    0.0                    0.0                    0.0                    0.0                    0.0                    0.0                    0.0   \n",
       "\n",
       "   user-item_affinity_37  user-item_affinity_38  user-item_affinity_39  user-item_affinity_40  user-item_affinity_41  user-item_affinity_42  user-item_affinity_43  user-item_affinity_44  user-item_affinity_45  user-item_affinity_46  user-item_affinity_47  user-item_affinity_48  user-item_affinity_49  user-item_affinity_50  user-item_affinity_51  user-item_affinity_52  user-item_affinity_53  user-item_affinity_54  user-item_affinity_55  user-item_affinity_56  user-item_affinity_57  user-item_affinity_58  user-item_affinity_59  user-item_affinity_60  user-item_affinity_61  user-item_affinity_62  user-item_affinity_63  user-item_affinity_64  user-item_affinity_65  user-item_affinity_66  user-item_affinity_67  user-item_affinity_68  user-item_affinity_69  user-item_affinity_70  user-item_affinity_71  user-item_affinity_72  user-item_affinity_73  user-item_affinity_74  user-item_affinity_75  user-item_affinity_76  user-item_affinity_77  user-item_affinity_78  user-item_affinity_79  \n",
       "0                    0.0                    0.0                    0.0                    0.0                    0.0                    0.0                    0.0                    0.0                    0.0                    0.0                    0.0                    0.0                    0.0                    0.0                    0.0                    0.0                    0.0                    0.0                    0.0                    0.0                    0.0                    0.0                    0.0                    0.0                    0.0                    0.0                    0.0                    0.0                    0.0                    0.0                    0.0                    0.0                    0.0                    0.0                    0.0                    0.0                    0.0                    0.0                    0.0                    0.0                    0.0                    0.0                    0.0  \n",
       "1                    0.0                    0.0                    0.0                    0.0                    0.0                    0.0                    0.0                    0.0                    0.0                    0.0                    0.0                    0.0                    0.0                    0.0                    0.0                    0.0                    0.0                    0.0                    0.0                    0.0                    0.0                    0.0                    0.0                    0.0                    0.0                    0.0                    0.0                    0.0                    0.0                    0.0                    0.0                    0.0                    0.0                    0.0                    0.0                    0.0                    0.0                    0.0                    0.0                    0.0                    0.0                    0.0                    0.0  \n",
       "2                    0.0                    0.0                    0.0                    0.0                    0.0                    0.0                    0.0                    0.0                    0.0                    0.0                    0.0                    0.0                    0.0                    0.0                    0.0                    0.0                    0.0                    0.0                    0.0                    0.0                    0.0                    0.0                    0.0                    0.0                    0.0                    0.0                    0.0                    0.0                    0.0                    0.0                    0.0                    0.0                    0.0                    0.0                    0.0                    0.0                    0.0                    0.0                    0.0                    0.0                    0.0                    0.0                    0.0  \n",
       "3                    0.0                    0.0                    0.0                    0.0                    0.0                    0.0                    0.0                    0.0                    0.0                    0.0                    0.0                    0.0                    0.0                    0.0                    0.0                    0.0                    0.0                    0.0                    0.0                    0.0                    0.0                    0.0                    0.0                    0.0                    0.0                    0.0                    0.0                    0.0                    0.0                    0.0                    0.0                    0.0                    0.0                    0.0                    0.0                    0.0                    0.0                    0.0                    0.0                    0.0                    0.0                    0.0                    0.0  \n",
       "4                    0.0                    0.0                    0.0                    0.0                    0.0                    0.0                    0.0                    0.0                    0.0                    0.0                    0.0                    0.0                    0.0                    0.0                    0.0                    0.0                    0.0                    0.0                    0.0                    0.0                    0.0                    0.0                    0.0                    0.0                    0.0                    0.0                    0.0                    0.0                    0.0                    0.0                    0.0                    0.0                    0.0                    0.0                    0.0                    0.0                    0.0                    0.0                    0.0                    0.0                    0.0                    0.0                    0.0  "
      ]
     },
     "execution_count": 11,
     "metadata": {},
     "output_type": "execute_result"
    }
   ],
   "source": [
    "log_df_readable.head()"
   ]
  },
  {
   "cell_type": "markdown",
   "id": "7337f6bc",
   "metadata": {},
   "source": [
    "# Importing from Random instead of BTS"
   ]
  },
  {
   "cell_type": "code",
   "execution_count": 12,
   "id": "6456bca7",
   "metadata": {},
   "outputs": [
    {
     "name": "stdout",
     "output_type": "stream",
     "text": [
      "log_df shape: (10000, 89)\n",
      "items_df shape: (80, 5)\n",
      "\n",
      "log_df columns:\n",
      "['timestamp', 'item_id', 'position', 'click', 'propensity_score', 'user_feature_0', 'user_feature_1', 'user_feature_2', 'user_feature_3', 'user-item_affinity_0', 'user-item_affinity_1', 'user-item_affinity_2', 'user-item_affinity_3', 'user-item_affinity_4', 'user-item_affinity_5', 'user-item_affinity_6', 'user-item_affinity_7', 'user-item_affinity_8', 'user-item_affinity_9', 'user-item_affinity_10', 'user-item_affinity_11', 'user-item_affinity_12', 'user-item_affinity_13', 'user-item_affinity_14', 'user-item_affinity_15', 'user-item_affinity_16', 'user-item_affinity_17', 'user-item_affinity_18', 'user-item_affinity_19', 'user-item_affinity_20', 'user-item_affinity_21', 'user-item_affinity_22', 'user-item_affinity_23', 'user-item_affinity_24', 'user-item_affinity_25', 'user-item_affinity_26', 'user-item_affinity_27', 'user-item_affinity_28', 'user-item_affinity_29', 'user-item_affinity_30']\n",
      "\n",
      "first 5 log rows:\n",
      "                          timestamp  item_id  position  click  propensity_score                    user_feature_0                    user_feature_1                    user_feature_2                    user_feature_3  user-item_affinity_0  user-item_affinity_1  user-item_affinity_2  user-item_affinity_3  user-item_affinity_4  user-item_affinity_5  user-item_affinity_6  user-item_affinity_7  user-item_affinity_8  user-item_affinity_9  user-item_affinity_10  user-item_affinity_11  user-item_affinity_12  user-item_affinity_13  user-item_affinity_14  user-item_affinity_15  user-item_affinity_16  user-item_affinity_17  user-item_affinity_18  user-item_affinity_19  user-item_affinity_20  user-item_affinity_21  user-item_affinity_22  user-item_affinity_23  user-item_affinity_24  user-item_affinity_25  user-item_affinity_26  user-item_affinity_27  user-item_affinity_28  user-item_affinity_29  user-item_affinity_30  user-item_affinity_31  user-item_affinity_32  user-item_affinity_33  \\\n",
      "0  2019-11-24 00:00:34.762830+00:00       14         3      0            0.0125  81ce123cbb5bd8ce818f60fb3586bba5  03a5648a76832f83c859d46bc06cb64a  c2e4f76cdbabecd33b8c762aeef386b3  f97571b9c14a786aab269f0b427d2a85                   0.0                   0.0                   0.0                   0.0                   0.0                   0.0                   0.0                   0.0                   0.0                   0.0                    0.0                    0.0                    0.0                    0.0                    0.0                    0.0                    0.0                    0.0                    0.0                    0.0                    0.0                    0.0                    0.0                    0.0                    0.0                    0.0                    0.0                    0.0                    0.0                    0.0                    0.0                    0.0                    0.0                    0.0   \n",
      "1  2019-11-24 00:00:53.965051+00:00       14         3      0            0.0125  81ce123cbb5bd8ce818f60fb3586bba5  03a5648a76832f83c859d46bc06cb64a  2723d2eb8bba04e0362098011fa3997b  c39b0c7dd5d4eb9a18e7db6ba2f258f8                   0.0                   0.0                   0.0                   0.0                   0.0                   0.0                   0.0                   0.0                   0.0                   0.0                    0.0                    0.0                    0.0                    0.0                    0.0                    0.0                    0.0                    0.0                    0.0                    0.0                    0.0                    0.0                    0.0                    0.0                    0.0                    0.0                    0.0                    0.0                    0.0                    0.0                    0.0                    0.0                    0.0                    0.0   \n",
      "2  2019-11-24 00:00:56.727734+00:00       27         3      0            0.0125  81ce123cbb5bd8ce818f60fb3586bba5  03a5648a76832f83c859d46bc06cb64a  9b2d331c329ceb74d3dcfb48d8798c78  270b3e1c052b4f2e9c90bf0ebeb84f34                   0.0                   0.0                   0.0                   0.0                   0.0                   0.0                   0.0                   0.0                   0.0                   0.0                    0.0                    0.0                    0.0                    0.0                    0.0                    0.0                    0.0                    0.0                    0.0                    0.0                    0.0                    0.0                    0.0                    0.0                    0.0                    0.0                    0.0                    0.0                    0.0                    0.0                    0.0                    0.0                    0.0                    0.0   \n",
      "3  2019-11-24 00:02:17.189232+00:00       48         2      0            0.0125  81ce123cbb5bd8ce818f60fb3586bba5  03a5648a76832f83c859d46bc06cb64a  2723d2eb8bba04e0362098011fa3997b  c39b0c7dd5d4eb9a18e7db6ba2f258f8                   0.0                   0.0                   0.0                   0.0                   0.0                   0.0                   0.0                   0.0                   0.0                   0.0                    0.0                    0.0                    0.0                    0.0                    0.0                    0.0                    0.0                    0.0                    0.0                    0.0                    0.0                    0.0                    0.0                    0.0                    0.0                    0.0                    0.0                    0.0                    0.0                    0.0                    0.0                    0.0                    0.0                    0.0   \n",
      "4  2019-11-24 00:03:02.129117+00:00       36         2      0            0.0125  81ce123cbb5bd8ce818f60fb3586bba5  03a5648a76832f83c859d46bc06cb64a  c2e4f76cdbabecd33b8c762aeef386b3  f97571b9c14a786aab269f0b427d2a85                   0.0                   0.0                   0.0                   0.0                   0.0                   0.0                   0.0                   0.0                   0.0                   0.0                    0.0                    0.0                    0.0                    0.0                    0.0                    0.0                    0.0                    0.0                    0.0                    0.0                    0.0                    0.0                    0.0                    0.0                    0.0                    0.0                    0.0                    0.0                    0.0                    0.0                    0.0                    0.0                    0.0                    0.0   \n",
      "\n",
      "   user-item_affinity_34  user-item_affinity_35  user-item_affinity_36  user-item_affinity_37  user-item_affinity_38  user-item_affinity_39  user-item_affinity_40  user-item_affinity_41  user-item_affinity_42  user-item_affinity_43  user-item_affinity_44  user-item_affinity_45  user-item_affinity_46  user-item_affinity_47  user-item_affinity_48  user-item_affinity_49  user-item_affinity_50  user-item_affinity_51  user-item_affinity_52  user-item_affinity_53  user-item_affinity_54  user-item_affinity_55  user-item_affinity_56  user-item_affinity_57  user-item_affinity_58  user-item_affinity_59  user-item_affinity_60  user-item_affinity_61  user-item_affinity_62  user-item_affinity_63  user-item_affinity_64  user-item_affinity_65  user-item_affinity_66  user-item_affinity_67  user-item_affinity_68  user-item_affinity_69  user-item_affinity_70  user-item_affinity_71  user-item_affinity_72  user-item_affinity_73  user-item_affinity_74  user-item_affinity_75  user-item_affinity_76  \\\n",
      "0                    0.0                    0.0                    0.0                    0.0                    0.0                    0.0                    0.0                    0.0                    0.0                    0.0                    0.0                    0.0                    0.0                    0.0                    0.0                    0.0                    0.0                    0.0                    0.0                    0.0                    0.0                    0.0                    0.0                    0.0                    0.0                    0.0                    0.0                    0.0                    0.0                    0.0                    0.0                    0.0                    0.0                    0.0                    0.0                    0.0                    0.0                    0.0                    0.0                    0.0                    0.0                    0.0                    0.0   \n",
      "1                    0.0                    0.0                    0.0                    0.0                    0.0                    0.0                    0.0                    0.0                    0.0                    0.0                    0.0                    0.0                    0.0                    0.0                    0.0                    0.0                    0.0                    0.0                    0.0                    0.0                    0.0                    0.0                    0.0                    0.0                    0.0                    0.0                    0.0                    0.0                    0.0                    0.0                    0.0                    0.0                    0.0                    0.0                    0.0                    0.0                    0.0                    0.0                    0.0                    0.0                    0.0                    0.0                    0.0   \n",
      "2                    0.0                    0.0                    0.0                    0.0                    0.0                    0.0                    0.0                    0.0                    0.0                    0.0                    0.0                    0.0                    0.0                    0.0                    0.0                    0.0                    0.0                    0.0                    0.0                    0.0                    0.0                    0.0                    0.0                    0.0                    0.0                    0.0                    0.0                    0.0                    0.0                    0.0                    0.0                    0.0                    0.0                    0.0                    0.0                    0.0                    0.0                    1.0                    0.0                    0.0                    0.0                    0.0                    0.0   \n",
      "3                    0.0                    0.0                    0.0                    0.0                    0.0                    0.0                    0.0                    0.0                    0.0                    0.0                    0.0                    0.0                    0.0                    0.0                    0.0                    0.0                    0.0                    0.0                    0.0                    0.0                    0.0                    0.0                    0.0                    0.0                    0.0                    0.0                    0.0                    0.0                    0.0                    0.0                    0.0                    0.0                    0.0                    0.0                    0.0                    0.0                    0.0                    0.0                    0.0                    0.0                    0.0                    0.0                    0.0   \n",
      "4                    0.0                    0.0                    0.0                    0.0                    0.0                    0.0                    0.0                    0.0                    0.0                    0.0                    0.0                    0.0                    0.0                    0.0                    0.0                    0.0                    0.0                    0.0                    0.0                    0.0                    0.0                    0.0                    0.0                    0.0                    0.0                    0.0                    0.0                    0.0                    0.0                    0.0                    0.0                    0.0                    0.0                    0.0                    0.0                    0.0                    0.0                    0.0                    0.0                    0.0                    0.0                    0.0                    0.0   \n",
      "\n",
      "   user-item_affinity_77  user-item_affinity_78  user-item_affinity_79  \n",
      "0                    0.0                    0.0                    0.0  \n",
      "1                    0.0                    0.0                    0.0  \n",
      "2                    0.0                    0.0                    0.0  \n",
      "3                    0.0                    0.0                    0.0  \n",
      "4                    0.0                    0.0                    0.0  \n",
      "\n",
      "first 5 item rows:\n",
      "   item_id  item_feature_0                    item_feature_1                    item_feature_2                    item_feature_3\n",
      "0        0       -0.499172  aed790911d0344f149be2fb9470d6f0a  67503f4af781d4037a8bac5e22549edd  5c1e29f902c3ad66e0ff9f6020b1aa0b\n",
      "1        1       -0.543775  31af389431e50a8fcd6470aeeb7951f8  67503f4af781d4037a8bac5e22549edd  5c1e29f902c3ad66e0ff9f6020b1aa0b\n",
      "2        2        0.972752  31af389431e50a8fcd6470aeeb7951f8  84da86f2aa5e816a473e4065f137bfa9  1ead5eb1766472d5bbe45ef0d5654a59\n",
      "3        3       -0.521473  62dc7dd3bfeff6123b2f6f243da49a17  baf3941793166b612fd495e7ee5f9111  f56faf88e4759846197592d0216dd55b\n",
      "4        4        1.909430  e2d1f9aa026708d54e048afce24cd2fe  1c267fe1a67f13b0417f8cf83c79cd7a  1ead5eb1766472d5bbe45ef0d5654a59\n"
     ]
    }
   ],
   "source": [
    "\n",
    "# Random / ALL sample\n",
    "random_log_df   = pd.read_csv(\"zr-obp/obd/random/all/all.csv\", index_col=0)\n",
    "random_items_df = pd.read_csv(\"zr-obp/obd/random/all/item_context.csv\", index_col=0)\n",
    "\n",
    "print(\"log_df shape:\", random_log_df.shape)\n",
    "print(\"items_df shape:\", random_items_df.shape)\n",
    "\n",
    "print(\"\\nlog_df columns:\")\n",
    "print(random_log_df.columns.tolist()[:40])  # peek first ~40 col names\n",
    "\n",
    "print(\"\\nfirst 5 log rows:\")\n",
    "print(random_log_df.head())\n",
    "\n",
    "print(\"\\nfirst 5 item rows:\")\n",
    "print(random_items_df.head())"
   ]
  },
  {
   "cell_type": "code",
   "execution_count": 26,
   "id": "b6d8deb1",
   "metadata": {},
   "outputs": [],
   "source": [
    "# def generate_schema_table(df, table_name=\"DataFrame\", max_unique_display=10, sample_size=5):\n",
    "#     \"\"\"\n",
    "#     Generate a schema table showing column names, possible values, and cardinality.\n",
    "    \n",
    "#     Parameters:\n",
    "#     - df: pandas DataFrame to analyze\n",
    "#     - table_name: name of the table for display\n",
    "#     - max_unique_display: maximum number of unique values to display explicitly\n",
    "#     - sample_size: number of sample values to show when there are too many unique values\n",
    "    \n",
    "#     Returns:\n",
    "#     - pandas DataFrame with schema information\n",
    "#     \"\"\"\n",
    "#     schema_data = []\n",
    "    \n",
    "#     for col in df.columns:\n",
    "#         series = df[col]\n",
    "        \n",
    "#         # Get basic stats\n",
    "#         unique_values = series.dropna().unique()\n",
    "#         cardinality = len(unique_values)\n",
    "        \n",
    "#         # Determine how to display possible values\n",
    "#         if cardinality == 0:\n",
    "#             possible_values = \"No data\"\n",
    "#         elif cardinality <= max_unique_display:\n",
    "#             # Show all unique values\n",
    "#             if series.dtype in ['object', 'category']:\n",
    "#                 # For categorical/string data\n",
    "#                 values_str = '{' + ', '.join([f\"'{v}'\" if isinstance(v, str) else str(v) for v in sorted(unique_values)[:sample_size]]) + '}'\n",
    "#             else:\n",
    "#                 # For numeric data\n",
    "#                 values_str = '{' + ', '.join([str(v) for v in sorted(unique_values)]) + '}'\n",
    "#         else:\n",
    "#             # Too many unique values, show range or sample\n",
    "#             if pd.api.types.is_numeric_dtype(series):\n",
    "#                 # For numeric columns, show range\n",
    "#                 min_val = series.min()\n",
    "#                 max_val = series.max()\n",
    "#                 values_str = f\"{{{min_val}, ...{max_val}}}\"\n",
    "#             else:\n",
    "#                 # For categorical columns, show sample\n",
    "#                 sample_values = sorted(unique_values)[:sample_size]\n",
    "#                 values_str = '{' + ', '.join([f\"'{v}'\" if isinstance(v, str) else str(v) for v in sample_values]) + ', ...}'\n",
    "        \n",
    "#         # Determine data type annotation\n",
    "#         dtype_annotation = \"\"\n",
    "#         if pd.api.types.is_integer_dtype(series):\n",
    "#             dtype_annotation = \" (int)\"\n",
    "#         elif pd.api.types.is_float_dtype(series):\n",
    "#             dtype_annotation = \" (float)\"\n",
    "#         elif pd.api.types.is_datetime64_any_dtype(series):\n",
    "#             dtype_annotation = \" (datetime)\"\n",
    "        \n",
    "#         # Handle special cases for specific column patterns\n",
    "#         if col.startswith('user-item_affinity_'):\n",
    "#             # Group affinity columns\n",
    "#             affinity_cols = [c for c in df.columns if c.startswith('user-item_affinity_')]\n",
    "#             if col == affinity_cols[0]:  # Only add once for the first affinity column\n",
    "#                 col_name = f\"user-item_affinity_{{0,1,..{len(affinity_cols)-1}}}\"\n",
    "#                 # Check the range of values across all affinity columns\n",
    "#                 all_affinity_values = pd.concat([df[c] for c in affinity_cols]).dropna().unique()\n",
    "#                 cardinality = \"varies\"\n",
    "#                 min_val = pd.concat([df[c] for c in affinity_cols]).min()\n",
    "#                 max_val = pd.concat([df[c] for c in affinity_cols]).max()\n",
    "#                 possible_values = f\"{{{min_val}, {max_val}}}\"\n",
    "#             else:\n",
    "#                 continue  # Skip other affinity columns as they're grouped\n",
    "#         else:\n",
    "#             col_name = col + dtype_annotation\n",
    "        \n",
    "#         schema_data.append({\n",
    "#             'Column Name': col_name,\n",
    "#             'Possible values': possible_values,\n",
    "#             '|S|': cardinality\n",
    "#         })\n",
    "    \n",
    "#     schema_df = pd.DataFrame(schema_data)\n",
    "    \n",
    "#     print(f\"\\n=== {table_name} Schema ===\")\n",
    "#     print(schema_df.to_string(index=False))\n",
    "    \n",
    "#     return schema_df"
   ]
  },
  {
   "cell_type": "code",
   "execution_count": 27,
   "id": "e0eaaa8e",
   "metadata": {},
   "outputs": [],
   "source": [
    "# # Generate schema tables for the random dataset\n",
    "# log_schema = generate_schema_table(random_log_df, \"all.csv (Random Policy)\")\n",
    "# items_schema = generate_schema_table(random_items_df, \"item_context.csv\")"
   ]
  },
  {
   "cell_type": "code",
   "execution_count": 28,
   "id": "1771d9ac",
   "metadata": {},
   "outputs": [],
   "source": [
    "# log_schema"
   ]
  },
  {
   "cell_type": "code",
   "execution_count": 44,
   "id": "a00e8cb1",
   "metadata": {},
   "outputs": [],
   "source": [
    "def generate_detailed_schema_table(df, table_name=\"DataFrame\"):\n",
    "    \"\"\"\n",
    "    Generate a detailed schema table that matches the format from the examples.\n",
    "    Handles special cases like user-item affinity columns and provides appropriate formatting.\n",
    "    \"\"\"\n",
    "    schema_data = []\n",
    "    processed_affinity = False\n",
    "    \n",
    "    for col in df.columns:\n",
    "        series = df[col].dropna()\n",
    "        \n",
    "        # Skip if already processed affinity columns\n",
    "        if col.startswith('user-item_affinity_') and processed_affinity:\n",
    "            continue\n",
    "            \n",
    "        if col.startswith('user-item_affinity_') and not processed_affinity:\n",
    "            # Handle user-item affinity columns as a group\n",
    "            affinity_cols = [c for c in df.columns if c.startswith('user-item_affinity_')]\n",
    "            # Extract numbers from column names to get the range\n",
    "            affinity_numbers = []\n",
    "            for acol in affinity_cols:\n",
    "                try:\n",
    "                    num = int(acol.split('_')[-1])\n",
    "                    affinity_numbers.append(num)\n",
    "                except:\n",
    "                    pass\n",
    "            \n",
    "            if affinity_numbers:\n",
    "                min_idx = min(affinity_numbers)\n",
    "                max_idx = max(affinity_numbers)\n",
    "                col_name = f\"user-item_affinity_{{{min_idx},{min_idx+1},..{max_idx}}}\"\n",
    "            else:\n",
    "                col_name = \"user-item_affinity_*\"\n",
    "            \n",
    "            # Get unique values across all affinity columns\n",
    "            all_affinity_values = set()\n",
    "            for acol in affinity_cols:\n",
    "                all_affinity_values.update(df[acol].dropna().unique())\n",
    "            \n",
    "            if len(all_affinity_values) <= 10:\n",
    "                possible_values = '{' + ', '.join(map(str, sorted(all_affinity_values))) + '}'\n",
    "            else:\n",
    "                min_val = min(all_affinity_values)\n",
    "                max_val = max(all_affinity_values)\n",
    "                possible_values = f\"{{{min_val}, {max_val}}}\"\n",
    "            \n",
    "            cardinality = \"varies\"\n",
    "            processed_affinity = True\n",
    "            \n",
    "        else:\n",
    "            # Handle regular columns\n",
    "            col_name = col\n",
    "            unique_values = series.unique()\n",
    "            cardinality = len(unique_values)\n",
    "            \n",
    "            # Add type annotation for numeric columns\n",
    "            if pd.api.types.is_integer_dtype(series):\n",
    "                col_name += \" (int)\"\n",
    "            elif pd.api.types.is_float_dtype(series):\n",
    "                col_name += \" (float)\"\n",
    "            \n",
    "            # Format possible values based on data type and cardinality\n",
    "            if cardinality == 0:\n",
    "                possible_values = \"No data\"\n",
    "            elif cardinality <= 10 and not pd.api.types.is_float_dtype(series):\n",
    "                # Show all values for small cardinality non-float columns\n",
    "                if pd.api.types.is_datetime64_any_dtype(series):\n",
    "                    # For datetime, show range\n",
    "                    min_val = series.min()\n",
    "                    max_val = series.max()\n",
    "                    possible_values = f\"{{'{min_val}',... '{max_val}'}}\"\n",
    "                else:\n",
    "                    sorted_values = sorted(unique_values)\n",
    "                    if isinstance(sorted_values[0], str):\n",
    "                        possible_values = '{' + ', '.join([f\"'{v}'\" for v in sorted_values]) + '}'\n",
    "                    else:\n",
    "                        possible_values = '{' + ', '.join(map(str, sorted_values)) + '}'\n",
    "            else:\n",
    "                # Show range for high cardinality or float columns\n",
    "                if pd.api.types.is_numeric_dtype(series):\n",
    "                    min_val = series.min()\n",
    "                    max_val = series.max()\n",
    "                    possible_values = f\"{{{min_val}, {max_val}}}\"\n",
    "                elif pd.api.types.is_datetime64_any_dtype(series):\n",
    "                    min_val = series.min()\n",
    "                    max_val = series.max()\n",
    "                    possible_values = f\"{{'{min_val}',... '{max_val}'}}\"\n",
    "                else:\n",
    "                    # For categorical with many values, show it's categorical hashes or similar\n",
    "                    if 'feature' in col.lower():\n",
    "                        possible_values = \"categorical hashes\"\n",
    "                    else:\n",
    "                        sample_values = sorted(unique_values)[:3]\n",
    "                        if isinstance(sample_values[0], str):\n",
    "                            possible_values = '{' + ', '.join([f\"'{v}'\" for v in sample_values]) + ', ...}'\n",
    "                        else:\n",
    "                            possible_values = '{' + ', '.join(map(str, sample_values)) + ', ...}'\n",
    "        \n",
    "        schema_data.append({\n",
    "            'Column Name': col_name,\n",
    "            'Possible values': possible_values,\n",
    "            '|S|': cardinality\n",
    "        })\n",
    "    \n",
    "    schema_df = pd.DataFrame(schema_data)\n",
    "    \n",
    "    print(f\"\\n=== {table_name} Schema ===\")\n",
    "    print(schema_df.to_string(index=False))\n",
    "    print()\n",
    "    \n",
    "    return schema_df"
   ]
  },
  {
   "cell_type": "code",
   "execution_count": 31,
   "id": "40f35f17",
   "metadata": {},
   "outputs": [
    {
     "name": "stdout",
     "output_type": "stream",
     "text": [
      "\n",
      "=== all.csv (Random Policy) Schema ===\n",
      "                  Column Name                                                                                                                                                                                                                                                                                  Possible values    |S|\n",
      "                    timestamp                                                                                                                                                                                {'2019-11-24 00:00:34.762830+00:00', '2019-11-24 00:00:53.965051+00:00', '2019-11-24 00:00:56.727734+00:00', ...}   9991\n",
      "                item_id (int)                                                                                                                                                                                                                                                                                          {0, 79}     80\n",
      "               position (int)                                                                                                                                                                                                                                                                                        {1, 2, 3}      3\n",
      "                  click (int)                                                                                                                                                                                                                                                                                           {0, 1}      2\n",
      "     propensity_score (float)                                                                                                                                                                                                                                                                                 {0.0125, 0.0125}      1\n",
      "               user_feature_0                                                                                                                                                                                     {'4ae385d792f81dde128124a925a830de', '81ce123cbb5bd8ce818f60fb3586bba5', 'cef3390ed299c09874189c387777674a'}      3\n",
      "               user_feature_1                                                                                                             {'03a5648a76832f83c859d46bc06cb64a', '2d03db5543b14483e52d761760686b64', '6ff54aa8ff7a9dde75161c20a3ee4231', '8b50621825ffd909dd8d8317d366271f', 'f1c2d6a32ec39249160cf784b63f4c6f'}      5\n",
      "               user_feature_2 {'2723d2eb8bba04e0362098011fa3997b', '302deff13f835d731df1c842eed95971', '719dab53a7560218a9d1f96b25d6fa32', '7ae37150e596e6e8f19e27a06bd4d359', '7bc94a2da491829b777c49c4b5e480f2', '9b2d331c329ceb74d3dcfb48d8798c78', '9f4e8271d3d3014af5f35124c2de5082', 'c2e4f76cdbabecd33b8c762aeef386b3'}      8\n",
      "               user_feature_3 {'05b76f5e97e51128862059ac7df9e42a', '06128286bcc64b6a4b0fb7bc0328fe17', '1f5491ca59138af653430c90c33319b5', '270b3e1c052b4f2e9c90bf0ebeb84f34', '3aef83d337306549f1f8ca5a8b8ecff8', '9bde591ffaab8d54c457448e4dca6f53', 'c39b0c7dd5d4eb9a18e7db6ba2f258f8', 'f97571b9c14a786aab269f0b427d2a85'}      8\n",
      "user-item_affinity_{0,1,..79}                                                                                                                                                                                                                                                                                  {0.0, 1.0, 2.0} varies\n",
      "\n"
     ]
    },
    {
     "data": {
      "text/html": [
       "<div>\n",
       "<style scoped>\n",
       "    .dataframe tbody tr th:only-of-type {\n",
       "        vertical-align: middle;\n",
       "    }\n",
       "\n",
       "    .dataframe tbody tr th {\n",
       "        vertical-align: top;\n",
       "    }\n",
       "\n",
       "    .dataframe thead th {\n",
       "        text-align: right;\n",
       "    }\n",
       "</style>\n",
       "<table border=\"1\" class=\"dataframe\">\n",
       "  <thead>\n",
       "    <tr style=\"text-align: right;\">\n",
       "      <th></th>\n",
       "      <th>Column Name</th>\n",
       "      <th>Possible values</th>\n",
       "      <th>|S|</th>\n",
       "    </tr>\n",
       "  </thead>\n",
       "  <tbody>\n",
       "    <tr>\n",
       "      <th>0</th>\n",
       "      <td>timestamp</td>\n",
       "      <td>{'2019-11-24 00:00:34.762830+00:00', '2019-11-...</td>\n",
       "      <td>9991</td>\n",
       "    </tr>\n",
       "    <tr>\n",
       "      <th>1</th>\n",
       "      <td>item_id (int)</td>\n",
       "      <td>{0, 79}</td>\n",
       "      <td>80</td>\n",
       "    </tr>\n",
       "    <tr>\n",
       "      <th>2</th>\n",
       "      <td>position (int)</td>\n",
       "      <td>{1, 2, 3}</td>\n",
       "      <td>3</td>\n",
       "    </tr>\n",
       "    <tr>\n",
       "      <th>3</th>\n",
       "      <td>click (int)</td>\n",
       "      <td>{0, 1}</td>\n",
       "      <td>2</td>\n",
       "    </tr>\n",
       "    <tr>\n",
       "      <th>4</th>\n",
       "      <td>propensity_score (float)</td>\n",
       "      <td>{0.0125, 0.0125}</td>\n",
       "      <td>1</td>\n",
       "    </tr>\n",
       "    <tr>\n",
       "      <th>5</th>\n",
       "      <td>user_feature_0</td>\n",
       "      <td>{'4ae385d792f81dde128124a925a830de', '81ce123c...</td>\n",
       "      <td>3</td>\n",
       "    </tr>\n",
       "    <tr>\n",
       "      <th>6</th>\n",
       "      <td>user_feature_1</td>\n",
       "      <td>{'03a5648a76832f83c859d46bc06cb64a', '2d03db55...</td>\n",
       "      <td>5</td>\n",
       "    </tr>\n",
       "    <tr>\n",
       "      <th>7</th>\n",
       "      <td>user_feature_2</td>\n",
       "      <td>{'2723d2eb8bba04e0362098011fa3997b', '302deff1...</td>\n",
       "      <td>8</td>\n",
       "    </tr>\n",
       "    <tr>\n",
       "      <th>8</th>\n",
       "      <td>user_feature_3</td>\n",
       "      <td>{'05b76f5e97e51128862059ac7df9e42a', '06128286...</td>\n",
       "      <td>8</td>\n",
       "    </tr>\n",
       "    <tr>\n",
       "      <th>9</th>\n",
       "      <td>user-item_affinity_{0,1,..79}</td>\n",
       "      <td>{0.0, 1.0, 2.0}</td>\n",
       "      <td>varies</td>\n",
       "    </tr>\n",
       "  </tbody>\n",
       "</table>\n",
       "</div>"
      ],
      "text/plain": [
       "                     Column Name                                    Possible values     |S|\n",
       "0                      timestamp  {'2019-11-24 00:00:34.762830+00:00', '2019-11-...    9991\n",
       "1                  item_id (int)                                            {0, 79}      80\n",
       "2                 position (int)                                          {1, 2, 3}       3\n",
       "3                    click (int)                                             {0, 1}       2\n",
       "4       propensity_score (float)                                   {0.0125, 0.0125}       1\n",
       "5                 user_feature_0  {'4ae385d792f81dde128124a925a830de', '81ce123c...       3\n",
       "6                 user_feature_1  {'03a5648a76832f83c859d46bc06cb64a', '2d03db55...       5\n",
       "7                 user_feature_2  {'2723d2eb8bba04e0362098011fa3997b', '302deff1...       8\n",
       "8                 user_feature_3  {'05b76f5e97e51128862059ac7df9e42a', '06128286...       8\n",
       "9  user-item_affinity_{0,1,..79}                                    {0.0, 1.0, 2.0}  varies"
      ]
     },
     "metadata": {},
     "output_type": "display_data"
    },
    {
     "name": "stdout",
     "output_type": "stream",
     "text": [
      "\n",
      "=== item_context.csv Schema ===\n",
      "           Column Name                                                                                                                                                                                                                                              Possible values  |S|\n",
      "         item_id (int)                                                                                                                                                                                                                                                      {0, 79}   80\n",
      "item_feature_0 (float)                                                                                                                                                                                                                      {-1.056718399349641, 3.782787592501191}   41\n",
      "        item_feature_1                                                                                                                                                                                                                                           categorical hashes   12\n",
      "        item_feature_2                                                                                                                                                                                                                                           categorical hashes   21\n",
      "        item_feature_3 {'1ced27f8748b9def6220f316c049381d', '1ead5eb1766472d5bbe45ef0d5654a59', '2db6b0c562a5255a63087f66dd78af2d', '57d4fc9437511461ff53cc61e6d21206', '5c1e29f902c3ad66e0ff9f6020b1aa0b', 'c5f30230aeb098ffdbba4c8ce226a78a', 'f56faf88e4759846197592d0216dd55b'}    7\n",
      "\n"
     ]
    },
    {
     "data": {
      "text/html": [
       "<div>\n",
       "<style scoped>\n",
       "    .dataframe tbody tr th:only-of-type {\n",
       "        vertical-align: middle;\n",
       "    }\n",
       "\n",
       "    .dataframe tbody tr th {\n",
       "        vertical-align: top;\n",
       "    }\n",
       "\n",
       "    .dataframe thead th {\n",
       "        text-align: right;\n",
       "    }\n",
       "</style>\n",
       "<table border=\"1\" class=\"dataframe\">\n",
       "  <thead>\n",
       "    <tr style=\"text-align: right;\">\n",
       "      <th></th>\n",
       "      <th>Column Name</th>\n",
       "      <th>Possible values</th>\n",
       "      <th>|S|</th>\n",
       "    </tr>\n",
       "  </thead>\n",
       "  <tbody>\n",
       "    <tr>\n",
       "      <th>0</th>\n",
       "      <td>item_id (int)</td>\n",
       "      <td>{0, 79}</td>\n",
       "      <td>80</td>\n",
       "    </tr>\n",
       "    <tr>\n",
       "      <th>1</th>\n",
       "      <td>item_feature_0 (float)</td>\n",
       "      <td>{-1.056718399349641, 3.782787592501191}</td>\n",
       "      <td>41</td>\n",
       "    </tr>\n",
       "    <tr>\n",
       "      <th>2</th>\n",
       "      <td>item_feature_1</td>\n",
       "      <td>categorical hashes</td>\n",
       "      <td>12</td>\n",
       "    </tr>\n",
       "    <tr>\n",
       "      <th>3</th>\n",
       "      <td>item_feature_2</td>\n",
       "      <td>categorical hashes</td>\n",
       "      <td>21</td>\n",
       "    </tr>\n",
       "    <tr>\n",
       "      <th>4</th>\n",
       "      <td>item_feature_3</td>\n",
       "      <td>{'1ced27f8748b9def6220f316c049381d', '1ead5eb1...</td>\n",
       "      <td>7</td>\n",
       "    </tr>\n",
       "  </tbody>\n",
       "</table>\n",
       "</div>"
      ],
      "text/plain": [
       "              Column Name                                    Possible values  |S|\n",
       "0           item_id (int)                                            {0, 79}   80\n",
       "1  item_feature_0 (float)            {-1.056718399349641, 3.782787592501191}   41\n",
       "2          item_feature_1                                 categorical hashes   12\n",
       "3          item_feature_2                                 categorical hashes   21\n",
       "4          item_feature_3  {'1ced27f8748b9def6220f316c049381d', '1ead5eb1...    7"
      ]
     },
     "metadata": {},
     "output_type": "display_data"
    }
   ],
   "source": [
    "# Generate detailed schema tables that match the format from your examples\n",
    "log_detailed_schema = generate_detailed_schema_table(random_log_df, \"all.csv (Random Policy)\")\n",
    "display(log_detailed_schema)\n",
    "items_detailed_schema = generate_detailed_schema_table(random_items_df, \"item_context.csv\")\n",
    "display(items_detailed_schema)"
   ]
  },
  {
   "cell_type": "code",
   "execution_count": 24,
   "id": "428bea59",
   "metadata": {},
   "outputs": [
    {
     "data": {
      "text/html": [
       "<div>\n",
       "<style scoped>\n",
       "    .dataframe tbody tr th:only-of-type {\n",
       "        vertical-align: middle;\n",
       "    }\n",
       "\n",
       "    .dataframe tbody tr th {\n",
       "        vertical-align: top;\n",
       "    }\n",
       "\n",
       "    .dataframe thead th {\n",
       "        text-align: right;\n",
       "    }\n",
       "</style>\n",
       "<table border=\"1\" class=\"dataframe\">\n",
       "  <thead>\n",
       "    <tr style=\"text-align: right;\">\n",
       "      <th></th>\n",
       "      <th>Column Name</th>\n",
       "      <th>Possible values</th>\n",
       "      <th>|S|</th>\n",
       "    </tr>\n",
       "  </thead>\n",
       "  <tbody>\n",
       "    <tr>\n",
       "      <th>0</th>\n",
       "      <td>timestamp</td>\n",
       "      <td>{'2019-11-24 00:00:34.762830+00:00', '2019-11-...</td>\n",
       "      <td>9991</td>\n",
       "    </tr>\n",
       "    <tr>\n",
       "      <th>1</th>\n",
       "      <td>item_id (int)</td>\n",
       "      <td>{0, 79}</td>\n",
       "      <td>80</td>\n",
       "    </tr>\n",
       "    <tr>\n",
       "      <th>2</th>\n",
       "      <td>position (int)</td>\n",
       "      <td>{1, 2, 3}</td>\n",
       "      <td>3</td>\n",
       "    </tr>\n",
       "    <tr>\n",
       "      <th>3</th>\n",
       "      <td>click (int)</td>\n",
       "      <td>{0, 1}</td>\n",
       "      <td>2</td>\n",
       "    </tr>\n",
       "    <tr>\n",
       "      <th>4</th>\n",
       "      <td>propensity_score (float)</td>\n",
       "      <td>{0.0125, 0.0125}</td>\n",
       "      <td>1</td>\n",
       "    </tr>\n",
       "    <tr>\n",
       "      <th>5</th>\n",
       "      <td>user_feature_0</td>\n",
       "      <td>{'4ae385d792f81dde128124a925a830de', '81ce123c...</td>\n",
       "      <td>3</td>\n",
       "    </tr>\n",
       "    <tr>\n",
       "      <th>6</th>\n",
       "      <td>user_feature_1</td>\n",
       "      <td>{'03a5648a76832f83c859d46bc06cb64a', '2d03db55...</td>\n",
       "      <td>5</td>\n",
       "    </tr>\n",
       "    <tr>\n",
       "      <th>7</th>\n",
       "      <td>user_feature_2</td>\n",
       "      <td>{'2723d2eb8bba04e0362098011fa3997b', '302deff1...</td>\n",
       "      <td>8</td>\n",
       "    </tr>\n",
       "    <tr>\n",
       "      <th>8</th>\n",
       "      <td>user_feature_3</td>\n",
       "      <td>{'05b76f5e97e51128862059ac7df9e42a', '06128286...</td>\n",
       "      <td>8</td>\n",
       "    </tr>\n",
       "    <tr>\n",
       "      <th>9</th>\n",
       "      <td>user-item_affinity_{0,1,..79}</td>\n",
       "      <td>{0.0, 1.0, 2.0}</td>\n",
       "      <td>varies</td>\n",
       "    </tr>\n",
       "  </tbody>\n",
       "</table>\n",
       "</div>"
      ],
      "text/plain": [
       "                     Column Name                                    Possible values     |S|\n",
       "0                      timestamp  {'2019-11-24 00:00:34.762830+00:00', '2019-11-...    9991\n",
       "1                  item_id (int)                                            {0, 79}      80\n",
       "2                 position (int)                                          {1, 2, 3}       3\n",
       "3                    click (int)                                             {0, 1}       2\n",
       "4       propensity_score (float)                                   {0.0125, 0.0125}       1\n",
       "5                 user_feature_0  {'4ae385d792f81dde128124a925a830de', '81ce123c...       3\n",
       "6                 user_feature_1  {'03a5648a76832f83c859d46bc06cb64a', '2d03db55...       5\n",
       "7                 user_feature_2  {'2723d2eb8bba04e0362098011fa3997b', '302deff1...       8\n",
       "8                 user_feature_3  {'05b76f5e97e51128862059ac7df9e42a', '06128286...       8\n",
       "9  user-item_affinity_{0,1,..79}                                    {0.0, 1.0, 2.0}  varies"
      ]
     },
     "execution_count": 24,
     "metadata": {},
     "output_type": "execute_result"
    }
   ],
   "source": [
    "log_detailed_schema"
   ]
  },
  {
   "cell_type": "code",
   "execution_count": 25,
   "id": "32d7e7ef",
   "metadata": {},
   "outputs": [
    {
     "data": {
      "text/html": [
       "<div>\n",
       "<style scoped>\n",
       "    .dataframe tbody tr th:only-of-type {\n",
       "        vertical-align: middle;\n",
       "    }\n",
       "\n",
       "    .dataframe tbody tr th {\n",
       "        vertical-align: top;\n",
       "    }\n",
       "\n",
       "    .dataframe thead th {\n",
       "        text-align: right;\n",
       "    }\n",
       "</style>\n",
       "<table border=\"1\" class=\"dataframe\">\n",
       "  <thead>\n",
       "    <tr style=\"text-align: right;\">\n",
       "      <th></th>\n",
       "      <th>Column Name</th>\n",
       "      <th>Possible values</th>\n",
       "      <th>|S|</th>\n",
       "    </tr>\n",
       "  </thead>\n",
       "  <tbody>\n",
       "    <tr>\n",
       "      <th>0</th>\n",
       "      <td>item_id (int)</td>\n",
       "      <td>{0, 79}</td>\n",
       "      <td>80</td>\n",
       "    </tr>\n",
       "    <tr>\n",
       "      <th>1</th>\n",
       "      <td>item_feature_0 (float)</td>\n",
       "      <td>{-1.056718399349641, 3.782787592501191}</td>\n",
       "      <td>41</td>\n",
       "    </tr>\n",
       "    <tr>\n",
       "      <th>2</th>\n",
       "      <td>item_feature_1</td>\n",
       "      <td>categorical hashes</td>\n",
       "      <td>12</td>\n",
       "    </tr>\n",
       "    <tr>\n",
       "      <th>3</th>\n",
       "      <td>item_feature_2</td>\n",
       "      <td>categorical hashes</td>\n",
       "      <td>21</td>\n",
       "    </tr>\n",
       "    <tr>\n",
       "      <th>4</th>\n",
       "      <td>item_feature_3</td>\n",
       "      <td>{'1ced27f8748b9def6220f316c049381d', '1ead5eb1...</td>\n",
       "      <td>7</td>\n",
       "    </tr>\n",
       "  </tbody>\n",
       "</table>\n",
       "</div>"
      ],
      "text/plain": [
       "              Column Name                                    Possible values  |S|\n",
       "0           item_id (int)                                            {0, 79}   80\n",
       "1  item_feature_0 (float)            {-1.056718399349641, 3.782787592501191}   41\n",
       "2          item_feature_1                                 categorical hashes   12\n",
       "3          item_feature_2                                 categorical hashes   21\n",
       "4          item_feature_3  {'1ced27f8748b9def6220f316c049381d', '1ead5eb1...    7"
      ]
     },
     "execution_count": 25,
     "metadata": {},
     "output_type": "execute_result"
    }
   ],
   "source": [
    "items_detailed_schema"
   ]
  },
  {
   "cell_type": "code",
   "execution_count": null,
   "id": "605e6012",
   "metadata": {},
   "outputs": [],
   "source": [
    "def analyze_csv_schemas(log_csv_path, items_csv_path, dataset_name=\"Dataset\"):\n",
    "    \"\"\"\n",
    "    Convenience function to analyze schemas of both log and item CSV files.\n",
    "    \n",
    "    Parameters:\n",
    "    - log_csv_path: path to the log CSV file (e.g., \"all.csv\")\n",
    "    - items_csv_path: path to the items CSV file (e.g., \"item_context.csv\") \n",
    "    - dataset_name: name for the dataset (e.g., \"Random Policy\", \"BTS Policy\")\n",
    "    \"\"\"\n",
    "    \n",
    "    # Load the data\n",
    "    log_df = pd.read_csv(log_csv_path, index_col=0)\n",
    "    items_df = pd.read_csv(items_csv_path, index_col=0)\n",
    "    \n",
    "    print(f\"\\n{'='*50}\")\n",
    "    print(f\"SCHEMA ANALYSIS FOR {dataset_name.upper()}\")\n",
    "    print(f\"{'='*50}\")\n",
    "    \n",
    "    # Generate schemas\n",
    "    log_schema = generate_detailed_schema_table(log_df, f\"all.csv ({dataset_name})\")\n",
    "    items_schema = generate_detailed_schema_table(items_df, f\"item_context.csv ({dataset_name})\")\n",
    "    \n",
    "    return log_schema, items_schema\n",
    "\n",
    "# Example usage:\n",
    "# random_log_schema, random_items_schema = analyze_csv_schemas(\n",
    "#     \"zr-obp/obd/random/all/all.csv\", \n",
    "#     \"zr-obp/obd/random/all/item_context.csv\", \n",
    "#     \"Random Policy\"\n",
    "# )"
   ]
  },
  {
   "cell_type": "code",
   "execution_count": 32,
   "id": "c59f4870",
   "metadata": {},
   "outputs": [],
   "source": [
    "def compare_policy_schemas(policies, base_path=\"zr-obp/obd\", subset=\"all\"):\n",
    "    \"\"\"\n",
    "    Compare schemas across different policies (e.g., 'random' vs 'bts').\n",
    "    \n",
    "    Parameters:\n",
    "    - policies: list of policy names (e.g., ['random', 'bts'])\n",
    "    - base_path: base path to the data directory\n",
    "    - subset: subset to analyze (e.g., 'all', 'small')\n",
    "    \n",
    "    Returns:\n",
    "    - Dictionary with schemas for each policy\n",
    "    \"\"\"\n",
    "    \n",
    "    all_schemas = {}\n",
    "    \n",
    "    print(f\"\\n{'='*60}\")\n",
    "    print(f\"COMPARING SCHEMAS ACROSS POLICIES: {', '.join(policies).upper()}\")\n",
    "    print(f\"{'='*60}\")\n",
    "    \n",
    "    for policy in policies:\n",
    "        log_path = f\"{base_path}/{policy}/{subset}/all.csv\"\n",
    "        items_path = f\"{base_path}/{policy}/{subset}/item_context.csv\"\n",
    "        \n",
    "        print(f\"\\n{'-'*40}\")\n",
    "        print(f\"ANALYZING {policy.upper()} POLICY\")\n",
    "        print(f\"{'-'*40}\")\n",
    "        \n",
    "        try:\n",
    "            # Load the data\n",
    "            log_df = pd.read_csv(log_path, index_col=0)\n",
    "            items_df = pd.read_csv(items_path, index_col=0)\n",
    "            \n",
    "            print(f\"✓ Loaded {policy} data:\")\n",
    "            print(f\"  - Log shape: {log_df.shape}\")\n",
    "            print(f\"  - Items shape: {items_df.shape}\")\n",
    "            \n",
    "            # Generate schemas\n",
    "            log_schema = generate_detailed_schema_table(log_df, f\"all.csv ({policy.title()} Policy)\")\n",
    "            items_schema = generate_detailed_schema_table(items_df, f\"item_context.csv ({policy.title()} Policy)\")\n",
    "            \n",
    "            all_schemas[policy] = {\n",
    "                'log_schema': log_schema,\n",
    "                'items_schema': items_schema,\n",
    "                'log_shape': log_df.shape,\n",
    "                'items_shape': items_df.shape\n",
    "            }\n",
    "            \n",
    "        except FileNotFoundError as e:\n",
    "            print(f\"✗ Error loading {policy} data: {e}\")\n",
    "            all_schemas[policy] = None\n",
    "        except Exception as e:\n",
    "            print(f\"✗ Unexpected error with {policy}: {e}\")\n",
    "            all_schemas[policy] = None\n",
    "    \n",
    "    return all_schemas\n",
    "\n",
    "def compare_schema_differences(schemas_dict, show_differences_only=True):\n",
    "    \"\"\"\n",
    "    Compare and highlight differences between policy schemas.\n",
    "    \n",
    "    Parameters:\n",
    "    - schemas_dict: Dictionary returned by compare_policy_schemas\n",
    "    - show_differences_only: If True, only show columns that differ between policies\n",
    "    \"\"\"\n",
    "    \n",
    "    policies = [p for p in schemas_dict.keys() if schemas_dict[p] is not None]\n",
    "    \n",
    "    if len(policies) < 2:\n",
    "        print(\"Need at least 2 valid policies to compare\")\n",
    "        return\n",
    "    \n",
    "    print(f\"\\n{'='*60}\")\n",
    "    print(f\"SCHEMA DIFFERENCES ANALYSIS\")\n",
    "    print(f\"{'='*60}\")\n",
    "    \n",
    "    # Compare log schemas\n",
    "    print(f\"\\n📊 LOG SCHEMAS COMPARISON:\")\n",
    "    print(f\"{'-'*30}\")\n",
    "    \n",
    "    log_schemas = {p: schemas_dict[p]['log_schema'] for p in policies}\n",
    "    \n",
    "    # Get all unique columns across policies\n",
    "    all_log_columns = set()\n",
    "    for policy_schema in log_schemas.values():\n",
    "        all_log_columns.update(policy_schema['Column Name'].tolist())\n",
    "    \n",
    "    differences_found = False\n",
    "    for col in sorted(all_log_columns):\n",
    "        col_info = {}\n",
    "        for policy in policies:\n",
    "            schema_df = log_schemas[policy]\n",
    "            matching_rows = schema_df[schema_df['Column Name'] == col]\n",
    "            if not matching_rows.empty:\n",
    "                col_info[policy] = {\n",
    "                    'values': matching_rows.iloc[0]['Possible values'],\n",
    "                    'cardinality': matching_rows.iloc[0]['|S|']\n",
    "                }\n",
    "            else:\n",
    "                col_info[policy] = {'values': 'MISSING', 'cardinality': 'MISSING'}\n",
    "        \n",
    "        # Check if there are differences\n",
    "        values_set = set(info['values'] for info in col_info.values())\n",
    "        cardinality_set = set(str(info['cardinality']) for info in col_info.values())\n",
    "        \n",
    "        has_difference = len(values_set) > 1 or len(cardinality_set) > 1\n",
    "        \n",
    "        if not show_differences_only or has_difference:\n",
    "            if has_difference:\n",
    "                differences_found = True\n",
    "                print(f\"\\n⚠️  DIFFERENCE in '{col}':\")\n",
    "            else:\n",
    "                print(f\"\\n✓ '{col}':\")\n",
    "            \n",
    "            for policy in policies:\n",
    "                info = col_info[policy]\n",
    "                print(f\"  {policy:>8}: |S|={info['cardinality']:>6} | {info['values']}\")\n",
    "    \n",
    "    # Compare items schemas\n",
    "    print(f\"\\n📦 ITEMS SCHEMAS COMPARISON:\")\n",
    "    print(f\"{'-'*30}\")\n",
    "    \n",
    "    items_schemas = {p: schemas_dict[p]['items_schema'] for p in policies}\n",
    "    \n",
    "    # Get all unique columns across policies\n",
    "    all_items_columns = set()\n",
    "    for policy_schema in items_schemas.values():\n",
    "        all_items_columns.update(policy_schema['Column Name'].tolist())\n",
    "    \n",
    "    for col in sorted(all_items_columns):\n",
    "        col_info = {}\n",
    "        for policy in policies:\n",
    "            schema_df = items_schemas[policy]\n",
    "            matching_rows = schema_df[schema_df['Column Name'] == col]\n",
    "            if not matching_rows.empty:\n",
    "                col_info[policy] = {\n",
    "                    'values': matching_rows.iloc[0]['Possible values'],\n",
    "                    'cardinality': matching_rows.iloc[0]['|S|']\n",
    "                }\n",
    "            else:\n",
    "                col_info[policy] = {'values': 'MISSING', 'cardinality': 'MISSING'}\n",
    "        \n",
    "        # Check if there are differences\n",
    "        values_set = set(info['values'] for info in col_info.values())\n",
    "        cardinality_set = set(str(info['cardinality']) for info in col_info.values())\n",
    "        \n",
    "        has_difference = len(values_set) > 1 or len(cardinality_set) > 1\n",
    "        \n",
    "        if not show_differences_only or has_difference:\n",
    "            if has_difference:\n",
    "                differences_found = True\n",
    "                print(f\"\\n⚠️  DIFFERENCE in '{col}':\")\n",
    "            else:\n",
    "                print(f\"\\n✓ '{col}':\")\n",
    "            \n",
    "            for policy in policies:\n",
    "                info = col_info[policy]\n",
    "                print(f\"  {policy:>8}: |S|={info['cardinality']:>6} | {info['values']}\")\n",
    "    \n",
    "    if show_differences_only and not differences_found:\n",
    "        print(\"\\n✅ No schema differences found between policies!\")\n",
    "    \n",
    "    return col_info"
   ]
  },
  {
   "cell_type": "code",
   "execution_count": 34,
   "id": "f6f4f3a6",
   "metadata": {},
   "outputs": [
    {
     "name": "stdout",
     "output_type": "stream",
     "text": [
      "\n",
      "============================================================\n",
      "COMPARING SCHEMAS ACROSS POLICIES: RANDOM, BTS\n",
      "============================================================\n",
      "\n",
      "----------------------------------------\n",
      "ANALYZING RANDOM POLICY\n",
      "----------------------------------------\n",
      "✓ Loaded random data:\n",
      "  - Log shape: (10000, 89)\n",
      "  - Items shape: (80, 5)\n",
      "\n",
      "=== all.csv (Random Policy) Schema ===\n",
      "                  Column Name                                                                                                                                                                                                                                                                                  Possible values    |S|\n",
      "                    timestamp                                                                                                                                                                                {'2019-11-24 00:00:34.762830+00:00', '2019-11-24 00:00:53.965051+00:00', '2019-11-24 00:00:56.727734+00:00', ...}   9991\n",
      "                item_id (int)                                                                                                                                                                                                                                                                                          {0, 79}     80\n",
      "               position (int)                                                                                                                                                                                                                                                                                        {1, 2, 3}      3\n",
      "                  click (int)                                                                                                                                                                                                                                                                                           {0, 1}      2\n",
      "     propensity_score (float)                                                                                                                                                                                                                                                                                 {0.0125, 0.0125}      1\n",
      "               user_feature_0                                                                                                                                                                                     {'4ae385d792f81dde128124a925a830de', '81ce123cbb5bd8ce818f60fb3586bba5', 'cef3390ed299c09874189c387777674a'}      3\n",
      "               user_feature_1                                                                                                             {'03a5648a76832f83c859d46bc06cb64a', '2d03db5543b14483e52d761760686b64', '6ff54aa8ff7a9dde75161c20a3ee4231', '8b50621825ffd909dd8d8317d366271f', 'f1c2d6a32ec39249160cf784b63f4c6f'}      5\n",
      "               user_feature_2 {'2723d2eb8bba04e0362098011fa3997b', '302deff13f835d731df1c842eed95971', '719dab53a7560218a9d1f96b25d6fa32', '7ae37150e596e6e8f19e27a06bd4d359', '7bc94a2da491829b777c49c4b5e480f2', '9b2d331c329ceb74d3dcfb48d8798c78', '9f4e8271d3d3014af5f35124c2de5082', 'c2e4f76cdbabecd33b8c762aeef386b3'}      8\n",
      "               user_feature_3 {'05b76f5e97e51128862059ac7df9e42a', '06128286bcc64b6a4b0fb7bc0328fe17', '1f5491ca59138af653430c90c33319b5', '270b3e1c052b4f2e9c90bf0ebeb84f34', '3aef83d337306549f1f8ca5a8b8ecff8', '9bde591ffaab8d54c457448e4dca6f53', 'c39b0c7dd5d4eb9a18e7db6ba2f258f8', 'f97571b9c14a786aab269f0b427d2a85'}      8\n",
      "user-item_affinity_{0,1,..79}                                                                                                                                                                                                                                                                                  {0.0, 1.0, 2.0} varies\n",
      "\n",
      "\n",
      "=== item_context.csv (Random Policy) Schema ===\n",
      "           Column Name                                                                                                                                                                                                                                              Possible values  |S|\n",
      "         item_id (int)                                                                                                                                                                                                                                                      {0, 79}   80\n",
      "item_feature_0 (float)                                                                                                                                                                                                                      {-1.056718399349641, 3.782787592501191}   41\n",
      "        item_feature_1                                                                                                                                                                                                                                           categorical hashes   12\n",
      "        item_feature_2                                                                                                                                                                                                                                           categorical hashes   21\n",
      "        item_feature_3 {'1ced27f8748b9def6220f316c049381d', '1ead5eb1766472d5bbe45ef0d5654a59', '2db6b0c562a5255a63087f66dd78af2d', '57d4fc9437511461ff53cc61e6d21206', '5c1e29f902c3ad66e0ff9f6020b1aa0b', 'c5f30230aeb098ffdbba4c8ce226a78a', 'f56faf88e4759846197592d0216dd55b'}    7\n",
      "\n",
      "\n",
      "----------------------------------------\n",
      "ANALYZING BTS POLICY\n",
      "----------------------------------------\n",
      "✓ Loaded bts data:\n",
      "  - Log shape: (10000, 89)\n",
      "  - Items shape: (80, 5)\n",
      "\n",
      "=== all.csv (Bts Policy) Schema ===\n",
      "                  Column Name                                                                                                                                                                                                                                                                                                                      Possible values    |S|\n",
      "                    timestamp                                                                                                                                                                                                                    {'2019-11-24 00:00:17.004101+00:00', '2019-11-24 00:00:19.715857+00:00', '2019-11-24 00:01:04.303227+00:00', ...}   9999\n",
      "                item_id (int)                                                                                                                                                                                                                                                                                                                              {0, 79}     80\n",
      "               position (int)                                                                                                                                                                                                                                                                                                                            {1, 2, 3}      3\n",
      "                  click (int)                                                                                                                                                                                                                                                                                                                               {0, 1}      2\n",
      "     propensity_score (float)                                                                                                                                                                                                                                                                                                                   {4.5e-05, 0.95424}   7883\n",
      "               user_feature_0                                                                                                                                                                                                                         {'4ae385d792f81dde128124a925a830de', '81ce123cbb5bd8ce818f60fb3586bba5', 'cef3390ed299c09874189c387777674a'}      3\n",
      "               user_feature_1                                                                                                                                                 {'03a5648a76832f83c859d46bc06cb64a', '2d03db5543b14483e52d761760686b64', '6ff54aa8ff7a9dde75161c20a3ee4231', '8b50621825ffd909dd8d8317d366271f', 'f1c2d6a32ec39249160cf784b63f4c6f'}      5\n",
      "               user_feature_2 {'2723d2eb8bba04e0362098011fa3997b', '302deff13f835d731df1c842eed95971', '719dab53a7560218a9d1f96b25d6fa32', '7ae37150e596e6e8f19e27a06bd4d359', '7bc94a2da491829b777c49c4b5e480f2', '9b2d331c329ceb74d3dcfb48d8798c78', '9f4e8271d3d3014af5f35124c2de5082', 'c2e4f76cdbabecd33b8c762aeef386b3', 'c7cce49040b6630e9b5484dfcc0e6cd1'}      9\n",
      "               user_feature_3 {'05b76f5e97e51128862059ac7df9e42a', '06128286bcc64b6a4b0fb7bc0328fe17', '1f5491ca59138af653430c90c33319b5', '270b3e1c052b4f2e9c90bf0ebeb84f34', '3aef83d337306549f1f8ca5a8b8ecff8', '9bde591ffaab8d54c457448e4dca6f53', 'c39b0c7dd5d4eb9a18e7db6ba2f258f8', 'ec6cfbbf6c92863522964288cddad06c', 'f97571b9c14a786aab269f0b427d2a85'}      9\n",
      "user-item_affinity_{0,1,..79}                                                                                                                                                                                                                                                                                                                 {0.0, 1.0, 2.0, 3.0} varies\n",
      "\n",
      "\n",
      "=== item_context.csv (Bts Policy) Schema ===\n",
      "           Column Name                                                                                                                                                                                                                                              Possible values  |S|\n",
      "         item_id (int)                                                                                                                                                                                                                                                      {0, 79}   80\n",
      "item_feature_0 (float)                                                                                                                                                                                                                      {-1.056718399349641, 3.782787592501191}   41\n",
      "        item_feature_1                                                                                                                                                                                                                                           categorical hashes   12\n",
      "        item_feature_2                                                                                                                                                                                                                                           categorical hashes   21\n",
      "        item_feature_3 {'36163e60414fb83e275f7a3cff00ccbc', '3c8f79fff6b73fd5a3eaebdc20b37078', '78469ccb0d9544e55354632ff51ed422', '84fd569b1b2309788c39aced8f88d084', '979ec370acfcbeb6a79e131db9ac4c62', 'b106244c2b3aa33fb9f1a9193badc19c', 'ee93c727c612367ffb4d9881f8948d68'}    7\n",
      "\n",
      "\n",
      "============================================================\n",
      "SCHEMA DIFFERENCES ANALYSIS\n",
      "============================================================\n",
      "\n",
      "📊 LOG SCHEMAS COMPARISON:\n",
      "------------------------------\n",
      "\n",
      "⚠️  DIFFERENCE in 'propensity_score (float)':\n",
      "    random: |S|=     1 | {0.0125, 0.0125}\n",
      "       bts: |S|=  7883 | {4.5e-05, 0.95424}\n",
      "\n",
      "⚠️  DIFFERENCE in 'timestamp':\n",
      "    random: |S|=  9991 | {'2019-11-24 00:00:34.762830+00:00', '2019-11-24 00:00:53.965051+00:00', '2019-11-24 00:00:56.727734+00:00', ...}\n",
      "       bts: |S|=  9999 | {'2019-11-24 00:00:17.004101+00:00', '2019-11-24 00:00:19.715857+00:00', '2019-11-24 00:01:04.303227+00:00', ...}\n",
      "\n",
      "⚠️  DIFFERENCE in 'user-item_affinity_{0,1,..79}':\n",
      "    random: |S|=varies | {0.0, 1.0, 2.0}\n",
      "       bts: |S|=varies | {0.0, 1.0, 2.0, 3.0}\n",
      "\n",
      "⚠️  DIFFERENCE in 'user_feature_2':\n",
      "    random: |S|=     8 | {'2723d2eb8bba04e0362098011fa3997b', '302deff13f835d731df1c842eed95971', '719dab53a7560218a9d1f96b25d6fa32', '7ae37150e596e6e8f19e27a06bd4d359', '7bc94a2da491829b777c49c4b5e480f2', '9b2d331c329ceb74d3dcfb48d8798c78', '9f4e8271d3d3014af5f35124c2de5082', 'c2e4f76cdbabecd33b8c762aeef386b3'}\n",
      "       bts: |S|=     9 | {'2723d2eb8bba04e0362098011fa3997b', '302deff13f835d731df1c842eed95971', '719dab53a7560218a9d1f96b25d6fa32', '7ae37150e596e6e8f19e27a06bd4d359', '7bc94a2da491829b777c49c4b5e480f2', '9b2d331c329ceb74d3dcfb48d8798c78', '9f4e8271d3d3014af5f35124c2de5082', 'c2e4f76cdbabecd33b8c762aeef386b3', 'c7cce49040b6630e9b5484dfcc0e6cd1'}\n",
      "\n",
      "⚠️  DIFFERENCE in 'user_feature_3':\n",
      "    random: |S|=     8 | {'05b76f5e97e51128862059ac7df9e42a', '06128286bcc64b6a4b0fb7bc0328fe17', '1f5491ca59138af653430c90c33319b5', '270b3e1c052b4f2e9c90bf0ebeb84f34', '3aef83d337306549f1f8ca5a8b8ecff8', '9bde591ffaab8d54c457448e4dca6f53', 'c39b0c7dd5d4eb9a18e7db6ba2f258f8', 'f97571b9c14a786aab269f0b427d2a85'}\n",
      "       bts: |S|=     9 | {'05b76f5e97e51128862059ac7df9e42a', '06128286bcc64b6a4b0fb7bc0328fe17', '1f5491ca59138af653430c90c33319b5', '270b3e1c052b4f2e9c90bf0ebeb84f34', '3aef83d337306549f1f8ca5a8b8ecff8', '9bde591ffaab8d54c457448e4dca6f53', 'c39b0c7dd5d4eb9a18e7db6ba2f258f8', 'ec6cfbbf6c92863522964288cddad06c', 'f97571b9c14a786aab269f0b427d2a85'}\n",
      "\n",
      "📦 ITEMS SCHEMAS COMPARISON:\n",
      "------------------------------\n",
      "\n",
      "⚠️  DIFFERENCE in 'item_feature_3':\n",
      "    random: |S|=     7 | {'1ced27f8748b9def6220f316c049381d', '1ead5eb1766472d5bbe45ef0d5654a59', '2db6b0c562a5255a63087f66dd78af2d', '57d4fc9437511461ff53cc61e6d21206', '5c1e29f902c3ad66e0ff9f6020b1aa0b', 'c5f30230aeb098ffdbba4c8ce226a78a', 'f56faf88e4759846197592d0216dd55b'}\n",
      "       bts: |S|=     7 | {'36163e60414fb83e275f7a3cff00ccbc', '3c8f79fff6b73fd5a3eaebdc20b37078', '78469ccb0d9544e55354632ff51ed422', '84fd569b1b2309788c39aced8f88d084', '979ec370acfcbeb6a79e131db9ac4c62', 'b106244c2b3aa33fb9f1a9193badc19c', 'ee93c727c612367ffb4d9881f8948d68'}\n"
     ]
    }
   ],
   "source": [
    "# Compare schemas between Random and BTS policies\n",
    "policy_schemas = compare_policy_schemas(['random', 'bts'])\n",
    "\n",
    "# Show detailed differences\n",
    "differences = compare_schema_differences(policy_schemas, show_differences_only=True)"
   ]
  },
  {
   "cell_type": "code",
   "execution_count": null,
   "id": "fe140c22",
   "metadata": {},
   "outputs": [],
   "source": [
    "def compare_custom_schemas(dataset_configs):\n",
    "    \"\"\"\n",
    "    Compare schemas from custom dataset configurations.\n",
    "    \n",
    "    Parameters:\n",
    "    - dataset_configs: Dictionary with format:\n",
    "      {\n",
    "          'dataset_name': {\n",
    "              'log_path': 'path/to/all.csv',\n",
    "              'items_path': 'path/to/item_context.csv'\n",
    "          }\n",
    "      }\n",
    "    \n",
    "    Example:\n",
    "    dataset_configs = {\n",
    "        'Random Policy': {\n",
    "            'log_path': 'zr-obp/obd/random/all/all.csv',\n",
    "            'items_path': 'zr-obp/obd/random/all/item_context.csv'\n",
    "        },\n",
    "        'BTS Policy': {\n",
    "            'log_path': 'zr-obp/obd/bts/all/all.csv', \n",
    "            'items_path': 'zr-obp/obd/bts/all/item_context.csv'\n",
    "        }\n",
    "    }\n",
    "    \"\"\"\n",
    "    \n",
    "    all_schemas = {}\n",
    "    \n",
    "    print(f\"\\n{'='*60}\")\n",
    "    print(f\"COMPARING CUSTOM DATASET SCHEMAS\")\n",
    "    print(f\"{'='*60}\")\n",
    "    \n",
    "    for dataset_name, config in dataset_configs.items():\n",
    "        print(f\"\\n{'-'*40}\")\n",
    "        print(f\"ANALYZING {dataset_name.upper()}\")\n",
    "        print(f\"{'-'*40}\")\n",
    "        \n",
    "        try:\n",
    "            # Load the data\n",
    "            log_df = pd.read_csv(config['log_path'], index_col=0)\n",
    "            items_df = pd.read_csv(config['items_path'], index_col=0)\n",
    "            \n",
    "            print(f\"✓ Loaded {dataset_name} data:\")\n",
    "            print(f\"  - Log path: {config['log_path']}\")\n",
    "            print(f\"  - Log shape: {log_df.shape}\")\n",
    "            print(f\"  - Items path: {config['items_path']}\")\n",
    "            print(f\"  - Items shape: {items_df.shape}\")\n",
    "            \n",
    "            # Generate schemas\n",
    "            log_schema = generate_detailed_schema_table(log_df, f\"all.csv ({dataset_name})\")\n",
    "            items_schema = generate_detailed_schema_table(items_df, f\"item_context.csv ({dataset_name})\")\n",
    "            \n",
    "            all_schemas[dataset_name] = {\n",
    "                'log_schema': log_schema,\n",
    "                'items_schema': items_schema,\n",
    "                'log_shape': log_df.shape,\n",
    "                'items_shape': items_df.shape\n",
    "            }\n",
    "            \n",
    "        except FileNotFoundError as e:\n",
    "            print(f\"✗ Error loading {dataset_name} data: {e}\")\n",
    "            all_schemas[dataset_name] = None\n",
    "        except Exception as e:\n",
    "            print(f\"✗ Unexpected error with {dataset_name}: {e}\")\n",
    "            all_schemas[dataset_name] = None\n",
    "    \n",
    "    return all_schemas\n",
    "\n",
    "# Example usage with custom paths:\n",
    "# dataset_configs = {\n",
    "#     'Random Policy': {\n",
    "#         'log_path': 'zr-obp/obd/random/all/all.csv',\n",
    "#         'items_path': 'zr-obp/obd/random/all/item_context.csv'\n",
    "#     },\n",
    "#     'BTS Policy': {\n",
    "#         'log_path': 'zr-obp/obd/bts/all/all.csv', \n",
    "#         'items_path': 'zr-obp/obd/bts/all/item_context.csv'\n",
    "#     }\n",
    "# }\n",
    "# \n",
    "# custom_schemas = compare_custom_schemas(dataset_configs)\n",
    "# differences = compare_schema_differences(custom_schemas, show_differences_only=True)"
   ]
  },
  {
   "cell_type": "code",
   "execution_count": 39,
   "id": "6b3b849a",
   "metadata": {},
   "outputs": [
    {
     "data": {
      "text/html": [
       "<div>\n",
       "<style scoped>\n",
       "    .dataframe tbody tr th:only-of-type {\n",
       "        vertical-align: middle;\n",
       "    }\n",
       "\n",
       "    .dataframe tbody tr th {\n",
       "        vertical-align: top;\n",
       "    }\n",
       "\n",
       "    .dataframe thead th {\n",
       "        text-align: right;\n",
       "    }\n",
       "</style>\n",
       "<table border=\"1\" class=\"dataframe\">\n",
       "  <thead>\n",
       "    <tr style=\"text-align: right;\">\n",
       "      <th></th>\n",
       "      <th>Column Name</th>\n",
       "      <th>Possible values</th>\n",
       "      <th>|S|</th>\n",
       "    </tr>\n",
       "  </thead>\n",
       "  <tbody>\n",
       "    <tr>\n",
       "      <th>0</th>\n",
       "      <td>timestamp</td>\n",
       "      <td>{'2019-11-24 00:00:34.762830+00:00', '2019-11-...</td>\n",
       "      <td>9991</td>\n",
       "    </tr>\n",
       "    <tr>\n",
       "      <th>1</th>\n",
       "      <td>item_id (int)</td>\n",
       "      <td>{0, 79}</td>\n",
       "      <td>80</td>\n",
       "    </tr>\n",
       "    <tr>\n",
       "      <th>2</th>\n",
       "      <td>position (int)</td>\n",
       "      <td>{1, 2, 3}</td>\n",
       "      <td>3</td>\n",
       "    </tr>\n",
       "    <tr>\n",
       "      <th>3</th>\n",
       "      <td>click (int)</td>\n",
       "      <td>{0, 1}</td>\n",
       "      <td>2</td>\n",
       "    </tr>\n",
       "    <tr>\n",
       "      <th>4</th>\n",
       "      <td>propensity_score (float)</td>\n",
       "      <td>{0.0125, 0.0125}</td>\n",
       "      <td>1</td>\n",
       "    </tr>\n",
       "    <tr>\n",
       "      <th>5</th>\n",
       "      <td>user_feature_0</td>\n",
       "      <td>{'4ae385d792f81dde128124a925a830de', '81ce123c...</td>\n",
       "      <td>3</td>\n",
       "    </tr>\n",
       "    <tr>\n",
       "      <th>6</th>\n",
       "      <td>user_feature_1</td>\n",
       "      <td>{'03a5648a76832f83c859d46bc06cb64a', '2d03db55...</td>\n",
       "      <td>5</td>\n",
       "    </tr>\n",
       "    <tr>\n",
       "      <th>7</th>\n",
       "      <td>user_feature_2</td>\n",
       "      <td>{'2723d2eb8bba04e0362098011fa3997b', '302deff1...</td>\n",
       "      <td>8</td>\n",
       "    </tr>\n",
       "    <tr>\n",
       "      <th>8</th>\n",
       "      <td>user_feature_3</td>\n",
       "      <td>{'05b76f5e97e51128862059ac7df9e42a', '06128286...</td>\n",
       "      <td>8</td>\n",
       "    </tr>\n",
       "    <tr>\n",
       "      <th>9</th>\n",
       "      <td>user-item_affinity_{0,1,..79}</td>\n",
       "      <td>{0.0, 1.0, 2.0}</td>\n",
       "      <td>varies</td>\n",
       "    </tr>\n",
       "  </tbody>\n",
       "</table>\n",
       "</div>"
      ],
      "text/plain": [
       "                     Column Name                                    Possible values     |S|\n",
       "0                      timestamp  {'2019-11-24 00:00:34.762830+00:00', '2019-11-...    9991\n",
       "1                  item_id (int)                                            {0, 79}      80\n",
       "2                 position (int)                                          {1, 2, 3}       3\n",
       "3                    click (int)                                             {0, 1}       2\n",
       "4       propensity_score (float)                                   {0.0125, 0.0125}       1\n",
       "5                 user_feature_0  {'4ae385d792f81dde128124a925a830de', '81ce123c...       3\n",
       "6                 user_feature_1  {'03a5648a76832f83c859d46bc06cb64a', '2d03db55...       5\n",
       "7                 user_feature_2  {'2723d2eb8bba04e0362098011fa3997b', '302deff1...       8\n",
       "8                 user_feature_3  {'05b76f5e97e51128862059ac7df9e42a', '06128286...       8\n",
       "9  user-item_affinity_{0,1,..79}                                    {0.0, 1.0, 2.0}  varies"
      ]
     },
     "metadata": {},
     "output_type": "display_data"
    },
    {
     "data": {
      "text/html": [
       "<div>\n",
       "<style scoped>\n",
       "    .dataframe tbody tr th:only-of-type {\n",
       "        vertical-align: middle;\n",
       "    }\n",
       "\n",
       "    .dataframe tbody tr th {\n",
       "        vertical-align: top;\n",
       "    }\n",
       "\n",
       "    .dataframe thead th {\n",
       "        text-align: right;\n",
       "    }\n",
       "</style>\n",
       "<table border=\"1\" class=\"dataframe\">\n",
       "  <thead>\n",
       "    <tr style=\"text-align: right;\">\n",
       "      <th></th>\n",
       "      <th>Column Name</th>\n",
       "      <th>Possible values</th>\n",
       "      <th>|S|</th>\n",
       "    </tr>\n",
       "  </thead>\n",
       "  <tbody>\n",
       "    <tr>\n",
       "      <th>0</th>\n",
       "      <td>item_id (int)</td>\n",
       "      <td>{0, 79}</td>\n",
       "      <td>80</td>\n",
       "    </tr>\n",
       "    <tr>\n",
       "      <th>1</th>\n",
       "      <td>item_feature_0 (float)</td>\n",
       "      <td>{-1.056718399349641, 3.782787592501191}</td>\n",
       "      <td>41</td>\n",
       "    </tr>\n",
       "    <tr>\n",
       "      <th>2</th>\n",
       "      <td>item_feature_1</td>\n",
       "      <td>categorical hashes</td>\n",
       "      <td>12</td>\n",
       "    </tr>\n",
       "    <tr>\n",
       "      <th>3</th>\n",
       "      <td>item_feature_2</td>\n",
       "      <td>categorical hashes</td>\n",
       "      <td>21</td>\n",
       "    </tr>\n",
       "    <tr>\n",
       "      <th>4</th>\n",
       "      <td>item_feature_3</td>\n",
       "      <td>{'1ced27f8748b9def6220f316c049381d', '1ead5eb1...</td>\n",
       "      <td>7</td>\n",
       "    </tr>\n",
       "  </tbody>\n",
       "</table>\n",
       "</div>"
      ],
      "text/plain": [
       "              Column Name                                    Possible values  |S|\n",
       "0           item_id (int)                                            {0, 79}   80\n",
       "1  item_feature_0 (float)            {-1.056718399349641, 3.782787592501191}   41\n",
       "2          item_feature_1                                 categorical hashes   12\n",
       "3          item_feature_2                                 categorical hashes   21\n",
       "4          item_feature_3  {'1ced27f8748b9def6220f316c049381d', '1ead5eb1...    7"
      ]
     },
     "metadata": {},
     "output_type": "display_data"
    }
   ],
   "source": [
    "display(policy_schemas['random']['log_schema'])\n",
    "display(policy_schemas['random']['items_schema'])\n",
    "\n"
   ]
  },
  {
   "cell_type": "code",
   "execution_count": 43,
   "id": "f969e10e",
   "metadata": {},
   "outputs": [
    {
     "data": {
      "text/html": [
       "<div>\n",
       "<style scoped>\n",
       "    .dataframe tbody tr th:only-of-type {\n",
       "        vertical-align: middle;\n",
       "    }\n",
       "\n",
       "    .dataframe tbody tr th {\n",
       "        vertical-align: top;\n",
       "    }\n",
       "\n",
       "    .dataframe thead th {\n",
       "        text-align: right;\n",
       "    }\n",
       "</style>\n",
       "<table border=\"1\" class=\"dataframe\">\n",
       "  <thead>\n",
       "    <tr style=\"text-align: right;\">\n",
       "      <th></th>\n",
       "      <th>Column Name</th>\n",
       "      <th>Possible values</th>\n",
       "      <th>|S|</th>\n",
       "    </tr>\n",
       "  </thead>\n",
       "  <tbody>\n",
       "    <tr>\n",
       "      <th>0</th>\n",
       "      <td>timestamp</td>\n",
       "      <td>{'2019-11-24 00:00:17.004101+00:00', '2019-11-...</td>\n",
       "      <td>9999</td>\n",
       "    </tr>\n",
       "    <tr>\n",
       "      <th>1</th>\n",
       "      <td>item_id (int)</td>\n",
       "      <td>{0, 79}</td>\n",
       "      <td>80</td>\n",
       "    </tr>\n",
       "    <tr>\n",
       "      <th>2</th>\n",
       "      <td>position (int)</td>\n",
       "      <td>{1, 2, 3}</td>\n",
       "      <td>3</td>\n",
       "    </tr>\n",
       "    <tr>\n",
       "      <th>3</th>\n",
       "      <td>click (int)</td>\n",
       "      <td>{0, 1}</td>\n",
       "      <td>2</td>\n",
       "    </tr>\n",
       "    <tr>\n",
       "      <th>4</th>\n",
       "      <td>propensity_score (float)</td>\n",
       "      <td>{4.5e-05, 0.95424}</td>\n",
       "      <td>7883</td>\n",
       "    </tr>\n",
       "    <tr>\n",
       "      <th>5</th>\n",
       "      <td>user_feature_0</td>\n",
       "      <td>{'4ae385d792f81dde128124a925a830de', '81ce123c...</td>\n",
       "      <td>3</td>\n",
       "    </tr>\n",
       "    <tr>\n",
       "      <th>6</th>\n",
       "      <td>user_feature_1</td>\n",
       "      <td>{'03a5648a76832f83c859d46bc06cb64a', '2d03db55...</td>\n",
       "      <td>5</td>\n",
       "    </tr>\n",
       "    <tr>\n",
       "      <th>7</th>\n",
       "      <td>user_feature_2</td>\n",
       "      <td>{'2723d2eb8bba04e0362098011fa3997b', '302deff1...</td>\n",
       "      <td>9</td>\n",
       "    </tr>\n",
       "    <tr>\n",
       "      <th>8</th>\n",
       "      <td>user_feature_3</td>\n",
       "      <td>{'05b76f5e97e51128862059ac7df9e42a', '06128286...</td>\n",
       "      <td>9</td>\n",
       "    </tr>\n",
       "    <tr>\n",
       "      <th>9</th>\n",
       "      <td>user-item_affinity_{0,1,..79}</td>\n",
       "      <td>{0.0, 1.0, 2.0, 3.0}</td>\n",
       "      <td>varies</td>\n",
       "    </tr>\n",
       "  </tbody>\n",
       "</table>\n",
       "</div>"
      ],
      "text/plain": [
       "                     Column Name                                    Possible values     |S|\n",
       "0                      timestamp  {'2019-11-24 00:00:17.004101+00:00', '2019-11-...    9999\n",
       "1                  item_id (int)                                            {0, 79}      80\n",
       "2                 position (int)                                          {1, 2, 3}       3\n",
       "3                    click (int)                                             {0, 1}       2\n",
       "4       propensity_score (float)                                 {4.5e-05, 0.95424}    7883\n",
       "5                 user_feature_0  {'4ae385d792f81dde128124a925a830de', '81ce123c...       3\n",
       "6                 user_feature_1  {'03a5648a76832f83c859d46bc06cb64a', '2d03db55...       5\n",
       "7                 user_feature_2  {'2723d2eb8bba04e0362098011fa3997b', '302deff1...       9\n",
       "8                 user_feature_3  {'05b76f5e97e51128862059ac7df9e42a', '06128286...       9\n",
       "9  user-item_affinity_{0,1,..79}                               {0.0, 1.0, 2.0, 3.0}  varies"
      ]
     },
     "metadata": {},
     "output_type": "display_data"
    },
    {
     "data": {
      "text/html": [
       "<div>\n",
       "<style scoped>\n",
       "    .dataframe tbody tr th:only-of-type {\n",
       "        vertical-align: middle;\n",
       "    }\n",
       "\n",
       "    .dataframe tbody tr th {\n",
       "        vertical-align: top;\n",
       "    }\n",
       "\n",
       "    .dataframe thead th {\n",
       "        text-align: right;\n",
       "    }\n",
       "</style>\n",
       "<table border=\"1\" class=\"dataframe\">\n",
       "  <thead>\n",
       "    <tr style=\"text-align: right;\">\n",
       "      <th></th>\n",
       "      <th>Column Name</th>\n",
       "      <th>Possible values</th>\n",
       "      <th>|S|</th>\n",
       "    </tr>\n",
       "  </thead>\n",
       "  <tbody>\n",
       "    <tr>\n",
       "      <th>0</th>\n",
       "      <td>item_id (int)</td>\n",
       "      <td>{0, 79}</td>\n",
       "      <td>80</td>\n",
       "    </tr>\n",
       "    <tr>\n",
       "      <th>1</th>\n",
       "      <td>item_feature_0 (float)</td>\n",
       "      <td>{-1.056718399349641, 3.782787592501191}</td>\n",
       "      <td>41</td>\n",
       "    </tr>\n",
       "    <tr>\n",
       "      <th>2</th>\n",
       "      <td>item_feature_1</td>\n",
       "      <td>categorical hashes</td>\n",
       "      <td>12</td>\n",
       "    </tr>\n",
       "    <tr>\n",
       "      <th>3</th>\n",
       "      <td>item_feature_2</td>\n",
       "      <td>categorical hashes</td>\n",
       "      <td>21</td>\n",
       "    </tr>\n",
       "    <tr>\n",
       "      <th>4</th>\n",
       "      <td>item_feature_3</td>\n",
       "      <td>{'36163e60414fb83e275f7a3cff00ccbc', '3c8f79ff...</td>\n",
       "      <td>7</td>\n",
       "    </tr>\n",
       "  </tbody>\n",
       "</table>\n",
       "</div>"
      ],
      "text/plain": [
       "              Column Name                                    Possible values  |S|\n",
       "0           item_id (int)                                            {0, 79}   80\n",
       "1  item_feature_0 (float)            {-1.056718399349641, 3.782787592501191}   41\n",
       "2          item_feature_1                                 categorical hashes   12\n",
       "3          item_feature_2                                 categorical hashes   21\n",
       "4          item_feature_3  {'36163e60414fb83e275f7a3cff00ccbc', '3c8f79ff...    7"
      ]
     },
     "metadata": {},
     "output_type": "display_data"
    }
   ],
   "source": [
    "display(policy_schemas['bts']['log_schema'])\n",
    "display(policy_schemas['bts']['items_schema'])"
   ]
  },
  {
   "cell_type": "code",
   "execution_count": null,
   "id": "0f1bf9c3",
   "metadata": {},
   "outputs": [
    {
     "data": {
      "text/plain": [
       "{'values': '{0, 79}', 'cardinality': 80}"
      ]
     },
     "execution_count": 42,
     "metadata": {},
     "output_type": "execute_result"
    }
   ],
   "source": [
    "break "
   ]
  },
  {
   "cell_type": "code",
   "execution_count": null,
   "id": "7eab932e",
   "metadata": {},
   "outputs": [],
   "source": []
  },
  {
   "cell_type": "code",
   "execution_count": null,
   "id": "81246431",
   "metadata": {},
   "outputs": [],
   "source": []
  },
  {
   "cell_type": "code",
   "execution_count": null,
   "id": "11f00aa1",
   "metadata": {},
   "outputs": [],
   "source": []
  },
  {
   "cell_type": "code",
   "execution_count": null,
   "id": "37f471f6",
   "metadata": {},
   "outputs": [],
   "source": []
  },
  {
   "cell_type": "code",
   "execution_count": null,
   "id": "37a96e94",
   "metadata": {},
   "outputs": [],
   "source": []
  },
  {
   "cell_type": "markdown",
   "id": "50e9e363",
   "metadata": {},
   "source": [
    "## EDA "
   ]
  },
  {
   "cell_type": "markdown",
   "id": "2d5196eb",
   "metadata": {},
   "source": [
    "### Histogram on number of rows per day "
   ]
  },
  {
   "cell_type": "code",
   "execution_count": 6,
   "id": "d9f62bd7",
   "metadata": {},
   "outputs": [
    {
     "data": {
      "application/vnd.plotly.v1+json": {
       "config": {
        "plotlyServerURL": "https://plot.ly"
       },
       "data": [
        {
         "cliponaxis": false,
         "hovertemplate": "Date=%{x}<br>Rows=%{text}<extra></extra>",
         "legendgroup": "",
         "marker": {
          "color": "#636efa",
          "pattern": {
           "shape": ""
          }
         },
         "name": "",
         "orientation": "v",
         "showlegend": false,
         "text": {
          "bdata": "AAAAAADAc0AAAAAAANSWQAAAAAAAHJJAAAAAAACwlUAAAAAAAPSYQAAAAAAAcJtAAAAAAABElEAAAAAAAAiQQA==",
          "dtype": "f8"
         },
         "textposition": "outside",
         "texttemplate": "%{text:,}",
         "type": "bar",
         "x": [
          "2019-11-23T00:00:00.000000000",
          "2019-11-24T00:00:00.000000000",
          "2019-11-25T00:00:00.000000000",
          "2019-11-26T00:00:00.000000000",
          "2019-11-27T00:00:00.000000000",
          "2019-11-28T00:00:00.000000000",
          "2019-11-29T00:00:00.000000000",
          "2019-11-30T00:00:00.000000000"
         ],
         "xaxis": "x",
         "y": {
          "bdata": "PAG1BYcEbAU9BtwGEQUCBA==",
          "dtype": "i2"
         },
         "yaxis": "y"
        }
       ],
       "layout": {
        "barmode": "relative",
        "height": 500,
        "legend": {
         "tracegroupgap": 0
        },
        "template": {
         "data": {
          "bar": [
           {
            "error_x": {
             "color": "#2a3f5f"
            },
            "error_y": {
             "color": "#2a3f5f"
            },
            "marker": {
             "line": {
              "color": "#E5ECF6",
              "width": 0.5
             },
             "pattern": {
              "fillmode": "overlay",
              "size": 10,
              "solidity": 0.2
             }
            },
            "type": "bar"
           }
          ],
          "barpolar": [
           {
            "marker": {
             "line": {
              "color": "#E5ECF6",
              "width": 0.5
             },
             "pattern": {
              "fillmode": "overlay",
              "size": 10,
              "solidity": 0.2
             }
            },
            "type": "barpolar"
           }
          ],
          "carpet": [
           {
            "aaxis": {
             "endlinecolor": "#2a3f5f",
             "gridcolor": "white",
             "linecolor": "white",
             "minorgridcolor": "white",
             "startlinecolor": "#2a3f5f"
            },
            "baxis": {
             "endlinecolor": "#2a3f5f",
             "gridcolor": "white",
             "linecolor": "white",
             "minorgridcolor": "white",
             "startlinecolor": "#2a3f5f"
            },
            "type": "carpet"
           }
          ],
          "choropleth": [
           {
            "colorbar": {
             "outlinewidth": 0,
             "ticks": ""
            },
            "type": "choropleth"
           }
          ],
          "contour": [
           {
            "colorbar": {
             "outlinewidth": 0,
             "ticks": ""
            },
            "colorscale": [
             [
              0,
              "#0d0887"
             ],
             [
              0.1111111111111111,
              "#46039f"
             ],
             [
              0.2222222222222222,
              "#7201a8"
             ],
             [
              0.3333333333333333,
              "#9c179e"
             ],
             [
              0.4444444444444444,
              "#bd3786"
             ],
             [
              0.5555555555555556,
              "#d8576b"
             ],
             [
              0.6666666666666666,
              "#ed7953"
             ],
             [
              0.7777777777777778,
              "#fb9f3a"
             ],
             [
              0.8888888888888888,
              "#fdca26"
             ],
             [
              1,
              "#f0f921"
             ]
            ],
            "type": "contour"
           }
          ],
          "contourcarpet": [
           {
            "colorbar": {
             "outlinewidth": 0,
             "ticks": ""
            },
            "type": "contourcarpet"
           }
          ],
          "heatmap": [
           {
            "colorbar": {
             "outlinewidth": 0,
             "ticks": ""
            },
            "colorscale": [
             [
              0,
              "#0d0887"
             ],
             [
              0.1111111111111111,
              "#46039f"
             ],
             [
              0.2222222222222222,
              "#7201a8"
             ],
             [
              0.3333333333333333,
              "#9c179e"
             ],
             [
              0.4444444444444444,
              "#bd3786"
             ],
             [
              0.5555555555555556,
              "#d8576b"
             ],
             [
              0.6666666666666666,
              "#ed7953"
             ],
             [
              0.7777777777777778,
              "#fb9f3a"
             ],
             [
              0.8888888888888888,
              "#fdca26"
             ],
             [
              1,
              "#f0f921"
             ]
            ],
            "type": "heatmap"
           }
          ],
          "histogram": [
           {
            "marker": {
             "pattern": {
              "fillmode": "overlay",
              "size": 10,
              "solidity": 0.2
             }
            },
            "type": "histogram"
           }
          ],
          "histogram2d": [
           {
            "colorbar": {
             "outlinewidth": 0,
             "ticks": ""
            },
            "colorscale": [
             [
              0,
              "#0d0887"
             ],
             [
              0.1111111111111111,
              "#46039f"
             ],
             [
              0.2222222222222222,
              "#7201a8"
             ],
             [
              0.3333333333333333,
              "#9c179e"
             ],
             [
              0.4444444444444444,
              "#bd3786"
             ],
             [
              0.5555555555555556,
              "#d8576b"
             ],
             [
              0.6666666666666666,
              "#ed7953"
             ],
             [
              0.7777777777777778,
              "#fb9f3a"
             ],
             [
              0.8888888888888888,
              "#fdca26"
             ],
             [
              1,
              "#f0f921"
             ]
            ],
            "type": "histogram2d"
           }
          ],
          "histogram2dcontour": [
           {
            "colorbar": {
             "outlinewidth": 0,
             "ticks": ""
            },
            "colorscale": [
             [
              0,
              "#0d0887"
             ],
             [
              0.1111111111111111,
              "#46039f"
             ],
             [
              0.2222222222222222,
              "#7201a8"
             ],
             [
              0.3333333333333333,
              "#9c179e"
             ],
             [
              0.4444444444444444,
              "#bd3786"
             ],
             [
              0.5555555555555556,
              "#d8576b"
             ],
             [
              0.6666666666666666,
              "#ed7953"
             ],
             [
              0.7777777777777778,
              "#fb9f3a"
             ],
             [
              0.8888888888888888,
              "#fdca26"
             ],
             [
              1,
              "#f0f921"
             ]
            ],
            "type": "histogram2dcontour"
           }
          ],
          "mesh3d": [
           {
            "colorbar": {
             "outlinewidth": 0,
             "ticks": ""
            },
            "type": "mesh3d"
           }
          ],
          "parcoords": [
           {
            "line": {
             "colorbar": {
              "outlinewidth": 0,
              "ticks": ""
             }
            },
            "type": "parcoords"
           }
          ],
          "pie": [
           {
            "automargin": true,
            "type": "pie"
           }
          ],
          "scatter": [
           {
            "fillpattern": {
             "fillmode": "overlay",
             "size": 10,
             "solidity": 0.2
            },
            "type": "scatter"
           }
          ],
          "scatter3d": [
           {
            "line": {
             "colorbar": {
              "outlinewidth": 0,
              "ticks": ""
             }
            },
            "marker": {
             "colorbar": {
              "outlinewidth": 0,
              "ticks": ""
             }
            },
            "type": "scatter3d"
           }
          ],
          "scattercarpet": [
           {
            "marker": {
             "colorbar": {
              "outlinewidth": 0,
              "ticks": ""
             }
            },
            "type": "scattercarpet"
           }
          ],
          "scattergeo": [
           {
            "marker": {
             "colorbar": {
              "outlinewidth": 0,
              "ticks": ""
             }
            },
            "type": "scattergeo"
           }
          ],
          "scattergl": [
           {
            "marker": {
             "colorbar": {
              "outlinewidth": 0,
              "ticks": ""
             }
            },
            "type": "scattergl"
           }
          ],
          "scattermap": [
           {
            "marker": {
             "colorbar": {
              "outlinewidth": 0,
              "ticks": ""
             }
            },
            "type": "scattermap"
           }
          ],
          "scattermapbox": [
           {
            "marker": {
             "colorbar": {
              "outlinewidth": 0,
              "ticks": ""
             }
            },
            "type": "scattermapbox"
           }
          ],
          "scatterpolar": [
           {
            "marker": {
             "colorbar": {
              "outlinewidth": 0,
              "ticks": ""
             }
            },
            "type": "scatterpolar"
           }
          ],
          "scatterpolargl": [
           {
            "marker": {
             "colorbar": {
              "outlinewidth": 0,
              "ticks": ""
             }
            },
            "type": "scatterpolargl"
           }
          ],
          "scatterternary": [
           {
            "marker": {
             "colorbar": {
              "outlinewidth": 0,
              "ticks": ""
             }
            },
            "type": "scatterternary"
           }
          ],
          "surface": [
           {
            "colorbar": {
             "outlinewidth": 0,
             "ticks": ""
            },
            "colorscale": [
             [
              0,
              "#0d0887"
             ],
             [
              0.1111111111111111,
              "#46039f"
             ],
             [
              0.2222222222222222,
              "#7201a8"
             ],
             [
              0.3333333333333333,
              "#9c179e"
             ],
             [
              0.4444444444444444,
              "#bd3786"
             ],
             [
              0.5555555555555556,
              "#d8576b"
             ],
             [
              0.6666666666666666,
              "#ed7953"
             ],
             [
              0.7777777777777778,
              "#fb9f3a"
             ],
             [
              0.8888888888888888,
              "#fdca26"
             ],
             [
              1,
              "#f0f921"
             ]
            ],
            "type": "surface"
           }
          ],
          "table": [
           {
            "cells": {
             "fill": {
              "color": "#EBF0F8"
             },
             "line": {
              "color": "white"
             }
            },
            "header": {
             "fill": {
              "color": "#C8D4E3"
             },
             "line": {
              "color": "white"
             }
            },
            "type": "table"
           }
          ]
         },
         "layout": {
          "annotationdefaults": {
           "arrowcolor": "#2a3f5f",
           "arrowhead": 0,
           "arrowwidth": 1
          },
          "autotypenumbers": "strict",
          "coloraxis": {
           "colorbar": {
            "outlinewidth": 0,
            "ticks": ""
           }
          },
          "colorscale": {
           "diverging": [
            [
             0,
             "#8e0152"
            ],
            [
             0.1,
             "#c51b7d"
            ],
            [
             0.2,
             "#de77ae"
            ],
            [
             0.3,
             "#f1b6da"
            ],
            [
             0.4,
             "#fde0ef"
            ],
            [
             0.5,
             "#f7f7f7"
            ],
            [
             0.6,
             "#e6f5d0"
            ],
            [
             0.7,
             "#b8e186"
            ],
            [
             0.8,
             "#7fbc41"
            ],
            [
             0.9,
             "#4d9221"
            ],
            [
             1,
             "#276419"
            ]
           ],
           "sequential": [
            [
             0,
             "#0d0887"
            ],
            [
             0.1111111111111111,
             "#46039f"
            ],
            [
             0.2222222222222222,
             "#7201a8"
            ],
            [
             0.3333333333333333,
             "#9c179e"
            ],
            [
             0.4444444444444444,
             "#bd3786"
            ],
            [
             0.5555555555555556,
             "#d8576b"
            ],
            [
             0.6666666666666666,
             "#ed7953"
            ],
            [
             0.7777777777777778,
             "#fb9f3a"
            ],
            [
             0.8888888888888888,
             "#fdca26"
            ],
            [
             1,
             "#f0f921"
            ]
           ],
           "sequentialminus": [
            [
             0,
             "#0d0887"
            ],
            [
             0.1111111111111111,
             "#46039f"
            ],
            [
             0.2222222222222222,
             "#7201a8"
            ],
            [
             0.3333333333333333,
             "#9c179e"
            ],
            [
             0.4444444444444444,
             "#bd3786"
            ],
            [
             0.5555555555555556,
             "#d8576b"
            ],
            [
             0.6666666666666666,
             "#ed7953"
            ],
            [
             0.7777777777777778,
             "#fb9f3a"
            ],
            [
             0.8888888888888888,
             "#fdca26"
            ],
            [
             1,
             "#f0f921"
            ]
           ]
          },
          "colorway": [
           "#636efa",
           "#EF553B",
           "#00cc96",
           "#ab63fa",
           "#FFA15A",
           "#19d3f3",
           "#FF6692",
           "#B6E880",
           "#FF97FF",
           "#FECB52"
          ],
          "font": {
           "color": "#2a3f5f"
          },
          "geo": {
           "bgcolor": "white",
           "lakecolor": "white",
           "landcolor": "#E5ECF6",
           "showlakes": true,
           "showland": true,
           "subunitcolor": "white"
          },
          "hoverlabel": {
           "align": "left"
          },
          "hovermode": "closest",
          "mapbox": {
           "style": "light"
          },
          "paper_bgcolor": "white",
          "plot_bgcolor": "#E5ECF6",
          "polar": {
           "angularaxis": {
            "gridcolor": "white",
            "linecolor": "white",
            "ticks": ""
           },
           "bgcolor": "#E5ECF6",
           "radialaxis": {
            "gridcolor": "white",
            "linecolor": "white",
            "ticks": ""
           }
          },
          "scene": {
           "xaxis": {
            "backgroundcolor": "#E5ECF6",
            "gridcolor": "white",
            "gridwidth": 2,
            "linecolor": "white",
            "showbackground": true,
            "ticks": "",
            "zerolinecolor": "white"
           },
           "yaxis": {
            "backgroundcolor": "#E5ECF6",
            "gridcolor": "white",
            "gridwidth": 2,
            "linecolor": "white",
            "showbackground": true,
            "ticks": "",
            "zerolinecolor": "white"
           },
           "zaxis": {
            "backgroundcolor": "#E5ECF6",
            "gridcolor": "white",
            "gridwidth": 2,
            "linecolor": "white",
            "showbackground": true,
            "ticks": "",
            "zerolinecolor": "white"
           }
          },
          "shapedefaults": {
           "line": {
            "color": "#2a3f5f"
           }
          },
          "ternary": {
           "aaxis": {
            "gridcolor": "white",
            "linecolor": "white",
            "ticks": ""
           },
           "baxis": {
            "gridcolor": "white",
            "linecolor": "white",
            "ticks": ""
           },
           "bgcolor": "#E5ECF6",
           "caxis": {
            "gridcolor": "white",
            "linecolor": "white",
            "ticks": ""
           }
          },
          "title": {
           "x": 0.05
          },
          "xaxis": {
           "automargin": true,
           "gridcolor": "white",
           "linecolor": "white",
           "ticks": "",
           "title": {
            "standoff": 15
           },
           "zerolinecolor": "white",
           "zerolinewidth": 2
          },
          "yaxis": {
           "automargin": true,
           "gridcolor": "white",
           "linecolor": "white",
           "ticks": "",
           "title": {
            "standoff": 15
           },
           "zerolinecolor": "white",
           "zerolinewidth": 2
          }
         }
        },
        "title": {
         "text": "Number of Rows per Day"
        },
        "xaxis": {
         "anchor": "y",
         "domain": [
          0,
          1
         ],
         "title": {
          "text": "Date"
         }
        },
        "yaxis": {
         "anchor": "x",
         "domain": [
          0,
          1
         ],
         "range": [
          0,
          1931.6000000000001
         ],
         "title": {
          "text": "Rows"
         }
        }
       }
      }
     },
     "metadata": {},
     "output_type": "display_data"
    }
   ],
   "source": [
    "# Ensure proper datetime dtype (keeps timezone info)\n",
    "log_df = log_df_readable.copy()\n",
    "log_df['timestamp'] = pd.to_datetime(log_df['timestamp'], utc=True, errors='coerce')\n",
    "log_df = log_df.loc[log_df['timestamp'].notna()]\n",
    "\n",
    "# convert to your local timezone (example: Toronto)\n",
    "log_df['timestamp'] = log_df['timestamp'].dt.tz_convert('America/Toronto')\n",
    "\n",
    "# # Count rows per day, including days with zero rows\n",
    "daily_counts = (\n",
    "    log_df\n",
    "    .set_index('timestamp')\n",
    "    .resample('D')\n",
    "    .size()\n",
    "    .rename('rows')\n",
    "    .reset_index()\n",
    ")\n",
    "\n",
    "# Use the plotting function\n",
    "fig = plot_bar_chart(\n",
    "    data=daily_counts,\n",
    "    x_col='timestamp',\n",
    "    y_col='rows',\n",
    "    x_title='Date',\n",
    "    y_title='Rows',\n",
    "    title='Number of Rows per Day',\n",
    "    height=500,\n",
    "    show_values=True,\n",
    "    value_format='{:,}'  # thousands separator\n",
    ")\n",
    "\n",
    "fig.show()\n"
   ]
  },
  {
   "cell_type": "markdown",
   "id": "07ff4b35",
   "metadata": {},
   "source": [
    "### Counting user features vs user-item features"
   ]
  },
  {
   "cell_type": "code",
   "execution_count": 7,
   "id": "8457a6f2",
   "metadata": {},
   "outputs": [
    {
     "data": {
      "text/plain": [
       "(['user_feature_0', 'user_feature_1', 'user_feature_2', 'user_feature_3'], 80)"
      ]
     },
     "execution_count": 7,
     "metadata": {},
     "output_type": "execute_result"
    }
   ],
   "source": [
    "user_feature_cols = [c for c in log_df_readable.columns if c.startswith('user_feature_')]\n",
    "affinity_cols = [c for c in log_df_readable.columns if c.startswith('user-item_affinity_')]\n",
    "\n",
    "user_feature_cols, len(affinity_cols)"
   ]
  },
  {
   "cell_type": "markdown",
   "id": "a2a6d10e",
   "metadata": {},
   "source": [
    "### Cardinality per feature"
   ]
  },
  {
   "cell_type": "code",
   "execution_count": 8,
   "id": "f134b4a9",
   "metadata": {},
   "outputs": [
    {
     "data": {
      "text/html": [
       "<div>\n",
       "<style scoped>\n",
       "    .dataframe tbody tr th:only-of-type {\n",
       "        vertical-align: middle;\n",
       "    }\n",
       "\n",
       "    .dataframe tbody tr th {\n",
       "        vertical-align: top;\n",
       "    }\n",
       "\n",
       "    .dataframe thead th {\n",
       "        text-align: right;\n",
       "    }\n",
       "</style>\n",
       "<table border=\"1\" class=\"dataframe\">\n",
       "  <thead>\n",
       "    <tr style=\"text-align: right;\">\n",
       "      <th></th>\n",
       "      <th>feature</th>\n",
       "      <th>n_unique</th>\n",
       "      <th>n_missing</th>\n",
       "      <th>top_value</th>\n",
       "      <th>top_count</th>\n",
       "      <th>top_share</th>\n",
       "    </tr>\n",
       "  </thead>\n",
       "  <tbody>\n",
       "    <tr>\n",
       "      <th>2</th>\n",
       "      <td>user_feature_2</td>\n",
       "      <td>9</td>\n",
       "      <td>0</td>\n",
       "      <td>B2</td>\n",
       "      <td>2439</td>\n",
       "      <td>0.2439</td>\n",
       "    </tr>\n",
       "    <tr>\n",
       "      <th>3</th>\n",
       "      <td>user_feature_3</td>\n",
       "      <td>9</td>\n",
       "      <td>0</td>\n",
       "      <td>B3</td>\n",
       "      <td>3667</td>\n",
       "      <td>0.3667</td>\n",
       "    </tr>\n",
       "    <tr>\n",
       "      <th>1</th>\n",
       "      <td>user_feature_1</td>\n",
       "      <td>5</td>\n",
       "      <td>0</td>\n",
       "      <td>A1</td>\n",
       "      <td>8322</td>\n",
       "      <td>0.8322</td>\n",
       "    </tr>\n",
       "    <tr>\n",
       "      <th>0</th>\n",
       "      <td>user_feature_0</td>\n",
       "      <td>3</td>\n",
       "      <td>0</td>\n",
       "      <td>A0</td>\n",
       "      <td>8123</td>\n",
       "      <td>0.8123</td>\n",
       "    </tr>\n",
       "  </tbody>\n",
       "</table>\n",
       "</div>"
      ],
      "text/plain": [
       "          feature  n_unique  n_missing top_value  top_count  top_share\n",
       "2  user_feature_2         9          0        B2       2439     0.2439\n",
       "3  user_feature_3         9          0        B3       3667     0.3667\n",
       "1  user_feature_1         5          0        A1       8322     0.8322\n",
       "0  user_feature_0         3          0        A0       8123     0.8123"
      ]
     },
     "execution_count": 8,
     "metadata": {},
     "output_type": "execute_result"
    }
   ],
   "source": [
    "feat_summary = []\n",
    "for c in user_feature_cols:\n",
    "    s = log_df_readable[c]\n",
    "    vc = s.value_counts(dropna=False)\n",
    "    feat_summary.append({\n",
    "        'feature': c,\n",
    "        'n_unique': s.nunique(dropna=True),\n",
    "        'n_missing': int(s.isna().sum()),\n",
    "        'top_value': None if vc.empty else vc.index[0],\n",
    "        'top_count': 0 if vc.empty else int(vc.iloc[0]),\n",
    "        'top_share': 0.0 if vc.empty else float(vc.iloc[0] / len(s)),\n",
    "    })\n",
    "pd.DataFrame(feat_summary).sort_values('n_unique', ascending=False)"
   ]
  },
  {
   "cell_type": "code",
   "execution_count": 9,
   "id": "8e814dfc",
   "metadata": {},
   "outputs": [
    {
     "data": {
      "text/plain": [
       "(80, 80)"
      ]
     },
     "execution_count": 9,
     "metadata": {},
     "output_type": "execute_result"
    }
   ],
   "source": [
    "log_df_readable['item_id'].nunique(), items_df.shape[0]"
   ]
  },
  {
   "cell_type": "code",
   "execution_count": 10,
   "id": "928af698",
   "metadata": {},
   "outputs": [
    {
     "data": {
      "text/plain": [
       "user_feature_0\n",
       "A0    8123\n",
       "B0    1808\n",
       "C0      69\n",
       "dtype: int64"
      ]
     },
     "execution_count": 10,
     "metadata": {},
     "output_type": "execute_result"
    }
   ],
   "source": [
    "log_df_readable.groupby(['user_feature_0']).size()"
   ]
  },
  {
   "cell_type": "code",
   "execution_count": 11,
   "id": "e9c8ad0c",
   "metadata": {},
   "outputs": [
    {
     "name": "stdout",
     "output_type": "stream",
     "text": [
      "\n",
      "============================================================\n",
      "Distribution Summary: user_feature_0\n",
      "============================================================\n",
      "Total observations: 10,000\n",
      "Unique values: 3\n",
      "\n",
      "Top 5 values:\n",
      "user_feature_0  count  percentage  cumulative_pct\n",
      "            A0   8123       81.23           81.23\n",
      "            B0   1808       18.08           99.31\n",
      "            C0     69        0.69          100.00\n",
      "============================================================\n",
      "\n"
     ]
    },
    {
     "data": {
      "application/vnd.plotly.v1+json": {
       "config": {
        "plotlyServerURL": "https://plot.ly"
       },
       "data": [
        {
         "customdata": {
          "bdata": "ux8QB0UA",
          "dtype": "i2",
          "shape": "3, 1"
         },
         "hovertemplate": "<b>%{x}</b><br>Count: %{customdata[0]:,}<br>Percentage: %{y:.2f}%<br><extra></extra>",
         "marker": {
          "color": "#3498db"
         },
         "name": "Distribution (PDF)",
         "opacity": 0.7,
         "text": {
          "bdata": "H4XrUbhOVEAUrkfhehQyQBSuR+F6FOY/",
          "dtype": "f8"
         },
         "textposition": "outside",
         "texttemplate": "%{text:.1f}%",
         "type": "bar",
         "x": [
          "A0",
          "B0",
          "C0"
         ],
         "xaxis": "x",
         "y": {
          "bdata": "H4XrUbhOVEAUrkfhehQyQBSuR+F6FOY/",
          "dtype": "f8"
         },
         "yaxis": "y"
        },
        {
         "hovertemplate": "<b>%{x}</b><br>Cumulative: %{y:.2f}%<br><extra></extra>",
         "line": {
          "color": "#e74c3c",
          "dash": "dot",
          "width": 3
         },
         "marker": {
          "size": 8,
          "symbol": "circle"
         },
         "mode": "lines+markers",
         "name": "Cumulative (CDF)",
         "type": "scatter",
         "x": [
          "A0",
          "B0",
          "C0"
         ],
         "xaxis": "x",
         "y": {
          "bdata": "H4XrUbhOVECkcD0K19NYQAAAAAAAAFlA",
          "dtype": "f8"
         },
         "yaxis": "y2"
        }
       ],
       "layout": {
        "height": 600,
        "hovermode": "x unified",
        "legend": {
         "orientation": "h",
         "x": 1,
         "xanchor": "right",
         "y": 1.02,
         "yanchor": "bottom"
        },
        "showlegend": true,
        "template": {
         "data": {
          "bar": [
           {
            "error_x": {
             "color": "#2a3f5f"
            },
            "error_y": {
             "color": "#2a3f5f"
            },
            "marker": {
             "line": {
              "color": "#E5ECF6",
              "width": 0.5
             },
             "pattern": {
              "fillmode": "overlay",
              "size": 10,
              "solidity": 0.2
             }
            },
            "type": "bar"
           }
          ],
          "barpolar": [
           {
            "marker": {
             "line": {
              "color": "#E5ECF6",
              "width": 0.5
             },
             "pattern": {
              "fillmode": "overlay",
              "size": 10,
              "solidity": 0.2
             }
            },
            "type": "barpolar"
           }
          ],
          "carpet": [
           {
            "aaxis": {
             "endlinecolor": "#2a3f5f",
             "gridcolor": "white",
             "linecolor": "white",
             "minorgridcolor": "white",
             "startlinecolor": "#2a3f5f"
            },
            "baxis": {
             "endlinecolor": "#2a3f5f",
             "gridcolor": "white",
             "linecolor": "white",
             "minorgridcolor": "white",
             "startlinecolor": "#2a3f5f"
            },
            "type": "carpet"
           }
          ],
          "choropleth": [
           {
            "colorbar": {
             "outlinewidth": 0,
             "ticks": ""
            },
            "type": "choropleth"
           }
          ],
          "contour": [
           {
            "colorbar": {
             "outlinewidth": 0,
             "ticks": ""
            },
            "colorscale": [
             [
              0,
              "#0d0887"
             ],
             [
              0.1111111111111111,
              "#46039f"
             ],
             [
              0.2222222222222222,
              "#7201a8"
             ],
             [
              0.3333333333333333,
              "#9c179e"
             ],
             [
              0.4444444444444444,
              "#bd3786"
             ],
             [
              0.5555555555555556,
              "#d8576b"
             ],
             [
              0.6666666666666666,
              "#ed7953"
             ],
             [
              0.7777777777777778,
              "#fb9f3a"
             ],
             [
              0.8888888888888888,
              "#fdca26"
             ],
             [
              1,
              "#f0f921"
             ]
            ],
            "type": "contour"
           }
          ],
          "contourcarpet": [
           {
            "colorbar": {
             "outlinewidth": 0,
             "ticks": ""
            },
            "type": "contourcarpet"
           }
          ],
          "heatmap": [
           {
            "colorbar": {
             "outlinewidth": 0,
             "ticks": ""
            },
            "colorscale": [
             [
              0,
              "#0d0887"
             ],
             [
              0.1111111111111111,
              "#46039f"
             ],
             [
              0.2222222222222222,
              "#7201a8"
             ],
             [
              0.3333333333333333,
              "#9c179e"
             ],
             [
              0.4444444444444444,
              "#bd3786"
             ],
             [
              0.5555555555555556,
              "#d8576b"
             ],
             [
              0.6666666666666666,
              "#ed7953"
             ],
             [
              0.7777777777777778,
              "#fb9f3a"
             ],
             [
              0.8888888888888888,
              "#fdca26"
             ],
             [
              1,
              "#f0f921"
             ]
            ],
            "type": "heatmap"
           }
          ],
          "histogram": [
           {
            "marker": {
             "pattern": {
              "fillmode": "overlay",
              "size": 10,
              "solidity": 0.2
             }
            },
            "type": "histogram"
           }
          ],
          "histogram2d": [
           {
            "colorbar": {
             "outlinewidth": 0,
             "ticks": ""
            },
            "colorscale": [
             [
              0,
              "#0d0887"
             ],
             [
              0.1111111111111111,
              "#46039f"
             ],
             [
              0.2222222222222222,
              "#7201a8"
             ],
             [
              0.3333333333333333,
              "#9c179e"
             ],
             [
              0.4444444444444444,
              "#bd3786"
             ],
             [
              0.5555555555555556,
              "#d8576b"
             ],
             [
              0.6666666666666666,
              "#ed7953"
             ],
             [
              0.7777777777777778,
              "#fb9f3a"
             ],
             [
              0.8888888888888888,
              "#fdca26"
             ],
             [
              1,
              "#f0f921"
             ]
            ],
            "type": "histogram2d"
           }
          ],
          "histogram2dcontour": [
           {
            "colorbar": {
             "outlinewidth": 0,
             "ticks": ""
            },
            "colorscale": [
             [
              0,
              "#0d0887"
             ],
             [
              0.1111111111111111,
              "#46039f"
             ],
             [
              0.2222222222222222,
              "#7201a8"
             ],
             [
              0.3333333333333333,
              "#9c179e"
             ],
             [
              0.4444444444444444,
              "#bd3786"
             ],
             [
              0.5555555555555556,
              "#d8576b"
             ],
             [
              0.6666666666666666,
              "#ed7953"
             ],
             [
              0.7777777777777778,
              "#fb9f3a"
             ],
             [
              0.8888888888888888,
              "#fdca26"
             ],
             [
              1,
              "#f0f921"
             ]
            ],
            "type": "histogram2dcontour"
           }
          ],
          "mesh3d": [
           {
            "colorbar": {
             "outlinewidth": 0,
             "ticks": ""
            },
            "type": "mesh3d"
           }
          ],
          "parcoords": [
           {
            "line": {
             "colorbar": {
              "outlinewidth": 0,
              "ticks": ""
             }
            },
            "type": "parcoords"
           }
          ],
          "pie": [
           {
            "automargin": true,
            "type": "pie"
           }
          ],
          "scatter": [
           {
            "fillpattern": {
             "fillmode": "overlay",
             "size": 10,
             "solidity": 0.2
            },
            "type": "scatter"
           }
          ],
          "scatter3d": [
           {
            "line": {
             "colorbar": {
              "outlinewidth": 0,
              "ticks": ""
             }
            },
            "marker": {
             "colorbar": {
              "outlinewidth": 0,
              "ticks": ""
             }
            },
            "type": "scatter3d"
           }
          ],
          "scattercarpet": [
           {
            "marker": {
             "colorbar": {
              "outlinewidth": 0,
              "ticks": ""
             }
            },
            "type": "scattercarpet"
           }
          ],
          "scattergeo": [
           {
            "marker": {
             "colorbar": {
              "outlinewidth": 0,
              "ticks": ""
             }
            },
            "type": "scattergeo"
           }
          ],
          "scattergl": [
           {
            "marker": {
             "colorbar": {
              "outlinewidth": 0,
              "ticks": ""
             }
            },
            "type": "scattergl"
           }
          ],
          "scattermap": [
           {
            "marker": {
             "colorbar": {
              "outlinewidth": 0,
              "ticks": ""
             }
            },
            "type": "scattermap"
           }
          ],
          "scattermapbox": [
           {
            "marker": {
             "colorbar": {
              "outlinewidth": 0,
              "ticks": ""
             }
            },
            "type": "scattermapbox"
           }
          ],
          "scatterpolar": [
           {
            "marker": {
             "colorbar": {
              "outlinewidth": 0,
              "ticks": ""
             }
            },
            "type": "scatterpolar"
           }
          ],
          "scatterpolargl": [
           {
            "marker": {
             "colorbar": {
              "outlinewidth": 0,
              "ticks": ""
             }
            },
            "type": "scatterpolargl"
           }
          ],
          "scatterternary": [
           {
            "marker": {
             "colorbar": {
              "outlinewidth": 0,
              "ticks": ""
             }
            },
            "type": "scatterternary"
           }
          ],
          "surface": [
           {
            "colorbar": {
             "outlinewidth": 0,
             "ticks": ""
            },
            "colorscale": [
             [
              0,
              "#0d0887"
             ],
             [
              0.1111111111111111,
              "#46039f"
             ],
             [
              0.2222222222222222,
              "#7201a8"
             ],
             [
              0.3333333333333333,
              "#9c179e"
             ],
             [
              0.4444444444444444,
              "#bd3786"
             ],
             [
              0.5555555555555556,
              "#d8576b"
             ],
             [
              0.6666666666666666,
              "#ed7953"
             ],
             [
              0.7777777777777778,
              "#fb9f3a"
             ],
             [
              0.8888888888888888,
              "#fdca26"
             ],
             [
              1,
              "#f0f921"
             ]
            ],
            "type": "surface"
           }
          ],
          "table": [
           {
            "cells": {
             "fill": {
              "color": "#EBF0F8"
             },
             "line": {
              "color": "white"
             }
            },
            "header": {
             "fill": {
              "color": "#C8D4E3"
             },
             "line": {
              "color": "white"
             }
            },
            "type": "table"
           }
          ]
         },
         "layout": {
          "annotationdefaults": {
           "arrowcolor": "#2a3f5f",
           "arrowhead": 0,
           "arrowwidth": 1
          },
          "autotypenumbers": "strict",
          "coloraxis": {
           "colorbar": {
            "outlinewidth": 0,
            "ticks": ""
           }
          },
          "colorscale": {
           "diverging": [
            [
             0,
             "#8e0152"
            ],
            [
             0.1,
             "#c51b7d"
            ],
            [
             0.2,
             "#de77ae"
            ],
            [
             0.3,
             "#f1b6da"
            ],
            [
             0.4,
             "#fde0ef"
            ],
            [
             0.5,
             "#f7f7f7"
            ],
            [
             0.6,
             "#e6f5d0"
            ],
            [
             0.7,
             "#b8e186"
            ],
            [
             0.8,
             "#7fbc41"
            ],
            [
             0.9,
             "#4d9221"
            ],
            [
             1,
             "#276419"
            ]
           ],
           "sequential": [
            [
             0,
             "#0d0887"
            ],
            [
             0.1111111111111111,
             "#46039f"
            ],
            [
             0.2222222222222222,
             "#7201a8"
            ],
            [
             0.3333333333333333,
             "#9c179e"
            ],
            [
             0.4444444444444444,
             "#bd3786"
            ],
            [
             0.5555555555555556,
             "#d8576b"
            ],
            [
             0.6666666666666666,
             "#ed7953"
            ],
            [
             0.7777777777777778,
             "#fb9f3a"
            ],
            [
             0.8888888888888888,
             "#fdca26"
            ],
            [
             1,
             "#f0f921"
            ]
           ],
           "sequentialminus": [
            [
             0,
             "#0d0887"
            ],
            [
             0.1111111111111111,
             "#46039f"
            ],
            [
             0.2222222222222222,
             "#7201a8"
            ],
            [
             0.3333333333333333,
             "#9c179e"
            ],
            [
             0.4444444444444444,
             "#bd3786"
            ],
            [
             0.5555555555555556,
             "#d8576b"
            ],
            [
             0.6666666666666666,
             "#ed7953"
            ],
            [
             0.7777777777777778,
             "#fb9f3a"
            ],
            [
             0.8888888888888888,
             "#fdca26"
            ],
            [
             1,
             "#f0f921"
            ]
           ]
          },
          "colorway": [
           "#636efa",
           "#EF553B",
           "#00cc96",
           "#ab63fa",
           "#FFA15A",
           "#19d3f3",
           "#FF6692",
           "#B6E880",
           "#FF97FF",
           "#FECB52"
          ],
          "font": {
           "color": "#2a3f5f"
          },
          "geo": {
           "bgcolor": "white",
           "lakecolor": "white",
           "landcolor": "#E5ECF6",
           "showlakes": true,
           "showland": true,
           "subunitcolor": "white"
          },
          "hoverlabel": {
           "align": "left"
          },
          "hovermode": "closest",
          "mapbox": {
           "style": "light"
          },
          "paper_bgcolor": "white",
          "plot_bgcolor": "#E5ECF6",
          "polar": {
           "angularaxis": {
            "gridcolor": "white",
            "linecolor": "white",
            "ticks": ""
           },
           "bgcolor": "#E5ECF6",
           "radialaxis": {
            "gridcolor": "white",
            "linecolor": "white",
            "ticks": ""
           }
          },
          "scene": {
           "xaxis": {
            "backgroundcolor": "#E5ECF6",
            "gridcolor": "white",
            "gridwidth": 2,
            "linecolor": "white",
            "showbackground": true,
            "ticks": "",
            "zerolinecolor": "white"
           },
           "yaxis": {
            "backgroundcolor": "#E5ECF6",
            "gridcolor": "white",
            "gridwidth": 2,
            "linecolor": "white",
            "showbackground": true,
            "ticks": "",
            "zerolinecolor": "white"
           },
           "zaxis": {
            "backgroundcolor": "#E5ECF6",
            "gridcolor": "white",
            "gridwidth": 2,
            "linecolor": "white",
            "showbackground": true,
            "ticks": "",
            "zerolinecolor": "white"
           }
          },
          "shapedefaults": {
           "line": {
            "color": "#2a3f5f"
           }
          },
          "ternary": {
           "aaxis": {
            "gridcolor": "white",
            "linecolor": "white",
            "ticks": ""
           },
           "baxis": {
            "gridcolor": "white",
            "linecolor": "white",
            "ticks": ""
           },
           "bgcolor": "#E5ECF6",
           "caxis": {
            "gridcolor": "white",
            "linecolor": "white",
            "ticks": ""
           }
          },
          "title": {
           "x": 0.05
          },
          "xaxis": {
           "automargin": true,
           "gridcolor": "white",
           "linecolor": "white",
           "ticks": "",
           "title": {
            "standoff": 15
           },
           "zerolinecolor": "white",
           "zerolinewidth": 2
          },
          "yaxis": {
           "automargin": true,
           "gridcolor": "white",
           "linecolor": "white",
           "ticks": "",
           "title": {
            "standoff": 15
           },
           "zerolinecolor": "white",
           "zerolinewidth": 2
          }
         }
        },
        "title": {
         "text": "Distribution of User Feature 0 (PDF + CDF)"
        },
        "xaxis": {
         "anchor": "y",
         "domain": [
          0,
          0.94
         ],
         "gridcolor": "lightgray",
         "gridwidth": 1,
         "showgrid": true,
         "title": {
          "text": "user_feature_0"
         }
        },
        "yaxis": {
         "anchor": "x",
         "domain": [
          0,
          1
         ],
         "gridcolor": "lightgray",
         "gridwidth": 1,
         "range": [
          0,
          89.35300000000001
         ],
         "showgrid": true,
         "title": {
          "text": "Percentage (%)"
         }
        },
        "yaxis2": {
         "anchor": "x",
         "overlaying": "y",
         "range": [
          0,
          105
         ],
         "side": "right",
         "title": {
          "text": "Cumulative (%)"
         }
        }
       }
      }
     },
     "metadata": {},
     "output_type": "display_data"
    },
    {
     "name": "stdout",
     "output_type": "stream",
     "text": [
      "\n",
      "============================================================\n",
      "Distribution Summary: user_feature_1\n",
      "============================================================\n",
      "Total observations: 10,000\n",
      "Unique values: 5\n",
      "\n",
      "Top 5 values:\n",
      "user_feature_1  count  percentage  cumulative_pct\n",
      "            A1   8322       83.22           83.22\n",
      "            B1    854        8.54           91.76\n",
      "            D1    681        6.81           98.57\n",
      "            C1    138        1.38           99.95\n",
      "            E1      5        0.05          100.00\n",
      "============================================================\n",
      "\n"
     ]
    },
    {
     "data": {
      "application/vnd.plotly.v1+json": {
       "config": {
        "plotlyServerURL": "https://plot.ly"
       },
       "data": [
        {
         "customdata": {
          "bdata": "giBWA6kCigAFAA==",
          "dtype": "i2",
          "shape": "5, 1"
         },
         "hovertemplate": "<b>%{x}</b><br>Count: %{customdata[0]:,}<br>Percentage: %{y:.2f}%<br><extra></extra>",
         "marker": {
          "color": "#3498db"
         },
         "name": "Distribution (PDF)",
         "opacity": 0.7,
         "text": {
          "bdata": "rkfhehTOVEAVrkfhehQhQD0K16NwPRtAFK5H4XoU9j+amZmZmZmpPw==",
          "dtype": "f8"
         },
         "textposition": "outside",
         "texttemplate": "%{text:.1f}%",
         "type": "bar",
         "x": [
          "A1",
          "B1",
          "D1",
          "C1",
          "E1"
         ],
         "xaxis": "x",
         "y": {
          "bdata": "rkfhehTOVEAVrkfhehQhQD0K16NwPRtAFK5H4XoU9j+amZmZmZmpPw==",
          "dtype": "f8"
         },
         "yaxis": "y"
        },
        {
         "hovertemplate": "<b>%{x}</b><br>Cumulative: %{y:.2f}%<br><extra></extra>",
         "line": {
          "color": "#e74c3c",
          "dash": "dot",
          "width": 3
         },
         "marker": {
          "size": 8,
          "symbol": "circle"
         },
         "mode": "lines+markers",
         "name": "Cumulative (CDF)",
         "type": "scatter",
         "x": [
          "A1",
          "B1",
          "D1",
          "C1",
          "E1"
         ],
         "xaxis": "x",
         "y": {
          "bdata": "rkfhehTOVEBxPQrXo/BWQBWuR+F6pFhAzczMzMz8WEAAAAAAAABZQA==",
          "dtype": "f8"
         },
         "yaxis": "y2"
        }
       ],
       "layout": {
        "height": 600,
        "hovermode": "x unified",
        "legend": {
         "orientation": "h",
         "x": 1,
         "xanchor": "right",
         "y": 1.02,
         "yanchor": "bottom"
        },
        "showlegend": true,
        "template": {
         "data": {
          "bar": [
           {
            "error_x": {
             "color": "#2a3f5f"
            },
            "error_y": {
             "color": "#2a3f5f"
            },
            "marker": {
             "line": {
              "color": "#E5ECF6",
              "width": 0.5
             },
             "pattern": {
              "fillmode": "overlay",
              "size": 10,
              "solidity": 0.2
             }
            },
            "type": "bar"
           }
          ],
          "barpolar": [
           {
            "marker": {
             "line": {
              "color": "#E5ECF6",
              "width": 0.5
             },
             "pattern": {
              "fillmode": "overlay",
              "size": 10,
              "solidity": 0.2
             }
            },
            "type": "barpolar"
           }
          ],
          "carpet": [
           {
            "aaxis": {
             "endlinecolor": "#2a3f5f",
             "gridcolor": "white",
             "linecolor": "white",
             "minorgridcolor": "white",
             "startlinecolor": "#2a3f5f"
            },
            "baxis": {
             "endlinecolor": "#2a3f5f",
             "gridcolor": "white",
             "linecolor": "white",
             "minorgridcolor": "white",
             "startlinecolor": "#2a3f5f"
            },
            "type": "carpet"
           }
          ],
          "choropleth": [
           {
            "colorbar": {
             "outlinewidth": 0,
             "ticks": ""
            },
            "type": "choropleth"
           }
          ],
          "contour": [
           {
            "colorbar": {
             "outlinewidth": 0,
             "ticks": ""
            },
            "colorscale": [
             [
              0,
              "#0d0887"
             ],
             [
              0.1111111111111111,
              "#46039f"
             ],
             [
              0.2222222222222222,
              "#7201a8"
             ],
             [
              0.3333333333333333,
              "#9c179e"
             ],
             [
              0.4444444444444444,
              "#bd3786"
             ],
             [
              0.5555555555555556,
              "#d8576b"
             ],
             [
              0.6666666666666666,
              "#ed7953"
             ],
             [
              0.7777777777777778,
              "#fb9f3a"
             ],
             [
              0.8888888888888888,
              "#fdca26"
             ],
             [
              1,
              "#f0f921"
             ]
            ],
            "type": "contour"
           }
          ],
          "contourcarpet": [
           {
            "colorbar": {
             "outlinewidth": 0,
             "ticks": ""
            },
            "type": "contourcarpet"
           }
          ],
          "heatmap": [
           {
            "colorbar": {
             "outlinewidth": 0,
             "ticks": ""
            },
            "colorscale": [
             [
              0,
              "#0d0887"
             ],
             [
              0.1111111111111111,
              "#46039f"
             ],
             [
              0.2222222222222222,
              "#7201a8"
             ],
             [
              0.3333333333333333,
              "#9c179e"
             ],
             [
              0.4444444444444444,
              "#bd3786"
             ],
             [
              0.5555555555555556,
              "#d8576b"
             ],
             [
              0.6666666666666666,
              "#ed7953"
             ],
             [
              0.7777777777777778,
              "#fb9f3a"
             ],
             [
              0.8888888888888888,
              "#fdca26"
             ],
             [
              1,
              "#f0f921"
             ]
            ],
            "type": "heatmap"
           }
          ],
          "histogram": [
           {
            "marker": {
             "pattern": {
              "fillmode": "overlay",
              "size": 10,
              "solidity": 0.2
             }
            },
            "type": "histogram"
           }
          ],
          "histogram2d": [
           {
            "colorbar": {
             "outlinewidth": 0,
             "ticks": ""
            },
            "colorscale": [
             [
              0,
              "#0d0887"
             ],
             [
              0.1111111111111111,
              "#46039f"
             ],
             [
              0.2222222222222222,
              "#7201a8"
             ],
             [
              0.3333333333333333,
              "#9c179e"
             ],
             [
              0.4444444444444444,
              "#bd3786"
             ],
             [
              0.5555555555555556,
              "#d8576b"
             ],
             [
              0.6666666666666666,
              "#ed7953"
             ],
             [
              0.7777777777777778,
              "#fb9f3a"
             ],
             [
              0.8888888888888888,
              "#fdca26"
             ],
             [
              1,
              "#f0f921"
             ]
            ],
            "type": "histogram2d"
           }
          ],
          "histogram2dcontour": [
           {
            "colorbar": {
             "outlinewidth": 0,
             "ticks": ""
            },
            "colorscale": [
             [
              0,
              "#0d0887"
             ],
             [
              0.1111111111111111,
              "#46039f"
             ],
             [
              0.2222222222222222,
              "#7201a8"
             ],
             [
              0.3333333333333333,
              "#9c179e"
             ],
             [
              0.4444444444444444,
              "#bd3786"
             ],
             [
              0.5555555555555556,
              "#d8576b"
             ],
             [
              0.6666666666666666,
              "#ed7953"
             ],
             [
              0.7777777777777778,
              "#fb9f3a"
             ],
             [
              0.8888888888888888,
              "#fdca26"
             ],
             [
              1,
              "#f0f921"
             ]
            ],
            "type": "histogram2dcontour"
           }
          ],
          "mesh3d": [
           {
            "colorbar": {
             "outlinewidth": 0,
             "ticks": ""
            },
            "type": "mesh3d"
           }
          ],
          "parcoords": [
           {
            "line": {
             "colorbar": {
              "outlinewidth": 0,
              "ticks": ""
             }
            },
            "type": "parcoords"
           }
          ],
          "pie": [
           {
            "automargin": true,
            "type": "pie"
           }
          ],
          "scatter": [
           {
            "fillpattern": {
             "fillmode": "overlay",
             "size": 10,
             "solidity": 0.2
            },
            "type": "scatter"
           }
          ],
          "scatter3d": [
           {
            "line": {
             "colorbar": {
              "outlinewidth": 0,
              "ticks": ""
             }
            },
            "marker": {
             "colorbar": {
              "outlinewidth": 0,
              "ticks": ""
             }
            },
            "type": "scatter3d"
           }
          ],
          "scattercarpet": [
           {
            "marker": {
             "colorbar": {
              "outlinewidth": 0,
              "ticks": ""
             }
            },
            "type": "scattercarpet"
           }
          ],
          "scattergeo": [
           {
            "marker": {
             "colorbar": {
              "outlinewidth": 0,
              "ticks": ""
             }
            },
            "type": "scattergeo"
           }
          ],
          "scattergl": [
           {
            "marker": {
             "colorbar": {
              "outlinewidth": 0,
              "ticks": ""
             }
            },
            "type": "scattergl"
           }
          ],
          "scattermap": [
           {
            "marker": {
             "colorbar": {
              "outlinewidth": 0,
              "ticks": ""
             }
            },
            "type": "scattermap"
           }
          ],
          "scattermapbox": [
           {
            "marker": {
             "colorbar": {
              "outlinewidth": 0,
              "ticks": ""
             }
            },
            "type": "scattermapbox"
           }
          ],
          "scatterpolar": [
           {
            "marker": {
             "colorbar": {
              "outlinewidth": 0,
              "ticks": ""
             }
            },
            "type": "scatterpolar"
           }
          ],
          "scatterpolargl": [
           {
            "marker": {
             "colorbar": {
              "outlinewidth": 0,
              "ticks": ""
             }
            },
            "type": "scatterpolargl"
           }
          ],
          "scatterternary": [
           {
            "marker": {
             "colorbar": {
              "outlinewidth": 0,
              "ticks": ""
             }
            },
            "type": "scatterternary"
           }
          ],
          "surface": [
           {
            "colorbar": {
             "outlinewidth": 0,
             "ticks": ""
            },
            "colorscale": [
             [
              0,
              "#0d0887"
             ],
             [
              0.1111111111111111,
              "#46039f"
             ],
             [
              0.2222222222222222,
              "#7201a8"
             ],
             [
              0.3333333333333333,
              "#9c179e"
             ],
             [
              0.4444444444444444,
              "#bd3786"
             ],
             [
              0.5555555555555556,
              "#d8576b"
             ],
             [
              0.6666666666666666,
              "#ed7953"
             ],
             [
              0.7777777777777778,
              "#fb9f3a"
             ],
             [
              0.8888888888888888,
              "#fdca26"
             ],
             [
              1,
              "#f0f921"
             ]
            ],
            "type": "surface"
           }
          ],
          "table": [
           {
            "cells": {
             "fill": {
              "color": "#EBF0F8"
             },
             "line": {
              "color": "white"
             }
            },
            "header": {
             "fill": {
              "color": "#C8D4E3"
             },
             "line": {
              "color": "white"
             }
            },
            "type": "table"
           }
          ]
         },
         "layout": {
          "annotationdefaults": {
           "arrowcolor": "#2a3f5f",
           "arrowhead": 0,
           "arrowwidth": 1
          },
          "autotypenumbers": "strict",
          "coloraxis": {
           "colorbar": {
            "outlinewidth": 0,
            "ticks": ""
           }
          },
          "colorscale": {
           "diverging": [
            [
             0,
             "#8e0152"
            ],
            [
             0.1,
             "#c51b7d"
            ],
            [
             0.2,
             "#de77ae"
            ],
            [
             0.3,
             "#f1b6da"
            ],
            [
             0.4,
             "#fde0ef"
            ],
            [
             0.5,
             "#f7f7f7"
            ],
            [
             0.6,
             "#e6f5d0"
            ],
            [
             0.7,
             "#b8e186"
            ],
            [
             0.8,
             "#7fbc41"
            ],
            [
             0.9,
             "#4d9221"
            ],
            [
             1,
             "#276419"
            ]
           ],
           "sequential": [
            [
             0,
             "#0d0887"
            ],
            [
             0.1111111111111111,
             "#46039f"
            ],
            [
             0.2222222222222222,
             "#7201a8"
            ],
            [
             0.3333333333333333,
             "#9c179e"
            ],
            [
             0.4444444444444444,
             "#bd3786"
            ],
            [
             0.5555555555555556,
             "#d8576b"
            ],
            [
             0.6666666666666666,
             "#ed7953"
            ],
            [
             0.7777777777777778,
             "#fb9f3a"
            ],
            [
             0.8888888888888888,
             "#fdca26"
            ],
            [
             1,
             "#f0f921"
            ]
           ],
           "sequentialminus": [
            [
             0,
             "#0d0887"
            ],
            [
             0.1111111111111111,
             "#46039f"
            ],
            [
             0.2222222222222222,
             "#7201a8"
            ],
            [
             0.3333333333333333,
             "#9c179e"
            ],
            [
             0.4444444444444444,
             "#bd3786"
            ],
            [
             0.5555555555555556,
             "#d8576b"
            ],
            [
             0.6666666666666666,
             "#ed7953"
            ],
            [
             0.7777777777777778,
             "#fb9f3a"
            ],
            [
             0.8888888888888888,
             "#fdca26"
            ],
            [
             1,
             "#f0f921"
            ]
           ]
          },
          "colorway": [
           "#636efa",
           "#EF553B",
           "#00cc96",
           "#ab63fa",
           "#FFA15A",
           "#19d3f3",
           "#FF6692",
           "#B6E880",
           "#FF97FF",
           "#FECB52"
          ],
          "font": {
           "color": "#2a3f5f"
          },
          "geo": {
           "bgcolor": "white",
           "lakecolor": "white",
           "landcolor": "#E5ECF6",
           "showlakes": true,
           "showland": true,
           "subunitcolor": "white"
          },
          "hoverlabel": {
           "align": "left"
          },
          "hovermode": "closest",
          "mapbox": {
           "style": "light"
          },
          "paper_bgcolor": "white",
          "plot_bgcolor": "#E5ECF6",
          "polar": {
           "angularaxis": {
            "gridcolor": "white",
            "linecolor": "white",
            "ticks": ""
           },
           "bgcolor": "#E5ECF6",
           "radialaxis": {
            "gridcolor": "white",
            "linecolor": "white",
            "ticks": ""
           }
          },
          "scene": {
           "xaxis": {
            "backgroundcolor": "#E5ECF6",
            "gridcolor": "white",
            "gridwidth": 2,
            "linecolor": "white",
            "showbackground": true,
            "ticks": "",
            "zerolinecolor": "white"
           },
           "yaxis": {
            "backgroundcolor": "#E5ECF6",
            "gridcolor": "white",
            "gridwidth": 2,
            "linecolor": "white",
            "showbackground": true,
            "ticks": "",
            "zerolinecolor": "white"
           },
           "zaxis": {
            "backgroundcolor": "#E5ECF6",
            "gridcolor": "white",
            "gridwidth": 2,
            "linecolor": "white",
            "showbackground": true,
            "ticks": "",
            "zerolinecolor": "white"
           }
          },
          "shapedefaults": {
           "line": {
            "color": "#2a3f5f"
           }
          },
          "ternary": {
           "aaxis": {
            "gridcolor": "white",
            "linecolor": "white",
            "ticks": ""
           },
           "baxis": {
            "gridcolor": "white",
            "linecolor": "white",
            "ticks": ""
           },
           "bgcolor": "#E5ECF6",
           "caxis": {
            "gridcolor": "white",
            "linecolor": "white",
            "ticks": ""
           }
          },
          "title": {
           "x": 0.05
          },
          "xaxis": {
           "automargin": true,
           "gridcolor": "white",
           "linecolor": "white",
           "ticks": "",
           "title": {
            "standoff": 15
           },
           "zerolinecolor": "white",
           "zerolinewidth": 2
          },
          "yaxis": {
           "automargin": true,
           "gridcolor": "white",
           "linecolor": "white",
           "ticks": "",
           "title": {
            "standoff": 15
           },
           "zerolinecolor": "white",
           "zerolinewidth": 2
          }
         }
        },
        "title": {
         "text": "Distribution of User Feature 1 (PDF + CDF)"
        },
        "xaxis": {
         "anchor": "y",
         "domain": [
          0,
          0.94
         ],
         "gridcolor": "lightgray",
         "gridwidth": 1,
         "showgrid": true,
         "title": {
          "text": "user_feature_1"
         }
        },
        "yaxis": {
         "anchor": "x",
         "domain": [
          0,
          1
         ],
         "gridcolor": "lightgray",
         "gridwidth": 1,
         "range": [
          0,
          91.542
         ],
         "showgrid": true,
         "title": {
          "text": "Percentage (%)"
         }
        },
        "yaxis2": {
         "anchor": "x",
         "overlaying": "y",
         "range": [
          0,
          105
         ],
         "side": "right",
         "title": {
          "text": "Cumulative (%)"
         }
        }
       }
      }
     },
     "metadata": {},
     "output_type": "display_data"
    },
    {
     "name": "stdout",
     "output_type": "stream",
     "text": [
      "\n",
      "============================================================\n",
      "Distribution Summary: user_feature_2\n",
      "============================================================\n",
      "Total observations: 10,000\n",
      "Unique values: 9\n",
      "\n",
      "Top 5 values:\n",
      "user_feature_2  count  percentage  cumulative_pct\n",
      "            B2   2439       24.39           24.39\n",
      "            C2   2411       24.11           48.50\n",
      "            A2   1569       15.69           64.19\n",
      "            E2   1514       15.14           79.33\n",
      "            D2   1407       14.07           93.40\n",
      "============================================================\n",
      "\n"
     ]
    },
    {
     "data": {
      "application/vnd.plotly.v1+json": {
       "config": {
        "plotlyServerURL": "https://plot.ly"
       },
       "data": [
        {
         "customdata": {
          "bdata": "hwlrCSEG6gV/BesBogAGAAEA",
          "dtype": "i2",
          "shape": "9, 1"
         },
         "hovertemplate": "<b>%{x}</b><br>Count: %{customdata[0]:,}<br>Percentage: %{y:.2f}%<br><extra></extra>",
         "marker": {
          "color": "#3498db"
         },
         "name": "Distribution (PDF)",
         "opacity": 0.7,
         "text": {
          "bdata": "pHA9CtdjOEBcj8L1KBw4QOJ6FK5HYS9ASOF6FK5HLkCjcD0K1yMsQKRwPQrXoxNA61G4HoXr+T+4HoXrUbiuP3sUrkfheoQ/",
          "dtype": "f8"
         },
         "textposition": "outside",
         "texttemplate": "%{text:.1f}%",
         "type": "bar",
         "x": [
          "B2",
          "C2",
          "A2",
          "E2",
          "D2",
          "F2",
          "G2",
          "H2",
          "I2"
         ],
         "xaxis": "x",
         "y": {
          "bdata": "pHA9CtdjOEBcj8L1KBw4QOJ6FK5HYS9ASOF6FK5HLkCjcD0K1yMsQKRwPQrXoxNA61G4HoXr+T+4HoXrUbiuP3sUrkfheoQ/",
          "dtype": "f8"
         },
         "yaxis": "y"
        },
        {
         "hovertemplate": "<b>%{x}</b><br>Cumulative: %{y:.2f}%<br><extra></extra>",
         "line": {
          "color": "#e74c3c",
          "dash": "dot",
          "width": 3
         },
         "marker": {
          "size": 8,
          "symbol": "circle"
         },
         "mode": "lines+markers",
         "name": "Cumulative (CDF)",
         "type": "scatter",
         "x": [
          "B2",
          "C2",
          "A2",
          "E2",
          "D2",
          "F2",
          "G2",
          "H2",
          "I2"
         ],
         "xaxis": "x",
         "y": {
          "bdata": "pHA9CtdjOEAAAAAAAEBIQFyPwvUoDFBAhetRuB7VU0CZmZmZmVlXQKNwPQrXk1hA61G4HoX7WECPwvUoXP9YQAAAAAAAAFlA",
          "dtype": "f8"
         },
         "yaxis": "y2"
        }
       ],
       "layout": {
        "height": 600,
        "hovermode": "x unified",
        "legend": {
         "orientation": "h",
         "x": 1,
         "xanchor": "right",
         "y": 1.02,
         "yanchor": "bottom"
        },
        "showlegend": true,
        "template": {
         "data": {
          "bar": [
           {
            "error_x": {
             "color": "#2a3f5f"
            },
            "error_y": {
             "color": "#2a3f5f"
            },
            "marker": {
             "line": {
              "color": "#E5ECF6",
              "width": 0.5
             },
             "pattern": {
              "fillmode": "overlay",
              "size": 10,
              "solidity": 0.2
             }
            },
            "type": "bar"
           }
          ],
          "barpolar": [
           {
            "marker": {
             "line": {
              "color": "#E5ECF6",
              "width": 0.5
             },
             "pattern": {
              "fillmode": "overlay",
              "size": 10,
              "solidity": 0.2
             }
            },
            "type": "barpolar"
           }
          ],
          "carpet": [
           {
            "aaxis": {
             "endlinecolor": "#2a3f5f",
             "gridcolor": "white",
             "linecolor": "white",
             "minorgridcolor": "white",
             "startlinecolor": "#2a3f5f"
            },
            "baxis": {
             "endlinecolor": "#2a3f5f",
             "gridcolor": "white",
             "linecolor": "white",
             "minorgridcolor": "white",
             "startlinecolor": "#2a3f5f"
            },
            "type": "carpet"
           }
          ],
          "choropleth": [
           {
            "colorbar": {
             "outlinewidth": 0,
             "ticks": ""
            },
            "type": "choropleth"
           }
          ],
          "contour": [
           {
            "colorbar": {
             "outlinewidth": 0,
             "ticks": ""
            },
            "colorscale": [
             [
              0,
              "#0d0887"
             ],
             [
              0.1111111111111111,
              "#46039f"
             ],
             [
              0.2222222222222222,
              "#7201a8"
             ],
             [
              0.3333333333333333,
              "#9c179e"
             ],
             [
              0.4444444444444444,
              "#bd3786"
             ],
             [
              0.5555555555555556,
              "#d8576b"
             ],
             [
              0.6666666666666666,
              "#ed7953"
             ],
             [
              0.7777777777777778,
              "#fb9f3a"
             ],
             [
              0.8888888888888888,
              "#fdca26"
             ],
             [
              1,
              "#f0f921"
             ]
            ],
            "type": "contour"
           }
          ],
          "contourcarpet": [
           {
            "colorbar": {
             "outlinewidth": 0,
             "ticks": ""
            },
            "type": "contourcarpet"
           }
          ],
          "heatmap": [
           {
            "colorbar": {
             "outlinewidth": 0,
             "ticks": ""
            },
            "colorscale": [
             [
              0,
              "#0d0887"
             ],
             [
              0.1111111111111111,
              "#46039f"
             ],
             [
              0.2222222222222222,
              "#7201a8"
             ],
             [
              0.3333333333333333,
              "#9c179e"
             ],
             [
              0.4444444444444444,
              "#bd3786"
             ],
             [
              0.5555555555555556,
              "#d8576b"
             ],
             [
              0.6666666666666666,
              "#ed7953"
             ],
             [
              0.7777777777777778,
              "#fb9f3a"
             ],
             [
              0.8888888888888888,
              "#fdca26"
             ],
             [
              1,
              "#f0f921"
             ]
            ],
            "type": "heatmap"
           }
          ],
          "histogram": [
           {
            "marker": {
             "pattern": {
              "fillmode": "overlay",
              "size": 10,
              "solidity": 0.2
             }
            },
            "type": "histogram"
           }
          ],
          "histogram2d": [
           {
            "colorbar": {
             "outlinewidth": 0,
             "ticks": ""
            },
            "colorscale": [
             [
              0,
              "#0d0887"
             ],
             [
              0.1111111111111111,
              "#46039f"
             ],
             [
              0.2222222222222222,
              "#7201a8"
             ],
             [
              0.3333333333333333,
              "#9c179e"
             ],
             [
              0.4444444444444444,
              "#bd3786"
             ],
             [
              0.5555555555555556,
              "#d8576b"
             ],
             [
              0.6666666666666666,
              "#ed7953"
             ],
             [
              0.7777777777777778,
              "#fb9f3a"
             ],
             [
              0.8888888888888888,
              "#fdca26"
             ],
             [
              1,
              "#f0f921"
             ]
            ],
            "type": "histogram2d"
           }
          ],
          "histogram2dcontour": [
           {
            "colorbar": {
             "outlinewidth": 0,
             "ticks": ""
            },
            "colorscale": [
             [
              0,
              "#0d0887"
             ],
             [
              0.1111111111111111,
              "#46039f"
             ],
             [
              0.2222222222222222,
              "#7201a8"
             ],
             [
              0.3333333333333333,
              "#9c179e"
             ],
             [
              0.4444444444444444,
              "#bd3786"
             ],
             [
              0.5555555555555556,
              "#d8576b"
             ],
             [
              0.6666666666666666,
              "#ed7953"
             ],
             [
              0.7777777777777778,
              "#fb9f3a"
             ],
             [
              0.8888888888888888,
              "#fdca26"
             ],
             [
              1,
              "#f0f921"
             ]
            ],
            "type": "histogram2dcontour"
           }
          ],
          "mesh3d": [
           {
            "colorbar": {
             "outlinewidth": 0,
             "ticks": ""
            },
            "type": "mesh3d"
           }
          ],
          "parcoords": [
           {
            "line": {
             "colorbar": {
              "outlinewidth": 0,
              "ticks": ""
             }
            },
            "type": "parcoords"
           }
          ],
          "pie": [
           {
            "automargin": true,
            "type": "pie"
           }
          ],
          "scatter": [
           {
            "fillpattern": {
             "fillmode": "overlay",
             "size": 10,
             "solidity": 0.2
            },
            "type": "scatter"
           }
          ],
          "scatter3d": [
           {
            "line": {
             "colorbar": {
              "outlinewidth": 0,
              "ticks": ""
             }
            },
            "marker": {
             "colorbar": {
              "outlinewidth": 0,
              "ticks": ""
             }
            },
            "type": "scatter3d"
           }
          ],
          "scattercarpet": [
           {
            "marker": {
             "colorbar": {
              "outlinewidth": 0,
              "ticks": ""
             }
            },
            "type": "scattercarpet"
           }
          ],
          "scattergeo": [
           {
            "marker": {
             "colorbar": {
              "outlinewidth": 0,
              "ticks": ""
             }
            },
            "type": "scattergeo"
           }
          ],
          "scattergl": [
           {
            "marker": {
             "colorbar": {
              "outlinewidth": 0,
              "ticks": ""
             }
            },
            "type": "scattergl"
           }
          ],
          "scattermap": [
           {
            "marker": {
             "colorbar": {
              "outlinewidth": 0,
              "ticks": ""
             }
            },
            "type": "scattermap"
           }
          ],
          "scattermapbox": [
           {
            "marker": {
             "colorbar": {
              "outlinewidth": 0,
              "ticks": ""
             }
            },
            "type": "scattermapbox"
           }
          ],
          "scatterpolar": [
           {
            "marker": {
             "colorbar": {
              "outlinewidth": 0,
              "ticks": ""
             }
            },
            "type": "scatterpolar"
           }
          ],
          "scatterpolargl": [
           {
            "marker": {
             "colorbar": {
              "outlinewidth": 0,
              "ticks": ""
             }
            },
            "type": "scatterpolargl"
           }
          ],
          "scatterternary": [
           {
            "marker": {
             "colorbar": {
              "outlinewidth": 0,
              "ticks": ""
             }
            },
            "type": "scatterternary"
           }
          ],
          "surface": [
           {
            "colorbar": {
             "outlinewidth": 0,
             "ticks": ""
            },
            "colorscale": [
             [
              0,
              "#0d0887"
             ],
             [
              0.1111111111111111,
              "#46039f"
             ],
             [
              0.2222222222222222,
              "#7201a8"
             ],
             [
              0.3333333333333333,
              "#9c179e"
             ],
             [
              0.4444444444444444,
              "#bd3786"
             ],
             [
              0.5555555555555556,
              "#d8576b"
             ],
             [
              0.6666666666666666,
              "#ed7953"
             ],
             [
              0.7777777777777778,
              "#fb9f3a"
             ],
             [
              0.8888888888888888,
              "#fdca26"
             ],
             [
              1,
              "#f0f921"
             ]
            ],
            "type": "surface"
           }
          ],
          "table": [
           {
            "cells": {
             "fill": {
              "color": "#EBF0F8"
             },
             "line": {
              "color": "white"
             }
            },
            "header": {
             "fill": {
              "color": "#C8D4E3"
             },
             "line": {
              "color": "white"
             }
            },
            "type": "table"
           }
          ]
         },
         "layout": {
          "annotationdefaults": {
           "arrowcolor": "#2a3f5f",
           "arrowhead": 0,
           "arrowwidth": 1
          },
          "autotypenumbers": "strict",
          "coloraxis": {
           "colorbar": {
            "outlinewidth": 0,
            "ticks": ""
           }
          },
          "colorscale": {
           "diverging": [
            [
             0,
             "#8e0152"
            ],
            [
             0.1,
             "#c51b7d"
            ],
            [
             0.2,
             "#de77ae"
            ],
            [
             0.3,
             "#f1b6da"
            ],
            [
             0.4,
             "#fde0ef"
            ],
            [
             0.5,
             "#f7f7f7"
            ],
            [
             0.6,
             "#e6f5d0"
            ],
            [
             0.7,
             "#b8e186"
            ],
            [
             0.8,
             "#7fbc41"
            ],
            [
             0.9,
             "#4d9221"
            ],
            [
             1,
             "#276419"
            ]
           ],
           "sequential": [
            [
             0,
             "#0d0887"
            ],
            [
             0.1111111111111111,
             "#46039f"
            ],
            [
             0.2222222222222222,
             "#7201a8"
            ],
            [
             0.3333333333333333,
             "#9c179e"
            ],
            [
             0.4444444444444444,
             "#bd3786"
            ],
            [
             0.5555555555555556,
             "#d8576b"
            ],
            [
             0.6666666666666666,
             "#ed7953"
            ],
            [
             0.7777777777777778,
             "#fb9f3a"
            ],
            [
             0.8888888888888888,
             "#fdca26"
            ],
            [
             1,
             "#f0f921"
            ]
           ],
           "sequentialminus": [
            [
             0,
             "#0d0887"
            ],
            [
             0.1111111111111111,
             "#46039f"
            ],
            [
             0.2222222222222222,
             "#7201a8"
            ],
            [
             0.3333333333333333,
             "#9c179e"
            ],
            [
             0.4444444444444444,
             "#bd3786"
            ],
            [
             0.5555555555555556,
             "#d8576b"
            ],
            [
             0.6666666666666666,
             "#ed7953"
            ],
            [
             0.7777777777777778,
             "#fb9f3a"
            ],
            [
             0.8888888888888888,
             "#fdca26"
            ],
            [
             1,
             "#f0f921"
            ]
           ]
          },
          "colorway": [
           "#636efa",
           "#EF553B",
           "#00cc96",
           "#ab63fa",
           "#FFA15A",
           "#19d3f3",
           "#FF6692",
           "#B6E880",
           "#FF97FF",
           "#FECB52"
          ],
          "font": {
           "color": "#2a3f5f"
          },
          "geo": {
           "bgcolor": "white",
           "lakecolor": "white",
           "landcolor": "#E5ECF6",
           "showlakes": true,
           "showland": true,
           "subunitcolor": "white"
          },
          "hoverlabel": {
           "align": "left"
          },
          "hovermode": "closest",
          "mapbox": {
           "style": "light"
          },
          "paper_bgcolor": "white",
          "plot_bgcolor": "#E5ECF6",
          "polar": {
           "angularaxis": {
            "gridcolor": "white",
            "linecolor": "white",
            "ticks": ""
           },
           "bgcolor": "#E5ECF6",
           "radialaxis": {
            "gridcolor": "white",
            "linecolor": "white",
            "ticks": ""
           }
          },
          "scene": {
           "xaxis": {
            "backgroundcolor": "#E5ECF6",
            "gridcolor": "white",
            "gridwidth": 2,
            "linecolor": "white",
            "showbackground": true,
            "ticks": "",
            "zerolinecolor": "white"
           },
           "yaxis": {
            "backgroundcolor": "#E5ECF6",
            "gridcolor": "white",
            "gridwidth": 2,
            "linecolor": "white",
            "showbackground": true,
            "ticks": "",
            "zerolinecolor": "white"
           },
           "zaxis": {
            "backgroundcolor": "#E5ECF6",
            "gridcolor": "white",
            "gridwidth": 2,
            "linecolor": "white",
            "showbackground": true,
            "ticks": "",
            "zerolinecolor": "white"
           }
          },
          "shapedefaults": {
           "line": {
            "color": "#2a3f5f"
           }
          },
          "ternary": {
           "aaxis": {
            "gridcolor": "white",
            "linecolor": "white",
            "ticks": ""
           },
           "baxis": {
            "gridcolor": "white",
            "linecolor": "white",
            "ticks": ""
           },
           "bgcolor": "#E5ECF6",
           "caxis": {
            "gridcolor": "white",
            "linecolor": "white",
            "ticks": ""
           }
          },
          "title": {
           "x": 0.05
          },
          "xaxis": {
           "automargin": true,
           "gridcolor": "white",
           "linecolor": "white",
           "ticks": "",
           "title": {
            "standoff": 15
           },
           "zerolinecolor": "white",
           "zerolinewidth": 2
          },
          "yaxis": {
           "automargin": true,
           "gridcolor": "white",
           "linecolor": "white",
           "ticks": "",
           "title": {
            "standoff": 15
           },
           "zerolinecolor": "white",
           "zerolinewidth": 2
          }
         }
        },
        "title": {
         "text": "Distribution of User Feature 2 (PDF + CDF)"
        },
        "xaxis": {
         "anchor": "y",
         "domain": [
          0,
          0.94
         ],
         "gridcolor": "lightgray",
         "gridwidth": 1,
         "showgrid": true,
         "title": {
          "text": "user_feature_2"
         }
        },
        "yaxis": {
         "anchor": "x",
         "domain": [
          0,
          1
         ],
         "gridcolor": "lightgray",
         "gridwidth": 1,
         "range": [
          0,
          26.829000000000004
         ],
         "showgrid": true,
         "title": {
          "text": "Percentage (%)"
         }
        },
        "yaxis2": {
         "anchor": "x",
         "overlaying": "y",
         "range": [
          0,
          105
         ],
         "side": "right",
         "title": {
          "text": "Cumulative (%)"
         }
        }
       }
      }
     },
     "metadata": {},
     "output_type": "display_data"
    },
    {
     "name": "stdout",
     "output_type": "stream",
     "text": [
      "\n",
      "============================================================\n",
      "Distribution Summary: user_feature_3\n",
      "============================================================\n",
      "Total observations: 10,000\n",
      "Unique values: 9\n",
      "\n",
      "Top 5 values:\n",
      "user_feature_3  count  percentage  cumulative_pct\n",
      "            B3   3667       36.67           36.67\n",
      "            A3   3523       35.23           71.90\n",
      "            D3   1164       11.64           83.54\n",
      "            E3    913        9.13           92.67\n",
      "            C3    549        5.49           98.16\n",
      "============================================================\n",
      "\n"
     ]
    },
    {
     "data": {
      "application/vnd.plotly.v1+json": {
       "config": {
        "plotlyServerURL": "https://plot.ly"
       },
       "data": [
        {
         "customdata": {
          "bdata": "Uw7DDYwEkQMlAp0AGQABAAEA",
          "dtype": "i2",
          "shape": "9, 1"
         },
         "hovertemplate": "<b>%{x}</b><br>Count: %{customdata[0]:,}<br>Percentage: %{y:.2f}%<br><extra></extra>",
         "marker": {
          "color": "#3498db"
         },
         "name": "Distribution (PDF)",
         "opacity": 0.7,
         "text": {
          "bdata": "9ihcj8JVQkA9CtejcJ1BQEjhehSuRydAw/UoXI9CIkD1KFyPwvUVQB6F61G4Hvk/AAAAAAAA0D97FK5H4XqEP3sUrkfheoQ/",
          "dtype": "f8"
         },
         "textposition": "outside",
         "texttemplate": "%{text:.1f}%",
         "type": "bar",
         "x": [
          "B3",
          "A3",
          "D3",
          "E3",
          "C3",
          "F3",
          "H3",
          "G3",
          "I3"
         ],
         "xaxis": "x",
         "y": {
          "bdata": "9ihcj8JVQkA9CtejcJ1BQEjhehSuRydAw/UoXI9CIkD1KFyPwvUVQB6F61G4Hvk/AAAAAAAA0D97FK5H4XqEP3sUrkfheoQ/",
          "dtype": "f8"
         },
         "yaxis": "y"
        },
        {
         "hovertemplate": "<b>%{x}</b><br>Cumulative: %{y:.2f}%<br><extra></extra>",
         "line": {
          "color": "#e74c3c",
          "dash": "dot",
          "width": 3
         },
         "marker": {
          "size": 8,
          "symbol": "circle"
         },
         "mode": "lines+markers",
         "name": "Cumulative (CDF)",
         "type": "scatter",
         "x": [
          "B3",
          "A3",
          "D3",
          "E3",
          "C3",
          "F3",
          "H3",
          "G3",
          "I3"
         ],
         "xaxis": "x",
         "y": {
          "bdata": "9ihcj8JVQkCamZmZmflRQMP1KFyP4lRAexSuR+EqV0AK16NwPYpYQB6F61G47lhAHoXrUbj+WECPwvUoXP9YQAAAAAAAAFlA",
          "dtype": "f8"
         },
         "yaxis": "y2"
        }
       ],
       "layout": {
        "height": 600,
        "hovermode": "x unified",
        "legend": {
         "orientation": "h",
         "x": 1,
         "xanchor": "right",
         "y": 1.02,
         "yanchor": "bottom"
        },
        "showlegend": true,
        "template": {
         "data": {
          "bar": [
           {
            "error_x": {
             "color": "#2a3f5f"
            },
            "error_y": {
             "color": "#2a3f5f"
            },
            "marker": {
             "line": {
              "color": "#E5ECF6",
              "width": 0.5
             },
             "pattern": {
              "fillmode": "overlay",
              "size": 10,
              "solidity": 0.2
             }
            },
            "type": "bar"
           }
          ],
          "barpolar": [
           {
            "marker": {
             "line": {
              "color": "#E5ECF6",
              "width": 0.5
             },
             "pattern": {
              "fillmode": "overlay",
              "size": 10,
              "solidity": 0.2
             }
            },
            "type": "barpolar"
           }
          ],
          "carpet": [
           {
            "aaxis": {
             "endlinecolor": "#2a3f5f",
             "gridcolor": "white",
             "linecolor": "white",
             "minorgridcolor": "white",
             "startlinecolor": "#2a3f5f"
            },
            "baxis": {
             "endlinecolor": "#2a3f5f",
             "gridcolor": "white",
             "linecolor": "white",
             "minorgridcolor": "white",
             "startlinecolor": "#2a3f5f"
            },
            "type": "carpet"
           }
          ],
          "choropleth": [
           {
            "colorbar": {
             "outlinewidth": 0,
             "ticks": ""
            },
            "type": "choropleth"
           }
          ],
          "contour": [
           {
            "colorbar": {
             "outlinewidth": 0,
             "ticks": ""
            },
            "colorscale": [
             [
              0,
              "#0d0887"
             ],
             [
              0.1111111111111111,
              "#46039f"
             ],
             [
              0.2222222222222222,
              "#7201a8"
             ],
             [
              0.3333333333333333,
              "#9c179e"
             ],
             [
              0.4444444444444444,
              "#bd3786"
             ],
             [
              0.5555555555555556,
              "#d8576b"
             ],
             [
              0.6666666666666666,
              "#ed7953"
             ],
             [
              0.7777777777777778,
              "#fb9f3a"
             ],
             [
              0.8888888888888888,
              "#fdca26"
             ],
             [
              1,
              "#f0f921"
             ]
            ],
            "type": "contour"
           }
          ],
          "contourcarpet": [
           {
            "colorbar": {
             "outlinewidth": 0,
             "ticks": ""
            },
            "type": "contourcarpet"
           }
          ],
          "heatmap": [
           {
            "colorbar": {
             "outlinewidth": 0,
             "ticks": ""
            },
            "colorscale": [
             [
              0,
              "#0d0887"
             ],
             [
              0.1111111111111111,
              "#46039f"
             ],
             [
              0.2222222222222222,
              "#7201a8"
             ],
             [
              0.3333333333333333,
              "#9c179e"
             ],
             [
              0.4444444444444444,
              "#bd3786"
             ],
             [
              0.5555555555555556,
              "#d8576b"
             ],
             [
              0.6666666666666666,
              "#ed7953"
             ],
             [
              0.7777777777777778,
              "#fb9f3a"
             ],
             [
              0.8888888888888888,
              "#fdca26"
             ],
             [
              1,
              "#f0f921"
             ]
            ],
            "type": "heatmap"
           }
          ],
          "histogram": [
           {
            "marker": {
             "pattern": {
              "fillmode": "overlay",
              "size": 10,
              "solidity": 0.2
             }
            },
            "type": "histogram"
           }
          ],
          "histogram2d": [
           {
            "colorbar": {
             "outlinewidth": 0,
             "ticks": ""
            },
            "colorscale": [
             [
              0,
              "#0d0887"
             ],
             [
              0.1111111111111111,
              "#46039f"
             ],
             [
              0.2222222222222222,
              "#7201a8"
             ],
             [
              0.3333333333333333,
              "#9c179e"
             ],
             [
              0.4444444444444444,
              "#bd3786"
             ],
             [
              0.5555555555555556,
              "#d8576b"
             ],
             [
              0.6666666666666666,
              "#ed7953"
             ],
             [
              0.7777777777777778,
              "#fb9f3a"
             ],
             [
              0.8888888888888888,
              "#fdca26"
             ],
             [
              1,
              "#f0f921"
             ]
            ],
            "type": "histogram2d"
           }
          ],
          "histogram2dcontour": [
           {
            "colorbar": {
             "outlinewidth": 0,
             "ticks": ""
            },
            "colorscale": [
             [
              0,
              "#0d0887"
             ],
             [
              0.1111111111111111,
              "#46039f"
             ],
             [
              0.2222222222222222,
              "#7201a8"
             ],
             [
              0.3333333333333333,
              "#9c179e"
             ],
             [
              0.4444444444444444,
              "#bd3786"
             ],
             [
              0.5555555555555556,
              "#d8576b"
             ],
             [
              0.6666666666666666,
              "#ed7953"
             ],
             [
              0.7777777777777778,
              "#fb9f3a"
             ],
             [
              0.8888888888888888,
              "#fdca26"
             ],
             [
              1,
              "#f0f921"
             ]
            ],
            "type": "histogram2dcontour"
           }
          ],
          "mesh3d": [
           {
            "colorbar": {
             "outlinewidth": 0,
             "ticks": ""
            },
            "type": "mesh3d"
           }
          ],
          "parcoords": [
           {
            "line": {
             "colorbar": {
              "outlinewidth": 0,
              "ticks": ""
             }
            },
            "type": "parcoords"
           }
          ],
          "pie": [
           {
            "automargin": true,
            "type": "pie"
           }
          ],
          "scatter": [
           {
            "fillpattern": {
             "fillmode": "overlay",
             "size": 10,
             "solidity": 0.2
            },
            "type": "scatter"
           }
          ],
          "scatter3d": [
           {
            "line": {
             "colorbar": {
              "outlinewidth": 0,
              "ticks": ""
             }
            },
            "marker": {
             "colorbar": {
              "outlinewidth": 0,
              "ticks": ""
             }
            },
            "type": "scatter3d"
           }
          ],
          "scattercarpet": [
           {
            "marker": {
             "colorbar": {
              "outlinewidth": 0,
              "ticks": ""
             }
            },
            "type": "scattercarpet"
           }
          ],
          "scattergeo": [
           {
            "marker": {
             "colorbar": {
              "outlinewidth": 0,
              "ticks": ""
             }
            },
            "type": "scattergeo"
           }
          ],
          "scattergl": [
           {
            "marker": {
             "colorbar": {
              "outlinewidth": 0,
              "ticks": ""
             }
            },
            "type": "scattergl"
           }
          ],
          "scattermap": [
           {
            "marker": {
             "colorbar": {
              "outlinewidth": 0,
              "ticks": ""
             }
            },
            "type": "scattermap"
           }
          ],
          "scattermapbox": [
           {
            "marker": {
             "colorbar": {
              "outlinewidth": 0,
              "ticks": ""
             }
            },
            "type": "scattermapbox"
           }
          ],
          "scatterpolar": [
           {
            "marker": {
             "colorbar": {
              "outlinewidth": 0,
              "ticks": ""
             }
            },
            "type": "scatterpolar"
           }
          ],
          "scatterpolargl": [
           {
            "marker": {
             "colorbar": {
              "outlinewidth": 0,
              "ticks": ""
             }
            },
            "type": "scatterpolargl"
           }
          ],
          "scatterternary": [
           {
            "marker": {
             "colorbar": {
              "outlinewidth": 0,
              "ticks": ""
             }
            },
            "type": "scatterternary"
           }
          ],
          "surface": [
           {
            "colorbar": {
             "outlinewidth": 0,
             "ticks": ""
            },
            "colorscale": [
             [
              0,
              "#0d0887"
             ],
             [
              0.1111111111111111,
              "#46039f"
             ],
             [
              0.2222222222222222,
              "#7201a8"
             ],
             [
              0.3333333333333333,
              "#9c179e"
             ],
             [
              0.4444444444444444,
              "#bd3786"
             ],
             [
              0.5555555555555556,
              "#d8576b"
             ],
             [
              0.6666666666666666,
              "#ed7953"
             ],
             [
              0.7777777777777778,
              "#fb9f3a"
             ],
             [
              0.8888888888888888,
              "#fdca26"
             ],
             [
              1,
              "#f0f921"
             ]
            ],
            "type": "surface"
           }
          ],
          "table": [
           {
            "cells": {
             "fill": {
              "color": "#EBF0F8"
             },
             "line": {
              "color": "white"
             }
            },
            "header": {
             "fill": {
              "color": "#C8D4E3"
             },
             "line": {
              "color": "white"
             }
            },
            "type": "table"
           }
          ]
         },
         "layout": {
          "annotationdefaults": {
           "arrowcolor": "#2a3f5f",
           "arrowhead": 0,
           "arrowwidth": 1
          },
          "autotypenumbers": "strict",
          "coloraxis": {
           "colorbar": {
            "outlinewidth": 0,
            "ticks": ""
           }
          },
          "colorscale": {
           "diverging": [
            [
             0,
             "#8e0152"
            ],
            [
             0.1,
             "#c51b7d"
            ],
            [
             0.2,
             "#de77ae"
            ],
            [
             0.3,
             "#f1b6da"
            ],
            [
             0.4,
             "#fde0ef"
            ],
            [
             0.5,
             "#f7f7f7"
            ],
            [
             0.6,
             "#e6f5d0"
            ],
            [
             0.7,
             "#b8e186"
            ],
            [
             0.8,
             "#7fbc41"
            ],
            [
             0.9,
             "#4d9221"
            ],
            [
             1,
             "#276419"
            ]
           ],
           "sequential": [
            [
             0,
             "#0d0887"
            ],
            [
             0.1111111111111111,
             "#46039f"
            ],
            [
             0.2222222222222222,
             "#7201a8"
            ],
            [
             0.3333333333333333,
             "#9c179e"
            ],
            [
             0.4444444444444444,
             "#bd3786"
            ],
            [
             0.5555555555555556,
             "#d8576b"
            ],
            [
             0.6666666666666666,
             "#ed7953"
            ],
            [
             0.7777777777777778,
             "#fb9f3a"
            ],
            [
             0.8888888888888888,
             "#fdca26"
            ],
            [
             1,
             "#f0f921"
            ]
           ],
           "sequentialminus": [
            [
             0,
             "#0d0887"
            ],
            [
             0.1111111111111111,
             "#46039f"
            ],
            [
             0.2222222222222222,
             "#7201a8"
            ],
            [
             0.3333333333333333,
             "#9c179e"
            ],
            [
             0.4444444444444444,
             "#bd3786"
            ],
            [
             0.5555555555555556,
             "#d8576b"
            ],
            [
             0.6666666666666666,
             "#ed7953"
            ],
            [
             0.7777777777777778,
             "#fb9f3a"
            ],
            [
             0.8888888888888888,
             "#fdca26"
            ],
            [
             1,
             "#f0f921"
            ]
           ]
          },
          "colorway": [
           "#636efa",
           "#EF553B",
           "#00cc96",
           "#ab63fa",
           "#FFA15A",
           "#19d3f3",
           "#FF6692",
           "#B6E880",
           "#FF97FF",
           "#FECB52"
          ],
          "font": {
           "color": "#2a3f5f"
          },
          "geo": {
           "bgcolor": "white",
           "lakecolor": "white",
           "landcolor": "#E5ECF6",
           "showlakes": true,
           "showland": true,
           "subunitcolor": "white"
          },
          "hoverlabel": {
           "align": "left"
          },
          "hovermode": "closest",
          "mapbox": {
           "style": "light"
          },
          "paper_bgcolor": "white",
          "plot_bgcolor": "#E5ECF6",
          "polar": {
           "angularaxis": {
            "gridcolor": "white",
            "linecolor": "white",
            "ticks": ""
           },
           "bgcolor": "#E5ECF6",
           "radialaxis": {
            "gridcolor": "white",
            "linecolor": "white",
            "ticks": ""
           }
          },
          "scene": {
           "xaxis": {
            "backgroundcolor": "#E5ECF6",
            "gridcolor": "white",
            "gridwidth": 2,
            "linecolor": "white",
            "showbackground": true,
            "ticks": "",
            "zerolinecolor": "white"
           },
           "yaxis": {
            "backgroundcolor": "#E5ECF6",
            "gridcolor": "white",
            "gridwidth": 2,
            "linecolor": "white",
            "showbackground": true,
            "ticks": "",
            "zerolinecolor": "white"
           },
           "zaxis": {
            "backgroundcolor": "#E5ECF6",
            "gridcolor": "white",
            "gridwidth": 2,
            "linecolor": "white",
            "showbackground": true,
            "ticks": "",
            "zerolinecolor": "white"
           }
          },
          "shapedefaults": {
           "line": {
            "color": "#2a3f5f"
           }
          },
          "ternary": {
           "aaxis": {
            "gridcolor": "white",
            "linecolor": "white",
            "ticks": ""
           },
           "baxis": {
            "gridcolor": "white",
            "linecolor": "white",
            "ticks": ""
           },
           "bgcolor": "#E5ECF6",
           "caxis": {
            "gridcolor": "white",
            "linecolor": "white",
            "ticks": ""
           }
          },
          "title": {
           "x": 0.05
          },
          "xaxis": {
           "automargin": true,
           "gridcolor": "white",
           "linecolor": "white",
           "ticks": "",
           "title": {
            "standoff": 15
           },
           "zerolinecolor": "white",
           "zerolinewidth": 2
          },
          "yaxis": {
           "automargin": true,
           "gridcolor": "white",
           "linecolor": "white",
           "ticks": "",
           "title": {
            "standoff": 15
           },
           "zerolinecolor": "white",
           "zerolinewidth": 2
          }
         }
        },
        "title": {
         "text": "Distribution of User Feature 3 (PDF + CDF)"
        },
        "xaxis": {
         "anchor": "y",
         "domain": [
          0,
          0.94
         ],
         "gridcolor": "lightgray",
         "gridwidth": 1,
         "showgrid": true,
         "title": {
          "text": "user_feature_3"
         }
        },
        "yaxis": {
         "anchor": "x",
         "domain": [
          0,
          1
         ],
         "gridcolor": "lightgray",
         "gridwidth": 1,
         "range": [
          0,
          40.337
         ],
         "showgrid": true,
         "title": {
          "text": "Percentage (%)"
         }
        },
        "yaxis2": {
         "anchor": "x",
         "overlaying": "y",
         "range": [
          0,
          105
         ],
         "side": "right",
         "title": {
          "text": "Cumulative (%)"
         }
        }
       }
      }
     },
     "metadata": {},
     "output_type": "display_data"
    }
   ],
   "source": [
    "# Loop through all user features and create distribution plots\n",
    "for feature_col in user_feature_cols:\n",
    "    # Extract feature number for the title\n",
    "    feature_num = feature_col.split('_')[-1]\n",
    "    \n",
    "    fig = plot_distribution_with_cdf(\n",
    "        data=log_df_readable,\n",
    "        column_name=feature_col,\n",
    "        title=f'Distribution of User Feature {feature_num} (PDF + CDF)',\n",
    "        height=600,\n",
    "        sort_by='count'  # Sort by count (descending)\n",
    "    )\n",
    "    fig.show()"
   ]
  }
 ],
 "metadata": {
  "kernelspec": {
   "display_name": "Python 3",
   "language": "python",
   "name": "python3"
  },
  "language_info": {
   "codemirror_mode": {
    "name": "ipython",
    "version": 3
   },
   "file_extension": ".py",
   "mimetype": "text/x-python",
   "name": "python",
   "nbconvert_exporter": "python",
   "pygments_lexer": "ipython3",
   "version": "3.10.18"
  }
 },
 "nbformat": 4,
 "nbformat_minor": 5
}
