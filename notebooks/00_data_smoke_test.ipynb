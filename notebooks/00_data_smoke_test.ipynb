{
 "cells": [
  {
   "cell_type": "code",
   "execution_count": 16,
   "id": "0b16cb80",
   "metadata": {},
   "outputs": [
    {
     "name": "stderr",
     "output_type": "stream",
     "text": [
      "INFO:obp.dataset.real:When `data_path` is not given, this class downloads the small-sized version of Open Bandit Dataset.\n"
     ]
    },
    {
     "name": "stdout",
     "output_type": "stream",
     "text": [
      "dict_keys(['n_rounds', 'n_actions', 'action', 'position', 'reward', 'pscore', 'context', 'action_context'])\n"
     ]
    }
   ],
   "source": [
    "import pandas as pd\n",
    "from obp.dataset import OpenBanditDataset\n",
    "import numpy as np\n",
    "ds = OpenBanditDataset(behavior_policy=\"random\", campaign=\"all\")\n",
    "bf = ds.obtain_batch_bandit_feedback()\n",
    "print(bf.keys())  # expect: n_rounds, n_actions, action, position, reward, pscore, context, action_context"
   ]
  },
  {
   "cell_type": "markdown",
   "id": "eef252bd",
   "metadata": {},
   "source": [
    "# Basic shape sanity"
   ]
  },
  {
   "cell_type": "code",
   "execution_count": null,
   "id": "b9020930",
   "metadata": {},
   "outputs": [
    {
     "name": "stdout",
     "output_type": "stream",
     "text": [
      "n_rounds: 10000 | n_actions: 80 | len_list: 3\n",
      "action: shape=(10000,), dtype=int64\n",
      "position: shape=(10000,), dtype=int64\n",
      "reward: shape=(10000,), dtype=int64\n",
      "pscore: shape=(10000,), dtype=float64\n"
     ]
    }
   ],
   "source": [
    "\n",
    "n = bf[\"n_rounds\"]\n",
    "print(\"n_rounds:\", n, \"| n_actions:\", bf[\"n_actions\"], \"| len_list:\", ds.len_list)\n",
    "\n",
    "for k in [\"action\", \"position\", \"reward\", \"pscore\"]:\n",
    "    arr = bf[k]\n",
    "    print(f\"{k}: shape={getattr(arr, 'shape', None)}, dtype={getattr(arr, 'dtype', type(arr))}\")\n",
    "\n",
    "# --- Assertions (fail fast if something’s off) ---\n",
    "assert isinstance(n, int) and n > 0\n",
    "for k in [\"action\", \"position\", \"reward\", \"pscore\"]:\n",
    "    assert len(bf[k]) == n, f\"{k} length != n_rounds\"\n",
    "\n",
    "assert bf[\"pscore\"].min() > 0, \"Found zero/negative propensities\"\n",
    "assert set(np.unique(bf[\"position\"])) <= {0,1,2}, \"Positions must be 0-based {0,1,2}\"\n",
    "assert ds.len_list == 3, \"OBD should have 3 slots\"\n"
   ]
  },
  {
   "cell_type": "code",
   "execution_count": 22,
   "id": "d51f977f",
   "metadata": {},
   "outputs": [
    {
     "name": "stdout",
     "output_type": "stream",
     "text": [
      "context: (10000, 20)\n",
      "action_context: (80, 4)\n"
     ]
    }
   ],
   "source": [
    "# Contexts can be None in some versions; print if present\n",
    "ctx = bf.get(\"context\", None)\n",
    "actx = bf.get(\"action_context\", None)\n",
    "print(\"context:\", None if ctx is None else ctx.shape)\n",
    "print(\"action_context:\", None if actx is None else actx.shape)"
   ]
  },
  {
   "cell_type": "code",
   "execution_count": 12,
   "id": "8f92595b",
   "metadata": {},
   "outputs": [
    {
     "data": {
      "text/html": [
       "<div>\n",
       "<style scoped>\n",
       "    .dataframe tbody tr th:only-of-type {\n",
       "        vertical-align: middle;\n",
       "    }\n",
       "\n",
       "    .dataframe tbody tr th {\n",
       "        vertical-align: top;\n",
       "    }\n",
       "\n",
       "    .dataframe thead th {\n",
       "        text-align: right;\n",
       "    }\n",
       "</style>\n",
       "<table border=\"1\" class=\"dataframe\">\n",
       "  <thead>\n",
       "    <tr style=\"text-align: right;\">\n",
       "      <th></th>\n",
       "      <th>action</th>\n",
       "      <th>position</th>\n",
       "      <th>reward</th>\n",
       "      <th>pscore</th>\n",
       "    </tr>\n",
       "  </thead>\n",
       "  <tbody>\n",
       "    <tr>\n",
       "      <th>0</th>\n",
       "      <td>14</td>\n",
       "      <td>2</td>\n",
       "      <td>0</td>\n",
       "      <td>0.0125</td>\n",
       "    </tr>\n",
       "    <tr>\n",
       "      <th>1</th>\n",
       "      <td>14</td>\n",
       "      <td>2</td>\n",
       "      <td>0</td>\n",
       "      <td>0.0125</td>\n",
       "    </tr>\n",
       "    <tr>\n",
       "      <th>2</th>\n",
       "      <td>27</td>\n",
       "      <td>2</td>\n",
       "      <td>0</td>\n",
       "      <td>0.0125</td>\n",
       "    </tr>\n",
       "    <tr>\n",
       "      <th>3</th>\n",
       "      <td>48</td>\n",
       "      <td>1</td>\n",
       "      <td>0</td>\n",
       "      <td>0.0125</td>\n",
       "    </tr>\n",
       "    <tr>\n",
       "      <th>4</th>\n",
       "      <td>36</td>\n",
       "      <td>1</td>\n",
       "      <td>0</td>\n",
       "      <td>0.0125</td>\n",
       "    </tr>\n",
       "  </tbody>\n",
       "</table>\n",
       "</div>"
      ],
      "text/plain": [
       "   action  position  reward  pscore\n",
       "0      14         2       0  0.0125\n",
       "1      14         2       0  0.0125\n",
       "2      27         2       0  0.0125\n",
       "3      48         1       0  0.0125\n",
       "4      36         1       0  0.0125"
      ]
     },
     "execution_count": 12,
     "metadata": {},
     "output_type": "execute_result"
    }
   ],
   "source": [
    "df = pd.DataFrame({\n",
    "    \"action\": bf[\"action\"],\n",
    "    \"position\": bf[\"position\"],\n",
    "    \"reward\": bf[\"reward\"],\n",
    "    \"pscore\": bf[\"pscore\"],\n",
    "})\n",
    "df.head()"
   ]
  },
  {
   "cell_type": "code",
   "execution_count": 20,
   "id": "510ef1be",
   "metadata": {},
   "outputs": [
    {
     "name": "stdout",
     "output_type": "stream",
     "text": [
      "\n",
      "Head:\n",
      "    action  position  reward  pscore\n",
      "0      14         2       0  0.0125\n",
      "1      14         2       0  0.0125\n",
      "2      27         2       0  0.0125\n",
      "3      48         1       0  0.0125\n",
      "4      36         1       0  0.0125\n",
      "DF shape: (10000, 4)\n",
      "CTR (overall): 0.0038\n",
      "CTR by slot (0-based):\n",
      " position\n",
      "0    0.003913\n",
      "1    0.004103\n",
      "2    0.003368\n",
      "Name: reward, dtype: float64\n"
     ]
    }
   ],
   "source": [
    "print(\"\\nHead:\\n\", df.head())\n",
    "print(\"DF shape:\", df.shape)\n",
    "print(\"CTR (overall):\", df[\"reward\"].mean())\n",
    "print(\"CTR by slot (0-based):\\n\", df.groupby(\"position\")[\"reward\"].mean())"
   ]
  },
  {
   "cell_type": "code",
   "execution_count": 13,
   "id": "c39d2fe8",
   "metadata": {},
   "outputs": [
    {
     "data": {
      "text/plain": [
       "(10000, 4)"
      ]
     },
     "execution_count": 13,
     "metadata": {},
     "output_type": "execute_result"
    }
   ],
   "source": [
    "df.shape"
   ]
  },
  {
   "cell_type": "code",
   "execution_count": 14,
   "id": "6452a3be",
   "metadata": {},
   "outputs": [
    {
     "data": {
      "text/plain": [
       "dict_keys(['n_rounds', 'n_actions', 'action', 'position', 'reward', 'pscore', 'context', 'action_context'])"
      ]
     },
     "execution_count": 14,
     "metadata": {},
     "output_type": "execute_result"
    }
   ],
   "source": [
    "bf.keys()"
   ]
  },
  {
   "cell_type": "markdown",
   "id": "4d0a845f",
   "metadata": {},
   "source": [
    "### Making Sure the CTRs match using CSV vs OpenBanditDataset class "
   ]
  },
  {
   "cell_type": "code",
   "execution_count": 15,
   "id": "7dc978fe",
   "metadata": {},
   "outputs": [
    {
     "name": "stderr",
     "output_type": "stream",
     "text": [
      "INFO:obp.dataset.real:When `data_path` is not given, this class downloads the small-sized version of Open Bandit Dataset.\n"
     ]
    },
    {
     "name": "stdout",
     "output_type": "stream",
     "text": [
      "       ctr_csv    ctr_bf\n",
      "pos0                    \n",
      "0     0.003913  0.003913\n",
      "1     0.004103  0.004103\n",
      "2     0.003368  0.003368\n"
     ]
    }
   ],
   "source": [
    "# CSV (Random/all)\n",
    "csv = pd.read_csv(\"../zr-obp/obd/random/all/all.csv\", index_col=0)\n",
    "csv[\"pos0\"] = csv[\"position\"] - 1\n",
    "ctr_csv = csv.groupby(\"pos0\")[\"click\"].mean().rename(\"ctr_csv\")\n",
    "\n",
    "# OBP loader (Random/all)\n",
    "ds = OpenBanditDataset(behavior_policy=\"random\", campaign=\"all\")\n",
    "bf = ds.obtain_batch_bandit_feedback()\n",
    "ctr_bf = (pd.DataFrame({\"pos0\": bf[\"position\"], \"click\": bf[\"reward\"]})\n",
    "          .groupby(\"pos0\")[\"click\"].mean().rename(\"ctr_bf\"))\n",
    "\n",
    "print(pd.concat([ctr_csv, ctr_bf], axis=1))"
   ]
  },
  {
   "cell_type": "code",
   "execution_count": null,
   "id": "70666860",
   "metadata": {},
   "outputs": [],
   "source": []
  }
 ],
 "metadata": {
  "kernelspec": {
   "display_name": "obp_replication",
   "language": "python",
   "name": "python3"
  },
  "language_info": {
   "codemirror_mode": {
    "name": "ipython",
    "version": 3
   },
   "file_extension": ".py",
   "mimetype": "text/x-python",
   "name": "python",
   "nbconvert_exporter": "python",
   "pygments_lexer": "ipython3",
   "version": "3.10.18"
  }
 },
 "nbformat": 4,
 "nbformat_minor": 5
}
