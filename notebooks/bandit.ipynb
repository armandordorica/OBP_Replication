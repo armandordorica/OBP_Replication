{
 "cells": [
  {
   "cell_type": "code",
   "execution_count": 1,
   "id": "1fe0e55f",
   "metadata": {},
   "outputs": [],
   "source": [
    "# --- Offline simulation: probability of each action over 5 rounds (single slot) ---\n",
    "\n",
    "import numpy as np\n",
    "import pandas as pd\n",
    "import matplotlib.pyplot as plt\n",
    "from obp.dataset import OpenBanditDataset\n",
    "import plotly.graph_objects as go\n",
    "from plotly.subplots import make_subplots\n",
    "\n",
    "SEED = 7\n",
    "rng = np.random.RandomState(SEED)\n"
   ]
  },
  {
   "cell_type": "markdown",
   "id": "b7af295b",
   "metadata": {},
   "source": [
    "### Helper Functions"
   ]
  },
  {
   "cell_type": "code",
   "execution_count": 2,
   "id": "8e77d402",
   "metadata": {},
   "outputs": [],
   "source": [
    "def exact_pmf_one_update(K: int, updated_arm: int, reward: int):\n",
    "    \"\"\"\n",
    "    Closed-form TS selection probabilities when all arms start Beta(1,1),\n",
    "    and exactly one arm is updated once at this position (no MC).\n",
    "    \"\"\"\n",
    "    p = np.empty(K, dtype=float)\n",
    "    if reward == 1:\n",
    "        p_updated = 2.0 / (K + 1.0)              # updated arm\n",
    "        p_others  = 1.0 / (K + 1.0)              # every other arm\n",
    "    else:\n",
    "        p_updated = 2.0 / (K * (K + 1.0))        # updated arm\n",
    "        p_others  = (1.0 - p_updated) / (K - 1.) # spread remainder evenly\n",
    "    p.fill(p_others)\n",
    "    p[updated_arm] = p_updated\n",
    "    return p\n",
    "\n",
    "def make_probs_df(round_num: int, alpha, beta, pmf_by_pos):\n",
    "    \"\"\"Build a wide DataFrame for a given round with selection probs and α/β per position.\"\"\"\n",
    "    rows = []\n",
    "    for a in range(n_actions):\n",
    "        row = {\"round\": round_num, \"action\": a}\n",
    "        for pos in positions:\n",
    "            row[f\"p_pos{pos}\"]     = pmf_by_pos[pos][a]\n",
    "            row[f\"alpha_pos{pos}\"] = alpha[pos][a]\n",
    "            row[f\"beta_pos{pos}\"]  = beta[pos][a]\n",
    "        rows.append(row)\n",
    "    return pd.DataFrame(rows)"
   ]
  },
  {
   "cell_type": "markdown",
   "id": "83c08cb2",
   "metadata": {},
   "source": [
    "### Load the data"
   ]
  },
  {
   "cell_type": "code",
   "execution_count": 3,
   "id": "c15815f6",
   "metadata": {},
   "outputs": [
    {
     "name": "stderr",
     "output_type": "stream",
     "text": [
      "INFO:obp.dataset.real:When `data_path` is not given, this class downloads the small-sized version of Open Bandit Dataset.\n"
     ]
    },
    {
     "name": "stdout",
     "output_type": "stream",
     "text": [
      "bandit_feedback keys: dict_keys(['n_rounds', 'n_actions', 'action', 'position', 'reward', 'pscore', 'context', 'action_context'])\n",
      "Rounds: 10,000 | n_actions: 80 | len_list: 3\n"
     ]
    },
    {
     "data": {
      "text/html": [
       "<div>\n",
       "<style scoped>\n",
       "    .dataframe tbody tr th:only-of-type {\n",
       "        vertical-align: middle;\n",
       "    }\n",
       "\n",
       "    .dataframe tbody tr th {\n",
       "        vertical-align: top;\n",
       "    }\n",
       "\n",
       "    .dataframe thead th {\n",
       "        text-align: right;\n",
       "    }\n",
       "</style>\n",
       "<table border=\"1\" class=\"dataframe\">\n",
       "  <thead>\n",
       "    <tr style=\"text-align: right;\">\n",
       "      <th></th>\n",
       "      <th>action</th>\n",
       "      <th>position</th>\n",
       "      <th>reward</th>\n",
       "      <th>pscore</th>\n",
       "    </tr>\n",
       "  </thead>\n",
       "  <tbody>\n",
       "    <tr>\n",
       "      <th>0</th>\n",
       "      <td>14</td>\n",
       "      <td>2</td>\n",
       "      <td>0</td>\n",
       "      <td>0.0125</td>\n",
       "    </tr>\n",
       "    <tr>\n",
       "      <th>1</th>\n",
       "      <td>14</td>\n",
       "      <td>2</td>\n",
       "      <td>0</td>\n",
       "      <td>0.0125</td>\n",
       "    </tr>\n",
       "    <tr>\n",
       "      <th>2</th>\n",
       "      <td>27</td>\n",
       "      <td>2</td>\n",
       "      <td>0</td>\n",
       "      <td>0.0125</td>\n",
       "    </tr>\n",
       "    <tr>\n",
       "      <th>3</th>\n",
       "      <td>48</td>\n",
       "      <td>1</td>\n",
       "      <td>0</td>\n",
       "      <td>0.0125</td>\n",
       "    </tr>\n",
       "    <tr>\n",
       "      <th>4</th>\n",
       "      <td>36</td>\n",
       "      <td>1</td>\n",
       "      <td>0</td>\n",
       "      <td>0.0125</td>\n",
       "    </tr>\n",
       "  </tbody>\n",
       "</table>\n",
       "</div>"
      ],
      "text/plain": [
       "   action  position  reward  pscore\n",
       "0      14         2       0  0.0125\n",
       "1      14         2       0  0.0125\n",
       "2      27         2       0  0.0125\n",
       "3      48         1       0  0.0125\n",
       "4      36         1       0  0.0125"
      ]
     },
     "execution_count": 3,
     "metadata": {},
     "output_type": "execute_result"
    }
   ],
   "source": [
    "\n",
    "# --- Load OBD (Random / all as example) ---\n",
    "ds = OpenBanditDataset(behavior_policy=\"random\", campaign=\"all\")\n",
    "bf = ds.obtain_batch_bandit_feedback()\n",
    "\n",
    "print(\"bandit_feedback keys:\", bf.keys())\n",
    "print(f\"Rounds: {bf['n_rounds']:,} | n_actions: {bf['n_actions']} | len_list: {ds.len_list}\")\n",
    "\n",
    "# Build a DataFrame for convenience\n",
    "df = pd.DataFrame({\n",
    "    \"action\": bf[\"action\"],\n",
    "    \"position\": bf[\"position\"],\n",
    "    \"reward\": bf[\"reward\"],\n",
    "    \"pscore\": bf[\"pscore\"],\n",
    "})\n",
    "\n",
    "df.head()"
   ]
  },
  {
   "cell_type": "code",
   "execution_count": 4,
   "id": "61a9927e",
   "metadata": {},
   "outputs": [
    {
     "data": {
      "text/plain": [
       "(10000, 4)"
      ]
     },
     "execution_count": 4,
     "metadata": {},
     "output_type": "execute_result"
    }
   ],
   "source": [
    "df.shape"
   ]
  },
  {
   "cell_type": "code",
   "execution_count": 5,
   "id": "25d47409",
   "metadata": {},
   "outputs": [
    {
     "data": {
      "text/plain": [
       "action\n",
       "0     0.000000\n",
       "1     0.006250\n",
       "2     0.000000\n",
       "3     0.007937\n",
       "4     0.000000\n",
       "        ...   \n",
       "75    0.000000\n",
       "76    0.000000\n",
       "77    0.000000\n",
       "78    0.000000\n",
       "79    0.000000\n",
       "Name: reward, Length: 80, dtype: float64"
      ]
     },
     "execution_count": 5,
     "metadata": {},
     "output_type": "execute_result"
    }
   ],
   "source": [
    "df.groupby(\"action\")[\"reward\"].mean()"
   ]
  },
  {
   "cell_type": "code",
   "execution_count": 6,
   "id": "cc5a5820",
   "metadata": {},
   "outputs": [
    {
     "data": {
      "application/vnd.plotly.v1+json": {
       "config": {
        "plotlyServerURL": "https://plot.ly"
       },
       "data": [
        {
         "hovertemplate": "Action ID=%{x}<br>Empirical CTR=%{y}<extra></extra>",
         "legendgroup": "",
         "marker": {
          "color": "#636efa",
          "pattern": {
           "shape": ""
          }
         },
         "name": "",
         "orientation": "v",
         "showlegend": false,
         "textposition": "auto",
         "type": "bar",
         "x": {
          "bdata": "AAECAwQFBgcICQoLDA0ODxAREhMUFRYXGBkaGxwdHh8gISIjJCUmJygpKissLS4vMDEyMzQ1Njc4OTo7PD0+P0BBQkNERUZHSElKS0xNTk8=",
          "dtype": "i1"
         },
         "xaxis": "x",
         "y": {
          "bdata": "AAAAAAAAAACamZmZmZl5PwAAAAAAAAAAEARBEARBgD8AAAAAAAAAAAAAAAAAAAAAcUJKnmVEjz/gwIEDBw58PzQsuFS2d30/EARBEARBgD8AAAAAAAAAAAAAAAAAAAAAAAAAAAAAAAAAAAAAAAAAAAAAAAAAAAAAAAAAAAAAAAAAAAAAAAAAAKcQaAqBpoA/Ecg1Ecg1kT8AAAAAAAAAAAAAAAAAAAAAZ7fwqzGRfj8AAAAAAAAAAAAAAAAAAAAAAAAAAAAAAABxQkqeZUR/PwAAAAAAAAAAAAAAAAAAAAAQBEEQBEGAPwAAAAAAAAAAAAAAAAAAAAAAAAAAAAAAAAAAAAAAAAAAAAAAAAAAAAB05QHJOld+PwAAAAAAAAAAO9q8T3HJkD8AAAAAAAAAADvavE9xyYA/AAAAAAAAAAAAAAAAAAAAAB4eHh4eHn4/AAAAAAAAAAAAAAAAAAAAAB4eHh4eHo4/Z7fwqzGRfj++Y2pg75h6P5Z7GmG5p4E/HYGirQbPgT8or6G8hvKaPx4eHh4eHn4/AAAAAAAAAAAAAAAAAAAAABQ4gRM4gZM/AAAAAAAAAAAAAAAAAAAAAAAAAAAAAAAAizPaPWx9iz+SJEmSJEmSPwAAAAAAAAAAAAAAAAAAAAAUO7ETO7GDPwAAAAAAAAAAAAAAAAAAAAAAAAAAAAAAAJCc5mv17IA/AAAAAAAAAAAAAAAAAAAAAAAAAAAAAAAA/Knx0k1igD8AAAAAAAAAABAEQRAEQYA/AAAAAAAAAAAAAAAAAAAAAAAAAAAAAAAAAAAAAAAAAAAAAAAAAAAAAAAAAAAAAAAAAAAAAAAAAAAAAAAAAAAAAA==",
          "dtype": "f8"
         },
         "yaxis": "y"
        }
       ],
       "layout": {
        "barmode": "relative",
        "height": 500,
        "legend": {
         "tracegroupgap": 0
        },
        "template": {
         "data": {
          "bar": [
           {
            "error_x": {
             "color": "#2a3f5f"
            },
            "error_y": {
             "color": "#2a3f5f"
            },
            "marker": {
             "line": {
              "color": "white",
              "width": 0.5
             },
             "pattern": {
              "fillmode": "overlay",
              "size": 10,
              "solidity": 0.2
             }
            },
            "type": "bar"
           }
          ],
          "barpolar": [
           {
            "marker": {
             "line": {
              "color": "white",
              "width": 0.5
             },
             "pattern": {
              "fillmode": "overlay",
              "size": 10,
              "solidity": 0.2
             }
            },
            "type": "barpolar"
           }
          ],
          "carpet": [
           {
            "aaxis": {
             "endlinecolor": "#2a3f5f",
             "gridcolor": "#C8D4E3",
             "linecolor": "#C8D4E3",
             "minorgridcolor": "#C8D4E3",
             "startlinecolor": "#2a3f5f"
            },
            "baxis": {
             "endlinecolor": "#2a3f5f",
             "gridcolor": "#C8D4E3",
             "linecolor": "#C8D4E3",
             "minorgridcolor": "#C8D4E3",
             "startlinecolor": "#2a3f5f"
            },
            "type": "carpet"
           }
          ],
          "choropleth": [
           {
            "colorbar": {
             "outlinewidth": 0,
             "ticks": ""
            },
            "type": "choropleth"
           }
          ],
          "contour": [
           {
            "colorbar": {
             "outlinewidth": 0,
             "ticks": ""
            },
            "colorscale": [
             [
              0,
              "#0d0887"
             ],
             [
              0.1111111111111111,
              "#46039f"
             ],
             [
              0.2222222222222222,
              "#7201a8"
             ],
             [
              0.3333333333333333,
              "#9c179e"
             ],
             [
              0.4444444444444444,
              "#bd3786"
             ],
             [
              0.5555555555555556,
              "#d8576b"
             ],
             [
              0.6666666666666666,
              "#ed7953"
             ],
             [
              0.7777777777777778,
              "#fb9f3a"
             ],
             [
              0.8888888888888888,
              "#fdca26"
             ],
             [
              1,
              "#f0f921"
             ]
            ],
            "type": "contour"
           }
          ],
          "contourcarpet": [
           {
            "colorbar": {
             "outlinewidth": 0,
             "ticks": ""
            },
            "type": "contourcarpet"
           }
          ],
          "heatmap": [
           {
            "colorbar": {
             "outlinewidth": 0,
             "ticks": ""
            },
            "colorscale": [
             [
              0,
              "#0d0887"
             ],
             [
              0.1111111111111111,
              "#46039f"
             ],
             [
              0.2222222222222222,
              "#7201a8"
             ],
             [
              0.3333333333333333,
              "#9c179e"
             ],
             [
              0.4444444444444444,
              "#bd3786"
             ],
             [
              0.5555555555555556,
              "#d8576b"
             ],
             [
              0.6666666666666666,
              "#ed7953"
             ],
             [
              0.7777777777777778,
              "#fb9f3a"
             ],
             [
              0.8888888888888888,
              "#fdca26"
             ],
             [
              1,
              "#f0f921"
             ]
            ],
            "type": "heatmap"
           }
          ],
          "histogram": [
           {
            "marker": {
             "pattern": {
              "fillmode": "overlay",
              "size": 10,
              "solidity": 0.2
             }
            },
            "type": "histogram"
           }
          ],
          "histogram2d": [
           {
            "colorbar": {
             "outlinewidth": 0,
             "ticks": ""
            },
            "colorscale": [
             [
              0,
              "#0d0887"
             ],
             [
              0.1111111111111111,
              "#46039f"
             ],
             [
              0.2222222222222222,
              "#7201a8"
             ],
             [
              0.3333333333333333,
              "#9c179e"
             ],
             [
              0.4444444444444444,
              "#bd3786"
             ],
             [
              0.5555555555555556,
              "#d8576b"
             ],
             [
              0.6666666666666666,
              "#ed7953"
             ],
             [
              0.7777777777777778,
              "#fb9f3a"
             ],
             [
              0.8888888888888888,
              "#fdca26"
             ],
             [
              1,
              "#f0f921"
             ]
            ],
            "type": "histogram2d"
           }
          ],
          "histogram2dcontour": [
           {
            "colorbar": {
             "outlinewidth": 0,
             "ticks": ""
            },
            "colorscale": [
             [
              0,
              "#0d0887"
             ],
             [
              0.1111111111111111,
              "#46039f"
             ],
             [
              0.2222222222222222,
              "#7201a8"
             ],
             [
              0.3333333333333333,
              "#9c179e"
             ],
             [
              0.4444444444444444,
              "#bd3786"
             ],
             [
              0.5555555555555556,
              "#d8576b"
             ],
             [
              0.6666666666666666,
              "#ed7953"
             ],
             [
              0.7777777777777778,
              "#fb9f3a"
             ],
             [
              0.8888888888888888,
              "#fdca26"
             ],
             [
              1,
              "#f0f921"
             ]
            ],
            "type": "histogram2dcontour"
           }
          ],
          "mesh3d": [
           {
            "colorbar": {
             "outlinewidth": 0,
             "ticks": ""
            },
            "type": "mesh3d"
           }
          ],
          "parcoords": [
           {
            "line": {
             "colorbar": {
              "outlinewidth": 0,
              "ticks": ""
             }
            },
            "type": "parcoords"
           }
          ],
          "pie": [
           {
            "automargin": true,
            "type": "pie"
           }
          ],
          "scatter": [
           {
            "fillpattern": {
             "fillmode": "overlay",
             "size": 10,
             "solidity": 0.2
            },
            "type": "scatter"
           }
          ],
          "scatter3d": [
           {
            "line": {
             "colorbar": {
              "outlinewidth": 0,
              "ticks": ""
             }
            },
            "marker": {
             "colorbar": {
              "outlinewidth": 0,
              "ticks": ""
             }
            },
            "type": "scatter3d"
           }
          ],
          "scattercarpet": [
           {
            "marker": {
             "colorbar": {
              "outlinewidth": 0,
              "ticks": ""
             }
            },
            "type": "scattercarpet"
           }
          ],
          "scattergeo": [
           {
            "marker": {
             "colorbar": {
              "outlinewidth": 0,
              "ticks": ""
             }
            },
            "type": "scattergeo"
           }
          ],
          "scattergl": [
           {
            "marker": {
             "colorbar": {
              "outlinewidth": 0,
              "ticks": ""
             }
            },
            "type": "scattergl"
           }
          ],
          "scattermap": [
           {
            "marker": {
             "colorbar": {
              "outlinewidth": 0,
              "ticks": ""
             }
            },
            "type": "scattermap"
           }
          ],
          "scattermapbox": [
           {
            "marker": {
             "colorbar": {
              "outlinewidth": 0,
              "ticks": ""
             }
            },
            "type": "scattermapbox"
           }
          ],
          "scatterpolar": [
           {
            "marker": {
             "colorbar": {
              "outlinewidth": 0,
              "ticks": ""
             }
            },
            "type": "scatterpolar"
           }
          ],
          "scatterpolargl": [
           {
            "marker": {
             "colorbar": {
              "outlinewidth": 0,
              "ticks": ""
             }
            },
            "type": "scatterpolargl"
           }
          ],
          "scatterternary": [
           {
            "marker": {
             "colorbar": {
              "outlinewidth": 0,
              "ticks": ""
             }
            },
            "type": "scatterternary"
           }
          ],
          "surface": [
           {
            "colorbar": {
             "outlinewidth": 0,
             "ticks": ""
            },
            "colorscale": [
             [
              0,
              "#0d0887"
             ],
             [
              0.1111111111111111,
              "#46039f"
             ],
             [
              0.2222222222222222,
              "#7201a8"
             ],
             [
              0.3333333333333333,
              "#9c179e"
             ],
             [
              0.4444444444444444,
              "#bd3786"
             ],
             [
              0.5555555555555556,
              "#d8576b"
             ],
             [
              0.6666666666666666,
              "#ed7953"
             ],
             [
              0.7777777777777778,
              "#fb9f3a"
             ],
             [
              0.8888888888888888,
              "#fdca26"
             ],
             [
              1,
              "#f0f921"
             ]
            ],
            "type": "surface"
           }
          ],
          "table": [
           {
            "cells": {
             "fill": {
              "color": "#EBF0F8"
             },
             "line": {
              "color": "white"
             }
            },
            "header": {
             "fill": {
              "color": "#C8D4E3"
             },
             "line": {
              "color": "white"
             }
            },
            "type": "table"
           }
          ]
         },
         "layout": {
          "annotationdefaults": {
           "arrowcolor": "#2a3f5f",
           "arrowhead": 0,
           "arrowwidth": 1
          },
          "autotypenumbers": "strict",
          "coloraxis": {
           "colorbar": {
            "outlinewidth": 0,
            "ticks": ""
           }
          },
          "colorscale": {
           "diverging": [
            [
             0,
             "#8e0152"
            ],
            [
             0.1,
             "#c51b7d"
            ],
            [
             0.2,
             "#de77ae"
            ],
            [
             0.3,
             "#f1b6da"
            ],
            [
             0.4,
             "#fde0ef"
            ],
            [
             0.5,
             "#f7f7f7"
            ],
            [
             0.6,
             "#e6f5d0"
            ],
            [
             0.7,
             "#b8e186"
            ],
            [
             0.8,
             "#7fbc41"
            ],
            [
             0.9,
             "#4d9221"
            ],
            [
             1,
             "#276419"
            ]
           ],
           "sequential": [
            [
             0,
             "#0d0887"
            ],
            [
             0.1111111111111111,
             "#46039f"
            ],
            [
             0.2222222222222222,
             "#7201a8"
            ],
            [
             0.3333333333333333,
             "#9c179e"
            ],
            [
             0.4444444444444444,
             "#bd3786"
            ],
            [
             0.5555555555555556,
             "#d8576b"
            ],
            [
             0.6666666666666666,
             "#ed7953"
            ],
            [
             0.7777777777777778,
             "#fb9f3a"
            ],
            [
             0.8888888888888888,
             "#fdca26"
            ],
            [
             1,
             "#f0f921"
            ]
           ],
           "sequentialminus": [
            [
             0,
             "#0d0887"
            ],
            [
             0.1111111111111111,
             "#46039f"
            ],
            [
             0.2222222222222222,
             "#7201a8"
            ],
            [
             0.3333333333333333,
             "#9c179e"
            ],
            [
             0.4444444444444444,
             "#bd3786"
            ],
            [
             0.5555555555555556,
             "#d8576b"
            ],
            [
             0.6666666666666666,
             "#ed7953"
            ],
            [
             0.7777777777777778,
             "#fb9f3a"
            ],
            [
             0.8888888888888888,
             "#fdca26"
            ],
            [
             1,
             "#f0f921"
            ]
           ]
          },
          "colorway": [
           "#636efa",
           "#EF553B",
           "#00cc96",
           "#ab63fa",
           "#FFA15A",
           "#19d3f3",
           "#FF6692",
           "#B6E880",
           "#FF97FF",
           "#FECB52"
          ],
          "font": {
           "color": "#2a3f5f"
          },
          "geo": {
           "bgcolor": "white",
           "lakecolor": "white",
           "landcolor": "white",
           "showlakes": true,
           "showland": true,
           "subunitcolor": "#C8D4E3"
          },
          "hoverlabel": {
           "align": "left"
          },
          "hovermode": "closest",
          "mapbox": {
           "style": "light"
          },
          "paper_bgcolor": "white",
          "plot_bgcolor": "white",
          "polar": {
           "angularaxis": {
            "gridcolor": "#EBF0F8",
            "linecolor": "#EBF0F8",
            "ticks": ""
           },
           "bgcolor": "white",
           "radialaxis": {
            "gridcolor": "#EBF0F8",
            "linecolor": "#EBF0F8",
            "ticks": ""
           }
          },
          "scene": {
           "xaxis": {
            "backgroundcolor": "white",
            "gridcolor": "#DFE8F3",
            "gridwidth": 2,
            "linecolor": "#EBF0F8",
            "showbackground": true,
            "ticks": "",
            "zerolinecolor": "#EBF0F8"
           },
           "yaxis": {
            "backgroundcolor": "white",
            "gridcolor": "#DFE8F3",
            "gridwidth": 2,
            "linecolor": "#EBF0F8",
            "showbackground": true,
            "ticks": "",
            "zerolinecolor": "#EBF0F8"
           },
           "zaxis": {
            "backgroundcolor": "white",
            "gridcolor": "#DFE8F3",
            "gridwidth": 2,
            "linecolor": "#EBF0F8",
            "showbackground": true,
            "ticks": "",
            "zerolinecolor": "#EBF0F8"
           }
          },
          "shapedefaults": {
           "line": {
            "color": "#2a3f5f"
           }
          },
          "ternary": {
           "aaxis": {
            "gridcolor": "#DFE8F3",
            "linecolor": "#A2B1C6",
            "ticks": ""
           },
           "baxis": {
            "gridcolor": "#DFE8F3",
            "linecolor": "#A2B1C6",
            "ticks": ""
           },
           "bgcolor": "white",
           "caxis": {
            "gridcolor": "#DFE8F3",
            "linecolor": "#A2B1C6",
            "ticks": ""
           }
          },
          "title": {
           "x": 0.05
          },
          "xaxis": {
           "automargin": true,
           "gridcolor": "#EBF0F8",
           "linecolor": "#EBF0F8",
           "ticks": "",
           "title": {
            "standoff": 15
           },
           "zerolinecolor": "#EBF0F8",
           "zerolinewidth": 2
          },
          "yaxis": {
           "automargin": true,
           "gridcolor": "#EBF0F8",
           "linecolor": "#EBF0F8",
           "ticks": "",
           "title": {
            "standoff": 15
           },
           "zerolinecolor": "#EBF0F8",
           "zerolinewidth": 2
          }
         }
        },
        "title": {
         "text": "Empirical CTR (average reward) per action"
        },
        "xaxis": {
         "anchor": "y",
         "domain": [
          0,
          1
         ],
         "tickmode": "array",
         "ticktext": [
          "0",
          "1",
          "2",
          "3",
          "4",
          "5",
          "6",
          "7",
          "8",
          "9",
          "10",
          "11",
          "12",
          "13",
          "14",
          "15",
          "16",
          "17",
          "18",
          "19",
          "20",
          "21",
          "22",
          "23",
          "24",
          "25",
          "26",
          "27",
          "28",
          "29",
          "30",
          "31",
          "32",
          "33",
          "34",
          "35",
          "36",
          "37",
          "38",
          "39",
          "40",
          "41",
          "42",
          "43",
          "44",
          "45",
          "46",
          "47",
          "48",
          "49",
          "50",
          "51",
          "52",
          "53",
          "54",
          "55",
          "56",
          "57",
          "58",
          "59",
          "60",
          "61",
          "62",
          "63",
          "64",
          "65",
          "66",
          "67",
          "68",
          "69",
          "70",
          "71",
          "72",
          "73",
          "74",
          "75",
          "76",
          "77",
          "78",
          "79"
         ],
         "tickvals": {
          "bdata": "AAECAwQFBgcICQoLDA0ODxAREhMUFRYXGBkaGxwdHh8gISIjJCUmJygpKissLS4vMDEyMzQ1Njc4OTo7PD0+P0BBQkNERUZHSElKS0xNTk8=",
          "dtype": "i1"
         },
         "title": {
          "text": "Action ID (0–79)"
         }
        },
        "yaxis": {
         "anchor": "x",
         "domain": [
          0,
          1
         ],
         "title": {
          "text": "Empirical CTR"
         }
        }
       }
      }
     },
     "metadata": {},
     "output_type": "display_data"
    }
   ],
   "source": [
    "import plotly.express as px\n",
    "\n",
    "# compute empirical CTR per action\n",
    "ctr_by_action = df.groupby(\"action\")[\"reward\"].mean().reset_index()\n",
    "ctr_by_action.rename(columns={\"reward\": \"empirical_ctr\"}, inplace=True)\n",
    "\n",
    "# plot\n",
    "fig = px.bar(\n",
    "    ctr_by_action,\n",
    "    x=\"action\",\n",
    "    y=\"empirical_ctr\",\n",
    "    labels={\"action\": \"Action ID\", \"empirical_ctr\": \"Empirical CTR\"},\n",
    "    title=\"Empirical CTR (average reward) per action\",\n",
    ")\n",
    "\n",
    "fig.update_layout(\n",
    "    xaxis=dict(\n",
    "        tickmode=\"array\",\n",
    "        tickvals=ctr_by_action[\"action\"],\n",
    "        ticktext=[str(a) for a in ctr_by_action[\"action\"]],\n",
    "        title=\"Action ID (0–79)\"\n",
    "    ),\n",
    "    yaxis=dict(title=\"Empirical CTR\"),\n",
    "    template=\"plotly_white\",\n",
    "    height=500,\n",
    ")\n",
    "\n",
    "fig.show()"
   ]
  },
  {
   "cell_type": "markdown",
   "id": "da347609",
   "metadata": {},
   "source": [
    "### Every action being equally likely of being chosen"
   ]
  },
  {
   "cell_type": "code",
   "execution_count": 7,
   "id": "60833bf3",
   "metadata": {},
   "outputs": [
    {
     "data": {
      "image/png": "[encoded data removed]",
      "text/plain": [
       "<Figure size 1200x800 with 3 Axes>"
      ]
     },
     "metadata": {},
     "output_type": "display_data"
    }
   ],
   "source": [
    "n_actions = bf[\"n_actions\"]   # 80\n",
    "positions = [0, 1, 2]\n",
    "\n",
    "# Uniform PMF for each position\n",
    "pmfs = {pos: np.ones(n_actions) / n_actions for pos in positions}\n",
    "\n",
    "# Plot\n",
    "fig, axes = plt.subplots(3, 1, figsize=(12, 8), sharex=True)\n",
    "\n",
    "for pos, ax in zip(positions, axes):\n",
    "    ax.bar(np.arange(n_actions), pmfs[pos], color=\"steelblue\")\n",
    "    ax.set_ylabel(f\"P(action) @ pos {pos}\")\n",
    "    ax.set_ylim(0, 0.02)  # ~1/80 = 0.0125\n",
    "axes[-1].set_xlabel(\"Action ID (0–79)\")\n",
    "fig.suptitle(\"Initial uniform probability mass functions (per position)\")\n",
    "plt.tight_layout()\n",
    "plt.show()"
   ]
  },
  {
   "cell_type": "markdown",
   "id": "c2f5c26c",
   "metadata": {},
   "source": [
    "### Round 1 "
   ]
  },
  {
   "cell_type": "markdown",
   "id": "c5457a95",
   "metadata": {},
   "source": [
    "### Initialize alphas and betas"
   ]
  },
  {
   "cell_type": "code",
   "execution_count": 8,
   "id": "e344fbdc",
   "metadata": {},
   "outputs": [],
   "source": [
    "\n",
    "# ---------- Setup ----------\n",
    "n_actions = bf[\"n_actions\"]     # K=80\n",
    "positions = [0, 1, 2]\n",
    "\n",
    "# Priors: Beta(1,1) everywhere (Round 0 state)\n",
    "alpha = {pos: np.ones(n_actions, dtype=float) for pos in positions}\n",
    "beta  =  {pos: np.ones(n_actions, dtype=float) for pos in positions}\n",
    "\n",
    "# ---------- Round 0: before any updates ----------\n",
    "pmf_round0 = {pos: np.full(n_actions, 1.0 / n_actions) for pos in positions}  # uniform\n",
    "df_round0  = make_probs_df(round_num=0, alpha=alpha, beta=beta, pmf_by_pos=pmf_round0)"
   ]
  },
  {
   "cell_type": "markdown",
   "id": "1e584adf",
   "metadata": {},
   "source": [
    "### Sample Observation"
   ]
  },
  {
   "cell_type": "code",
   "execution_count": 9,
   "id": "c1adbf27",
   "metadata": {},
   "outputs": [
    {
     "data": {
      "text/html": [
       "<div>\n",
       "<style scoped>\n",
       "    .dataframe tbody tr th:only-of-type {\n",
       "        vertical-align: middle;\n",
       "    }\n",
       "\n",
       "    .dataframe tbody tr th {\n",
       "        vertical-align: top;\n",
       "    }\n",
       "\n",
       "    .dataframe thead th {\n",
       "        text-align: right;\n",
       "    }\n",
       "</style>\n",
       "<table border=\"1\" class=\"dataframe\">\n",
       "  <thead>\n",
       "    <tr style=\"text-align: right;\">\n",
       "      <th></th>\n",
       "      <th>action</th>\n",
       "      <th>position</th>\n",
       "      <th>reward</th>\n",
       "      <th>pscore</th>\n",
       "    </tr>\n",
       "  </thead>\n",
       "  <tbody>\n",
       "    <tr>\n",
       "      <th>0</th>\n",
       "      <td>12</td>\n",
       "      <td>0</td>\n",
       "      <td>0</td>\n",
       "      <td>0.0125</td>\n",
       "    </tr>\n",
       "    <tr>\n",
       "      <th>1</th>\n",
       "      <td>78</td>\n",
       "      <td>1</td>\n",
       "      <td>0</td>\n",
       "      <td>0.0125</td>\n",
       "    </tr>\n",
       "    <tr>\n",
       "      <th>2</th>\n",
       "      <td>20</td>\n",
       "      <td>2</td>\n",
       "      <td>0</td>\n",
       "      <td>0.0125</td>\n",
       "    </tr>\n",
       "  </tbody>\n",
       "</table>\n",
       "</div>"
      ],
      "text/plain": [
       "   action  position  reward  pscore\n",
       "0      12         0       0  0.0125\n",
       "1      78         1       0  0.0125\n",
       "2      20         2       0  0.0125"
      ]
     },
     "execution_count": 9,
     "metadata": {},
     "output_type": "execute_result"
    }
   ],
   "source": [
    "# ---------- Sample one observation per position from your log DF ----------\n",
    "# NOTE: set random_state=<int> for reproducibility; None for fresh randomness.\n",
    "sampled = (\n",
    "    df.groupby(\"position\", group_keys=False)\n",
    "      .apply(lambda x: x.sample(1, random_state=None))\n",
    "      .reset_index(drop=True)\n",
    ")\n",
    "sampled"
   ]
  },
  {
   "cell_type": "markdown",
   "id": "44a0a11f",
   "metadata": {},
   "source": [
    "### Update based on observations"
   ]
  },
  {
   "cell_type": "code",
   "execution_count": 10,
   "id": "dab09163",
   "metadata": {},
   "outputs": [
    {
     "name": "stdout",
     "output_type": "stream",
     "text": [
      "\n",
      "Updated actions across rounds:\n"
     ]
    },
    {
     "data": {
      "text/html": [
       "<div>\n",
       "<style scoped>\n",
       "    .dataframe tbody tr th:only-of-type {\n",
       "        vertical-align: middle;\n",
       "    }\n",
       "\n",
       "    .dataframe tbody tr th {\n",
       "        vertical-align: top;\n",
       "    }\n",
       "\n",
       "    .dataframe thead th {\n",
       "        text-align: right;\n",
       "    }\n",
       "</style>\n",
       "<table border=\"1\" class=\"dataframe\">\n",
       "  <thead>\n",
       "    <tr style=\"text-align: right;\">\n",
       "      <th></th>\n",
       "      <th>round</th>\n",
       "      <th>action</th>\n",
       "      <th>p_pos0</th>\n",
       "      <th>alpha_pos0</th>\n",
       "      <th>beta_pos0</th>\n",
       "      <th>p_pos1</th>\n",
       "      <th>alpha_pos1</th>\n",
       "      <th>beta_pos1</th>\n",
       "      <th>p_pos2</th>\n",
       "      <th>alpha_pos2</th>\n",
       "      <th>beta_pos2</th>\n",
       "    </tr>\n",
       "  </thead>\n",
       "  <tbody>\n",
       "    <tr>\n",
       "      <th>12</th>\n",
       "      <td>0</td>\n",
       "      <td>12</td>\n",
       "      <td>0.012500</td>\n",
       "      <td>1.0</td>\n",
       "      <td>1.0</td>\n",
       "      <td>0.012500</td>\n",
       "      <td>1.0</td>\n",
       "      <td>1.0</td>\n",
       "      <td>0.012500</td>\n",
       "      <td>1.0</td>\n",
       "      <td>1.0</td>\n",
       "    </tr>\n",
       "    <tr>\n",
       "      <th>20</th>\n",
       "      <td>0</td>\n",
       "      <td>20</td>\n",
       "      <td>0.012500</td>\n",
       "      <td>1.0</td>\n",
       "      <td>1.0</td>\n",
       "      <td>0.012500</td>\n",
       "      <td>1.0</td>\n",
       "      <td>1.0</td>\n",
       "      <td>0.012500</td>\n",
       "      <td>1.0</td>\n",
       "      <td>1.0</td>\n",
       "    </tr>\n",
       "    <tr>\n",
       "      <th>78</th>\n",
       "      <td>0</td>\n",
       "      <td>78</td>\n",
       "      <td>0.012500</td>\n",
       "      <td>1.0</td>\n",
       "      <td>1.0</td>\n",
       "      <td>0.012500</td>\n",
       "      <td>1.0</td>\n",
       "      <td>1.0</td>\n",
       "      <td>0.012500</td>\n",
       "      <td>1.0</td>\n",
       "      <td>1.0</td>\n",
       "    </tr>\n",
       "    <tr>\n",
       "      <th>92</th>\n",
       "      <td>1</td>\n",
       "      <td>12</td>\n",
       "      <td>0.000309</td>\n",
       "      <td>1.0</td>\n",
       "      <td>2.0</td>\n",
       "      <td>0.012654</td>\n",
       "      <td>1.0</td>\n",
       "      <td>1.0</td>\n",
       "      <td>0.012654</td>\n",
       "      <td>1.0</td>\n",
       "      <td>1.0</td>\n",
       "    </tr>\n",
       "    <tr>\n",
       "      <th>100</th>\n",
       "      <td>1</td>\n",
       "      <td>20</td>\n",
       "      <td>0.012654</td>\n",
       "      <td>1.0</td>\n",
       "      <td>1.0</td>\n",
       "      <td>0.012654</td>\n",
       "      <td>1.0</td>\n",
       "      <td>1.0</td>\n",
       "      <td>0.000309</td>\n",
       "      <td>1.0</td>\n",
       "      <td>2.0</td>\n",
       "    </tr>\n",
       "    <tr>\n",
       "      <th>158</th>\n",
       "      <td>1</td>\n",
       "      <td>78</td>\n",
       "      <td>0.012654</td>\n",
       "      <td>1.0</td>\n",
       "      <td>1.0</td>\n",
       "      <td>0.000309</td>\n",
       "      <td>1.0</td>\n",
       "      <td>2.0</td>\n",
       "      <td>0.012654</td>\n",
       "      <td>1.0</td>\n",
       "      <td>1.0</td>\n",
       "    </tr>\n",
       "  </tbody>\n",
       "</table>\n",
       "</div>"
      ],
      "text/plain": [
       "     round  action    p_pos0  alpha_pos0  beta_pos0    p_pos1  alpha_pos1  \\\n",
       "12       0      12  0.012500         1.0        1.0  0.012500         1.0   \n",
       "20       0      20  0.012500         1.0        1.0  0.012500         1.0   \n",
       "78       0      78  0.012500         1.0        1.0  0.012500         1.0   \n",
       "92       1      12  0.000309         1.0        2.0  0.012654         1.0   \n",
       "100      1      20  0.012654         1.0        1.0  0.012654         1.0   \n",
       "158      1      78  0.012654         1.0        1.0  0.000309         1.0   \n",
       "\n",
       "     beta_pos1    p_pos2  alpha_pos2  beta_pos2  \n",
       "12         1.0  0.012500         1.0        1.0  \n",
       "20         1.0  0.012500         1.0        1.0  \n",
       "78         1.0  0.012500         1.0        1.0  \n",
       "92         1.0  0.012654         1.0        1.0  \n",
       "100        1.0  0.000309         1.0        2.0  \n",
       "158        2.0  0.012654         1.0        1.0  "
      ]
     },
     "execution_count": 10,
     "metadata": {},
     "output_type": "execute_result"
    }
   ],
   "source": [
    "# ---------- Round 1: apply sampled updates ----------\n",
    "for _, r in sampled.iterrows():\n",
    "    a_obs = int(r[\"action\"])\n",
    "    p_obs = int(r[\"position\"])\n",
    "    r_obs = int(r[\"reward\"])\n",
    "    alpha[p_obs][a_obs] += r_obs\n",
    "    beta[p_obs][a_obs]  += (1 - r_obs)\n",
    "\n",
    "\n",
    "\n",
    "\n",
    "# Build PMFs after the (one) update at each position (closed-form)\n",
    "pmf_round1 = {}\n",
    "for pos in positions:\n",
    "    obs_row = sampled.loc[sampled[\"position\"] == pos].iloc[0]\n",
    "    pmf_round1[pos] = exact_pmf_one_update(\n",
    "        K=n_actions,\n",
    "        updated_arm=int(obs_row[\"action\"]),\n",
    "        reward=int(obs_row[\"reward\"]),\n",
    "    )\n",
    "\n",
    "df_round1 = make_probs_df(round_num=1, alpha=alpha, beta=beta, pmf_by_pos=pmf_round1)\n",
    "\n",
    "\n",
    "\n",
    "\n",
    "# ---------- Combine rounds for tracking ----------\n",
    "df_probs_all_rounds = pd.concat([df_round0, df_round1], ignore_index=True)\n",
    "\n",
    "# Peek: show just the three updated actions across rounds\n",
    "updated_actions = sampled[\"action\"].tolist()\n",
    "print(\"\\nUpdated actions across rounds:\")\n",
    "df_probs_all_rounds[df_probs_all_rounds[\"action\"].isin(updated_actions)].sort_values([\"round\",\"action\"])\n"
   ]
  },
  {
   "cell_type": "code",
   "execution_count": 11,
   "id": "3b4f5578",
   "metadata": {},
   "outputs": [
    {
     "name": "stdout",
     "output_type": "stream",
     "text": [
      "Sampled (one row per position):\n",
      "   action  position  reward  pscore\n",
      "0      12         0       0  0.0125\n",
      "1      78         1       0  0.0125\n",
      "2      20         2       0  0.0125\n"
     ]
    },
    {
     "data": {
      "application/vnd.plotly.v1+json": {
       "config": {
        "plotlyServerURL": "https://plot.ly"
       },
       "data": [
        {
         "customdata": {
          "bdata": "AAAAAAAAAAAAAAAAAAAAAAAAAAAAAAAAAAAAAAAAAAAAAAAAAAAAAAAAAAAAAAAAAAAAAAAAAAAAAAAAAAAAAAAAAAAAAAAAAAAAAAAAAAA=",
          "dtype": "i1",
          "shape": "80, 1"
         },
         "hovertemplate": "Position: %{customdata[0]}<br>Action: %{x}<br>Round: 0<br>P: %{y:.6f}<extra></extra>",
         "legendgroup": "round0",
         "marker": {
          "color": "steelblue"
         },
         "name": "Round 0 (uniform)",
         "opacity": 0.6,
         "showlegend": true,
         "type": "bar",
         "x": {
          "bdata": "AAECAwQFBgcICQoLDA0ODxAREhMUFRYXGBkaGxwdHh8gISIjJCUmJygpKissLS4vMDEyMzQ1Njc4OTo7PD0+P0BBQkNERUZHSElKS0xNTk8=",
          "dtype": "i1"
         },
         "xaxis": "x",
         "y": {
          "bdata": "mpmZmZmZiT+amZmZmZmJP5qZmZmZmYk/mpmZmZmZiT+amZmZmZmJP5qZmZmZmYk/mpmZmZmZiT+amZmZmZmJP5qZmZmZmYk/mpmZmZmZiT+amZmZmZmJP5qZmZmZmYk/mpmZmZmZiT+amZmZmZmJP5qZmZmZmYk/mpmZmZmZiT+amZmZmZmJP5qZmZmZmYk/mpmZmZmZiT+amZmZmZmJP5qZmZmZmYk/mpmZmZmZiT+amZmZmZmJP5qZmZmZmYk/mpmZmZmZiT+amZmZmZmJP5qZmZmZmYk/mpmZmZmZiT+amZmZmZmJP5qZmZmZmYk/mpmZmZmZiT+amZmZmZmJP5qZmZmZmYk/mpmZmZmZiT+amZmZmZmJP5qZmZmZmYk/mpmZmZmZiT+amZmZmZmJP5qZmZmZmYk/mpmZmZmZiT+amZmZmZmJP5qZmZmZmYk/mpmZmZmZiT+amZmZmZmJP5qZmZmZmYk/mpmZmZmZiT+amZmZmZmJP5qZmZmZmYk/mpmZmZmZiT+amZmZmZmJP5qZmZmZmYk/mpmZmZmZiT+amZmZmZmJP5qZmZmZmYk/mpmZmZmZiT+amZmZmZmJP5qZmZmZmYk/mpmZmZmZiT+amZmZmZmJP5qZmZmZmYk/mpmZmZmZiT+amZmZmZmJP5qZmZmZmYk/mpmZmZmZiT+amZmZmZmJP5qZmZmZmYk/mpmZmZmZiT+amZmZmZmJP5qZmZmZmYk/mpmZmZmZiT+amZmZmZmJP5qZmZmZmYk/mpmZmZmZiT+amZmZmZmJP5qZmZmZmYk/mpmZmZmZiT+amZmZmZmJP5qZmZmZmYk/mpmZmZmZiT+amZmZmZmJPw==",
          "dtype": "f8"
         },
         "yaxis": "y"
        },
        {
         "customdata": {
          "bdata": "AAAAAAAAAAAAAAAAAAAAAAAAAAAAAAAAAAAAAAAAAAAAAAAAAAAAAAAAAAAAAAAAAAAAAAAAAAAAAAAAAAAAAAAAAAAAAAAAAAAAAAAAAAA=",
          "dtype": "i1",
          "shape": "80, 1"
         },
         "hovertemplate": "Position: %{customdata[0]}<br>Action: %{x}<br>Round: 1<br>P: %{y:.6f}<extra></extra>",
         "legendgroup": "round1",
         "marker": {
          "color": "darkorange"
         },
         "name": "Round 1 (updated)",
         "opacity": 0.8,
         "showlegend": true,
         "type": "bar",
         "x": {
          "bdata": "AAECAwQFBgcICQoLDA0ODxAREhMUFRYXGBkaGxwdHh8gISIjJCUmJygpKissLS4vMDEyMzQ1Njc4OTo7PD0+P0BBQkNERUZHSElKS0xNTk8=",
          "dtype": "i1"
         },
         "xaxis": "x",
         "y": {
          "bdata": "U0lcNoLqiT9TSVw2guqJP1NJXDaC6ok/U0lcNoLqiT9TSVw2guqJP1NJXDaC6ok/U0lcNoLqiT9TSVw2guqJP1NJXDaC6ok/U0lcNoLqiT9TSVw2guqJP1NJXDaC6ok/Te6rMCc6ND9TSVw2guqJP1NJXDaC6ok/U0lcNoLqiT9TSVw2guqJP1NJXDaC6ok/U0lcNoLqiT9TSVw2guqJP1NJXDaC6ok/U0lcNoLqiT9TSVw2guqJP1NJXDaC6ok/U0lcNoLqiT9TSVw2guqJP1NJXDaC6ok/U0lcNoLqiT9TSVw2guqJP1NJXDaC6ok/U0lcNoLqiT9TSVw2guqJP1NJXDaC6ok/U0lcNoLqiT9TSVw2guqJP1NJXDaC6ok/U0lcNoLqiT9TSVw2guqJP1NJXDaC6ok/U0lcNoLqiT9TSVw2guqJP1NJXDaC6ok/U0lcNoLqiT9TSVw2guqJP1NJXDaC6ok/U0lcNoLqiT9TSVw2guqJP1NJXDaC6ok/U0lcNoLqiT9TSVw2guqJP1NJXDaC6ok/U0lcNoLqiT9TSVw2guqJP1NJXDaC6ok/U0lcNoLqiT9TSVw2guqJP1NJXDaC6ok/U0lcNoLqiT9TSVw2guqJP1NJXDaC6ok/U0lcNoLqiT9TSVw2guqJP1NJXDaC6ok/U0lcNoLqiT9TSVw2guqJP1NJXDaC6ok/U0lcNoLqiT9TSVw2guqJP1NJXDaC6ok/U0lcNoLqiT9TSVw2guqJP1NJXDaC6ok/U0lcNoLqiT9TSVw2guqJP1NJXDaC6ok/U0lcNoLqiT9TSVw2guqJP1NJXDaC6ok/U0lcNoLqiT9TSVw2guqJPw==",
          "dtype": "f8"
         },
         "yaxis": "y"
        },
        {
         "customdata": {
          "bdata": "AQEBAQEBAQEBAQEBAQEBAQEBAQEBAQEBAQEBAQEBAQEBAQEBAQEBAQEBAQEBAQEBAQEBAQEBAQEBAQEBAQEBAQEBAQEBAQEBAQEBAQEBAQE=",
          "dtype": "i1",
          "shape": "80, 1"
         },
         "hovertemplate": "Position: %{customdata[0]}<br>Action: %{x}<br>Round: 0<br>P: %{y:.6f}<extra></extra>",
         "legendgroup": "round0",
         "marker": {
          "color": "steelblue"
         },
         "name": "Round 0 (uniform)",
         "opacity": 0.6,
         "showlegend": false,
         "type": "bar",
         "x": {
          "bdata": "AAECAwQFBgcICQoLDA0ODxAREhMUFRYXGBkaGxwdHh8gISIjJCUmJygpKissLS4vMDEyMzQ1Njc4OTo7PD0+P0BBQkNERUZHSElKS0xNTk8=",
          "dtype": "i1"
         },
         "xaxis": "x2",
         "y": {
          "bdata": "mpmZmZmZiT+amZmZmZmJP5qZmZmZmYk/mpmZmZmZiT+amZmZmZmJP5qZmZmZmYk/mpmZmZmZiT+amZmZmZmJP5qZmZmZmYk/mpmZmZmZiT+amZmZmZmJP5qZmZmZmYk/mpmZmZmZiT+amZmZmZmJP5qZmZmZmYk/mpmZmZmZiT+amZmZmZmJP5qZmZmZmYk/mpmZmZmZiT+amZmZmZmJP5qZmZmZmYk/mpmZmZmZiT+amZmZmZmJP5qZmZmZmYk/mpmZmZmZiT+amZmZmZmJP5qZmZmZmYk/mpmZmZmZiT+amZmZmZmJP5qZmZmZmYk/mpmZmZmZiT+amZmZmZmJP5qZmZmZmYk/mpmZmZmZiT+amZmZmZmJP5qZmZmZmYk/mpmZmZmZiT+amZmZmZmJP5qZmZmZmYk/mpmZmZmZiT+amZmZmZmJP5qZmZmZmYk/mpmZmZmZiT+amZmZmZmJP5qZmZmZmYk/mpmZmZmZiT+amZmZmZmJP5qZmZmZmYk/mpmZmZmZiT+amZmZmZmJP5qZmZmZmYk/mpmZmZmZiT+amZmZmZmJP5qZmZmZmYk/mpmZmZmZiT+amZmZmZmJP5qZmZmZmYk/mpmZmZmZiT+amZmZmZmJP5qZmZmZmYk/mpmZmZmZiT+amZmZmZmJP5qZmZmZmYk/mpmZmZmZiT+amZmZmZmJP5qZmZmZmYk/mpmZmZmZiT+amZmZmZmJP5qZmZmZmYk/mpmZmZmZiT+amZmZmZmJP5qZmZmZmYk/mpmZmZmZiT+amZmZmZmJP5qZmZmZmYk/mpmZmZmZiT+amZmZmZmJP5qZmZmZmYk/mpmZmZmZiT+amZmZmZmJPw==",
          "dtype": "f8"
         },
         "yaxis": "y2"
        },
        {
         "customdata": {
          "bdata": "AQEBAQEBAQEBAQEBAQEBAQEBAQEBAQEBAQEBAQEBAQEBAQEBAQEBAQEBAQEBAQEBAQEBAQEBAQEBAQEBAQEBAQEBAQEBAQEBAQEBAQEBAQE=",
          "dtype": "i1",
          "shape": "80, 1"
         },
         "hovertemplate": "Position: %{customdata[0]}<br>Action: %{x}<br>Round: 1<br>P: %{y:.6f}<extra></extra>",
         "legendgroup": "round1",
         "marker": {
          "color": "darkorange"
         },
         "name": "Round 1 (updated)",
         "opacity": 0.8,
         "showlegend": false,
         "type": "bar",
         "x": {
          "bdata": "AAECAwQFBgcICQoLDA0ODxAREhMUFRYXGBkaGxwdHh8gISIjJCUmJygpKissLS4vMDEyMzQ1Njc4OTo7PD0+P0BBQkNERUZHSElKS0xNTk8=",
          "dtype": "i1"
         },
         "xaxis": "x2",
         "y": {
          "bdata": "U0lcNoLqiT9TSVw2guqJP1NJXDaC6ok/U0lcNoLqiT9TSVw2guqJP1NJXDaC6ok/U0lcNoLqiT9TSVw2guqJP1NJXDaC6ok/U0lcNoLqiT9TSVw2guqJP1NJXDaC6ok/U0lcNoLqiT9TSVw2guqJP1NJXDaC6ok/U0lcNoLqiT9TSVw2guqJP1NJXDaC6ok/U0lcNoLqiT9TSVw2guqJP1NJXDaC6ok/U0lcNoLqiT9TSVw2guqJP1NJXDaC6ok/U0lcNoLqiT9TSVw2guqJP1NJXDaC6ok/U0lcNoLqiT9TSVw2guqJP1NJXDaC6ok/U0lcNoLqiT9TSVw2guqJP1NJXDaC6ok/U0lcNoLqiT9TSVw2guqJP1NJXDaC6ok/U0lcNoLqiT9TSVw2guqJP1NJXDaC6ok/U0lcNoLqiT9TSVw2guqJP1NJXDaC6ok/U0lcNoLqiT9TSVw2guqJP1NJXDaC6ok/U0lcNoLqiT9TSVw2guqJP1NJXDaC6ok/U0lcNoLqiT9TSVw2guqJP1NJXDaC6ok/U0lcNoLqiT9TSVw2guqJP1NJXDaC6ok/U0lcNoLqiT9TSVw2guqJP1NJXDaC6ok/U0lcNoLqiT9TSVw2guqJP1NJXDaC6ok/U0lcNoLqiT9TSVw2guqJP1NJXDaC6ok/U0lcNoLqiT9TSVw2guqJP1NJXDaC6ok/U0lcNoLqiT9TSVw2guqJP1NJXDaC6ok/U0lcNoLqiT9TSVw2guqJP1NJXDaC6ok/U0lcNoLqiT9TSVw2guqJP1NJXDaC6ok/U0lcNoLqiT9TSVw2guqJP1NJXDaC6ok/Te6rMCc6ND9TSVw2guqJPw==",
          "dtype": "f8"
         },
         "yaxis": "y2"
        },
        {
         "customdata": {
          "bdata": "AgICAgICAgICAgICAgICAgICAgICAgICAgICAgICAgICAgICAgICAgICAgICAgICAgICAgICAgICAgICAgICAgICAgICAgICAgICAgICAgI=",
          "dtype": "i1",
          "shape": "80, 1"
         },
         "hovertemplate": "Position: %{customdata[0]}<br>Action: %{x}<br>Round: 0<br>P: %{y:.6f}<extra></extra>",
         "legendgroup": "round0",
         "marker": {
          "color": "steelblue"
         },
         "name": "Round 0 (uniform)",
         "opacity": 0.6,
         "showlegend": false,
         "type": "bar",
         "x": {
          "bdata": "AAECAwQFBgcICQoLDA0ODxAREhMUFRYXGBkaGxwdHh8gISIjJCUmJygpKissLS4vMDEyMzQ1Njc4OTo7PD0+P0BBQkNERUZHSElKS0xNTk8=",
          "dtype": "i1"
         },
         "xaxis": "x3",
         "y": {
          "bdata": "mpmZmZmZiT+amZmZmZmJP5qZmZmZmYk/mpmZmZmZiT+amZmZmZmJP5qZmZmZmYk/mpmZmZmZiT+amZmZmZmJP5qZmZmZmYk/mpmZmZmZiT+amZmZmZmJP5qZmZmZmYk/mpmZmZmZiT+amZmZmZmJP5qZmZmZmYk/mpmZmZmZiT+amZmZmZmJP5qZmZmZmYk/mpmZmZmZiT+amZmZmZmJP5qZmZmZmYk/mpmZmZmZiT+amZmZmZmJP5qZmZmZmYk/mpmZmZmZiT+amZmZmZmJP5qZmZmZmYk/mpmZmZmZiT+amZmZmZmJP5qZmZmZmYk/mpmZmZmZiT+amZmZmZmJP5qZmZmZmYk/mpmZmZmZiT+amZmZmZmJP5qZmZmZmYk/mpmZmZmZiT+amZmZmZmJP5qZmZmZmYk/mpmZmZmZiT+amZmZmZmJP5qZmZmZmYk/mpmZmZmZiT+amZmZmZmJP5qZmZmZmYk/mpmZmZmZiT+amZmZmZmJP5qZmZmZmYk/mpmZmZmZiT+amZmZmZmJP5qZmZmZmYk/mpmZmZmZiT+amZmZmZmJP5qZmZmZmYk/mpmZmZmZiT+amZmZmZmJP5qZmZmZmYk/mpmZmZmZiT+amZmZmZmJP5qZmZmZmYk/mpmZmZmZiT+amZmZmZmJP5qZmZmZmYk/mpmZmZmZiT+amZmZmZmJP5qZmZmZmYk/mpmZmZmZiT+amZmZmZmJP5qZmZmZmYk/mpmZmZmZiT+amZmZmZmJP5qZmZmZmYk/mpmZmZmZiT+amZmZmZmJP5qZmZmZmYk/mpmZmZmZiT+amZmZmZmJP5qZmZmZmYk/mpmZmZmZiT+amZmZmZmJPw==",
          "dtype": "f8"
         },
         "yaxis": "y3"
        },
        {
         "customdata": {
          "bdata": "AgICAgICAgICAgICAgICAgICAgICAgICAgICAgICAgICAgICAgICAgICAgICAgICAgICAgICAgICAgICAgICAgICAgICAgICAgICAgICAgI=",
          "dtype": "i1",
          "shape": "80, 1"
         },
         "hovertemplate": "Position: %{customdata[0]}<br>Action: %{x}<br>Round: 1<br>P: %{y:.6f}<extra></extra>",
         "legendgroup": "round1",
         "marker": {
          "color": "darkorange"
         },
         "name": "Round 1 (updated)",
         "opacity": 0.8,
         "showlegend": false,
         "type": "bar",
         "x": {
          "bdata": "AAECAwQFBgcICQoLDA0ODxAREhMUFRYXGBkaGxwdHh8gISIjJCUmJygpKissLS4vMDEyMzQ1Njc4OTo7PD0+P0BBQkNERUZHSElKS0xNTk8=",
          "dtype": "i1"
         },
         "xaxis": "x3",
         "y": {
          "bdata": "U0lcNoLqiT9TSVw2guqJP1NJXDaC6ok/U0lcNoLqiT9TSVw2guqJP1NJXDaC6ok/U0lcNoLqiT9TSVw2guqJP1NJXDaC6ok/U0lcNoLqiT9TSVw2guqJP1NJXDaC6ok/U0lcNoLqiT9TSVw2guqJP1NJXDaC6ok/U0lcNoLqiT9TSVw2guqJP1NJXDaC6ok/U0lcNoLqiT9TSVw2guqJP03uqzAnOjQ/U0lcNoLqiT9TSVw2guqJP1NJXDaC6ok/U0lcNoLqiT9TSVw2guqJP1NJXDaC6ok/U0lcNoLqiT9TSVw2guqJP1NJXDaC6ok/U0lcNoLqiT9TSVw2guqJP1NJXDaC6ok/U0lcNoLqiT9TSVw2guqJP1NJXDaC6ok/U0lcNoLqiT9TSVw2guqJP1NJXDaC6ok/U0lcNoLqiT9TSVw2guqJP1NJXDaC6ok/U0lcNoLqiT9TSVw2guqJP1NJXDaC6ok/U0lcNoLqiT9TSVw2guqJP1NJXDaC6ok/U0lcNoLqiT9TSVw2guqJP1NJXDaC6ok/U0lcNoLqiT9TSVw2guqJP1NJXDaC6ok/U0lcNoLqiT9TSVw2guqJP1NJXDaC6ok/U0lcNoLqiT9TSVw2guqJP1NJXDaC6ok/U0lcNoLqiT9TSVw2guqJP1NJXDaC6ok/U0lcNoLqiT9TSVw2guqJP1NJXDaC6ok/U0lcNoLqiT9TSVw2guqJP1NJXDaC6ok/U0lcNoLqiT9TSVw2guqJP1NJXDaC6ok/U0lcNoLqiT9TSVw2guqJP1NJXDaC6ok/U0lcNoLqiT9TSVw2guqJP1NJXDaC6ok/U0lcNoLqiT9TSVw2guqJPw==",
          "dtype": "f8"
         },
         "yaxis": "y3"
        }
       ],
       "layout": {
        "annotations": [
         {
          "font": {
           "size": 16
          },
          "showarrow": false,
          "text": "Position 0",
          "x": 0.5,
          "xanchor": "center",
          "xref": "paper",
          "y": 1,
          "yanchor": "bottom",
          "yref": "paper"
         },
         {
          "font": {
           "size": 16
          },
          "showarrow": false,
          "text": "Position 1",
          "x": 0.5,
          "xanchor": "center",
          "xref": "paper",
          "y": 0.6399999999999999,
          "yanchor": "bottom",
          "yref": "paper"
         },
         {
          "font": {
           "size": 16
          },
          "showarrow": false,
          "text": "Position 2",
          "x": 0.5,
          "xanchor": "center",
          "xref": "paper",
          "y": 0.27999999999999997,
          "yanchor": "bottom",
          "yref": "paper"
         }
        ],
        "bargap": 0.15,
        "barmode": "group",
        "height": 900,
        "template": {
         "data": {
          "bar": [
           {
            "error_x": {
             "color": "#2a3f5f"
            },
            "error_y": {
             "color": "#2a3f5f"
            },
            "marker": {
             "line": {
              "color": "white",
              "width": 0.5
             },
             "pattern": {
              "fillmode": "overlay",
              "size": 10,
              "solidity": 0.2
             }
            },
            "type": "bar"
           }
          ],
          "barpolar": [
           {
            "marker": {
             "line": {
              "color": "white",
              "width": 0.5
             },
             "pattern": {
              "fillmode": "overlay",
              "size": 10,
              "solidity": 0.2
             }
            },
            "type": "barpolar"
           }
          ],
          "carpet": [
           {
            "aaxis": {
             "endlinecolor": "#2a3f5f",
             "gridcolor": "#C8D4E3",
             "linecolor": "#C8D4E3",
             "minorgridcolor": "#C8D4E3",
             "startlinecolor": "#2a3f5f"
            },
            "baxis": {
             "endlinecolor": "#2a3f5f",
             "gridcolor": "#C8D4E3",
             "linecolor": "#C8D4E3",
             "minorgridcolor": "#C8D4E3",
             "startlinecolor": "#2a3f5f"
            },
            "type": "carpet"
           }
          ],
          "choropleth": [
           {
            "colorbar": {
             "outlinewidth": 0,
             "ticks": ""
            },
            "type": "choropleth"
           }
          ],
          "contour": [
           {
            "colorbar": {
             "outlinewidth": 0,
             "ticks": ""
            },
            "colorscale": [
             [
              0,
              "#0d0887"
             ],
             [
              0.1111111111111111,
              "#46039f"
             ],
             [
              0.2222222222222222,
              "#7201a8"
             ],
             [
              0.3333333333333333,
              "#9c179e"
             ],
             [
              0.4444444444444444,
              "#bd3786"
             ],
             [
              0.5555555555555556,
              "#d8576b"
             ],
             [
              0.6666666666666666,
              "#ed7953"
             ],
             [
              0.7777777777777778,
              "#fb9f3a"
             ],
             [
              0.8888888888888888,
              "#fdca26"
             ],
             [
              1,
              "#f0f921"
             ]
            ],
            "type": "contour"
           }
          ],
          "contourcarpet": [
           {
            "colorbar": {
             "outlinewidth": 0,
             "ticks": ""
            },
            "type": "contourcarpet"
           }
          ],
          "heatmap": [
           {
            "colorbar": {
             "outlinewidth": 0,
             "ticks": ""
            },
            "colorscale": [
             [
              0,
              "#0d0887"
             ],
             [
              0.1111111111111111,
              "#46039f"
             ],
             [
              0.2222222222222222,
              "#7201a8"
             ],
             [
              0.3333333333333333,
              "#9c179e"
             ],
             [
              0.4444444444444444,
              "#bd3786"
             ],
             [
              0.5555555555555556,
              "#d8576b"
             ],
             [
              0.6666666666666666,
              "#ed7953"
             ],
             [
              0.7777777777777778,
              "#fb9f3a"
             ],
             [
              0.8888888888888888,
              "#fdca26"
             ],
             [
              1,
              "#f0f921"
             ]
            ],
            "type": "heatmap"
           }
          ],
          "histogram": [
           {
            "marker": {
             "pattern": {
              "fillmode": "overlay",
              "size": 10,
              "solidity": 0.2
             }
            },
            "type": "histogram"
           }
          ],
          "histogram2d": [
           {
            "colorbar": {
             "outlinewidth": 0,
             "ticks": ""
            },
            "colorscale": [
             [
              0,
              "#0d0887"
             ],
             [
              0.1111111111111111,
              "#46039f"
             ],
             [
              0.2222222222222222,
              "#7201a8"
             ],
             [
              0.3333333333333333,
              "#9c179e"
             ],
             [
              0.4444444444444444,
              "#bd3786"
             ],
             [
              0.5555555555555556,
              "#d8576b"
             ],
             [
              0.6666666666666666,
              "#ed7953"
             ],
             [
              0.7777777777777778,
              "#fb9f3a"
             ],
             [
              0.8888888888888888,
              "#fdca26"
             ],
             [
              1,
              "#f0f921"
             ]
            ],
            "type": "histogram2d"
           }
          ],
          "histogram2dcontour": [
           {
            "colorbar": {
             "outlinewidth": 0,
             "ticks": ""
            },
            "colorscale": [
             [
              0,
              "#0d0887"
             ],
             [
              0.1111111111111111,
              "#46039f"
             ],
             [
              0.2222222222222222,
              "#7201a8"
             ],
             [
              0.3333333333333333,
              "#9c179e"
             ],
             [
              0.4444444444444444,
              "#bd3786"
             ],
             [
              0.5555555555555556,
              "#d8576b"
             ],
             [
              0.6666666666666666,
              "#ed7953"
             ],
             [
              0.7777777777777778,
              "#fb9f3a"
             ],
             [
              0.8888888888888888,
              "#fdca26"
             ],
             [
              1,
              "#f0f921"
             ]
            ],
            "type": "histogram2dcontour"
           }
          ],
          "mesh3d": [
           {
            "colorbar": {
             "outlinewidth": 0,
             "ticks": ""
            },
            "type": "mesh3d"
           }
          ],
          "parcoords": [
           {
            "line": {
             "colorbar": {
              "outlinewidth": 0,
              "ticks": ""
             }
            },
            "type": "parcoords"
           }
          ],
          "pie": [
           {
            "automargin": true,
            "type": "pie"
           }
          ],
          "scatter": [
           {
            "fillpattern": {
             "fillmode": "overlay",
             "size": 10,
             "solidity": 0.2
            },
            "type": "scatter"
           }
          ],
          "scatter3d": [
           {
            "line": {
             "colorbar": {
              "outlinewidth": 0,
              "ticks": ""
             }
            },
            "marker": {
             "colorbar": {
              "outlinewidth": 0,
              "ticks": ""
             }
            },
            "type": "scatter3d"
           }
          ],
          "scattercarpet": [
           {
            "marker": {
             "colorbar": {
              "outlinewidth": 0,
              "ticks": ""
             }
            },
            "type": "scattercarpet"
           }
          ],
          "scattergeo": [
           {
            "marker": {
             "colorbar": {
              "outlinewidth": 0,
              "ticks": ""
             }
            },
            "type": "scattergeo"
           }
          ],
          "scattergl": [
           {
            "marker": {
             "colorbar": {
              "outlinewidth": 0,
              "ticks": ""
             }
            },
            "type": "scattergl"
           }
          ],
          "scattermap": [
           {
            "marker": {
             "colorbar": {
              "outlinewidth": 0,
              "ticks": ""
             }
            },
            "type": "scattermap"
           }
          ],
          "scattermapbox": [
           {
            "marker": {
             "colorbar": {
              "outlinewidth": 0,
              "ticks": ""
             }
            },
            "type": "scattermapbox"
           }
          ],
          "scatterpolar": [
           {
            "marker": {
             "colorbar": {
              "outlinewidth": 0,
              "ticks": ""
             }
            },
            "type": "scatterpolar"
           }
          ],
          "scatterpolargl": [
           {
            "marker": {
             "colorbar": {
              "outlinewidth": 0,
              "ticks": ""
             }
            },
            "type": "scatterpolargl"
           }
          ],
          "scatterternary": [
           {
            "marker": {
             "colorbar": {
              "outlinewidth": 0,
              "ticks": ""
             }
            },
            "type": "scatterternary"
           }
          ],
          "surface": [
           {
            "colorbar": {
             "outlinewidth": 0,
             "ticks": ""
            },
            "colorscale": [
             [
              0,
              "#0d0887"
             ],
             [
              0.1111111111111111,
              "#46039f"
             ],
             [
              0.2222222222222222,
              "#7201a8"
             ],
             [
              0.3333333333333333,
              "#9c179e"
             ],
             [
              0.4444444444444444,
              "#bd3786"
             ],
             [
              0.5555555555555556,
              "#d8576b"
             ],
             [
              0.6666666666666666,
              "#ed7953"
             ],
             [
              0.7777777777777778,
              "#fb9f3a"
             ],
             [
              0.8888888888888888,
              "#fdca26"
             ],
             [
              1,
              "#f0f921"
             ]
            ],
            "type": "surface"
           }
          ],
          "table": [
           {
            "cells": {
             "fill": {
              "color": "#EBF0F8"
             },
             "line": {
              "color": "white"
             }
            },
            "header": {
             "fill": {
              "color": "#C8D4E3"
             },
             "line": {
              "color": "white"
             }
            },
            "type": "table"
           }
          ]
         },
         "layout": {
          "annotationdefaults": {
           "arrowcolor": "#2a3f5f",
           "arrowhead": 0,
           "arrowwidth": 1
          },
          "autotypenumbers": "strict",
          "coloraxis": {
           "colorbar": {
            "outlinewidth": 0,
            "ticks": ""
           }
          },
          "colorscale": {
           "diverging": [
            [
             0,
             "#8e0152"
            ],
            [
             0.1,
             "#c51b7d"
            ],
            [
             0.2,
             "#de77ae"
            ],
            [
             0.3,
             "#f1b6da"
            ],
            [
             0.4,
             "#fde0ef"
            ],
            [
             0.5,
             "#f7f7f7"
            ],
            [
             0.6,
             "#e6f5d0"
            ],
            [
             0.7,
             "#b8e186"
            ],
            [
             0.8,
             "#7fbc41"
            ],
            [
             0.9,
             "#4d9221"
            ],
            [
             1,
             "#276419"
            ]
           ],
           "sequential": [
            [
             0,
             "#0d0887"
            ],
            [
             0.1111111111111111,
             "#46039f"
            ],
            [
             0.2222222222222222,
             "#7201a8"
            ],
            [
             0.3333333333333333,
             "#9c179e"
            ],
            [
             0.4444444444444444,
             "#bd3786"
            ],
            [
             0.5555555555555556,
             "#d8576b"
            ],
            [
             0.6666666666666666,
             "#ed7953"
            ],
            [
             0.7777777777777778,
             "#fb9f3a"
            ],
            [
             0.8888888888888888,
             "#fdca26"
            ],
            [
             1,
             "#f0f921"
            ]
           ],
           "sequentialminus": [
            [
             0,
             "#0d0887"
            ],
            [
             0.1111111111111111,
             "#46039f"
            ],
            [
             0.2222222222222222,
             "#7201a8"
            ],
            [
             0.3333333333333333,
             "#9c179e"
            ],
            [
             0.4444444444444444,
             "#bd3786"
            ],
            [
             0.5555555555555556,
             "#d8576b"
            ],
            [
             0.6666666666666666,
             "#ed7953"
            ],
            [
             0.7777777777777778,
             "#fb9f3a"
            ],
            [
             0.8888888888888888,
             "#fdca26"
            ],
            [
             1,
             "#f0f921"
            ]
           ]
          },
          "colorway": [
           "#636efa",
           "#EF553B",
           "#00cc96",
           "#ab63fa",
           "#FFA15A",
           "#19d3f3",
           "#FF6692",
           "#B6E880",
           "#FF97FF",
           "#FECB52"
          ],
          "font": {
           "color": "#2a3f5f"
          },
          "geo": {
           "bgcolor": "white",
           "lakecolor": "white",
           "landcolor": "white",
           "showlakes": true,
           "showland": true,
           "subunitcolor": "#C8D4E3"
          },
          "hoverlabel": {
           "align": "left"
          },
          "hovermode": "closest",
          "mapbox": {
           "style": "light"
          },
          "paper_bgcolor": "white",
          "plot_bgcolor": "white",
          "polar": {
           "angularaxis": {
            "gridcolor": "#EBF0F8",
            "linecolor": "#EBF0F8",
            "ticks": ""
           },
           "bgcolor": "white",
           "radialaxis": {
            "gridcolor": "#EBF0F8",
            "linecolor": "#EBF0F8",
            "ticks": ""
           }
          },
          "scene": {
           "xaxis": {
            "backgroundcolor": "white",
            "gridcolor": "#DFE8F3",
            "gridwidth": 2,
            "linecolor": "#EBF0F8",
            "showbackground": true,
            "ticks": "",
            "zerolinecolor": "#EBF0F8"
           },
           "yaxis": {
            "backgroundcolor": "white",
            "gridcolor": "#DFE8F3",
            "gridwidth": 2,
            "linecolor": "#EBF0F8",
            "showbackground": true,
            "ticks": "",
            "zerolinecolor": "#EBF0F8"
           },
           "zaxis": {
            "backgroundcolor": "white",
            "gridcolor": "#DFE8F3",
            "gridwidth": 2,
            "linecolor": "#EBF0F8",
            "showbackground": true,
            "ticks": "",
            "zerolinecolor": "#EBF0F8"
           }
          },
          "shapedefaults": {
           "line": {
            "color": "#2a3f5f"
           }
          },
          "ternary": {
           "aaxis": {
            "gridcolor": "#DFE8F3",
            "linecolor": "#A2B1C6",
            "ticks": ""
           },
           "baxis": {
            "gridcolor": "#DFE8F3",
            "linecolor": "#A2B1C6",
            "ticks": ""
           },
           "bgcolor": "white",
           "caxis": {
            "gridcolor": "#DFE8F3",
            "linecolor": "#A2B1C6",
            "ticks": ""
           }
          },
          "title": {
           "x": 0.05
          },
          "xaxis": {
           "automargin": true,
           "gridcolor": "#EBF0F8",
           "linecolor": "#EBF0F8",
           "ticks": "",
           "title": {
            "standoff": 15
           },
           "zerolinecolor": "#EBF0F8",
           "zerolinewidth": 2
          },
          "yaxis": {
           "automargin": true,
           "gridcolor": "#EBF0F8",
           "linecolor": "#EBF0F8",
           "ticks": "",
           "title": {
            "standoff": 15
           },
           "zerolinecolor": "#EBF0F8",
           "zerolinewidth": 2
          }
         }
        },
        "title": {
         "text": "Selection probabilities by position: Round 0 vs Round 1"
        },
        "xaxis": {
         "anchor": "y",
         "domain": [
          0,
          1
         ],
         "showticklabels": true,
         "tickmode": "array",
         "ticks": "outside",
         "ticktext": [
          "0",
          "1",
          "2",
          "3",
          "4",
          "5",
          "6",
          "7",
          "8",
          "9",
          "10",
          "11",
          "12",
          "13",
          "14",
          "15",
          "16",
          "17",
          "18",
          "19",
          "20",
          "21",
          "22",
          "23",
          "24",
          "25",
          "26",
          "27",
          "28",
          "29",
          "30",
          "31",
          "32",
          "33",
          "34",
          "35",
          "36",
          "37",
          "38",
          "39",
          "40",
          "41",
          "42",
          "43",
          "44",
          "45",
          "46",
          "47",
          "48",
          "49",
          "50",
          "51",
          "52",
          "53",
          "54",
          "55",
          "56",
          "57",
          "58",
          "59",
          "60",
          "61",
          "62",
          "63",
          "64",
          "65",
          "66",
          "67",
          "68",
          "69",
          "70",
          "71",
          "72",
          "73",
          "74",
          "75",
          "76",
          "77",
          "78",
          "79"
         ],
         "tickvals": {
          "bdata": "AAECAwQFBgcICQoLDA0ODxAREhMUFRYXGBkaGxwdHh8gISIjJCUmJygpKissLS4vMDEyMzQ1Njc4OTo7PD0+P0BBQkNERUZHSElKS0xNTk8=",
          "dtype": "i1"
         }
        },
        "xaxis2": {
         "anchor": "y2",
         "domain": [
          0,
          1
         ],
         "showticklabels": true,
         "tickmode": "array",
         "ticks": "outside",
         "ticktext": [
          "0",
          "1",
          "2",
          "3",
          "4",
          "5",
          "6",
          "7",
          "8",
          "9",
          "10",
          "11",
          "12",
          "13",
          "14",
          "15",
          "16",
          "17",
          "18",
          "19",
          "20",
          "21",
          "22",
          "23",
          "24",
          "25",
          "26",
          "27",
          "28",
          "29",
          "30",
          "31",
          "32",
          "33",
          "34",
          "35",
          "36",
          "37",
          "38",
          "39",
          "40",
          "41",
          "42",
          "43",
          "44",
          "45",
          "46",
          "47",
          "48",
          "49",
          "50",
          "51",
          "52",
          "53",
          "54",
          "55",
          "56",
          "57",
          "58",
          "59",
          "60",
          "61",
          "62",
          "63",
          "64",
          "65",
          "66",
          "67",
          "68",
          "69",
          "70",
          "71",
          "72",
          "73",
          "74",
          "75",
          "76",
          "77",
          "78",
          "79"
         ],
         "tickvals": {
          "bdata": "AAECAwQFBgcICQoLDA0ODxAREhMUFRYXGBkaGxwdHh8gISIjJCUmJygpKissLS4vMDEyMzQ1Njc4OTo7PD0+P0BBQkNERUZHSElKS0xNTk8=",
          "dtype": "i1"
         }
        },
        "xaxis3": {
         "anchor": "y3",
         "domain": [
          0,
          1
         ],
         "showticklabels": true,
         "tickmode": "array",
         "ticks": "outside",
         "ticktext": [
          "0",
          "1",
          "2",
          "3",
          "4",
          "5",
          "6",
          "7",
          "8",
          "9",
          "10",
          "11",
          "12",
          "13",
          "14",
          "15",
          "16",
          "17",
          "18",
          "19",
          "20",
          "21",
          "22",
          "23",
          "24",
          "25",
          "26",
          "27",
          "28",
          "29",
          "30",
          "31",
          "32",
          "33",
          "34",
          "35",
          "36",
          "37",
          "38",
          "39",
          "40",
          "41",
          "42",
          "43",
          "44",
          "45",
          "46",
          "47",
          "48",
          "49",
          "50",
          "51",
          "52",
          "53",
          "54",
          "55",
          "56",
          "57",
          "58",
          "59",
          "60",
          "61",
          "62",
          "63",
          "64",
          "65",
          "66",
          "67",
          "68",
          "69",
          "70",
          "71",
          "72",
          "73",
          "74",
          "75",
          "76",
          "77",
          "78",
          "79"
         ],
         "tickvals": {
          "bdata": "AAECAwQFBgcICQoLDA0ODxAREhMUFRYXGBkaGxwdHh8gISIjJCUmJygpKissLS4vMDEyMzQ1Njc4OTo7PD0+P0BBQkNERUZHSElKS0xNTk8=",
          "dtype": "i1"
         },
         "title": {
          "text": "Action ID (0–79)"
         }
        },
        "yaxis": {
         "anchor": "x",
         "domain": [
          0.72,
          1
         ],
         "range": [
          0,
          0.015817901234567902
         ],
         "title": {
          "text": "P(action selected)"
         }
        },
        "yaxis2": {
         "anchor": "x2",
         "domain": [
          0.36,
          0.6399999999999999
         ],
         "range": [
          0,
          0.015817901234567902
         ],
         "title": {
          "text": "P(action selected)"
         }
        },
        "yaxis3": {
         "anchor": "x3",
         "domain": [
          0,
          0.27999999999999997
         ],
         "range": [
          0,
          0.015817901234567902
         ],
         "title": {
          "text": "P(action selected)"
         }
        }
       }
      }
     },
     "metadata": {},
     "output_type": "display_data"
    }
   ],
   "source": [
    "\n",
    "\n",
    "print(\"Sampled (one row per position):\")\n",
    "print(sampled[[\"action\",\"position\",\"reward\",\"pscore\"]])\n",
    "\n",
    "fig = make_subplots(\n",
    "    rows=3, cols=1, shared_xaxes=False,   # <- don't share, so each row can show its ticks\n",
    "    subplot_titles=[f\"Position {p}\" for p in positions],\n",
    "    vertical_spacing=0.08\n",
    ")\n",
    "\n",
    "for i, pos in enumerate(positions, start=1):\n",
    "    xs  = np.arange(n_actions)\n",
    "    y0  = pmf_round0[pos]\n",
    "    y1  = pmf_round1[pos]\n",
    "    ymax = float(max(y0.max(), y1.max())) * 1.25\n",
    "\n",
    "    fig.add_trace(\n",
    "        go.Bar(\n",
    "            x=xs, y=y0, name=\"Round 0 (uniform)\",\n",
    "            marker=dict(color=\"steelblue\"),\n",
    "            opacity=0.6, legendgroup=\"round0\",\n",
    "            showlegend=(i == 1),\n",
    "            customdata=np.column_stack([np.full(n_actions, pos)]),\n",
    "            hovertemplate=\"Position: %{customdata[0]}<br>Action: %{x}<br>Round: 0<br>P: %{y:.6f}<extra></extra>\",\n",
    "        ),\n",
    "        row=i, col=1\n",
    "    )\n",
    "\n",
    "    fig.add_trace(\n",
    "        go.Bar(\n",
    "            x=xs, y=y1, name=\"Round 1 (updated)\",\n",
    "            marker=dict(color=\"darkorange\"),\n",
    "            opacity=0.8, legendgroup=\"round1\",\n",
    "            showlegend=(i == 1),\n",
    "            customdata=np.column_stack([np.full(n_actions, pos)]),\n",
    "            hovertemplate=\"Position: %{customdata[0]}<br>Action: %{x}<br>Round: 1<br>P: %{y:.6f}<extra></extra>\",\n",
    "        ),\n",
    "        row=i, col=1\n",
    "    )\n",
    "\n",
    "    # per-row y range\n",
    "    fig.update_yaxes(range=[0, ymax], row=i, col=1)\n",
    "\n",
    "# force ticks 0..79 on EVERY subplot\n",
    "tick_vals = np.arange(n_actions)\n",
    "tick_txt  = [str(a) for a in tick_vals]\n",
    "for i in range(1, 4):\n",
    "    fig.update_xaxes(\n",
    "        tickmode=\"array\",\n",
    "        tickvals=tick_vals,\n",
    "        ticktext=tick_txt,\n",
    "        showticklabels=True,   # <- ensure labels are drawn\n",
    "        ticks=\"outside\",\n",
    "        row=i, col=1\n",
    "    )\n",
    "\n",
    "# axis titles\n",
    "fig.update_xaxes(title_text=\"Action ID (0–79)\", row=3, col=1)\n",
    "for i in range(1, 4):\n",
    "    fig.update_yaxes(title_text=\"P(action selected)\", row=i, col=1)\n",
    "\n",
    "fig.update_layout(\n",
    "    title=\"Selection probabilities by position: Round 0 vs Round 1\",\n",
    "    barmode=\"group\",\n",
    "    bargap=0.15,\n",
    "    height=900,\n",
    "    template=\"plotly_white\",\n",
    ")\n",
    "\n",
    "fig.show()"
   ]
  },
  {
   "cell_type": "code",
   "execution_count": 12,
   "id": "3ea7f459",
   "metadata": {},
   "outputs": [
    {
     "name": "stdout",
     "output_type": "stream",
     "text": [
      "[NbConvertApp] Converting notebook bandit.ipynb to script\n",
      "[NbConvertApp] Writing 15918 bytes to bandit.py\n"
     ]
    }
   ],
   "source": [
    "!jupyter nbconvert --to script bandit.ipynb"
   ]
  },
  {
   "cell_type": "code",
   "execution_count": 13,
   "id": "6e473de4",
   "metadata": {},
   "outputs": [],
   "source": [
    "# bandit_rounds.py\n",
    "\n",
    "import numpy as np\n",
    "import pandas as pd\n",
    "import plotly.graph_objects as go\n",
    "from plotly.subplots import make_subplots\n",
    "\n",
    "class ThompsonSlateTracker:\n",
    "    def __init__(self, df, n_actions: int, positions=(0,1,2), seed: int = 7):\n",
    "        \"\"\"\n",
    "        df: DataFrame with columns ['action','position','reward','pscore']\n",
    "        n_actions: number of actions (e.g., 80)\n",
    "        positions: iterable of slot indices present in df (0,1,2)\n",
    "        \"\"\"\n",
    "        self.df = df\n",
    "        self.n_actions = int(n_actions)\n",
    "        self.positions = tuple(positions)\n",
    "        self.rng = np.random.RandomState(seed)\n",
    "\n",
    "        # priors\n",
    "        self.alpha = {p: np.ones(self.n_actions, dtype=float) for p in self.positions}\n",
    "        self.beta  = {p: np.ones(self.n_actions, dtype=float) for p in self.positions}\n",
    "\n",
    "        # history\n",
    "        self.round = 0\n",
    "        self.pmfs = {}        # round -> {pos -> np.array(n_actions)}\n",
    "        self.samples = {}     # round -> DataFrame rows (one per position)\n",
    "\n",
    "        # round 0 snapshot (uniform PMF)\n",
    "        pmf0 = {p: np.full(self.n_actions, 1.0/self.n_actions) for p in self.positions}\n",
    "        self.pmfs[0] = pmf0\n",
    "        self.samples[0] = pd.DataFrame(columns=[\"action\",\"position\",\"reward\",\"pscore\"])\n",
    "\n",
    "    # ---------- PMF backends ----------\n",
    "    @staticmethod\n",
    "    def _pmf_exact_one_update(K: int, updated_arm: int, reward: int):\n",
    "        \"\"\"Exact closed-form PMF when starting from Beta(1,1) and exactly one arm updated once.\"\"\"\n",
    "        p = np.empty(K, dtype=float)\n",
    "        if reward == 1:\n",
    "            p_updated = 2.0 / (K + 1.0)\n",
    "            p_others  = 1.0 / (K + 1.0)\n",
    "        else:\n",
    "            p_updated = 2.0 / (K * (K + 1.0))\n",
    "            p_others  = (1.0 - p_updated) / (K - 1.0)\n",
    "        p.fill(p_others)\n",
    "        p[updated_arm] = p_updated\n",
    "        return p\n",
    "\n",
    "    @staticmethod\n",
    "    def _pmf_mc(alpha_vec, beta_vec, n_sim=200_000, rng=None):\n",
    "        \"\"\"Monte Carlo PMF: P(action = argmax) for one position.\"\"\"\n",
    "        rng = np.random.RandomState() if rng is None else rng\n",
    "        K = len(alpha_vec)\n",
    "        samples = rng.beta(alpha_vec[None, :], beta_vec[None, :], size=(n_sim, K))\n",
    "        winners = samples.argmax(axis=1)\n",
    "        counts = np.bincount(winners, minlength=K)\n",
    "        return counts / counts.sum()\n",
    "\n",
    "    def _can_use_exact(self, pos: int, samples_this_round: pd.DataFrame):\n",
    "        \"\"\"Exact is valid iff all actions at this pos are Beta(1,1) except possibly ONE with a single +/-1 update.\"\"\"\n",
    "        # Check α,β before applying new updates? We call this AFTER updates for the round,\n",
    "        # but only exact if the *cumulative* state at this pos is either:\n",
    "        # - all ones (no updates), or\n",
    "        # - exactly one action has (alpha,beta) in {(2,1),(1,2)} and everyone else is (1,1)\n",
    "        a = self.alpha[pos]; b = self.beta[pos]\n",
    "        mask_ones = (a == 1) & (b == 1)\n",
    "        if mask_ones.all():\n",
    "            return True, None, None  # uniform exact\n",
    "        # find candidates with one step changes\n",
    "        changed_idx = np.where(~mask_ones)[0]\n",
    "        if len(changed_idx) != 1:\n",
    "            return False, None, None\n",
    "        j = int(changed_idx[0])\n",
    "        pair = (a[j], b[j])\n",
    "        if (pair == (2,1)) or (pair == (1,2)):\n",
    "            # also ensure all others are (1,1)\n",
    "            return True, j, int(pair[0] == 2 and pair[1] == 1)  # reward=1 if (2,1)\n",
    "        return False, None, None\n",
    "\n",
    "    # ---------- Round operations ----------\n",
    "    def sample_one_per_position(self, random_state=None):\n",
    "        \"\"\"Return 3-row DataFrame with one random row per position.\"\"\"\n",
    "        samp = (\n",
    "            self.df.groupby(\"position\", group_keys=False)\n",
    "            .apply(lambda x: x.sample(1, random_state=random_state))\n",
    "            .reset_index(drop=True)\n",
    "        )\n",
    "        return samp\n",
    "\n",
    "    def apply_updates(self, sampled_rows: pd.DataFrame):\n",
    "        \"\"\"Update alpha/beta using the sampled rows.\"\"\"\n",
    "        for _, r in sampled_rows.iterrows():\n",
    "            a_obs = int(r[\"action\"])\n",
    "            p_obs = int(r[\"position\"])\n",
    "            r_obs = int(r[\"reward\"])\n",
    "            self.alpha[p_obs][a_obs] += r_obs\n",
    "            self.beta[p_obs][a_obs]  += (1 - r_obs)\n",
    "\n",
    "    def snapshot_pmfs(self, use_mc_if_needed=True, n_sim=200_000):\n",
    "        \"\"\"Compute PMF for every position given current alpha/beta; store under current round.\"\"\"\n",
    "        pmf = {}\n",
    "        for pos in self.positions:\n",
    "            ok_exact, idx, rew = self._can_use_exact(pos, None)\n",
    "            if ok_exact:\n",
    "                if idx is None:\n",
    "                    # truly uniform\n",
    "                    pmf[pos] = np.full(self.n_actions, 1.0/self.n_actions, dtype=float)\n",
    "                else:\n",
    "                    pmf[pos] = self._pmf_exact_one_update(self.n_actions, idx, rew)\n",
    "            else:\n",
    "                if not use_mc_if_needed:\n",
    "                    raise RuntimeError(\n",
    "                        f\"Exact closed-form is not valid at position {pos} after round {self.round}. \"\n",
    "                        \"Set use_mc_if_needed=True (default) to compute PMFs.\"\n",
    "                    )\n",
    "                pmf[pos] = self._pmf_mc(self.alpha[pos], self.beta[pos], n_sim=n_sim, rng=self.rng)\n",
    "        self.pmfs[self.round] = pmf\n",
    "\n",
    "    def next_round(self, random_state=None, use_mc_if_needed=True, n_sim=200_000):\n",
    "        \"\"\"Advance one round: sample, update, snapshot PMFs.\"\"\"\n",
    "        self.round += 1\n",
    "        samp = self.sample_one_per_position(random_state=random_state)\n",
    "        self.samples[self.round] = samp\n",
    "        self.apply_updates(samp)\n",
    "        self.snapshot_pmfs(use_mc_if_needed=use_mc_if_needed, n_sim=n_sim)\n",
    "        return samp  # useful to print/inspect\n",
    "\n",
    "    # ---------- Plot ----------\n",
    "    def plot_compare(self, round_a: int, round_b: int, height=900, title=None):\n",
    "        \"\"\"Plotly grouped bars comparing PMFs of two rounds for each position.\"\"\"\n",
    "        if round_a not in self.pmfs or round_b not in self.pmfs:\n",
    "            raise KeyError(\"Requested rounds not in history. Call snapshot/next_round first.\")\n",
    "\n",
    "        pmf_a = self.pmfs[round_a]\n",
    "        pmf_b = self.pmfs[round_b]\n",
    "        n_actions = self.n_actions\n",
    "\n",
    "        fig = make_subplots(\n",
    "            rows=3, cols=1, shared_xaxes=False,\n",
    "            subplot_titles=[f\"Position {p}\" for p in self.positions],\n",
    "            vertical_spacing=0.08\n",
    "        )\n",
    "\n",
    "        for i, pos in enumerate(self.positions, start=1):\n",
    "            xs = np.arange(n_actions)\n",
    "            yA = pmf_a[pos]\n",
    "            yB = pmf_b[pos]\n",
    "            ymax = float(max(yA.max(), yB.max())) * 1.25\n",
    "\n",
    "            fig.add_trace(\n",
    "                go.Bar(\n",
    "                    x=xs, y=yA, name=f\"Round {round_a}\",\n",
    "                    marker=dict(color=\"steelblue\"), opacity=0.6,\n",
    "                    showlegend=(i == 1),\n",
    "                    customdata=np.column_stack([np.full(n_actions, pos)]),\n",
    "                    hovertemplate=\"Position: %{customdata[0]}<br>Action: %{x}<br>Round: \"+str(round_a)+\"<br>P: %{y:.6f}<extra></extra>\",\n",
    "                ),\n",
    "                row=i, col=1\n",
    "            )\n",
    "            fig.add_trace(\n",
    "                go.Bar(\n",
    "                    x=xs, y=yB, name=f\"Round {round_b}\",\n",
    "                    marker=dict(color=\"darkorange\"), opacity=0.8,\n",
    "                    showlegend=(i == 1),\n",
    "                    customdata=np.column_stack([np.full(n_actions, pos)]),\n",
    "                    hovertemplate=\"Position: %{customdata[0]}<br>Action: %{x}<br>Round: \"+str(round_b)+\"<br>P: %{y:.6f}<extra></extra>\",\n",
    "                ),\n",
    "                row=i, col=1\n",
    "            )\n",
    "            fig.update_yaxes(range=[0, ymax], row=i, col=1)\n",
    "\n",
    "        # force ticks 0..n_actions-1 on all three subplots\n",
    "        ticks = np.arange(n_actions)\n",
    "        labels = [str(a) for a in ticks]\n",
    "        for i in range(1, 4):\n",
    "            fig.update_xaxes(\n",
    "                tickmode=\"array\", tickvals=ticks, ticktext=labels,\n",
    "                showticklabels=True, ticks=\"outside\",\n",
    "                row=i, col=1\n",
    "            )\n",
    "\n",
    "        fig.update_xaxes(title_text=\"Action ID (0–79)\", row=3, col=1)\n",
    "        for i in range(1, 4):\n",
    "            fig.update_yaxes(title_text=\"P(action selected)\", row=i, col=1)\n",
    "\n",
    "        fig.update_layout(\n",
    "            title=title or f\"Selection probabilities by position: Round {round_a} vs Round {round_b}\",\n",
    "            barmode=\"group\", bargap=0.15, height=height, template=\"plotly_white\"\n",
    "        )\n",
    "        fig.show()"
   ]
  },
  {
   "cell_type": "code",
   "execution_count": 14,
   "id": "92bbc41a",
   "metadata": {},
   "outputs": [
    {
     "name": "stdout",
     "output_type": "stream",
     "text": [
      "Round 1 samples:\n",
      "    action  position  reward  pscore\n",
      "0      11         0       0  0.0125\n",
      "1      52         1       0  0.0125\n",
      "2      43         2       0  0.0125\n"
     ]
    },
    {
     "data": {
      "application/vnd.plotly.v1+json": {
       "config": {
        "plotlyServerURL": "https://plot.ly"
       },
       "data": [
        {
         "customdata": {
          "bdata": "AAAAAAAAAAAAAAAAAAAAAAAAAAAAAAAAAAAAAAAAAAAAAAAAAAAAAAAAAAAAAAAAAAAAAAAAAAAAAAAAAAAAAAAAAAAAAAAAAAAAAAAAAAA=",
          "dtype": "i1",
          "shape": "80, 1"
         },
         "hovertemplate": "Position: %{customdata[0]}<br>Action: %{x}<br>Round: 0<br>P: %{y:.6f}<extra></extra>",
         "marker": {
          "color": "steelblue"
         },
         "name": "Round 0",
         "opacity": 0.6,
         "showlegend": true,
         "type": "bar",
         "x": {
          "bdata": "AAECAwQFBgcICQoLDA0ODxAREhMUFRYXGBkaGxwdHh8gISIjJCUmJygpKissLS4vMDEyMzQ1Njc4OTo7PD0+P0BBQkNERUZHSElKS0xNTk8=",
          "dtype": "i1"
         },
         "xaxis": "x",
         "y": {
          "bdata": "mpmZmZmZiT+amZmZmZmJP5qZmZmZmYk/mpmZmZmZiT+amZmZmZmJP5qZmZmZmYk/mpmZmZmZiT+amZmZmZmJP5qZmZmZmYk/mpmZmZmZiT+amZmZmZmJP5qZmZmZmYk/mpmZmZmZiT+amZmZmZmJP5qZmZmZmYk/mpmZmZmZiT+amZmZmZmJP5qZmZmZmYk/mpmZmZmZiT+amZmZmZmJP5qZmZmZmYk/mpmZmZmZiT+amZmZmZmJP5qZmZmZmYk/mpmZmZmZiT+amZmZmZmJP5qZmZmZmYk/mpmZmZmZiT+amZmZmZmJP5qZmZmZmYk/mpmZmZmZiT+amZmZmZmJP5qZmZmZmYk/mpmZmZmZiT+amZmZmZmJP5qZmZmZmYk/mpmZmZmZiT+amZmZmZmJP5qZmZmZmYk/mpmZmZmZiT+amZmZmZmJP5qZmZmZmYk/mpmZmZmZiT+amZmZmZmJP5qZmZmZmYk/mpmZmZmZiT+amZmZmZmJP5qZmZmZmYk/mpmZmZmZiT+amZmZmZmJP5qZmZmZmYk/mpmZmZmZiT+amZmZmZmJP5qZmZmZmYk/mpmZmZmZiT+amZmZmZmJP5qZmZmZmYk/mpmZmZmZiT+amZmZmZmJP5qZmZmZmYk/mpmZmZmZiT+amZmZmZmJP5qZmZmZmYk/mpmZmZmZiT+amZmZmZmJP5qZmZmZmYk/mpmZmZmZiT+amZmZmZmJP5qZmZmZmYk/mpmZmZmZiT+amZmZmZmJP5qZmZmZmYk/mpmZmZmZiT+amZmZmZmJP5qZmZmZmYk/mpmZmZmZiT+amZmZmZmJP5qZmZmZmYk/mpmZmZmZiT+amZmZmZmJPw==",
          "dtype": "f8"
         },
         "yaxis": "y"
        },
        {
         "customdata": {
          "bdata": "AAAAAAAAAAAAAAAAAAAAAAAAAAAAAAAAAAAAAAAAAAAAAAAAAAAAAAAAAAAAAAAAAAAAAAAAAAAAAAAAAAAAAAAAAAAAAAAAAAAAAAAAAAA=",
          "dtype": "i1",
          "shape": "80, 1"
         },
         "hovertemplate": "Position: %{customdata[0]}<br>Action: %{x}<br>Round: 1<br>P: %{y:.6f}<extra></extra>",
         "marker": {
          "color": "darkorange"
         },
         "name": "Round 1",
         "opacity": 0.8,
         "showlegend": true,
         "type": "bar",
         "x": {
          "bdata": "AAECAwQFBgcICQoLDA0ODxAREhMUFRYXGBkaGxwdHh8gISIjJCUmJygpKissLS4vMDEyMzQ1Njc4OTo7PD0+P0BBQkNERUZHSElKS0xNTk8=",
          "dtype": "i1"
         },
         "xaxis": "x",
         "y": {
          "bdata": "U0lcNoLqiT9TSVw2guqJP1NJXDaC6ok/U0lcNoLqiT9TSVw2guqJP1NJXDaC6ok/U0lcNoLqiT9TSVw2guqJP1NJXDaC6ok/U0lcNoLqiT9TSVw2guqJP03uqzAnOjQ/U0lcNoLqiT9TSVw2guqJP1NJXDaC6ok/U0lcNoLqiT9TSVw2guqJP1NJXDaC6ok/U0lcNoLqiT9TSVw2guqJP1NJXDaC6ok/U0lcNoLqiT9TSVw2guqJP1NJXDaC6ok/U0lcNoLqiT9TSVw2guqJP1NJXDaC6ok/U0lcNoLqiT9TSVw2guqJP1NJXDaC6ok/U0lcNoLqiT9TSVw2guqJP1NJXDaC6ok/U0lcNoLqiT9TSVw2guqJP1NJXDaC6ok/U0lcNoLqiT9TSVw2guqJP1NJXDaC6ok/U0lcNoLqiT9TSVw2guqJP1NJXDaC6ok/U0lcNoLqiT9TSVw2guqJP1NJXDaC6ok/U0lcNoLqiT9TSVw2guqJP1NJXDaC6ok/U0lcNoLqiT9TSVw2guqJP1NJXDaC6ok/U0lcNoLqiT9TSVw2guqJP1NJXDaC6ok/U0lcNoLqiT9TSVw2guqJP1NJXDaC6ok/U0lcNoLqiT9TSVw2guqJP1NJXDaC6ok/U0lcNoLqiT9TSVw2guqJP1NJXDaC6ok/U0lcNoLqiT9TSVw2guqJP1NJXDaC6ok/U0lcNoLqiT9TSVw2guqJP1NJXDaC6ok/U0lcNoLqiT9TSVw2guqJP1NJXDaC6ok/U0lcNoLqiT9TSVw2guqJP1NJXDaC6ok/U0lcNoLqiT9TSVw2guqJP1NJXDaC6ok/U0lcNoLqiT9TSVw2guqJPw==",
          "dtype": "f8"
         },
         "yaxis": "y"
        },
        {
         "customdata": {
          "bdata": "AQEBAQEBAQEBAQEBAQEBAQEBAQEBAQEBAQEBAQEBAQEBAQEBAQEBAQEBAQEBAQEBAQEBAQEBAQEBAQEBAQEBAQEBAQEBAQEBAQEBAQEBAQE=",
          "dtype": "i1",
          "shape": "80, 1"
         },
         "hovertemplate": "Position: %{customdata[0]}<br>Action: %{x}<br>Round: 0<br>P: %{y:.6f}<extra></extra>",
         "marker": {
          "color": "steelblue"
         },
         "name": "Round 0",
         "opacity": 0.6,
         "showlegend": false,
         "type": "bar",
         "x": {
          "bdata": "AAECAwQFBgcICQoLDA0ODxAREhMUFRYXGBkaGxwdHh8gISIjJCUmJygpKissLS4vMDEyMzQ1Njc4OTo7PD0+P0BBQkNERUZHSElKS0xNTk8=",
          "dtype": "i1"
         },
         "xaxis": "x2",
         "y": {
          "bdata": "mpmZmZmZiT+amZmZmZmJP5qZmZmZmYk/mpmZmZmZiT+amZmZmZmJP5qZmZmZmYk/mpmZmZmZiT+amZmZmZmJP5qZmZmZmYk/mpmZmZmZiT+amZmZmZmJP5qZmZmZmYk/mpmZmZmZiT+amZmZmZmJP5qZmZmZmYk/mpmZmZmZiT+amZmZmZmJP5qZmZmZmYk/mpmZmZmZiT+amZmZmZmJP5qZmZmZmYk/mpmZmZmZiT+amZmZmZmJP5qZmZmZmYk/mpmZmZmZiT+amZmZmZmJP5qZmZmZmYk/mpmZmZmZiT+amZmZmZmJP5qZmZmZmYk/mpmZmZmZiT+amZmZmZmJP5qZmZmZmYk/mpmZmZmZiT+amZmZmZmJP5qZmZmZmYk/mpmZmZmZiT+amZmZmZmJP5qZmZmZmYk/mpmZmZmZiT+amZmZmZmJP5qZmZmZmYk/mpmZmZmZiT+amZmZmZmJP5qZmZmZmYk/mpmZmZmZiT+amZmZmZmJP5qZmZmZmYk/mpmZmZmZiT+amZmZmZmJP5qZmZmZmYk/mpmZmZmZiT+amZmZmZmJP5qZmZmZmYk/mpmZmZmZiT+amZmZmZmJP5qZmZmZmYk/mpmZmZmZiT+amZmZmZmJP5qZmZmZmYk/mpmZmZmZiT+amZmZmZmJP5qZmZmZmYk/mpmZmZmZiT+amZmZmZmJP5qZmZmZmYk/mpmZmZmZiT+amZmZmZmJP5qZmZmZmYk/mpmZmZmZiT+amZmZmZmJP5qZmZmZmYk/mpmZmZmZiT+amZmZmZmJP5qZmZmZmYk/mpmZmZmZiT+amZmZmZmJP5qZmZmZmYk/mpmZmZmZiT+amZmZmZmJPw==",
          "dtype": "f8"
         },
         "yaxis": "y2"
        },
        {
         "customdata": {
          "bdata": "AQEBAQEBAQEBAQEBAQEBAQEBAQEBAQEBAQEBAQEBAQEBAQEBAQEBAQEBAQEBAQEBAQEBAQEBAQEBAQEBAQEBAQEBAQEBAQEBAQEBAQEBAQE=",
          "dtype": "i1",
          "shape": "80, 1"
         },
         "hovertemplate": "Position: %{customdata[0]}<br>Action: %{x}<br>Round: 1<br>P: %{y:.6f}<extra></extra>",
         "marker": {
          "color": "darkorange"
         },
         "name": "Round 1",
         "opacity": 0.8,
         "showlegend": false,
         "type": "bar",
         "x": {
          "bdata": "AAECAwQFBgcICQoLDA0ODxAREhMUFRYXGBkaGxwdHh8gISIjJCUmJygpKissLS4vMDEyMzQ1Njc4OTo7PD0+P0BBQkNERUZHSElKS0xNTk8=",
          "dtype": "i1"
         },
         "xaxis": "x2",
         "y": {
          "bdata": "U0lcNoLqiT9TSVw2guqJP1NJXDaC6ok/U0lcNoLqiT9TSVw2guqJP1NJXDaC6ok/U0lcNoLqiT9TSVw2guqJP1NJXDaC6ok/U0lcNoLqiT9TSVw2guqJP1NJXDaC6ok/U0lcNoLqiT9TSVw2guqJP1NJXDaC6ok/U0lcNoLqiT9TSVw2guqJP1NJXDaC6ok/U0lcNoLqiT9TSVw2guqJP1NJXDaC6ok/U0lcNoLqiT9TSVw2guqJP1NJXDaC6ok/U0lcNoLqiT9TSVw2guqJP1NJXDaC6ok/U0lcNoLqiT9TSVw2guqJP1NJXDaC6ok/U0lcNoLqiT9TSVw2guqJP1NJXDaC6ok/U0lcNoLqiT9TSVw2guqJP1NJXDaC6ok/U0lcNoLqiT9TSVw2guqJP1NJXDaC6ok/U0lcNoLqiT9TSVw2guqJP1NJXDaC6ok/U0lcNoLqiT9TSVw2guqJP1NJXDaC6ok/U0lcNoLqiT9TSVw2guqJP1NJXDaC6ok/U0lcNoLqiT9TSVw2guqJP1NJXDaC6ok/U0lcNoLqiT9N7qswJzo0P1NJXDaC6ok/U0lcNoLqiT9TSVw2guqJP1NJXDaC6ok/U0lcNoLqiT9TSVw2guqJP1NJXDaC6ok/U0lcNoLqiT9TSVw2guqJP1NJXDaC6ok/U0lcNoLqiT9TSVw2guqJP1NJXDaC6ok/U0lcNoLqiT9TSVw2guqJP1NJXDaC6ok/U0lcNoLqiT9TSVw2guqJP1NJXDaC6ok/U0lcNoLqiT9TSVw2guqJP1NJXDaC6ok/U0lcNoLqiT9TSVw2guqJP1NJXDaC6ok/U0lcNoLqiT9TSVw2guqJPw==",
          "dtype": "f8"
         },
         "yaxis": "y2"
        },
        {
         "customdata": {
          "bdata": "AgICAgICAgICAgICAgICAgICAgICAgICAgICAgICAgICAgICAgICAgICAgICAgICAgICAgICAgICAgICAgICAgICAgICAgICAgICAgICAgI=",
          "dtype": "i1",
          "shape": "80, 1"
         },
         "hovertemplate": "Position: %{customdata[0]}<br>Action: %{x}<br>Round: 0<br>P: %{y:.6f}<extra></extra>",
         "marker": {
          "color": "steelblue"
         },
         "name": "Round 0",
         "opacity": 0.6,
         "showlegend": false,
         "type": "bar",
         "x": {
          "bdata": "AAECAwQFBgcICQoLDA0ODxAREhMUFRYXGBkaGxwdHh8gISIjJCUmJygpKissLS4vMDEyMzQ1Njc4OTo7PD0+P0BBQkNERUZHSElKS0xNTk8=",
          "dtype": "i1"
         },
         "xaxis": "x3",
         "y": {
          "bdata": "mpmZmZmZiT+amZmZmZmJP5qZmZmZmYk/mpmZmZmZiT+amZmZmZmJP5qZmZmZmYk/mpmZmZmZiT+amZmZmZmJP5qZmZmZmYk/mpmZmZmZiT+amZmZmZmJP5qZmZmZmYk/mpmZmZmZiT+amZmZmZmJP5qZmZmZmYk/mpmZmZmZiT+amZmZmZmJP5qZmZmZmYk/mpmZmZmZiT+amZmZmZmJP5qZmZmZmYk/mpmZmZmZiT+amZmZmZmJP5qZmZmZmYk/mpmZmZmZiT+amZmZmZmJP5qZmZmZmYk/mpmZmZmZiT+amZmZmZmJP5qZmZmZmYk/mpmZmZmZiT+amZmZmZmJP5qZmZmZmYk/mpmZmZmZiT+amZmZmZmJP5qZmZmZmYk/mpmZmZmZiT+amZmZmZmJP5qZmZmZmYk/mpmZmZmZiT+amZmZmZmJP5qZmZmZmYk/mpmZmZmZiT+amZmZmZmJP5qZmZmZmYk/mpmZmZmZiT+amZmZmZmJP5qZmZmZmYk/mpmZmZmZiT+amZmZmZmJP5qZmZmZmYk/mpmZmZmZiT+amZmZmZmJP5qZmZmZmYk/mpmZmZmZiT+amZmZmZmJP5qZmZmZmYk/mpmZmZmZiT+amZmZmZmJP5qZmZmZmYk/mpmZmZmZiT+amZmZmZmJP5qZmZmZmYk/mpmZmZmZiT+amZmZmZmJP5qZmZmZmYk/mpmZmZmZiT+amZmZmZmJP5qZmZmZmYk/mpmZmZmZiT+amZmZmZmJP5qZmZmZmYk/mpmZmZmZiT+amZmZmZmJP5qZmZmZmYk/mpmZmZmZiT+amZmZmZmJP5qZmZmZmYk/mpmZmZmZiT+amZmZmZmJPw==",
          "dtype": "f8"
         },
         "yaxis": "y3"
        },
        {
         "customdata": {
          "bdata": "AgICAgICAgICAgICAgICAgICAgICAgICAgICAgICAgICAgICAgICAgICAgICAgICAgICAgICAgICAgICAgICAgICAgICAgICAgICAgICAgI=",
          "dtype": "i1",
          "shape": "80, 1"
         },
         "hovertemplate": "Position: %{customdata[0]}<br>Action: %{x}<br>Round: 1<br>P: %{y:.6f}<extra></extra>",
         "marker": {
          "color": "darkorange"
         },
         "name": "Round 1",
         "opacity": 0.8,
         "showlegend": false,
         "type": "bar",
         "x": {
          "bdata": "AAECAwQFBgcICQoLDA0ODxAREhMUFRYXGBkaGxwdHh8gISIjJCUmJygpKissLS4vMDEyMzQ1Njc4OTo7PD0+P0BBQkNERUZHSElKS0xNTk8=",
          "dtype": "i1"
         },
         "xaxis": "x3",
         "y": {
          "bdata": "U0lcNoLqiT9TSVw2guqJP1NJXDaC6ok/U0lcNoLqiT9TSVw2guqJP1NJXDaC6ok/U0lcNoLqiT9TSVw2guqJP1NJXDaC6ok/U0lcNoLqiT9TSVw2guqJP1NJXDaC6ok/U0lcNoLqiT9TSVw2guqJP1NJXDaC6ok/U0lcNoLqiT9TSVw2guqJP1NJXDaC6ok/U0lcNoLqiT9TSVw2guqJP1NJXDaC6ok/U0lcNoLqiT9TSVw2guqJP1NJXDaC6ok/U0lcNoLqiT9TSVw2guqJP1NJXDaC6ok/U0lcNoLqiT9TSVw2guqJP1NJXDaC6ok/U0lcNoLqiT9TSVw2guqJP1NJXDaC6ok/U0lcNoLqiT9TSVw2guqJP1NJXDaC6ok/U0lcNoLqiT9TSVw2guqJP1NJXDaC6ok/U0lcNoLqiT9TSVw2guqJP1NJXDaC6ok/U0lcNoLqiT9N7qswJzo0P1NJXDaC6ok/U0lcNoLqiT9TSVw2guqJP1NJXDaC6ok/U0lcNoLqiT9TSVw2guqJP1NJXDaC6ok/U0lcNoLqiT9TSVw2guqJP1NJXDaC6ok/U0lcNoLqiT9TSVw2guqJP1NJXDaC6ok/U0lcNoLqiT9TSVw2guqJP1NJXDaC6ok/U0lcNoLqiT9TSVw2guqJP1NJXDaC6ok/U0lcNoLqiT9TSVw2guqJP1NJXDaC6ok/U0lcNoLqiT9TSVw2guqJP1NJXDaC6ok/U0lcNoLqiT9TSVw2guqJP1NJXDaC6ok/U0lcNoLqiT9TSVw2guqJP1NJXDaC6ok/U0lcNoLqiT9TSVw2guqJP1NJXDaC6ok/U0lcNoLqiT9TSVw2guqJPw==",
          "dtype": "f8"
         },
         "yaxis": "y3"
        }
       ],
       "layout": {
        "annotations": [
         {
          "font": {
           "size": 16
          },
          "showarrow": false,
          "text": "Position 0",
          "x": 0.5,
          "xanchor": "center",
          "xref": "paper",
          "y": 1,
          "yanchor": "bottom",
          "yref": "paper"
         },
         {
          "font": {
           "size": 16
          },
          "showarrow": false,
          "text": "Position 1",
          "x": 0.5,
          "xanchor": "center",
          "xref": "paper",
          "y": 0.6399999999999999,
          "yanchor": "bottom",
          "yref": "paper"
         },
         {
          "font": {
           "size": 16
          },
          "showarrow": false,
          "text": "Position 2",
          "x": 0.5,
          "xanchor": "center",
          "xref": "paper",
          "y": 0.27999999999999997,
          "yanchor": "bottom",
          "yref": "paper"
         }
        ],
        "bargap": 0.15,
        "barmode": "group",
        "height": 900,
        "template": {
         "data": {
          "bar": [
           {
            "error_x": {
             "color": "#2a3f5f"
            },
            "error_y": {
             "color": "#2a3f5f"
            },
            "marker": {
             "line": {
              "color": "white",
              "width": 0.5
             },
             "pattern": {
              "fillmode": "overlay",
              "size": 10,
              "solidity": 0.2
             }
            },
            "type": "bar"
           }
          ],
          "barpolar": [
           {
            "marker": {
             "line": {
              "color": "white",
              "width": 0.5
             },
             "pattern": {
              "fillmode": "overlay",
              "size": 10,
              "solidity": 0.2
             }
            },
            "type": "barpolar"
           }
          ],
          "carpet": [
           {
            "aaxis": {
             "endlinecolor": "#2a3f5f",
             "gridcolor": "#C8D4E3",
             "linecolor": "#C8D4E3",
             "minorgridcolor": "#C8D4E3",
             "startlinecolor": "#2a3f5f"
            },
            "baxis": {
             "endlinecolor": "#2a3f5f",
             "gridcolor": "#C8D4E3",
             "linecolor": "#C8D4E3",
             "minorgridcolor": "#C8D4E3",
             "startlinecolor": "#2a3f5f"
            },
            "type": "carpet"
           }
          ],
          "choropleth": [
           {
            "colorbar": {
             "outlinewidth": 0,
             "ticks": ""
            },
            "type": "choropleth"
           }
          ],
          "contour": [
           {
            "colorbar": {
             "outlinewidth": 0,
             "ticks": ""
            },
            "colorscale": [
             [
              0,
              "#0d0887"
             ],
             [
              0.1111111111111111,
              "#46039f"
             ],
             [
              0.2222222222222222,
              "#7201a8"
             ],
             [
              0.3333333333333333,
              "#9c179e"
             ],
             [
              0.4444444444444444,
              "#bd3786"
             ],
             [
              0.5555555555555556,
              "#d8576b"
             ],
             [
              0.6666666666666666,
              "#ed7953"
             ],
             [
              0.7777777777777778,
              "#fb9f3a"
             ],
             [
              0.8888888888888888,
              "#fdca26"
             ],
             [
              1,
              "#f0f921"
             ]
            ],
            "type": "contour"
           }
          ],
          "contourcarpet": [
           {
            "colorbar": {
             "outlinewidth": 0,
             "ticks": ""
            },
            "type": "contourcarpet"
           }
          ],
          "heatmap": [
           {
            "colorbar": {
             "outlinewidth": 0,
             "ticks": ""
            },
            "colorscale": [
             [
              0,
              "#0d0887"
             ],
             [
              0.1111111111111111,
              "#46039f"
             ],
             [
              0.2222222222222222,
              "#7201a8"
             ],
             [
              0.3333333333333333,
              "#9c179e"
             ],
             [
              0.4444444444444444,
              "#bd3786"
             ],
             [
              0.5555555555555556,
              "#d8576b"
             ],
             [
              0.6666666666666666,
              "#ed7953"
             ],
             [
              0.7777777777777778,
              "#fb9f3a"
             ],
             [
              0.8888888888888888,
              "#fdca26"
             ],
             [
              1,
              "#f0f921"
             ]
            ],
            "type": "heatmap"
           }
          ],
          "histogram": [
           {
            "marker": {
             "pattern": {
              "fillmode": "overlay",
              "size": 10,
              "solidity": 0.2
             }
            },
            "type": "histogram"
           }
          ],
          "histogram2d": [
           {
            "colorbar": {
             "outlinewidth": 0,
             "ticks": ""
            },
            "colorscale": [
             [
              0,
              "#0d0887"
             ],
             [
              0.1111111111111111,
              "#46039f"
             ],
             [
              0.2222222222222222,
              "#7201a8"
             ],
             [
              0.3333333333333333,
              "#9c179e"
             ],
             [
              0.4444444444444444,
              "#bd3786"
             ],
             [
              0.5555555555555556,
              "#d8576b"
             ],
             [
              0.6666666666666666,
              "#ed7953"
             ],
             [
              0.7777777777777778,
              "#fb9f3a"
             ],
             [
              0.8888888888888888,
              "#fdca26"
             ],
             [
              1,
              "#f0f921"
             ]
            ],
            "type": "histogram2d"
           }
          ],
          "histogram2dcontour": [
           {
            "colorbar": {
             "outlinewidth": 0,
             "ticks": ""
            },
            "colorscale": [
             [
              0,
              "#0d0887"
             ],
             [
              0.1111111111111111,
              "#46039f"
             ],
             [
              0.2222222222222222,
              "#7201a8"
             ],
             [
              0.3333333333333333,
              "#9c179e"
             ],
             [
              0.4444444444444444,
              "#bd3786"
             ],
             [
              0.5555555555555556,
              "#d8576b"
             ],
             [
              0.6666666666666666,
              "#ed7953"
             ],
             [
              0.7777777777777778,
              "#fb9f3a"
             ],
             [
              0.8888888888888888,
              "#fdca26"
             ],
             [
              1,
              "#f0f921"
             ]
            ],
            "type": "histogram2dcontour"
           }
          ],
          "mesh3d": [
           {
            "colorbar": {
             "outlinewidth": 0,
             "ticks": ""
            },
            "type": "mesh3d"
           }
          ],
          "parcoords": [
           {
            "line": {
             "colorbar": {
              "outlinewidth": 0,
              "ticks": ""
             }
            },
            "type": "parcoords"
           }
          ],
          "pie": [
           {
            "automargin": true,
            "type": "pie"
           }
          ],
          "scatter": [
           {
            "fillpattern": {
             "fillmode": "overlay",
             "size": 10,
             "solidity": 0.2
            },
            "type": "scatter"
           }
          ],
          "scatter3d": [
           {
            "line": {
             "colorbar": {
              "outlinewidth": 0,
              "ticks": ""
             }
            },
            "marker": {
             "colorbar": {
              "outlinewidth": 0,
              "ticks": ""
             }
            },
            "type": "scatter3d"
           }
          ],
          "scattercarpet": [
           {
            "marker": {
             "colorbar": {
              "outlinewidth": 0,
              "ticks": ""
             }
            },
            "type": "scattercarpet"
           }
          ],
          "scattergeo": [
           {
            "marker": {
             "colorbar": {
              "outlinewidth": 0,
              "ticks": ""
             }
            },
            "type": "scattergeo"
           }
          ],
          "scattergl": [
           {
            "marker": {
             "colorbar": {
              "outlinewidth": 0,
              "ticks": ""
             }
            },
            "type": "scattergl"
           }
          ],
          "scattermap": [
           {
            "marker": {
             "colorbar": {
              "outlinewidth": 0,
              "ticks": ""
             }
            },
            "type": "scattermap"
           }
          ],
          "scattermapbox": [
           {
            "marker": {
             "colorbar": {
              "outlinewidth": 0,
              "ticks": ""
             }
            },
            "type": "scattermapbox"
           }
          ],
          "scatterpolar": [
           {
            "marker": {
             "colorbar": {
              "outlinewidth": 0,
              "ticks": ""
             }
            },
            "type": "scatterpolar"
           }
          ],
          "scatterpolargl": [
           {
            "marker": {
             "colorbar": {
              "outlinewidth": 0,
              "ticks": ""
             }
            },
            "type": "scatterpolargl"
           }
          ],
          "scatterternary": [
           {
            "marker": {
             "colorbar": {
              "outlinewidth": 0,
              "ticks": ""
             }
            },
            "type": "scatterternary"
           }
          ],
          "surface": [
           {
            "colorbar": {
             "outlinewidth": 0,
             "ticks": ""
            },
            "colorscale": [
             [
              0,
              "#0d0887"
             ],
             [
              0.1111111111111111,
              "#46039f"
             ],
             [
              0.2222222222222222,
              "#7201a8"
             ],
             [
              0.3333333333333333,
              "#9c179e"
             ],
             [
              0.4444444444444444,
              "#bd3786"
             ],
             [
              0.5555555555555556,
              "#d8576b"
             ],
             [
              0.6666666666666666,
              "#ed7953"
             ],
             [
              0.7777777777777778,
              "#fb9f3a"
             ],
             [
              0.8888888888888888,
              "#fdca26"
             ],
             [
              1,
              "#f0f921"
             ]
            ],
            "type": "surface"
           }
          ],
          "table": [
           {
            "cells": {
             "fill": {
              "color": "#EBF0F8"
             },
             "line": {
              "color": "white"
             }
            },
            "header": {
             "fill": {
              "color": "#C8D4E3"
             },
             "line": {
              "color": "white"
             }
            },
            "type": "table"
           }
          ]
         },
         "layout": {
          "annotationdefaults": {
           "arrowcolor": "#2a3f5f",
           "arrowhead": 0,
           "arrowwidth": 1
          },
          "autotypenumbers": "strict",
          "coloraxis": {
           "colorbar": {
            "outlinewidth": 0,
            "ticks": ""
           }
          },
          "colorscale": {
           "diverging": [
            [
             0,
             "#8e0152"
            ],
            [
             0.1,
             "#c51b7d"
            ],
            [
             0.2,
             "#de77ae"
            ],
            [
             0.3,
             "#f1b6da"
            ],
            [
             0.4,
             "#fde0ef"
            ],
            [
             0.5,
             "#f7f7f7"
            ],
            [
             0.6,
             "#e6f5d0"
            ],
            [
             0.7,
             "#b8e186"
            ],
            [
             0.8,
             "#7fbc41"
            ],
            [
             0.9,
             "#4d9221"
            ],
            [
             1,
             "#276419"
            ]
           ],
           "sequential": [
            [
             0,
             "#0d0887"
            ],
            [
             0.1111111111111111,
             "#46039f"
            ],
            [
             0.2222222222222222,
             "#7201a8"
            ],
            [
             0.3333333333333333,
             "#9c179e"
            ],
            [
             0.4444444444444444,
             "#bd3786"
            ],
            [
             0.5555555555555556,
             "#d8576b"
            ],
            [
             0.6666666666666666,
             "#ed7953"
            ],
            [
             0.7777777777777778,
             "#fb9f3a"
            ],
            [
             0.8888888888888888,
             "#fdca26"
            ],
            [
             1,
             "#f0f921"
            ]
           ],
           "sequentialminus": [
            [
             0,
             "#0d0887"
            ],
            [
             0.1111111111111111,
             "#46039f"
            ],
            [
             0.2222222222222222,
             "#7201a8"
            ],
            [
             0.3333333333333333,
             "#9c179e"
            ],
            [
             0.4444444444444444,
             "#bd3786"
            ],
            [
             0.5555555555555556,
             "#d8576b"
            ],
            [
             0.6666666666666666,
             "#ed7953"
            ],
            [
             0.7777777777777778,
             "#fb9f3a"
            ],
            [
             0.8888888888888888,
             "#fdca26"
            ],
            [
             1,
             "#f0f921"
            ]
           ]
          },
          "colorway": [
           "#636efa",
           "#EF553B",
           "#00cc96",
           "#ab63fa",
           "#FFA15A",
           "#19d3f3",
           "#FF6692",
           "#B6E880",
           "#FF97FF",
           "#FECB52"
          ],
          "font": {
           "color": "#2a3f5f"
          },
          "geo": {
           "bgcolor": "white",
           "lakecolor": "white",
           "landcolor": "white",
           "showlakes": true,
           "showland": true,
           "subunitcolor": "#C8D4E3"
          },
          "hoverlabel": {
           "align": "left"
          },
          "hovermode": "closest",
          "mapbox": {
           "style": "light"
          },
          "paper_bgcolor": "white",
          "plot_bgcolor": "white",
          "polar": {
           "angularaxis": {
            "gridcolor": "#EBF0F8",
            "linecolor": "#EBF0F8",
            "ticks": ""
           },
           "bgcolor": "white",
           "radialaxis": {
            "gridcolor": "#EBF0F8",
            "linecolor": "#EBF0F8",
            "ticks": ""
           }
          },
          "scene": {
           "xaxis": {
            "backgroundcolor": "white",
            "gridcolor": "#DFE8F3",
            "gridwidth": 2,
            "linecolor": "#EBF0F8",
            "showbackground": true,
            "ticks": "",
            "zerolinecolor": "#EBF0F8"
           },
           "yaxis": {
            "backgroundcolor": "white",
            "gridcolor": "#DFE8F3",
            "gridwidth": 2,
            "linecolor": "#EBF0F8",
            "showbackground": true,
            "ticks": "",
            "zerolinecolor": "#EBF0F8"
           },
           "zaxis": {
            "backgroundcolor": "white",
            "gridcolor": "#DFE8F3",
            "gridwidth": 2,
            "linecolor": "#EBF0F8",
            "showbackground": true,
            "ticks": "",
            "zerolinecolor": "#EBF0F8"
           }
          },
          "shapedefaults": {
           "line": {
            "color": "#2a3f5f"
           }
          },
          "ternary": {
           "aaxis": {
            "gridcolor": "#DFE8F3",
            "linecolor": "#A2B1C6",
            "ticks": ""
           },
           "baxis": {
            "gridcolor": "#DFE8F3",
            "linecolor": "#A2B1C6",
            "ticks": ""
           },
           "bgcolor": "white",
           "caxis": {
            "gridcolor": "#DFE8F3",
            "linecolor": "#A2B1C6",
            "ticks": ""
           }
          },
          "title": {
           "x": 0.05
          },
          "xaxis": {
           "automargin": true,
           "gridcolor": "#EBF0F8",
           "linecolor": "#EBF0F8",
           "ticks": "",
           "title": {
            "standoff": 15
           },
           "zerolinecolor": "#EBF0F8",
           "zerolinewidth": 2
          },
          "yaxis": {
           "automargin": true,
           "gridcolor": "#EBF0F8",
           "linecolor": "#EBF0F8",
           "ticks": "",
           "title": {
            "standoff": 15
           },
           "zerolinecolor": "#EBF0F8",
           "zerolinewidth": 2
          }
         }
        },
        "title": {
         "text": "Round 0 vs Round 1"
        },
        "xaxis": {
         "anchor": "y",
         "domain": [
          0,
          1
         ],
         "showticklabels": true,
         "tickmode": "array",
         "ticks": "outside",
         "ticktext": [
          "0",
          "1",
          "2",
          "3",
          "4",
          "5",
          "6",
          "7",
          "8",
          "9",
          "10",
          "11",
          "12",
          "13",
          "14",
          "15",
          "16",
          "17",
          "18",
          "19",
          "20",
          "21",
          "22",
          "23",
          "24",
          "25",
          "26",
          "27",
          "28",
          "29",
          "30",
          "31",
          "32",
          "33",
          "34",
          "35",
          "36",
          "37",
          "38",
          "39",
          "40",
          "41",
          "42",
          "43",
          "44",
          "45",
          "46",
          "47",
          "48",
          "49",
          "50",
          "51",
          "52",
          "53",
          "54",
          "55",
          "56",
          "57",
          "58",
          "59",
          "60",
          "61",
          "62",
          "63",
          "64",
          "65",
          "66",
          "67",
          "68",
          "69",
          "70",
          "71",
          "72",
          "73",
          "74",
          "75",
          "76",
          "77",
          "78",
          "79"
         ],
         "tickvals": {
          "bdata": "AAECAwQFBgcICQoLDA0ODxAREhMUFRYXGBkaGxwdHh8gISIjJCUmJygpKissLS4vMDEyMzQ1Njc4OTo7PD0+P0BBQkNERUZHSElKS0xNTk8=",
          "dtype": "i1"
         }
        },
        "xaxis2": {
         "anchor": "y2",
         "domain": [
          0,
          1
         ],
         "showticklabels": true,
         "tickmode": "array",
         "ticks": "outside",
         "ticktext": [
          "0",
          "1",
          "2",
          "3",
          "4",
          "5",
          "6",
          "7",
          "8",
          "9",
          "10",
          "11",
          "12",
          "13",
          "14",
          "15",
          "16",
          "17",
          "18",
          "19",
          "20",
          "21",
          "22",
          "23",
          "24",
          "25",
          "26",
          "27",
          "28",
          "29",
          "30",
          "31",
          "32",
          "33",
          "34",
          "35",
          "36",
          "37",
          "38",
          "39",
          "40",
          "41",
          "42",
          "43",
          "44",
          "45",
          "46",
          "47",
          "48",
          "49",
          "50",
          "51",
          "52",
          "53",
          "54",
          "55",
          "56",
          "57",
          "58",
          "59",
          "60",
          "61",
          "62",
          "63",
          "64",
          "65",
          "66",
          "67",
          "68",
          "69",
          "70",
          "71",
          "72",
          "73",
          "74",
          "75",
          "76",
          "77",
          "78",
          "79"
         ],
         "tickvals": {
          "bdata": "AAECAwQFBgcICQoLDA0ODxAREhMUFRYXGBkaGxwdHh8gISIjJCUmJygpKissLS4vMDEyMzQ1Njc4OTo7PD0+P0BBQkNERUZHSElKS0xNTk8=",
          "dtype": "i1"
         }
        },
        "xaxis3": {
         "anchor": "y3",
         "domain": [
          0,
          1
         ],
         "showticklabels": true,
         "tickmode": "array",
         "ticks": "outside",
         "ticktext": [
          "0",
          "1",
          "2",
          "3",
          "4",
          "5",
          "6",
          "7",
          "8",
          "9",
          "10",
          "11",
          "12",
          "13",
          "14",
          "15",
          "16",
          "17",
          "18",
          "19",
          "20",
          "21",
          "22",
          "23",
          "24",
          "25",
          "26",
          "27",
          "28",
          "29",
          "30",
          "31",
          "32",
          "33",
          "34",
          "35",
          "36",
          "37",
          "38",
          "39",
          "40",
          "41",
          "42",
          "43",
          "44",
          "45",
          "46",
          "47",
          "48",
          "49",
          "50",
          "51",
          "52",
          "53",
          "54",
          "55",
          "56",
          "57",
          "58",
          "59",
          "60",
          "61",
          "62",
          "63",
          "64",
          "65",
          "66",
          "67",
          "68",
          "69",
          "70",
          "71",
          "72",
          "73",
          "74",
          "75",
          "76",
          "77",
          "78",
          "79"
         ],
         "tickvals": {
          "bdata": "AAECAwQFBgcICQoLDA0ODxAREhMUFRYXGBkaGxwdHh8gISIjJCUmJygpKissLS4vMDEyMzQ1Njc4OTo7PD0+P0BBQkNERUZHSElKS0xNTk8=",
          "dtype": "i1"
         },
         "title": {
          "text": "Action ID (0–79)"
         }
        },
        "yaxis": {
         "anchor": "x",
         "domain": [
          0.72,
          1
         ],
         "range": [
          0,
          0.015817901234567902
         ],
         "title": {
          "text": "P(action selected)"
         }
        },
        "yaxis2": {
         "anchor": "x2",
         "domain": [
          0.36,
          0.6399999999999999
         ],
         "range": [
          0,
          0.015817901234567902
         ],
         "title": {
          "text": "P(action selected)"
         }
        },
        "yaxis3": {
         "anchor": "x3",
         "domain": [
          0,
          0.27999999999999997
         ],
         "range": [
          0,
          0.015817901234567902
         ],
         "title": {
          "text": "P(action selected)"
         }
        }
       }
      }
     },
     "metadata": {},
     "output_type": "display_data"
    },
    {
     "name": "stdout",
     "output_type": "stream",
     "text": [
      "Round 2 samples:\n",
      "    action  position  reward  pscore\n",
      "0      25         0       0  0.0125\n",
      "1      62         1       0  0.0125\n",
      "2      38         2       0  0.0125\n"
     ]
    },
    {
     "data": {
      "application/vnd.plotly.v1+json": {
       "config": {
        "plotlyServerURL": "https://plot.ly"
       },
       "data": [
        {
         "customdata": {
          "bdata": "AAAAAAAAAAAAAAAAAAAAAAAAAAAAAAAAAAAAAAAAAAAAAAAAAAAAAAAAAAAAAAAAAAAAAAAAAAAAAAAAAAAAAAAAAAAAAAAAAAAAAAAAAAA=",
          "dtype": "i1",
          "shape": "80, 1"
         },
         "hovertemplate": "Position: %{customdata[0]}<br>Action: %{x}<br>Round: 1<br>P: %{y:.6f}<extra></extra>",
         "marker": {
          "color": "steelblue"
         },
         "name": "Round 1",
         "opacity": 0.6,
         "showlegend": true,
         "type": "bar",
         "x": {
          "bdata": "AAECAwQFBgcICQoLDA0ODxAREhMUFRYXGBkaGxwdHh8gISIjJCUmJygpKissLS4vMDEyMzQ1Njc4OTo7PD0+P0BBQkNERUZHSElKS0xNTk8=",
          "dtype": "i1"
         },
         "xaxis": "x",
         "y": {
          "bdata": "U0lcNoLqiT9TSVw2guqJP1NJXDaC6ok/U0lcNoLqiT9TSVw2guqJP1NJXDaC6ok/U0lcNoLqiT9TSVw2guqJP1NJXDaC6ok/U0lcNoLqiT9TSVw2guqJP03uqzAnOjQ/U0lcNoLqiT9TSVw2guqJP1NJXDaC6ok/U0lcNoLqiT9TSVw2guqJP1NJXDaC6ok/U0lcNoLqiT9TSVw2guqJP1NJXDaC6ok/U0lcNoLqiT9TSVw2guqJP1NJXDaC6ok/U0lcNoLqiT9TSVw2guqJP1NJXDaC6ok/U0lcNoLqiT9TSVw2guqJP1NJXDaC6ok/U0lcNoLqiT9TSVw2guqJP1NJXDaC6ok/U0lcNoLqiT9TSVw2guqJP1NJXDaC6ok/U0lcNoLqiT9TSVw2guqJP1NJXDaC6ok/U0lcNoLqiT9TSVw2guqJP1NJXDaC6ok/U0lcNoLqiT9TSVw2guqJP1NJXDaC6ok/U0lcNoLqiT9TSVw2guqJP1NJXDaC6ok/U0lcNoLqiT9TSVw2guqJP1NJXDaC6ok/U0lcNoLqiT9TSVw2guqJP1NJXDaC6ok/U0lcNoLqiT9TSVw2guqJP1NJXDaC6ok/U0lcNoLqiT9TSVw2guqJP1NJXDaC6ok/U0lcNoLqiT9TSVw2guqJP1NJXDaC6ok/U0lcNoLqiT9TSVw2guqJP1NJXDaC6ok/U0lcNoLqiT9TSVw2guqJP1NJXDaC6ok/U0lcNoLqiT9TSVw2guqJP1NJXDaC6ok/U0lcNoLqiT9TSVw2guqJP1NJXDaC6ok/U0lcNoLqiT9TSVw2guqJP1NJXDaC6ok/U0lcNoLqiT9TSVw2guqJPw==",
          "dtype": "f8"
         },
         "yaxis": "y"
        },
        {
         "customdata": {
          "bdata": "AAAAAAAAAAAAAAAAAAAAAAAAAAAAAAAAAAAAAAAAAAAAAAAAAAAAAAAAAAAAAAAAAAAAAAAAAAAAAAAAAAAAAAAAAAAAAAAAAAAAAAAAAAA=",
          "dtype": "i1",
          "shape": "80, 1"
         },
         "hovertemplate": "Position: %{customdata[0]}<br>Action: %{x}<br>Round: 2<br>P: %{y:.6f}<extra></extra>",
         "marker": {
          "color": "darkorange"
         },
         "name": "Round 2",
         "opacity": 0.8,
         "showlegend": true,
         "type": "bar",
         "x": {
          "bdata": "AAECAwQFBgcICQoLDA0ODxAREhMUFRYXGBkaGxwdHh8gISIjJCUmJygpKissLS4vMDEyMzQ1Njc4OTo7PD0+P0BBQkNERUZHSElKS0xNTk8=",
          "dtype": "i1"
         },
         "xaxis": "x",
         "y": {
          "bdata": "p5at9UVCiz/+fcaFAyGJP2O0jqomiIo/+tAF9S1zij9C7Eyh8xqLP9UJaCJseIo/yNKHLqhviT//CS5W1GCKP2tgqwSLw4k/0NA/wcWKij81QdR9AFKLP0PFOH8TCjE/cF8HzhlRij/M0eP3Nv2JP9R9AFKbOIk/B0KygAncij8DQ1a3ek6KPwd8fhghPIo/Ugq6vaQxij817zhFR3KJP1+1MuGX+ok//89hvrwAiz/uX1lpUgqKPxMn9zsUBYo/mpmZmZmZiT8aFw6EZAEzPxhgH5268ok/r0LKT6p9ij990LNZ9bmKP7snDwu1pok/Ugq6vaQxij98CoDxDBqKP4EJ3Lqbp4o/A8+9h0uOiz+rCaLuA5CKP4m1+BQA44k/cJnTZTGxiT8LtaZ5xymKPy3Pg7uzdos/Oe6UDtb/iT+ze/KwUGuKPw/uztptF4o/gH106spniT//CS5W1GCKPz7t8NdkjYo/r0LKT6p9ij+vQspPqn2KP5pfzQGCOYo/gQncupunij+e0sH6P4eJP/JetTLhl4o/hXzQs1n1iT900vvG156JP0rSNZNvtok/luzYCMTrij9n7bYLzXWKP3AlOzYC8Yo/7iWN0Tqqij//CS5W1GCKP3BfB84ZUYo/5SfVPh2PiT/A7J48LNSKP4EJ3Lqbp4o//wkuVtRgij//CS5W1GCKP1IKur2kMYo/jbRU3o5wij/y0k1iEFiJP+lg/Z/DfIk/gQncupunij+NKO0NvjCJPxxfe2ZJgIo/KAr0iTxJij/pYP2fw3yJPz0nvW987Yk/r3yW58HdiT/ZQpCDEmaKPyTRyyiWW4o/C7Wmeccpij8oCvSJPEmKPw==",
          "dtype": "f8"
         },
         "yaxis": "y"
        },
        {
         "customdata": {
          "bdata": "AQEBAQEBAQEBAQEBAQEBAQEBAQEBAQEBAQEBAQEBAQEBAQEBAQEBAQEBAQEBAQEBAQEBAQEBAQEBAQEBAQEBAQEBAQEBAQEBAQEBAQEBAQE=",
          "dtype": "i1",
          "shape": "80, 1"
         },
         "hovertemplate": "Position: %{customdata[0]}<br>Action: %{x}<br>Round: 1<br>P: %{y:.6f}<extra></extra>",
         "marker": {
          "color": "steelblue"
         },
         "name": "Round 1",
         "opacity": 0.6,
         "showlegend": false,
         "type": "bar",
         "x": {
          "bdata": "AAECAwQFBgcICQoLDA0ODxAREhMUFRYXGBkaGxwdHh8gISIjJCUmJygpKissLS4vMDEyMzQ1Njc4OTo7PD0+P0BBQkNERUZHSElKS0xNTk8=",
          "dtype": "i1"
         },
         "xaxis": "x2",
         "y": {
          "bdata": "U0lcNoLqiT9TSVw2guqJP1NJXDaC6ok/U0lcNoLqiT9TSVw2guqJP1NJXDaC6ok/U0lcNoLqiT9TSVw2guqJP1NJXDaC6ok/U0lcNoLqiT9TSVw2guqJP1NJXDaC6ok/U0lcNoLqiT9TSVw2guqJP1NJXDaC6ok/U0lcNoLqiT9TSVw2guqJP1NJXDaC6ok/U0lcNoLqiT9TSVw2guqJP1NJXDaC6ok/U0lcNoLqiT9TSVw2guqJP1NJXDaC6ok/U0lcNoLqiT9TSVw2guqJP1NJXDaC6ok/U0lcNoLqiT9TSVw2guqJP1NJXDaC6ok/U0lcNoLqiT9TSVw2guqJP1NJXDaC6ok/U0lcNoLqiT9TSVw2guqJP1NJXDaC6ok/U0lcNoLqiT9TSVw2guqJP1NJXDaC6ok/U0lcNoLqiT9TSVw2guqJP1NJXDaC6ok/U0lcNoLqiT9TSVw2guqJP1NJXDaC6ok/U0lcNoLqiT9TSVw2guqJP1NJXDaC6ok/U0lcNoLqiT9TSVw2guqJP1NJXDaC6ok/U0lcNoLqiT9N7qswJzo0P1NJXDaC6ok/U0lcNoLqiT9TSVw2guqJP1NJXDaC6ok/U0lcNoLqiT9TSVw2guqJP1NJXDaC6ok/U0lcNoLqiT9TSVw2guqJP1NJXDaC6ok/U0lcNoLqiT9TSVw2guqJP1NJXDaC6ok/U0lcNoLqiT9TSVw2guqJP1NJXDaC6ok/U0lcNoLqiT9TSVw2guqJP1NJXDaC6ok/U0lcNoLqiT9TSVw2guqJP1NJXDaC6ok/U0lcNoLqiT9TSVw2guqJP1NJXDaC6ok/U0lcNoLqiT9TSVw2guqJPw==",
          "dtype": "f8"
         },
         "yaxis": "y2"
        },
        {
         "customdata": {
          "bdata": "AQEBAQEBAQEBAQEBAQEBAQEBAQEBAQEBAQEBAQEBAQEBAQEBAQEBAQEBAQEBAQEBAQEBAQEBAQEBAQEBAQEBAQEBAQEBAQEBAQEBAQEBAQE=",
          "dtype": "i1",
          "shape": "80, 1"
         },
         "hovertemplate": "Position: %{customdata[0]}<br>Action: %{x}<br>Round: 2<br>P: %{y:.6f}<extra></extra>",
         "marker": {
          "color": "darkorange"
         },
         "name": "Round 2",
         "opacity": 0.8,
         "showlegend": false,
         "type": "bar",
         "x": {
          "bdata": "AAECAwQFBgcICQoLDA0ODxAREhMUFRYXGBkaGxwdHh8gISIjJCUmJygpKissLS4vMDEyMzQ1Njc4OTo7PD0+P0BBQkNERUZHSElKS0xNTk8=",
          "dtype": "i1"
         },
         "xaxis": "x2",
         "y": {
          "bdata": "B0KygAncij/6RJ4kXTOJP1dD4h5LH4o/B3x+GCE8ij9rYKsEi8OJP7N78rBQa4o/tyizQSYZiT+NtFTejnCKP5pfzQGCOYo/eNFXkGYsij/M0eP3Nv2JP8Dsnjws1Io/IJijx+9tij9j7lpCPuiJP5olAWpq2Yo/wCZr1EM0ij+R7Xw/NV6KP6pDboYb8Ik/opdRLLe0ij+JtfgUAOOJP+5fWWlSCoo/gQncupunij8P7s7abReKP1cJFoczv4o/wOyePCzUij8YYB+duvKJP3iXi/hOzIo/zNHj9zb9iT8PtAJDVreKP1Z9rrZif4k//89hvrwAiz857pQO1v+JPxSzXgzlRIs/3bWEfNCziT/q7GRwlLyKP6vP1VbsL4s/6WD9n8N8iT81tWytLxKKP+WzPA/uzoo/hUIEHEKVij9SCrq9pDGKP3TS+8bXnok/C7Wmeccpij+emPViKCeKPygK9Ik8SYo/JJf/kH77ij8HtkqwOJyJP2cng6Pk1Yk/cF8HzhlRij/meXB31m6LP4V80LNZ9Yk/ntLB+j+HiT+U9gZfmEw1P3iXi/hOzIo/kSdJ10y+iT/l7QinBS+KP3wKgPEMGoo/fAqA8Qwaij8kl/+QfvuKP1dD4h5LH4o/GCZTBaOSij8tCVBTy9aKP2tI3GPpQzc/6SYxCKwcij/EJced0sGKP+HurN12oYk/6WD9n8N8iT/EmV/NAYKJP0qYaftXVoo/cF8HzhlRij/MlxdgH52KP2dhTzv8NYk/je4gdqbQiT9sJt9sc2OKP917uOS4U4o/fdCzWfW5ij81tWytLxKKPzW1bK0vEoo/xJlfzQGCiT/ZQpCDEmaKPw==",
          "dtype": "f8"
         },
         "yaxis": "y2"
        },
        {
         "customdata": {
          "bdata": "AgICAgICAgICAgICAgICAgICAgICAgICAgICAgICAgICAgICAgICAgICAgICAgICAgICAgICAgICAgICAgICAgICAgICAgICAgICAgICAgI=",
          "dtype": "i1",
          "shape": "80, 1"
         },
         "hovertemplate": "Position: %{customdata[0]}<br>Action: %{x}<br>Round: 1<br>P: %{y:.6f}<extra></extra>",
         "marker": {
          "color": "steelblue"
         },
         "name": "Round 1",
         "opacity": 0.6,
         "showlegend": false,
         "type": "bar",
         "x": {
          "bdata": "AAECAwQFBgcICQoLDA0ODxAREhMUFRYXGBkaGxwdHh8gISIjJCUmJygpKissLS4vMDEyMzQ1Njc4OTo7PD0+P0BBQkNERUZHSElKS0xNTk8=",
          "dtype": "i1"
         },
         "xaxis": "x3",
         "y": {
          "bdata": "U0lcNoLqiT9TSVw2guqJP1NJXDaC6ok/U0lcNoLqiT9TSVw2guqJP1NJXDaC6ok/U0lcNoLqiT9TSVw2guqJP1NJXDaC6ok/U0lcNoLqiT9TSVw2guqJP1NJXDaC6ok/U0lcNoLqiT9TSVw2guqJP1NJXDaC6ok/U0lcNoLqiT9TSVw2guqJP1NJXDaC6ok/U0lcNoLqiT9TSVw2guqJP1NJXDaC6ok/U0lcNoLqiT9TSVw2guqJP1NJXDaC6ok/U0lcNoLqiT9TSVw2guqJP1NJXDaC6ok/U0lcNoLqiT9TSVw2guqJP1NJXDaC6ok/U0lcNoLqiT9TSVw2guqJP1NJXDaC6ok/U0lcNoLqiT9TSVw2guqJP1NJXDaC6ok/U0lcNoLqiT9TSVw2guqJP1NJXDaC6ok/U0lcNoLqiT9TSVw2guqJP1NJXDaC6ok/U0lcNoLqiT9N7qswJzo0P1NJXDaC6ok/U0lcNoLqiT9TSVw2guqJP1NJXDaC6ok/U0lcNoLqiT9TSVw2guqJP1NJXDaC6ok/U0lcNoLqiT9TSVw2guqJP1NJXDaC6ok/U0lcNoLqiT9TSVw2guqJP1NJXDaC6ok/U0lcNoLqiT9TSVw2guqJP1NJXDaC6ok/U0lcNoLqiT9TSVw2guqJP1NJXDaC6ok/U0lcNoLqiT9TSVw2guqJP1NJXDaC6ok/U0lcNoLqiT9TSVw2guqJP1NJXDaC6ok/U0lcNoLqiT9TSVw2guqJP1NJXDaC6ok/U0lcNoLqiT9TSVw2guqJP1NJXDaC6ok/U0lcNoLqiT9TSVw2guqJP1NJXDaC6ok/U0lcNoLqiT9TSVw2guqJPw==",
          "dtype": "f8"
         },
         "yaxis": "y3"
        },
        {
         "customdata": {
          "bdata": "AgICAgICAgICAgICAgICAgICAgICAgICAgICAgICAgICAgICAgICAgICAgICAgICAgICAgICAgICAgICAgICAgICAgICAgICAgICAgICAgI=",
          "dtype": "i1",
          "shape": "80, 1"
         },
         "hovertemplate": "Position: %{customdata[0]}<br>Action: %{x}<br>Round: 2<br>P: %{y:.6f}<extra></extra>",
         "marker": {
          "color": "darkorange"
         },
         "name": "Round 2",
         "opacity": 0.8,
         "showlegend": false,
         "type": "bar",
         "x": {
          "bdata": "AAECAwQFBgcICQoLDA0ODxAREhMUFRYXGBkaGxwdHh8gISIjJCUmJygpKissLS4vMDEyMzQ1Njc4OTo7PD0+P0BBQkNERUZHSElKS0xNTk8=",
          "dtype": "i1"
         },
         "xaxis": "x3",
         "y": {
          "bdata": "ZyeDo+TViT8g0m9fB86JP4EJ3Lqbp4o/JNHLKJZbij+WJqWg20uKPwd8fhghPIo/wOyePCzUij+ztb5IaMuJP8yXF2AfnYo/QiYZOQt7ij+R7Xw/NV6KP+4ljdE6qoo/gUOoUrMHij/h7qzddqGJP6bQeY1dooo/V0PiHksfij89J71vfO2JP4m1+BQA44k/5SfVPh2PiT98CoDxDBqKP9UJaCJseIo/KAr0iTxJij/IXu/+eK+KP698lufB3Yk/ObTIdr6fij+vfJbnwd2JP3CZ02UxsYk/TtGRXP5Dij81tWytLxKKP1JEhlW8kYk/AwmKH2Puij/l7QinBS+KPy0JUFPL1oo/Eyf3OxQFij8HfH4YITyKP/uWOV0WE4s/2UKQgxJmij/uX1lpUgqKP03bv7LSpDQ/Vn2utmJ/iT9bfAqA8QyKPwNDVrd6Too/t3pOet/4ij+An3HhQEg2P1JEhlW8kYk/hUIEHEKVij+8s3bbheaKP5YmpaDbS4o/U9DtJY3Rij+qQ26GG/CJP8xdS8gHPYs/LH3ogvqWiT8DQ1a3ek6KPy1DHOviNoo/RpkNMsnIiT+VYHE486uJP8Ama9RDNIo/gH106spniT8cX3tmSYCKPyBe1y/YDYs/AwmKH2Puij990LNZ9bmKP2fttgvNdYo/Ne84RUdyiT+77UJznUaKP+5fWWlSCoo/+5Y5XRYTiz9XCRaHM7+KP/5D+u3rwIk/TtGRXP5Dij9rYKsEi8OJP5VgcTjzq4k/3bWEfNCziT//CS5W1GCKP3iXi/hOzIo/W3wKgPEMij/EJced0sGKP8Ama9RDNIo/mpmZmZmZiT8LtaZ5xymKPw==",
          "dtype": "f8"
         },
         "yaxis": "y3"
        }
       ],
       "layout": {
        "annotations": [
         {
          "font": {
           "size": 16
          },
          "showarrow": false,
          "text": "Position 0",
          "x": 0.5,
          "xanchor": "center",
          "xref": "paper",
          "y": 1,
          "yanchor": "bottom",
          "yref": "paper"
         },
         {
          "font": {
           "size": 16
          },
          "showarrow": false,
          "text": "Position 1",
          "x": 0.5,
          "xanchor": "center",
          "xref": "paper",
          "y": 0.6399999999999999,
          "yanchor": "bottom",
          "yref": "paper"
         },
         {
          "font": {
           "size": 16
          },
          "showarrow": false,
          "text": "Position 2",
          "x": 0.5,
          "xanchor": "center",
          "xref": "paper",
          "y": 0.27999999999999997,
          "yanchor": "bottom",
          "yref": "paper"
         }
        ],
        "bargap": 0.15,
        "barmode": "group",
        "height": 900,
        "template": {
         "data": {
          "bar": [
           {
            "error_x": {
             "color": "#2a3f5f"
            },
            "error_y": {
             "color": "#2a3f5f"
            },
            "marker": {
             "line": {
              "color": "white",
              "width": 0.5
             },
             "pattern": {
              "fillmode": "overlay",
              "size": 10,
              "solidity": 0.2
             }
            },
            "type": "bar"
           }
          ],
          "barpolar": [
           {
            "marker": {
             "line": {
              "color": "white",
              "width": 0.5
             },
             "pattern": {
              "fillmode": "overlay",
              "size": 10,
              "solidity": 0.2
             }
            },
            "type": "barpolar"
           }
          ],
          "carpet": [
           {
            "aaxis": {
             "endlinecolor": "#2a3f5f",
             "gridcolor": "#C8D4E3",
             "linecolor": "#C8D4E3",
             "minorgridcolor": "#C8D4E3",
             "startlinecolor": "#2a3f5f"
            },
            "baxis": {
             "endlinecolor": "#2a3f5f",
             "gridcolor": "#C8D4E3",
             "linecolor": "#C8D4E3",
             "minorgridcolor": "#C8D4E3",
             "startlinecolor": "#2a3f5f"
            },
            "type": "carpet"
           }
          ],
          "choropleth": [
           {
            "colorbar": {
             "outlinewidth": 0,
             "ticks": ""
            },
            "type": "choropleth"
           }
          ],
          "contour": [
           {
            "colorbar": {
             "outlinewidth": 0,
             "ticks": ""
            },
            "colorscale": [
             [
              0,
              "#0d0887"
             ],
             [
              0.1111111111111111,
              "#46039f"
             ],
             [
              0.2222222222222222,
              "#7201a8"
             ],
             [
              0.3333333333333333,
              "#9c179e"
             ],
             [
              0.4444444444444444,
              "#bd3786"
             ],
             [
              0.5555555555555556,
              "#d8576b"
             ],
             [
              0.6666666666666666,
              "#ed7953"
             ],
             [
              0.7777777777777778,
              "#fb9f3a"
             ],
             [
              0.8888888888888888,
              "#fdca26"
             ],
             [
              1,
              "#f0f921"
             ]
            ],
            "type": "contour"
           }
          ],
          "contourcarpet": [
           {
            "colorbar": {
             "outlinewidth": 0,
             "ticks": ""
            },
            "type": "contourcarpet"
           }
          ],
          "heatmap": [
           {
            "colorbar": {
             "outlinewidth": 0,
             "ticks": ""
            },
            "colorscale": [
             [
              0,
              "#0d0887"
             ],
             [
              0.1111111111111111,
              "#46039f"
             ],
             [
              0.2222222222222222,
              "#7201a8"
             ],
             [
              0.3333333333333333,
              "#9c179e"
             ],
             [
              0.4444444444444444,
              "#bd3786"
             ],
             [
              0.5555555555555556,
              "#d8576b"
             ],
             [
              0.6666666666666666,
              "#ed7953"
             ],
             [
              0.7777777777777778,
              "#fb9f3a"
             ],
             [
              0.8888888888888888,
              "#fdca26"
             ],
             [
              1,
              "#f0f921"
             ]
            ],
            "type": "heatmap"
           }
          ],
          "histogram": [
           {
            "marker": {
             "pattern": {
              "fillmode": "overlay",
              "size": 10,
              "solidity": 0.2
             }
            },
            "type": "histogram"
           }
          ],
          "histogram2d": [
           {
            "colorbar": {
             "outlinewidth": 0,
             "ticks": ""
            },
            "colorscale": [
             [
              0,
              "#0d0887"
             ],
             [
              0.1111111111111111,
              "#46039f"
             ],
             [
              0.2222222222222222,
              "#7201a8"
             ],
             [
              0.3333333333333333,
              "#9c179e"
             ],
             [
              0.4444444444444444,
              "#bd3786"
             ],
             [
              0.5555555555555556,
              "#d8576b"
             ],
             [
              0.6666666666666666,
              "#ed7953"
             ],
             [
              0.7777777777777778,
              "#fb9f3a"
             ],
             [
              0.8888888888888888,
              "#fdca26"
             ],
             [
              1,
              "#f0f921"
             ]
            ],
            "type": "histogram2d"
           }
          ],
          "histogram2dcontour": [
           {
            "colorbar": {
             "outlinewidth": 0,
             "ticks": ""
            },
            "colorscale": [
             [
              0,
              "#0d0887"
             ],
             [
              0.1111111111111111,
              "#46039f"
             ],
             [
              0.2222222222222222,
              "#7201a8"
             ],
             [
              0.3333333333333333,
              "#9c179e"
             ],
             [
              0.4444444444444444,
              "#bd3786"
             ],
             [
              0.5555555555555556,
              "#d8576b"
             ],
             [
              0.6666666666666666,
              "#ed7953"
             ],
             [
              0.7777777777777778,
              "#fb9f3a"
             ],
             [
              0.8888888888888888,
              "#fdca26"
             ],
             [
              1,
              "#f0f921"
             ]
            ],
            "type": "histogram2dcontour"
           }
          ],
          "mesh3d": [
           {
            "colorbar": {
             "outlinewidth": 0,
             "ticks": ""
            },
            "type": "mesh3d"
           }
          ],
          "parcoords": [
           {
            "line": {
             "colorbar": {
              "outlinewidth": 0,
              "ticks": ""
             }
            },
            "type": "parcoords"
           }
          ],
          "pie": [
           {
            "automargin": true,
            "type": "pie"
           }
          ],
          "scatter": [
           {
            "fillpattern": {
             "fillmode": "overlay",
             "size": 10,
             "solidity": 0.2
            },
            "type": "scatter"
           }
          ],
          "scatter3d": [
           {
            "line": {
             "colorbar": {
              "outlinewidth": 0,
              "ticks": ""
             }
            },
            "marker": {
             "colorbar": {
              "outlinewidth": 0,
              "ticks": ""
             }
            },
            "type": "scatter3d"
           }
          ],
          "scattercarpet": [
           {
            "marker": {
             "colorbar": {
              "outlinewidth": 0,
              "ticks": ""
             }
            },
            "type": "scattercarpet"
           }
          ],
          "scattergeo": [
           {
            "marker": {
             "colorbar": {
              "outlinewidth": 0,
              "ticks": ""
             }
            },
            "type": "scattergeo"
           }
          ],
          "scattergl": [
           {
            "marker": {
             "colorbar": {
              "outlinewidth": 0,
              "ticks": ""
             }
            },
            "type": "scattergl"
           }
          ],
          "scattermap": [
           {
            "marker": {
             "colorbar": {
              "outlinewidth": 0,
              "ticks": ""
             }
            },
            "type": "scattermap"
           }
          ],
          "scattermapbox": [
           {
            "marker": {
             "colorbar": {
              "outlinewidth": 0,
              "ticks": ""
             }
            },
            "type": "scattermapbox"
           }
          ],
          "scatterpolar": [
           {
            "marker": {
             "colorbar": {
              "outlinewidth": 0,
              "ticks": ""
             }
            },
            "type": "scatterpolar"
           }
          ],
          "scatterpolargl": [
           {
            "marker": {
             "colorbar": {
              "outlinewidth": 0,
              "ticks": ""
             }
            },
            "type": "scatterpolargl"
           }
          ],
          "scatterternary": [
           {
            "marker": {
             "colorbar": {
              "outlinewidth": 0,
              "ticks": ""
             }
            },
            "type": "scatterternary"
           }
          ],
          "surface": [
           {
            "colorbar": {
             "outlinewidth": 0,
             "ticks": ""
            },
            "colorscale": [
             [
              0,
              "#0d0887"
             ],
             [
              0.1111111111111111,
              "#46039f"
             ],
             [
              0.2222222222222222,
              "#7201a8"
             ],
             [
              0.3333333333333333,
              "#9c179e"
             ],
             [
              0.4444444444444444,
              "#bd3786"
             ],
             [
              0.5555555555555556,
              "#d8576b"
             ],
             [
              0.6666666666666666,
              "#ed7953"
             ],
             [
              0.7777777777777778,
              "#fb9f3a"
             ],
             [
              0.8888888888888888,
              "#fdca26"
             ],
             [
              1,
              "#f0f921"
             ]
            ],
            "type": "surface"
           }
          ],
          "table": [
           {
            "cells": {
             "fill": {
              "color": "#EBF0F8"
             },
             "line": {
              "color": "white"
             }
            },
            "header": {
             "fill": {
              "color": "#C8D4E3"
             },
             "line": {
              "color": "white"
             }
            },
            "type": "table"
           }
          ]
         },
         "layout": {
          "annotationdefaults": {
           "arrowcolor": "#2a3f5f",
           "arrowhead": 0,
           "arrowwidth": 1
          },
          "autotypenumbers": "strict",
          "coloraxis": {
           "colorbar": {
            "outlinewidth": 0,
            "ticks": ""
           }
          },
          "colorscale": {
           "diverging": [
            [
             0,
             "#8e0152"
            ],
            [
             0.1,
             "#c51b7d"
            ],
            [
             0.2,
             "#de77ae"
            ],
            [
             0.3,
             "#f1b6da"
            ],
            [
             0.4,
             "#fde0ef"
            ],
            [
             0.5,
             "#f7f7f7"
            ],
            [
             0.6,
             "#e6f5d0"
            ],
            [
             0.7,
             "#b8e186"
            ],
            [
             0.8,
             "#7fbc41"
            ],
            [
             0.9,
             "#4d9221"
            ],
            [
             1,
             "#276419"
            ]
           ],
           "sequential": [
            [
             0,
             "#0d0887"
            ],
            [
             0.1111111111111111,
             "#46039f"
            ],
            [
             0.2222222222222222,
             "#7201a8"
            ],
            [
             0.3333333333333333,
             "#9c179e"
            ],
            [
             0.4444444444444444,
             "#bd3786"
            ],
            [
             0.5555555555555556,
             "#d8576b"
            ],
            [
             0.6666666666666666,
             "#ed7953"
            ],
            [
             0.7777777777777778,
             "#fb9f3a"
            ],
            [
             0.8888888888888888,
             "#fdca26"
            ],
            [
             1,
             "#f0f921"
            ]
           ],
           "sequentialminus": [
            [
             0,
             "#0d0887"
            ],
            [
             0.1111111111111111,
             "#46039f"
            ],
            [
             0.2222222222222222,
             "#7201a8"
            ],
            [
             0.3333333333333333,
             "#9c179e"
            ],
            [
             0.4444444444444444,
             "#bd3786"
            ],
            [
             0.5555555555555556,
             "#d8576b"
            ],
            [
             0.6666666666666666,
             "#ed7953"
            ],
            [
             0.7777777777777778,
             "#fb9f3a"
            ],
            [
             0.8888888888888888,
             "#fdca26"
            ],
            [
             1,
             "#f0f921"
            ]
           ]
          },
          "colorway": [
           "#636efa",
           "#EF553B",
           "#00cc96",
           "#ab63fa",
           "#FFA15A",
           "#19d3f3",
           "#FF6692",
           "#B6E880",
           "#FF97FF",
           "#FECB52"
          ],
          "font": {
           "color": "#2a3f5f"
          },
          "geo": {
           "bgcolor": "white",
           "lakecolor": "white",
           "landcolor": "white",
           "showlakes": true,
           "showland": true,
           "subunitcolor": "#C8D4E3"
          },
          "hoverlabel": {
           "align": "left"
          },
          "hovermode": "closest",
          "mapbox": {
           "style": "light"
          },
          "paper_bgcolor": "white",
          "plot_bgcolor": "white",
          "polar": {
           "angularaxis": {
            "gridcolor": "#EBF0F8",
            "linecolor": "#EBF0F8",
            "ticks": ""
           },
           "bgcolor": "white",
           "radialaxis": {
            "gridcolor": "#EBF0F8",
            "linecolor": "#EBF0F8",
            "ticks": ""
           }
          },
          "scene": {
           "xaxis": {
            "backgroundcolor": "white",
            "gridcolor": "#DFE8F3",
            "gridwidth": 2,
            "linecolor": "#EBF0F8",
            "showbackground": true,
            "ticks": "",
            "zerolinecolor": "#EBF0F8"
           },
           "yaxis": {
            "backgroundcolor": "white",
            "gridcolor": "#DFE8F3",
            "gridwidth": 2,
            "linecolor": "#EBF0F8",
            "showbackground": true,
            "ticks": "",
            "zerolinecolor": "#EBF0F8"
           },
           "zaxis": {
            "backgroundcolor": "white",
            "gridcolor": "#DFE8F3",
            "gridwidth": 2,
            "linecolor": "#EBF0F8",
            "showbackground": true,
            "ticks": "",
            "zerolinecolor": "#EBF0F8"
           }
          },
          "shapedefaults": {
           "line": {
            "color": "#2a3f5f"
           }
          },
          "ternary": {
           "aaxis": {
            "gridcolor": "#DFE8F3",
            "linecolor": "#A2B1C6",
            "ticks": ""
           },
           "baxis": {
            "gridcolor": "#DFE8F3",
            "linecolor": "#A2B1C6",
            "ticks": ""
           },
           "bgcolor": "white",
           "caxis": {
            "gridcolor": "#DFE8F3",
            "linecolor": "#A2B1C6",
            "ticks": ""
           }
          },
          "title": {
           "x": 0.05
          },
          "xaxis": {
           "automargin": true,
           "gridcolor": "#EBF0F8",
           "linecolor": "#EBF0F8",
           "ticks": "",
           "title": {
            "standoff": 15
           },
           "zerolinecolor": "#EBF0F8",
           "zerolinewidth": 2
          },
          "yaxis": {
           "automargin": true,
           "gridcolor": "#EBF0F8",
           "linecolor": "#EBF0F8",
           "ticks": "",
           "title": {
            "standoff": 15
           },
           "zerolinecolor": "#EBF0F8",
           "zerolinewidth": 2
          }
         }
        },
        "title": {
         "text": "Round 1 vs Round 2"
        },
        "xaxis": {
         "anchor": "y",
         "domain": [
          0,
          1
         ],
         "showticklabels": true,
         "tickmode": "array",
         "ticks": "outside",
         "ticktext": [
          "0",
          "1",
          "2",
          "3",
          "4",
          "5",
          "6",
          "7",
          "8",
          "9",
          "10",
          "11",
          "12",
          "13",
          "14",
          "15",
          "16",
          "17",
          "18",
          "19",
          "20",
          "21",
          "22",
          "23",
          "24",
          "25",
          "26",
          "27",
          "28",
          "29",
          "30",
          "31",
          "32",
          "33",
          "34",
          "35",
          "36",
          "37",
          "38",
          "39",
          "40",
          "41",
          "42",
          "43",
          "44",
          "45",
          "46",
          "47",
          "48",
          "49",
          "50",
          "51",
          "52",
          "53",
          "54",
          "55",
          "56",
          "57",
          "58",
          "59",
          "60",
          "61",
          "62",
          "63",
          "64",
          "65",
          "66",
          "67",
          "68",
          "69",
          "70",
          "71",
          "72",
          "73",
          "74",
          "75",
          "76",
          "77",
          "78",
          "79"
         ],
         "tickvals": {
          "bdata": "AAECAwQFBgcICQoLDA0ODxAREhMUFRYXGBkaGxwdHh8gISIjJCUmJygpKissLS4vMDEyMzQ1Njc4OTo7PD0+P0BBQkNERUZHSElKS0xNTk8=",
          "dtype": "i1"
         }
        },
        "xaxis2": {
         "anchor": "y2",
         "domain": [
          0,
          1
         ],
         "showticklabels": true,
         "tickmode": "array",
         "ticks": "outside",
         "ticktext": [
          "0",
          "1",
          "2",
          "3",
          "4",
          "5",
          "6",
          "7",
          "8",
          "9",
          "10",
          "11",
          "12",
          "13",
          "14",
          "15",
          "16",
          "17",
          "18",
          "19",
          "20",
          "21",
          "22",
          "23",
          "24",
          "25",
          "26",
          "27",
          "28",
          "29",
          "30",
          "31",
          "32",
          "33",
          "34",
          "35",
          "36",
          "37",
          "38",
          "39",
          "40",
          "41",
          "42",
          "43",
          "44",
          "45",
          "46",
          "47",
          "48",
          "49",
          "50",
          "51",
          "52",
          "53",
          "54",
          "55",
          "56",
          "57",
          "58",
          "59",
          "60",
          "61",
          "62",
          "63",
          "64",
          "65",
          "66",
          "67",
          "68",
          "69",
          "70",
          "71",
          "72",
          "73",
          "74",
          "75",
          "76",
          "77",
          "78",
          "79"
         ],
         "tickvals": {
          "bdata": "AAECAwQFBgcICQoLDA0ODxAREhMUFRYXGBkaGxwdHh8gISIjJCUmJygpKissLS4vMDEyMzQ1Njc4OTo7PD0+P0BBQkNERUZHSElKS0xNTk8=",
          "dtype": "i1"
         }
        },
        "xaxis3": {
         "anchor": "y3",
         "domain": [
          0,
          1
         ],
         "showticklabels": true,
         "tickmode": "array",
         "ticks": "outside",
         "ticktext": [
          "0",
          "1",
          "2",
          "3",
          "4",
          "5",
          "6",
          "7",
          "8",
          "9",
          "10",
          "11",
          "12",
          "13",
          "14",
          "15",
          "16",
          "17",
          "18",
          "19",
          "20",
          "21",
          "22",
          "23",
          "24",
          "25",
          "26",
          "27",
          "28",
          "29",
          "30",
          "31",
          "32",
          "33",
          "34",
          "35",
          "36",
          "37",
          "38",
          "39",
          "40",
          "41",
          "42",
          "43",
          "44",
          "45",
          "46",
          "47",
          "48",
          "49",
          "50",
          "51",
          "52",
          "53",
          "54",
          "55",
          "56",
          "57",
          "58",
          "59",
          "60",
          "61",
          "62",
          "63",
          "64",
          "65",
          "66",
          "67",
          "68",
          "69",
          "70",
          "71",
          "72",
          "73",
          "74",
          "75",
          "76",
          "77",
          "78",
          "79"
         ],
         "tickvals": {
          "bdata": "AAECAwQFBgcICQoLDA0ODxAREhMUFRYXGBkaGxwdHh8gISIjJCUmJygpKissLS4vMDEyMzQ1Njc4OTo7PD0+P0BBQkNERUZHSElKS0xNTk8=",
          "dtype": "i1"
         },
         "title": {
          "text": "Action ID (0–79)"
         }
        },
        "yaxis": {
         "anchor": "x",
         "domain": [
          0.72,
          1
         ],
         "range": [
          0,
          0.01681875
         ],
         "title": {
          "text": "P(action selected)"
         }
        },
        "yaxis2": {
         "anchor": "x2",
         "domain": [
          0.36,
          0.6399999999999999
         ],
         "range": [
          0,
          0.01674375
         ],
         "title": {
          "text": "P(action selected)"
         }
        },
        "yaxis3": {
         "anchor": "x3",
         "domain": [
          0,
          0.27999999999999997
         ],
         "range": [
          0,
          0.016625
         ],
         "title": {
          "text": "P(action selected)"
         }
        }
       }
      }
     },
     "metadata": {},
     "output_type": "display_data"
    }
   ],
   "source": [
    "# Assumes you already built df (action, position, reward, pscore) and bf for n_actions\n",
    "tracker = ThompsonSlateTracker(df=df, n_actions=bf[\"n_actions\"], positions=[0,1,2], seed=7)\n",
    "\n",
    "# Round 0 is already recorded (uniform)\n",
    "# Take Round 1 (samples per position, updates α/β, stores PMFs)\n",
    "samp1 = tracker.next_round(random_state=None, use_mc_if_needed=False)  # exact is valid here\n",
    "print(\"Round 1 samples:\\n\", samp1)\n",
    "\n",
    "# Plot Round 0 vs Round 1\n",
    "tracker.plot_compare(0, 1, title=\"Round 0 vs Round 1\")\n",
    "\n",
    "# Take Round 2 (now exact may be invalid; allow MC to compute PMFs)\n",
    "samp2 = tracker.next_round(random_state=None, use_mc_if_needed=True)   # enables MC fallback\n",
    "print(\"Round 2 samples:\\n\", samp2)\n",
    "\n",
    "# Plot Round 1 vs Round 2\n",
    "tracker.plot_compare(1, 2, title=\"Round 1 vs Round 2\")"
   ]
  },
  {
   "cell_type": "code",
   "execution_count": 15,
   "id": "aba65455",
   "metadata": {},
   "outputs": [
    {
     "name": "stdout",
     "output_type": "stream",
     "text": [
      "Round 3 samples:\n",
      "    action  position  reward  pscore\n",
      "0      45         0       0  0.0125\n",
      "1      75         1       0  0.0125\n",
      "2      47         2       0  0.0125\n"
     ]
    },
    {
     "data": {
      "application/vnd.plotly.v1+json": {
       "config": {
        "plotlyServerURL": "https://plot.ly"
       },
       "data": [
        {
         "customdata": {
          "bdata": "AAAAAAAAAAAAAAAAAAAAAAAAAAAAAAAAAAAAAAAAAAAAAAAAAAAAAAAAAAAAAAAAAAAAAAAAAAAAAAAAAAAAAAAAAAAAAAAAAAAAAAAAAAA=",
          "dtype": "i1",
          "shape": "80, 1"
         },
         "hovertemplate": "Position: %{customdata[0]}<br>Action: %{x}<br>Round: 2<br>P: %{y:.6f}<extra></extra>",
         "marker": {
          "color": "steelblue"
         },
         "name": "Round 2",
         "opacity": 0.6,
         "showlegend": true,
         "type": "bar",
         "x": {
          "bdata": "AAECAwQFBgcICQoLDA0ODxAREhMUFRYXGBkaGxwdHh8gISIjJCUmJygpKissLS4vMDEyMzQ1Njc4OTo7PD0+P0BBQkNERUZHSElKS0xNTk8=",
          "dtype": "i1"
         },
         "xaxis": "x",
         "y": {
          "bdata": "p5at9UVCiz/+fcaFAyGJP2O0jqomiIo/+tAF9S1zij9C7Eyh8xqLP9UJaCJseIo/yNKHLqhviT//CS5W1GCKP2tgqwSLw4k/0NA/wcWKij81QdR9AFKLP0PFOH8TCjE/cF8HzhlRij/M0eP3Nv2JP9R9AFKbOIk/B0KygAncij8DQ1a3ek6KPwd8fhghPIo/Ugq6vaQxij817zhFR3KJP1+1MuGX+ok//89hvrwAiz/uX1lpUgqKPxMn9zsUBYo/mpmZmZmZiT8aFw6EZAEzPxhgH5268ok/r0LKT6p9ij990LNZ9bmKP7snDwu1pok/Ugq6vaQxij98CoDxDBqKP4EJ3Lqbp4o/A8+9h0uOiz+rCaLuA5CKP4m1+BQA44k/cJnTZTGxiT8LtaZ5xymKPy3Pg7uzdos/Oe6UDtb/iT+ze/KwUGuKPw/uztptF4o/gH106spniT//CS5W1GCKPz7t8NdkjYo/r0LKT6p9ij+vQspPqn2KP5pfzQGCOYo/gQncupunij+e0sH6P4eJP/JetTLhl4o/hXzQs1n1iT900vvG156JP0rSNZNvtok/luzYCMTrij9n7bYLzXWKP3AlOzYC8Yo/7iWN0Tqqij//CS5W1GCKP3BfB84ZUYo/5SfVPh2PiT/A7J48LNSKP4EJ3Lqbp4o//wkuVtRgij//CS5W1GCKP1IKur2kMYo/jbRU3o5wij/y0k1iEFiJP+lg/Z/DfIk/gQncupunij+NKO0NvjCJPxxfe2ZJgIo/KAr0iTxJij/pYP2fw3yJPz0nvW987Yk/r3yW58HdiT/ZQpCDEmaKPyTRyyiWW4o/C7Wmeccpij8oCvSJPEmKPw==",
          "dtype": "f8"
         },
         "yaxis": "y"
        },
        {
         "customdata": {
          "bdata": "AAAAAAAAAAAAAAAAAAAAAAAAAAAAAAAAAAAAAAAAAAAAAAAAAAAAAAAAAAAAAAAAAAAAAAAAAAAAAAAAAAAAAAAAAAAAAAAAAAAAAAAAAAA=",
          "dtype": "i1",
          "shape": "80, 1"
         },
         "hovertemplate": "Position: %{customdata[0]}<br>Action: %{x}<br>Round: 3<br>P: %{y:.6f}<extra></extra>",
         "marker": {
          "color": "darkorange"
         },
         "name": "Round 3",
         "opacity": 0.8,
         "showlegend": true,
         "type": "bar",
         "x": {
          "bdata": "AAECAwQFBgcICQoLDA0ODxAREhMUFRYXGBkaGxwdHh8gISIjJCUmJygpKissLS4vMDEyMzQ1Njc4OTo7PD0+P0BBQkNERUZHSElKS0xNTk8=",
          "dtype": "i1"
         },
         "xaxis": "x",
         "y": {
          "bdata": "3QcgtYmTiz+eXinLEMeKP4V80LNZ9Yk/iUFg5dAiiz81e6AVGLKKPwdCsoAJ3Io/B7ZKsDiciT9GX0GasWiKP9DQP8HFioo/r3yW58HdiT9GmQ0yyciJP6lNnNzvUDQ/dJgvL8A+ij+vQspPqn2KP1fPSe8bX4s/W0I+6Nmsij8TJ/c7FAWKP7N78rBQa4o/Rl9BmrFoij/ZCMTr+gWLP1dD4h5LH4o/5e0IpwUvij9wJTs2AvGKP7NBJhk5C4s//89hvrwAiz8DlfHvMy48Pw+0AkNWt4o/npj1Yignij+3tBoS91iKP9kIxOv6BYs/opdRLLe0ij+zQSYZOQuLPxzTE5Z4QIk/+5Y5XRYTiz8PtAJDVreKPy1DHOviNoo/D7QCQ1a3ij/VCWgibHiKP7fu5qkOuYk//wkuVtRgij+rz9VW7C+LP0ImGTkLe4o/LUMc6+I2ij+eXinLEMeKPwN9Ik+Srok/YTJVMCqpMz/E6/oFu2GLP4V80LNZ9Yk/+5Y5XRYTiz/VCWgibHiKP1PQ7SWN0Yo/wOyePCzUij/ZCMTr+gWLPzFCeLRxxIo/cCU7NgLxij8xQni0ccSKP6vP1VbsL4s/C+9yEd+JiT/yXrUy4ZeKPz6zJEBNLYs/otEdxM4Uij94l4v4TsyKP2fttgvNdYo/dF5jl6jeij/ZQpCDEmaKP197ZkmAmoo//89hvrwAiz+R7Xw/NV6KPzm0yHa+n4o/KAr0iTxJij/MXUvIBz2LP+G04EVfQYo/IJijx+9tij8HfH4YITyKPzm0yHa+n4o/t7QaEvdYij/7ljldFhOLPwt72uGvyYo/LUMc6+I2ij9fe2ZJgJqKPw==",
          "dtype": "f8"
         },
         "yaxis": "y"
        },
        {
         "customdata": {
          "bdata": "AQEBAQEBAQEBAQEBAQEBAQEBAQEBAQEBAQEBAQEBAQEBAQEBAQEBAQEBAQEBAQEBAQEBAQEBAQEBAQEBAQEBAQEBAQEBAQEBAQEBAQEBAQE=",
          "dtype": "i1",
          "shape": "80, 1"
         },
         "hovertemplate": "Position: %{customdata[0]}<br>Action: %{x}<br>Round: 2<br>P: %{y:.6f}<extra></extra>",
         "marker": {
          "color": "steelblue"
         },
         "name": "Round 2",
         "opacity": 0.6,
         "showlegend": false,
         "type": "bar",
         "x": {
          "bdata": "AAECAwQFBgcICQoLDA0ODxAREhMUFRYXGBkaGxwdHh8gISIjJCUmJygpKissLS4vMDEyMzQ1Njc4OTo7PD0+P0BBQkNERUZHSElKS0xNTk8=",
          "dtype": "i1"
         },
         "xaxis": "x2",
         "y": {
          "bdata": "B0KygAncij/6RJ4kXTOJP1dD4h5LH4o/B3x+GCE8ij9rYKsEi8OJP7N78rBQa4o/tyizQSYZiT+NtFTejnCKP5pfzQGCOYo/eNFXkGYsij/M0eP3Nv2JP8Dsnjws1Io/IJijx+9tij9j7lpCPuiJP5olAWpq2Yo/wCZr1EM0ij+R7Xw/NV6KP6pDboYb8Ik/opdRLLe0ij+JtfgUAOOJP+5fWWlSCoo/gQncupunij8P7s7abReKP1cJFoczv4o/wOyePCzUij8YYB+duvKJP3iXi/hOzIo/zNHj9zb9iT8PtAJDVreKP1Z9rrZif4k//89hvrwAiz857pQO1v+JPxSzXgzlRIs/3bWEfNCziT/q7GRwlLyKP6vP1VbsL4s/6WD9n8N8iT81tWytLxKKP+WzPA/uzoo/hUIEHEKVij9SCrq9pDGKP3TS+8bXnok/C7Wmeccpij+emPViKCeKPygK9Ik8SYo/JJf/kH77ij8HtkqwOJyJP2cng6Pk1Yk/cF8HzhlRij/meXB31m6LP4V80LNZ9Yk/ntLB+j+HiT+U9gZfmEw1P3iXi/hOzIo/kSdJ10y+iT/l7QinBS+KP3wKgPEMGoo/fAqA8Qwaij8kl/+QfvuKP1dD4h5LH4o/GCZTBaOSij8tCVBTy9aKP2tI3GPpQzc/6SYxCKwcij/EJced0sGKP+HurN12oYk/6WD9n8N8iT/EmV/NAYKJP0qYaftXVoo/cF8HzhlRij/MlxdgH52KP2dhTzv8NYk/je4gdqbQiT9sJt9sc2OKP917uOS4U4o/fdCzWfW5ij81tWytLxKKPzW1bK0vEoo/xJlfzQGCiT/ZQpCDEmaKPw==",
          "dtype": "f8"
         },
         "yaxis": "y2"
        },
        {
         "customdata": {
          "bdata": "AQEBAQEBAQEBAQEBAQEBAQEBAQEBAQEBAQEBAQEBAQEBAQEBAQEBAQEBAQEBAQEBAQEBAQEBAQEBAQEBAQEBAQEBAQEBAQEBAQEBAQEBAQE=",
          "dtype": "i1",
          "shape": "80, 1"
         },
         "hovertemplate": "Position: %{customdata[0]}<br>Action: %{x}<br>Round: 3<br>P: %{y:.6f}<extra></extra>",
         "marker": {
          "color": "darkorange"
         },
         "name": "Round 3",
         "opacity": 0.8,
         "showlegend": false,
         "type": "bar",
         "x": {
          "bdata": "AAECAwQFBgcICQoLDA0ODxAREhMUFRYXGBkaGxwdHh8gISIjJCUmJygpKissLS4vMDEyMzQ1Njc4OTo7PD0+P0BBQkNERUZHSElKS0xNTk8=",
          "dtype": "i1"
         },
         "xaxis": "x2",
         "y": {
          "bdata": "QiYZOQt7ij+rz9VW7C+LP/KYgcr494k/0NA/wcWKij8Us14M5USLP2fttgvNdYo/wCZr1EM0ij900vvG156JP6eWrfVFQos/qwmi7gOQij9rYKsEi8OJP06XxcTm44o/dF5jl6jeij8P7s7abReKP/8JLlbUYIo/2QjE6/oFiz9n7bYLzXWKPy3Pg7uzdos/1QloImx4ij+NtFTejnCKP+rsZHCUvIo/hQg4hCo1iz/uX1lpUgqKP2iz6nO1FYs/X3tmSYCaij9TXFX2XRGMP9lCkIMSZoo/q8/VVuwviz9fe2ZJgJqKP5YmpaDbS4o/a2CrBIvDiT/I0ocuqG+JPxTtKqT8pIo/fdCzWfW5ij/20akrn+WJPyTRyyiWW4o/gQncupunij8U7Sqk/KSKP8Ama9RDNIo/FO0qpPykij/MlxdgH52KPyTRyyiWW4o/U9DtJY3Rij8kl/+QfvuKP09d+SzPg4s/dJgvL8A+ij/UQzS6g9iJP9GWcymuKos/yJi7lpAPij/VCWgibHiKP8Qlx53SwYo/gQncupunij9hMlUwKqkzP6YKRiV1Aoo/ol2FlJ9Uiz+aX80BgjmKP5I/GHjuPYw/hUIEHEKVij+i0R3EzhSKPzm0yHa+n4o/EHo2qz5Xiz90mC8vwD6KP3aJ6q2BrTI/9tGpK5/liT8YYB+duvKJP91B7Eyh84o/QuxMofMaiz+R7Xw/NV6KP07RkVz+Q4o/1QloImx4ij/EX5M16iGKP/8JLlbUYIo//kP67evAiT8Y7IZtizKLP/5D+u3rwIk/8WjjiLX4ND9fQZqxaDqLP56Y9WIoJ4o/cOtunuqQiz/AJmvUQzSKPw==",
          "dtype": "f8"
         },
         "yaxis": "y2"
        },
        {
         "customdata": {
          "bdata": "AgICAgICAgICAgICAgICAgICAgICAgICAgICAgICAgICAgICAgICAgICAgICAgICAgICAgICAgICAgICAgICAgICAgICAgICAgICAgICAgI=",
          "dtype": "i1",
          "shape": "80, 1"
         },
         "hovertemplate": "Position: %{customdata[0]}<br>Action: %{x}<br>Round: 2<br>P: %{y:.6f}<extra></extra>",
         "marker": {
          "color": "steelblue"
         },
         "name": "Round 2",
         "opacity": 0.6,
         "showlegend": false,
         "type": "bar",
         "x": {
          "bdata": "AAECAwQFBgcICQoLDA0ODxAREhMUFRYXGBkaGxwdHh8gISIjJCUmJygpKissLS4vMDEyMzQ1Njc4OTo7PD0+P0BBQkNERUZHSElKS0xNTk8=",
          "dtype": "i1"
         },
         "xaxis": "x3",
         "y": {
          "bdata": "ZyeDo+TViT8g0m9fB86JP4EJ3Lqbp4o/JNHLKJZbij+WJqWg20uKPwd8fhghPIo/wOyePCzUij+ztb5IaMuJP8yXF2AfnYo/QiYZOQt7ij+R7Xw/NV6KP+4ljdE6qoo/gUOoUrMHij/h7qzddqGJP6bQeY1dooo/V0PiHksfij89J71vfO2JP4m1+BQA44k/5SfVPh2PiT98CoDxDBqKP9UJaCJseIo/KAr0iTxJij/IXu/+eK+KP698lufB3Yk/ObTIdr6fij+vfJbnwd2JP3CZ02UxsYk/TtGRXP5Dij81tWytLxKKP1JEhlW8kYk/AwmKH2Puij/l7QinBS+KPy0JUFPL1oo/Eyf3OxQFij8HfH4YITyKP/uWOV0WE4s/2UKQgxJmij/uX1lpUgqKP03bv7LSpDQ/Vn2utmJ/iT9bfAqA8QyKPwNDVrd6Too/t3pOet/4ij+An3HhQEg2P1JEhlW8kYk/hUIEHEKVij+8s3bbheaKP5YmpaDbS4o/U9DtJY3Rij+qQ26GG/CJP8xdS8gHPYs/LH3ogvqWiT8DQ1a3ek6KPy1DHOviNoo/RpkNMsnIiT+VYHE486uJP8Ama9RDNIo/gH106spniT8cX3tmSYCKPyBe1y/YDYs/AwmKH2Puij990LNZ9bmKP2fttgvNdYo/Ne84RUdyiT+77UJznUaKP+5fWWlSCoo/+5Y5XRYTiz9XCRaHM7+KP/5D+u3rwIk/TtGRXP5Dij9rYKsEi8OJP5VgcTjzq4k/3bWEfNCziT//CS5W1GCKP3iXi/hOzIo/W3wKgPEMij/EJced0sGKP8Ama9RDNIo/mpmZmZmZiT8LtaZ5xymKPw==",
          "dtype": "f8"
         },
         "yaxis": "y3"
        },
        {
         "customdata": {
          "bdata": "AgICAgICAgICAgICAgICAgICAgICAgICAgICAgICAgICAgICAgICAgICAgICAgICAgICAgICAgICAgICAgICAgICAgICAgICAgICAgICAgI=",
          "dtype": "i1",
          "shape": "80, 1"
         },
         "hovertemplate": "Position: %{customdata[0]}<br>Action: %{x}<br>Round: 3<br>P: %{y:.6f}<extra></extra>",
         "marker": {
          "color": "darkorange"
         },
         "name": "Round 3",
         "opacity": 0.8,
         "showlegend": false,
         "type": "bar",
         "x": {
          "bdata": "AAECAwQFBgcICQoLDA0ODxAREhMUFRYXGBkaGxwdHh8gISIjJCUmJygpKissLS4vMDEyMzQ1Njc4OTo7PD0+P0BBQkNERUZHSElKS0xNTk8=",
          "dtype": "i1"
         },
         "xaxis": "x3",
         "y": {
          "bdata": "8tJNYhBYiT+Bzw8jhEeLP3jRV5BmLIo/PSe9b3ztiT+i0R3EzhSKPwdCsoAJ3Io/cJnTZTGxiT8U7Sqk/KSKP1sIclDCTIs/fdCzWfW5ij8gXtcv2A2LP1IKur2kMYo/Tgte9BWkiT8sfeiC+paJP//PYb68AIs/wCZr1EM0ij+BCdy6m6eKP68I/reSHYs/B0KygAncij+il1Est7SKP8Ama9RDNIo/npj1Yignij/de7jkuFOKP4EJ3Lqbp4o/dJgvL8A+ij+FfNCzWfWJP8Ama9RDNIo/xOv6Bbthiz/yJOmayTeLPzm0yHa+n4o/pgpGJXUCij9KmGn7V1aKP/8JLlbUYIo/dF5jl6jeij9GmQ0yyciJP+rsZHCUvIo/s3vysFBrij9KXp1jQPaKPwOV8e8zLiw/X3tmSYCaij9GmQ0yyciJP5bs2AjE64o/D7QCQ1a3ij8DlfHvMy48P3AlOzYC8Yo/npj1Yignij/pJjEIrByKP6lNnNzvUDQ/q5UJv9TPiz+aJQFqatmKP8iYu5aQD4o/U9DtJY3Rij85tMh2vp+KP+4ljdE6qoo/dJgvL8A+ij/2XRH8byWLPwdCsoAJ3Io/bCbfbHNjij+SeeQPBp6LP/tcbcX+sos/niRdM/lmiz/IXu/+eK+KP2cng6Pk1Yk/EHo2qz5Xiz9PXfksz4OLPxhgH5268ok/Sphp+1dWij9Ol8XE5uOKPzkoYabtX4k/6uxkcJS8ij8U7Sqk/KSKP5HtfD81Xoo/PrMkQE0tiz8cmUf+YOCJP06XxcTm44o//89hvrwAiz8YJlMFo5KKP0YldQKaCIs/MUJ4tHHEij/pJjEIrByKPw==",
          "dtype": "f8"
         },
         "yaxis": "y3"
        }
       ],
       "layout": {
        "annotations": [
         {
          "font": {
           "size": 16
          },
          "showarrow": false,
          "text": "Position 0",
          "x": 0.5,
          "xanchor": "center",
          "xref": "paper",
          "y": 1,
          "yanchor": "bottom",
          "yref": "paper"
         },
         {
          "font": {
           "size": 16
          },
          "showarrow": false,
          "text": "Position 1",
          "x": 0.5,
          "xanchor": "center",
          "xref": "paper",
          "y": 0.6399999999999999,
          "yanchor": "bottom",
          "yref": "paper"
         },
         {
          "font": {
           "size": 16
          },
          "showarrow": false,
          "text": "Position 2",
          "x": 0.5,
          "xanchor": "center",
          "xref": "paper",
          "y": 0.27999999999999997,
          "yanchor": "bottom",
          "yref": "paper"
         }
        ],
        "bargap": 0.15,
        "barmode": "group",
        "height": 900,
        "template": {
         "data": {
          "bar": [
           {
            "error_x": {
             "color": "#2a3f5f"
            },
            "error_y": {
             "color": "#2a3f5f"
            },
            "marker": {
             "line": {
              "color": "white",
              "width": 0.5
             },
             "pattern": {
              "fillmode": "overlay",
              "size": 10,
              "solidity": 0.2
             }
            },
            "type": "bar"
           }
          ],
          "barpolar": [
           {
            "marker": {
             "line": {
              "color": "white",
              "width": 0.5
             },
             "pattern": {
              "fillmode": "overlay",
              "size": 10,
              "solidity": 0.2
             }
            },
            "type": "barpolar"
           }
          ],
          "carpet": [
           {
            "aaxis": {
             "endlinecolor": "#2a3f5f",
             "gridcolor": "#C8D4E3",
             "linecolor": "#C8D4E3",
             "minorgridcolor": "#C8D4E3",
             "startlinecolor": "#2a3f5f"
            },
            "baxis": {
             "endlinecolor": "#2a3f5f",
             "gridcolor": "#C8D4E3",
             "linecolor": "#C8D4E3",
             "minorgridcolor": "#C8D4E3",
             "startlinecolor": "#2a3f5f"
            },
            "type": "carpet"
           }
          ],
          "choropleth": [
           {
            "colorbar": {
             "outlinewidth": 0,
             "ticks": ""
            },
            "type": "choropleth"
           }
          ],
          "contour": [
           {
            "colorbar": {
             "outlinewidth": 0,
             "ticks": ""
            },
            "colorscale": [
             [
              0,
              "#0d0887"
             ],
             [
              0.1111111111111111,
              "#46039f"
             ],
             [
              0.2222222222222222,
              "#7201a8"
             ],
             [
              0.3333333333333333,
              "#9c179e"
             ],
             [
              0.4444444444444444,
              "#bd3786"
             ],
             [
              0.5555555555555556,
              "#d8576b"
             ],
             [
              0.6666666666666666,
              "#ed7953"
             ],
             [
              0.7777777777777778,
              "#fb9f3a"
             ],
             [
              0.8888888888888888,
              "#fdca26"
             ],
             [
              1,
              "#f0f921"
             ]
            ],
            "type": "contour"
           }
          ],
          "contourcarpet": [
           {
            "colorbar": {
             "outlinewidth": 0,
             "ticks": ""
            },
            "type": "contourcarpet"
           }
          ],
          "heatmap": [
           {
            "colorbar": {
             "outlinewidth": 0,
             "ticks": ""
            },
            "colorscale": [
             [
              0,
              "#0d0887"
             ],
             [
              0.1111111111111111,
              "#46039f"
             ],
             [
              0.2222222222222222,
              "#7201a8"
             ],
             [
              0.3333333333333333,
              "#9c179e"
             ],
             [
              0.4444444444444444,
              "#bd3786"
             ],
             [
              0.5555555555555556,
              "#d8576b"
             ],
             [
              0.6666666666666666,
              "#ed7953"
             ],
             [
              0.7777777777777778,
              "#fb9f3a"
             ],
             [
              0.8888888888888888,
              "#fdca26"
             ],
             [
              1,
              "#f0f921"
             ]
            ],
            "type": "heatmap"
           }
          ],
          "histogram": [
           {
            "marker": {
             "pattern": {
              "fillmode": "overlay",
              "size": 10,
              "solidity": 0.2
             }
            },
            "type": "histogram"
           }
          ],
          "histogram2d": [
           {
            "colorbar": {
             "outlinewidth": 0,
             "ticks": ""
            },
            "colorscale": [
             [
              0,
              "#0d0887"
             ],
             [
              0.1111111111111111,
              "#46039f"
             ],
             [
              0.2222222222222222,
              "#7201a8"
             ],
             [
              0.3333333333333333,
              "#9c179e"
             ],
             [
              0.4444444444444444,
              "#bd3786"
             ],
             [
              0.5555555555555556,
              "#d8576b"
             ],
             [
              0.6666666666666666,
              "#ed7953"
             ],
             [
              0.7777777777777778,
              "#fb9f3a"
             ],
             [
              0.8888888888888888,
              "#fdca26"
             ],
             [
              1,
              "#f0f921"
             ]
            ],
            "type": "histogram2d"
           }
          ],
          "histogram2dcontour": [
           {
            "colorbar": {
             "outlinewidth": 0,
             "ticks": ""
            },
            "colorscale": [
             [
              0,
              "#0d0887"
             ],
             [
              0.1111111111111111,
              "#46039f"
             ],
             [
              0.2222222222222222,
              "#7201a8"
             ],
             [
              0.3333333333333333,
              "#9c179e"
             ],
             [
              0.4444444444444444,
              "#bd3786"
             ],
             [
              0.5555555555555556,
              "#d8576b"
             ],
             [
              0.6666666666666666,
              "#ed7953"
             ],
             [
              0.7777777777777778,
              "#fb9f3a"
             ],
             [
              0.8888888888888888,
              "#fdca26"
             ],
             [
              1,
              "#f0f921"
             ]
            ],
            "type": "histogram2dcontour"
           }
          ],
          "mesh3d": [
           {
            "colorbar": {
             "outlinewidth": 0,
             "ticks": ""
            },
            "type": "mesh3d"
           }
          ],
          "parcoords": [
           {
            "line": {
             "colorbar": {
              "outlinewidth": 0,
              "ticks": ""
             }
            },
            "type": "parcoords"
           }
          ],
          "pie": [
           {
            "automargin": true,
            "type": "pie"
           }
          ],
          "scatter": [
           {
            "fillpattern": {
             "fillmode": "overlay",
             "size": 10,
             "solidity": 0.2
            },
            "type": "scatter"
           }
          ],
          "scatter3d": [
           {
            "line": {
             "colorbar": {
              "outlinewidth": 0,
              "ticks": ""
             }
            },
            "marker": {
             "colorbar": {
              "outlinewidth": 0,
              "ticks": ""
             }
            },
            "type": "scatter3d"
           }
          ],
          "scattercarpet": [
           {
            "marker": {
             "colorbar": {
              "outlinewidth": 0,
              "ticks": ""
             }
            },
            "type": "scattercarpet"
           }
          ],
          "scattergeo": [
           {
            "marker": {
             "colorbar": {
              "outlinewidth": 0,
              "ticks": ""
             }
            },
            "type": "scattergeo"
           }
          ],
          "scattergl": [
           {
            "marker": {
             "colorbar": {
              "outlinewidth": 0,
              "ticks": ""
             }
            },
            "type": "scattergl"
           }
          ],
          "scattermap": [
           {
            "marker": {
             "colorbar": {
              "outlinewidth": 0,
              "ticks": ""
             }
            },
            "type": "scattermap"
           }
          ],
          "scattermapbox": [
           {
            "marker": {
             "colorbar": {
              "outlinewidth": 0,
              "ticks": ""
             }
            },
            "type": "scattermapbox"
           }
          ],
          "scatterpolar": [
           {
            "marker": {
             "colorbar": {
              "outlinewidth": 0,
              "ticks": ""
             }
            },
            "type": "scatterpolar"
           }
          ],
          "scatterpolargl": [
           {
            "marker": {
             "colorbar": {
              "outlinewidth": 0,
              "ticks": ""
             }
            },
            "type": "scatterpolargl"
           }
          ],
          "scatterternary": [
           {
            "marker": {
             "colorbar": {
              "outlinewidth": 0,
              "ticks": ""
             }
            },
            "type": "scatterternary"
           }
          ],
          "surface": [
           {
            "colorbar": {
             "outlinewidth": 0,
             "ticks": ""
            },
            "colorscale": [
             [
              0,
              "#0d0887"
             ],
             [
              0.1111111111111111,
              "#46039f"
             ],
             [
              0.2222222222222222,
              "#7201a8"
             ],
             [
              0.3333333333333333,
              "#9c179e"
             ],
             [
              0.4444444444444444,
              "#bd3786"
             ],
             [
              0.5555555555555556,
              "#d8576b"
             ],
             [
              0.6666666666666666,
              "#ed7953"
             ],
             [
              0.7777777777777778,
              "#fb9f3a"
             ],
             [
              0.8888888888888888,
              "#fdca26"
             ],
             [
              1,
              "#f0f921"
             ]
            ],
            "type": "surface"
           }
          ],
          "table": [
           {
            "cells": {
             "fill": {
              "color": "#EBF0F8"
             },
             "line": {
              "color": "white"
             }
            },
            "header": {
             "fill": {
              "color": "#C8D4E3"
             },
             "line": {
              "color": "white"
             }
            },
            "type": "table"
           }
          ]
         },
         "layout": {
          "annotationdefaults": {
           "arrowcolor": "#2a3f5f",
           "arrowhead": 0,
           "arrowwidth": 1
          },
          "autotypenumbers": "strict",
          "coloraxis": {
           "colorbar": {
            "outlinewidth": 0,
            "ticks": ""
           }
          },
          "colorscale": {
           "diverging": [
            [
             0,
             "#8e0152"
            ],
            [
             0.1,
             "#c51b7d"
            ],
            [
             0.2,
             "#de77ae"
            ],
            [
             0.3,
             "#f1b6da"
            ],
            [
             0.4,
             "#fde0ef"
            ],
            [
             0.5,
             "#f7f7f7"
            ],
            [
             0.6,
             "#e6f5d0"
            ],
            [
             0.7,
             "#b8e186"
            ],
            [
             0.8,
             "#7fbc41"
            ],
            [
             0.9,
             "#4d9221"
            ],
            [
             1,
             "#276419"
            ]
           ],
           "sequential": [
            [
             0,
             "#0d0887"
            ],
            [
             0.1111111111111111,
             "#46039f"
            ],
            [
             0.2222222222222222,
             "#7201a8"
            ],
            [
             0.3333333333333333,
             "#9c179e"
            ],
            [
             0.4444444444444444,
             "#bd3786"
            ],
            [
             0.5555555555555556,
             "#d8576b"
            ],
            [
             0.6666666666666666,
             "#ed7953"
            ],
            [
             0.7777777777777778,
             "#fb9f3a"
            ],
            [
             0.8888888888888888,
             "#fdca26"
            ],
            [
             1,
             "#f0f921"
            ]
           ],
           "sequentialminus": [
            [
             0,
             "#0d0887"
            ],
            [
             0.1111111111111111,
             "#46039f"
            ],
            [
             0.2222222222222222,
             "#7201a8"
            ],
            [
             0.3333333333333333,
             "#9c179e"
            ],
            [
             0.4444444444444444,
             "#bd3786"
            ],
            [
             0.5555555555555556,
             "#d8576b"
            ],
            [
             0.6666666666666666,
             "#ed7953"
            ],
            [
             0.7777777777777778,
             "#fb9f3a"
            ],
            [
             0.8888888888888888,
             "#fdca26"
            ],
            [
             1,
             "#f0f921"
            ]
           ]
          },
          "colorway": [
           "#636efa",
           "#EF553B",
           "#00cc96",
           "#ab63fa",
           "#FFA15A",
           "#19d3f3",
           "#FF6692",
           "#B6E880",
           "#FF97FF",
           "#FECB52"
          ],
          "font": {
           "color": "#2a3f5f"
          },
          "geo": {
           "bgcolor": "white",
           "lakecolor": "white",
           "landcolor": "white",
           "showlakes": true,
           "showland": true,
           "subunitcolor": "#C8D4E3"
          },
          "hoverlabel": {
           "align": "left"
          },
          "hovermode": "closest",
          "mapbox": {
           "style": "light"
          },
          "paper_bgcolor": "white",
          "plot_bgcolor": "white",
          "polar": {
           "angularaxis": {
            "gridcolor": "#EBF0F8",
            "linecolor": "#EBF0F8",
            "ticks": ""
           },
           "bgcolor": "white",
           "radialaxis": {
            "gridcolor": "#EBF0F8",
            "linecolor": "#EBF0F8",
            "ticks": ""
           }
          },
          "scene": {
           "xaxis": {
            "backgroundcolor": "white",
            "gridcolor": "#DFE8F3",
            "gridwidth": 2,
            "linecolor": "#EBF0F8",
            "showbackground": true,
            "ticks": "",
            "zerolinecolor": "#EBF0F8"
           },
           "yaxis": {
            "backgroundcolor": "white",
            "gridcolor": "#DFE8F3",
            "gridwidth": 2,
            "linecolor": "#EBF0F8",
            "showbackground": true,
            "ticks": "",
            "zerolinecolor": "#EBF0F8"
           },
           "zaxis": {
            "backgroundcolor": "white",
            "gridcolor": "#DFE8F3",
            "gridwidth": 2,
            "linecolor": "#EBF0F8",
            "showbackground": true,
            "ticks": "",
            "zerolinecolor": "#EBF0F8"
           }
          },
          "shapedefaults": {
           "line": {
            "color": "#2a3f5f"
           }
          },
          "ternary": {
           "aaxis": {
            "gridcolor": "#DFE8F3",
            "linecolor": "#A2B1C6",
            "ticks": ""
           },
           "baxis": {
            "gridcolor": "#DFE8F3",
            "linecolor": "#A2B1C6",
            "ticks": ""
           },
           "bgcolor": "white",
           "caxis": {
            "gridcolor": "#DFE8F3",
            "linecolor": "#A2B1C6",
            "ticks": ""
           }
          },
          "title": {
           "x": 0.05
          },
          "xaxis": {
           "automargin": true,
           "gridcolor": "#EBF0F8",
           "linecolor": "#EBF0F8",
           "ticks": "",
           "title": {
            "standoff": 15
           },
           "zerolinecolor": "#EBF0F8",
           "zerolinewidth": 2
          },
          "yaxis": {
           "automargin": true,
           "gridcolor": "#EBF0F8",
           "linecolor": "#EBF0F8",
           "ticks": "",
           "title": {
            "standoff": 15
           },
           "zerolinecolor": "#EBF0F8",
           "zerolinewidth": 2
          }
         }
        },
        "title": {
         "text": "Round 2 vs Round 3"
        },
        "xaxis": {
         "anchor": "y",
         "domain": [
          0,
          1
         ],
         "showticklabels": true,
         "tickmode": "array",
         "ticks": "outside",
         "ticktext": [
          "0",
          "1",
          "2",
          "3",
          "4",
          "5",
          "6",
          "7",
          "8",
          "9",
          "10",
          "11",
          "12",
          "13",
          "14",
          "15",
          "16",
          "17",
          "18",
          "19",
          "20",
          "21",
          "22",
          "23",
          "24",
          "25",
          "26",
          "27",
          "28",
          "29",
          "30",
          "31",
          "32",
          "33",
          "34",
          "35",
          "36",
          "37",
          "38",
          "39",
          "40",
          "41",
          "42",
          "43",
          "44",
          "45",
          "46",
          "47",
          "48",
          "49",
          "50",
          "51",
          "52",
          "53",
          "54",
          "55",
          "56",
          "57",
          "58",
          "59",
          "60",
          "61",
          "62",
          "63",
          "64",
          "65",
          "66",
          "67",
          "68",
          "69",
          "70",
          "71",
          "72",
          "73",
          "74",
          "75",
          "76",
          "77",
          "78",
          "79"
         ],
         "tickvals": {
          "bdata": "AAECAwQFBgcICQoLDA0ODxAREhMUFRYXGBkaGxwdHh8gISIjJCUmJygpKissLS4vMDEyMzQ1Njc4OTo7PD0+P0BBQkNERUZHSElKS0xNTk8=",
          "dtype": "i1"
         }
        },
        "xaxis2": {
         "anchor": "y2",
         "domain": [
          0,
          1
         ],
         "showticklabels": true,
         "tickmode": "array",
         "ticks": "outside",
         "ticktext": [
          "0",
          "1",
          "2",
          "3",
          "4",
          "5",
          "6",
          "7",
          "8",
          "9",
          "10",
          "11",
          "12",
          "13",
          "14",
          "15",
          "16",
          "17",
          "18",
          "19",
          "20",
          "21",
          "22",
          "23",
          "24",
          "25",
          "26",
          "27",
          "28",
          "29",
          "30",
          "31",
          "32",
          "33",
          "34",
          "35",
          "36",
          "37",
          "38",
          "39",
          "40",
          "41",
          "42",
          "43",
          "44",
          "45",
          "46",
          "47",
          "48",
          "49",
          "50",
          "51",
          "52",
          "53",
          "54",
          "55",
          "56",
          "57",
          "58",
          "59",
          "60",
          "61",
          "62",
          "63",
          "64",
          "65",
          "66",
          "67",
          "68",
          "69",
          "70",
          "71",
          "72",
          "73",
          "74",
          "75",
          "76",
          "77",
          "78",
          "79"
         ],
         "tickvals": {
          "bdata": "AAECAwQFBgcICQoLDA0ODxAREhMUFRYXGBkaGxwdHh8gISIjJCUmJygpKissLS4vMDEyMzQ1Njc4OTo7PD0+P0BBQkNERUZHSElKS0xNTk8=",
          "dtype": "i1"
         }
        },
        "xaxis3": {
         "anchor": "y3",
         "domain": [
          0,
          1
         ],
         "showticklabels": true,
         "tickmode": "array",
         "ticks": "outside",
         "ticktext": [
          "0",
          "1",
          "2",
          "3",
          "4",
          "5",
          "6",
          "7",
          "8",
          "9",
          "10",
          "11",
          "12",
          "13",
          "14",
          "15",
          "16",
          "17",
          "18",
          "19",
          "20",
          "21",
          "22",
          "23",
          "24",
          "25",
          "26",
          "27",
          "28",
          "29",
          "30",
          "31",
          "32",
          "33",
          "34",
          "35",
          "36",
          "37",
          "38",
          "39",
          "40",
          "41",
          "42",
          "43",
          "44",
          "45",
          "46",
          "47",
          "48",
          "49",
          "50",
          "51",
          "52",
          "53",
          "54",
          "55",
          "56",
          "57",
          "58",
          "59",
          "60",
          "61",
          "62",
          "63",
          "64",
          "65",
          "66",
          "67",
          "68",
          "69",
          "70",
          "71",
          "72",
          "73",
          "74",
          "75",
          "76",
          "77",
          "78",
          "79"
         ],
         "tickvals": {
          "bdata": "AAECAwQFBgcICQoLDA0ODxAREhMUFRYXGBkaGxwdHh8gISIjJCUmJygpKissLS4vMDEyMzQ1Njc4OTo7PD0+P0BBQkNERUZHSElKS0xNTk8=",
          "dtype": "i1"
         },
         "title": {
          "text": "Action ID (0–79)"
         }
        },
        "yaxis": {
         "anchor": "x",
         "domain": [
          0.72,
          1
         ],
         "range": [
          0,
          0.01683125
         ],
         "title": {
          "text": "P(action selected)"
         }
        },
        "yaxis2": {
         "anchor": "x2",
         "domain": [
          0.36,
          0.6399999999999999
         ],
         "range": [
          0,
          0.0172375
         ],
         "title": {
          "text": "P(action selected)"
         }
        },
        "yaxis3": {
         "anchor": "x3",
         "domain": [
          0,
          0.27999999999999997
         ],
         "range": [
          0,
          0.016975
         ],
         "title": {
          "text": "P(action selected)"
         }
        }
       }
      }
     },
     "metadata": {},
     "output_type": "display_data"
    }
   ],
   "source": [
    "# Round 3 (same tracker instance)\n",
    "samp3 = tracker.next_round(\n",
    "    random_state=None,     # or an int for reproducibility\n",
    "    use_mc_if_needed=True, # True recommended for rounds >= 2\n",
    "    n_sim=200_000          # tweak if you want faster/lower-variance\n",
    ")\n",
    "print(\"Round 3 samples:\\n\", samp3)\n",
    "\n",
    "# Plot Round 2 vs Round 3\n",
    "tracker.plot_compare(2, 3, title=\"Round 2 vs Round 3\")"
   ]
  },
  {
   "cell_type": "code",
   "execution_count": 16,
   "id": "16f079a3",
   "metadata": {},
   "outputs": [
    {
     "name": "stdout",
     "output_type": "stream",
     "text": [
      "Round 1 samples:\n",
      "    action  position  reward  pscore\n",
      "0      12         0       0  0.0125\n",
      "1      15         1       0  0.0125\n",
      "2      17         2       0  0.0125\n",
      "Round 2 samples:\n",
      "    action  position  reward  pscore\n",
      "0      10         0       0  0.0125\n",
      "1      63         1       0  0.0125\n",
      "2      64         2       0  0.0125\n",
      "Round 3 samples:\n",
      "    action  position  reward  pscore\n",
      "0      28         0       0  0.0125\n",
      "1      33         1       0  0.0125\n",
      "2       8         2       0  0.0125\n",
      "Round 4 samples:\n",
      "    action  position  reward  pscore\n",
      "0      33         0       0  0.0125\n",
      "1      32         1       0  0.0125\n",
      "2      49         2       0  0.0125\n",
      "Round 5 samples:\n",
      "    action  position  reward  pscore\n",
      "0      20         0       0  0.0125\n",
      "1      46         1       0  0.0125\n",
      "2      13         2       0  0.0125\n",
      "Round 6 samples:\n",
      "    action  position  reward  pscore\n",
      "0      49         0       0  0.0125\n",
      "1      57         1       0  0.0125\n",
      "2      29         2       0  0.0125\n",
      "Round 7 samples:\n",
      "    action  position  reward  pscore\n",
      "0      46         0       0  0.0125\n",
      "1      33         1       0  0.0125\n",
      "2      16         2       0  0.0125\n",
      "Round 8 samples:\n",
      "    action  position  reward  pscore\n",
      "0       2         0       0  0.0125\n",
      "1      33         1       0  0.0125\n",
      "2      72         2       0  0.0125\n",
      "Round 9 samples:\n",
      "    action  position  reward  pscore\n",
      "0      30         0       0  0.0125\n",
      "1       8         1       0  0.0125\n",
      "2      24         2       0  0.0125\n",
      "Round 10 samples:\n",
      "    action  position  reward  pscore\n",
      "0      10         0       0  0.0125\n",
      "1      53         1       0  0.0125\n",
      "2      72         2       0  0.0125\n",
      "Round 11 samples:\n",
      "    action  position  reward  pscore\n",
      "0      17         0       0  0.0125\n",
      "1      56         1       0  0.0125\n",
      "2      54         2       0  0.0125\n",
      "Round 12 samples:\n",
      "    action  position  reward  pscore\n",
      "0      40         0       0  0.0125\n",
      "1      55         1       0  0.0125\n",
      "2      49         2       0  0.0125\n",
      "Round 13 samples:\n",
      "    action  position  reward  pscore\n",
      "0      42         0       0  0.0125\n",
      "1      16         1       0  0.0125\n",
      "2      34         2       0  0.0125\n",
      "Round 14 samples:\n",
      "    action  position  reward  pscore\n",
      "0      37         0       0  0.0125\n",
      "1      33         1       0  0.0125\n",
      "2      18         2       0  0.0125\n",
      "Round 15 samples:\n",
      "    action  position  reward  pscore\n",
      "0      67         0       0  0.0125\n",
      "1      18         1       0  0.0125\n",
      "2      27         2       0  0.0125\n",
      "Round 16 samples:\n",
      "    action  position  reward  pscore\n",
      "0      66         0       0  0.0125\n",
      "1      37         1       0  0.0125\n",
      "2      69         2       0  0.0125\n",
      "Round 17 samples:\n",
      "    action  position  reward  pscore\n",
      "0      49         0       0  0.0125\n",
      "1      48         1       0  0.0125\n",
      "2      55         2       0  0.0125\n",
      "Round 18 samples:\n",
      "    action  position  reward  pscore\n",
      "0      28         0       0  0.0125\n",
      "1      54         1       0  0.0125\n",
      "2      54         2       0  0.0125\n",
      "Round 19 samples:\n",
      "    action  position  reward  pscore\n",
      "0      77         0       0  0.0125\n",
      "1      57         1       0  0.0125\n",
      "2      77         2       0  0.0125\n",
      "Round 20 samples:\n",
      "    action  position  reward  pscore\n",
      "0      65         0       0  0.0125\n",
      "1      27         1       0  0.0125\n",
      "2      19         2       0  0.0125\n",
      "Round 21 samples:\n",
      "    action  position  reward  pscore\n",
      "0      16         0       0  0.0125\n",
      "1      38         1       0  0.0125\n",
      "2      58         2       0  0.0125\n",
      "Round 22 samples:\n",
      "    action  position  reward  pscore\n",
      "0      33         0       0  0.0125\n",
      "1      41         1       0  0.0125\n",
      "2      46         2       0  0.0125\n",
      "Round 23 samples:\n",
      "    action  position  reward  pscore\n",
      "0      39         0       0  0.0125\n",
      "1      66         1       0  0.0125\n",
      "2      10         2       0  0.0125\n",
      "Round 24 samples:\n",
      "    action  position  reward  pscore\n",
      "0      46         0       0  0.0125\n",
      "1      55         1       0  0.0125\n",
      "2      77         2       0  0.0125\n",
      "Round 25 samples:\n",
      "    action  position  reward  pscore\n",
      "0      64         0       0  0.0125\n",
      "1      40         1       0  0.0125\n",
      "2      75         2       0  0.0125\n",
      "Round 26 samples:\n",
      "    action  position  reward  pscore\n",
      "0      32         0       0  0.0125\n",
      "1      41         1       0  0.0125\n",
      "2      71         2       0  0.0125\n",
      "Round 27 samples:\n",
      "    action  position  reward  pscore\n",
      "0      24         0       0  0.0125\n",
      "1      76         1       0  0.0125\n",
      "2      23         2       0  0.0125\n",
      "Round 28 samples:\n",
      "    action  position  reward  pscore\n",
      "0      75         0       0  0.0125\n",
      "1      61         1       0  0.0125\n",
      "2      13         2       0  0.0125\n",
      "Round 29 samples:\n",
      "    action  position  reward  pscore\n",
      "0       8         0       0  0.0125\n",
      "1      42         1       0  0.0125\n",
      "2      20         2       0  0.0125\n",
      "Round 30 samples:\n",
      "    action  position  reward  pscore\n",
      "0      51         0       0  0.0125\n",
      "1      46         1       0  0.0125\n",
      "2      62         2       0  0.0125\n",
      "Round 31 samples:\n",
      "    action  position  reward  pscore\n",
      "0      63         0       0  0.0125\n",
      "1      75         1       0  0.0125\n",
      "2      23         2       0  0.0125\n",
      "Round 32 samples:\n",
      "    action  position  reward  pscore\n",
      "0       9         0       0  0.0125\n",
      "1      48         1       0  0.0125\n",
      "2      24         2       0  0.0125\n",
      "Round 33 samples:\n",
      "    action  position  reward  pscore\n",
      "0      19         0       0  0.0125\n",
      "1      47         1       0  0.0125\n",
      "2      47         2       0  0.0125\n",
      "Round 34 samples:\n",
      "    action  position  reward  pscore\n",
      "0      45         0       0  0.0125\n",
      "1      29         1       0  0.0125\n",
      "2      14         2       0  0.0125\n",
      "Round 35 samples:\n",
      "    action  position  reward  pscore\n",
      "0      73         0       0  0.0125\n",
      "1      20         1       0  0.0125\n",
      "2      20         2       0  0.0125\n",
      "Round 36 samples:\n",
      "    action  position  reward  pscore\n",
      "0      74         0       0  0.0125\n",
      "1      44         1       0  0.0125\n",
      "2      59         2       0  0.0125\n",
      "Round 37 samples:\n",
      "    action  position  reward  pscore\n",
      "0      79         0       0  0.0125\n",
      "1       8         1       0  0.0125\n",
      "2      57         2       0  0.0125\n",
      "Round 38 samples:\n",
      "    action  position  reward  pscore\n",
      "0      32         0       0  0.0125\n",
      "1       1         1       0  0.0125\n",
      "2      40         2       0  0.0125\n",
      "Round 39 samples:\n",
      "    action  position  reward  pscore\n",
      "0      47         0       0  0.0125\n",
      "1      65         1       0  0.0125\n",
      "2      28         2       0  0.0125\n",
      "Round 40 samples:\n",
      "    action  position  reward  pscore\n",
      "0      46         0       0  0.0125\n",
      "1      14         1       0  0.0125\n",
      "2      38         2       0  0.0125\n",
      "Round 41 samples:\n",
      "    action  position  reward  pscore\n",
      "0      39         0       0  0.0125\n",
      "1      45         1       0  0.0125\n",
      "2      46         2       0  0.0125\n",
      "Round 42 samples:\n",
      "    action  position  reward  pscore\n",
      "0      38         0       0  0.0125\n",
      "1      50         1       0  0.0125\n",
      "2      66         2       0  0.0125\n",
      "Round 43 samples:\n",
      "    action  position  reward  pscore\n",
      "0      21         0       0  0.0125\n",
      "1      66         1       0  0.0125\n",
      "2      23         2       0  0.0125\n",
      "Round 44 samples:\n",
      "    action  position  reward  pscore\n",
      "0      33         0       0  0.0125\n",
      "1      44         1       0  0.0125\n",
      "2      43         2       0  0.0125\n",
      "Round 45 samples:\n",
      "    action  position  reward  pscore\n",
      "0      65         0       0  0.0125\n",
      "1      23         1       0  0.0125\n",
      "2      44         2       0  0.0125\n",
      "Round 46 samples:\n",
      "    action  position  reward  pscore\n",
      "0      74         0       0  0.0125\n",
      "1       5         1       0  0.0125\n",
      "2      22         2       0  0.0125\n",
      "Round 47 samples:\n",
      "    action  position  reward  pscore\n",
      "0      10         0       0  0.0125\n",
      "1       0         1       0  0.0125\n",
      "2      67         2       0  0.0125\n",
      "Round 48 samples:\n",
      "    action  position  reward  pscore\n",
      "0      17         0       0  0.0125\n",
      "1       8         1       0  0.0125\n",
      "2      66         2       0  0.0125\n",
      "Round 49 samples:\n",
      "    action  position  reward  pscore\n",
      "0      59         0       0  0.0125\n",
      "1      12         1       0  0.0125\n",
      "2      65         2       0  0.0125\n",
      "Round 50 samples:\n",
      "    action  position  reward  pscore\n",
      "0      29         0       0  0.0125\n",
      "1       9         1       0  0.0125\n",
      "2      46         2       0  0.0125\n",
      "Round 51 samples:\n",
      "    action  position  reward  pscore\n",
      "0      40         0       0  0.0125\n",
      "1      39         1       0  0.0125\n",
      "2      36         2       0  0.0125\n",
      "Round 52 samples:\n",
      "    action  position  reward  pscore\n",
      "0      18         0       0  0.0125\n",
      "1      35         1       0  0.0125\n",
      "2       8         2       0  0.0125\n",
      "Round 53 samples:\n",
      "    action  position  reward  pscore\n",
      "0      10         0       0  0.0125\n",
      "1      64         1       0  0.0125\n",
      "2      57         2       0  0.0125\n",
      "Round 54 samples:\n",
      "    action  position  reward  pscore\n",
      "0      56         0       0  0.0125\n",
      "1      69         1       0  0.0125\n",
      "2      26         2       0  0.0125\n",
      "Round 55 samples:\n",
      "    action  position  reward  pscore\n",
      "0      65         0       0  0.0125\n",
      "1      43         1       0  0.0125\n",
      "2      69         2       0  0.0125\n",
      "Round 56 samples:\n",
      "    action  position  reward  pscore\n",
      "0      19         0       0  0.0125\n",
      "1      56         1       0  0.0125\n",
      "2      53         2       0  0.0125\n",
      "Round 57 samples:\n",
      "    action  position  reward  pscore\n",
      "0      56         0       0  0.0125\n",
      "1      71         1       0  0.0125\n",
      "2      72         2       0  0.0125\n",
      "Round 58 samples:\n",
      "    action  position  reward  pscore\n",
      "0      12         0       0  0.0125\n",
      "1      26         1       0  0.0125\n",
      "2      50         2       0  0.0125\n",
      "Round 59 samples:\n",
      "    action  position  reward  pscore\n",
      "0      73         0       0  0.0125\n",
      "1       5         1       0  0.0125\n",
      "2      78         2       0  0.0125\n",
      "Round 60 samples:\n",
      "    action  position  reward  pscore\n",
      "0      26         0       0  0.0125\n",
      "1      62         1       0  0.0125\n",
      "2      50         2       0  0.0125\n",
      "Round 61 samples:\n",
      "    action  position  reward  pscore\n",
      "0      31         0       0  0.0125\n",
      "1      74         1       0  0.0125\n",
      "2      68         2       0  0.0125\n",
      "Round 62 samples:\n",
      "    action  position  reward  pscore\n",
      "0       4         0       0  0.0125\n",
      "1      55         1       0  0.0125\n",
      "2       2         2       0  0.0125\n",
      "Round 63 samples:\n",
      "    action  position  reward  pscore\n",
      "0      40         0       0  0.0125\n",
      "1      49         1       0  0.0125\n",
      "2      18         2       0  0.0125\n",
      "Round 64 samples:\n",
      "    action  position  reward  pscore\n",
      "0       4         0       0  0.0125\n",
      "1      41         1       0  0.0125\n",
      "2      70         2       0  0.0125\n",
      "Round 65 samples:\n",
      "    action  position  reward  pscore\n",
      "0      75         0       0  0.0125\n",
      "1      60         1       0  0.0125\n",
      "2      50         2       0  0.0125\n",
      "Round 66 samples:\n",
      "    action  position  reward  pscore\n",
      "0      45         0       0  0.0125\n",
      "1      50         1       0  0.0125\n",
      "2       8         2       0  0.0125\n",
      "Round 67 samples:\n",
      "    action  position  reward  pscore\n",
      "0      10         0       0  0.0125\n",
      "1      44         1       0  0.0125\n",
      "2      77         2       0  0.0125\n",
      "Round 68 samples:\n",
      "    action  position  reward  pscore\n",
      "0      55         0       0  0.0125\n",
      "1      34         1       0  0.0125\n",
      "2      79         2       0  0.0125\n",
      "Round 69 samples:\n",
      "    action  position  reward  pscore\n",
      "0      36         0       0  0.0125\n",
      "1      20         1       0  0.0125\n",
      "2      41         2       0  0.0125\n",
      "Round 70 samples:\n",
      "    action  position  reward  pscore\n",
      "0      36         0       0  0.0125\n",
      "1      70         1       0  0.0125\n",
      "2      70         2       0  0.0125\n",
      "Round 71 samples:\n",
      "    action  position  reward  pscore\n",
      "0      25         0       0  0.0125\n",
      "1      28         1       0  0.0125\n",
      "2      65         2       0  0.0125\n",
      "Round 72 samples:\n",
      "    action  position  reward  pscore\n",
      "0      28         0       0  0.0125\n",
      "1      72         1       0  0.0125\n",
      "2       5         2       0  0.0125\n",
      "Round 73 samples:\n",
      "    action  position  reward  pscore\n",
      "0       0         0       0  0.0125\n",
      "1       7         1       0  0.0125\n",
      "2      57         2       0  0.0125\n",
      "Round 74 samples:\n",
      "    action  position  reward  pscore\n",
      "0      47         0       0  0.0125\n",
      "1      79         1       0  0.0125\n",
      "2      45         2       0  0.0125\n",
      "Round 75 samples:\n",
      "    action  position  reward  pscore\n",
      "0      72         0       0  0.0125\n",
      "1      23         1       0  0.0125\n",
      "2      37         2       0  0.0125\n",
      "Round 76 samples:\n",
      "    action  position  reward  pscore\n",
      "0      17         0       1  0.0125\n",
      "1      17         1       0  0.0125\n",
      "2      75         2       0  0.0125\n",
      "Round 77 samples:\n",
      "    action  position  reward  pscore\n",
      "0      43         0       0  0.0125\n",
      "1      34         1       0  0.0125\n",
      "2      76         2       0  0.0125\n",
      "Round 78 samples:\n",
      "    action  position  reward  pscore\n",
      "0       3         0       0  0.0125\n",
      "1      54         1       0  0.0125\n",
      "2      70         2       0  0.0125\n",
      "Round 79 samples:\n",
      "    action  position  reward  pscore\n",
      "0       2         0       0  0.0125\n",
      "1      24         1       0  0.0125\n",
      "2      78         2       0  0.0125\n",
      "Round 80 samples:\n",
      "    action  position  reward  pscore\n",
      "0      10         0       0  0.0125\n",
      "1      57         1       0  0.0125\n",
      "2      77         2       0  0.0125\n",
      "Round 81 samples:\n",
      "    action  position  reward  pscore\n",
      "0      75         0       0  0.0125\n",
      "1      21         1       0  0.0125\n",
      "2       6         2       0  0.0125\n",
      "Round 82 samples:\n",
      "    action  position  reward  pscore\n",
      "0      23         0       0  0.0125\n",
      "1      73         1       0  0.0125\n",
      "2      10         2       0  0.0125\n",
      "Round 83 samples:\n",
      "    action  position  reward  pscore\n",
      "0      10         0       0  0.0125\n",
      "1      69         1       0  0.0125\n",
      "2      40         2       0  0.0125\n",
      "Round 84 samples:\n",
      "    action  position  reward  pscore\n",
      "0      41         0       0  0.0125\n",
      "1       5         1       0  0.0125\n",
      "2      37         2       0  0.0125\n",
      "Round 85 samples:\n",
      "    action  position  reward  pscore\n",
      "0      54         0       0  0.0125\n",
      "1      21         1       0  0.0125\n",
      "2      65         2       0  0.0125\n",
      "Round 86 samples:\n",
      "    action  position  reward  pscore\n",
      "0       3         0       0  0.0125\n",
      "1      35         1       0  0.0125\n",
      "2      53         2       0  0.0125\n",
      "Round 87 samples:\n",
      "    action  position  reward  pscore\n",
      "0      70         0       0  0.0125\n",
      "1      53         1       0  0.0125\n",
      "2      46         2       0  0.0125\n",
      "Round 88 samples:\n",
      "    action  position  reward  pscore\n",
      "0      71         0       0  0.0125\n",
      "1      47         1       0  0.0125\n",
      "2      57         2       0  0.0125\n",
      "Round 89 samples:\n",
      "    action  position  reward  pscore\n",
      "0      74         0       0  0.0125\n",
      "1      40         1       0  0.0125\n",
      "2      50         2       0  0.0125\n",
      "Round 90 samples:\n",
      "    action  position  reward  pscore\n",
      "0      39         0       0  0.0125\n",
      "1      20         1       0  0.0125\n",
      "2      37         2       0  0.0125\n",
      "Round 91 samples:\n",
      "    action  position  reward  pscore\n",
      "0      12         0       0  0.0125\n",
      "1      12         1       0  0.0125\n",
      "2      45         2       0  0.0125\n",
      "Round 92 samples:\n",
      "    action  position  reward  pscore\n",
      "0      14         0       0  0.0125\n",
      "1      14         1       0  0.0125\n",
      "2       9         2       0  0.0125\n",
      "Round 93 samples:\n",
      "    action  position  reward  pscore\n",
      "0      66         0       0  0.0125\n",
      "1      70         1       0  0.0125\n",
      "2      76         2       0  0.0125\n",
      "Round 94 samples:\n",
      "    action  position  reward  pscore\n",
      "0      79         0       0  0.0125\n",
      "1      73         1       0  0.0125\n",
      "2      16         2       0  0.0125\n",
      "Round 95 samples:\n",
      "    action  position  reward  pscore\n",
      "0      69         0       0  0.0125\n",
      "1      41         1       0  0.0125\n",
      "2      63         2       0  0.0125\n",
      "Round 96 samples:\n",
      "    action  position  reward  pscore\n",
      "0      67         0       0  0.0125\n",
      "1      19         1       0  0.0125\n",
      "2      13         2       0  0.0125\n",
      "Round 97 samples:\n",
      "    action  position  reward  pscore\n",
      "0      43         0       0  0.0125\n",
      "1      49         1       0  0.0125\n",
      "2      59         2       0  0.0125\n",
      "Round 98 samples:\n",
      "    action  position  reward  pscore\n",
      "0      35         0       0  0.0125\n",
      "1      46         1       0  0.0125\n",
      "2      44         2       0  0.0125\n",
      "Round 99 samples:\n",
      "    action  position  reward  pscore\n",
      "0      52         0       0  0.0125\n",
      "1      60         1       0  0.0125\n",
      "2      36         2       0  0.0125\n",
      "Round 100 samples:\n",
      "    action  position  reward  pscore\n",
      "0      15         0       0  0.0125\n",
      "1      54         1       0  0.0125\n",
      "2      39         2       0  0.0125\n"
     ]
    }
   ],
   "source": [
    "# Run 100 rounds\n",
    "n_rounds = 100\n",
    "for r in range(1, n_rounds+1):   # Round 1 .. 100\n",
    "    samp = tracker.next_round(\n",
    "        random_state=None,     # or an int for reproducibility\n",
    "        use_mc_if_needed=True, # needed beyond round 1\n",
    "        n_sim=50_000           # you can lower this for speed if needed\n",
    "    )\n",
    "    print(f\"Round {r} samples:\\n\", samp.head())  # head() just to avoid giant printouts"
   ]
  },
  {
   "cell_type": "code",
   "execution_count": 17,
   "id": "97c2bfb1",
   "metadata": {},
   "outputs": [
    {
     "data": {
      "application/vnd.plotly.v1+json": {
       "config": {
        "plotlyServerURL": "https://plot.ly"
       },
       "data": [
        {
         "customdata": {
          "bdata": "AAAAAAAAAAAAAAAAAAAAAAAAAAAAAAAAAAAAAAAAAAAAAAAAAAAAAAAAAAAAAAAAAAAAAAAAAAAAAAAAAAAAAAAAAAAAAAAAAAAAAAAAAAA=",
          "dtype": "i1",
          "shape": "80, 1"
         },
         "hovertemplate": "Position: %{customdata[0]}<br>Action: %{x}<br>Round: 0<br>P: %{y:.6f}<extra></extra>",
         "marker": {
          "color": "steelblue"
         },
         "name": "Round 0",
         "opacity": 0.6,
         "showlegend": true,
         "type": "bar",
         "x": {
          "bdata": "AAECAwQFBgcICQoLDA0ODxAREhMUFRYXGBkaGxwdHh8gISIjJCUmJygpKissLS4vMDEyMzQ1Njc4OTo7PD0+P0BBQkNERUZHSElKS0xNTk8=",
          "dtype": "i1"
         },
         "xaxis": "x",
         "y": {
          "bdata": "mpmZmZmZiT+amZmZmZmJP5qZmZmZmYk/mpmZmZmZiT+amZmZmZmJP5qZmZmZmYk/mpmZmZmZiT+amZmZmZmJP5qZmZmZmYk/mpmZmZmZiT+amZmZmZmJP5qZmZmZmYk/mpmZmZmZiT+amZmZmZmJP5qZmZmZmYk/mpmZmZmZiT+amZmZmZmJP5qZmZmZmYk/mpmZmZmZiT+amZmZmZmJP5qZmZmZmYk/mpmZmZmZiT+amZmZmZmJP5qZmZmZmYk/mpmZmZmZiT+amZmZmZmJP5qZmZmZmYk/mpmZmZmZiT+amZmZmZmJP5qZmZmZmYk/mpmZmZmZiT+amZmZmZmJP5qZmZmZmYk/mpmZmZmZiT+amZmZmZmJP5qZmZmZmYk/mpmZmZmZiT+amZmZmZmJP5qZmZmZmYk/mpmZmZmZiT+amZmZmZmJP5qZmZmZmYk/mpmZmZmZiT+amZmZmZmJP5qZmZmZmYk/mpmZmZmZiT+amZmZmZmJP5qZmZmZmYk/mpmZmZmZiT+amZmZmZmJP5qZmZmZmYk/mpmZmZmZiT+amZmZmZmJP5qZmZmZmYk/mpmZmZmZiT+amZmZmZmJP5qZmZmZmYk/mpmZmZmZiT+amZmZmZmJP5qZmZmZmYk/mpmZmZmZiT+amZmZmZmJP5qZmZmZmYk/mpmZmZmZiT+amZmZmZmJP5qZmZmZmYk/mpmZmZmZiT+amZmZmZmJP5qZmZmZmYk/mpmZmZmZiT+amZmZmZmJP5qZmZmZmYk/mpmZmZmZiT+amZmZmZmJP5qZmZmZmYk/mpmZmZmZiT+amZmZmZmJP5qZmZmZmYk/mpmZmZmZiT+amZmZmZmJPw==",
          "dtype": "f8"
         },
         "yaxis": "y"
        },
        {
         "customdata": {
          "bdata": "AAAAAAAAAAAAAAAAAAAAAAAAAAAAAAAAAAAAAAAAAAAAAAAAAAAAAAAAAAAAAAAAAAAAAAAAAAAAAAAAAAAAAAAAAAAAAAAAAAAAAAAAAAA=",
          "dtype": "i1",
          "shape": "80, 1"
         },
         "hovertemplate": "Position: %{customdata[0]}<br>Action: %{x}<br>Round: 100<br>P: %{y:.6f}<extra></extra>",
         "marker": {
          "color": "darkorange"
         },
         "name": "Round 100",
         "opacity": 0.8,
         "showlegend": true,
         "type": "bar",
         "x": {
          "bdata": "AAECAwQFBgcICQoLDA0ODxAREhMUFRYXGBkaGxwdHh8gISIjJCUmJygpKissLS4vMDEyMzQ1Njc4OTo7PD0+P0BBQkNERUZHSElKS0xNTk8=",
          "dtype": "i1"
         },
         "xaxis": "x",
         "y": {
          "bdata": "gJ9x4UBIZj9ZwARu3c2jP0uwOJz51Sw/YTJVMCqpMz8tQxzr4jYqP4OG/gkuVqQ/chb2tMNfoz+MvoI0Y9GkP/p+arx0k2g/gJ9x4UBIZj8AAAAAAAAAAKlNnNzvUGQ/aR1VTRB1Dz97FK5H4XqkP3L+JhQi4GA/kPeqlQm/pD8z+WabG9NjP7x5qkNuhks/donqrYGtYj8tQxzr4jYqP6lNnNzvUGQ/vqQxWkdVYz+HvyZr1EOkP4CfceFASGY/D9b/OcyXZz9LsDic+dUsPxoXDoRkAWM/04cuqG+Zoz8AAAAAAAAAALfu5qkOuWk/mYHK+PcZZz84hCo1e6BlP4CfceFASDY/aR1VTRB1Dz9EozuInSmkP6kT0ETY8KQ/S7A4nPnVLD/CL/XzpiJlPw/W/znMl2c/aR1VTRB1Dz8AAAAAAAAAANwRTgte9GU/gJ9x4UBIZj9DxTh/EwoxP+xph78ma6Q/AAAAAAAAAADxaOOItfj0PkPFOH8TCjE/f9k9eViopT8P1v85zJcnPwXAeAYN/aM//wkuVtRgaj8OvjCZKhilPxIxJZLoZaQ/Tdu/stKkZD++pDFaR1VjP4CfceFASDY/TRWMSuoEpD8Fhqxu9ZykP4CfceFASGY/uvdwyXGnpD+6MT1hiQekP0SjO4idKaQ/lPYGX5hMZT84hCo1e6BlP/Fo44i1+PQ+0vvG155ZIj8P1v85zJcnPycUIuAQqqQ/H6LRHcTOZD+pTZzc71BkPx+i0R3EzmQ/D9b/OcyXZz9LsDic+dUsP/Fo44i1+AQ/8WjjiLX49D4SMSWS6GWkP5BrQ8U4f2M/lDDT9q+spD9LsDic+dUsPw==",
          "dtype": "f8"
         },
         "yaxis": "y"
        },
        {
         "customdata": {
          "bdata": "AQEBAQEBAQEBAQEBAQEBAQEBAQEBAQEBAQEBAQEBAQEBAQEBAQEBAQEBAQEBAQEBAQEBAQEBAQEBAQEBAQEBAQEBAQEBAQEBAQEBAQEBAQE=",
          "dtype": "i1",
          "shape": "80, 1"
         },
         "hovertemplate": "Position: %{customdata[0]}<br>Action: %{x}<br>Round: 0<br>P: %{y:.6f}<extra></extra>",
         "marker": {
          "color": "steelblue"
         },
         "name": "Round 0",
         "opacity": 0.6,
         "showlegend": false,
         "type": "bar",
         "x": {
          "bdata": "AAECAwQFBgcICQoLDA0ODxAREhMUFRYXGBkaGxwdHh8gISIjJCUmJygpKissLS4vMDEyMzQ1Njc4OTo7PD0+P0BBQkNERUZHSElKS0xNTk8=",
          "dtype": "i1"
         },
         "xaxis": "x2",
         "y": {
          "bdata": "mpmZmZmZiT+amZmZmZmJP5qZmZmZmYk/mpmZmZmZiT+amZmZmZmJP5qZmZmZmYk/mpmZmZmZiT+amZmZmZmJP5qZmZmZmYk/mpmZmZmZiT+amZmZmZmJP5qZmZmZmYk/mpmZmZmZiT+amZmZmZmJP5qZmZmZmYk/mpmZmZmZiT+amZmZmZmJP5qZmZmZmYk/mpmZmZmZiT+amZmZmZmJP5qZmZmZmYk/mpmZmZmZiT+amZmZmZmJP5qZmZmZmYk/mpmZmZmZiT+amZmZmZmJP5qZmZmZmYk/mpmZmZmZiT+amZmZmZmJP5qZmZmZmYk/mpmZmZmZiT+amZmZmZmJP5qZmZmZmYk/mpmZmZmZiT+amZmZmZmJP5qZmZmZmYk/mpmZmZmZiT+amZmZmZmJP5qZmZmZmYk/mpmZmZmZiT+amZmZmZmJP5qZmZmZmYk/mpmZmZmZiT+amZmZmZmJP5qZmZmZmYk/mpmZmZmZiT+amZmZmZmJP5qZmZmZmYk/mpmZmZmZiT+amZmZmZmJP5qZmZmZmYk/mpmZmZmZiT+amZmZmZmJP5qZmZmZmYk/mpmZmZmZiT+amZmZmZmJP5qZmZmZmYk/mpmZmZmZiT+amZmZmZmJP5qZmZmZmYk/mpmZmZmZiT+amZmZmZmJP5qZmZmZmYk/mpmZmZmZiT+amZmZmZmJP5qZmZmZmYk/mpmZmZmZiT+amZmZmZmJP5qZmZmZmYk/mpmZmZmZiT+amZmZmZmJP5qZmZmZmYk/mpmZmZmZiT+amZmZmZmJP5qZmZmZmYk/mpmZmZmZiT+amZmZmZmJP5qZmZmZmYk/mpmZmZmZiT+amZmZmZmJPw==",
          "dtype": "f8"
         },
         "yaxis": "y2"
        },
        {
         "customdata": {
          "bdata": "AQEBAQEBAQEBAQEBAQEBAQEBAQEBAQEBAQEBAQEBAQEBAQEBAQEBAQEBAQEBAQEBAQEBAQEBAQEBAQEBAQEBAQEBAQEBAQEBAQEBAQEBAQE=",
          "dtype": "i1",
          "shape": "80, 1"
         },
         "hovertemplate": "Position: %{customdata[0]}<br>Action: %{x}<br>Round: 100<br>P: %{y:.6f}<extra></extra>",
         "marker": {
          "color": "darkorange"
         },
         "name": "Round 100",
         "opacity": 0.8,
         "showlegend": false,
         "type": "bar",
         "x": {
          "bdata": "AAECAwQFBgcICQoLDA0ODxAREhMUFRYXGBkaGxwdHh8gISIjJCUmJygpKissLS4vMDEyMzQ1Njc4OTo7PD0+P0BBQkNERUZHSElKS0xNTk8=",
          "dtype": "i1"
         },
         "xaxis": "x2",
         "y": {
          "bdata": "A5Xx7zMubD8hAg6hSs1uPygs8YCyKac/JLn8h/Tbpz/tDb4wmSqoP2kdVU0QdQ8/6Q5iZwqdpz/uPVxy3CltP2kdVU0QdQ8/NlmjHqLRbT+lLEMc6+KmP3zysFBrmqc/LUMc6+I2Oj9aZDvfT42nP2EyVTAqqTM/l1ZD4h5Lbz/ABG7dzVNtP1t8CoDxDGo/7j1cctwpbT/a5sb0hCVuP2kdVU0QdQ8/ngyOklfnOD/l1TkGZK+nP0PFOH8TCjE/88gfDDz3bj9SuB6F61GoPwOV8e8zLmw/vHmqQ26Gaz/uPVxy3CltP5LLf0i/fW0/+vIC7KNTpz9W8UbmkT+oP+49XHLcKW0/AAAAAAAAAAC8eapDboY7Py1DHOviNjo/3CkdrP9zqD8dd0oH6/9sP2SSkbOwp20/fnTqymd5bj/xaOOItfg0PwAAAAAAAAAANlmjHqLRbT/lJ9U+HY9pP/Fo44i1+PQ+6rKY2Hxcaz8P1v85zJc3P7x5qkNuhjs/vHmqQ26GOz+8eapDboY7P0uwOJz51Tw/ukkMAiuHpj+8eapDboZrP/Fo44i1+DQ/8WjjiLX4ND/xaOOItfgUP2kdVU0QdT8/8WjjiLX49D4LYwtBDkqoP16dY0D2eqc/5SfVPh2PaT875Ga4AZ9vP/Fo44i1+DQ/A5Xx7zMubD/ABG7dzVNtPwggtYmT+20/gJ9x4UBINj/Q8jy4O2unP3wsfeiC+qY/YTJVMCqpMz9hMlUwKqkzP0YldQKaCGs/E2HD0ytlaT/S+8bXnllCPx13Sgfr/2w/gJ9x4UBINj956SYxCKxsP29HOC140ac/qrcGtkqwqD875Ga4AZ9vPw==",
          "dtype": "f8"
         },
         "yaxis": "y2"
        },
        {
         "customdata": {
          "bdata": "AgICAgICAgICAgICAgICAgICAgICAgICAgICAgICAgICAgICAgICAgICAgICAgICAgICAgICAgICAgICAgICAgICAgICAgICAgICAgICAgI=",
          "dtype": "i1",
          "shape": "80, 1"
         },
         "hovertemplate": "Position: %{customdata[0]}<br>Action: %{x}<br>Round: 0<br>P: %{y:.6f}<extra></extra>",
         "marker": {
          "color": "steelblue"
         },
         "name": "Round 0",
         "opacity": 0.6,
         "showlegend": false,
         "type": "bar",
         "x": {
          "bdata": "AAECAwQFBgcICQoLDA0ODxAREhMUFRYXGBkaGxwdHh8gISIjJCUmJygpKissLS4vMDEyMzQ1Njc4OTo7PD0+P0BBQkNERUZHSElKS0xNTk8=",
          "dtype": "i1"
         },
         "xaxis": "x3",
         "y": {
          "bdata": "mpmZmZmZiT+amZmZmZmJP5qZmZmZmYk/mpmZmZmZiT+amZmZmZmJP5qZmZmZmYk/mpmZmZmZiT+amZmZmZmJP5qZmZmZmYk/mpmZmZmZiT+amZmZmZmJP5qZmZmZmYk/mpmZmZmZiT+amZmZmZmJP5qZmZmZmYk/mpmZmZmZiT+amZmZmZmJP5qZmZmZmYk/mpmZmZmZiT+amZmZmZmJP5qZmZmZmYk/mpmZmZmZiT+amZmZmZmJP5qZmZmZmYk/mpmZmZmZiT+amZmZmZmJP5qZmZmZmYk/mpmZmZmZiT+amZmZmZmJP5qZmZmZmYk/mpmZmZmZiT+amZmZmZmJP5qZmZmZmYk/mpmZmZmZiT+amZmZmZmJP5qZmZmZmYk/mpmZmZmZiT+amZmZmZmJP5qZmZmZmYk/mpmZmZmZiT+amZmZmZmJP5qZmZmZmYk/mpmZmZmZiT+amZmZmZmJP5qZmZmZmYk/mpmZmZmZiT+amZmZmZmJP5qZmZmZmYk/mpmZmZmZiT+amZmZmZmJP5qZmZmZmYk/mpmZmZmZiT+amZmZmZmJP5qZmZmZmYk/mpmZmZmZiT+amZmZmZmJP5qZmZmZmYk/mpmZmZmZiT+amZmZmZmJP5qZmZmZmYk/mpmZmZmZiT+amZmZmZmJP5qZmZmZmYk/mpmZmZmZiT+amZmZmZmJP5qZmZmZmYk/mpmZmZmZiT+amZmZmZmJP5qZmZmZmYk/mpmZmZmZiT+amZmZmZmJP5qZmZmZmYk/mpmZmZmZiT+amZmZmZmJP5qZmZmZmYk/mpmZmZmZiT+amZmZmZmJP5qZmZmZmYk/mpmZmZmZiT+amZmZmZmJPw==",
          "dtype": "f8"
         },
         "yaxis": "y3"
        },
        {
         "customdata": {
          "bdata": "AgICAgICAgICAgICAgICAgICAgICAgICAgICAgICAgICAgICAgICAgICAgICAgICAgICAgICAgICAgICAgICAgICAgICAgICAgICAgICAgI=",
          "dtype": "i1",
          "shape": "80, 1"
         },
         "hovertemplate": "Position: %{customdata[0]}<br>Action: %{x}<br>Round: 100<br>P: %{y:.6f}<extra></extra>",
         "marker": {
          "color": "darkorange"
         },
         "name": "Round 100",
         "opacity": 0.8,
         "showlegend": false,
         "type": "bar",
         "x": {
          "bdata": "AAECAwQFBgcICQoLDA0ODxAREhMUFRYXGBkaGxwdHh8gISIjJCUmJygpKissLS4vMDEyMzQ1Njc4OTo7PD0+P0BBQkNERUZHSElKS0xNTk8=",
          "dtype": "i1"
         },
         "xaxis": "x3",
         "y": {
          "bdata": "HlA25Qrvoj/so1NXPsujP0hQ/Bhz12I/VYfcDDfgoz+LbOf7qfGiPwpLPKBsymU/qU2c3O9QZD8z+WabG9OjP/Fo44i1+PQ+8WjjiLX4ZD8tQxzr4jYqP7H5uDZUjKM/sTOFzmvsoj8AAAAAAAAAAE3bv7LSpGQ/ODKP/MHAoz9LsDic+dUsP2a9GMqJdmU/8WjjiLX4JD++pDFaR1VjPy1DHOviNio/YabtX1lpoj8z+WabG9NjP2kdVU0QdQ8/D9b/OcyXJz9EF9S3zOmiP2EyVTAqqWM/GhcOhGQBYz9dp5GWytthP+dSXFX2XWE/UU60q5Dyoz9uF5rrNNKiP3uIRncQO6M/BfpEniRdoz8vbqMBvAViP636XG3F/qI/XaeRlsrbYT8AAAAAAAAAAEPFOH8TCjE/J8KGp1fKoj9DxTh/EwoxP9wRTgte9GU/j9/b9Gc/oj9LsDic+dUsP85wAz4/jGA/gJ9x4UBINj8AAAAAAAAAAC1DHOviNio/UYiAQ6hSoz8tQxzr4jYqPwAAAAAAAAAA5DEDlfHvoz/GFoIclDCjP/Fo44i1+CQ/LUMc6+I2Gj+Zgcr49xlnP4P6ljldFqM/AAAAAAAAAADxaOOItfhkP9L7xteeWTI/Ft7lIr4Toz8R34lZL4aiP5mByvj3GWc/vqQxWkdVYz/CL/XzpiJlPwAAAAAAAAAALUMc6+I2Kj/S+8bXnlliP2EyVTAqqWM/aR1VTRB1Lz/xaOOItfgEP0hQ/Bhz12I/8WjjiLX49D6DNGPRdHaiP24Xmus00qI/Q8U4fxMKMT9LsDic+dUsPwAAAAAAAAAA0vvG155ZIj/cEU4LXvRlPw==",
          "dtype": "f8"
         },
         "yaxis": "y3"
        }
       ],
       "layout": {
        "annotations": [
         {
          "font": {
           "size": 16
          },
          "showarrow": false,
          "text": "Position 0",
          "x": 0.5,
          "xanchor": "center",
          "xref": "paper",
          "y": 1,
          "yanchor": "bottom",
          "yref": "paper"
         },
         {
          "font": {
           "size": 16
          },
          "showarrow": false,
          "text": "Position 1",
          "x": 0.5,
          "xanchor": "center",
          "xref": "paper",
          "y": 0.6399999999999999,
          "yanchor": "bottom",
          "yref": "paper"
         },
         {
          "font": {
           "size": 16
          },
          "showarrow": false,
          "text": "Position 2",
          "x": 0.5,
          "xanchor": "center",
          "xref": "paper",
          "y": 0.27999999999999997,
          "yanchor": "bottom",
          "yref": "paper"
         }
        ],
        "bargap": 0.15,
        "barmode": "group",
        "height": 900,
        "template": {
         "data": {
          "bar": [
           {
            "error_x": {
             "color": "#2a3f5f"
            },
            "error_y": {
             "color": "#2a3f5f"
            },
            "marker": {
             "line": {
              "color": "white",
              "width": 0.5
             },
             "pattern": {
              "fillmode": "overlay",
              "size": 10,
              "solidity": 0.2
             }
            },
            "type": "bar"
           }
          ],
          "barpolar": [
           {
            "marker": {
             "line": {
              "color": "white",
              "width": 0.5
             },
             "pattern": {
              "fillmode": "overlay",
              "size": 10,
              "solidity": 0.2
             }
            },
            "type": "barpolar"
           }
          ],
          "carpet": [
           {
            "aaxis": {
             "endlinecolor": "#2a3f5f",
             "gridcolor": "#C8D4E3",
             "linecolor": "#C8D4E3",
             "minorgridcolor": "#C8D4E3",
             "startlinecolor": "#2a3f5f"
            },
            "baxis": {
             "endlinecolor": "#2a3f5f",
             "gridcolor": "#C8D4E3",
             "linecolor": "#C8D4E3",
             "minorgridcolor": "#C8D4E3",
             "startlinecolor": "#2a3f5f"
            },
            "type": "carpet"
           }
          ],
          "choropleth": [
           {
            "colorbar": {
             "outlinewidth": 0,
             "ticks": ""
            },
            "type": "choropleth"
           }
          ],
          "contour": [
           {
            "colorbar": {
             "outlinewidth": 0,
             "ticks": ""
            },
            "colorscale": [
             [
              0,
              "#0d0887"
             ],
             [
              0.1111111111111111,
              "#46039f"
             ],
             [
              0.2222222222222222,
              "#7201a8"
             ],
             [
              0.3333333333333333,
              "#9c179e"
             ],
             [
              0.4444444444444444,
              "#bd3786"
             ],
             [
              0.5555555555555556,
              "#d8576b"
             ],
             [
              0.6666666666666666,
              "#ed7953"
             ],
             [
              0.7777777777777778,
              "#fb9f3a"
             ],
             [
              0.8888888888888888,
              "#fdca26"
             ],
             [
              1,
              "#f0f921"
             ]
            ],
            "type": "contour"
           }
          ],
          "contourcarpet": [
           {
            "colorbar": {
             "outlinewidth": 0,
             "ticks": ""
            },
            "type": "contourcarpet"
           }
          ],
          "heatmap": [
           {
            "colorbar": {
             "outlinewidth": 0,
             "ticks": ""
            },
            "colorscale": [
             [
              0,
              "#0d0887"
             ],
             [
              0.1111111111111111,
              "#46039f"
             ],
             [
              0.2222222222222222,
              "#7201a8"
             ],
             [
              0.3333333333333333,
              "#9c179e"
             ],
             [
              0.4444444444444444,
              "#bd3786"
             ],
             [
              0.5555555555555556,
              "#d8576b"
             ],
             [
              0.6666666666666666,
              "#ed7953"
             ],
             [
              0.7777777777777778,
              "#fb9f3a"
             ],
             [
              0.8888888888888888,
              "#fdca26"
             ],
             [
              1,
              "#f0f921"
             ]
            ],
            "type": "heatmap"
           }
          ],
          "histogram": [
           {
            "marker": {
             "pattern": {
              "fillmode": "overlay",
              "size": 10,
              "solidity": 0.2
             }
            },
            "type": "histogram"
           }
          ],
          "histogram2d": [
           {
            "colorbar": {
             "outlinewidth": 0,
             "ticks": ""
            },
            "colorscale": [
             [
              0,
              "#0d0887"
             ],
             [
              0.1111111111111111,
              "#46039f"
             ],
             [
              0.2222222222222222,
              "#7201a8"
             ],
             [
              0.3333333333333333,
              "#9c179e"
             ],
             [
              0.4444444444444444,
              "#bd3786"
             ],
             [
              0.5555555555555556,
              "#d8576b"
             ],
             [
              0.6666666666666666,
              "#ed7953"
             ],
             [
              0.7777777777777778,
              "#fb9f3a"
             ],
             [
              0.8888888888888888,
              "#fdca26"
             ],
             [
              1,
              "#f0f921"
             ]
            ],
            "type": "histogram2d"
           }
          ],
          "histogram2dcontour": [
           {
            "colorbar": {
             "outlinewidth": 0,
             "ticks": ""
            },
            "colorscale": [
             [
              0,
              "#0d0887"
             ],
             [
              0.1111111111111111,
              "#46039f"
             ],
             [
              0.2222222222222222,
              "#7201a8"
             ],
             [
              0.3333333333333333,
              "#9c179e"
             ],
             [
              0.4444444444444444,
              "#bd3786"
             ],
             [
              0.5555555555555556,
              "#d8576b"
             ],
             [
              0.6666666666666666,
              "#ed7953"
             ],
             [
              0.7777777777777778,
              "#fb9f3a"
             ],
             [
              0.8888888888888888,
              "#fdca26"
             ],
             [
              1,
              "#f0f921"
             ]
            ],
            "type": "histogram2dcontour"
           }
          ],
          "mesh3d": [
           {
            "colorbar": {
             "outlinewidth": 0,
             "ticks": ""
            },
            "type": "mesh3d"
           }
          ],
          "parcoords": [
           {
            "line": {
             "colorbar": {
              "outlinewidth": 0,
              "ticks": ""
             }
            },
            "type": "parcoords"
           }
          ],
          "pie": [
           {
            "automargin": true,
            "type": "pie"
           }
          ],
          "scatter": [
           {
            "fillpattern": {
             "fillmode": "overlay",
             "size": 10,
             "solidity": 0.2
            },
            "type": "scatter"
           }
          ],
          "scatter3d": [
           {
            "line": {
             "colorbar": {
              "outlinewidth": 0,
              "ticks": ""
             }
            },
            "marker": {
             "colorbar": {
              "outlinewidth": 0,
              "ticks": ""
             }
            },
            "type": "scatter3d"
           }
          ],
          "scattercarpet": [
           {
            "marker": {
             "colorbar": {
              "outlinewidth": 0,
              "ticks": ""
             }
            },
            "type": "scattercarpet"
           }
          ],
          "scattergeo": [
           {
            "marker": {
             "colorbar": {
              "outlinewidth": 0,
              "ticks": ""
             }
            },
            "type": "scattergeo"
           }
          ],
          "scattergl": [
           {
            "marker": {
             "colorbar": {
              "outlinewidth": 0,
              "ticks": ""
             }
            },
            "type": "scattergl"
           }
          ],
          "scattermap": [
           {
            "marker": {
             "colorbar": {
              "outlinewidth": 0,
              "ticks": ""
             }
            },
            "type": "scattermap"
           }
          ],
          "scattermapbox": [
           {
            "marker": {
             "colorbar": {
              "outlinewidth": 0,
              "ticks": ""
             }
            },
            "type": "scattermapbox"
           }
          ],
          "scatterpolar": [
           {
            "marker": {
             "colorbar": {
              "outlinewidth": 0,
              "ticks": ""
             }
            },
            "type": "scatterpolar"
           }
          ],
          "scatterpolargl": [
           {
            "marker": {
             "colorbar": {
              "outlinewidth": 0,
              "ticks": ""
             }
            },
            "type": "scatterpolargl"
           }
          ],
          "scatterternary": [
           {
            "marker": {
             "colorbar": {
              "outlinewidth": 0,
              "ticks": ""
             }
            },
            "type": "scatterternary"
           }
          ],
          "surface": [
           {
            "colorbar": {
             "outlinewidth": 0,
             "ticks": ""
            },
            "colorscale": [
             [
              0,
              "#0d0887"
             ],
             [
              0.1111111111111111,
              "#46039f"
             ],
             [
              0.2222222222222222,
              "#7201a8"
             ],
             [
              0.3333333333333333,
              "#9c179e"
             ],
             [
              0.4444444444444444,
              "#bd3786"
             ],
             [
              0.5555555555555556,
              "#d8576b"
             ],
             [
              0.6666666666666666,
              "#ed7953"
             ],
             [
              0.7777777777777778,
              "#fb9f3a"
             ],
             [
              0.8888888888888888,
              "#fdca26"
             ],
             [
              1,
              "#f0f921"
             ]
            ],
            "type": "surface"
           }
          ],
          "table": [
           {
            "cells": {
             "fill": {
              "color": "#EBF0F8"
             },
             "line": {
              "color": "white"
             }
            },
            "header": {
             "fill": {
              "color": "#C8D4E3"
             },
             "line": {
              "color": "white"
             }
            },
            "type": "table"
           }
          ]
         },
         "layout": {
          "annotationdefaults": {
           "arrowcolor": "#2a3f5f",
           "arrowhead": 0,
           "arrowwidth": 1
          },
          "autotypenumbers": "strict",
          "coloraxis": {
           "colorbar": {
            "outlinewidth": 0,
            "ticks": ""
           }
          },
          "colorscale": {
           "diverging": [
            [
             0,
             "#8e0152"
            ],
            [
             0.1,
             "#c51b7d"
            ],
            [
             0.2,
             "#de77ae"
            ],
            [
             0.3,
             "#f1b6da"
            ],
            [
             0.4,
             "#fde0ef"
            ],
            [
             0.5,
             "#f7f7f7"
            ],
            [
             0.6,
             "#e6f5d0"
            ],
            [
             0.7,
             "#b8e186"
            ],
            [
             0.8,
             "#7fbc41"
            ],
            [
             0.9,
             "#4d9221"
            ],
            [
             1,
             "#276419"
            ]
           ],
           "sequential": [
            [
             0,
             "#0d0887"
            ],
            [
             0.1111111111111111,
             "#46039f"
            ],
            [
             0.2222222222222222,
             "#7201a8"
            ],
            [
             0.3333333333333333,
             "#9c179e"
            ],
            [
             0.4444444444444444,
             "#bd3786"
            ],
            [
             0.5555555555555556,
             "#d8576b"
            ],
            [
             0.6666666666666666,
             "#ed7953"
            ],
            [
             0.7777777777777778,
             "#fb9f3a"
            ],
            [
             0.8888888888888888,
             "#fdca26"
            ],
            [
             1,
             "#f0f921"
            ]
           ],
           "sequentialminus": [
            [
             0,
             "#0d0887"
            ],
            [
             0.1111111111111111,
             "#46039f"
            ],
            [
             0.2222222222222222,
             "#7201a8"
            ],
            [
             0.3333333333333333,
             "#9c179e"
            ],
            [
             0.4444444444444444,
             "#bd3786"
            ],
            [
             0.5555555555555556,
             "#d8576b"
            ],
            [
             0.6666666666666666,
             "#ed7953"
            ],
            [
             0.7777777777777778,
             "#fb9f3a"
            ],
            [
             0.8888888888888888,
             "#fdca26"
            ],
            [
             1,
             "#f0f921"
            ]
           ]
          },
          "colorway": [
           "#636efa",
           "#EF553B",
           "#00cc96",
           "#ab63fa",
           "#FFA15A",
           "#19d3f3",
           "#FF6692",
           "#B6E880",
           "#FF97FF",
           "#FECB52"
          ],
          "font": {
           "color": "#2a3f5f"
          },
          "geo": {
           "bgcolor": "white",
           "lakecolor": "white",
           "landcolor": "white",
           "showlakes": true,
           "showland": true,
           "subunitcolor": "#C8D4E3"
          },
          "hoverlabel": {
           "align": "left"
          },
          "hovermode": "closest",
          "mapbox": {
           "style": "light"
          },
          "paper_bgcolor": "white",
          "plot_bgcolor": "white",
          "polar": {
           "angularaxis": {
            "gridcolor": "#EBF0F8",
            "linecolor": "#EBF0F8",
            "ticks": ""
           },
           "bgcolor": "white",
           "radialaxis": {
            "gridcolor": "#EBF0F8",
            "linecolor": "#EBF0F8",
            "ticks": ""
           }
          },
          "scene": {
           "xaxis": {
            "backgroundcolor": "white",
            "gridcolor": "#DFE8F3",
            "gridwidth": 2,
            "linecolor": "#EBF0F8",
            "showbackground": true,
            "ticks": "",
            "zerolinecolor": "#EBF0F8"
           },
           "yaxis": {
            "backgroundcolor": "white",
            "gridcolor": "#DFE8F3",
            "gridwidth": 2,
            "linecolor": "#EBF0F8",
            "showbackground": true,
            "ticks": "",
            "zerolinecolor": "#EBF0F8"
           },
           "zaxis": {
            "backgroundcolor": "white",
            "gridcolor": "#DFE8F3",
            "gridwidth": 2,
            "linecolor": "#EBF0F8",
            "showbackground": true,
            "ticks": "",
            "zerolinecolor": "#EBF0F8"
           }
          },
          "shapedefaults": {
           "line": {
            "color": "#2a3f5f"
           }
          },
          "ternary": {
           "aaxis": {
            "gridcolor": "#DFE8F3",
            "linecolor": "#A2B1C6",
            "ticks": ""
           },
           "baxis": {
            "gridcolor": "#DFE8F3",
            "linecolor": "#A2B1C6",
            "ticks": ""
           },
           "bgcolor": "white",
           "caxis": {
            "gridcolor": "#DFE8F3",
            "linecolor": "#A2B1C6",
            "ticks": ""
           }
          },
          "title": {
           "x": 0.05
          },
          "xaxis": {
           "automargin": true,
           "gridcolor": "#EBF0F8",
           "linecolor": "#EBF0F8",
           "ticks": "",
           "title": {
            "standoff": 15
           },
           "zerolinecolor": "#EBF0F8",
           "zerolinewidth": 2
          },
          "yaxis": {
           "automargin": true,
           "gridcolor": "#EBF0F8",
           "linecolor": "#EBF0F8",
           "ticks": "",
           "title": {
            "standoff": 15
           },
           "zerolinecolor": "#EBF0F8",
           "zerolinewidth": 2
          }
         }
        },
        "title": {
         "text": "Round 0 vs Round 100"
        },
        "xaxis": {
         "anchor": "y",
         "domain": [
          0,
          1
         ],
         "showticklabels": true,
         "tickmode": "array",
         "ticks": "outside",
         "ticktext": [
          "0",
          "1",
          "2",
          "3",
          "4",
          "5",
          "6",
          "7",
          "8",
          "9",
          "10",
          "11",
          "12",
          "13",
          "14",
          "15",
          "16",
          "17",
          "18",
          "19",
          "20",
          "21",
          "22",
          "23",
          "24",
          "25",
          "26",
          "27",
          "28",
          "29",
          "30",
          "31",
          "32",
          "33",
          "34",
          "35",
          "36",
          "37",
          "38",
          "39",
          "40",
          "41",
          "42",
          "43",
          "44",
          "45",
          "46",
          "47",
          "48",
          "49",
          "50",
          "51",
          "52",
          "53",
          "54",
          "55",
          "56",
          "57",
          "58",
          "59",
          "60",
          "61",
          "62",
          "63",
          "64",
          "65",
          "66",
          "67",
          "68",
          "69",
          "70",
          "71",
          "72",
          "73",
          "74",
          "75",
          "76",
          "77",
          "78",
          "79"
         ],
         "tickvals": {
          "bdata": "AAECAwQFBgcICQoLDA0ODxAREhMUFRYXGBkaGxwdHh8gISIjJCUmJygpKissLS4vMDEyMzQ1Njc4OTo7PD0+P0BBQkNERUZHSElKS0xNTk8=",
          "dtype": "i1"
         }
        },
        "xaxis2": {
         "anchor": "y2",
         "domain": [
          0,
          1
         ],
         "showticklabels": true,
         "tickmode": "array",
         "ticks": "outside",
         "ticktext": [
          "0",
          "1",
          "2",
          "3",
          "4",
          "5",
          "6",
          "7",
          "8",
          "9",
          "10",
          "11",
          "12",
          "13",
          "14",
          "15",
          "16",
          "17",
          "18",
          "19",
          "20",
          "21",
          "22",
          "23",
          "24",
          "25",
          "26",
          "27",
          "28",
          "29",
          "30",
          "31",
          "32",
          "33",
          "34",
          "35",
          "36",
          "37",
          "38",
          "39",
          "40",
          "41",
          "42",
          "43",
          "44",
          "45",
          "46",
          "47",
          "48",
          "49",
          "50",
          "51",
          "52",
          "53",
          "54",
          "55",
          "56",
          "57",
          "58",
          "59",
          "60",
          "61",
          "62",
          "63",
          "64",
          "65",
          "66",
          "67",
          "68",
          "69",
          "70",
          "71",
          "72",
          "73",
          "74",
          "75",
          "76",
          "77",
          "78",
          "79"
         ],
         "tickvals": {
          "bdata": "AAECAwQFBgcICQoLDA0ODxAREhMUFRYXGBkaGxwdHh8gISIjJCUmJygpKissLS4vMDEyMzQ1Njc4OTo7PD0+P0BBQkNERUZHSElKS0xNTk8=",
          "dtype": "i1"
         }
        },
        "xaxis3": {
         "anchor": "y3",
         "domain": [
          0,
          1
         ],
         "showticklabels": true,
         "tickmode": "array",
         "ticks": "outside",
         "ticktext": [
          "0",
          "1",
          "2",
          "3",
          "4",
          "5",
          "6",
          "7",
          "8",
          "9",
          "10",
          "11",
          "12",
          "13",
          "14",
          "15",
          "16",
          "17",
          "18",
          "19",
          "20",
          "21",
          "22",
          "23",
          "24",
          "25",
          "26",
          "27",
          "28",
          "29",
          "30",
          "31",
          "32",
          "33",
          "34",
          "35",
          "36",
          "37",
          "38",
          "39",
          "40",
          "41",
          "42",
          "43",
          "44",
          "45",
          "46",
          "47",
          "48",
          "49",
          "50",
          "51",
          "52",
          "53",
          "54",
          "55",
          "56",
          "57",
          "58",
          "59",
          "60",
          "61",
          "62",
          "63",
          "64",
          "65",
          "66",
          "67",
          "68",
          "69",
          "70",
          "71",
          "72",
          "73",
          "74",
          "75",
          "76",
          "77",
          "78",
          "79"
         ],
         "tickvals": {
          "bdata": "AAECAwQFBgcICQoLDA0ODxAREhMUFRYXGBkaGxwdHh8gISIjJCUmJygpKissLS4vMDEyMzQ1Njc4OTo7PD0+P0BBQkNERUZHSElKS0xNTk8=",
          "dtype": "i1"
         },
         "title": {
          "text": "Action ID (0–79)"
         }
        },
        "yaxis": {
         "anchor": "x",
         "domain": [
          0.72,
          1
         ],
         "range": [
          0,
          0.052875
         ],
         "title": {
          "text": "P(action selected)"
         }
        },
        "yaxis2": {
         "anchor": "x2",
         "domain": [
          0.36,
          0.6399999999999999
         ],
         "range": [
          0,
          0.060274999999999995
         ],
         "title": {
          "text": "P(action selected)"
         }
        },
        "yaxis3": {
         "anchor": "x3",
         "domain": [
          0,
          0.27999999999999997
         ],
         "range": [
          0,
          0.0487
         ],
         "title": {
          "text": "P(action selected)"
         }
        }
       }
      }
     },
     "metadata": {},
     "output_type": "display_data"
    }
   ],
   "source": [
    "# make sure you’ve advanced to round 100 already\n",
    "# for r in range(1, 101):\n",
    "#     _ = tracker.next_round(use_mc_if_needed=True, n_sim=50_000)\n",
    "\n",
    "tracker.plot_compare(0, 100, title=\"Round 0 vs Round 100\")"
   ]
  },
  {
   "cell_type": "code",
   "execution_count": 18,
   "id": "ec8c0f4c",
   "metadata": {},
   "outputs": [],
   "source": [
    "# import numpy as np\n",
    "# import pandas as pd\n",
    "# import plotly.graph_objects as go\n",
    "\n",
    "# # Start with Beta(1,1) priors (or reuse alpha/beta from data if you prefer)\n",
    "# K = bf[\"n_actions\"]\n",
    "# alpha_ts = np.ones(K)\n",
    "# beta_ts  = np.ones(K)\n",
    "\n",
    "\n",
    "# # Make a Series indexed by action 0..K-1\n",
    "# p_true = (\n",
    "#     df.groupby(\"action\")[\"reward\"].mean()\n",
    "#       .reindex(range(bf[\"n_actions\"]), fill_value=0.0)\n",
    "#       .to_numpy()\n",
    "# )\n",
    "\n",
    "# # # Build a lookup of empirical Bernoulli probs per action (from your df) to simulate rewards\n",
    "# # # (Using empirical CTR as the \"true CTR\" for a simple simulation.)\n",
    "# # p_true = ctr_by_action.to_numpy()\n",
    "\n",
    "# n_rounds = 100\n",
    "# rng = np.random.RandomState(7)\n",
    "# chosen_counts = np.zeros(K, dtype=int)\n",
    "\n",
    "# for t in range(n_rounds):\n",
    "#     # draw once per arm\n",
    "#     theta = rng.beta(alpha_ts, beta_ts)\n",
    "#     a = int(theta.argmax())\n",
    "#     chosen_counts[a] += 1\n",
    "\n",
    "#     # simulate a Bernoulli reward using the empirical CTR as ground truth\n",
    "#     r = rng.rand() < p_true[a]\n",
    "#     # TS update\n",
    "#     alpha_ts[a] += int(r)\n",
    "#     beta_ts[a]  += int(not r)\n",
    "\n",
    "# sel_freq = chosen_counts / n_rounds\n",
    "\n",
    "# # Plot selection frequencies vs empirical CTR\n",
    "# cmp_online = pd.DataFrame({\n",
    "#     \"action\": np.arange(K),\n",
    "#     \"empirical_ctr\": p_true,\n",
    "#     \"ts_selection_freq\": sel_freq\n",
    "# })\n",
    "\n",
    "# fig3 = go.Figure()\n",
    "# fig3.add_bar(x=cmp_online[\"action\"], y=cmp_online[\"empirical_ctr\"], name=\"Empirical CTR\")\n",
    "# fig3.add_bar(x=cmp_online[\"action\"], y=cmp_online[\"ts_selection_freq\"], name=f\"TS selection freq over {n_rounds} rounds\")\n",
    "# fig3.update_layout(\n",
    "#     title=\"Online TS (with updates): selection frequency vs empirical CTR\",\n",
    "#     barmode=\"group\", template=\"plotly_white\",\n",
    "#     xaxis=dict(title=\"Action ID\", tickmode=\"array\", tickvals=cmp_online[\"action\"], ticktext=[str(a) for a in cmp_online[\"action\"]]),\n",
    "#     yaxis=dict(title=\"Value\")\n",
    "# )\n",
    "# fig3.show()"
   ]
  },
  {
   "cell_type": "code",
   "execution_count": 19,
   "id": "a098e3cb",
   "metadata": {},
   "outputs": [],
   "source": [
    "import numpy as np\n",
    "import pandas as pd\n",
    "import plotly.graph_objects as go\n",
    "\n",
    "def run_ts_and_plot(df, n_actions, n_rounds, seed=7, alpha0=1.0, beta0=1.0, title=None):\n",
    "    \"\"\"\n",
    "    Online Thompson Sampling (single-slot) using empirical CTR per action as ground-truth.\n",
    "    Plots selection frequency vs empirical CTR and returns (fig, results_df).\n",
    "\n",
    "    Parameters\n",
    "    ----------\n",
    "    df : pd.DataFrame with columns [\"action\",\"reward\", ...]\n",
    "    n_actions : int\n",
    "    n_rounds : int\n",
    "    seed : int\n",
    "    alpha0, beta0 : float\n",
    "        Beta prior for all actions (default Beta(1,1))\n",
    "    title : str or None\n",
    "    \"\"\"\n",
    "    # Ground-truth Bernoulli p per action from logs (missing actions -> 0 CTR)\n",
    "    p_true = (\n",
    "        df.groupby(\"action\")[\"reward\"].mean()\n",
    "          .reindex(range(n_actions), fill_value=0.0)\n",
    "          .to_numpy()\n",
    "    )\n",
    "    assert p_true.ndim == 1 and p_true.shape[0] == n_actions\n",
    "\n",
    "    # TS state\n",
    "    alpha_ts = np.full(n_actions, float(alpha0))\n",
    "    beta_ts  = np.full(n_actions, float(beta0))\n",
    "    chosen_counts = np.zeros(n_actions, dtype=int)\n",
    "\n",
    "    rng = np.random.RandomState(seed)\n",
    "\n",
    "    # Online TS loop (draw max, pick, observe, update)\n",
    "    for _ in range(int(n_rounds)):\n",
    "        theta = rng.beta(alpha_ts, beta_ts)\n",
    "        a = int(theta.argmax())\n",
    "        chosen_counts[a] += 1\n",
    "        r = rng.rand() < p_true[a]   # simulate Bernoulli reward from empirical CTR\n",
    "        alpha_ts[a] += int(r)\n",
    "        beta_ts[a]  += int(not r)\n",
    "\n",
    "    sel_freq = chosen_counts / float(n_rounds)\n",
    "\n",
    "    # Assemble results\n",
    "    res = pd.DataFrame({\n",
    "        \"action\": np.arange(n_actions),\n",
    "        \"empirical_ctr\": p_true,\n",
    "        \"ts_selection_freq\": sel_freq,\n",
    "        \"alpha_final\": alpha_ts,\n",
    "        \"beta_final\": beta_ts,\n",
    "        \"impressions\": df.groupby(\"action\")[\"reward\"].size()\n",
    "                           .reindex(range(n_actions), fill_value=0)\n",
    "                           .to_numpy()\n",
    "    })\n",
    "\n",
    "    # Plot\n",
    "    fig = go.Figure()\n",
    "    fig.add_bar(x=res[\"action\"], y=res[\"empirical_ctr\"], name=\"Empirical CTR\")\n",
    "    fig.add_bar(x=res[\"action\"], y=res[\"ts_selection_freq\"], name=f\"TS selection freq over {n_rounds:,} rounds\")\n",
    "    fig.update_layout(\n",
    "        title=title or f\"Online TS: selection frequency vs empirical CTR (n_rounds={n_rounds:,})\",\n",
    "        barmode=\"group\", template=\"plotly_white\",\n",
    "        xaxis=dict(title=\"Action ID\",\n",
    "                   tickmode=\"array\",\n",
    "                   tickvals=res[\"action\"],\n",
    "                   ticktext=[str(a) for a in res[\"action\"]]),\n",
    "        yaxis=dict(title=\"Value\")\n",
    "    )\n",
    "    return fig, res"
   ]
  },
  {
   "cell_type": "code",
   "execution_count": 20,
   "id": "180eaba4",
   "metadata": {},
   "outputs": [
    {
     "data": {
      "application/vnd.plotly.v1+json": {
       "config": {
        "plotlyServerURL": "https://plot.ly"
       },
       "data": [
        {
         "name": "Empirical CTR",
         "type": "bar",
         "x": {
          "bdata": "AAECAwQFBgcICQoLDA0ODxAREhMUFRYXGBkaGxwdHh8gISIjJCUmJygpKissLS4vMDEyMzQ1Njc4OTo7PD0+P0BBQkNERUZHSElKS0xNTk8=",
          "dtype": "i1"
         },
         "y": {
          "bdata": "AAAAAAAAAACamZmZmZl5PwAAAAAAAAAAEARBEARBgD8AAAAAAAAAAAAAAAAAAAAAcUJKnmVEjz/gwIEDBw58PzQsuFS2d30/EARBEARBgD8AAAAAAAAAAAAAAAAAAAAAAAAAAAAAAAAAAAAAAAAAAAAAAAAAAAAAAAAAAAAAAAAAAAAAAAAAAKcQaAqBpoA/Ecg1Ecg1kT8AAAAAAAAAAAAAAAAAAAAAZ7fwqzGRfj8AAAAAAAAAAAAAAAAAAAAAAAAAAAAAAABxQkqeZUR/PwAAAAAAAAAAAAAAAAAAAAAQBEEQBEGAPwAAAAAAAAAAAAAAAAAAAAAAAAAAAAAAAAAAAAAAAAAAAAAAAAAAAAB05QHJOld+PwAAAAAAAAAAO9q8T3HJkD8AAAAAAAAAADvavE9xyYA/AAAAAAAAAAAAAAAAAAAAAB4eHh4eHn4/AAAAAAAAAAAAAAAAAAAAAB4eHh4eHo4/Z7fwqzGRfj++Y2pg75h6P5Z7GmG5p4E/HYGirQbPgT8or6G8hvKaPx4eHh4eHn4/AAAAAAAAAAAAAAAAAAAAABQ4gRM4gZM/AAAAAAAAAAAAAAAAAAAAAAAAAAAAAAAAizPaPWx9iz+SJEmSJEmSPwAAAAAAAAAAAAAAAAAAAAAUO7ETO7GDPwAAAAAAAAAAAAAAAAAAAAAAAAAAAAAAAJCc5mv17IA/AAAAAAAAAAAAAAAAAAAAAAAAAAAAAAAA/Knx0k1igD8AAAAAAAAAABAEQRAEQYA/AAAAAAAAAAAAAAAAAAAAAAAAAAAAAAAAAAAAAAAAAAAAAAAAAAAAAAAAAAAAAAAAAAAAAAAAAAAAAAAAAAAAAA==",
          "dtype": "f8"
         }
        },
        {
         "name": "TS selection freq over 100 rounds",
         "type": "bar",
         "x": {
          "bdata": "AAECAwQFBgcICQoLDA0ODxAREhMUFRYXGBkaGxwdHh8gISIjJCUmJygpKissLS4vMDEyMzQ1Njc4OTo7PD0+P0BBQkNERUZHSElKS0xNTk8=",
          "dtype": "i1"
         },
         "y": {
          "bdata": "exSuR+F6lD97FK5H4XqEP3sUrkfhepQ/exSuR+F6lD97FK5H4XqUP3sUrkfhepQ/exSuR+F6hD97FK5H4XqEP3sUrkfheoQ/exSuR+F6hD97FK5H4XqUP3sUrkfheoQ/exSuR+F6hD97FK5H4XqEP3sUrkfheoQ/exSuR+F6hD97FK5H4XqEP7gehetRuJ4/exSuR+F6hD97FK5H4XqUP3sUrkfheoQ/exSuR+F6hD97FK5H4XqEP3sUrkfheoQ/exSuR+F6hD97FK5H4XqEP3sUrkfheoQ/exSuR+F6hD97FK5H4XqUP3sUrkfheoQ/exSuR+F6hD97FK5H4XqEP3sUrkfheoQ/exSuR+F6hD97FK5H4XqEP3sUrkfhepQ/exSuR+F6lD97FK5H4XqEP3sUrkfhepQ/exSuR+F6hD97FK5H4XqEP3sUrkfheoQ/AAAAAAAAAAB7FK5H4XqEP3sUrkfheoQ/exSuR+F6hD97FK5H4XqEP3sUrkfhepQ/exSuR+F6hD97FK5H4XqUP3sUrkfheoQ/exSuR+F6hD97FK5H4XqEP3sUrkfheoQ/exSuR+F6lD97FK5H4XqUP3sUrkfhepQ/exSuR+F6hD97FK5H4XqEP3sUrkfheoQ/exSuR+F6hD97FK5H4XqEP3sUrkfheoQ/exSuR+F6hD97FK5H4XqEP3sUrkfheoQ/exSuR+F6hD97FK5H4XqEP3sUrkfheoQ/exSuR+F6lD97FK5H4XqEP3sUrkfhepQ/exSuR+F6lD97FK5H4XqEP3sUrkfheoQ/exSuR+F6hD97FK5H4XqEP3sUrkfheoQ/exSuR+F6hD97FK5H4XqEPw==",
          "dtype": "f8"
         }
        }
       ],
       "layout": {
        "barmode": "group",
        "template": {
         "data": {
          "bar": [
           {
            "error_x": {
             "color": "#2a3f5f"
            },
            "error_y": {
             "color": "#2a3f5f"
            },
            "marker": {
             "line": {
              "color": "white",
              "width": 0.5
             },
             "pattern": {
              "fillmode": "overlay",
              "size": 10,
              "solidity": 0.2
             }
            },
            "type": "bar"
           }
          ],
          "barpolar": [
           {
            "marker": {
             "line": {
              "color": "white",
              "width": 0.5
             },
             "pattern": {
              "fillmode": "overlay",
              "size": 10,
              "solidity": 0.2
             }
            },
            "type": "barpolar"
           }
          ],
          "carpet": [
           {
            "aaxis": {
             "endlinecolor": "#2a3f5f",
             "gridcolor": "#C8D4E3",
             "linecolor": "#C8D4E3",
             "minorgridcolor": "#C8D4E3",
             "startlinecolor": "#2a3f5f"
            },
            "baxis": {
             "endlinecolor": "#2a3f5f",
             "gridcolor": "#C8D4E3",
             "linecolor": "#C8D4E3",
             "minorgridcolor": "#C8D4E3",
             "startlinecolor": "#2a3f5f"
            },
            "type": "carpet"
           }
          ],
          "choropleth": [
           {
            "colorbar": {
             "outlinewidth": 0,
             "ticks": ""
            },
            "type": "choropleth"
           }
          ],
          "contour": [
           {
            "colorbar": {
             "outlinewidth": 0,
             "ticks": ""
            },
            "colorscale": [
             [
              0,
              "#0d0887"
             ],
             [
              0.1111111111111111,
              "#46039f"
             ],
             [
              0.2222222222222222,
              "#7201a8"
             ],
             [
              0.3333333333333333,
              "#9c179e"
             ],
             [
              0.4444444444444444,
              "#bd3786"
             ],
             [
              0.5555555555555556,
              "#d8576b"
             ],
             [
              0.6666666666666666,
              "#ed7953"
             ],
             [
              0.7777777777777778,
              "#fb9f3a"
             ],
             [
              0.8888888888888888,
              "#fdca26"
             ],
             [
              1,
              "#f0f921"
             ]
            ],
            "type": "contour"
           }
          ],
          "contourcarpet": [
           {
            "colorbar": {
             "outlinewidth": 0,
             "ticks": ""
            },
            "type": "contourcarpet"
           }
          ],
          "heatmap": [
           {
            "colorbar": {
             "outlinewidth": 0,
             "ticks": ""
            },
            "colorscale": [
             [
              0,
              "#0d0887"
             ],
             [
              0.1111111111111111,
              "#46039f"
             ],
             [
              0.2222222222222222,
              "#7201a8"
             ],
             [
              0.3333333333333333,
              "#9c179e"
             ],
             [
              0.4444444444444444,
              "#bd3786"
             ],
             [
              0.5555555555555556,
              "#d8576b"
             ],
             [
              0.6666666666666666,
              "#ed7953"
             ],
             [
              0.7777777777777778,
              "#fb9f3a"
             ],
             [
              0.8888888888888888,
              "#fdca26"
             ],
             [
              1,
              "#f0f921"
             ]
            ],
            "type": "heatmap"
           }
          ],
          "histogram": [
           {
            "marker": {
             "pattern": {
              "fillmode": "overlay",
              "size": 10,
              "solidity": 0.2
             }
            },
            "type": "histogram"
           }
          ],
          "histogram2d": [
           {
            "colorbar": {
             "outlinewidth": 0,
             "ticks": ""
            },
            "colorscale": [
             [
              0,
              "#0d0887"
             ],
             [
              0.1111111111111111,
              "#46039f"
             ],
             [
              0.2222222222222222,
              "#7201a8"
             ],
             [
              0.3333333333333333,
              "#9c179e"
             ],
             [
              0.4444444444444444,
              "#bd3786"
             ],
             [
              0.5555555555555556,
              "#d8576b"
             ],
             [
              0.6666666666666666,
              "#ed7953"
             ],
             [
              0.7777777777777778,
              "#fb9f3a"
             ],
             [
              0.8888888888888888,
              "#fdca26"
             ],
             [
              1,
              "#f0f921"
             ]
            ],
            "type": "histogram2d"
           }
          ],
          "histogram2dcontour": [
           {
            "colorbar": {
             "outlinewidth": 0,
             "ticks": ""
            },
            "colorscale": [
             [
              0,
              "#0d0887"
             ],
             [
              0.1111111111111111,
              "#46039f"
             ],
             [
              0.2222222222222222,
              "#7201a8"
             ],
             [
              0.3333333333333333,
              "#9c179e"
             ],
             [
              0.4444444444444444,
              "#bd3786"
             ],
             [
              0.5555555555555556,
              "#d8576b"
             ],
             [
              0.6666666666666666,
              "#ed7953"
             ],
             [
              0.7777777777777778,
              "#fb9f3a"
             ],
             [
              0.8888888888888888,
              "#fdca26"
             ],
             [
              1,
              "#f0f921"
             ]
            ],
            "type": "histogram2dcontour"
           }
          ],
          "mesh3d": [
           {
            "colorbar": {
             "outlinewidth": 0,
             "ticks": ""
            },
            "type": "mesh3d"
           }
          ],
          "parcoords": [
           {
            "line": {
             "colorbar": {
              "outlinewidth": 0,
              "ticks": ""
             }
            },
            "type": "parcoords"
           }
          ],
          "pie": [
           {
            "automargin": true,
            "type": "pie"
           }
          ],
          "scatter": [
           {
            "fillpattern": {
             "fillmode": "overlay",
             "size": 10,
             "solidity": 0.2
            },
            "type": "scatter"
           }
          ],
          "scatter3d": [
           {
            "line": {
             "colorbar": {
              "outlinewidth": 0,
              "ticks": ""
             }
            },
            "marker": {
             "colorbar": {
              "outlinewidth": 0,
              "ticks": ""
             }
            },
            "type": "scatter3d"
           }
          ],
          "scattercarpet": [
           {
            "marker": {
             "colorbar": {
              "outlinewidth": 0,
              "ticks": ""
             }
            },
            "type": "scattercarpet"
           }
          ],
          "scattergeo": [
           {
            "marker": {
             "colorbar": {
              "outlinewidth": 0,
              "ticks": ""
             }
            },
            "type": "scattergeo"
           }
          ],
          "scattergl": [
           {
            "marker": {
             "colorbar": {
              "outlinewidth": 0,
              "ticks": ""
             }
            },
            "type": "scattergl"
           }
          ],
          "scattermap": [
           {
            "marker": {
             "colorbar": {
              "outlinewidth": 0,
              "ticks": ""
             }
            },
            "type": "scattermap"
           }
          ],
          "scattermapbox": [
           {
            "marker": {
             "colorbar": {
              "outlinewidth": 0,
              "ticks": ""
             }
            },
            "type": "scattermapbox"
           }
          ],
          "scatterpolar": [
           {
            "marker": {
             "colorbar": {
              "outlinewidth": 0,
              "ticks": ""
             }
            },
            "type": "scatterpolar"
           }
          ],
          "scatterpolargl": [
           {
            "marker": {
             "colorbar": {
              "outlinewidth": 0,
              "ticks": ""
             }
            },
            "type": "scatterpolargl"
           }
          ],
          "scatterternary": [
           {
            "marker": {
             "colorbar": {
              "outlinewidth": 0,
              "ticks": ""
             }
            },
            "type": "scatterternary"
           }
          ],
          "surface": [
           {
            "colorbar": {
             "outlinewidth": 0,
             "ticks": ""
            },
            "colorscale": [
             [
              0,
              "#0d0887"
             ],
             [
              0.1111111111111111,
              "#46039f"
             ],
             [
              0.2222222222222222,
              "#7201a8"
             ],
             [
              0.3333333333333333,
              "#9c179e"
             ],
             [
              0.4444444444444444,
              "#bd3786"
             ],
             [
              0.5555555555555556,
              "#d8576b"
             ],
             [
              0.6666666666666666,
              "#ed7953"
             ],
             [
              0.7777777777777778,
              "#fb9f3a"
             ],
             [
              0.8888888888888888,
              "#fdca26"
             ],
             [
              1,
              "#f0f921"
             ]
            ],
            "type": "surface"
           }
          ],
          "table": [
           {
            "cells": {
             "fill": {
              "color": "#EBF0F8"
             },
             "line": {
              "color": "white"
             }
            },
            "header": {
             "fill": {
              "color": "#C8D4E3"
             },
             "line": {
              "color": "white"
             }
            },
            "type": "table"
           }
          ]
         },
         "layout": {
          "annotationdefaults": {
           "arrowcolor": "#2a3f5f",
           "arrowhead": 0,
           "arrowwidth": 1
          },
          "autotypenumbers": "strict",
          "coloraxis": {
           "colorbar": {
            "outlinewidth": 0,
            "ticks": ""
           }
          },
          "colorscale": {
           "diverging": [
            [
             0,
             "#8e0152"
            ],
            [
             0.1,
             "#c51b7d"
            ],
            [
             0.2,
             "#de77ae"
            ],
            [
             0.3,
             "#f1b6da"
            ],
            [
             0.4,
             "#fde0ef"
            ],
            [
             0.5,
             "#f7f7f7"
            ],
            [
             0.6,
             "#e6f5d0"
            ],
            [
             0.7,
             "#b8e186"
            ],
            [
             0.8,
             "#7fbc41"
            ],
            [
             0.9,
             "#4d9221"
            ],
            [
             1,
             "#276419"
            ]
           ],
           "sequential": [
            [
             0,
             "#0d0887"
            ],
            [
             0.1111111111111111,
             "#46039f"
            ],
            [
             0.2222222222222222,
             "#7201a8"
            ],
            [
             0.3333333333333333,
             "#9c179e"
            ],
            [
             0.4444444444444444,
             "#bd3786"
            ],
            [
             0.5555555555555556,
             "#d8576b"
            ],
            [
             0.6666666666666666,
             "#ed7953"
            ],
            [
             0.7777777777777778,
             "#fb9f3a"
            ],
            [
             0.8888888888888888,
             "#fdca26"
            ],
            [
             1,
             "#f0f921"
            ]
           ],
           "sequentialminus": [
            [
             0,
             "#0d0887"
            ],
            [
             0.1111111111111111,
             "#46039f"
            ],
            [
             0.2222222222222222,
             "#7201a8"
            ],
            [
             0.3333333333333333,
             "#9c179e"
            ],
            [
             0.4444444444444444,
             "#bd3786"
            ],
            [
             0.5555555555555556,
             "#d8576b"
            ],
            [
             0.6666666666666666,
             "#ed7953"
            ],
            [
             0.7777777777777778,
             "#fb9f3a"
            ],
            [
             0.8888888888888888,
             "#fdca26"
            ],
            [
             1,
             "#f0f921"
            ]
           ]
          },
          "colorway": [
           "#636efa",
           "#EF553B",
           "#00cc96",
           "#ab63fa",
           "#FFA15A",
           "#19d3f3",
           "#FF6692",
           "#B6E880",
           "#FF97FF",
           "#FECB52"
          ],
          "font": {
           "color": "#2a3f5f"
          },
          "geo": {
           "bgcolor": "white",
           "lakecolor": "white",
           "landcolor": "white",
           "showlakes": true,
           "showland": true,
           "subunitcolor": "#C8D4E3"
          },
          "hoverlabel": {
           "align": "left"
          },
          "hovermode": "closest",
          "mapbox": {
           "style": "light"
          },
          "paper_bgcolor": "white",
          "plot_bgcolor": "white",
          "polar": {
           "angularaxis": {
            "gridcolor": "#EBF0F8",
            "linecolor": "#EBF0F8",
            "ticks": ""
           },
           "bgcolor": "white",
           "radialaxis": {
            "gridcolor": "#EBF0F8",
            "linecolor": "#EBF0F8",
            "ticks": ""
           }
          },
          "scene": {
           "xaxis": {
            "backgroundcolor": "white",
            "gridcolor": "#DFE8F3",
            "gridwidth": 2,
            "linecolor": "#EBF0F8",
            "showbackground": true,
            "ticks": "",
            "zerolinecolor": "#EBF0F8"
           },
           "yaxis": {
            "backgroundcolor": "white",
            "gridcolor": "#DFE8F3",
            "gridwidth": 2,
            "linecolor": "#EBF0F8",
            "showbackground": true,
            "ticks": "",
            "zerolinecolor": "#EBF0F8"
           },
           "zaxis": {
            "backgroundcolor": "white",
            "gridcolor": "#DFE8F3",
            "gridwidth": 2,
            "linecolor": "#EBF0F8",
            "showbackground": true,
            "ticks": "",
            "zerolinecolor": "#EBF0F8"
           }
          },
          "shapedefaults": {
           "line": {
            "color": "#2a3f5f"
           }
          },
          "ternary": {
           "aaxis": {
            "gridcolor": "#DFE8F3",
            "linecolor": "#A2B1C6",
            "ticks": ""
           },
           "baxis": {
            "gridcolor": "#DFE8F3",
            "linecolor": "#A2B1C6",
            "ticks": ""
           },
           "bgcolor": "white",
           "caxis": {
            "gridcolor": "#DFE8F3",
            "linecolor": "#A2B1C6",
            "ticks": ""
           }
          },
          "title": {
           "x": 0.05
          },
          "xaxis": {
           "automargin": true,
           "gridcolor": "#EBF0F8",
           "linecolor": "#EBF0F8",
           "ticks": "",
           "title": {
            "standoff": 15
           },
           "zerolinecolor": "#EBF0F8",
           "zerolinewidth": 2
          },
          "yaxis": {
           "automargin": true,
           "gridcolor": "#EBF0F8",
           "linecolor": "#EBF0F8",
           "ticks": "",
           "title": {
            "standoff": 15
           },
           "zerolinecolor": "#EBF0F8",
           "zerolinewidth": 2
          }
         }
        },
        "title": {
         "text": "Round 100"
        },
        "xaxis": {
         "tickmode": "array",
         "ticktext": [
          "0",
          "1",
          "2",
          "3",
          "4",
          "5",
          "6",
          "7",
          "8",
          "9",
          "10",
          "11",
          "12",
          "13",
          "14",
          "15",
          "16",
          "17",
          "18",
          "19",
          "20",
          "21",
          "22",
          "23",
          "24",
          "25",
          "26",
          "27",
          "28",
          "29",
          "30",
          "31",
          "32",
          "33",
          "34",
          "35",
          "36",
          "37",
          "38",
          "39",
          "40",
          "41",
          "42",
          "43",
          "44",
          "45",
          "46",
          "47",
          "48",
          "49",
          "50",
          "51",
          "52",
          "53",
          "54",
          "55",
          "56",
          "57",
          "58",
          "59",
          "60",
          "61",
          "62",
          "63",
          "64",
          "65",
          "66",
          "67",
          "68",
          "69",
          "70",
          "71",
          "72",
          "73",
          "74",
          "75",
          "76",
          "77",
          "78",
          "79"
         ],
         "tickvals": {
          "bdata": "AAECAwQFBgcICQoLDA0ODxAREhMUFRYXGBkaGxwdHh8gISIjJCUmJygpKissLS4vMDEyMzQ1Njc4OTo7PD0+P0BBQkNERUZHSElKS0xNTk8=",
          "dtype": "i1"
         },
         "title": {
          "text": "Action ID"
         }
        },
        "yaxis": {
         "title": {
          "text": "Value"
         }
        }
       }
      }
     },
     "metadata": {},
     "output_type": "display_data"
    },
    {
     "data": {
      "application/vnd.plotly.v1+json": {
       "config": {
        "plotlyServerURL": "https://plot.ly"
       },
       "data": [
        {
         "name": "Empirical CTR",
         "type": "bar",
         "x": {
          "bdata": "AAECAwQFBgcICQoLDA0ODxAREhMUFRYXGBkaGxwdHh8gISIjJCUmJygpKissLS4vMDEyMzQ1Njc4OTo7PD0+P0BBQkNERUZHSElKS0xNTk8=",
          "dtype": "i1"
         },
         "y": {
          "bdata": "AAAAAAAAAACamZmZmZl5PwAAAAAAAAAAEARBEARBgD8AAAAAAAAAAAAAAAAAAAAAcUJKnmVEjz/gwIEDBw58PzQsuFS2d30/EARBEARBgD8AAAAAAAAAAAAAAAAAAAAAAAAAAAAAAAAAAAAAAAAAAAAAAAAAAAAAAAAAAAAAAAAAAAAAAAAAAKcQaAqBpoA/Ecg1Ecg1kT8AAAAAAAAAAAAAAAAAAAAAZ7fwqzGRfj8AAAAAAAAAAAAAAAAAAAAAAAAAAAAAAABxQkqeZUR/PwAAAAAAAAAAAAAAAAAAAAAQBEEQBEGAPwAAAAAAAAAAAAAAAAAAAAAAAAAAAAAAAAAAAAAAAAAAAAAAAAAAAAB05QHJOld+PwAAAAAAAAAAO9q8T3HJkD8AAAAAAAAAADvavE9xyYA/AAAAAAAAAAAAAAAAAAAAAB4eHh4eHn4/AAAAAAAAAAAAAAAAAAAAAB4eHh4eHo4/Z7fwqzGRfj++Y2pg75h6P5Z7GmG5p4E/HYGirQbPgT8or6G8hvKaPx4eHh4eHn4/AAAAAAAAAAAAAAAAAAAAABQ4gRM4gZM/AAAAAAAAAAAAAAAAAAAAAAAAAAAAAAAAizPaPWx9iz+SJEmSJEmSPwAAAAAAAAAAAAAAAAAAAAAUO7ETO7GDPwAAAAAAAAAAAAAAAAAAAAAAAAAAAAAAAJCc5mv17IA/AAAAAAAAAAAAAAAAAAAAAAAAAAAAAAAA/Knx0k1igD8AAAAAAAAAABAEQRAEQYA/AAAAAAAAAAAAAAAAAAAAAAAAAAAAAAAAAAAAAAAAAAAAAAAAAAAAAAAAAAAAAAAAAAAAAAAAAAAAAAAAAAAAAA==",
          "dtype": "f8"
         }
        },
        {
         "name": "TS selection freq over 1,000 rounds",
         "type": "bar",
         "x": {
          "bdata": "AAECAwQFBgcICQoLDA0ODxAREhMUFRYXGBkaGxwdHh8gISIjJCUmJygpKissLS4vMDEyMzQ1Njc4OTo7PD0+P0BBQkNERUZHSElKS0xNTk8=",
          "dtype": "i1"
         },
         "y": {
          "bdata": "eekmMQisjD85tMh2vp+KP/p+arx0k4g/WmQ730+Nlz85tMh2vp+KPzm0yHa+n4o/eekmMQisjD85tMh2vp+KP/p+arx0k4g/ObTIdr6fij956SYxCKyMP/p+arx0k4g/+n5qvHSTiD85tMh2vp+KP3npJjEIrIw/+n5qvHSTiD956SYxCKyMP/p+arx0k4g/ukkMAiuHhj85tMh2vp+KPzvfT42XboI/+n5qvHSTiD85tMh2vp+KP/p+arx0k4g/+n5qvHSTiD+6SQwCK4eGP3sUrkfheoQ/+n5qvHSTiD85tMh2vp+KP3sUrkfheoQ/exSuR+F6hD97FK5H4XqEP/p+arx0k4g/ukkMAiuHhj/6fmq8dJOIPzm0yHa+n4o/+n5qvHSTiD/6fmq8dJOIP7pJDAIrh4Y/uB6F61G4jj85tMh2vp+KP/p+arx0k4g/+n5qvHSTiD85tMh2vp+KP3sUrkfheoQ/eekmMQisjD85tMh2vp+KP7gehetRuI4/+n5qvHSTiD+6SQwCK4eGP/p+arx0k4g/ObTIdr6fij97FK5H4XqEP7gehetRuI4/+n5qvHSTiD85tMh2vp+KP/p+arx0k4g/ukkMAiuHhj956SYxCKyMP/p+arx0k4g/ObTIdr6fij85tMh2vp+KP7pJDAIrh4Y/+n5qvHSTiD85tMh2vp+KP7pJDAIrh4Y/ObTIdr6fij/6fmq8dJOIPzm0yHa+n4o/uB6F61G4jj/6fmq8dJOIP7pJDAIrh4Y/+n5qvHSTiD+6SQwCK4eGP7gehetRuI4/+n5qvHSTiD956SYxCKyMPzm0yHa+n4o/ObTIdr6fij85tMh2vp+KPw==",
          "dtype": "f8"
         }
        }
       ],
       "layout": {
        "barmode": "group",
        "template": {
         "data": {
          "bar": [
           {
            "error_x": {
             "color": "#2a3f5f"
            },
            "error_y": {
             "color": "#2a3f5f"
            },
            "marker": {
             "line": {
              "color": "white",
              "width": 0.5
             },
             "pattern": {
              "fillmode": "overlay",
              "size": 10,
              "solidity": 0.2
             }
            },
            "type": "bar"
           }
          ],
          "barpolar": [
           {
            "marker": {
             "line": {
              "color": "white",
              "width": 0.5
             },
             "pattern": {
              "fillmode": "overlay",
              "size": 10,
              "solidity": 0.2
             }
            },
            "type": "barpolar"
           }
          ],
          "carpet": [
           {
            "aaxis": {
             "endlinecolor": "#2a3f5f",
             "gridcolor": "#C8D4E3",
             "linecolor": "#C8D4E3",
             "minorgridcolor": "#C8D4E3",
             "startlinecolor": "#2a3f5f"
            },
            "baxis": {
             "endlinecolor": "#2a3f5f",
             "gridcolor": "#C8D4E3",
             "linecolor": "#C8D4E3",
             "minorgridcolor": "#C8D4E3",
             "startlinecolor": "#2a3f5f"
            },
            "type": "carpet"
           }
          ],
          "choropleth": [
           {
            "colorbar": {
             "outlinewidth": 0,
             "ticks": ""
            },
            "type": "choropleth"
           }
          ],
          "contour": [
           {
            "colorbar": {
             "outlinewidth": 0,
             "ticks": ""
            },
            "colorscale": [
             [
              0,
              "#0d0887"
             ],
             [
              0.1111111111111111,
              "#46039f"
             ],
             [
              0.2222222222222222,
              "#7201a8"
             ],
             [
              0.3333333333333333,
              "#9c179e"
             ],
             [
              0.4444444444444444,
              "#bd3786"
             ],
             [
              0.5555555555555556,
              "#d8576b"
             ],
             [
              0.6666666666666666,
              "#ed7953"
             ],
             [
              0.7777777777777778,
              "#fb9f3a"
             ],
             [
              0.8888888888888888,
              "#fdca26"
             ],
             [
              1,
              "#f0f921"
             ]
            ],
            "type": "contour"
           }
          ],
          "contourcarpet": [
           {
            "colorbar": {
             "outlinewidth": 0,
             "ticks": ""
            },
            "type": "contourcarpet"
           }
          ],
          "heatmap": [
           {
            "colorbar": {
             "outlinewidth": 0,
             "ticks": ""
            },
            "colorscale": [
             [
              0,
              "#0d0887"
             ],
             [
              0.1111111111111111,
              "#46039f"
             ],
             [
              0.2222222222222222,
              "#7201a8"
             ],
             [
              0.3333333333333333,
              "#9c179e"
             ],
             [
              0.4444444444444444,
              "#bd3786"
             ],
             [
              0.5555555555555556,
              "#d8576b"
             ],
             [
              0.6666666666666666,
              "#ed7953"
             ],
             [
              0.7777777777777778,
              "#fb9f3a"
             ],
             [
              0.8888888888888888,
              "#fdca26"
             ],
             [
              1,
              "#f0f921"
             ]
            ],
            "type": "heatmap"
           }
          ],
          "histogram": [
           {
            "marker": {
             "pattern": {
              "fillmode": "overlay",
              "size": 10,
              "solidity": 0.2
             }
            },
            "type": "histogram"
           }
          ],
          "histogram2d": [
           {
            "colorbar": {
             "outlinewidth": 0,
             "ticks": ""
            },
            "colorscale": [
             [
              0,
              "#0d0887"
             ],
             [
              0.1111111111111111,
              "#46039f"
             ],
             [
              0.2222222222222222,
              "#7201a8"
             ],
             [
              0.3333333333333333,
              "#9c179e"
             ],
             [
              0.4444444444444444,
              "#bd3786"
             ],
             [
              0.5555555555555556,
              "#d8576b"
             ],
             [
              0.6666666666666666,
              "#ed7953"
             ],
             [
              0.7777777777777778,
              "#fb9f3a"
             ],
             [
              0.8888888888888888,
              "#fdca26"
             ],
             [
              1,
              "#f0f921"
             ]
            ],
            "type": "histogram2d"
           }
          ],
          "histogram2dcontour": [
           {
            "colorbar": {
             "outlinewidth": 0,
             "ticks": ""
            },
            "colorscale": [
             [
              0,
              "#0d0887"
             ],
             [
              0.1111111111111111,
              "#46039f"
             ],
             [
              0.2222222222222222,
              "#7201a8"
             ],
             [
              0.3333333333333333,
              "#9c179e"
             ],
             [
              0.4444444444444444,
              "#bd3786"
             ],
             [
              0.5555555555555556,
              "#d8576b"
             ],
             [
              0.6666666666666666,
              "#ed7953"
             ],
             [
              0.7777777777777778,
              "#fb9f3a"
             ],
             [
              0.8888888888888888,
              "#fdca26"
             ],
             [
              1,
              "#f0f921"
             ]
            ],
            "type": "histogram2dcontour"
           }
          ],
          "mesh3d": [
           {
            "colorbar": {
             "outlinewidth": 0,
             "ticks": ""
            },
            "type": "mesh3d"
           }
          ],
          "parcoords": [
           {
            "line": {
             "colorbar": {
              "outlinewidth": 0,
              "ticks": ""
             }
            },
            "type": "parcoords"
           }
          ],
          "pie": [
           {
            "automargin": true,
            "type": "pie"
           }
          ],
          "scatter": [
           {
            "fillpattern": {
             "fillmode": "overlay",
             "size": 10,
             "solidity": 0.2
            },
            "type": "scatter"
           }
          ],
          "scatter3d": [
           {
            "line": {
             "colorbar": {
              "outlinewidth": 0,
              "ticks": ""
             }
            },
            "marker": {
             "colorbar": {
              "outlinewidth": 0,
              "ticks": ""
             }
            },
            "type": "scatter3d"
           }
          ],
          "scattercarpet": [
           {
            "marker": {
             "colorbar": {
              "outlinewidth": 0,
              "ticks": ""
             }
            },
            "type": "scattercarpet"
           }
          ],
          "scattergeo": [
           {
            "marker": {
             "colorbar": {
              "outlinewidth": 0,
              "ticks": ""
             }
            },
            "type": "scattergeo"
           }
          ],
          "scattergl": [
           {
            "marker": {
             "colorbar": {
              "outlinewidth": 0,
              "ticks": ""
             }
            },
            "type": "scattergl"
           }
          ],
          "scattermap": [
           {
            "marker": {
             "colorbar": {
              "outlinewidth": 0,
              "ticks": ""
             }
            },
            "type": "scattermap"
           }
          ],
          "scattermapbox": [
           {
            "marker": {
             "colorbar": {
              "outlinewidth": 0,
              "ticks": ""
             }
            },
            "type": "scattermapbox"
           }
          ],
          "scatterpolar": [
           {
            "marker": {
             "colorbar": {
              "outlinewidth": 0,
              "ticks": ""
             }
            },
            "type": "scatterpolar"
           }
          ],
          "scatterpolargl": [
           {
            "marker": {
             "colorbar": {
              "outlinewidth": 0,
              "ticks": ""
             }
            },
            "type": "scatterpolargl"
           }
          ],
          "scatterternary": [
           {
            "marker": {
             "colorbar": {
              "outlinewidth": 0,
              "ticks": ""
             }
            },
            "type": "scatterternary"
           }
          ],
          "surface": [
           {
            "colorbar": {
             "outlinewidth": 0,
             "ticks": ""
            },
            "colorscale": [
             [
              0,
              "#0d0887"
             ],
             [
              0.1111111111111111,
              "#46039f"
             ],
             [
              0.2222222222222222,
              "#7201a8"
             ],
             [
              0.3333333333333333,
              "#9c179e"
             ],
             [
              0.4444444444444444,
              "#bd3786"
             ],
             [
              0.5555555555555556,
              "#d8576b"
             ],
             [
              0.6666666666666666,
              "#ed7953"
             ],
             [
              0.7777777777777778,
              "#fb9f3a"
             ],
             [
              0.8888888888888888,
              "#fdca26"
             ],
             [
              1,
              "#f0f921"
             ]
            ],
            "type": "surface"
           }
          ],
          "table": [
           {
            "cells": {
             "fill": {
              "color": "#EBF0F8"
             },
             "line": {
              "color": "white"
             }
            },
            "header": {
             "fill": {
              "color": "#C8D4E3"
             },
             "line": {
              "color": "white"
             }
            },
            "type": "table"
           }
          ]
         },
         "layout": {
          "annotationdefaults": {
           "arrowcolor": "#2a3f5f",
           "arrowhead": 0,
           "arrowwidth": 1
          },
          "autotypenumbers": "strict",
          "coloraxis": {
           "colorbar": {
            "outlinewidth": 0,
            "ticks": ""
           }
          },
          "colorscale": {
           "diverging": [
            [
             0,
             "#8e0152"
            ],
            [
             0.1,
             "#c51b7d"
            ],
            [
             0.2,
             "#de77ae"
            ],
            [
             0.3,
             "#f1b6da"
            ],
            [
             0.4,
             "#fde0ef"
            ],
            [
             0.5,
             "#f7f7f7"
            ],
            [
             0.6,
             "#e6f5d0"
            ],
            [
             0.7,
             "#b8e186"
            ],
            [
             0.8,
             "#7fbc41"
            ],
            [
             0.9,
             "#4d9221"
            ],
            [
             1,
             "#276419"
            ]
           ],
           "sequential": [
            [
             0,
             "#0d0887"
            ],
            [
             0.1111111111111111,
             "#46039f"
            ],
            [
             0.2222222222222222,
             "#7201a8"
            ],
            [
             0.3333333333333333,
             "#9c179e"
            ],
            [
             0.4444444444444444,
             "#bd3786"
            ],
            [
             0.5555555555555556,
             "#d8576b"
            ],
            [
             0.6666666666666666,
             "#ed7953"
            ],
            [
             0.7777777777777778,
             "#fb9f3a"
            ],
            [
             0.8888888888888888,
             "#fdca26"
            ],
            [
             1,
             "#f0f921"
            ]
           ],
           "sequentialminus": [
            [
             0,
             "#0d0887"
            ],
            [
             0.1111111111111111,
             "#46039f"
            ],
            [
             0.2222222222222222,
             "#7201a8"
            ],
            [
             0.3333333333333333,
             "#9c179e"
            ],
            [
             0.4444444444444444,
             "#bd3786"
            ],
            [
             0.5555555555555556,
             "#d8576b"
            ],
            [
             0.6666666666666666,
             "#ed7953"
            ],
            [
             0.7777777777777778,
             "#fb9f3a"
            ],
            [
             0.8888888888888888,
             "#fdca26"
            ],
            [
             1,
             "#f0f921"
            ]
           ]
          },
          "colorway": [
           "#636efa",
           "#EF553B",
           "#00cc96",
           "#ab63fa",
           "#FFA15A",
           "#19d3f3",
           "#FF6692",
           "#B6E880",
           "#FF97FF",
           "#FECB52"
          ],
          "font": {
           "color": "#2a3f5f"
          },
          "geo": {
           "bgcolor": "white",
           "lakecolor": "white",
           "landcolor": "white",
           "showlakes": true,
           "showland": true,
           "subunitcolor": "#C8D4E3"
          },
          "hoverlabel": {
           "align": "left"
          },
          "hovermode": "closest",
          "mapbox": {
           "style": "light"
          },
          "paper_bgcolor": "white",
          "plot_bgcolor": "white",
          "polar": {
           "angularaxis": {
            "gridcolor": "#EBF0F8",
            "linecolor": "#EBF0F8",
            "ticks": ""
           },
           "bgcolor": "white",
           "radialaxis": {
            "gridcolor": "#EBF0F8",
            "linecolor": "#EBF0F8",
            "ticks": ""
           }
          },
          "scene": {
           "xaxis": {
            "backgroundcolor": "white",
            "gridcolor": "#DFE8F3",
            "gridwidth": 2,
            "linecolor": "#EBF0F8",
            "showbackground": true,
            "ticks": "",
            "zerolinecolor": "#EBF0F8"
           },
           "yaxis": {
            "backgroundcolor": "white",
            "gridcolor": "#DFE8F3",
            "gridwidth": 2,
            "linecolor": "#EBF0F8",
            "showbackground": true,
            "ticks": "",
            "zerolinecolor": "#EBF0F8"
           },
           "zaxis": {
            "backgroundcolor": "white",
            "gridcolor": "#DFE8F3",
            "gridwidth": 2,
            "linecolor": "#EBF0F8",
            "showbackground": true,
            "ticks": "",
            "zerolinecolor": "#EBF0F8"
           }
          },
          "shapedefaults": {
           "line": {
            "color": "#2a3f5f"
           }
          },
          "ternary": {
           "aaxis": {
            "gridcolor": "#DFE8F3",
            "linecolor": "#A2B1C6",
            "ticks": ""
           },
           "baxis": {
            "gridcolor": "#DFE8F3",
            "linecolor": "#A2B1C6",
            "ticks": ""
           },
           "bgcolor": "white",
           "caxis": {
            "gridcolor": "#DFE8F3",
            "linecolor": "#A2B1C6",
            "ticks": ""
           }
          },
          "title": {
           "x": 0.05
          },
          "xaxis": {
           "automargin": true,
           "gridcolor": "#EBF0F8",
           "linecolor": "#EBF0F8",
           "ticks": "",
           "title": {
            "standoff": 15
           },
           "zerolinecolor": "#EBF0F8",
           "zerolinewidth": 2
          },
          "yaxis": {
           "automargin": true,
           "gridcolor": "#EBF0F8",
           "linecolor": "#EBF0F8",
           "ticks": "",
           "title": {
            "standoff": 15
           },
           "zerolinecolor": "#EBF0F8",
           "zerolinewidth": 2
          }
         }
        },
        "title": {
         "text": "Round 1,000"
        },
        "xaxis": {
         "tickmode": "array",
         "ticktext": [
          "0",
          "1",
          "2",
          "3",
          "4",
          "5",
          "6",
          "7",
          "8",
          "9",
          "10",
          "11",
          "12",
          "13",
          "14",
          "15",
          "16",
          "17",
          "18",
          "19",
          "20",
          "21",
          "22",
          "23",
          "24",
          "25",
          "26",
          "27",
          "28",
          "29",
          "30",
          "31",
          "32",
          "33",
          "34",
          "35",
          "36",
          "37",
          "38",
          "39",
          "40",
          "41",
          "42",
          "43",
          "44",
          "45",
          "46",
          "47",
          "48",
          "49",
          "50",
          "51",
          "52",
          "53",
          "54",
          "55",
          "56",
          "57",
          "58",
          "59",
          "60",
          "61",
          "62",
          "63",
          "64",
          "65",
          "66",
          "67",
          "68",
          "69",
          "70",
          "71",
          "72",
          "73",
          "74",
          "75",
          "76",
          "77",
          "78",
          "79"
         ],
         "tickvals": {
          "bdata": "AAECAwQFBgcICQoLDA0ODxAREhMUFRYXGBkaGxwdHh8gISIjJCUmJygpKissLS4vMDEyMzQ1Njc4OTo7PD0+P0BBQkNERUZHSElKS0xNTk8=",
          "dtype": "i1"
         },
         "title": {
          "text": "Action ID"
         }
        },
        "yaxis": {
         "title": {
          "text": "Value"
         }
        }
       }
      }
     },
     "metadata": {},
     "output_type": "display_data"
    },
    {
     "data": {
      "application/vnd.plotly.v1+json": {
       "config": {
        "plotlyServerURL": "https://plot.ly"
       },
       "data": [
        {
         "name": "Empirical CTR",
         "type": "bar",
         "x": {
          "bdata": "AAECAwQFBgcICQoLDA0ODxAREhMUFRYXGBkaGxwdHh8gISIjJCUmJygpKissLS4vMDEyMzQ1Njc4OTo7PD0+P0BBQkNERUZHSElKS0xNTk8=",
          "dtype": "i1"
         },
         "y": {
          "bdata": "AAAAAAAAAACamZmZmZl5PwAAAAAAAAAAEARBEARBgD8AAAAAAAAAAAAAAAAAAAAAcUJKnmVEjz/gwIEDBw58PzQsuFS2d30/EARBEARBgD8AAAAAAAAAAAAAAAAAAAAAAAAAAAAAAAAAAAAAAAAAAAAAAAAAAAAAAAAAAAAAAAAAAAAAAAAAAKcQaAqBpoA/Ecg1Ecg1kT8AAAAAAAAAAAAAAAAAAAAAZ7fwqzGRfj8AAAAAAAAAAAAAAAAAAAAAAAAAAAAAAABxQkqeZUR/PwAAAAAAAAAAAAAAAAAAAAAQBEEQBEGAPwAAAAAAAAAAAAAAAAAAAAAAAAAAAAAAAAAAAAAAAAAAAAAAAAAAAAB05QHJOld+PwAAAAAAAAAAO9q8T3HJkD8AAAAAAAAAADvavE9xyYA/AAAAAAAAAAAAAAAAAAAAAB4eHh4eHn4/AAAAAAAAAAAAAAAAAAAAAB4eHh4eHo4/Z7fwqzGRfj++Y2pg75h6P5Z7GmG5p4E/HYGirQbPgT8or6G8hvKaPx4eHh4eHn4/AAAAAAAAAAAAAAAAAAAAABQ4gRM4gZM/AAAAAAAAAAAAAAAAAAAAAAAAAAAAAAAAizPaPWx9iz+SJEmSJEmSPwAAAAAAAAAAAAAAAAAAAAAUO7ETO7GDPwAAAAAAAAAAAAAAAAAAAAAAAAAAAAAAAJCc5mv17IA/AAAAAAAAAAAAAAAAAAAAAAAAAAAAAAAA/Knx0k1igD8AAAAAAAAAABAEQRAEQYA/AAAAAAAAAAAAAAAAAAAAAAAAAAAAAAAAAAAAAAAAAAAAAAAAAAAAAAAAAAAAAAAAAAAAAAAAAAAAAAAAAAAAAA==",
          "dtype": "f8"
         }
        },
        {
         "name": "TS selection freq over 10,000 rounds",
         "type": "bar",
         "x": {
          "bdata": "AAECAwQFBgcICQoLDA0ODxAREhMUFRYXGBkaGxwdHh8gISIjJCUmJygpKissLS4vMDEyMzQ1Njc4OTo7PD0+P0BBQkNERUZHSElKS0xNTk8=",
          "dtype": "i1"
         },
         "y": {
          "bdata": "Gy/dJAaBhT+U9gZfmEyFPyegibDh6YU/m1Wfq63Ynz/HuriNBvCGP5T2Bl+YTIU/whcmUwWjkj9BguLHmLuGP+Y/pN++Dow/rK3YX3ZPjj+U9gZfmEyFP7pJDAIrh4Y/rthfdk8ehj80ETY8vVKGPw6+MJkqGIU/rthfdk8ehj+hZ7Pqc7WFPzQRNjy9UoY/EqW9wRcmkz+u2F92Tx6GP5T2Bl+YTIU/ukkMAiuHhj+u2F92Tx6GP6Fns+pztYU/AU2EDU+vhD+6SQwCK4eGPyegibDh6YU/AU2EDU+vhD9BguLHmLuGP6Fns+pztYU/exSuR+F6hD+hZ7Pqc7WFP3sUrkfheoQ/Dr4wmSoYhT8noImw4emFPw6+MJkqGIU/AU2EDU+vlD+U9gZfmEyFPw6+MJkqGIU/J6CJsOHphT80ETY8vVKGP8WPMXctIY8/J6CJsOHphT80ETY8vVKGPyegibDh6YU/MuauJeSDjj/CFyZTBaOSP8WPMXctIY8/dnEbDeAtkD+1pnnHKTqSP3KKjuTyH5I/x7q4jQbwhj+U9gZfmEyFPxNhw9MrZZk/TfOOU3Qkhz8OvjCZKhiFP4iFWtO844Q/gLdAguLHiD/D9Shcj8KlP6Fns+pztYU/Gy/dJAaBhT9uowG8BRKEP67YX3ZPHoY/J6CJsOHphT8OvjCZKhiFP6Fns+pztYU/bqMBvAUShD9N845TdCSHP03zjlN0JIc/zF1LyAc9iz8OvjCZKhiFP7WmeccpOpI/Gy/dJAaBhT+hZ7Pqc7WFP0GC4seYu4Y/NBE2PL1Shj8noImw4emFP4iFWtO844Q/Gy/dJAaBhT+U9gZfmEyFPw==",
          "dtype": "f8"
         }
        }
       ],
       "layout": {
        "barmode": "group",
        "template": {
         "data": {
          "bar": [
           {
            "error_x": {
             "color": "#2a3f5f"
            },
            "error_y": {
             "color": "#2a3f5f"
            },
            "marker": {
             "line": {
              "color": "white",
              "width": 0.5
             },
             "pattern": {
              "fillmode": "overlay",
              "size": 10,
              "solidity": 0.2
             }
            },
            "type": "bar"
           }
          ],
          "barpolar": [
           {
            "marker": {
             "line": {
              "color": "white",
              "width": 0.5
             },
             "pattern": {
              "fillmode": "overlay",
              "size": 10,
              "solidity": 0.2
             }
            },
            "type": "barpolar"
           }
          ],
          "carpet": [
           {
            "aaxis": {
             "endlinecolor": "#2a3f5f",
             "gridcolor": "#C8D4E3",
             "linecolor": "#C8D4E3",
             "minorgridcolor": "#C8D4E3",
             "startlinecolor": "#2a3f5f"
            },
            "baxis": {
             "endlinecolor": "#2a3f5f",
             "gridcolor": "#C8D4E3",
             "linecolor": "#C8D4E3",
             "minorgridcolor": "#C8D4E3",
             "startlinecolor": "#2a3f5f"
            },
            "type": "carpet"
           }
          ],
          "choropleth": [
           {
            "colorbar": {
             "outlinewidth": 0,
             "ticks": ""
            },
            "type": "choropleth"
           }
          ],
          "contour": [
           {
            "colorbar": {
             "outlinewidth": 0,
             "ticks": ""
            },
            "colorscale": [
             [
              0,
              "#0d0887"
             ],
             [
              0.1111111111111111,
              "#46039f"
             ],
             [
              0.2222222222222222,
              "#7201a8"
             ],
             [
              0.3333333333333333,
              "#9c179e"
             ],
             [
              0.4444444444444444,
              "#bd3786"
             ],
             [
              0.5555555555555556,
              "#d8576b"
             ],
             [
              0.6666666666666666,
              "#ed7953"
             ],
             [
              0.7777777777777778,
              "#fb9f3a"
             ],
             [
              0.8888888888888888,
              "#fdca26"
             ],
             [
              1,
              "#f0f921"
             ]
            ],
            "type": "contour"
           }
          ],
          "contourcarpet": [
           {
            "colorbar": {
             "outlinewidth": 0,
             "ticks": ""
            },
            "type": "contourcarpet"
           }
          ],
          "heatmap": [
           {
            "colorbar": {
             "outlinewidth": 0,
             "ticks": ""
            },
            "colorscale": [
             [
              0,
              "#0d0887"
             ],
             [
              0.1111111111111111,
              "#46039f"
             ],
             [
              0.2222222222222222,
              "#7201a8"
             ],
             [
              0.3333333333333333,
              "#9c179e"
             ],
             [
              0.4444444444444444,
              "#bd3786"
             ],
             [
              0.5555555555555556,
              "#d8576b"
             ],
             [
              0.6666666666666666,
              "#ed7953"
             ],
             [
              0.7777777777777778,
              "#fb9f3a"
             ],
             [
              0.8888888888888888,
              "#fdca26"
             ],
             [
              1,
              "#f0f921"
             ]
            ],
            "type": "heatmap"
           }
          ],
          "histogram": [
           {
            "marker": {
             "pattern": {
              "fillmode": "overlay",
              "size": 10,
              "solidity": 0.2
             }
            },
            "type": "histogram"
           }
          ],
          "histogram2d": [
           {
            "colorbar": {
             "outlinewidth": 0,
             "ticks": ""
            },
            "colorscale": [
             [
              0,
              "#0d0887"
             ],
             [
              0.1111111111111111,
              "#46039f"
             ],
             [
              0.2222222222222222,
              "#7201a8"
             ],
             [
              0.3333333333333333,
              "#9c179e"
             ],
             [
              0.4444444444444444,
              "#bd3786"
             ],
             [
              0.5555555555555556,
              "#d8576b"
             ],
             [
              0.6666666666666666,
              "#ed7953"
             ],
             [
              0.7777777777777778,
              "#fb9f3a"
             ],
             [
              0.8888888888888888,
              "#fdca26"
             ],
             [
              1,
              "#f0f921"
             ]
            ],
            "type": "histogram2d"
           }
          ],
          "histogram2dcontour": [
           {
            "colorbar": {
             "outlinewidth": 0,
             "ticks": ""
            },
            "colorscale": [
             [
              0,
              "#0d0887"
             ],
             [
              0.1111111111111111,
              "#46039f"
             ],
             [
              0.2222222222222222,
              "#7201a8"
             ],
             [
              0.3333333333333333,
              "#9c179e"
             ],
             [
              0.4444444444444444,
              "#bd3786"
             ],
             [
              0.5555555555555556,
              "#d8576b"
             ],
             [
              0.6666666666666666,
              "#ed7953"
             ],
             [
              0.7777777777777778,
              "#fb9f3a"
             ],
             [
              0.8888888888888888,
              "#fdca26"
             ],
             [
              1,
              "#f0f921"
             ]
            ],
            "type": "histogram2dcontour"
           }
          ],
          "mesh3d": [
           {
            "colorbar": {
             "outlinewidth": 0,
             "ticks": ""
            },
            "type": "mesh3d"
           }
          ],
          "parcoords": [
           {
            "line": {
             "colorbar": {
              "outlinewidth": 0,
              "ticks": ""
             }
            },
            "type": "parcoords"
           }
          ],
          "pie": [
           {
            "automargin": true,
            "type": "pie"
           }
          ],
          "scatter": [
           {
            "fillpattern": {
             "fillmode": "overlay",
             "size": 10,
             "solidity": 0.2
            },
            "type": "scatter"
           }
          ],
          "scatter3d": [
           {
            "line": {
             "colorbar": {
              "outlinewidth": 0,
              "ticks": ""
             }
            },
            "marker": {
             "colorbar": {
              "outlinewidth": 0,
              "ticks": ""
             }
            },
            "type": "scatter3d"
           }
          ],
          "scattercarpet": [
           {
            "marker": {
             "colorbar": {
              "outlinewidth": 0,
              "ticks": ""
             }
            },
            "type": "scattercarpet"
           }
          ],
          "scattergeo": [
           {
            "marker": {
             "colorbar": {
              "outlinewidth": 0,
              "ticks": ""
             }
            },
            "type": "scattergeo"
           }
          ],
          "scattergl": [
           {
            "marker": {
             "colorbar": {
              "outlinewidth": 0,
              "ticks": ""
             }
            },
            "type": "scattergl"
           }
          ],
          "scattermap": [
           {
            "marker": {
             "colorbar": {
              "outlinewidth": 0,
              "ticks": ""
             }
            },
            "type": "scattermap"
           }
          ],
          "scattermapbox": [
           {
            "marker": {
             "colorbar": {
              "outlinewidth": 0,
              "ticks": ""
             }
            },
            "type": "scattermapbox"
           }
          ],
          "scatterpolar": [
           {
            "marker": {
             "colorbar": {
              "outlinewidth": 0,
              "ticks": ""
             }
            },
            "type": "scatterpolar"
           }
          ],
          "scatterpolargl": [
           {
            "marker": {
             "colorbar": {
              "outlinewidth": 0,
              "ticks": ""
             }
            },
            "type": "scatterpolargl"
           }
          ],
          "scatterternary": [
           {
            "marker": {
             "colorbar": {
              "outlinewidth": 0,
              "ticks": ""
             }
            },
            "type": "scatterternary"
           }
          ],
          "surface": [
           {
            "colorbar": {
             "outlinewidth": 0,
             "ticks": ""
            },
            "colorscale": [
             [
              0,
              "#0d0887"
             ],
             [
              0.1111111111111111,
              "#46039f"
             ],
             [
              0.2222222222222222,
              "#7201a8"
             ],
             [
              0.3333333333333333,
              "#9c179e"
             ],
             [
              0.4444444444444444,
              "#bd3786"
             ],
             [
              0.5555555555555556,
              "#d8576b"
             ],
             [
              0.6666666666666666,
              "#ed7953"
             ],
             [
              0.7777777777777778,
              "#fb9f3a"
             ],
             [
              0.8888888888888888,
              "#fdca26"
             ],
             [
              1,
              "#f0f921"
             ]
            ],
            "type": "surface"
           }
          ],
          "table": [
           {
            "cells": {
             "fill": {
              "color": "#EBF0F8"
             },
             "line": {
              "color": "white"
             }
            },
            "header": {
             "fill": {
              "color": "#C8D4E3"
             },
             "line": {
              "color": "white"
             }
            },
            "type": "table"
           }
          ]
         },
         "layout": {
          "annotationdefaults": {
           "arrowcolor": "#2a3f5f",
           "arrowhead": 0,
           "arrowwidth": 1
          },
          "autotypenumbers": "strict",
          "coloraxis": {
           "colorbar": {
            "outlinewidth": 0,
            "ticks": ""
           }
          },
          "colorscale": {
           "diverging": [
            [
             0,
             "#8e0152"
            ],
            [
             0.1,
             "#c51b7d"
            ],
            [
             0.2,
             "#de77ae"
            ],
            [
             0.3,
             "#f1b6da"
            ],
            [
             0.4,
             "#fde0ef"
            ],
            [
             0.5,
             "#f7f7f7"
            ],
            [
             0.6,
             "#e6f5d0"
            ],
            [
             0.7,
             "#b8e186"
            ],
            [
             0.8,
             "#7fbc41"
            ],
            [
             0.9,
             "#4d9221"
            ],
            [
             1,
             "#276419"
            ]
           ],
           "sequential": [
            [
             0,
             "#0d0887"
            ],
            [
             0.1111111111111111,
             "#46039f"
            ],
            [
             0.2222222222222222,
             "#7201a8"
            ],
            [
             0.3333333333333333,
             "#9c179e"
            ],
            [
             0.4444444444444444,
             "#bd3786"
            ],
            [
             0.5555555555555556,
             "#d8576b"
            ],
            [
             0.6666666666666666,
             "#ed7953"
            ],
            [
             0.7777777777777778,
             "#fb9f3a"
            ],
            [
             0.8888888888888888,
             "#fdca26"
            ],
            [
             1,
             "#f0f921"
            ]
           ],
           "sequentialminus": [
            [
             0,
             "#0d0887"
            ],
            [
             0.1111111111111111,
             "#46039f"
            ],
            [
             0.2222222222222222,
             "#7201a8"
            ],
            [
             0.3333333333333333,
             "#9c179e"
            ],
            [
             0.4444444444444444,
             "#bd3786"
            ],
            [
             0.5555555555555556,
             "#d8576b"
            ],
            [
             0.6666666666666666,
             "#ed7953"
            ],
            [
             0.7777777777777778,
             "#fb9f3a"
            ],
            [
             0.8888888888888888,
             "#fdca26"
            ],
            [
             1,
             "#f0f921"
            ]
           ]
          },
          "colorway": [
           "#636efa",
           "#EF553B",
           "#00cc96",
           "#ab63fa",
           "#FFA15A",
           "#19d3f3",
           "#FF6692",
           "#B6E880",
           "#FF97FF",
           "#FECB52"
          ],
          "font": {
           "color": "#2a3f5f"
          },
          "geo": {
           "bgcolor": "white",
           "lakecolor": "white",
           "landcolor": "white",
           "showlakes": true,
           "showland": true,
           "subunitcolor": "#C8D4E3"
          },
          "hoverlabel": {
           "align": "left"
          },
          "hovermode": "closest",
          "mapbox": {
           "style": "light"
          },
          "paper_bgcolor": "white",
          "plot_bgcolor": "white",
          "polar": {
           "angularaxis": {
            "gridcolor": "#EBF0F8",
            "linecolor": "#EBF0F8",
            "ticks": ""
           },
           "bgcolor": "white",
           "radialaxis": {
            "gridcolor": "#EBF0F8",
            "linecolor": "#EBF0F8",
            "ticks": ""
           }
          },
          "scene": {
           "xaxis": {
            "backgroundcolor": "white",
            "gridcolor": "#DFE8F3",
            "gridwidth": 2,
            "linecolor": "#EBF0F8",
            "showbackground": true,
            "ticks": "",
            "zerolinecolor": "#EBF0F8"
           },
           "yaxis": {
            "backgroundcolor": "white",
            "gridcolor": "#DFE8F3",
            "gridwidth": 2,
            "linecolor": "#EBF0F8",
            "showbackground": true,
            "ticks": "",
            "zerolinecolor": "#EBF0F8"
           },
           "zaxis": {
            "backgroundcolor": "white",
            "gridcolor": "#DFE8F3",
            "gridwidth": 2,
            "linecolor": "#EBF0F8",
            "showbackground": true,
            "ticks": "",
            "zerolinecolor": "#EBF0F8"
           }
          },
          "shapedefaults": {
           "line": {
            "color": "#2a3f5f"
           }
          },
          "ternary": {
           "aaxis": {
            "gridcolor": "#DFE8F3",
            "linecolor": "#A2B1C6",
            "ticks": ""
           },
           "baxis": {
            "gridcolor": "#DFE8F3",
            "linecolor": "#A2B1C6",
            "ticks": ""
           },
           "bgcolor": "white",
           "caxis": {
            "gridcolor": "#DFE8F3",
            "linecolor": "#A2B1C6",
            "ticks": ""
           }
          },
          "title": {
           "x": 0.05
          },
          "xaxis": {
           "automargin": true,
           "gridcolor": "#EBF0F8",
           "linecolor": "#EBF0F8",
           "ticks": "",
           "title": {
            "standoff": 15
           },
           "zerolinecolor": "#EBF0F8",
           "zerolinewidth": 2
          },
          "yaxis": {
           "automargin": true,
           "gridcolor": "#EBF0F8",
           "linecolor": "#EBF0F8",
           "ticks": "",
           "title": {
            "standoff": 15
           },
           "zerolinecolor": "#EBF0F8",
           "zerolinewidth": 2
          }
         }
        },
        "title": {
         "text": "Round 10,000"
        },
        "xaxis": {
         "tickmode": "array",
         "ticktext": [
          "0",
          "1",
          "2",
          "3",
          "4",
          "5",
          "6",
          "7",
          "8",
          "9",
          "10",
          "11",
          "12",
          "13",
          "14",
          "15",
          "16",
          "17",
          "18",
          "19",
          "20",
          "21",
          "22",
          "23",
          "24",
          "25",
          "26",
          "27",
          "28",
          "29",
          "30",
          "31",
          "32",
          "33",
          "34",
          "35",
          "36",
          "37",
          "38",
          "39",
          "40",
          "41",
          "42",
          "43",
          "44",
          "45",
          "46",
          "47",
          "48",
          "49",
          "50",
          "51",
          "52",
          "53",
          "54",
          "55",
          "56",
          "57",
          "58",
          "59",
          "60",
          "61",
          "62",
          "63",
          "64",
          "65",
          "66",
          "67",
          "68",
          "69",
          "70",
          "71",
          "72",
          "73",
          "74",
          "75",
          "76",
          "77",
          "78",
          "79"
         ],
         "tickvals": {
          "bdata": "AAECAwQFBgcICQoLDA0ODxAREhMUFRYXGBkaGxwdHh8gISIjJCUmJygpKissLS4vMDEyMzQ1Njc4OTo7PD0+P0BBQkNERUZHSElKS0xNTk8=",
          "dtype": "i1"
         },
         "title": {
          "text": "Action ID"
         }
        },
        "yaxis": {
         "title": {
          "text": "Value"
         }
        }
       }
      }
     },
     "metadata": {},
     "output_type": "display_data"
    },
    {
     "data": {
      "application/vnd.plotly.v1+json": {
       "config": {
        "plotlyServerURL": "https://plot.ly"
       },
       "data": [
        {
         "name": "Empirical CTR",
         "type": "bar",
         "x": {
          "bdata": "AAECAwQFBgcICQoLDA0ODxAREhMUFRYXGBkaGxwdHh8gISIjJCUmJygpKissLS4vMDEyMzQ1Njc4OTo7PD0+P0BBQkNERUZHSElKS0xNTk8=",
          "dtype": "i1"
         },
         "y": {
          "bdata": "AAAAAAAAAACamZmZmZl5PwAAAAAAAAAAEARBEARBgD8AAAAAAAAAAAAAAAAAAAAAcUJKnmVEjz/gwIEDBw58PzQsuFS2d30/EARBEARBgD8AAAAAAAAAAAAAAAAAAAAAAAAAAAAAAAAAAAAAAAAAAAAAAAAAAAAAAAAAAAAAAAAAAAAAAAAAAKcQaAqBpoA/Ecg1Ecg1kT8AAAAAAAAAAAAAAAAAAAAAZ7fwqzGRfj8AAAAAAAAAAAAAAAAAAAAAAAAAAAAAAABxQkqeZUR/PwAAAAAAAAAAAAAAAAAAAAAQBEEQBEGAPwAAAAAAAAAAAAAAAAAAAAAAAAAAAAAAAAAAAAAAAAAAAAAAAAAAAAB05QHJOld+PwAAAAAAAAAAO9q8T3HJkD8AAAAAAAAAADvavE9xyYA/AAAAAAAAAAAAAAAAAAAAAB4eHh4eHn4/AAAAAAAAAAAAAAAAAAAAAB4eHh4eHo4/Z7fwqzGRfj++Y2pg75h6P5Z7GmG5p4E/HYGirQbPgT8or6G8hvKaPx4eHh4eHn4/AAAAAAAAAAAAAAAAAAAAABQ4gRM4gZM/AAAAAAAAAAAAAAAAAAAAAAAAAAAAAAAAizPaPWx9iz+SJEmSJEmSPwAAAAAAAAAAAAAAAAAAAAAUO7ETO7GDPwAAAAAAAAAAAAAAAAAAAAAAAAAAAAAAAJCc5mv17IA/AAAAAAAAAAAAAAAAAAAAAAAAAAAAAAAA/Knx0k1igD8AAAAAAAAAABAEQRAEQYA/AAAAAAAAAAAAAAAAAAAAAAAAAAAAAAAAAAAAAAAAAAAAAAAAAAAAAAAAAAAAAAAAAAAAAAAAAAAAAAAAAAAAAA==",
          "dtype": "f8"
         }
        },
        {
         "name": "TS selection freq over 100,000 rounds",
         "type": "bar",
         "x": {
          "bdata": "AAECAwQFBgcICQoLDA0ODxAREhMUFRYXGBkaGxwdHh8gISIjJCUmJygpKissLS4vMDEyMzQ1Njc4OTo7PD0+P0BBQkNERUZHSElKS0xNTk8=",
          "dtype": "i1"
         },
         "y": {
          "bdata": "Cks8oGzKZT8z4Zf6eVNxP0X11sBWCWY/9MMI4dHGgT8jLZW3I5xmP4CfceFASGY/QN6rVib8gj9fB84ZUdprPx4Wak3zjoM/Ykok0csodj9zLsVVZd9lPwpLPKBsymU/cy7FVWXfZT9F9dbAVglmP8+goX+Ci2U/RfXWwFYJZj+U9gZfmExlP63AkNWtnnM/Mc7fhEIEjD8XvOgrSDNmP8+goX+Ci2U/j1N0JJf/cD8jLZW3I5xmP67YX3ZPHmY/rthfdk8eZj/xaOOItfiEP67YX3ZPHmY/RfXWwFYJZj+YaftXVpqEP3MuxVVl32U/rthfdk8eZj/cEU4LXvRlP3MuxVVl32U/Cks8oGzKZT8DlfHvMy5sP0X11sBWCWY/TfOOU3Qkdz9F9dbAVglmP8H/VrJjI3A/F7zoK0gzZj+u2F92Tx5mPxWMSuoENHE/z6Chf4KLZT9e1y/YDdtmPwd8fhghPIo/0gDeAgmKbz/lJ9U+HY95P0qYaftXVno/3CkdrP9zeD86QDBHj9/jP63AkNWtnnM/cy7FVWXfZT84hCo1e6BlPzj4wmSqYKQ/RfXWwFYJZj+hZ7Pqc7VlP/3ZjxSRYWU/hBJm2v6VdT/7OnDOiNKePwpLPKBsymU/gJ9x4UBIZj/I6lbPSe9rP9wRTgte9GU/Xtcv2A3bZj9RZoNMMnJmPxWMSuoENIE/F7zoK0gzZj9zLsVVZd9lP3MuxVVl32U/fuNrzywJgD+MEB5tHLFmP9RDNLqD2Hk/OIQqNXugZT9RZoNMMnJmPxe86CtIM2Y/Cks8oGzKZT/ogvqWOV1mP67YX3ZPHmY//dmPFJFhZT/cEU4LXvRlPw==",
          "dtype": "f8"
         }
        }
       ],
       "layout": {
        "barmode": "group",
        "template": {
         "data": {
          "bar": [
           {
            "error_x": {
             "color": "#2a3f5f"
            },
            "error_y": {
             "color": "#2a3f5f"
            },
            "marker": {
             "line": {
              "color": "white",
              "width": 0.5
             },
             "pattern": {
              "fillmode": "overlay",
              "size": 10,
              "solidity": 0.2
             }
            },
            "type": "bar"
           }
          ],
          "barpolar": [
           {
            "marker": {
             "line": {
              "color": "white",
              "width": 0.5
             },
             "pattern": {
              "fillmode": "overlay",
              "size": 10,
              "solidity": 0.2
             }
            },
            "type": "barpolar"
           }
          ],
          "carpet": [
           {
            "aaxis": {
             "endlinecolor": "#2a3f5f",
             "gridcolor": "#C8D4E3",
             "linecolor": "#C8D4E3",
             "minorgridcolor": "#C8D4E3",
             "startlinecolor": "#2a3f5f"
            },
            "baxis": {
             "endlinecolor": "#2a3f5f",
             "gridcolor": "#C8D4E3",
             "linecolor": "#C8D4E3",
             "minorgridcolor": "#C8D4E3",
             "startlinecolor": "#2a3f5f"
            },
            "type": "carpet"
           }
          ],
          "choropleth": [
           {
            "colorbar": {
             "outlinewidth": 0,
             "ticks": ""
            },
            "type": "choropleth"
           }
          ],
          "contour": [
           {
            "colorbar": {
             "outlinewidth": 0,
             "ticks": ""
            },
            "colorscale": [
             [
              0,
              "#0d0887"
             ],
             [
              0.1111111111111111,
              "#46039f"
             ],
             [
              0.2222222222222222,
              "#7201a8"
             ],
             [
              0.3333333333333333,
              "#9c179e"
             ],
             [
              0.4444444444444444,
              "#bd3786"
             ],
             [
              0.5555555555555556,
              "#d8576b"
             ],
             [
              0.6666666666666666,
              "#ed7953"
             ],
             [
              0.7777777777777778,
              "#fb9f3a"
             ],
             [
              0.8888888888888888,
              "#fdca26"
             ],
             [
              1,
              "#f0f921"
             ]
            ],
            "type": "contour"
           }
          ],
          "contourcarpet": [
           {
            "colorbar": {
             "outlinewidth": 0,
             "ticks": ""
            },
            "type": "contourcarpet"
           }
          ],
          "heatmap": [
           {
            "colorbar": {
             "outlinewidth": 0,
             "ticks": ""
            },
            "colorscale": [
             [
              0,
              "#0d0887"
             ],
             [
              0.1111111111111111,
              "#46039f"
             ],
             [
              0.2222222222222222,
              "#7201a8"
             ],
             [
              0.3333333333333333,
              "#9c179e"
             ],
             [
              0.4444444444444444,
              "#bd3786"
             ],
             [
              0.5555555555555556,
              "#d8576b"
             ],
             [
              0.6666666666666666,
              "#ed7953"
             ],
             [
              0.7777777777777778,
              "#fb9f3a"
             ],
             [
              0.8888888888888888,
              "#fdca26"
             ],
             [
              1,
              "#f0f921"
             ]
            ],
            "type": "heatmap"
           }
          ],
          "histogram": [
           {
            "marker": {
             "pattern": {
              "fillmode": "overlay",
              "size": 10,
              "solidity": 0.2
             }
            },
            "type": "histogram"
           }
          ],
          "histogram2d": [
           {
            "colorbar": {
             "outlinewidth": 0,
             "ticks": ""
            },
            "colorscale": [
             [
              0,
              "#0d0887"
             ],
             [
              0.1111111111111111,
              "#46039f"
             ],
             [
              0.2222222222222222,
              "#7201a8"
             ],
             [
              0.3333333333333333,
              "#9c179e"
             ],
             [
              0.4444444444444444,
              "#bd3786"
             ],
             [
              0.5555555555555556,
              "#d8576b"
             ],
             [
              0.6666666666666666,
              "#ed7953"
             ],
             [
              0.7777777777777778,
              "#fb9f3a"
             ],
             [
              0.8888888888888888,
              "#fdca26"
             ],
             [
              1,
              "#f0f921"
             ]
            ],
            "type": "histogram2d"
           }
          ],
          "histogram2dcontour": [
           {
            "colorbar": {
             "outlinewidth": 0,
             "ticks": ""
            },
            "colorscale": [
             [
              0,
              "#0d0887"
             ],
             [
              0.1111111111111111,
              "#46039f"
             ],
             [
              0.2222222222222222,
              "#7201a8"
             ],
             [
              0.3333333333333333,
              "#9c179e"
             ],
             [
              0.4444444444444444,
              "#bd3786"
             ],
             [
              0.5555555555555556,
              "#d8576b"
             ],
             [
              0.6666666666666666,
              "#ed7953"
             ],
             [
              0.7777777777777778,
              "#fb9f3a"
             ],
             [
              0.8888888888888888,
              "#fdca26"
             ],
             [
              1,
              "#f0f921"
             ]
            ],
            "type": "histogram2dcontour"
           }
          ],
          "mesh3d": [
           {
            "colorbar": {
             "outlinewidth": 0,
             "ticks": ""
            },
            "type": "mesh3d"
           }
          ],
          "parcoords": [
           {
            "line": {
             "colorbar": {
              "outlinewidth": 0,
              "ticks": ""
             }
            },
            "type": "parcoords"
           }
          ],
          "pie": [
           {
            "automargin": true,
            "type": "pie"
           }
          ],
          "scatter": [
           {
            "fillpattern": {
             "fillmode": "overlay",
             "size": 10,
             "solidity": 0.2
            },
            "type": "scatter"
           }
          ],
          "scatter3d": [
           {
            "line": {
             "colorbar": {
              "outlinewidth": 0,
              "ticks": ""
             }
            },
            "marker": {
             "colorbar": {
              "outlinewidth": 0,
              "ticks": ""
             }
            },
            "type": "scatter3d"
           }
          ],
          "scattercarpet": [
           {
            "marker": {
             "colorbar": {
              "outlinewidth": 0,
              "ticks": ""
             }
            },
            "type": "scattercarpet"
           }
          ],
          "scattergeo": [
           {
            "marker": {
             "colorbar": {
              "outlinewidth": 0,
              "ticks": ""
             }
            },
            "type": "scattergeo"
           }
          ],
          "scattergl": [
           {
            "marker": {
             "colorbar": {
              "outlinewidth": 0,
              "ticks": ""
             }
            },
            "type": "scattergl"
           }
          ],
          "scattermap": [
           {
            "marker": {
             "colorbar": {
              "outlinewidth": 0,
              "ticks": ""
             }
            },
            "type": "scattermap"
           }
          ],
          "scattermapbox": [
           {
            "marker": {
             "colorbar": {
              "outlinewidth": 0,
              "ticks": ""
             }
            },
            "type": "scattermapbox"
           }
          ],
          "scatterpolar": [
           {
            "marker": {
             "colorbar": {
              "outlinewidth": 0,
              "ticks": ""
             }
            },
            "type": "scatterpolar"
           }
          ],
          "scatterpolargl": [
           {
            "marker": {
             "colorbar": {
              "outlinewidth": 0,
              "ticks": ""
             }
            },
            "type": "scatterpolargl"
           }
          ],
          "scatterternary": [
           {
            "marker": {
             "colorbar": {
              "outlinewidth": 0,
              "ticks": ""
             }
            },
            "type": "scatterternary"
           }
          ],
          "surface": [
           {
            "colorbar": {
             "outlinewidth": 0,
             "ticks": ""
            },
            "colorscale": [
             [
              0,
              "#0d0887"
             ],
             [
              0.1111111111111111,
              "#46039f"
             ],
             [
              0.2222222222222222,
              "#7201a8"
             ],
             [
              0.3333333333333333,
              "#9c179e"
             ],
             [
              0.4444444444444444,
              "#bd3786"
             ],
             [
              0.5555555555555556,
              "#d8576b"
             ],
             [
              0.6666666666666666,
              "#ed7953"
             ],
             [
              0.7777777777777778,
              "#fb9f3a"
             ],
             [
              0.8888888888888888,
              "#fdca26"
             ],
             [
              1,
              "#f0f921"
             ]
            ],
            "type": "surface"
           }
          ],
          "table": [
           {
            "cells": {
             "fill": {
              "color": "#EBF0F8"
             },
             "line": {
              "color": "white"
             }
            },
            "header": {
             "fill": {
              "color": "#C8D4E3"
             },
             "line": {
              "color": "white"
             }
            },
            "type": "table"
           }
          ]
         },
         "layout": {
          "annotationdefaults": {
           "arrowcolor": "#2a3f5f",
           "arrowhead": 0,
           "arrowwidth": 1
          },
          "autotypenumbers": "strict",
          "coloraxis": {
           "colorbar": {
            "outlinewidth": 0,
            "ticks": ""
           }
          },
          "colorscale": {
           "diverging": [
            [
             0,
             "#8e0152"
            ],
            [
             0.1,
             "#c51b7d"
            ],
            [
             0.2,
             "#de77ae"
            ],
            [
             0.3,
             "#f1b6da"
            ],
            [
             0.4,
             "#fde0ef"
            ],
            [
             0.5,
             "#f7f7f7"
            ],
            [
             0.6,
             "#e6f5d0"
            ],
            [
             0.7,
             "#b8e186"
            ],
            [
             0.8,
             "#7fbc41"
            ],
            [
             0.9,
             "#4d9221"
            ],
            [
             1,
             "#276419"
            ]
           ],
           "sequential": [
            [
             0,
             "#0d0887"
            ],
            [
             0.1111111111111111,
             "#46039f"
            ],
            [
             0.2222222222222222,
             "#7201a8"
            ],
            [
             0.3333333333333333,
             "#9c179e"
            ],
            [
             0.4444444444444444,
             "#bd3786"
            ],
            [
             0.5555555555555556,
             "#d8576b"
            ],
            [
             0.6666666666666666,
             "#ed7953"
            ],
            [
             0.7777777777777778,
             "#fb9f3a"
            ],
            [
             0.8888888888888888,
             "#fdca26"
            ],
            [
             1,
             "#f0f921"
            ]
           ],
           "sequentialminus": [
            [
             0,
             "#0d0887"
            ],
            [
             0.1111111111111111,
             "#46039f"
            ],
            [
             0.2222222222222222,
             "#7201a8"
            ],
            [
             0.3333333333333333,
             "#9c179e"
            ],
            [
             0.4444444444444444,
             "#bd3786"
            ],
            [
             0.5555555555555556,
             "#d8576b"
            ],
            [
             0.6666666666666666,
             "#ed7953"
            ],
            [
             0.7777777777777778,
             "#fb9f3a"
            ],
            [
             0.8888888888888888,
             "#fdca26"
            ],
            [
             1,
             "#f0f921"
            ]
           ]
          },
          "colorway": [
           "#636efa",
           "#EF553B",
           "#00cc96",
           "#ab63fa",
           "#FFA15A",
           "#19d3f3",
           "#FF6692",
           "#B6E880",
           "#FF97FF",
           "#FECB52"
          ],
          "font": {
           "color": "#2a3f5f"
          },
          "geo": {
           "bgcolor": "white",
           "lakecolor": "white",
           "landcolor": "white",
           "showlakes": true,
           "showland": true,
           "subunitcolor": "#C8D4E3"
          },
          "hoverlabel": {
           "align": "left"
          },
          "hovermode": "closest",
          "mapbox": {
           "style": "light"
          },
          "paper_bgcolor": "white",
          "plot_bgcolor": "white",
          "polar": {
           "angularaxis": {
            "gridcolor": "#EBF0F8",
            "linecolor": "#EBF0F8",
            "ticks": ""
           },
           "bgcolor": "white",
           "radialaxis": {
            "gridcolor": "#EBF0F8",
            "linecolor": "#EBF0F8",
            "ticks": ""
           }
          },
          "scene": {
           "xaxis": {
            "backgroundcolor": "white",
            "gridcolor": "#DFE8F3",
            "gridwidth": 2,
            "linecolor": "#EBF0F8",
            "showbackground": true,
            "ticks": "",
            "zerolinecolor": "#EBF0F8"
           },
           "yaxis": {
            "backgroundcolor": "white",
            "gridcolor": "#DFE8F3",
            "gridwidth": 2,
            "linecolor": "#EBF0F8",
            "showbackground": true,
            "ticks": "",
            "zerolinecolor": "#EBF0F8"
           },
           "zaxis": {
            "backgroundcolor": "white",
            "gridcolor": "#DFE8F3",
            "gridwidth": 2,
            "linecolor": "#EBF0F8",
            "showbackground": true,
            "ticks": "",
            "zerolinecolor": "#EBF0F8"
           }
          },
          "shapedefaults": {
           "line": {
            "color": "#2a3f5f"
           }
          },
          "ternary": {
           "aaxis": {
            "gridcolor": "#DFE8F3",
            "linecolor": "#A2B1C6",
            "ticks": ""
           },
           "baxis": {
            "gridcolor": "#DFE8F3",
            "linecolor": "#A2B1C6",
            "ticks": ""
           },
           "bgcolor": "white",
           "caxis": {
            "gridcolor": "#DFE8F3",
            "linecolor": "#A2B1C6",
            "ticks": ""
           }
          },
          "title": {
           "x": 0.05
          },
          "xaxis": {
           "automargin": true,
           "gridcolor": "#EBF0F8",
           "linecolor": "#EBF0F8",
           "ticks": "",
           "title": {
            "standoff": 15
           },
           "zerolinecolor": "#EBF0F8",
           "zerolinewidth": 2
          },
          "yaxis": {
           "automargin": true,
           "gridcolor": "#EBF0F8",
           "linecolor": "#EBF0F8",
           "ticks": "",
           "title": {
            "standoff": 15
           },
           "zerolinecolor": "#EBF0F8",
           "zerolinewidth": 2
          }
         }
        },
        "title": {
         "text": "Round 100,000"
        },
        "xaxis": {
         "tickmode": "array",
         "ticktext": [
          "0",
          "1",
          "2",
          "3",
          "4",
          "5",
          "6",
          "7",
          "8",
          "9",
          "10",
          "11",
          "12",
          "13",
          "14",
          "15",
          "16",
          "17",
          "18",
          "19",
          "20",
          "21",
          "22",
          "23",
          "24",
          "25",
          "26",
          "27",
          "28",
          "29",
          "30",
          "31",
          "32",
          "33",
          "34",
          "35",
          "36",
          "37",
          "38",
          "39",
          "40",
          "41",
          "42",
          "43",
          "44",
          "45",
          "46",
          "47",
          "48",
          "49",
          "50",
          "51",
          "52",
          "53",
          "54",
          "55",
          "56",
          "57",
          "58",
          "59",
          "60",
          "61",
          "62",
          "63",
          "64",
          "65",
          "66",
          "67",
          "68",
          "69",
          "70",
          "71",
          "72",
          "73",
          "74",
          "75",
          "76",
          "77",
          "78",
          "79"
         ],
         "tickvals": {
          "bdata": "AAECAwQFBgcICQoLDA0ODxAREhMUFRYXGBkaGxwdHh8gISIjJCUmJygpKissLS4vMDEyMzQ1Njc4OTo7PD0+P0BBQkNERUZHSElKS0xNTk8=",
          "dtype": "i1"
         },
         "title": {
          "text": "Action ID"
         }
        },
        "yaxis": {
         "title": {
          "text": "Value"
         }
        }
       }
      }
     },
     "metadata": {},
     "output_type": "display_data"
    }
   ],
   "source": [
    "K = bf[\"n_actions\"]\n",
    "\n",
    "# 100 rounds\n",
    "fig100, res100 = run_ts_and_plot(df, n_actions=K, n_rounds=100,  seed=7, title=\"Round 100\")\n",
    "fig100.show()\n",
    "\n",
    "# 1,000 rounds\n",
    "fig1k, res1k = run_ts_and_plot(df, n_actions=K, n_rounds=1_000, seed=7, title=\"Round 1,000\")\n",
    "fig1k.show()\n",
    "\n",
    "# 10,000 rounds\n",
    "fig10k, res10k = run_ts_and_plot(df, n_actions=K, n_rounds=10_000, seed=7, title=\"Round 10,000\")\n",
    "fig10k.show()\n",
    "\n",
    "\n",
    "fig100k, res100k = run_ts_and_plot(df, n_actions=K, n_rounds=100_000, seed=7, title=\"Round 100,000\")\n",
    "fig100k.show()\n",
    "\n",
    "# 1,000,000 rounds (⚠️ slow; pure Python loop)\n",
    "# Consider 50k–200k if runtime is high.\n",
    "# fig1m, res1m = run_ts_and_plot(df, n_actions=K, n_rounds=1_000_000, seed=7, title=\"Round 1,000,000\")\n",
    "# fig1m.show()"
   ]
  },
  {
   "cell_type": "markdown",
   "id": "758092f7",
   "metadata": {},
   "source": []
  },
  {
   "cell_type": "code",
   "execution_count": 21,
   "id": "cd19e2b0",
   "metadata": {},
   "outputs": [
    {
     "data": {
      "application/vnd.plotly.v1+json": {
       "config": {
        "plotlyServerURL": "https://plot.ly"
       },
       "data": [
        {
         "name": "Empirical CTR",
         "type": "bar",
         "x": {
          "bdata": "AAECAwQFBgcICQoLDA0ODxAREhMUFRYXGBkaGxwdHh8gISIjJCUmJygpKissLS4vMDEyMzQ1Njc4OTo7PD0+P0BBQkNERUZHSElKS0xNTk8=",
          "dtype": "i1"
         },
         "y": {
          "bdata": "AAAAAAAAAACamZmZmZl5PwAAAAAAAAAAEARBEARBgD8AAAAAAAAAAAAAAAAAAAAAcUJKnmVEjz/gwIEDBw58PzQsuFS2d30/EARBEARBgD8AAAAAAAAAAAAAAAAAAAAAAAAAAAAAAAAAAAAAAAAAAAAAAAAAAAAAAAAAAAAAAAAAAAAAAAAAAKcQaAqBpoA/Ecg1Ecg1kT8AAAAAAAAAAAAAAAAAAAAAZ7fwqzGRfj8AAAAAAAAAAAAAAAAAAAAAAAAAAAAAAABxQkqeZUR/PwAAAAAAAAAAAAAAAAAAAAAQBEEQBEGAPwAAAAAAAAAAAAAAAAAAAAAAAAAAAAAAAAAAAAAAAAAAAAAAAAAAAAB05QHJOld+PwAAAAAAAAAAO9q8T3HJkD8AAAAAAAAAADvavE9xyYA/AAAAAAAAAAAAAAAAAAAAAB4eHh4eHn4/AAAAAAAAAAAAAAAAAAAAAB4eHh4eHo4/Z7fwqzGRfj++Y2pg75h6P5Z7GmG5p4E/HYGirQbPgT8or6G8hvKaPx4eHh4eHn4/AAAAAAAAAAAAAAAAAAAAABQ4gRM4gZM/AAAAAAAAAAAAAAAAAAAAAAAAAAAAAAAAizPaPWx9iz+SJEmSJEmSPwAAAAAAAAAAAAAAAAAAAAAUO7ETO7GDPwAAAAAAAAAAAAAAAAAAAAAAAAAAAAAAAJCc5mv17IA/AAAAAAAAAAAAAAAAAAAAAAAAAAAAAAAA/Knx0k1igD8AAAAAAAAAABAEQRAEQYA/AAAAAAAAAAAAAAAAAAAAAAAAAAAAAAAAAAAAAAAAAAAAAAAAAAAAAAAAAAAAAAAAAAAAAAAAAAAAAAAAAAAAAA==",
          "dtype": "f8"
         }
        },
        {
         "name": "TS selection freq over 100,000 rounds",
         "type": "bar",
         "x": {
          "bdata": "AAECAwQFBgcICQoLDA0ODxAREhMUFRYXGBkaGxwdHh8gISIjJCUmJygpKissLS4vMDEyMzQ1Njc4OTo7PD0+P0BBQkNERUZHSElKS0xNTk8=",
          "dtype": "i1"
         },
         "y": {
          "bdata": "Cks8oGzKZT8z4Zf6eVNxP0X11sBWCWY/9MMI4dHGgT8jLZW3I5xmP4CfceFASGY/QN6rVib8gj9fB84ZUdprPx4Wak3zjoM/Ykok0csodj9zLsVVZd9lPwpLPKBsymU/cy7FVWXfZT9F9dbAVglmP8+goX+Ci2U/RfXWwFYJZj+U9gZfmExlP63AkNWtnnM/Mc7fhEIEjD8XvOgrSDNmP8+goX+Ci2U/j1N0JJf/cD8jLZW3I5xmP67YX3ZPHmY/rthfdk8eZj/xaOOItfiEP67YX3ZPHmY/RfXWwFYJZj+YaftXVpqEP3MuxVVl32U/rthfdk8eZj/cEU4LXvRlP3MuxVVl32U/Cks8oGzKZT8DlfHvMy5sP0X11sBWCWY/TfOOU3Qkdz9F9dbAVglmP8H/VrJjI3A/F7zoK0gzZj+u2F92Tx5mPxWMSuoENHE/z6Chf4KLZT9e1y/YDdtmPwd8fhghPIo/0gDeAgmKbz/lJ9U+HY95P0qYaftXVno/3CkdrP9zeD86QDBHj9/jP63AkNWtnnM/cy7FVWXfZT84hCo1e6BlPzj4wmSqYKQ/RfXWwFYJZj+hZ7Pqc7VlP/3ZjxSRYWU/hBJm2v6VdT/7OnDOiNKePwpLPKBsymU/gJ9x4UBIZj/I6lbPSe9rP9wRTgte9GU/Xtcv2A3bZj9RZoNMMnJmPxWMSuoENIE/F7zoK0gzZj9zLsVVZd9lP3MuxVVl32U/fuNrzywJgD+MEB5tHLFmP9RDNLqD2Hk/OIQqNXugZT9RZoNMMnJmPxe86CtIM2Y/Cks8oGzKZT/ogvqWOV1mP67YX3ZPHmY//dmPFJFhZT/cEU4LXvRlPw==",
          "dtype": "f8"
         }
        }
       ],
       "layout": {
        "barmode": "group",
        "template": {
         "data": {
          "bar": [
           {
            "error_x": {
             "color": "#2a3f5f"
            },
            "error_y": {
             "color": "#2a3f5f"
            },
            "marker": {
             "line": {
              "color": "white",
              "width": 0.5
             },
             "pattern": {
              "fillmode": "overlay",
              "size": 10,
              "solidity": 0.2
             }
            },
            "type": "bar"
           }
          ],
          "barpolar": [
           {
            "marker": {
             "line": {
              "color": "white",
              "width": 0.5
             },
             "pattern": {
              "fillmode": "overlay",
              "size": 10,
              "solidity": 0.2
             }
            },
            "type": "barpolar"
           }
          ],
          "carpet": [
           {
            "aaxis": {
             "endlinecolor": "#2a3f5f",
             "gridcolor": "#C8D4E3",
             "linecolor": "#C8D4E3",
             "minorgridcolor": "#C8D4E3",
             "startlinecolor": "#2a3f5f"
            },
            "baxis": {
             "endlinecolor": "#2a3f5f",
             "gridcolor": "#C8D4E3",
             "linecolor": "#C8D4E3",
             "minorgridcolor": "#C8D4E3",
             "startlinecolor": "#2a3f5f"
            },
            "type": "carpet"
           }
          ],
          "choropleth": [
           {
            "colorbar": {
             "outlinewidth": 0,
             "ticks": ""
            },
            "type": "choropleth"
           }
          ],
          "contour": [
           {
            "colorbar": {
             "outlinewidth": 0,
             "ticks": ""
            },
            "colorscale": [
             [
              0,
              "#0d0887"
             ],
             [
              0.1111111111111111,
              "#46039f"
             ],
             [
              0.2222222222222222,
              "#7201a8"
             ],
             [
              0.3333333333333333,
              "#9c179e"
             ],
             [
              0.4444444444444444,
              "#bd3786"
             ],
             [
              0.5555555555555556,
              "#d8576b"
             ],
             [
              0.6666666666666666,
              "#ed7953"
             ],
             [
              0.7777777777777778,
              "#fb9f3a"
             ],
             [
              0.8888888888888888,
              "#fdca26"
             ],
             [
              1,
              "#f0f921"
             ]
            ],
            "type": "contour"
           }
          ],
          "contourcarpet": [
           {
            "colorbar": {
             "outlinewidth": 0,
             "ticks": ""
            },
            "type": "contourcarpet"
           }
          ],
          "heatmap": [
           {
            "colorbar": {
             "outlinewidth": 0,
             "ticks": ""
            },
            "colorscale": [
             [
              0,
              "#0d0887"
             ],
             [
              0.1111111111111111,
              "#46039f"
             ],
             [
              0.2222222222222222,
              "#7201a8"
             ],
             [
              0.3333333333333333,
              "#9c179e"
             ],
             [
              0.4444444444444444,
              "#bd3786"
             ],
             [
              0.5555555555555556,
              "#d8576b"
             ],
             [
              0.6666666666666666,
              "#ed7953"
             ],
             [
              0.7777777777777778,
              "#fb9f3a"
             ],
             [
              0.8888888888888888,
              "#fdca26"
             ],
             [
              1,
              "#f0f921"
             ]
            ],
            "type": "heatmap"
           }
          ],
          "histogram": [
           {
            "marker": {
             "pattern": {
              "fillmode": "overlay",
              "size": 10,
              "solidity": 0.2
             }
            },
            "type": "histogram"
           }
          ],
          "histogram2d": [
           {
            "colorbar": {
             "outlinewidth": 0,
             "ticks": ""
            },
            "colorscale": [
             [
              0,
              "#0d0887"
             ],
             [
              0.1111111111111111,
              "#46039f"
             ],
             [
              0.2222222222222222,
              "#7201a8"
             ],
             [
              0.3333333333333333,
              "#9c179e"
             ],
             [
              0.4444444444444444,
              "#bd3786"
             ],
             [
              0.5555555555555556,
              "#d8576b"
             ],
             [
              0.6666666666666666,
              "#ed7953"
             ],
             [
              0.7777777777777778,
              "#fb9f3a"
             ],
             [
              0.8888888888888888,
              "#fdca26"
             ],
             [
              1,
              "#f0f921"
             ]
            ],
            "type": "histogram2d"
           }
          ],
          "histogram2dcontour": [
           {
            "colorbar": {
             "outlinewidth": 0,
             "ticks": ""
            },
            "colorscale": [
             [
              0,
              "#0d0887"
             ],
             [
              0.1111111111111111,
              "#46039f"
             ],
             [
              0.2222222222222222,
              "#7201a8"
             ],
             [
              0.3333333333333333,
              "#9c179e"
             ],
             [
              0.4444444444444444,
              "#bd3786"
             ],
             [
              0.5555555555555556,
              "#d8576b"
             ],
             [
              0.6666666666666666,
              "#ed7953"
             ],
             [
              0.7777777777777778,
              "#fb9f3a"
             ],
             [
              0.8888888888888888,
              "#fdca26"
             ],
             [
              1,
              "#f0f921"
             ]
            ],
            "type": "histogram2dcontour"
           }
          ],
          "mesh3d": [
           {
            "colorbar": {
             "outlinewidth": 0,
             "ticks": ""
            },
            "type": "mesh3d"
           }
          ],
          "parcoords": [
           {
            "line": {
             "colorbar": {
              "outlinewidth": 0,
              "ticks": ""
             }
            },
            "type": "parcoords"
           }
          ],
          "pie": [
           {
            "automargin": true,
            "type": "pie"
           }
          ],
          "scatter": [
           {
            "fillpattern": {
             "fillmode": "overlay",
             "size": 10,
             "solidity": 0.2
            },
            "type": "scatter"
           }
          ],
          "scatter3d": [
           {
            "line": {
             "colorbar": {
              "outlinewidth": 0,
              "ticks": ""
             }
            },
            "marker": {
             "colorbar": {
              "outlinewidth": 0,
              "ticks": ""
             }
            },
            "type": "scatter3d"
           }
          ],
          "scattercarpet": [
           {
            "marker": {
             "colorbar": {
              "outlinewidth": 0,
              "ticks": ""
             }
            },
            "type": "scattercarpet"
           }
          ],
          "scattergeo": [
           {
            "marker": {
             "colorbar": {
              "outlinewidth": 0,
              "ticks": ""
             }
            },
            "type": "scattergeo"
           }
          ],
          "scattergl": [
           {
            "marker": {
             "colorbar": {
              "outlinewidth": 0,
              "ticks": ""
             }
            },
            "type": "scattergl"
           }
          ],
          "scattermap": [
           {
            "marker": {
             "colorbar": {
              "outlinewidth": 0,
              "ticks": ""
             }
            },
            "type": "scattermap"
           }
          ],
          "scattermapbox": [
           {
            "marker": {
             "colorbar": {
              "outlinewidth": 0,
              "ticks": ""
             }
            },
            "type": "scattermapbox"
           }
          ],
          "scatterpolar": [
           {
            "marker": {
             "colorbar": {
              "outlinewidth": 0,
              "ticks": ""
             }
            },
            "type": "scatterpolar"
           }
          ],
          "scatterpolargl": [
           {
            "marker": {
             "colorbar": {
              "outlinewidth": 0,
              "ticks": ""
             }
            },
            "type": "scatterpolargl"
           }
          ],
          "scatterternary": [
           {
            "marker": {
             "colorbar": {
              "outlinewidth": 0,
              "ticks": ""
             }
            },
            "type": "scatterternary"
           }
          ],
          "surface": [
           {
            "colorbar": {
             "outlinewidth": 0,
             "ticks": ""
            },
            "colorscale": [
             [
              0,
              "#0d0887"
             ],
             [
              0.1111111111111111,
              "#46039f"
             ],
             [
              0.2222222222222222,
              "#7201a8"
             ],
             [
              0.3333333333333333,
              "#9c179e"
             ],
             [
              0.4444444444444444,
              "#bd3786"
             ],
             [
              0.5555555555555556,
              "#d8576b"
             ],
             [
              0.6666666666666666,
              "#ed7953"
             ],
             [
              0.7777777777777778,
              "#fb9f3a"
             ],
             [
              0.8888888888888888,
              "#fdca26"
             ],
             [
              1,
              "#f0f921"
             ]
            ],
            "type": "surface"
           }
          ],
          "table": [
           {
            "cells": {
             "fill": {
              "color": "#EBF0F8"
             },
             "line": {
              "color": "white"
             }
            },
            "header": {
             "fill": {
              "color": "#C8D4E3"
             },
             "line": {
              "color": "white"
             }
            },
            "type": "table"
           }
          ]
         },
         "layout": {
          "annotationdefaults": {
           "arrowcolor": "#2a3f5f",
           "arrowhead": 0,
           "arrowwidth": 1
          },
          "autotypenumbers": "strict",
          "coloraxis": {
           "colorbar": {
            "outlinewidth": 0,
            "ticks": ""
           }
          },
          "colorscale": {
           "diverging": [
            [
             0,
             "#8e0152"
            ],
            [
             0.1,
             "#c51b7d"
            ],
            [
             0.2,
             "#de77ae"
            ],
            [
             0.3,
             "#f1b6da"
            ],
            [
             0.4,
             "#fde0ef"
            ],
            [
             0.5,
             "#f7f7f7"
            ],
            [
             0.6,
             "#e6f5d0"
            ],
            [
             0.7,
             "#b8e186"
            ],
            [
             0.8,
             "#7fbc41"
            ],
            [
             0.9,
             "#4d9221"
            ],
            [
             1,
             "#276419"
            ]
           ],
           "sequential": [
            [
             0,
             "#0d0887"
            ],
            [
             0.1111111111111111,
             "#46039f"
            ],
            [
             0.2222222222222222,
             "#7201a8"
            ],
            [
             0.3333333333333333,
             "#9c179e"
            ],
            [
             0.4444444444444444,
             "#bd3786"
            ],
            [
             0.5555555555555556,
             "#d8576b"
            ],
            [
             0.6666666666666666,
             "#ed7953"
            ],
            [
             0.7777777777777778,
             "#fb9f3a"
            ],
            [
             0.8888888888888888,
             "#fdca26"
            ],
            [
             1,
             "#f0f921"
            ]
           ],
           "sequentialminus": [
            [
             0,
             "#0d0887"
            ],
            [
             0.1111111111111111,
             "#46039f"
            ],
            [
             0.2222222222222222,
             "#7201a8"
            ],
            [
             0.3333333333333333,
             "#9c179e"
            ],
            [
             0.4444444444444444,
             "#bd3786"
            ],
            [
             0.5555555555555556,
             "#d8576b"
            ],
            [
             0.6666666666666666,
             "#ed7953"
            ],
            [
             0.7777777777777778,
             "#fb9f3a"
            ],
            [
             0.8888888888888888,
             "#fdca26"
            ],
            [
             1,
             "#f0f921"
            ]
           ]
          },
          "colorway": [
           "#636efa",
           "#EF553B",
           "#00cc96",
           "#ab63fa",
           "#FFA15A",
           "#19d3f3",
           "#FF6692",
           "#B6E880",
           "#FF97FF",
           "#FECB52"
          ],
          "font": {
           "color": "#2a3f5f"
          },
          "geo": {
           "bgcolor": "white",
           "lakecolor": "white",
           "landcolor": "white",
           "showlakes": true,
           "showland": true,
           "subunitcolor": "#C8D4E3"
          },
          "hoverlabel": {
           "align": "left"
          },
          "hovermode": "closest",
          "mapbox": {
           "style": "light"
          },
          "paper_bgcolor": "white",
          "plot_bgcolor": "white",
          "polar": {
           "angularaxis": {
            "gridcolor": "#EBF0F8",
            "linecolor": "#EBF0F8",
            "ticks": ""
           },
           "bgcolor": "white",
           "radialaxis": {
            "gridcolor": "#EBF0F8",
            "linecolor": "#EBF0F8",
            "ticks": ""
           }
          },
          "scene": {
           "xaxis": {
            "backgroundcolor": "white",
            "gridcolor": "#DFE8F3",
            "gridwidth": 2,
            "linecolor": "#EBF0F8",
            "showbackground": true,
            "ticks": "",
            "zerolinecolor": "#EBF0F8"
           },
           "yaxis": {
            "backgroundcolor": "white",
            "gridcolor": "#DFE8F3",
            "gridwidth": 2,
            "linecolor": "#EBF0F8",
            "showbackground": true,
            "ticks": "",
            "zerolinecolor": "#EBF0F8"
           },
           "zaxis": {
            "backgroundcolor": "white",
            "gridcolor": "#DFE8F3",
            "gridwidth": 2,
            "linecolor": "#EBF0F8",
            "showbackground": true,
            "ticks": "",
            "zerolinecolor": "#EBF0F8"
           }
          },
          "shapedefaults": {
           "line": {
            "color": "#2a3f5f"
           }
          },
          "ternary": {
           "aaxis": {
            "gridcolor": "#DFE8F3",
            "linecolor": "#A2B1C6",
            "ticks": ""
           },
           "baxis": {
            "gridcolor": "#DFE8F3",
            "linecolor": "#A2B1C6",
            "ticks": ""
           },
           "bgcolor": "white",
           "caxis": {
            "gridcolor": "#DFE8F3",
            "linecolor": "#A2B1C6",
            "ticks": ""
           }
          },
          "title": {
           "x": 0.05
          },
          "xaxis": {
           "automargin": true,
           "gridcolor": "#EBF0F8",
           "linecolor": "#EBF0F8",
           "ticks": "",
           "title": {
            "standoff": 15
           },
           "zerolinecolor": "#EBF0F8",
           "zerolinewidth": 2
          },
          "yaxis": {
           "automargin": true,
           "gridcolor": "#EBF0F8",
           "linecolor": "#EBF0F8",
           "ticks": "",
           "title": {
            "standoff": 15
           },
           "zerolinecolor": "#EBF0F8",
           "zerolinewidth": 2
          }
         }
        },
        "title": {
         "text": "Round 100,000"
        },
        "xaxis": {
         "tickmode": "array",
         "ticktext": [
          "0",
          "1",
          "2",
          "3",
          "4",
          "5",
          "6",
          "7",
          "8",
          "9",
          "10",
          "11",
          "12",
          "13",
          "14",
          "15",
          "16",
          "17",
          "18",
          "19",
          "20",
          "21",
          "22",
          "23",
          "24",
          "25",
          "26",
          "27",
          "28",
          "29",
          "30",
          "31",
          "32",
          "33",
          "34",
          "35",
          "36",
          "37",
          "38",
          "39",
          "40",
          "41",
          "42",
          "43",
          "44",
          "45",
          "46",
          "47",
          "48",
          "49",
          "50",
          "51",
          "52",
          "53",
          "54",
          "55",
          "56",
          "57",
          "58",
          "59",
          "60",
          "61",
          "62",
          "63",
          "64",
          "65",
          "66",
          "67",
          "68",
          "69",
          "70",
          "71",
          "72",
          "73",
          "74",
          "75",
          "76",
          "77",
          "78",
          "79"
         ],
         "tickvals": {
          "bdata": "AAECAwQFBgcICQoLDA0ODxAREhMUFRYXGBkaGxwdHh8gISIjJCUmJygpKissLS4vMDEyMzQ1Njc4OTo7PD0+P0BBQkNERUZHSElKS0xNTk8=",
          "dtype": "i1"
         },
         "title": {
          "text": "Action ID"
         }
        },
        "yaxis": {
         "title": {
          "text": "Value"
         }
        }
       }
      }
     },
     "metadata": {},
     "output_type": "display_data"
    }
   ],
   "source": [
    "\n",
    "fig100k, res100k = run_ts_and_plot(df, n_actions=K, n_rounds=100_000, seed=7, title=\"Round 100,000\")\n",
    "fig100k.show()"
   ]
  },
  {
   "cell_type": "markdown",
   "id": "5cd01ee2",
   "metadata": {},
   "source": [
    "### Position Aware TS"
   ]
  },
  {
   "cell_type": "code",
   "execution_count": 26,
   "id": "aba135f7",
   "metadata": {},
   "outputs": [],
   "source": [
    "import numpy as np\n",
    "import pandas as pd\n",
    "from plotly.subplots import make_subplots\n",
    "import plotly.graph_objects as go\n",
    "\n",
    "def run_ts_by_position_and_plot(\n",
    "    df: pd.DataFrame,\n",
    "    n_actions: int,\n",
    "    positions=(0,1,2),\n",
    "    n_rounds: int = 10_000,\n",
    "    seed: int = 7,\n",
    "    alpha0: float = 1.0,\n",
    "    beta0: float  = 1.0,\n",
    "    title: str | None = None,\n",
    "):\n",
    "    \"\"\"\n",
    "    Position-aware online Thompson Sampling (independent bandit per position).\n",
    "    Uses per-position empirical CTR as the 'true' Bernoulli rate for simulation.\n",
    "\n",
    "    df must have columns: ['action','position','reward', ...]\n",
    "    Returns (fig, results_df) where results_df has one row per (position, action).\n",
    "    \"\"\"\n",
    "    positions = list(positions)\n",
    "\n",
    "    # ----- Ground-truth p_true per (position, action) from logs -----\n",
    "    # shape: dict[pos] -> length-n_actions float array\n",
    "    grp_mean = (\n",
    "        df.groupby([\"position\",\"action\"])[\"reward\"].mean().unstack(fill_value=np.nan)\n",
    "    )\n",
    "    # reindex to ensure we have full action range for each position\n",
    "    full_cols = pd.Index(range(n_actions), name=\"action\")\n",
    "    grp_mean = grp_mean.reindex(columns=full_cols)\n",
    "\n",
    "    p_true = {}\n",
    "    for pos in positions:\n",
    "        # if a position is missing in df, fill with zeros\n",
    "        if pos in grp_mean.index:\n",
    "            vec = grp_mean.loc[pos].to_numpy()\n",
    "        else:\n",
    "            vec = np.zeros(n_actions, dtype=float)\n",
    "        # NaNs (no impressions for an action at that pos) -> 0 CTR\n",
    "        vec = np.nan_to_num(vec, nan=0.0)\n",
    "        p_true[pos] = vec\n",
    "\n",
    "    # impressions per (pos, action) (optional diagnostics)\n",
    "    grp_count = (\n",
    "        df.groupby([\"position\",\"action\"])[\"reward\"].size().unstack(fill_value=0)\n",
    "         .reindex(index=positions, columns=full_cols, fill_value=0)\n",
    "    )\n",
    "\n",
    "    # ----- TS state per position -----\n",
    "    alpha = {pos: np.full(n_actions, float(alpha0)) for pos in positions}\n",
    "    beta  = {pos: np.full(n_actions, float(beta0))  for pos in positions}\n",
    "    chosen_counts = {pos: np.zeros(n_actions, dtype=int) for pos in positions}\n",
    "\n",
    "    rng = np.random.RandomState(seed)\n",
    "\n",
    "    # ----- Online TS loop (independent per position each round) -----\n",
    "    for _ in range(int(n_rounds)):\n",
    "        for pos in positions:\n",
    "            theta = rng.beta(alpha[pos], beta[pos])\n",
    "            a = int(theta.argmax())\n",
    "            chosen_counts[pos][a] += 1\n",
    "            # simulate reward with per-position ground-truth CTR\n",
    "            r = rng.rand() < p_true[pos][a]\n",
    "            alpha[pos][a] += int(r)\n",
    "            beta[pos][a]  += int(not r)\n",
    "\n",
    "    # ----- Collect results into a tidy DataFrame -----\n",
    "    records = []\n",
    "    for pos in positions:\n",
    "        sel_freq = chosen_counts[pos] / float(n_rounds)\n",
    "        for a in range(n_actions):\n",
    "            records.append({\n",
    "                \"position\": pos,\n",
    "                \"action\": a,\n",
    "                \"empirical_ctr\": float(p_true[pos][a]),\n",
    "                \"ts_selection_freq\": float(sel_freq[a]),\n",
    "                \"alpha_final\": float(alpha[pos][a]),\n",
    "                \"beta_final\": float(beta[pos][a]),\n",
    "                \"impressions\": int(grp_count.loc[pos, a]) if pos in grp_count.index else 0,\n",
    "            })\n",
    "    res = pd.DataFrame(records)\n",
    "\n",
    "    # ----- Plot (one row per position, grouped bars) -----\n",
    "    fig = make_subplots(\n",
    "        rows=len(positions), cols=1, shared_xaxes=False,\n",
    "        subplot_titles=[f\"Position {p}\" for p in positions],\n",
    "        vertical_spacing=0.08\n",
    "    )\n",
    "\n",
    "    for i, pos in enumerate(positions, start=1):\n",
    "        df_pos = res[res[\"position\"] == pos].sort_values(\"action\")\n",
    "        xs = df_pos[\"action\"].to_numpy()\n",
    "\n",
    "        fig.add_bar(\n",
    "            x=xs, y=df_pos[\"empirical_ctr\"], name=\"Empirical CTR\",\n",
    "            marker_color=\"steelblue\", opacity=0.6,\n",
    "            showlegend=(i == 1), row=i, col=1\n",
    "        )\n",
    "        fig.add_bar(\n",
    "            x=xs, y=df_pos[\"ts_selection_freq\"], name=f\"TS selection freq (n={n_rounds:,})\",\n",
    "            marker_color=\"darkorange\", opacity=0.85,\n",
    "            showlegend=(i == 1), row=i, col=1\n",
    "        )\n",
    "\n",
    "        # pretty axes per row\n",
    "        fig.update_yaxes(title_text=\"Value\", row=i, col=1)\n",
    "        fig.update_xaxes(\n",
    "            title_text=\"Action ID (0–{})\".format(n_actions-1) if i==len(positions) else \"\",\n",
    "            tickmode=\"array\",\n",
    "            tickvals=xs,\n",
    "            ticktext=[str(a) for a in xs],\n",
    "            row=i, col=1\n",
    "        )\n",
    "\n",
    "    fig.update_layout(\n",
    "        title=title or f\"Position-aware TS vs Empirical CTR (n_rounds={n_rounds:,})\",\n",
    "        barmode=\"group\", template=\"plotly_white\",\n",
    "        height=300*len(positions) + 100,\n",
    "    )\n",
    "    return fig, res\n"
   ]
  },
  {
   "cell_type": "code",
   "execution_count": 27,
   "id": "af14cc1b",
   "metadata": {},
   "outputs": [
    {
     "data": {
      "application/vnd.plotly.v1+json": {
       "config": {
        "plotlyServerURL": "https://plot.ly"
       },
       "data": [
        {
         "marker": {
          "color": "steelblue"
         },
         "name": "Empirical CTR",
         "opacity": 0.6,
         "showlegend": true,
         "type": "bar",
         "x": {
          "bdata": "AAECAwQFBgcICQoLDA0ODxAREhMUFRYXGBkaGxwdHh8gISIjJCUmJygpKissLS4vMDEyMzQ1Njc4OTo7PD0+P0BBQkNERUZHSElKS0xNTk8=",
          "dtype": "i1"
         },
         "xaxis": "x",
         "y": {
          "bdata": "AAAAAAAAAAB7FK5H4XqUPwAAAAAAAAAAAAAAAAAAAAAAAAAAAAAAAAAAAAAAAAAARhdddNFFlz+WexphuaeRPwAAAAAAAAAARhdddNFFlz8AAAAAAAAAAAAAAAAAAAAAAAAAAAAAAAAAAAAAAAAAAAAAAAAAAAAAAAAAAAAAAAAAAAAAAAAAAB4eHh4eHp4/AAAAAAAAAAAAAAAAAAAAAAAAAAAAAAAAAAAAAAAAAAAAAAAAAAAAAAAAAAAAAAAAAAAAAAAAAAAAAAAAAAAAAAAAAAAAAAAAAAAAAAAAAAAor6G8hvKaPwAAAAAAAAAAAAAAAAAAAAAAAAAAAAAAAAAAAAAAAAAAAAAAAAAAAAAAAAAAAAAAAAAAAAAAAAAAAAAAAAAAAAAAAAAAAAAAABzHcRzHcZw/AAAAAAAAAAAAAAAAAAAAAAAAAAAAAAAAAAAAAAAAAAAAAAAAAAAAAPoYnI/B+Zg/AAAAAAAAAAAAAAAAAAAAAAAAAAAAAAAAAAAAAAAAAAD6GJyPwfmoPwgffPDBB58/AAAAAAAAAAAAAAAAAAAAAAAAAAAAAAAAAAAAAAAAAAAAAAAAAAAAAAAAAAAAAAAAwXgr+xxSkz8AAAAAAAAAAAAAAAAAAAAAAAAAAAAAAAAAAAAAAAAAAAAAAAAAAAAAAAAAAAAAAAAAAAAAAAAAAAAAAAAAAAAAAAAAAAAAAAAAAAAAAAAAAAAAAAAAAAAAAAAAAAAAAAAAAAAAAAAAACivobyG8po/AAAAAAAAAAAAAAAAAAAAAAAAAAAAAAAAAAAAAAAAAAAAAAAAAAAAAAAAAAAAAAAAAAAAAAAAAAAAAAAAAAAAAA==",
          "dtype": "f8"
         },
         "yaxis": "y"
        },
        {
         "marker": {
          "color": "darkorange"
         },
         "name": "TS selection freq (n=1,000)",
         "opacity": 0.85,
         "showlegend": true,
         "type": "bar",
         "x": {
          "bdata": "AAECAwQFBgcICQoLDA0ODxAREhMUFRYXGBkaGxwdHh8gISIjJCUmJygpKissLS4vMDEyMzQ1Njc4OTo7PD0+P0BBQkNERUZHSElKS0xNTk8=",
          "dtype": "i1"
         },
         "xaxis": "x",
         "y": {
          "bdata": "ObTIdr6fij85tMh2vp+KP7pJDAIrh4Y/eekmMQisjD85tMh2vp+KP/p+arx0k4g/ObTIdr6fij+6SQwCK4eGP/p+arx0k4g/uB6F61G4jj+6SQwCK4eGPzm0yHa+n4o/ObTIdr6fij/6fmq8dJOIP/p+arx0k4g/+n5qvHSTiD956SYxCKyMPzm0yHa+n4o/eekmMQisjD+6SQwCK4eGP7pJDAIrh4Y/+n5qvHSTiD/6fmq8dJOIP7gehetRuI4/+n5qvHSTiD85tMh2vp+KP7pJDAIrh4Y/exSuR+F6hD+6SQwCK4eGPzm0yHa+n4o/eekmMQisjD85tMh2vp+KP3npJjEIrIw/ObTIdr6fij85tMh2vp+KP/p+arx0k4g/+n5qvHSTiD956SYxCKyMP9v5fmq8dJM/+n5qvHSTiD/6fmq8dJOIP/p+arx0k4g/ObTIdr6fij+6SQwCK4eGPzm0yHa+n4o/+n5qvHSTiD/6fmq8dJOIP/p+arx0k4g/+n5qvHSTiD8730+Nl26SP3npJjEIrIw/+n5qvHSTiD/6fmq8dJOIPzm0yHa+n4o/exSuR+F6hD/6fmq8dJOIPzm0yHa+n4o/+n5qvHSTiD/6fmq8dJOIP7pJDAIrh4Y/exSuR+F6hD956SYxCKyMP7pJDAIrh4Y/ukkMAiuHhj/6fmq8dJOIPzm0yHa+n4o/+n5qvHSTiD/6fmq8dJOIP3sUrkfheoQ/ObTIdr6fij/6fmq8dJOIPzvfT42XbpI/exSuR+F6hD/6fmq8dJOIPzm0yHa+n4o/+n5qvHSTiD956SYxCKyMP/p+arx0k4g/ObTIdr6fij97FK5H4XqEPw==",
          "dtype": "f8"
         },
         "yaxis": "y"
        },
        {
         "marker": {
          "color": "steelblue"
         },
         "name": "Empirical CTR",
         "opacity": 0.6,
         "showlegend": false,
         "type": "bar",
         "x": {
          "bdata": "AAECAwQFBgcICQoLDA0ODxAREhMUFRYXGBkaGxwdHh8gISIjJCUmJygpKissLS4vMDEyMzQ1Njc4OTo7PD0+P0BBQkNERUZHSElKS0xNTk8=",
          "dtype": "i1"
         },
         "xaxis": "x2",
         "y": {
          "bdata": "AAAAAAAAAAAAAAAAAAAAAAAAAAAAAAAAAAAAAAAAAAAAAAAAAAAAAAAAAAAAAAAAAAAAAAAAAAAAAAAAAAAAAAAAAAAAAAAAAAAAAAAAAAAAAAAAAAAAAAAAAAAAAAAAAAAAAAAAAAAAAAAAAAAAAAAAAAAAAAAAAAAAAAAAAAAAAAAAAAAAAAAAAAAAAAAAAAAAAAAAAAAAAAAAAAAAAAAAAAAAAAAAAAAAAAAAAAAAAAAAAAAAAAAAAAAAAAAAAAAAAAAAAAA5BS+n4OWUPwAAAAAAAAAAAAAAAAAAAAAAAAAAAAAAAAAAAAAAAAAAAAAAAAAAAAAAAAAAAAAAAAAAAAAAAAAAAAAAAAAAAAA5BS+n4OWUPwAAAAAAAAAAVxCTK4jJlT8AAAAAAAAAAAAAAAAAAAAAAAAAAAAAAAAAAAAAAAAAADkFL6fg5ZQ/AAAAAAAAAAAAAAAAAAAAAEYXXXTRRZc/exSuR+F6lD8AAAAAAAAAAB4eHh4eHp4/AAAAAAAAAAAXbMEWbMGWPwAAAAAAAAAAAAAAAAAAAAAAAAAAAAAAAFVVVVVVVaU/AAAAAAAAAAAAAAAAAAAAAAAAAAAAAAAAAAAAAAAAAAAor6G8hvKqPwAAAAAAAAAAAAAAAAAAAACamZmZmZmZPwAAAAAAAAAAAAAAAAAAAAAAAAAAAAAAACivobyG8po/AAAAAAAAAAAAAAAAAAAAAAAAAAAAAAAAAAAAAAAAAAAAAAAAAAAAAAAAAAAAAAAAAAAAAAAAAAAAAAAAAAAAAAAAAAAAAAAAAAAAAAAAAAAAAAAAAAAAAAAAAAAAAAAAAAAAAAAAAAAAAAAAAAAAAA==",
          "dtype": "f8"
         },
         "yaxis": "y2"
        },
        {
         "marker": {
          "color": "darkorange"
         },
         "name": "TS selection freq (n=1,000)",
         "opacity": 0.85,
         "showlegend": false,
         "type": "bar",
         "x": {
          "bdata": "AAECAwQFBgcICQoLDA0ODxAREhMUFRYXGBkaGxwdHh8gISIjJCUmJygpKissLS4vMDEyMzQ1Njc4OTo7PD0+P0BBQkNERUZHSElKS0xNTk8=",
          "dtype": "i1"
         },
         "xaxis": "x2",
         "y": {
          "bdata": "ukkMAiuHhj/6fmq8dJOIPzm0yHa+n4o/eekmMQisjD/6fmq8dJOIP/p+arx0k4g/ObTIdr6fij+6SQwCK4eGP3npJjEIrIw/ObTIdr6fij85tMh2vp+KP7pJDAIrh4Y/ukkMAiuHhj85tMh2vp+KPzm0yHa+n4o/ukkMAiuHhj85tMh2vp+KP7pJDAIrh4Y/ObTIdr6fij8730+Nl26CP/p+arx0k4g/ukkMAiuHhj85tMh2vp+KP3npJjEIrIw/ukkMAiuHhj85tMh2vp+KP7pJDAIrh4Y/ukkMAiuHhj956SYxCKyMP7pJDAIrh4Y/eekmMQisjD/6fmq8dJOIPzm0yHa+n4o/ukkMAiuHhj956SYxCKyMP3npJjEIrIw/O99PjZdukj/6fmq8dJOIPzm0yHa+n4o/+n5qvHSTiD85tMh2vp+KPzm0yHa+n4o/exSuR+F6hD85tMh2vp+KP7pJDAIrh4Y/O99PjZdukj85tMh2vp+KP/p+arx0k4g/ukkMAiuHhj85tMh2vp+KPzm0yHa+n4o/ObTIdr6fij/6fmq8dJOIPzm0yHa+n4o/ObTIdr6fij956SYxCKyMP3npJjEIrIw/+n5qvHSTiD85tMh2vp+KPzm0yHa+n4o/ObTIdr6fij+6SQwCK4eGP/p+arx0k4g/uB6F61G4jj85tMh2vp+KP/p+arx0k4g/+n5qvHSTiD+6SQwCK4eGP3sUrkfheoQ/uB6F61G4jj+6SQwCK4eGPzm0yHa+n4o/+n5qvHSTiD/6fmq8dJOIP/p+arx0k4g/+n5qvHSTiD/6fmq8dJOIP/p+arx0k4g/+n5qvHSTiD956SYxCKyMPw==",
          "dtype": "f8"
         },
         "yaxis": "y2"
        },
        {
         "marker": {
          "color": "steelblue"
         },
         "name": "Empirical CTR",
         "opacity": 0.6,
         "showlegend": false,
         "type": "bar",
         "x": {
          "bdata": "AAECAwQFBgcICQoLDA0ODxAREhMUFRYXGBkaGxwdHh8gISIjJCUmJygpKissLS4vMDEyMzQ1Njc4OTo7PD0+P0BBQkNERUZHSElKS0xNTk8=",
          "dtype": "i1"
         },
         "xaxis": "x3",
         "y": {
          "bdata": "AAAAAAAAAAAAAAAAAAAAAAAAAAAAAAAA+hicj8H5mD8AAAAAAAAAAAAAAAAAAAAAFBQUFBQUlD8AAAAAAAAAABQ7sRM7sZM/AAAAAAAAAAAAAAAAAAAAAAAAAAAAAAAAAAAAAAAAAAAAAAAAAAAAAAAAAAAAAAAAAAAAAAAAAAAAAAAAAAAAAAAAAAAAAAAAGIZhGIZhqD8AAAAAAAAAAAAAAAAAAAAAKK+hvIbymj8AAAAAAAAAAAAAAAAAAAAAAAAAAAAAAAAAAAAAAAAAAAAAAAAAAAAAAAAAAAAAAAAAAAAAAAAAAAAAAAAAAAAAAAAAAAAAAAAAAAAAAAAAAAAAAAAAAAAAAAAAAAAAAAAAAAAAAAAAAAAAAAAAAAAA0LrBFPmsmz8AAAAAAAAAAAAAAAAAAAAAAAAAAAAAAAAAAAAAAAAAAAAAAAAAAAAAAAAAAAAAAAAAAAAAAAAAAAAAAAAAAAAAAAAAAAAAAAANJ3VfHluRPwAAAAAAAAAAmpmZmZmZmT8AAAAAAAAAAAAAAAAAAAAAAAAAAAAAAAAAAAAAAAAAAAAAAAAAAAAAAAAAAAAAAAAAAAAAAAAAAAAAAAAAAAAAwXgr+xxSkz8AAAAAAAAAAAAAAAAAAAAAAAAAAAAAAAAAAAAAAAAAAAAAAAAAAAAAAAAAAAAAAAAAAAAAAAAAAAAAAAAAAAAAAAAAAAAAAAAAAAAAAAAAAAAAAAAAAAAAHdRBHdRBnT8AAAAAAAAAAAAAAAAAAAAAAAAAAAAAAAAAAAAAAAAAAAAAAAAAAAAAAAAAAAAAAAAAAAAAAAAAAAAAAAAAAAAAAAAAAAAAAAAAAAAAAAAAAA==",
          "dtype": "f8"
         },
         "yaxis": "y3"
        },
        {
         "marker": {
          "color": "darkorange"
         },
         "name": "TS selection freq (n=1,000)",
         "opacity": 0.85,
         "showlegend": false,
         "type": "bar",
         "x": {
          "bdata": "AAECAwQFBgcICQoLDA0ODxAREhMUFRYXGBkaGxwdHh8gISIjJCUmJygpKissLS4vMDEyMzQ1Njc4OTo7PD0+P0BBQkNERUZHSElKS0xNTk8=",
          "dtype": "i1"
         },
         "xaxis": "x3",
         "y": {
          "bdata": "ObTIdr6fij85tMh2vp+KP7pJDAIrh4Y/exSuR+F6lD/6fmq8dJOIPzm0yHa+n4o/+n5qvHSTiD97FK5H4XqEPzvfT42XbpI/ukkMAiuHhj/6fmq8dJOIP7pJDAIrh4Y/+n5qvHSTiD97FK5H4XqEPzm0yHa+n4o/+n5qvHSTiD85tMh2vp+KP/p+arx0k4g/exSuR+F6hD85tMh2vp+KPzm0yHa+n4o/eekmMQisjD85tMh2vp+KPzm0yHa+n4o/+n5qvHSTiD97FK5H4XqEP/p+arx0k4g/ObTIdr6fij/6fmq8dJOIPzm0yHa+n4o/ObTIdr6fij/6fmq8dJOIP/p+arx0k4g/ObTIdr6fij85tMh2vp+KP7pJDAIrh4Y/nMQgsHJokT/6fmq8dJOIP7gehetRuI4/+n5qvHSTiD85tMh2vp+KP3npJjEIrIw/+n5qvHSTiD/6fmq8dJOIP/p+arx0k4g/ukkMAiuHhj+6SQwCK4eGP7pJDAIrh4Y/WmQ730+Nlz+6SQwCK4eGP/p+arx0k4g/+n5qvHSTiD85tMh2vp+KP7pJDAIrh4Y/ObTIdr6fij+6SQwCK4eGP/p+arx0k4g/ObTIdr6fij/6fmq8dJOIP/p+arx0k4g/ukkMAiuHhj/6fmq8dJOIP/p+arx0k4g/ukkMAiuHhj+6SQwCK4eGP7pJDAIrh4Y/ObTIdr6fij+6SQwCK4eGPzm0yHa+n4o/ObTIdr6fij+6SQwCK4eGPzm0yHa+n4o/eekmMQisjD85tMh2vp+KP3npJjEIrIw/exSuR+F6hD+6SQwCK4eGPzm0yHa+n4o/eekmMQisjD/6fmq8dJOIPw==",
          "dtype": "f8"
         },
         "yaxis": "y3"
        }
       ],
       "layout": {
        "annotations": [
         {
          "font": {
           "size": 16
          },
          "showarrow": false,
          "text": "Position 0",
          "x": 0.5,
          "xanchor": "center",
          "xref": "paper",
          "y": 1,
          "yanchor": "bottom",
          "yref": "paper"
         },
         {
          "font": {
           "size": 16
          },
          "showarrow": false,
          "text": "Position 1",
          "x": 0.5,
          "xanchor": "center",
          "xref": "paper",
          "y": 0.6399999999999999,
          "yanchor": "bottom",
          "yref": "paper"
         },
         {
          "font": {
           "size": 16
          },
          "showarrow": false,
          "text": "Position 2",
          "x": 0.5,
          "xanchor": "center",
          "xref": "paper",
          "y": 0.27999999999999997,
          "yanchor": "bottom",
          "yref": "paper"
         }
        ],
        "barmode": "group",
        "height": 1000,
        "template": {
         "data": {
          "bar": [
           {
            "error_x": {
             "color": "#2a3f5f"
            },
            "error_y": {
             "color": "#2a3f5f"
            },
            "marker": {
             "line": {
              "color": "white",
              "width": 0.5
             },
             "pattern": {
              "fillmode": "overlay",
              "size": 10,
              "solidity": 0.2
             }
            },
            "type": "bar"
           }
          ],
          "barpolar": [
           {
            "marker": {
             "line": {
              "color": "white",
              "width": 0.5
             },
             "pattern": {
              "fillmode": "overlay",
              "size": 10,
              "solidity": 0.2
             }
            },
            "type": "barpolar"
           }
          ],
          "carpet": [
           {
            "aaxis": {
             "endlinecolor": "#2a3f5f",
             "gridcolor": "#C8D4E3",
             "linecolor": "#C8D4E3",
             "minorgridcolor": "#C8D4E3",
             "startlinecolor": "#2a3f5f"
            },
            "baxis": {
             "endlinecolor": "#2a3f5f",
             "gridcolor": "#C8D4E3",
             "linecolor": "#C8D4E3",
             "minorgridcolor": "#C8D4E3",
             "startlinecolor": "#2a3f5f"
            },
            "type": "carpet"
           }
          ],
          "choropleth": [
           {
            "colorbar": {
             "outlinewidth": 0,
             "ticks": ""
            },
            "type": "choropleth"
           }
          ],
          "contour": [
           {
            "colorbar": {
             "outlinewidth": 0,
             "ticks": ""
            },
            "colorscale": [
             [
              0,
              "#0d0887"
             ],
             [
              0.1111111111111111,
              "#46039f"
             ],
             [
              0.2222222222222222,
              "#7201a8"
             ],
             [
              0.3333333333333333,
              "#9c179e"
             ],
             [
              0.4444444444444444,
              "#bd3786"
             ],
             [
              0.5555555555555556,
              "#d8576b"
             ],
             [
              0.6666666666666666,
              "#ed7953"
             ],
             [
              0.7777777777777778,
              "#fb9f3a"
             ],
             [
              0.8888888888888888,
              "#fdca26"
             ],
             [
              1,
              "#f0f921"
             ]
            ],
            "type": "contour"
           }
          ],
          "contourcarpet": [
           {
            "colorbar": {
             "outlinewidth": 0,
             "ticks": ""
            },
            "type": "contourcarpet"
           }
          ],
          "heatmap": [
           {
            "colorbar": {
             "outlinewidth": 0,
             "ticks": ""
            },
            "colorscale": [
             [
              0,
              "#0d0887"
             ],
             [
              0.1111111111111111,
              "#46039f"
             ],
             [
              0.2222222222222222,
              "#7201a8"
             ],
             [
              0.3333333333333333,
              "#9c179e"
             ],
             [
              0.4444444444444444,
              "#bd3786"
             ],
             [
              0.5555555555555556,
              "#d8576b"
             ],
             [
              0.6666666666666666,
              "#ed7953"
             ],
             [
              0.7777777777777778,
              "#fb9f3a"
             ],
             [
              0.8888888888888888,
              "#fdca26"
             ],
             [
              1,
              "#f0f921"
             ]
            ],
            "type": "heatmap"
           }
          ],
          "histogram": [
           {
            "marker": {
             "pattern": {
              "fillmode": "overlay",
              "size": 10,
              "solidity": 0.2
             }
            },
            "type": "histogram"
           }
          ],
          "histogram2d": [
           {
            "colorbar": {
             "outlinewidth": 0,
             "ticks": ""
            },
            "colorscale": [
             [
              0,
              "#0d0887"
             ],
             [
              0.1111111111111111,
              "#46039f"
             ],
             [
              0.2222222222222222,
              "#7201a8"
             ],
             [
              0.3333333333333333,
              "#9c179e"
             ],
             [
              0.4444444444444444,
              "#bd3786"
             ],
             [
              0.5555555555555556,
              "#d8576b"
             ],
             [
              0.6666666666666666,
              "#ed7953"
             ],
             [
              0.7777777777777778,
              "#fb9f3a"
             ],
             [
              0.8888888888888888,
              "#fdca26"
             ],
             [
              1,
              "#f0f921"
             ]
            ],
            "type": "histogram2d"
           }
          ],
          "histogram2dcontour": [
           {
            "colorbar": {
             "outlinewidth": 0,
             "ticks": ""
            },
            "colorscale": [
             [
              0,
              "#0d0887"
             ],
             [
              0.1111111111111111,
              "#46039f"
             ],
             [
              0.2222222222222222,
              "#7201a8"
             ],
             [
              0.3333333333333333,
              "#9c179e"
             ],
             [
              0.4444444444444444,
              "#bd3786"
             ],
             [
              0.5555555555555556,
              "#d8576b"
             ],
             [
              0.6666666666666666,
              "#ed7953"
             ],
             [
              0.7777777777777778,
              "#fb9f3a"
             ],
             [
              0.8888888888888888,
              "#fdca26"
             ],
             [
              1,
              "#f0f921"
             ]
            ],
            "type": "histogram2dcontour"
           }
          ],
          "mesh3d": [
           {
            "colorbar": {
             "outlinewidth": 0,
             "ticks": ""
            },
            "type": "mesh3d"
           }
          ],
          "parcoords": [
           {
            "line": {
             "colorbar": {
              "outlinewidth": 0,
              "ticks": ""
             }
            },
            "type": "parcoords"
           }
          ],
          "pie": [
           {
            "automargin": true,
            "type": "pie"
           }
          ],
          "scatter": [
           {
            "fillpattern": {
             "fillmode": "overlay",
             "size": 10,
             "solidity": 0.2
            },
            "type": "scatter"
           }
          ],
          "scatter3d": [
           {
            "line": {
             "colorbar": {
              "outlinewidth": 0,
              "ticks": ""
             }
            },
            "marker": {
             "colorbar": {
              "outlinewidth": 0,
              "ticks": ""
             }
            },
            "type": "scatter3d"
           }
          ],
          "scattercarpet": [
           {
            "marker": {
             "colorbar": {
              "outlinewidth": 0,
              "ticks": ""
             }
            },
            "type": "scattercarpet"
           }
          ],
          "scattergeo": [
           {
            "marker": {
             "colorbar": {
              "outlinewidth": 0,
              "ticks": ""
             }
            },
            "type": "scattergeo"
           }
          ],
          "scattergl": [
           {
            "marker": {
             "colorbar": {
              "outlinewidth": 0,
              "ticks": ""
             }
            },
            "type": "scattergl"
           }
          ],
          "scattermap": [
           {
            "marker": {
             "colorbar": {
              "outlinewidth": 0,
              "ticks": ""
             }
            },
            "type": "scattermap"
           }
          ],
          "scattermapbox": [
           {
            "marker": {
             "colorbar": {
              "outlinewidth": 0,
              "ticks": ""
             }
            },
            "type": "scattermapbox"
           }
          ],
          "scatterpolar": [
           {
            "marker": {
             "colorbar": {
              "outlinewidth": 0,
              "ticks": ""
             }
            },
            "type": "scatterpolar"
           }
          ],
          "scatterpolargl": [
           {
            "marker": {
             "colorbar": {
              "outlinewidth": 0,
              "ticks": ""
             }
            },
            "type": "scatterpolargl"
           }
          ],
          "scatterternary": [
           {
            "marker": {
             "colorbar": {
              "outlinewidth": 0,
              "ticks": ""
             }
            },
            "type": "scatterternary"
           }
          ],
          "surface": [
           {
            "colorbar": {
             "outlinewidth": 0,
             "ticks": ""
            },
            "colorscale": [
             [
              0,
              "#0d0887"
             ],
             [
              0.1111111111111111,
              "#46039f"
             ],
             [
              0.2222222222222222,
              "#7201a8"
             ],
             [
              0.3333333333333333,
              "#9c179e"
             ],
             [
              0.4444444444444444,
              "#bd3786"
             ],
             [
              0.5555555555555556,
              "#d8576b"
             ],
             [
              0.6666666666666666,
              "#ed7953"
             ],
             [
              0.7777777777777778,
              "#fb9f3a"
             ],
             [
              0.8888888888888888,
              "#fdca26"
             ],
             [
              1,
              "#f0f921"
             ]
            ],
            "type": "surface"
           }
          ],
          "table": [
           {
            "cells": {
             "fill": {
              "color": "#EBF0F8"
             },
             "line": {
              "color": "white"
             }
            },
            "header": {
             "fill": {
              "color": "#C8D4E3"
             },
             "line": {
              "color": "white"
             }
            },
            "type": "table"
           }
          ]
         },
         "layout": {
          "annotationdefaults": {
           "arrowcolor": "#2a3f5f",
           "arrowhead": 0,
           "arrowwidth": 1
          },
          "autotypenumbers": "strict",
          "coloraxis": {
           "colorbar": {
            "outlinewidth": 0,
            "ticks": ""
           }
          },
          "colorscale": {
           "diverging": [
            [
             0,
             "#8e0152"
            ],
            [
             0.1,
             "#c51b7d"
            ],
            [
             0.2,
             "#de77ae"
            ],
            [
             0.3,
             "#f1b6da"
            ],
            [
             0.4,
             "#fde0ef"
            ],
            [
             0.5,
             "#f7f7f7"
            ],
            [
             0.6,
             "#e6f5d0"
            ],
            [
             0.7,
             "#b8e186"
            ],
            [
             0.8,
             "#7fbc41"
            ],
            [
             0.9,
             "#4d9221"
            ],
            [
             1,
             "#276419"
            ]
           ],
           "sequential": [
            [
             0,
             "#0d0887"
            ],
            [
             0.1111111111111111,
             "#46039f"
            ],
            [
             0.2222222222222222,
             "#7201a8"
            ],
            [
             0.3333333333333333,
             "#9c179e"
            ],
            [
             0.4444444444444444,
             "#bd3786"
            ],
            [
             0.5555555555555556,
             "#d8576b"
            ],
            [
             0.6666666666666666,
             "#ed7953"
            ],
            [
             0.7777777777777778,
             "#fb9f3a"
            ],
            [
             0.8888888888888888,
             "#fdca26"
            ],
            [
             1,
             "#f0f921"
            ]
           ],
           "sequentialminus": [
            [
             0,
             "#0d0887"
            ],
            [
             0.1111111111111111,
             "#46039f"
            ],
            [
             0.2222222222222222,
             "#7201a8"
            ],
            [
             0.3333333333333333,
             "#9c179e"
            ],
            [
             0.4444444444444444,
             "#bd3786"
            ],
            [
             0.5555555555555556,
             "#d8576b"
            ],
            [
             0.6666666666666666,
             "#ed7953"
            ],
            [
             0.7777777777777778,
             "#fb9f3a"
            ],
            [
             0.8888888888888888,
             "#fdca26"
            ],
            [
             1,
             "#f0f921"
            ]
           ]
          },
          "colorway": [
           "#636efa",
           "#EF553B",
           "#00cc96",
           "#ab63fa",
           "#FFA15A",
           "#19d3f3",
           "#FF6692",
           "#B6E880",
           "#FF97FF",
           "#FECB52"
          ],
          "font": {
           "color": "#2a3f5f"
          },
          "geo": {
           "bgcolor": "white",
           "lakecolor": "white",
           "landcolor": "white",
           "showlakes": true,
           "showland": true,
           "subunitcolor": "#C8D4E3"
          },
          "hoverlabel": {
           "align": "left"
          },
          "hovermode": "closest",
          "mapbox": {
           "style": "light"
          },
          "paper_bgcolor": "white",
          "plot_bgcolor": "white",
          "polar": {
           "angularaxis": {
            "gridcolor": "#EBF0F8",
            "linecolor": "#EBF0F8",
            "ticks": ""
           },
           "bgcolor": "white",
           "radialaxis": {
            "gridcolor": "#EBF0F8",
            "linecolor": "#EBF0F8",
            "ticks": ""
           }
          },
          "scene": {
           "xaxis": {
            "backgroundcolor": "white",
            "gridcolor": "#DFE8F3",
            "gridwidth": 2,
            "linecolor": "#EBF0F8",
            "showbackground": true,
            "ticks": "",
            "zerolinecolor": "#EBF0F8"
           },
           "yaxis": {
            "backgroundcolor": "white",
            "gridcolor": "#DFE8F3",
            "gridwidth": 2,
            "linecolor": "#EBF0F8",
            "showbackground": true,
            "ticks": "",
            "zerolinecolor": "#EBF0F8"
           },
           "zaxis": {
            "backgroundcolor": "white",
            "gridcolor": "#DFE8F3",
            "gridwidth": 2,
            "linecolor": "#EBF0F8",
            "showbackground": true,
            "ticks": "",
            "zerolinecolor": "#EBF0F8"
           }
          },
          "shapedefaults": {
           "line": {
            "color": "#2a3f5f"
           }
          },
          "ternary": {
           "aaxis": {
            "gridcolor": "#DFE8F3",
            "linecolor": "#A2B1C6",
            "ticks": ""
           },
           "baxis": {
            "gridcolor": "#DFE8F3",
            "linecolor": "#A2B1C6",
            "ticks": ""
           },
           "bgcolor": "white",
           "caxis": {
            "gridcolor": "#DFE8F3",
            "linecolor": "#A2B1C6",
            "ticks": ""
           }
          },
          "title": {
           "x": 0.05
          },
          "xaxis": {
           "automargin": true,
           "gridcolor": "#EBF0F8",
           "linecolor": "#EBF0F8",
           "ticks": "",
           "title": {
            "standoff": 15
           },
           "zerolinecolor": "#EBF0F8",
           "zerolinewidth": 2
          },
          "yaxis": {
           "automargin": true,
           "gridcolor": "#EBF0F8",
           "linecolor": "#EBF0F8",
           "ticks": "",
           "title": {
            "standoff": 15
           },
           "zerolinecolor": "#EBF0F8",
           "zerolinewidth": 2
          }
         }
        },
        "title": {
         "text": "Thompson Sampling per position after 1000 rounds"
        },
        "xaxis": {
         "anchor": "y",
         "domain": [
          0,
          1
         ],
         "tickmode": "array",
         "ticktext": [
          "0",
          "1",
          "2",
          "3",
          "4",
          "5",
          "6",
          "7",
          "8",
          "9",
          "10",
          "11",
          "12",
          "13",
          "14",
          "15",
          "16",
          "17",
          "18",
          "19",
          "20",
          "21",
          "22",
          "23",
          "24",
          "25",
          "26",
          "27",
          "28",
          "29",
          "30",
          "31",
          "32",
          "33",
          "34",
          "35",
          "36",
          "37",
          "38",
          "39",
          "40",
          "41",
          "42",
          "43",
          "44",
          "45",
          "46",
          "47",
          "48",
          "49",
          "50",
          "51",
          "52",
          "53",
          "54",
          "55",
          "56",
          "57",
          "58",
          "59",
          "60",
          "61",
          "62",
          "63",
          "64",
          "65",
          "66",
          "67",
          "68",
          "69",
          "70",
          "71",
          "72",
          "73",
          "74",
          "75",
          "76",
          "77",
          "78",
          "79"
         ],
         "tickvals": {
          "bdata": "AAECAwQFBgcICQoLDA0ODxAREhMUFRYXGBkaGxwdHh8gISIjJCUmJygpKissLS4vMDEyMzQ1Njc4OTo7PD0+P0BBQkNERUZHSElKS0xNTk8=",
          "dtype": "i1"
         },
         "title": {
          "text": ""
         }
        },
        "xaxis2": {
         "anchor": "y2",
         "domain": [
          0,
          1
         ],
         "tickmode": "array",
         "ticktext": [
          "0",
          "1",
          "2",
          "3",
          "4",
          "5",
          "6",
          "7",
          "8",
          "9",
          "10",
          "11",
          "12",
          "13",
          "14",
          "15",
          "16",
          "17",
          "18",
          "19",
          "20",
          "21",
          "22",
          "23",
          "24",
          "25",
          "26",
          "27",
          "28",
          "29",
          "30",
          "31",
          "32",
          "33",
          "34",
          "35",
          "36",
          "37",
          "38",
          "39",
          "40",
          "41",
          "42",
          "43",
          "44",
          "45",
          "46",
          "47",
          "48",
          "49",
          "50",
          "51",
          "52",
          "53",
          "54",
          "55",
          "56",
          "57",
          "58",
          "59",
          "60",
          "61",
          "62",
          "63",
          "64",
          "65",
          "66",
          "67",
          "68",
          "69",
          "70",
          "71",
          "72",
          "73",
          "74",
          "75",
          "76",
          "77",
          "78",
          "79"
         ],
         "tickvals": {
          "bdata": "AAECAwQFBgcICQoLDA0ODxAREhMUFRYXGBkaGxwdHh8gISIjJCUmJygpKissLS4vMDEyMzQ1Njc4OTo7PD0+P0BBQkNERUZHSElKS0xNTk8=",
          "dtype": "i1"
         },
         "title": {
          "text": ""
         }
        },
        "xaxis3": {
         "anchor": "y3",
         "domain": [
          0,
          1
         ],
         "tickmode": "array",
         "ticktext": [
          "0",
          "1",
          "2",
          "3",
          "4",
          "5",
          "6",
          "7",
          "8",
          "9",
          "10",
          "11",
          "12",
          "13",
          "14",
          "15",
          "16",
          "17",
          "18",
          "19",
          "20",
          "21",
          "22",
          "23",
          "24",
          "25",
          "26",
          "27",
          "28",
          "29",
          "30",
          "31",
          "32",
          "33",
          "34",
          "35",
          "36",
          "37",
          "38",
          "39",
          "40",
          "41",
          "42",
          "43",
          "44",
          "45",
          "46",
          "47",
          "48",
          "49",
          "50",
          "51",
          "52",
          "53",
          "54",
          "55",
          "56",
          "57",
          "58",
          "59",
          "60",
          "61",
          "62",
          "63",
          "64",
          "65",
          "66",
          "67",
          "68",
          "69",
          "70",
          "71",
          "72",
          "73",
          "74",
          "75",
          "76",
          "77",
          "78",
          "79"
         ],
         "tickvals": {
          "bdata": "AAECAwQFBgcICQoLDA0ODxAREhMUFRYXGBkaGxwdHh8gISIjJCUmJygpKissLS4vMDEyMzQ1Njc4OTo7PD0+P0BBQkNERUZHSElKS0xNTk8=",
          "dtype": "i1"
         },
         "title": {
          "text": "Action ID (0–79)"
         }
        },
        "yaxis": {
         "anchor": "x",
         "domain": [
          0.72,
          1
         ],
         "title": {
          "text": "Value"
         }
        },
        "yaxis2": {
         "anchor": "x2",
         "domain": [
          0.36,
          0.6399999999999999
         ],
         "title": {
          "text": "Value"
         }
        },
        "yaxis3": {
         "anchor": "x3",
         "domain": [
          0,
          0.27999999999999997
         ],
         "title": {
          "text": "Value"
         }
        }
       }
      }
     },
     "metadata": {},
     "output_type": "display_data"
    },
    {
     "data": {
      "text/html": [
       "<div>\n",
       "<style scoped>\n",
       "    .dataframe tbody tr th:only-of-type {\n",
       "        vertical-align: middle;\n",
       "    }\n",
       "\n",
       "    .dataframe tbody tr th {\n",
       "        vertical-align: top;\n",
       "    }\n",
       "\n",
       "    .dataframe thead th {\n",
       "        text-align: right;\n",
       "    }\n",
       "</style>\n",
       "<table border=\"1\" class=\"dataframe\">\n",
       "  <thead>\n",
       "    <tr style=\"text-align: right;\">\n",
       "      <th></th>\n",
       "      <th>position</th>\n",
       "      <th>action</th>\n",
       "      <th>empirical_ctr</th>\n",
       "      <th>ts_selection_freq</th>\n",
       "      <th>alpha_final</th>\n",
       "      <th>beta_final</th>\n",
       "      <th>impressions</th>\n",
       "    </tr>\n",
       "  </thead>\n",
       "  <tbody>\n",
       "    <tr>\n",
       "      <th>38</th>\n",
       "      <td>0</td>\n",
       "      <td>38</td>\n",
       "      <td>0.027778</td>\n",
       "      <td>0.019</td>\n",
       "      <td>2.0</td>\n",
       "      <td>19.0</td>\n",
       "      <td>36</td>\n",
       "    </tr>\n",
       "    <tr>\n",
       "      <th>49</th>\n",
       "      <td>0</td>\n",
       "      <td>49</td>\n",
       "      <td>0.048780</td>\n",
       "      <td>0.018</td>\n",
       "      <td>2.0</td>\n",
       "      <td>18.0</td>\n",
       "      <td>41</td>\n",
       "    </tr>\n",
       "    <tr>\n",
       "      <th>71</th>\n",
       "      <td>0</td>\n",
       "      <td>71</td>\n",
       "      <td>0.026316</td>\n",
       "      <td>0.018</td>\n",
       "      <td>2.0</td>\n",
       "      <td>18.0</td>\n",
       "      <td>38</td>\n",
       "    </tr>\n",
       "    <tr>\n",
       "      <th>9</th>\n",
       "      <td>0</td>\n",
       "      <td>9</td>\n",
       "      <td>0.022727</td>\n",
       "      <td>0.015</td>\n",
       "      <td>1.0</td>\n",
       "      <td>16.0</td>\n",
       "      <td>44</td>\n",
       "    </tr>\n",
       "    <tr>\n",
       "      <th>23</th>\n",
       "      <td>0</td>\n",
       "      <td>23</td>\n",
       "      <td>0.000000</td>\n",
       "      <td>0.015</td>\n",
       "      <td>1.0</td>\n",
       "      <td>16.0</td>\n",
       "      <td>40</td>\n",
       "    </tr>\n",
       "    <tr>\n",
       "      <th>116</th>\n",
       "      <td>1</td>\n",
       "      <td>36</td>\n",
       "      <td>0.021277</td>\n",
       "      <td>0.018</td>\n",
       "      <td>2.0</td>\n",
       "      <td>18.0</td>\n",
       "      <td>47</td>\n",
       "    </tr>\n",
       "    <tr>\n",
       "      <th>125</th>\n",
       "      <td>1</td>\n",
       "      <td>45</td>\n",
       "      <td>0.020000</td>\n",
       "      <td>0.018</td>\n",
       "      <td>2.0</td>\n",
       "      <td>18.0</td>\n",
       "      <td>50</td>\n",
       "    </tr>\n",
       "    <tr>\n",
       "      <th>143</th>\n",
       "      <td>1</td>\n",
       "      <td>63</td>\n",
       "      <td>0.000000</td>\n",
       "      <td>0.015</td>\n",
       "      <td>1.0</td>\n",
       "      <td>16.0</td>\n",
       "      <td>39</td>\n",
       "    </tr>\n",
       "    <tr>\n",
       "      <th>149</th>\n",
       "      <td>1</td>\n",
       "      <td>69</td>\n",
       "      <td>0.000000</td>\n",
       "      <td>0.015</td>\n",
       "      <td>1.0</td>\n",
       "      <td>16.0</td>\n",
       "      <td>48</td>\n",
       "    </tr>\n",
       "    <tr>\n",
       "      <th>83</th>\n",
       "      <td>1</td>\n",
       "      <td>3</td>\n",
       "      <td>0.000000</td>\n",
       "      <td>0.014</td>\n",
       "      <td>1.0</td>\n",
       "      <td>15.0</td>\n",
       "      <td>50</td>\n",
       "    </tr>\n",
       "    <tr>\n",
       "      <th>208</th>\n",
       "      <td>2</td>\n",
       "      <td>48</td>\n",
       "      <td>0.025000</td>\n",
       "      <td>0.023</td>\n",
       "      <td>3.0</td>\n",
       "      <td>22.0</td>\n",
       "      <td>40</td>\n",
       "    </tr>\n",
       "    <tr>\n",
       "      <th>163</th>\n",
       "      <td>2</td>\n",
       "      <td>3</td>\n",
       "      <td>0.024390</td>\n",
       "      <td>0.020</td>\n",
       "      <td>2.0</td>\n",
       "      <td>20.0</td>\n",
       "      <td>41</td>\n",
       "    </tr>\n",
       "    <tr>\n",
       "      <th>168</th>\n",
       "      <td>2</td>\n",
       "      <td>8</td>\n",
       "      <td>0.019231</td>\n",
       "      <td>0.018</td>\n",
       "      <td>2.0</td>\n",
       "      <td>18.0</td>\n",
       "      <td>52</td>\n",
       "    </tr>\n",
       "    <tr>\n",
       "      <th>196</th>\n",
       "      <td>2</td>\n",
       "      <td>36</td>\n",
       "      <td>0.027027</td>\n",
       "      <td>0.017</td>\n",
       "      <td>2.0</td>\n",
       "      <td>17.0</td>\n",
       "      <td>37</td>\n",
       "    </tr>\n",
       "    <tr>\n",
       "      <th>198</th>\n",
       "      <td>2</td>\n",
       "      <td>38</td>\n",
       "      <td>0.000000</td>\n",
       "      <td>0.015</td>\n",
       "      <td>1.0</td>\n",
       "      <td>16.0</td>\n",
       "      <td>39</td>\n",
       "    </tr>\n",
       "  </tbody>\n",
       "</table>\n",
       "</div>"
      ],
      "text/plain": [
       "     position  action  empirical_ctr  ts_selection_freq  alpha_final  \\\n",
       "38          0      38       0.027778              0.019          2.0   \n",
       "49          0      49       0.048780              0.018          2.0   \n",
       "71          0      71       0.026316              0.018          2.0   \n",
       "9           0       9       0.022727              0.015          1.0   \n",
       "23          0      23       0.000000              0.015          1.0   \n",
       "116         1      36       0.021277              0.018          2.0   \n",
       "125         1      45       0.020000              0.018          2.0   \n",
       "143         1      63       0.000000              0.015          1.0   \n",
       "149         1      69       0.000000              0.015          1.0   \n",
       "83          1       3       0.000000              0.014          1.0   \n",
       "208         2      48       0.025000              0.023          3.0   \n",
       "163         2       3       0.024390              0.020          2.0   \n",
       "168         2       8       0.019231              0.018          2.0   \n",
       "196         2      36       0.027027              0.017          2.0   \n",
       "198         2      38       0.000000              0.015          1.0   \n",
       "\n",
       "     beta_final  impressions  \n",
       "38         19.0           36  \n",
       "49         18.0           41  \n",
       "71         18.0           38  \n",
       "9          16.0           44  \n",
       "23         16.0           40  \n",
       "116        18.0           47  \n",
       "125        18.0           50  \n",
       "143        16.0           39  \n",
       "149        16.0           48  \n",
       "83         15.0           50  \n",
       "208        22.0           40  \n",
       "163        20.0           41  \n",
       "168        18.0           52  \n",
       "196        17.0           37  \n",
       "198        16.0           39  "
      ]
     },
     "execution_count": 27,
     "metadata": {},
     "output_type": "execute_result"
    }
   ],
   "source": [
    "\n",
    "K = bf[\"n_actions\"]\n",
    "fig, res = run_ts_by_position_and_plot(\n",
    "    df=df,\n",
    "    n_actions=K,\n",
    "    positions=[0,1,2],\n",
    "    n_rounds=1000,   # try 100, 1_000, 10_000\n",
    "    seed=7,\n",
    "    alpha0=1.0, beta0=1.0,\n",
    "    title=\"Thompson Sampling per position after 1000 rounds\"\n",
    ")\n",
    "fig.show()\n",
    "\n",
    "# Inspect top actions TS focused on at each position:\n",
    "(res.sort_values([\"position\",\"ts_selection_freq\"], ascending=[True,False])\n",
    "    .groupby(\"position\").head(5))"
   ]
  },
  {
   "cell_type": "code",
   "execution_count": 28,
   "id": "8bf78945",
   "metadata": {},
   "outputs": [
    {
     "data": {
      "application/vnd.plotly.v1+json": {
       "config": {
        "plotlyServerURL": "https://plot.ly"
       },
       "data": [
        {
         "marker": {
          "color": "steelblue"
         },
         "name": "Empirical CTR",
         "opacity": 0.6,
         "showlegend": true,
         "type": "bar",
         "x": {
          "bdata": "AAECAwQFBgcICQoLDA0ODxAREhMUFRYXGBkaGxwdHh8gISIjJCUmJygpKissLS4vMDEyMzQ1Njc4OTo7PD0+P0BBQkNERUZHSElKS0xNTk8=",
          "dtype": "i1"
         },
         "xaxis": "x",
         "y": {
          "bdata": "AAAAAAAAAAB7FK5H4XqUPwAAAAAAAAAAAAAAAAAAAAAAAAAAAAAAAAAAAAAAAAAARhdddNFFlz+WexphuaeRPwAAAAAAAAAARhdddNFFlz8AAAAAAAAAAAAAAAAAAAAAAAAAAAAAAAAAAAAAAAAAAAAAAAAAAAAAAAAAAAAAAAAAAAAAAAAAAB4eHh4eHp4/AAAAAAAAAAAAAAAAAAAAAAAAAAAAAAAAAAAAAAAAAAAAAAAAAAAAAAAAAAAAAAAAAAAAAAAAAAAAAAAAAAAAAAAAAAAAAAAAAAAAAAAAAAAor6G8hvKaPwAAAAAAAAAAAAAAAAAAAAAAAAAAAAAAAAAAAAAAAAAAAAAAAAAAAAAAAAAAAAAAAAAAAAAAAAAAAAAAAAAAAAAAAAAAAAAAABzHcRzHcZw/AAAAAAAAAAAAAAAAAAAAAAAAAAAAAAAAAAAAAAAAAAAAAAAAAAAAAPoYnI/B+Zg/AAAAAAAAAAAAAAAAAAAAAAAAAAAAAAAAAAAAAAAAAAD6GJyPwfmoPwgffPDBB58/AAAAAAAAAAAAAAAAAAAAAAAAAAAAAAAAAAAAAAAAAAAAAAAAAAAAAAAAAAAAAAAAwXgr+xxSkz8AAAAAAAAAAAAAAAAAAAAAAAAAAAAAAAAAAAAAAAAAAAAAAAAAAAAAAAAAAAAAAAAAAAAAAAAAAAAAAAAAAAAAAAAAAAAAAAAAAAAAAAAAAAAAAAAAAAAAAAAAAAAAAAAAAAAAAAAAACivobyG8po/AAAAAAAAAAAAAAAAAAAAAAAAAAAAAAAAAAAAAAAAAAAAAAAAAAAAAAAAAAAAAAAAAAAAAAAAAAAAAAAAAAAAAA==",
          "dtype": "f8"
         },
         "yaxis": "y"
        },
        {
         "marker": {
          "color": "darkorange"
         },
         "name": "TS selection freq (n=10,000)",
         "opacity": 0.85,
         "showlegend": true,
         "type": "bar",
         "x": {
          "bdata": "AAECAwQFBgcICQoLDA0ODxAREhMUFRYXGBkaGxwdHh8gISIjJCUmJygpKissLS4vMDEyMzQ1Njc4OTo7PD0+P0BBQkNERUZHSElKS0xNTk8=",
          "dtype": "i1"
         },
         "xaxis": "x",
         "y": {
          "bdata": "9dvXgXNGhD8JG55eKcuQP3sUrkfheoQ/6Gor9pfdgz8BTYQNT6+EP3sUrkfheoQ/HThnRGlvoD/Sb18HzhmRP1XBqKROQIM/wOyePCzUij/oaiv2l92DPwFNhA1Pr4Q/YTJVMCqpgz9uowG8BRKEP/Xb14FzRoQ/bqMBvAUShD/oaiv2l92DP3sUrkfhepQ/YTJVMCqpgz/OiNLe4AuDP4iFWtO844Q/zojS3uALgz/129eBc0aEP6Fns+pztYU/AU2EDU+vhD+hZ7Pqc7WFP/Xb14FzRoQ/bqMBvAUShD/F/rJ78rCQP+hqK/aX3YM/2/l+arx0gz/129eBc0aEP2EyVTAqqYM/Gy/dJAaBhT/oaiv2l92DP/Xb14FzRoQ/2/l+arx0gz8BTYQNT6+EP6CJsOHplaI/9dvXgXNGhD/oaiv2l92DP+hqK/aX3YM/iIVa07zjhD9IUPwYc9eCPw6+MJkqGIU/Dr4wmSoYhT8bL90kBoGFP9v5fmq8dIM/exSuR+F6hD/Y8PRKWYa4P+hqK/aX3ZM/AU2EDU+vhD97FK5H4XqEP/Xb14FzRoQ/VcGopE5Agz8BTYQNT6+EP/Xb14FzRoQ/ZRniWBe3kT9uowG8BRKEPxsv3SQGgYU/9dvXgXNGhD/129eBc0aEP3sUrkfheoQ/AU2EDU+vhD8BTYQNT6+EPw6+MJkqGIU/6Gor9pfdgz97FK5H4XqEPwFNhA1Pr4Q/iIVa07zjhD/OiNLe4AuDP+eMKO0NvqA/bqMBvAUShD8OvjCZKhiFP+hqK/aX3YM/bqMBvAUShD8BTYQNT6+EP4iFWtO844Q/AU2EDU+vhD/129eBc0aEPw==",
          "dtype": "f8"
         },
         "yaxis": "y"
        },
        {
         "marker": {
          "color": "steelblue"
         },
         "name": "Empirical CTR",
         "opacity": 0.6,
         "showlegend": false,
         "type": "bar",
         "x": {
          "bdata": "AAECAwQFBgcICQoLDA0ODxAREhMUFRYXGBkaGxwdHh8gISIjJCUmJygpKissLS4vMDEyMzQ1Njc4OTo7PD0+P0BBQkNERUZHSElKS0xNTk8=",
          "dtype": "i1"
         },
         "xaxis": "x2",
         "y": {
          "bdata": "AAAAAAAAAAAAAAAAAAAAAAAAAAAAAAAAAAAAAAAAAAAAAAAAAAAAAAAAAAAAAAAAAAAAAAAAAAAAAAAAAAAAAAAAAAAAAAAAAAAAAAAAAAAAAAAAAAAAAAAAAAAAAAAAAAAAAAAAAAAAAAAAAAAAAAAAAAAAAAAAAAAAAAAAAAAAAAAAAAAAAAAAAAAAAAAAAAAAAAAAAAAAAAAAAAAAAAAAAAAAAAAAAAAAAAAAAAAAAAAAAAAAAAAAAAAAAAAAAAAAAAAAAAA5BS+n4OWUPwAAAAAAAAAAAAAAAAAAAAAAAAAAAAAAAAAAAAAAAAAAAAAAAAAAAAAAAAAAAAAAAAAAAAAAAAAAAAAAAAAAAAA5BS+n4OWUPwAAAAAAAAAAVxCTK4jJlT8AAAAAAAAAAAAAAAAAAAAAAAAAAAAAAAAAAAAAAAAAADkFL6fg5ZQ/AAAAAAAAAAAAAAAAAAAAAEYXXXTRRZc/exSuR+F6lD8AAAAAAAAAAB4eHh4eHp4/AAAAAAAAAAAXbMEWbMGWPwAAAAAAAAAAAAAAAAAAAAAAAAAAAAAAAFVVVVVVVaU/AAAAAAAAAAAAAAAAAAAAAAAAAAAAAAAAAAAAAAAAAAAor6G8hvKqPwAAAAAAAAAAAAAAAAAAAACamZmZmZmZPwAAAAAAAAAAAAAAAAAAAAAAAAAAAAAAACivobyG8po/AAAAAAAAAAAAAAAAAAAAAAAAAAAAAAAAAAAAAAAAAAAAAAAAAAAAAAAAAAAAAAAAAAAAAAAAAAAAAAAAAAAAAAAAAAAAAAAAAAAAAAAAAAAAAAAAAAAAAAAAAAAAAAAAAAAAAAAAAAAAAAAAAAAAAA==",
          "dtype": "f8"
         },
         "yaxis": "y2"
        },
        {
         "marker": {
          "color": "darkorange"
         },
         "name": "TS selection freq (n=10,000)",
         "opacity": 0.85,
         "showlegend": false,
         "type": "bar",
         "x": {
          "bdata": "AAECAwQFBgcICQoLDA0ODxAREhMUFRYXGBkaGxwdHh8gISIjJCUmJygpKissLS4vMDEyMzQ1Njc4OTo7PD0+P0BBQkNERUZHSElKS0xNTk8=",
          "dtype": "i1"
         },
         "xaxis": "x2",
         "y": {
          "bdata": "L26jAbwFgj/CFyZTBaOCP86I0t7gC4M/VcGopE5Agz/OiNLe4AuDPy9uowG8BYI/taZ5xyk6gj9hMlUwKqmDP8IXJlMFo4I/whcmUwWjgj/OiNLe4AuDP86I0t7gC4M/whcmUwWjgj/CFyZTBaOCPy9uowG8BYI/zojS3uALgz9IUPwYc9eCP8IXJlMFo4I/zojS3uALgz8vbqMBvAWCP8IXJlMFo4I/2/l+arx0gz/OiNLe4AuDP0hQ/Bhz14I/zojS3uALgz/oaiv2l92TP8IXJlMFo4I/L26jAbwFgj/CFyZTBaOCP6g1zTtO0YE/zojS3uALgz9IUPwYc9eCP0hQ/Bhz14I/O99PjZdugj8730+Nl26CP6g1zTtO0YE/O99PjZdukj/b+X5qvHSDPzvfT42XboI/zojS3uALgz+1pnnHKTqCP5qZmZmZmYk/whcmUwWjgj8730+Nl26CP6rx0k1iEJg/OPjCZKpglD8730+Nl26CPwfwFkhQ/Jg/2/l+arx0gz97FK5H4XqUPzvfT42XboI/zojS3uALgz+1pnnHKTqCP0hQ/Bhz14I/taZ5xyk6gj/OiNLe4AuDP8IXJlMFo4I/qDXNO07RgT+kcD0K16PIP0hQ/Bhz14I/nMQgsHJogT+xv+yePCyUP8IXJlMFo4I/taZ5xyk6gj/CFyZTBaOCP1pkO99PjYc/zojS3uALgz+1pnnHKTqCP0hQ/Bhz14I/2/l+arx0gz/CFyZTBaOCP8IXJlMFo4I/SFD8GHPXgj+1pnnHKTqCP8IXJlMFo4I/zojS3uALgz9IUPwYc9eCP2EyVTAqqYM/VcGopE5Agz/CFyZTBaOCPw==",
          "dtype": "f8"
         },
         "yaxis": "y2"
        },
        {
         "marker": {
          "color": "steelblue"
         },
         "name": "Empirical CTR",
         "opacity": 0.6,
         "showlegend": false,
         "type": "bar",
         "x": {
          "bdata": "AAECAwQFBgcICQoLDA0ODxAREhMUFRYXGBkaGxwdHh8gISIjJCUmJygpKissLS4vMDEyMzQ1Njc4OTo7PD0+P0BBQkNERUZHSElKS0xNTk8=",
          "dtype": "i1"
         },
         "xaxis": "x3",
         "y": {
          "bdata": "AAAAAAAAAAAAAAAAAAAAAAAAAAAAAAAA+hicj8H5mD8AAAAAAAAAAAAAAAAAAAAAFBQUFBQUlD8AAAAAAAAAABQ7sRM7sZM/AAAAAAAAAAAAAAAAAAAAAAAAAAAAAAAAAAAAAAAAAAAAAAAAAAAAAAAAAAAAAAAAAAAAAAAAAAAAAAAAAAAAAAAAAAAAAAAAGIZhGIZhqD8AAAAAAAAAAAAAAAAAAAAAKK+hvIbymj8AAAAAAAAAAAAAAAAAAAAAAAAAAAAAAAAAAAAAAAAAAAAAAAAAAAAAAAAAAAAAAAAAAAAAAAAAAAAAAAAAAAAAAAAAAAAAAAAAAAAAAAAAAAAAAAAAAAAAAAAAAAAAAAAAAAAAAAAAAAAAAAAAAAAA0LrBFPmsmz8AAAAAAAAAAAAAAAAAAAAAAAAAAAAAAAAAAAAAAAAAAAAAAAAAAAAAAAAAAAAAAAAAAAAAAAAAAAAAAAAAAAAAAAAAAAAAAAANJ3VfHluRPwAAAAAAAAAAmpmZmZmZmT8AAAAAAAAAAAAAAAAAAAAAAAAAAAAAAAAAAAAAAAAAAAAAAAAAAAAAAAAAAAAAAAAAAAAAAAAAAAAAAAAAAAAAwXgr+xxSkz8AAAAAAAAAAAAAAAAAAAAAAAAAAAAAAAAAAAAAAAAAAAAAAAAAAAAAAAAAAAAAAAAAAAAAAAAAAAAAAAAAAAAAAAAAAAAAAAAAAAAAAAAAAAAAAAAAAAAAHdRBHdRBnT8AAAAAAAAAAAAAAAAAAAAAAAAAAAAAAAAAAAAAAAAAAAAAAAAAAAAAAAAAAAAAAAAAAAAAAAAAAAAAAAAAAAAAAAAAAAAAAAAAAAAAAAAAAA==",
          "dtype": "f8"
         },
         "yaxis": "y3"
        },
        {
         "marker": {
          "color": "darkorange"
         },
         "name": "TS selection freq (n=10,000)",
         "opacity": 0.85,
         "showlegend": false,
         "type": "bar",
         "x": {
          "bdata": "AAECAwQFBgcICQoLDA0ODxAREhMUFRYXGBkaGxwdHh8gISIjJCUmJygpKissLS4vMDEyMzQ1Njc4OTo7PD0+P0BBQkNERUZHSElKS0xNTk8=",
          "dtype": "i1"
         },
         "xaxis": "x3",
         "y": {
          "bdata": "VcGopE5Agz9uowG8BRKEP+hqK/aX3YM/wOyePCzUij/OiNLe4AuDP86I0t7gC4M/Gy/dJAaBlT9uowG8BRKEP5T2Bl+YTJU/9dvXgXNGhD/b+X5qvHSDP26jAbwFEoQ/VcGopE5Agz9VwaikTkCDP2EyVTAqqYM/2/l+arx0gz/b+X5qvHSDP2EyVTAqqYM/16NwPQrXwz9hMlUwKqmDP9v5fmq8dIM/P1dbsb/snj+1pnnHKTqCP26jAbwFEoQ/2/l+arx0gz9hMlUwKqmDP0hQ/Bhz14I/iIVa07zjhD/OiNLe4AuDP2EyVTAqqYM/9dvXgXNGhD9VwaikTkCDP1XBqKROQIM/SFD8GHPXgj/oaiv2l92DPwFNhA1Pr4Q/VcGopE5Akz9VwaikTkCDP2EyVTAqqYM/bqMBvAUShD/CFyZTBaOCP9v5fmq8dIM/whcmUwWjgj9hMlUwKqmDP+hqK/aX3YM/zojS3uALgz9YObTIdr6PP/Xb14FzRoQ/vVKWIY51oT+1pnnHKTqCP26jAbwFEoQ/bqMBvAUShD/b+X5qvHSDP3sUrkfheoQ/bqMBvAUShD/129eBc0aEP86I0t7gC4M/gLdAguLHiD9VwaikTkCDP/Xb14FzRoQ/2/l+arx0gz/oaiv2l92DP4iFWtO844Q/VcGopE5Agz/OiNLe4AuDP2EyVTAqqYM/2/l+arx0gz9uowG8BRKEP+hqK/aX3YM/bqMBvAUShD/b+X5qvHSDPzvfT42XboI/AU2EDU+vhD9uowG8BRKEP8IXJlMFo4I/6Gor9pfdgz9hMlUwKqmDP86I0t7gC4M/YTJVMCqpgz/b+X5qvHSDPw==",
          "dtype": "f8"
         },
         "yaxis": "y3"
        }
       ],
       "layout": {
        "annotations": [
         {
          "font": {
           "size": 16
          },
          "showarrow": false,
          "text": "Position 0",
          "x": 0.5,
          "xanchor": "center",
          "xref": "paper",
          "y": 1,
          "yanchor": "bottom",
          "yref": "paper"
         },
         {
          "font": {
           "size": 16
          },
          "showarrow": false,
          "text": "Position 1",
          "x": 0.5,
          "xanchor": "center",
          "xref": "paper",
          "y": 0.6399999999999999,
          "yanchor": "bottom",
          "yref": "paper"
         },
         {
          "font": {
           "size": 16
          },
          "showarrow": false,
          "text": "Position 2",
          "x": 0.5,
          "xanchor": "center",
          "xref": "paper",
          "y": 0.27999999999999997,
          "yanchor": "bottom",
          "yref": "paper"
         }
        ],
        "barmode": "group",
        "height": 1000,
        "template": {
         "data": {
          "bar": [
           {
            "error_x": {
             "color": "#2a3f5f"
            },
            "error_y": {
             "color": "#2a3f5f"
            },
            "marker": {
             "line": {
              "color": "white",
              "width": 0.5
             },
             "pattern": {
              "fillmode": "overlay",
              "size": 10,
              "solidity": 0.2
             }
            },
            "type": "bar"
           }
          ],
          "barpolar": [
           {
            "marker": {
             "line": {
              "color": "white",
              "width": 0.5
             },
             "pattern": {
              "fillmode": "overlay",
              "size": 10,
              "solidity": 0.2
             }
            },
            "type": "barpolar"
           }
          ],
          "carpet": [
           {
            "aaxis": {
             "endlinecolor": "#2a3f5f",
             "gridcolor": "#C8D4E3",
             "linecolor": "#C8D4E3",
             "minorgridcolor": "#C8D4E3",
             "startlinecolor": "#2a3f5f"
            },
            "baxis": {
             "endlinecolor": "#2a3f5f",
             "gridcolor": "#C8D4E3",
             "linecolor": "#C8D4E3",
             "minorgridcolor": "#C8D4E3",
             "startlinecolor": "#2a3f5f"
            },
            "type": "carpet"
           }
          ],
          "choropleth": [
           {
            "colorbar": {
             "outlinewidth": 0,
             "ticks": ""
            },
            "type": "choropleth"
           }
          ],
          "contour": [
           {
            "colorbar": {
             "outlinewidth": 0,
             "ticks": ""
            },
            "colorscale": [
             [
              0,
              "#0d0887"
             ],
             [
              0.1111111111111111,
              "#46039f"
             ],
             [
              0.2222222222222222,
              "#7201a8"
             ],
             [
              0.3333333333333333,
              "#9c179e"
             ],
             [
              0.4444444444444444,
              "#bd3786"
             ],
             [
              0.5555555555555556,
              "#d8576b"
             ],
             [
              0.6666666666666666,
              "#ed7953"
             ],
             [
              0.7777777777777778,
              "#fb9f3a"
             ],
             [
              0.8888888888888888,
              "#fdca26"
             ],
             [
              1,
              "#f0f921"
             ]
            ],
            "type": "contour"
           }
          ],
          "contourcarpet": [
           {
            "colorbar": {
             "outlinewidth": 0,
             "ticks": ""
            },
            "type": "contourcarpet"
           }
          ],
          "heatmap": [
           {
            "colorbar": {
             "outlinewidth": 0,
             "ticks": ""
            },
            "colorscale": [
             [
              0,
              "#0d0887"
             ],
             [
              0.1111111111111111,
              "#46039f"
             ],
             [
              0.2222222222222222,
              "#7201a8"
             ],
             [
              0.3333333333333333,
              "#9c179e"
             ],
             [
              0.4444444444444444,
              "#bd3786"
             ],
             [
              0.5555555555555556,
              "#d8576b"
             ],
             [
              0.6666666666666666,
              "#ed7953"
             ],
             [
              0.7777777777777778,
              "#fb9f3a"
             ],
             [
              0.8888888888888888,
              "#fdca26"
             ],
             [
              1,
              "#f0f921"
             ]
            ],
            "type": "heatmap"
           }
          ],
          "histogram": [
           {
            "marker": {
             "pattern": {
              "fillmode": "overlay",
              "size": 10,
              "solidity": 0.2
             }
            },
            "type": "histogram"
           }
          ],
          "histogram2d": [
           {
            "colorbar": {
             "outlinewidth": 0,
             "ticks": ""
            },
            "colorscale": [
             [
              0,
              "#0d0887"
             ],
             [
              0.1111111111111111,
              "#46039f"
             ],
             [
              0.2222222222222222,
              "#7201a8"
             ],
             [
              0.3333333333333333,
              "#9c179e"
             ],
             [
              0.4444444444444444,
              "#bd3786"
             ],
             [
              0.5555555555555556,
              "#d8576b"
             ],
             [
              0.6666666666666666,
              "#ed7953"
             ],
             [
              0.7777777777777778,
              "#fb9f3a"
             ],
             [
              0.8888888888888888,
              "#fdca26"
             ],
             [
              1,
              "#f0f921"
             ]
            ],
            "type": "histogram2d"
           }
          ],
          "histogram2dcontour": [
           {
            "colorbar": {
             "outlinewidth": 0,
             "ticks": ""
            },
            "colorscale": [
             [
              0,
              "#0d0887"
             ],
             [
              0.1111111111111111,
              "#46039f"
             ],
             [
              0.2222222222222222,
              "#7201a8"
             ],
             [
              0.3333333333333333,
              "#9c179e"
             ],
             [
              0.4444444444444444,
              "#bd3786"
             ],
             [
              0.5555555555555556,
              "#d8576b"
             ],
             [
              0.6666666666666666,
              "#ed7953"
             ],
             [
              0.7777777777777778,
              "#fb9f3a"
             ],
             [
              0.8888888888888888,
              "#fdca26"
             ],
             [
              1,
              "#f0f921"
             ]
            ],
            "type": "histogram2dcontour"
           }
          ],
          "mesh3d": [
           {
            "colorbar": {
             "outlinewidth": 0,
             "ticks": ""
            },
            "type": "mesh3d"
           }
          ],
          "parcoords": [
           {
            "line": {
             "colorbar": {
              "outlinewidth": 0,
              "ticks": ""
             }
            },
            "type": "parcoords"
           }
          ],
          "pie": [
           {
            "automargin": true,
            "type": "pie"
           }
          ],
          "scatter": [
           {
            "fillpattern": {
             "fillmode": "overlay",
             "size": 10,
             "solidity": 0.2
            },
            "type": "scatter"
           }
          ],
          "scatter3d": [
           {
            "line": {
             "colorbar": {
              "outlinewidth": 0,
              "ticks": ""
             }
            },
            "marker": {
             "colorbar": {
              "outlinewidth": 0,
              "ticks": ""
             }
            },
            "type": "scatter3d"
           }
          ],
          "scattercarpet": [
           {
            "marker": {
             "colorbar": {
              "outlinewidth": 0,
              "ticks": ""
             }
            },
            "type": "scattercarpet"
           }
          ],
          "scattergeo": [
           {
            "marker": {
             "colorbar": {
              "outlinewidth": 0,
              "ticks": ""
             }
            },
            "type": "scattergeo"
           }
          ],
          "scattergl": [
           {
            "marker": {
             "colorbar": {
              "outlinewidth": 0,
              "ticks": ""
             }
            },
            "type": "scattergl"
           }
          ],
          "scattermap": [
           {
            "marker": {
             "colorbar": {
              "outlinewidth": 0,
              "ticks": ""
             }
            },
            "type": "scattermap"
           }
          ],
          "scattermapbox": [
           {
            "marker": {
             "colorbar": {
              "outlinewidth": 0,
              "ticks": ""
             }
            },
            "type": "scattermapbox"
           }
          ],
          "scatterpolar": [
           {
            "marker": {
             "colorbar": {
              "outlinewidth": 0,
              "ticks": ""
             }
            },
            "type": "scatterpolar"
           }
          ],
          "scatterpolargl": [
           {
            "marker": {
             "colorbar": {
              "outlinewidth": 0,
              "ticks": ""
             }
            },
            "type": "scatterpolargl"
           }
          ],
          "scatterternary": [
           {
            "marker": {
             "colorbar": {
              "outlinewidth": 0,
              "ticks": ""
             }
            },
            "type": "scatterternary"
           }
          ],
          "surface": [
           {
            "colorbar": {
             "outlinewidth": 0,
             "ticks": ""
            },
            "colorscale": [
             [
              0,
              "#0d0887"
             ],
             [
              0.1111111111111111,
              "#46039f"
             ],
             [
              0.2222222222222222,
              "#7201a8"
             ],
             [
              0.3333333333333333,
              "#9c179e"
             ],
             [
              0.4444444444444444,
              "#bd3786"
             ],
             [
              0.5555555555555556,
              "#d8576b"
             ],
             [
              0.6666666666666666,
              "#ed7953"
             ],
             [
              0.7777777777777778,
              "#fb9f3a"
             ],
             [
              0.8888888888888888,
              "#fdca26"
             ],
             [
              1,
              "#f0f921"
             ]
            ],
            "type": "surface"
           }
          ],
          "table": [
           {
            "cells": {
             "fill": {
              "color": "#EBF0F8"
             },
             "line": {
              "color": "white"
             }
            },
            "header": {
             "fill": {
              "color": "#C8D4E3"
             },
             "line": {
              "color": "white"
             }
            },
            "type": "table"
           }
          ]
         },
         "layout": {
          "annotationdefaults": {
           "arrowcolor": "#2a3f5f",
           "arrowhead": 0,
           "arrowwidth": 1
          },
          "autotypenumbers": "strict",
          "coloraxis": {
           "colorbar": {
            "outlinewidth": 0,
            "ticks": ""
           }
          },
          "colorscale": {
           "diverging": [
            [
             0,
             "#8e0152"
            ],
            [
             0.1,
             "#c51b7d"
            ],
            [
             0.2,
             "#de77ae"
            ],
            [
             0.3,
             "#f1b6da"
            ],
            [
             0.4,
             "#fde0ef"
            ],
            [
             0.5,
             "#f7f7f7"
            ],
            [
             0.6,
             "#e6f5d0"
            ],
            [
             0.7,
             "#b8e186"
            ],
            [
             0.8,
             "#7fbc41"
            ],
            [
             0.9,
             "#4d9221"
            ],
            [
             1,
             "#276419"
            ]
           ],
           "sequential": [
            [
             0,
             "#0d0887"
            ],
            [
             0.1111111111111111,
             "#46039f"
            ],
            [
             0.2222222222222222,
             "#7201a8"
            ],
            [
             0.3333333333333333,
             "#9c179e"
            ],
            [
             0.4444444444444444,
             "#bd3786"
            ],
            [
             0.5555555555555556,
             "#d8576b"
            ],
            [
             0.6666666666666666,
             "#ed7953"
            ],
            [
             0.7777777777777778,
             "#fb9f3a"
            ],
            [
             0.8888888888888888,
             "#fdca26"
            ],
            [
             1,
             "#f0f921"
            ]
           ],
           "sequentialminus": [
            [
             0,
             "#0d0887"
            ],
            [
             0.1111111111111111,
             "#46039f"
            ],
            [
             0.2222222222222222,
             "#7201a8"
            ],
            [
             0.3333333333333333,
             "#9c179e"
            ],
            [
             0.4444444444444444,
             "#bd3786"
            ],
            [
             0.5555555555555556,
             "#d8576b"
            ],
            [
             0.6666666666666666,
             "#ed7953"
            ],
            [
             0.7777777777777778,
             "#fb9f3a"
            ],
            [
             0.8888888888888888,
             "#fdca26"
            ],
            [
             1,
             "#f0f921"
            ]
           ]
          },
          "colorway": [
           "#636efa",
           "#EF553B",
           "#00cc96",
           "#ab63fa",
           "#FFA15A",
           "#19d3f3",
           "#FF6692",
           "#B6E880",
           "#FF97FF",
           "#FECB52"
          ],
          "font": {
           "color": "#2a3f5f"
          },
          "geo": {
           "bgcolor": "white",
           "lakecolor": "white",
           "landcolor": "white",
           "showlakes": true,
           "showland": true,
           "subunitcolor": "#C8D4E3"
          },
          "hoverlabel": {
           "align": "left"
          },
          "hovermode": "closest",
          "mapbox": {
           "style": "light"
          },
          "paper_bgcolor": "white",
          "plot_bgcolor": "white",
          "polar": {
           "angularaxis": {
            "gridcolor": "#EBF0F8",
            "linecolor": "#EBF0F8",
            "ticks": ""
           },
           "bgcolor": "white",
           "radialaxis": {
            "gridcolor": "#EBF0F8",
            "linecolor": "#EBF0F8",
            "ticks": ""
           }
          },
          "scene": {
           "xaxis": {
            "backgroundcolor": "white",
            "gridcolor": "#DFE8F3",
            "gridwidth": 2,
            "linecolor": "#EBF0F8",
            "showbackground": true,
            "ticks": "",
            "zerolinecolor": "#EBF0F8"
           },
           "yaxis": {
            "backgroundcolor": "white",
            "gridcolor": "#DFE8F3",
            "gridwidth": 2,
            "linecolor": "#EBF0F8",
            "showbackground": true,
            "ticks": "",
            "zerolinecolor": "#EBF0F8"
           },
           "zaxis": {
            "backgroundcolor": "white",
            "gridcolor": "#DFE8F3",
            "gridwidth": 2,
            "linecolor": "#EBF0F8",
            "showbackground": true,
            "ticks": "",
            "zerolinecolor": "#EBF0F8"
           }
          },
          "shapedefaults": {
           "line": {
            "color": "#2a3f5f"
           }
          },
          "ternary": {
           "aaxis": {
            "gridcolor": "#DFE8F3",
            "linecolor": "#A2B1C6",
            "ticks": ""
           },
           "baxis": {
            "gridcolor": "#DFE8F3",
            "linecolor": "#A2B1C6",
            "ticks": ""
           },
           "bgcolor": "white",
           "caxis": {
            "gridcolor": "#DFE8F3",
            "linecolor": "#A2B1C6",
            "ticks": ""
           }
          },
          "title": {
           "x": 0.05
          },
          "xaxis": {
           "automargin": true,
           "gridcolor": "#EBF0F8",
           "linecolor": "#EBF0F8",
           "ticks": "",
           "title": {
            "standoff": 15
           },
           "zerolinecolor": "#EBF0F8",
           "zerolinewidth": 2
          },
          "yaxis": {
           "automargin": true,
           "gridcolor": "#EBF0F8",
           "linecolor": "#EBF0F8",
           "ticks": "",
           "title": {
            "standoff": 15
           },
           "zerolinecolor": "#EBF0F8",
           "zerolinewidth": 2
          }
         }
        },
        "title": {
         "text": "Thompson Sampling per position after 10k rounds"
        },
        "xaxis": {
         "anchor": "y",
         "domain": [
          0,
          1
         ],
         "tickmode": "array",
         "ticktext": [
          "0",
          "1",
          "2",
          "3",
          "4",
          "5",
          "6",
          "7",
          "8",
          "9",
          "10",
          "11",
          "12",
          "13",
          "14",
          "15",
          "16",
          "17",
          "18",
          "19",
          "20",
          "21",
          "22",
          "23",
          "24",
          "25",
          "26",
          "27",
          "28",
          "29",
          "30",
          "31",
          "32",
          "33",
          "34",
          "35",
          "36",
          "37",
          "38",
          "39",
          "40",
          "41",
          "42",
          "43",
          "44",
          "45",
          "46",
          "47",
          "48",
          "49",
          "50",
          "51",
          "52",
          "53",
          "54",
          "55",
          "56",
          "57",
          "58",
          "59",
          "60",
          "61",
          "62",
          "63",
          "64",
          "65",
          "66",
          "67",
          "68",
          "69",
          "70",
          "71",
          "72",
          "73",
          "74",
          "75",
          "76",
          "77",
          "78",
          "79"
         ],
         "tickvals": {
          "bdata": "AAECAwQFBgcICQoLDA0ODxAREhMUFRYXGBkaGxwdHh8gISIjJCUmJygpKissLS4vMDEyMzQ1Njc4OTo7PD0+P0BBQkNERUZHSElKS0xNTk8=",
          "dtype": "i1"
         },
         "title": {
          "text": ""
         }
        },
        "xaxis2": {
         "anchor": "y2",
         "domain": [
          0,
          1
         ],
         "tickmode": "array",
         "ticktext": [
          "0",
          "1",
          "2",
          "3",
          "4",
          "5",
          "6",
          "7",
          "8",
          "9",
          "10",
          "11",
          "12",
          "13",
          "14",
          "15",
          "16",
          "17",
          "18",
          "19",
          "20",
          "21",
          "22",
          "23",
          "24",
          "25",
          "26",
          "27",
          "28",
          "29",
          "30",
          "31",
          "32",
          "33",
          "34",
          "35",
          "36",
          "37",
          "38",
          "39",
          "40",
          "41",
          "42",
          "43",
          "44",
          "45",
          "46",
          "47",
          "48",
          "49",
          "50",
          "51",
          "52",
          "53",
          "54",
          "55",
          "56",
          "57",
          "58",
          "59",
          "60",
          "61",
          "62",
          "63",
          "64",
          "65",
          "66",
          "67",
          "68",
          "69",
          "70",
          "71",
          "72",
          "73",
          "74",
          "75",
          "76",
          "77",
          "78",
          "79"
         ],
         "tickvals": {
          "bdata": "AAECAwQFBgcICQoLDA0ODxAREhMUFRYXGBkaGxwdHh8gISIjJCUmJygpKissLS4vMDEyMzQ1Njc4OTo7PD0+P0BBQkNERUZHSElKS0xNTk8=",
          "dtype": "i1"
         },
         "title": {
          "text": ""
         }
        },
        "xaxis3": {
         "anchor": "y3",
         "domain": [
          0,
          1
         ],
         "tickmode": "array",
         "ticktext": [
          "0",
          "1",
          "2",
          "3",
          "4",
          "5",
          "6",
          "7",
          "8",
          "9",
          "10",
          "11",
          "12",
          "13",
          "14",
          "15",
          "16",
          "17",
          "18",
          "19",
          "20",
          "21",
          "22",
          "23",
          "24",
          "25",
          "26",
          "27",
          "28",
          "29",
          "30",
          "31",
          "32",
          "33",
          "34",
          "35",
          "36",
          "37",
          "38",
          "39",
          "40",
          "41",
          "42",
          "43",
          "44",
          "45",
          "46",
          "47",
          "48",
          "49",
          "50",
          "51",
          "52",
          "53",
          "54",
          "55",
          "56",
          "57",
          "58",
          "59",
          "60",
          "61",
          "62",
          "63",
          "64",
          "65",
          "66",
          "67",
          "68",
          "69",
          "70",
          "71",
          "72",
          "73",
          "74",
          "75",
          "76",
          "77",
          "78",
          "79"
         ],
         "tickvals": {
          "bdata": "AAECAwQFBgcICQoLDA0ODxAREhMUFRYXGBkaGxwdHh8gISIjJCUmJygpKissLS4vMDEyMzQ1Njc4OTo7PD0+P0BBQkNERUZHSElKS0xNTk8=",
          "dtype": "i1"
         },
         "title": {
          "text": "Action ID (0–79)"
         }
        },
        "yaxis": {
         "anchor": "x",
         "domain": [
          0.72,
          1
         ],
         "title": {
          "text": "Value"
         }
        },
        "yaxis2": {
         "anchor": "x2",
         "domain": [
          0.36,
          0.6399999999999999
         ],
         "title": {
          "text": "Value"
         }
        },
        "yaxis3": {
         "anchor": "x3",
         "domain": [
          0,
          0.27999999999999997
         ],
         "title": {
          "text": "Value"
         }
        }
       }
      }
     },
     "metadata": {},
     "output_type": "display_data"
    },
    {
     "data": {
      "text/html": [
       "<div>\n",
       "<style scoped>\n",
       "    .dataframe tbody tr th:only-of-type {\n",
       "        vertical-align: middle;\n",
       "    }\n",
       "\n",
       "    .dataframe tbody tr th {\n",
       "        vertical-align: top;\n",
       "    }\n",
       "\n",
       "    .dataframe thead th {\n",
       "        text-align: right;\n",
       "    }\n",
       "</style>\n",
       "<table border=\"1\" class=\"dataframe\">\n",
       "  <thead>\n",
       "    <tr style=\"text-align: right;\">\n",
       "      <th></th>\n",
       "      <th>position</th>\n",
       "      <th>action</th>\n",
       "      <th>empirical_ctr</th>\n",
       "      <th>ts_selection_freq</th>\n",
       "      <th>alpha_final</th>\n",
       "      <th>beta_final</th>\n",
       "      <th>impressions</th>\n",
       "    </tr>\n",
       "  </thead>\n",
       "  <tbody>\n",
       "    <tr>\n",
       "      <th>49</th>\n",
       "      <td>0</td>\n",
       "      <td>49</td>\n",
       "      <td>0.048780</td>\n",
       "      <td>0.0958</td>\n",
       "      <td>47.0</td>\n",
       "      <td>913.0</td>\n",
       "      <td>41</td>\n",
       "    </tr>\n",
       "    <tr>\n",
       "      <th>38</th>\n",
       "      <td>0</td>\n",
       "      <td>38</td>\n",
       "      <td>0.027778</td>\n",
       "      <td>0.0363</td>\n",
       "      <td>12.0</td>\n",
       "      <td>353.0</td>\n",
       "      <td>36</td>\n",
       "    </tr>\n",
       "    <tr>\n",
       "      <th>71</th>\n",
       "      <td>0</td>\n",
       "      <td>71</td>\n",
       "      <td>0.026316</td>\n",
       "      <td>0.0327</td>\n",
       "      <td>10.0</td>\n",
       "      <td>319.0</td>\n",
       "      <td>38</td>\n",
       "    </tr>\n",
       "    <tr>\n",
       "      <th>6</th>\n",
       "      <td>0</td>\n",
       "      <td>6</td>\n",
       "      <td>0.022727</td>\n",
       "      <td>0.0321</td>\n",
       "      <td>11.0</td>\n",
       "      <td>312.0</td>\n",
       "      <td>44</td>\n",
       "    </tr>\n",
       "    <tr>\n",
       "      <th>17</th>\n",
       "      <td>0</td>\n",
       "      <td>17</td>\n",
       "      <td>0.029412</td>\n",
       "      <td>0.0200</td>\n",
       "      <td>5.0</td>\n",
       "      <td>197.0</td>\n",
       "      <td>34</td>\n",
       "    </tr>\n",
       "    <tr>\n",
       "      <th>138</th>\n",
       "      <td>1</td>\n",
       "      <td>58</td>\n",
       "      <td>0.052632</td>\n",
       "      <td>0.1925</td>\n",
       "      <td>113.0</td>\n",
       "      <td>1814.0</td>\n",
       "      <td>38</td>\n",
       "    </tr>\n",
       "    <tr>\n",
       "      <th>127</th>\n",
       "      <td>1</td>\n",
       "      <td>47</td>\n",
       "      <td>0.029412</td>\n",
       "      <td>0.0244</td>\n",
       "      <td>7.0</td>\n",
       "      <td>239.0</td>\n",
       "      <td>34</td>\n",
       "    </tr>\n",
       "    <tr>\n",
       "      <th>124</th>\n",
       "      <td>1</td>\n",
       "      <td>44</td>\n",
       "      <td>0.022727</td>\n",
       "      <td>0.0235</td>\n",
       "      <td>8.0</td>\n",
       "      <td>229.0</td>\n",
       "      <td>44</td>\n",
       "    </tr>\n",
       "    <tr>\n",
       "      <th>129</th>\n",
       "      <td>1</td>\n",
       "      <td>49</td>\n",
       "      <td>0.022222</td>\n",
       "      <td>0.0200</td>\n",
       "      <td>5.0</td>\n",
       "      <td>197.0</td>\n",
       "      <td>45</td>\n",
       "    </tr>\n",
       "    <tr>\n",
       "      <th>125</th>\n",
       "      <td>1</td>\n",
       "      <td>45</td>\n",
       "      <td>0.020000</td>\n",
       "      <td>0.0199</td>\n",
       "      <td>5.0</td>\n",
       "      <td>196.0</td>\n",
       "      <td>50</td>\n",
       "    </tr>\n",
       "    <tr>\n",
       "      <th>178</th>\n",
       "      <td>2</td>\n",
       "      <td>18</td>\n",
       "      <td>0.047619</td>\n",
       "      <td>0.1550</td>\n",
       "      <td>73.0</td>\n",
       "      <td>1479.0</td>\n",
       "      <td>42</td>\n",
       "    </tr>\n",
       "    <tr>\n",
       "      <th>208</th>\n",
       "      <td>2</td>\n",
       "      <td>48</td>\n",
       "      <td>0.025000</td>\n",
       "      <td>0.0341</td>\n",
       "      <td>11.0</td>\n",
       "      <td>332.0</td>\n",
       "      <td>40</td>\n",
       "    </tr>\n",
       "    <tr>\n",
       "      <th>181</th>\n",
       "      <td>2</td>\n",
       "      <td>21</td>\n",
       "      <td>0.026316</td>\n",
       "      <td>0.0302</td>\n",
       "      <td>10.0</td>\n",
       "      <td>294.0</td>\n",
       "      <td>38</td>\n",
       "    </tr>\n",
       "    <tr>\n",
       "      <th>166</th>\n",
       "      <td>2</td>\n",
       "      <td>6</td>\n",
       "      <td>0.019608</td>\n",
       "      <td>0.0210</td>\n",
       "      <td>5.0</td>\n",
       "      <td>207.0</td>\n",
       "      <td>51</td>\n",
       "    </tr>\n",
       "    <tr>\n",
       "      <th>168</th>\n",
       "      <td>2</td>\n",
       "      <td>8</td>\n",
       "      <td>0.019231</td>\n",
       "      <td>0.0208</td>\n",
       "      <td>6.0</td>\n",
       "      <td>204.0</td>\n",
       "      <td>52</td>\n",
       "    </tr>\n",
       "  </tbody>\n",
       "</table>\n",
       "</div>"
      ],
      "text/plain": [
       "     position  action  empirical_ctr  ts_selection_freq  alpha_final  \\\n",
       "49          0      49       0.048780             0.0958         47.0   \n",
       "38          0      38       0.027778             0.0363         12.0   \n",
       "71          0      71       0.026316             0.0327         10.0   \n",
       "6           0       6       0.022727             0.0321         11.0   \n",
       "17          0      17       0.029412             0.0200          5.0   \n",
       "138         1      58       0.052632             0.1925        113.0   \n",
       "127         1      47       0.029412             0.0244          7.0   \n",
       "124         1      44       0.022727             0.0235          8.0   \n",
       "129         1      49       0.022222             0.0200          5.0   \n",
       "125         1      45       0.020000             0.0199          5.0   \n",
       "178         2      18       0.047619             0.1550         73.0   \n",
       "208         2      48       0.025000             0.0341         11.0   \n",
       "181         2      21       0.026316             0.0302         10.0   \n",
       "166         2       6       0.019608             0.0210          5.0   \n",
       "168         2       8       0.019231             0.0208          6.0   \n",
       "\n",
       "     beta_final  impressions  \n",
       "49        913.0           41  \n",
       "38        353.0           36  \n",
       "71        319.0           38  \n",
       "6         312.0           44  \n",
       "17        197.0           34  \n",
       "138      1814.0           38  \n",
       "127       239.0           34  \n",
       "124       229.0           44  \n",
       "129       197.0           45  \n",
       "125       196.0           50  \n",
       "178      1479.0           42  \n",
       "208       332.0           40  \n",
       "181       294.0           38  \n",
       "166       207.0           51  \n",
       "168       204.0           52  "
      ]
     },
     "execution_count": 28,
     "metadata": {},
     "output_type": "execute_result"
    }
   ],
   "source": [
    "\n",
    "K = bf[\"n_actions\"]\n",
    "fig, res = run_ts_by_position_and_plot(\n",
    "    df=df,\n",
    "    n_actions=K,\n",
    "    positions=[0,1,2],\n",
    "    n_rounds=10_000,   # try 100, 1_000, 10_000\n",
    "    seed=7,\n",
    "    alpha0=1.0, beta0=1.0,\n",
    "    title=\"Thompson Sampling per position after 10k rounds\"\n",
    ")\n",
    "fig.show()\n",
    "\n",
    "# Inspect top actions TS focused on at each position:\n",
    "(res.sort_values([\"position\",\"ts_selection_freq\"], ascending=[True,False])\n",
    "    .groupby(\"position\").head(5))"
   ]
  },
  {
   "cell_type": "code",
   "execution_count": 25,
   "id": "c3a4982e",
   "metadata": {},
   "outputs": [
    {
     "data": {
      "application/vnd.plotly.v1+json": {
       "config": {
        "plotlyServerURL": "https://plot.ly"
       },
       "data": [
        {
         "marker": {
          "color": "steelblue"
         },
         "name": "Empirical CTR",
         "opacity": 0.6,
         "showlegend": true,
         "type": "bar",
         "x": {
          "bdata": "AAECAwQFBgcICQoLDA0ODxAREhMUFRYXGBkaGxwdHh8gISIjJCUmJygpKissLS4vMDEyMzQ1Njc4OTo7PD0+P0BBQkNERUZHSElKS0xNTk8=",
          "dtype": "i1"
         },
         "xaxis": "x",
         "y": {
          "bdata": "AAAAAAAAAAB7FK5H4XqUPwAAAAAAAAAAAAAAAAAAAAAAAAAAAAAAAAAAAAAAAAAARhdddNFFlz+WexphuaeRPwAAAAAAAAAARhdddNFFlz8AAAAAAAAAAAAAAAAAAAAAAAAAAAAAAAAAAAAAAAAAAAAAAAAAAAAAAAAAAAAAAAAAAAAAAAAAAB4eHh4eHp4/AAAAAAAAAAAAAAAAAAAAAAAAAAAAAAAAAAAAAAAAAAAAAAAAAAAAAAAAAAAAAAAAAAAAAAAAAAAAAAAAAAAAAAAAAAAAAAAAAAAAAAAAAAAor6G8hvKaPwAAAAAAAAAAAAAAAAAAAAAAAAAAAAAAAAAAAAAAAAAAAAAAAAAAAAAAAAAAAAAAAAAAAAAAAAAAAAAAAAAAAAAAAAAAAAAAABzHcRzHcZw/AAAAAAAAAAAAAAAAAAAAAAAAAAAAAAAAAAAAAAAAAAAAAAAAAAAAAPoYnI/B+Zg/AAAAAAAAAAAAAAAAAAAAAAAAAAAAAAAAAAAAAAAAAAD6GJyPwfmoPwgffPDBB58/AAAAAAAAAAAAAAAAAAAAAAAAAAAAAAAAAAAAAAAAAAAAAAAAAAAAAAAAAAAAAAAAwXgr+xxSkz8AAAAAAAAAAAAAAAAAAAAAAAAAAAAAAAAAAAAAAAAAAAAAAAAAAAAAAAAAAAAAAAAAAAAAAAAAAAAAAAAAAAAAAAAAAAAAAAAAAAAAAAAAAAAAAAAAAAAAAAAAAAAAAAAAAAAAAAAAACivobyG8po/AAAAAAAAAAAAAAAAAAAAAAAAAAAAAAAAAAAAAAAAAAAAAAAAAAAAAAAAAAAAAAAAAAAAAAAAAAAAAAAAAAAAAA==",
          "dtype": "f8"
         },
         "yaxis": "y"
        },
        {
         "marker": {
          "color": "darkorange"
         },
         "name": "TS selection freq (n=100,000)",
         "opacity": 0.85,
         "showlegend": true,
         "type": "bar",
         "x": {
          "bdata": "AAECAwQFBgcICQoLDA0ODxAREhMUFRYXGBkaGxwdHh8gISIjJCUmJygpKissLS4vMDEyMzQ1Njc4OTo7PD0+P0BBQkNERUZHSElKS0xNTk8=",
          "dtype": "i1"
         },
         "xaxis": "x",
         "y": {
          "bdata": "dF5jl6jeWj8fotEdxM5kPxjshm2LMls/RiV1ApoIWz+8eapDboZbP+qymNh8XFs/7j1cctwpfT+GWtO84xRtPxjshm2LMls/fnTqymd5bj//CS5W1GBaP3ReY5eo3lo/6rKY2HxcWz+8eapDboZbPxjshm2LMls/dF5jl6jeWj//CS5W1GBaP+G04EVfQXo/6rKY2HxcWz9GJXUCmghbP+qymNh8XFs/dF5jl6jeWj+OQLyuX7BbP18HzhlR2ls/6rKY2HxcWz8Y7IZtizJbPxjshm2LMls/RiV1ApoIWz/gnBGlvcFnP45AvK5fsFs/vHmqQ26GWz+OQLyuX7BbP0YldQKaCFs/dF5jl6jeWj+il1Est7RaPxjshm2LMls/RiV1ApoIWz+il1Est7RaP/XzpiIVxoY/GOyGbYsyWz+il1Est7RaP45AvK5fsFs/Mc7fhEIEXD+8eapDboZbP530vvG1Z3Y/RiV1ApoIWz+8eapDboZbP45AvK5fsFs/dF5jl6jeWj/7y+7Jw0LqPxIxJZLoZYQ/0NA/wcWKWj8Y7IZtizJbP18HzhlR2ls/Mc7fhEIEXD8tQxzr4jZaP0YldQKaCFs/rK3YX3ZPbj9GJXUCmghbPy1DHOviNlo/opdRLLe0Wj8tQxzr4jZaP+qymNh8XFs/GOyGbYsyWz+il1Est7RaP9DQP8HFilo/0NA/wcWKWj/Q0D/BxYpaP9DQP8HFilo/RiV1ApoIWz//CS5W1GBaP+CEQgQcQoU/RiV1ApoIWz8xzt+EQgRcP9DQP8HFilo/0NA/wcWKWj+OQLyuX7BbPxjshm2LMls/vHmqQ26GWz9GJXUCmghbPw==",
          "dtype": "f8"
         },
         "yaxis": "y"
        },
        {
         "marker": {
          "color": "steelblue"
         },
         "name": "Empirical CTR",
         "opacity": 0.6,
         "showlegend": false,
         "type": "bar",
         "x": {
          "bdata": "AAECAwQFBgcICQoLDA0ODxAREhMUFRYXGBkaGxwdHh8gISIjJCUmJygpKissLS4vMDEyMzQ1Njc4OTo7PD0+P0BBQkNERUZHSElKS0xNTk8=",
          "dtype": "i1"
         },
         "xaxis": "x2",
         "y": {
          "bdata": "AAAAAAAAAAAAAAAAAAAAAAAAAAAAAAAAAAAAAAAAAAAAAAAAAAAAAAAAAAAAAAAAAAAAAAAAAAAAAAAAAAAAAAAAAAAAAAAAAAAAAAAAAAAAAAAAAAAAAAAAAAAAAAAAAAAAAAAAAAAAAAAAAAAAAAAAAAAAAAAAAAAAAAAAAAAAAAAAAAAAAAAAAAAAAAAAAAAAAAAAAAAAAAAAAAAAAAAAAAAAAAAAAAAAAAAAAAAAAAAAAAAAAAAAAAAAAAAAAAAAAAAAAAA5BS+n4OWUPwAAAAAAAAAAAAAAAAAAAAAAAAAAAAAAAAAAAAAAAAAAAAAAAAAAAAAAAAAAAAAAAAAAAAAAAAAAAAAAAAAAAAA5BS+n4OWUPwAAAAAAAAAAVxCTK4jJlT8AAAAAAAAAAAAAAAAAAAAAAAAAAAAAAAAAAAAAAAAAADkFL6fg5ZQ/AAAAAAAAAAAAAAAAAAAAAEYXXXTRRZc/exSuR+F6lD8AAAAAAAAAAB4eHh4eHp4/AAAAAAAAAAAXbMEWbMGWPwAAAAAAAAAAAAAAAAAAAAAAAAAAAAAAAFVVVVVVVaU/AAAAAAAAAAAAAAAAAAAAAAAAAAAAAAAAAAAAAAAAAAAor6G8hvKqPwAAAAAAAAAAAAAAAAAAAACamZmZmZmZPwAAAAAAAAAAAAAAAAAAAAAAAAAAAAAAACivobyG8po/AAAAAAAAAAAAAAAAAAAAAAAAAAAAAAAAAAAAAAAAAAAAAAAAAAAAAAAAAAAAAAAAAAAAAAAAAAAAAAAAAAAAAAAAAAAAAAAAAAAAAAAAAAAAAAAAAAAAAAAAAAAAAAAAAAAAAAAAAAAAAAAAAAAAAA==",
          "dtype": "f8"
         },
         "yaxis": "y2"
        },
        {
         "marker": {
          "color": "darkorange"
         },
         "name": "TS selection freq (n=100,000)",
         "opacity": 0.85,
         "showlegend": false,
         "type": "bar",
         "x": {
          "bdata": "AAECAwQFBgcICQoLDA0ODxAREhMUFRYXGBkaGxwdHh8gISIjJCUmJygpKissLS4vMDEyMzQ1Njc4OTo7PD0+P0BBQkNERUZHSElKS0xNTk8=",
          "dtype": "i1"
         },
         "xaxis": "x2",
         "y": {
          "bdata": "ibX4FADjWT9BmrFoOjtZP7fu5qkOuVk/t+7mqQ65WT8tQxzr4jZaP7fu5qkOuVk/ngyOklfnWD8tQxzr4jZaP0GasWg6O1k/+n5qvHSTWD9bfAqA8QxaP54MjpJX51g/E2HD0ytlWT+eDI6SV+dYP7fu5qkOuVk/W3wKgPEMWj//CS5W1GBaP4m1+BQA41k/W3wKgPEMWj9bfAqA8QxaP4m1+BQA41k/t+7mqQ65WT+37uapDrlZP0GasWg6O1k/5SfVPh2PWT/NdRppqbxtP0GasWg6O1k/E2HD0ytlWT/MRXwnZr1YP0GasWg6O1k/+n5qvHSTWD/lJ9U+HY9ZP54MjpJX51g/ibX4FADjWT9zLsVVZd9lP4m1+BQA41k/l1ZD4h5Lbz/lJ9U+HY9ZP4m1+BQA41k/ibX4FADjWT9bfAqA8QxaPyrj32dcOHA//wkuVtRgWj+37uapDrlZP0mAmlq21nc/S7A4nPnVbD+JtfgUAONZP2oYPiKmRHI/t+7mqQ65WT/VWwNbJVhsP1t8CoDxDFo/ibX4FADjWT9BmrFoOjtZP6TC2EKQg2I/QZqxaDo7WT+eDI6SV+dYPy1DHOviNlo/t+7mqQ65WT80ETY8vVLrP0GasWg6O1k/t+7mqQ65WT/ABG7dzVNtP0GasWg6O1k/LUMc6+I2Wj9bfAqA8QxaP+iC+pY5XWY/ngyOklfnWD/MRXwnZr1YP2/Tn/1IEVk/W3wKgPEMWj+il1Est7RaP4m1+BQA41k/5SfVPh2PWT8tQxzr4jZaP8xFfCdmvVg/QZqxaDo7WT9BmrFoOjtZP+Un1T4dj1k/5SfVPh2PWT9bfAqA8QxaPw==",
          "dtype": "f8"
         },
         "yaxis": "y2"
        },
        {
         "marker": {
          "color": "steelblue"
         },
         "name": "Empirical CTR",
         "opacity": 0.6,
         "showlegend": false,
         "type": "bar",
         "x": {
          "bdata": "AAECAwQFBgcICQoLDA0ODxAREhMUFRYXGBkaGxwdHh8gISIjJCUmJygpKissLS4vMDEyMzQ1Njc4OTo7PD0+P0BBQkNERUZHSElKS0xNTk8=",
          "dtype": "i1"
         },
         "xaxis": "x3",
         "y": {
          "bdata": "AAAAAAAAAAAAAAAAAAAAAAAAAAAAAAAA+hicj8H5mD8AAAAAAAAAAAAAAAAAAAAAFBQUFBQUlD8AAAAAAAAAABQ7sRM7sZM/AAAAAAAAAAAAAAAAAAAAAAAAAAAAAAAAAAAAAAAAAAAAAAAAAAAAAAAAAAAAAAAAAAAAAAAAAAAAAAAAAAAAAAAAAAAAAAAAGIZhGIZhqD8AAAAAAAAAAAAAAAAAAAAAKK+hvIbymj8AAAAAAAAAAAAAAAAAAAAAAAAAAAAAAAAAAAAAAAAAAAAAAAAAAAAAAAAAAAAAAAAAAAAAAAAAAAAAAAAAAAAAAAAAAAAAAAAAAAAAAAAAAAAAAAAAAAAAAAAAAAAAAAAAAAAAAAAAAAAAAAAAAAAA0LrBFPmsmz8AAAAAAAAAAAAAAAAAAAAAAAAAAAAAAAAAAAAAAAAAAAAAAAAAAAAAAAAAAAAAAAAAAAAAAAAAAAAAAAAAAAAAAAAAAAAAAAANJ3VfHluRPwAAAAAAAAAAmpmZmZmZmT8AAAAAAAAAAAAAAAAAAAAAAAAAAAAAAAAAAAAAAAAAAAAAAAAAAAAAAAAAAAAAAAAAAAAAAAAAAAAAAAAAAAAAwXgr+xxSkz8AAAAAAAAAAAAAAAAAAAAAAAAAAAAAAAAAAAAAAAAAAAAAAAAAAAAAAAAAAAAAAAAAAAAAAAAAAAAAAAAAAAAAAAAAAAAAAAAAAAAAAAAAAAAAAAAAAAAAHdRBHdRBnT8AAAAAAAAAAAAAAAAAAAAAAAAAAAAAAAAAAAAAAAAAAAAAAAAAAAAAAAAAAAAAAAAAAAAAAAAAAAAAAAAAAAAAAAAAAAAAAAAAAAAAAAAAAA==",
          "dtype": "f8"
         },
         "yaxis": "y3"
        },
        {
         "marker": {
          "color": "darkorange"
         },
         "name": "TS selection freq (n=100,000)",
         "opacity": 0.85,
         "showlegend": false,
         "type": "bar",
         "x": {
          "bdata": "AAECAwQFBgcICQoLDA0ODxAREhMUFRYXGBkaGxwdHh8gISIjJCUmJygpKissLS4vMDEyMzQ1Njc4OTo7PD0+P0BBQkNERUZHSElKS0xNTk8=",
          "dtype": "i1"
         },
         "xaxis": "x3",
         "y": {
          "bdata": "jkC8rl+wWz/qspjYfFxbP45AvK5fsFs/XaeRlsrbYT8Y7IZtizJbP6ciFcYWglw/nzws1JrmbT/qspjYfFxbPyno9pLGaH0/vHmqQ26GWz8xzt+EQgRcP18HzhlR2ls/jkC8rl+wWz/qspjYfFxbP18HzhlR2ls/6rKY2HxcWz/qspjYfFxbP18HzhlR2ls/OzYC8bp+6j8xzt+EQgRcP45AvK5fsFs/1/oioS3ngj90XmOXqN5aP9VbA1slWFw/jkC8rl+wWz8DlfHvMy5cP3npJjEIrFw/pyIVxhaCXD8xzt+EQgRcP45AvK5fsFs/opdRLLe0Wj+OQLyuX7BbP9VbA1slWFw/6rKY2HxcWz+OQLyuX7BbP0YldQKaCFs/tTLhl/p5gz/VWwNbJVhcPwOV8e8zLlw/XwfOGVHaWz956SYxCKxcPwOV8e8zLlw/Mc7fhEIEXD8xzt+EQgRcPzHO34RCBFw/RiV1ApoIWz8uc7osJjZvP9VbA1slWFw/D+7O2m0Xej8DlfHvMy5cP7x5qkNuhls/XwfOGVHaWz/qspjYfFxbP7x5qkNuhls/dF5jl6jeWj/VWwNbJVhcP7x5qkNuhls/P1JEhlW8cT8xzt+EQgRcP7x5qkNuhls/eekmMQisXD/qspjYfFxbP0YldQKaCFs/vHmqQ26GWz/qspjYfFxbP7x5qkNuhls/1VsDWyVYXD9fB84ZUdpbP18HzhlR2ls/OsyXF2AffT8xzt+EQgRcP9VbA1slWFw/XwfOGVHaWz+il1Est7RaP45AvK5fsFs/6rKY2HxcWz9LsDic+dVcP18HzhlR2ls/XwfOGVHaWz+8eapDboZbPw==",
          "dtype": "f8"
         },
         "yaxis": "y3"
        }
       ],
       "layout": {
        "annotations": [
         {
          "font": {
           "size": 16
          },
          "showarrow": false,
          "text": "Position 0",
          "x": 0.5,
          "xanchor": "center",
          "xref": "paper",
          "y": 1,
          "yanchor": "bottom",
          "yref": "paper"
         },
         {
          "font": {
           "size": 16
          },
          "showarrow": false,
          "text": "Position 1",
          "x": 0.5,
          "xanchor": "center",
          "xref": "paper",
          "y": 0.6399999999999999,
          "yanchor": "bottom",
          "yref": "paper"
         },
         {
          "font": {
           "size": 16
          },
          "showarrow": false,
          "text": "Position 2",
          "x": 0.5,
          "xanchor": "center",
          "xref": "paper",
          "y": 0.27999999999999997,
          "yanchor": "bottom",
          "yref": "paper"
         }
        ],
        "barmode": "group",
        "height": 1000,
        "template": {
         "data": {
          "bar": [
           {
            "error_x": {
             "color": "#2a3f5f"
            },
            "error_y": {
             "color": "#2a3f5f"
            },
            "marker": {
             "line": {
              "color": "white",
              "width": 0.5
             },
             "pattern": {
              "fillmode": "overlay",
              "size": 10,
              "solidity": 0.2
             }
            },
            "type": "bar"
           }
          ],
          "barpolar": [
           {
            "marker": {
             "line": {
              "color": "white",
              "width": 0.5
             },
             "pattern": {
              "fillmode": "overlay",
              "size": 10,
              "solidity": 0.2
             }
            },
            "type": "barpolar"
           }
          ],
          "carpet": [
           {
            "aaxis": {
             "endlinecolor": "#2a3f5f",
             "gridcolor": "#C8D4E3",
             "linecolor": "#C8D4E3",
             "minorgridcolor": "#C8D4E3",
             "startlinecolor": "#2a3f5f"
            },
            "baxis": {
             "endlinecolor": "#2a3f5f",
             "gridcolor": "#C8D4E3",
             "linecolor": "#C8D4E3",
             "minorgridcolor": "#C8D4E3",
             "startlinecolor": "#2a3f5f"
            },
            "type": "carpet"
           }
          ],
          "choropleth": [
           {
            "colorbar": {
             "outlinewidth": 0,
             "ticks": ""
            },
            "type": "choropleth"
           }
          ],
          "contour": [
           {
            "colorbar": {
             "outlinewidth": 0,
             "ticks": ""
            },
            "colorscale": [
             [
              0,
              "#0d0887"
             ],
             [
              0.1111111111111111,
              "#46039f"
             ],
             [
              0.2222222222222222,
              "#7201a8"
             ],
             [
              0.3333333333333333,
              "#9c179e"
             ],
             [
              0.4444444444444444,
              "#bd3786"
             ],
             [
              0.5555555555555556,
              "#d8576b"
             ],
             [
              0.6666666666666666,
              "#ed7953"
             ],
             [
              0.7777777777777778,
              "#fb9f3a"
             ],
             [
              0.8888888888888888,
              "#fdca26"
             ],
             [
              1,
              "#f0f921"
             ]
            ],
            "type": "contour"
           }
          ],
          "contourcarpet": [
           {
            "colorbar": {
             "outlinewidth": 0,
             "ticks": ""
            },
            "type": "contourcarpet"
           }
          ],
          "heatmap": [
           {
            "colorbar": {
             "outlinewidth": 0,
             "ticks": ""
            },
            "colorscale": [
             [
              0,
              "#0d0887"
             ],
             [
              0.1111111111111111,
              "#46039f"
             ],
             [
              0.2222222222222222,
              "#7201a8"
             ],
             [
              0.3333333333333333,
              "#9c179e"
             ],
             [
              0.4444444444444444,
              "#bd3786"
             ],
             [
              0.5555555555555556,
              "#d8576b"
             ],
             [
              0.6666666666666666,
              "#ed7953"
             ],
             [
              0.7777777777777778,
              "#fb9f3a"
             ],
             [
              0.8888888888888888,
              "#fdca26"
             ],
             [
              1,
              "#f0f921"
             ]
            ],
            "type": "heatmap"
           }
          ],
          "histogram": [
           {
            "marker": {
             "pattern": {
              "fillmode": "overlay",
              "size": 10,
              "solidity": 0.2
             }
            },
            "type": "histogram"
           }
          ],
          "histogram2d": [
           {
            "colorbar": {
             "outlinewidth": 0,
             "ticks": ""
            },
            "colorscale": [
             [
              0,
              "#0d0887"
             ],
             [
              0.1111111111111111,
              "#46039f"
             ],
             [
              0.2222222222222222,
              "#7201a8"
             ],
             [
              0.3333333333333333,
              "#9c179e"
             ],
             [
              0.4444444444444444,
              "#bd3786"
             ],
             [
              0.5555555555555556,
              "#d8576b"
             ],
             [
              0.6666666666666666,
              "#ed7953"
             ],
             [
              0.7777777777777778,
              "#fb9f3a"
             ],
             [
              0.8888888888888888,
              "#fdca26"
             ],
             [
              1,
              "#f0f921"
             ]
            ],
            "type": "histogram2d"
           }
          ],
          "histogram2dcontour": [
           {
            "colorbar": {
             "outlinewidth": 0,
             "ticks": ""
            },
            "colorscale": [
             [
              0,
              "#0d0887"
             ],
             [
              0.1111111111111111,
              "#46039f"
             ],
             [
              0.2222222222222222,
              "#7201a8"
             ],
             [
              0.3333333333333333,
              "#9c179e"
             ],
             [
              0.4444444444444444,
              "#bd3786"
             ],
             [
              0.5555555555555556,
              "#d8576b"
             ],
             [
              0.6666666666666666,
              "#ed7953"
             ],
             [
              0.7777777777777778,
              "#fb9f3a"
             ],
             [
              0.8888888888888888,
              "#fdca26"
             ],
             [
              1,
              "#f0f921"
             ]
            ],
            "type": "histogram2dcontour"
           }
          ],
          "mesh3d": [
           {
            "colorbar": {
             "outlinewidth": 0,
             "ticks": ""
            },
            "type": "mesh3d"
           }
          ],
          "parcoords": [
           {
            "line": {
             "colorbar": {
              "outlinewidth": 0,
              "ticks": ""
             }
            },
            "type": "parcoords"
           }
          ],
          "pie": [
           {
            "automargin": true,
            "type": "pie"
           }
          ],
          "scatter": [
           {
            "fillpattern": {
             "fillmode": "overlay",
             "size": 10,
             "solidity": 0.2
            },
            "type": "scatter"
           }
          ],
          "scatter3d": [
           {
            "line": {
             "colorbar": {
              "outlinewidth": 0,
              "ticks": ""
             }
            },
            "marker": {
             "colorbar": {
              "outlinewidth": 0,
              "ticks": ""
             }
            },
            "type": "scatter3d"
           }
          ],
          "scattercarpet": [
           {
            "marker": {
             "colorbar": {
              "outlinewidth": 0,
              "ticks": ""
             }
            },
            "type": "scattercarpet"
           }
          ],
          "scattergeo": [
           {
            "marker": {
             "colorbar": {
              "outlinewidth": 0,
              "ticks": ""
             }
            },
            "type": "scattergeo"
           }
          ],
          "scattergl": [
           {
            "marker": {
             "colorbar": {
              "outlinewidth": 0,
              "ticks": ""
             }
            },
            "type": "scattergl"
           }
          ],
          "scattermap": [
           {
            "marker": {
             "colorbar": {
              "outlinewidth": 0,
              "ticks": ""
             }
            },
            "type": "scattermap"
           }
          ],
          "scattermapbox": [
           {
            "marker": {
             "colorbar": {
              "outlinewidth": 0,
              "ticks": ""
             }
            },
            "type": "scattermapbox"
           }
          ],
          "scatterpolar": [
           {
            "marker": {
             "colorbar": {
              "outlinewidth": 0,
              "ticks": ""
             }
            },
            "type": "scatterpolar"
           }
          ],
          "scatterpolargl": [
           {
            "marker": {
             "colorbar": {
              "outlinewidth": 0,
              "ticks": ""
             }
            },
            "type": "scatterpolargl"
           }
          ],
          "scatterternary": [
           {
            "marker": {
             "colorbar": {
              "outlinewidth": 0,
              "ticks": ""
             }
            },
            "type": "scatterternary"
           }
          ],
          "surface": [
           {
            "colorbar": {
             "outlinewidth": 0,
             "ticks": ""
            },
            "colorscale": [
             [
              0,
              "#0d0887"
             ],
             [
              0.1111111111111111,
              "#46039f"
             ],
             [
              0.2222222222222222,
              "#7201a8"
             ],
             [
              0.3333333333333333,
              "#9c179e"
             ],
             [
              0.4444444444444444,
              "#bd3786"
             ],
             [
              0.5555555555555556,
              "#d8576b"
             ],
             [
              0.6666666666666666,
              "#ed7953"
             ],
             [
              0.7777777777777778,
              "#fb9f3a"
             ],
             [
              0.8888888888888888,
              "#fdca26"
             ],
             [
              1,
              "#f0f921"
             ]
            ],
            "type": "surface"
           }
          ],
          "table": [
           {
            "cells": {
             "fill": {
              "color": "#EBF0F8"
             },
             "line": {
              "color": "white"
             }
            },
            "header": {
             "fill": {
              "color": "#C8D4E3"
             },
             "line": {
              "color": "white"
             }
            },
            "type": "table"
           }
          ]
         },
         "layout": {
          "annotationdefaults": {
           "arrowcolor": "#2a3f5f",
           "arrowhead": 0,
           "arrowwidth": 1
          },
          "autotypenumbers": "strict",
          "coloraxis": {
           "colorbar": {
            "outlinewidth": 0,
            "ticks": ""
           }
          },
          "colorscale": {
           "diverging": [
            [
             0,
             "#8e0152"
            ],
            [
             0.1,
             "#c51b7d"
            ],
            [
             0.2,
             "#de77ae"
            ],
            [
             0.3,
             "#f1b6da"
            ],
            [
             0.4,
             "#fde0ef"
            ],
            [
             0.5,
             "#f7f7f7"
            ],
            [
             0.6,
             "#e6f5d0"
            ],
            [
             0.7,
             "#b8e186"
            ],
            [
             0.8,
             "#7fbc41"
            ],
            [
             0.9,
             "#4d9221"
            ],
            [
             1,
             "#276419"
            ]
           ],
           "sequential": [
            [
             0,
             "#0d0887"
            ],
            [
             0.1111111111111111,
             "#46039f"
            ],
            [
             0.2222222222222222,
             "#7201a8"
            ],
            [
             0.3333333333333333,
             "#9c179e"
            ],
            [
             0.4444444444444444,
             "#bd3786"
            ],
            [
             0.5555555555555556,
             "#d8576b"
            ],
            [
             0.6666666666666666,
             "#ed7953"
            ],
            [
             0.7777777777777778,
             "#fb9f3a"
            ],
            [
             0.8888888888888888,
             "#fdca26"
            ],
            [
             1,
             "#f0f921"
            ]
           ],
           "sequentialminus": [
            [
             0,
             "#0d0887"
            ],
            [
             0.1111111111111111,
             "#46039f"
            ],
            [
             0.2222222222222222,
             "#7201a8"
            ],
            [
             0.3333333333333333,
             "#9c179e"
            ],
            [
             0.4444444444444444,
             "#bd3786"
            ],
            [
             0.5555555555555556,
             "#d8576b"
            ],
            [
             0.6666666666666666,
             "#ed7953"
            ],
            [
             0.7777777777777778,
             "#fb9f3a"
            ],
            [
             0.8888888888888888,
             "#fdca26"
            ],
            [
             1,
             "#f0f921"
            ]
           ]
          },
          "colorway": [
           "#636efa",
           "#EF553B",
           "#00cc96",
           "#ab63fa",
           "#FFA15A",
           "#19d3f3",
           "#FF6692",
           "#B6E880",
           "#FF97FF",
           "#FECB52"
          ],
          "font": {
           "color": "#2a3f5f"
          },
          "geo": {
           "bgcolor": "white",
           "lakecolor": "white",
           "landcolor": "white",
           "showlakes": true,
           "showland": true,
           "subunitcolor": "#C8D4E3"
          },
          "hoverlabel": {
           "align": "left"
          },
          "hovermode": "closest",
          "mapbox": {
           "style": "light"
          },
          "paper_bgcolor": "white",
          "plot_bgcolor": "white",
          "polar": {
           "angularaxis": {
            "gridcolor": "#EBF0F8",
            "linecolor": "#EBF0F8",
            "ticks": ""
           },
           "bgcolor": "white",
           "radialaxis": {
            "gridcolor": "#EBF0F8",
            "linecolor": "#EBF0F8",
            "ticks": ""
           }
          },
          "scene": {
           "xaxis": {
            "backgroundcolor": "white",
            "gridcolor": "#DFE8F3",
            "gridwidth": 2,
            "linecolor": "#EBF0F8",
            "showbackground": true,
            "ticks": "",
            "zerolinecolor": "#EBF0F8"
           },
           "yaxis": {
            "backgroundcolor": "white",
            "gridcolor": "#DFE8F3",
            "gridwidth": 2,
            "linecolor": "#EBF0F8",
            "showbackground": true,
            "ticks": "",
            "zerolinecolor": "#EBF0F8"
           },
           "zaxis": {
            "backgroundcolor": "white",
            "gridcolor": "#DFE8F3",
            "gridwidth": 2,
            "linecolor": "#EBF0F8",
            "showbackground": true,
            "ticks": "",
            "zerolinecolor": "#EBF0F8"
           }
          },
          "shapedefaults": {
           "line": {
            "color": "#2a3f5f"
           }
          },
          "ternary": {
           "aaxis": {
            "gridcolor": "#DFE8F3",
            "linecolor": "#A2B1C6",
            "ticks": ""
           },
           "baxis": {
            "gridcolor": "#DFE8F3",
            "linecolor": "#A2B1C6",
            "ticks": ""
           },
           "bgcolor": "white",
           "caxis": {
            "gridcolor": "#DFE8F3",
            "linecolor": "#A2B1C6",
            "ticks": ""
           }
          },
          "title": {
           "x": 0.05
          },
          "xaxis": {
           "automargin": true,
           "gridcolor": "#EBF0F8",
           "linecolor": "#EBF0F8",
           "ticks": "",
           "title": {
            "standoff": 15
           },
           "zerolinecolor": "#EBF0F8",
           "zerolinewidth": 2
          },
          "yaxis": {
           "automargin": true,
           "gridcolor": "#EBF0F8",
           "linecolor": "#EBF0F8",
           "ticks": "",
           "title": {
            "standoff": 15
           },
           "zerolinecolor": "#EBF0F8",
           "zerolinewidth": 2
          }
         }
        },
        "title": {
         "text": "Thompson Sampling per position after 100k rounds"
        },
        "xaxis": {
         "anchor": "y",
         "domain": [
          0,
          1
         ],
         "tickmode": "array",
         "ticktext": [
          "0",
          "1",
          "2",
          "3",
          "4",
          "5",
          "6",
          "7",
          "8",
          "9",
          "10",
          "11",
          "12",
          "13",
          "14",
          "15",
          "16",
          "17",
          "18",
          "19",
          "20",
          "21",
          "22",
          "23",
          "24",
          "25",
          "26",
          "27",
          "28",
          "29",
          "30",
          "31",
          "32",
          "33",
          "34",
          "35",
          "36",
          "37",
          "38",
          "39",
          "40",
          "41",
          "42",
          "43",
          "44",
          "45",
          "46",
          "47",
          "48",
          "49",
          "50",
          "51",
          "52",
          "53",
          "54",
          "55",
          "56",
          "57",
          "58",
          "59",
          "60",
          "61",
          "62",
          "63",
          "64",
          "65",
          "66",
          "67",
          "68",
          "69",
          "70",
          "71",
          "72",
          "73",
          "74",
          "75",
          "76",
          "77",
          "78",
          "79"
         ],
         "tickvals": {
          "bdata": "AAECAwQFBgcICQoLDA0ODxAREhMUFRYXGBkaGxwdHh8gISIjJCUmJygpKissLS4vMDEyMzQ1Njc4OTo7PD0+P0BBQkNERUZHSElKS0xNTk8=",
          "dtype": "i1"
         },
         "title": {
          "text": ""
         }
        },
        "xaxis2": {
         "anchor": "y2",
         "domain": [
          0,
          1
         ],
         "tickmode": "array",
         "ticktext": [
          "0",
          "1",
          "2",
          "3",
          "4",
          "5",
          "6",
          "7",
          "8",
          "9",
          "10",
          "11",
          "12",
          "13",
          "14",
          "15",
          "16",
          "17",
          "18",
          "19",
          "20",
          "21",
          "22",
          "23",
          "24",
          "25",
          "26",
          "27",
          "28",
          "29",
          "30",
          "31",
          "32",
          "33",
          "34",
          "35",
          "36",
          "37",
          "38",
          "39",
          "40",
          "41",
          "42",
          "43",
          "44",
          "45",
          "46",
          "47",
          "48",
          "49",
          "50",
          "51",
          "52",
          "53",
          "54",
          "55",
          "56",
          "57",
          "58",
          "59",
          "60",
          "61",
          "62",
          "63",
          "64",
          "65",
          "66",
          "67",
          "68",
          "69",
          "70",
          "71",
          "72",
          "73",
          "74",
          "75",
          "76",
          "77",
          "78",
          "79"
         ],
         "tickvals": {
          "bdata": "AAECAwQFBgcICQoLDA0ODxAREhMUFRYXGBkaGxwdHh8gISIjJCUmJygpKissLS4vMDEyMzQ1Njc4OTo7PD0+P0BBQkNERUZHSElKS0xNTk8=",
          "dtype": "i1"
         },
         "title": {
          "text": ""
         }
        },
        "xaxis3": {
         "anchor": "y3",
         "domain": [
          0,
          1
         ],
         "tickmode": "array",
         "ticktext": [
          "0",
          "1",
          "2",
          "3",
          "4",
          "5",
          "6",
          "7",
          "8",
          "9",
          "10",
          "11",
          "12",
          "13",
          "14",
          "15",
          "16",
          "17",
          "18",
          "19",
          "20",
          "21",
          "22",
          "23",
          "24",
          "25",
          "26",
          "27",
          "28",
          "29",
          "30",
          "31",
          "32",
          "33",
          "34",
          "35",
          "36",
          "37",
          "38",
          "39",
          "40",
          "41",
          "42",
          "43",
          "44",
          "45",
          "46",
          "47",
          "48",
          "49",
          "50",
          "51",
          "52",
          "53",
          "54",
          "55",
          "56",
          "57",
          "58",
          "59",
          "60",
          "61",
          "62",
          "63",
          "64",
          "65",
          "66",
          "67",
          "68",
          "69",
          "70",
          "71",
          "72",
          "73",
          "74",
          "75",
          "76",
          "77",
          "78",
          "79"
         ],
         "tickvals": {
          "bdata": "AAECAwQFBgcICQoLDA0ODxAREhMUFRYXGBkaGxwdHh8gISIjJCUmJygpKissLS4vMDEyMzQ1Njc4OTo7PD0+P0BBQkNERUZHSElKS0xNTk8=",
          "dtype": "i1"
         },
         "title": {
          "text": "Action ID (0–79)"
         }
        },
        "yaxis": {
         "anchor": "x",
         "domain": [
          0.72,
          1
         ],
         "title": {
          "text": "Value"
         }
        },
        "yaxis2": {
         "anchor": "x2",
         "domain": [
          0.36,
          0.6399999999999999
         ],
         "title": {
          "text": "Value"
         }
        },
        "yaxis3": {
         "anchor": "x3",
         "domain": [
          0,
          0.27999999999999997
         ],
         "title": {
          "text": "Value"
         }
        }
       }
      }
     },
     "metadata": {},
     "output_type": "display_data"
    },
    {
     "data": {
      "text/html": [
       "<div>\n",
       "<style scoped>\n",
       "    .dataframe tbody tr th:only-of-type {\n",
       "        vertical-align: middle;\n",
       "    }\n",
       "\n",
       "    .dataframe tbody tr th {\n",
       "        vertical-align: top;\n",
       "    }\n",
       "\n",
       "    .dataframe thead th {\n",
       "        text-align: right;\n",
       "    }\n",
       "</style>\n",
       "<table border=\"1\" class=\"dataframe\">\n",
       "  <thead>\n",
       "    <tr style=\"text-align: right;\">\n",
       "      <th></th>\n",
       "      <th>position</th>\n",
       "      <th>action</th>\n",
       "      <th>empirical_ctr</th>\n",
       "      <th>ts_selection_freq</th>\n",
       "      <th>alpha_final</th>\n",
       "      <th>beta_final</th>\n",
       "      <th>impressions</th>\n",
       "    </tr>\n",
       "  </thead>\n",
       "  <tbody>\n",
       "    <tr>\n",
       "      <th>49</th>\n",
       "      <td>0</td>\n",
       "      <td>49</td>\n",
       "      <td>0.048780</td>\n",
       "      <td>0.82065</td>\n",
       "      <td>4018.0</td>\n",
       "      <td>78049.0</td>\n",
       "      <td>41</td>\n",
       "    </tr>\n",
       "    <tr>\n",
       "      <th>38</th>\n",
       "      <td>0</td>\n",
       "      <td>38</td>\n",
       "      <td>0.027778</td>\n",
       "      <td>0.01112</td>\n",
       "      <td>37.0</td>\n",
       "      <td>1077.0</td>\n",
       "      <td>36</td>\n",
       "    </tr>\n",
       "    <tr>\n",
       "      <th>71</th>\n",
       "      <td>0</td>\n",
       "      <td>71</td>\n",
       "      <td>0.026316</td>\n",
       "      <td>0.01038</td>\n",
       "      <td>32.0</td>\n",
       "      <td>1008.0</td>\n",
       "      <td>38</td>\n",
       "    </tr>\n",
       "    <tr>\n",
       "      <th>50</th>\n",
       "      <td>0</td>\n",
       "      <td>50</td>\n",
       "      <td>0.030303</td>\n",
       "      <td>0.00996</td>\n",
       "      <td>33.0</td>\n",
       "      <td>965.0</td>\n",
       "      <td>33</td>\n",
       "    </tr>\n",
       "    <tr>\n",
       "      <th>6</th>\n",
       "      <td>0</td>\n",
       "      <td>6</td>\n",
       "      <td>0.022727</td>\n",
       "      <td>0.00712</td>\n",
       "      <td>19.0</td>\n",
       "      <td>695.0</td>\n",
       "      <td>44</td>\n",
       "    </tr>\n",
       "    <tr>\n",
       "      <th>138</th>\n",
       "      <td>1</td>\n",
       "      <td>58</td>\n",
       "      <td>0.052632</td>\n",
       "      <td>0.85385</td>\n",
       "      <td>4494.0</td>\n",
       "      <td>80893.0</td>\n",
       "      <td>38</td>\n",
       "    </tr>\n",
       "    <tr>\n",
       "      <th>124</th>\n",
       "      <td>1</td>\n",
       "      <td>44</td>\n",
       "      <td>0.022727</td>\n",
       "      <td>0.00582</td>\n",
       "      <td>16.0</td>\n",
       "      <td>568.0</td>\n",
       "      <td>44</td>\n",
       "    </tr>\n",
       "    <tr>\n",
       "      <th>127</th>\n",
       "      <td>1</td>\n",
       "      <td>47</td>\n",
       "      <td>0.029412</td>\n",
       "      <td>0.00446</td>\n",
       "      <td>10.0</td>\n",
       "      <td>438.0</td>\n",
       "      <td>34</td>\n",
       "    </tr>\n",
       "    <tr>\n",
       "      <th>121</th>\n",
       "      <td>1</td>\n",
       "      <td>41</td>\n",
       "      <td>0.020408</td>\n",
       "      <td>0.00396</td>\n",
       "      <td>8.0</td>\n",
       "      <td>390.0</td>\n",
       "      <td>49</td>\n",
       "    </tr>\n",
       "    <tr>\n",
       "      <th>116</th>\n",
       "      <td>1</td>\n",
       "      <td>36</td>\n",
       "      <td>0.021277</td>\n",
       "      <td>0.00382</td>\n",
       "      <td>8.0</td>\n",
       "      <td>376.0</td>\n",
       "      <td>47</td>\n",
       "    </tr>\n",
       "    <tr>\n",
       "      <th>178</th>\n",
       "      <td>2</td>\n",
       "      <td>18</td>\n",
       "      <td>0.047619</td>\n",
       "      <td>0.82797</td>\n",
       "      <td>4002.0</td>\n",
       "      <td>78797.0</td>\n",
       "      <td>42</td>\n",
       "    </tr>\n",
       "    <tr>\n",
       "      <th>196</th>\n",
       "      <td>2</td>\n",
       "      <td>36</td>\n",
       "      <td>0.027027</td>\n",
       "      <td>0.00951</td>\n",
       "      <td>31.0</td>\n",
       "      <td>922.0</td>\n",
       "      <td>37</td>\n",
       "    </tr>\n",
       "    <tr>\n",
       "      <th>181</th>\n",
       "      <td>2</td>\n",
       "      <td>21</td>\n",
       "      <td>0.026316</td>\n",
       "      <td>0.00923</td>\n",
       "      <td>27.0</td>\n",
       "      <td>898.0</td>\n",
       "      <td>38</td>\n",
       "    </tr>\n",
       "    <tr>\n",
       "      <th>168</th>\n",
       "      <td>2</td>\n",
       "      <td>8</td>\n",
       "      <td>0.019231</td>\n",
       "      <td>0.00718</td>\n",
       "      <td>20.0</td>\n",
       "      <td>700.0</td>\n",
       "      <td>52</td>\n",
       "    </tr>\n",
       "    <tr>\n",
       "      <th>229</th>\n",
       "      <td>2</td>\n",
       "      <td>69</td>\n",
       "      <td>0.028571</td>\n",
       "      <td>0.00711</td>\n",
       "      <td>20.0</td>\n",
       "      <td>693.0</td>\n",
       "      <td>35</td>\n",
       "    </tr>\n",
       "  </tbody>\n",
       "</table>\n",
       "</div>"
      ],
      "text/plain": [
       "     position  action  empirical_ctr  ts_selection_freq  alpha_final  \\\n",
       "49          0      49       0.048780            0.82065       4018.0   \n",
       "38          0      38       0.027778            0.01112         37.0   \n",
       "71          0      71       0.026316            0.01038         32.0   \n",
       "50          0      50       0.030303            0.00996         33.0   \n",
       "6           0       6       0.022727            0.00712         19.0   \n",
       "138         1      58       0.052632            0.85385       4494.0   \n",
       "124         1      44       0.022727            0.00582         16.0   \n",
       "127         1      47       0.029412            0.00446         10.0   \n",
       "121         1      41       0.020408            0.00396          8.0   \n",
       "116         1      36       0.021277            0.00382          8.0   \n",
       "178         2      18       0.047619            0.82797       4002.0   \n",
       "196         2      36       0.027027            0.00951         31.0   \n",
       "181         2      21       0.026316            0.00923         27.0   \n",
       "168         2       8       0.019231            0.00718         20.0   \n",
       "229         2      69       0.028571            0.00711         20.0   \n",
       "\n",
       "     beta_final  impressions  \n",
       "49      78049.0           41  \n",
       "38       1077.0           36  \n",
       "71       1008.0           38  \n",
       "50        965.0           33  \n",
       "6         695.0           44  \n",
       "138     80893.0           38  \n",
       "124       568.0           44  \n",
       "127       438.0           34  \n",
       "121       390.0           49  \n",
       "116       376.0           47  \n",
       "178     78797.0           42  \n",
       "196       922.0           37  \n",
       "181       898.0           38  \n",
       "168       700.0           52  \n",
       "229       693.0           35  "
      ]
     },
     "execution_count": 25,
     "metadata": {},
     "output_type": "execute_result"
    }
   ],
   "source": [
    "\n",
    "K = bf[\"n_actions\"]\n",
    "fig, res = run_ts_by_position_and_plot(\n",
    "    df=df,\n",
    "    n_actions=K,\n",
    "    positions=[0,1,2],\n",
    "    n_rounds=100_000,   # try 100, 1_000, 10_000\n",
    "    seed=7,\n",
    "    alpha0=1.0, beta0=1.0,\n",
    "    title=\"Thompson Sampling per position after 100k rounds\"\n",
    ")\n",
    "fig.show()\n",
    "\n",
    "# Inspect top actions TS focused on at each position:\n",
    "(res.sort_values([\"position\",\"ts_selection_freq\"], ascending=[True,False])\n",
    "    .groupby(\"position\").head(5))"
   ]
  },
  {
   "cell_type": "code",
   "execution_count": null,
   "id": "e7871350",
   "metadata": {},
   "outputs": [],
   "source": []
  }
 ],
 "metadata": {
  "kernelspec": {
   "display_name": "obp_replication",
   "language": "python",
   "name": "python3"
  },
  "language_info": {
   "codemirror_mode": {
    "name": "ipython",
    "version": 3
   },
   "file_extension": ".py",
   "mimetype": "text/x-python",
   "name": "python",
   "nbconvert_exporter": "python",
   "pygments_lexer": "ipython3",
   "version": "3.10.18"
  }
 },
 "nbformat": 4,
 "nbformat_minor": 5
}
