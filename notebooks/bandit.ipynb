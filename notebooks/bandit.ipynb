{
 "cells": [
  {
   "cell_type": "code",
   "execution_count": 9,
   "id": "1fe0e55f",
   "metadata": {},
   "outputs": [],
   "source": [
    "# --- Offline simulation: probability of each action over 5 rounds (single slot) ---\n",
    "\n",
    "import numpy as np\n",
    "import pandas as pd\n",
    "import matplotlib.pyplot as plt\n",
    "from obp.dataset import OpenBanditDataset\n",
    "import plotly.graph_objects as go\n",
    "from plotly.subplots import make_subplots\n",
    "\n",
    "SEED = 7\n",
    "rng = np.random.RandomState(SEED)\n"
   ]
  },
  {
   "cell_type": "markdown",
   "id": "b7af295b",
   "metadata": {},
   "source": [
    "### Helper Functions"
   ]
  },
  {
   "cell_type": "code",
   "execution_count": 16,
   "id": "8e77d402",
   "metadata": {},
   "outputs": [],
   "source": [
    "def exact_pmf_one_update(K: int, updated_arm: int, reward: int):\n",
    "    \"\"\"\n",
    "    Closed-form TS selection probabilities when all arms start Beta(1,1),\n",
    "    and exactly one arm is updated once at this position (no MC).\n",
    "    \"\"\"\n",
    "    p = np.empty(K, dtype=float)\n",
    "    if reward == 1:\n",
    "        p_updated = 2.0 / (K + 1.0)              # updated arm\n",
    "        p_others  = 1.0 / (K + 1.0)              # every other arm\n",
    "    else:\n",
    "        p_updated = 2.0 / (K * (K + 1.0))        # updated arm\n",
    "        p_others  = (1.0 - p_updated) / (K - 1.) # spread remainder evenly\n",
    "    p.fill(p_others)\n",
    "    p[updated_arm] = p_updated\n",
    "    return p\n",
    "\n",
    "def make_probs_df(round_num: int, alpha, beta, pmf_by_pos):\n",
    "    \"\"\"Build a wide DataFrame for a given round with selection probs and α/β per position.\"\"\"\n",
    "    rows = []\n",
    "    for a in range(n_actions):\n",
    "        row = {\"round\": round_num, \"action\": a}\n",
    "        for pos in positions:\n",
    "            row[f\"p_pos{pos}\"]     = pmf_by_pos[pos][a]\n",
    "            row[f\"alpha_pos{pos}\"] = alpha[pos][a]\n",
    "            row[f\"beta_pos{pos}\"]  = beta[pos][a]\n",
    "        rows.append(row)\n",
    "    return pd.DataFrame(rows)"
   ]
  },
  {
   "cell_type": "markdown",
   "id": "83c08cb2",
   "metadata": {},
   "source": [
    "### Load the data"
   ]
  },
  {
   "cell_type": "code",
   "execution_count": 13,
   "id": "c15815f6",
   "metadata": {},
   "outputs": [
    {
     "name": "stderr",
     "output_type": "stream",
     "text": [
      "INFO:obp.dataset.real:When `data_path` is not given, this class downloads the small-sized version of Open Bandit Dataset.\n"
     ]
    },
    {
     "name": "stdout",
     "output_type": "stream",
     "text": [
      "bandit_feedback keys: dict_keys(['n_rounds', 'n_actions', 'action', 'position', 'reward', 'pscore', 'context', 'action_context'])\n",
      "Rounds: 10,000 | n_actions: 80 | len_list: 3\n"
     ]
    },
    {
     "data": {
      "text/html": [
       "<div>\n",
       "<style scoped>\n",
       "    .dataframe tbody tr th:only-of-type {\n",
       "        vertical-align: middle;\n",
       "    }\n",
       "\n",
       "    .dataframe tbody tr th {\n",
       "        vertical-align: top;\n",
       "    }\n",
       "\n",
       "    .dataframe thead th {\n",
       "        text-align: right;\n",
       "    }\n",
       "</style>\n",
       "<table border=\"1\" class=\"dataframe\">\n",
       "  <thead>\n",
       "    <tr style=\"text-align: right;\">\n",
       "      <th></th>\n",
       "      <th>action</th>\n",
       "      <th>position</th>\n",
       "      <th>reward</th>\n",
       "      <th>pscore</th>\n",
       "    </tr>\n",
       "  </thead>\n",
       "  <tbody>\n",
       "    <tr>\n",
       "      <th>0</th>\n",
       "      <td>14</td>\n",
       "      <td>2</td>\n",
       "      <td>0</td>\n",
       "      <td>0.0125</td>\n",
       "    </tr>\n",
       "    <tr>\n",
       "      <th>1</th>\n",
       "      <td>14</td>\n",
       "      <td>2</td>\n",
       "      <td>0</td>\n",
       "      <td>0.0125</td>\n",
       "    </tr>\n",
       "    <tr>\n",
       "      <th>2</th>\n",
       "      <td>27</td>\n",
       "      <td>2</td>\n",
       "      <td>0</td>\n",
       "      <td>0.0125</td>\n",
       "    </tr>\n",
       "    <tr>\n",
       "      <th>3</th>\n",
       "      <td>48</td>\n",
       "      <td>1</td>\n",
       "      <td>0</td>\n",
       "      <td>0.0125</td>\n",
       "    </tr>\n",
       "    <tr>\n",
       "      <th>4</th>\n",
       "      <td>36</td>\n",
       "      <td>1</td>\n",
       "      <td>0</td>\n",
       "      <td>0.0125</td>\n",
       "    </tr>\n",
       "  </tbody>\n",
       "</table>\n",
       "</div>"
      ],
      "text/plain": [
       "   action  position  reward  pscore\n",
       "0      14         2       0  0.0125\n",
       "1      14         2       0  0.0125\n",
       "2      27         2       0  0.0125\n",
       "3      48         1       0  0.0125\n",
       "4      36         1       0  0.0125"
      ]
     },
     "execution_count": 13,
     "metadata": {},
     "output_type": "execute_result"
    }
   ],
   "source": [
    "\n",
    "# --- Load OBD (Random / all as example) ---\n",
    "ds = OpenBanditDataset(behavior_policy=\"random\", campaign=\"all\")\n",
    "bf = ds.obtain_batch_bandit_feedback()\n",
    "\n",
    "print(\"bandit_feedback keys:\", bf.keys())\n",
    "print(f\"Rounds: {bf['n_rounds']:,} | n_actions: {bf['n_actions']} | len_list: {ds.len_list}\")\n",
    "\n",
    "# Build a DataFrame for convenience\n",
    "df = pd.DataFrame({\n",
    "    \"action\": bf[\"action\"],\n",
    "    \"position\": bf[\"position\"],\n",
    "    \"reward\": bf[\"reward\"],\n",
    "    \"pscore\": bf[\"pscore\"],\n",
    "})\n",
    "\n",
    "df.head()"
   ]
  },
  {
   "cell_type": "code",
   "execution_count": 14,
   "id": "61a9927e",
   "metadata": {},
   "outputs": [
    {
     "data": {
      "text/plain": [
       "(10000, 4)"
      ]
     },
     "execution_count": 14,
     "metadata": {},
     "output_type": "execute_result"
    }
   ],
   "source": [
    "df.shape"
   ]
  },
  {
   "cell_type": "markdown",
   "id": "da347609",
   "metadata": {},
   "source": [
    "### Every action being equally likely of being chosen"
   ]
  },
  {
   "cell_type": "code",
   "execution_count": 15,
   "id": "60833bf3",
   "metadata": {},
   "outputs": [
    {
     "data": {
      "image/png": "[encoded data removed]",
      "text/plain": [
       "<Figure size 1200x800 with 3 Axes>"
      ]
     },
     "metadata": {},
     "output_type": "display_data"
    }
   ],
   "source": [
    "n_actions = bf[\"n_actions\"]   # 80\n",
    "positions = [0, 1, 2]\n",
    "\n",
    "# Uniform PMF for each position\n",
    "pmfs = {pos: np.ones(n_actions) / n_actions for pos in positions}\n",
    "\n",
    "# Plot\n",
    "fig, axes = plt.subplots(3, 1, figsize=(12, 8), sharex=True)\n",
    "\n",
    "for pos, ax in zip(positions, axes):\n",
    "    ax.bar(np.arange(n_actions), pmfs[pos], color=\"steelblue\")\n",
    "    ax.set_ylabel(f\"P(action) @ pos {pos}\")\n",
    "    ax.set_ylim(0, 0.02)  # ~1/80 = 0.0125\n",
    "axes[-1].set_xlabel(\"Action ID (0–79)\")\n",
    "fig.suptitle(\"Initial uniform probability mass functions (per position)\")\n",
    "plt.tight_layout()\n",
    "plt.show()"
   ]
  },
  {
   "cell_type": "markdown",
   "id": "c2f5c26c",
   "metadata": {},
   "source": [
    "### Round 1 "
   ]
  },
  {
   "cell_type": "markdown",
   "id": "c5457a95",
   "metadata": {},
   "source": [
    "### Initialize alphas and betas"
   ]
  },
  {
   "cell_type": "code",
   "execution_count": 21,
   "id": "e344fbdc",
   "metadata": {},
   "outputs": [],
   "source": [
    "\n",
    "# ---------- Setup ----------\n",
    "n_actions = bf[\"n_actions\"]     # K=80\n",
    "positions = [0, 1, 2]\n",
    "\n",
    "# Priors: Beta(1,1) everywhere (Round 0 state)\n",
    "alpha = {pos: np.ones(n_actions, dtype=float) for pos in positions}\n",
    "beta  =  {pos: np.ones(n_actions, dtype=float) for pos in positions}\n",
    "\n",
    "# ---------- Round 0: before any updates ----------\n",
    "pmf_round0 = {pos: np.full(n_actions, 1.0 / n_actions) for pos in positions}  # uniform\n",
    "df_round0  = make_probs_df(round_num=0, alpha=alpha, beta=beta, pmf_by_pos=pmf_round0)"
   ]
  },
  {
   "cell_type": "markdown",
   "id": "1e584adf",
   "metadata": {},
   "source": [
    "### Sample Observation"
   ]
  },
  {
   "cell_type": "code",
   "execution_count": 24,
   "id": "c1adbf27",
   "metadata": {},
   "outputs": [
    {
     "data": {
      "text/html": [
       "<div>\n",
       "<style scoped>\n",
       "    .dataframe tbody tr th:only-of-type {\n",
       "        vertical-align: middle;\n",
       "    }\n",
       "\n",
       "    .dataframe tbody tr th {\n",
       "        vertical-align: top;\n",
       "    }\n",
       "\n",
       "    .dataframe thead th {\n",
       "        text-align: right;\n",
       "    }\n",
       "</style>\n",
       "<table border=\"1\" class=\"dataframe\">\n",
       "  <thead>\n",
       "    <tr style=\"text-align: right;\">\n",
       "      <th></th>\n",
       "      <th>action</th>\n",
       "      <th>position</th>\n",
       "      <th>reward</th>\n",
       "      <th>pscore</th>\n",
       "    </tr>\n",
       "  </thead>\n",
       "  <tbody>\n",
       "    <tr>\n",
       "      <th>0</th>\n",
       "      <td>54</td>\n",
       "      <td>0</td>\n",
       "      <td>0</td>\n",
       "      <td>0.0125</td>\n",
       "    </tr>\n",
       "    <tr>\n",
       "      <th>1</th>\n",
       "      <td>34</td>\n",
       "      <td>1</td>\n",
       "      <td>0</td>\n",
       "      <td>0.0125</td>\n",
       "    </tr>\n",
       "    <tr>\n",
       "      <th>2</th>\n",
       "      <td>46</td>\n",
       "      <td>2</td>\n",
       "      <td>0</td>\n",
       "      <td>0.0125</td>\n",
       "    </tr>\n",
       "  </tbody>\n",
       "</table>\n",
       "</div>"
      ],
      "text/plain": [
       "   action  position  reward  pscore\n",
       "0      54         0       0  0.0125\n",
       "1      34         1       0  0.0125\n",
       "2      46         2       0  0.0125"
      ]
     },
     "execution_count": 24,
     "metadata": {},
     "output_type": "execute_result"
    }
   ],
   "source": [
    "# ---------- Sample one observation per position from your log DF ----------\n",
    "# NOTE: set random_state=<int> for reproducibility; None for fresh randomness.\n",
    "sampled = (\n",
    "    df.groupby(\"position\", group_keys=False)\n",
    "      .apply(lambda x: x.sample(1, random_state=None))\n",
    "      .reset_index(drop=True)\n",
    ")\n",
    "sampled"
   ]
  },
  {
   "cell_type": "markdown",
   "id": "44a0a11f",
   "metadata": {},
   "source": [
    "### Update based on observations"
   ]
  },
  {
   "cell_type": "code",
   "execution_count": 26,
   "id": "dab09163",
   "metadata": {},
   "outputs": [
    {
     "name": "stdout",
     "output_type": "stream",
     "text": [
      "\n",
      "Updated actions across rounds:\n"
     ]
    },
    {
     "data": {
      "text/html": [
       "<div>\n",
       "<style scoped>\n",
       "    .dataframe tbody tr th:only-of-type {\n",
       "        vertical-align: middle;\n",
       "    }\n",
       "\n",
       "    .dataframe tbody tr th {\n",
       "        vertical-align: top;\n",
       "    }\n",
       "\n",
       "    .dataframe thead th {\n",
       "        text-align: right;\n",
       "    }\n",
       "</style>\n",
       "<table border=\"1\" class=\"dataframe\">\n",
       "  <thead>\n",
       "    <tr style=\"text-align: right;\">\n",
       "      <th></th>\n",
       "      <th>round</th>\n",
       "      <th>action</th>\n",
       "      <th>p_pos0</th>\n",
       "      <th>alpha_pos0</th>\n",
       "      <th>beta_pos0</th>\n",
       "      <th>p_pos1</th>\n",
       "      <th>alpha_pos1</th>\n",
       "      <th>beta_pos1</th>\n",
       "      <th>p_pos2</th>\n",
       "      <th>alpha_pos2</th>\n",
       "      <th>beta_pos2</th>\n",
       "    </tr>\n",
       "  </thead>\n",
       "  <tbody>\n",
       "    <tr>\n",
       "      <th>34</th>\n",
       "      <td>0</td>\n",
       "      <td>34</td>\n",
       "      <td>0.012500</td>\n",
       "      <td>1.0</td>\n",
       "      <td>1.0</td>\n",
       "      <td>0.012500</td>\n",
       "      <td>1.0</td>\n",
       "      <td>1.0</td>\n",
       "      <td>0.012500</td>\n",
       "      <td>1.0</td>\n",
       "      <td>1.0</td>\n",
       "    </tr>\n",
       "    <tr>\n",
       "      <th>46</th>\n",
       "      <td>0</td>\n",
       "      <td>46</td>\n",
       "      <td>0.012500</td>\n",
       "      <td>1.0</td>\n",
       "      <td>1.0</td>\n",
       "      <td>0.012500</td>\n",
       "      <td>1.0</td>\n",
       "      <td>1.0</td>\n",
       "      <td>0.012500</td>\n",
       "      <td>1.0</td>\n",
       "      <td>1.0</td>\n",
       "    </tr>\n",
       "    <tr>\n",
       "      <th>54</th>\n",
       "      <td>0</td>\n",
       "      <td>54</td>\n",
       "      <td>0.012500</td>\n",
       "      <td>1.0</td>\n",
       "      <td>1.0</td>\n",
       "      <td>0.012500</td>\n",
       "      <td>1.0</td>\n",
       "      <td>1.0</td>\n",
       "      <td>0.012500</td>\n",
       "      <td>1.0</td>\n",
       "      <td>1.0</td>\n",
       "    </tr>\n",
       "    <tr>\n",
       "      <th>114</th>\n",
       "      <td>1</td>\n",
       "      <td>34</td>\n",
       "      <td>0.012654</td>\n",
       "      <td>1.0</td>\n",
       "      <td>1.0</td>\n",
       "      <td>0.000309</td>\n",
       "      <td>1.0</td>\n",
       "      <td>3.0</td>\n",
       "      <td>0.012654</td>\n",
       "      <td>1.0</td>\n",
       "      <td>1.0</td>\n",
       "    </tr>\n",
       "    <tr>\n",
       "      <th>126</th>\n",
       "      <td>1</td>\n",
       "      <td>46</td>\n",
       "      <td>0.012654</td>\n",
       "      <td>1.0</td>\n",
       "      <td>1.0</td>\n",
       "      <td>0.012654</td>\n",
       "      <td>1.0</td>\n",
       "      <td>1.0</td>\n",
       "      <td>0.000309</td>\n",
       "      <td>1.0</td>\n",
       "      <td>3.0</td>\n",
       "    </tr>\n",
       "    <tr>\n",
       "      <th>134</th>\n",
       "      <td>1</td>\n",
       "      <td>54</td>\n",
       "      <td>0.000309</td>\n",
       "      <td>1.0</td>\n",
       "      <td>3.0</td>\n",
       "      <td>0.012654</td>\n",
       "      <td>1.0</td>\n",
       "      <td>1.0</td>\n",
       "      <td>0.012654</td>\n",
       "      <td>1.0</td>\n",
       "      <td>1.0</td>\n",
       "    </tr>\n",
       "  </tbody>\n",
       "</table>\n",
       "</div>"
      ],
      "text/plain": [
       "     round  action    p_pos0  alpha_pos0  beta_pos0    p_pos1  alpha_pos1  \\\n",
       "34       0      34  0.012500         1.0        1.0  0.012500         1.0   \n",
       "46       0      46  0.012500         1.0        1.0  0.012500         1.0   \n",
       "54       0      54  0.012500         1.0        1.0  0.012500         1.0   \n",
       "114      1      34  0.012654         1.0        1.0  0.000309         1.0   \n",
       "126      1      46  0.012654         1.0        1.0  0.012654         1.0   \n",
       "134      1      54  0.000309         1.0        3.0  0.012654         1.0   \n",
       "\n",
       "     beta_pos1    p_pos2  alpha_pos2  beta_pos2  \n",
       "34         1.0  0.012500         1.0        1.0  \n",
       "46         1.0  0.012500         1.0        1.0  \n",
       "54         1.0  0.012500         1.0        1.0  \n",
       "114        3.0  0.012654         1.0        1.0  \n",
       "126        1.0  0.000309         1.0        3.0  \n",
       "134        1.0  0.012654         1.0        1.0  "
      ]
     },
     "execution_count": 26,
     "metadata": {},
     "output_type": "execute_result"
    }
   ],
   "source": [
    "# ---------- Round 1: apply sampled updates ----------\n",
    "for _, r in sampled.iterrows():\n",
    "    a_obs = int(r[\"action\"])\n",
    "    p_obs = int(r[\"position\"])\n",
    "    r_obs = int(r[\"reward\"])\n",
    "    alpha[p_obs][a_obs] += r_obs\n",
    "    beta[p_obs][a_obs]  += (1 - r_obs)\n",
    "\n",
    "\n",
    "\n",
    "\n",
    "# Build PMFs after the (one) update at each position (closed-form)\n",
    "pmf_round1 = {}\n",
    "for pos in positions:\n",
    "    obs_row = sampled.loc[sampled[\"position\"] == pos].iloc[0]\n",
    "    pmf_round1[pos] = exact_pmf_one_update(\n",
    "        K=n_actions,\n",
    "        updated_arm=int(obs_row[\"action\"]),\n",
    "        reward=int(obs_row[\"reward\"]),\n",
    "    )\n",
    "\n",
    "df_round1 = make_probs_df(round_num=1, alpha=alpha, beta=beta, pmf_by_pos=pmf_round1)\n",
    "\n",
    "\n",
    "\n",
    "\n",
    "# ---------- Combine rounds for tracking ----------\n",
    "df_probs_all_rounds = pd.concat([df_round0, df_round1], ignore_index=True)\n",
    "\n",
    "# Peek: show just the three updated actions across rounds\n",
    "updated_actions = sampled[\"action\"].tolist()\n",
    "print(\"\\nUpdated actions across rounds:\")\n",
    "df_probs_all_rounds[df_probs_all_rounds[\"action\"].isin(updated_actions)].sort_values([\"round\",\"action\"])\n"
   ]
  },
  {
   "cell_type": "code",
   "execution_count": null,
   "id": "3b4f5578",
   "metadata": {},
   "outputs": [
    {
     "name": "stdout",
     "output_type": "stream",
     "text": [
      "Sampled (one row per position):\n",
      "   action  position  reward  pscore\n",
      "0      79         0       0  0.0125\n",
      "1       7         1       0  0.0125\n",
      "2      49         2       0  0.0125\n"
     ]
    },
    {
     "data": {
      "application/vnd.plotly.v1+json": {
       "config": {
        "plotlyServerURL": "https://plot.ly"
       },
       "data": [
        {
         "customdata": {
          "bdata": "AAAAAAAAAAAAAAAAAAAAAAAAAAAAAAAAAAAAAAAAAAAAAAAAAAAAAAAAAAAAAAAAAAAAAAAAAAAAAAAAAAAAAAAAAAAAAAAAAAAAAAAAAAA=",
          "dtype": "i1",
          "shape": "80, 1"
         },
         "hovertemplate": "Position: %{customdata[0]}<br>Action: %{x}<br>Round: 0<br>P: %{y:.6f}<extra></extra>",
         "legendgroup": "round0",
         "marker": {
          "color": "steelblue"
         },
         "name": "Round 0 (uniform)",
         "opacity": 0.6,
         "showlegend": true,
         "type": "bar",
         "x": {
          "bdata": "AAECAwQFBgcICQoLDA0ODxAREhMUFRYXGBkaGxwdHh8gISIjJCUmJygpKissLS4vMDEyMzQ1Njc4OTo7PD0+P0BBQkNERUZHSElKS0xNTk8=",
          "dtype": "i1"
         },
         "xaxis": "x",
         "y": {
          "bdata": "mpmZmZmZiT+amZmZmZmJP5qZmZmZmYk/mpmZmZmZiT+amZmZmZmJP5qZmZmZmYk/mpmZmZmZiT+amZmZmZmJP5qZmZmZmYk/mpmZmZmZiT+amZmZmZmJP5qZmZmZmYk/mpmZmZmZiT+amZmZmZmJP5qZmZmZmYk/mpmZmZmZiT+amZmZmZmJP5qZmZmZmYk/mpmZmZmZiT+amZmZmZmJP5qZmZmZmYk/mpmZmZmZiT+amZmZmZmJP5qZmZmZmYk/mpmZmZmZiT+amZmZmZmJP5qZmZmZmYk/mpmZmZmZiT+amZmZmZmJP5qZmZmZmYk/mpmZmZmZiT+amZmZmZmJP5qZmZmZmYk/mpmZmZmZiT+amZmZmZmJP5qZmZmZmYk/mpmZmZmZiT+amZmZmZmJP5qZmZmZmYk/mpmZmZmZiT+amZmZmZmJP5qZmZmZmYk/mpmZmZmZiT+amZmZmZmJP5qZmZmZmYk/mpmZmZmZiT+amZmZmZmJP5qZmZmZmYk/mpmZmZmZiT+amZmZmZmJP5qZmZmZmYk/mpmZmZmZiT+amZmZmZmJP5qZmZmZmYk/mpmZmZmZiT+amZmZmZmJP5qZmZmZmYk/mpmZmZmZiT+amZmZmZmJP5qZmZmZmYk/mpmZmZmZiT+amZmZmZmJP5qZmZmZmYk/mpmZmZmZiT+amZmZmZmJP5qZmZmZmYk/mpmZmZmZiT+amZmZmZmJP5qZmZmZmYk/mpmZmZmZiT+amZmZmZmJP5qZmZmZmYk/mpmZmZmZiT+amZmZmZmJP5qZmZmZmYk/mpmZmZmZiT+amZmZmZmJP5qZmZmZmYk/mpmZmZmZiT+amZmZmZmJPw==",
          "dtype": "f8"
         },
         "yaxis": "y"
        },
        {
         "customdata": {
          "bdata": "AAAAAAAAAAAAAAAAAAAAAAAAAAAAAAAAAAAAAAAAAAAAAAAAAAAAAAAAAAAAAAAAAAAAAAAAAAAAAAAAAAAAAAAAAAAAAAAAAAAAAAAAAAA=",
          "dtype": "i1",
          "shape": "80, 1"
         },
         "hovertemplate": "Position: %{customdata[0]}<br>Action: %{x}<br>Round: 1<br>P: %{y:.6f}<extra></extra>",
         "legendgroup": "round1",
         "marker": {
          "color": "darkorange"
         },
         "name": "Round 1 (updated)",
         "opacity": 0.8,
         "showlegend": true,
         "type": "bar",
         "x": {
          "bdata": "AAECAwQFBgcICQoLDA0ODxAREhMUFRYXGBkaGxwdHh8gISIjJCUmJygpKissLS4vMDEyMzQ1Njc4OTo7PD0+P0BBQkNERUZHSElKS0xNTk8=",
          "dtype": "i1"
         },
         "xaxis": "x",
         "y": {
          "bdata": "U0lcNoLqiT9TSVw2guqJP1NJXDaC6ok/U0lcNoLqiT9TSVw2guqJP1NJXDaC6ok/U0lcNoLqiT9TSVw2guqJP1NJXDaC6ok/U0lcNoLqiT9TSVw2guqJP1NJXDaC6ok/U0lcNoLqiT9TSVw2guqJP1NJXDaC6ok/U0lcNoLqiT9TSVw2guqJP1NJXDaC6ok/U0lcNoLqiT9TSVw2guqJP1NJXDaC6ok/U0lcNoLqiT9TSVw2guqJP1NJXDaC6ok/U0lcNoLqiT9TSVw2guqJP1NJXDaC6ok/U0lcNoLqiT9TSVw2guqJP1NJXDaC6ok/U0lcNoLqiT9TSVw2guqJP1NJXDaC6ok/U0lcNoLqiT9TSVw2guqJP1NJXDaC6ok/U0lcNoLqiT9TSVw2guqJP1NJXDaC6ok/U0lcNoLqiT9TSVw2guqJP1NJXDaC6ok/U0lcNoLqiT9TSVw2guqJP1NJXDaC6ok/U0lcNoLqiT9TSVw2guqJP1NJXDaC6ok/U0lcNoLqiT9TSVw2guqJP1NJXDaC6ok/U0lcNoLqiT9TSVw2guqJP1NJXDaC6ok/U0lcNoLqiT9TSVw2guqJP1NJXDaC6ok/U0lcNoLqiT9TSVw2guqJP1NJXDaC6ok/U0lcNoLqiT9TSVw2guqJP1NJXDaC6ok/U0lcNoLqiT9TSVw2guqJP1NJXDaC6ok/U0lcNoLqiT9TSVw2guqJP1NJXDaC6ok/U0lcNoLqiT9TSVw2guqJP1NJXDaC6ok/U0lcNoLqiT9TSVw2guqJP1NJXDaC6ok/U0lcNoLqiT9TSVw2guqJP1NJXDaC6ok/U0lcNoLqiT9N7qswJzo0Pw==",
          "dtype": "f8"
         },
         "yaxis": "y"
        },
        {
         "customdata": {
          "bdata": "AQEBAQEBAQEBAQEBAQEBAQEBAQEBAQEBAQEBAQEBAQEBAQEBAQEBAQEBAQEBAQEBAQEBAQEBAQEBAQEBAQEBAQEBAQEBAQEBAQEBAQEBAQE=",
          "dtype": "i1",
          "shape": "80, 1"
         },
         "hovertemplate": "Position: %{customdata[0]}<br>Action: %{x}<br>Round: 0<br>P: %{y:.6f}<extra></extra>",
         "legendgroup": "round0",
         "marker": {
          "color": "steelblue"
         },
         "name": "Round 0 (uniform)",
         "opacity": 0.6,
         "showlegend": false,
         "type": "bar",
         "x": {
          "bdata": "AAECAwQFBgcICQoLDA0ODxAREhMUFRYXGBkaGxwdHh8gISIjJCUmJygpKissLS4vMDEyMzQ1Njc4OTo7PD0+P0BBQkNERUZHSElKS0xNTk8=",
          "dtype": "i1"
         },
         "xaxis": "x2",
         "y": {
          "bdata": "mpmZmZmZiT+amZmZmZmJP5qZmZmZmYk/mpmZmZmZiT+amZmZmZmJP5qZmZmZmYk/mpmZmZmZiT+amZmZmZmJP5qZmZmZmYk/mpmZmZmZiT+amZmZmZmJP5qZmZmZmYk/mpmZmZmZiT+amZmZmZmJP5qZmZmZmYk/mpmZmZmZiT+amZmZmZmJP5qZmZmZmYk/mpmZmZmZiT+amZmZmZmJP5qZmZmZmYk/mpmZmZmZiT+amZmZmZmJP5qZmZmZmYk/mpmZmZmZiT+amZmZmZmJP5qZmZmZmYk/mpmZmZmZiT+amZmZmZmJP5qZmZmZmYk/mpmZmZmZiT+amZmZmZmJP5qZmZmZmYk/mpmZmZmZiT+amZmZmZmJP5qZmZmZmYk/mpmZmZmZiT+amZmZmZmJP5qZmZmZmYk/mpmZmZmZiT+amZmZmZmJP5qZmZmZmYk/mpmZmZmZiT+amZmZmZmJP5qZmZmZmYk/mpmZmZmZiT+amZmZmZmJP5qZmZmZmYk/mpmZmZmZiT+amZmZmZmJP5qZmZmZmYk/mpmZmZmZiT+amZmZmZmJP5qZmZmZmYk/mpmZmZmZiT+amZmZmZmJP5qZmZmZmYk/mpmZmZmZiT+amZmZmZmJP5qZmZmZmYk/mpmZmZmZiT+amZmZmZmJP5qZmZmZmYk/mpmZmZmZiT+amZmZmZmJP5qZmZmZmYk/mpmZmZmZiT+amZmZmZmJP5qZmZmZmYk/mpmZmZmZiT+amZmZmZmJP5qZmZmZmYk/mpmZmZmZiT+amZmZmZmJP5qZmZmZmYk/mpmZmZmZiT+amZmZmZmJP5qZmZmZmYk/mpmZmZmZiT+amZmZmZmJPw==",
          "dtype": "f8"
         },
         "yaxis": "y2"
        },
        {
         "customdata": {
          "bdata": "AQEBAQEBAQEBAQEBAQEBAQEBAQEBAQEBAQEBAQEBAQEBAQEBAQEBAQEBAQEBAQEBAQEBAQEBAQEBAQEBAQEBAQEBAQEBAQEBAQEBAQEBAQE=",
          "dtype": "i1",
          "shape": "80, 1"
         },
         "hovertemplate": "Position: %{customdata[0]}<br>Action: %{x}<br>Round: 1<br>P: %{y:.6f}<extra></extra>",
         "legendgroup": "round1",
         "marker": {
          "color": "darkorange"
         },
         "name": "Round 1 (updated)",
         "opacity": 0.8,
         "showlegend": false,
         "type": "bar",
         "x": {
          "bdata": "AAECAwQFBgcICQoLDA0ODxAREhMUFRYXGBkaGxwdHh8gISIjJCUmJygpKissLS4vMDEyMzQ1Njc4OTo7PD0+P0BBQkNERUZHSElKS0xNTk8=",
          "dtype": "i1"
         },
         "xaxis": "x2",
         "y": {
          "bdata": "U0lcNoLqiT9TSVw2guqJP1NJXDaC6ok/U0lcNoLqiT9TSVw2guqJP1NJXDaC6ok/U0lcNoLqiT9N7qswJzo0P1NJXDaC6ok/U0lcNoLqiT9TSVw2guqJP1NJXDaC6ok/U0lcNoLqiT9TSVw2guqJP1NJXDaC6ok/U0lcNoLqiT9TSVw2guqJP1NJXDaC6ok/U0lcNoLqiT9TSVw2guqJP1NJXDaC6ok/U0lcNoLqiT9TSVw2guqJP1NJXDaC6ok/U0lcNoLqiT9TSVw2guqJP1NJXDaC6ok/U0lcNoLqiT9TSVw2guqJP1NJXDaC6ok/U0lcNoLqiT9TSVw2guqJP1NJXDaC6ok/U0lcNoLqiT9TSVw2guqJP1NJXDaC6ok/U0lcNoLqiT9TSVw2guqJP1NJXDaC6ok/U0lcNoLqiT9TSVw2guqJP1NJXDaC6ok/U0lcNoLqiT9TSVw2guqJP1NJXDaC6ok/U0lcNoLqiT9TSVw2guqJP1NJXDaC6ok/U0lcNoLqiT9TSVw2guqJP1NJXDaC6ok/U0lcNoLqiT9TSVw2guqJP1NJXDaC6ok/U0lcNoLqiT9TSVw2guqJP1NJXDaC6ok/U0lcNoLqiT9TSVw2guqJP1NJXDaC6ok/U0lcNoLqiT9TSVw2guqJP1NJXDaC6ok/U0lcNoLqiT9TSVw2guqJP1NJXDaC6ok/U0lcNoLqiT9TSVw2guqJP1NJXDaC6ok/U0lcNoLqiT9TSVw2guqJP1NJXDaC6ok/U0lcNoLqiT9TSVw2guqJP1NJXDaC6ok/U0lcNoLqiT9TSVw2guqJP1NJXDaC6ok/U0lcNoLqiT9TSVw2guqJPw==",
          "dtype": "f8"
         },
         "yaxis": "y2"
        },
        {
         "customdata": {
          "bdata": "AgICAgICAgICAgICAgICAgICAgICAgICAgICAgICAgICAgICAgICAgICAgICAgICAgICAgICAgICAgICAgICAgICAgICAgICAgICAgICAgI=",
          "dtype": "i1",
          "shape": "80, 1"
         },
         "hovertemplate": "Position: %{customdata[0]}<br>Action: %{x}<br>Round: 0<br>P: %{y:.6f}<extra></extra>",
         "legendgroup": "round0",
         "marker": {
          "color": "steelblue"
         },
         "name": "Round 0 (uniform)",
         "opacity": 0.6,
         "showlegend": false,
         "type": "bar",
         "x": {
          "bdata": "AAECAwQFBgcICQoLDA0ODxAREhMUFRYXGBkaGxwdHh8gISIjJCUmJygpKissLS4vMDEyMzQ1Njc4OTo7PD0+P0BBQkNERUZHSElKS0xNTk8=",
          "dtype": "i1"
         },
         "xaxis": "x3",
         "y": {
          "bdata": "mpmZmZmZiT+amZmZmZmJP5qZmZmZmYk/mpmZmZmZiT+amZmZmZmJP5qZmZmZmYk/mpmZmZmZiT+amZmZmZmJP5qZmZmZmYk/mpmZmZmZiT+amZmZmZmJP5qZmZmZmYk/mpmZmZmZiT+amZmZmZmJP5qZmZmZmYk/mpmZmZmZiT+amZmZmZmJP5qZmZmZmYk/mpmZmZmZiT+amZmZmZmJP5qZmZmZmYk/mpmZmZmZiT+amZmZmZmJP5qZmZmZmYk/mpmZmZmZiT+amZmZmZmJP5qZmZmZmYk/mpmZmZmZiT+amZmZmZmJP5qZmZmZmYk/mpmZmZmZiT+amZmZmZmJP5qZmZmZmYk/mpmZmZmZiT+amZmZmZmJP5qZmZmZmYk/mpmZmZmZiT+amZmZmZmJP5qZmZmZmYk/mpmZmZmZiT+amZmZmZmJP5qZmZmZmYk/mpmZmZmZiT+amZmZmZmJP5qZmZmZmYk/mpmZmZmZiT+amZmZmZmJP5qZmZmZmYk/mpmZmZmZiT+amZmZmZmJP5qZmZmZmYk/mpmZmZmZiT+amZmZmZmJP5qZmZmZmYk/mpmZmZmZiT+amZmZmZmJP5qZmZmZmYk/mpmZmZmZiT+amZmZmZmJP5qZmZmZmYk/mpmZmZmZiT+amZmZmZmJP5qZmZmZmYk/mpmZmZmZiT+amZmZmZmJP5qZmZmZmYk/mpmZmZmZiT+amZmZmZmJP5qZmZmZmYk/mpmZmZmZiT+amZmZmZmJP5qZmZmZmYk/mpmZmZmZiT+amZmZmZmJP5qZmZmZmYk/mpmZmZmZiT+amZmZmZmJP5qZmZmZmYk/mpmZmZmZiT+amZmZmZmJPw==",
          "dtype": "f8"
         },
         "yaxis": "y3"
        },
        {
         "customdata": {
          "bdata": "AgICAgICAgICAgICAgICAgICAgICAgICAgICAgICAgICAgICAgICAgICAgICAgICAgICAgICAgICAgICAgICAgICAgICAgICAgICAgICAgI=",
          "dtype": "i1",
          "shape": "80, 1"
         },
         "hovertemplate": "Position: %{customdata[0]}<br>Action: %{x}<br>Round: 1<br>P: %{y:.6f}<extra></extra>",
         "legendgroup": "round1",
         "marker": {
          "color": "darkorange"
         },
         "name": "Round 1 (updated)",
         "opacity": 0.8,
         "showlegend": false,
         "type": "bar",
         "x": {
          "bdata": "AAECAwQFBgcICQoLDA0ODxAREhMUFRYXGBkaGxwdHh8gISIjJCUmJygpKissLS4vMDEyMzQ1Njc4OTo7PD0+P0BBQkNERUZHSElKS0xNTk8=",
          "dtype": "i1"
         },
         "xaxis": "x3",
         "y": {
          "bdata": "U0lcNoLqiT9TSVw2guqJP1NJXDaC6ok/U0lcNoLqiT9TSVw2guqJP1NJXDaC6ok/U0lcNoLqiT9TSVw2guqJP1NJXDaC6ok/U0lcNoLqiT9TSVw2guqJP1NJXDaC6ok/U0lcNoLqiT9TSVw2guqJP1NJXDaC6ok/U0lcNoLqiT9TSVw2guqJP1NJXDaC6ok/U0lcNoLqiT9TSVw2guqJP1NJXDaC6ok/U0lcNoLqiT9TSVw2guqJP1NJXDaC6ok/U0lcNoLqiT9TSVw2guqJP1NJXDaC6ok/U0lcNoLqiT9TSVw2guqJP1NJXDaC6ok/U0lcNoLqiT9TSVw2guqJP1NJXDaC6ok/U0lcNoLqiT9TSVw2guqJP1NJXDaC6ok/U0lcNoLqiT9TSVw2guqJP1NJXDaC6ok/U0lcNoLqiT9TSVw2guqJP1NJXDaC6ok/U0lcNoLqiT9TSVw2guqJP1NJXDaC6ok/U0lcNoLqiT9TSVw2guqJP1NJXDaC6ok/U0lcNoLqiT9N7qswJzo0P1NJXDaC6ok/U0lcNoLqiT9TSVw2guqJP1NJXDaC6ok/U0lcNoLqiT9TSVw2guqJP1NJXDaC6ok/U0lcNoLqiT9TSVw2guqJP1NJXDaC6ok/U0lcNoLqiT9TSVw2guqJP1NJXDaC6ok/U0lcNoLqiT9TSVw2guqJP1NJXDaC6ok/U0lcNoLqiT9TSVw2guqJP1NJXDaC6ok/U0lcNoLqiT9TSVw2guqJP1NJXDaC6ok/U0lcNoLqiT9TSVw2guqJP1NJXDaC6ok/U0lcNoLqiT9TSVw2guqJP1NJXDaC6ok/U0lcNoLqiT9TSVw2guqJPw==",
          "dtype": "f8"
         },
         "yaxis": "y3"
        }
       ],
       "layout": {
        "annotations": [
         {
          "font": {
           "size": 16
          },
          "showarrow": false,
          "text": "Position 0",
          "x": 0.5,
          "xanchor": "center",
          "xref": "paper",
          "y": 1,
          "yanchor": "bottom",
          "yref": "paper"
         },
         {
          "font": {
           "size": 16
          },
          "showarrow": false,
          "text": "Position 1",
          "x": 0.5,
          "xanchor": "center",
          "xref": "paper",
          "y": 0.6399999999999999,
          "yanchor": "bottom",
          "yref": "paper"
         },
         {
          "font": {
           "size": 16
          },
          "showarrow": false,
          "text": "Position 2",
          "x": 0.5,
          "xanchor": "center",
          "xref": "paper",
          "y": 0.27999999999999997,
          "yanchor": "bottom",
          "yref": "paper"
         }
        ],
        "bargap": 0.15,
        "barmode": "group",
        "height": 900,
        "template": {
         "data": {
          "bar": [
           {
            "error_x": {
             "color": "#2a3f5f"
            },
            "error_y": {
             "color": "#2a3f5f"
            },
            "marker": {
             "line": {
              "color": "white",
              "width": 0.5
             },
             "pattern": {
              "fillmode": "overlay",
              "size": 10,
              "solidity": 0.2
             }
            },
            "type": "bar"
           }
          ],
          "barpolar": [
           {
            "marker": {
             "line": {
              "color": "white",
              "width": 0.5
             },
             "pattern": {
              "fillmode": "overlay",
              "size": 10,
              "solidity": 0.2
             }
            },
            "type": "barpolar"
           }
          ],
          "carpet": [
           {
            "aaxis": {
             "endlinecolor": "#2a3f5f",
             "gridcolor": "#C8D4E3",
             "linecolor": "#C8D4E3",
             "minorgridcolor": "#C8D4E3",
             "startlinecolor": "#2a3f5f"
            },
            "baxis": {
             "endlinecolor": "#2a3f5f",
             "gridcolor": "#C8D4E3",
             "linecolor": "#C8D4E3",
             "minorgridcolor": "#C8D4E3",
             "startlinecolor": "#2a3f5f"
            },
            "type": "carpet"
           }
          ],
          "choropleth": [
           {
            "colorbar": {
             "outlinewidth": 0,
             "ticks": ""
            },
            "type": "choropleth"
           }
          ],
          "contour": [
           {
            "colorbar": {
             "outlinewidth": 0,
             "ticks": ""
            },
            "colorscale": [
             [
              0,
              "#0d0887"
             ],
             [
              0.1111111111111111,
              "#46039f"
             ],
             [
              0.2222222222222222,
              "#7201a8"
             ],
             [
              0.3333333333333333,
              "#9c179e"
             ],
             [
              0.4444444444444444,
              "#bd3786"
             ],
             [
              0.5555555555555556,
              "#d8576b"
             ],
             [
              0.6666666666666666,
              "#ed7953"
             ],
             [
              0.7777777777777778,
              "#fb9f3a"
             ],
             [
              0.8888888888888888,
              "#fdca26"
             ],
             [
              1,
              "#f0f921"
             ]
            ],
            "type": "contour"
           }
          ],
          "contourcarpet": [
           {
            "colorbar": {
             "outlinewidth": 0,
             "ticks": ""
            },
            "type": "contourcarpet"
           }
          ],
          "heatmap": [
           {
            "colorbar": {
             "outlinewidth": 0,
             "ticks": ""
            },
            "colorscale": [
             [
              0,
              "#0d0887"
             ],
             [
              0.1111111111111111,
              "#46039f"
             ],
             [
              0.2222222222222222,
              "#7201a8"
             ],
             [
              0.3333333333333333,
              "#9c179e"
             ],
             [
              0.4444444444444444,
              "#bd3786"
             ],
             [
              0.5555555555555556,
              "#d8576b"
             ],
             [
              0.6666666666666666,
              "#ed7953"
             ],
             [
              0.7777777777777778,
              "#fb9f3a"
             ],
             [
              0.8888888888888888,
              "#fdca26"
             ],
             [
              1,
              "#f0f921"
             ]
            ],
            "type": "heatmap"
           }
          ],
          "histogram": [
           {
            "marker": {
             "pattern": {
              "fillmode": "overlay",
              "size": 10,
              "solidity": 0.2
             }
            },
            "type": "histogram"
           }
          ],
          "histogram2d": [
           {
            "colorbar": {
             "outlinewidth": 0,
             "ticks": ""
            },
            "colorscale": [
             [
              0,
              "#0d0887"
             ],
             [
              0.1111111111111111,
              "#46039f"
             ],
             [
              0.2222222222222222,
              "#7201a8"
             ],
             [
              0.3333333333333333,
              "#9c179e"
             ],
             [
              0.4444444444444444,
              "#bd3786"
             ],
             [
              0.5555555555555556,
              "#d8576b"
             ],
             [
              0.6666666666666666,
              "#ed7953"
             ],
             [
              0.7777777777777778,
              "#fb9f3a"
             ],
             [
              0.8888888888888888,
              "#fdca26"
             ],
             [
              1,
              "#f0f921"
             ]
            ],
            "type": "histogram2d"
           }
          ],
          "histogram2dcontour": [
           {
            "colorbar": {
             "outlinewidth": 0,
             "ticks": ""
            },
            "colorscale": [
             [
              0,
              "#0d0887"
             ],
             [
              0.1111111111111111,
              "#46039f"
             ],
             [
              0.2222222222222222,
              "#7201a8"
             ],
             [
              0.3333333333333333,
              "#9c179e"
             ],
             [
              0.4444444444444444,
              "#bd3786"
             ],
             [
              0.5555555555555556,
              "#d8576b"
             ],
             [
              0.6666666666666666,
              "#ed7953"
             ],
             [
              0.7777777777777778,
              "#fb9f3a"
             ],
             [
              0.8888888888888888,
              "#fdca26"
             ],
             [
              1,
              "#f0f921"
             ]
            ],
            "type": "histogram2dcontour"
           }
          ],
          "mesh3d": [
           {
            "colorbar": {
             "outlinewidth": 0,
             "ticks": ""
            },
            "type": "mesh3d"
           }
          ],
          "parcoords": [
           {
            "line": {
             "colorbar": {
              "outlinewidth": 0,
              "ticks": ""
             }
            },
            "type": "parcoords"
           }
          ],
          "pie": [
           {
            "automargin": true,
            "type": "pie"
           }
          ],
          "scatter": [
           {
            "fillpattern": {
             "fillmode": "overlay",
             "size": 10,
             "solidity": 0.2
            },
            "type": "scatter"
           }
          ],
          "scatter3d": [
           {
            "line": {
             "colorbar": {
              "outlinewidth": 0,
              "ticks": ""
             }
            },
            "marker": {
             "colorbar": {
              "outlinewidth": 0,
              "ticks": ""
             }
            },
            "type": "scatter3d"
           }
          ],
          "scattercarpet": [
           {
            "marker": {
             "colorbar": {
              "outlinewidth": 0,
              "ticks": ""
             }
            },
            "type": "scattercarpet"
           }
          ],
          "scattergeo": [
           {
            "marker": {
             "colorbar": {
              "outlinewidth": 0,
              "ticks": ""
             }
            },
            "type": "scattergeo"
           }
          ],
          "scattergl": [
           {
            "marker": {
             "colorbar": {
              "outlinewidth": 0,
              "ticks": ""
             }
            },
            "type": "scattergl"
           }
          ],
          "scattermap": [
           {
            "marker": {
             "colorbar": {
              "outlinewidth": 0,
              "ticks": ""
             }
            },
            "type": "scattermap"
           }
          ],
          "scattermapbox": [
           {
            "marker": {
             "colorbar": {
              "outlinewidth": 0,
              "ticks": ""
             }
            },
            "type": "scattermapbox"
           }
          ],
          "scatterpolar": [
           {
            "marker": {
             "colorbar": {
              "outlinewidth": 0,
              "ticks": ""
             }
            },
            "type": "scatterpolar"
           }
          ],
          "scatterpolargl": [
           {
            "marker": {
             "colorbar": {
              "outlinewidth": 0,
              "ticks": ""
             }
            },
            "type": "scatterpolargl"
           }
          ],
          "scatterternary": [
           {
            "marker": {
             "colorbar": {
              "outlinewidth": 0,
              "ticks": ""
             }
            },
            "type": "scatterternary"
           }
          ],
          "surface": [
           {
            "colorbar": {
             "outlinewidth": 0,
             "ticks": ""
            },
            "colorscale": [
             [
              0,
              "#0d0887"
             ],
             [
              0.1111111111111111,
              "#46039f"
             ],
             [
              0.2222222222222222,
              "#7201a8"
             ],
             [
              0.3333333333333333,
              "#9c179e"
             ],
             [
              0.4444444444444444,
              "#bd3786"
             ],
             [
              0.5555555555555556,
              "#d8576b"
             ],
             [
              0.6666666666666666,
              "#ed7953"
             ],
             [
              0.7777777777777778,
              "#fb9f3a"
             ],
             [
              0.8888888888888888,
              "#fdca26"
             ],
             [
              1,
              "#f0f921"
             ]
            ],
            "type": "surface"
           }
          ],
          "table": [
           {
            "cells": {
             "fill": {
              "color": "#EBF0F8"
             },
             "line": {
              "color": "white"
             }
            },
            "header": {
             "fill": {
              "color": "#C8D4E3"
             },
             "line": {
              "color": "white"
             }
            },
            "type": "table"
           }
          ]
         },
         "layout": {
          "annotationdefaults": {
           "arrowcolor": "#2a3f5f",
           "arrowhead": 0,
           "arrowwidth": 1
          },
          "autotypenumbers": "strict",
          "coloraxis": {
           "colorbar": {
            "outlinewidth": 0,
            "ticks": ""
           }
          },
          "colorscale": {
           "diverging": [
            [
             0,
             "#8e0152"
            ],
            [
             0.1,
             "#c51b7d"
            ],
            [
             0.2,
             "#de77ae"
            ],
            [
             0.3,
             "#f1b6da"
            ],
            [
             0.4,
             "#fde0ef"
            ],
            [
             0.5,
             "#f7f7f7"
            ],
            [
             0.6,
             "#e6f5d0"
            ],
            [
             0.7,
             "#b8e186"
            ],
            [
             0.8,
             "#7fbc41"
            ],
            [
             0.9,
             "#4d9221"
            ],
            [
             1,
             "#276419"
            ]
           ],
           "sequential": [
            [
             0,
             "#0d0887"
            ],
            [
             0.1111111111111111,
             "#46039f"
            ],
            [
             0.2222222222222222,
             "#7201a8"
            ],
            [
             0.3333333333333333,
             "#9c179e"
            ],
            [
             0.4444444444444444,
             "#bd3786"
            ],
            [
             0.5555555555555556,
             "#d8576b"
            ],
            [
             0.6666666666666666,
             "#ed7953"
            ],
            [
             0.7777777777777778,
             "#fb9f3a"
            ],
            [
             0.8888888888888888,
             "#fdca26"
            ],
            [
             1,
             "#f0f921"
            ]
           ],
           "sequentialminus": [
            [
             0,
             "#0d0887"
            ],
            [
             0.1111111111111111,
             "#46039f"
            ],
            [
             0.2222222222222222,
             "#7201a8"
            ],
            [
             0.3333333333333333,
             "#9c179e"
            ],
            [
             0.4444444444444444,
             "#bd3786"
            ],
            [
             0.5555555555555556,
             "#d8576b"
            ],
            [
             0.6666666666666666,
             "#ed7953"
            ],
            [
             0.7777777777777778,
             "#fb9f3a"
            ],
            [
             0.8888888888888888,
             "#fdca26"
            ],
            [
             1,
             "#f0f921"
            ]
           ]
          },
          "colorway": [
           "#636efa",
           "#EF553B",
           "#00cc96",
           "#ab63fa",
           "#FFA15A",
           "#19d3f3",
           "#FF6692",
           "#B6E880",
           "#FF97FF",
           "#FECB52"
          ],
          "font": {
           "color": "#2a3f5f"
          },
          "geo": {
           "bgcolor": "white",
           "lakecolor": "white",
           "landcolor": "white",
           "showlakes": true,
           "showland": true,
           "subunitcolor": "#C8D4E3"
          },
          "hoverlabel": {
           "align": "left"
          },
          "hovermode": "closest",
          "mapbox": {
           "style": "light"
          },
          "paper_bgcolor": "white",
          "plot_bgcolor": "white",
          "polar": {
           "angularaxis": {
            "gridcolor": "#EBF0F8",
            "linecolor": "#EBF0F8",
            "ticks": ""
           },
           "bgcolor": "white",
           "radialaxis": {
            "gridcolor": "#EBF0F8",
            "linecolor": "#EBF0F8",
            "ticks": ""
           }
          },
          "scene": {
           "xaxis": {
            "backgroundcolor": "white",
            "gridcolor": "#DFE8F3",
            "gridwidth": 2,
            "linecolor": "#EBF0F8",
            "showbackground": true,
            "ticks": "",
            "zerolinecolor": "#EBF0F8"
           },
           "yaxis": {
            "backgroundcolor": "white",
            "gridcolor": "#DFE8F3",
            "gridwidth": 2,
            "linecolor": "#EBF0F8",
            "showbackground": true,
            "ticks": "",
            "zerolinecolor": "#EBF0F8"
           },
           "zaxis": {
            "backgroundcolor": "white",
            "gridcolor": "#DFE8F3",
            "gridwidth": 2,
            "linecolor": "#EBF0F8",
            "showbackground": true,
            "ticks": "",
            "zerolinecolor": "#EBF0F8"
           }
          },
          "shapedefaults": {
           "line": {
            "color": "#2a3f5f"
           }
          },
          "ternary": {
           "aaxis": {
            "gridcolor": "#DFE8F3",
            "linecolor": "#A2B1C6",
            "ticks": ""
           },
           "baxis": {
            "gridcolor": "#DFE8F3",
            "linecolor": "#A2B1C6",
            "ticks": ""
           },
           "bgcolor": "white",
           "caxis": {
            "gridcolor": "#DFE8F3",
            "linecolor": "#A2B1C6",
            "ticks": ""
           }
          },
          "title": {
           "x": 0.05
          },
          "xaxis": {
           "automargin": true,
           "gridcolor": "#EBF0F8",
           "linecolor": "#EBF0F8",
           "ticks": "",
           "title": {
            "standoff": 15
           },
           "zerolinecolor": "#EBF0F8",
           "zerolinewidth": 2
          },
          "yaxis": {
           "automargin": true,
           "gridcolor": "#EBF0F8",
           "linecolor": "#EBF0F8",
           "ticks": "",
           "title": {
            "standoff": 15
           },
           "zerolinecolor": "#EBF0F8",
           "zerolinewidth": 2
          }
         }
        },
        "title": {
         "text": "Selection probabilities by position: Round 0 vs Round 1"
        },
        "xaxis": {
         "anchor": "y",
         "domain": [
          0,
          1
         ],
         "showticklabels": true,
         "tickmode": "array",
         "ticks": "outside",
         "ticktext": [
          "0",
          "1",
          "2",
          "3",
          "4",
          "5",
          "6",
          "7",
          "8",
          "9",
          "10",
          "11",
          "12",
          "13",
          "14",
          "15",
          "16",
          "17",
          "18",
          "19",
          "20",
          "21",
          "22",
          "23",
          "24",
          "25",
          "26",
          "27",
          "28",
          "29",
          "30",
          "31",
          "32",
          "33",
          "34",
          "35",
          "36",
          "37",
          "38",
          "39",
          "40",
          "41",
          "42",
          "43",
          "44",
          "45",
          "46",
          "47",
          "48",
          "49",
          "50",
          "51",
          "52",
          "53",
          "54",
          "55",
          "56",
          "57",
          "58",
          "59",
          "60",
          "61",
          "62",
          "63",
          "64",
          "65",
          "66",
          "67",
          "68",
          "69",
          "70",
          "71",
          "72",
          "73",
          "74",
          "75",
          "76",
          "77",
          "78",
          "79"
         ],
         "tickvals": {
          "bdata": "AAECAwQFBgcICQoLDA0ODxAREhMUFRYXGBkaGxwdHh8gISIjJCUmJygpKissLS4vMDEyMzQ1Njc4OTo7PD0+P0BBQkNERUZHSElKS0xNTk8=",
          "dtype": "i1"
         }
        },
        "xaxis2": {
         "anchor": "y2",
         "domain": [
          0,
          1
         ],
         "showticklabels": true,
         "tickmode": "array",
         "ticks": "outside",
         "ticktext": [
          "0",
          "1",
          "2",
          "3",
          "4",
          "5",
          "6",
          "7",
          "8",
          "9",
          "10",
          "11",
          "12",
          "13",
          "14",
          "15",
          "16",
          "17",
          "18",
          "19",
          "20",
          "21",
          "22",
          "23",
          "24",
          "25",
          "26",
          "27",
          "28",
          "29",
          "30",
          "31",
          "32",
          "33",
          "34",
          "35",
          "36",
          "37",
          "38",
          "39",
          "40",
          "41",
          "42",
          "43",
          "44",
          "45",
          "46",
          "47",
          "48",
          "49",
          "50",
          "51",
          "52",
          "53",
          "54",
          "55",
          "56",
          "57",
          "58",
          "59",
          "60",
          "61",
          "62",
          "63",
          "64",
          "65",
          "66",
          "67",
          "68",
          "69",
          "70",
          "71",
          "72",
          "73",
          "74",
          "75",
          "76",
          "77",
          "78",
          "79"
         ],
         "tickvals": {
          "bdata": "AAECAwQFBgcICQoLDA0ODxAREhMUFRYXGBkaGxwdHh8gISIjJCUmJygpKissLS4vMDEyMzQ1Njc4OTo7PD0+P0BBQkNERUZHSElKS0xNTk8=",
          "dtype": "i1"
         }
        },
        "xaxis3": {
         "anchor": "y3",
         "domain": [
          0,
          1
         ],
         "showticklabels": true,
         "tickmode": "array",
         "ticks": "outside",
         "ticktext": [
          "0",
          "1",
          "2",
          "3",
          "4",
          "5",
          "6",
          "7",
          "8",
          "9",
          "10",
          "11",
          "12",
          "13",
          "14",
          "15",
          "16",
          "17",
          "18",
          "19",
          "20",
          "21",
          "22",
          "23",
          "24",
          "25",
          "26",
          "27",
          "28",
          "29",
          "30",
          "31",
          "32",
          "33",
          "34",
          "35",
          "36",
          "37",
          "38",
          "39",
          "40",
          "41",
          "42",
          "43",
          "44",
          "45",
          "46",
          "47",
          "48",
          "49",
          "50",
          "51",
          "52",
          "53",
          "54",
          "55",
          "56",
          "57",
          "58",
          "59",
          "60",
          "61",
          "62",
          "63",
          "64",
          "65",
          "66",
          "67",
          "68",
          "69",
          "70",
          "71",
          "72",
          "73",
          "74",
          "75",
          "76",
          "77",
          "78",
          "79"
         ],
         "tickvals": {
          "bdata": "AAECAwQFBgcICQoLDA0ODxAREhMUFRYXGBkaGxwdHh8gISIjJCUmJygpKissLS4vMDEyMzQ1Njc4OTo7PD0+P0BBQkNERUZHSElKS0xNTk8=",
          "dtype": "i1"
         },
         "title": {
          "text": "Action ID (0–79)"
         }
        },
        "yaxis": {
         "anchor": "x",
         "domain": [
          0.72,
          1
         ],
         "range": [
          0,
          0.015817901234567902
         ],
         "title": {
          "text": "P(action selected)"
         }
        },
        "yaxis2": {
         "anchor": "x2",
         "domain": [
          0.36,
          0.6399999999999999
         ],
         "range": [
          0,
          0.015817901234567902
         ],
         "title": {
          "text": "P(action selected)"
         }
        },
        "yaxis3": {
         "anchor": "x3",
         "domain": [
          0,
          0.27999999999999997
         ],
         "range": [
          0,
          0.015817901234567902
         ],
         "title": {
          "text": "P(action selected)"
         }
        }
       }
      }
     },
     "metadata": {},
     "output_type": "display_data"
    }
   ],
   "source": [
    "\n",
    "\n",
    "print(\"Sampled (one row per position):\")\n",
    "print(sampled[[\"action\",\"position\",\"reward\",\"pscore\"]])\n",
    "\n",
    "fig = make_subplots(\n",
    "    rows=3, cols=1, shared_xaxes=False,   # <- don't share, so each row can show its ticks\n",
    "    subplot_titles=[f\"Position {p}\" for p in positions],\n",
    "    vertical_spacing=0.08\n",
    ")\n",
    "\n",
    "for i, pos in enumerate(positions, start=1):\n",
    "    xs  = np.arange(n_actions)\n",
    "    y0  = pmf_round0[pos]\n",
    "    y1  = pmf_round1[pos]\n",
    "    ymax = float(max(y0.max(), y1.max())) * 1.25\n",
    "\n",
    "    fig.add_trace(\n",
    "        go.Bar(\n",
    "            x=xs, y=y0, name=\"Round 0 (uniform)\",\n",
    "            marker=dict(color=\"steelblue\"),\n",
    "            opacity=0.6, legendgroup=\"round0\",\n",
    "            showlegend=(i == 1),\n",
    "            customdata=np.column_stack([np.full(n_actions, pos)]),\n",
    "            hovertemplate=\"Position: %{customdata[0]}<br>Action: %{x}<br>Round: 0<br>P: %{y:.6f}<extra></extra>\",\n",
    "        ),\n",
    "        row=i, col=1\n",
    "    )\n",
    "\n",
    "    fig.add_trace(\n",
    "        go.Bar(\n",
    "            x=xs, y=y1, name=\"Round 1 (updated)\",\n",
    "            marker=dict(color=\"darkorange\"),\n",
    "            opacity=0.8, legendgroup=\"round1\",\n",
    "            showlegend=(i == 1),\n",
    "            customdata=np.column_stack([np.full(n_actions, pos)]),\n",
    "            hovertemplate=\"Position: %{customdata[0]}<br>Action: %{x}<br>Round: 1<br>P: %{y:.6f}<extra></extra>\",\n",
    "        ),\n",
    "        row=i, col=1\n",
    "    )\n",
    "\n",
    "    # per-row y range\n",
    "    fig.update_yaxes(range=[0, ymax], row=i, col=1)\n",
    "\n",
    "# force ticks 0..79 on EVERY subplot\n",
    "tick_vals = np.arange(n_actions)\n",
    "tick_txt  = [str(a) for a in tick_vals]\n",
    "for i in range(1, 4):\n",
    "    fig.update_xaxes(\n",
    "        tickmode=\"array\",\n",
    "        tickvals=tick_vals,\n",
    "        ticktext=tick_txt,\n",
    "        showticklabels=True,   # <- ensure labels are drawn\n",
    "        ticks=\"outside\",\n",
    "        row=i, col=1\n",
    "    )\n",
    "\n",
    "# axis titles\n",
    "fig.update_xaxes(title_text=\"Action ID (0–79)\", row=3, col=1)\n",
    "for i in range(1, 4):\n",
    "    fig.update_yaxes(title_text=\"P(action selected)\", row=i, col=1)\n",
    "\n",
    "fig.update_layout(\n",
    "    title=\"Selection probabilities by position: Round 0 vs Round 1\",\n",
    "    barmode=\"group\",\n",
    "    bargap=0.15,\n",
    "    height=900,\n",
    "    template=\"plotly_white\",\n",
    ")\n",
    "\n",
    "fig.show()"
   ]
  },
  {
   "cell_type": "code",
   "execution_count": 18,
   "id": "3ea7f459",
   "metadata": {},
   "outputs": [
    {
     "name": "stdout",
     "output_type": "stream",
     "text": [
      "[NbConvertApp] Converting notebook bandit.ipynb to script\n",
      "[NbConvertApp] Writing 6871 bytes to bandit.py\n"
     ]
    }
   ],
   "source": [
    "!jupyter nbconvert --to script bandit.ipynb"
   ]
  },
  {
   "cell_type": "code",
   "execution_count": 32,
   "id": "6e473de4",
   "metadata": {},
   "outputs": [],
   "source": [
    "# bandit_rounds.py\n",
    "\n",
    "import numpy as np\n",
    "import pandas as pd\n",
    "import plotly.graph_objects as go\n",
    "from plotly.subplots import make_subplots\n",
    "\n",
    "class ThompsonSlateTracker:\n",
    "    def __init__(self, df, n_actions: int, positions=(0,1,2), seed: int = 7):\n",
    "        \"\"\"\n",
    "        df: DataFrame with columns ['action','position','reward','pscore']\n",
    "        n_actions: number of actions (e.g., 80)\n",
    "        positions: iterable of slot indices present in df (0,1,2)\n",
    "        \"\"\"\n",
    "        self.df = df\n",
    "        self.n_actions = int(n_actions)\n",
    "        self.positions = tuple(positions)\n",
    "        self.rng = np.random.RandomState(seed)\n",
    "\n",
    "        # priors\n",
    "        self.alpha = {p: np.ones(self.n_actions, dtype=float) for p in self.positions}\n",
    "        self.beta  = {p: np.ones(self.n_actions, dtype=float) for p in self.positions}\n",
    "\n",
    "        # history\n",
    "        self.round = 0\n",
    "        self.pmfs = {}        # round -> {pos -> np.array(n_actions)}\n",
    "        self.samples = {}     # round -> DataFrame rows (one per position)\n",
    "\n",
    "        # round 0 snapshot (uniform PMF)\n",
    "        pmf0 = {p: np.full(self.n_actions, 1.0/self.n_actions) for p in self.positions}\n",
    "        self.pmfs[0] = pmf0\n",
    "        self.samples[0] = pd.DataFrame(columns=[\"action\",\"position\",\"reward\",\"pscore\"])\n",
    "\n",
    "    # ---------- PMF backends ----------\n",
    "    @staticmethod\n",
    "    def _pmf_exact_one_update(K: int, updated_arm: int, reward: int):\n",
    "        \"\"\"Exact closed-form PMF when starting from Beta(1,1) and exactly one arm updated once.\"\"\"\n",
    "        p = np.empty(K, dtype=float)\n",
    "        if reward == 1:\n",
    "            p_updated = 2.0 / (K + 1.0)\n",
    "            p_others  = 1.0 / (K + 1.0)\n",
    "        else:\n",
    "            p_updated = 2.0 / (K * (K + 1.0))\n",
    "            p_others  = (1.0 - p_updated) / (K - 1.0)\n",
    "        p.fill(p_others)\n",
    "        p[updated_arm] = p_updated\n",
    "        return p\n",
    "\n",
    "    @staticmethod\n",
    "    def _pmf_mc(alpha_vec, beta_vec, n_sim=200_000, rng=None):\n",
    "        \"\"\"Monte Carlo PMF: P(action = argmax) for one position.\"\"\"\n",
    "        rng = np.random.RandomState() if rng is None else rng\n",
    "        K = len(alpha_vec)\n",
    "        samples = rng.beta(alpha_vec[None, :], beta_vec[None, :], size=(n_sim, K))\n",
    "        winners = samples.argmax(axis=1)\n",
    "        counts = np.bincount(winners, minlength=K)\n",
    "        return counts / counts.sum()\n",
    "\n",
    "    def _can_use_exact(self, pos: int, samples_this_round: pd.DataFrame):\n",
    "        \"\"\"Exact is valid iff all actions at this pos are Beta(1,1) except possibly ONE with a single +/-1 update.\"\"\"\n",
    "        # Check α,β before applying new updates? We call this AFTER updates for the round,\n",
    "        # but only exact if the *cumulative* state at this pos is either:\n",
    "        # - all ones (no updates), or\n",
    "        # - exactly one action has (alpha,beta) in {(2,1),(1,2)} and everyone else is (1,1)\n",
    "        a = self.alpha[pos]; b = self.beta[pos]\n",
    "        mask_ones = (a == 1) & (b == 1)\n",
    "        if mask_ones.all():\n",
    "            return True, None, None  # uniform exact\n",
    "        # find candidates with one step changes\n",
    "        changed_idx = np.where(~mask_ones)[0]\n",
    "        if len(changed_idx) != 1:\n",
    "            return False, None, None\n",
    "        j = int(changed_idx[0])\n",
    "        pair = (a[j], b[j])\n",
    "        if (pair == (2,1)) or (pair == (1,2)):\n",
    "            # also ensure all others are (1,1)\n",
    "            return True, j, int(pair[0] == 2 and pair[1] == 1)  # reward=1 if (2,1)\n",
    "        return False, None, None\n",
    "\n",
    "    # ---------- Round operations ----------\n",
    "    def sample_one_per_position(self, random_state=None):\n",
    "        \"\"\"Return 3-row DataFrame with one random row per position.\"\"\"\n",
    "        samp = (\n",
    "            self.df.groupby(\"position\", group_keys=False)\n",
    "            .apply(lambda x: x.sample(1, random_state=random_state))\n",
    "            .reset_index(drop=True)\n",
    "        )\n",
    "        return samp\n",
    "\n",
    "    def apply_updates(self, sampled_rows: pd.DataFrame):\n",
    "        \"\"\"Update alpha/beta using the sampled rows.\"\"\"\n",
    "        for _, r in sampled_rows.iterrows():\n",
    "            a_obs = int(r[\"action\"])\n",
    "            p_obs = int(r[\"position\"])\n",
    "            r_obs = int(r[\"reward\"])\n",
    "            self.alpha[p_obs][a_obs] += r_obs\n",
    "            self.beta[p_obs][a_obs]  += (1 - r_obs)\n",
    "\n",
    "    def snapshot_pmfs(self, use_mc_if_needed=True, n_sim=200_000):\n",
    "        \"\"\"Compute PMF for every position given current alpha/beta; store under current round.\"\"\"\n",
    "        pmf = {}\n",
    "        for pos in self.positions:\n",
    "            ok_exact, idx, rew = self._can_use_exact(pos, None)\n",
    "            if ok_exact:\n",
    "                if idx is None:\n",
    "                    # truly uniform\n",
    "                    pmf[pos] = np.full(self.n_actions, 1.0/self.n_actions, dtype=float)\n",
    "                else:\n",
    "                    pmf[pos] = self._pmf_exact_one_update(self.n_actions, idx, rew)\n",
    "            else:\n",
    "                if not use_mc_if_needed:\n",
    "                    raise RuntimeError(\n",
    "                        f\"Exact closed-form is not valid at position {pos} after round {self.round}. \"\n",
    "                        \"Set use_mc_if_needed=True (default) to compute PMFs.\"\n",
    "                    )\n",
    "                pmf[pos] = self._pmf_mc(self.alpha[pos], self.beta[pos], n_sim=n_sim, rng=self.rng)\n",
    "        self.pmfs[self.round] = pmf\n",
    "\n",
    "    def next_round(self, random_state=None, use_mc_if_needed=True, n_sim=200_000):\n",
    "        \"\"\"Advance one round: sample, update, snapshot PMFs.\"\"\"\n",
    "        self.round += 1\n",
    "        samp = self.sample_one_per_position(random_state=random_state)\n",
    "        self.samples[self.round] = samp\n",
    "        self.apply_updates(samp)\n",
    "        self.snapshot_pmfs(use_mc_if_needed=use_mc_if_needed, n_sim=n_sim)\n",
    "        return samp  # useful to print/inspect\n",
    "\n",
    "    # ---------- Plot ----------\n",
    "    def plot_compare(self, round_a: int, round_b: int, height=900, title=None):\n",
    "        \"\"\"Plotly grouped bars comparing PMFs of two rounds for each position.\"\"\"\n",
    "        if round_a not in self.pmfs or round_b not in self.pmfs:\n",
    "            raise KeyError(\"Requested rounds not in history. Call snapshot/next_round first.\")\n",
    "\n",
    "        pmf_a = self.pmfs[round_a]\n",
    "        pmf_b = self.pmfs[round_b]\n",
    "        n_actions = self.n_actions\n",
    "\n",
    "        fig = make_subplots(\n",
    "            rows=3, cols=1, shared_xaxes=False,\n",
    "            subplot_titles=[f\"Position {p}\" for p in self.positions],\n",
    "            vertical_spacing=0.08\n",
    "        )\n",
    "\n",
    "        for i, pos in enumerate(self.positions, start=1):\n",
    "            xs = np.arange(n_actions)\n",
    "            yA = pmf_a[pos]\n",
    "            yB = pmf_b[pos]\n",
    "            ymax = float(max(yA.max(), yB.max())) * 1.25\n",
    "\n",
    "            fig.add_trace(\n",
    "                go.Bar(\n",
    "                    x=xs, y=yA, name=f\"Round {round_a}\",\n",
    "                    marker=dict(color=\"steelblue\"), opacity=0.6,\n",
    "                    showlegend=(i == 1),\n",
    "                    customdata=np.column_stack([np.full(n_actions, pos)]),\n",
    "                    hovertemplate=\"Position: %{customdata[0]}<br>Action: %{x}<br>Round: \"+str(round_a)+\"<br>P: %{y:.6f}<extra></extra>\",\n",
    "                ),\n",
    "                row=i, col=1\n",
    "            )\n",
    "            fig.add_trace(\n",
    "                go.Bar(\n",
    "                    x=xs, y=yB, name=f\"Round {round_b}\",\n",
    "                    marker=dict(color=\"darkorange\"), opacity=0.8,\n",
    "                    showlegend=(i == 1),\n",
    "                    customdata=np.column_stack([np.full(n_actions, pos)]),\n",
    "                    hovertemplate=\"Position: %{customdata[0]}<br>Action: %{x}<br>Round: \"+str(round_b)+\"<br>P: %{y:.6f}<extra></extra>\",\n",
    "                ),\n",
    "                row=i, col=1\n",
    "            )\n",
    "            fig.update_yaxes(range=[0, ymax], row=i, col=1)\n",
    "\n",
    "        # force ticks 0..n_actions-1 on all three subplots\n",
    "        ticks = np.arange(n_actions)\n",
    "        labels = [str(a) for a in ticks]\n",
    "        for i in range(1, 4):\n",
    "            fig.update_xaxes(\n",
    "                tickmode=\"array\", tickvals=ticks, ticktext=labels,\n",
    "                showticklabels=True, ticks=\"outside\",\n",
    "                row=i, col=1\n",
    "            )\n",
    "\n",
    "        fig.update_xaxes(title_text=\"Action ID (0–79)\", row=3, col=1)\n",
    "        for i in range(1, 4):\n",
    "            fig.update_yaxes(title_text=\"P(action selected)\", row=i, col=1)\n",
    "\n",
    "        fig.update_layout(\n",
    "            title=title or f\"Selection probabilities by position: Round {round_a} vs Round {round_b}\",\n",
    "            barmode=\"group\", bargap=0.15, height=height, template=\"plotly_white\"\n",
    "        )\n",
    "        fig.show()"
   ]
  },
  {
   "cell_type": "code",
   "execution_count": 34,
   "id": "92bbc41a",
   "metadata": {},
   "outputs": [
    {
     "name": "stdout",
     "output_type": "stream",
     "text": [
      "Round 1 samples:\n",
      "    action  position  reward  pscore\n",
      "0      28         0       0  0.0125\n",
      "1      61         1       0  0.0125\n",
      "2      13         2       0  0.0125\n"
     ]
    },
    {
     "data": {
      "application/vnd.plotly.v1+json": {
       "config": {
        "plotlyServerURL": "https://plot.ly"
       },
       "data": [
        {
         "customdata": {
          "bdata": "AAAAAAAAAAAAAAAAAAAAAAAAAAAAAAAAAAAAAAAAAAAAAAAAAAAAAAAAAAAAAAAAAAAAAAAAAAAAAAAAAAAAAAAAAAAAAAAAAAAAAAAAAAA=",
          "dtype": "i1",
          "shape": "80, 1"
         },
         "hovertemplate": "Position: %{customdata[0]}<br>Action: %{x}<br>Round: 0<br>P: %{y:.6f}<extra></extra>",
         "marker": {
          "color": "steelblue"
         },
         "name": "Round 0",
         "opacity": 0.6,
         "showlegend": true,
         "type": "bar",
         "x": {
          "bdata": "AAECAwQFBgcICQoLDA0ODxAREhMUFRYXGBkaGxwdHh8gISIjJCUmJygpKissLS4vMDEyMzQ1Njc4OTo7PD0+P0BBQkNERUZHSElKS0xNTk8=",
          "dtype": "i1"
         },
         "xaxis": "x",
         "y": {
          "bdata": "mpmZmZmZiT+amZmZmZmJP5qZmZmZmYk/mpmZmZmZiT+amZmZmZmJP5qZmZmZmYk/mpmZmZmZiT+amZmZmZmJP5qZmZmZmYk/mpmZmZmZiT+amZmZmZmJP5qZmZmZmYk/mpmZmZmZiT+amZmZmZmJP5qZmZmZmYk/mpmZmZmZiT+amZmZmZmJP5qZmZmZmYk/mpmZmZmZiT+amZmZmZmJP5qZmZmZmYk/mpmZmZmZiT+amZmZmZmJP5qZmZmZmYk/mpmZmZmZiT+amZmZmZmJP5qZmZmZmYk/mpmZmZmZiT+amZmZmZmJP5qZmZmZmYk/mpmZmZmZiT+amZmZmZmJP5qZmZmZmYk/mpmZmZmZiT+amZmZmZmJP5qZmZmZmYk/mpmZmZmZiT+amZmZmZmJP5qZmZmZmYk/mpmZmZmZiT+amZmZmZmJP5qZmZmZmYk/mpmZmZmZiT+amZmZmZmJP5qZmZmZmYk/mpmZmZmZiT+amZmZmZmJP5qZmZmZmYk/mpmZmZmZiT+amZmZmZmJP5qZmZmZmYk/mpmZmZmZiT+amZmZmZmJP5qZmZmZmYk/mpmZmZmZiT+amZmZmZmJP5qZmZmZmYk/mpmZmZmZiT+amZmZmZmJP5qZmZmZmYk/mpmZmZmZiT+amZmZmZmJP5qZmZmZmYk/mpmZmZmZiT+amZmZmZmJP5qZmZmZmYk/mpmZmZmZiT+amZmZmZmJP5qZmZmZmYk/mpmZmZmZiT+amZmZmZmJP5qZmZmZmYk/mpmZmZmZiT+amZmZmZmJP5qZmZmZmYk/mpmZmZmZiT+amZmZmZmJP5qZmZmZmYk/mpmZmZmZiT+amZmZmZmJPw==",
          "dtype": "f8"
         },
         "yaxis": "y"
        },
        {
         "customdata": {
          "bdata": "AAAAAAAAAAAAAAAAAAAAAAAAAAAAAAAAAAAAAAAAAAAAAAAAAAAAAAAAAAAAAAAAAAAAAAAAAAAAAAAAAAAAAAAAAAAAAAAAAAAAAAAAAAA=",
          "dtype": "i1",
          "shape": "80, 1"
         },
         "hovertemplate": "Position: %{customdata[0]}<br>Action: %{x}<br>Round: 1<br>P: %{y:.6f}<extra></extra>",
         "marker": {
          "color": "darkorange"
         },
         "name": "Round 1",
         "opacity": 0.8,
         "showlegend": true,
         "type": "bar",
         "x": {
          "bdata": "AAECAwQFBgcICQoLDA0ODxAREhMUFRYXGBkaGxwdHh8gISIjJCUmJygpKissLS4vMDEyMzQ1Njc4OTo7PD0+P0BBQkNERUZHSElKS0xNTk8=",
          "dtype": "i1"
         },
         "xaxis": "x",
         "y": {
          "bdata": "U0lcNoLqiT9TSVw2guqJP1NJXDaC6ok/U0lcNoLqiT9TSVw2guqJP1NJXDaC6ok/U0lcNoLqiT9TSVw2guqJP1NJXDaC6ok/U0lcNoLqiT9TSVw2guqJP1NJXDaC6ok/U0lcNoLqiT9TSVw2guqJP1NJXDaC6ok/U0lcNoLqiT9TSVw2guqJP1NJXDaC6ok/U0lcNoLqiT9TSVw2guqJP1NJXDaC6ok/U0lcNoLqiT9TSVw2guqJP1NJXDaC6ok/U0lcNoLqiT9TSVw2guqJP1NJXDaC6ok/U0lcNoLqiT9N7qswJzo0P1NJXDaC6ok/U0lcNoLqiT9TSVw2guqJP1NJXDaC6ok/U0lcNoLqiT9TSVw2guqJP1NJXDaC6ok/U0lcNoLqiT9TSVw2guqJP1NJXDaC6ok/U0lcNoLqiT9TSVw2guqJP1NJXDaC6ok/U0lcNoLqiT9TSVw2guqJP1NJXDaC6ok/U0lcNoLqiT9TSVw2guqJP1NJXDaC6ok/U0lcNoLqiT9TSVw2guqJP1NJXDaC6ok/U0lcNoLqiT9TSVw2guqJP1NJXDaC6ok/U0lcNoLqiT9TSVw2guqJP1NJXDaC6ok/U0lcNoLqiT9TSVw2guqJP1NJXDaC6ok/U0lcNoLqiT9TSVw2guqJP1NJXDaC6ok/U0lcNoLqiT9TSVw2guqJP1NJXDaC6ok/U0lcNoLqiT9TSVw2guqJP1NJXDaC6ok/U0lcNoLqiT9TSVw2guqJP1NJXDaC6ok/U0lcNoLqiT9TSVw2guqJP1NJXDaC6ok/U0lcNoLqiT9TSVw2guqJP1NJXDaC6ok/U0lcNoLqiT9TSVw2guqJPw==",
          "dtype": "f8"
         },
         "yaxis": "y"
        },
        {
         "customdata": {
          "bdata": "AQEBAQEBAQEBAQEBAQEBAQEBAQEBAQEBAQEBAQEBAQEBAQEBAQEBAQEBAQEBAQEBAQEBAQEBAQEBAQEBAQEBAQEBAQEBAQEBAQEBAQEBAQE=",
          "dtype": "i1",
          "shape": "80, 1"
         },
         "hovertemplate": "Position: %{customdata[0]}<br>Action: %{x}<br>Round: 0<br>P: %{y:.6f}<extra></extra>",
         "marker": {
          "color": "steelblue"
         },
         "name": "Round 0",
         "opacity": 0.6,
         "showlegend": false,
         "type": "bar",
         "x": {
          "bdata": "AAECAwQFBgcICQoLDA0ODxAREhMUFRYXGBkaGxwdHh8gISIjJCUmJygpKissLS4vMDEyMzQ1Njc4OTo7PD0+P0BBQkNERUZHSElKS0xNTk8=",
          "dtype": "i1"
         },
         "xaxis": "x2",
         "y": {
          "bdata": "mpmZmZmZiT+amZmZmZmJP5qZmZmZmYk/mpmZmZmZiT+amZmZmZmJP5qZmZmZmYk/mpmZmZmZiT+amZmZmZmJP5qZmZmZmYk/mpmZmZmZiT+amZmZmZmJP5qZmZmZmYk/mpmZmZmZiT+amZmZmZmJP5qZmZmZmYk/mpmZmZmZiT+amZmZmZmJP5qZmZmZmYk/mpmZmZmZiT+amZmZmZmJP5qZmZmZmYk/mpmZmZmZiT+amZmZmZmJP5qZmZmZmYk/mpmZmZmZiT+amZmZmZmJP5qZmZmZmYk/mpmZmZmZiT+amZmZmZmJP5qZmZmZmYk/mpmZmZmZiT+amZmZmZmJP5qZmZmZmYk/mpmZmZmZiT+amZmZmZmJP5qZmZmZmYk/mpmZmZmZiT+amZmZmZmJP5qZmZmZmYk/mpmZmZmZiT+amZmZmZmJP5qZmZmZmYk/mpmZmZmZiT+amZmZmZmJP5qZmZmZmYk/mpmZmZmZiT+amZmZmZmJP5qZmZmZmYk/mpmZmZmZiT+amZmZmZmJP5qZmZmZmYk/mpmZmZmZiT+amZmZmZmJP5qZmZmZmYk/mpmZmZmZiT+amZmZmZmJP5qZmZmZmYk/mpmZmZmZiT+amZmZmZmJP5qZmZmZmYk/mpmZmZmZiT+amZmZmZmJP5qZmZmZmYk/mpmZmZmZiT+amZmZmZmJP5qZmZmZmYk/mpmZmZmZiT+amZmZmZmJP5qZmZmZmYk/mpmZmZmZiT+amZmZmZmJP5qZmZmZmYk/mpmZmZmZiT+amZmZmZmJP5qZmZmZmYk/mpmZmZmZiT+amZmZmZmJP5qZmZmZmYk/mpmZmZmZiT+amZmZmZmJPw==",
          "dtype": "f8"
         },
         "yaxis": "y2"
        },
        {
         "customdata": {
          "bdata": "AQEBAQEBAQEBAQEBAQEBAQEBAQEBAQEBAQEBAQEBAQEBAQEBAQEBAQEBAQEBAQEBAQEBAQEBAQEBAQEBAQEBAQEBAQEBAQEBAQEBAQEBAQE=",
          "dtype": "i1",
          "shape": "80, 1"
         },
         "hovertemplate": "Position: %{customdata[0]}<br>Action: %{x}<br>Round: 1<br>P: %{y:.6f}<extra></extra>",
         "marker": {
          "color": "darkorange"
         },
         "name": "Round 1",
         "opacity": 0.8,
         "showlegend": false,
         "type": "bar",
         "x": {
          "bdata": "AAECAwQFBgcICQoLDA0ODxAREhMUFRYXGBkaGxwdHh8gISIjJCUmJygpKissLS4vMDEyMzQ1Njc4OTo7PD0+P0BBQkNERUZHSElKS0xNTk8=",
          "dtype": "i1"
         },
         "xaxis": "x2",
         "y": {
          "bdata": "U0lcNoLqiT9TSVw2guqJP1NJXDaC6ok/U0lcNoLqiT9TSVw2guqJP1NJXDaC6ok/U0lcNoLqiT9TSVw2guqJP1NJXDaC6ok/U0lcNoLqiT9TSVw2guqJP1NJXDaC6ok/U0lcNoLqiT9TSVw2guqJP1NJXDaC6ok/U0lcNoLqiT9TSVw2guqJP1NJXDaC6ok/U0lcNoLqiT9TSVw2guqJP1NJXDaC6ok/U0lcNoLqiT9TSVw2guqJP1NJXDaC6ok/U0lcNoLqiT9TSVw2guqJP1NJXDaC6ok/U0lcNoLqiT9TSVw2guqJP1NJXDaC6ok/U0lcNoLqiT9TSVw2guqJP1NJXDaC6ok/U0lcNoLqiT9TSVw2guqJP1NJXDaC6ok/U0lcNoLqiT9TSVw2guqJP1NJXDaC6ok/U0lcNoLqiT9TSVw2guqJP1NJXDaC6ok/U0lcNoLqiT9TSVw2guqJP1NJXDaC6ok/U0lcNoLqiT9TSVw2guqJP1NJXDaC6ok/U0lcNoLqiT9TSVw2guqJP1NJXDaC6ok/U0lcNoLqiT9TSVw2guqJP1NJXDaC6ok/U0lcNoLqiT9TSVw2guqJP1NJXDaC6ok/U0lcNoLqiT9TSVw2guqJP1NJXDaC6ok/U0lcNoLqiT9N7qswJzo0P1NJXDaC6ok/U0lcNoLqiT9TSVw2guqJP1NJXDaC6ok/U0lcNoLqiT9TSVw2guqJP1NJXDaC6ok/U0lcNoLqiT9TSVw2guqJP1NJXDaC6ok/U0lcNoLqiT9TSVw2guqJP1NJXDaC6ok/U0lcNoLqiT9TSVw2guqJP1NJXDaC6ok/U0lcNoLqiT9TSVw2guqJPw==",
          "dtype": "f8"
         },
         "yaxis": "y2"
        },
        {
         "customdata": {
          "bdata": "AgICAgICAgICAgICAgICAgICAgICAgICAgICAgICAgICAgICAgICAgICAgICAgICAgICAgICAgICAgICAgICAgICAgICAgICAgICAgICAgI=",
          "dtype": "i1",
          "shape": "80, 1"
         },
         "hovertemplate": "Position: %{customdata[0]}<br>Action: %{x}<br>Round: 0<br>P: %{y:.6f}<extra></extra>",
         "marker": {
          "color": "steelblue"
         },
         "name": "Round 0",
         "opacity": 0.6,
         "showlegend": false,
         "type": "bar",
         "x": {
          "bdata": "AAECAwQFBgcICQoLDA0ODxAREhMUFRYXGBkaGxwdHh8gISIjJCUmJygpKissLS4vMDEyMzQ1Njc4OTo7PD0+P0BBQkNERUZHSElKS0xNTk8=",
          "dtype": "i1"
         },
         "xaxis": "x3",
         "y": {
          "bdata": "mpmZmZmZiT+amZmZmZmJP5qZmZmZmYk/mpmZmZmZiT+amZmZmZmJP5qZmZmZmYk/mpmZmZmZiT+amZmZmZmJP5qZmZmZmYk/mpmZmZmZiT+amZmZmZmJP5qZmZmZmYk/mpmZmZmZiT+amZmZmZmJP5qZmZmZmYk/mpmZmZmZiT+amZmZmZmJP5qZmZmZmYk/mpmZmZmZiT+amZmZmZmJP5qZmZmZmYk/mpmZmZmZiT+amZmZmZmJP5qZmZmZmYk/mpmZmZmZiT+amZmZmZmJP5qZmZmZmYk/mpmZmZmZiT+amZmZmZmJP5qZmZmZmYk/mpmZmZmZiT+amZmZmZmJP5qZmZmZmYk/mpmZmZmZiT+amZmZmZmJP5qZmZmZmYk/mpmZmZmZiT+amZmZmZmJP5qZmZmZmYk/mpmZmZmZiT+amZmZmZmJP5qZmZmZmYk/mpmZmZmZiT+amZmZmZmJP5qZmZmZmYk/mpmZmZmZiT+amZmZmZmJP5qZmZmZmYk/mpmZmZmZiT+amZmZmZmJP5qZmZmZmYk/mpmZmZmZiT+amZmZmZmJP5qZmZmZmYk/mpmZmZmZiT+amZmZmZmJP5qZmZmZmYk/mpmZmZmZiT+amZmZmZmJP5qZmZmZmYk/mpmZmZmZiT+amZmZmZmJP5qZmZmZmYk/mpmZmZmZiT+amZmZmZmJP5qZmZmZmYk/mpmZmZmZiT+amZmZmZmJP5qZmZmZmYk/mpmZmZmZiT+amZmZmZmJP5qZmZmZmYk/mpmZmZmZiT+amZmZmZmJP5qZmZmZmYk/mpmZmZmZiT+amZmZmZmJP5qZmZmZmYk/mpmZmZmZiT+amZmZmZmJPw==",
          "dtype": "f8"
         },
         "yaxis": "y3"
        },
        {
         "customdata": {
          "bdata": "AgICAgICAgICAgICAgICAgICAgICAgICAgICAgICAgICAgICAgICAgICAgICAgICAgICAgICAgICAgICAgICAgICAgICAgICAgICAgICAgI=",
          "dtype": "i1",
          "shape": "80, 1"
         },
         "hovertemplate": "Position: %{customdata[0]}<br>Action: %{x}<br>Round: 1<br>P: %{y:.6f}<extra></extra>",
         "marker": {
          "color": "darkorange"
         },
         "name": "Round 1",
         "opacity": 0.8,
         "showlegend": false,
         "type": "bar",
         "x": {
          "bdata": "AAECAwQFBgcICQoLDA0ODxAREhMUFRYXGBkaGxwdHh8gISIjJCUmJygpKissLS4vMDEyMzQ1Njc4OTo7PD0+P0BBQkNERUZHSElKS0xNTk8=",
          "dtype": "i1"
         },
         "xaxis": "x3",
         "y": {
          "bdata": "U0lcNoLqiT9TSVw2guqJP1NJXDaC6ok/U0lcNoLqiT9TSVw2guqJP1NJXDaC6ok/U0lcNoLqiT9TSVw2guqJP1NJXDaC6ok/U0lcNoLqiT9TSVw2guqJP1NJXDaC6ok/U0lcNoLqiT9N7qswJzo0P1NJXDaC6ok/U0lcNoLqiT9TSVw2guqJP1NJXDaC6ok/U0lcNoLqiT9TSVw2guqJP1NJXDaC6ok/U0lcNoLqiT9TSVw2guqJP1NJXDaC6ok/U0lcNoLqiT9TSVw2guqJP1NJXDaC6ok/U0lcNoLqiT9TSVw2guqJP1NJXDaC6ok/U0lcNoLqiT9TSVw2guqJP1NJXDaC6ok/U0lcNoLqiT9TSVw2guqJP1NJXDaC6ok/U0lcNoLqiT9TSVw2guqJP1NJXDaC6ok/U0lcNoLqiT9TSVw2guqJP1NJXDaC6ok/U0lcNoLqiT9TSVw2guqJP1NJXDaC6ok/U0lcNoLqiT9TSVw2guqJP1NJXDaC6ok/U0lcNoLqiT9TSVw2guqJP1NJXDaC6ok/U0lcNoLqiT9TSVw2guqJP1NJXDaC6ok/U0lcNoLqiT9TSVw2guqJP1NJXDaC6ok/U0lcNoLqiT9TSVw2guqJP1NJXDaC6ok/U0lcNoLqiT9TSVw2guqJP1NJXDaC6ok/U0lcNoLqiT9TSVw2guqJP1NJXDaC6ok/U0lcNoLqiT9TSVw2guqJP1NJXDaC6ok/U0lcNoLqiT9TSVw2guqJP1NJXDaC6ok/U0lcNoLqiT9TSVw2guqJP1NJXDaC6ok/U0lcNoLqiT9TSVw2guqJP1NJXDaC6ok/U0lcNoLqiT9TSVw2guqJPw==",
          "dtype": "f8"
         },
         "yaxis": "y3"
        }
       ],
       "layout": {
        "annotations": [
         {
          "font": {
           "size": 16
          },
          "showarrow": false,
          "text": "Position 0",
          "x": 0.5,
          "xanchor": "center",
          "xref": "paper",
          "y": 1,
          "yanchor": "bottom",
          "yref": "paper"
         },
         {
          "font": {
           "size": 16
          },
          "showarrow": false,
          "text": "Position 1",
          "x": 0.5,
          "xanchor": "center",
          "xref": "paper",
          "y": 0.6399999999999999,
          "yanchor": "bottom",
          "yref": "paper"
         },
         {
          "font": {
           "size": 16
          },
          "showarrow": false,
          "text": "Position 2",
          "x": 0.5,
          "xanchor": "center",
          "xref": "paper",
          "y": 0.27999999999999997,
          "yanchor": "bottom",
          "yref": "paper"
         }
        ],
        "bargap": 0.15,
        "barmode": "group",
        "height": 900,
        "template": {
         "data": {
          "bar": [
           {
            "error_x": {
             "color": "#2a3f5f"
            },
            "error_y": {
             "color": "#2a3f5f"
            },
            "marker": {
             "line": {
              "color": "white",
              "width": 0.5
             },
             "pattern": {
              "fillmode": "overlay",
              "size": 10,
              "solidity": 0.2
             }
            },
            "type": "bar"
           }
          ],
          "barpolar": [
           {
            "marker": {
             "line": {
              "color": "white",
              "width": 0.5
             },
             "pattern": {
              "fillmode": "overlay",
              "size": 10,
              "solidity": 0.2
             }
            },
            "type": "barpolar"
           }
          ],
          "carpet": [
           {
            "aaxis": {
             "endlinecolor": "#2a3f5f",
             "gridcolor": "#C8D4E3",
             "linecolor": "#C8D4E3",
             "minorgridcolor": "#C8D4E3",
             "startlinecolor": "#2a3f5f"
            },
            "baxis": {
             "endlinecolor": "#2a3f5f",
             "gridcolor": "#C8D4E3",
             "linecolor": "#C8D4E3",
             "minorgridcolor": "#C8D4E3",
             "startlinecolor": "#2a3f5f"
            },
            "type": "carpet"
           }
          ],
          "choropleth": [
           {
            "colorbar": {
             "outlinewidth": 0,
             "ticks": ""
            },
            "type": "choropleth"
           }
          ],
          "contour": [
           {
            "colorbar": {
             "outlinewidth": 0,
             "ticks": ""
            },
            "colorscale": [
             [
              0,
              "#0d0887"
             ],
             [
              0.1111111111111111,
              "#46039f"
             ],
             [
              0.2222222222222222,
              "#7201a8"
             ],
             [
              0.3333333333333333,
              "#9c179e"
             ],
             [
              0.4444444444444444,
              "#bd3786"
             ],
             [
              0.5555555555555556,
              "#d8576b"
             ],
             [
              0.6666666666666666,
              "#ed7953"
             ],
             [
              0.7777777777777778,
              "#fb9f3a"
             ],
             [
              0.8888888888888888,
              "#fdca26"
             ],
             [
              1,
              "#f0f921"
             ]
            ],
            "type": "contour"
           }
          ],
          "contourcarpet": [
           {
            "colorbar": {
             "outlinewidth": 0,
             "ticks": ""
            },
            "type": "contourcarpet"
           }
          ],
          "heatmap": [
           {
            "colorbar": {
             "outlinewidth": 0,
             "ticks": ""
            },
            "colorscale": [
             [
              0,
              "#0d0887"
             ],
             [
              0.1111111111111111,
              "#46039f"
             ],
             [
              0.2222222222222222,
              "#7201a8"
             ],
             [
              0.3333333333333333,
              "#9c179e"
             ],
             [
              0.4444444444444444,
              "#bd3786"
             ],
             [
              0.5555555555555556,
              "#d8576b"
             ],
             [
              0.6666666666666666,
              "#ed7953"
             ],
             [
              0.7777777777777778,
              "#fb9f3a"
             ],
             [
              0.8888888888888888,
              "#fdca26"
             ],
             [
              1,
              "#f0f921"
             ]
            ],
            "type": "heatmap"
           }
          ],
          "histogram": [
           {
            "marker": {
             "pattern": {
              "fillmode": "overlay",
              "size": 10,
              "solidity": 0.2
             }
            },
            "type": "histogram"
           }
          ],
          "histogram2d": [
           {
            "colorbar": {
             "outlinewidth": 0,
             "ticks": ""
            },
            "colorscale": [
             [
              0,
              "#0d0887"
             ],
             [
              0.1111111111111111,
              "#46039f"
             ],
             [
              0.2222222222222222,
              "#7201a8"
             ],
             [
              0.3333333333333333,
              "#9c179e"
             ],
             [
              0.4444444444444444,
              "#bd3786"
             ],
             [
              0.5555555555555556,
              "#d8576b"
             ],
             [
              0.6666666666666666,
              "#ed7953"
             ],
             [
              0.7777777777777778,
              "#fb9f3a"
             ],
             [
              0.8888888888888888,
              "#fdca26"
             ],
             [
              1,
              "#f0f921"
             ]
            ],
            "type": "histogram2d"
           }
          ],
          "histogram2dcontour": [
           {
            "colorbar": {
             "outlinewidth": 0,
             "ticks": ""
            },
            "colorscale": [
             [
              0,
              "#0d0887"
             ],
             [
              0.1111111111111111,
              "#46039f"
             ],
             [
              0.2222222222222222,
              "#7201a8"
             ],
             [
              0.3333333333333333,
              "#9c179e"
             ],
             [
              0.4444444444444444,
              "#bd3786"
             ],
             [
              0.5555555555555556,
              "#d8576b"
             ],
             [
              0.6666666666666666,
              "#ed7953"
             ],
             [
              0.7777777777777778,
              "#fb9f3a"
             ],
             [
              0.8888888888888888,
              "#fdca26"
             ],
             [
              1,
              "#f0f921"
             ]
            ],
            "type": "histogram2dcontour"
           }
          ],
          "mesh3d": [
           {
            "colorbar": {
             "outlinewidth": 0,
             "ticks": ""
            },
            "type": "mesh3d"
           }
          ],
          "parcoords": [
           {
            "line": {
             "colorbar": {
              "outlinewidth": 0,
              "ticks": ""
             }
            },
            "type": "parcoords"
           }
          ],
          "pie": [
           {
            "automargin": true,
            "type": "pie"
           }
          ],
          "scatter": [
           {
            "fillpattern": {
             "fillmode": "overlay",
             "size": 10,
             "solidity": 0.2
            },
            "type": "scatter"
           }
          ],
          "scatter3d": [
           {
            "line": {
             "colorbar": {
              "outlinewidth": 0,
              "ticks": ""
             }
            },
            "marker": {
             "colorbar": {
              "outlinewidth": 0,
              "ticks": ""
             }
            },
            "type": "scatter3d"
           }
          ],
          "scattercarpet": [
           {
            "marker": {
             "colorbar": {
              "outlinewidth": 0,
              "ticks": ""
             }
            },
            "type": "scattercarpet"
           }
          ],
          "scattergeo": [
           {
            "marker": {
             "colorbar": {
              "outlinewidth": 0,
              "ticks": ""
             }
            },
            "type": "scattergeo"
           }
          ],
          "scattergl": [
           {
            "marker": {
             "colorbar": {
              "outlinewidth": 0,
              "ticks": ""
             }
            },
            "type": "scattergl"
           }
          ],
          "scattermap": [
           {
            "marker": {
             "colorbar": {
              "outlinewidth": 0,
              "ticks": ""
             }
            },
            "type": "scattermap"
           }
          ],
          "scattermapbox": [
           {
            "marker": {
             "colorbar": {
              "outlinewidth": 0,
              "ticks": ""
             }
            },
            "type": "scattermapbox"
           }
          ],
          "scatterpolar": [
           {
            "marker": {
             "colorbar": {
              "outlinewidth": 0,
              "ticks": ""
             }
            },
            "type": "scatterpolar"
           }
          ],
          "scatterpolargl": [
           {
            "marker": {
             "colorbar": {
              "outlinewidth": 0,
              "ticks": ""
             }
            },
            "type": "scatterpolargl"
           }
          ],
          "scatterternary": [
           {
            "marker": {
             "colorbar": {
              "outlinewidth": 0,
              "ticks": ""
             }
            },
            "type": "scatterternary"
           }
          ],
          "surface": [
           {
            "colorbar": {
             "outlinewidth": 0,
             "ticks": ""
            },
            "colorscale": [
             [
              0,
              "#0d0887"
             ],
             [
              0.1111111111111111,
              "#46039f"
             ],
             [
              0.2222222222222222,
              "#7201a8"
             ],
             [
              0.3333333333333333,
              "#9c179e"
             ],
             [
              0.4444444444444444,
              "#bd3786"
             ],
             [
              0.5555555555555556,
              "#d8576b"
             ],
             [
              0.6666666666666666,
              "#ed7953"
             ],
             [
              0.7777777777777778,
              "#fb9f3a"
             ],
             [
              0.8888888888888888,
              "#fdca26"
             ],
             [
              1,
              "#f0f921"
             ]
            ],
            "type": "surface"
           }
          ],
          "table": [
           {
            "cells": {
             "fill": {
              "color": "#EBF0F8"
             },
             "line": {
              "color": "white"
             }
            },
            "header": {
             "fill": {
              "color": "#C8D4E3"
             },
             "line": {
              "color": "white"
             }
            },
            "type": "table"
           }
          ]
         },
         "layout": {
          "annotationdefaults": {
           "arrowcolor": "#2a3f5f",
           "arrowhead": 0,
           "arrowwidth": 1
          },
          "autotypenumbers": "strict",
          "coloraxis": {
           "colorbar": {
            "outlinewidth": 0,
            "ticks": ""
           }
          },
          "colorscale": {
           "diverging": [
            [
             0,
             "#8e0152"
            ],
            [
             0.1,
             "#c51b7d"
            ],
            [
             0.2,
             "#de77ae"
            ],
            [
             0.3,
             "#f1b6da"
            ],
            [
             0.4,
             "#fde0ef"
            ],
            [
             0.5,
             "#f7f7f7"
            ],
            [
             0.6,
             "#e6f5d0"
            ],
            [
             0.7,
             "#b8e186"
            ],
            [
             0.8,
             "#7fbc41"
            ],
            [
             0.9,
             "#4d9221"
            ],
            [
             1,
             "#276419"
            ]
           ],
           "sequential": [
            [
             0,
             "#0d0887"
            ],
            [
             0.1111111111111111,
             "#46039f"
            ],
            [
             0.2222222222222222,
             "#7201a8"
            ],
            [
             0.3333333333333333,
             "#9c179e"
            ],
            [
             0.4444444444444444,
             "#bd3786"
            ],
            [
             0.5555555555555556,
             "#d8576b"
            ],
            [
             0.6666666666666666,
             "#ed7953"
            ],
            [
             0.7777777777777778,
             "#fb9f3a"
            ],
            [
             0.8888888888888888,
             "#fdca26"
            ],
            [
             1,
             "#f0f921"
            ]
           ],
           "sequentialminus": [
            [
             0,
             "#0d0887"
            ],
            [
             0.1111111111111111,
             "#46039f"
            ],
            [
             0.2222222222222222,
             "#7201a8"
            ],
            [
             0.3333333333333333,
             "#9c179e"
            ],
            [
             0.4444444444444444,
             "#bd3786"
            ],
            [
             0.5555555555555556,
             "#d8576b"
            ],
            [
             0.6666666666666666,
             "#ed7953"
            ],
            [
             0.7777777777777778,
             "#fb9f3a"
            ],
            [
             0.8888888888888888,
             "#fdca26"
            ],
            [
             1,
             "#f0f921"
            ]
           ]
          },
          "colorway": [
           "#636efa",
           "#EF553B",
           "#00cc96",
           "#ab63fa",
           "#FFA15A",
           "#19d3f3",
           "#FF6692",
           "#B6E880",
           "#FF97FF",
           "#FECB52"
          ],
          "font": {
           "color": "#2a3f5f"
          },
          "geo": {
           "bgcolor": "white",
           "lakecolor": "white",
           "landcolor": "white",
           "showlakes": true,
           "showland": true,
           "subunitcolor": "#C8D4E3"
          },
          "hoverlabel": {
           "align": "left"
          },
          "hovermode": "closest",
          "mapbox": {
           "style": "light"
          },
          "paper_bgcolor": "white",
          "plot_bgcolor": "white",
          "polar": {
           "angularaxis": {
            "gridcolor": "#EBF0F8",
            "linecolor": "#EBF0F8",
            "ticks": ""
           },
           "bgcolor": "white",
           "radialaxis": {
            "gridcolor": "#EBF0F8",
            "linecolor": "#EBF0F8",
            "ticks": ""
           }
          },
          "scene": {
           "xaxis": {
            "backgroundcolor": "white",
            "gridcolor": "#DFE8F3",
            "gridwidth": 2,
            "linecolor": "#EBF0F8",
            "showbackground": true,
            "ticks": "",
            "zerolinecolor": "#EBF0F8"
           },
           "yaxis": {
            "backgroundcolor": "white",
            "gridcolor": "#DFE8F3",
            "gridwidth": 2,
            "linecolor": "#EBF0F8",
            "showbackground": true,
            "ticks": "",
            "zerolinecolor": "#EBF0F8"
           },
           "zaxis": {
            "backgroundcolor": "white",
            "gridcolor": "#DFE8F3",
            "gridwidth": 2,
            "linecolor": "#EBF0F8",
            "showbackground": true,
            "ticks": "",
            "zerolinecolor": "#EBF0F8"
           }
          },
          "shapedefaults": {
           "line": {
            "color": "#2a3f5f"
           }
          },
          "ternary": {
           "aaxis": {
            "gridcolor": "#DFE8F3",
            "linecolor": "#A2B1C6",
            "ticks": ""
           },
           "baxis": {
            "gridcolor": "#DFE8F3",
            "linecolor": "#A2B1C6",
            "ticks": ""
           },
           "bgcolor": "white",
           "caxis": {
            "gridcolor": "#DFE8F3",
            "linecolor": "#A2B1C6",
            "ticks": ""
           }
          },
          "title": {
           "x": 0.05
          },
          "xaxis": {
           "automargin": true,
           "gridcolor": "#EBF0F8",
           "linecolor": "#EBF0F8",
           "ticks": "",
           "title": {
            "standoff": 15
           },
           "zerolinecolor": "#EBF0F8",
           "zerolinewidth": 2
          },
          "yaxis": {
           "automargin": true,
           "gridcolor": "#EBF0F8",
           "linecolor": "#EBF0F8",
           "ticks": "",
           "title": {
            "standoff": 15
           },
           "zerolinecolor": "#EBF0F8",
           "zerolinewidth": 2
          }
         }
        },
        "title": {
         "text": "Round 0 vs Round 1"
        },
        "xaxis": {
         "anchor": "y",
         "domain": [
          0,
          1
         ],
         "showticklabels": true,
         "tickmode": "array",
         "ticks": "outside",
         "ticktext": [
          "0",
          "1",
          "2",
          "3",
          "4",
          "5",
          "6",
          "7",
          "8",
          "9",
          "10",
          "11",
          "12",
          "13",
          "14",
          "15",
          "16",
          "17",
          "18",
          "19",
          "20",
          "21",
          "22",
          "23",
          "24",
          "25",
          "26",
          "27",
          "28",
          "29",
          "30",
          "31",
          "32",
          "33",
          "34",
          "35",
          "36",
          "37",
          "38",
          "39",
          "40",
          "41",
          "42",
          "43",
          "44",
          "45",
          "46",
          "47",
          "48",
          "49",
          "50",
          "51",
          "52",
          "53",
          "54",
          "55",
          "56",
          "57",
          "58",
          "59",
          "60",
          "61",
          "62",
          "63",
          "64",
          "65",
          "66",
          "67",
          "68",
          "69",
          "70",
          "71",
          "72",
          "73",
          "74",
          "75",
          "76",
          "77",
          "78",
          "79"
         ],
         "tickvals": {
          "bdata": "AAECAwQFBgcICQoLDA0ODxAREhMUFRYXGBkaGxwdHh8gISIjJCUmJygpKissLS4vMDEyMzQ1Njc4OTo7PD0+P0BBQkNERUZHSElKS0xNTk8=",
          "dtype": "i1"
         }
        },
        "xaxis2": {
         "anchor": "y2",
         "domain": [
          0,
          1
         ],
         "showticklabels": true,
         "tickmode": "array",
         "ticks": "outside",
         "ticktext": [
          "0",
          "1",
          "2",
          "3",
          "4",
          "5",
          "6",
          "7",
          "8",
          "9",
          "10",
          "11",
          "12",
          "13",
          "14",
          "15",
          "16",
          "17",
          "18",
          "19",
          "20",
          "21",
          "22",
          "23",
          "24",
          "25",
          "26",
          "27",
          "28",
          "29",
          "30",
          "31",
          "32",
          "33",
          "34",
          "35",
          "36",
          "37",
          "38",
          "39",
          "40",
          "41",
          "42",
          "43",
          "44",
          "45",
          "46",
          "47",
          "48",
          "49",
          "50",
          "51",
          "52",
          "53",
          "54",
          "55",
          "56",
          "57",
          "58",
          "59",
          "60",
          "61",
          "62",
          "63",
          "64",
          "65",
          "66",
          "67",
          "68",
          "69",
          "70",
          "71",
          "72",
          "73",
          "74",
          "75",
          "76",
          "77",
          "78",
          "79"
         ],
         "tickvals": {
          "bdata": "AAECAwQFBgcICQoLDA0ODxAREhMUFRYXGBkaGxwdHh8gISIjJCUmJygpKissLS4vMDEyMzQ1Njc4OTo7PD0+P0BBQkNERUZHSElKS0xNTk8=",
          "dtype": "i1"
         }
        },
        "xaxis3": {
         "anchor": "y3",
         "domain": [
          0,
          1
         ],
         "showticklabels": true,
         "tickmode": "array",
         "ticks": "outside",
         "ticktext": [
          "0",
          "1",
          "2",
          "3",
          "4",
          "5",
          "6",
          "7",
          "8",
          "9",
          "10",
          "11",
          "12",
          "13",
          "14",
          "15",
          "16",
          "17",
          "18",
          "19",
          "20",
          "21",
          "22",
          "23",
          "24",
          "25",
          "26",
          "27",
          "28",
          "29",
          "30",
          "31",
          "32",
          "33",
          "34",
          "35",
          "36",
          "37",
          "38",
          "39",
          "40",
          "41",
          "42",
          "43",
          "44",
          "45",
          "46",
          "47",
          "48",
          "49",
          "50",
          "51",
          "52",
          "53",
          "54",
          "55",
          "56",
          "57",
          "58",
          "59",
          "60",
          "61",
          "62",
          "63",
          "64",
          "65",
          "66",
          "67",
          "68",
          "69",
          "70",
          "71",
          "72",
          "73",
          "74",
          "75",
          "76",
          "77",
          "78",
          "79"
         ],
         "tickvals": {
          "bdata": "AAECAwQFBgcICQoLDA0ODxAREhMUFRYXGBkaGxwdHh8gISIjJCUmJygpKissLS4vMDEyMzQ1Njc4OTo7PD0+P0BBQkNERUZHSElKS0xNTk8=",
          "dtype": "i1"
         },
         "title": {
          "text": "Action ID (0–79)"
         }
        },
        "yaxis": {
         "anchor": "x",
         "domain": [
          0.72,
          1
         ],
         "range": [
          0,
          0.015817901234567902
         ],
         "title": {
          "text": "P(action selected)"
         }
        },
        "yaxis2": {
         "anchor": "x2",
         "domain": [
          0.36,
          0.6399999999999999
         ],
         "range": [
          0,
          0.015817901234567902
         ],
         "title": {
          "text": "P(action selected)"
         }
        },
        "yaxis3": {
         "anchor": "x3",
         "domain": [
          0,
          0.27999999999999997
         ],
         "range": [
          0,
          0.015817901234567902
         ],
         "title": {
          "text": "P(action selected)"
         }
        }
       }
      }
     },
     "metadata": {},
     "output_type": "display_data"
    },
    {
     "name": "stdout",
     "output_type": "stream",
     "text": [
      "Round 2 samples:\n",
      "    action  position  reward  pscore\n",
      "0      23         0       0  0.0125\n",
      "1       7         1       0  0.0125\n",
      "2      18         2       1  0.0125\n"
     ]
    },
    {
     "data": {
      "application/vnd.plotly.v1+json": {
       "config": {
        "plotlyServerURL": "https://plot.ly"
       },
       "data": [
        {
         "customdata": {
          "bdata": "AAAAAAAAAAAAAAAAAAAAAAAAAAAAAAAAAAAAAAAAAAAAAAAAAAAAAAAAAAAAAAAAAAAAAAAAAAAAAAAAAAAAAAAAAAAAAAAAAAAAAAAAAAA=",
          "dtype": "i1",
          "shape": "80, 1"
         },
         "hovertemplate": "Position: %{customdata[0]}<br>Action: %{x}<br>Round: 1<br>P: %{y:.6f}<extra></extra>",
         "marker": {
          "color": "steelblue"
         },
         "name": "Round 1",
         "opacity": 0.6,
         "showlegend": true,
         "type": "bar",
         "x": {
          "bdata": "AAECAwQFBgcICQoLDA0ODxAREhMUFRYXGBkaGxwdHh8gISIjJCUmJygpKissLS4vMDEyMzQ1Njc4OTo7PD0+P0BBQkNERUZHSElKS0xNTk8=",
          "dtype": "i1"
         },
         "xaxis": "x",
         "y": {
          "bdata": "U0lcNoLqiT9TSVw2guqJP1NJXDaC6ok/U0lcNoLqiT9TSVw2guqJP1NJXDaC6ok/U0lcNoLqiT9TSVw2guqJP1NJXDaC6ok/U0lcNoLqiT9TSVw2guqJP1NJXDaC6ok/U0lcNoLqiT9TSVw2guqJP1NJXDaC6ok/U0lcNoLqiT9TSVw2guqJP1NJXDaC6ok/U0lcNoLqiT9TSVw2guqJP1NJXDaC6ok/U0lcNoLqiT9TSVw2guqJP1NJXDaC6ok/U0lcNoLqiT9TSVw2guqJP1NJXDaC6ok/U0lcNoLqiT9N7qswJzo0P1NJXDaC6ok/U0lcNoLqiT9TSVw2guqJP1NJXDaC6ok/U0lcNoLqiT9TSVw2guqJP1NJXDaC6ok/U0lcNoLqiT9TSVw2guqJP1NJXDaC6ok/U0lcNoLqiT9TSVw2guqJP1NJXDaC6ok/U0lcNoLqiT9TSVw2guqJP1NJXDaC6ok/U0lcNoLqiT9TSVw2guqJP1NJXDaC6ok/U0lcNoLqiT9TSVw2guqJP1NJXDaC6ok/U0lcNoLqiT9TSVw2guqJP1NJXDaC6ok/U0lcNoLqiT9TSVw2guqJP1NJXDaC6ok/U0lcNoLqiT9TSVw2guqJP1NJXDaC6ok/U0lcNoLqiT9TSVw2guqJP1NJXDaC6ok/U0lcNoLqiT9TSVw2guqJP1NJXDaC6ok/U0lcNoLqiT9TSVw2guqJP1NJXDaC6ok/U0lcNoLqiT9TSVw2guqJP1NJXDaC6ok/U0lcNoLqiT9TSVw2guqJP1NJXDaC6ok/U0lcNoLqiT9TSVw2guqJP1NJXDaC6ok/U0lcNoLqiT9TSVw2guqJPw==",
          "dtype": "f8"
         },
         "yaxis": "y"
        },
        {
         "customdata": {
          "bdata": "AAAAAAAAAAAAAAAAAAAAAAAAAAAAAAAAAAAAAAAAAAAAAAAAAAAAAAAAAAAAAAAAAAAAAAAAAAAAAAAAAAAAAAAAAAAAAAAAAAAAAAAAAAA=",
          "dtype": "i1",
          "shape": "80, 1"
         },
         "hovertemplate": "Position: %{customdata[0]}<br>Action: %{x}<br>Round: 2<br>P: %{y:.6f}<extra></extra>",
         "marker": {
          "color": "darkorange"
         },
         "name": "Round 2",
         "opacity": 0.8,
         "showlegend": true,
         "type": "bar",
         "x": {
          "bdata": "AAECAwQFBgcICQoLDA0ODxAREhMUFRYXGBkaGxwdHh8gISIjJCUmJygpKissLS4vMDEyMzQ1Njc4OTo7PD0+P0BBQkNERUZHSElKS0xNTk8=",
          "dtype": "i1"
         },
         "xaxis": "x",
         "y": {
          "bdata": "qkNuhhvwiT/+Q/rt68CJP6LRHcTOFIo/u+1Cc51Gij+mCkYldQKKP420VN6OcIo/eAskKH6MiT/60AX1LXOKP+5fWWlSCoo/dNL7xteeiT/htOBFX0GKP1+1MuGX+ok/3Xu45LhTij+iXYWUn1SLP197ZkmAmoo/hbacS3FViT+W7NgIxOuKPyx96IL6lok/9tGpK5/liT//CS5W1GCKP0qYaftXVoo//89hvrwAiz/qspjYfFyLP9wRTgte9DU/E2HD0ytliT8gmKPH722KP5VgcTjzq4k/5SfVPh2PiT+gNxWpMLYwP5olAWpq2Yo/lialoNtLij9ftTLhl/qJP4V80LNZ9Yk/cF8HzhlRij8DfSJPkq6JP0rSNZNvtok/6SYxCKwcij/EX5M16iGKPz7t8NdkjYo//wkuVtRgij/uJY3ROqqKPyDSb18Hzok/A0NWt3pOij857pQO1v+JP4l7LH3ogoo/KAr0iTxJij+NtFTejnCKP40o7Q2+MIk/2XxcGyrGiT8U7Sqk/KSKPy1DHOviNoo/zNHj9zb9iT8+7fDXZI2KP8Ama9RDNIo/IJijx+9tij+BCdy6m6eKP0qYaftXVoo/B3x+GCE8ij//z2G+vACLP8Ama9RDNIo/1QloImx4ij9CYOXQItuJPxjshm2LMos/W0I+6Nmsij8DCYofY+6KP8Ama9RDNIo/p5at9UVCiz+iRbbz/dSIP+mayTfb3Ig/W3wKgPEMij/I0ocuqG+JPyQLmMCtu4k/AwmKH2Puij+WJqWg20uKP/aX3ZOHhYo/JNHLKJZbij86evzepj+LP6sJou4DkIo/t7QaEvdYij/7ljldFhOLPw==",
          "dtype": "f8"
         },
         "yaxis": "y"
        },
        {
         "customdata": {
          "bdata": "AQEBAQEBAQEBAQEBAQEBAQEBAQEBAQEBAQEBAQEBAQEBAQEBAQEBAQEBAQEBAQEBAQEBAQEBAQEBAQEBAQEBAQEBAQEBAQEBAQEBAQEBAQE=",
          "dtype": "i1",
          "shape": "80, 1"
         },
         "hovertemplate": "Position: %{customdata[0]}<br>Action: %{x}<br>Round: 1<br>P: %{y:.6f}<extra></extra>",
         "marker": {
          "color": "steelblue"
         },
         "name": "Round 1",
         "opacity": 0.6,
         "showlegend": false,
         "type": "bar",
         "x": {
          "bdata": "AAECAwQFBgcICQoLDA0ODxAREhMUFRYXGBkaGxwdHh8gISIjJCUmJygpKissLS4vMDEyMzQ1Njc4OTo7PD0+P0BBQkNERUZHSElKS0xNTk8=",
          "dtype": "i1"
         },
         "xaxis": "x2",
         "y": {
          "bdata": "U0lcNoLqiT9TSVw2guqJP1NJXDaC6ok/U0lcNoLqiT9TSVw2guqJP1NJXDaC6ok/U0lcNoLqiT9TSVw2guqJP1NJXDaC6ok/U0lcNoLqiT9TSVw2guqJP1NJXDaC6ok/U0lcNoLqiT9TSVw2guqJP1NJXDaC6ok/U0lcNoLqiT9TSVw2guqJP1NJXDaC6ok/U0lcNoLqiT9TSVw2guqJP1NJXDaC6ok/U0lcNoLqiT9TSVw2guqJP1NJXDaC6ok/U0lcNoLqiT9TSVw2guqJP1NJXDaC6ok/U0lcNoLqiT9TSVw2guqJP1NJXDaC6ok/U0lcNoLqiT9TSVw2guqJP1NJXDaC6ok/U0lcNoLqiT9TSVw2guqJP1NJXDaC6ok/U0lcNoLqiT9TSVw2guqJP1NJXDaC6ok/U0lcNoLqiT9TSVw2guqJP1NJXDaC6ok/U0lcNoLqiT9TSVw2guqJP1NJXDaC6ok/U0lcNoLqiT9TSVw2guqJP1NJXDaC6ok/U0lcNoLqiT9TSVw2guqJP1NJXDaC6ok/U0lcNoLqiT9TSVw2guqJP1NJXDaC6ok/U0lcNoLqiT9TSVw2guqJP1NJXDaC6ok/U0lcNoLqiT9TSVw2guqJP1NJXDaC6ok/U0lcNoLqiT9N7qswJzo0P1NJXDaC6ok/U0lcNoLqiT9TSVw2guqJP1NJXDaC6ok/U0lcNoLqiT9TSVw2guqJP1NJXDaC6ok/U0lcNoLqiT9TSVw2guqJP1NJXDaC6ok/U0lcNoLqiT9TSVw2guqJP1NJXDaC6ok/U0lcNoLqiT9TSVw2guqJP1NJXDaC6ok/U0lcNoLqiT9TSVw2guqJPw==",
          "dtype": "f8"
         },
         "yaxis": "y2"
        },
        {
         "customdata": {
          "bdata": "AQEBAQEBAQEBAQEBAQEBAQEBAQEBAQEBAQEBAQEBAQEBAQEBAQEBAQEBAQEBAQEBAQEBAQEBAQEBAQEBAQEBAQEBAQEBAQEBAQEBAQEBAQE=",
          "dtype": "i1",
          "shape": "80, 1"
         },
         "hovertemplate": "Position: %{customdata[0]}<br>Action: %{x}<br>Round: 2<br>P: %{y:.6f}<extra></extra>",
         "marker": {
          "color": "darkorange"
         },
         "name": "Round 2",
         "opacity": 0.8,
         "showlegend": false,
         "type": "bar",
         "x": {
          "bdata": "AAECAwQFBgcICQoLDA0ODxAREhMUFRYXGBkaGxwdHh8gISIjJCUmJygpKissLS4vMDEyMzQ1Njc4OTo7PD0+P0BBQkNERUZHSElKS0xNTk8=",
          "dtype": "i1"
         },
         "xaxis": "x2",
         "y": {
          "bdata": "ZyeDo+TViT+R7Xw/NV6KPxhgH5268ok/TtGRXP5Dij9GX0GasWiKP7e0GhL3WIo/lialoNtLij/HuriNBvA2P9XPm4pUGIs/A0NWt3pOij+nlq31RUKLP0GasWg6O4k/dJgvL8A+ij8cX3tmSYCKP5qZmZmZmYk/pkQSvYxiiT/EJced0sGKPwd8fhghPIo/X3tmSYCaij9SRIZVvJGJPySX/5B++4o/Rl9BmrFoij9Ol8XE5uOKP0rSNZNvtok/7l9ZaVIKij8oCvSJPEmKP57Swfo/h4k/QiYZOQt7ij8tz4O7s3aLPxgmUwWjkoo/IF7XL9gNiz9CJhk5C3uKP56Y9WIoJ4o/hbacS3FViT8YJlMFo5KKPygK9Ik8SYo/eNFXkGYsij98CoDxDBqKP7vtQnOdRoo/Oe6UDtb/iT8LtaZ5xymKPzEIrBxaZIs/ptB5jV2iij+emPViKCeKP+G04EVfQYo//kP67evAiT/ZfFwbKsaJPwd8fhghPIo/Sphp+1dWij+emPViKCeKPxNhw9MrZYk/Sl6dY0D2ij81e6AVGLKKPwu1pnnHKYo/B0KygAncij+7Jw8LtaaJP+rsZHCUvIo/B3x+GCE8ij+mCkYldQKKP8Ama9RDNIo/D+7O2m0Xij/S+8bXnlkyP420VN6OcIo/HJlH/mDgiT8TJ/c7FAWKP9l8XBsqxok/eAskKH6MiT+BQ6hSsweKP1/v/nivWok/Z+22C811ij817zhFR3KJP7fu5qkOuYk/4e6s3XahiT+vQspPqn2KPy1DHOviNoo/TpfFxObjij/Q0D/BxYqKPyTRyyiWW4o/C7Wmeccpij8tCVBTy9aKPw==",
          "dtype": "f8"
         },
         "yaxis": "y2"
        },
        {
         "customdata": {
          "bdata": "AgICAgICAgICAgICAgICAgICAgICAgICAgICAgICAgICAgICAgICAgICAgICAgICAgICAgICAgICAgICAgICAgICAgICAgICAgICAgICAgI=",
          "dtype": "i1",
          "shape": "80, 1"
         },
         "hovertemplate": "Position: %{customdata[0]}<br>Action: %{x}<br>Round: 1<br>P: %{y:.6f}<extra></extra>",
         "marker": {
          "color": "steelblue"
         },
         "name": "Round 1",
         "opacity": 0.6,
         "showlegend": false,
         "type": "bar",
         "x": {
          "bdata": "AAECAwQFBgcICQoLDA0ODxAREhMUFRYXGBkaGxwdHh8gISIjJCUmJygpKissLS4vMDEyMzQ1Njc4OTo7PD0+P0BBQkNERUZHSElKS0xNTk8=",
          "dtype": "i1"
         },
         "xaxis": "x3",
         "y": {
          "bdata": "U0lcNoLqiT9TSVw2guqJP1NJXDaC6ok/U0lcNoLqiT9TSVw2guqJP1NJXDaC6ok/U0lcNoLqiT9TSVw2guqJP1NJXDaC6ok/U0lcNoLqiT9TSVw2guqJP1NJXDaC6ok/U0lcNoLqiT9N7qswJzo0P1NJXDaC6ok/U0lcNoLqiT9TSVw2guqJP1NJXDaC6ok/U0lcNoLqiT9TSVw2guqJP1NJXDaC6ok/U0lcNoLqiT9TSVw2guqJP1NJXDaC6ok/U0lcNoLqiT9TSVw2guqJP1NJXDaC6ok/U0lcNoLqiT9TSVw2guqJP1NJXDaC6ok/U0lcNoLqiT9TSVw2guqJP1NJXDaC6ok/U0lcNoLqiT9TSVw2guqJP1NJXDaC6ok/U0lcNoLqiT9TSVw2guqJP1NJXDaC6ok/U0lcNoLqiT9TSVw2guqJP1NJXDaC6ok/U0lcNoLqiT9TSVw2guqJP1NJXDaC6ok/U0lcNoLqiT9TSVw2guqJP1NJXDaC6ok/U0lcNoLqiT9TSVw2guqJP1NJXDaC6ok/U0lcNoLqiT9TSVw2guqJP1NJXDaC6ok/U0lcNoLqiT9TSVw2guqJP1NJXDaC6ok/U0lcNoLqiT9TSVw2guqJP1NJXDaC6ok/U0lcNoLqiT9TSVw2guqJP1NJXDaC6ok/U0lcNoLqiT9TSVw2guqJP1NJXDaC6ok/U0lcNoLqiT9TSVw2guqJP1NJXDaC6ok/U0lcNoLqiT9TSVw2guqJP1NJXDaC6ok/U0lcNoLqiT9TSVw2guqJP1NJXDaC6ok/U0lcNoLqiT9TSVw2guqJP1NJXDaC6ok/U0lcNoLqiT9TSVw2guqJPw==",
          "dtype": "f8"
         },
         "yaxis": "y3"
        },
        {
         "customdata": {
          "bdata": "AgICAgICAgICAgICAgICAgICAgICAgICAgICAgICAgICAgICAgICAgICAgICAgICAgICAgICAgICAgICAgICAgICAgICAgICAgICAgICAgI=",
          "dtype": "i1",
          "shape": "80, 1"
         },
         "hovertemplate": "Position: %{customdata[0]}<br>Action: %{x}<br>Round: 2<br>P: %{y:.6f}<extra></extra>",
         "marker": {
          "color": "darkorange"
         },
         "name": "Round 2",
         "opacity": 0.8,
         "showlegend": false,
         "type": "bar",
         "x": {
          "bdata": "AAECAwQFBgcICQoLDA0ODxAREhMUFRYXGBkaGxwdHh8gISIjJCUmJygpKissLS4vMDEyMzQ1Njc4OTo7PD0+P0BBQkNERUZHSElKS0xNTk8=",
          "dtype": "i1"
         },
         "xaxis": "x3",
         "y": {
          "bdata": "MXxETIkkij/YtiizQSaJP4V80LNZ9Yk/kSdJ10y+iT/MC7CPTl2JP/bRqSuf5Yk/E2HD0ytliT8sfeiC+paJPyDSb18Hzok/qn06HjNQiT/lYaHWNO+IP+G04EVfQYo/GGAfnbryiT+gNxWpMLYwPyhEwCFUqYk/TtGRXP5Dij9CYOXQItuJP06XxcTm44o/nu+nxks3mT9bCHJQwkyLP6pDboYb8Ik/+kSeJF0ziT+z74rgfyuJP7vtQnOdRoo/SgwCK4cWiT9CJhk5C3uKP7NBJhk5C4s/Y+5aQj7oiT+mCkYldQKKP1t8CoDxDIo/0ETY8PRKiT/uX1lpUgqKP0qYaftXVoo/Un5S7dPxiD8gDDz3Hi6JP05FKowtBIk/JEVkWMUbiT8PKJtyhXeJPwspP6n26Yg/QmDl0CLbiT+e0sH6P4eJP4kpkUQvo4g/dNL7xteeiT/IDFTGv8+IP6IL6lvmdIk/uycPC7WmiT94CyQofoyJP1u21hcJbYk/pkQSvYxiiT/QRNjw9EqJPwN9Ik+Srok/Vrd6TnrfiD/pJjEIrByKP/pEniRdM4k/Tgte9BWkiT/2C3bDtkWJP6JFtvP91Ig/t+7mqQ65iT/dtYR80LOJP197ZkmAmoo/HJlH/mDgiT8kRWRYxRuJP2PuWkI+6Ik//n3GhQMhiT9bttYXCW2JP6IL6lvmdIk/yNKHLqhviT8gDDz3Hi6JPz0nvW987Yk/E2HD0ytliT857pQO1v+JP1/v/nivWok/LLe0GhL3iD8Xmus00lKJP8wLsI9OXYk/D+7O2m0Xij89YYkHlE2JPxzTE5Z4QIk/eEXwv5XsiD9nJ4Oj5NWJPw==",
          "dtype": "f8"
         },
         "yaxis": "y3"
        }
       ],
       "layout": {
        "annotations": [
         {
          "font": {
           "size": 16
          },
          "showarrow": false,
          "text": "Position 0",
          "x": 0.5,
          "xanchor": "center",
          "xref": "paper",
          "y": 1,
          "yanchor": "bottom",
          "yref": "paper"
         },
         {
          "font": {
           "size": 16
          },
          "showarrow": false,
          "text": "Position 1",
          "x": 0.5,
          "xanchor": "center",
          "xref": "paper",
          "y": 0.6399999999999999,
          "yanchor": "bottom",
          "yref": "paper"
         },
         {
          "font": {
           "size": 16
          },
          "showarrow": false,
          "text": "Position 2",
          "x": 0.5,
          "xanchor": "center",
          "xref": "paper",
          "y": 0.27999999999999997,
          "yanchor": "bottom",
          "yref": "paper"
         }
        ],
        "bargap": 0.15,
        "barmode": "group",
        "height": 900,
        "template": {
         "data": {
          "bar": [
           {
            "error_x": {
             "color": "#2a3f5f"
            },
            "error_y": {
             "color": "#2a3f5f"
            },
            "marker": {
             "line": {
              "color": "white",
              "width": 0.5
             },
             "pattern": {
              "fillmode": "overlay",
              "size": 10,
              "solidity": 0.2
             }
            },
            "type": "bar"
           }
          ],
          "barpolar": [
           {
            "marker": {
             "line": {
              "color": "white",
              "width": 0.5
             },
             "pattern": {
              "fillmode": "overlay",
              "size": 10,
              "solidity": 0.2
             }
            },
            "type": "barpolar"
           }
          ],
          "carpet": [
           {
            "aaxis": {
             "endlinecolor": "#2a3f5f",
             "gridcolor": "#C8D4E3",
             "linecolor": "#C8D4E3",
             "minorgridcolor": "#C8D4E3",
             "startlinecolor": "#2a3f5f"
            },
            "baxis": {
             "endlinecolor": "#2a3f5f",
             "gridcolor": "#C8D4E3",
             "linecolor": "#C8D4E3",
             "minorgridcolor": "#C8D4E3",
             "startlinecolor": "#2a3f5f"
            },
            "type": "carpet"
           }
          ],
          "choropleth": [
           {
            "colorbar": {
             "outlinewidth": 0,
             "ticks": ""
            },
            "type": "choropleth"
           }
          ],
          "contour": [
           {
            "colorbar": {
             "outlinewidth": 0,
             "ticks": ""
            },
            "colorscale": [
             [
              0,
              "#0d0887"
             ],
             [
              0.1111111111111111,
              "#46039f"
             ],
             [
              0.2222222222222222,
              "#7201a8"
             ],
             [
              0.3333333333333333,
              "#9c179e"
             ],
             [
              0.4444444444444444,
              "#bd3786"
             ],
             [
              0.5555555555555556,
              "#d8576b"
             ],
             [
              0.6666666666666666,
              "#ed7953"
             ],
             [
              0.7777777777777778,
              "#fb9f3a"
             ],
             [
              0.8888888888888888,
              "#fdca26"
             ],
             [
              1,
              "#f0f921"
             ]
            ],
            "type": "contour"
           }
          ],
          "contourcarpet": [
           {
            "colorbar": {
             "outlinewidth": 0,
             "ticks": ""
            },
            "type": "contourcarpet"
           }
          ],
          "heatmap": [
           {
            "colorbar": {
             "outlinewidth": 0,
             "ticks": ""
            },
            "colorscale": [
             [
              0,
              "#0d0887"
             ],
             [
              0.1111111111111111,
              "#46039f"
             ],
             [
              0.2222222222222222,
              "#7201a8"
             ],
             [
              0.3333333333333333,
              "#9c179e"
             ],
             [
              0.4444444444444444,
              "#bd3786"
             ],
             [
              0.5555555555555556,
              "#d8576b"
             ],
             [
              0.6666666666666666,
              "#ed7953"
             ],
             [
              0.7777777777777778,
              "#fb9f3a"
             ],
             [
              0.8888888888888888,
              "#fdca26"
             ],
             [
              1,
              "#f0f921"
             ]
            ],
            "type": "heatmap"
           }
          ],
          "histogram": [
           {
            "marker": {
             "pattern": {
              "fillmode": "overlay",
              "size": 10,
              "solidity": 0.2
             }
            },
            "type": "histogram"
           }
          ],
          "histogram2d": [
           {
            "colorbar": {
             "outlinewidth": 0,
             "ticks": ""
            },
            "colorscale": [
             [
              0,
              "#0d0887"
             ],
             [
              0.1111111111111111,
              "#46039f"
             ],
             [
              0.2222222222222222,
              "#7201a8"
             ],
             [
              0.3333333333333333,
              "#9c179e"
             ],
             [
              0.4444444444444444,
              "#bd3786"
             ],
             [
              0.5555555555555556,
              "#d8576b"
             ],
             [
              0.6666666666666666,
              "#ed7953"
             ],
             [
              0.7777777777777778,
              "#fb9f3a"
             ],
             [
              0.8888888888888888,
              "#fdca26"
             ],
             [
              1,
              "#f0f921"
             ]
            ],
            "type": "histogram2d"
           }
          ],
          "histogram2dcontour": [
           {
            "colorbar": {
             "outlinewidth": 0,
             "ticks": ""
            },
            "colorscale": [
             [
              0,
              "#0d0887"
             ],
             [
              0.1111111111111111,
              "#46039f"
             ],
             [
              0.2222222222222222,
              "#7201a8"
             ],
             [
              0.3333333333333333,
              "#9c179e"
             ],
             [
              0.4444444444444444,
              "#bd3786"
             ],
             [
              0.5555555555555556,
              "#d8576b"
             ],
             [
              0.6666666666666666,
              "#ed7953"
             ],
             [
              0.7777777777777778,
              "#fb9f3a"
             ],
             [
              0.8888888888888888,
              "#fdca26"
             ],
             [
              1,
              "#f0f921"
             ]
            ],
            "type": "histogram2dcontour"
           }
          ],
          "mesh3d": [
           {
            "colorbar": {
             "outlinewidth": 0,
             "ticks": ""
            },
            "type": "mesh3d"
           }
          ],
          "parcoords": [
           {
            "line": {
             "colorbar": {
              "outlinewidth": 0,
              "ticks": ""
             }
            },
            "type": "parcoords"
           }
          ],
          "pie": [
           {
            "automargin": true,
            "type": "pie"
           }
          ],
          "scatter": [
           {
            "fillpattern": {
             "fillmode": "overlay",
             "size": 10,
             "solidity": 0.2
            },
            "type": "scatter"
           }
          ],
          "scatter3d": [
           {
            "line": {
             "colorbar": {
              "outlinewidth": 0,
              "ticks": ""
             }
            },
            "marker": {
             "colorbar": {
              "outlinewidth": 0,
              "ticks": ""
             }
            },
            "type": "scatter3d"
           }
          ],
          "scattercarpet": [
           {
            "marker": {
             "colorbar": {
              "outlinewidth": 0,
              "ticks": ""
             }
            },
            "type": "scattercarpet"
           }
          ],
          "scattergeo": [
           {
            "marker": {
             "colorbar": {
              "outlinewidth": 0,
              "ticks": ""
             }
            },
            "type": "scattergeo"
           }
          ],
          "scattergl": [
           {
            "marker": {
             "colorbar": {
              "outlinewidth": 0,
              "ticks": ""
             }
            },
            "type": "scattergl"
           }
          ],
          "scattermap": [
           {
            "marker": {
             "colorbar": {
              "outlinewidth": 0,
              "ticks": ""
             }
            },
            "type": "scattermap"
           }
          ],
          "scattermapbox": [
           {
            "marker": {
             "colorbar": {
              "outlinewidth": 0,
              "ticks": ""
             }
            },
            "type": "scattermapbox"
           }
          ],
          "scatterpolar": [
           {
            "marker": {
             "colorbar": {
              "outlinewidth": 0,
              "ticks": ""
             }
            },
            "type": "scatterpolar"
           }
          ],
          "scatterpolargl": [
           {
            "marker": {
             "colorbar": {
              "outlinewidth": 0,
              "ticks": ""
             }
            },
            "type": "scatterpolargl"
           }
          ],
          "scatterternary": [
           {
            "marker": {
             "colorbar": {
              "outlinewidth": 0,
              "ticks": ""
             }
            },
            "type": "scatterternary"
           }
          ],
          "surface": [
           {
            "colorbar": {
             "outlinewidth": 0,
             "ticks": ""
            },
            "colorscale": [
             [
              0,
              "#0d0887"
             ],
             [
              0.1111111111111111,
              "#46039f"
             ],
             [
              0.2222222222222222,
              "#7201a8"
             ],
             [
              0.3333333333333333,
              "#9c179e"
             ],
             [
              0.4444444444444444,
              "#bd3786"
             ],
             [
              0.5555555555555556,
              "#d8576b"
             ],
             [
              0.6666666666666666,
              "#ed7953"
             ],
             [
              0.7777777777777778,
              "#fb9f3a"
             ],
             [
              0.8888888888888888,
              "#fdca26"
             ],
             [
              1,
              "#f0f921"
             ]
            ],
            "type": "surface"
           }
          ],
          "table": [
           {
            "cells": {
             "fill": {
              "color": "#EBF0F8"
             },
             "line": {
              "color": "white"
             }
            },
            "header": {
             "fill": {
              "color": "#C8D4E3"
             },
             "line": {
              "color": "white"
             }
            },
            "type": "table"
           }
          ]
         },
         "layout": {
          "annotationdefaults": {
           "arrowcolor": "#2a3f5f",
           "arrowhead": 0,
           "arrowwidth": 1
          },
          "autotypenumbers": "strict",
          "coloraxis": {
           "colorbar": {
            "outlinewidth": 0,
            "ticks": ""
           }
          },
          "colorscale": {
           "diverging": [
            [
             0,
             "#8e0152"
            ],
            [
             0.1,
             "#c51b7d"
            ],
            [
             0.2,
             "#de77ae"
            ],
            [
             0.3,
             "#f1b6da"
            ],
            [
             0.4,
             "#fde0ef"
            ],
            [
             0.5,
             "#f7f7f7"
            ],
            [
             0.6,
             "#e6f5d0"
            ],
            [
             0.7,
             "#b8e186"
            ],
            [
             0.8,
             "#7fbc41"
            ],
            [
             0.9,
             "#4d9221"
            ],
            [
             1,
             "#276419"
            ]
           ],
           "sequential": [
            [
             0,
             "#0d0887"
            ],
            [
             0.1111111111111111,
             "#46039f"
            ],
            [
             0.2222222222222222,
             "#7201a8"
            ],
            [
             0.3333333333333333,
             "#9c179e"
            ],
            [
             0.4444444444444444,
             "#bd3786"
            ],
            [
             0.5555555555555556,
             "#d8576b"
            ],
            [
             0.6666666666666666,
             "#ed7953"
            ],
            [
             0.7777777777777778,
             "#fb9f3a"
            ],
            [
             0.8888888888888888,
             "#fdca26"
            ],
            [
             1,
             "#f0f921"
            ]
           ],
           "sequentialminus": [
            [
             0,
             "#0d0887"
            ],
            [
             0.1111111111111111,
             "#46039f"
            ],
            [
             0.2222222222222222,
             "#7201a8"
            ],
            [
             0.3333333333333333,
             "#9c179e"
            ],
            [
             0.4444444444444444,
             "#bd3786"
            ],
            [
             0.5555555555555556,
             "#d8576b"
            ],
            [
             0.6666666666666666,
             "#ed7953"
            ],
            [
             0.7777777777777778,
             "#fb9f3a"
            ],
            [
             0.8888888888888888,
             "#fdca26"
            ],
            [
             1,
             "#f0f921"
            ]
           ]
          },
          "colorway": [
           "#636efa",
           "#EF553B",
           "#00cc96",
           "#ab63fa",
           "#FFA15A",
           "#19d3f3",
           "#FF6692",
           "#B6E880",
           "#FF97FF",
           "#FECB52"
          ],
          "font": {
           "color": "#2a3f5f"
          },
          "geo": {
           "bgcolor": "white",
           "lakecolor": "white",
           "landcolor": "white",
           "showlakes": true,
           "showland": true,
           "subunitcolor": "#C8D4E3"
          },
          "hoverlabel": {
           "align": "left"
          },
          "hovermode": "closest",
          "mapbox": {
           "style": "light"
          },
          "paper_bgcolor": "white",
          "plot_bgcolor": "white",
          "polar": {
           "angularaxis": {
            "gridcolor": "#EBF0F8",
            "linecolor": "#EBF0F8",
            "ticks": ""
           },
           "bgcolor": "white",
           "radialaxis": {
            "gridcolor": "#EBF0F8",
            "linecolor": "#EBF0F8",
            "ticks": ""
           }
          },
          "scene": {
           "xaxis": {
            "backgroundcolor": "white",
            "gridcolor": "#DFE8F3",
            "gridwidth": 2,
            "linecolor": "#EBF0F8",
            "showbackground": true,
            "ticks": "",
            "zerolinecolor": "#EBF0F8"
           },
           "yaxis": {
            "backgroundcolor": "white",
            "gridcolor": "#DFE8F3",
            "gridwidth": 2,
            "linecolor": "#EBF0F8",
            "showbackground": true,
            "ticks": "",
            "zerolinecolor": "#EBF0F8"
           },
           "zaxis": {
            "backgroundcolor": "white",
            "gridcolor": "#DFE8F3",
            "gridwidth": 2,
            "linecolor": "#EBF0F8",
            "showbackground": true,
            "ticks": "",
            "zerolinecolor": "#EBF0F8"
           }
          },
          "shapedefaults": {
           "line": {
            "color": "#2a3f5f"
           }
          },
          "ternary": {
           "aaxis": {
            "gridcolor": "#DFE8F3",
            "linecolor": "#A2B1C6",
            "ticks": ""
           },
           "baxis": {
            "gridcolor": "#DFE8F3",
            "linecolor": "#A2B1C6",
            "ticks": ""
           },
           "bgcolor": "white",
           "caxis": {
            "gridcolor": "#DFE8F3",
            "linecolor": "#A2B1C6",
            "ticks": ""
           }
          },
          "title": {
           "x": 0.05
          },
          "xaxis": {
           "automargin": true,
           "gridcolor": "#EBF0F8",
           "linecolor": "#EBF0F8",
           "ticks": "",
           "title": {
            "standoff": 15
           },
           "zerolinecolor": "#EBF0F8",
           "zerolinewidth": 2
          },
          "yaxis": {
           "automargin": true,
           "gridcolor": "#EBF0F8",
           "linecolor": "#EBF0F8",
           "ticks": "",
           "title": {
            "standoff": 15
           },
           "zerolinecolor": "#EBF0F8",
           "zerolinewidth": 2
          }
         }
        },
        "title": {
         "text": "Round 1 vs Round 2"
        },
        "xaxis": {
         "anchor": "y",
         "domain": [
          0,
          1
         ],
         "showticklabels": true,
         "tickmode": "array",
         "ticks": "outside",
         "ticktext": [
          "0",
          "1",
          "2",
          "3",
          "4",
          "5",
          "6",
          "7",
          "8",
          "9",
          "10",
          "11",
          "12",
          "13",
          "14",
          "15",
          "16",
          "17",
          "18",
          "19",
          "20",
          "21",
          "22",
          "23",
          "24",
          "25",
          "26",
          "27",
          "28",
          "29",
          "30",
          "31",
          "32",
          "33",
          "34",
          "35",
          "36",
          "37",
          "38",
          "39",
          "40",
          "41",
          "42",
          "43",
          "44",
          "45",
          "46",
          "47",
          "48",
          "49",
          "50",
          "51",
          "52",
          "53",
          "54",
          "55",
          "56",
          "57",
          "58",
          "59",
          "60",
          "61",
          "62",
          "63",
          "64",
          "65",
          "66",
          "67",
          "68",
          "69",
          "70",
          "71",
          "72",
          "73",
          "74",
          "75",
          "76",
          "77",
          "78",
          "79"
         ],
         "tickvals": {
          "bdata": "AAECAwQFBgcICQoLDA0ODxAREhMUFRYXGBkaGxwdHh8gISIjJCUmJygpKissLS4vMDEyMzQ1Njc4OTo7PD0+P0BBQkNERUZHSElKS0xNTk8=",
          "dtype": "i1"
         }
        },
        "xaxis2": {
         "anchor": "y2",
         "domain": [
          0,
          1
         ],
         "showticklabels": true,
         "tickmode": "array",
         "ticks": "outside",
         "ticktext": [
          "0",
          "1",
          "2",
          "3",
          "4",
          "5",
          "6",
          "7",
          "8",
          "9",
          "10",
          "11",
          "12",
          "13",
          "14",
          "15",
          "16",
          "17",
          "18",
          "19",
          "20",
          "21",
          "22",
          "23",
          "24",
          "25",
          "26",
          "27",
          "28",
          "29",
          "30",
          "31",
          "32",
          "33",
          "34",
          "35",
          "36",
          "37",
          "38",
          "39",
          "40",
          "41",
          "42",
          "43",
          "44",
          "45",
          "46",
          "47",
          "48",
          "49",
          "50",
          "51",
          "52",
          "53",
          "54",
          "55",
          "56",
          "57",
          "58",
          "59",
          "60",
          "61",
          "62",
          "63",
          "64",
          "65",
          "66",
          "67",
          "68",
          "69",
          "70",
          "71",
          "72",
          "73",
          "74",
          "75",
          "76",
          "77",
          "78",
          "79"
         ],
         "tickvals": {
          "bdata": "AAECAwQFBgcICQoLDA0ODxAREhMUFRYXGBkaGxwdHh8gISIjJCUmJygpKissLS4vMDEyMzQ1Njc4OTo7PD0+P0BBQkNERUZHSElKS0xNTk8=",
          "dtype": "i1"
         }
        },
        "xaxis3": {
         "anchor": "y3",
         "domain": [
          0,
          1
         ],
         "showticklabels": true,
         "tickmode": "array",
         "ticks": "outside",
         "ticktext": [
          "0",
          "1",
          "2",
          "3",
          "4",
          "5",
          "6",
          "7",
          "8",
          "9",
          "10",
          "11",
          "12",
          "13",
          "14",
          "15",
          "16",
          "17",
          "18",
          "19",
          "20",
          "21",
          "22",
          "23",
          "24",
          "25",
          "26",
          "27",
          "28",
          "29",
          "30",
          "31",
          "32",
          "33",
          "34",
          "35",
          "36",
          "37",
          "38",
          "39",
          "40",
          "41",
          "42",
          "43",
          "44",
          "45",
          "46",
          "47",
          "48",
          "49",
          "50",
          "51",
          "52",
          "53",
          "54",
          "55",
          "56",
          "57",
          "58",
          "59",
          "60",
          "61",
          "62",
          "63",
          "64",
          "65",
          "66",
          "67",
          "68",
          "69",
          "70",
          "71",
          "72",
          "73",
          "74",
          "75",
          "76",
          "77",
          "78",
          "79"
         ],
         "tickvals": {
          "bdata": "AAECAwQFBgcICQoLDA0ODxAREhMUFRYXGBkaGxwdHh8gISIjJCUmJygpKissLS4vMDEyMzQ1Njc4OTo7PD0+P0BBQkNERUZHSElKS0xNTk8=",
          "dtype": "i1"
         },
         "title": {
          "text": "Action ID (0–79)"
         }
        },
        "yaxis": {
         "anchor": "x",
         "domain": [
          0.72,
          1
         ],
         "range": [
          0,
          0.0167
         ],
         "title": {
          "text": "P(action selected)"
         }
        },
        "yaxis2": {
         "anchor": "x2",
         "domain": [
          0.36,
          0.6399999999999999
         ],
         "range": [
          0,
          0.0167625
         ],
         "title": {
          "text": "P(action selected)"
         }
        },
        "yaxis3": {
         "anchor": "x3",
         "domain": [
          0,
          0.27999999999999997
         ],
         "range": [
          0,
          0.030781250000000003
         ],
         "title": {
          "text": "P(action selected)"
         }
        }
       }
      }
     },
     "metadata": {},
     "output_type": "display_data"
    }
   ],
   "source": [
    "# Assumes you already built df (action, position, reward, pscore) and bf for n_actions\n",
    "tracker = ThompsonSlateTracker(df=df, n_actions=bf[\"n_actions\"], positions=[0,1,2], seed=7)\n",
    "\n",
    "# Round 0 is already recorded (uniform)\n",
    "# Take Round 1 (samples per position, updates α/β, stores PMFs)\n",
    "samp1 = tracker.next_round(random_state=None, use_mc_if_needed=False)  # exact is valid here\n",
    "print(\"Round 1 samples:\\n\", samp1)\n",
    "\n",
    "# Plot Round 0 vs Round 1\n",
    "tracker.plot_compare(0, 1, title=\"Round 0 vs Round 1\")\n",
    "\n",
    "# Take Round 2 (now exact may be invalid; allow MC to compute PMFs)\n",
    "samp2 = tracker.next_round(random_state=None, use_mc_if_needed=True)   # enables MC fallback\n",
    "print(\"Round 2 samples:\\n\", samp2)\n",
    "\n",
    "# Plot Round 1 vs Round 2\n",
    "tracker.plot_compare(1, 2, title=\"Round 1 vs Round 2\")"
   ]
  },
  {
   "cell_type": "code",
   "execution_count": null,
   "id": "aba65455",
   "metadata": {},
   "outputs": [],
   "source": []
  }
 ],
 "metadata": {
  "kernelspec": {
   "display_name": "obp_replication",
   "language": "python",
   "name": "python3"
  },
  "language_info": {
   "codemirror_mode": {
    "name": "ipython",
    "version": 3
   },
   "file_extension": ".py",
   "mimetype": "text/x-python",
   "name": "python",
   "nbconvert_exporter": "python",
   "pygments_lexer": "ipython3",
   "version": "3.10.18"
  }
 },
 "nbformat": 4,
 "nbformat_minor": 5
}
