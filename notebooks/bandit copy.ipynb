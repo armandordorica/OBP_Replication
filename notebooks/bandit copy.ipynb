{
 "cells": [
  {
   "cell_type": "code",
   "execution_count": null,
   "id": "1fe0e55f",
   "metadata": {},
   "outputs": [],
   "source": [
    "# --- Offline simulation: probability of each action over 5 rounds (single slot) ---\n",
    "\n",
    "from typing import Any, Dict, Iterable, Optional, Tuple\n",
    "\n",
    "import numpy as np\n",
    "import pandas as pd\n",
    "import matplotlib.pyplot as plt\n",
    "import plotly.express as px\n",
    "import plotly.graph_objects as go\n",
    "from obp.dataset import OpenBanditDataset\n",
    "from plotly.subplots import make_subplots\n",
    "\n",
    "SEED = 7\n",
    "rng = np.random.RandomState(SEED)\n",
    "\n",
    "pd.set_option(\"display.max_rows\", 500)\n",
    "pd.set_option(\"display.max_columns\", 500)\n",
    "pd.set_option(\"display.width\", 1000)\n",
    "\n",
    "\n",
    "from plotter import (\n",
    "    plot_empirical_ctr_by_position,\n",
    "    plot_ctr_grouped_by_action_position_discrete,\n",
    "    plot_position_pmfs,\n",
    ")\n",
    "\n",
    "\n",
    "from ThompsonSlateTracker import ThompsonSlateTracker\n"
   ]
  },
  {
   "cell_type": "markdown",
   "id": "b7af295b",
   "metadata": {},
   "source": [
    "### Helper Functions"
   ]
  },
  {
   "cell_type": "code",
   "execution_count": null,
   "id": "8e77d402",
   "metadata": {},
   "outputs": [],
   "source": [
    "def exact_pmf_one_update(K: int, updated_arm: int, reward: int):\n",
    "    \"\"\"\n",
    "    Closed-form TS selection probabilities when all arms start Beta(1,1),\n",
    "    and exactly one arm is updated once at this position (no MC).\n",
    "    \"\"\"\n",
    "    p = np.empty(K, dtype=float)\n",
    "    if reward == 1:\n",
    "        p_updated = 2.0 / (K + 1.0)              # updated arm\n",
    "        p_others  = 1.0 / (K + 1.0)              # every other arm\n",
    "    else:\n",
    "        p_updated = 2.0 / (K * (K + 1.0))        # updated arm\n",
    "        p_others  = (1.0 - p_updated) / (K - 1.) # spread remainder evenly\n",
    "    p.fill(p_others)\n",
    "    p[updated_arm] = p_updated\n",
    "    return p\n",
    "\n",
    "def make_probs_df(round_num: int, alpha, beta, pmf_by_pos):\n",
    "    \"\"\"Build a wide DataFrame for a given round with selection probs and α/β per position.\"\"\"\n",
    "    rows = []\n",
    "    for a in range(n_actions):\n",
    "        row = {\"round\": round_num, \"action\": a}\n",
    "        for pos in positions:\n",
    "            row[f\"p_pos{pos}\"]     = pmf_by_pos[pos][a]\n",
    "            row[f\"alpha_pos{pos}\"] = alpha[pos][a]\n",
    "            row[f\"beta_pos{pos}\"]  = beta[pos][a]\n",
    "        rows.append(row)\n",
    "    return pd.DataFrame(rows)\n",
    "\n",
    "\n",
    "\n",
    "\n",
    "\n",
    "def pmf_history_to_df(tracker):\n",
    "    \"\"\"\n",
    "    Flatten tracker.pmfs (dict: round -> {key -> np.array(n_actions)})\n",
    "    into a tidy DataFrame with columns:\n",
    "      round, bandit_key, action, p_select\n",
    "    \"\"\"\n",
    "    recs = []\n",
    "    for r, pmf_dict in tracker.pmfs.items():\n",
    "        for key, vec in pmf_dict.items():\n",
    "            for a, p in enumerate(np.asarray(vec)):\n",
    "                recs.append({\"round\": r, \"bandit_key\": key, \"action\": a, \"p_select\": float(p)})\n",
    "    return pd.DataFrame(recs)\n",
    "\n",
    "def picks_history_to_df(tracker):\n",
    "    \"\"\"\n",
    "    Flatten tracker.samples (dict: round -> DataFrame of sampled rows)\n",
    "    into a tidy DataFrame with columns:\n",
    "      round, bandit_key, action, reward, position, pscore\n",
    "    For vanilla TS, bandit_key is 'all'.\n",
    "    For factorized mode, bandit_key equals position.\n",
    "    \"\"\"\n",
    "    recs = []\n",
    "    for r, df_s in tracker.samples.items():\n",
    "        if df_s is None or df_s.empty or r == 0:\n",
    "            continue\n",
    "        if tracker.factorize:\n",
    "            for _, row in df_s.iterrows():\n",
    "                recs.append({\n",
    "                    \"round\": r,\n",
    "                    \"bandit_key\": int(row[\"position\"]),\n",
    "                    \"position\": int(row[\"position\"]),\n",
    "                    \"action\": int(row[\"action\"]),\n",
    "                    \"reward\": int(row[\"reward\"]),\n",
    "                    \"pscore\": float(row[\"pscore\"]),\n",
    "                })\n",
    "        else:\n",
    "            row = df_s.iloc[0]\n",
    "            recs.append({\n",
    "                \"round\": r,\n",
    "                \"bandit_key\": \"all\",\n",
    "                \"position\": int(row[\"position\"]),\n",
    "                \"action\": int(row[\"action\"]),\n",
    "                \"reward\": int(row[\"reward\"]),\n",
    "                \"pscore\": float(row[\"pscore\"]),\n",
    "            })\n",
    "    return pd.DataFrame(recs)\n",
    "\n",
    "\n"
   ]
  },
  {
   "cell_type": "markdown",
   "id": "83c08cb2",
   "metadata": {},
   "source": [
    "### Load the data"
   ]
  },
  {
   "cell_type": "code",
   "execution_count": 3,
   "id": "c15815f6",
   "metadata": {},
   "outputs": [
    {
     "name": "stderr",
     "output_type": "stream",
     "text": [
      "INFO:obp.dataset.real:When `data_path` is not given, this class downloads the small-sized version of Open Bandit Dataset.\n"
     ]
    },
    {
     "name": "stdout",
     "output_type": "stream",
     "text": [
      "bandit_feedback keys: dict_keys(['n_rounds', 'n_actions', 'action', 'position', 'reward', 'pscore', 'context', 'action_context'])\n",
      "Rounds: 10,000 | n_actions: 80 | len_list: 3\n"
     ]
    },
    {
     "data": {
      "text/html": [
       "<div>\n",
       "<style scoped>\n",
       "    .dataframe tbody tr th:only-of-type {\n",
       "        vertical-align: middle;\n",
       "    }\n",
       "\n",
       "    .dataframe tbody tr th {\n",
       "        vertical-align: top;\n",
       "    }\n",
       "\n",
       "    .dataframe thead th {\n",
       "        text-align: right;\n",
       "    }\n",
       "</style>\n",
       "<table border=\"1\" class=\"dataframe\">\n",
       "  <thead>\n",
       "    <tr style=\"text-align: right;\">\n",
       "      <th></th>\n",
       "      <th>action</th>\n",
       "      <th>position</th>\n",
       "      <th>reward</th>\n",
       "      <th>pscore</th>\n",
       "    </tr>\n",
       "  </thead>\n",
       "  <tbody>\n",
       "    <tr>\n",
       "      <th>0</th>\n",
       "      <td>14</td>\n",
       "      <td>2</td>\n",
       "      <td>0</td>\n",
       "      <td>0.0125</td>\n",
       "    </tr>\n",
       "    <tr>\n",
       "      <th>1</th>\n",
       "      <td>14</td>\n",
       "      <td>2</td>\n",
       "      <td>0</td>\n",
       "      <td>0.0125</td>\n",
       "    </tr>\n",
       "    <tr>\n",
       "      <th>2</th>\n",
       "      <td>27</td>\n",
       "      <td>2</td>\n",
       "      <td>0</td>\n",
       "      <td>0.0125</td>\n",
       "    </tr>\n",
       "    <tr>\n",
       "      <th>3</th>\n",
       "      <td>48</td>\n",
       "      <td>1</td>\n",
       "      <td>0</td>\n",
       "      <td>0.0125</td>\n",
       "    </tr>\n",
       "    <tr>\n",
       "      <th>4</th>\n",
       "      <td>36</td>\n",
       "      <td>1</td>\n",
       "      <td>0</td>\n",
       "      <td>0.0125</td>\n",
       "    </tr>\n",
       "  </tbody>\n",
       "</table>\n",
       "</div>"
      ],
      "text/plain": [
       "   action  position  reward  pscore\n",
       "0      14         2       0  0.0125\n",
       "1      14         2       0  0.0125\n",
       "2      27         2       0  0.0125\n",
       "3      48         1       0  0.0125\n",
       "4      36         1       0  0.0125"
      ]
     },
     "execution_count": 3,
     "metadata": {},
     "output_type": "execute_result"
    }
   ],
   "source": [
    "\n",
    "# --- Load OBD (Random / all as example) ---\n",
    "ds = OpenBanditDataset(behavior_policy=\"random\", campaign=\"all\")\n",
    "bf = ds.obtain_batch_bandit_feedback()\n",
    "\n",
    "print(\"bandit_feedback keys:\", bf.keys())\n",
    "print(f\"Rounds: {bf['n_rounds']:,} | n_actions: {bf['n_actions']} | len_list: {ds.len_list}\")\n",
    "\n",
    "# Build a DataFrame for convenience\n",
    "df = pd.DataFrame({\n",
    "    \"action\": bf[\"action\"],\n",
    "    \"position\": bf[\"position\"],\n",
    "    \"reward\": bf[\"reward\"],\n",
    "    \"pscore\": bf[\"pscore\"],\n",
    "})\n",
    "\n",
    "df.head()"
   ]
  },
  {
   "cell_type": "markdown",
   "id": "c2f5c26c",
   "metadata": {},
   "source": [
    "# Round 1 "
   ]
  },
  {
   "cell_type": "markdown",
   "id": "c5457a95",
   "metadata": {},
   "source": [
    "### 1A. Initialize alphas and betas"
   ]
  },
  {
   "cell_type": "markdown",
   "id": "a05614f7",
   "metadata": {},
   "source": []
  },
  {
   "cell_type": "code",
   "execution_count": 5,
   "id": "e344fbdc",
   "metadata": {},
   "outputs": [],
   "source": [
    "# ---------- Setup ----------\n",
    "n_actions = bf[\"n_actions\"]     # K=80\n",
    "positions = [0, 1, 2]\n",
    "\n",
    "# Priors: Beta(1,1) everywhere (Round 0 state)\n",
    "alpha = {pos: np.ones(n_actions, dtype=float) for pos in positions}\n",
    "beta  =  {pos: np.ones(n_actions, dtype=float) for pos in positions}\n",
    "\n",
    "# ---------- Round 0: before any updates ----------\n",
    "pmf_round0 = {pos: np.full(n_actions, 1.0 / n_actions) for pos in positions}  # uniform\n",
    "df_round0  = make_probs_df(round_num=0, alpha=alpha, beta=beta, pmf_by_pos=pmf_round0)"
   ]
  },
  {
   "cell_type": "markdown",
   "id": "1e584adf",
   "metadata": {},
   "source": [
    "### 1B. Sample Observation"
   ]
  },
  {
   "cell_type": "code",
   "execution_count": 6,
   "id": "c1adbf27",
   "metadata": {},
   "outputs": [
    {
     "data": {
      "text/html": [
       "<div>\n",
       "<style scoped>\n",
       "    .dataframe tbody tr th:only-of-type {\n",
       "        vertical-align: middle;\n",
       "    }\n",
       "\n",
       "    .dataframe tbody tr th {\n",
       "        vertical-align: top;\n",
       "    }\n",
       "\n",
       "    .dataframe thead th {\n",
       "        text-align: right;\n",
       "    }\n",
       "</style>\n",
       "<table border=\"1\" class=\"dataframe\">\n",
       "  <thead>\n",
       "    <tr style=\"text-align: right;\">\n",
       "      <th></th>\n",
       "      <th>action</th>\n",
       "      <th>position</th>\n",
       "      <th>reward</th>\n",
       "      <th>pscore</th>\n",
       "    </tr>\n",
       "  </thead>\n",
       "  <tbody>\n",
       "    <tr>\n",
       "      <th>0</th>\n",
       "      <td>66</td>\n",
       "      <td>0</td>\n",
       "      <td>0</td>\n",
       "      <td>0.0125</td>\n",
       "    </tr>\n",
       "    <tr>\n",
       "      <th>1</th>\n",
       "      <td>78</td>\n",
       "      <td>1</td>\n",
       "      <td>0</td>\n",
       "      <td>0.0125</td>\n",
       "    </tr>\n",
       "    <tr>\n",
       "      <th>2</th>\n",
       "      <td>1</td>\n",
       "      <td>2</td>\n",
       "      <td>0</td>\n",
       "      <td>0.0125</td>\n",
       "    </tr>\n",
       "  </tbody>\n",
       "</table>\n",
       "</div>"
      ],
      "text/plain": [
       "   action  position  reward  pscore\n",
       "0      66         0       0  0.0125\n",
       "1      78         1       0  0.0125\n",
       "2       1         2       0  0.0125"
      ]
     },
     "execution_count": 6,
     "metadata": {},
     "output_type": "execute_result"
    }
   ],
   "source": [
    "# ---------- Sample one observation per position from your log DF ----------\n",
    "# NOTE: set random_state=<int> for reproducibility; None for fresh randomness.\n",
    "sampled = (\n",
    "    df.groupby(\"position\", group_keys=False)\n",
    "      .apply(lambda x: x.sample(1, random_state=SEED))\n",
    "      .reset_index(drop=True)\n",
    ")\n",
    "sampled\n"
   ]
  },
  {
   "cell_type": "markdown",
   "id": "44a0a11f",
   "metadata": {},
   "source": [
    "### 1C. Update based on observations"
   ]
  },
  {
   "cell_type": "code",
   "execution_count": 7,
   "id": "dab09163",
   "metadata": {},
   "outputs": [
    {
     "name": "stdout",
     "output_type": "stream",
     "text": [
      "\n",
      "Updated actions across rounds:\n"
     ]
    },
    {
     "data": {
      "text/html": [
       "<div>\n",
       "<style scoped>\n",
       "    .dataframe tbody tr th:only-of-type {\n",
       "        vertical-align: middle;\n",
       "    }\n",
       "\n",
       "    .dataframe tbody tr th {\n",
       "        vertical-align: top;\n",
       "    }\n",
       "\n",
       "    .dataframe thead th {\n",
       "        text-align: right;\n",
       "    }\n",
       "</style>\n",
       "<table border=\"1\" class=\"dataframe\">\n",
       "  <thead>\n",
       "    <tr style=\"text-align: right;\">\n",
       "      <th></th>\n",
       "      <th>round</th>\n",
       "      <th>action</th>\n",
       "      <th>p_pos0</th>\n",
       "      <th>alpha_pos0</th>\n",
       "      <th>beta_pos0</th>\n",
       "      <th>p_pos1</th>\n",
       "      <th>alpha_pos1</th>\n",
       "      <th>beta_pos1</th>\n",
       "      <th>p_pos2</th>\n",
       "      <th>alpha_pos2</th>\n",
       "      <th>beta_pos2</th>\n",
       "    </tr>\n",
       "  </thead>\n",
       "  <tbody>\n",
       "    <tr>\n",
       "      <th>1</th>\n",
       "      <td>0</td>\n",
       "      <td>1</td>\n",
       "      <td>0.012500</td>\n",
       "      <td>1.0</td>\n",
       "      <td>1.0</td>\n",
       "      <td>0.012500</td>\n",
       "      <td>1.0</td>\n",
       "      <td>1.0</td>\n",
       "      <td>0.012500</td>\n",
       "      <td>1.0</td>\n",
       "      <td>1.0</td>\n",
       "    </tr>\n",
       "    <tr>\n",
       "      <th>66</th>\n",
       "      <td>0</td>\n",
       "      <td>66</td>\n",
       "      <td>0.012500</td>\n",
       "      <td>1.0</td>\n",
       "      <td>1.0</td>\n",
       "      <td>0.012500</td>\n",
       "      <td>1.0</td>\n",
       "      <td>1.0</td>\n",
       "      <td>0.012500</td>\n",
       "      <td>1.0</td>\n",
       "      <td>1.0</td>\n",
       "    </tr>\n",
       "    <tr>\n",
       "      <th>78</th>\n",
       "      <td>0</td>\n",
       "      <td>78</td>\n",
       "      <td>0.012500</td>\n",
       "      <td>1.0</td>\n",
       "      <td>1.0</td>\n",
       "      <td>0.012500</td>\n",
       "      <td>1.0</td>\n",
       "      <td>1.0</td>\n",
       "      <td>0.012500</td>\n",
       "      <td>1.0</td>\n",
       "      <td>1.0</td>\n",
       "    </tr>\n",
       "    <tr>\n",
       "      <th>81</th>\n",
       "      <td>1</td>\n",
       "      <td>1</td>\n",
       "      <td>0.012654</td>\n",
       "      <td>1.0</td>\n",
       "      <td>1.0</td>\n",
       "      <td>0.012654</td>\n",
       "      <td>1.0</td>\n",
       "      <td>1.0</td>\n",
       "      <td>0.000309</td>\n",
       "      <td>1.0</td>\n",
       "      <td>2.0</td>\n",
       "    </tr>\n",
       "    <tr>\n",
       "      <th>146</th>\n",
       "      <td>1</td>\n",
       "      <td>66</td>\n",
       "      <td>0.000309</td>\n",
       "      <td>1.0</td>\n",
       "      <td>2.0</td>\n",
       "      <td>0.012654</td>\n",
       "      <td>1.0</td>\n",
       "      <td>1.0</td>\n",
       "      <td>0.012654</td>\n",
       "      <td>1.0</td>\n",
       "      <td>1.0</td>\n",
       "    </tr>\n",
       "    <tr>\n",
       "      <th>158</th>\n",
       "      <td>1</td>\n",
       "      <td>78</td>\n",
       "      <td>0.012654</td>\n",
       "      <td>1.0</td>\n",
       "      <td>1.0</td>\n",
       "      <td>0.000309</td>\n",
       "      <td>1.0</td>\n",
       "      <td>2.0</td>\n",
       "      <td>0.012654</td>\n",
       "      <td>1.0</td>\n",
       "      <td>1.0</td>\n",
       "    </tr>\n",
       "  </tbody>\n",
       "</table>\n",
       "</div>"
      ],
      "text/plain": [
       "     round  action    p_pos0  alpha_pos0  beta_pos0    p_pos1  alpha_pos1  beta_pos1    p_pos2  alpha_pos2  beta_pos2\n",
       "1        0       1  0.012500         1.0        1.0  0.012500         1.0        1.0  0.012500         1.0        1.0\n",
       "66       0      66  0.012500         1.0        1.0  0.012500         1.0        1.0  0.012500         1.0        1.0\n",
       "78       0      78  0.012500         1.0        1.0  0.012500         1.0        1.0  0.012500         1.0        1.0\n",
       "81       1       1  0.012654         1.0        1.0  0.012654         1.0        1.0  0.000309         1.0        2.0\n",
       "146      1      66  0.000309         1.0        2.0  0.012654         1.0        1.0  0.012654         1.0        1.0\n",
       "158      1      78  0.012654         1.0        1.0  0.000309         1.0        2.0  0.012654         1.0        1.0"
      ]
     },
     "execution_count": 7,
     "metadata": {},
     "output_type": "execute_result"
    }
   ],
   "source": [
    "# ---------- Round 1: apply sampled updates ----------\n",
    "for _, r in sampled.iterrows():\n",
    "    a_obs = int(r[\"action\"])\n",
    "    p_obs = int(r[\"position\"])\n",
    "    r_obs = int(r[\"reward\"])\n",
    "    alpha[p_obs][a_obs] += r_obs\n",
    "    beta[p_obs][a_obs]  += (1 - r_obs)\n",
    "\n",
    "\n",
    "# Build PMFs after the (one) update at each position (closed-form)\n",
    "pmf_round1 = {}\n",
    "for pos in positions:\n",
    "    obs_row = sampled.loc[sampled[\"position\"] == pos].iloc[0]\n",
    "    pmf_round1[pos] = exact_pmf_one_update(\n",
    "        K=n_actions,\n",
    "        updated_arm=int(obs_row[\"action\"]),\n",
    "        reward=int(obs_row[\"reward\"]),\n",
    "    )\n",
    "\n",
    "df_round1 = make_probs_df(round_num=1, alpha=alpha, beta=beta, pmf_by_pos=pmf_round1)\n",
    "\n",
    "\n",
    "# ---------- Combine rounds for tracking ----------\n",
    "df_probs_all_rounds = pd.concat([df_round0, df_round1], ignore_index=True)\n",
    "\n",
    "# Peek: show just the three updated actions across rounds\n",
    "updated_actions = sampled[\"action\"].tolist()\n",
    "print(\"\\nUpdated actions across rounds:\")\n",
    "df_probs_all_rounds[df_probs_all_rounds[\"action\"].isin(updated_actions)].sort_values([\"round\",\"action\"])\n"
   ]
  },
  {
   "cell_type": "code",
   "execution_count": 8,
   "id": "478d3f81",
   "metadata": {},
   "outputs": [
    {
     "name": "stdout",
     "output_type": "stream",
     "text": [
      "Sampled (one row per position):\n",
      "   action  position  reward  pscore\n",
      "0      66         0       0  0.0125\n",
      "1      78         1       0  0.0125\n",
      "2       1         2       0  0.0125\n"
     ]
    },
    {
     "data": {
      "application/vnd.plotly.v1+json": {
       "config": {
        "plotlyServerURL": "https://plot.ly"
       },
       "data": [
        {
         "customdata": {
          "bdata": "AAAAAAAAAAAAAAAAAAAAAAAAAAAAAAAAAAAAAAAAAAAAAAAAAAAAAAAAAAAAAAAAAAAAAAAAAAAAAAAAAAAAAAAAAAAAAAAAAAAAAAAAAAA=",
          "dtype": "i1",
          "shape": "80, 1"
         },
         "hovertemplate": "Position: %{customdata[0]}<br>Action: %{x}<br>Round 0 (uniform)<br>P: %{y:.6f}<extra></extra>",
         "legendgroup": "roundA",
         "marker": {
          "color": "steelblue"
         },
         "name": "Round 0 (uniform)",
         "opacity": 0.6,
         "showlegend": true,
         "type": "bar",
         "x": {
          "bdata": "AAECAwQFBgcICQoLDA0ODxAREhMUFRYXGBkaGxwdHh8gISIjJCUmJygpKissLS4vMDEyMzQ1Njc4OTo7PD0+P0BBQkNERUZHSElKS0xNTk8=",
          "dtype": "i1"
         },
         "xaxis": "x",
         "y": {
          "bdata": "mpmZmZmZiT+amZmZmZmJP5qZmZmZmYk/mpmZmZmZiT+amZmZmZmJP5qZmZmZmYk/mpmZmZmZiT+amZmZmZmJP5qZmZmZmYk/mpmZmZmZiT+amZmZmZmJP5qZmZmZmYk/mpmZmZmZiT+amZmZmZmJP5qZmZmZmYk/mpmZmZmZiT+amZmZmZmJP5qZmZmZmYk/mpmZmZmZiT+amZmZmZmJP5qZmZmZmYk/mpmZmZmZiT+amZmZmZmJP5qZmZmZmYk/mpmZmZmZiT+amZmZmZmJP5qZmZmZmYk/mpmZmZmZiT+amZmZmZmJP5qZmZmZmYk/mpmZmZmZiT+amZmZmZmJP5qZmZmZmYk/mpmZmZmZiT+amZmZmZmJP5qZmZmZmYk/mpmZmZmZiT+amZmZmZmJP5qZmZmZmYk/mpmZmZmZiT+amZmZmZmJP5qZmZmZmYk/mpmZmZmZiT+amZmZmZmJP5qZmZmZmYk/mpmZmZmZiT+amZmZmZmJP5qZmZmZmYk/mpmZmZmZiT+amZmZmZmJP5qZmZmZmYk/mpmZmZmZiT+amZmZmZmJP5qZmZmZmYk/mpmZmZmZiT+amZmZmZmJP5qZmZmZmYk/mpmZmZmZiT+amZmZmZmJP5qZmZmZmYk/mpmZmZmZiT+amZmZmZmJP5qZmZmZmYk/mpmZmZmZiT+amZmZmZmJP5qZmZmZmYk/mpmZmZmZiT+amZmZmZmJP5qZmZmZmYk/mpmZmZmZiT+amZmZmZmJP5qZmZmZmYk/mpmZmZmZiT+amZmZmZmJP5qZmZmZmYk/mpmZmZmZiT+amZmZmZmJP5qZmZmZmYk/mpmZmZmZiT+amZmZmZmJPw==",
          "dtype": "f8"
         },
         "yaxis": "y"
        },
        {
         "customdata": {
          "bdata": "AAAAAAAAAAAAAAAAAAAAAAAAAAAAAAAAAAAAAAAAAAAAAAAAAAAAAAAAAAAAAAAAAAAAAAAAAAAAAAAAAAAAAAAAAAAAAAAAAAAAAAAAAAA=",
          "dtype": "i1",
          "shape": "80, 1"
         },
         "hovertemplate": "Position: %{customdata[0]}<br>Action: %{x}<br>Round 1 (updated)<br>P: %{y:.6f}<extra></extra>",
         "legendgroup": "roundB",
         "marker": {
          "color": "darkorange"
         },
         "name": "Round 1 (updated)",
         "opacity": 0.85,
         "showlegend": true,
         "type": "bar",
         "x": {
          "bdata": "AAECAwQFBgcICQoLDA0ODxAREhMUFRYXGBkaGxwdHh8gISIjJCUmJygpKissLS4vMDEyMzQ1Njc4OTo7PD0+P0BBQkNERUZHSElKS0xNTk8=",
          "dtype": "i1"
         },
         "xaxis": "x",
         "y": {
          "bdata": "U0lcNoLqiT9TSVw2guqJP1NJXDaC6ok/U0lcNoLqiT9TSVw2guqJP1NJXDaC6ok/U0lcNoLqiT9TSVw2guqJP1NJXDaC6ok/U0lcNoLqiT9TSVw2guqJP1NJXDaC6ok/U0lcNoLqiT9TSVw2guqJP1NJXDaC6ok/U0lcNoLqiT9TSVw2guqJP1NJXDaC6ok/U0lcNoLqiT9TSVw2guqJP1NJXDaC6ok/U0lcNoLqiT9TSVw2guqJP1NJXDaC6ok/U0lcNoLqiT9TSVw2guqJP1NJXDaC6ok/U0lcNoLqiT9TSVw2guqJP1NJXDaC6ok/U0lcNoLqiT9TSVw2guqJP1NJXDaC6ok/U0lcNoLqiT9TSVw2guqJP1NJXDaC6ok/U0lcNoLqiT9TSVw2guqJP1NJXDaC6ok/U0lcNoLqiT9TSVw2guqJP1NJXDaC6ok/U0lcNoLqiT9TSVw2guqJP1NJXDaC6ok/U0lcNoLqiT9TSVw2guqJP1NJXDaC6ok/U0lcNoLqiT9TSVw2guqJP1NJXDaC6ok/U0lcNoLqiT9TSVw2guqJP1NJXDaC6ok/U0lcNoLqiT9TSVw2guqJP1NJXDaC6ok/U0lcNoLqiT9TSVw2guqJP1NJXDaC6ok/U0lcNoLqiT9TSVw2guqJP1NJXDaC6ok/U0lcNoLqiT9TSVw2guqJP1NJXDaC6ok/Te6rMCc6ND9TSVw2guqJP1NJXDaC6ok/U0lcNoLqiT9TSVw2guqJP1NJXDaC6ok/U0lcNoLqiT9TSVw2guqJP1NJXDaC6ok/U0lcNoLqiT9TSVw2guqJP1NJXDaC6ok/U0lcNoLqiT9TSVw2guqJPw==",
          "dtype": "f8"
         },
         "yaxis": "y"
        },
        {
         "customdata": {
          "bdata": "AQEBAQEBAQEBAQEBAQEBAQEBAQEBAQEBAQEBAQEBAQEBAQEBAQEBAQEBAQEBAQEBAQEBAQEBAQEBAQEBAQEBAQEBAQEBAQEBAQEBAQEBAQE=",
          "dtype": "i1",
          "shape": "80, 1"
         },
         "hovertemplate": "Position: %{customdata[0]}<br>Action: %{x}<br>Round 0 (uniform)<br>P: %{y:.6f}<extra></extra>",
         "legendgroup": "roundA",
         "marker": {
          "color": "steelblue"
         },
         "name": "Round 0 (uniform)",
         "opacity": 0.6,
         "showlegend": false,
         "type": "bar",
         "x": {
          "bdata": "AAECAwQFBgcICQoLDA0ODxAREhMUFRYXGBkaGxwdHh8gISIjJCUmJygpKissLS4vMDEyMzQ1Njc4OTo7PD0+P0BBQkNERUZHSElKS0xNTk8=",
          "dtype": "i1"
         },
         "xaxis": "x2",
         "y": {
          "bdata": "mpmZmZmZiT+amZmZmZmJP5qZmZmZmYk/mpmZmZmZiT+amZmZmZmJP5qZmZmZmYk/mpmZmZmZiT+amZmZmZmJP5qZmZmZmYk/mpmZmZmZiT+amZmZmZmJP5qZmZmZmYk/mpmZmZmZiT+amZmZmZmJP5qZmZmZmYk/mpmZmZmZiT+amZmZmZmJP5qZmZmZmYk/mpmZmZmZiT+amZmZmZmJP5qZmZmZmYk/mpmZmZmZiT+amZmZmZmJP5qZmZmZmYk/mpmZmZmZiT+amZmZmZmJP5qZmZmZmYk/mpmZmZmZiT+amZmZmZmJP5qZmZmZmYk/mpmZmZmZiT+amZmZmZmJP5qZmZmZmYk/mpmZmZmZiT+amZmZmZmJP5qZmZmZmYk/mpmZmZmZiT+amZmZmZmJP5qZmZmZmYk/mpmZmZmZiT+amZmZmZmJP5qZmZmZmYk/mpmZmZmZiT+amZmZmZmJP5qZmZmZmYk/mpmZmZmZiT+amZmZmZmJP5qZmZmZmYk/mpmZmZmZiT+amZmZmZmJP5qZmZmZmYk/mpmZmZmZiT+amZmZmZmJP5qZmZmZmYk/mpmZmZmZiT+amZmZmZmJP5qZmZmZmYk/mpmZmZmZiT+amZmZmZmJP5qZmZmZmYk/mpmZmZmZiT+amZmZmZmJP5qZmZmZmYk/mpmZmZmZiT+amZmZmZmJP5qZmZmZmYk/mpmZmZmZiT+amZmZmZmJP5qZmZmZmYk/mpmZmZmZiT+amZmZmZmJP5qZmZmZmYk/mpmZmZmZiT+amZmZmZmJP5qZmZmZmYk/mpmZmZmZiT+amZmZmZmJP5qZmZmZmYk/mpmZmZmZiT+amZmZmZmJPw==",
          "dtype": "f8"
         },
         "yaxis": "y2"
        },
        {
         "customdata": {
          "bdata": "AQEBAQEBAQEBAQEBAQEBAQEBAQEBAQEBAQEBAQEBAQEBAQEBAQEBAQEBAQEBAQEBAQEBAQEBAQEBAQEBAQEBAQEBAQEBAQEBAQEBAQEBAQE=",
          "dtype": "i1",
          "shape": "80, 1"
         },
         "hovertemplate": "Position: %{customdata[0]}<br>Action: %{x}<br>Round 1 (updated)<br>P: %{y:.6f}<extra></extra>",
         "legendgroup": "roundB",
         "marker": {
          "color": "darkorange"
         },
         "name": "Round 1 (updated)",
         "opacity": 0.85,
         "showlegend": false,
         "type": "bar",
         "x": {
          "bdata": "AAECAwQFBgcICQoLDA0ODxAREhMUFRYXGBkaGxwdHh8gISIjJCUmJygpKissLS4vMDEyMzQ1Njc4OTo7PD0+P0BBQkNERUZHSElKS0xNTk8=",
          "dtype": "i1"
         },
         "xaxis": "x2",
         "y": {
          "bdata": "U0lcNoLqiT9TSVw2guqJP1NJXDaC6ok/U0lcNoLqiT9TSVw2guqJP1NJXDaC6ok/U0lcNoLqiT9TSVw2guqJP1NJXDaC6ok/U0lcNoLqiT9TSVw2guqJP1NJXDaC6ok/U0lcNoLqiT9TSVw2guqJP1NJXDaC6ok/U0lcNoLqiT9TSVw2guqJP1NJXDaC6ok/U0lcNoLqiT9TSVw2guqJP1NJXDaC6ok/U0lcNoLqiT9TSVw2guqJP1NJXDaC6ok/U0lcNoLqiT9TSVw2guqJP1NJXDaC6ok/U0lcNoLqiT9TSVw2guqJP1NJXDaC6ok/U0lcNoLqiT9TSVw2guqJP1NJXDaC6ok/U0lcNoLqiT9TSVw2guqJP1NJXDaC6ok/U0lcNoLqiT9TSVw2guqJP1NJXDaC6ok/U0lcNoLqiT9TSVw2guqJP1NJXDaC6ok/U0lcNoLqiT9TSVw2guqJP1NJXDaC6ok/U0lcNoLqiT9TSVw2guqJP1NJXDaC6ok/U0lcNoLqiT9TSVw2guqJP1NJXDaC6ok/U0lcNoLqiT9TSVw2guqJP1NJXDaC6ok/U0lcNoLqiT9TSVw2guqJP1NJXDaC6ok/U0lcNoLqiT9TSVw2guqJP1NJXDaC6ok/U0lcNoLqiT9TSVw2guqJP1NJXDaC6ok/U0lcNoLqiT9TSVw2guqJP1NJXDaC6ok/U0lcNoLqiT9TSVw2guqJP1NJXDaC6ok/U0lcNoLqiT9TSVw2guqJP1NJXDaC6ok/U0lcNoLqiT9TSVw2guqJP1NJXDaC6ok/U0lcNoLqiT9TSVw2guqJP1NJXDaC6ok/Te6rMCc6ND9TSVw2guqJPw==",
          "dtype": "f8"
         },
         "yaxis": "y2"
        },
        {
         "customdata": {
          "bdata": "AgICAgICAgICAgICAgICAgICAgICAgICAgICAgICAgICAgICAgICAgICAgICAgICAgICAgICAgICAgICAgICAgICAgICAgICAgICAgICAgI=",
          "dtype": "i1",
          "shape": "80, 1"
         },
         "hovertemplate": "Position: %{customdata[0]}<br>Action: %{x}<br>Round 0 (uniform)<br>P: %{y:.6f}<extra></extra>",
         "legendgroup": "roundA",
         "marker": {
          "color": "steelblue"
         },
         "name": "Round 0 (uniform)",
         "opacity": 0.6,
         "showlegend": false,
         "type": "bar",
         "x": {
          "bdata": "AAECAwQFBgcICQoLDA0ODxAREhMUFRYXGBkaGxwdHh8gISIjJCUmJygpKissLS4vMDEyMzQ1Njc4OTo7PD0+P0BBQkNERUZHSElKS0xNTk8=",
          "dtype": "i1"
         },
         "xaxis": "x3",
         "y": {
          "bdata": "mpmZmZmZiT+amZmZmZmJP5qZmZmZmYk/mpmZmZmZiT+amZmZmZmJP5qZmZmZmYk/mpmZmZmZiT+amZmZmZmJP5qZmZmZmYk/mpmZmZmZiT+amZmZmZmJP5qZmZmZmYk/mpmZmZmZiT+amZmZmZmJP5qZmZmZmYk/mpmZmZmZiT+amZmZmZmJP5qZmZmZmYk/mpmZmZmZiT+amZmZmZmJP5qZmZmZmYk/mpmZmZmZiT+amZmZmZmJP5qZmZmZmYk/mpmZmZmZiT+amZmZmZmJP5qZmZmZmYk/mpmZmZmZiT+amZmZmZmJP5qZmZmZmYk/mpmZmZmZiT+amZmZmZmJP5qZmZmZmYk/mpmZmZmZiT+amZmZmZmJP5qZmZmZmYk/mpmZmZmZiT+amZmZmZmJP5qZmZmZmYk/mpmZmZmZiT+amZmZmZmJP5qZmZmZmYk/mpmZmZmZiT+amZmZmZmJP5qZmZmZmYk/mpmZmZmZiT+amZmZmZmJP5qZmZmZmYk/mpmZmZmZiT+amZmZmZmJP5qZmZmZmYk/mpmZmZmZiT+amZmZmZmJP5qZmZmZmYk/mpmZmZmZiT+amZmZmZmJP5qZmZmZmYk/mpmZmZmZiT+amZmZmZmJP5qZmZmZmYk/mpmZmZmZiT+amZmZmZmJP5qZmZmZmYk/mpmZmZmZiT+amZmZmZmJP5qZmZmZmYk/mpmZmZmZiT+amZmZmZmJP5qZmZmZmYk/mpmZmZmZiT+amZmZmZmJP5qZmZmZmYk/mpmZmZmZiT+amZmZmZmJP5qZmZmZmYk/mpmZmZmZiT+amZmZmZmJP5qZmZmZmYk/mpmZmZmZiT+amZmZmZmJPw==",
          "dtype": "f8"
         },
         "yaxis": "y3"
        },
        {
         "customdata": {
          "bdata": "AgICAgICAgICAgICAgICAgICAgICAgICAgICAgICAgICAgICAgICAgICAgICAgICAgICAgICAgICAgICAgICAgICAgICAgICAgICAgICAgI=",
          "dtype": "i1",
          "shape": "80, 1"
         },
         "hovertemplate": "Position: %{customdata[0]}<br>Action: %{x}<br>Round 1 (updated)<br>P: %{y:.6f}<extra></extra>",
         "legendgroup": "roundB",
         "marker": {
          "color": "darkorange"
         },
         "name": "Round 1 (updated)",
         "opacity": 0.85,
         "showlegend": false,
         "type": "bar",
         "x": {
          "bdata": "AAECAwQFBgcICQoLDA0ODxAREhMUFRYXGBkaGxwdHh8gISIjJCUmJygpKissLS4vMDEyMzQ1Njc4OTo7PD0+P0BBQkNERUZHSElKS0xNTk8=",
          "dtype": "i1"
         },
         "xaxis": "x3",
         "y": {
          "bdata": "U0lcNoLqiT9N7qswJzo0P1NJXDaC6ok/U0lcNoLqiT9TSVw2guqJP1NJXDaC6ok/U0lcNoLqiT9TSVw2guqJP1NJXDaC6ok/U0lcNoLqiT9TSVw2guqJP1NJXDaC6ok/U0lcNoLqiT9TSVw2guqJP1NJXDaC6ok/U0lcNoLqiT9TSVw2guqJP1NJXDaC6ok/U0lcNoLqiT9TSVw2guqJP1NJXDaC6ok/U0lcNoLqiT9TSVw2guqJP1NJXDaC6ok/U0lcNoLqiT9TSVw2guqJP1NJXDaC6ok/U0lcNoLqiT9TSVw2guqJP1NJXDaC6ok/U0lcNoLqiT9TSVw2guqJP1NJXDaC6ok/U0lcNoLqiT9TSVw2guqJP1NJXDaC6ok/U0lcNoLqiT9TSVw2guqJP1NJXDaC6ok/U0lcNoLqiT9TSVw2guqJP1NJXDaC6ok/U0lcNoLqiT9TSVw2guqJP1NJXDaC6ok/U0lcNoLqiT9TSVw2guqJP1NJXDaC6ok/U0lcNoLqiT9TSVw2guqJP1NJXDaC6ok/U0lcNoLqiT9TSVw2guqJP1NJXDaC6ok/U0lcNoLqiT9TSVw2guqJP1NJXDaC6ok/U0lcNoLqiT9TSVw2guqJP1NJXDaC6ok/U0lcNoLqiT9TSVw2guqJP1NJXDaC6ok/U0lcNoLqiT9TSVw2guqJP1NJXDaC6ok/U0lcNoLqiT9TSVw2guqJP1NJXDaC6ok/U0lcNoLqiT9TSVw2guqJP1NJXDaC6ok/U0lcNoLqiT9TSVw2guqJP1NJXDaC6ok/U0lcNoLqiT9TSVw2guqJP1NJXDaC6ok/U0lcNoLqiT9TSVw2guqJPw==",
          "dtype": "f8"
         },
         "yaxis": "y3"
        }
       ],
       "layout": {
        "annotations": [
         {
          "font": {
           "size": 16
          },
          "showarrow": false,
          "text": "Position 0",
          "x": 0.5,
          "xanchor": "center",
          "xref": "paper",
          "y": 1,
          "yanchor": "bottom",
          "yref": "paper"
         },
         {
          "font": {
           "size": 16
          },
          "showarrow": false,
          "text": "Position 1",
          "x": 0.5,
          "xanchor": "center",
          "xref": "paper",
          "y": 0.6399999999999999,
          "yanchor": "bottom",
          "yref": "paper"
         },
         {
          "font": {
           "size": 16
          },
          "showarrow": false,
          "text": "Position 2",
          "x": 0.5,
          "xanchor": "center",
          "xref": "paper",
          "y": 0.27999999999999997,
          "yanchor": "bottom",
          "yref": "paper"
         }
        ],
        "bargap": 0.15,
        "barmode": "group",
        "height": 1020,
        "template": {
         "data": {
          "bar": [
           {
            "error_x": {
             "color": "#2a3f5f"
            },
            "error_y": {
             "color": "#2a3f5f"
            },
            "marker": {
             "line": {
              "color": "white",
              "width": 0.5
             },
             "pattern": {
              "fillmode": "overlay",
              "size": 10,
              "solidity": 0.2
             }
            },
            "type": "bar"
           }
          ],
          "barpolar": [
           {
            "marker": {
             "line": {
              "color": "white",
              "width": 0.5
             },
             "pattern": {
              "fillmode": "overlay",
              "size": 10,
              "solidity": 0.2
             }
            },
            "type": "barpolar"
           }
          ],
          "carpet": [
           {
            "aaxis": {
             "endlinecolor": "#2a3f5f",
             "gridcolor": "#C8D4E3",
             "linecolor": "#C8D4E3",
             "minorgridcolor": "#C8D4E3",
             "startlinecolor": "#2a3f5f"
            },
            "baxis": {
             "endlinecolor": "#2a3f5f",
             "gridcolor": "#C8D4E3",
             "linecolor": "#C8D4E3",
             "minorgridcolor": "#C8D4E3",
             "startlinecolor": "#2a3f5f"
            },
            "type": "carpet"
           }
          ],
          "choropleth": [
           {
            "colorbar": {
             "outlinewidth": 0,
             "ticks": ""
            },
            "type": "choropleth"
           }
          ],
          "contour": [
           {
            "colorbar": {
             "outlinewidth": 0,
             "ticks": ""
            },
            "colorscale": [
             [
              0,
              "#0d0887"
             ],
             [
              0.1111111111111111,
              "#46039f"
             ],
             [
              0.2222222222222222,
              "#7201a8"
             ],
             [
              0.3333333333333333,
              "#9c179e"
             ],
             [
              0.4444444444444444,
              "#bd3786"
             ],
             [
              0.5555555555555556,
              "#d8576b"
             ],
             [
              0.6666666666666666,
              "#ed7953"
             ],
             [
              0.7777777777777778,
              "#fb9f3a"
             ],
             [
              0.8888888888888888,
              "#fdca26"
             ],
             [
              1,
              "#f0f921"
             ]
            ],
            "type": "contour"
           }
          ],
          "contourcarpet": [
           {
            "colorbar": {
             "outlinewidth": 0,
             "ticks": ""
            },
            "type": "contourcarpet"
           }
          ],
          "heatmap": [
           {
            "colorbar": {
             "outlinewidth": 0,
             "ticks": ""
            },
            "colorscale": [
             [
              0,
              "#0d0887"
             ],
             [
              0.1111111111111111,
              "#46039f"
             ],
             [
              0.2222222222222222,
              "#7201a8"
             ],
             [
              0.3333333333333333,
              "#9c179e"
             ],
             [
              0.4444444444444444,
              "#bd3786"
             ],
             [
              0.5555555555555556,
              "#d8576b"
             ],
             [
              0.6666666666666666,
              "#ed7953"
             ],
             [
              0.7777777777777778,
              "#fb9f3a"
             ],
             [
              0.8888888888888888,
              "#fdca26"
             ],
             [
              1,
              "#f0f921"
             ]
            ],
            "type": "heatmap"
           }
          ],
          "histogram": [
           {
            "marker": {
             "pattern": {
              "fillmode": "overlay",
              "size": 10,
              "solidity": 0.2
             }
            },
            "type": "histogram"
           }
          ],
          "histogram2d": [
           {
            "colorbar": {
             "outlinewidth": 0,
             "ticks": ""
            },
            "colorscale": [
             [
              0,
              "#0d0887"
             ],
             [
              0.1111111111111111,
              "#46039f"
             ],
             [
              0.2222222222222222,
              "#7201a8"
             ],
             [
              0.3333333333333333,
              "#9c179e"
             ],
             [
              0.4444444444444444,
              "#bd3786"
             ],
             [
              0.5555555555555556,
              "#d8576b"
             ],
             [
              0.6666666666666666,
              "#ed7953"
             ],
             [
              0.7777777777777778,
              "#fb9f3a"
             ],
             [
              0.8888888888888888,
              "#fdca26"
             ],
             [
              1,
              "#f0f921"
             ]
            ],
            "type": "histogram2d"
           }
          ],
          "histogram2dcontour": [
           {
            "colorbar": {
             "outlinewidth": 0,
             "ticks": ""
            },
            "colorscale": [
             [
              0,
              "#0d0887"
             ],
             [
              0.1111111111111111,
              "#46039f"
             ],
             [
              0.2222222222222222,
              "#7201a8"
             ],
             [
              0.3333333333333333,
              "#9c179e"
             ],
             [
              0.4444444444444444,
              "#bd3786"
             ],
             [
              0.5555555555555556,
              "#d8576b"
             ],
             [
              0.6666666666666666,
              "#ed7953"
             ],
             [
              0.7777777777777778,
              "#fb9f3a"
             ],
             [
              0.8888888888888888,
              "#fdca26"
             ],
             [
              1,
              "#f0f921"
             ]
            ],
            "type": "histogram2dcontour"
           }
          ],
          "mesh3d": [
           {
            "colorbar": {
             "outlinewidth": 0,
             "ticks": ""
            },
            "type": "mesh3d"
           }
          ],
          "parcoords": [
           {
            "line": {
             "colorbar": {
              "outlinewidth": 0,
              "ticks": ""
             }
            },
            "type": "parcoords"
           }
          ],
          "pie": [
           {
            "automargin": true,
            "type": "pie"
           }
          ],
          "scatter": [
           {
            "fillpattern": {
             "fillmode": "overlay",
             "size": 10,
             "solidity": 0.2
            },
            "type": "scatter"
           }
          ],
          "scatter3d": [
           {
            "line": {
             "colorbar": {
              "outlinewidth": 0,
              "ticks": ""
             }
            },
            "marker": {
             "colorbar": {
              "outlinewidth": 0,
              "ticks": ""
             }
            },
            "type": "scatter3d"
           }
          ],
          "scattercarpet": [
           {
            "marker": {
             "colorbar": {
              "outlinewidth": 0,
              "ticks": ""
             }
            },
            "type": "scattercarpet"
           }
          ],
          "scattergeo": [
           {
            "marker": {
             "colorbar": {
              "outlinewidth": 0,
              "ticks": ""
             }
            },
            "type": "scattergeo"
           }
          ],
          "scattergl": [
           {
            "marker": {
             "colorbar": {
              "outlinewidth": 0,
              "ticks": ""
             }
            },
            "type": "scattergl"
           }
          ],
          "scattermap": [
           {
            "marker": {
             "colorbar": {
              "outlinewidth": 0,
              "ticks": ""
             }
            },
            "type": "scattermap"
           }
          ],
          "scattermapbox": [
           {
            "marker": {
             "colorbar": {
              "outlinewidth": 0,
              "ticks": ""
             }
            },
            "type": "scattermapbox"
           }
          ],
          "scatterpolar": [
           {
            "marker": {
             "colorbar": {
              "outlinewidth": 0,
              "ticks": ""
             }
            },
            "type": "scatterpolar"
           }
          ],
          "scatterpolargl": [
           {
            "marker": {
             "colorbar": {
              "outlinewidth": 0,
              "ticks": ""
             }
            },
            "type": "scatterpolargl"
           }
          ],
          "scatterternary": [
           {
            "marker": {
             "colorbar": {
              "outlinewidth": 0,
              "ticks": ""
             }
            },
            "type": "scatterternary"
           }
          ],
          "surface": [
           {
            "colorbar": {
             "outlinewidth": 0,
             "ticks": ""
            },
            "colorscale": [
             [
              0,
              "#0d0887"
             ],
             [
              0.1111111111111111,
              "#46039f"
             ],
             [
              0.2222222222222222,
              "#7201a8"
             ],
             [
              0.3333333333333333,
              "#9c179e"
             ],
             [
              0.4444444444444444,
              "#bd3786"
             ],
             [
              0.5555555555555556,
              "#d8576b"
             ],
             [
              0.6666666666666666,
              "#ed7953"
             ],
             [
              0.7777777777777778,
              "#fb9f3a"
             ],
             [
              0.8888888888888888,
              "#fdca26"
             ],
             [
              1,
              "#f0f921"
             ]
            ],
            "type": "surface"
           }
          ],
          "table": [
           {
            "cells": {
             "fill": {
              "color": "#EBF0F8"
             },
             "line": {
              "color": "white"
             }
            },
            "header": {
             "fill": {
              "color": "#C8D4E3"
             },
             "line": {
              "color": "white"
             }
            },
            "type": "table"
           }
          ]
         },
         "layout": {
          "annotationdefaults": {
           "arrowcolor": "#2a3f5f",
           "arrowhead": 0,
           "arrowwidth": 1
          },
          "autotypenumbers": "strict",
          "coloraxis": {
           "colorbar": {
            "outlinewidth": 0,
            "ticks": ""
           }
          },
          "colorscale": {
           "diverging": [
            [
             0,
             "#8e0152"
            ],
            [
             0.1,
             "#c51b7d"
            ],
            [
             0.2,
             "#de77ae"
            ],
            [
             0.3,
             "#f1b6da"
            ],
            [
             0.4,
             "#fde0ef"
            ],
            [
             0.5,
             "#f7f7f7"
            ],
            [
             0.6,
             "#e6f5d0"
            ],
            [
             0.7,
             "#b8e186"
            ],
            [
             0.8,
             "#7fbc41"
            ],
            [
             0.9,
             "#4d9221"
            ],
            [
             1,
             "#276419"
            ]
           ],
           "sequential": [
            [
             0,
             "#0d0887"
            ],
            [
             0.1111111111111111,
             "#46039f"
            ],
            [
             0.2222222222222222,
             "#7201a8"
            ],
            [
             0.3333333333333333,
             "#9c179e"
            ],
            [
             0.4444444444444444,
             "#bd3786"
            ],
            [
             0.5555555555555556,
             "#d8576b"
            ],
            [
             0.6666666666666666,
             "#ed7953"
            ],
            [
             0.7777777777777778,
             "#fb9f3a"
            ],
            [
             0.8888888888888888,
             "#fdca26"
            ],
            [
             1,
             "#f0f921"
            ]
           ],
           "sequentialminus": [
            [
             0,
             "#0d0887"
            ],
            [
             0.1111111111111111,
             "#46039f"
            ],
            [
             0.2222222222222222,
             "#7201a8"
            ],
            [
             0.3333333333333333,
             "#9c179e"
            ],
            [
             0.4444444444444444,
             "#bd3786"
            ],
            [
             0.5555555555555556,
             "#d8576b"
            ],
            [
             0.6666666666666666,
             "#ed7953"
            ],
            [
             0.7777777777777778,
             "#fb9f3a"
            ],
            [
             0.8888888888888888,
             "#fdca26"
            ],
            [
             1,
             "#f0f921"
            ]
           ]
          },
          "colorway": [
           "#636efa",
           "#EF553B",
           "#00cc96",
           "#ab63fa",
           "#FFA15A",
           "#19d3f3",
           "#FF6692",
           "#B6E880",
           "#FF97FF",
           "#FECB52"
          ],
          "font": {
           "color": "#2a3f5f"
          },
          "geo": {
           "bgcolor": "white",
           "lakecolor": "white",
           "landcolor": "white",
           "showlakes": true,
           "showland": true,
           "subunitcolor": "#C8D4E3"
          },
          "hoverlabel": {
           "align": "left"
          },
          "hovermode": "closest",
          "mapbox": {
           "style": "light"
          },
          "paper_bgcolor": "white",
          "plot_bgcolor": "white",
          "polar": {
           "angularaxis": {
            "gridcolor": "#EBF0F8",
            "linecolor": "#EBF0F8",
            "ticks": ""
           },
           "bgcolor": "white",
           "radialaxis": {
            "gridcolor": "#EBF0F8",
            "linecolor": "#EBF0F8",
            "ticks": ""
           }
          },
          "scene": {
           "xaxis": {
            "backgroundcolor": "white",
            "gridcolor": "#DFE8F3",
            "gridwidth": 2,
            "linecolor": "#EBF0F8",
            "showbackground": true,
            "ticks": "",
            "zerolinecolor": "#EBF0F8"
           },
           "yaxis": {
            "backgroundcolor": "white",
            "gridcolor": "#DFE8F3",
            "gridwidth": 2,
            "linecolor": "#EBF0F8",
            "showbackground": true,
            "ticks": "",
            "zerolinecolor": "#EBF0F8"
           },
           "zaxis": {
            "backgroundcolor": "white",
            "gridcolor": "#DFE8F3",
            "gridwidth": 2,
            "linecolor": "#EBF0F8",
            "showbackground": true,
            "ticks": "",
            "zerolinecolor": "#EBF0F8"
           }
          },
          "shapedefaults": {
           "line": {
            "color": "#2a3f5f"
           }
          },
          "ternary": {
           "aaxis": {
            "gridcolor": "#DFE8F3",
            "linecolor": "#A2B1C6",
            "ticks": ""
           },
           "baxis": {
            "gridcolor": "#DFE8F3",
            "linecolor": "#A2B1C6",
            "ticks": ""
           },
           "bgcolor": "white",
           "caxis": {
            "gridcolor": "#DFE8F3",
            "linecolor": "#A2B1C6",
            "ticks": ""
           }
          },
          "title": {
           "x": 0.05
          },
          "xaxis": {
           "automargin": true,
           "gridcolor": "#EBF0F8",
           "linecolor": "#EBF0F8",
           "ticks": "",
           "title": {
            "standoff": 15
           },
           "zerolinecolor": "#EBF0F8",
           "zerolinewidth": 2
          },
          "yaxis": {
           "automargin": true,
           "gridcolor": "#EBF0F8",
           "linecolor": "#EBF0F8",
           "ticks": "",
           "title": {
            "standoff": 15
           },
           "zerolinecolor": "#EBF0F8",
           "zerolinewidth": 2
          }
         }
        },
        "title": {
         "text": "Selection probabilities by position: Round 0 vs Round 1"
        },
        "xaxis": {
         "anchor": "y",
         "domain": [
          0,
          1
         ],
         "showticklabels": true,
         "tickmode": "array",
         "ticks": "outside",
         "ticktext": [
          "0",
          "1",
          "2",
          "3",
          "4",
          "5",
          "6",
          "7",
          "8",
          "9",
          "10",
          "11",
          "12",
          "13",
          "14",
          "15",
          "16",
          "17",
          "18",
          "19",
          "20",
          "21",
          "22",
          "23",
          "24",
          "25",
          "26",
          "27",
          "28",
          "29",
          "30",
          "31",
          "32",
          "33",
          "34",
          "35",
          "36",
          "37",
          "38",
          "39",
          "40",
          "41",
          "42",
          "43",
          "44",
          "45",
          "46",
          "47",
          "48",
          "49",
          "50",
          "51",
          "52",
          "53",
          "54",
          "55",
          "56",
          "57",
          "58",
          "59",
          "60",
          "61",
          "62",
          "63",
          "64",
          "65",
          "66",
          "67",
          "68",
          "69",
          "70",
          "71",
          "72",
          "73",
          "74",
          "75",
          "76",
          "77",
          "78",
          "79"
         ],
         "tickvals": {
          "bdata": "AAECAwQFBgcICQoLDA0ODxAREhMUFRYXGBkaGxwdHh8gISIjJCUmJygpKissLS4vMDEyMzQ1Njc4OTo7PD0+P0BBQkNERUZHSElKS0xNTk8=",
          "dtype": "i1"
         },
         "title": {
          "text": ""
         }
        },
        "xaxis2": {
         "anchor": "y2",
         "domain": [
          0,
          1
         ],
         "showticklabels": true,
         "tickmode": "array",
         "ticks": "outside",
         "ticktext": [
          "0",
          "1",
          "2",
          "3",
          "4",
          "5",
          "6",
          "7",
          "8",
          "9",
          "10",
          "11",
          "12",
          "13",
          "14",
          "15",
          "16",
          "17",
          "18",
          "19",
          "20",
          "21",
          "22",
          "23",
          "24",
          "25",
          "26",
          "27",
          "28",
          "29",
          "30",
          "31",
          "32",
          "33",
          "34",
          "35",
          "36",
          "37",
          "38",
          "39",
          "40",
          "41",
          "42",
          "43",
          "44",
          "45",
          "46",
          "47",
          "48",
          "49",
          "50",
          "51",
          "52",
          "53",
          "54",
          "55",
          "56",
          "57",
          "58",
          "59",
          "60",
          "61",
          "62",
          "63",
          "64",
          "65",
          "66",
          "67",
          "68",
          "69",
          "70",
          "71",
          "72",
          "73",
          "74",
          "75",
          "76",
          "77",
          "78",
          "79"
         ],
         "tickvals": {
          "bdata": "AAECAwQFBgcICQoLDA0ODxAREhMUFRYXGBkaGxwdHh8gISIjJCUmJygpKissLS4vMDEyMzQ1Njc4OTo7PD0+P0BBQkNERUZHSElKS0xNTk8=",
          "dtype": "i1"
         },
         "title": {
          "text": ""
         }
        },
        "xaxis3": {
         "anchor": "y3",
         "domain": [
          0,
          1
         ],
         "showticklabels": true,
         "tickmode": "array",
         "ticks": "outside",
         "ticktext": [
          "0",
          "1",
          "2",
          "3",
          "4",
          "5",
          "6",
          "7",
          "8",
          "9",
          "10",
          "11",
          "12",
          "13",
          "14",
          "15",
          "16",
          "17",
          "18",
          "19",
          "20",
          "21",
          "22",
          "23",
          "24",
          "25",
          "26",
          "27",
          "28",
          "29",
          "30",
          "31",
          "32",
          "33",
          "34",
          "35",
          "36",
          "37",
          "38",
          "39",
          "40",
          "41",
          "42",
          "43",
          "44",
          "45",
          "46",
          "47",
          "48",
          "49",
          "50",
          "51",
          "52",
          "53",
          "54",
          "55",
          "56",
          "57",
          "58",
          "59",
          "60",
          "61",
          "62",
          "63",
          "64",
          "65",
          "66",
          "67",
          "68",
          "69",
          "70",
          "71",
          "72",
          "73",
          "74",
          "75",
          "76",
          "77",
          "78",
          "79"
         ],
         "tickvals": {
          "bdata": "AAECAwQFBgcICQoLDA0ODxAREhMUFRYXGBkaGxwdHh8gISIjJCUmJygpKissLS4vMDEyMzQ1Njc4OTo7PD0+P0BBQkNERUZHSElKS0xNTk8=",
          "dtype": "i1"
         },
         "title": {
          "text": "Action ID (0–79)"
         }
        },
        "yaxis": {
         "anchor": "x",
         "domain": [
          0.72,
          1
         ],
         "range": [
          0,
          0.015817901234567902
         ],
         "title": {
          "text": "P(action selected)"
         }
        },
        "yaxis2": {
         "anchor": "x2",
         "domain": [
          0.36,
          0.6399999999999999
         ],
         "range": [
          0,
          0.015817901234567902
         ],
         "title": {
          "text": "P(action selected)"
         }
        },
        "yaxis3": {
         "anchor": "x3",
         "domain": [
          0,
          0.27999999999999997
         ],
         "range": [
          0,
          0.015817901234567902
         ],
         "title": {
          "text": "P(action selected)"
         }
        }
       }
      }
     },
     "metadata": {},
     "output_type": "display_data"
    }
   ],
   "source": [
    "print(\"Sampled (one row per position):\")\n",
    "print(sampled[[\"action\",\"position\",\"reward\",\"pscore\"]])\n",
    "\n",
    "fig = plot_pmf_compare_by_position(\n",
    "    pmf_round_A=pmf_round0,\n",
    "    pmf_round_B=pmf_round1,\n",
    "    positions=positions,\n",
    "    n_actions=n_actions,\n",
    "    title=\"Selection probabilities by position: Round 0 vs Round 1\",\n",
    "    round_labels=(\"Round 0 (uniform)\", \"Round 1 (updated)\")\n",
    ")\n",
    "fig.show()"
   ]
  },
  {
   "cell_type": "code",
   "execution_count": 9,
   "id": "92bbc41a",
   "metadata": {},
   "outputs": [
    {
     "name": "stdout",
     "output_type": "stream",
     "text": [
      "Round 1 samples:\n",
      "    action  position  reward  pscore\n",
      "0      66         0       0  0.0125\n",
      "1      78         1       0  0.0125\n",
      "2       1         2       0  0.0125\n"
     ]
    },
    {
     "data": {
      "application/vnd.plotly.v1+json": {
       "config": {
        "plotlyServerURL": "https://plot.ly"
       },
       "data": [
        {
         "marker": {
          "color": "steelblue"
         },
         "name": "Round 0",
         "opacity": 0.6,
         "showlegend": true,
         "type": "bar",
         "x": {
          "bdata": "AAECAwQFBgcICQoLDA0ODxAREhMUFRYXGBkaGxwdHh8gISIjJCUmJygpKissLS4vMDEyMzQ1Njc4OTo7PD0+P0BBQkNERUZHSElKS0xNTk8=",
          "dtype": "i1"
         },
         "xaxis": "x",
         "y": {
          "bdata": "mpmZmZmZiT+amZmZmZmJP5qZmZmZmYk/mpmZmZmZiT+amZmZmZmJP5qZmZmZmYk/mpmZmZmZiT+amZmZmZmJP5qZmZmZmYk/mpmZmZmZiT+amZmZmZmJP5qZmZmZmYk/mpmZmZmZiT+amZmZmZmJP5qZmZmZmYk/mpmZmZmZiT+amZmZmZmJP5qZmZmZmYk/mpmZmZmZiT+amZmZmZmJP5qZmZmZmYk/mpmZmZmZiT+amZmZmZmJP5qZmZmZmYk/mpmZmZmZiT+amZmZmZmJP5qZmZmZmYk/mpmZmZmZiT+amZmZmZmJP5qZmZmZmYk/mpmZmZmZiT+amZmZmZmJP5qZmZmZmYk/mpmZmZmZiT+amZmZmZmJP5qZmZmZmYk/mpmZmZmZiT+amZmZmZmJP5qZmZmZmYk/mpmZmZmZiT+amZmZmZmJP5qZmZmZmYk/mpmZmZmZiT+amZmZmZmJP5qZmZmZmYk/mpmZmZmZiT+amZmZmZmJP5qZmZmZmYk/mpmZmZmZiT+amZmZmZmJP5qZmZmZmYk/mpmZmZmZiT+amZmZmZmJP5qZmZmZmYk/mpmZmZmZiT+amZmZmZmJP5qZmZmZmYk/mpmZmZmZiT+amZmZmZmJP5qZmZmZmYk/mpmZmZmZiT+amZmZmZmJP5qZmZmZmYk/mpmZmZmZiT+amZmZmZmJP5qZmZmZmYk/mpmZmZmZiT+amZmZmZmJP5qZmZmZmYk/mpmZmZmZiT+amZmZmZmJP5qZmZmZmYk/mpmZmZmZiT+amZmZmZmJP5qZmZmZmYk/mpmZmZmZiT+amZmZmZmJP5qZmZmZmYk/mpmZmZmZiT+amZmZmZmJPw==",
          "dtype": "f8"
         },
         "yaxis": "y"
        },
        {
         "marker": {
          "color": "darkorange"
         },
         "name": "Round 1",
         "opacity": 0.85,
         "showlegend": true,
         "type": "bar",
         "x": {
          "bdata": "AAECAwQFBgcICQoLDA0ODxAREhMUFRYXGBkaGxwdHh8gISIjJCUmJygpKissLS4vMDEyMzQ1Njc4OTo7PD0+P0BBQkNERUZHSElKS0xNTk8=",
          "dtype": "i1"
         },
         "xaxis": "x",
         "y": {
          "bdata": "U0lcNoLqiT9TSVw2guqJP1NJXDaC6ok/U0lcNoLqiT9TSVw2guqJP1NJXDaC6ok/U0lcNoLqiT9TSVw2guqJP1NJXDaC6ok/U0lcNoLqiT9TSVw2guqJP1NJXDaC6ok/U0lcNoLqiT9TSVw2guqJP1NJXDaC6ok/U0lcNoLqiT9TSVw2guqJP1NJXDaC6ok/U0lcNoLqiT9TSVw2guqJP1NJXDaC6ok/U0lcNoLqiT9TSVw2guqJP1NJXDaC6ok/U0lcNoLqiT9TSVw2guqJP1NJXDaC6ok/U0lcNoLqiT9TSVw2guqJP1NJXDaC6ok/U0lcNoLqiT9TSVw2guqJP1NJXDaC6ok/U0lcNoLqiT9TSVw2guqJP1NJXDaC6ok/U0lcNoLqiT9TSVw2guqJP1NJXDaC6ok/U0lcNoLqiT9TSVw2guqJP1NJXDaC6ok/U0lcNoLqiT9TSVw2guqJP1NJXDaC6ok/U0lcNoLqiT9TSVw2guqJP1NJXDaC6ok/U0lcNoLqiT9TSVw2guqJP1NJXDaC6ok/U0lcNoLqiT9TSVw2guqJP1NJXDaC6ok/U0lcNoLqiT9TSVw2guqJP1NJXDaC6ok/U0lcNoLqiT9TSVw2guqJP1NJXDaC6ok/U0lcNoLqiT9TSVw2guqJP1NJXDaC6ok/U0lcNoLqiT9TSVw2guqJP1NJXDaC6ok/Te6rMCc6ND9TSVw2guqJP1NJXDaC6ok/U0lcNoLqiT9TSVw2guqJP1NJXDaC6ok/U0lcNoLqiT9TSVw2guqJP1NJXDaC6ok/U0lcNoLqiT9TSVw2guqJP1NJXDaC6ok/U0lcNoLqiT9TSVw2guqJPw==",
          "dtype": "f8"
         },
         "yaxis": "y"
        },
        {
         "hovertemplate": "Round 1<br>Position: 0<br>Action: %{x}<br>P: %{y:.6f}<br>Reward: 0<extra></extra>",
         "marker": {
          "color": "forestgreen",
          "size": 11,
          "symbol": "diamond"
         },
         "mode": "markers",
         "name": "Picked (r=1)",
         "showlegend": true,
         "type": "scatter",
         "x": [
          66
         ],
         "xaxis": "x",
         "y": [
          0.00030864197530864197
         ],
         "yaxis": "y"
        },
        {
         "marker": {
          "color": "steelblue"
         },
         "name": "Round 0",
         "opacity": 0.6,
         "showlegend": false,
         "type": "bar",
         "x": {
          "bdata": "AAECAwQFBgcICQoLDA0ODxAREhMUFRYXGBkaGxwdHh8gISIjJCUmJygpKissLS4vMDEyMzQ1Njc4OTo7PD0+P0BBQkNERUZHSElKS0xNTk8=",
          "dtype": "i1"
         },
         "xaxis": "x2",
         "y": {
          "bdata": "mpmZmZmZiT+amZmZmZmJP5qZmZmZmYk/mpmZmZmZiT+amZmZmZmJP5qZmZmZmYk/mpmZmZmZiT+amZmZmZmJP5qZmZmZmYk/mpmZmZmZiT+amZmZmZmJP5qZmZmZmYk/mpmZmZmZiT+amZmZmZmJP5qZmZmZmYk/mpmZmZmZiT+amZmZmZmJP5qZmZmZmYk/mpmZmZmZiT+amZmZmZmJP5qZmZmZmYk/mpmZmZmZiT+amZmZmZmJP5qZmZmZmYk/mpmZmZmZiT+amZmZmZmJP5qZmZmZmYk/mpmZmZmZiT+amZmZmZmJP5qZmZmZmYk/mpmZmZmZiT+amZmZmZmJP5qZmZmZmYk/mpmZmZmZiT+amZmZmZmJP5qZmZmZmYk/mpmZmZmZiT+amZmZmZmJP5qZmZmZmYk/mpmZmZmZiT+amZmZmZmJP5qZmZmZmYk/mpmZmZmZiT+amZmZmZmJP5qZmZmZmYk/mpmZmZmZiT+amZmZmZmJP5qZmZmZmYk/mpmZmZmZiT+amZmZmZmJP5qZmZmZmYk/mpmZmZmZiT+amZmZmZmJP5qZmZmZmYk/mpmZmZmZiT+amZmZmZmJP5qZmZmZmYk/mpmZmZmZiT+amZmZmZmJP5qZmZmZmYk/mpmZmZmZiT+amZmZmZmJP5qZmZmZmYk/mpmZmZmZiT+amZmZmZmJP5qZmZmZmYk/mpmZmZmZiT+amZmZmZmJP5qZmZmZmYk/mpmZmZmZiT+amZmZmZmJP5qZmZmZmYk/mpmZmZmZiT+amZmZmZmJP5qZmZmZmYk/mpmZmZmZiT+amZmZmZmJP5qZmZmZmYk/mpmZmZmZiT+amZmZmZmJPw==",
          "dtype": "f8"
         },
         "yaxis": "y2"
        },
        {
         "marker": {
          "color": "darkorange"
         },
         "name": "Round 1",
         "opacity": 0.85,
         "showlegend": false,
         "type": "bar",
         "x": {
          "bdata": "AAECAwQFBgcICQoLDA0ODxAREhMUFRYXGBkaGxwdHh8gISIjJCUmJygpKissLS4vMDEyMzQ1Njc4OTo7PD0+P0BBQkNERUZHSElKS0xNTk8=",
          "dtype": "i1"
         },
         "xaxis": "x2",
         "y": {
          "bdata": "U0lcNoLqiT9TSVw2guqJP1NJXDaC6ok/U0lcNoLqiT9TSVw2guqJP1NJXDaC6ok/U0lcNoLqiT9TSVw2guqJP1NJXDaC6ok/U0lcNoLqiT9TSVw2guqJP1NJXDaC6ok/U0lcNoLqiT9TSVw2guqJP1NJXDaC6ok/U0lcNoLqiT9TSVw2guqJP1NJXDaC6ok/U0lcNoLqiT9TSVw2guqJP1NJXDaC6ok/U0lcNoLqiT9TSVw2guqJP1NJXDaC6ok/U0lcNoLqiT9TSVw2guqJP1NJXDaC6ok/U0lcNoLqiT9TSVw2guqJP1NJXDaC6ok/U0lcNoLqiT9TSVw2guqJP1NJXDaC6ok/U0lcNoLqiT9TSVw2guqJP1NJXDaC6ok/U0lcNoLqiT9TSVw2guqJP1NJXDaC6ok/U0lcNoLqiT9TSVw2guqJP1NJXDaC6ok/U0lcNoLqiT9TSVw2guqJP1NJXDaC6ok/U0lcNoLqiT9TSVw2guqJP1NJXDaC6ok/U0lcNoLqiT9TSVw2guqJP1NJXDaC6ok/U0lcNoLqiT9TSVw2guqJP1NJXDaC6ok/U0lcNoLqiT9TSVw2guqJP1NJXDaC6ok/U0lcNoLqiT9TSVw2guqJP1NJXDaC6ok/U0lcNoLqiT9TSVw2guqJP1NJXDaC6ok/U0lcNoLqiT9TSVw2guqJP1NJXDaC6ok/U0lcNoLqiT9TSVw2guqJP1NJXDaC6ok/U0lcNoLqiT9TSVw2guqJP1NJXDaC6ok/U0lcNoLqiT9TSVw2guqJP1NJXDaC6ok/U0lcNoLqiT9TSVw2guqJP1NJXDaC6ok/Te6rMCc6ND9TSVw2guqJPw==",
          "dtype": "f8"
         },
         "yaxis": "y2"
        },
        {
         "hovertemplate": "Round 1<br>Position: 1<br>Action: %{x}<br>P: %{y:.6f}<br>Reward: 0<extra></extra>",
         "marker": {
          "color": "forestgreen",
          "size": 11,
          "symbol": "diamond"
         },
         "mode": "markers",
         "name": "Picked (r=1)",
         "showlegend": false,
         "type": "scatter",
         "x": [
          78
         ],
         "xaxis": "x2",
         "y": [
          0.00030864197530864197
         ],
         "yaxis": "y2"
        },
        {
         "marker": {
          "color": "steelblue"
         },
         "name": "Round 0",
         "opacity": 0.6,
         "showlegend": false,
         "type": "bar",
         "x": {
          "bdata": "AAECAwQFBgcICQoLDA0ODxAREhMUFRYXGBkaGxwdHh8gISIjJCUmJygpKissLS4vMDEyMzQ1Njc4OTo7PD0+P0BBQkNERUZHSElKS0xNTk8=",
          "dtype": "i1"
         },
         "xaxis": "x3",
         "y": {
          "bdata": "mpmZmZmZiT+amZmZmZmJP5qZmZmZmYk/mpmZmZmZiT+amZmZmZmJP5qZmZmZmYk/mpmZmZmZiT+amZmZmZmJP5qZmZmZmYk/mpmZmZmZiT+amZmZmZmJP5qZmZmZmYk/mpmZmZmZiT+amZmZmZmJP5qZmZmZmYk/mpmZmZmZiT+amZmZmZmJP5qZmZmZmYk/mpmZmZmZiT+amZmZmZmJP5qZmZmZmYk/mpmZmZmZiT+amZmZmZmJP5qZmZmZmYk/mpmZmZmZiT+amZmZmZmJP5qZmZmZmYk/mpmZmZmZiT+amZmZmZmJP5qZmZmZmYk/mpmZmZmZiT+amZmZmZmJP5qZmZmZmYk/mpmZmZmZiT+amZmZmZmJP5qZmZmZmYk/mpmZmZmZiT+amZmZmZmJP5qZmZmZmYk/mpmZmZmZiT+amZmZmZmJP5qZmZmZmYk/mpmZmZmZiT+amZmZmZmJP5qZmZmZmYk/mpmZmZmZiT+amZmZmZmJP5qZmZmZmYk/mpmZmZmZiT+amZmZmZmJP5qZmZmZmYk/mpmZmZmZiT+amZmZmZmJP5qZmZmZmYk/mpmZmZmZiT+amZmZmZmJP5qZmZmZmYk/mpmZmZmZiT+amZmZmZmJP5qZmZmZmYk/mpmZmZmZiT+amZmZmZmJP5qZmZmZmYk/mpmZmZmZiT+amZmZmZmJP5qZmZmZmYk/mpmZmZmZiT+amZmZmZmJP5qZmZmZmYk/mpmZmZmZiT+amZmZmZmJP5qZmZmZmYk/mpmZmZmZiT+amZmZmZmJP5qZmZmZmYk/mpmZmZmZiT+amZmZmZmJP5qZmZmZmYk/mpmZmZmZiT+amZmZmZmJPw==",
          "dtype": "f8"
         },
         "yaxis": "y3"
        },
        {
         "marker": {
          "color": "darkorange"
         },
         "name": "Round 1",
         "opacity": 0.85,
         "showlegend": false,
         "type": "bar",
         "x": {
          "bdata": "AAECAwQFBgcICQoLDA0ODxAREhMUFRYXGBkaGxwdHh8gISIjJCUmJygpKissLS4vMDEyMzQ1Njc4OTo7PD0+P0BBQkNERUZHSElKS0xNTk8=",
          "dtype": "i1"
         },
         "xaxis": "x3",
         "y": {
          "bdata": "U0lcNoLqiT9N7qswJzo0P1NJXDaC6ok/U0lcNoLqiT9TSVw2guqJP1NJXDaC6ok/U0lcNoLqiT9TSVw2guqJP1NJXDaC6ok/U0lcNoLqiT9TSVw2guqJP1NJXDaC6ok/U0lcNoLqiT9TSVw2guqJP1NJXDaC6ok/U0lcNoLqiT9TSVw2guqJP1NJXDaC6ok/U0lcNoLqiT9TSVw2guqJP1NJXDaC6ok/U0lcNoLqiT9TSVw2guqJP1NJXDaC6ok/U0lcNoLqiT9TSVw2guqJP1NJXDaC6ok/U0lcNoLqiT9TSVw2guqJP1NJXDaC6ok/U0lcNoLqiT9TSVw2guqJP1NJXDaC6ok/U0lcNoLqiT9TSVw2guqJP1NJXDaC6ok/U0lcNoLqiT9TSVw2guqJP1NJXDaC6ok/U0lcNoLqiT9TSVw2guqJP1NJXDaC6ok/U0lcNoLqiT9TSVw2guqJP1NJXDaC6ok/U0lcNoLqiT9TSVw2guqJP1NJXDaC6ok/U0lcNoLqiT9TSVw2guqJP1NJXDaC6ok/U0lcNoLqiT9TSVw2guqJP1NJXDaC6ok/U0lcNoLqiT9TSVw2guqJP1NJXDaC6ok/U0lcNoLqiT9TSVw2guqJP1NJXDaC6ok/U0lcNoLqiT9TSVw2guqJP1NJXDaC6ok/U0lcNoLqiT9TSVw2guqJP1NJXDaC6ok/U0lcNoLqiT9TSVw2guqJP1NJXDaC6ok/U0lcNoLqiT9TSVw2guqJP1NJXDaC6ok/U0lcNoLqiT9TSVw2guqJP1NJXDaC6ok/U0lcNoLqiT9TSVw2guqJP1NJXDaC6ok/U0lcNoLqiT9TSVw2guqJPw==",
          "dtype": "f8"
         },
         "yaxis": "y3"
        },
        {
         "hovertemplate": "Round 1<br>Position: 2<br>Action: %{x}<br>P: %{y:.6f}<br>Reward: 0<extra></extra>",
         "marker": {
          "color": "forestgreen",
          "size": 11,
          "symbol": "diamond"
         },
         "mode": "markers",
         "name": "Picked (r=1)",
         "showlegend": false,
         "type": "scatter",
         "x": [
          1
         ],
         "xaxis": "x3",
         "y": [
          0.00030864197530864197
         ],
         "yaxis": "y3"
        }
       ],
       "layout": {
        "annotations": [
         {
          "font": {
           "size": 16
          },
          "showarrow": false,
          "text": "Position 0",
          "x": 0.5,
          "xanchor": "center",
          "xref": "paper",
          "y": 1,
          "yanchor": "bottom",
          "yref": "paper"
         },
         {
          "font": {
           "size": 16
          },
          "showarrow": false,
          "text": "Position 1",
          "x": 0.5,
          "xanchor": "center",
          "xref": "paper",
          "y": 0.6399999999999999,
          "yanchor": "bottom",
          "yref": "paper"
         },
         {
          "font": {
           "size": 16
          },
          "showarrow": false,
          "text": "Position 2",
          "x": 0.5,
          "xanchor": "center",
          "xref": "paper",
          "y": 0.27999999999999997,
          "yanchor": "bottom",
          "yref": "paper"
         }
        ],
        "bargap": 0.15,
        "barmode": "group",
        "height": 1050,
        "template": {
         "data": {
          "bar": [
           {
            "error_x": {
             "color": "#2a3f5f"
            },
            "error_y": {
             "color": "#2a3f5f"
            },
            "marker": {
             "line": {
              "color": "white",
              "width": 0.5
             },
             "pattern": {
              "fillmode": "overlay",
              "size": 10,
              "solidity": 0.2
             }
            },
            "type": "bar"
           }
          ],
          "barpolar": [
           {
            "marker": {
             "line": {
              "color": "white",
              "width": 0.5
             },
             "pattern": {
              "fillmode": "overlay",
              "size": 10,
              "solidity": 0.2
             }
            },
            "type": "barpolar"
           }
          ],
          "carpet": [
           {
            "aaxis": {
             "endlinecolor": "#2a3f5f",
             "gridcolor": "#C8D4E3",
             "linecolor": "#C8D4E3",
             "minorgridcolor": "#C8D4E3",
             "startlinecolor": "#2a3f5f"
            },
            "baxis": {
             "endlinecolor": "#2a3f5f",
             "gridcolor": "#C8D4E3",
             "linecolor": "#C8D4E3",
             "minorgridcolor": "#C8D4E3",
             "startlinecolor": "#2a3f5f"
            },
            "type": "carpet"
           }
          ],
          "choropleth": [
           {
            "colorbar": {
             "outlinewidth": 0,
             "ticks": ""
            },
            "type": "choropleth"
           }
          ],
          "contour": [
           {
            "colorbar": {
             "outlinewidth": 0,
             "ticks": ""
            },
            "colorscale": [
             [
              0,
              "#0d0887"
             ],
             [
              0.1111111111111111,
              "#46039f"
             ],
             [
              0.2222222222222222,
              "#7201a8"
             ],
             [
              0.3333333333333333,
              "#9c179e"
             ],
             [
              0.4444444444444444,
              "#bd3786"
             ],
             [
              0.5555555555555556,
              "#d8576b"
             ],
             [
              0.6666666666666666,
              "#ed7953"
             ],
             [
              0.7777777777777778,
              "#fb9f3a"
             ],
             [
              0.8888888888888888,
              "#fdca26"
             ],
             [
              1,
              "#f0f921"
             ]
            ],
            "type": "contour"
           }
          ],
          "contourcarpet": [
           {
            "colorbar": {
             "outlinewidth": 0,
             "ticks": ""
            },
            "type": "contourcarpet"
           }
          ],
          "heatmap": [
           {
            "colorbar": {
             "outlinewidth": 0,
             "ticks": ""
            },
            "colorscale": [
             [
              0,
              "#0d0887"
             ],
             [
              0.1111111111111111,
              "#46039f"
             ],
             [
              0.2222222222222222,
              "#7201a8"
             ],
             [
              0.3333333333333333,
              "#9c179e"
             ],
             [
              0.4444444444444444,
              "#bd3786"
             ],
             [
              0.5555555555555556,
              "#d8576b"
             ],
             [
              0.6666666666666666,
              "#ed7953"
             ],
             [
              0.7777777777777778,
              "#fb9f3a"
             ],
             [
              0.8888888888888888,
              "#fdca26"
             ],
             [
              1,
              "#f0f921"
             ]
            ],
            "type": "heatmap"
           }
          ],
          "histogram": [
           {
            "marker": {
             "pattern": {
              "fillmode": "overlay",
              "size": 10,
              "solidity": 0.2
             }
            },
            "type": "histogram"
           }
          ],
          "histogram2d": [
           {
            "colorbar": {
             "outlinewidth": 0,
             "ticks": ""
            },
            "colorscale": [
             [
              0,
              "#0d0887"
             ],
             [
              0.1111111111111111,
              "#46039f"
             ],
             [
              0.2222222222222222,
              "#7201a8"
             ],
             [
              0.3333333333333333,
              "#9c179e"
             ],
             [
              0.4444444444444444,
              "#bd3786"
             ],
             [
              0.5555555555555556,
              "#d8576b"
             ],
             [
              0.6666666666666666,
              "#ed7953"
             ],
             [
              0.7777777777777778,
              "#fb9f3a"
             ],
             [
              0.8888888888888888,
              "#fdca26"
             ],
             [
              1,
              "#f0f921"
             ]
            ],
            "type": "histogram2d"
           }
          ],
          "histogram2dcontour": [
           {
            "colorbar": {
             "outlinewidth": 0,
             "ticks": ""
            },
            "colorscale": [
             [
              0,
              "#0d0887"
             ],
             [
              0.1111111111111111,
              "#46039f"
             ],
             [
              0.2222222222222222,
              "#7201a8"
             ],
             [
              0.3333333333333333,
              "#9c179e"
             ],
             [
              0.4444444444444444,
              "#bd3786"
             ],
             [
              0.5555555555555556,
              "#d8576b"
             ],
             [
              0.6666666666666666,
              "#ed7953"
             ],
             [
              0.7777777777777778,
              "#fb9f3a"
             ],
             [
              0.8888888888888888,
              "#fdca26"
             ],
             [
              1,
              "#f0f921"
             ]
            ],
            "type": "histogram2dcontour"
           }
          ],
          "mesh3d": [
           {
            "colorbar": {
             "outlinewidth": 0,
             "ticks": ""
            },
            "type": "mesh3d"
           }
          ],
          "parcoords": [
           {
            "line": {
             "colorbar": {
              "outlinewidth": 0,
              "ticks": ""
             }
            },
            "type": "parcoords"
           }
          ],
          "pie": [
           {
            "automargin": true,
            "type": "pie"
           }
          ],
          "scatter": [
           {
            "fillpattern": {
             "fillmode": "overlay",
             "size": 10,
             "solidity": 0.2
            },
            "type": "scatter"
           }
          ],
          "scatter3d": [
           {
            "line": {
             "colorbar": {
              "outlinewidth": 0,
              "ticks": ""
             }
            },
            "marker": {
             "colorbar": {
              "outlinewidth": 0,
              "ticks": ""
             }
            },
            "type": "scatter3d"
           }
          ],
          "scattercarpet": [
           {
            "marker": {
             "colorbar": {
              "outlinewidth": 0,
              "ticks": ""
             }
            },
            "type": "scattercarpet"
           }
          ],
          "scattergeo": [
           {
            "marker": {
             "colorbar": {
              "outlinewidth": 0,
              "ticks": ""
             }
            },
            "type": "scattergeo"
           }
          ],
          "scattergl": [
           {
            "marker": {
             "colorbar": {
              "outlinewidth": 0,
              "ticks": ""
             }
            },
            "type": "scattergl"
           }
          ],
          "scattermap": [
           {
            "marker": {
             "colorbar": {
              "outlinewidth": 0,
              "ticks": ""
             }
            },
            "type": "scattermap"
           }
          ],
          "scattermapbox": [
           {
            "marker": {
             "colorbar": {
              "outlinewidth": 0,
              "ticks": ""
             }
            },
            "type": "scattermapbox"
           }
          ],
          "scatterpolar": [
           {
            "marker": {
             "colorbar": {
              "outlinewidth": 0,
              "ticks": ""
             }
            },
            "type": "scatterpolar"
           }
          ],
          "scatterpolargl": [
           {
            "marker": {
             "colorbar": {
              "outlinewidth": 0,
              "ticks": ""
             }
            },
            "type": "scatterpolargl"
           }
          ],
          "scatterternary": [
           {
            "marker": {
             "colorbar": {
              "outlinewidth": 0,
              "ticks": ""
             }
            },
            "type": "scatterternary"
           }
          ],
          "surface": [
           {
            "colorbar": {
             "outlinewidth": 0,
             "ticks": ""
            },
            "colorscale": [
             [
              0,
              "#0d0887"
             ],
             [
              0.1111111111111111,
              "#46039f"
             ],
             [
              0.2222222222222222,
              "#7201a8"
             ],
             [
              0.3333333333333333,
              "#9c179e"
             ],
             [
              0.4444444444444444,
              "#bd3786"
             ],
             [
              0.5555555555555556,
              "#d8576b"
             ],
             [
              0.6666666666666666,
              "#ed7953"
             ],
             [
              0.7777777777777778,
              "#fb9f3a"
             ],
             [
              0.8888888888888888,
              "#fdca26"
             ],
             [
              1,
              "#f0f921"
             ]
            ],
            "type": "surface"
           }
          ],
          "table": [
           {
            "cells": {
             "fill": {
              "color": "#EBF0F8"
             },
             "line": {
              "color": "white"
             }
            },
            "header": {
             "fill": {
              "color": "#C8D4E3"
             },
             "line": {
              "color": "white"
             }
            },
            "type": "table"
           }
          ]
         },
         "layout": {
          "annotationdefaults": {
           "arrowcolor": "#2a3f5f",
           "arrowhead": 0,
           "arrowwidth": 1
          },
          "autotypenumbers": "strict",
          "coloraxis": {
           "colorbar": {
            "outlinewidth": 0,
            "ticks": ""
           }
          },
          "colorscale": {
           "diverging": [
            [
             0,
             "#8e0152"
            ],
            [
             0.1,
             "#c51b7d"
            ],
            [
             0.2,
             "#de77ae"
            ],
            [
             0.3,
             "#f1b6da"
            ],
            [
             0.4,
             "#fde0ef"
            ],
            [
             0.5,
             "#f7f7f7"
            ],
            [
             0.6,
             "#e6f5d0"
            ],
            [
             0.7,
             "#b8e186"
            ],
            [
             0.8,
             "#7fbc41"
            ],
            [
             0.9,
             "#4d9221"
            ],
            [
             1,
             "#276419"
            ]
           ],
           "sequential": [
            [
             0,
             "#0d0887"
            ],
            [
             0.1111111111111111,
             "#46039f"
            ],
            [
             0.2222222222222222,
             "#7201a8"
            ],
            [
             0.3333333333333333,
             "#9c179e"
            ],
            [
             0.4444444444444444,
             "#bd3786"
            ],
            [
             0.5555555555555556,
             "#d8576b"
            ],
            [
             0.6666666666666666,
             "#ed7953"
            ],
            [
             0.7777777777777778,
             "#fb9f3a"
            ],
            [
             0.8888888888888888,
             "#fdca26"
            ],
            [
             1,
             "#f0f921"
            ]
           ],
           "sequentialminus": [
            [
             0,
             "#0d0887"
            ],
            [
             0.1111111111111111,
             "#46039f"
            ],
            [
             0.2222222222222222,
             "#7201a8"
            ],
            [
             0.3333333333333333,
             "#9c179e"
            ],
            [
             0.4444444444444444,
             "#bd3786"
            ],
            [
             0.5555555555555556,
             "#d8576b"
            ],
            [
             0.6666666666666666,
             "#ed7953"
            ],
            [
             0.7777777777777778,
             "#fb9f3a"
            ],
            [
             0.8888888888888888,
             "#fdca26"
            ],
            [
             1,
             "#f0f921"
            ]
           ]
          },
          "colorway": [
           "#636efa",
           "#EF553B",
           "#00cc96",
           "#ab63fa",
           "#FFA15A",
           "#19d3f3",
           "#FF6692",
           "#B6E880",
           "#FF97FF",
           "#FECB52"
          ],
          "font": {
           "color": "#2a3f5f"
          },
          "geo": {
           "bgcolor": "white",
           "lakecolor": "white",
           "landcolor": "white",
           "showlakes": true,
           "showland": true,
           "subunitcolor": "#C8D4E3"
          },
          "hoverlabel": {
           "align": "left"
          },
          "hovermode": "closest",
          "mapbox": {
           "style": "light"
          },
          "paper_bgcolor": "white",
          "plot_bgcolor": "white",
          "polar": {
           "angularaxis": {
            "gridcolor": "#EBF0F8",
            "linecolor": "#EBF0F8",
            "ticks": ""
           },
           "bgcolor": "white",
           "radialaxis": {
            "gridcolor": "#EBF0F8",
            "linecolor": "#EBF0F8",
            "ticks": ""
           }
          },
          "scene": {
           "xaxis": {
            "backgroundcolor": "white",
            "gridcolor": "#DFE8F3",
            "gridwidth": 2,
            "linecolor": "#EBF0F8",
            "showbackground": true,
            "ticks": "",
            "zerolinecolor": "#EBF0F8"
           },
           "yaxis": {
            "backgroundcolor": "white",
            "gridcolor": "#DFE8F3",
            "gridwidth": 2,
            "linecolor": "#EBF0F8",
            "showbackground": true,
            "ticks": "",
            "zerolinecolor": "#EBF0F8"
           },
           "zaxis": {
            "backgroundcolor": "white",
            "gridcolor": "#DFE8F3",
            "gridwidth": 2,
            "linecolor": "#EBF0F8",
            "showbackground": true,
            "ticks": "",
            "zerolinecolor": "#EBF0F8"
           }
          },
          "shapedefaults": {
           "line": {
            "color": "#2a3f5f"
           }
          },
          "ternary": {
           "aaxis": {
            "gridcolor": "#DFE8F3",
            "linecolor": "#A2B1C6",
            "ticks": ""
           },
           "baxis": {
            "gridcolor": "#DFE8F3",
            "linecolor": "#A2B1C6",
            "ticks": ""
           },
           "bgcolor": "white",
           "caxis": {
            "gridcolor": "#DFE8F3",
            "linecolor": "#A2B1C6",
            "ticks": ""
           }
          },
          "title": {
           "x": 0.05
          },
          "xaxis": {
           "automargin": true,
           "gridcolor": "#EBF0F8",
           "linecolor": "#EBF0F8",
           "ticks": "",
           "title": {
            "standoff": 15
           },
           "zerolinecolor": "#EBF0F8",
           "zerolinewidth": 2
          },
          "yaxis": {
           "automargin": true,
           "gridcolor": "#EBF0F8",
           "linecolor": "#EBF0F8",
           "ticks": "",
           "title": {
            "standoff": 15
           },
           "zerolinecolor": "#EBF0F8",
           "zerolinewidth": 2
          }
         }
        },
        "title": {
         "text": "Round 0 vs Round 1"
        },
        "xaxis": {
         "anchor": "y",
         "domain": [
          0,
          1
         ],
         "tickmode": "array",
         "ticktext": [
          "0",
          "1",
          "2",
          "3",
          "4",
          "5",
          "6",
          "7",
          "8",
          "9",
          "10",
          "11",
          "12",
          "13",
          "14",
          "15",
          "16",
          "17",
          "18",
          "19",
          "20",
          "21",
          "22",
          "23",
          "24",
          "25",
          "26",
          "27",
          "28",
          "29",
          "30",
          "31",
          "32",
          "33",
          "34",
          "35",
          "36",
          "37",
          "38",
          "39",
          "40",
          "41",
          "42",
          "43",
          "44",
          "45",
          "46",
          "47",
          "48",
          "49",
          "50",
          "51",
          "52",
          "53",
          "54",
          "55",
          "56",
          "57",
          "58",
          "59",
          "60",
          "61",
          "62",
          "63",
          "64",
          "65",
          "66",
          "67",
          "68",
          "69",
          "70",
          "71",
          "72",
          "73",
          "74",
          "75",
          "76",
          "77",
          "78",
          "79"
         ],
         "tickvals": {
          "bdata": "AAECAwQFBgcICQoLDA0ODxAREhMUFRYXGBkaGxwdHh8gISIjJCUmJygpKissLS4vMDEyMzQ1Njc4OTo7PD0+P0BBQkNERUZHSElKS0xNTk8=",
          "dtype": "i1"
         },
         "title": {
          "text": ""
         }
        },
        "xaxis2": {
         "anchor": "y2",
         "domain": [
          0,
          1
         ],
         "tickmode": "array",
         "ticktext": [
          "0",
          "1",
          "2",
          "3",
          "4",
          "5",
          "6",
          "7",
          "8",
          "9",
          "10",
          "11",
          "12",
          "13",
          "14",
          "15",
          "16",
          "17",
          "18",
          "19",
          "20",
          "21",
          "22",
          "23",
          "24",
          "25",
          "26",
          "27",
          "28",
          "29",
          "30",
          "31",
          "32",
          "33",
          "34",
          "35",
          "36",
          "37",
          "38",
          "39",
          "40",
          "41",
          "42",
          "43",
          "44",
          "45",
          "46",
          "47",
          "48",
          "49",
          "50",
          "51",
          "52",
          "53",
          "54",
          "55",
          "56",
          "57",
          "58",
          "59",
          "60",
          "61",
          "62",
          "63",
          "64",
          "65",
          "66",
          "67",
          "68",
          "69",
          "70",
          "71",
          "72",
          "73",
          "74",
          "75",
          "76",
          "77",
          "78",
          "79"
         ],
         "tickvals": {
          "bdata": "AAECAwQFBgcICQoLDA0ODxAREhMUFRYXGBkaGxwdHh8gISIjJCUmJygpKissLS4vMDEyMzQ1Njc4OTo7PD0+P0BBQkNERUZHSElKS0xNTk8=",
          "dtype": "i1"
         },
         "title": {
          "text": ""
         }
        },
        "xaxis3": {
         "anchor": "y3",
         "domain": [
          0,
          1
         ],
         "tickmode": "array",
         "ticktext": [
          "0",
          "1",
          "2",
          "3",
          "4",
          "5",
          "6",
          "7",
          "8",
          "9",
          "10",
          "11",
          "12",
          "13",
          "14",
          "15",
          "16",
          "17",
          "18",
          "19",
          "20",
          "21",
          "22",
          "23",
          "24",
          "25",
          "26",
          "27",
          "28",
          "29",
          "30",
          "31",
          "32",
          "33",
          "34",
          "35",
          "36",
          "37",
          "38",
          "39",
          "40",
          "41",
          "42",
          "43",
          "44",
          "45",
          "46",
          "47",
          "48",
          "49",
          "50",
          "51",
          "52",
          "53",
          "54",
          "55",
          "56",
          "57",
          "58",
          "59",
          "60",
          "61",
          "62",
          "63",
          "64",
          "65",
          "66",
          "67",
          "68",
          "69",
          "70",
          "71",
          "72",
          "73",
          "74",
          "75",
          "76",
          "77",
          "78",
          "79"
         ],
         "tickvals": {
          "bdata": "AAECAwQFBgcICQoLDA0ODxAREhMUFRYXGBkaGxwdHh8gISIjJCUmJygpKissLS4vMDEyMzQ1Njc4OTo7PD0+P0BBQkNERUZHSElKS0xNTk8=",
          "dtype": "i1"
         },
         "title": {
          "text": "Action ID (0–79)"
         }
        },
        "yaxis": {
         "anchor": "x",
         "domain": [
          0.72,
          1
         ],
         "range": [
          0,
          0.015817901234567902
         ],
         "title": {
          "text": "P(select)"
         }
        },
        "yaxis2": {
         "anchor": "x2",
         "domain": [
          0.36,
          0.6399999999999999
         ],
         "range": [
          0,
          0.015817901234567902
         ],
         "title": {
          "text": "P(select)"
         }
        },
        "yaxis3": {
         "anchor": "x3",
         "domain": [
          0,
          0.27999999999999997
         ],
         "range": [
          0,
          0.015817901234567902
         ],
         "title": {
          "text": "P(select)"
         }
        }
       }
      }
     },
     "metadata": {},
     "output_type": "display_data"
    },
    {
     "name": "stdout",
     "output_type": "stream",
     "text": [
      "Round 2 samples:\n",
      "    action  position  reward  pscore\n",
      "0      66         0       0  0.0125\n",
      "1      78         1       0  0.0125\n",
      "2       1         2       0  0.0125\n"
     ]
    },
    {
     "data": {
      "application/vnd.plotly.v1+json": {
       "config": {
        "plotlyServerURL": "https://plot.ly"
       },
       "data": [
        {
         "marker": {
          "color": "steelblue"
         },
         "name": "Round 1",
         "opacity": 0.6,
         "showlegend": true,
         "type": "bar",
         "x": {
          "bdata": "AAECAwQFBgcICQoLDA0ODxAREhMUFRYXGBkaGxwdHh8gISIjJCUmJygpKissLS4vMDEyMzQ1Njc4OTo7PD0+P0BBQkNERUZHSElKS0xNTk8=",
          "dtype": "i1"
         },
         "xaxis": "x",
         "y": {
          "bdata": "U0lcNoLqiT9TSVw2guqJP1NJXDaC6ok/U0lcNoLqiT9TSVw2guqJP1NJXDaC6ok/U0lcNoLqiT9TSVw2guqJP1NJXDaC6ok/U0lcNoLqiT9TSVw2guqJP1NJXDaC6ok/U0lcNoLqiT9TSVw2guqJP1NJXDaC6ok/U0lcNoLqiT9TSVw2guqJP1NJXDaC6ok/U0lcNoLqiT9TSVw2guqJP1NJXDaC6ok/U0lcNoLqiT9TSVw2guqJP1NJXDaC6ok/U0lcNoLqiT9TSVw2guqJP1NJXDaC6ok/U0lcNoLqiT9TSVw2guqJP1NJXDaC6ok/U0lcNoLqiT9TSVw2guqJP1NJXDaC6ok/U0lcNoLqiT9TSVw2guqJP1NJXDaC6ok/U0lcNoLqiT9TSVw2guqJP1NJXDaC6ok/U0lcNoLqiT9TSVw2guqJP1NJXDaC6ok/U0lcNoLqiT9TSVw2guqJP1NJXDaC6ok/U0lcNoLqiT9TSVw2guqJP1NJXDaC6ok/U0lcNoLqiT9TSVw2guqJP1NJXDaC6ok/U0lcNoLqiT9TSVw2guqJP1NJXDaC6ok/U0lcNoLqiT9TSVw2guqJP1NJXDaC6ok/U0lcNoLqiT9TSVw2guqJP1NJXDaC6ok/U0lcNoLqiT9TSVw2guqJP1NJXDaC6ok/U0lcNoLqiT9TSVw2guqJP1NJXDaC6ok/Te6rMCc6ND9TSVw2guqJP1NJXDaC6ok/U0lcNoLqiT9TSVw2guqJP1NJXDaC6ok/U0lcNoLqiT9TSVw2guqJP1NJXDaC6ok/U0lcNoLqiT9TSVw2guqJP1NJXDaC6ok/U0lcNoLqiT9TSVw2guqJPw==",
          "dtype": "f8"
         },
         "yaxis": "y"
        },
        {
         "marker": {
          "color": "darkorange"
         },
         "name": "Round 2",
         "opacity": 0.85,
         "showlegend": true,
         "type": "bar",
         "x": {
          "bdata": "AAECAwQFBgcICQoLDA0ODxAREhMUFRYXGBkaGxwdHh8gISIjJCUmJygpKissLS4vMDEyMzQ1Njc4OTo7PD0+P0BBQkNERUZHSElKS0xNTk8=",
          "dtype": "i1"
         },
         "xaxis": "x",
         "y": {
          "bdata": "LUMc6+I2ij/d71AU6BOJPwd8fhghPIo/Un5S7dPxiD+NtFTejnCKPz7t8NdkjYo/0ETY8PRKiT+BQ6hSsweKP/oK0oxF04k/Eyf3OxQFij+At0CC4seIP7N78rBQa4o/cF8HzhlRij/+Q/rt68CJP4EJ3Lqbp4o/cCU7NgLxij+/mgMEc/SIP8Qlx53SwYo/eNFXkGYsij/ZQpCDEmaKP8iYu5aQD4o/C3va4a/Jij85tMh2vp+KPyx96IL6lok/otEdxM4Uij9f7/54r1qJP6LRHcTOFIo/t+7mqQ65iT/UfQBSmziJPxhgH5268ok/t2J/2T15iD8HfH4YITyKP/KYgcr494k/A30iT5KuiT8HtkqwOJyJP2wm32xzY4o/Yygn2lVIiT+aX80BgjmKP0qYaftXVoo/F5rrNNJSiT+BQ6hSsweKP/rQBfUtc4o/MXxETIkkij+RJ0nXTL6JP3CZ02UxsYk/eJeL+E7Mij86evzepj+LP9AKDFnd6ok/cJnTZTGxiT+mft5UpMKIP/bRqSuf5Yk/pkQSvYxiiT/uX1lpUgqKP6pDboYb8Ik/UkSGVbyRiT+7Jw8LtaaJPwu1pnnHKYo/W3wKgPEMij//CS5W1GCKP9lCkIMSZoo/tyizQSYZiT857pQO1v+JP7PviuB/K4k/npj1Yignij8sfeiC+paJPxea6zTSUok/8WjjiLX45D5OC170FaSJP0bT2cngKIk/5SfVPh2PiT9wXwfOGVGKP8zR4/c2/Yk/Ugq6vaQxij+aX80BgjmKPwu1pnnHKYo/X+/+eK9aiT/QCgxZ3eqJP07RkVz+Q4o/bCbfbHNjij9XCRaHM7+KPw==",
          "dtype": "f8"
         },
         "yaxis": "y"
        },
        {
         "hovertemplate": "Round 1<br>Position: 0<br>Action: %{x}<br>P: %{y:.6f}<br>Reward: 0<extra></extra>",
         "marker": {
          "color": "crimson",
          "size": 12,
          "symbol": "triangle-up"
         },
         "mode": "markers",
         "name": "Picked (r=1)",
         "showlegend": true,
         "type": "scatter",
         "x": [
          66
         ],
         "xaxis": "x",
         "y": [
          0.00030864197530864197
         ],
         "yaxis": "y"
        },
        {
         "hovertemplate": "Round 2<br>Position: 0<br>Action: %{x}<br>P: %{y:.6f}<br>Reward: 0<extra></extra>",
         "marker": {
          "color": "forestgreen",
          "size": 11,
          "symbol": "diamond"
         },
         "mode": "markers",
         "name": "Picked (r=2)",
         "showlegend": true,
         "type": "scatter",
         "x": [
          66
         ],
         "xaxis": "x",
         "y": [
          0.00001
         ],
         "yaxis": "y"
        },
        {
         "marker": {
          "color": "steelblue"
         },
         "name": "Round 1",
         "opacity": 0.6,
         "showlegend": false,
         "type": "bar",
         "x": {
          "bdata": "AAECAwQFBgcICQoLDA0ODxAREhMUFRYXGBkaGxwdHh8gISIjJCUmJygpKissLS4vMDEyMzQ1Njc4OTo7PD0+P0BBQkNERUZHSElKS0xNTk8=",
          "dtype": "i1"
         },
         "xaxis": "x2",
         "y": {
          "bdata": "U0lcNoLqiT9TSVw2guqJP1NJXDaC6ok/U0lcNoLqiT9TSVw2guqJP1NJXDaC6ok/U0lcNoLqiT9TSVw2guqJP1NJXDaC6ok/U0lcNoLqiT9TSVw2guqJP1NJXDaC6ok/U0lcNoLqiT9TSVw2guqJP1NJXDaC6ok/U0lcNoLqiT9TSVw2guqJP1NJXDaC6ok/U0lcNoLqiT9TSVw2guqJP1NJXDaC6ok/U0lcNoLqiT9TSVw2guqJP1NJXDaC6ok/U0lcNoLqiT9TSVw2guqJP1NJXDaC6ok/U0lcNoLqiT9TSVw2guqJP1NJXDaC6ok/U0lcNoLqiT9TSVw2guqJP1NJXDaC6ok/U0lcNoLqiT9TSVw2guqJP1NJXDaC6ok/U0lcNoLqiT9TSVw2guqJP1NJXDaC6ok/U0lcNoLqiT9TSVw2guqJP1NJXDaC6ok/U0lcNoLqiT9TSVw2guqJP1NJXDaC6ok/U0lcNoLqiT9TSVw2guqJP1NJXDaC6ok/U0lcNoLqiT9TSVw2guqJP1NJXDaC6ok/U0lcNoLqiT9TSVw2guqJP1NJXDaC6ok/U0lcNoLqiT9TSVw2guqJP1NJXDaC6ok/U0lcNoLqiT9TSVw2guqJP1NJXDaC6ok/U0lcNoLqiT9TSVw2guqJP1NJXDaC6ok/U0lcNoLqiT9TSVw2guqJP1NJXDaC6ok/U0lcNoLqiT9TSVw2guqJP1NJXDaC6ok/U0lcNoLqiT9TSVw2guqJP1NJXDaC6ok/U0lcNoLqiT9TSVw2guqJP1NJXDaC6ok/U0lcNoLqiT9TSVw2guqJP1NJXDaC6ok/Te6rMCc6ND9TSVw2guqJPw==",
          "dtype": "f8"
         },
         "yaxis": "y2"
        },
        {
         "marker": {
          "color": "darkorange"
         },
         "name": "Round 2",
         "opacity": 0.85,
         "showlegend": false,
         "type": "bar",
         "x": {
          "bdata": "AAECAwQFBgcICQoLDA0ODxAREhMUFRYXGBkaGxwdHh8gISIjJCUmJygpKissLS4vMDEyMzQ1Njc4OTo7PD0+P0BBQkNERUZHSElKS0xNTk8=",
          "dtype": "i1"
         },
         "xaxis": "x2",
         "y": {
          "bdata": "JJf/kH77ij8YYB+duvKJP+qymNh8XIs/9tGpK5/liT8YYB+duvKJP+G04EVfQYo/KAr0iTxJij/EX5M16iGKP33Qs1n1uYo/+tAF9S1zij8TJ/c7FAWKP0qYaftXVoo/6SYxCKwcij+iC+pb5nSJP4FDqFKzB4o/bCbfbHNjij8LKT+p9umIP9RDNLqD2Ik/X+/+eK9aiT/ImLuWkA+KP2tgqwSLw4k/u+1Cc51Gij857pQO1v+JP6p9Oh4zUIk/1QloImx4ij/de7jkuFOKPxea6zTSUok/gQncupunij9Wfa62Yn+JP1t8CoDxDIo/4e6s3XahiT+mCkYldQKKP+Un1T4dj4k/s3vysFBrij9fe2ZJgJqKP2PuWkI+6Ik/lialoNtLij/QRNjw9EqJPwu1pnnHKYo/KETAIVSpiT/M0eP3Nv2JP6pDboYb8Ik/4e6s3XahiT+ztb5IaMuJP4m1+BQA44k/Ugq6vaQxij89J71vfO2JP4FDqFKzB4o/bCbfbHNjij9r1EM0uoOIP7O1vkhoy4k/t+7mqQ65iT+AfXTqymeJP5VgcTjzq4k/kSdJ10y+iT8LtaZ5xymKP9DQP8HFioo/cJnTZTGxiT/ymIHK+PeJP69Cyk+qfYo/gUOoUrMHij/ZfFwbKsaJP3SYLy/APoo/2UKQgxJmij817zhFR3KJP5nTZTGx+Yg/Arfu5qkOiT8LtaZ5xymKP2cng6Pk1Yk/B/AWSFD8iD/YtiizQSaJP/bRqSuf5Yk/X+/+eK9aiT8+7fDXZI2KP6pDboYb8Ik/mdNlMbH5iD/dtYR80LOJP+5fWWlSCoo/aR1VTRB17z4HfH4YITyKPw==",
          "dtype": "f8"
         },
         "yaxis": "y2"
        },
        {
         "hovertemplate": "Round 1<br>Position: 1<br>Action: %{x}<br>P: %{y:.6f}<br>Reward: 0<extra></extra>",
         "marker": {
          "color": "crimson",
          "size": 12,
          "symbol": "triangle-up"
         },
         "mode": "markers",
         "name": "Picked (r=1)",
         "showlegend": false,
         "type": "scatter",
         "x": [
          78
         ],
         "xaxis": "x2",
         "y": [
          0.00030864197530864197
         ],
         "yaxis": "y2"
        },
        {
         "hovertemplate": "Round 2<br>Position: 1<br>Action: %{x}<br>P: %{y:.6f}<br>Reward: 0<extra></extra>",
         "marker": {
          "color": "forestgreen",
          "size": 11,
          "symbol": "diamond"
         },
         "mode": "markers",
         "name": "Picked (r=2)",
         "showlegend": false,
         "type": "scatter",
         "x": [
          78
         ],
         "xaxis": "x2",
         "y": [
          0.000015
         ],
         "yaxis": "y2"
        },
        {
         "marker": {
          "color": "steelblue"
         },
         "name": "Round 1",
         "opacity": 0.6,
         "showlegend": false,
         "type": "bar",
         "x": {
          "bdata": "AAECAwQFBgcICQoLDA0ODxAREhMUFRYXGBkaGxwdHh8gISIjJCUmJygpKissLS4vMDEyMzQ1Njc4OTo7PD0+P0BBQkNERUZHSElKS0xNTk8=",
          "dtype": "i1"
         },
         "xaxis": "x3",
         "y": {
          "bdata": "U0lcNoLqiT9N7qswJzo0P1NJXDaC6ok/U0lcNoLqiT9TSVw2guqJP1NJXDaC6ok/U0lcNoLqiT9TSVw2guqJP1NJXDaC6ok/U0lcNoLqiT9TSVw2guqJP1NJXDaC6ok/U0lcNoLqiT9TSVw2guqJP1NJXDaC6ok/U0lcNoLqiT9TSVw2guqJP1NJXDaC6ok/U0lcNoLqiT9TSVw2guqJP1NJXDaC6ok/U0lcNoLqiT9TSVw2guqJP1NJXDaC6ok/U0lcNoLqiT9TSVw2guqJP1NJXDaC6ok/U0lcNoLqiT9TSVw2guqJP1NJXDaC6ok/U0lcNoLqiT9TSVw2guqJP1NJXDaC6ok/U0lcNoLqiT9TSVw2guqJP1NJXDaC6ok/U0lcNoLqiT9TSVw2guqJP1NJXDaC6ok/U0lcNoLqiT9TSVw2guqJP1NJXDaC6ok/U0lcNoLqiT9TSVw2guqJP1NJXDaC6ok/U0lcNoLqiT9TSVw2guqJP1NJXDaC6ok/U0lcNoLqiT9TSVw2guqJP1NJXDaC6ok/U0lcNoLqiT9TSVw2guqJP1NJXDaC6ok/U0lcNoLqiT9TSVw2guqJP1NJXDaC6ok/U0lcNoLqiT9TSVw2guqJP1NJXDaC6ok/U0lcNoLqiT9TSVw2guqJP1NJXDaC6ok/U0lcNoLqiT9TSVw2guqJP1NJXDaC6ok/U0lcNoLqiT9TSVw2guqJP1NJXDaC6ok/U0lcNoLqiT9TSVw2guqJP1NJXDaC6ok/U0lcNoLqiT9TSVw2guqJP1NJXDaC6ok/U0lcNoLqiT9TSVw2guqJP1NJXDaC6ok/U0lcNoLqiT9TSVw2guqJPw==",
          "dtype": "f8"
         },
         "yaxis": "y3"
        },
        {
         "marker": {
          "color": "darkorange"
         },
         "name": "Round 2",
         "opacity": 0.85,
         "showlegend": false,
         "type": "bar",
         "x": {
          "bdata": "AAECAwQFBgcICQoLDA0ODxAREhMUFRYXGBkaGxwdHh8gISIjJCUmJygpKissLS4vMDEyMzQ1Njc4OTo7PD0+P0BBQkNERUZHSElKS0xNTk8=",
          "dtype": "i1"
         },
         "xaxis": "x3",
         "y": {
          "bdata": "dNL7xteeiT/xaOOItfjUPo0o7Q2+MIk/hXzQs1n1iT9ftTLhl/qJP6LRHcTOFIo/t+7mqQ65iT89J71vfO2JPwt72uGvyYo/LH3ogvqWiT/EX5M16iGKP5EnSddMvok/1QloImx4ij8LKT+p9umIP54MjpJX54g/2UKQgxJmij+amZmZmZmJP+G04EVfQYo/Yygn2lVIiT8TJ/c7FAWKP3gLJCh+jIk/D7QCQ1a3ij8P7s7abReKP3CZ02UxsYk/aLPqc7UViz8HfH4YITyKP7N78rBQa4o/r0LKT6p9ij8PKJtyhXeJPz7t8NdkjYo/Z2FPO/w1iT9O0ZFc/kOKP/oK0oxF04k/QmDl0CLbiT+/YDdsW5SJP9R9AFKbOIk/SgwCK4cWiT+ze/KwUGuKP4EJ3Lqbp4o/9tGpK5/liT817zhFR3KJP43uIHam0Ik/DyibcoV3iT//CS5W1GCKP/5D+u3rwIk/pkQSvYxiiT/htOBFX0GKP0qYaftXVoo/Sphp+1dWij8g0m9fB86JP05FKowtBIk/t+7mqQ65iT/hehSuR+GKP+5fWWlSCoo/MXxETIkkij8TJ/c7FAWKP28NbJVgcYg/INJvXwfOiT+mCkYldQKKP0aZDTLJyIk/kSdJ10y+iT9w626e6pCLP+2ZJQFqaok/yJi7lpAPij+mRBK9jGKJPyDSb18Hzok/zNHj9zb9iT+e0sH6P4eJP7e0GhL3WIo/V0PiHksfij9XCRaHM7+KP662Yn/ZPYk/3Xu45LhTij/M0eP3Nv2JPwd8fhghPIo/HF97ZkmAij940VeQZiyKP662Yn/ZPYk/0AoMWd3qiT/QCgxZ3eqJPw==",
          "dtype": "f8"
         },
         "yaxis": "y3"
        },
        {
         "hovertemplate": "Round 1<br>Position: 2<br>Action: %{x}<br>P: %{y:.6f}<br>Reward: 0<extra></extra>",
         "marker": {
          "color": "crimson",
          "size": 12,
          "symbol": "triangle-up"
         },
         "mode": "markers",
         "name": "Picked (r=1)",
         "showlegend": false,
         "type": "scatter",
         "x": [
          1
         ],
         "xaxis": "x3",
         "y": [
          0.00030864197530864197
         ],
         "yaxis": "y3"
        },
        {
         "hovertemplate": "Round 2<br>Position: 2<br>Action: %{x}<br>P: %{y:.6f}<br>Reward: 0<extra></extra>",
         "marker": {
          "color": "forestgreen",
          "size": 11,
          "symbol": "diamond"
         },
         "mode": "markers",
         "name": "Picked (r=2)",
         "showlegend": false,
         "type": "scatter",
         "x": [
          1
         ],
         "xaxis": "x3",
         "y": [
          0.000005
         ],
         "yaxis": "y3"
        }
       ],
       "layout": {
        "annotations": [
         {
          "font": {
           "size": 16
          },
          "showarrow": false,
          "text": "Position 0",
          "x": 0.5,
          "xanchor": "center",
          "xref": "paper",
          "y": 1,
          "yanchor": "bottom",
          "yref": "paper"
         },
         {
          "font": {
           "size": 16
          },
          "showarrow": false,
          "text": "Position 1",
          "x": 0.5,
          "xanchor": "center",
          "xref": "paper",
          "y": 0.6399999999999999,
          "yanchor": "bottom",
          "yref": "paper"
         },
         {
          "font": {
           "size": 16
          },
          "showarrow": false,
          "text": "Position 2",
          "x": 0.5,
          "xanchor": "center",
          "xref": "paper",
          "y": 0.27999999999999997,
          "yanchor": "bottom",
          "yref": "paper"
         }
        ],
        "bargap": 0.15,
        "barmode": "group",
        "height": 1050,
        "template": {
         "data": {
          "bar": [
           {
            "error_x": {
             "color": "#2a3f5f"
            },
            "error_y": {
             "color": "#2a3f5f"
            },
            "marker": {
             "line": {
              "color": "white",
              "width": 0.5
             },
             "pattern": {
              "fillmode": "overlay",
              "size": 10,
              "solidity": 0.2
             }
            },
            "type": "bar"
           }
          ],
          "barpolar": [
           {
            "marker": {
             "line": {
              "color": "white",
              "width": 0.5
             },
             "pattern": {
              "fillmode": "overlay",
              "size": 10,
              "solidity": 0.2
             }
            },
            "type": "barpolar"
           }
          ],
          "carpet": [
           {
            "aaxis": {
             "endlinecolor": "#2a3f5f",
             "gridcolor": "#C8D4E3",
             "linecolor": "#C8D4E3",
             "minorgridcolor": "#C8D4E3",
             "startlinecolor": "#2a3f5f"
            },
            "baxis": {
             "endlinecolor": "#2a3f5f",
             "gridcolor": "#C8D4E3",
             "linecolor": "#C8D4E3",
             "minorgridcolor": "#C8D4E3",
             "startlinecolor": "#2a3f5f"
            },
            "type": "carpet"
           }
          ],
          "choropleth": [
           {
            "colorbar": {
             "outlinewidth": 0,
             "ticks": ""
            },
            "type": "choropleth"
           }
          ],
          "contour": [
           {
            "colorbar": {
             "outlinewidth": 0,
             "ticks": ""
            },
            "colorscale": [
             [
              0,
              "#0d0887"
             ],
             [
              0.1111111111111111,
              "#46039f"
             ],
             [
              0.2222222222222222,
              "#7201a8"
             ],
             [
              0.3333333333333333,
              "#9c179e"
             ],
             [
              0.4444444444444444,
              "#bd3786"
             ],
             [
              0.5555555555555556,
              "#d8576b"
             ],
             [
              0.6666666666666666,
              "#ed7953"
             ],
             [
              0.7777777777777778,
              "#fb9f3a"
             ],
             [
              0.8888888888888888,
              "#fdca26"
             ],
             [
              1,
              "#f0f921"
             ]
            ],
            "type": "contour"
           }
          ],
          "contourcarpet": [
           {
            "colorbar": {
             "outlinewidth": 0,
             "ticks": ""
            },
            "type": "contourcarpet"
           }
          ],
          "heatmap": [
           {
            "colorbar": {
             "outlinewidth": 0,
             "ticks": ""
            },
            "colorscale": [
             [
              0,
              "#0d0887"
             ],
             [
              0.1111111111111111,
              "#46039f"
             ],
             [
              0.2222222222222222,
              "#7201a8"
             ],
             [
              0.3333333333333333,
              "#9c179e"
             ],
             [
              0.4444444444444444,
              "#bd3786"
             ],
             [
              0.5555555555555556,
              "#d8576b"
             ],
             [
              0.6666666666666666,
              "#ed7953"
             ],
             [
              0.7777777777777778,
              "#fb9f3a"
             ],
             [
              0.8888888888888888,
              "#fdca26"
             ],
             [
              1,
              "#f0f921"
             ]
            ],
            "type": "heatmap"
           }
          ],
          "histogram": [
           {
            "marker": {
             "pattern": {
              "fillmode": "overlay",
              "size": 10,
              "solidity": 0.2
             }
            },
            "type": "histogram"
           }
          ],
          "histogram2d": [
           {
            "colorbar": {
             "outlinewidth": 0,
             "ticks": ""
            },
            "colorscale": [
             [
              0,
              "#0d0887"
             ],
             [
              0.1111111111111111,
              "#46039f"
             ],
             [
              0.2222222222222222,
              "#7201a8"
             ],
             [
              0.3333333333333333,
              "#9c179e"
             ],
             [
              0.4444444444444444,
              "#bd3786"
             ],
             [
              0.5555555555555556,
              "#d8576b"
             ],
             [
              0.6666666666666666,
              "#ed7953"
             ],
             [
              0.7777777777777778,
              "#fb9f3a"
             ],
             [
              0.8888888888888888,
              "#fdca26"
             ],
             [
              1,
              "#f0f921"
             ]
            ],
            "type": "histogram2d"
           }
          ],
          "histogram2dcontour": [
           {
            "colorbar": {
             "outlinewidth": 0,
             "ticks": ""
            },
            "colorscale": [
             [
              0,
              "#0d0887"
             ],
             [
              0.1111111111111111,
              "#46039f"
             ],
             [
              0.2222222222222222,
              "#7201a8"
             ],
             [
              0.3333333333333333,
              "#9c179e"
             ],
             [
              0.4444444444444444,
              "#bd3786"
             ],
             [
              0.5555555555555556,
              "#d8576b"
             ],
             [
              0.6666666666666666,
              "#ed7953"
             ],
             [
              0.7777777777777778,
              "#fb9f3a"
             ],
             [
              0.8888888888888888,
              "#fdca26"
             ],
             [
              1,
              "#f0f921"
             ]
            ],
            "type": "histogram2dcontour"
           }
          ],
          "mesh3d": [
           {
            "colorbar": {
             "outlinewidth": 0,
             "ticks": ""
            },
            "type": "mesh3d"
           }
          ],
          "parcoords": [
           {
            "line": {
             "colorbar": {
              "outlinewidth": 0,
              "ticks": ""
             }
            },
            "type": "parcoords"
           }
          ],
          "pie": [
           {
            "automargin": true,
            "type": "pie"
           }
          ],
          "scatter": [
           {
            "fillpattern": {
             "fillmode": "overlay",
             "size": 10,
             "solidity": 0.2
            },
            "type": "scatter"
           }
          ],
          "scatter3d": [
           {
            "line": {
             "colorbar": {
              "outlinewidth": 0,
              "ticks": ""
             }
            },
            "marker": {
             "colorbar": {
              "outlinewidth": 0,
              "ticks": ""
             }
            },
            "type": "scatter3d"
           }
          ],
          "scattercarpet": [
           {
            "marker": {
             "colorbar": {
              "outlinewidth": 0,
              "ticks": ""
             }
            },
            "type": "scattercarpet"
           }
          ],
          "scattergeo": [
           {
            "marker": {
             "colorbar": {
              "outlinewidth": 0,
              "ticks": ""
             }
            },
            "type": "scattergeo"
           }
          ],
          "scattergl": [
           {
            "marker": {
             "colorbar": {
              "outlinewidth": 0,
              "ticks": ""
             }
            },
            "type": "scattergl"
           }
          ],
          "scattermap": [
           {
            "marker": {
             "colorbar": {
              "outlinewidth": 0,
              "ticks": ""
             }
            },
            "type": "scattermap"
           }
          ],
          "scattermapbox": [
           {
            "marker": {
             "colorbar": {
              "outlinewidth": 0,
              "ticks": ""
             }
            },
            "type": "scattermapbox"
           }
          ],
          "scatterpolar": [
           {
            "marker": {
             "colorbar": {
              "outlinewidth": 0,
              "ticks": ""
             }
            },
            "type": "scatterpolar"
           }
          ],
          "scatterpolargl": [
           {
            "marker": {
             "colorbar": {
              "outlinewidth": 0,
              "ticks": ""
             }
            },
            "type": "scatterpolargl"
           }
          ],
          "scatterternary": [
           {
            "marker": {
             "colorbar": {
              "outlinewidth": 0,
              "ticks": ""
             }
            },
            "type": "scatterternary"
           }
          ],
          "surface": [
           {
            "colorbar": {
             "outlinewidth": 0,
             "ticks": ""
            },
            "colorscale": [
             [
              0,
              "#0d0887"
             ],
             [
              0.1111111111111111,
              "#46039f"
             ],
             [
              0.2222222222222222,
              "#7201a8"
             ],
             [
              0.3333333333333333,
              "#9c179e"
             ],
             [
              0.4444444444444444,
              "#bd3786"
             ],
             [
              0.5555555555555556,
              "#d8576b"
             ],
             [
              0.6666666666666666,
              "#ed7953"
             ],
             [
              0.7777777777777778,
              "#fb9f3a"
             ],
             [
              0.8888888888888888,
              "#fdca26"
             ],
             [
              1,
              "#f0f921"
             ]
            ],
            "type": "surface"
           }
          ],
          "table": [
           {
            "cells": {
             "fill": {
              "color": "#EBF0F8"
             },
             "line": {
              "color": "white"
             }
            },
            "header": {
             "fill": {
              "color": "#C8D4E3"
             },
             "line": {
              "color": "white"
             }
            },
            "type": "table"
           }
          ]
         },
         "layout": {
          "annotationdefaults": {
           "arrowcolor": "#2a3f5f",
           "arrowhead": 0,
           "arrowwidth": 1
          },
          "autotypenumbers": "strict",
          "coloraxis": {
           "colorbar": {
            "outlinewidth": 0,
            "ticks": ""
           }
          },
          "colorscale": {
           "diverging": [
            [
             0,
             "#8e0152"
            ],
            [
             0.1,
             "#c51b7d"
            ],
            [
             0.2,
             "#de77ae"
            ],
            [
             0.3,
             "#f1b6da"
            ],
            [
             0.4,
             "#fde0ef"
            ],
            [
             0.5,
             "#f7f7f7"
            ],
            [
             0.6,
             "#e6f5d0"
            ],
            [
             0.7,
             "#b8e186"
            ],
            [
             0.8,
             "#7fbc41"
            ],
            [
             0.9,
             "#4d9221"
            ],
            [
             1,
             "#276419"
            ]
           ],
           "sequential": [
            [
             0,
             "#0d0887"
            ],
            [
             0.1111111111111111,
             "#46039f"
            ],
            [
             0.2222222222222222,
             "#7201a8"
            ],
            [
             0.3333333333333333,
             "#9c179e"
            ],
            [
             0.4444444444444444,
             "#bd3786"
            ],
            [
             0.5555555555555556,
             "#d8576b"
            ],
            [
             0.6666666666666666,
             "#ed7953"
            ],
            [
             0.7777777777777778,
             "#fb9f3a"
            ],
            [
             0.8888888888888888,
             "#fdca26"
            ],
            [
             1,
             "#f0f921"
            ]
           ],
           "sequentialminus": [
            [
             0,
             "#0d0887"
            ],
            [
             0.1111111111111111,
             "#46039f"
            ],
            [
             0.2222222222222222,
             "#7201a8"
            ],
            [
             0.3333333333333333,
             "#9c179e"
            ],
            [
             0.4444444444444444,
             "#bd3786"
            ],
            [
             0.5555555555555556,
             "#d8576b"
            ],
            [
             0.6666666666666666,
             "#ed7953"
            ],
            [
             0.7777777777777778,
             "#fb9f3a"
            ],
            [
             0.8888888888888888,
             "#fdca26"
            ],
            [
             1,
             "#f0f921"
            ]
           ]
          },
          "colorway": [
           "#636efa",
           "#EF553B",
           "#00cc96",
           "#ab63fa",
           "#FFA15A",
           "#19d3f3",
           "#FF6692",
           "#B6E880",
           "#FF97FF",
           "#FECB52"
          ],
          "font": {
           "color": "#2a3f5f"
          },
          "geo": {
           "bgcolor": "white",
           "lakecolor": "white",
           "landcolor": "white",
           "showlakes": true,
           "showland": true,
           "subunitcolor": "#C8D4E3"
          },
          "hoverlabel": {
           "align": "left"
          },
          "hovermode": "closest",
          "mapbox": {
           "style": "light"
          },
          "paper_bgcolor": "white",
          "plot_bgcolor": "white",
          "polar": {
           "angularaxis": {
            "gridcolor": "#EBF0F8",
            "linecolor": "#EBF0F8",
            "ticks": ""
           },
           "bgcolor": "white",
           "radialaxis": {
            "gridcolor": "#EBF0F8",
            "linecolor": "#EBF0F8",
            "ticks": ""
           }
          },
          "scene": {
           "xaxis": {
            "backgroundcolor": "white",
            "gridcolor": "#DFE8F3",
            "gridwidth": 2,
            "linecolor": "#EBF0F8",
            "showbackground": true,
            "ticks": "",
            "zerolinecolor": "#EBF0F8"
           },
           "yaxis": {
            "backgroundcolor": "white",
            "gridcolor": "#DFE8F3",
            "gridwidth": 2,
            "linecolor": "#EBF0F8",
            "showbackground": true,
            "ticks": "",
            "zerolinecolor": "#EBF0F8"
           },
           "zaxis": {
            "backgroundcolor": "white",
            "gridcolor": "#DFE8F3",
            "gridwidth": 2,
            "linecolor": "#EBF0F8",
            "showbackground": true,
            "ticks": "",
            "zerolinecolor": "#EBF0F8"
           }
          },
          "shapedefaults": {
           "line": {
            "color": "#2a3f5f"
           }
          },
          "ternary": {
           "aaxis": {
            "gridcolor": "#DFE8F3",
            "linecolor": "#A2B1C6",
            "ticks": ""
           },
           "baxis": {
            "gridcolor": "#DFE8F3",
            "linecolor": "#A2B1C6",
            "ticks": ""
           },
           "bgcolor": "white",
           "caxis": {
            "gridcolor": "#DFE8F3",
            "linecolor": "#A2B1C6",
            "ticks": ""
           }
          },
          "title": {
           "x": 0.05
          },
          "xaxis": {
           "automargin": true,
           "gridcolor": "#EBF0F8",
           "linecolor": "#EBF0F8",
           "ticks": "",
           "title": {
            "standoff": 15
           },
           "zerolinecolor": "#EBF0F8",
           "zerolinewidth": 2
          },
          "yaxis": {
           "automargin": true,
           "gridcolor": "#EBF0F8",
           "linecolor": "#EBF0F8",
           "ticks": "",
           "title": {
            "standoff": 15
           },
           "zerolinecolor": "#EBF0F8",
           "zerolinewidth": 2
          }
         }
        },
        "title": {
         "text": "Round 1 vs Round 2"
        },
        "xaxis": {
         "anchor": "y",
         "domain": [
          0,
          1
         ],
         "tickmode": "array",
         "ticktext": [
          "0",
          "1",
          "2",
          "3",
          "4",
          "5",
          "6",
          "7",
          "8",
          "9",
          "10",
          "11",
          "12",
          "13",
          "14",
          "15",
          "16",
          "17",
          "18",
          "19",
          "20",
          "21",
          "22",
          "23",
          "24",
          "25",
          "26",
          "27",
          "28",
          "29",
          "30",
          "31",
          "32",
          "33",
          "34",
          "35",
          "36",
          "37",
          "38",
          "39",
          "40",
          "41",
          "42",
          "43",
          "44",
          "45",
          "46",
          "47",
          "48",
          "49",
          "50",
          "51",
          "52",
          "53",
          "54",
          "55",
          "56",
          "57",
          "58",
          "59",
          "60",
          "61",
          "62",
          "63",
          "64",
          "65",
          "66",
          "67",
          "68",
          "69",
          "70",
          "71",
          "72",
          "73",
          "74",
          "75",
          "76",
          "77",
          "78",
          "79"
         ],
         "tickvals": {
          "bdata": "AAECAwQFBgcICQoLDA0ODxAREhMUFRYXGBkaGxwdHh8gISIjJCUmJygpKissLS4vMDEyMzQ1Njc4OTo7PD0+P0BBQkNERUZHSElKS0xNTk8=",
          "dtype": "i1"
         },
         "title": {
          "text": ""
         }
        },
        "xaxis2": {
         "anchor": "y2",
         "domain": [
          0,
          1
         ],
         "tickmode": "array",
         "ticktext": [
          "0",
          "1",
          "2",
          "3",
          "4",
          "5",
          "6",
          "7",
          "8",
          "9",
          "10",
          "11",
          "12",
          "13",
          "14",
          "15",
          "16",
          "17",
          "18",
          "19",
          "20",
          "21",
          "22",
          "23",
          "24",
          "25",
          "26",
          "27",
          "28",
          "29",
          "30",
          "31",
          "32",
          "33",
          "34",
          "35",
          "36",
          "37",
          "38",
          "39",
          "40",
          "41",
          "42",
          "43",
          "44",
          "45",
          "46",
          "47",
          "48",
          "49",
          "50",
          "51",
          "52",
          "53",
          "54",
          "55",
          "56",
          "57",
          "58",
          "59",
          "60",
          "61",
          "62",
          "63",
          "64",
          "65",
          "66",
          "67",
          "68",
          "69",
          "70",
          "71",
          "72",
          "73",
          "74",
          "75",
          "76",
          "77",
          "78",
          "79"
         ],
         "tickvals": {
          "bdata": "AAECAwQFBgcICQoLDA0ODxAREhMUFRYXGBkaGxwdHh8gISIjJCUmJygpKissLS4vMDEyMzQ1Njc4OTo7PD0+P0BBQkNERUZHSElKS0xNTk8=",
          "dtype": "i1"
         },
         "title": {
          "text": ""
         }
        },
        "xaxis3": {
         "anchor": "y3",
         "domain": [
          0,
          1
         ],
         "tickmode": "array",
         "ticktext": [
          "0",
          "1",
          "2",
          "3",
          "4",
          "5",
          "6",
          "7",
          "8",
          "9",
          "10",
          "11",
          "12",
          "13",
          "14",
          "15",
          "16",
          "17",
          "18",
          "19",
          "20",
          "21",
          "22",
          "23",
          "24",
          "25",
          "26",
          "27",
          "28",
          "29",
          "30",
          "31",
          "32",
          "33",
          "34",
          "35",
          "36",
          "37",
          "38",
          "39",
          "40",
          "41",
          "42",
          "43",
          "44",
          "45",
          "46",
          "47",
          "48",
          "49",
          "50",
          "51",
          "52",
          "53",
          "54",
          "55",
          "56",
          "57",
          "58",
          "59",
          "60",
          "61",
          "62",
          "63",
          "64",
          "65",
          "66",
          "67",
          "68",
          "69",
          "70",
          "71",
          "72",
          "73",
          "74",
          "75",
          "76",
          "77",
          "78",
          "79"
         ],
         "tickvals": {
          "bdata": "AAECAwQFBgcICQoLDA0ODxAREhMUFRYXGBkaGxwdHh8gISIjJCUmJygpKissLS4vMDEyMzQ1Njc4OTo7PD0+P0BBQkNERUZHSElKS0xNTk8=",
          "dtype": "i1"
         },
         "title": {
          "text": "Action ID (0–79)"
         }
        },
        "yaxis": {
         "anchor": "x",
         "domain": [
          0.72,
          1
         ],
         "range": [
          0,
          0.01663125
         ],
         "title": {
          "text": "P(select)"
         }
        },
        "yaxis2": {
         "anchor": "x2",
         "domain": [
          0.36,
          0.6399999999999999
         ],
         "range": [
          0,
          0.0167
         ],
         "title": {
          "text": "P(select)"
         }
        },
        "yaxis3": {
         "anchor": "x3",
         "domain": [
          0,
          0.27999999999999997
         ],
         "range": [
          0,
          0.016825
         ],
         "title": {
          "text": "P(select)"
         }
        }
       }
      }
     },
     "metadata": {},
     "output_type": "display_data"
    }
   ],
   "source": [
    "# Assumes you already built df (action, position, reward, pscore) and bf for n_actions\n",
    "tracker = ThompsonSlateTracker(df=df, n_actions=bf[\"n_actions\"], positions=[0,1,2], seed=SEED)\n",
    "\n",
    "# Round 0 is already recorded (uniform)\n",
    "# Take Round 1 (samples per position, updates α/β, stores PMFs)\n",
    "samp1 = tracker.next_round(random_state=SEED, use_mc_if_needed=False)  # exact is valid here\n",
    "print(\"Round 1 samples:\\n\", samp1)\n",
    "\n",
    "# Plot Round 0 vs Round 1\n",
    "tracker.plot_compare(0, 1, title=\"Round 0 vs Round 1\")\n",
    "\n",
    "# Take Round 2 (now exact may be invalid; allow MC to compute PMFs)\n",
    "samp2 = tracker.next_round(random_state=SEED, use_mc_if_needed=True)   # enables MC fallback\n",
    "print(\"Round 2 samples:\\n\", samp2)\n",
    "\n",
    "# Plot Round 1 vs Round 2\n",
    "tracker.plot_compare(1, 2, title=\"Round 1 vs Round 2\")"
   ]
  },
  {
   "cell_type": "code",
   "execution_count": 10,
   "id": "aba65455",
   "metadata": {},
   "outputs": [
    {
     "name": "stdout",
     "output_type": "stream",
     "text": [
      "Round 3 samples:\n",
      "    action  position  reward  pscore\n",
      "0      66         0       0  0.0125\n",
      "1      78         1       0  0.0125\n",
      "2       1         2       0  0.0125\n"
     ]
    },
    {
     "data": {
      "application/vnd.plotly.v1+json": {
       "config": {
        "plotlyServerURL": "https://plot.ly"
       },
       "data": [
        {
         "marker": {
          "color": "steelblue"
         },
         "name": "Round 2",
         "opacity": 0.6,
         "showlegend": true,
         "type": "bar",
         "x": {
          "bdata": "AAECAwQFBgcICQoLDA0ODxAREhMUFRYXGBkaGxwdHh8gISIjJCUmJygpKissLS4vMDEyMzQ1Njc4OTo7PD0+P0BBQkNERUZHSElKS0xNTk8=",
          "dtype": "i1"
         },
         "xaxis": "x",
         "y": {
          "bdata": "LUMc6+I2ij/d71AU6BOJPwd8fhghPIo/Un5S7dPxiD+NtFTejnCKPz7t8NdkjYo/0ETY8PRKiT+BQ6hSsweKP/oK0oxF04k/Eyf3OxQFij+At0CC4seIP7N78rBQa4o/cF8HzhlRij/+Q/rt68CJP4EJ3Lqbp4o/cCU7NgLxij+/mgMEc/SIP8Qlx53SwYo/eNFXkGYsij/ZQpCDEmaKP8iYu5aQD4o/C3va4a/Jij85tMh2vp+KPyx96IL6lok/otEdxM4Uij9f7/54r1qJP6LRHcTOFIo/t+7mqQ65iT/UfQBSmziJPxhgH5268ok/t2J/2T15iD8HfH4YITyKP/KYgcr494k/A30iT5KuiT8HtkqwOJyJP2wm32xzY4o/Yygn2lVIiT+aX80BgjmKP0qYaftXVoo/F5rrNNJSiT+BQ6hSsweKP/rQBfUtc4o/MXxETIkkij+RJ0nXTL6JP3CZ02UxsYk/eJeL+E7Mij86evzepj+LP9AKDFnd6ok/cJnTZTGxiT+mft5UpMKIP/bRqSuf5Yk/pkQSvYxiiT/uX1lpUgqKP6pDboYb8Ik/UkSGVbyRiT+7Jw8LtaaJPwu1pnnHKYo/W3wKgPEMij//CS5W1GCKP9lCkIMSZoo/tyizQSYZiT857pQO1v+JP7PviuB/K4k/npj1Yignij8sfeiC+paJPxea6zTSUok/8WjjiLX45D5OC170FaSJP0bT2cngKIk/5SfVPh2PiT9wXwfOGVGKP8zR4/c2/Yk/Ugq6vaQxij+aX80BgjmKPwu1pnnHKYo/X+/+eK9aiT/QCgxZ3eqJP07RkVz+Q4o/bCbfbHNjij9XCRaHM7+KPw==",
          "dtype": "f8"
         },
         "yaxis": "y"
        },
        {
         "marker": {
          "color": "darkorange"
         },
         "name": "Round 3",
         "opacity": 0.85,
         "showlegend": true,
         "type": "bar",
         "x": {
          "bdata": "AAECAwQFBgcICQoLDA0ODxAREhMUFRYXGBkaGxwdHh8gISIjJCUmJygpKissLS4vMDEyMzQ1Njc4OTo7PD0+P0BBQkNERUZHSElKS0xNTk8=",
          "dtype": "i1"
         },
         "xaxis": "x",
         "y": {
          "bdata": "X7Uy4Zf6iT98REyJJHqJP5FhFW9kHok/W3wKgPEMij+E8GjjiLWIP+G04EVfQYo/0ETY8PRKiT+/1M+bilSIP5HtfD81Xoo/0AoMWd3qiT+zQSYZOQuLP1+1MuGX+ok/yAxUxr/PiD9bfAqA8QyKP+Un1T4dj4k/wCZr1EM0ij+ztb5IaMuJP1tCPujZrIo/zAuwj05diT/AJmvUQzSKP+WzPA/uzoo/jSjtDb4wiT8gmKPH722KP9l8XBsqxok/qn06HjNQiT9Wfa62Yn+JP1/v/nivWok/DyibcoV3iT+rCaLuA5CKP/oK0oxF04k/hXzQs1n1iT+NtFTejnCKP9kIxOv6BYs/luzYCMTrij+77UJznUaKPyh+jLlrCYk/3e9QFOgTiT9K0jWTb7aJP4m1+BQA44k/V0PiHksfij90XmOXqN6KP57Swfo/h4k/eNFXkGYsij9wXwfOGVGKP9l8XBsqxok/zAuwj05diT+amZmZmZmJP9RDNLqD2Ik/Sphp+1dWij+BQ6hSsweKPyCYo8fvbYo/yJi7lpAPij8TJ/c7FAWKPznulA7W/4k/1QloImx4ij9n7bYLzXWKP8RfkzXqIYo/C3va4a/Jij9jKCfaVUiJP2cng6Pk1Yk/V0PiHksfij9nJ4Oj5NWJPzV7oBUYsoo/JAuYwK27iT8TJ/c7FAWKP2PuWkI+6Ik/AAAAAAAAAAA17zhFR3KJP4m1+BQA44k/KAr0iTxJij8g0m9fB86JP2tgqwSLw4k/Tgte9BWkiT94RfC/leyIP56Y9WIoJ4o/MUJ4tHHEij/2l92Th4WKP3wKgPEMGoo/DyibcoV3iT+RJ0nXTL6JPw==",
          "dtype": "f8"
         },
         "yaxis": "y"
        },
        {
         "hovertemplate": "Round 2<br>Position: 0<br>Action: %{x}<br>P: %{y:.6f}<br>Reward: 0<extra></extra>",
         "marker": {
          "color": "crimson",
          "size": 12,
          "symbol": "triangle-up"
         },
         "mode": "markers",
         "name": "Picked (r=2)",
         "showlegend": true,
         "type": "scatter",
         "x": [
          66
         ],
         "xaxis": "x",
         "y": [
          0.00001
         ],
         "yaxis": "y"
        },
        {
         "hovertemplate": "Round 3<br>Position: 0<br>Action: %{x}<br>P: %{y:.6f}<br>Reward: 0<extra></extra>",
         "marker": {
          "color": "forestgreen",
          "size": 11,
          "symbol": "diamond"
         },
         "mode": "markers",
         "name": "Picked (r=3)",
         "showlegend": true,
         "type": "scatter",
         "x": [
          66
         ],
         "xaxis": "x",
         "y": [
          0
         ],
         "yaxis": "y"
        },
        {
         "marker": {
          "color": "steelblue"
         },
         "name": "Round 2",
         "opacity": 0.6,
         "showlegend": false,
         "type": "bar",
         "x": {
          "bdata": "AAECAwQFBgcICQoLDA0ODxAREhMUFRYXGBkaGxwdHh8gISIjJCUmJygpKissLS4vMDEyMzQ1Njc4OTo7PD0+P0BBQkNERUZHSElKS0xNTk8=",
          "dtype": "i1"
         },
         "xaxis": "x2",
         "y": {
          "bdata": "JJf/kH77ij8YYB+duvKJP+qymNh8XIs/9tGpK5/liT8YYB+duvKJP+G04EVfQYo/KAr0iTxJij/EX5M16iGKP33Qs1n1uYo/+tAF9S1zij8TJ/c7FAWKP0qYaftXVoo/6SYxCKwcij+iC+pb5nSJP4FDqFKzB4o/bCbfbHNjij8LKT+p9umIP9RDNLqD2Ik/X+/+eK9aiT/ImLuWkA+KP2tgqwSLw4k/u+1Cc51Gij857pQO1v+JP6p9Oh4zUIk/1QloImx4ij/de7jkuFOKPxea6zTSUok/gQncupunij9Wfa62Yn+JP1t8CoDxDIo/4e6s3XahiT+mCkYldQKKP+Un1T4dj4k/s3vysFBrij9fe2ZJgJqKP2PuWkI+6Ik/lialoNtLij/QRNjw9EqJPwu1pnnHKYo/KETAIVSpiT/M0eP3Nv2JP6pDboYb8Ik/4e6s3XahiT+ztb5IaMuJP4m1+BQA44k/Ugq6vaQxij89J71vfO2JP4FDqFKzB4o/bCbfbHNjij9r1EM0uoOIP7O1vkhoy4k/t+7mqQ65iT+AfXTqymeJP5VgcTjzq4k/kSdJ10y+iT8LtaZ5xymKP9DQP8HFioo/cJnTZTGxiT/ymIHK+PeJP69Cyk+qfYo/gUOoUrMHij/ZfFwbKsaJP3SYLy/APoo/2UKQgxJmij817zhFR3KJP5nTZTGx+Yg/Arfu5qkOiT8LtaZ5xymKP2cng6Pk1Yk/B/AWSFD8iD/YtiizQSaJP/bRqSuf5Yk/X+/+eK9aiT8+7fDXZI2KP6pDboYb8Ik/mdNlMbH5iD/dtYR80LOJP+5fWWlSCoo/aR1VTRB17z4HfH4YITyKPw==",
          "dtype": "f8"
         },
         "yaxis": "y2"
        },
        {
         "marker": {
          "color": "darkorange"
         },
         "name": "Round 3",
         "opacity": 0.85,
         "showlegend": false,
         "type": "bar",
         "x": {
          "bdata": "AAECAwQFBgcICQoLDA0ODxAREhMUFRYXGBkaGxwdHh8gISIjJCUmJygpKissLS4vMDEyMzQ1Njc4OTo7PD0+P0BBQkNERUZHSElKS0xNTk8=",
          "dtype": "i1"
         },
         "xaxis": "x2",
         "y": {
          "bdata": "Rl9BmrFoij8c0xOWeECJP+5fWWlSCoo/+grSjEXTiT/dQexMofOKP5olAWpq2Yo/V0PiHksfij9fe2ZJgJqKP1J+Uu3T8Yg/r3yW58HdiT+BQ6hSsweKP1dD4h5LH4o/A0NWt3pOij/tmSUBamqJP5EnSddMvok/r3yW58HdiT+z74rgfyuJPwNDVrd6Too/zNHj9zb9iT/QCgxZ3eqJP+Un1T4dj4k/r3yW58HdiT8k0csolluKP/bRqSuf5Yk/A0NWt3pOij9fe2ZJgJqKP1/v/nivWok/qkNuhhvwiT/uJY3ROqqKPyh+jLlrCYk/u2HboswGiT9XCRaHM7+KP0bT2cngKIk/Ugq6vaQxij/ymIHK+PeJPz0nvW987Yk/6SYxCKwcij+AfXTqymeJP0aZDTLJyIk/fAqA8Qwaij/QCgxZ3eqJP5EnSddMvok/mpmZmZmZiT8g0m9fB86JP1IKur2kMYo//kP67evAiT/QRNjw9EqJPxyZR/5g4Ik/X7Uy4Zf6iT/Q0D/BxYqKP33Qs1n1uYo/v2A3bFuUiT/htOBFX0GKPwe2SrA4nIk//kP67evAiT+m0HmNXaKKP79gN2xblIk/MXxETIkkij9O0ZFc/kOKP0GasWg6O4k/lialoNtLij+7Jw8LtaaJP3QMyF7v/og/zJcXYB+dij/h7qzddqGJP5YmpaDbS4o/QZqxaDo7iT81e6AVGLKKP1+1MuGX+ok/C2MLQQ5KiD8g0m9fB86JPzV7oBUYsoo/KH6MuWsJiT9bttYXCW2JP8Ama9RDNIo/ml/NAYI5ij8cX3tmSYCKP1dD4h5LH4o/AAAAAAAAAACi0R3EzhSKPw==",
          "dtype": "f8"
         },
         "yaxis": "y2"
        },
        {
         "hovertemplate": "Round 2<br>Position: 1<br>Action: %{x}<br>P: %{y:.6f}<br>Reward: 0<extra></extra>",
         "marker": {
          "color": "crimson",
          "size": 12,
          "symbol": "triangle-up"
         },
         "mode": "markers",
         "name": "Picked (r=2)",
         "showlegend": false,
         "type": "scatter",
         "x": [
          78
         ],
         "xaxis": "x2",
         "y": [
          0.000015
         ],
         "yaxis": "y2"
        },
        {
         "hovertemplate": "Round 3<br>Position: 1<br>Action: %{x}<br>P: %{y:.6f}<br>Reward: 0<extra></extra>",
         "marker": {
          "color": "forestgreen",
          "size": 11,
          "symbol": "diamond"
         },
         "mode": "markers",
         "name": "Picked (r=3)",
         "showlegend": false,
         "type": "scatter",
         "x": [
          78
         ],
         "xaxis": "x2",
         "y": [
          0
         ],
         "yaxis": "y2"
        },
        {
         "marker": {
          "color": "steelblue"
         },
         "name": "Round 2",
         "opacity": 0.6,
         "showlegend": false,
         "type": "bar",
         "x": {
          "bdata": "AAECAwQFBgcICQoLDA0ODxAREhMUFRYXGBkaGxwdHh8gISIjJCUmJygpKissLS4vMDEyMzQ1Njc4OTo7PD0+P0BBQkNERUZHSElKS0xNTk8=",
          "dtype": "i1"
         },
         "xaxis": "x3",
         "y": {
          "bdata": "dNL7xteeiT/xaOOItfjUPo0o7Q2+MIk/hXzQs1n1iT9ftTLhl/qJP6LRHcTOFIo/t+7mqQ65iT89J71vfO2JPwt72uGvyYo/LH3ogvqWiT/EX5M16iGKP5EnSddMvok/1QloImx4ij8LKT+p9umIP54MjpJX54g/2UKQgxJmij+amZmZmZmJP+G04EVfQYo/Yygn2lVIiT8TJ/c7FAWKP3gLJCh+jIk/D7QCQ1a3ij8P7s7abReKP3CZ02UxsYk/aLPqc7UViz8HfH4YITyKP7N78rBQa4o/r0LKT6p9ij8PKJtyhXeJPz7t8NdkjYo/Z2FPO/w1iT9O0ZFc/kOKP/oK0oxF04k/QmDl0CLbiT+/YDdsW5SJP9R9AFKbOIk/SgwCK4cWiT+ze/KwUGuKP4EJ3Lqbp4o/9tGpK5/liT817zhFR3KJP43uIHam0Ik/DyibcoV3iT//CS5W1GCKP/5D+u3rwIk/pkQSvYxiiT/htOBFX0GKP0qYaftXVoo/Sphp+1dWij8g0m9fB86JP05FKowtBIk/t+7mqQ65iT/hehSuR+GKP+5fWWlSCoo/MXxETIkkij8TJ/c7FAWKP28NbJVgcYg/INJvXwfOiT+mCkYldQKKP0aZDTLJyIk/kSdJ10y+iT9w626e6pCLP+2ZJQFqaok/yJi7lpAPij+mRBK9jGKJPyDSb18Hzok/zNHj9zb9iT+e0sH6P4eJP7e0GhL3WIo/V0PiHksfij9XCRaHM7+KP662Yn/ZPYk/3Xu45LhTij/M0eP3Nv2JPwd8fhghPIo/HF97ZkmAij940VeQZiyKP662Yn/ZPYk/0AoMWd3qiT/QCgxZ3eqJPw==",
          "dtype": "f8"
         },
         "yaxis": "y3"
        },
        {
         "marker": {
          "color": "darkorange"
         },
         "name": "Round 3",
         "opacity": 0.85,
         "showlegend": false,
         "type": "bar",
         "x": {
          "bdata": "AAECAwQFBgcICQoLDA0ODxAREhMUFRYXGBkaGxwdHh8gISIjJCUmJygpKissLS4vMDEyMzQ1Njc4OTo7PD0+P0BBQkNERUZHSElKS0xNTk8=",
          "dtype": "i1"
         },
         "xaxis": "x3",
         "y": {
          "bdata": "7l9ZaVIKij8AAAAAAAAAAGPuWkI+6Ik/RtPZyeAoiT/M0eP3Nv2JP04LXvQVpIk/B7ZKsDiciT9CJhk5C3uKP4l7LH3ogoo/A30iT5KuiT900vvG156JPw/uztptF4o/tyizQSYZiT81KQXdXtKIP/59xoUDIYk/JAuYwK27iT8P7s7abReKP8iYu5aQD4o/5WGh1jTviD9CYOXQItuJP07RkVz+Q4o/s3vysFBrij+amZmZmZmJP9AKDFnd6ok/qwmi7gOQij/pYP2fw3yJP6p9Oh4zUIk/xF+TNeohij+i0R3EzhSKP3SYLy/APoo/4bTgRV9Bij8TJ/c7FAWKP5KzsKcd/oo/fAqA8Qwaij+e0sH6P4eJPxTtKqT8pIo/ntLB+j+HiT94CyQofoyJPy1DHOviNoo/HJlH/mDgiT8c0xOWeECJP8Qlx53SwYo/QiYZOQt7ij+3tBoS91iKPxMn9zsUBYo/GCZTBaOSij+ztb5IaMuJP79gN2xblIk/r3yW58HdiT+RYRVvZB6JPz1hiQeUTYk/QZqxaDo7iT8sfeiC+paJPxgmUwWjkoo/wLLSpBR0iz8DQ1a3ek6KP+lg/Z/DfIk/t7QaEvdYij/ZQpCDEmaKP/5D+u3rwIk/Oe6UDtb/iT9jtI6qJoiKPwe2SrA4nIk/W3wKgPEMij/yDBr6J7iIP1IKur2kMYo/FO0qpPykij8HfH4YITyKP8iYu5aQD4o/cJnTZTGxiT89J71vfO2JPzF8REyJJIo/a2CrBIvDiT+i0R3EzhSKP7O1vkhoy4k/r3yW58HdiT8Ct+7mqQ6JP+G04EVfQYo/Oe6UDtb/iT8YYB+duvKJPw==",
          "dtype": "f8"
         },
         "yaxis": "y3"
        },
        {
         "hovertemplate": "Round 2<br>Position: 2<br>Action: %{x}<br>P: %{y:.6f}<br>Reward: 0<extra></extra>",
         "marker": {
          "color": "crimson",
          "size": 12,
          "symbol": "triangle-up"
         },
         "mode": "markers",
         "name": "Picked (r=2)",
         "showlegend": false,
         "type": "scatter",
         "x": [
          1
         ],
         "xaxis": "x3",
         "y": [
          0.000005
         ],
         "yaxis": "y3"
        },
        {
         "hovertemplate": "Round 3<br>Position: 2<br>Action: %{x}<br>P: %{y:.6f}<br>Reward: 0<extra></extra>",
         "marker": {
          "color": "forestgreen",
          "size": 11,
          "symbol": "diamond"
         },
         "mode": "markers",
         "name": "Picked (r=3)",
         "showlegend": false,
         "type": "scatter",
         "x": [
          1
         ],
         "xaxis": "x3",
         "y": [
          0
         ],
         "yaxis": "y3"
        }
       ],
       "layout": {
        "annotations": [
         {
          "font": {
           "size": 16
          },
          "showarrow": false,
          "text": "Position 0",
          "x": 0.5,
          "xanchor": "center",
          "xref": "paper",
          "y": 1,
          "yanchor": "bottom",
          "yref": "paper"
         },
         {
          "font": {
           "size": 16
          },
          "showarrow": false,
          "text": "Position 1",
          "x": 0.5,
          "xanchor": "center",
          "xref": "paper",
          "y": 0.6399999999999999,
          "yanchor": "bottom",
          "yref": "paper"
         },
         {
          "font": {
           "size": 16
          },
          "showarrow": false,
          "text": "Position 2",
          "x": 0.5,
          "xanchor": "center",
          "xref": "paper",
          "y": 0.27999999999999997,
          "yanchor": "bottom",
          "yref": "paper"
         }
        ],
        "bargap": 0.15,
        "barmode": "group",
        "height": 1050,
        "template": {
         "data": {
          "bar": [
           {
            "error_x": {
             "color": "#2a3f5f"
            },
            "error_y": {
             "color": "#2a3f5f"
            },
            "marker": {
             "line": {
              "color": "white",
              "width": 0.5
             },
             "pattern": {
              "fillmode": "overlay",
              "size": 10,
              "solidity": 0.2
             }
            },
            "type": "bar"
           }
          ],
          "barpolar": [
           {
            "marker": {
             "line": {
              "color": "white",
              "width": 0.5
             },
             "pattern": {
              "fillmode": "overlay",
              "size": 10,
              "solidity": 0.2
             }
            },
            "type": "barpolar"
           }
          ],
          "carpet": [
           {
            "aaxis": {
             "endlinecolor": "#2a3f5f",
             "gridcolor": "#C8D4E3",
             "linecolor": "#C8D4E3",
             "minorgridcolor": "#C8D4E3",
             "startlinecolor": "#2a3f5f"
            },
            "baxis": {
             "endlinecolor": "#2a3f5f",
             "gridcolor": "#C8D4E3",
             "linecolor": "#C8D4E3",
             "minorgridcolor": "#C8D4E3",
             "startlinecolor": "#2a3f5f"
            },
            "type": "carpet"
           }
          ],
          "choropleth": [
           {
            "colorbar": {
             "outlinewidth": 0,
             "ticks": ""
            },
            "type": "choropleth"
           }
          ],
          "contour": [
           {
            "colorbar": {
             "outlinewidth": 0,
             "ticks": ""
            },
            "colorscale": [
             [
              0,
              "#0d0887"
             ],
             [
              0.1111111111111111,
              "#46039f"
             ],
             [
              0.2222222222222222,
              "#7201a8"
             ],
             [
              0.3333333333333333,
              "#9c179e"
             ],
             [
              0.4444444444444444,
              "#bd3786"
             ],
             [
              0.5555555555555556,
              "#d8576b"
             ],
             [
              0.6666666666666666,
              "#ed7953"
             ],
             [
              0.7777777777777778,
              "#fb9f3a"
             ],
             [
              0.8888888888888888,
              "#fdca26"
             ],
             [
              1,
              "#f0f921"
             ]
            ],
            "type": "contour"
           }
          ],
          "contourcarpet": [
           {
            "colorbar": {
             "outlinewidth": 0,
             "ticks": ""
            },
            "type": "contourcarpet"
           }
          ],
          "heatmap": [
           {
            "colorbar": {
             "outlinewidth": 0,
             "ticks": ""
            },
            "colorscale": [
             [
              0,
              "#0d0887"
             ],
             [
              0.1111111111111111,
              "#46039f"
             ],
             [
              0.2222222222222222,
              "#7201a8"
             ],
             [
              0.3333333333333333,
              "#9c179e"
             ],
             [
              0.4444444444444444,
              "#bd3786"
             ],
             [
              0.5555555555555556,
              "#d8576b"
             ],
             [
              0.6666666666666666,
              "#ed7953"
             ],
             [
              0.7777777777777778,
              "#fb9f3a"
             ],
             [
              0.8888888888888888,
              "#fdca26"
             ],
             [
              1,
              "#f0f921"
             ]
            ],
            "type": "heatmap"
           }
          ],
          "histogram": [
           {
            "marker": {
             "pattern": {
              "fillmode": "overlay",
              "size": 10,
              "solidity": 0.2
             }
            },
            "type": "histogram"
           }
          ],
          "histogram2d": [
           {
            "colorbar": {
             "outlinewidth": 0,
             "ticks": ""
            },
            "colorscale": [
             [
              0,
              "#0d0887"
             ],
             [
              0.1111111111111111,
              "#46039f"
             ],
             [
              0.2222222222222222,
              "#7201a8"
             ],
             [
              0.3333333333333333,
              "#9c179e"
             ],
             [
              0.4444444444444444,
              "#bd3786"
             ],
             [
              0.5555555555555556,
              "#d8576b"
             ],
             [
              0.6666666666666666,
              "#ed7953"
             ],
             [
              0.7777777777777778,
              "#fb9f3a"
             ],
             [
              0.8888888888888888,
              "#fdca26"
             ],
             [
              1,
              "#f0f921"
             ]
            ],
            "type": "histogram2d"
           }
          ],
          "histogram2dcontour": [
           {
            "colorbar": {
             "outlinewidth": 0,
             "ticks": ""
            },
            "colorscale": [
             [
              0,
              "#0d0887"
             ],
             [
              0.1111111111111111,
              "#46039f"
             ],
             [
              0.2222222222222222,
              "#7201a8"
             ],
             [
              0.3333333333333333,
              "#9c179e"
             ],
             [
              0.4444444444444444,
              "#bd3786"
             ],
             [
              0.5555555555555556,
              "#d8576b"
             ],
             [
              0.6666666666666666,
              "#ed7953"
             ],
             [
              0.7777777777777778,
              "#fb9f3a"
             ],
             [
              0.8888888888888888,
              "#fdca26"
             ],
             [
              1,
              "#f0f921"
             ]
            ],
            "type": "histogram2dcontour"
           }
          ],
          "mesh3d": [
           {
            "colorbar": {
             "outlinewidth": 0,
             "ticks": ""
            },
            "type": "mesh3d"
           }
          ],
          "parcoords": [
           {
            "line": {
             "colorbar": {
              "outlinewidth": 0,
              "ticks": ""
             }
            },
            "type": "parcoords"
           }
          ],
          "pie": [
           {
            "automargin": true,
            "type": "pie"
           }
          ],
          "scatter": [
           {
            "fillpattern": {
             "fillmode": "overlay",
             "size": 10,
             "solidity": 0.2
            },
            "type": "scatter"
           }
          ],
          "scatter3d": [
           {
            "line": {
             "colorbar": {
              "outlinewidth": 0,
              "ticks": ""
             }
            },
            "marker": {
             "colorbar": {
              "outlinewidth": 0,
              "ticks": ""
             }
            },
            "type": "scatter3d"
           }
          ],
          "scattercarpet": [
           {
            "marker": {
             "colorbar": {
              "outlinewidth": 0,
              "ticks": ""
             }
            },
            "type": "scattercarpet"
           }
          ],
          "scattergeo": [
           {
            "marker": {
             "colorbar": {
              "outlinewidth": 0,
              "ticks": ""
             }
            },
            "type": "scattergeo"
           }
          ],
          "scattergl": [
           {
            "marker": {
             "colorbar": {
              "outlinewidth": 0,
              "ticks": ""
             }
            },
            "type": "scattergl"
           }
          ],
          "scattermap": [
           {
            "marker": {
             "colorbar": {
              "outlinewidth": 0,
              "ticks": ""
             }
            },
            "type": "scattermap"
           }
          ],
          "scattermapbox": [
           {
            "marker": {
             "colorbar": {
              "outlinewidth": 0,
              "ticks": ""
             }
            },
            "type": "scattermapbox"
           }
          ],
          "scatterpolar": [
           {
            "marker": {
             "colorbar": {
              "outlinewidth": 0,
              "ticks": ""
             }
            },
            "type": "scatterpolar"
           }
          ],
          "scatterpolargl": [
           {
            "marker": {
             "colorbar": {
              "outlinewidth": 0,
              "ticks": ""
             }
            },
            "type": "scatterpolargl"
           }
          ],
          "scatterternary": [
           {
            "marker": {
             "colorbar": {
              "outlinewidth": 0,
              "ticks": ""
             }
            },
            "type": "scatterternary"
           }
          ],
          "surface": [
           {
            "colorbar": {
             "outlinewidth": 0,
             "ticks": ""
            },
            "colorscale": [
             [
              0,
              "#0d0887"
             ],
             [
              0.1111111111111111,
              "#46039f"
             ],
             [
              0.2222222222222222,
              "#7201a8"
             ],
             [
              0.3333333333333333,
              "#9c179e"
             ],
             [
              0.4444444444444444,
              "#bd3786"
             ],
             [
              0.5555555555555556,
              "#d8576b"
             ],
             [
              0.6666666666666666,
              "#ed7953"
             ],
             [
              0.7777777777777778,
              "#fb9f3a"
             ],
             [
              0.8888888888888888,
              "#fdca26"
             ],
             [
              1,
              "#f0f921"
             ]
            ],
            "type": "surface"
           }
          ],
          "table": [
           {
            "cells": {
             "fill": {
              "color": "#EBF0F8"
             },
             "line": {
              "color": "white"
             }
            },
            "header": {
             "fill": {
              "color": "#C8D4E3"
             },
             "line": {
              "color": "white"
             }
            },
            "type": "table"
           }
          ]
         },
         "layout": {
          "annotationdefaults": {
           "arrowcolor": "#2a3f5f",
           "arrowhead": 0,
           "arrowwidth": 1
          },
          "autotypenumbers": "strict",
          "coloraxis": {
           "colorbar": {
            "outlinewidth": 0,
            "ticks": ""
           }
          },
          "colorscale": {
           "diverging": [
            [
             0,
             "#8e0152"
            ],
            [
             0.1,
             "#c51b7d"
            ],
            [
             0.2,
             "#de77ae"
            ],
            [
             0.3,
             "#f1b6da"
            ],
            [
             0.4,
             "#fde0ef"
            ],
            [
             0.5,
             "#f7f7f7"
            ],
            [
             0.6,
             "#e6f5d0"
            ],
            [
             0.7,
             "#b8e186"
            ],
            [
             0.8,
             "#7fbc41"
            ],
            [
             0.9,
             "#4d9221"
            ],
            [
             1,
             "#276419"
            ]
           ],
           "sequential": [
            [
             0,
             "#0d0887"
            ],
            [
             0.1111111111111111,
             "#46039f"
            ],
            [
             0.2222222222222222,
             "#7201a8"
            ],
            [
             0.3333333333333333,
             "#9c179e"
            ],
            [
             0.4444444444444444,
             "#bd3786"
            ],
            [
             0.5555555555555556,
             "#d8576b"
            ],
            [
             0.6666666666666666,
             "#ed7953"
            ],
            [
             0.7777777777777778,
             "#fb9f3a"
            ],
            [
             0.8888888888888888,
             "#fdca26"
            ],
            [
             1,
             "#f0f921"
            ]
           ],
           "sequentialminus": [
            [
             0,
             "#0d0887"
            ],
            [
             0.1111111111111111,
             "#46039f"
            ],
            [
             0.2222222222222222,
             "#7201a8"
            ],
            [
             0.3333333333333333,
             "#9c179e"
            ],
            [
             0.4444444444444444,
             "#bd3786"
            ],
            [
             0.5555555555555556,
             "#d8576b"
            ],
            [
             0.6666666666666666,
             "#ed7953"
            ],
            [
             0.7777777777777778,
             "#fb9f3a"
            ],
            [
             0.8888888888888888,
             "#fdca26"
            ],
            [
             1,
             "#f0f921"
            ]
           ]
          },
          "colorway": [
           "#636efa",
           "#EF553B",
           "#00cc96",
           "#ab63fa",
           "#FFA15A",
           "#19d3f3",
           "#FF6692",
           "#B6E880",
           "#FF97FF",
           "#FECB52"
          ],
          "font": {
           "color": "#2a3f5f"
          },
          "geo": {
           "bgcolor": "white",
           "lakecolor": "white",
           "landcolor": "white",
           "showlakes": true,
           "showland": true,
           "subunitcolor": "#C8D4E3"
          },
          "hoverlabel": {
           "align": "left"
          },
          "hovermode": "closest",
          "mapbox": {
           "style": "light"
          },
          "paper_bgcolor": "white",
          "plot_bgcolor": "white",
          "polar": {
           "angularaxis": {
            "gridcolor": "#EBF0F8",
            "linecolor": "#EBF0F8",
            "ticks": ""
           },
           "bgcolor": "white",
           "radialaxis": {
            "gridcolor": "#EBF0F8",
            "linecolor": "#EBF0F8",
            "ticks": ""
           }
          },
          "scene": {
           "xaxis": {
            "backgroundcolor": "white",
            "gridcolor": "#DFE8F3",
            "gridwidth": 2,
            "linecolor": "#EBF0F8",
            "showbackground": true,
            "ticks": "",
            "zerolinecolor": "#EBF0F8"
           },
           "yaxis": {
            "backgroundcolor": "white",
            "gridcolor": "#DFE8F3",
            "gridwidth": 2,
            "linecolor": "#EBF0F8",
            "showbackground": true,
            "ticks": "",
            "zerolinecolor": "#EBF0F8"
           },
           "zaxis": {
            "backgroundcolor": "white",
            "gridcolor": "#DFE8F3",
            "gridwidth": 2,
            "linecolor": "#EBF0F8",
            "showbackground": true,
            "ticks": "",
            "zerolinecolor": "#EBF0F8"
           }
          },
          "shapedefaults": {
           "line": {
            "color": "#2a3f5f"
           }
          },
          "ternary": {
           "aaxis": {
            "gridcolor": "#DFE8F3",
            "linecolor": "#A2B1C6",
            "ticks": ""
           },
           "baxis": {
            "gridcolor": "#DFE8F3",
            "linecolor": "#A2B1C6",
            "ticks": ""
           },
           "bgcolor": "white",
           "caxis": {
            "gridcolor": "#DFE8F3",
            "linecolor": "#A2B1C6",
            "ticks": ""
           }
          },
          "title": {
           "x": 0.05
          },
          "xaxis": {
           "automargin": true,
           "gridcolor": "#EBF0F8",
           "linecolor": "#EBF0F8",
           "ticks": "",
           "title": {
            "standoff": 15
           },
           "zerolinecolor": "#EBF0F8",
           "zerolinewidth": 2
          },
          "yaxis": {
           "automargin": true,
           "gridcolor": "#EBF0F8",
           "linecolor": "#EBF0F8",
           "ticks": "",
           "title": {
            "standoff": 15
           },
           "zerolinecolor": "#EBF0F8",
           "zerolinewidth": 2
          }
         }
        },
        "title": {
         "text": "Round 2 vs Round 3"
        },
        "xaxis": {
         "anchor": "y",
         "domain": [
          0,
          1
         ],
         "tickmode": "array",
         "ticktext": [
          "0",
          "1",
          "2",
          "3",
          "4",
          "5",
          "6",
          "7",
          "8",
          "9",
          "10",
          "11",
          "12",
          "13",
          "14",
          "15",
          "16",
          "17",
          "18",
          "19",
          "20",
          "21",
          "22",
          "23",
          "24",
          "25",
          "26",
          "27",
          "28",
          "29",
          "30",
          "31",
          "32",
          "33",
          "34",
          "35",
          "36",
          "37",
          "38",
          "39",
          "40",
          "41",
          "42",
          "43",
          "44",
          "45",
          "46",
          "47",
          "48",
          "49",
          "50",
          "51",
          "52",
          "53",
          "54",
          "55",
          "56",
          "57",
          "58",
          "59",
          "60",
          "61",
          "62",
          "63",
          "64",
          "65",
          "66",
          "67",
          "68",
          "69",
          "70",
          "71",
          "72",
          "73",
          "74",
          "75",
          "76",
          "77",
          "78",
          "79"
         ],
         "tickvals": {
          "bdata": "AAECAwQFBgcICQoLDA0ODxAREhMUFRYXGBkaGxwdHh8gISIjJCUmJygpKissLS4vMDEyMzQ1Njc4OTo7PD0+P0BBQkNERUZHSElKS0xNTk8=",
          "dtype": "i1"
         },
         "title": {
          "text": ""
         }
        },
        "xaxis2": {
         "anchor": "y2",
         "domain": [
          0,
          1
         ],
         "tickmode": "array",
         "ticktext": [
          "0",
          "1",
          "2",
          "3",
          "4",
          "5",
          "6",
          "7",
          "8",
          "9",
          "10",
          "11",
          "12",
          "13",
          "14",
          "15",
          "16",
          "17",
          "18",
          "19",
          "20",
          "21",
          "22",
          "23",
          "24",
          "25",
          "26",
          "27",
          "28",
          "29",
          "30",
          "31",
          "32",
          "33",
          "34",
          "35",
          "36",
          "37",
          "38",
          "39",
          "40",
          "41",
          "42",
          "43",
          "44",
          "45",
          "46",
          "47",
          "48",
          "49",
          "50",
          "51",
          "52",
          "53",
          "54",
          "55",
          "56",
          "57",
          "58",
          "59",
          "60",
          "61",
          "62",
          "63",
          "64",
          "65",
          "66",
          "67",
          "68",
          "69",
          "70",
          "71",
          "72",
          "73",
          "74",
          "75",
          "76",
          "77",
          "78",
          "79"
         ],
         "tickvals": {
          "bdata": "AAECAwQFBgcICQoLDA0ODxAREhMUFRYXGBkaGxwdHh8gISIjJCUmJygpKissLS4vMDEyMzQ1Njc4OTo7PD0+P0BBQkNERUZHSElKS0xNTk8=",
          "dtype": "i1"
         },
         "title": {
          "text": ""
         }
        },
        "xaxis3": {
         "anchor": "y3",
         "domain": [
          0,
          1
         ],
         "tickmode": "array",
         "ticktext": [
          "0",
          "1",
          "2",
          "3",
          "4",
          "5",
          "6",
          "7",
          "8",
          "9",
          "10",
          "11",
          "12",
          "13",
          "14",
          "15",
          "16",
          "17",
          "18",
          "19",
          "20",
          "21",
          "22",
          "23",
          "24",
          "25",
          "26",
          "27",
          "28",
          "29",
          "30",
          "31",
          "32",
          "33",
          "34",
          "35",
          "36",
          "37",
          "38",
          "39",
          "40",
          "41",
          "42",
          "43",
          "44",
          "45",
          "46",
          "47",
          "48",
          "49",
          "50",
          "51",
          "52",
          "53",
          "54",
          "55",
          "56",
          "57",
          "58",
          "59",
          "60",
          "61",
          "62",
          "63",
          "64",
          "65",
          "66",
          "67",
          "68",
          "69",
          "70",
          "71",
          "72",
          "73",
          "74",
          "75",
          "76",
          "77",
          "78",
          "79"
         ],
         "tickvals": {
          "bdata": "AAECAwQFBgcICQoLDA0ODxAREhMUFRYXGBkaGxwdHh8gISIjJCUmJygpKissLS4vMDEyMzQ1Njc4OTo7PD0+P0BBQkNERUZHSElKS0xNTk8=",
          "dtype": "i1"
         },
         "title": {
          "text": "Action ID (0–79)"
         }
        },
        "yaxis": {
         "anchor": "x",
         "domain": [
          0.72,
          1
         ],
         "range": [
          0,
          0.01663125
         ],
         "title": {
          "text": "P(select)"
         }
        },
        "yaxis2": {
         "anchor": "x2",
         "domain": [
          0.36,
          0.6399999999999999
         ],
         "range": [
          0,
          0.0167
         ],
         "title": {
          "text": "P(select)"
         }
        },
        "yaxis3": {
         "anchor": "x3",
         "domain": [
          0,
          0.27999999999999997
         ],
         "range": [
          0,
          0.016825
         ],
         "title": {
          "text": "P(select)"
         }
        }
       }
      }
     },
     "metadata": {},
     "output_type": "display_data"
    }
   ],
   "source": [
    "# Round 3 (same tracker instance)\n",
    "samp3 = tracker.next_round(\n",
    "    random_state=SEED,     # or an int for reproducibility\n",
    "    use_mc_if_needed=True, # True recommended for rounds >= 2\n",
    "    n_sim=200_000          # tweak if you want faster/lower-variance\n",
    ")\n",
    "print(\"Round 3 samples:\\n\", samp3)\n",
    "\n",
    "# Plot Round 2 vs Round 3\n",
    "tracker.plot_compare(2, 3, title=\"Round 2 vs Round 3\")"
   ]
  },
  {
   "cell_type": "code",
   "execution_count": 11,
   "id": "16f079a3",
   "metadata": {},
   "outputs": [
    {
     "name": "stdout",
     "output_type": "stream",
     "text": [
      "Round 1 samples:\n",
      "    action  position  reward  pscore\n",
      "0      79         0       0  0.0125\n",
      "1       1         1       0  0.0125\n",
      "2      41         2       0  0.0125\n",
      "Round 2 samples:\n",
      "    action  position  reward  pscore\n",
      "0      66         0       0  0.0125\n",
      "1      54         1       0  0.0125\n",
      "2      10         2       0  0.0125\n",
      "Round 3 samples:\n",
      "    action  position  reward  pscore\n",
      "0       7         0       0  0.0125\n",
      "1      56         1       0  0.0125\n",
      "2      43         2       0  0.0125\n",
      "Round 4 samples:\n",
      "    action  position  reward  pscore\n",
      "0       2         0       0  0.0125\n",
      "1      10         1       0  0.0125\n",
      "2      21         2       0  0.0125\n",
      "Round 5 samples:\n",
      "    action  position  reward  pscore\n",
      "0      48         0       0  0.0125\n",
      "1      32         1       0  0.0125\n",
      "2      10         2       0  0.0125\n",
      "Round 6 samples:\n",
      "    action  position  reward  pscore\n",
      "0       7         0       0  0.0125\n",
      "1       7         1       0  0.0125\n",
      "2       0         2       0  0.0125\n",
      "Round 7 samples:\n",
      "    action  position  reward  pscore\n",
      "0       6         0       0  0.0125\n",
      "1      37         1       0  0.0125\n",
      "2      21         2       0  0.0125\n",
      "Round 8 samples:\n",
      "    action  position  reward  pscore\n",
      "0       3         0       0  0.0125\n",
      "1      25         1       0  0.0125\n",
      "2      73         2       0  0.0125\n",
      "Round 9 samples:\n",
      "    action  position  reward  pscore\n",
      "0       5         0       0  0.0125\n",
      "1      15         1       0  0.0125\n",
      "2      56         2       0  0.0125\n",
      "Round 10 samples:\n",
      "    action  position  reward  pscore\n",
      "0      79         0       0  0.0125\n",
      "1      35         1       0  0.0125\n",
      "2      62         2       0  0.0125\n",
      "Round 11 samples:\n",
      "    action  position  reward  pscore\n",
      "0      18         0       0  0.0125\n",
      "1      51         1       0  0.0125\n",
      "2      44         2       0  0.0125\n",
      "Round 12 samples:\n",
      "    action  position  reward  pscore\n",
      "0      62         0       0  0.0125\n",
      "1      72         1       0  0.0125\n",
      "2      77         2       0  0.0125\n",
      "Round 13 samples:\n",
      "    action  position  reward  pscore\n",
      "0      69         0       0  0.0125\n",
      "1      18         1       0  0.0125\n",
      "2      65         2       0  0.0125\n",
      "Round 14 samples:\n",
      "    action  position  reward  pscore\n",
      "0      35         0       0  0.0125\n",
      "1      69         1       0  0.0125\n",
      "2      12         2       0  0.0125\n",
      "Round 15 samples:\n",
      "    action  position  reward  pscore\n",
      "0      79         0       0  0.0125\n",
      "1      60         1       0  0.0125\n",
      "2      25         2       0  0.0125\n",
      "Round 16 samples:\n",
      "    action  position  reward  pscore\n",
      "0      28         0       0  0.0125\n",
      "1      60         1       0  0.0125\n",
      "2       1         2       0  0.0125\n",
      "Round 17 samples:\n",
      "    action  position  reward  pscore\n",
      "0      45         0       0  0.0125\n",
      "1       6         1       0  0.0125\n",
      "2      46         2       0  0.0125\n",
      "Round 18 samples:\n",
      "    action  position  reward  pscore\n",
      "0      62         0       0  0.0125\n",
      "1      57         1       0  0.0125\n",
      "2       8         2       0  0.0125\n",
      "Round 19 samples:\n",
      "    action  position  reward  pscore\n",
      "0      33         0       0  0.0125\n",
      "1       3         1       0  0.0125\n",
      "2      52         2       0  0.0125\n",
      "Round 20 samples:\n",
      "    action  position  reward  pscore\n",
      "0      71         0       0  0.0125\n",
      "1      58         1       0  0.0125\n",
      "2      41         2       0  0.0125\n",
      "Round 21 samples:\n",
      "    action  position  reward  pscore\n",
      "0      13         0       0  0.0125\n",
      "1      72         1       0  0.0125\n",
      "2       3         2       0  0.0125\n",
      "Round 22 samples:\n",
      "    action  position  reward  pscore\n",
      "0      65         0       0  0.0125\n",
      "1      26         1       0  0.0125\n",
      "2       2         2       0  0.0125\n",
      "Round 23 samples:\n",
      "    action  position  reward  pscore\n",
      "0      36         0       0  0.0125\n",
      "1      62         1       0  0.0125\n",
      "2      32         2       0  0.0125\n",
      "Round 24 samples:\n",
      "    action  position  reward  pscore\n",
      "0      57         0       0  0.0125\n",
      "1      15         1       0  0.0125\n",
      "2      51         2       0  0.0125\n",
      "Round 25 samples:\n",
      "    action  position  reward  pscore\n",
      "0       2         0       0  0.0125\n",
      "1      39         1       0  0.0125\n",
      "2      63         2       0  0.0125\n",
      "Round 26 samples:\n",
      "    action  position  reward  pscore\n",
      "0      13         0       0  0.0125\n",
      "1       5         1       0  0.0125\n",
      "2      72         2       0  0.0125\n",
      "Round 27 samples:\n",
      "    action  position  reward  pscore\n",
      "0      27         0       0  0.0125\n",
      "1       1         1       0  0.0125\n",
      "2      44         2       0  0.0125\n",
      "Round 28 samples:\n",
      "    action  position  reward  pscore\n",
      "0      59         0       0  0.0125\n",
      "1      19         1       0  0.0125\n",
      "2      66         2       0  0.0125\n",
      "Round 29 samples:\n",
      "    action  position  reward  pscore\n",
      "0      42         0       0  0.0125\n",
      "1      23         1       0  0.0125\n",
      "2       1         2       0  0.0125\n",
      "Round 30 samples:\n",
      "    action  position  reward  pscore\n",
      "0      39         0       0  0.0125\n",
      "1      19         1       0  0.0125\n",
      "2      22         2       0  0.0125\n",
      "Round 31 samples:\n",
      "    action  position  reward  pscore\n",
      "0      60         0       0  0.0125\n",
      "1      54         1       0  0.0125\n",
      "2      12         2       0  0.0125\n",
      "Round 32 samples:\n",
      "    action  position  reward  pscore\n",
      "0      10         0       0  0.0125\n",
      "1      59         1       0  0.0125\n",
      "2      17         2       0  0.0125\n",
      "Round 33 samples:\n",
      "    action  position  reward  pscore\n",
      "0      36         0       0  0.0125\n",
      "1       8         1       0  0.0125\n",
      "2      79         2       0  0.0125\n",
      "Round 34 samples:\n",
      "    action  position  reward  pscore\n",
      "0      50         0       0  0.0125\n",
      "1      29         1       0  0.0125\n",
      "2      75         2       0  0.0125\n",
      "Round 35 samples:\n",
      "    action  position  reward  pscore\n",
      "0       7         0       0  0.0125\n",
      "1       2         1       0  0.0125\n",
      "2      56         2       0  0.0125\n",
      "Round 36 samples:\n",
      "    action  position  reward  pscore\n",
      "0      21         0       0  0.0125\n",
      "1       0         1       0  0.0125\n",
      "2      21         2       0  0.0125\n",
      "Round 37 samples:\n",
      "    action  position  reward  pscore\n",
      "0      70         0       0  0.0125\n",
      "1       0         1       0  0.0125\n",
      "2       1         2       0  0.0125\n",
      "Round 38 samples:\n",
      "    action  position  reward  pscore\n",
      "0      65         0       0  0.0125\n",
      "1      18         1       0  0.0125\n",
      "2      17         2       0  0.0125\n",
      "Round 39 samples:\n",
      "    action  position  reward  pscore\n",
      "0      31         0       0  0.0125\n",
      "1      45         1       0  0.0125\n",
      "2      49         2       0  0.0125\n",
      "Round 40 samples:\n",
      "    action  position  reward  pscore\n",
      "0      34         0       0  0.0125\n",
      "1      35         1       0  0.0125\n",
      "2      16         2       0  0.0125\n",
      "Round 41 samples:\n",
      "    action  position  reward  pscore\n",
      "0      13         0       0  0.0125\n",
      "1      35         1       0  0.0125\n",
      "2      31         2       0  0.0125\n",
      "Round 42 samples:\n",
      "    action  position  reward  pscore\n",
      "0       4         0       0  0.0125\n",
      "1      50         1       0  0.0125\n",
      "2      78         2       0  0.0125\n",
      "Round 43 samples:\n",
      "    action  position  reward  pscore\n",
      "0      71         0       0  0.0125\n",
      "1       7         1       0  0.0125\n",
      "2      26         2       0  0.0125\n",
      "Round 44 samples:\n",
      "    action  position  reward  pscore\n",
      "0      50         0       0  0.0125\n",
      "1      44         1       0  0.0125\n",
      "2      30         2       0  0.0125\n",
      "Round 45 samples:\n",
      "    action  position  reward  pscore\n",
      "0      38         0       0  0.0125\n",
      "1       4         1       0  0.0125\n",
      "2      17         2       0  0.0125\n",
      "Round 46 samples:\n",
      "    action  position  reward  pscore\n",
      "0      66         0       0  0.0125\n",
      "1      10         1       0  0.0125\n",
      "2       3         2       0  0.0125\n",
      "Round 47 samples:\n",
      "    action  position  reward  pscore\n",
      "0      69         0       0  0.0125\n",
      "1      24         1       0  0.0125\n",
      "2      75         2       0  0.0125\n",
      "Round 48 samples:\n",
      "    action  position  reward  pscore\n",
      "0      23         0       0  0.0125\n",
      "1      43         1       0  0.0125\n",
      "2      33         2       0  0.0125\n",
      "Round 49 samples:\n",
      "    action  position  reward  pscore\n",
      "0      25         0       0  0.0125\n",
      "1      54         1       0  0.0125\n",
      "2      70         2       0  0.0125\n",
      "Round 50 samples:\n",
      "    action  position  reward  pscore\n",
      "0       8         0       0  0.0125\n",
      "1       3         1       0  0.0125\n",
      "2      33         2       0  0.0125\n",
      "Round 51 samples:\n",
      "    action  position  reward  pscore\n",
      "0       1         0       0  0.0125\n",
      "1      34         1       0  0.0125\n",
      "2      41         2       0  0.0125\n",
      "Round 52 samples:\n",
      "    action  position  reward  pscore\n",
      "0      74         0       0  0.0125\n",
      "1      19         1       0  0.0125\n",
      "2      16         2       0  0.0125\n",
      "Round 53 samples:\n",
      "    action  position  reward  pscore\n",
      "0      23         0       0  0.0125\n",
      "1      57         1       0  0.0125\n",
      "2      33         2       0  0.0125\n",
      "Round 54 samples:\n",
      "    action  position  reward  pscore\n",
      "0      72         0       0  0.0125\n",
      "1      67         1       0  0.0125\n",
      "2      11         2       0  0.0125\n",
      "Round 55 samples:\n",
      "    action  position  reward  pscore\n",
      "0      27         0       0  0.0125\n",
      "1      53         1       0  0.0125\n",
      "2      21         2       0  0.0125\n",
      "Round 56 samples:\n",
      "    action  position  reward  pscore\n",
      "0      77         0       0  0.0125\n",
      "1      33         1       0  0.0125\n",
      "2      37         2       0  0.0125\n",
      "Round 57 samples:\n",
      "    action  position  reward  pscore\n",
      "0      78         0       0  0.0125\n",
      "1      69         1       0  0.0125\n",
      "2      28         2       0  0.0125\n",
      "Round 58 samples:\n",
      "    action  position  reward  pscore\n",
      "0      77         0       0  0.0125\n",
      "1      58         1       0  0.0125\n",
      "2      10         2       0  0.0125\n",
      "Round 59 samples:\n",
      "    action  position  reward  pscore\n",
      "0      79         0       0  0.0125\n",
      "1      35         1       0  0.0125\n",
      "2      56         2       0  0.0125\n",
      "Round 60 samples:\n",
      "    action  position  reward  pscore\n",
      "0      37         0       0  0.0125\n",
      "1      29         1       0  0.0125\n",
      "2       9         2       0  0.0125\n",
      "Round 61 samples:\n",
      "    action  position  reward  pscore\n",
      "0      40         0       0  0.0125\n",
      "1      28         1       0  0.0125\n",
      "2       1         2       0  0.0125\n",
      "Round 62 samples:\n",
      "    action  position  reward  pscore\n",
      "0      78         0       0  0.0125\n",
      "1      55         1       0  0.0125\n",
      "2      41         2       0  0.0125\n",
      "Round 63 samples:\n",
      "    action  position  reward  pscore\n",
      "0      20         0       0  0.0125\n",
      "1      13         1       0  0.0125\n",
      "2      64         2       0  0.0125\n",
      "Round 64 samples:\n",
      "    action  position  reward  pscore\n",
      "0      50         0       0  0.0125\n",
      "1      72         1       0  0.0125\n",
      "2      21         2       0  0.0125\n",
      "Round 65 samples:\n",
      "    action  position  reward  pscore\n",
      "0      77         0       0  0.0125\n",
      "1      22         1       0  0.0125\n",
      "2      10         2       0  0.0125\n",
      "Round 66 samples:\n",
      "    action  position  reward  pscore\n",
      "0      61         0       0  0.0125\n",
      "1      24         1       0  0.0125\n",
      "2      55         2       0  0.0125\n",
      "Round 67 samples:\n",
      "    action  position  reward  pscore\n",
      "0      26         0       0  0.0125\n",
      "1      46         1       0  0.0125\n",
      "2      50         2       0  0.0125\n",
      "Round 68 samples:\n",
      "    action  position  reward  pscore\n",
      "0      50         0       0  0.0125\n",
      "1      34         1       0  0.0125\n",
      "2      40         2       0  0.0125\n",
      "Round 69 samples:\n",
      "    action  position  reward  pscore\n",
      "0      52         0       0  0.0125\n",
      "1      18         1       0  0.0125\n",
      "2      27         2       0  0.0125\n",
      "Round 70 samples:\n",
      "    action  position  reward  pscore\n",
      "0      75         0       0  0.0125\n",
      "1      70         1       0  0.0125\n",
      "2      63         2       0  0.0125\n",
      "Round 71 samples:\n",
      "    action  position  reward  pscore\n",
      "0      63         0       0  0.0125\n",
      "1      39         1       0  0.0125\n",
      "2      47         2       0  0.0125\n",
      "Round 72 samples:\n",
      "    action  position  reward  pscore\n",
      "0      34         0       0  0.0125\n",
      "1      65         1       0  0.0125\n",
      "2      16         2       0  0.0125\n",
      "Round 73 samples:\n",
      "    action  position  reward  pscore\n",
      "0      74         0       0  0.0125\n",
      "1      77         1       0  0.0125\n",
      "2      54         2       0  0.0125\n",
      "Round 74 samples:\n",
      "    action  position  reward  pscore\n",
      "0      72         0       0  0.0125\n",
      "1      69         1       0  0.0125\n",
      "2      79         2       0  0.0125\n",
      "Round 75 samples:\n",
      "    action  position  reward  pscore\n",
      "0      62         0       0  0.0125\n",
      "1      11         1       0  0.0125\n",
      "2      56         2       0  0.0125\n",
      "Round 76 samples:\n",
      "    action  position  reward  pscore\n",
      "0      56         0       0  0.0125\n",
      "1      23         1       0  0.0125\n",
      "2      54         2       0  0.0125\n",
      "Round 77 samples:\n",
      "    action  position  reward  pscore\n",
      "0      38         0       0  0.0125\n",
      "1      49         1       0  0.0125\n",
      "2      45         2       0  0.0125\n",
      "Round 78 samples:\n",
      "    action  position  reward  pscore\n",
      "0      10         0       0  0.0125\n",
      "1      32         1       0  0.0125\n",
      "2      15         2       0  0.0125\n",
      "Round 79 samples:\n",
      "    action  position  reward  pscore\n",
      "0      42         0       0  0.0125\n",
      "1      43         1       0  0.0125\n",
      "2      24         2       0  0.0125\n",
      "Round 80 samples:\n",
      "    action  position  reward  pscore\n",
      "0      56         0       0  0.0125\n",
      "1      68         1       0  0.0125\n",
      "2      56         2       0  0.0125\n",
      "Round 81 samples:\n",
      "    action  position  reward  pscore\n",
      "0      77         0       0  0.0125\n",
      "1       2         1       0  0.0125\n",
      "2       2         2       0  0.0125\n",
      "Round 82 samples:\n",
      "    action  position  reward  pscore\n",
      "0      40         0       0  0.0125\n",
      "1       1         1       0  0.0125\n",
      "2       0         2       0  0.0125\n",
      "Round 83 samples:\n",
      "    action  position  reward  pscore\n",
      "0      72         0       0  0.0125\n",
      "1       8         1       0  0.0125\n",
      "2      28         2       0  0.0125\n",
      "Round 84 samples:\n",
      "    action  position  reward  pscore\n",
      "0      27         0       0  0.0125\n",
      "1      26         1       0  0.0125\n",
      "2      23         2       0  0.0125\n",
      "Round 85 samples:\n",
      "    action  position  reward  pscore\n",
      "0      35         0       0  0.0125\n",
      "1      48         1       0  0.0125\n",
      "2      49         2       0  0.0125\n",
      "Round 86 samples:\n",
      "    action  position  reward  pscore\n",
      "0      51         0       0  0.0125\n",
      "1      23         1       0  0.0125\n",
      "2      43         2       0  0.0125\n",
      "Round 87 samples:\n",
      "    action  position  reward  pscore\n",
      "0      75         0       0  0.0125\n",
      "1      32         1       0  0.0125\n",
      "2      66         2       0  0.0125\n",
      "Round 88 samples:\n",
      "    action  position  reward  pscore\n",
      "0      12         0       0  0.0125\n",
      "1       5         1       0  0.0125\n",
      "2      39         2       0  0.0125\n",
      "Round 89 samples:\n",
      "    action  position  reward  pscore\n",
      "0      51         0       0  0.0125\n",
      "1      38         1       0  0.0125\n",
      "2       5         2       0  0.0125\n",
      "Round 90 samples:\n",
      "    action  position  reward  pscore\n",
      "0      35         0       0  0.0125\n",
      "1      65         1       0  0.0125\n",
      "2      44         2       0  0.0125\n",
      "Round 91 samples:\n",
      "    action  position  reward  pscore\n",
      "0      55         0       0  0.0125\n",
      "1      79         1       0  0.0125\n",
      "2      70         2       0  0.0125\n",
      "Round 92 samples:\n",
      "    action  position  reward  pscore\n",
      "0      19         0       0  0.0125\n",
      "1      44         1       0  0.0125\n",
      "2      38         2       0  0.0125\n",
      "Round 93 samples:\n",
      "    action  position  reward  pscore\n",
      "0      61         0       0  0.0125\n",
      "1      59         1       0  0.0125\n",
      "2      24         2       0  0.0125\n",
      "Round 94 samples:\n",
      "    action  position  reward  pscore\n",
      "0       2         0       0  0.0125\n",
      "1      70         1       0  0.0125\n",
      "2      23         2       0  0.0125\n",
      "Round 95 samples:\n",
      "    action  position  reward  pscore\n",
      "0      63         0       0  0.0125\n",
      "1      43         1       0  0.0125\n",
      "2       9         2       0  0.0125\n",
      "Round 96 samples:\n",
      "    action  position  reward  pscore\n",
      "0      19         0       0  0.0125\n",
      "1      12         1       0  0.0125\n",
      "2      19         2       0  0.0125\n",
      "Round 97 samples:\n",
      "    action  position  reward  pscore\n",
      "0      63         0       0  0.0125\n",
      "1      52         1       0  0.0125\n",
      "2      13         2       0  0.0125\n",
      "Round 98 samples:\n",
      "    action  position  reward  pscore\n",
      "0      68         0       0  0.0125\n",
      "1      11         1       0  0.0125\n",
      "2      51         2       0  0.0125\n",
      "Round 99 samples:\n",
      "    action  position  reward  pscore\n",
      "0      28         0       0  0.0125\n",
      "1      59         1       0  0.0125\n",
      "2      38         2       0  0.0125\n",
      "Round 100 samples:\n",
      "    action  position  reward  pscore\n",
      "0      36         0       0  0.0125\n",
      "1      17         1       0  0.0125\n",
      "2      68         2       0  0.0125\n"
     ]
    }
   ],
   "source": [
    "# Run 100 rounds\n",
    "n_rounds = 100\n",
    "for r in range(1, n_rounds+1):   # Round 1 .. 100\n",
    "    samp = tracker.next_round(\n",
    "        random_state=SEED+r,     # or an int for reproducibility\n",
    "        use_mc_if_needed=True, # needed beyond round 1\n",
    "        n_sim=50_000           # you can lower this for speed if needed\n",
    "    )\n",
    "    print(f\"Round {r} samples:\\n\", samp.head())  # head() just to avoid giant printouts"
   ]
  },
  {
   "cell_type": "code",
   "execution_count": 12,
   "id": "97c2bfb1",
   "metadata": {},
   "outputs": [
    {
     "data": {
      "application/vnd.plotly.v1+json": {
       "config": {
        "plotlyServerURL": "https://plot.ly"
       },
       "data": [
        {
         "marker": {
          "color": "steelblue"
         },
         "name": "Round 0",
         "opacity": 0.6,
         "showlegend": true,
         "type": "bar",
         "x": {
          "bdata": "AAECAwQFBgcICQoLDA0ODxAREhMUFRYXGBkaGxwdHh8gISIjJCUmJygpKissLS4vMDEyMzQ1Njc4OTo7PD0+P0BBQkNERUZHSElKS0xNTk8=",
          "dtype": "i1"
         },
         "xaxis": "x",
         "y": {
          "bdata": "mpmZmZmZiT+amZmZmZmJP5qZmZmZmYk/mpmZmZmZiT+amZmZmZmJP5qZmZmZmYk/mpmZmZmZiT+amZmZmZmJP5qZmZmZmYk/mpmZmZmZiT+amZmZmZmJP5qZmZmZmYk/mpmZmZmZiT+amZmZmZmJP5qZmZmZmYk/mpmZmZmZiT+amZmZmZmJP5qZmZmZmYk/mpmZmZmZiT+amZmZmZmJP5qZmZmZmYk/mpmZmZmZiT+amZmZmZmJP5qZmZmZmYk/mpmZmZmZiT+amZmZmZmJP5qZmZmZmYk/mpmZmZmZiT+amZmZmZmJP5qZmZmZmYk/mpmZmZmZiT+amZmZmZmJP5qZmZmZmYk/mpmZmZmZiT+amZmZmZmJP5qZmZmZmYk/mpmZmZmZiT+amZmZmZmJP5qZmZmZmYk/mpmZmZmZiT+amZmZmZmJP5qZmZmZmYk/mpmZmZmZiT+amZmZmZmJP5qZmZmZmYk/mpmZmZmZiT+amZmZmZmJP5qZmZmZmYk/mpmZmZmZiT+amZmZmZmJP5qZmZmZmYk/mpmZmZmZiT+amZmZmZmJP5qZmZmZmYk/mpmZmZmZiT+amZmZmZmJP5qZmZmZmYk/mpmZmZmZiT+amZmZmZmJP5qZmZmZmYk/mpmZmZmZiT+amZmZmZmJP5qZmZmZmYk/mpmZmZmZiT+amZmZmZmJP5qZmZmZmYk/mpmZmZmZiT+amZmZmZmJP5qZmZmZmYk/mpmZmZmZiT+amZmZmZmJP5qZmZmZmYk/mpmZmZmZiT+amZmZmZmJP5qZmZmZmYk/mpmZmZmZiT+amZmZmZmJP5qZmZmZmYk/mpmZmZmZiT+amZmZmZmJPw==",
          "dtype": "f8"
         },
         "yaxis": "y"
        },
        {
         "marker": {
          "color": "darkorange"
         },
         "name": "Round 100",
         "opacity": 0.85,
         "showlegend": true,
         "type": "bar",
         "x": {
          "bdata": "AAECAwQFBgcICQoLDA0ODxAREhMUFRYXGBkaGxwdHh8gISIjJCUmJygpKissLS4vMDEyMzQ1Njc4OTo7PD0+P0BBQkNERUZHSElKS0xNTk8=",
          "dtype": "i1"
         },
         "xaxis": "x",
         "y": {
          "bdata": "GhcOhGQBoz/s3R/vVStjP/Fo44i1+PQ+3BFOC170ZT/S+8bXnlliP4CfceFASGY/H6LRHcTOZD/xaOOItfj0PqTC2EKQg2I/zsKedvhroj/xaOOItfgkPxHfiVkvhqI/donqrYGtYj/xaOOItfgEPxYYsrrVc6I/sW1RZoNMoj9ZNJ2dDI6iP1X7dDxmoKI/uRluwOeHYT8tQxzr4jYqP+dSXFX2XWE/H6LRHcTOZD/fbHNjesKiP0uwOJz51Sw/sW1RZoNMoj+kwthCkINiP9L7xteeWWI/AAAAAAAAAAC+pDFaR1VjP7ml1ZC4x6I/qcE0DB8Roz8aFw6EZAFjP3KKjuTyH6I/oDcVqTC2YD+An3HhQEg2P/Fo44i1+PQ+aR1VTRB1Hz+kwthCkINiP/Fo44i1+CQ/wi/186YiZT/xaOOItfgkP+zdH+9VK6M/aR1VTRB1Hz8zbf/KSpOiPz9SRIZVvKE/L26jAbwFYj8eUDblCu+iP+wX7IZti6I/XaeRlsrbYT/O/GoOEMyhPwAAAAAAAAAA0vvG155ZIj8fotEdxM5kP+wX7IZti6I/SIrIsIo3oj9pHVVNEHVfP0uwOJz51Sw/donqrYGtYj9yUMJM27+iPx+i0R3EzmQ//Knx0k1iYD9LsDic+dUsP/Fo44i1+PQ+aR1VTRB1Dz+YUSy3tBqiPy1DHOviNio/AAAAAAAAAACt+lxtxf6iP2XfFcH/VqI/Q8U4fxMKMT+L4H8r2bFhP/Fo44i1+CQ/8WjjiLX49D4vbqMBvAWiP/Fo44i1+CQ/Q8U4fxMKMT8vbqMBvAWiPwAAAAAAAAAA8WjjiLX4JD8AAAAAAAAAAA==",
          "dtype": "f8"
         },
         "yaxis": "y"
        },
        {
         "hovertemplate": "Round 100<br>Position: 0<br>Action: %{x}<br>P: %{y:.6f}<br>Reward: 0<extra></extra>",
         "marker": {
          "color": "forestgreen",
          "size": 11,
          "symbol": "diamond"
         },
         "mode": "markers",
         "name": "Picked (r=100)",
         "showlegend": true,
         "type": "scatter",
         "x": [
          63
         ],
         "xaxis": "x",
         "y": [
          0.00006
         ],
         "yaxis": "y"
        },
        {
         "marker": {
          "color": "steelblue"
         },
         "name": "Round 0",
         "opacity": 0.6,
         "showlegend": false,
         "type": "bar",
         "x": {
          "bdata": "AAECAwQFBgcICQoLDA0ODxAREhMUFRYXGBkaGxwdHh8gISIjJCUmJygpKissLS4vMDEyMzQ1Njc4OTo7PD0+P0BBQkNERUZHSElKS0xNTk8=",
          "dtype": "i1"
         },
         "xaxis": "x2",
         "y": {
          "bdata": "mpmZmZmZiT+amZmZmZmJP5qZmZmZmYk/mpmZmZmZiT+amZmZmZmJP5qZmZmZmYk/mpmZmZmZiT+amZmZmZmJP5qZmZmZmYk/mpmZmZmZiT+amZmZmZmJP5qZmZmZmYk/mpmZmZmZiT+amZmZmZmJP5qZmZmZmYk/mpmZmZmZiT+amZmZmZmJP5qZmZmZmYk/mpmZmZmZiT+amZmZmZmJP5qZmZmZmYk/mpmZmZmZiT+amZmZmZmJP5qZmZmZmYk/mpmZmZmZiT+amZmZmZmJP5qZmZmZmYk/mpmZmZmZiT+amZmZmZmJP5qZmZmZmYk/mpmZmZmZiT+amZmZmZmJP5qZmZmZmYk/mpmZmZmZiT+amZmZmZmJP5qZmZmZmYk/mpmZmZmZiT+amZmZmZmJP5qZmZmZmYk/mpmZmZmZiT+amZmZmZmJP5qZmZmZmYk/mpmZmZmZiT+amZmZmZmJP5qZmZmZmYk/mpmZmZmZiT+amZmZmZmJP5qZmZmZmYk/mpmZmZmZiT+amZmZmZmJP5qZmZmZmYk/mpmZmZmZiT+amZmZmZmJP5qZmZmZmYk/mpmZmZmZiT+amZmZmZmJP5qZmZmZmYk/mpmZmZmZiT+amZmZmZmJP5qZmZmZmYk/mpmZmZmZiT+amZmZmZmJP5qZmZmZmYk/mpmZmZmZiT+amZmZmZmJP5qZmZmZmYk/mpmZmZmZiT+amZmZmZmJP5qZmZmZmYk/mpmZmZmZiT+amZmZmZmJP5qZmZmZmYk/mpmZmZmZiT+amZmZmZmJP5qZmZmZmYk/mpmZmZmZiT+amZmZmZmJP5qZmZmZmYk/mpmZmZmZiT+amZmZmZmJPw==",
          "dtype": "f8"
         },
         "yaxis": "y2"
        },
        {
         "marker": {
          "color": "darkorange"
         },
         "name": "Round 100",
         "opacity": 0.85,
         "showlegend": false,
         "type": "bar",
         "x": {
          "bdata": "AAECAwQFBgcICQoLDA0ODxAREhMUFRYXGBkaGxwdHh8gISIjJCUmJygpKissLS4vMDEyMzQ1Njc4OTo7PD0+P0BBQkNERUZHSElKS0xNTk8=",
          "dtype": "i1"
         },
         "xaxis": "x2",
         "y": {
          "bdata": "8WjjiLX4JD/xaOOItfgEP4CfceFASDY/S7A4nPnVLD+U9gZfmExlP/Fo44i1+CQ/QZqxaDo7aT9pHVVNEHUvP4CfceFASDY/wmnBi76CpD8P1v85zJcnPwXAeAYN/WM/wi/186YiZT/gnBGlvcFnP1nABG7dzaM/aR1VTRB1Lz9JopdRLLekPy+GcqJdhaQ/8WjjiLX4BD9pHVVNEHUPP7a+SGjLuaQ/9dvXgXNGpD+An3HhQEhmP/Fo44i1+PQ+S7A4nPnVLD+U9gZfmExlPy1DHOviNjo/Tdu/stKkpD/6fmq8dJNoPw/W/znMlyc/QPZ698d7pT/PTgZHyaujP/Fo44i1+PQ+KLhYUYNpaD9LsDic+dUsP/Fo44i1+AQ/g4b+CS5WpD+U9gZfmExlP0YldQKaCGs/0vvG155ZMj+thsQ9lj6kP4y+gjRj0aQ/5DEDlfHvoz/xaOOItfgEP0uwOJz51Sw/4JwRpb3BZz9rSNxj6UNnP772zJIANaU/E2HD0ytlaT/CL/XzpiJlPz0P7s7abWc/Zr0Yyol2ZT89D+7O2m1nP3sUrkfhemQ/AAAAAAAAAAAjLZW3I5xmPyi4WFGDaWg/Q8U4fxMKMT8tQxzr4jYqP2kdVU0QdS8/aR1VTRB1Lz+DTDJyFvakPwpLPKBsymU/kPeqlQm/pD88MevFUE6kPw/W/znMlyc/iIVa07zjpD+U9gZfmExlP/p+arx0k2g/8WjjiLX4BD9DxTh/EwoxPx7cnbXbLqQ/AAAAAAAAAAC2vkhoy7mkP75qZcIv9aM/fxMKEXAIpT8vhnKiXYWkPziEKjV7oGU/LUMc6+I2Gj+Zgcr49xlnPw==",
          "dtype": "f8"
         },
         "yaxis": "y2"
        },
        {
         "hovertemplate": "Round 100<br>Position: 1<br>Action: %{x}<br>P: %{y:.6f}<br>Reward: 0<extra></extra>",
         "marker": {
          "color": "forestgreen",
          "size": 11,
          "symbol": "diamond"
         },
         "mode": "markers",
         "name": "Picked (r=100)",
         "showlegend": false,
         "type": "scatter",
         "x": [
          52
         ],
         "xaxis": "x2",
         "y": [
          0.00286
         ],
         "yaxis": "y2"
        },
        {
         "marker": {
          "color": "steelblue"
         },
         "name": "Round 0",
         "opacity": 0.6,
         "showlegend": false,
         "type": "bar",
         "x": {
          "bdata": "AAECAwQFBgcICQoLDA0ODxAREhMUFRYXGBkaGxwdHh8gISIjJCUmJygpKissLS4vMDEyMzQ1Njc4OTo7PD0+P0BBQkNERUZHSElKS0xNTk8=",
          "dtype": "i1"
         },
         "xaxis": "x3",
         "y": {
          "bdata": "mpmZmZmZiT+amZmZmZmJP5qZmZmZmYk/mpmZmZmZiT+amZmZmZmJP5qZmZmZmYk/mpmZmZmZiT+amZmZmZmJP5qZmZmZmYk/mpmZmZmZiT+amZmZmZmJP5qZmZmZmYk/mpmZmZmZiT+amZmZmZmJP5qZmZmZmYk/mpmZmZmZiT+amZmZmZmJP5qZmZmZmYk/mpmZmZmZiT+amZmZmZmJP5qZmZmZmYk/mpmZmZmZiT+amZmZmZmJP5qZmZmZmYk/mpmZmZmZiT+amZmZmZmJP5qZmZmZmYk/mpmZmZmZiT+amZmZmZmJP5qZmZmZmYk/mpmZmZmZiT+amZmZmZmJP5qZmZmZmYk/mpmZmZmZiT+amZmZmZmJP5qZmZmZmYk/mpmZmZmZiT+amZmZmZmJP5qZmZmZmYk/mpmZmZmZiT+amZmZmZmJP5qZmZmZmYk/mpmZmZmZiT+amZmZmZmJP5qZmZmZmYk/mpmZmZmZiT+amZmZmZmJP5qZmZmZmYk/mpmZmZmZiT+amZmZmZmJP5qZmZmZmYk/mpmZmZmZiT+amZmZmZmJP5qZmZmZmYk/mpmZmZmZiT+amZmZmZmJP5qZmZmZmYk/mpmZmZmZiT+amZmZmZmJP5qZmZmZmYk/mpmZmZmZiT+amZmZmZmJP5qZmZmZmYk/mpmZmZmZiT+amZmZmZmJP5qZmZmZmYk/mpmZmZmZiT+amZmZmZmJP5qZmZmZmYk/mpmZmZmZiT+amZmZmZmJP5qZmZmZmYk/mpmZmZmZiT+amZmZmZmJP5qZmZmZmYk/mpmZmZmZiT+amZmZmZmJP5qZmZmZmYk/mpmZmZmZiT+amZmZmZmJPw==",
          "dtype": "f8"
         },
         "yaxis": "y3"
        },
        {
         "marker": {
          "color": "darkorange"
         },
         "name": "Round 100",
         "opacity": 0.85,
         "showlegend": false,
         "type": "bar",
         "x": {
          "bdata": "AAECAwQFBgcICQoLDA0ODxAREhMUFRYXGBkaGxwdHh8gISIjJCUmJygpKissLS4vMDEyMzQ1Njc4OTo7PD0+P0BBQkNERUZHSElKS0xNTk8=",
          "dtype": "i1"
         },
         "xaxis": "x3",
         "y": {
          "bdata": "S7A4nPnVLD8AAAAAAAAAAGkdVU0QdR8/YTJVMCqpMz8iT5KumXyjP2EyVTAqqWM/URToE3mSpD8Bh1ClZg+kP2EyVTAqqWM/0vvG155ZMj8AAAAAAAAAAM5wAz4/jGA/aR1VTRB1Hz/Xhopx/iZkP7G/7J48LKQ/14aKcf4mZD8AAAAAAAAAAAAAAAAAAAAAK8HicOZXoz97FK5H4XpkP7Ezhc5r7KI/AAAAAAAAAABRZoNMMnJmPw/W/znMlyc/LUMc6+I2Kj+Zgcr49xlnP5BrQ8U4f2M/3BFOC170ZT/xaOOItfgkP89OBkfJq6M/7N0f71UrYz/Xhopx/iZkP3aJ6q2BrWI/8WjjiLX49D70FaQZi6ajPyvB4nDmV6M/IxXGFoIcpD8aFw6EZAFjPwpLPKBsymU/uRluwOeHYT9N27+y0qRkPwAAAAAAAAAApIgMq3gjoz/S+8bXnlkiP/Fo44i1+PQ+wi/186YiZT/cEU4LXvRlP4CfceFASGY/RN0HILWJoz8tQxzr4jYqPyECDqFKzV4/SFD8GHPXYj8KSzygbMplPwkzbf/KSqM/S7A4nPnVLD8z+WabG9NjPwAAAAAAAAAA3zKny2Jioz/G3LWEfNCjP9OHLqhvmaM/yk+qfToeoz97Tnrf+NqjP0hQ/Bhz12I/Q8U4fxMKMT8jLZW3I5xmP6TC2EKQg2I/LUMc6+I2Oj+DwMqhRbajP8IXJlMFo6I/FqQZi6azoz9LsDic+dUsP9fAVgkWh6M/OIQqNXugZT8FwHgGDf1jP3LcKR2s/6M/D9b/OcyXJz/129eBc0akP5T2Bl+YTGU/D9b/OcyXZz/S+8bXnlkyPw==",
          "dtype": "f8"
         },
         "yaxis": "y3"
        },
        {
         "hovertemplate": "Round 100<br>Position: 2<br>Action: %{x}<br>P: %{y:.6f}<br>Reward: 0<extra></extra>",
         "marker": {
          "color": "forestgreen",
          "size": 11,
          "symbol": "diamond"
         },
         "mode": "markers",
         "name": "Picked (r=100)",
         "showlegend": false,
         "type": "scatter",
         "x": [
          13
         ],
         "xaxis": "x3",
         "y": [
          0.00246
         ],
         "yaxis": "y3"
        }
       ],
       "layout": {
        "annotations": [
         {
          "font": {
           "size": 16
          },
          "showarrow": false,
          "text": "Position 0",
          "x": 0.5,
          "xanchor": "center",
          "xref": "paper",
          "y": 1,
          "yanchor": "bottom",
          "yref": "paper"
         },
         {
          "font": {
           "size": 16
          },
          "showarrow": false,
          "text": "Position 1",
          "x": 0.5,
          "xanchor": "center",
          "xref": "paper",
          "y": 0.6399999999999999,
          "yanchor": "bottom",
          "yref": "paper"
         },
         {
          "font": {
           "size": 16
          },
          "showarrow": false,
          "text": "Position 2",
          "x": 0.5,
          "xanchor": "center",
          "xref": "paper",
          "y": 0.27999999999999997,
          "yanchor": "bottom",
          "yref": "paper"
         }
        ],
        "bargap": 0.15,
        "barmode": "group",
        "height": 1050,
        "template": {
         "data": {
          "bar": [
           {
            "error_x": {
             "color": "#2a3f5f"
            },
            "error_y": {
             "color": "#2a3f5f"
            },
            "marker": {
             "line": {
              "color": "white",
              "width": 0.5
             },
             "pattern": {
              "fillmode": "overlay",
              "size": 10,
              "solidity": 0.2
             }
            },
            "type": "bar"
           }
          ],
          "barpolar": [
           {
            "marker": {
             "line": {
              "color": "white",
              "width": 0.5
             },
             "pattern": {
              "fillmode": "overlay",
              "size": 10,
              "solidity": 0.2
             }
            },
            "type": "barpolar"
           }
          ],
          "carpet": [
           {
            "aaxis": {
             "endlinecolor": "#2a3f5f",
             "gridcolor": "#C8D4E3",
             "linecolor": "#C8D4E3",
             "minorgridcolor": "#C8D4E3",
             "startlinecolor": "#2a3f5f"
            },
            "baxis": {
             "endlinecolor": "#2a3f5f",
             "gridcolor": "#C8D4E3",
             "linecolor": "#C8D4E3",
             "minorgridcolor": "#C8D4E3",
             "startlinecolor": "#2a3f5f"
            },
            "type": "carpet"
           }
          ],
          "choropleth": [
           {
            "colorbar": {
             "outlinewidth": 0,
             "ticks": ""
            },
            "type": "choropleth"
           }
          ],
          "contour": [
           {
            "colorbar": {
             "outlinewidth": 0,
             "ticks": ""
            },
            "colorscale": [
             [
              0,
              "#0d0887"
             ],
             [
              0.1111111111111111,
              "#46039f"
             ],
             [
              0.2222222222222222,
              "#7201a8"
             ],
             [
              0.3333333333333333,
              "#9c179e"
             ],
             [
              0.4444444444444444,
              "#bd3786"
             ],
             [
              0.5555555555555556,
              "#d8576b"
             ],
             [
              0.6666666666666666,
              "#ed7953"
             ],
             [
              0.7777777777777778,
              "#fb9f3a"
             ],
             [
              0.8888888888888888,
              "#fdca26"
             ],
             [
              1,
              "#f0f921"
             ]
            ],
            "type": "contour"
           }
          ],
          "contourcarpet": [
           {
            "colorbar": {
             "outlinewidth": 0,
             "ticks": ""
            },
            "type": "contourcarpet"
           }
          ],
          "heatmap": [
           {
            "colorbar": {
             "outlinewidth": 0,
             "ticks": ""
            },
            "colorscale": [
             [
              0,
              "#0d0887"
             ],
             [
              0.1111111111111111,
              "#46039f"
             ],
             [
              0.2222222222222222,
              "#7201a8"
             ],
             [
              0.3333333333333333,
              "#9c179e"
             ],
             [
              0.4444444444444444,
              "#bd3786"
             ],
             [
              0.5555555555555556,
              "#d8576b"
             ],
             [
              0.6666666666666666,
              "#ed7953"
             ],
             [
              0.7777777777777778,
              "#fb9f3a"
             ],
             [
              0.8888888888888888,
              "#fdca26"
             ],
             [
              1,
              "#f0f921"
             ]
            ],
            "type": "heatmap"
           }
          ],
          "histogram": [
           {
            "marker": {
             "pattern": {
              "fillmode": "overlay",
              "size": 10,
              "solidity": 0.2
             }
            },
            "type": "histogram"
           }
          ],
          "histogram2d": [
           {
            "colorbar": {
             "outlinewidth": 0,
             "ticks": ""
            },
            "colorscale": [
             [
              0,
              "#0d0887"
             ],
             [
              0.1111111111111111,
              "#46039f"
             ],
             [
              0.2222222222222222,
              "#7201a8"
             ],
             [
              0.3333333333333333,
              "#9c179e"
             ],
             [
              0.4444444444444444,
              "#bd3786"
             ],
             [
              0.5555555555555556,
              "#d8576b"
             ],
             [
              0.6666666666666666,
              "#ed7953"
             ],
             [
              0.7777777777777778,
              "#fb9f3a"
             ],
             [
              0.8888888888888888,
              "#fdca26"
             ],
             [
              1,
              "#f0f921"
             ]
            ],
            "type": "histogram2d"
           }
          ],
          "histogram2dcontour": [
           {
            "colorbar": {
             "outlinewidth": 0,
             "ticks": ""
            },
            "colorscale": [
             [
              0,
              "#0d0887"
             ],
             [
              0.1111111111111111,
              "#46039f"
             ],
             [
              0.2222222222222222,
              "#7201a8"
             ],
             [
              0.3333333333333333,
              "#9c179e"
             ],
             [
              0.4444444444444444,
              "#bd3786"
             ],
             [
              0.5555555555555556,
              "#d8576b"
             ],
             [
              0.6666666666666666,
              "#ed7953"
             ],
             [
              0.7777777777777778,
              "#fb9f3a"
             ],
             [
              0.8888888888888888,
              "#fdca26"
             ],
             [
              1,
              "#f0f921"
             ]
            ],
            "type": "histogram2dcontour"
           }
          ],
          "mesh3d": [
           {
            "colorbar": {
             "outlinewidth": 0,
             "ticks": ""
            },
            "type": "mesh3d"
           }
          ],
          "parcoords": [
           {
            "line": {
             "colorbar": {
              "outlinewidth": 0,
              "ticks": ""
             }
            },
            "type": "parcoords"
           }
          ],
          "pie": [
           {
            "automargin": true,
            "type": "pie"
           }
          ],
          "scatter": [
           {
            "fillpattern": {
             "fillmode": "overlay",
             "size": 10,
             "solidity": 0.2
            },
            "type": "scatter"
           }
          ],
          "scatter3d": [
           {
            "line": {
             "colorbar": {
              "outlinewidth": 0,
              "ticks": ""
             }
            },
            "marker": {
             "colorbar": {
              "outlinewidth": 0,
              "ticks": ""
             }
            },
            "type": "scatter3d"
           }
          ],
          "scattercarpet": [
           {
            "marker": {
             "colorbar": {
              "outlinewidth": 0,
              "ticks": ""
             }
            },
            "type": "scattercarpet"
           }
          ],
          "scattergeo": [
           {
            "marker": {
             "colorbar": {
              "outlinewidth": 0,
              "ticks": ""
             }
            },
            "type": "scattergeo"
           }
          ],
          "scattergl": [
           {
            "marker": {
             "colorbar": {
              "outlinewidth": 0,
              "ticks": ""
             }
            },
            "type": "scattergl"
           }
          ],
          "scattermap": [
           {
            "marker": {
             "colorbar": {
              "outlinewidth": 0,
              "ticks": ""
             }
            },
            "type": "scattermap"
           }
          ],
          "scattermapbox": [
           {
            "marker": {
             "colorbar": {
              "outlinewidth": 0,
              "ticks": ""
             }
            },
            "type": "scattermapbox"
           }
          ],
          "scatterpolar": [
           {
            "marker": {
             "colorbar": {
              "outlinewidth": 0,
              "ticks": ""
             }
            },
            "type": "scatterpolar"
           }
          ],
          "scatterpolargl": [
           {
            "marker": {
             "colorbar": {
              "outlinewidth": 0,
              "ticks": ""
             }
            },
            "type": "scatterpolargl"
           }
          ],
          "scatterternary": [
           {
            "marker": {
             "colorbar": {
              "outlinewidth": 0,
              "ticks": ""
             }
            },
            "type": "scatterternary"
           }
          ],
          "surface": [
           {
            "colorbar": {
             "outlinewidth": 0,
             "ticks": ""
            },
            "colorscale": [
             [
              0,
              "#0d0887"
             ],
             [
              0.1111111111111111,
              "#46039f"
             ],
             [
              0.2222222222222222,
              "#7201a8"
             ],
             [
              0.3333333333333333,
              "#9c179e"
             ],
             [
              0.4444444444444444,
              "#bd3786"
             ],
             [
              0.5555555555555556,
              "#d8576b"
             ],
             [
              0.6666666666666666,
              "#ed7953"
             ],
             [
              0.7777777777777778,
              "#fb9f3a"
             ],
             [
              0.8888888888888888,
              "#fdca26"
             ],
             [
              1,
              "#f0f921"
             ]
            ],
            "type": "surface"
           }
          ],
          "table": [
           {
            "cells": {
             "fill": {
              "color": "#EBF0F8"
             },
             "line": {
              "color": "white"
             }
            },
            "header": {
             "fill": {
              "color": "#C8D4E3"
             },
             "line": {
              "color": "white"
             }
            },
            "type": "table"
           }
          ]
         },
         "layout": {
          "annotationdefaults": {
           "arrowcolor": "#2a3f5f",
           "arrowhead": 0,
           "arrowwidth": 1
          },
          "autotypenumbers": "strict",
          "coloraxis": {
           "colorbar": {
            "outlinewidth": 0,
            "ticks": ""
           }
          },
          "colorscale": {
           "diverging": [
            [
             0,
             "#8e0152"
            ],
            [
             0.1,
             "#c51b7d"
            ],
            [
             0.2,
             "#de77ae"
            ],
            [
             0.3,
             "#f1b6da"
            ],
            [
             0.4,
             "#fde0ef"
            ],
            [
             0.5,
             "#f7f7f7"
            ],
            [
             0.6,
             "#e6f5d0"
            ],
            [
             0.7,
             "#b8e186"
            ],
            [
             0.8,
             "#7fbc41"
            ],
            [
             0.9,
             "#4d9221"
            ],
            [
             1,
             "#276419"
            ]
           ],
           "sequential": [
            [
             0,
             "#0d0887"
            ],
            [
             0.1111111111111111,
             "#46039f"
            ],
            [
             0.2222222222222222,
             "#7201a8"
            ],
            [
             0.3333333333333333,
             "#9c179e"
            ],
            [
             0.4444444444444444,
             "#bd3786"
            ],
            [
             0.5555555555555556,
             "#d8576b"
            ],
            [
             0.6666666666666666,
             "#ed7953"
            ],
            [
             0.7777777777777778,
             "#fb9f3a"
            ],
            [
             0.8888888888888888,
             "#fdca26"
            ],
            [
             1,
             "#f0f921"
            ]
           ],
           "sequentialminus": [
            [
             0,
             "#0d0887"
            ],
            [
             0.1111111111111111,
             "#46039f"
            ],
            [
             0.2222222222222222,
             "#7201a8"
            ],
            [
             0.3333333333333333,
             "#9c179e"
            ],
            [
             0.4444444444444444,
             "#bd3786"
            ],
            [
             0.5555555555555556,
             "#d8576b"
            ],
            [
             0.6666666666666666,
             "#ed7953"
            ],
            [
             0.7777777777777778,
             "#fb9f3a"
            ],
            [
             0.8888888888888888,
             "#fdca26"
            ],
            [
             1,
             "#f0f921"
            ]
           ]
          },
          "colorway": [
           "#636efa",
           "#EF553B",
           "#00cc96",
           "#ab63fa",
           "#FFA15A",
           "#19d3f3",
           "#FF6692",
           "#B6E880",
           "#FF97FF",
           "#FECB52"
          ],
          "font": {
           "color": "#2a3f5f"
          },
          "geo": {
           "bgcolor": "white",
           "lakecolor": "white",
           "landcolor": "white",
           "showlakes": true,
           "showland": true,
           "subunitcolor": "#C8D4E3"
          },
          "hoverlabel": {
           "align": "left"
          },
          "hovermode": "closest",
          "mapbox": {
           "style": "light"
          },
          "paper_bgcolor": "white",
          "plot_bgcolor": "white",
          "polar": {
           "angularaxis": {
            "gridcolor": "#EBF0F8",
            "linecolor": "#EBF0F8",
            "ticks": ""
           },
           "bgcolor": "white",
           "radialaxis": {
            "gridcolor": "#EBF0F8",
            "linecolor": "#EBF0F8",
            "ticks": ""
           }
          },
          "scene": {
           "xaxis": {
            "backgroundcolor": "white",
            "gridcolor": "#DFE8F3",
            "gridwidth": 2,
            "linecolor": "#EBF0F8",
            "showbackground": true,
            "ticks": "",
            "zerolinecolor": "#EBF0F8"
           },
           "yaxis": {
            "backgroundcolor": "white",
            "gridcolor": "#DFE8F3",
            "gridwidth": 2,
            "linecolor": "#EBF0F8",
            "showbackground": true,
            "ticks": "",
            "zerolinecolor": "#EBF0F8"
           },
           "zaxis": {
            "backgroundcolor": "white",
            "gridcolor": "#DFE8F3",
            "gridwidth": 2,
            "linecolor": "#EBF0F8",
            "showbackground": true,
            "ticks": "",
            "zerolinecolor": "#EBF0F8"
           }
          },
          "shapedefaults": {
           "line": {
            "color": "#2a3f5f"
           }
          },
          "ternary": {
           "aaxis": {
            "gridcolor": "#DFE8F3",
            "linecolor": "#A2B1C6",
            "ticks": ""
           },
           "baxis": {
            "gridcolor": "#DFE8F3",
            "linecolor": "#A2B1C6",
            "ticks": ""
           },
           "bgcolor": "white",
           "caxis": {
            "gridcolor": "#DFE8F3",
            "linecolor": "#A2B1C6",
            "ticks": ""
           }
          },
          "title": {
           "x": 0.05
          },
          "xaxis": {
           "automargin": true,
           "gridcolor": "#EBF0F8",
           "linecolor": "#EBF0F8",
           "ticks": "",
           "title": {
            "standoff": 15
           },
           "zerolinecolor": "#EBF0F8",
           "zerolinewidth": 2
          },
          "yaxis": {
           "automargin": true,
           "gridcolor": "#EBF0F8",
           "linecolor": "#EBF0F8",
           "ticks": "",
           "title": {
            "standoff": 15
           },
           "zerolinecolor": "#EBF0F8",
           "zerolinewidth": 2
          }
         }
        },
        "title": {
         "text": "Round 0 vs Round 100"
        },
        "xaxis": {
         "anchor": "y",
         "domain": [
          0,
          1
         ],
         "tickmode": "array",
         "ticktext": [
          "0",
          "1",
          "2",
          "3",
          "4",
          "5",
          "6",
          "7",
          "8",
          "9",
          "10",
          "11",
          "12",
          "13",
          "14",
          "15",
          "16",
          "17",
          "18",
          "19",
          "20",
          "21",
          "22",
          "23",
          "24",
          "25",
          "26",
          "27",
          "28",
          "29",
          "30",
          "31",
          "32",
          "33",
          "34",
          "35",
          "36",
          "37",
          "38",
          "39",
          "40",
          "41",
          "42",
          "43",
          "44",
          "45",
          "46",
          "47",
          "48",
          "49",
          "50",
          "51",
          "52",
          "53",
          "54",
          "55",
          "56",
          "57",
          "58",
          "59",
          "60",
          "61",
          "62",
          "63",
          "64",
          "65",
          "66",
          "67",
          "68",
          "69",
          "70",
          "71",
          "72",
          "73",
          "74",
          "75",
          "76",
          "77",
          "78",
          "79"
         ],
         "tickvals": {
          "bdata": "AAECAwQFBgcICQoLDA0ODxAREhMUFRYXGBkaGxwdHh8gISIjJCUmJygpKissLS4vMDEyMzQ1Njc4OTo7PD0+P0BBQkNERUZHSElKS0xNTk8=",
          "dtype": "i1"
         },
         "title": {
          "text": ""
         }
        },
        "xaxis2": {
         "anchor": "y2",
         "domain": [
          0,
          1
         ],
         "tickmode": "array",
         "ticktext": [
          "0",
          "1",
          "2",
          "3",
          "4",
          "5",
          "6",
          "7",
          "8",
          "9",
          "10",
          "11",
          "12",
          "13",
          "14",
          "15",
          "16",
          "17",
          "18",
          "19",
          "20",
          "21",
          "22",
          "23",
          "24",
          "25",
          "26",
          "27",
          "28",
          "29",
          "30",
          "31",
          "32",
          "33",
          "34",
          "35",
          "36",
          "37",
          "38",
          "39",
          "40",
          "41",
          "42",
          "43",
          "44",
          "45",
          "46",
          "47",
          "48",
          "49",
          "50",
          "51",
          "52",
          "53",
          "54",
          "55",
          "56",
          "57",
          "58",
          "59",
          "60",
          "61",
          "62",
          "63",
          "64",
          "65",
          "66",
          "67",
          "68",
          "69",
          "70",
          "71",
          "72",
          "73",
          "74",
          "75",
          "76",
          "77",
          "78",
          "79"
         ],
         "tickvals": {
          "bdata": "AAECAwQFBgcICQoLDA0ODxAREhMUFRYXGBkaGxwdHh8gISIjJCUmJygpKissLS4vMDEyMzQ1Njc4OTo7PD0+P0BBQkNERUZHSElKS0xNTk8=",
          "dtype": "i1"
         },
         "title": {
          "text": ""
         }
        },
        "xaxis3": {
         "anchor": "y3",
         "domain": [
          0,
          1
         ],
         "tickmode": "array",
         "ticktext": [
          "0",
          "1",
          "2",
          "3",
          "4",
          "5",
          "6",
          "7",
          "8",
          "9",
          "10",
          "11",
          "12",
          "13",
          "14",
          "15",
          "16",
          "17",
          "18",
          "19",
          "20",
          "21",
          "22",
          "23",
          "24",
          "25",
          "26",
          "27",
          "28",
          "29",
          "30",
          "31",
          "32",
          "33",
          "34",
          "35",
          "36",
          "37",
          "38",
          "39",
          "40",
          "41",
          "42",
          "43",
          "44",
          "45",
          "46",
          "47",
          "48",
          "49",
          "50",
          "51",
          "52",
          "53",
          "54",
          "55",
          "56",
          "57",
          "58",
          "59",
          "60",
          "61",
          "62",
          "63",
          "64",
          "65",
          "66",
          "67",
          "68",
          "69",
          "70",
          "71",
          "72",
          "73",
          "74",
          "75",
          "76",
          "77",
          "78",
          "79"
         ],
         "tickvals": {
          "bdata": "AAECAwQFBgcICQoLDA0ODxAREhMUFRYXGBkaGxwdHh8gISIjJCUmJygpKissLS4vMDEyMzQ1Njc4OTo7PD0+P0BBQkNERUZHSElKS0xNTk8=",
          "dtype": "i1"
         },
         "title": {
          "text": "Action ID (0–79)"
         }
        },
        "yaxis": {
         "anchor": "x",
         "domain": [
          0.72,
          1
         ],
         "range": [
          0,
          0.0468
         ],
         "title": {
          "text": "P(select)"
         }
        },
        "yaxis2": {
         "anchor": "x2",
         "domain": [
          0.36,
          0.6399999999999999
         ],
         "range": [
          0,
          0.05245
         ],
         "title": {
          "text": "P(select)"
         }
        },
        "yaxis3": {
         "anchor": "x3",
         "domain": [
          0,
          0.27999999999999997
         ],
         "range": [
          0,
          0.050225
         ],
         "title": {
          "text": "P(select)"
         }
        }
       }
      }
     },
     "metadata": {},
     "output_type": "display_data"
    }
   ],
   "source": [
    "# make sure you’ve advanced to round 100 already\n",
    "# for r in range(1, 101):\n",
    "#     _ = tracker.next_round(use_mc_if_needed=True, n_sim=50_000)\n",
    "\n",
    "tracker.plot_compare(0, 100, title=\"Round 0 vs Round 100\")"
   ]
  },
  {
   "cell_type": "code",
   "execution_count": null,
   "id": "4f28b291",
   "metadata": {},
   "outputs": [],
   "source": []
  },
  {
   "cell_type": "code",
   "execution_count": 13,
   "id": "a098e3cb",
   "metadata": {},
   "outputs": [],
   "source": [
    "import numpy as np\n",
    "import pandas as pd\n",
    "import plotly.graph_objects as go\n",
    "\n",
    "def run_ts_and_plot(df, n_actions, n_rounds, seed=7, alpha0=1.0, beta0=1.0, title=None):\n",
    "    \"\"\"\n",
    "    Online Thompson Sampling (single-slot) using empirical CTR per action as ground-truth.\n",
    "    Plots selection frequency vs empirical CTR and returns (fig, results_df).\n",
    "\n",
    "    Parameters\n",
    "    ----------\n",
    "    df : pd.DataFrame with columns [\"action\",\"reward\", ...]\n",
    "    n_actions : int\n",
    "    n_rounds : int\n",
    "    seed : int\n",
    "    alpha0, beta0 : float\n",
    "        Beta prior for all actions (default Beta(1,1))\n",
    "    title : str or None\n",
    "    \"\"\"\n",
    "    # Ground-truth Bernoulli p per action from logs (missing actions -> 0 CTR)\n",
    "    p_true = (\n",
    "        df.groupby(\"action\")[\"reward\"].mean()\n",
    "          .reindex(range(n_actions), fill_value=0.0)\n",
    "          .to_numpy()\n",
    "    )\n",
    "    assert p_true.ndim == 1 and p_true.shape[0] == n_actions\n",
    "\n",
    "    # TS state\n",
    "    alpha_ts = np.full(n_actions, float(alpha0))\n",
    "    beta_ts  = np.full(n_actions, float(beta0))\n",
    "    chosen_counts = np.zeros(n_actions, dtype=int)\n",
    "\n",
    "    rng = np.random.RandomState(seed)\n",
    "\n",
    "    # Online TS loop (draw max, pick, observe, update)\n",
    "    for _ in range(int(n_rounds)):\n",
    "        theta = rng.beta(alpha_ts, beta_ts)\n",
    "        a = int(theta.argmax())\n",
    "        chosen_counts[a] += 1\n",
    "        r = rng.rand() < p_true[a]   # simulate Bernoulli reward from empirical CTR\n",
    "        alpha_ts[a] += int(r)\n",
    "        beta_ts[a]  += int(not r)\n",
    "\n",
    "    sel_freq = chosen_counts / float(n_rounds)\n",
    "\n",
    "    # Assemble results\n",
    "    res = pd.DataFrame({\n",
    "        \"action\": np.arange(n_actions),\n",
    "        \"empirical_ctr\": p_true,\n",
    "        \"ts_selection_freq\": sel_freq,\n",
    "        \"alpha_final\": alpha_ts,\n",
    "        \"beta_final\": beta_ts,\n",
    "        \"impressions\": df.groupby(\"action\")[\"reward\"].size()\n",
    "                           .reindex(range(n_actions), fill_value=0)\n",
    "                           .to_numpy()\n",
    "    })\n",
    "\n",
    "    # Plot\n",
    "    fig = go.Figure()\n",
    "    fig.add_bar(x=res[\"action\"], y=res[\"empirical_ctr\"], name=\"Empirical CTR\")\n",
    "    fig.add_bar(x=res[\"action\"], y=res[\"ts_selection_freq\"], name=f\"TS selection freq over {n_rounds:,} rounds\")\n",
    "    fig.update_layout(\n",
    "        title=title or f\"Online TS: selection frequency vs empirical CTR (n_rounds={n_rounds:,})\",\n",
    "        barmode=\"group\", template=\"plotly_white\",\n",
    "        xaxis=dict(title=\"Action ID\",\n",
    "                   tickmode=\"array\",\n",
    "                   tickvals=res[\"action\"],\n",
    "                   ticktext=[str(a) for a in res[\"action\"]]),\n",
    "        yaxis=dict(title=\"Value\")\n",
    "    )\n",
    "    return fig, res"
   ]
  },
  {
   "cell_type": "code",
   "execution_count": 14,
   "id": "180eaba4",
   "metadata": {},
   "outputs": [
    {
     "data": {
      "application/vnd.plotly.v1+json": {
       "config": {
        "plotlyServerURL": "https://plot.ly"
       },
       "data": [
        {
         "name": "Empirical CTR",
         "type": "bar",
         "x": {
          "bdata": "AAECAwQFBgcICQoLDA0ODxAREhMUFRYXGBkaGxwdHh8gISIjJCUmJygpKissLS4vMDEyMzQ1Njc4OTo7PD0+P0BBQkNERUZHSElKS0xNTk8=",
          "dtype": "i1"
         },
         "y": {
          "bdata": "AAAAAAAAAACamZmZmZl5PwAAAAAAAAAAEARBEARBgD8AAAAAAAAAAAAAAAAAAAAAcUJKnmVEjz/gwIEDBw58PzQsuFS2d30/EARBEARBgD8AAAAAAAAAAAAAAAAAAAAAAAAAAAAAAAAAAAAAAAAAAAAAAAAAAAAAAAAAAAAAAAAAAAAAAAAAAKcQaAqBpoA/Ecg1Ecg1kT8AAAAAAAAAAAAAAAAAAAAAZ7fwqzGRfj8AAAAAAAAAAAAAAAAAAAAAAAAAAAAAAABxQkqeZUR/PwAAAAAAAAAAAAAAAAAAAAAQBEEQBEGAPwAAAAAAAAAAAAAAAAAAAAAAAAAAAAAAAAAAAAAAAAAAAAAAAAAAAAB05QHJOld+PwAAAAAAAAAAO9q8T3HJkD8AAAAAAAAAADvavE9xyYA/AAAAAAAAAAAAAAAAAAAAAB4eHh4eHn4/AAAAAAAAAAAAAAAAAAAAAB4eHh4eHo4/Z7fwqzGRfj++Y2pg75h6P5Z7GmG5p4E/HYGirQbPgT8or6G8hvKaPx4eHh4eHn4/AAAAAAAAAAAAAAAAAAAAABQ4gRM4gZM/AAAAAAAAAAAAAAAAAAAAAAAAAAAAAAAAizPaPWx9iz+SJEmSJEmSPwAAAAAAAAAAAAAAAAAAAAAUO7ETO7GDPwAAAAAAAAAAAAAAAAAAAAAAAAAAAAAAAJCc5mv17IA/AAAAAAAAAAAAAAAAAAAAAAAAAAAAAAAA/Knx0k1igD8AAAAAAAAAABAEQRAEQYA/AAAAAAAAAAAAAAAAAAAAAAAAAAAAAAAAAAAAAAAAAAAAAAAAAAAAAAAAAAAAAAAAAAAAAAAAAAAAAAAAAAAAAA==",
          "dtype": "f8"
         }
        },
        {
         "name": "TS selection freq over 100 rounds",
         "type": "bar",
         "x": {
          "bdata": "AAECAwQFBgcICQoLDA0ODxAREhMUFRYXGBkaGxwdHh8gISIjJCUmJygpKissLS4vMDEyMzQ1Njc4OTo7PD0+P0BBQkNERUZHSElKS0xNTk8=",
          "dtype": "i1"
         },
         "y": {
          "bdata": "exSuR+F6lD97FK5H4XqEP3sUrkfhepQ/exSuR+F6lD97FK5H4XqUP3sUrkfhepQ/exSuR+F6hD97FK5H4XqEP3sUrkfheoQ/exSuR+F6hD97FK5H4XqUP3sUrkfheoQ/exSuR+F6hD97FK5H4XqEP3sUrkfheoQ/exSuR+F6hD97FK5H4XqEP7gehetRuJ4/exSuR+F6hD97FK5H4XqUP3sUrkfheoQ/exSuR+F6hD97FK5H4XqEP3sUrkfheoQ/exSuR+F6hD97FK5H4XqEP3sUrkfheoQ/exSuR+F6hD97FK5H4XqUP3sUrkfheoQ/exSuR+F6hD97FK5H4XqEP3sUrkfheoQ/exSuR+F6hD97FK5H4XqEP3sUrkfhepQ/exSuR+F6lD97FK5H4XqEP3sUrkfhepQ/exSuR+F6hD97FK5H4XqEP3sUrkfheoQ/AAAAAAAAAAB7FK5H4XqEP3sUrkfheoQ/exSuR+F6hD97FK5H4XqEP3sUrkfhepQ/exSuR+F6hD97FK5H4XqUP3sUrkfheoQ/exSuR+F6hD97FK5H4XqEP3sUrkfheoQ/exSuR+F6lD97FK5H4XqUP3sUrkfhepQ/exSuR+F6hD97FK5H4XqEP3sUrkfheoQ/exSuR+F6hD97FK5H4XqEP3sUrkfheoQ/exSuR+F6hD97FK5H4XqEP3sUrkfheoQ/exSuR+F6hD97FK5H4XqEP3sUrkfheoQ/exSuR+F6lD97FK5H4XqEP3sUrkfhepQ/exSuR+F6lD97FK5H4XqEP3sUrkfheoQ/exSuR+F6hD97FK5H4XqEP3sUrkfheoQ/exSuR+F6hD97FK5H4XqEPw==",
          "dtype": "f8"
         }
        }
       ],
       "layout": {
        "barmode": "group",
        "template": {
         "data": {
          "bar": [
           {
            "error_x": {
             "color": "#2a3f5f"
            },
            "error_y": {
             "color": "#2a3f5f"
            },
            "marker": {
             "line": {
              "color": "white",
              "width": 0.5
             },
             "pattern": {
              "fillmode": "overlay",
              "size": 10,
              "solidity": 0.2
             }
            },
            "type": "bar"
           }
          ],
          "barpolar": [
           {
            "marker": {
             "line": {
              "color": "white",
              "width": 0.5
             },
             "pattern": {
              "fillmode": "overlay",
              "size": 10,
              "solidity": 0.2
             }
            },
            "type": "barpolar"
           }
          ],
          "carpet": [
           {
            "aaxis": {
             "endlinecolor": "#2a3f5f",
             "gridcolor": "#C8D4E3",
             "linecolor": "#C8D4E3",
             "minorgridcolor": "#C8D4E3",
             "startlinecolor": "#2a3f5f"
            },
            "baxis": {
             "endlinecolor": "#2a3f5f",
             "gridcolor": "#C8D4E3",
             "linecolor": "#C8D4E3",
             "minorgridcolor": "#C8D4E3",
             "startlinecolor": "#2a3f5f"
            },
            "type": "carpet"
           }
          ],
          "choropleth": [
           {
            "colorbar": {
             "outlinewidth": 0,
             "ticks": ""
            },
            "type": "choropleth"
           }
          ],
          "contour": [
           {
            "colorbar": {
             "outlinewidth": 0,
             "ticks": ""
            },
            "colorscale": [
             [
              0,
              "#0d0887"
             ],
             [
              0.1111111111111111,
              "#46039f"
             ],
             [
              0.2222222222222222,
              "#7201a8"
             ],
             [
              0.3333333333333333,
              "#9c179e"
             ],
             [
              0.4444444444444444,
              "#bd3786"
             ],
             [
              0.5555555555555556,
              "#d8576b"
             ],
             [
              0.6666666666666666,
              "#ed7953"
             ],
             [
              0.7777777777777778,
              "#fb9f3a"
             ],
             [
              0.8888888888888888,
              "#fdca26"
             ],
             [
              1,
              "#f0f921"
             ]
            ],
            "type": "contour"
           }
          ],
          "contourcarpet": [
           {
            "colorbar": {
             "outlinewidth": 0,
             "ticks": ""
            },
            "type": "contourcarpet"
           }
          ],
          "heatmap": [
           {
            "colorbar": {
             "outlinewidth": 0,
             "ticks": ""
            },
            "colorscale": [
             [
              0,
              "#0d0887"
             ],
             [
              0.1111111111111111,
              "#46039f"
             ],
             [
              0.2222222222222222,
              "#7201a8"
             ],
             [
              0.3333333333333333,
              "#9c179e"
             ],
             [
              0.4444444444444444,
              "#bd3786"
             ],
             [
              0.5555555555555556,
              "#d8576b"
             ],
             [
              0.6666666666666666,
              "#ed7953"
             ],
             [
              0.7777777777777778,
              "#fb9f3a"
             ],
             [
              0.8888888888888888,
              "#fdca26"
             ],
             [
              1,
              "#f0f921"
             ]
            ],
            "type": "heatmap"
           }
          ],
          "histogram": [
           {
            "marker": {
             "pattern": {
              "fillmode": "overlay",
              "size": 10,
              "solidity": 0.2
             }
            },
            "type": "histogram"
           }
          ],
          "histogram2d": [
           {
            "colorbar": {
             "outlinewidth": 0,
             "ticks": ""
            },
            "colorscale": [
             [
              0,
              "#0d0887"
             ],
             [
              0.1111111111111111,
              "#46039f"
             ],
             [
              0.2222222222222222,
              "#7201a8"
             ],
             [
              0.3333333333333333,
              "#9c179e"
             ],
             [
              0.4444444444444444,
              "#bd3786"
             ],
             [
              0.5555555555555556,
              "#d8576b"
             ],
             [
              0.6666666666666666,
              "#ed7953"
             ],
             [
              0.7777777777777778,
              "#fb9f3a"
             ],
             [
              0.8888888888888888,
              "#fdca26"
             ],
             [
              1,
              "#f0f921"
             ]
            ],
            "type": "histogram2d"
           }
          ],
          "histogram2dcontour": [
           {
            "colorbar": {
             "outlinewidth": 0,
             "ticks": ""
            },
            "colorscale": [
             [
              0,
              "#0d0887"
             ],
             [
              0.1111111111111111,
              "#46039f"
             ],
             [
              0.2222222222222222,
              "#7201a8"
             ],
             [
              0.3333333333333333,
              "#9c179e"
             ],
             [
              0.4444444444444444,
              "#bd3786"
             ],
             [
              0.5555555555555556,
              "#d8576b"
             ],
             [
              0.6666666666666666,
              "#ed7953"
             ],
             [
              0.7777777777777778,
              "#fb9f3a"
             ],
             [
              0.8888888888888888,
              "#fdca26"
             ],
             [
              1,
              "#f0f921"
             ]
            ],
            "type": "histogram2dcontour"
           }
          ],
          "mesh3d": [
           {
            "colorbar": {
             "outlinewidth": 0,
             "ticks": ""
            },
            "type": "mesh3d"
           }
          ],
          "parcoords": [
           {
            "line": {
             "colorbar": {
              "outlinewidth": 0,
              "ticks": ""
             }
            },
            "type": "parcoords"
           }
          ],
          "pie": [
           {
            "automargin": true,
            "type": "pie"
           }
          ],
          "scatter": [
           {
            "fillpattern": {
             "fillmode": "overlay",
             "size": 10,
             "solidity": 0.2
            },
            "type": "scatter"
           }
          ],
          "scatter3d": [
           {
            "line": {
             "colorbar": {
              "outlinewidth": 0,
              "ticks": ""
             }
            },
            "marker": {
             "colorbar": {
              "outlinewidth": 0,
              "ticks": ""
             }
            },
            "type": "scatter3d"
           }
          ],
          "scattercarpet": [
           {
            "marker": {
             "colorbar": {
              "outlinewidth": 0,
              "ticks": ""
             }
            },
            "type": "scattercarpet"
           }
          ],
          "scattergeo": [
           {
            "marker": {
             "colorbar": {
              "outlinewidth": 0,
              "ticks": ""
             }
            },
            "type": "scattergeo"
           }
          ],
          "scattergl": [
           {
            "marker": {
             "colorbar": {
              "outlinewidth": 0,
              "ticks": ""
             }
            },
            "type": "scattergl"
           }
          ],
          "scattermap": [
           {
            "marker": {
             "colorbar": {
              "outlinewidth": 0,
              "ticks": ""
             }
            },
            "type": "scattermap"
           }
          ],
          "scattermapbox": [
           {
            "marker": {
             "colorbar": {
              "outlinewidth": 0,
              "ticks": ""
             }
            },
            "type": "scattermapbox"
           }
          ],
          "scatterpolar": [
           {
            "marker": {
             "colorbar": {
              "outlinewidth": 0,
              "ticks": ""
             }
            },
            "type": "scatterpolar"
           }
          ],
          "scatterpolargl": [
           {
            "marker": {
             "colorbar": {
              "outlinewidth": 0,
              "ticks": ""
             }
            },
            "type": "scatterpolargl"
           }
          ],
          "scatterternary": [
           {
            "marker": {
             "colorbar": {
              "outlinewidth": 0,
              "ticks": ""
             }
            },
            "type": "scatterternary"
           }
          ],
          "surface": [
           {
            "colorbar": {
             "outlinewidth": 0,
             "ticks": ""
            },
            "colorscale": [
             [
              0,
              "#0d0887"
             ],
             [
              0.1111111111111111,
              "#46039f"
             ],
             [
              0.2222222222222222,
              "#7201a8"
             ],
             [
              0.3333333333333333,
              "#9c179e"
             ],
             [
              0.4444444444444444,
              "#bd3786"
             ],
             [
              0.5555555555555556,
              "#d8576b"
             ],
             [
              0.6666666666666666,
              "#ed7953"
             ],
             [
              0.7777777777777778,
              "#fb9f3a"
             ],
             [
              0.8888888888888888,
              "#fdca26"
             ],
             [
              1,
              "#f0f921"
             ]
            ],
            "type": "surface"
           }
          ],
          "table": [
           {
            "cells": {
             "fill": {
              "color": "#EBF0F8"
             },
             "line": {
              "color": "white"
             }
            },
            "header": {
             "fill": {
              "color": "#C8D4E3"
             },
             "line": {
              "color": "white"
             }
            },
            "type": "table"
           }
          ]
         },
         "layout": {
          "annotationdefaults": {
           "arrowcolor": "#2a3f5f",
           "arrowhead": 0,
           "arrowwidth": 1
          },
          "autotypenumbers": "strict",
          "coloraxis": {
           "colorbar": {
            "outlinewidth": 0,
            "ticks": ""
           }
          },
          "colorscale": {
           "diverging": [
            [
             0,
             "#8e0152"
            ],
            [
             0.1,
             "#c51b7d"
            ],
            [
             0.2,
             "#de77ae"
            ],
            [
             0.3,
             "#f1b6da"
            ],
            [
             0.4,
             "#fde0ef"
            ],
            [
             0.5,
             "#f7f7f7"
            ],
            [
             0.6,
             "#e6f5d0"
            ],
            [
             0.7,
             "#b8e186"
            ],
            [
             0.8,
             "#7fbc41"
            ],
            [
             0.9,
             "#4d9221"
            ],
            [
             1,
             "#276419"
            ]
           ],
           "sequential": [
            [
             0,
             "#0d0887"
            ],
            [
             0.1111111111111111,
             "#46039f"
            ],
            [
             0.2222222222222222,
             "#7201a8"
            ],
            [
             0.3333333333333333,
             "#9c179e"
            ],
            [
             0.4444444444444444,
             "#bd3786"
            ],
            [
             0.5555555555555556,
             "#d8576b"
            ],
            [
             0.6666666666666666,
             "#ed7953"
            ],
            [
             0.7777777777777778,
             "#fb9f3a"
            ],
            [
             0.8888888888888888,
             "#fdca26"
            ],
            [
             1,
             "#f0f921"
            ]
           ],
           "sequentialminus": [
            [
             0,
             "#0d0887"
            ],
            [
             0.1111111111111111,
             "#46039f"
            ],
            [
             0.2222222222222222,
             "#7201a8"
            ],
            [
             0.3333333333333333,
             "#9c179e"
            ],
            [
             0.4444444444444444,
             "#bd3786"
            ],
            [
             0.5555555555555556,
             "#d8576b"
            ],
            [
             0.6666666666666666,
             "#ed7953"
            ],
            [
             0.7777777777777778,
             "#fb9f3a"
            ],
            [
             0.8888888888888888,
             "#fdca26"
            ],
            [
             1,
             "#f0f921"
            ]
           ]
          },
          "colorway": [
           "#636efa",
           "#EF553B",
           "#00cc96",
           "#ab63fa",
           "#FFA15A",
           "#19d3f3",
           "#FF6692",
           "#B6E880",
           "#FF97FF",
           "#FECB52"
          ],
          "font": {
           "color": "#2a3f5f"
          },
          "geo": {
           "bgcolor": "white",
           "lakecolor": "white",
           "landcolor": "white",
           "showlakes": true,
           "showland": true,
           "subunitcolor": "#C8D4E3"
          },
          "hoverlabel": {
           "align": "left"
          },
          "hovermode": "closest",
          "mapbox": {
           "style": "light"
          },
          "paper_bgcolor": "white",
          "plot_bgcolor": "white",
          "polar": {
           "angularaxis": {
            "gridcolor": "#EBF0F8",
            "linecolor": "#EBF0F8",
            "ticks": ""
           },
           "bgcolor": "white",
           "radialaxis": {
            "gridcolor": "#EBF0F8",
            "linecolor": "#EBF0F8",
            "ticks": ""
           }
          },
          "scene": {
           "xaxis": {
            "backgroundcolor": "white",
            "gridcolor": "#DFE8F3",
            "gridwidth": 2,
            "linecolor": "#EBF0F8",
            "showbackground": true,
            "ticks": "",
            "zerolinecolor": "#EBF0F8"
           },
           "yaxis": {
            "backgroundcolor": "white",
            "gridcolor": "#DFE8F3",
            "gridwidth": 2,
            "linecolor": "#EBF0F8",
            "showbackground": true,
            "ticks": "",
            "zerolinecolor": "#EBF0F8"
           },
           "zaxis": {
            "backgroundcolor": "white",
            "gridcolor": "#DFE8F3",
            "gridwidth": 2,
            "linecolor": "#EBF0F8",
            "showbackground": true,
            "ticks": "",
            "zerolinecolor": "#EBF0F8"
           }
          },
          "shapedefaults": {
           "line": {
            "color": "#2a3f5f"
           }
          },
          "ternary": {
           "aaxis": {
            "gridcolor": "#DFE8F3",
            "linecolor": "#A2B1C6",
            "ticks": ""
           },
           "baxis": {
            "gridcolor": "#DFE8F3",
            "linecolor": "#A2B1C6",
            "ticks": ""
           },
           "bgcolor": "white",
           "caxis": {
            "gridcolor": "#DFE8F3",
            "linecolor": "#A2B1C6",
            "ticks": ""
           }
          },
          "title": {
           "x": 0.05
          },
          "xaxis": {
           "automargin": true,
           "gridcolor": "#EBF0F8",
           "linecolor": "#EBF0F8",
           "ticks": "",
           "title": {
            "standoff": 15
           },
           "zerolinecolor": "#EBF0F8",
           "zerolinewidth": 2
          },
          "yaxis": {
           "automargin": true,
           "gridcolor": "#EBF0F8",
           "linecolor": "#EBF0F8",
           "ticks": "",
           "title": {
            "standoff": 15
           },
           "zerolinecolor": "#EBF0F8",
           "zerolinewidth": 2
          }
         }
        },
        "title": {
         "text": "Round 100"
        },
        "xaxis": {
         "tickmode": "array",
         "ticktext": [
          "0",
          "1",
          "2",
          "3",
          "4",
          "5",
          "6",
          "7",
          "8",
          "9",
          "10",
          "11",
          "12",
          "13",
          "14",
          "15",
          "16",
          "17",
          "18",
          "19",
          "20",
          "21",
          "22",
          "23",
          "24",
          "25",
          "26",
          "27",
          "28",
          "29",
          "30",
          "31",
          "32",
          "33",
          "34",
          "35",
          "36",
          "37",
          "38",
          "39",
          "40",
          "41",
          "42",
          "43",
          "44",
          "45",
          "46",
          "47",
          "48",
          "49",
          "50",
          "51",
          "52",
          "53",
          "54",
          "55",
          "56",
          "57",
          "58",
          "59",
          "60",
          "61",
          "62",
          "63",
          "64",
          "65",
          "66",
          "67",
          "68",
          "69",
          "70",
          "71",
          "72",
          "73",
          "74",
          "75",
          "76",
          "77",
          "78",
          "79"
         ],
         "tickvals": {
          "bdata": "AAECAwQFBgcICQoLDA0ODxAREhMUFRYXGBkaGxwdHh8gISIjJCUmJygpKissLS4vMDEyMzQ1Njc4OTo7PD0+P0BBQkNERUZHSElKS0xNTk8=",
          "dtype": "i1"
         },
         "title": {
          "text": "Action ID"
         }
        },
        "yaxis": {
         "title": {
          "text": "Value"
         }
        }
       }
      }
     },
     "metadata": {},
     "output_type": "display_data"
    },
    {
     "data": {
      "application/vnd.plotly.v1+json": {
       "config": {
        "plotlyServerURL": "https://plot.ly"
       },
       "data": [
        {
         "name": "Empirical CTR",
         "type": "bar",
         "x": {
          "bdata": "AAECAwQFBgcICQoLDA0ODxAREhMUFRYXGBkaGxwdHh8gISIjJCUmJygpKissLS4vMDEyMzQ1Njc4OTo7PD0+P0BBQkNERUZHSElKS0xNTk8=",
          "dtype": "i1"
         },
         "y": {
          "bdata": "AAAAAAAAAACamZmZmZl5PwAAAAAAAAAAEARBEARBgD8AAAAAAAAAAAAAAAAAAAAAcUJKnmVEjz/gwIEDBw58PzQsuFS2d30/EARBEARBgD8AAAAAAAAAAAAAAAAAAAAAAAAAAAAAAAAAAAAAAAAAAAAAAAAAAAAAAAAAAAAAAAAAAAAAAAAAAKcQaAqBpoA/Ecg1Ecg1kT8AAAAAAAAAAAAAAAAAAAAAZ7fwqzGRfj8AAAAAAAAAAAAAAAAAAAAAAAAAAAAAAABxQkqeZUR/PwAAAAAAAAAAAAAAAAAAAAAQBEEQBEGAPwAAAAAAAAAAAAAAAAAAAAAAAAAAAAAAAAAAAAAAAAAAAAAAAAAAAAB05QHJOld+PwAAAAAAAAAAO9q8T3HJkD8AAAAAAAAAADvavE9xyYA/AAAAAAAAAAAAAAAAAAAAAB4eHh4eHn4/AAAAAAAAAAAAAAAAAAAAAB4eHh4eHo4/Z7fwqzGRfj++Y2pg75h6P5Z7GmG5p4E/HYGirQbPgT8or6G8hvKaPx4eHh4eHn4/AAAAAAAAAAAAAAAAAAAAABQ4gRM4gZM/AAAAAAAAAAAAAAAAAAAAAAAAAAAAAAAAizPaPWx9iz+SJEmSJEmSPwAAAAAAAAAAAAAAAAAAAAAUO7ETO7GDPwAAAAAAAAAAAAAAAAAAAAAAAAAAAAAAAJCc5mv17IA/AAAAAAAAAAAAAAAAAAAAAAAAAAAAAAAA/Knx0k1igD8AAAAAAAAAABAEQRAEQYA/AAAAAAAAAAAAAAAAAAAAAAAAAAAAAAAAAAAAAAAAAAAAAAAAAAAAAAAAAAAAAAAAAAAAAAAAAAAAAAAAAAAAAA==",
          "dtype": "f8"
         }
        },
        {
         "name": "TS selection freq over 1,000 rounds",
         "type": "bar",
         "x": {
          "bdata": "AAECAwQFBgcICQoLDA0ODxAREhMUFRYXGBkaGxwdHh8gISIjJCUmJygpKissLS4vMDEyMzQ1Njc4OTo7PD0+P0BBQkNERUZHSElKS0xNTk8=",
          "dtype": "i1"
         },
         "y": {
          "bdata": "eekmMQisjD85tMh2vp+KP/p+arx0k4g/WmQ730+Nlz85tMh2vp+KPzm0yHa+n4o/eekmMQisjD85tMh2vp+KP/p+arx0k4g/ObTIdr6fij956SYxCKyMP/p+arx0k4g/+n5qvHSTiD85tMh2vp+KP3npJjEIrIw/+n5qvHSTiD956SYxCKyMP/p+arx0k4g/ukkMAiuHhj85tMh2vp+KPzvfT42XboI/+n5qvHSTiD85tMh2vp+KP/p+arx0k4g/+n5qvHSTiD+6SQwCK4eGP3sUrkfheoQ/+n5qvHSTiD85tMh2vp+KP3sUrkfheoQ/exSuR+F6hD97FK5H4XqEP/p+arx0k4g/ukkMAiuHhj/6fmq8dJOIPzm0yHa+n4o/+n5qvHSTiD/6fmq8dJOIP7pJDAIrh4Y/uB6F61G4jj85tMh2vp+KP/p+arx0k4g/+n5qvHSTiD85tMh2vp+KP3sUrkfheoQ/eekmMQisjD85tMh2vp+KP7gehetRuI4/+n5qvHSTiD+6SQwCK4eGP/p+arx0k4g/ObTIdr6fij97FK5H4XqEP7gehetRuI4/+n5qvHSTiD85tMh2vp+KP/p+arx0k4g/ukkMAiuHhj956SYxCKyMP/p+arx0k4g/ObTIdr6fij85tMh2vp+KP7pJDAIrh4Y/+n5qvHSTiD85tMh2vp+KP7pJDAIrh4Y/ObTIdr6fij/6fmq8dJOIPzm0yHa+n4o/uB6F61G4jj/6fmq8dJOIP7pJDAIrh4Y/+n5qvHSTiD+6SQwCK4eGP7gehetRuI4/+n5qvHSTiD956SYxCKyMPzm0yHa+n4o/ObTIdr6fij85tMh2vp+KPw==",
          "dtype": "f8"
         }
        }
       ],
       "layout": {
        "barmode": "group",
        "template": {
         "data": {
          "bar": [
           {
            "error_x": {
             "color": "#2a3f5f"
            },
            "error_y": {
             "color": "#2a3f5f"
            },
            "marker": {
             "line": {
              "color": "white",
              "width": 0.5
             },
             "pattern": {
              "fillmode": "overlay",
              "size": 10,
              "solidity": 0.2
             }
            },
            "type": "bar"
           }
          ],
          "barpolar": [
           {
            "marker": {
             "line": {
              "color": "white",
              "width": 0.5
             },
             "pattern": {
              "fillmode": "overlay",
              "size": 10,
              "solidity": 0.2
             }
            },
            "type": "barpolar"
           }
          ],
          "carpet": [
           {
            "aaxis": {
             "endlinecolor": "#2a3f5f",
             "gridcolor": "#C8D4E3",
             "linecolor": "#C8D4E3",
             "minorgridcolor": "#C8D4E3",
             "startlinecolor": "#2a3f5f"
            },
            "baxis": {
             "endlinecolor": "#2a3f5f",
             "gridcolor": "#C8D4E3",
             "linecolor": "#C8D4E3",
             "minorgridcolor": "#C8D4E3",
             "startlinecolor": "#2a3f5f"
            },
            "type": "carpet"
           }
          ],
          "choropleth": [
           {
            "colorbar": {
             "outlinewidth": 0,
             "ticks": ""
            },
            "type": "choropleth"
           }
          ],
          "contour": [
           {
            "colorbar": {
             "outlinewidth": 0,
             "ticks": ""
            },
            "colorscale": [
             [
              0,
              "#0d0887"
             ],
             [
              0.1111111111111111,
              "#46039f"
             ],
             [
              0.2222222222222222,
              "#7201a8"
             ],
             [
              0.3333333333333333,
              "#9c179e"
             ],
             [
              0.4444444444444444,
              "#bd3786"
             ],
             [
              0.5555555555555556,
              "#d8576b"
             ],
             [
              0.6666666666666666,
              "#ed7953"
             ],
             [
              0.7777777777777778,
              "#fb9f3a"
             ],
             [
              0.8888888888888888,
              "#fdca26"
             ],
             [
              1,
              "#f0f921"
             ]
            ],
            "type": "contour"
           }
          ],
          "contourcarpet": [
           {
            "colorbar": {
             "outlinewidth": 0,
             "ticks": ""
            },
            "type": "contourcarpet"
           }
          ],
          "heatmap": [
           {
            "colorbar": {
             "outlinewidth": 0,
             "ticks": ""
            },
            "colorscale": [
             [
              0,
              "#0d0887"
             ],
             [
              0.1111111111111111,
              "#46039f"
             ],
             [
              0.2222222222222222,
              "#7201a8"
             ],
             [
              0.3333333333333333,
              "#9c179e"
             ],
             [
              0.4444444444444444,
              "#bd3786"
             ],
             [
              0.5555555555555556,
              "#d8576b"
             ],
             [
              0.6666666666666666,
              "#ed7953"
             ],
             [
              0.7777777777777778,
              "#fb9f3a"
             ],
             [
              0.8888888888888888,
              "#fdca26"
             ],
             [
              1,
              "#f0f921"
             ]
            ],
            "type": "heatmap"
           }
          ],
          "histogram": [
           {
            "marker": {
             "pattern": {
              "fillmode": "overlay",
              "size": 10,
              "solidity": 0.2
             }
            },
            "type": "histogram"
           }
          ],
          "histogram2d": [
           {
            "colorbar": {
             "outlinewidth": 0,
             "ticks": ""
            },
            "colorscale": [
             [
              0,
              "#0d0887"
             ],
             [
              0.1111111111111111,
              "#46039f"
             ],
             [
              0.2222222222222222,
              "#7201a8"
             ],
             [
              0.3333333333333333,
              "#9c179e"
             ],
             [
              0.4444444444444444,
              "#bd3786"
             ],
             [
              0.5555555555555556,
              "#d8576b"
             ],
             [
              0.6666666666666666,
              "#ed7953"
             ],
             [
              0.7777777777777778,
              "#fb9f3a"
             ],
             [
              0.8888888888888888,
              "#fdca26"
             ],
             [
              1,
              "#f0f921"
             ]
            ],
            "type": "histogram2d"
           }
          ],
          "histogram2dcontour": [
           {
            "colorbar": {
             "outlinewidth": 0,
             "ticks": ""
            },
            "colorscale": [
             [
              0,
              "#0d0887"
             ],
             [
              0.1111111111111111,
              "#46039f"
             ],
             [
              0.2222222222222222,
              "#7201a8"
             ],
             [
              0.3333333333333333,
              "#9c179e"
             ],
             [
              0.4444444444444444,
              "#bd3786"
             ],
             [
              0.5555555555555556,
              "#d8576b"
             ],
             [
              0.6666666666666666,
              "#ed7953"
             ],
             [
              0.7777777777777778,
              "#fb9f3a"
             ],
             [
              0.8888888888888888,
              "#fdca26"
             ],
             [
              1,
              "#f0f921"
             ]
            ],
            "type": "histogram2dcontour"
           }
          ],
          "mesh3d": [
           {
            "colorbar": {
             "outlinewidth": 0,
             "ticks": ""
            },
            "type": "mesh3d"
           }
          ],
          "parcoords": [
           {
            "line": {
             "colorbar": {
              "outlinewidth": 0,
              "ticks": ""
             }
            },
            "type": "parcoords"
           }
          ],
          "pie": [
           {
            "automargin": true,
            "type": "pie"
           }
          ],
          "scatter": [
           {
            "fillpattern": {
             "fillmode": "overlay",
             "size": 10,
             "solidity": 0.2
            },
            "type": "scatter"
           }
          ],
          "scatter3d": [
           {
            "line": {
             "colorbar": {
              "outlinewidth": 0,
              "ticks": ""
             }
            },
            "marker": {
             "colorbar": {
              "outlinewidth": 0,
              "ticks": ""
             }
            },
            "type": "scatter3d"
           }
          ],
          "scattercarpet": [
           {
            "marker": {
             "colorbar": {
              "outlinewidth": 0,
              "ticks": ""
             }
            },
            "type": "scattercarpet"
           }
          ],
          "scattergeo": [
           {
            "marker": {
             "colorbar": {
              "outlinewidth": 0,
              "ticks": ""
             }
            },
            "type": "scattergeo"
           }
          ],
          "scattergl": [
           {
            "marker": {
             "colorbar": {
              "outlinewidth": 0,
              "ticks": ""
             }
            },
            "type": "scattergl"
           }
          ],
          "scattermap": [
           {
            "marker": {
             "colorbar": {
              "outlinewidth": 0,
              "ticks": ""
             }
            },
            "type": "scattermap"
           }
          ],
          "scattermapbox": [
           {
            "marker": {
             "colorbar": {
              "outlinewidth": 0,
              "ticks": ""
             }
            },
            "type": "scattermapbox"
           }
          ],
          "scatterpolar": [
           {
            "marker": {
             "colorbar": {
              "outlinewidth": 0,
              "ticks": ""
             }
            },
            "type": "scatterpolar"
           }
          ],
          "scatterpolargl": [
           {
            "marker": {
             "colorbar": {
              "outlinewidth": 0,
              "ticks": ""
             }
            },
            "type": "scatterpolargl"
           }
          ],
          "scatterternary": [
           {
            "marker": {
             "colorbar": {
              "outlinewidth": 0,
              "ticks": ""
             }
            },
            "type": "scatterternary"
           }
          ],
          "surface": [
           {
            "colorbar": {
             "outlinewidth": 0,
             "ticks": ""
            },
            "colorscale": [
             [
              0,
              "#0d0887"
             ],
             [
              0.1111111111111111,
              "#46039f"
             ],
             [
              0.2222222222222222,
              "#7201a8"
             ],
             [
              0.3333333333333333,
              "#9c179e"
             ],
             [
              0.4444444444444444,
              "#bd3786"
             ],
             [
              0.5555555555555556,
              "#d8576b"
             ],
             [
              0.6666666666666666,
              "#ed7953"
             ],
             [
              0.7777777777777778,
              "#fb9f3a"
             ],
             [
              0.8888888888888888,
              "#fdca26"
             ],
             [
              1,
              "#f0f921"
             ]
            ],
            "type": "surface"
           }
          ],
          "table": [
           {
            "cells": {
             "fill": {
              "color": "#EBF0F8"
             },
             "line": {
              "color": "white"
             }
            },
            "header": {
             "fill": {
              "color": "#C8D4E3"
             },
             "line": {
              "color": "white"
             }
            },
            "type": "table"
           }
          ]
         },
         "layout": {
          "annotationdefaults": {
           "arrowcolor": "#2a3f5f",
           "arrowhead": 0,
           "arrowwidth": 1
          },
          "autotypenumbers": "strict",
          "coloraxis": {
           "colorbar": {
            "outlinewidth": 0,
            "ticks": ""
           }
          },
          "colorscale": {
           "diverging": [
            [
             0,
             "#8e0152"
            ],
            [
             0.1,
             "#c51b7d"
            ],
            [
             0.2,
             "#de77ae"
            ],
            [
             0.3,
             "#f1b6da"
            ],
            [
             0.4,
             "#fde0ef"
            ],
            [
             0.5,
             "#f7f7f7"
            ],
            [
             0.6,
             "#e6f5d0"
            ],
            [
             0.7,
             "#b8e186"
            ],
            [
             0.8,
             "#7fbc41"
            ],
            [
             0.9,
             "#4d9221"
            ],
            [
             1,
             "#276419"
            ]
           ],
           "sequential": [
            [
             0,
             "#0d0887"
            ],
            [
             0.1111111111111111,
             "#46039f"
            ],
            [
             0.2222222222222222,
             "#7201a8"
            ],
            [
             0.3333333333333333,
             "#9c179e"
            ],
            [
             0.4444444444444444,
             "#bd3786"
            ],
            [
             0.5555555555555556,
             "#d8576b"
            ],
            [
             0.6666666666666666,
             "#ed7953"
            ],
            [
             0.7777777777777778,
             "#fb9f3a"
            ],
            [
             0.8888888888888888,
             "#fdca26"
            ],
            [
             1,
             "#f0f921"
            ]
           ],
           "sequentialminus": [
            [
             0,
             "#0d0887"
            ],
            [
             0.1111111111111111,
             "#46039f"
            ],
            [
             0.2222222222222222,
             "#7201a8"
            ],
            [
             0.3333333333333333,
             "#9c179e"
            ],
            [
             0.4444444444444444,
             "#bd3786"
            ],
            [
             0.5555555555555556,
             "#d8576b"
            ],
            [
             0.6666666666666666,
             "#ed7953"
            ],
            [
             0.7777777777777778,
             "#fb9f3a"
            ],
            [
             0.8888888888888888,
             "#fdca26"
            ],
            [
             1,
             "#f0f921"
            ]
           ]
          },
          "colorway": [
           "#636efa",
           "#EF553B",
           "#00cc96",
           "#ab63fa",
           "#FFA15A",
           "#19d3f3",
           "#FF6692",
           "#B6E880",
           "#FF97FF",
           "#FECB52"
          ],
          "font": {
           "color": "#2a3f5f"
          },
          "geo": {
           "bgcolor": "white",
           "lakecolor": "white",
           "landcolor": "white",
           "showlakes": true,
           "showland": true,
           "subunitcolor": "#C8D4E3"
          },
          "hoverlabel": {
           "align": "left"
          },
          "hovermode": "closest",
          "mapbox": {
           "style": "light"
          },
          "paper_bgcolor": "white",
          "plot_bgcolor": "white",
          "polar": {
           "angularaxis": {
            "gridcolor": "#EBF0F8",
            "linecolor": "#EBF0F8",
            "ticks": ""
           },
           "bgcolor": "white",
           "radialaxis": {
            "gridcolor": "#EBF0F8",
            "linecolor": "#EBF0F8",
            "ticks": ""
           }
          },
          "scene": {
           "xaxis": {
            "backgroundcolor": "white",
            "gridcolor": "#DFE8F3",
            "gridwidth": 2,
            "linecolor": "#EBF0F8",
            "showbackground": true,
            "ticks": "",
            "zerolinecolor": "#EBF0F8"
           },
           "yaxis": {
            "backgroundcolor": "white",
            "gridcolor": "#DFE8F3",
            "gridwidth": 2,
            "linecolor": "#EBF0F8",
            "showbackground": true,
            "ticks": "",
            "zerolinecolor": "#EBF0F8"
           },
           "zaxis": {
            "backgroundcolor": "white",
            "gridcolor": "#DFE8F3",
            "gridwidth": 2,
            "linecolor": "#EBF0F8",
            "showbackground": true,
            "ticks": "",
            "zerolinecolor": "#EBF0F8"
           }
          },
          "shapedefaults": {
           "line": {
            "color": "#2a3f5f"
           }
          },
          "ternary": {
           "aaxis": {
            "gridcolor": "#DFE8F3",
            "linecolor": "#A2B1C6",
            "ticks": ""
           },
           "baxis": {
            "gridcolor": "#DFE8F3",
            "linecolor": "#A2B1C6",
            "ticks": ""
           },
           "bgcolor": "white",
           "caxis": {
            "gridcolor": "#DFE8F3",
            "linecolor": "#A2B1C6",
            "ticks": ""
           }
          },
          "title": {
           "x": 0.05
          },
          "xaxis": {
           "automargin": true,
           "gridcolor": "#EBF0F8",
           "linecolor": "#EBF0F8",
           "ticks": "",
           "title": {
            "standoff": 15
           },
           "zerolinecolor": "#EBF0F8",
           "zerolinewidth": 2
          },
          "yaxis": {
           "automargin": true,
           "gridcolor": "#EBF0F8",
           "linecolor": "#EBF0F8",
           "ticks": "",
           "title": {
            "standoff": 15
           },
           "zerolinecolor": "#EBF0F8",
           "zerolinewidth": 2
          }
         }
        },
        "title": {
         "text": "Round 1,000"
        },
        "xaxis": {
         "tickmode": "array",
         "ticktext": [
          "0",
          "1",
          "2",
          "3",
          "4",
          "5",
          "6",
          "7",
          "8",
          "9",
          "10",
          "11",
          "12",
          "13",
          "14",
          "15",
          "16",
          "17",
          "18",
          "19",
          "20",
          "21",
          "22",
          "23",
          "24",
          "25",
          "26",
          "27",
          "28",
          "29",
          "30",
          "31",
          "32",
          "33",
          "34",
          "35",
          "36",
          "37",
          "38",
          "39",
          "40",
          "41",
          "42",
          "43",
          "44",
          "45",
          "46",
          "47",
          "48",
          "49",
          "50",
          "51",
          "52",
          "53",
          "54",
          "55",
          "56",
          "57",
          "58",
          "59",
          "60",
          "61",
          "62",
          "63",
          "64",
          "65",
          "66",
          "67",
          "68",
          "69",
          "70",
          "71",
          "72",
          "73",
          "74",
          "75",
          "76",
          "77",
          "78",
          "79"
         ],
         "tickvals": {
          "bdata": "AAECAwQFBgcICQoLDA0ODxAREhMUFRYXGBkaGxwdHh8gISIjJCUmJygpKissLS4vMDEyMzQ1Njc4OTo7PD0+P0BBQkNERUZHSElKS0xNTk8=",
          "dtype": "i1"
         },
         "title": {
          "text": "Action ID"
         }
        },
        "yaxis": {
         "title": {
          "text": "Value"
         }
        }
       }
      }
     },
     "metadata": {},
     "output_type": "display_data"
    },
    {
     "data": {
      "application/vnd.plotly.v1+json": {
       "config": {
        "plotlyServerURL": "https://plot.ly"
       },
       "data": [
        {
         "name": "Empirical CTR",
         "type": "bar",
         "x": {
          "bdata": "AAECAwQFBgcICQoLDA0ODxAREhMUFRYXGBkaGxwdHh8gISIjJCUmJygpKissLS4vMDEyMzQ1Njc4OTo7PD0+P0BBQkNERUZHSElKS0xNTk8=",
          "dtype": "i1"
         },
         "y": {
          "bdata": "AAAAAAAAAACamZmZmZl5PwAAAAAAAAAAEARBEARBgD8AAAAAAAAAAAAAAAAAAAAAcUJKnmVEjz/gwIEDBw58PzQsuFS2d30/EARBEARBgD8AAAAAAAAAAAAAAAAAAAAAAAAAAAAAAAAAAAAAAAAAAAAAAAAAAAAAAAAAAAAAAAAAAAAAAAAAAKcQaAqBpoA/Ecg1Ecg1kT8AAAAAAAAAAAAAAAAAAAAAZ7fwqzGRfj8AAAAAAAAAAAAAAAAAAAAAAAAAAAAAAABxQkqeZUR/PwAAAAAAAAAAAAAAAAAAAAAQBEEQBEGAPwAAAAAAAAAAAAAAAAAAAAAAAAAAAAAAAAAAAAAAAAAAAAAAAAAAAAB05QHJOld+PwAAAAAAAAAAO9q8T3HJkD8AAAAAAAAAADvavE9xyYA/AAAAAAAAAAAAAAAAAAAAAB4eHh4eHn4/AAAAAAAAAAAAAAAAAAAAAB4eHh4eHo4/Z7fwqzGRfj++Y2pg75h6P5Z7GmG5p4E/HYGirQbPgT8or6G8hvKaPx4eHh4eHn4/AAAAAAAAAAAAAAAAAAAAABQ4gRM4gZM/AAAAAAAAAAAAAAAAAAAAAAAAAAAAAAAAizPaPWx9iz+SJEmSJEmSPwAAAAAAAAAAAAAAAAAAAAAUO7ETO7GDPwAAAAAAAAAAAAAAAAAAAAAAAAAAAAAAAJCc5mv17IA/AAAAAAAAAAAAAAAAAAAAAAAAAAAAAAAA/Knx0k1igD8AAAAAAAAAABAEQRAEQYA/AAAAAAAAAAAAAAAAAAAAAAAAAAAAAAAAAAAAAAAAAAAAAAAAAAAAAAAAAAAAAAAAAAAAAAAAAAAAAAAAAAAAAA==",
          "dtype": "f8"
         }
        },
        {
         "name": "TS selection freq over 10,000 rounds",
         "type": "bar",
         "x": {
          "bdata": "AAECAwQFBgcICQoLDA0ODxAREhMUFRYXGBkaGxwdHh8gISIjJCUmJygpKissLS4vMDEyMzQ1Njc4OTo7PD0+P0BBQkNERUZHSElKS0xNTk8=",
          "dtype": "i1"
         },
         "y": {
          "bdata": "Gy/dJAaBhT+U9gZfmEyFPyegibDh6YU/m1Wfq63Ynz/HuriNBvCGP5T2Bl+YTIU/whcmUwWjkj9BguLHmLuGP+Y/pN++Dow/rK3YX3ZPjj+U9gZfmEyFP7pJDAIrh4Y/rthfdk8ehj80ETY8vVKGPw6+MJkqGIU/rthfdk8ehj+hZ7Pqc7WFPzQRNjy9UoY/EqW9wRcmkz+u2F92Tx6GP5T2Bl+YTIU/ukkMAiuHhj+u2F92Tx6GP6Fns+pztYU/AU2EDU+vhD+6SQwCK4eGPyegibDh6YU/AU2EDU+vhD9BguLHmLuGP6Fns+pztYU/exSuR+F6hD+hZ7Pqc7WFP3sUrkfheoQ/Dr4wmSoYhT8noImw4emFPw6+MJkqGIU/AU2EDU+vlD+U9gZfmEyFPw6+MJkqGIU/J6CJsOHphT80ETY8vVKGP8WPMXctIY8/J6CJsOHphT80ETY8vVKGPyegibDh6YU/MuauJeSDjj/CFyZTBaOSP8WPMXctIY8/dnEbDeAtkD+1pnnHKTqSP3KKjuTyH5I/x7q4jQbwhj+U9gZfmEyFPxNhw9MrZZk/TfOOU3Qkhz8OvjCZKhiFP4iFWtO844Q/gLdAguLHiD/D9Shcj8KlP6Fns+pztYU/Gy/dJAaBhT9uowG8BRKEP67YX3ZPHoY/J6CJsOHphT8OvjCZKhiFP6Fns+pztYU/bqMBvAUShD9N845TdCSHP03zjlN0JIc/zF1LyAc9iz8OvjCZKhiFP7WmeccpOpI/Gy/dJAaBhT+hZ7Pqc7WFP0GC4seYu4Y/NBE2PL1Shj8noImw4emFP4iFWtO844Q/Gy/dJAaBhT+U9gZfmEyFPw==",
          "dtype": "f8"
         }
        }
       ],
       "layout": {
        "barmode": "group",
        "template": {
         "data": {
          "bar": [
           {
            "error_x": {
             "color": "#2a3f5f"
            },
            "error_y": {
             "color": "#2a3f5f"
            },
            "marker": {
             "line": {
              "color": "white",
              "width": 0.5
             },
             "pattern": {
              "fillmode": "overlay",
              "size": 10,
              "solidity": 0.2
             }
            },
            "type": "bar"
           }
          ],
          "barpolar": [
           {
            "marker": {
             "line": {
              "color": "white",
              "width": 0.5
             },
             "pattern": {
              "fillmode": "overlay",
              "size": 10,
              "solidity": 0.2
             }
            },
            "type": "barpolar"
           }
          ],
          "carpet": [
           {
            "aaxis": {
             "endlinecolor": "#2a3f5f",
             "gridcolor": "#C8D4E3",
             "linecolor": "#C8D4E3",
             "minorgridcolor": "#C8D4E3",
             "startlinecolor": "#2a3f5f"
            },
            "baxis": {
             "endlinecolor": "#2a3f5f",
             "gridcolor": "#C8D4E3",
             "linecolor": "#C8D4E3",
             "minorgridcolor": "#C8D4E3",
             "startlinecolor": "#2a3f5f"
            },
            "type": "carpet"
           }
          ],
          "choropleth": [
           {
            "colorbar": {
             "outlinewidth": 0,
             "ticks": ""
            },
            "type": "choropleth"
           }
          ],
          "contour": [
           {
            "colorbar": {
             "outlinewidth": 0,
             "ticks": ""
            },
            "colorscale": [
             [
              0,
              "#0d0887"
             ],
             [
              0.1111111111111111,
              "#46039f"
             ],
             [
              0.2222222222222222,
              "#7201a8"
             ],
             [
              0.3333333333333333,
              "#9c179e"
             ],
             [
              0.4444444444444444,
              "#bd3786"
             ],
             [
              0.5555555555555556,
              "#d8576b"
             ],
             [
              0.6666666666666666,
              "#ed7953"
             ],
             [
              0.7777777777777778,
              "#fb9f3a"
             ],
             [
              0.8888888888888888,
              "#fdca26"
             ],
             [
              1,
              "#f0f921"
             ]
            ],
            "type": "contour"
           }
          ],
          "contourcarpet": [
           {
            "colorbar": {
             "outlinewidth": 0,
             "ticks": ""
            },
            "type": "contourcarpet"
           }
          ],
          "heatmap": [
           {
            "colorbar": {
             "outlinewidth": 0,
             "ticks": ""
            },
            "colorscale": [
             [
              0,
              "#0d0887"
             ],
             [
              0.1111111111111111,
              "#46039f"
             ],
             [
              0.2222222222222222,
              "#7201a8"
             ],
             [
              0.3333333333333333,
              "#9c179e"
             ],
             [
              0.4444444444444444,
              "#bd3786"
             ],
             [
              0.5555555555555556,
              "#d8576b"
             ],
             [
              0.6666666666666666,
              "#ed7953"
             ],
             [
              0.7777777777777778,
              "#fb9f3a"
             ],
             [
              0.8888888888888888,
              "#fdca26"
             ],
             [
              1,
              "#f0f921"
             ]
            ],
            "type": "heatmap"
           }
          ],
          "histogram": [
           {
            "marker": {
             "pattern": {
              "fillmode": "overlay",
              "size": 10,
              "solidity": 0.2
             }
            },
            "type": "histogram"
           }
          ],
          "histogram2d": [
           {
            "colorbar": {
             "outlinewidth": 0,
             "ticks": ""
            },
            "colorscale": [
             [
              0,
              "#0d0887"
             ],
             [
              0.1111111111111111,
              "#46039f"
             ],
             [
              0.2222222222222222,
              "#7201a8"
             ],
             [
              0.3333333333333333,
              "#9c179e"
             ],
             [
              0.4444444444444444,
              "#bd3786"
             ],
             [
              0.5555555555555556,
              "#d8576b"
             ],
             [
              0.6666666666666666,
              "#ed7953"
             ],
             [
              0.7777777777777778,
              "#fb9f3a"
             ],
             [
              0.8888888888888888,
              "#fdca26"
             ],
             [
              1,
              "#f0f921"
             ]
            ],
            "type": "histogram2d"
           }
          ],
          "histogram2dcontour": [
           {
            "colorbar": {
             "outlinewidth": 0,
             "ticks": ""
            },
            "colorscale": [
             [
              0,
              "#0d0887"
             ],
             [
              0.1111111111111111,
              "#46039f"
             ],
             [
              0.2222222222222222,
              "#7201a8"
             ],
             [
              0.3333333333333333,
              "#9c179e"
             ],
             [
              0.4444444444444444,
              "#bd3786"
             ],
             [
              0.5555555555555556,
              "#d8576b"
             ],
             [
              0.6666666666666666,
              "#ed7953"
             ],
             [
              0.7777777777777778,
              "#fb9f3a"
             ],
             [
              0.8888888888888888,
              "#fdca26"
             ],
             [
              1,
              "#f0f921"
             ]
            ],
            "type": "histogram2dcontour"
           }
          ],
          "mesh3d": [
           {
            "colorbar": {
             "outlinewidth": 0,
             "ticks": ""
            },
            "type": "mesh3d"
           }
          ],
          "parcoords": [
           {
            "line": {
             "colorbar": {
              "outlinewidth": 0,
              "ticks": ""
             }
            },
            "type": "parcoords"
           }
          ],
          "pie": [
           {
            "automargin": true,
            "type": "pie"
           }
          ],
          "scatter": [
           {
            "fillpattern": {
             "fillmode": "overlay",
             "size": 10,
             "solidity": 0.2
            },
            "type": "scatter"
           }
          ],
          "scatter3d": [
           {
            "line": {
             "colorbar": {
              "outlinewidth": 0,
              "ticks": ""
             }
            },
            "marker": {
             "colorbar": {
              "outlinewidth": 0,
              "ticks": ""
             }
            },
            "type": "scatter3d"
           }
          ],
          "scattercarpet": [
           {
            "marker": {
             "colorbar": {
              "outlinewidth": 0,
              "ticks": ""
             }
            },
            "type": "scattercarpet"
           }
          ],
          "scattergeo": [
           {
            "marker": {
             "colorbar": {
              "outlinewidth": 0,
              "ticks": ""
             }
            },
            "type": "scattergeo"
           }
          ],
          "scattergl": [
           {
            "marker": {
             "colorbar": {
              "outlinewidth": 0,
              "ticks": ""
             }
            },
            "type": "scattergl"
           }
          ],
          "scattermap": [
           {
            "marker": {
             "colorbar": {
              "outlinewidth": 0,
              "ticks": ""
             }
            },
            "type": "scattermap"
           }
          ],
          "scattermapbox": [
           {
            "marker": {
             "colorbar": {
              "outlinewidth": 0,
              "ticks": ""
             }
            },
            "type": "scattermapbox"
           }
          ],
          "scatterpolar": [
           {
            "marker": {
             "colorbar": {
              "outlinewidth": 0,
              "ticks": ""
             }
            },
            "type": "scatterpolar"
           }
          ],
          "scatterpolargl": [
           {
            "marker": {
             "colorbar": {
              "outlinewidth": 0,
              "ticks": ""
             }
            },
            "type": "scatterpolargl"
           }
          ],
          "scatterternary": [
           {
            "marker": {
             "colorbar": {
              "outlinewidth": 0,
              "ticks": ""
             }
            },
            "type": "scatterternary"
           }
          ],
          "surface": [
           {
            "colorbar": {
             "outlinewidth": 0,
             "ticks": ""
            },
            "colorscale": [
             [
              0,
              "#0d0887"
             ],
             [
              0.1111111111111111,
              "#46039f"
             ],
             [
              0.2222222222222222,
              "#7201a8"
             ],
             [
              0.3333333333333333,
              "#9c179e"
             ],
             [
              0.4444444444444444,
              "#bd3786"
             ],
             [
              0.5555555555555556,
              "#d8576b"
             ],
             [
              0.6666666666666666,
              "#ed7953"
             ],
             [
              0.7777777777777778,
              "#fb9f3a"
             ],
             [
              0.8888888888888888,
              "#fdca26"
             ],
             [
              1,
              "#f0f921"
             ]
            ],
            "type": "surface"
           }
          ],
          "table": [
           {
            "cells": {
             "fill": {
              "color": "#EBF0F8"
             },
             "line": {
              "color": "white"
             }
            },
            "header": {
             "fill": {
              "color": "#C8D4E3"
             },
             "line": {
              "color": "white"
             }
            },
            "type": "table"
           }
          ]
         },
         "layout": {
          "annotationdefaults": {
           "arrowcolor": "#2a3f5f",
           "arrowhead": 0,
           "arrowwidth": 1
          },
          "autotypenumbers": "strict",
          "coloraxis": {
           "colorbar": {
            "outlinewidth": 0,
            "ticks": ""
           }
          },
          "colorscale": {
           "diverging": [
            [
             0,
             "#8e0152"
            ],
            [
             0.1,
             "#c51b7d"
            ],
            [
             0.2,
             "#de77ae"
            ],
            [
             0.3,
             "#f1b6da"
            ],
            [
             0.4,
             "#fde0ef"
            ],
            [
             0.5,
             "#f7f7f7"
            ],
            [
             0.6,
             "#e6f5d0"
            ],
            [
             0.7,
             "#b8e186"
            ],
            [
             0.8,
             "#7fbc41"
            ],
            [
             0.9,
             "#4d9221"
            ],
            [
             1,
             "#276419"
            ]
           ],
           "sequential": [
            [
             0,
             "#0d0887"
            ],
            [
             0.1111111111111111,
             "#46039f"
            ],
            [
             0.2222222222222222,
             "#7201a8"
            ],
            [
             0.3333333333333333,
             "#9c179e"
            ],
            [
             0.4444444444444444,
             "#bd3786"
            ],
            [
             0.5555555555555556,
             "#d8576b"
            ],
            [
             0.6666666666666666,
             "#ed7953"
            ],
            [
             0.7777777777777778,
             "#fb9f3a"
            ],
            [
             0.8888888888888888,
             "#fdca26"
            ],
            [
             1,
             "#f0f921"
            ]
           ],
           "sequentialminus": [
            [
             0,
             "#0d0887"
            ],
            [
             0.1111111111111111,
             "#46039f"
            ],
            [
             0.2222222222222222,
             "#7201a8"
            ],
            [
             0.3333333333333333,
             "#9c179e"
            ],
            [
             0.4444444444444444,
             "#bd3786"
            ],
            [
             0.5555555555555556,
             "#d8576b"
            ],
            [
             0.6666666666666666,
             "#ed7953"
            ],
            [
             0.7777777777777778,
             "#fb9f3a"
            ],
            [
             0.8888888888888888,
             "#fdca26"
            ],
            [
             1,
             "#f0f921"
            ]
           ]
          },
          "colorway": [
           "#636efa",
           "#EF553B",
           "#00cc96",
           "#ab63fa",
           "#FFA15A",
           "#19d3f3",
           "#FF6692",
           "#B6E880",
           "#FF97FF",
           "#FECB52"
          ],
          "font": {
           "color": "#2a3f5f"
          },
          "geo": {
           "bgcolor": "white",
           "lakecolor": "white",
           "landcolor": "white",
           "showlakes": true,
           "showland": true,
           "subunitcolor": "#C8D4E3"
          },
          "hoverlabel": {
           "align": "left"
          },
          "hovermode": "closest",
          "mapbox": {
           "style": "light"
          },
          "paper_bgcolor": "white",
          "plot_bgcolor": "white",
          "polar": {
           "angularaxis": {
            "gridcolor": "#EBF0F8",
            "linecolor": "#EBF0F8",
            "ticks": ""
           },
           "bgcolor": "white",
           "radialaxis": {
            "gridcolor": "#EBF0F8",
            "linecolor": "#EBF0F8",
            "ticks": ""
           }
          },
          "scene": {
           "xaxis": {
            "backgroundcolor": "white",
            "gridcolor": "#DFE8F3",
            "gridwidth": 2,
            "linecolor": "#EBF0F8",
            "showbackground": true,
            "ticks": "",
            "zerolinecolor": "#EBF0F8"
           },
           "yaxis": {
            "backgroundcolor": "white",
            "gridcolor": "#DFE8F3",
            "gridwidth": 2,
            "linecolor": "#EBF0F8",
            "showbackground": true,
            "ticks": "",
            "zerolinecolor": "#EBF0F8"
           },
           "zaxis": {
            "backgroundcolor": "white",
            "gridcolor": "#DFE8F3",
            "gridwidth": 2,
            "linecolor": "#EBF0F8",
            "showbackground": true,
            "ticks": "",
            "zerolinecolor": "#EBF0F8"
           }
          },
          "shapedefaults": {
           "line": {
            "color": "#2a3f5f"
           }
          },
          "ternary": {
           "aaxis": {
            "gridcolor": "#DFE8F3",
            "linecolor": "#A2B1C6",
            "ticks": ""
           },
           "baxis": {
            "gridcolor": "#DFE8F3",
            "linecolor": "#A2B1C6",
            "ticks": ""
           },
           "bgcolor": "white",
           "caxis": {
            "gridcolor": "#DFE8F3",
            "linecolor": "#A2B1C6",
            "ticks": ""
           }
          },
          "title": {
           "x": 0.05
          },
          "xaxis": {
           "automargin": true,
           "gridcolor": "#EBF0F8",
           "linecolor": "#EBF0F8",
           "ticks": "",
           "title": {
            "standoff": 15
           },
           "zerolinecolor": "#EBF0F8",
           "zerolinewidth": 2
          },
          "yaxis": {
           "automargin": true,
           "gridcolor": "#EBF0F8",
           "linecolor": "#EBF0F8",
           "ticks": "",
           "title": {
            "standoff": 15
           },
           "zerolinecolor": "#EBF0F8",
           "zerolinewidth": 2
          }
         }
        },
        "title": {
         "text": "Round 10,000"
        },
        "xaxis": {
         "tickmode": "array",
         "ticktext": [
          "0",
          "1",
          "2",
          "3",
          "4",
          "5",
          "6",
          "7",
          "8",
          "9",
          "10",
          "11",
          "12",
          "13",
          "14",
          "15",
          "16",
          "17",
          "18",
          "19",
          "20",
          "21",
          "22",
          "23",
          "24",
          "25",
          "26",
          "27",
          "28",
          "29",
          "30",
          "31",
          "32",
          "33",
          "34",
          "35",
          "36",
          "37",
          "38",
          "39",
          "40",
          "41",
          "42",
          "43",
          "44",
          "45",
          "46",
          "47",
          "48",
          "49",
          "50",
          "51",
          "52",
          "53",
          "54",
          "55",
          "56",
          "57",
          "58",
          "59",
          "60",
          "61",
          "62",
          "63",
          "64",
          "65",
          "66",
          "67",
          "68",
          "69",
          "70",
          "71",
          "72",
          "73",
          "74",
          "75",
          "76",
          "77",
          "78",
          "79"
         ],
         "tickvals": {
          "bdata": "AAECAwQFBgcICQoLDA0ODxAREhMUFRYXGBkaGxwdHh8gISIjJCUmJygpKissLS4vMDEyMzQ1Njc4OTo7PD0+P0BBQkNERUZHSElKS0xNTk8=",
          "dtype": "i1"
         },
         "title": {
          "text": "Action ID"
         }
        },
        "yaxis": {
         "title": {
          "text": "Value"
         }
        }
       }
      }
     },
     "metadata": {},
     "output_type": "display_data"
    },
    {
     "data": {
      "application/vnd.plotly.v1+json": {
       "config": {
        "plotlyServerURL": "https://plot.ly"
       },
       "data": [
        {
         "name": "Empirical CTR",
         "type": "bar",
         "x": {
          "bdata": "AAECAwQFBgcICQoLDA0ODxAREhMUFRYXGBkaGxwdHh8gISIjJCUmJygpKissLS4vMDEyMzQ1Njc4OTo7PD0+P0BBQkNERUZHSElKS0xNTk8=",
          "dtype": "i1"
         },
         "y": {
          "bdata": "AAAAAAAAAACamZmZmZl5PwAAAAAAAAAAEARBEARBgD8AAAAAAAAAAAAAAAAAAAAAcUJKnmVEjz/gwIEDBw58PzQsuFS2d30/EARBEARBgD8AAAAAAAAAAAAAAAAAAAAAAAAAAAAAAAAAAAAAAAAAAAAAAAAAAAAAAAAAAAAAAAAAAAAAAAAAAKcQaAqBpoA/Ecg1Ecg1kT8AAAAAAAAAAAAAAAAAAAAAZ7fwqzGRfj8AAAAAAAAAAAAAAAAAAAAAAAAAAAAAAABxQkqeZUR/PwAAAAAAAAAAAAAAAAAAAAAQBEEQBEGAPwAAAAAAAAAAAAAAAAAAAAAAAAAAAAAAAAAAAAAAAAAAAAAAAAAAAAB05QHJOld+PwAAAAAAAAAAO9q8T3HJkD8AAAAAAAAAADvavE9xyYA/AAAAAAAAAAAAAAAAAAAAAB4eHh4eHn4/AAAAAAAAAAAAAAAAAAAAAB4eHh4eHo4/Z7fwqzGRfj++Y2pg75h6P5Z7GmG5p4E/HYGirQbPgT8or6G8hvKaPx4eHh4eHn4/AAAAAAAAAAAAAAAAAAAAABQ4gRM4gZM/AAAAAAAAAAAAAAAAAAAAAAAAAAAAAAAAizPaPWx9iz+SJEmSJEmSPwAAAAAAAAAAAAAAAAAAAAAUO7ETO7GDPwAAAAAAAAAAAAAAAAAAAAAAAAAAAAAAAJCc5mv17IA/AAAAAAAAAAAAAAAAAAAAAAAAAAAAAAAA/Knx0k1igD8AAAAAAAAAABAEQRAEQYA/AAAAAAAAAAAAAAAAAAAAAAAAAAAAAAAAAAAAAAAAAAAAAAAAAAAAAAAAAAAAAAAAAAAAAAAAAAAAAAAAAAAAAA==",
          "dtype": "f8"
         }
        },
        {
         "name": "TS selection freq over 100,000 rounds",
         "type": "bar",
         "x": {
          "bdata": "AAECAwQFBgcICQoLDA0ODxAREhMUFRYXGBkaGxwdHh8gISIjJCUmJygpKissLS4vMDEyMzQ1Njc4OTo7PD0+P0BBQkNERUZHSElKS0xNTk8=",
          "dtype": "i1"
         },
         "y": {
          "bdata": "Cks8oGzKZT8z4Zf6eVNxP0X11sBWCWY/9MMI4dHGgT8jLZW3I5xmP4CfceFASGY/QN6rVib8gj9fB84ZUdprPx4Wak3zjoM/Ykok0csodj9zLsVVZd9lPwpLPKBsymU/cy7FVWXfZT9F9dbAVglmP8+goX+Ci2U/RfXWwFYJZj+U9gZfmExlP63AkNWtnnM/Mc7fhEIEjD8XvOgrSDNmP8+goX+Ci2U/j1N0JJf/cD8jLZW3I5xmP67YX3ZPHmY/rthfdk8eZj/xaOOItfiEP67YX3ZPHmY/RfXWwFYJZj+YaftXVpqEP3MuxVVl32U/rthfdk8eZj/cEU4LXvRlP3MuxVVl32U/Cks8oGzKZT8DlfHvMy5sP0X11sBWCWY/TfOOU3Qkdz9F9dbAVglmP8H/VrJjI3A/F7zoK0gzZj+u2F92Tx5mPxWMSuoENHE/z6Chf4KLZT9e1y/YDdtmPwd8fhghPIo/0gDeAgmKbz/lJ9U+HY95P0qYaftXVno/3CkdrP9zeD86QDBHj9/jP63AkNWtnnM/cy7FVWXfZT84hCo1e6BlPzj4wmSqYKQ/RfXWwFYJZj+hZ7Pqc7VlP/3ZjxSRYWU/hBJm2v6VdT/7OnDOiNKePwpLPKBsymU/gJ9x4UBIZj/I6lbPSe9rP9wRTgte9GU/Xtcv2A3bZj9RZoNMMnJmPxWMSuoENIE/F7zoK0gzZj9zLsVVZd9lP3MuxVVl32U/fuNrzywJgD+MEB5tHLFmP9RDNLqD2Hk/OIQqNXugZT9RZoNMMnJmPxe86CtIM2Y/Cks8oGzKZT/ogvqWOV1mP67YX3ZPHmY//dmPFJFhZT/cEU4LXvRlPw==",
          "dtype": "f8"
         }
        }
       ],
       "layout": {
        "barmode": "group",
        "template": {
         "data": {
          "bar": [
           {
            "error_x": {
             "color": "#2a3f5f"
            },
            "error_y": {
             "color": "#2a3f5f"
            },
            "marker": {
             "line": {
              "color": "white",
              "width": 0.5
             },
             "pattern": {
              "fillmode": "overlay",
              "size": 10,
              "solidity": 0.2
             }
            },
            "type": "bar"
           }
          ],
          "barpolar": [
           {
            "marker": {
             "line": {
              "color": "white",
              "width": 0.5
             },
             "pattern": {
              "fillmode": "overlay",
              "size": 10,
              "solidity": 0.2
             }
            },
            "type": "barpolar"
           }
          ],
          "carpet": [
           {
            "aaxis": {
             "endlinecolor": "#2a3f5f",
             "gridcolor": "#C8D4E3",
             "linecolor": "#C8D4E3",
             "minorgridcolor": "#C8D4E3",
             "startlinecolor": "#2a3f5f"
            },
            "baxis": {
             "endlinecolor": "#2a3f5f",
             "gridcolor": "#C8D4E3",
             "linecolor": "#C8D4E3",
             "minorgridcolor": "#C8D4E3",
             "startlinecolor": "#2a3f5f"
            },
            "type": "carpet"
           }
          ],
          "choropleth": [
           {
            "colorbar": {
             "outlinewidth": 0,
             "ticks": ""
            },
            "type": "choropleth"
           }
          ],
          "contour": [
           {
            "colorbar": {
             "outlinewidth": 0,
             "ticks": ""
            },
            "colorscale": [
             [
              0,
              "#0d0887"
             ],
             [
              0.1111111111111111,
              "#46039f"
             ],
             [
              0.2222222222222222,
              "#7201a8"
             ],
             [
              0.3333333333333333,
              "#9c179e"
             ],
             [
              0.4444444444444444,
              "#bd3786"
             ],
             [
              0.5555555555555556,
              "#d8576b"
             ],
             [
              0.6666666666666666,
              "#ed7953"
             ],
             [
              0.7777777777777778,
              "#fb9f3a"
             ],
             [
              0.8888888888888888,
              "#fdca26"
             ],
             [
              1,
              "#f0f921"
             ]
            ],
            "type": "contour"
           }
          ],
          "contourcarpet": [
           {
            "colorbar": {
             "outlinewidth": 0,
             "ticks": ""
            },
            "type": "contourcarpet"
           }
          ],
          "heatmap": [
           {
            "colorbar": {
             "outlinewidth": 0,
             "ticks": ""
            },
            "colorscale": [
             [
              0,
              "#0d0887"
             ],
             [
              0.1111111111111111,
              "#46039f"
             ],
             [
              0.2222222222222222,
              "#7201a8"
             ],
             [
              0.3333333333333333,
              "#9c179e"
             ],
             [
              0.4444444444444444,
              "#bd3786"
             ],
             [
              0.5555555555555556,
              "#d8576b"
             ],
             [
              0.6666666666666666,
              "#ed7953"
             ],
             [
              0.7777777777777778,
              "#fb9f3a"
             ],
             [
              0.8888888888888888,
              "#fdca26"
             ],
             [
              1,
              "#f0f921"
             ]
            ],
            "type": "heatmap"
           }
          ],
          "histogram": [
           {
            "marker": {
             "pattern": {
              "fillmode": "overlay",
              "size": 10,
              "solidity": 0.2
             }
            },
            "type": "histogram"
           }
          ],
          "histogram2d": [
           {
            "colorbar": {
             "outlinewidth": 0,
             "ticks": ""
            },
            "colorscale": [
             [
              0,
              "#0d0887"
             ],
             [
              0.1111111111111111,
              "#46039f"
             ],
             [
              0.2222222222222222,
              "#7201a8"
             ],
             [
              0.3333333333333333,
              "#9c179e"
             ],
             [
              0.4444444444444444,
              "#bd3786"
             ],
             [
              0.5555555555555556,
              "#d8576b"
             ],
             [
              0.6666666666666666,
              "#ed7953"
             ],
             [
              0.7777777777777778,
              "#fb9f3a"
             ],
             [
              0.8888888888888888,
              "#fdca26"
             ],
             [
              1,
              "#f0f921"
             ]
            ],
            "type": "histogram2d"
           }
          ],
          "histogram2dcontour": [
           {
            "colorbar": {
             "outlinewidth": 0,
             "ticks": ""
            },
            "colorscale": [
             [
              0,
              "#0d0887"
             ],
             [
              0.1111111111111111,
              "#46039f"
             ],
             [
              0.2222222222222222,
              "#7201a8"
             ],
             [
              0.3333333333333333,
              "#9c179e"
             ],
             [
              0.4444444444444444,
              "#bd3786"
             ],
             [
              0.5555555555555556,
              "#d8576b"
             ],
             [
              0.6666666666666666,
              "#ed7953"
             ],
             [
              0.7777777777777778,
              "#fb9f3a"
             ],
             [
              0.8888888888888888,
              "#fdca26"
             ],
             [
              1,
              "#f0f921"
             ]
            ],
            "type": "histogram2dcontour"
           }
          ],
          "mesh3d": [
           {
            "colorbar": {
             "outlinewidth": 0,
             "ticks": ""
            },
            "type": "mesh3d"
           }
          ],
          "parcoords": [
           {
            "line": {
             "colorbar": {
              "outlinewidth": 0,
              "ticks": ""
             }
            },
            "type": "parcoords"
           }
          ],
          "pie": [
           {
            "automargin": true,
            "type": "pie"
           }
          ],
          "scatter": [
           {
            "fillpattern": {
             "fillmode": "overlay",
             "size": 10,
             "solidity": 0.2
            },
            "type": "scatter"
           }
          ],
          "scatter3d": [
           {
            "line": {
             "colorbar": {
              "outlinewidth": 0,
              "ticks": ""
             }
            },
            "marker": {
             "colorbar": {
              "outlinewidth": 0,
              "ticks": ""
             }
            },
            "type": "scatter3d"
           }
          ],
          "scattercarpet": [
           {
            "marker": {
             "colorbar": {
              "outlinewidth": 0,
              "ticks": ""
             }
            },
            "type": "scattercarpet"
           }
          ],
          "scattergeo": [
           {
            "marker": {
             "colorbar": {
              "outlinewidth": 0,
              "ticks": ""
             }
            },
            "type": "scattergeo"
           }
          ],
          "scattergl": [
           {
            "marker": {
             "colorbar": {
              "outlinewidth": 0,
              "ticks": ""
             }
            },
            "type": "scattergl"
           }
          ],
          "scattermap": [
           {
            "marker": {
             "colorbar": {
              "outlinewidth": 0,
              "ticks": ""
             }
            },
            "type": "scattermap"
           }
          ],
          "scattermapbox": [
           {
            "marker": {
             "colorbar": {
              "outlinewidth": 0,
              "ticks": ""
             }
            },
            "type": "scattermapbox"
           }
          ],
          "scatterpolar": [
           {
            "marker": {
             "colorbar": {
              "outlinewidth": 0,
              "ticks": ""
             }
            },
            "type": "scatterpolar"
           }
          ],
          "scatterpolargl": [
           {
            "marker": {
             "colorbar": {
              "outlinewidth": 0,
              "ticks": ""
             }
            },
            "type": "scatterpolargl"
           }
          ],
          "scatterternary": [
           {
            "marker": {
             "colorbar": {
              "outlinewidth": 0,
              "ticks": ""
             }
            },
            "type": "scatterternary"
           }
          ],
          "surface": [
           {
            "colorbar": {
             "outlinewidth": 0,
             "ticks": ""
            },
            "colorscale": [
             [
              0,
              "#0d0887"
             ],
             [
              0.1111111111111111,
              "#46039f"
             ],
             [
              0.2222222222222222,
              "#7201a8"
             ],
             [
              0.3333333333333333,
              "#9c179e"
             ],
             [
              0.4444444444444444,
              "#bd3786"
             ],
             [
              0.5555555555555556,
              "#d8576b"
             ],
             [
              0.6666666666666666,
              "#ed7953"
             ],
             [
              0.7777777777777778,
              "#fb9f3a"
             ],
             [
              0.8888888888888888,
              "#fdca26"
             ],
             [
              1,
              "#f0f921"
             ]
            ],
            "type": "surface"
           }
          ],
          "table": [
           {
            "cells": {
             "fill": {
              "color": "#EBF0F8"
             },
             "line": {
              "color": "white"
             }
            },
            "header": {
             "fill": {
              "color": "#C8D4E3"
             },
             "line": {
              "color": "white"
             }
            },
            "type": "table"
           }
          ]
         },
         "layout": {
          "annotationdefaults": {
           "arrowcolor": "#2a3f5f",
           "arrowhead": 0,
           "arrowwidth": 1
          },
          "autotypenumbers": "strict",
          "coloraxis": {
           "colorbar": {
            "outlinewidth": 0,
            "ticks": ""
           }
          },
          "colorscale": {
           "diverging": [
            [
             0,
             "#8e0152"
            ],
            [
             0.1,
             "#c51b7d"
            ],
            [
             0.2,
             "#de77ae"
            ],
            [
             0.3,
             "#f1b6da"
            ],
            [
             0.4,
             "#fde0ef"
            ],
            [
             0.5,
             "#f7f7f7"
            ],
            [
             0.6,
             "#e6f5d0"
            ],
            [
             0.7,
             "#b8e186"
            ],
            [
             0.8,
             "#7fbc41"
            ],
            [
             0.9,
             "#4d9221"
            ],
            [
             1,
             "#276419"
            ]
           ],
           "sequential": [
            [
             0,
             "#0d0887"
            ],
            [
             0.1111111111111111,
             "#46039f"
            ],
            [
             0.2222222222222222,
             "#7201a8"
            ],
            [
             0.3333333333333333,
             "#9c179e"
            ],
            [
             0.4444444444444444,
             "#bd3786"
            ],
            [
             0.5555555555555556,
             "#d8576b"
            ],
            [
             0.6666666666666666,
             "#ed7953"
            ],
            [
             0.7777777777777778,
             "#fb9f3a"
            ],
            [
             0.8888888888888888,
             "#fdca26"
            ],
            [
             1,
             "#f0f921"
            ]
           ],
           "sequentialminus": [
            [
             0,
             "#0d0887"
            ],
            [
             0.1111111111111111,
             "#46039f"
            ],
            [
             0.2222222222222222,
             "#7201a8"
            ],
            [
             0.3333333333333333,
             "#9c179e"
            ],
            [
             0.4444444444444444,
             "#bd3786"
            ],
            [
             0.5555555555555556,
             "#d8576b"
            ],
            [
             0.6666666666666666,
             "#ed7953"
            ],
            [
             0.7777777777777778,
             "#fb9f3a"
            ],
            [
             0.8888888888888888,
             "#fdca26"
            ],
            [
             1,
             "#f0f921"
            ]
           ]
          },
          "colorway": [
           "#636efa",
           "#EF553B",
           "#00cc96",
           "#ab63fa",
           "#FFA15A",
           "#19d3f3",
           "#FF6692",
           "#B6E880",
           "#FF97FF",
           "#FECB52"
          ],
          "font": {
           "color": "#2a3f5f"
          },
          "geo": {
           "bgcolor": "white",
           "lakecolor": "white",
           "landcolor": "white",
           "showlakes": true,
           "showland": true,
           "subunitcolor": "#C8D4E3"
          },
          "hoverlabel": {
           "align": "left"
          },
          "hovermode": "closest",
          "mapbox": {
           "style": "light"
          },
          "paper_bgcolor": "white",
          "plot_bgcolor": "white",
          "polar": {
           "angularaxis": {
            "gridcolor": "#EBF0F8",
            "linecolor": "#EBF0F8",
            "ticks": ""
           },
           "bgcolor": "white",
           "radialaxis": {
            "gridcolor": "#EBF0F8",
            "linecolor": "#EBF0F8",
            "ticks": ""
           }
          },
          "scene": {
           "xaxis": {
            "backgroundcolor": "white",
            "gridcolor": "#DFE8F3",
            "gridwidth": 2,
            "linecolor": "#EBF0F8",
            "showbackground": true,
            "ticks": "",
            "zerolinecolor": "#EBF0F8"
           },
           "yaxis": {
            "backgroundcolor": "white",
            "gridcolor": "#DFE8F3",
            "gridwidth": 2,
            "linecolor": "#EBF0F8",
            "showbackground": true,
            "ticks": "",
            "zerolinecolor": "#EBF0F8"
           },
           "zaxis": {
            "backgroundcolor": "white",
            "gridcolor": "#DFE8F3",
            "gridwidth": 2,
            "linecolor": "#EBF0F8",
            "showbackground": true,
            "ticks": "",
            "zerolinecolor": "#EBF0F8"
           }
          },
          "shapedefaults": {
           "line": {
            "color": "#2a3f5f"
           }
          },
          "ternary": {
           "aaxis": {
            "gridcolor": "#DFE8F3",
            "linecolor": "#A2B1C6",
            "ticks": ""
           },
           "baxis": {
            "gridcolor": "#DFE8F3",
            "linecolor": "#A2B1C6",
            "ticks": ""
           },
           "bgcolor": "white",
           "caxis": {
            "gridcolor": "#DFE8F3",
            "linecolor": "#A2B1C6",
            "ticks": ""
           }
          },
          "title": {
           "x": 0.05
          },
          "xaxis": {
           "automargin": true,
           "gridcolor": "#EBF0F8",
           "linecolor": "#EBF0F8",
           "ticks": "",
           "title": {
            "standoff": 15
           },
           "zerolinecolor": "#EBF0F8",
           "zerolinewidth": 2
          },
          "yaxis": {
           "automargin": true,
           "gridcolor": "#EBF0F8",
           "linecolor": "#EBF0F8",
           "ticks": "",
           "title": {
            "standoff": 15
           },
           "zerolinecolor": "#EBF0F8",
           "zerolinewidth": 2
          }
         }
        },
        "title": {
         "text": "Round 100,000"
        },
        "xaxis": {
         "tickmode": "array",
         "ticktext": [
          "0",
          "1",
          "2",
          "3",
          "4",
          "5",
          "6",
          "7",
          "8",
          "9",
          "10",
          "11",
          "12",
          "13",
          "14",
          "15",
          "16",
          "17",
          "18",
          "19",
          "20",
          "21",
          "22",
          "23",
          "24",
          "25",
          "26",
          "27",
          "28",
          "29",
          "30",
          "31",
          "32",
          "33",
          "34",
          "35",
          "36",
          "37",
          "38",
          "39",
          "40",
          "41",
          "42",
          "43",
          "44",
          "45",
          "46",
          "47",
          "48",
          "49",
          "50",
          "51",
          "52",
          "53",
          "54",
          "55",
          "56",
          "57",
          "58",
          "59",
          "60",
          "61",
          "62",
          "63",
          "64",
          "65",
          "66",
          "67",
          "68",
          "69",
          "70",
          "71",
          "72",
          "73",
          "74",
          "75",
          "76",
          "77",
          "78",
          "79"
         ],
         "tickvals": {
          "bdata": "AAECAwQFBgcICQoLDA0ODxAREhMUFRYXGBkaGxwdHh8gISIjJCUmJygpKissLS4vMDEyMzQ1Njc4OTo7PD0+P0BBQkNERUZHSElKS0xNTk8=",
          "dtype": "i1"
         },
         "title": {
          "text": "Action ID"
         }
        },
        "yaxis": {
         "title": {
          "text": "Value"
         }
        }
       }
      }
     },
     "metadata": {},
     "output_type": "display_data"
    }
   ],
   "source": [
    "K = bf[\"n_actions\"]\n",
    "\n",
    "# 100 rounds\n",
    "fig100, res100 = run_ts_and_plot(df, n_actions=K, n_rounds=100,  seed=7, title=\"Round 100\")\n",
    "fig100.show()\n",
    "\n",
    "# 1,000 rounds\n",
    "fig1k, res1k = run_ts_and_plot(df, n_actions=K, n_rounds=1_000, seed=7, title=\"Round 1,000\")\n",
    "fig1k.show()\n",
    "\n",
    "# 10,000 rounds\n",
    "fig10k, res10k = run_ts_and_plot(df, n_actions=K, n_rounds=10_000, seed=7, title=\"Round 10,000\")\n",
    "fig10k.show()\n",
    "\n",
    "\n",
    "fig100k, res100k = run_ts_and_plot(df, n_actions=K, n_rounds=100_000, seed=7, title=\"Round 100,000\")\n",
    "fig100k.show()\n",
    "\n",
    "# 1,000,000 rounds (⚠️ slow; pure Python loop)\n",
    "# Consider 50k–200k if runtime is high.\n",
    "# fig1m, res1m = run_ts_and_plot(df, n_actions=K, n_rounds=1_000_000, seed=7, title=\"Round 1,000,000\")\n",
    "# fig1m.show()"
   ]
  },
  {
   "cell_type": "code",
   "execution_count": 15,
   "id": "cd19e2b0",
   "metadata": {},
   "outputs": [
    {
     "data": {
      "application/vnd.plotly.v1+json": {
       "config": {
        "plotlyServerURL": "https://plot.ly"
       },
       "data": [
        {
         "name": "Empirical CTR",
         "type": "bar",
         "x": {
          "bdata": "AAECAwQFBgcICQoLDA0ODxAREhMUFRYXGBkaGxwdHh8gISIjJCUmJygpKissLS4vMDEyMzQ1Njc4OTo7PD0+P0BBQkNERUZHSElKS0xNTk8=",
          "dtype": "i1"
         },
         "y": {
          "bdata": "AAAAAAAAAACamZmZmZl5PwAAAAAAAAAAEARBEARBgD8AAAAAAAAAAAAAAAAAAAAAcUJKnmVEjz/gwIEDBw58PzQsuFS2d30/EARBEARBgD8AAAAAAAAAAAAAAAAAAAAAAAAAAAAAAAAAAAAAAAAAAAAAAAAAAAAAAAAAAAAAAAAAAAAAAAAAAKcQaAqBpoA/Ecg1Ecg1kT8AAAAAAAAAAAAAAAAAAAAAZ7fwqzGRfj8AAAAAAAAAAAAAAAAAAAAAAAAAAAAAAABxQkqeZUR/PwAAAAAAAAAAAAAAAAAAAAAQBEEQBEGAPwAAAAAAAAAAAAAAAAAAAAAAAAAAAAAAAAAAAAAAAAAAAAAAAAAAAAB05QHJOld+PwAAAAAAAAAAO9q8T3HJkD8AAAAAAAAAADvavE9xyYA/AAAAAAAAAAAAAAAAAAAAAB4eHh4eHn4/AAAAAAAAAAAAAAAAAAAAAB4eHh4eHo4/Z7fwqzGRfj++Y2pg75h6P5Z7GmG5p4E/HYGirQbPgT8or6G8hvKaPx4eHh4eHn4/AAAAAAAAAAAAAAAAAAAAABQ4gRM4gZM/AAAAAAAAAAAAAAAAAAAAAAAAAAAAAAAAizPaPWx9iz+SJEmSJEmSPwAAAAAAAAAAAAAAAAAAAAAUO7ETO7GDPwAAAAAAAAAAAAAAAAAAAAAAAAAAAAAAAJCc5mv17IA/AAAAAAAAAAAAAAAAAAAAAAAAAAAAAAAA/Knx0k1igD8AAAAAAAAAABAEQRAEQYA/AAAAAAAAAAAAAAAAAAAAAAAAAAAAAAAAAAAAAAAAAAAAAAAAAAAAAAAAAAAAAAAAAAAAAAAAAAAAAAAAAAAAAA==",
          "dtype": "f8"
         }
        },
        {
         "name": "TS selection freq over 100,000 rounds",
         "type": "bar",
         "x": {
          "bdata": "AAECAwQFBgcICQoLDA0ODxAREhMUFRYXGBkaGxwdHh8gISIjJCUmJygpKissLS4vMDEyMzQ1Njc4OTo7PD0+P0BBQkNERUZHSElKS0xNTk8=",
          "dtype": "i1"
         },
         "y": {
          "bdata": "Cks8oGzKZT8z4Zf6eVNxP0X11sBWCWY/9MMI4dHGgT8jLZW3I5xmP4CfceFASGY/QN6rVib8gj9fB84ZUdprPx4Wak3zjoM/Ykok0csodj9zLsVVZd9lPwpLPKBsymU/cy7FVWXfZT9F9dbAVglmP8+goX+Ci2U/RfXWwFYJZj+U9gZfmExlP63AkNWtnnM/Mc7fhEIEjD8XvOgrSDNmP8+goX+Ci2U/j1N0JJf/cD8jLZW3I5xmP67YX3ZPHmY/rthfdk8eZj/xaOOItfiEP67YX3ZPHmY/RfXWwFYJZj+YaftXVpqEP3MuxVVl32U/rthfdk8eZj/cEU4LXvRlP3MuxVVl32U/Cks8oGzKZT8DlfHvMy5sP0X11sBWCWY/TfOOU3Qkdz9F9dbAVglmP8H/VrJjI3A/F7zoK0gzZj+u2F92Tx5mPxWMSuoENHE/z6Chf4KLZT9e1y/YDdtmPwd8fhghPIo/0gDeAgmKbz/lJ9U+HY95P0qYaftXVno/3CkdrP9zeD86QDBHj9/jP63AkNWtnnM/cy7FVWXfZT84hCo1e6BlPzj4wmSqYKQ/RfXWwFYJZj+hZ7Pqc7VlP/3ZjxSRYWU/hBJm2v6VdT/7OnDOiNKePwpLPKBsymU/gJ9x4UBIZj/I6lbPSe9rP9wRTgte9GU/Xtcv2A3bZj9RZoNMMnJmPxWMSuoENIE/F7zoK0gzZj9zLsVVZd9lP3MuxVVl32U/fuNrzywJgD+MEB5tHLFmP9RDNLqD2Hk/OIQqNXugZT9RZoNMMnJmPxe86CtIM2Y/Cks8oGzKZT/ogvqWOV1mP67YX3ZPHmY//dmPFJFhZT/cEU4LXvRlPw==",
          "dtype": "f8"
         }
        }
       ],
       "layout": {
        "barmode": "group",
        "template": {
         "data": {
          "bar": [
           {
            "error_x": {
             "color": "#2a3f5f"
            },
            "error_y": {
             "color": "#2a3f5f"
            },
            "marker": {
             "line": {
              "color": "white",
              "width": 0.5
             },
             "pattern": {
              "fillmode": "overlay",
              "size": 10,
              "solidity": 0.2
             }
            },
            "type": "bar"
           }
          ],
          "barpolar": [
           {
            "marker": {
             "line": {
              "color": "white",
              "width": 0.5
             },
             "pattern": {
              "fillmode": "overlay",
              "size": 10,
              "solidity": 0.2
             }
            },
            "type": "barpolar"
           }
          ],
          "carpet": [
           {
            "aaxis": {
             "endlinecolor": "#2a3f5f",
             "gridcolor": "#C8D4E3",
             "linecolor": "#C8D4E3",
             "minorgridcolor": "#C8D4E3",
             "startlinecolor": "#2a3f5f"
            },
            "baxis": {
             "endlinecolor": "#2a3f5f",
             "gridcolor": "#C8D4E3",
             "linecolor": "#C8D4E3",
             "minorgridcolor": "#C8D4E3",
             "startlinecolor": "#2a3f5f"
            },
            "type": "carpet"
           }
          ],
          "choropleth": [
           {
            "colorbar": {
             "outlinewidth": 0,
             "ticks": ""
            },
            "type": "choropleth"
           }
          ],
          "contour": [
           {
            "colorbar": {
             "outlinewidth": 0,
             "ticks": ""
            },
            "colorscale": [
             [
              0,
              "#0d0887"
             ],
             [
              0.1111111111111111,
              "#46039f"
             ],
             [
              0.2222222222222222,
              "#7201a8"
             ],
             [
              0.3333333333333333,
              "#9c179e"
             ],
             [
              0.4444444444444444,
              "#bd3786"
             ],
             [
              0.5555555555555556,
              "#d8576b"
             ],
             [
              0.6666666666666666,
              "#ed7953"
             ],
             [
              0.7777777777777778,
              "#fb9f3a"
             ],
             [
              0.8888888888888888,
              "#fdca26"
             ],
             [
              1,
              "#f0f921"
             ]
            ],
            "type": "contour"
           }
          ],
          "contourcarpet": [
           {
            "colorbar": {
             "outlinewidth": 0,
             "ticks": ""
            },
            "type": "contourcarpet"
           }
          ],
          "heatmap": [
           {
            "colorbar": {
             "outlinewidth": 0,
             "ticks": ""
            },
            "colorscale": [
             [
              0,
              "#0d0887"
             ],
             [
              0.1111111111111111,
              "#46039f"
             ],
             [
              0.2222222222222222,
              "#7201a8"
             ],
             [
              0.3333333333333333,
              "#9c179e"
             ],
             [
              0.4444444444444444,
              "#bd3786"
             ],
             [
              0.5555555555555556,
              "#d8576b"
             ],
             [
              0.6666666666666666,
              "#ed7953"
             ],
             [
              0.7777777777777778,
              "#fb9f3a"
             ],
             [
              0.8888888888888888,
              "#fdca26"
             ],
             [
              1,
              "#f0f921"
             ]
            ],
            "type": "heatmap"
           }
          ],
          "histogram": [
           {
            "marker": {
             "pattern": {
              "fillmode": "overlay",
              "size": 10,
              "solidity": 0.2
             }
            },
            "type": "histogram"
           }
          ],
          "histogram2d": [
           {
            "colorbar": {
             "outlinewidth": 0,
             "ticks": ""
            },
            "colorscale": [
             [
              0,
              "#0d0887"
             ],
             [
              0.1111111111111111,
              "#46039f"
             ],
             [
              0.2222222222222222,
              "#7201a8"
             ],
             [
              0.3333333333333333,
              "#9c179e"
             ],
             [
              0.4444444444444444,
              "#bd3786"
             ],
             [
              0.5555555555555556,
              "#d8576b"
             ],
             [
              0.6666666666666666,
              "#ed7953"
             ],
             [
              0.7777777777777778,
              "#fb9f3a"
             ],
             [
              0.8888888888888888,
              "#fdca26"
             ],
             [
              1,
              "#f0f921"
             ]
            ],
            "type": "histogram2d"
           }
          ],
          "histogram2dcontour": [
           {
            "colorbar": {
             "outlinewidth": 0,
             "ticks": ""
            },
            "colorscale": [
             [
              0,
              "#0d0887"
             ],
             [
              0.1111111111111111,
              "#46039f"
             ],
             [
              0.2222222222222222,
              "#7201a8"
             ],
             [
              0.3333333333333333,
              "#9c179e"
             ],
             [
              0.4444444444444444,
              "#bd3786"
             ],
             [
              0.5555555555555556,
              "#d8576b"
             ],
             [
              0.6666666666666666,
              "#ed7953"
             ],
             [
              0.7777777777777778,
              "#fb9f3a"
             ],
             [
              0.8888888888888888,
              "#fdca26"
             ],
             [
              1,
              "#f0f921"
             ]
            ],
            "type": "histogram2dcontour"
           }
          ],
          "mesh3d": [
           {
            "colorbar": {
             "outlinewidth": 0,
             "ticks": ""
            },
            "type": "mesh3d"
           }
          ],
          "parcoords": [
           {
            "line": {
             "colorbar": {
              "outlinewidth": 0,
              "ticks": ""
             }
            },
            "type": "parcoords"
           }
          ],
          "pie": [
           {
            "automargin": true,
            "type": "pie"
           }
          ],
          "scatter": [
           {
            "fillpattern": {
             "fillmode": "overlay",
             "size": 10,
             "solidity": 0.2
            },
            "type": "scatter"
           }
          ],
          "scatter3d": [
           {
            "line": {
             "colorbar": {
              "outlinewidth": 0,
              "ticks": ""
             }
            },
            "marker": {
             "colorbar": {
              "outlinewidth": 0,
              "ticks": ""
             }
            },
            "type": "scatter3d"
           }
          ],
          "scattercarpet": [
           {
            "marker": {
             "colorbar": {
              "outlinewidth": 0,
              "ticks": ""
             }
            },
            "type": "scattercarpet"
           }
          ],
          "scattergeo": [
           {
            "marker": {
             "colorbar": {
              "outlinewidth": 0,
              "ticks": ""
             }
            },
            "type": "scattergeo"
           }
          ],
          "scattergl": [
           {
            "marker": {
             "colorbar": {
              "outlinewidth": 0,
              "ticks": ""
             }
            },
            "type": "scattergl"
           }
          ],
          "scattermap": [
           {
            "marker": {
             "colorbar": {
              "outlinewidth": 0,
              "ticks": ""
             }
            },
            "type": "scattermap"
           }
          ],
          "scattermapbox": [
           {
            "marker": {
             "colorbar": {
              "outlinewidth": 0,
              "ticks": ""
             }
            },
            "type": "scattermapbox"
           }
          ],
          "scatterpolar": [
           {
            "marker": {
             "colorbar": {
              "outlinewidth": 0,
              "ticks": ""
             }
            },
            "type": "scatterpolar"
           }
          ],
          "scatterpolargl": [
           {
            "marker": {
             "colorbar": {
              "outlinewidth": 0,
              "ticks": ""
             }
            },
            "type": "scatterpolargl"
           }
          ],
          "scatterternary": [
           {
            "marker": {
             "colorbar": {
              "outlinewidth": 0,
              "ticks": ""
             }
            },
            "type": "scatterternary"
           }
          ],
          "surface": [
           {
            "colorbar": {
             "outlinewidth": 0,
             "ticks": ""
            },
            "colorscale": [
             [
              0,
              "#0d0887"
             ],
             [
              0.1111111111111111,
              "#46039f"
             ],
             [
              0.2222222222222222,
              "#7201a8"
             ],
             [
              0.3333333333333333,
              "#9c179e"
             ],
             [
              0.4444444444444444,
              "#bd3786"
             ],
             [
              0.5555555555555556,
              "#d8576b"
             ],
             [
              0.6666666666666666,
              "#ed7953"
             ],
             [
              0.7777777777777778,
              "#fb9f3a"
             ],
             [
              0.8888888888888888,
              "#fdca26"
             ],
             [
              1,
              "#f0f921"
             ]
            ],
            "type": "surface"
           }
          ],
          "table": [
           {
            "cells": {
             "fill": {
              "color": "#EBF0F8"
             },
             "line": {
              "color": "white"
             }
            },
            "header": {
             "fill": {
              "color": "#C8D4E3"
             },
             "line": {
              "color": "white"
             }
            },
            "type": "table"
           }
          ]
         },
         "layout": {
          "annotationdefaults": {
           "arrowcolor": "#2a3f5f",
           "arrowhead": 0,
           "arrowwidth": 1
          },
          "autotypenumbers": "strict",
          "coloraxis": {
           "colorbar": {
            "outlinewidth": 0,
            "ticks": ""
           }
          },
          "colorscale": {
           "diverging": [
            [
             0,
             "#8e0152"
            ],
            [
             0.1,
             "#c51b7d"
            ],
            [
             0.2,
             "#de77ae"
            ],
            [
             0.3,
             "#f1b6da"
            ],
            [
             0.4,
             "#fde0ef"
            ],
            [
             0.5,
             "#f7f7f7"
            ],
            [
             0.6,
             "#e6f5d0"
            ],
            [
             0.7,
             "#b8e186"
            ],
            [
             0.8,
             "#7fbc41"
            ],
            [
             0.9,
             "#4d9221"
            ],
            [
             1,
             "#276419"
            ]
           ],
           "sequential": [
            [
             0,
             "#0d0887"
            ],
            [
             0.1111111111111111,
             "#46039f"
            ],
            [
             0.2222222222222222,
             "#7201a8"
            ],
            [
             0.3333333333333333,
             "#9c179e"
            ],
            [
             0.4444444444444444,
             "#bd3786"
            ],
            [
             0.5555555555555556,
             "#d8576b"
            ],
            [
             0.6666666666666666,
             "#ed7953"
            ],
            [
             0.7777777777777778,
             "#fb9f3a"
            ],
            [
             0.8888888888888888,
             "#fdca26"
            ],
            [
             1,
             "#f0f921"
            ]
           ],
           "sequentialminus": [
            [
             0,
             "#0d0887"
            ],
            [
             0.1111111111111111,
             "#46039f"
            ],
            [
             0.2222222222222222,
             "#7201a8"
            ],
            [
             0.3333333333333333,
             "#9c179e"
            ],
            [
             0.4444444444444444,
             "#bd3786"
            ],
            [
             0.5555555555555556,
             "#d8576b"
            ],
            [
             0.6666666666666666,
             "#ed7953"
            ],
            [
             0.7777777777777778,
             "#fb9f3a"
            ],
            [
             0.8888888888888888,
             "#fdca26"
            ],
            [
             1,
             "#f0f921"
            ]
           ]
          },
          "colorway": [
           "#636efa",
           "#EF553B",
           "#00cc96",
           "#ab63fa",
           "#FFA15A",
           "#19d3f3",
           "#FF6692",
           "#B6E880",
           "#FF97FF",
           "#FECB52"
          ],
          "font": {
           "color": "#2a3f5f"
          },
          "geo": {
           "bgcolor": "white",
           "lakecolor": "white",
           "landcolor": "white",
           "showlakes": true,
           "showland": true,
           "subunitcolor": "#C8D4E3"
          },
          "hoverlabel": {
           "align": "left"
          },
          "hovermode": "closest",
          "mapbox": {
           "style": "light"
          },
          "paper_bgcolor": "white",
          "plot_bgcolor": "white",
          "polar": {
           "angularaxis": {
            "gridcolor": "#EBF0F8",
            "linecolor": "#EBF0F8",
            "ticks": ""
           },
           "bgcolor": "white",
           "radialaxis": {
            "gridcolor": "#EBF0F8",
            "linecolor": "#EBF0F8",
            "ticks": ""
           }
          },
          "scene": {
           "xaxis": {
            "backgroundcolor": "white",
            "gridcolor": "#DFE8F3",
            "gridwidth": 2,
            "linecolor": "#EBF0F8",
            "showbackground": true,
            "ticks": "",
            "zerolinecolor": "#EBF0F8"
           },
           "yaxis": {
            "backgroundcolor": "white",
            "gridcolor": "#DFE8F3",
            "gridwidth": 2,
            "linecolor": "#EBF0F8",
            "showbackground": true,
            "ticks": "",
            "zerolinecolor": "#EBF0F8"
           },
           "zaxis": {
            "backgroundcolor": "white",
            "gridcolor": "#DFE8F3",
            "gridwidth": 2,
            "linecolor": "#EBF0F8",
            "showbackground": true,
            "ticks": "",
            "zerolinecolor": "#EBF0F8"
           }
          },
          "shapedefaults": {
           "line": {
            "color": "#2a3f5f"
           }
          },
          "ternary": {
           "aaxis": {
            "gridcolor": "#DFE8F3",
            "linecolor": "#A2B1C6",
            "ticks": ""
           },
           "baxis": {
            "gridcolor": "#DFE8F3",
            "linecolor": "#A2B1C6",
            "ticks": ""
           },
           "bgcolor": "white",
           "caxis": {
            "gridcolor": "#DFE8F3",
            "linecolor": "#A2B1C6",
            "ticks": ""
           }
          },
          "title": {
           "x": 0.05
          },
          "xaxis": {
           "automargin": true,
           "gridcolor": "#EBF0F8",
           "linecolor": "#EBF0F8",
           "ticks": "",
           "title": {
            "standoff": 15
           },
           "zerolinecolor": "#EBF0F8",
           "zerolinewidth": 2
          },
          "yaxis": {
           "automargin": true,
           "gridcolor": "#EBF0F8",
           "linecolor": "#EBF0F8",
           "ticks": "",
           "title": {
            "standoff": 15
           },
           "zerolinecolor": "#EBF0F8",
           "zerolinewidth": 2
          }
         }
        },
        "title": {
         "text": "Round 100,000"
        },
        "xaxis": {
         "tickmode": "array",
         "ticktext": [
          "0",
          "1",
          "2",
          "3",
          "4",
          "5",
          "6",
          "7",
          "8",
          "9",
          "10",
          "11",
          "12",
          "13",
          "14",
          "15",
          "16",
          "17",
          "18",
          "19",
          "20",
          "21",
          "22",
          "23",
          "24",
          "25",
          "26",
          "27",
          "28",
          "29",
          "30",
          "31",
          "32",
          "33",
          "34",
          "35",
          "36",
          "37",
          "38",
          "39",
          "40",
          "41",
          "42",
          "43",
          "44",
          "45",
          "46",
          "47",
          "48",
          "49",
          "50",
          "51",
          "52",
          "53",
          "54",
          "55",
          "56",
          "57",
          "58",
          "59",
          "60",
          "61",
          "62",
          "63",
          "64",
          "65",
          "66",
          "67",
          "68",
          "69",
          "70",
          "71",
          "72",
          "73",
          "74",
          "75",
          "76",
          "77",
          "78",
          "79"
         ],
         "tickvals": {
          "bdata": "AAECAwQFBgcICQoLDA0ODxAREhMUFRYXGBkaGxwdHh8gISIjJCUmJygpKissLS4vMDEyMzQ1Njc4OTo7PD0+P0BBQkNERUZHSElKS0xNTk8=",
          "dtype": "i1"
         },
         "title": {
          "text": "Action ID"
         }
        },
        "yaxis": {
         "title": {
          "text": "Value"
         }
        }
       }
      }
     },
     "metadata": {},
     "output_type": "display_data"
    }
   ],
   "source": [
    "\n",
    "fig100k, res100k = run_ts_and_plot(df, n_actions=K, n_rounds=100_000, seed=7, title=\"Round 100,000\")\n",
    "fig100k.show()"
   ]
  },
  {
   "cell_type": "code",
   "execution_count": null,
   "id": "2d4449f8",
   "metadata": {},
   "outputs": [],
   "source": []
  },
  {
   "cell_type": "markdown",
   "id": "5cd01ee2",
   "metadata": {},
   "source": [
    "### Position Aware TS"
   ]
  },
  {
   "cell_type": "code",
   "execution_count": null,
   "id": "aba135f7",
   "metadata": {},
   "outputs": [],
   "source": [
    "import numpy as np\n",
    "import pandas as pd\n",
    "from plotly.subplots import make_subplots\n",
    "import plotly.graph_objects as go\n",
    "\n",
    "def run_ts_by_position_and_plot(\n",
    "    df: pd.DataFrame,\n",
    "    n_actions: int,\n",
    "    positions=(0,1,2),\n",
    "    n_rounds: int = 10_000,\n",
    "    seed: int = 7,\n",
    "    alpha0: float = 1.0,\n",
    "    beta0: float  = 1.0,\n",
    "    title: str | None = None,\n",
    "):\n",
    "    \"\"\"\n",
    "    Position-aware online Thompson Sampling (independent bandit per position).\n",
    "    Uses per-position empirical CTR as the 'true' Bernoulli rate for simulation.\n",
    "\n",
    "    df must have columns: ['action','position','reward', ...]\n",
    "    Returns (fig, results_df) where results_df has one row per (position, action).\n",
    "    \"\"\"\n",
    "    positions = list(positions)\n",
    "\n",
    "    # ----- Ground-truth p_true per (position, action) from logs -----\n",
    "    # shape: dict[pos] -> length-n_actions float array\n",
    "    grp_mean = (\n",
    "        df.groupby([\"position\",\"action\"])[\"reward\"].mean().unstack(fill_value=np.nan)\n",
    "    )\n",
    "    # reindex to ensure we have full action range for each position\n",
    "    full_cols = pd.Index(range(n_actions), name=\"action\")\n",
    "    grp_mean = grp_mean.reindex(columns=full_cols)\n",
    "\n",
    "    p_true = {}\n",
    "    for pos in positions:\n",
    "        # if a position is missing in df, fill with zeros\n",
    "        if pos in grp_mean.index:\n",
    "            vec = grp_mean.loc[pos].to_numpy()\n",
    "        else:\n",
    "            vec = np.zeros(n_actions, dtype=float)\n",
    "        # NaNs (no impressions for an action at that pos) -> 0 CTR\n",
    "        vec = np.nan_to_num(vec, nan=0.0)\n",
    "        p_true[pos] = vec\n",
    "\n",
    "    # impressions per (pos, action) (optional diagnostics)\n",
    "    grp_count = (\n",
    "        df.groupby([\"position\",\"action\"])[\"reward\"].size().unstack(fill_value=0)\n",
    "         .reindex(index=positions, columns=full_cols, fill_value=0)\n",
    "    )\n",
    "\n",
    "    # ----- TS state per position -----\n",
    "    alpha = {pos: np.full(n_actions, float(alpha0)) for pos in positions}\n",
    "    beta  = {pos: np.full(n_actions, float(beta0))  for pos in positions}\n",
    "    chosen_counts = {pos: np.zeros(n_actions, dtype=int) for pos in positions}\n",
    "\n",
    "    rng = np.random.RandomState(seed)\n",
    "\n",
    "    # ----- Online TS loop (independent per position each round) -----\n",
    "    for _ in range(int(n_rounds)):\n",
    "        for pos in positions:\n",
    "            theta = rng.beta(alpha[pos], beta[pos])\n",
    "            a = int(theta.argmax())\n",
    "            chosen_counts[pos][a] += 1\n",
    "            # simulate reward with per-position ground-truth CTR\n",
    "            r = rng.rand() < p_true[pos][a]\n",
    "            alpha[pos][a] += int(r)\n",
    "            beta[pos][a]  += int(not r)\n",
    "\n",
    "    # ----- Collect results into a tidy DataFrame -----\n",
    "    records = []\n",
    "    for pos in positions:\n",
    "        sel_freq = chosen_counts[pos] / float(n_rounds)\n",
    "        for a in range(n_actions):\n",
    "            records.append({\n",
    "                \"position\": pos,\n",
    "                \"action\": a,\n",
    "                \"empirical_ctr\": float(p_true[pos][a]),\n",
    "                \"ts_selection_freq\": float(sel_freq[a]),\n",
    "                \"alpha_final\": float(alpha[pos][a]),\n",
    "                \"beta_final\": float(beta[pos][a]),\n",
    "                \"impressions\": int(grp_count.loc[pos, a]) if pos in grp_count.index else 0,\n",
    "            })\n",
    "    res = pd.DataFrame(records)\n",
    "\n",
    "    # ----- Plot (one row per position, grouped bars) -----\n",
    "    fig = make_subplots(\n",
    "        rows=len(positions), cols=1, shared_xaxes=False,\n",
    "        subplot_titles=[f\"Position {p}\" for p in positions],\n",
    "        vertical_spacing=0.08\n",
    "    )\n",
    "\n",
    "    for i, pos in enumerate(positions, start=1):\n",
    "        df_pos = res[res[\"position\"] == pos].sort_values(\"action\")\n",
    "        xs = df_pos[\"action\"].to_numpy()\n",
    "\n",
    "        fig.add_bar(\n",
    "            x=xs, y=df_pos[\"empirical_ctr\"], name=\"Empirical CTR\",\n",
    "            marker_color=\"steelblue\", opacity=0.6,\n",
    "            showlegend=(i == 1), row=i, col=1\n",
    "        )\n",
    "        fig.add_bar(\n",
    "            x=xs, y=df_pos[\"ts_selection_freq\"], name=f\"TS selection freq (n={n_rounds:,})\",\n",
    "            marker_color=\"darkorange\", opacity=0.85,\n",
    "            showlegend=(i == 1), row=i, col=1\n",
    "        )\n",
    "\n",
    "        # pretty axes per row\n",
    "        fig.update_yaxes(title_text=\"Value\", row=i, col=1)\n",
    "        fig.update_xaxes(\n",
    "            title_text=\"Action ID (0–{})\".format(n_actions-1) if i==len(positions) else \"\",\n",
    "            tickmode=\"array\",\n",
    "            tickvals=xs,\n",
    "            ticktext=[str(a) for a in xs],\n",
    "            row=i, col=1\n",
    "        )\n",
    "\n",
    "    fig.update_layout(\n",
    "        title=title or f\"Position-aware TS vs Empirical CTR (n_rounds={n_rounds:,})\",\n",
    "        barmode=\"group\", template=\"plotly_white\",\n",
    "        height=300*len(positions) + 100,\n",
    "    )\n",
    "    return fig, res\n"
   ]
  },
  {
   "cell_type": "code",
   "execution_count": null,
   "id": "af14cc1b",
   "metadata": {},
   "outputs": [],
   "source": [
    "\n",
    "K = bf[\"n_actions\"]\n",
    "fig, res = run_ts_by_position_and_plot(\n",
    "    df=df,\n",
    "    n_actions=K,\n",
    "    positions=[0,1,2],\n",
    "    n_rounds=1000,   # try 100, 1_000, 10_000\n",
    "    seed=7,\n",
    "    alpha0=1.0, beta0=1.0,\n",
    "    title=\"Thompson Sampling per position after 1000 rounds\"\n",
    ")\n",
    "fig.show()\n",
    "\n",
    "# Inspect top actions TS focused on at each position:\n",
    "(res.sort_values([\"position\",\"ts_selection_freq\"], ascending=[True,False])\n",
    "    .groupby(\"position\").head(5))"
   ]
  },
  {
   "cell_type": "code",
   "execution_count": null,
   "id": "8bf78945",
   "metadata": {},
   "outputs": [],
   "source": [
    "\n",
    "K = bf[\"n_actions\"]\n",
    "fig, res = run_ts_by_position_and_plot(\n",
    "    df=df,\n",
    "    n_actions=K,\n",
    "    positions=[0,1,2],\n",
    "    n_rounds=10_000,   # try 100, 1_000, 10_000\n",
    "    seed=7,\n",
    "    alpha0=1.0, beta0=1.0,\n",
    "    title=\"Thompson Sampling per position after 10k rounds\"\n",
    ")\n",
    "fig.show()\n",
    "\n",
    "# Inspect top actions TS focused on at each position:\n",
    "(res.sort_values([\"position\",\"ts_selection_freq\"], ascending=[True,False])\n",
    "    .groupby(\"position\").head(5))"
   ]
  },
  {
   "cell_type": "code",
   "execution_count": null,
   "id": "c3a4982e",
   "metadata": {},
   "outputs": [],
   "source": [
    "\n",
    "K = bf[\"n_actions\"]\n",
    "fig, res = run_ts_by_position_and_plot(\n",
    "    df=df,\n",
    "    n_actions=K,\n",
    "    positions=[0,1,2],\n",
    "    n_rounds=100_000,   # try 100, 1_000, 10_000\n",
    "    seed=7,\n",
    "    alpha0=1.0, beta0=1.0,\n",
    "    title=\"Thompson Sampling per position after 100k rounds\"\n",
    ")\n",
    "fig.show()\n",
    "\n",
    "# Inspect top actions TS focused on at each position:\n",
    "(res.sort_values([\"position\",\"ts_selection_freq\"], ascending=[True,False])\n",
    "    .groupby(\"position\").head(5))"
   ]
  },
  {
   "cell_type": "markdown",
   "id": "e481e0db",
   "metadata": {},
   "source": [
    "### Using Open Bandit Pipeline"
   ]
  },
  {
   "cell_type": "code",
   "execution_count": null,
   "id": "e7871350",
   "metadata": {},
   "outputs": [],
   "source": [
    "import numpy as np\n",
    "import pandas as pd\n",
    "from obp.dataset import OpenBanditDataset\n",
    "from obp.policy import BernoulliTS\n",
    "from plotly.subplots import make_subplots\n",
    "import plotly.graph_objects as go\n",
    "\n",
    "# -----------------------------\n",
    "# 1) Load OBD (Random/all) and prep a simple df\n",
    "# -----------------------------\n",
    "ds = OpenBanditDataset(behavior_policy=\"random\", campaign=\"all\")\n",
    "bf = ds.obtain_batch_bandit_feedback()\n",
    "\n",
    "df = pd.DataFrame({\n",
    "    \"action\": bf[\"action\"],\n",
    "    \"position\": bf[\"position\"],   # 0,1,2 in OBP small\n",
    "    \"reward\": bf[\"reward\"].astype(int),\n",
    "    \"pscore\": bf[\"pscore\"],\n",
    "})\n",
    "\n",
    "K = bf[\"n_actions\"]           # 80\n",
    "positions = [0, 1, 2]\n",
    "SEED = 7\n",
    "\n",
    "# -----------------------------\n",
    "# 2) Init OBP’s BernoulliTS (evaluation policy)\n",
    "#    - You can use ZOZOTOWN prior or plain Beta(1,1) prior\n",
    "# -----------------------------\n",
    "pi_e = BernoulliTS(\n",
    "    n_actions=K,\n",
    "    len_list=len(positions),\n",
    "    is_zozotown_prior=False,   # set True to use ZOZOTOWN prior\n",
    "    campaign=\"all\",\n",
    "    random_state=SEED,\n",
    ")\n",
    "\n",
    "def snapshot_pmf(policy: BernoulliTS):\n",
    "    \"\"\"\n",
    "    Returns per-position selection probs as a dict {pos -> np.array(K)}\n",
    "    OBP's compute_batch_action_dist returns shape (n_rounds, n_actions, len_list),\n",
    "    so we take [0] and transpose to get (len_list, n_actions).\n",
    "    \"\"\"\n",
    "    ad = policy.compute_batch_action_dist(n_rounds=1, n_sim=100_000)[0]  # (K, len_list)\n",
    "    ad = ad.T  # -> (len_list, K)\n",
    "    return {pos: ad[i] for i, pos in enumerate(positions)}\n",
    "\n",
    "def sample_one_per_position(df):\n",
    "    \"\"\"One logged event per position.\"\"\"\n",
    "    return (df.groupby(\"position\", group_keys=False)\n",
    "              .apply(lambda x: x.sample(1, random_state=None))\n",
    "              .reset_index(drop=True))\n",
    "\n",
    "# -----------------------------\n",
    "# 3) Round 0 snapshot (before any learning)\n",
    "# -----------------------------\n",
    "pmf_round0 = snapshot_pmf(pi_e)   # dict: pos -> (K,)\n",
    "\n",
    "# -----------------------------\n",
    "# 4) Run R rounds of \"offline online\" updates from the logs\n",
    "#    (factorized by position: one update per position per round)\n",
    "# -----------------------------\n",
    "R = 100  # change to 1_000, 10_000, etc.\n",
    "for _ in range(R):\n",
    "    samp = sample_one_per_position(df)   # 3 rows (pos 0,1,2)\n",
    "    for _, r in samp.iterrows():\n",
    "        a = int(r[\"action\"])\n",
    "        y = int(r[\"reward\"])\n",
    "        # Update OBP policy with that arm's observed reward\n",
    "        pi_e.update_params(action=a, reward=y)\n",
    "\n",
    "# After R rounds, snapshot again\n",
    "pmf_roundR = snapshot_pmf(pi_e)\n",
    "\n",
    "# -----------------------------\n",
    "# 5) Plot Round 0 vs Round R (per position)\n",
    "# -----------------------------\n",
    "fig = make_subplots(\n",
    "    rows=3, cols=1, shared_xaxes=False,\n",
    "    subplot_titles=[f\"Position {p}\" for p in positions],\n",
    "    vertical_spacing=0.08\n",
    ")\n",
    "\n",
    "for i, pos in enumerate(positions, start=1):\n",
    "    xs = np.arange(K)\n",
    "    y0 = pmf_round0[pos]\n",
    "    yR = pmf_roundR[pos]\n",
    "    ymax = float(max(y0.max(), yR.max())) * 1.25\n",
    "\n",
    "    fig.add_bar(x=xs, y=y0, name=f\"Round 0\", marker_color=\"steelblue\",\n",
    "                opacity=0.6, showlegend=(i==1), row=i, col=1)\n",
    "    fig.add_bar(x=xs, y=yR, name=f\"Round {R}\", marker_color=\"darkorange\",\n",
    "                opacity=0.85, showlegend=(i==1), row=i, col=1)\n",
    "\n",
    "    fig.update_yaxes(range=[0, ymax], title_text=\"P(select)\", row=i, col=1)\n",
    "    fig.update_xaxes(\n",
    "        tickmode=\"array\",\n",
    "        tickvals=xs,\n",
    "        ticktext=[str(a) for a in xs],\n",
    "        title_text=\"Action ID (0–79)\" if i==3 else \"\",\n",
    "        row=i, col=1\n",
    "    )\n",
    "\n",
    "fig.update_layout(\n",
    "    title=f\"OBP BernoulliTS selection probabilities — Round 0 vs Round {R}\",\n",
    "    barmode=\"group\", bargap=0.15, template=\"plotly_white\",\n",
    "    height=900\n",
    ")\n",
    "fig.show()\n",
    "\n",
    "# -----------------------------\n",
    "# 6) (Optional) Export a tidy DataFrame of the PMFs\n",
    "# -----------------------------\n",
    "def pmf_to_df(pmf_dict, round_id):\n",
    "    recs = []\n",
    "    for pos in positions:\n",
    "        for a, p in enumerate(pmf_dict[pos]):\n",
    "            recs.append({\"round\": round_id, \"position\": pos, \"action\": a, \"p_select\": float(p)})\n",
    "    return pd.DataFrame(recs)\n",
    "\n",
    "df_pmf0 = pmf_to_df(pmf_round0, 0)\n",
    "df_pmfR = pmf_to_df(pmf_roundR, R)\n",
    "df_pmfs = pd.concat([df_pmf0, df_pmfR], ignore_index=True)\n",
    "# df_pmfs.to_csv(f\"obp_pmf_rounds_0_{R}.csv\", index=False)"
   ]
  },
  {
   "cell_type": "code",
   "execution_count": null,
   "id": "0790d386",
   "metadata": {},
   "outputs": [],
   "source": [
    "import numpy as np\n",
    "import pandas as pd\n",
    "from obp.dataset import OpenBanditDataset\n",
    "from obp.policy import BernoulliTS\n",
    "from plotly.subplots import make_subplots\n",
    "import plotly.graph_objects as go\n",
    "\n",
    "# -----------------------------\n",
    "# Load logs and prep\n",
    "# -----------------------------\n",
    "ds = OpenBanditDataset(behavior_policy=\"random\", campaign=\"all\")\n",
    "bf = ds.obtain_batch_bandit_feedback()\n",
    "\n",
    "df = pd.DataFrame({\n",
    "    \"action\":  bf[\"action\"],\n",
    "    \"position\": bf[\"position\"],    # 0,1,2\n",
    "    \"reward\":  bf[\"reward\"].astype(int),\n",
    "    \"pscore\":  bf[\"pscore\"],\n",
    "})\n",
    "K = bf[\"n_actions\"]          # 80\n",
    "positions = [0,1,2]\n",
    "SEED = 7\n",
    "\n",
    "# -----------------------------\n",
    "# Empirical CTR per (position, action)\n",
    "# -----------------------------\n",
    "# mean reward by (pos, action), fill missing with 0\n",
    "ctr_pos_act = (\n",
    "    df.groupby([\"position\",\"action\"])[\"reward\"].mean().unstack(fill_value=np.nan)\n",
    "      .reindex(index=positions, columns=range(K))\n",
    "      .fillna(0.0)\n",
    ")\n",
    "\n",
    "# -----------------------------\n",
    "# Init BernoulliTS policy\n",
    "#   - set is_zozotown_prior=True if you want their production prior\n",
    "# -----------------------------\n",
    "pi_e = BernoulliTS(\n",
    "    n_actions=K,\n",
    "    len_list=len(positions),\n",
    "    is_zozotown_prior=False,\n",
    "    campaign=\"all\",\n",
    "    random_state=SEED,\n",
    ")\n",
    "\n",
    "def snapshot_pmf(policy: BernoulliTS, n_sim=50_000):\n",
    "    \"\"\"\n",
    "    Returns dict: {pos -> np.array(K)} of selection probabilities.\n",
    "    OBP returns (n_rounds, n_actions, len_list); take [0] and transpose.\n",
    "    \"\"\"\n",
    "    ad = policy.compute_batch_action_dist(n_rounds=1, n_sim=n_sim)[0]  # (K, len_list)\n",
    "    ad = ad.T  # -> (len_list, K)\n",
    "    return {pos: ad[i] for i, pos in enumerate(positions)}\n",
    "\n",
    "def sample_one_per_position(df):\n",
    "    \"\"\"Sample exactly one logged event per position.\"\"\"\n",
    "    return (df.groupby(\"position\", group_keys=False)\n",
    "              .apply(lambda x: x.sample(1, random_state=None))\n",
    "              .reset_index(drop=True))\n",
    "\n",
    "# -----------------------------\n",
    "# Run R rounds of “offline online” updates\n",
    "# -----------------------------\n",
    "R = 10_000\n",
    "for _ in range(R):\n",
    "    samp = sample_one_per_position(df)\n",
    "    for _, r in samp.iterrows():\n",
    "        a = int(r[\"action\"])\n",
    "        y = int(r[\"reward\"])\n",
    "        pi_e.update_params(action=a, reward=y)\n",
    "\n",
    "pmf_after = snapshot_pmf(pi_e, n_sim=100_000)  # selection probabilities after 10k rounds\n",
    "\n",
    "# -----------------------------\n",
    "# Plot: Empirical CTR vs. Policy Selection Probability (per position)\n",
    "# -----------------------------\n",
    "fig = make_subplots(\n",
    "    rows=3, cols=1, shared_xaxes=False,\n",
    "    subplot_titles=[f\"Position {p}\" for p in positions],\n",
    "    vertical_spacing=0.08\n",
    ")\n",
    "\n",
    "for i, pos in enumerate(positions, start=1):\n",
    "    xs = np.arange(K)\n",
    "    y_ctr = ctr_pos_act.loc[pos].to_numpy()\n",
    "    y_sel = pmf_after[pos]\n",
    "\n",
    "    fig.add_bar(\n",
    "        x=xs, y=y_ctr, name=\"Empirical CTR\",\n",
    "        marker_color=\"steelblue\", opacity=0.6,\n",
    "        showlegend=(i==1), row=i, col=1\n",
    "    )\n",
    "    fig.add_bar(\n",
    "        x=xs, y=y_sel, name=f\"Policy selection prob (after {R:,})\",\n",
    "        marker_color=\"darkorange\", opacity=0.85,\n",
    "        showlegend=(i==1), row=i, col=1\n",
    "    )\n",
    "\n",
    "    ymax = float(max(y_ctr.max(), y_sel.max())) * 1.25 if (y_ctr.max() or y_sel.max()) else 0.02\n",
    "    fig.update_yaxes(title_text=\"Value\", range=[0, ymax], row=i, col=1)\n",
    "    fig.update_xaxes(\n",
    "        title_text=\"Action ID (0–79)\" if i==3 else \"\",\n",
    "        tickmode=\"array\",\n",
    "        tickvals=xs,\n",
    "        ticktext=[str(a) for a in xs],\n",
    "        row=i, col=1\n",
    "    )\n",
    "\n",
    "fig.update_layout(\n",
    "    title=f\"OBP BernoulliTS: Selection Probability vs Empirical CTR (after {R:,} rounds)\",\n",
    "    barmode=\"group\", bargap=0.15, template=\"plotly_white\",\n",
    "    height=900\n",
    ")\n",
    "fig.show()\n",
    "\n",
    "# -----------------------------\n",
    "# (Optional) Tidy table you can export\n",
    "# -----------------------------\n",
    "rows = []\n",
    "for pos in positions:\n",
    "    for a in range(K):\n",
    "        rows.append({\n",
    "            \"position\": pos,\n",
    "            \"action\": a,\n",
    "            \"empirical_ctr\": float(ctr_pos_act.loc[pos, a]),\n",
    "            \"policy_p_select_after\": float(pmf_after[pos][a]),\n",
    "        })\n",
    "df_compare = pd.DataFrame(rows)\n",
    "# df_compare.to_csv(\"obp_compare_ctr_vs_policy_p_after_10k.csv\", index=False)"
   ]
  },
  {
   "cell_type": "code",
   "execution_count": null,
   "id": "30a54a23",
   "metadata": {},
   "outputs": [],
   "source": [
    "import numpy as np\n",
    "import pandas as pd\n",
    "from obp.policy import BernoulliTS\n",
    "from plotly.subplots import make_subplots\n",
    "import plotly.graph_objects as go\n",
    "\n",
    "def run_obp_ts_factorized_and_plot(\n",
    "    df: pd.DataFrame,\n",
    "    n_actions: int,\n",
    "    positions=(0,1,2),\n",
    "    R: int = 10_000,\n",
    "    seed: int = 7,\n",
    "    use_zozo_prior: bool = False,\n",
    "    n_sim_snapshot: int = 100_000,\n",
    "    title: str | None = None,\n",
    "):\n",
    "    \"\"\"\n",
    "    Factorized slate: one BernoulliTS per position (slot).\n",
    "    Updates each policy only with samples from its slot, then compares\n",
    "    empirical CTR vs policy selection probability per position.\n",
    "\n",
    "    df columns: ['action','position','reward', ...]\n",
    "    \"\"\"\n",
    "    positions = list(positions)\n",
    "\n",
    "    # per-(pos,action) empirical CTR as ground truth for plotting reference\n",
    "    ctr_pos_act = (\n",
    "        df.groupby([\"position\",\"action\"])[\"reward\"].mean().unstack(fill_value=np.nan)\n",
    "          .reindex(index=positions, columns=range(n_actions))\n",
    "          .fillna(0.0)\n",
    "    )\n",
    "\n",
    "    # one TS policy per position (len_list=1 because each policy controls one slot)\n",
    "    policies = {\n",
    "        pos: BernoulliTS(\n",
    "            n_actions=n_actions,\n",
    "            len_list=1,\n",
    "            is_zozotown_prior=use_zozo_prior,\n",
    "            campaign=\"all\",\n",
    "            random_state=seed + pos,\n",
    "        )\n",
    "        for pos in positions\n",
    "    }\n",
    "\n",
    "    # helper: snapshot PMF for a single-position policy (returns length-n_actions)\n",
    "    def snapshot_vec(policy: BernoulliTS) -> np.ndarray:\n",
    "        # OBP shape: (n_rounds, n_actions, len_list). len_list=1 here.\n",
    "        ad = policy.compute_batch_action_dist(n_rounds=1, n_sim=n_sim_snapshot)[0, :, 0]\n",
    "        return ad  # (n_actions,)\n",
    "\n",
    "    # --- run R rounds: sample one row per position, update that position's policy\n",
    "    for _ in range(R):\n",
    "        samp = (df.groupby(\"position\", group_keys=False)\n",
    "                  .apply(lambda x: x.sample(1, random_state=None))\n",
    "                  .reset_index(drop=True))\n",
    "        for _, r in samp.iterrows():\n",
    "            pos = int(r[\"position\"]); a = int(r[\"action\"]); y = int(r[\"reward\"])\n",
    "            policies[pos].update_params(action=a, reward=y)\n",
    "\n",
    "    # snapshot after training\n",
    "    pmf_after = {pos: snapshot_vec(policies[pos]) for pos in positions}\n",
    "\n",
    "    # --- build tidy result frame\n",
    "    rows = []\n",
    "    for pos in positions:\n",
    "        for a in range(n_actions):\n",
    "            rows.append({\n",
    "                \"position\": pos,\n",
    "                \"action\": a,\n",
    "                \"empirical_ctr\": float(ctr_pos_act.loc[pos, a]),\n",
    "                \"policy_p_select_after\": float(pmf_after[pos][a]),\n",
    "            })\n",
    "    res = pd.DataFrame(rows)\n",
    "\n",
    "    # --- plot per position\n",
    "    fig = make_subplots(\n",
    "        rows=len(positions), cols=1, shared_xaxes=False,\n",
    "        subplot_titles=[f\"Position {p}\" for p in positions],\n",
    "        vertical_spacing=0.08\n",
    "    )\n",
    "    for i, pos in enumerate(positions, start=1):\n",
    "        dfp = res[res[\"position\"] == pos].sort_values(\"action\")\n",
    "        xs = dfp[\"action\"].to_numpy()\n",
    "        y_ctr = dfp[\"empirical_ctr\"].to_numpy()\n",
    "        y_sel = dfp[\"policy_p_select_after\"].to_numpy()\n",
    "        ymax = float(max(y_ctr.max(), y_sel.max())) * 1.25 if (y_ctr.max() or y_sel.max()) else 0.02\n",
    "\n",
    "        fig.add_bar(x=xs, y=y_ctr, name=\"Empirical CTR\",\n",
    "                    marker_color=\"steelblue\", opacity=0.6, showlegend=(i==1),\n",
    "                    row=i, col=1)\n",
    "        fig.add_bar(x=xs, y=y_sel, name=f\"Policy P(select) after {R:,}\",\n",
    "                    marker_color=\"darkorange\", opacity=0.85, showlegend=(i==1),\n",
    "                    row=i, col=1)\n",
    "\n",
    "        fig.update_yaxes(title_text=\"Value\", range=[0, ymax], row=i, col=1)\n",
    "        fig.update_xaxes(\n",
    "            title_text=\"Action ID (0–{})\".format(n_actions-1) if i==len(positions) else \"\",\n",
    "            tickmode=\"array\", tickvals=xs, ticktext=[str(a) for a in xs],\n",
    "            row=i, col=1\n",
    "        )\n",
    "\n",
    "    fig.update_layout(\n",
    "        title=title or f\"Factorized BernoulliTS (one policy per position) — after {R:,} rounds\",\n",
    "        barmode=\"group\", bargap=0.15, template=\"plotly_white\",\n",
    "        height=300*len(positions) + 120,\n",
    "    )\n",
    "    return fig, res\n",
    "\n",
    "\n",
    "K = bf[\"n_actions\"]\n",
    "fig, res = run_obp_ts_factorized_and_plot(\n",
    "    df=df, n_actions=K, positions=[0,1,2],\n",
    "    R=10_000, seed=7, use_zozo_prior=False, n_sim_snapshot=100_000,\n",
    "    title=\"Position-aware (factorized) TS vs Empirical CTR - 10k rounds\"\n",
    ")\n",
    "fig.show()"
   ]
  },
  {
   "cell_type": "code",
   "execution_count": null,
   "id": "4d3f8155",
   "metadata": {},
   "outputs": [],
   "source": [
    "K = bf[\"n_actions\"]\n",
    "fig, res = run_obp_ts_factorized_and_plot(\n",
    "    df=df, n_actions=K, positions=[0,1,2],\n",
    "    R=100_000, seed=7, use_zozo_prior=False, n_sim_snapshot=100_000,\n",
    "    title=\"Position-aware (factorized) TS vs Empirical CTR - 100k rounds\" \n",
    ")\n",
    "fig.show()"
   ]
  },
  {
   "cell_type": "markdown",
   "id": "d03afb10",
   "metadata": {},
   "source": [
    "### Running an RL loop to compare policies learned"
   ]
  },
  {
   "cell_type": "code",
   "execution_count": null,
   "id": "fa764dda",
   "metadata": {},
   "outputs": [],
   "source": [
    "import numpy as np\n",
    "import pandas as pd\n",
    "from plotly.subplots import make_subplots\n",
    "import plotly.graph_objects as go\n",
    "\n",
    "# --- Build the simulator from logs: p_true[pos, action] = empirical CTR ---\n",
    "def make_ctr_table(df, n_actions, positions=(0,1,2)):\n",
    "    ctr = (df.groupby([\"position\",\"action\"])[\"reward\"].mean()\n",
    "             .unstack(fill_value=np.nan)\n",
    "             .reindex(index=positions, columns=range(n_actions))\n",
    "             .fillna(0.0))\n",
    "    return ctr  # DataFrame: index=position, cols=action\n",
    "\n",
    "def softmax(x, axis=-1):\n",
    "    x = x - x.max(axis=axis, keepdims=True)\n",
    "    e = np.exp(x)\n",
    "    return e / e.sum(axis=axis, keepdims=True)\n",
    "\n",
    "class PositionAwareSoftmaxPolicy:\n",
    "    \"\"\"\n",
    "    One softmax over actions per position (no context).\n",
    "    logits[pos, action] are learned. Produces a slate by sampling per position independently.\n",
    "    \"\"\"\n",
    "    def __init__(self, n_actions, positions=(0,1,2), seed=7, init_scale=0.0):\n",
    "        self.n_actions = n_actions\n",
    "        self.positions = list(positions)\n",
    "        rng = np.random.RandomState(seed)\n",
    "        self.logits = {p: init_scale * rng.randn(n_actions) for p in self.positions}\n",
    "\n",
    "    def action_probs(self, pos):\n",
    "        return softmax(self.logits[pos])\n",
    "\n",
    "    def sample_action(self, pos, rng):\n",
    "        p = self.action_probs(pos)\n",
    "        return int(rng.choice(self.n_actions, p=p)), p\n",
    "\n",
    "    def update_reinforce(self, grads, lr=0.1):\n",
    "        # grads: dict pos -> grad vector length n_actions\n",
    "        for p in self.positions:\n",
    "            self.logits[p] += lr * grads[p]\n",
    "\n",
    "def run_reinforce_training(ctr_df, n_rounds=10000, lr=0.1, baseline=True, seed=7):\n",
    "    \"\"\"\n",
    "    Simple REINFORCE on a position-factorized bandit:\n",
    "      At each round, for each position pick an action from policy softmax, get Bernoulli reward with p_true,\n",
    "      and do REINFORCE update (optionally with average-reward baseline per position).\n",
    "    \"\"\"\n",
    "    positions = list(ctr_df.index)\n",
    "    n_actions = ctr_df.shape[1]\n",
    "    rng = np.random.RandomState(seed)\n",
    "\n",
    "    policy = PositionAwareSoftmaxPolicy(n_actions, positions, seed=seed)\n",
    "    running_baseline = {p: 0.0 for p in positions}\n",
    "    beta = 0.99  # baseline EMA factor\n",
    "\n",
    "    for t in range(n_rounds):\n",
    "        grads = {p: np.zeros(n_actions) for p in positions}\n",
    "        rewards = {}\n",
    "        for p in positions:\n",
    "            a, pvec = policy.sample_action(p, rng)\n",
    "            r = float(rng.rand() < ctr_df.loc[p, a])  # simulate reward\n",
    "            rewards[p] = r\n",
    "            # gradient of log softmax at chosen action = (onehot - pvec)\n",
    "            g = -pvec\n",
    "            g[a] += 1.0\n",
    "            # REINFORCE weight = (r - b)\n",
    "            adv = r - (running_baseline[p] if baseline else 0.0)\n",
    "            grads[p] += adv * g\n",
    "\n",
    "        # baseline updates\n",
    "        if baseline:\n",
    "            for p in positions:\n",
    "                running_baseline[p] = beta * running_baseline[p] + (1 - beta) * rewards[p]\n",
    "\n",
    "        policy.update_reinforce(grads, lr=lr)\n",
    "\n",
    "    # Return learned per-position distributions\n",
    "    learned = {p: policy.action_probs(p) for p in positions}\n",
    "    return policy, learned\n",
    "\n",
    "# --- Use your df/bf from earlier ---\n",
    "# df must have columns: action, position (0/1/2), reward∈{0,1}\n",
    "K = bf[\"n_actions\"]\n",
    "positions = [0,1,2]\n",
    "ctr_pos_act = make_ctr_table(df, n_actions=K, positions=positions)\n",
    "\n",
    "# Train RL policy\n",
    "policy, learned_p = run_reinforce_training(\n",
    "    ctr_pos_act, n_rounds=10_000, lr=0.1, baseline=True, seed=7\n",
    ")\n",
    "\n",
    "# Plot learned selection probs vs empirical CTR per position\n",
    "fig = make_subplots(rows=3, cols=1, shared_xaxes=False,\n",
    "                    subplot_titles=[f\"Position {p}\" for p in positions],\n",
    "                    vertical_spacing=0.08)\n",
    "\n",
    "for i, p in enumerate(positions, start=1):\n",
    "    xs = np.arange(K)\n",
    "    y_ctr = ctr_pos_act.loc[p].to_numpy()\n",
    "    y_pol = learned_p[p]\n",
    "    ymax = float(max(y_ctr.max(), y_pol.max())) * 1.25 if (y_ctr.max() or y_pol.max()) else 0.02\n",
    "\n",
    "    fig.add_bar(x=xs, y=y_ctr, name=\"Empirical CTR\",\n",
    "                marker_color=\"steelblue\", opacity=0.6, showlegend=(i==1),\n",
    "                row=i, col=1)\n",
    "    fig.add_bar(x=xs, y=y_pol, name=\"RL policy P(select)\",\n",
    "                marker_color=\"darkorange\", opacity=0.85, showlegend=(i==1),\n",
    "                row=i, col=1)\n",
    "\n",
    "    fig.update_yaxes(title_text=\"Value\", range=[0, ymax], row=i, col=1)\n",
    "    fig.update_xaxes(\n",
    "        title_text=\"Action ID (0–{})\".format(K-1) if i==3 else \"\",\n",
    "        tickmode=\"array\", tickvals=xs, ticktext=[str(a) for a in xs],\n",
    "        row=i, col=1\n",
    "    )\n",
    "\n",
    "fig.update_layout(\n",
    "    title=\"Position-aware REINFORCE (simulated env): Learned selection vs Empirical CTR\",\n",
    "    barmode=\"group\", bargap=0.15, template=\"plotly_white\", height=900\n",
    ")\n",
    "fig.show()"
   ]
  },
  {
   "cell_type": "code",
   "execution_count": null,
   "id": "8dd9780f",
   "metadata": {},
   "outputs": [],
   "source": [
    "import numpy as np\n",
    "from obp.ope import OffPolicyEvaluation, InverseProbabilityWeighting as IPW, SelfNormalizedInverseProbabilityWeighting as SNIPW\n",
    "\n",
    "K         = bf[\"n_actions\"]\n",
    "len_list  = len(positions)          # should be 3 for OBD\n",
    "n_rounds  = bf[\"n_rounds\"]\n",
    "\n",
    "# Build action_dist in the expected shape: (n_rounds, n_actions, len_list)\n",
    "action_dist = np.zeros((n_rounds, K, len_list), dtype=float)\n",
    "\n",
    "# learned_p[pos] must be a length-K prob vector that sums to 1\n",
    "for slot_index, pos in enumerate(positions):\n",
    "    vec = np.asarray(learned_p[pos], dtype=float)\n",
    "    # safety: renormalize tiny numeric drift\n",
    "    s = vec.sum()\n",
    "    if not np.isfinite(s) or s <= 0:\n",
    "        raise ValueError(f\"learned_p[{pos}] is invalid (sum={s}).\")\n",
    "    vec = vec / s\n",
    "    # repeat the same per-position distribution across all rounds\n",
    "    action_dist[:, :, slot_index] = vec[None, :]\n",
    "\n",
    "# --- validations (OBP will do similar checks) ---\n",
    "assert action_dist.shape == (n_rounds, K, len_list)\n",
    "assert np.all(np.isfinite(action_dist))\n",
    "assert np.all(action_dist >= 0)\n",
    "row_sums = action_dist.sum(axis=1)  # shape (n_rounds, len_list); sums over actions\n",
    "assert np.allclose(row_sums, 1.0, atol=1e-8), (row_sums.min(), row_sums.max())\n",
    "\n",
    "# Run OPE\n",
    "ope = OffPolicyEvaluation(bandit_feedback=bf, ope_estimators=[IPW(), SNIPW()])\n",
    "est = ope.estimate_policy_values(action_dist=action_dist)\n",
    "\n",
    "logged = bf[\"reward\"].mean()\n",
    "print(\"Logged avg reward:\", logged)\n",
    "print(\"IPW:   \", est[\"ipw\"])\n",
    "print(\"SNIPW: \", est[\"snipw\"])\n",
    "print(\"Relative (IPW / logged):\", est[\"ipw\"] / logged)"
   ]
  },
  {
   "cell_type": "code",
   "execution_count": null,
   "id": "e99c2188",
   "metadata": {},
   "outputs": [],
   "source": [
    "import numpy as np\n",
    "import pandas as pd\n",
    "from plotly.subplots import make_subplots\n",
    "import plotly.graph_objects as go\n",
    "from obp.ope import OffPolicyEvaluation, InverseProbabilityWeighting as IPW, SelfNormalizedInverseProbabilityWeighting as SNIPW\n",
    "\n",
    "# ---------- Data prep ----------\n",
    "def make_ctr_table(df: pd.DataFrame, n_actions: int, positions=(0,1,2)) -> pd.DataFrame:\n",
    "    ctr = (df.groupby([\"position\",\"action\"])[\"reward\"].mean()\n",
    "             .unstack(fill_value=np.nan)\n",
    "             .reindex(index=list(positions), columns=range(n_actions))\n",
    "             .fillna(0.0))\n",
    "    return ctr\n",
    "\n",
    "# ---------- Simple position-aware REINFORCE ----------\n",
    "def _softmax(x, axis=-1):\n",
    "    x = x - x.max(axis=axis, keepdims=True)\n",
    "    ex = np.exp(x)\n",
    "    return ex / ex.sum(axis=axis, keepdims=True)\n",
    "\n",
    "class PositionAwareSoftmaxPolicy:\n",
    "    def __init__(self, n_actions, positions=(0,1,2), seed=7, init_scale=0.0):\n",
    "        self.n_actions = int(n_actions)\n",
    "        self.positions = list(positions)\n",
    "        rng = np.random.RandomState(seed)\n",
    "        self.logits = {p: init_scale * rng.randn(self.n_actions) for p in self.positions}\n",
    "\n",
    "    def action_probs(self, pos: int) -> np.ndarray:\n",
    "        return _softmax(self.logits[pos])\n",
    "\n",
    "    def sample_action(self, pos: int, rng) -> tuple[int, np.ndarray]:\n",
    "        p = self.action_probs(pos)\n",
    "        a = int(rng.choice(self.n_actions, p=p))\n",
    "        return a, p\n",
    "\n",
    "    def update_reinforce(self, grads: dict[int, np.ndarray], lr: float = 0.1):\n",
    "        for p in self.positions:\n",
    "            self.logits[p] += lr * grads[p]\n",
    "\n",
    "def run_reinforce_training(\n",
    "    ctr_df: pd.DataFrame,\n",
    "    n_rounds: int = 10_000,\n",
    "    lr: float = 0.1,\n",
    "    baseline: bool = True,\n",
    "    seed: int = 7,\n",
    "    init_scale: float = 0.0,\n",
    "):\n",
    "    positions = list(ctr_df.index)\n",
    "    n_actions = ctr_df.shape[1]\n",
    "    rng = np.random.RandomState(seed)\n",
    "\n",
    "    policy = PositionAwareSoftmaxPolicy(n_actions, positions, seed=seed, init_scale=init_scale)\n",
    "    running_baseline = {p: 0.0 for p in positions}\n",
    "    beta = 0.99\n",
    "\n",
    "    for _ in range(n_rounds):\n",
    "        grads = {p: np.zeros(n_actions) for p in positions}\n",
    "        rewards = {}\n",
    "        for p in positions:\n",
    "            a, pvec = policy.sample_action(p, rng)\n",
    "            r = float(rng.rand() < ctr_df.loc[p, a])\n",
    "            rewards[p] = r\n",
    "            g = -pvec; g[a] += 1.0\n",
    "            adv = r - (running_baseline[p] if baseline else 0.0)\n",
    "            grads[p] += adv * g\n",
    "\n",
    "        if baseline:\n",
    "            for p in positions:\n",
    "                running_baseline[p] = beta * running_baseline[p] + (1 - beta) * rewards[p]\n",
    "\n",
    "        policy.update_reinforce(grads, lr=lr)\n",
    "\n",
    "    learned_p = {p: policy.action_probs(p) for p in positions}\n",
    "    return policy, learned_p\n",
    "\n",
    "# ---------- OPE ----------\n",
    "def learned_to_action_dist(learned_p: dict[int, np.ndarray], bf: dict, positions=(0,1,2)) -> np.ndarray:\n",
    "    K = bf[\"n_actions\"]; T = bf[\"n_rounds\"]; L = len(positions)\n",
    "    action_dist = np.zeros((T, K, L), dtype=float)\n",
    "    for slot_idx, pos in enumerate(positions):\n",
    "        vec = np.asarray(learned_p[pos], dtype=float)\n",
    "        s = vec.sum()\n",
    "        if not np.isfinite(s) or s <= 0:\n",
    "            raise ValueError(f\"learned_p[{pos}] invalid (sum={s}).\")\n",
    "        action_dist[:, :, slot_idx] = (vec / s)[None, :]\n",
    "    row_sums = action_dist.sum(axis=1)\n",
    "    if not np.allclose(row_sums, 1.0, atol=1e-8):\n",
    "        raise ValueError(f\"action_dist rows must sum to 1; got min/max {row_sums.min()}, {row_sums.max()}\")\n",
    "    return action_dist\n",
    "\n",
    "def eval_with_ope(bf: dict, action_dist: np.ndarray):\n",
    "    ope = OffPolicyEvaluation(bandit_feedback=bf, ope_estimators=[IPW(), SNIPW()])\n",
    "    est = ope.estimate_policy_values(action_dist=action_dist)\n",
    "    logged = float(np.mean(bf[\"reward\"]))\n",
    "    return {\n",
    "        \"logged_avg_reward\": logged,\n",
    "        \"ipw\": float(est[\"ipw\"]),\n",
    "        \"snipw\": float(est[\"snipw\"]),\n",
    "        \"ipw_over_logged\": float(est[\"ipw\"] / logged if logged > 0 else np.nan),\n",
    "        \"snipw_over_logged\": float(est[\"snipw\"] / logged if logged > 0 else np.nan),\n",
    "    }\n",
    "\n",
    "# ---------- Title formatter & end-to-end ----------\n",
    "def _format_config_title(n_rounds_rl, lr, baseline, seed, positions, prefix=\"REINFORCE\"):\n",
    "    pos_txt = \",\".join(str(p) for p in positions)\n",
    "    base_txt = \"on\" if baseline else \"off\"\n",
    "    return (f\"{prefix} — rounds={n_rounds_rl:,}, lr={lr}, baseline={base_txt}, \"\n",
    "            f\"seed={seed}, positions=[{pos_txt}]\")\n",
    "\n",
    "def train_plot_ope(\n",
    "    df: pd.DataFrame,\n",
    "    bf: dict,\n",
    "    positions=(0,1,2),\n",
    "    n_rounds_rl: int = 10_000,\n",
    "    lr: float = 0.1,\n",
    "    baseline: bool = True,\n",
    "    seed: int = 7,\n",
    "    init_scale: float = 0.0,\n",
    "    title: str | None = None,\n",
    "):\n",
    "    K = bf[\"n_actions\"]\n",
    "    ctr_pos_act = make_ctr_table(df, n_actions=K, positions=positions)\n",
    "    _, learned_p = run_reinforce_training(\n",
    "        ctr_pos_act, n_rounds=n_rounds_rl, lr=lr, baseline=baseline, seed=seed, init_scale=init_scale\n",
    "    )\n",
    "\n",
    "    # auto-title if none provided\n",
    "    auto_title = _format_config_title(n_rounds_rl, lr, baseline, seed, positions)\n",
    "    fig = plot_learned_vs_ctr(ctr_pos_act, learned_p, title or auto_title)\n",
    "\n",
    "    action_dist = learned_to_action_dist(learned_p, bf, positions=positions)\n",
    "    metrics = eval_with_ope(bf, action_dist)\n",
    "    return fig, learned_p, action_dist, metrics\n",
    "\n",
    "# ---------- Batch sweep ----------\n",
    "def sweep_and_compare(\n",
    "    df: pd.DataFrame,\n",
    "    bf: dict,\n",
    "    configs: list[dict],\n",
    "    positions=(0,1,2),\n",
    "):\n",
    "    rows = []\n",
    "    for cfg in configs:\n",
    "        fig, learned_p, action_dist, metrics = train_plot_ope(\n",
    "            df=df, bf=bf, positions=positions, **cfg\n",
    "        )\n",
    "        rows.append({\"config\": cfg, **metrics})\n",
    "    return pd.DataFrame(rows)"
   ]
  },
  {
   "cell_type": "code",
   "execution_count": null,
   "id": "799e6ccc",
   "metadata": {},
   "outputs": [],
   "source": [
    "fig, learned_p, action_dist, metrics = train_plot_ope(\n",
    "    df=df, bf=bf,\n",
    "    positions=[0,1,2],\n",
    "    n_rounds_rl=20_000,\n",
    "    lr=0.05,\n",
    "    baseline=False,\n",
    "    seed=42\n",
    ")\n",
    "fig.show()\n",
    "print(metrics)"
   ]
  },
  {
   "cell_type": "markdown",
   "id": "8b9e8303",
   "metadata": {},
   "source": [
    "### Comparing Policy performance between contextual bandit and RL"
   ]
  },
  {
   "cell_type": "code",
   "execution_count": null,
   "id": "ea9fec4a",
   "metadata": {},
   "outputs": [],
   "source": [
    "import numpy as np\n",
    "import pandas as pd\n",
    "from obp.policy import BernoulliTS\n",
    "import plotly.graph_objects as go\n",
    "\n",
    "# --- reuse your utilities from before ---\n",
    "# make_ctr_table, run_reinforce_training, learned_to_action_dist, eval_with_ope, plot_learned_vs_ctr, train_plot_ope\n",
    "\n",
    "def train_factorized_ts(\n",
    "    df: pd.DataFrame,\n",
    "    n_actions: int,\n",
    "    positions=(0,1,2),\n",
    "    R: int = 10_000,\n",
    "    seed: int = 7,\n",
    "    use_zozo_prior: bool = False,\n",
    "    n_sim_snapshot: int = 100_000,\n",
    "):\n",
    "    \"\"\"\n",
    "    One BernoulliTS per position; update each with samples from its slot for R rounds.\n",
    "    Returns: pmf_after (dict pos -> length-K prob vector).\n",
    "    \"\"\"\n",
    "    positions = list(positions)\n",
    "    policies = {\n",
    "        pos: BernoulliTS(\n",
    "            n_actions=n_actions, len_list=1,\n",
    "            is_zozotown_prior=use_zozo_prior, campaign=\"all\",\n",
    "            random_state=seed + pos\n",
    "        )\n",
    "        for pos in positions\n",
    "    }\n",
    "\n",
    "    # simulate R updates using one logged row per position each round\n",
    "    for _ in range(R):\n",
    "        samp = (df.groupby(\"position\", group_keys=False)\n",
    "                  .apply(lambda x: x.sample(1, random_state=None))\n",
    "                  .reset_index(drop=True))\n",
    "        for _, r in samp.iterrows():\n",
    "            pos = int(r[\"position\"]); a = int(r[\"action\"]); y = int(r[\"reward\"])\n",
    "            policies[pos].update_params(action=a, reward=y)\n",
    "\n",
    "    # snapshot per-position selection distribution (len_list=1 => (1, K, 1))\n",
    "    pmf_after = {}\n",
    "    for pos in positions:\n",
    "        ad = policies[pos].compute_batch_action_dist(n_rounds=1, n_sim=n_sim_snapshot)\n",
    "        pmf_after[pos] = ad[0, :, 0]  # (K,)\n",
    "        # normalize just in case of tiny MC drift\n",
    "        s = pmf_after[pos].sum()\n",
    "        pmf_after[pos] = pmf_after[pos] / s if s > 0 else np.full(n_actions, 1.0/n_actions)\n",
    "\n",
    "    return pmf_after\n",
    "\n",
    "def ts_to_action_dist(pmf_by_pos: dict[int, np.ndarray], bf: dict, positions=(0,1,2)) -> np.ndarray:\n",
    "    \"\"\"\n",
    "    Convert factorized TS per-position vectors into OBP shape (T, K, L).\n",
    "    \"\"\"\n",
    "    K = bf[\"n_actions\"]; T = bf[\"n_rounds\"]; L = len(positions)\n",
    "    action_dist = np.zeros((T, K, L), dtype=float)\n",
    "    for slot_idx, pos in enumerate(positions):\n",
    "        vec = np.asarray(pmf_by_pos[pos], dtype=float)\n",
    "        s = vec.sum(); vec = vec / s if s > 0 else np.full(K, 1.0/K)\n",
    "        action_dist[:, :, slot_idx] = vec[None, :]\n",
    "    # safety check\n",
    "    sums = action_dist.sum(axis=1)\n",
    "    if not np.allclose(sums, 1.0, atol=1e-8):\n",
    "        raise ValueError(f\"action_dist rows must sum to 1 (min={sums.min()}, max={sums.max()})\")\n",
    "    return action_dist\n",
    "\n",
    "def compare_rl_vs_ts(\n",
    "    df: pd.DataFrame,\n",
    "    bf: dict,\n",
    "    positions=(0,1,2),\n",
    "    # RL config\n",
    "    n_rounds_rl=10_000, lr=0.1, baseline=True, seed_rl=7, init_scale=0.0,\n",
    "    # TS config\n",
    "    R_ts=10_000, seed_ts=7, use_zozo_prior=False, n_sim_snapshot=100_000,\n",
    "):\n",
    "    \"\"\"\n",
    "    Train RL and factorized TS, evaluate both with OPE, and return:\n",
    "      - results_df: metrics table\n",
    "      - figs: dict with 'rl_vs_ctr' and 'bar_metrics' Plotly figs\n",
    "      - action_dists: dict with 'rl' and 'ts' OBP-shaped tensors\n",
    "    \"\"\"\n",
    "    K = bf[\"n_actions\"]\n",
    "\n",
    "    # 1) RL: train + plot + OPE\n",
    "    fig_rl, learned_p_rl, action_dist_rl, metrics_rl = train_plot_ope(\n",
    "        df=df, bf=bf, positions=positions,\n",
    "        n_rounds_rl=n_rounds_rl, lr=lr, baseline=baseline, seed=seed_rl, init_scale=init_scale,\n",
    "        title=None  # auto-title already includes config\n",
    "    )\n",
    "\n",
    "    # 2) Factorized TS: train + OPE\n",
    "    pmf_ts = train_factorized_ts(\n",
    "        df=df, n_actions=K, positions=positions,\n",
    "        R=R_ts, seed=seed_ts, use_zozo_prior=use_zozo_prior, n_sim_snapshot=n_sim_snapshot,\n",
    "    )\n",
    "    action_dist_ts = ts_to_action_dist(pmf_ts, bf, positions=positions)\n",
    "    metrics_ts = eval_with_ope(bf, action_dist_ts)\n",
    "\n",
    "    # 3) Tidy comparison table\n",
    "    results = pd.DataFrame([\n",
    "        {\"policy\": \"RL (REINFORCE)\",\n",
    "         \"logged_avg_reward\": metrics_rl[\"logged_avg_reward\"],\n",
    "         \"ipw\": metrics_rl[\"ipw\"],\n",
    "         \"snipw\": metrics_rl[\"snipw\"],\n",
    "         \"ipw_over_logged\": metrics_rl[\"ipw_over_logged\"],\n",
    "         \"snipw_over_logged\": metrics_rl[\"snipw_over_logged\"],\n",
    "         \"config\": {\"n_rounds_rl\": n_rounds_rl, \"lr\": lr, \"baseline\": baseline, \"seed\": seed_rl}},\n",
    "        {\"policy\": \"Factorized TS\",\n",
    "         \"logged_avg_reward\": metrics_ts[\"logged_avg_reward\"],\n",
    "         \"ipw\": metrics_ts[\"ipw\"],\n",
    "         \"snipw\": metrics_ts[\"snipw\"],\n",
    "         \"ipw_over_logged\": metrics_ts[\"ipw_over_logged\"],\n",
    "         \"snipw_over_logged\": metrics_ts[\"snipw_over_logged\"],\n",
    "         \"config\": {\"R_ts\": R_ts, \"seed\": seed_ts, \"use_zozo_prior\": use_zozo_prior}},\n",
    "    ])\n",
    "\n",
    "    # 4) Small bar chart comparing estimated values\n",
    "    fig_bar = go.Figure()\n",
    "    for row in results.itertuples(index=False):\n",
    "        fig_bar.add_bar(name=row.policy, x=[\"IPW\",\"SNIPW\"], y=[row.ipw, row.snipw])\n",
    "    fig_bar.update_layout(\n",
    "        title=\"OPE comparison: RL vs Factorized TS (higher is better)\",\n",
    "        barmode=\"group\", template=\"plotly_white\", yaxis_title=\"Estimated policy value\"\n",
    "    )\n",
    "\n",
    "    figs = {\"rl_vs_ctr\": fig_rl, \"bar_metrics\": fig_bar}\n",
    "    action_dists = {\"rl\": action_dist_rl, \"ts\": action_dist_ts}\n",
    "    return results, figs, action_dists"
   ]
  },
  {
   "cell_type": "code",
   "execution_count": null,
   "id": "eac4e9d8",
   "metadata": {},
   "outputs": [],
   "source": [
    "bf"
   ]
  },
  {
   "cell_type": "code",
   "execution_count": null,
   "id": "afb2572d",
   "metadata": {},
   "outputs": [],
   "source": [
    "# Compare with defaults (10k RL steps vs 10k TS updates)\n",
    "results, figs, action_dists = compare_rl_vs_ts(\n",
    "    df=df, bf=bf, positions=[0,1,2],\n",
    "    n_rounds_rl=10_000, lr=0.1, baseline=True, seed_rl=7,\n",
    "    R_ts=10_000, seed_ts=7, use_zozo_prior=False\n",
    ")\n",
    "\n",
    "# Show plots\n",
    "figs[\"rl_vs_ctr\"].show()   # RL selection probs vs empirical CTR (per position)\n",
    "figs[\"bar_metrics\"].show() # IPW & SNIPW bars: RL vs TS\n",
    "\n",
    "# Inspect table\n",
    "print(results)\n",
    "\n",
    "# If you want to feed either policy into other OBP estimators, you already have:\n",
    "# action_dists[\"rl\"]  and  action_dists[\"ts\"]  in shape (n_rounds, n_actions, len_list)"
   ]
  },
  {
   "cell_type": "code",
   "execution_count": null,
   "id": "451cebcb",
   "metadata": {},
   "outputs": [],
   "source": [
    "results"
   ]
  },
  {
   "cell_type": "code",
   "execution_count": null,
   "id": "ed8fd571",
   "metadata": {},
   "outputs": [],
   "source": [
    "results['config'][0]"
   ]
  },
  {
   "cell_type": "code",
   "execution_count": null,
   "id": "72ac2317",
   "metadata": {},
   "outputs": [],
   "source": [
    "results['config'][1]"
   ]
  },
  {
   "cell_type": "markdown",
   "id": "28d3e510",
   "metadata": {},
   "source": []
  },
  {
   "cell_type": "code",
   "execution_count": null,
   "id": "b48f3d6f",
   "metadata": {},
   "outputs": [],
   "source": [
    "# Suppose `results` is your DataFrame\n",
    "config_df = pd.json_normalize(results[\"config\"])   # turn list of dicts into a DataFrame\n",
    "results_expanded = results.drop(columns=\"config\").join(config_df)\n",
    "\n",
    "results_expanded"
   ]
  },
  {
   "cell_type": "code",
   "execution_count": null,
   "id": "e4d222ad",
   "metadata": {},
   "outputs": [],
   "source": [
    "df.head()"
   ]
  },
  {
   "cell_type": "code",
   "execution_count": null,
   "id": "0b567d49",
   "metadata": {},
   "outputs": [],
   "source": [
    "!jupyter nbconvert --to script bandit.ipynb"
   ]
  },
  {
   "cell_type": "code",
   "execution_count": null,
   "id": "4eda6803",
   "metadata": {},
   "outputs": [],
   "source": []
  }
 ],
 "metadata": {
  "kernelspec": {
   "display_name": "obp_replication",
   "language": "python",
   "name": "python3"
  },
  "language_info": {
   "codemirror_mode": {
    "name": "ipython",
    "version": 3
   },
   "file_extension": ".py",
   "mimetype": "text/x-python",
   "name": "python",
   "nbconvert_exporter": "python",
   "pygments_lexer": "ipython3",
   "version": "3.10.18"
  }
 },
 "nbformat": 4,
 "nbformat_minor": 5
}
