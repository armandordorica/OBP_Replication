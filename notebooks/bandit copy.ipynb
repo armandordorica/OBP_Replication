{
 "cells": [
  {
   "cell_type": "code",
   "execution_count": null,
   "id": "1fe0e55f",
   "metadata": {},
   "outputs": [],
   "source": [
    "# --- Offline simulation: probability of each action over 5 rounds (single slot) ---\n",
    "\n",
    "from typing import Any, Dict, Iterable, Optional, Tuple\n",
    "\n",
    "import matplotlib.pyplot as plt\n",
    "import numpy as np\n",
    "import pandas as pd\n",
    "import plotly.express as px\n",
    "import plotly.graph_objects as go\n",
    "from obp.dataset import OpenBanditDataset\n",
    "from plotly.subplots import make_subplots\n",
    "\n",
    "SEED = 7\n",
    "rng = np.random.RandomState(SEED)\n",
    "\n",
    "pd.set_option('display.max_rows', 500)\n",
    "pd.set_option('display.max_columns', 500)\n",
    "pd.set_option('display.width', 1000)\n"
   ]
  },
  {
   "cell_type": "markdown",
   "id": "b7af295b",
   "metadata": {},
   "source": [
    "### Helper Functions"
   ]
  },
  {
   "cell_type": "code",
   "execution_count": null,
   "id": "8e77d402",
   "metadata": {},
   "outputs": [],
   "source": [
    "def exact_pmf_one_update(K: int, updated_arm: int, reward: int):\n",
    "    \"\"\"\n",
    "    Closed-form TS selection probabilities when all arms start Beta(1,1),\n",
    "    and exactly one arm is updated once at this position (no MC).\n",
    "    \"\"\"\n",
    "    p = np.empty(K, dtype=float)\n",
    "    if reward == 1:\n",
    "        p_updated = 2.0 / (K + 1.0)              # updated arm\n",
    "        p_others  = 1.0 / (K + 1.0)              # every other arm\n",
    "    else:\n",
    "        p_updated = 2.0 / (K * (K + 1.0))        # updated arm\n",
    "        p_others  = (1.0 - p_updated) / (K - 1.) # spread remainder evenly\n",
    "    p.fill(p_others)\n",
    "    p[updated_arm] = p_updated\n",
    "    return p\n",
    "\n",
    "def make_probs_df(round_num: int, alpha, beta, pmf_by_pos):\n",
    "    \"\"\"Build a wide DataFrame for a given round with selection probs and \u03b1/\u03b2 per position.\"\"\"\n",
    "    rows = []\n",
    "    for a in range(n_actions):\n",
    "        row = {\"round\": round_num, \"action\": a}\n",
    "        for pos in positions:\n",
    "            row[f\"p_pos{pos}\"]     = pmf_by_pos[pos][a]\n",
    "            row[f\"alpha_pos{pos}\"] = alpha[pos][a]\n",
    "            row[f\"beta_pos{pos}\"]  = beta[pos][a]\n",
    "        rows.append(row)\n",
    "    return pd.DataFrame(rows)\n",
    "\n",
    "def plot_empirical_means(\n",
    "    df: pd.DataFrame,\n",
    "    group_col: str = \"action\",\n",
    "    value_col: str = \"reward\",\n",
    "    title: str | None = None,\n",
    "    height: int = 500,\n",
    "):\n",
    "    \"\"\"\n",
    "    Plot empirical mean (e.g. CTR) of a value_col grouped by group_col.\n",
    "\n",
    "    Parameters\n",
    "    ----------\n",
    "    df : pd.DataFrame\n",
    "        Must contain group_col and value_col.\n",
    "    group_col : str, default=\"action\"\n",
    "        Column to group by (x-axis).\n",
    "    value_col : str, default=\"reward\"\n",
    "        Column to average (y-axis).\n",
    "    title : str, optional\n",
    "        Plot title (default auto-generated).\n",
    "    height : int, default=500\n",
    "        Plot height in pixels.\n",
    "\n",
    "    Returns\n",
    "    -------\n",
    "    fig : plotly.graph_objects.Figure\n",
    "        The bar chart figure.\n",
    "    \"\"\"\n",
    "    # compute means\n",
    "    means = df.groupby(group_col)[value_col].mean().reset_index()\n",
    "    means.rename(columns={value_col: f\"mean_{value_col}\"}, inplace=True)\n",
    "\n",
    "    # plot\n",
    "    fig = px.bar(\n",
    "        means,\n",
    "        x=group_col,\n",
    "        y=f\"mean_{value_col}\",\n",
    "        labels={group_col: group_col.capitalize(), f\"mean_{value_col}\": f\"Mean {value_col}\"},\n",
    "        title=title or f\"Empirical mean of {value_col} by {group_col}\",\n",
    "    )\n",
    "\n",
    "    # beautify x-axis ticks\n",
    "    fig.update_layout(\n",
    "        xaxis=dict(\n",
    "            tickmode=\"array\",\n",
    "            tickvals=means[group_col],\n",
    "            ticktext=[str(v) for v in means[group_col]],\n",
    "            title=group_col.capitalize(),\n",
    "        ),\n",
    "        yaxis=dict(title=f\"Mean {value_col}\"),\n",
    "        template=\"plotly_white\",\n",
    "        height=height,\n",
    "    )\n",
    "    return fig\n",
    "\n",
    "\n",
    "def plot_pmf_compare_by_position(\n",
    "    pmf_round_A: dict[int, np.ndarray],\n",
    "    pmf_round_B: dict[int, np.ndarray],\n",
    "    positions: list[int],\n",
    "    n_actions: int,\n",
    "    title: str = \"Selection probabilities by position\",\n",
    "    round_labels: tuple[str, str] = (\"Round 0 (uniform)\", \"Round 1 (updated)\"),\n",
    "    colors: tuple[str, str] = (\"steelblue\", \"darkorange\"),\n",
    "    height_per_row: int = 300,\n",
    ") -> go.Figure:\n",
    "    fig = make_subplots(\n",
    "        rows=len(positions), cols=1, shared_xaxes=False,\n",
    "        subplot_titles=[f\"Position {p}\" for p in positions],\n",
    "        vertical_spacing=0.08\n",
    "    )\n",
    "\n",
    "    xs = np.arange(n_actions)\n",
    "    tick_vals = xs\n",
    "    tick_txt  = [str(a) for a in xs]\n",
    "\n",
    "    for i, pos in enumerate(positions, start=1):\n",
    "        yA = pmf_round_A[pos]\n",
    "        yB = pmf_round_B[pos]\n",
    "        ymax = float(max(yA.max(), yB.max())) * 1.25 if (yA.size and yB.size) else 0.02\n",
    "\n",
    "        fig.add_trace(\n",
    "            go.Bar(\n",
    "                x=xs, y=yA, name=round_labels[0],\n",
    "                marker=dict(color=colors[0]),\n",
    "                opacity=0.6, legendgroup=\"roundA\",\n",
    "                showlegend=(i == 1),\n",
    "                customdata=np.column_stack([np.full(n_actions, pos)]),\n",
    "                hovertemplate=(\n",
    "                    \"Position: %{customdata[0]}<br>\"\n",
    "                    \"Action: %{x}<br>\"\n",
    "                    f\"{round_labels[0]}<br>P: %{{y:.6f}}<extra></extra>\"\n",
    "                ),\n",
    "            ),\n",
    "            row=i, col=1\n",
    "        )\n",
    "        fig.add_trace(\n",
    "            go.Bar(\n",
    "                x=xs, y=yB, name=round_labels[1],\n",
    "                marker=dict(color=colors[1]),\n",
    "                opacity=0.85, legendgroup=\"roundB\",\n",
    "                showlegend=(i == 1),\n",
    "                customdata=np.column_stack([np.full(n_actions, pos)]),\n",
    "                hovertemplate=(\n",
    "                    \"Position: %{customdata[0]}<br>\"\n",
    "                    \"Action: %{x}<br>\"\n",
    "                    f\"{round_labels[1]}<br>P: %{{y:.6f}}<extra></extra>\"\n",
    "                ),\n",
    "            ),\n",
    "            row=i, col=1\n",
    "        )\n",
    "\n",
    "        fig.update_yaxes(title_text=\"P(action selected)\", range=[0, ymax], row=i, col=1)\n",
    "        fig.update_xaxes(\n",
    "            tickmode=\"array\", tickvals=tick_vals, ticktext=tick_txt,\n",
    "            showticklabels=True, ticks=\"outside\",\n",
    "            title_text=f\"Action ID (0\u2013{n_actions-1})\" if i == len(positions) else \"\",\n",
    "            row=i, col=1\n",
    "        )\n",
    "\n",
    "    fig.update_layout(\n",
    "        title=title, barmode=\"group\", bargap=0.15,\n",
    "        template=\"plotly_white\", height=height_per_row * len(positions) + 120,\n",
    "    )\n",
    "    return fig\n",
    "\n",
    "from typing import Iterable, Dict, Any, Optional, Tuple\n",
    "import numpy as np\n",
    "import pandas as pd\n",
    "import plotly.graph_objects as go\n",
    "from plotly.subplots import make_subplots\n",
    "\n",
    "\n",
    "class ThompsonSlateTracker:\n",
    "    def __init__(\n",
    "        self,\n",
    "        df: pd.DataFrame,\n",
    "        n_actions: int,\n",
    "        positions: Iterable[int] = (0, 1, 2),\n",
    "        seed: int = 7,\n",
    "        factorize_by_position: bool = True,  # False => vanilla TS\n",
    "    ):\n",
    "        \"\"\"\n",
    "        df: DataFrame with columns ['action','position','reward','pscore']\n",
    "        n_actions: number of actions (e.g., 80)\n",
    "        positions: iterable of slot indices (only used if factorize_by_position=True)\n",
    "        factorize_by_position: if True -> one bandit per position; else -> single vanilla bandit\n",
    "        \"\"\"\n",
    "        self.df = df\n",
    "        self.n_actions = int(n_actions)\n",
    "        self.factorize = bool(factorize_by_position)\n",
    "        self.rng = np.random.RandomState(seed)\n",
    "\n",
    "        if self.factorize:\n",
    "            # independent bandit per position\n",
    "            self.positions = tuple(positions)\n",
    "            self.bandit_keys = list(self.positions)  # rows to plot\n",
    "        else:\n",
    "            # single bandit that ignores position\n",
    "            self.positions = tuple(positions)  # kept for compatibility, not used in updates\n",
    "            self.bandit_keys = [\"all\"]  # one row to plot\n",
    "\n",
    "        # priors \u03b1,\u03b2 per bandit_key\n",
    "        self.alpha = {k: np.ones(self.n_actions, dtype=float) for k in self.bandit_keys}\n",
    "        self.beta = {k: np.ones(self.n_actions, dtype=float) for k in self.bandit_keys}\n",
    "\n",
    "        # history\n",
    "        self.round = 0\n",
    "        self.pmfs: Dict[int, Dict[Any, np.ndarray]] = {}     # round -> {bandit_key -> np.array(n_actions)}\n",
    "        self.samples: Dict[int, pd.DataFrame] = {}           # round -> DataFrame of sampled rows\n",
    "\n",
    "        # round 0 PMF snapshot (uniform)\n",
    "        pmf0 = {k: np.full(self.n_actions, 1.0 / self.n_actions) for k in self.bandit_keys}\n",
    "        self.pmfs[0] = pmf0\n",
    "        self.samples[0] = pd.DataFrame(columns=[\"action\", \"position\", \"reward\", \"pscore\"])\n",
    "\n",
    "    # ---------- PMF backends ----------\n",
    "    @staticmethod\n",
    "    def _pmf_exact_one_update(K: int, updated_arm: int, reward: int):\n",
    "        \"\"\"Exact closed-form PMF when starting from Beta(1,1) and exactly one arm updated once.\"\"\"\n",
    "        p = np.empty(K, dtype=float)\n",
    "        if reward == 1:\n",
    "            p_updated = 2.0 / (K + 1.0)\n",
    "            p_others = 1.0 / (K + 1.0)\n",
    "        else:\n",
    "            p_updated = 2.0 / (K * (K + 1.0))\n",
    "            p_others = (1.0 - p_updated) / (K - 1.0)\n",
    "        p.fill(p_others)\n",
    "        p[updated_arm] = p_updated\n",
    "        return p\n",
    "\n",
    "    @staticmethod\n",
    "    def _pmf_mc(alpha_vec, beta_vec, n_sim=200_000, rng=None):\n",
    "        \"\"\"Monte Carlo PMF: P(action = argmax).\"\"\"\n",
    "        rng = np.random.RandomState() if rng is None else rng\n",
    "        K = len(alpha_vec)\n",
    "        samples = rng.beta(alpha_vec[None, :], beta_vec[None, :], size=(n_sim, K))\n",
    "        winners = samples.argmax(axis=1)\n",
    "        counts = np.bincount(winners, minlength=K)\n",
    "        return counts / counts.sum()\n",
    "\n",
    "    def _can_use_exact(self, key) -> Tuple[bool, Optional[int], Optional[int]]:\n",
    "        \"\"\"Exact valid iff all (\u03b1,\u03b2)=(1,1) except possibly one arm with (2,1) or (1,2).\"\"\"\n",
    "        a = self.alpha[key]\n",
    "        b = self.beta[key]\n",
    "        mask_11 = (a == 1) & (b == 1)\n",
    "        if mask_11.all():\n",
    "            return True, None, None\n",
    "        idx = np.where(~mask_11)[0]\n",
    "        if len(idx) != 1:\n",
    "            return False, None, None\n",
    "        j = int(idx[0])\n",
    "        pair = (a[j], b[j])\n",
    "        if pair == (2, 1):\n",
    "            return True, j, 1\n",
    "        if pair == (1, 2):\n",
    "            return True, j, 0\n",
    "        return False, None, None\n",
    "\n",
    "    # ---------- Sampling / updates ----------\n",
    "    def _sample_batch(self, random_state=None) -> pd.DataFrame:\n",
    "        \"\"\"\n",
    "        Returns sampled rows used for this round:\n",
    "          - factorized: one row per position\n",
    "          - vanilla:    a single row from the entire df\n",
    "        \"\"\"\n",
    "        if self.factorize:\n",
    "            return (\n",
    "                self.df.groupby(\"position\", group_keys=False)\n",
    "                .apply(lambda x: x.sample(1, random_state=random_state))\n",
    "                .reset_index(drop=True)\n",
    "            )\n",
    "        else:\n",
    "            return self.df.sample(1, random_state=random_state).reset_index(drop=True)\n",
    "\n",
    "    def apply_updates(self, sampled_rows: pd.DataFrame):\n",
    "        \"\"\"Update \u03b1/\u03b2 from sampled rows.\"\"\"\n",
    "        for _, r in sampled_rows.iterrows():\n",
    "            a = int(r[\"action\"])\n",
    "            y = int(r[\"reward\"])\n",
    "            if self.factorize:\n",
    "                key = int(r[\"position\"])\n",
    "            else:\n",
    "                key = \"all\"  # ignore position\n",
    "            self.alpha[key][a] += y\n",
    "            self.beta[key][a] += (1 - y)\n",
    "\n",
    "    def snapshot_pmfs(self, use_mc_if_needed=True, n_sim=200_000):\n",
    "        \"\"\"Compute PMF for each bandit_key; store under current round.\"\"\"\n",
    "        pmf = {}\n",
    "        for key in self.bandit_keys:\n",
    "            ok_exact, idx, rew = self._can_use_exact(key)\n",
    "            if ok_exact:\n",
    "                if idx is None:\n",
    "                    pmf[key] = np.full(self.n_actions, 1.0 / self.n_actions, dtype=float)\n",
    "                else:\n",
    "                    pmf[key] = self._pmf_exact_one_update(self.n_actions, idx, rew)\n",
    "            else:\n",
    "                if not use_mc_if_needed:\n",
    "                    raise RuntimeError(\n",
    "                        f\"Exact closed-form not valid for '{key}' after round {self.round}. \"\n",
    "                        \"Set use_mc_if_needed=True to compute PMFs.\"\n",
    "                    )\n",
    "                pmf[key] = self._pmf_mc(self.alpha[key], self.beta[key], n_sim=n_sim, rng=self.rng)\n",
    "        self.pmfs[self.round] = pmf\n",
    "\n",
    "    def next_round(self, random_state=None, use_mc_if_needed=True, n_sim=200_000) -> pd.DataFrame:\n",
    "        \"\"\"Advance one round: sample, update, snapshot.\"\"\"\n",
    "        self.round += 1\n",
    "        samp = self._sample_batch(random_state=random_state)\n",
    "        self.samples[self.round] = samp\n",
    "        self.apply_updates(samp)\n",
    "        self.snapshot_pmfs(use_mc_if_needed=use_mc_if_needed, n_sim=n_sim)\n",
    "        return samp\n",
    "\n",
    "    # ---------- Plot ----------\n",
    "    def _round_picks_by_key(self, round_id: int):\n",
    "        \"\"\"\n",
    "        Return a dict: key -> {'action': int, 'reward': int} for that round's sampled row(s).\n",
    "        - factorized: one per position key\n",
    "        - vanilla:    one under key 'all'\n",
    "        If round_id == 0 (no samples), returns {}.\n",
    "        \"\"\"\n",
    "        if round_id not in self.samples or self.samples[round_id].empty:\n",
    "            return {}\n",
    "        picks = {}\n",
    "        df_s = self.samples[round_id]\n",
    "        if self.factorize:\n",
    "            for _, r in df_s.iterrows():\n",
    "                pos = int(r[\"position\"])\n",
    "                picks[pos] = {\"action\": int(r[\"action\"]), \"reward\": int(r[\"reward\"])}\n",
    "        else:\n",
    "            r = df_s.iloc[0]\n",
    "            picks[\"all\"] = {\"action\": int(r[\"action\"]), \"reward\": int(r[\"reward\"])}\n",
    "        return picks\n",
    "\n",
    "    def plot_compare(\n",
    "        self,\n",
    "        round_a: int,\n",
    "        round_b: int,\n",
    "        height=900,\n",
    "        title=None,\n",
    "        show_picks: bool = True,\n",
    "        pick_marker_a=dict(color=\"crimson\", symbol=\"triangle-up\", size=12),\n",
    "        pick_marker_b=dict(color=\"forestgreen\", symbol=\"diamond\", size=11),\n",
    "    ):\n",
    "        \"\"\"Grouped bars comparing PMFs of two rounds; optionally highlight sampled picks.\"\"\"\n",
    "        if round_a not in self.pmfs or round_b not in self.pmfs:\n",
    "            raise KeyError(\"Requested rounds not in history. Call next_round() first.\")\n",
    "\n",
    "        pmf_a = self.pmfs[round_a]\n",
    "        pmf_b = self.pmfs[round_b]\n",
    "        n_actions = self.n_actions\n",
    "        row_keys = self.bandit_keys  # ['all'] or [positions...]\n",
    "\n",
    "        # gather picks (if any) for each round\n",
    "        picks_a = self._round_picks_by_key(round_a)\n",
    "        picks_b = self._round_picks_by_key(round_b)\n",
    "\n",
    "        fig = make_subplots(\n",
    "            rows=len(row_keys),\n",
    "            cols=1,\n",
    "            shared_xaxes=False,\n",
    "            subplot_titles=[f\"Position {k}\" if k != \"all\" else \"Vanilla TS\" for k in row_keys],\n",
    "            vertical_spacing=0.08,\n",
    "        )\n",
    "\n",
    "        xs = np.arange(n_actions)\n",
    "        labels = [str(a) for a in xs]\n",
    "\n",
    "        for i, key in enumerate(row_keys, start=1):\n",
    "            yA = pmf_a[key]\n",
    "            yB = pmf_b[key]\n",
    "            ymax = float(max(yA.max(), yB.max())) * 1.25\n",
    "\n",
    "            # Bars for the two rounds\n",
    "            fig.add_bar(\n",
    "                x=xs,\n",
    "                y=yA,\n",
    "                name=f\"Round {round_a}\",\n",
    "                marker_color=\"steelblue\",\n",
    "                opacity=0.6,\n",
    "                showlegend=(i == 1),\n",
    "                row=i,\n",
    "                col=1,\n",
    "            )\n",
    "            fig.add_bar(\n",
    "                x=xs,\n",
    "                y=yB,\n",
    "                name=f\"Round {round_b}\",\n",
    "                marker_color=\"darkorange\",\n",
    "                opacity=0.85,\n",
    "                showlegend=(i == 1),\n",
    "                row=i,\n",
    "                col=1,\n",
    "            )\n",
    "\n",
    "            # Optional markers for the sampled pick(s) that updated the round\n",
    "            if show_picks:\n",
    "                # Round A pick on its PMF\n",
    "                if key in picks_a:\n",
    "                    a_pick = picks_a[key][\"action\"]\n",
    "                    r_pick = picks_a[key][\"reward\"]\n",
    "                    fig.add_trace(\n",
    "                        go.Scatter(\n",
    "                            x=[a_pick],\n",
    "                            y=[yA[a_pick]],\n",
    "                            mode=\"markers\",\n",
    "                            marker=pick_marker_a,\n",
    "                            name=f\"Picked (r={round_a})\",\n",
    "                            showlegend=(i == 1),\n",
    "                            hovertemplate=(\n",
    "                                f\"Round {round_a}<br>\"\n",
    "                                f\"{'Position' if key!='all' else 'Bandit'}: {key}<br>\"\n",
    "                                \"Action: %{x}<br>\"\n",
    "                                \"P: %{y:.6f}<br>\"\n",
    "                                f\"Reward: {r_pick}<extra></extra>\"\n",
    "                            ),\n",
    "                        ),\n",
    "                        row=i,\n",
    "                        col=1,\n",
    "                    )\n",
    "\n",
    "                # Round B pick on its PMF\n",
    "                if key in picks_b:\n",
    "                    b_pick = picks_b[key][\"action\"]\n",
    "                    r_pick = picks_b[key][\"reward\"]\n",
    "                    fig.add_trace(\n",
    "                        go.Scatter(\n",
    "                            x=[b_pick],\n",
    "                            y=[yB[b_pick]],\n",
    "                            mode=\"markers\",\n",
    "                            marker=pick_marker_b,\n",
    "                            name=f\"Picked (r={round_b})\",\n",
    "                            showlegend=(i == 1),\n",
    "                            hovertemplate=(\n",
    "                                f\"Round {round_b}<br>\"\n",
    "                                f\"{'Position' if key!='all' else 'Bandit'}: {key}<br>\"\n",
    "                                \"Action: %{x}<br>\"\n",
    "                                \"P: %{y:.6f}<br>\"\n",
    "                                f\"Reward: {r_pick}<extra></extra>\"\n",
    "                            ),\n",
    "                        ),\n",
    "                        row=i,\n",
    "                        col=1,\n",
    "                    )\n",
    "\n",
    "            # Axes\n",
    "            fig.update_yaxes(title_text=\"P(select)\", range=[0, ymax], row=i, col=1)\n",
    "            fig.update_xaxes(\n",
    "                tickmode=\"array\",\n",
    "                tickvals=xs,\n",
    "                ticktext=labels,\n",
    "                title_text=f\"Action ID (0\u2013{n_actions-1})\" if i == len(row_keys) else \"\",\n",
    "                row=i,\n",
    "                col=1,\n",
    "            )\n",
    "\n",
    "        ttl = title or (\n",
    "            f\"{'Position-aware' if self.factorize else 'Vanilla'} Thompson Sampling: \"\n",
    "            f\"Round {round_a} vs Round {round_b}\"\n",
    "        )\n",
    "        fig.update_layout(\n",
    "            title=ttl,\n",
    "            barmode=\"group\",\n",
    "            bargap=0.15,\n",
    "            template=\"plotly_white\",\n",
    "            height=max(350 * len(row_keys), 450),\n",
    "        )\n",
    "        fig.show()\n",
    "\n",
    "    # ---------- small conveniences ----------\n",
    "    def get_pmf(self, round_id: Optional[int] = None) -> Dict[Any, np.ndarray]:\n",
    "        \"\"\"Return PMFs for a given round (default: current).\"\"\"\n",
    "        rid = self.round if round_id is None else round_id\n",
    "        if rid not in self.pmfs:\n",
    "            raise KeyError(f\"No PMF stored for round {rid}.\")\n",
    "        return self.pmfs[rid]\n",
    "\n",
    "    def rollout(self, n_rounds: int, **kwargs) -> None:\n",
    "        \"\"\"Run multiple rounds back-to-back (stores samples/pmfs as usual).\"\"\"\n",
    "        for _ in range(int(n_rounds)):\n",
    "            self.next_round(**kwargs)\n",
    "\n",
    "    def reset(self):\n",
    "        \"\"\"Reset posteriors and history to round 0 (uniform).\"\"\"\n",
    "        for k in self.bandit_keys:\n",
    "            self.alpha[k].fill(1.0)\n",
    "            self.beta[k].fill(1.0)\n",
    "        self.round = 0\n",
    "        self.pmfs = {0: {k: np.full(self.n_actions, 1.0 / self.n_actions) for k in self.bandit_keys}}\n",
    "        self.samples = {0: pd.DataFrame(columns=[\"action\", \"position\", \"reward\", \"pscore\"])}\n",
    "\n",
    "\n",
    "\n",
    "\n",
    "def plot_empirical_ctr_by_position(\n",
    "    df: pd.DataFrame,\n",
    "    positions: list[int] | None = None,\n",
    "    n_actions: int | None = None,\n",
    "    height_per_row: int = 300,\n",
    "    title: str = \"Empirical CTR per Action (split by Position)\",\n",
    ") -> go.Figure:\n",
    "    \"\"\"\n",
    "    Make a multi-row bar chart where each row is a position and bars show\n",
    "    empirical CTR (= mean reward) per action for that position.\n",
    "\n",
    "    Parameters\n",
    "    ----------\n",
    "    df : DataFrame with columns ['action','position','reward', ...]\n",
    "    positions : list[int] | None\n",
    "        Which positions to plot. Defaults to all positions present in df (sorted).\n",
    "    n_actions : int | None\n",
    "        If given, ensures x-axis shows 0..n_actions-1 and fills missing actions with CTR=0.\n",
    "        If None, uses only the actions present for each position.\n",
    "    height_per_row : int\n",
    "        Height per subplot row.\n",
    "    title : str\n",
    "        Figure title.\n",
    "\n",
    "    Returns\n",
    "    -------\n",
    "    fig : plotly.graph_objects.Figure\n",
    "    \"\"\"\n",
    "    # 1) compute mean reward per (position, action)\n",
    "    ctr = (\n",
    "        df.groupby([\"position\", \"action\"])[\"reward\"]\n",
    "          .mean()\n",
    "          .reset_index(name=\"ctr\")\n",
    "    )\n",
    "\n",
    "    # positions to plot\n",
    "    if positions is None:\n",
    "        positions = sorted(df[\"position\"].unique().tolist())\n",
    "\n",
    "    # 2) build subplots\n",
    "    fig = make_subplots(\n",
    "        rows=len(positions), cols=1, shared_xaxes=False,\n",
    "        subplot_titles=[f\"Position {p}\" for p in positions],\n",
    "        vertical_spacing=0.08\n",
    "    )\n",
    "\n",
    "    # helper for x-axis domain and filling\n",
    "    def _prep_pos_slice(pos: int):\n",
    "        sub = ctr[ctr[\"position\"] == pos][[\"action\", \"ctr\"]].copy()\n",
    "        if n_actions is not None:\n",
    "            # fill missing actions with 0 CTR to show full 0..n_actions-1\n",
    "            all_actions = pd.DataFrame({\"action\": np.arange(n_actions)})\n",
    "            sub = all_actions.merge(sub, on=\"action\", how=\"left\").fillna({\"ctr\": 0.0})\n",
    "        sub.sort_values(\"action\", inplace=True)\n",
    "        return sub\n",
    "\n",
    "    # 3) per-row bars + axes\n",
    "    for i, pos in enumerate(positions, start=1):\n",
    "        sub = _prep_pos_slice(pos)\n",
    "        xs = sub[\"action\"].to_numpy()\n",
    "        ys = sub[\"ctr\"].to_numpy()\n",
    "        ymax = float(ys.max() * 1.25 if ys.size else 0.02)\n",
    "\n",
    "        fig.add_bar(\n",
    "            x=xs, y=ys,\n",
    "            name=f\"Pos {pos}\",\n",
    "            marker_color=\"steelblue\",\n",
    "            showlegend=False,\n",
    "            row=i, col=1\n",
    "        )\n",
    "        fig.update_yaxes(title_text=\"Empirical CTR\", range=[0, ymax], row=i, col=1)\n",
    "        fig.update_xaxes(\n",
    "            title_text=f\"Action ID (0\u2013{int(xs.max())})\" if i == len(positions) else \"\",\n",
    "            tickmode=\"array\",\n",
    "            tickvals=xs,\n",
    "            ticktext=[str(a) for a in xs],\n",
    "            row=i, col=1\n",
    "        )\n",
    "\n",
    "    fig.update_layout(\n",
    "        title=title,\n",
    "        template=\"plotly_white\",\n",
    "        height=height_per_row * len(positions) + 120\n",
    "    )\n",
    "    return fig\n",
    "\n",
    "\n",
    "\n",
    "\n",
    "def plot_ctr_grouped_by_action_position_discrete(\n",
    "    df: pd.DataFrame,\n",
    "    positions=(0, 1, 2),\n",
    "    title=\"Empirical CTR per Action by Position (discrete, grouped)\"\n",
    ") -> go.Figure:\n",
    "    # mean CTR per (position, action) and fill missing combos with 0\n",
    "    actions_all = np.sort(df[\"action\"].unique())\n",
    "    ctr = (df.groupby([\"position\", \"action\"])[\"reward\"]\n",
    "             .mean()\n",
    "             .reset_index(name=\"ctr\"))\n",
    "    full = (pd.MultiIndex.from_product([positions, actions_all],\n",
    "            names=[\"position\", \"action\"])\n",
    "            .to_frame(index=False))\n",
    "    ctr_full = (full.merge(ctr, on=[\"position\", \"action\"], how=\"left\")\n",
    "                    .fillna({\"ctr\": 0.0}))\n",
    "\n",
    "    # pivot to wide: rows = action, cols = position (ensures discrete series)\n",
    "    wide = ctr_full.pivot(index=\"action\", columns=\"position\", values=\"ctr\").reindex(actions_all).fillna(0.0)\n",
    "\n",
    "    # build grouped bars (one trace per discrete position)\n",
    "    fig = go.Figure()\n",
    "    for pos in positions:\n",
    "        y = wide[pos].to_numpy() if pos in wide.columns else np.zeros(len(wide))\n",
    "        fig.add_bar(\n",
    "            name=f\"Position {pos}\",\n",
    "            x=wide.index.to_numpy(),\n",
    "            y=y,\n",
    "            offsetgroup=str(pos),  # guarantees side-by-side (not stacked/overlapped)\n",
    "            legendgroup=str(pos),\n",
    "        )\n",
    "\n",
    "    fig.update_layout(\n",
    "        title=title,\n",
    "        barmode=\"group\",          # grouped (not stacked)\n",
    "        bargap=0.15,\n",
    "        bargroupgap=0.05,\n",
    "        template=\"plotly_white\",\n",
    "        xaxis=dict(\n",
    "            title=\"Action ID\",\n",
    "            tickmode=\"array\",\n",
    "            tickvals=actions_all,\n",
    "            ticktext=[str(a) for a in actions_all],\n",
    "        ),\n",
    "        yaxis=dict(title=\"Empirical CTR\"),\n",
    "        legend_title_text=\"Position\",\n",
    "        height=600\n",
    "    )\n",
    "    return fig"
   ]
  },
  {
   "cell_type": "markdown",
   "id": "83c08cb2",
   "metadata": {},
   "source": [
    "### Load the data"
   ]
  },
  {
   "cell_type": "code",
   "execution_count": 26,
   "id": "c15815f6",
   "metadata": {},
   "outputs": [
    {
     "name": "stderr",
     "output_type": "stream",
     "text": [
      "INFO:obp.dataset.real:When `data_path` is not given, this class downloads the small-sized version of Open Bandit Dataset.\n"
     ]
    },
    {
     "name": "stdout",
     "output_type": "stream",
     "text": [
      "bandit_feedback keys: dict_keys(['n_rounds', 'n_actions', 'action', 'position', 'reward', 'pscore', 'context', 'action_context'])\n",
      "Rounds: 10,000 | n_actions: 80 | len_list: 3\n"
     ]
    },
    {
     "data": {
      "text/html": [
       "<div>\n",
       "<style scoped>\n",
       "    .dataframe tbody tr th:only-of-type {\n",
       "        vertical-align: middle;\n",
       "    }\n",
       "\n",
       "    .dataframe tbody tr th {\n",
       "        vertical-align: top;\n",
       "    }\n",
       "\n",
       "    .dataframe thead th {\n",
       "        text-align: right;\n",
       "    }\n",
       "</style>\n",
       "<table border=\"1\" class=\"dataframe\">\n",
       "  <thead>\n",
       "    <tr style=\"text-align: right;\">\n",
       "      <th></th>\n",
       "      <th>action</th>\n",
       "      <th>position</th>\n",
       "      <th>reward</th>\n",
       "      <th>pscore</th>\n",
       "    </tr>\n",
       "  </thead>\n",
       "  <tbody>\n",
       "    <tr>\n",
       "      <th>0</th>\n",
       "      <td>14</td>\n",
       "      <td>2</td>\n",
       "      <td>0</td>\n",
       "      <td>0.0125</td>\n",
       "    </tr>\n",
       "    <tr>\n",
       "      <th>1</th>\n",
       "      <td>14</td>\n",
       "      <td>2</td>\n",
       "      <td>0</td>\n",
       "      <td>0.0125</td>\n",
       "    </tr>\n",
       "    <tr>\n",
       "      <th>2</th>\n",
       "      <td>27</td>\n",
       "      <td>2</td>\n",
       "      <td>0</td>\n",
       "      <td>0.0125</td>\n",
       "    </tr>\n",
       "    <tr>\n",
       "      <th>3</th>\n",
       "      <td>48</td>\n",
       "      <td>1</td>\n",
       "      <td>0</td>\n",
       "      <td>0.0125</td>\n",
       "    </tr>\n",
       "    <tr>\n",
       "      <th>4</th>\n",
       "      <td>36</td>\n",
       "      <td>1</td>\n",
       "      <td>0</td>\n",
       "      <td>0.0125</td>\n",
       "    </tr>\n",
       "  </tbody>\n",
       "</table>\n",
       "</div>"
      ],
      "text/plain": [
       "   action  position  reward  pscore\n",
       "0      14         2       0  0.0125\n",
       "1      14         2       0  0.0125\n",
       "2      27         2       0  0.0125\n",
       "3      48         1       0  0.0125\n",
       "4      36         1       0  0.0125"
      ]
     },
     "execution_count": 26,
     "metadata": {},
     "output_type": "execute_result"
    }
   ],
   "source": [
    "\n",
    "# --- Load OBD (Random / all as example) ---\n",
    "ds = OpenBanditDataset(behavior_policy=\"random\", campaign=\"all\")\n",
    "bf = ds.obtain_batch_bandit_feedback()\n",
    "\n",
    "print(\"bandit_feedback keys:\", bf.keys())\n",
    "print(f\"Rounds: {bf['n_rounds']:,} | n_actions: {bf['n_actions']} | len_list: {ds.len_list}\")\n",
    "\n",
    "# Build a DataFrame for convenience\n",
    "df = pd.DataFrame({\n",
    "    \"action\": bf[\"action\"],\n",
    "    \"position\": bf[\"position\"],\n",
    "    \"reward\": bf[\"reward\"],\n",
    "    \"pscore\": bf[\"pscore\"],\n",
    "})\n",
    "\n",
    "df.head()"
   ]
  },
  {
   "cell_type": "code",
   "execution_count": 27,
   "id": "61a9927e",
   "metadata": {},
   "outputs": [
    {
     "data": {
      "text/plain": [
       "(10000, 4)"
      ]
     },
     "execution_count": 27,
     "metadata": {},
     "output_type": "execute_result"
    }
   ],
   "source": [
    "df.shape"
   ]
  },
  {
   "cell_type": "code",
   "execution_count": 28,
   "id": "25d47409",
   "metadata": {},
   "outputs": [
    {
     "data": {
      "text/plain": [
       "action\n",
       "0     0.000000\n",
       "1     0.006250\n",
       "2     0.000000\n",
       "3     0.007937\n",
       "4     0.000000\n",
       "        ...   \n",
       "75    0.000000\n",
       "76    0.000000\n",
       "77    0.000000\n",
       "78    0.000000\n",
       "79    0.000000\n",
       "Name: reward, Length: 80, dtype: float64"
      ]
     },
     "execution_count": 28,
     "metadata": {},
     "output_type": "execute_result"
    }
   ],
   "source": [
    "df.groupby(\"action\")[\"reward\"].mean()"
   ]
  },
  {
   "cell_type": "code",
   "execution_count": 29,
   "id": "6947998e",
   "metadata": {},
   "outputs": [
    {
     "data": {
      "application/vnd.plotly.v1+json": {
       "config": {
        "plotlyServerURL": "https://plot.ly"
       },
       "data": [
        {
         "hovertemplate": "Action=%{x}<br>Mean reward=%{y}<extra></extra>",
         "legendgroup": "",
         "marker": {
          "color": "#636efa",
          "pattern": {
           "shape": ""
          }
         },
         "name": "",
         "orientation": "v",
         "showlegend": false,
         "textposition": "auto",
         "type": "bar",
         "x": {
          "bdata": "AAECAwQFBgcICQoLDA0ODxAREhMUFRYXGBkaGxwdHh8gISIjJCUmJygpKissLS4vMDEyMzQ1Njc4OTo7PD0+P0BBQkNERUZHSElKS0xNTk8=",
          "dtype": "i1"
         },
         "xaxis": "x",
         "y": {
          "bdata": "AAAAAAAAAACamZmZmZl5PwAAAAAAAAAAEARBEARBgD8AAAAAAAAAAAAAAAAAAAAAcUJKnmVEjz/gwIEDBw58PzQsuFS2d30/EARBEARBgD8AAAAAAAAAAAAAAAAAAAAAAAAAAAAAAAAAAAAAAAAAAAAAAAAAAAAAAAAAAAAAAAAAAAAAAAAAAKcQaAqBpoA/Ecg1Ecg1kT8AAAAAAAAAAAAAAAAAAAAAZ7fwqzGRfj8AAAAAAAAAAAAAAAAAAAAAAAAAAAAAAABxQkqeZUR/PwAAAAAAAAAAAAAAAAAAAAAQBEEQBEGAPwAAAAAAAAAAAAAAAAAAAAAAAAAAAAAAAAAAAAAAAAAAAAAAAAAAAAB05QHJOld+PwAAAAAAAAAAO9q8T3HJkD8AAAAAAAAAADvavE9xyYA/AAAAAAAAAAAAAAAAAAAAAB4eHh4eHn4/AAAAAAAAAAAAAAAAAAAAAB4eHh4eHo4/Z7fwqzGRfj++Y2pg75h6P5Z7GmG5p4E/HYGirQbPgT8or6G8hvKaPx4eHh4eHn4/AAAAAAAAAAAAAAAAAAAAABQ4gRM4gZM/AAAAAAAAAAAAAAAAAAAAAAAAAAAAAAAAizPaPWx9iz+SJEmSJEmSPwAAAAAAAAAAAAAAAAAAAAAUO7ETO7GDPwAAAAAAAAAAAAAAAAAAAAAAAAAAAAAAAJCc5mv17IA/AAAAAAAAAAAAAAAAAAAAAAAAAAAAAAAA/Knx0k1igD8AAAAAAAAAABAEQRAEQYA/AAAAAAAAAAAAAAAAAAAAAAAAAAAAAAAAAAAAAAAAAAAAAAAAAAAAAAAAAAAAAAAAAAAAAAAAAAAAAAAAAAAAAA==",
          "dtype": "f8"
         },
         "yaxis": "y"
        }
       ],
       "layout": {
        "barmode": "relative",
        "height": 500,
        "legend": {
         "tracegroupgap": 0
        },
        "template": {
         "data": {
          "bar": [
           {
            "error_x": {
             "color": "#2a3f5f"
            },
            "error_y": {
             "color": "#2a3f5f"
            },
            "marker": {
             "line": {
              "color": "white",
              "width": 0.5
             },
             "pattern": {
              "fillmode": "overlay",
              "size": 10,
              "solidity": 0.2
             }
            },
            "type": "bar"
           }
          ],
          "barpolar": [
           {
            "marker": {
             "line": {
              "color": "white",
              "width": 0.5
             },
             "pattern": {
              "fillmode": "overlay",
              "size": 10,
              "solidity": 0.2
             }
            },
            "type": "barpolar"
           }
          ],
          "carpet": [
           {
            "aaxis": {
             "endlinecolor": "#2a3f5f",
             "gridcolor": "#C8D4E3",
             "linecolor": "#C8D4E3",
             "minorgridcolor": "#C8D4E3",
             "startlinecolor": "#2a3f5f"
            },
            "baxis": {
             "endlinecolor": "#2a3f5f",
             "gridcolor": "#C8D4E3",
             "linecolor": "#C8D4E3",
             "minorgridcolor": "#C8D4E3",
             "startlinecolor": "#2a3f5f"
            },
            "type": "carpet"
           }
          ],
          "choropleth": [
           {
            "colorbar": {
             "outlinewidth": 0,
             "ticks": ""
            },
            "type": "choropleth"
           }
          ],
          "contour": [
           {
            "colorbar": {
             "outlinewidth": 0,
             "ticks": ""
            },
            "colorscale": [
             [
              0,
              "#0d0887"
             ],
             [
              0.1111111111111111,
              "#46039f"
             ],
             [
              0.2222222222222222,
              "#7201a8"
             ],
             [
              0.3333333333333333,
              "#9c179e"
             ],
             [
              0.4444444444444444,
              "#bd3786"
             ],
             [
              0.5555555555555556,
              "#d8576b"
             ],
             [
              0.6666666666666666,
              "#ed7953"
             ],
             [
              0.7777777777777778,
              "#fb9f3a"
             ],
             [
              0.8888888888888888,
              "#fdca26"
             ],
             [
              1,
              "#f0f921"
             ]
            ],
            "type": "contour"
           }
          ],
          "contourcarpet": [
           {
            "colorbar": {
             "outlinewidth": 0,
             "ticks": ""
            },
            "type": "contourcarpet"
           }
          ],
          "heatmap": [
           {
            "colorbar": {
             "outlinewidth": 0,
             "ticks": ""
            },
            "colorscale": [
             [
              0,
              "#0d0887"
             ],
             [
              0.1111111111111111,
              "#46039f"
             ],
             [
              0.2222222222222222,
              "#7201a8"
             ],
             [
              0.3333333333333333,
              "#9c179e"
             ],
             [
              0.4444444444444444,
              "#bd3786"
             ],
             [
              0.5555555555555556,
              "#d8576b"
             ],
             [
              0.6666666666666666,
              "#ed7953"
             ],
             [
              0.7777777777777778,
              "#fb9f3a"
             ],
             [
              0.8888888888888888,
              "#fdca26"
             ],
             [
              1,
              "#f0f921"
             ]
            ],
            "type": "heatmap"
           }
          ],
          "histogram": [
           {
            "marker": {
             "pattern": {
              "fillmode": "overlay",
              "size": 10,
              "solidity": 0.2
             }
            },
            "type": "histogram"
           }
          ],
          "histogram2d": [
           {
            "colorbar": {
             "outlinewidth": 0,
             "ticks": ""
            },
            "colorscale": [
             [
              0,
              "#0d0887"
             ],
             [
              0.1111111111111111,
              "#46039f"
             ],
             [
              0.2222222222222222,
              "#7201a8"
             ],
             [
              0.3333333333333333,
              "#9c179e"
             ],
             [
              0.4444444444444444,
              "#bd3786"
             ],
             [
              0.5555555555555556,
              "#d8576b"
             ],
             [
              0.6666666666666666,
              "#ed7953"
             ],
             [
              0.7777777777777778,
              "#fb9f3a"
             ],
             [
              0.8888888888888888,
              "#fdca26"
             ],
             [
              1,
              "#f0f921"
             ]
            ],
            "type": "histogram2d"
           }
          ],
          "histogram2dcontour": [
           {
            "colorbar": {
             "outlinewidth": 0,
             "ticks": ""
            },
            "colorscale": [
             [
              0,
              "#0d0887"
             ],
             [
              0.1111111111111111,
              "#46039f"
             ],
             [
              0.2222222222222222,
              "#7201a8"
             ],
             [
              0.3333333333333333,
              "#9c179e"
             ],
             [
              0.4444444444444444,
              "#bd3786"
             ],
             [
              0.5555555555555556,
              "#d8576b"
             ],
             [
              0.6666666666666666,
              "#ed7953"
             ],
             [
              0.7777777777777778,
              "#fb9f3a"
             ],
             [
              0.8888888888888888,
              "#fdca26"
             ],
             [
              1,
              "#f0f921"
             ]
            ],
            "type": "histogram2dcontour"
           }
          ],
          "mesh3d": [
           {
            "colorbar": {
             "outlinewidth": 0,
             "ticks": ""
            },
            "type": "mesh3d"
           }
          ],
          "parcoords": [
           {
            "line": {
             "colorbar": {
              "outlinewidth": 0,
              "ticks": ""
             }
            },
            "type": "parcoords"
           }
          ],
          "pie": [
           {
            "automargin": true,
            "type": "pie"
           }
          ],
          "scatter": [
           {
            "fillpattern": {
             "fillmode": "overlay",
             "size": 10,
             "solidity": 0.2
            },
            "type": "scatter"
           }
          ],
          "scatter3d": [
           {
            "line": {
             "colorbar": {
              "outlinewidth": 0,
              "ticks": ""
             }
            },
            "marker": {
             "colorbar": {
              "outlinewidth": 0,
              "ticks": ""
             }
            },
            "type": "scatter3d"
           }
          ],
          "scattercarpet": [
           {
            "marker": {
             "colorbar": {
              "outlinewidth": 0,
              "ticks": ""
             }
            },
            "type": "scattercarpet"
           }
          ],
          "scattergeo": [
           {
            "marker": {
             "colorbar": {
              "outlinewidth": 0,
              "ticks": ""
             }
            },
            "type": "scattergeo"
           }
          ],
          "scattergl": [
           {
            "marker": {
             "colorbar": {
              "outlinewidth": 0,
              "ticks": ""
             }
            },
            "type": "scattergl"
           }
          ],
          "scattermap": [
           {
            "marker": {
             "colorbar": {
              "outlinewidth": 0,
              "ticks": ""
             }
            },
            "type": "scattermap"
           }
          ],
          "scattermapbox": [
           {
            "marker": {
             "colorbar": {
              "outlinewidth": 0,
              "ticks": ""
             }
            },
            "type": "scattermapbox"
           }
          ],
          "scatterpolar": [
           {
            "marker": {
             "colorbar": {
              "outlinewidth": 0,
              "ticks": ""
             }
            },
            "type": "scatterpolar"
           }
          ],
          "scatterpolargl": [
           {
            "marker": {
             "colorbar": {
              "outlinewidth": 0,
              "ticks": ""
             }
            },
            "type": "scatterpolargl"
           }
          ],
          "scatterternary": [
           {
            "marker": {
             "colorbar": {
              "outlinewidth": 0,
              "ticks": ""
             }
            },
            "type": "scatterternary"
           }
          ],
          "surface": [
           {
            "colorbar": {
             "outlinewidth": 0,
             "ticks": ""
            },
            "colorscale": [
             [
              0,
              "#0d0887"
             ],
             [
              0.1111111111111111,
              "#46039f"
             ],
             [
              0.2222222222222222,
              "#7201a8"
             ],
             [
              0.3333333333333333,
              "#9c179e"
             ],
             [
              0.4444444444444444,
              "#bd3786"
             ],
             [
              0.5555555555555556,
              "#d8576b"
             ],
             [
              0.6666666666666666,
              "#ed7953"
             ],
             [
              0.7777777777777778,
              "#fb9f3a"
             ],
             [
              0.8888888888888888,
              "#fdca26"
             ],
             [
              1,
              "#f0f921"
             ]
            ],
            "type": "surface"
           }
          ],
          "table": [
           {
            "cells": {
             "fill": {
              "color": "#EBF0F8"
             },
             "line": {
              "color": "white"
             }
            },
            "header": {
             "fill": {
              "color": "#C8D4E3"
             },
             "line": {
              "color": "white"
             }
            },
            "type": "table"
           }
          ]
         },
         "layout": {
          "annotationdefaults": {
           "arrowcolor": "#2a3f5f",
           "arrowhead": 0,
           "arrowwidth": 1
          },
          "autotypenumbers": "strict",
          "coloraxis": {
           "colorbar": {
            "outlinewidth": 0,
            "ticks": ""
           }
          },
          "colorscale": {
           "diverging": [
            [
             0,
             "#8e0152"
            ],
            [
             0.1,
             "#c51b7d"
            ],
            [
             0.2,
             "#de77ae"
            ],
            [
             0.3,
             "#f1b6da"
            ],
            [
             0.4,
             "#fde0ef"
            ],
            [
             0.5,
             "#f7f7f7"
            ],
            [
             0.6,
             "#e6f5d0"
            ],
            [
             0.7,
             "#b8e186"
            ],
            [
             0.8,
             "#7fbc41"
            ],
            [
             0.9,
             "#4d9221"
            ],
            [
             1,
             "#276419"
            ]
           ],
           "sequential": [
            [
             0,
             "#0d0887"
            ],
            [
             0.1111111111111111,
             "#46039f"
            ],
            [
             0.2222222222222222,
             "#7201a8"
            ],
            [
             0.3333333333333333,
             "#9c179e"
            ],
            [
             0.4444444444444444,
             "#bd3786"
            ],
            [
             0.5555555555555556,
             "#d8576b"
            ],
            [
             0.6666666666666666,
             "#ed7953"
            ],
            [
             0.7777777777777778,
             "#fb9f3a"
            ],
            [
             0.8888888888888888,
             "#fdca26"
            ],
            [
             1,
             "#f0f921"
            ]
           ],
           "sequentialminus": [
            [
             0,
             "#0d0887"
            ],
            [
             0.1111111111111111,
             "#46039f"
            ],
            [
             0.2222222222222222,
             "#7201a8"
            ],
            [
             0.3333333333333333,
             "#9c179e"
            ],
            [
             0.4444444444444444,
             "#bd3786"
            ],
            [
             0.5555555555555556,
             "#d8576b"
            ],
            [
             0.6666666666666666,
             "#ed7953"
            ],
            [
             0.7777777777777778,
             "#fb9f3a"
            ],
            [
             0.8888888888888888,
             "#fdca26"
            ],
            [
             1,
             "#f0f921"
            ]
           ]
          },
          "colorway": [
           "#636efa",
           "#EF553B",
           "#00cc96",
           "#ab63fa",
           "#FFA15A",
           "#19d3f3",
           "#FF6692",
           "#B6E880",
           "#FF97FF",
           "#FECB52"
          ],
          "font": {
           "color": "#2a3f5f"
          },
          "geo": {
           "bgcolor": "white",
           "lakecolor": "white",
           "landcolor": "white",
           "showlakes": true,
           "showland": true,
           "subunitcolor": "#C8D4E3"
          },
          "hoverlabel": {
           "align": "left"
          },
          "hovermode": "closest",
          "mapbox": {
           "style": "light"
          },
          "paper_bgcolor": "white",
          "plot_bgcolor": "white",
          "polar": {
           "angularaxis": {
            "gridcolor": "#EBF0F8",
            "linecolor": "#EBF0F8",
            "ticks": ""
           },
           "bgcolor": "white",
           "radialaxis": {
            "gridcolor": "#EBF0F8",
            "linecolor": "#EBF0F8",
            "ticks": ""
           }
          },
          "scene": {
           "xaxis": {
            "backgroundcolor": "white",
            "gridcolor": "#DFE8F3",
            "gridwidth": 2,
            "linecolor": "#EBF0F8",
            "showbackground": true,
            "ticks": "",
            "zerolinecolor": "#EBF0F8"
           },
           "yaxis": {
            "backgroundcolor": "white",
            "gridcolor": "#DFE8F3",
            "gridwidth": 2,
            "linecolor": "#EBF0F8",
            "showbackground": true,
            "ticks": "",
            "zerolinecolor": "#EBF0F8"
           },
           "zaxis": {
            "backgroundcolor": "white",
            "gridcolor": "#DFE8F3",
            "gridwidth": 2,
            "linecolor": "#EBF0F8",
            "showbackground": true,
            "ticks": "",
            "zerolinecolor": "#EBF0F8"
           }
          },
          "shapedefaults": {
           "line": {
            "color": "#2a3f5f"
           }
          },
          "ternary": {
           "aaxis": {
            "gridcolor": "#DFE8F3",
            "linecolor": "#A2B1C6",
            "ticks": ""
           },
           "baxis": {
            "gridcolor": "#DFE8F3",
            "linecolor": "#A2B1C6",
            "ticks": ""
           },
           "bgcolor": "white",
           "caxis": {
            "gridcolor": "#DFE8F3",
            "linecolor": "#A2B1C6",
            "ticks": ""
           }
          },
          "title": {
           "x": 0.05
          },
          "xaxis": {
           "automargin": true,
           "gridcolor": "#EBF0F8",
           "linecolor": "#EBF0F8",
           "ticks": "",
           "title": {
            "standoff": 15
           },
           "zerolinecolor": "#EBF0F8",
           "zerolinewidth": 2
          },
          "yaxis": {
           "automargin": true,
           "gridcolor": "#EBF0F8",
           "linecolor": "#EBF0F8",
           "ticks": "",
           "title": {
            "standoff": 15
           },
           "zerolinecolor": "#EBF0F8",
           "zerolinewidth": 2
          }
         }
        },
        "title": {
         "text": "Empirical CTR per Action"
        },
        "xaxis": {
         "anchor": "y",
         "domain": [
          0,
          1
         ],
         "tickmode": "array",
         "ticktext": [
          "0",
          "1",
          "2",
          "3",
          "4",
          "5",
          "6",
          "7",
          "8",
          "9",
          "10",
          "11",
          "12",
          "13",
          "14",
          "15",
          "16",
          "17",
          "18",
          "19",
          "20",
          "21",
          "22",
          "23",
          "24",
          "25",
          "26",
          "27",
          "28",
          "29",
          "30",
          "31",
          "32",
          "33",
          "34",
          "35",
          "36",
          "37",
          "38",
          "39",
          "40",
          "41",
          "42",
          "43",
          "44",
          "45",
          "46",
          "47",
          "48",
          "49",
          "50",
          "51",
          "52",
          "53",
          "54",
          "55",
          "56",
          "57",
          "58",
          "59",
          "60",
          "61",
          "62",
          "63",
          "64",
          "65",
          "66",
          "67",
          "68",
          "69",
          "70",
          "71",
          "72",
          "73",
          "74",
          "75",
          "76",
          "77",
          "78",
          "79"
         ],
         "tickvals": {
          "bdata": "AAECAwQFBgcICQoLDA0ODxAREhMUFRYXGBkaGxwdHh8gISIjJCUmJygpKissLS4vMDEyMzQ1Njc4OTo7PD0+P0BBQkNERUZHSElKS0xNTk8=",
          "dtype": "i1"
         },
         "title": {
          "text": "Action"
         }
        },
        "yaxis": {
         "anchor": "x",
         "domain": [
          0,
          1
         ],
         "title": {
          "text": "Mean reward"
         }
        }
       }
      }
     },
     "metadata": {},
     "output_type": "display_data"
    },
    {
     "data": {
      "application/vnd.plotly.v1+json": {
       "config": {
        "plotlyServerURL": "https://plot.ly"
       },
       "data": [
        {
         "hovertemplate": "Position=%{x}<br>Mean reward=%{y}<extra></extra>",
         "legendgroup": "",
         "marker": {
          "color": "#636efa",
          "pattern": {
           "shape": ""
          }
         },
         "name": "",
         "orientation": "v",
         "showlegend": false,
         "textposition": "auto",
         "type": "bar",
         "x": {
          "bdata": "AAEC",
          "dtype": "i1"
         },
         "xaxis": "x",
         "y": {
          "bdata": "mB1A4GUHcD/OB04Me85wP9PAcqRHl2s/",
          "dtype": "f8"
         },
         "yaxis": "y"
        }
       ],
       "layout": {
        "barmode": "relative",
        "height": 500,
        "legend": {
         "tracegroupgap": 0
        },
        "template": {
         "data": {
          "bar": [
           {
            "error_x": {
             "color": "#2a3f5f"
            },
            "error_y": {
             "color": "#2a3f5f"
            },
            "marker": {
             "line": {
              "color": "white",
              "width": 0.5
             },
             "pattern": {
              "fillmode": "overlay",
              "size": 10,
              "solidity": 0.2
             }
            },
            "type": "bar"
           }
          ],
          "barpolar": [
           {
            "marker": {
             "line": {
              "color": "white",
              "width": 0.5
             },
             "pattern": {
              "fillmode": "overlay",
              "size": 10,
              "solidity": 0.2
             }
            },
            "type": "barpolar"
           }
          ],
          "carpet": [
           {
            "aaxis": {
             "endlinecolor": "#2a3f5f",
             "gridcolor": "#C8D4E3",
             "linecolor": "#C8D4E3",
             "minorgridcolor": "#C8D4E3",
             "startlinecolor": "#2a3f5f"
            },
            "baxis": {
             "endlinecolor": "#2a3f5f",
             "gridcolor": "#C8D4E3",
             "linecolor": "#C8D4E3",
             "minorgridcolor": "#C8D4E3",
             "startlinecolor": "#2a3f5f"
            },
            "type": "carpet"
           }
          ],
          "choropleth": [
           {
            "colorbar": {
             "outlinewidth": 0,
             "ticks": ""
            },
            "type": "choropleth"
           }
          ],
          "contour": [
           {
            "colorbar": {
             "outlinewidth": 0,
             "ticks": ""
            },
            "colorscale": [
             [
              0,
              "#0d0887"
             ],
             [
              0.1111111111111111,
              "#46039f"
             ],
             [
              0.2222222222222222,
              "#7201a8"
             ],
             [
              0.3333333333333333,
              "#9c179e"
             ],
             [
              0.4444444444444444,
              "#bd3786"
             ],
             [
              0.5555555555555556,
              "#d8576b"
             ],
             [
              0.6666666666666666,
              "#ed7953"
             ],
             [
              0.7777777777777778,
              "#fb9f3a"
             ],
             [
              0.8888888888888888,
              "#fdca26"
             ],
             [
              1,
              "#f0f921"
             ]
            ],
            "type": "contour"
           }
          ],
          "contourcarpet": [
           {
            "colorbar": {
             "outlinewidth": 0,
             "ticks": ""
            },
            "type": "contourcarpet"
           }
          ],
          "heatmap": [
           {
            "colorbar": {
             "outlinewidth": 0,
             "ticks": ""
            },
            "colorscale": [
             [
              0,
              "#0d0887"
             ],
             [
              0.1111111111111111,
              "#46039f"
             ],
             [
              0.2222222222222222,
              "#7201a8"
             ],
             [
              0.3333333333333333,
              "#9c179e"
             ],
             [
              0.4444444444444444,
              "#bd3786"
             ],
             [
              0.5555555555555556,
              "#d8576b"
             ],
             [
              0.6666666666666666,
              "#ed7953"
             ],
             [
              0.7777777777777778,
              "#fb9f3a"
             ],
             [
              0.8888888888888888,
              "#fdca26"
             ],
             [
              1,
              "#f0f921"
             ]
            ],
            "type": "heatmap"
           }
          ],
          "histogram": [
           {
            "marker": {
             "pattern": {
              "fillmode": "overlay",
              "size": 10,
              "solidity": 0.2
             }
            },
            "type": "histogram"
           }
          ],
          "histogram2d": [
           {
            "colorbar": {
             "outlinewidth": 0,
             "ticks": ""
            },
            "colorscale": [
             [
              0,
              "#0d0887"
             ],
             [
              0.1111111111111111,
              "#46039f"
             ],
             [
              0.2222222222222222,
              "#7201a8"
             ],
             [
              0.3333333333333333,
              "#9c179e"
             ],
             [
              0.4444444444444444,
              "#bd3786"
             ],
             [
              0.5555555555555556,
              "#d8576b"
             ],
             [
              0.6666666666666666,
              "#ed7953"
             ],
             [
              0.7777777777777778,
              "#fb9f3a"
             ],
             [
              0.8888888888888888,
              "#fdca26"
             ],
             [
              1,
              "#f0f921"
             ]
            ],
            "type": "histogram2d"
           }
          ],
          "histogram2dcontour": [
           {
            "colorbar": {
             "outlinewidth": 0,
             "ticks": ""
            },
            "colorscale": [
             [
              0,
              "#0d0887"
             ],
             [
              0.1111111111111111,
              "#46039f"
             ],
             [
              0.2222222222222222,
              "#7201a8"
             ],
             [
              0.3333333333333333,
              "#9c179e"
             ],
             [
              0.4444444444444444,
              "#bd3786"
             ],
             [
              0.5555555555555556,
              "#d8576b"
             ],
             [
              0.6666666666666666,
              "#ed7953"
             ],
             [
              0.7777777777777778,
              "#fb9f3a"
             ],
             [
              0.8888888888888888,
              "#fdca26"
             ],
             [
              1,
              "#f0f921"
             ]
            ],
            "type": "histogram2dcontour"
           }
          ],
          "mesh3d": [
           {
            "colorbar": {
             "outlinewidth": 0,
             "ticks": ""
            },
            "type": "mesh3d"
           }
          ],
          "parcoords": [
           {
            "line": {
             "colorbar": {
              "outlinewidth": 0,
              "ticks": ""
             }
            },
            "type": "parcoords"
           }
          ],
          "pie": [
           {
            "automargin": true,
            "type": "pie"
           }
          ],
          "scatter": [
           {
            "fillpattern": {
             "fillmode": "overlay",
             "size": 10,
             "solidity": 0.2
            },
            "type": "scatter"
           }
          ],
          "scatter3d": [
           {
            "line": {
             "colorbar": {
              "outlinewidth": 0,
              "ticks": ""
             }
            },
            "marker": {
             "colorbar": {
              "outlinewidth": 0,
              "ticks": ""
             }
            },
            "type": "scatter3d"
           }
          ],
          "scattercarpet": [
           {
            "marker": {
             "colorbar": {
              "outlinewidth": 0,
              "ticks": ""
             }
            },
            "type": "scattercarpet"
           }
          ],
          "scattergeo": [
           {
            "marker": {
             "colorbar": {
              "outlinewidth": 0,
              "ticks": ""
             }
            },
            "type": "scattergeo"
           }
          ],
          "scattergl": [
           {
            "marker": {
             "colorbar": {
              "outlinewidth": 0,
              "ticks": ""
             }
            },
            "type": "scattergl"
           }
          ],
          "scattermap": [
           {
            "marker": {
             "colorbar": {
              "outlinewidth": 0,
              "ticks": ""
             }
            },
            "type": "scattermap"
           }
          ],
          "scattermapbox": [
           {
            "marker": {
             "colorbar": {
              "outlinewidth": 0,
              "ticks": ""
             }
            },
            "type": "scattermapbox"
           }
          ],
          "scatterpolar": [
           {
            "marker": {
             "colorbar": {
              "outlinewidth": 0,
              "ticks": ""
             }
            },
            "type": "scatterpolar"
           }
          ],
          "scatterpolargl": [
           {
            "marker": {
             "colorbar": {
              "outlinewidth": 0,
              "ticks": ""
             }
            },
            "type": "scatterpolargl"
           }
          ],
          "scatterternary": [
           {
            "marker": {
             "colorbar": {
              "outlinewidth": 0,
              "ticks": ""
             }
            },
            "type": "scatterternary"
           }
          ],
          "surface": [
           {
            "colorbar": {
             "outlinewidth": 0,
             "ticks": ""
            },
            "colorscale": [
             [
              0,
              "#0d0887"
             ],
             [
              0.1111111111111111,
              "#46039f"
             ],
             [
              0.2222222222222222,
              "#7201a8"
             ],
             [
              0.3333333333333333,
              "#9c179e"
             ],
             [
              0.4444444444444444,
              "#bd3786"
             ],
             [
              0.5555555555555556,
              "#d8576b"
             ],
             [
              0.6666666666666666,
              "#ed7953"
             ],
             [
              0.7777777777777778,
              "#fb9f3a"
             ],
             [
              0.8888888888888888,
              "#fdca26"
             ],
             [
              1,
              "#f0f921"
             ]
            ],
            "type": "surface"
           }
          ],
          "table": [
           {
            "cells": {
             "fill": {
              "color": "#EBF0F8"
             },
             "line": {
              "color": "white"
             }
            },
            "header": {
             "fill": {
              "color": "#C8D4E3"
             },
             "line": {
              "color": "white"
             }
            },
            "type": "table"
           }
          ]
         },
         "layout": {
          "annotationdefaults": {
           "arrowcolor": "#2a3f5f",
           "arrowhead": 0,
           "arrowwidth": 1
          },
          "autotypenumbers": "strict",
          "coloraxis": {
           "colorbar": {
            "outlinewidth": 0,
            "ticks": ""
           }
          },
          "colorscale": {
           "diverging": [
            [
             0,
             "#8e0152"
            ],
            [
             0.1,
             "#c51b7d"
            ],
            [
             0.2,
             "#de77ae"
            ],
            [
             0.3,
             "#f1b6da"
            ],
            [
             0.4,
             "#fde0ef"
            ],
            [
             0.5,
             "#f7f7f7"
            ],
            [
             0.6,
             "#e6f5d0"
            ],
            [
             0.7,
             "#b8e186"
            ],
            [
             0.8,
             "#7fbc41"
            ],
            [
             0.9,
             "#4d9221"
            ],
            [
             1,
             "#276419"
            ]
           ],
           "sequential": [
            [
             0,
             "#0d0887"
            ],
            [
             0.1111111111111111,
             "#46039f"
            ],
            [
             0.2222222222222222,
             "#7201a8"
            ],
            [
             0.3333333333333333,
             "#9c179e"
            ],
            [
             0.4444444444444444,
             "#bd3786"
            ],
            [
             0.5555555555555556,
             "#d8576b"
            ],
            [
             0.6666666666666666,
             "#ed7953"
            ],
            [
             0.7777777777777778,
             "#fb9f3a"
            ],
            [
             0.8888888888888888,
             "#fdca26"
            ],
            [
             1,
             "#f0f921"
            ]
           ],
           "sequentialminus": [
            [
             0,
             "#0d0887"
            ],
            [
             0.1111111111111111,
             "#46039f"
            ],
            [
             0.2222222222222222,
             "#7201a8"
            ],
            [
             0.3333333333333333,
             "#9c179e"
            ],
            [
             0.4444444444444444,
             "#bd3786"
            ],
            [
             0.5555555555555556,
             "#d8576b"
            ],
            [
             0.6666666666666666,
             "#ed7953"
            ],
            [
             0.7777777777777778,
             "#fb9f3a"
            ],
            [
             0.8888888888888888,
             "#fdca26"
            ],
            [
             1,
             "#f0f921"
            ]
           ]
          },
          "colorway": [
           "#636efa",
           "#EF553B",
           "#00cc96",
           "#ab63fa",
           "#FFA15A",
           "#19d3f3",
           "#FF6692",
           "#B6E880",
           "#FF97FF",
           "#FECB52"
          ],
          "font": {
           "color": "#2a3f5f"
          },
          "geo": {
           "bgcolor": "white",
           "lakecolor": "white",
           "landcolor": "white",
           "showlakes": true,
           "showland": true,
           "subunitcolor": "#C8D4E3"
          },
          "hoverlabel": {
           "align": "left"
          },
          "hovermode": "closest",
          "mapbox": {
           "style": "light"
          },
          "paper_bgcolor": "white",
          "plot_bgcolor": "white",
          "polar": {
           "angularaxis": {
            "gridcolor": "#EBF0F8",
            "linecolor": "#EBF0F8",
            "ticks": ""
           },
           "bgcolor": "white",
           "radialaxis": {
            "gridcolor": "#EBF0F8",
            "linecolor": "#EBF0F8",
            "ticks": ""
           }
          },
          "scene": {
           "xaxis": {
            "backgroundcolor": "white",
            "gridcolor": "#DFE8F3",
            "gridwidth": 2,
            "linecolor": "#EBF0F8",
            "showbackground": true,
            "ticks": "",
            "zerolinecolor": "#EBF0F8"
           },
           "yaxis": {
            "backgroundcolor": "white",
            "gridcolor": "#DFE8F3",
            "gridwidth": 2,
            "linecolor": "#EBF0F8",
            "showbackground": true,
            "ticks": "",
            "zerolinecolor": "#EBF0F8"
           },
           "zaxis": {
            "backgroundcolor": "white",
            "gridcolor": "#DFE8F3",
            "gridwidth": 2,
            "linecolor": "#EBF0F8",
            "showbackground": true,
            "ticks": "",
            "zerolinecolor": "#EBF0F8"
           }
          },
          "shapedefaults": {
           "line": {
            "color": "#2a3f5f"
           }
          },
          "ternary": {
           "aaxis": {
            "gridcolor": "#DFE8F3",
            "linecolor": "#A2B1C6",
            "ticks": ""
           },
           "baxis": {
            "gridcolor": "#DFE8F3",
            "linecolor": "#A2B1C6",
            "ticks": ""
           },
           "bgcolor": "white",
           "caxis": {
            "gridcolor": "#DFE8F3",
            "linecolor": "#A2B1C6",
            "ticks": ""
           }
          },
          "title": {
           "x": 0.05
          },
          "xaxis": {
           "automargin": true,
           "gridcolor": "#EBF0F8",
           "linecolor": "#EBF0F8",
           "ticks": "",
           "title": {
            "standoff": 15
           },
           "zerolinecolor": "#EBF0F8",
           "zerolinewidth": 2
          },
          "yaxis": {
           "automargin": true,
           "gridcolor": "#EBF0F8",
           "linecolor": "#EBF0F8",
           "ticks": "",
           "title": {
            "standoff": 15
           },
           "zerolinecolor": "#EBF0F8",
           "zerolinewidth": 2
          }
         }
        },
        "title": {
         "text": "CTR per Position"
        },
        "xaxis": {
         "anchor": "y",
         "domain": [
          0,
          1
         ],
         "tickmode": "array",
         "ticktext": [
          "0",
          "1",
          "2"
         ],
         "tickvals": {
          "bdata": "AAEC",
          "dtype": "i1"
         },
         "title": {
          "text": "Position"
         }
        },
        "yaxis": {
         "anchor": "x",
         "domain": [
          0,
          1
         ],
         "title": {
          "text": "Mean reward"
         }
        }
       }
      }
     },
     "metadata": {},
     "output_type": "display_data"
    }
   ],
   "source": [
    "\n",
    "# For CTR per action (your case)\n",
    "fig = plot_empirical_means(df, group_col=\"action\", value_col=\"reward\", title=\"Empirical CTR per Action\")\n",
    "fig.show()\n",
    "\n",
    "# For reward by position\n",
    "fig2 = plot_empirical_means(df, group_col=\"position\", value_col=\"reward\", title=\"CTR per Position\")\n",
    "fig2.show()"
   ]
  },
  {
   "cell_type": "code",
   "execution_count": null,
   "id": "cc5a5820",
   "metadata": {},
   "outputs": [],
   "source": []
  },
  {
   "cell_type": "code",
   "execution_count": 78,
   "id": "2e0c25ae",
   "metadata": {},
   "outputs": [
    {
     "data": {
      "application/vnd.plotly.v1+json": {
       "config": {
        "plotlyServerURL": "https://plot.ly"
       },
       "data": [
        {
         "marker": {
          "color": "steelblue"
         },
         "name": "Pos 0",
         "showlegend": false,
         "type": "bar",
         "x": {
          "bdata": "AAECAwQFBgcICQoLDA0ODxAREhMUFRYXGBkaGxwdHh8gISIjJCUmJygpKissLS4vMDEyMzQ1Njc4OTo7PD0+P0BBQkNERUZHSElKS0xNTk8=",
          "dtype": "i1"
         },
         "xaxis": "x",
         "y": {
          "bdata": "AAAAAAAAAAB7FK5H4XqUPwAAAAAAAAAAAAAAAAAAAAAAAAAAAAAAAAAAAAAAAAAARhdddNFFlz+WexphuaeRPwAAAAAAAAAARhdddNFFlz8AAAAAAAAAAAAAAAAAAAAAAAAAAAAAAAAAAAAAAAAAAAAAAAAAAAAAAAAAAAAAAAAAAAAAAAAAAB4eHh4eHp4/AAAAAAAAAAAAAAAAAAAAAAAAAAAAAAAAAAAAAAAAAAAAAAAAAAAAAAAAAAAAAAAAAAAAAAAAAAAAAAAAAAAAAAAAAAAAAAAAAAAAAAAAAAAor6G8hvKaPwAAAAAAAAAAAAAAAAAAAAAAAAAAAAAAAAAAAAAAAAAAAAAAAAAAAAAAAAAAAAAAAAAAAAAAAAAAAAAAAAAAAAAAAAAAAAAAABzHcRzHcZw/AAAAAAAAAAAAAAAAAAAAAAAAAAAAAAAAAAAAAAAAAAAAAAAAAAAAAPoYnI/B+Zg/AAAAAAAAAAAAAAAAAAAAAAAAAAAAAAAAAAAAAAAAAAD6GJyPwfmoPwgffPDBB58/AAAAAAAAAAAAAAAAAAAAAAAAAAAAAAAAAAAAAAAAAAAAAAAAAAAAAAAAAAAAAAAAwXgr+xxSkz8AAAAAAAAAAAAAAAAAAAAAAAAAAAAAAAAAAAAAAAAAAAAAAAAAAAAAAAAAAAAAAAAAAAAAAAAAAAAAAAAAAAAAAAAAAAAAAAAAAAAAAAAAAAAAAAAAAAAAAAAAAAAAAAAAAAAAAAAAACivobyG8po/AAAAAAAAAAAAAAAAAAAAAAAAAAAAAAAAAAAAAAAAAAAAAAAAAAAAAAAAAAAAAAAAAAAAAAAAAAAAAAAAAAAAAA==",
          "dtype": "f8"
         },
         "yaxis": "y"
        },
        {
         "marker": {
          "color": "steelblue"
         },
         "name": "Pos 1",
         "showlegend": false,
         "type": "bar",
         "x": {
          "bdata": "AAECAwQFBgcICQoLDA0ODxAREhMUFRYXGBkaGxwdHh8gISIjJCUmJygpKissLS4vMDEyMzQ1Njc4OTo7PD0+P0BBQkNERUZHSElKS0xNTk8=",
          "dtype": "i1"
         },
         "xaxis": "x2",
         "y": {
          "bdata": "AAAAAAAAAAAAAAAAAAAAAAAAAAAAAAAAAAAAAAAAAAAAAAAAAAAAAAAAAAAAAAAAAAAAAAAAAAAAAAAAAAAAAAAAAAAAAAAAAAAAAAAAAAAAAAAAAAAAAAAAAAAAAAAAAAAAAAAAAAAAAAAAAAAAAAAAAAAAAAAAAAAAAAAAAAAAAAAAAAAAAAAAAAAAAAAAAAAAAAAAAAAAAAAAAAAAAAAAAAAAAAAAAAAAAAAAAAAAAAAAAAAAAAAAAAAAAAAAAAAAAAAAAAA5BS+n4OWUPwAAAAAAAAAAAAAAAAAAAAAAAAAAAAAAAAAAAAAAAAAAAAAAAAAAAAAAAAAAAAAAAAAAAAAAAAAAAAAAAAAAAAA5BS+n4OWUPwAAAAAAAAAAVxCTK4jJlT8AAAAAAAAAAAAAAAAAAAAAAAAAAAAAAAAAAAAAAAAAADkFL6fg5ZQ/AAAAAAAAAAAAAAAAAAAAAEYXXXTRRZc/exSuR+F6lD8AAAAAAAAAAB4eHh4eHp4/AAAAAAAAAAAXbMEWbMGWPwAAAAAAAAAAAAAAAAAAAAAAAAAAAAAAAFVVVVVVVaU/AAAAAAAAAAAAAAAAAAAAAAAAAAAAAAAAAAAAAAAAAAAor6G8hvKqPwAAAAAAAAAAAAAAAAAAAACamZmZmZmZPwAAAAAAAAAAAAAAAAAAAAAAAAAAAAAAACivobyG8po/AAAAAAAAAAAAAAAAAAAAAAAAAAAAAAAAAAAAAAAAAAAAAAAAAAAAAAAAAAAAAAAAAAAAAAAAAAAAAAAAAAAAAAAAAAAAAAAAAAAAAAAAAAAAAAAAAAAAAAAAAAAAAAAAAAAAAAAAAAAAAAAAAAAAAA==",
          "dtype": "f8"
         },
         "yaxis": "y2"
        },
        {
         "marker": {
          "color": "steelblue"
         },
         "name": "Pos 2",
         "showlegend": false,
         "type": "bar",
         "x": {
          "bdata": "AAECAwQFBgcICQoLDA0ODxAREhMUFRYXGBkaGxwdHh8gISIjJCUmJygpKissLS4vMDEyMzQ1Njc4OTo7PD0+P0BBQkNERUZHSElKS0xNTk8=",
          "dtype": "i1"
         },
         "xaxis": "x3",
         "y": {
          "bdata": "AAAAAAAAAAAAAAAAAAAAAAAAAAAAAAAA+hicj8H5mD8AAAAAAAAAAAAAAAAAAAAAFBQUFBQUlD8AAAAAAAAAABQ7sRM7sZM/AAAAAAAAAAAAAAAAAAAAAAAAAAAAAAAAAAAAAAAAAAAAAAAAAAAAAAAAAAAAAAAAAAAAAAAAAAAAAAAAAAAAAAAAAAAAAAAAGIZhGIZhqD8AAAAAAAAAAAAAAAAAAAAAKK+hvIbymj8AAAAAAAAAAAAAAAAAAAAAAAAAAAAAAAAAAAAAAAAAAAAAAAAAAAAAAAAAAAAAAAAAAAAAAAAAAAAAAAAAAAAAAAAAAAAAAAAAAAAAAAAAAAAAAAAAAAAAAAAAAAAAAAAAAAAAAAAAAAAAAAAAAAAA0LrBFPmsmz8AAAAAAAAAAAAAAAAAAAAAAAAAAAAAAAAAAAAAAAAAAAAAAAAAAAAAAAAAAAAAAAAAAAAAAAAAAAAAAAAAAAAAAAAAAAAAAAANJ3VfHluRPwAAAAAAAAAAmpmZmZmZmT8AAAAAAAAAAAAAAAAAAAAAAAAAAAAAAAAAAAAAAAAAAAAAAAAAAAAAAAAAAAAAAAAAAAAAAAAAAAAAAAAAAAAAwXgr+xxSkz8AAAAAAAAAAAAAAAAAAAAAAAAAAAAAAAAAAAAAAAAAAAAAAAAAAAAAAAAAAAAAAAAAAAAAAAAAAAAAAAAAAAAAAAAAAAAAAAAAAAAAAAAAAAAAAAAAAAAAHdRBHdRBnT8AAAAAAAAAAAAAAAAAAAAAAAAAAAAAAAAAAAAAAAAAAAAAAAAAAAAAAAAAAAAAAAAAAAAAAAAAAAAAAAAAAAAAAAAAAAAAAAAAAAAAAAAAAA==",
          "dtype": "f8"
         },
         "yaxis": "y3"
        }
       ],
       "layout": {
        "annotations": [
         {
          "font": {
           "size": 16
          },
          "showarrow": false,
          "text": "Position 0",
          "x": 0.5,
          "xanchor": "center",
          "xref": "paper",
          "y": 1,
          "yanchor": "bottom",
          "yref": "paper"
         },
         {
          "font": {
           "size": 16
          },
          "showarrow": false,
          "text": "Position 1",
          "x": 0.5,
          "xanchor": "center",
          "xref": "paper",
          "y": 0.6399999999999999,
          "yanchor": "bottom",
          "yref": "paper"
         },
         {
          "font": {
           "size": 16
          },
          "showarrow": false,
          "text": "Position 2",
          "x": 0.5,
          "xanchor": "center",
          "xref": "paper",
          "y": 0.27999999999999997,
          "yanchor": "bottom",
          "yref": "paper"
         }
        ],
        "height": 1020,
        "template": {
         "data": {
          "bar": [
           {
            "error_x": {
             "color": "#2a3f5f"
            },
            "error_y": {
             "color": "#2a3f5f"
            },
            "marker": {
             "line": {
              "color": "white",
              "width": 0.5
             },
             "pattern": {
              "fillmode": "overlay",
              "size": 10,
              "solidity": 0.2
             }
            },
            "type": "bar"
           }
          ],
          "barpolar": [
           {
            "marker": {
             "line": {
              "color": "white",
              "width": 0.5
             },
             "pattern": {
              "fillmode": "overlay",
              "size": 10,
              "solidity": 0.2
             }
            },
            "type": "barpolar"
           }
          ],
          "carpet": [
           {
            "aaxis": {
             "endlinecolor": "#2a3f5f",
             "gridcolor": "#C8D4E3",
             "linecolor": "#C8D4E3",
             "minorgridcolor": "#C8D4E3",
             "startlinecolor": "#2a3f5f"
            },
            "baxis": {
             "endlinecolor": "#2a3f5f",
             "gridcolor": "#C8D4E3",
             "linecolor": "#C8D4E3",
             "minorgridcolor": "#C8D4E3",
             "startlinecolor": "#2a3f5f"
            },
            "type": "carpet"
           }
          ],
          "choropleth": [
           {
            "colorbar": {
             "outlinewidth": 0,
             "ticks": ""
            },
            "type": "choropleth"
           }
          ],
          "contour": [
           {
            "colorbar": {
             "outlinewidth": 0,
             "ticks": ""
            },
            "colorscale": [
             [
              0,
              "#0d0887"
             ],
             [
              0.1111111111111111,
              "#46039f"
             ],
             [
              0.2222222222222222,
              "#7201a8"
             ],
             [
              0.3333333333333333,
              "#9c179e"
             ],
             [
              0.4444444444444444,
              "#bd3786"
             ],
             [
              0.5555555555555556,
              "#d8576b"
             ],
             [
              0.6666666666666666,
              "#ed7953"
             ],
             [
              0.7777777777777778,
              "#fb9f3a"
             ],
             [
              0.8888888888888888,
              "#fdca26"
             ],
             [
              1,
              "#f0f921"
             ]
            ],
            "type": "contour"
           }
          ],
          "contourcarpet": [
           {
            "colorbar": {
             "outlinewidth": 0,
             "ticks": ""
            },
            "type": "contourcarpet"
           }
          ],
          "heatmap": [
           {
            "colorbar": {
             "outlinewidth": 0,
             "ticks": ""
            },
            "colorscale": [
             [
              0,
              "#0d0887"
             ],
             [
              0.1111111111111111,
              "#46039f"
             ],
             [
              0.2222222222222222,
              "#7201a8"
             ],
             [
              0.3333333333333333,
              "#9c179e"
             ],
             [
              0.4444444444444444,
              "#bd3786"
             ],
             [
              0.5555555555555556,
              "#d8576b"
             ],
             [
              0.6666666666666666,
              "#ed7953"
             ],
             [
              0.7777777777777778,
              "#fb9f3a"
             ],
             [
              0.8888888888888888,
              "#fdca26"
             ],
             [
              1,
              "#f0f921"
             ]
            ],
            "type": "heatmap"
           }
          ],
          "histogram": [
           {
            "marker": {
             "pattern": {
              "fillmode": "overlay",
              "size": 10,
              "solidity": 0.2
             }
            },
            "type": "histogram"
           }
          ],
          "histogram2d": [
           {
            "colorbar": {
             "outlinewidth": 0,
             "ticks": ""
            },
            "colorscale": [
             [
              0,
              "#0d0887"
             ],
             [
              0.1111111111111111,
              "#46039f"
             ],
             [
              0.2222222222222222,
              "#7201a8"
             ],
             [
              0.3333333333333333,
              "#9c179e"
             ],
             [
              0.4444444444444444,
              "#bd3786"
             ],
             [
              0.5555555555555556,
              "#d8576b"
             ],
             [
              0.6666666666666666,
              "#ed7953"
             ],
             [
              0.7777777777777778,
              "#fb9f3a"
             ],
             [
              0.8888888888888888,
              "#fdca26"
             ],
             [
              1,
              "#f0f921"
             ]
            ],
            "type": "histogram2d"
           }
          ],
          "histogram2dcontour": [
           {
            "colorbar": {
             "outlinewidth": 0,
             "ticks": ""
            },
            "colorscale": [
             [
              0,
              "#0d0887"
             ],
             [
              0.1111111111111111,
              "#46039f"
             ],
             [
              0.2222222222222222,
              "#7201a8"
             ],
             [
              0.3333333333333333,
              "#9c179e"
             ],
             [
              0.4444444444444444,
              "#bd3786"
             ],
             [
              0.5555555555555556,
              "#d8576b"
             ],
             [
              0.6666666666666666,
              "#ed7953"
             ],
             [
              0.7777777777777778,
              "#fb9f3a"
             ],
             [
              0.8888888888888888,
              "#fdca26"
             ],
             [
              1,
              "#f0f921"
             ]
            ],
            "type": "histogram2dcontour"
           }
          ],
          "mesh3d": [
           {
            "colorbar": {
             "outlinewidth": 0,
             "ticks": ""
            },
            "type": "mesh3d"
           }
          ],
          "parcoords": [
           {
            "line": {
             "colorbar": {
              "outlinewidth": 0,
              "ticks": ""
             }
            },
            "type": "parcoords"
           }
          ],
          "pie": [
           {
            "automargin": true,
            "type": "pie"
           }
          ],
          "scatter": [
           {
            "fillpattern": {
             "fillmode": "overlay",
             "size": 10,
             "solidity": 0.2
            },
            "type": "scatter"
           }
          ],
          "scatter3d": [
           {
            "line": {
             "colorbar": {
              "outlinewidth": 0,
              "ticks": ""
             }
            },
            "marker": {
             "colorbar": {
              "outlinewidth": 0,
              "ticks": ""
             }
            },
            "type": "scatter3d"
           }
          ],
          "scattercarpet": [
           {
            "marker": {
             "colorbar": {
              "outlinewidth": 0,
              "ticks": ""
             }
            },
            "type": "scattercarpet"
           }
          ],
          "scattergeo": [
           {
            "marker": {
             "colorbar": {
              "outlinewidth": 0,
              "ticks": ""
             }
            },
            "type": "scattergeo"
           }
          ],
          "scattergl": [
           {
            "marker": {
             "colorbar": {
              "outlinewidth": 0,
              "ticks": ""
             }
            },
            "type": "scattergl"
           }
          ],
          "scattermap": [
           {
            "marker": {
             "colorbar": {
              "outlinewidth": 0,
              "ticks": ""
             }
            },
            "type": "scattermap"
           }
          ],
          "scattermapbox": [
           {
            "marker": {
             "colorbar": {
              "outlinewidth": 0,
              "ticks": ""
             }
            },
            "type": "scattermapbox"
           }
          ],
          "scatterpolar": [
           {
            "marker": {
             "colorbar": {
              "outlinewidth": 0,
              "ticks": ""
             }
            },
            "type": "scatterpolar"
           }
          ],
          "scatterpolargl": [
           {
            "marker": {
             "colorbar": {
              "outlinewidth": 0,
              "ticks": ""
             }
            },
            "type": "scatterpolargl"
           }
          ],
          "scatterternary": [
           {
            "marker": {
             "colorbar": {
              "outlinewidth": 0,
              "ticks": ""
             }
            },
            "type": "scatterternary"
           }
          ],
          "surface": [
           {
            "colorbar": {
             "outlinewidth": 0,
             "ticks": ""
            },
            "colorscale": [
             [
              0,
              "#0d0887"
             ],
             [
              0.1111111111111111,
              "#46039f"
             ],
             [
              0.2222222222222222,
              "#7201a8"
             ],
             [
              0.3333333333333333,
              "#9c179e"
             ],
             [
              0.4444444444444444,
              "#bd3786"
             ],
             [
              0.5555555555555556,
              "#d8576b"
             ],
             [
              0.6666666666666666,
              "#ed7953"
             ],
             [
              0.7777777777777778,
              "#fb9f3a"
             ],
             [
              0.8888888888888888,
              "#fdca26"
             ],
             [
              1,
              "#f0f921"
             ]
            ],
            "type": "surface"
           }
          ],
          "table": [
           {
            "cells": {
             "fill": {
              "color": "#EBF0F8"
             },
             "line": {
              "color": "white"
             }
            },
            "header": {
             "fill": {
              "color": "#C8D4E3"
             },
             "line": {
              "color": "white"
             }
            },
            "type": "table"
           }
          ]
         },
         "layout": {
          "annotationdefaults": {
           "arrowcolor": "#2a3f5f",
           "arrowhead": 0,
           "arrowwidth": 1
          },
          "autotypenumbers": "strict",
          "coloraxis": {
           "colorbar": {
            "outlinewidth": 0,
            "ticks": ""
           }
          },
          "colorscale": {
           "diverging": [
            [
             0,
             "#8e0152"
            ],
            [
             0.1,
             "#c51b7d"
            ],
            [
             0.2,
             "#de77ae"
            ],
            [
             0.3,
             "#f1b6da"
            ],
            [
             0.4,
             "#fde0ef"
            ],
            [
             0.5,
             "#f7f7f7"
            ],
            [
             0.6,
             "#e6f5d0"
            ],
            [
             0.7,
             "#b8e186"
            ],
            [
             0.8,
             "#7fbc41"
            ],
            [
             0.9,
             "#4d9221"
            ],
            [
             1,
             "#276419"
            ]
           ],
           "sequential": [
            [
             0,
             "#0d0887"
            ],
            [
             0.1111111111111111,
             "#46039f"
            ],
            [
             0.2222222222222222,
             "#7201a8"
            ],
            [
             0.3333333333333333,
             "#9c179e"
            ],
            [
             0.4444444444444444,
             "#bd3786"
            ],
            [
             0.5555555555555556,
             "#d8576b"
            ],
            [
             0.6666666666666666,
             "#ed7953"
            ],
            [
             0.7777777777777778,
             "#fb9f3a"
            ],
            [
             0.8888888888888888,
             "#fdca26"
            ],
            [
             1,
             "#f0f921"
            ]
           ],
           "sequentialminus": [
            [
             0,
             "#0d0887"
            ],
            [
             0.1111111111111111,
             "#46039f"
            ],
            [
             0.2222222222222222,
             "#7201a8"
            ],
            [
             0.3333333333333333,
             "#9c179e"
            ],
            [
             0.4444444444444444,
             "#bd3786"
            ],
            [
             0.5555555555555556,
             "#d8576b"
            ],
            [
             0.6666666666666666,
             "#ed7953"
            ],
            [
             0.7777777777777778,
             "#fb9f3a"
            ],
            [
             0.8888888888888888,
             "#fdca26"
            ],
            [
             1,
             "#f0f921"
            ]
           ]
          },
          "colorway": [
           "#636efa",
           "#EF553B",
           "#00cc96",
           "#ab63fa",
           "#FFA15A",
           "#19d3f3",
           "#FF6692",
           "#B6E880",
           "#FF97FF",
           "#FECB52"
          ],
          "font": {
           "color": "#2a3f5f"
          },
          "geo": {
           "bgcolor": "white",
           "lakecolor": "white",
           "landcolor": "white",
           "showlakes": true,
           "showland": true,
           "subunitcolor": "#C8D4E3"
          },
          "hoverlabel": {
           "align": "left"
          },
          "hovermode": "closest",
          "mapbox": {
           "style": "light"
          },
          "paper_bgcolor": "white",
          "plot_bgcolor": "white",
          "polar": {
           "angularaxis": {
            "gridcolor": "#EBF0F8",
            "linecolor": "#EBF0F8",
            "ticks": ""
           },
           "bgcolor": "white",
           "radialaxis": {
            "gridcolor": "#EBF0F8",
            "linecolor": "#EBF0F8",
            "ticks": ""
           }
          },
          "scene": {
           "xaxis": {
            "backgroundcolor": "white",
            "gridcolor": "#DFE8F3",
            "gridwidth": 2,
            "linecolor": "#EBF0F8",
            "showbackground": true,
            "ticks": "",
            "zerolinecolor": "#EBF0F8"
           },
           "yaxis": {
            "backgroundcolor": "white",
            "gridcolor": "#DFE8F3",
            "gridwidth": 2,
            "linecolor": "#EBF0F8",
            "showbackground": true,
            "ticks": "",
            "zerolinecolor": "#EBF0F8"
           },
           "zaxis": {
            "backgroundcolor": "white",
            "gridcolor": "#DFE8F3",
            "gridwidth": 2,
            "linecolor": "#EBF0F8",
            "showbackground": true,
            "ticks": "",
            "zerolinecolor": "#EBF0F8"
           }
          },
          "shapedefaults": {
           "line": {
            "color": "#2a3f5f"
           }
          },
          "ternary": {
           "aaxis": {
            "gridcolor": "#DFE8F3",
            "linecolor": "#A2B1C6",
            "ticks": ""
           },
           "baxis": {
            "gridcolor": "#DFE8F3",
            "linecolor": "#A2B1C6",
            "ticks": ""
           },
           "bgcolor": "white",
           "caxis": {
            "gridcolor": "#DFE8F3",
            "linecolor": "#A2B1C6",
            "ticks": ""
           }
          },
          "title": {
           "x": 0.05
          },
          "xaxis": {
           "automargin": true,
           "gridcolor": "#EBF0F8",
           "linecolor": "#EBF0F8",
           "ticks": "",
           "title": {
            "standoff": 15
           },
           "zerolinecolor": "#EBF0F8",
           "zerolinewidth": 2
          },
          "yaxis": {
           "automargin": true,
           "gridcolor": "#EBF0F8",
           "linecolor": "#EBF0F8",
           "ticks": "",
           "title": {
            "standoff": 15
           },
           "zerolinecolor": "#EBF0F8",
           "zerolinewidth": 2
          }
         }
        },
        "title": {
         "text": "Empirical CTR per Action (split by Position)"
        },
        "xaxis": {
         "anchor": "y",
         "domain": [
          0,
          1
         ],
         "tickmode": "array",
         "ticktext": [
          "0",
          "1",
          "2",
          "3",
          "4",
          "5",
          "6",
          "7",
          "8",
          "9",
          "10",
          "11",
          "12",
          "13",
          "14",
          "15",
          "16",
          "17",
          "18",
          "19",
          "20",
          "21",
          "22",
          "23",
          "24",
          "25",
          "26",
          "27",
          "28",
          "29",
          "30",
          "31",
          "32",
          "33",
          "34",
          "35",
          "36",
          "37",
          "38",
          "39",
          "40",
          "41",
          "42",
          "43",
          "44",
          "45",
          "46",
          "47",
          "48",
          "49",
          "50",
          "51",
          "52",
          "53",
          "54",
          "55",
          "56",
          "57",
          "58",
          "59",
          "60",
          "61",
          "62",
          "63",
          "64",
          "65",
          "66",
          "67",
          "68",
          "69",
          "70",
          "71",
          "72",
          "73",
          "74",
          "75",
          "76",
          "77",
          "78",
          "79"
         ],
         "tickvals": {
          "bdata": "AAECAwQFBgcICQoLDA0ODxAREhMUFRYXGBkaGxwdHh8gISIjJCUmJygpKissLS4vMDEyMzQ1Njc4OTo7PD0+P0BBQkNERUZHSElKS0xNTk8=",
          "dtype": "i1"
         },
         "title": {
          "text": ""
         }
        },
        "xaxis2": {
         "anchor": "y2",
         "domain": [
          0,
          1
         ],
         "tickmode": "array",
         "ticktext": [
          "0",
          "1",
          "2",
          "3",
          "4",
          "5",
          "6",
          "7",
          "8",
          "9",
          "10",
          "11",
          "12",
          "13",
          "14",
          "15",
          "16",
          "17",
          "18",
          "19",
          "20",
          "21",
          "22",
          "23",
          "24",
          "25",
          "26",
          "27",
          "28",
          "29",
          "30",
          "31",
          "32",
          "33",
          "34",
          "35",
          "36",
          "37",
          "38",
          "39",
          "40",
          "41",
          "42",
          "43",
          "44",
          "45",
          "46",
          "47",
          "48",
          "49",
          "50",
          "51",
          "52",
          "53",
          "54",
          "55",
          "56",
          "57",
          "58",
          "59",
          "60",
          "61",
          "62",
          "63",
          "64",
          "65",
          "66",
          "67",
          "68",
          "69",
          "70",
          "71",
          "72",
          "73",
          "74",
          "75",
          "76",
          "77",
          "78",
          "79"
         ],
         "tickvals": {
          "bdata": "AAECAwQFBgcICQoLDA0ODxAREhMUFRYXGBkaGxwdHh8gISIjJCUmJygpKissLS4vMDEyMzQ1Njc4OTo7PD0+P0BBQkNERUZHSElKS0xNTk8=",
          "dtype": "i1"
         },
         "title": {
          "text": ""
         }
        },
        "xaxis3": {
         "anchor": "y3",
         "domain": [
          0,
          1
         ],
         "tickmode": "array",
         "ticktext": [
          "0",
          "1",
          "2",
          "3",
          "4",
          "5",
          "6",
          "7",
          "8",
          "9",
          "10",
          "11",
          "12",
          "13",
          "14",
          "15",
          "16",
          "17",
          "18",
          "19",
          "20",
          "21",
          "22",
          "23",
          "24",
          "25",
          "26",
          "27",
          "28",
          "29",
          "30",
          "31",
          "32",
          "33",
          "34",
          "35",
          "36",
          "37",
          "38",
          "39",
          "40",
          "41",
          "42",
          "43",
          "44",
          "45",
          "46",
          "47",
          "48",
          "49",
          "50",
          "51",
          "52",
          "53",
          "54",
          "55",
          "56",
          "57",
          "58",
          "59",
          "60",
          "61",
          "62",
          "63",
          "64",
          "65",
          "66",
          "67",
          "68",
          "69",
          "70",
          "71",
          "72",
          "73",
          "74",
          "75",
          "76",
          "77",
          "78",
          "79"
         ],
         "tickvals": {
          "bdata": "AAECAwQFBgcICQoLDA0ODxAREhMUFRYXGBkaGxwdHh8gISIjJCUmJygpKissLS4vMDEyMzQ1Njc4OTo7PD0+P0BBQkNERUZHSElKS0xNTk8=",
          "dtype": "i1"
         },
         "title": {
          "text": "Action ID (0\u201379)"
         }
        },
        "yaxis": {
         "anchor": "x",
         "domain": [
          0.72,
          1
         ],
         "range": [
          0,
          0.06097560975609756
         ],
         "title": {
          "text": "Empirical CTR"
         }
        },
        "yaxis2": {
         "anchor": "x2",
         "domain": [
          0.36,
          0.6399999999999999
         ],
         "range": [
          0,
          0.06578947368421052
         ],
         "title": {
          "text": "Empirical CTR"
         }
        },
        "yaxis3": {
         "anchor": "x3",
         "domain": [
          0,
          0.27999999999999997
         ],
         "range": [
          0,
          0.05952380952380952
         ],
         "title": {
          "text": "Empirical CTR"
         }
        }
       }
      }
     },
     "metadata": {},
     "output_type": "display_data"
    },
    {
     "data": {
      "application/vnd.plotly.v1+json": {
       "config": {
        "plotlyServerURL": "https://plot.ly"
       },
       "data": [
        {
         "marker": {
          "color": "steelblue"
         },
         "name": "Pos 0",
         "showlegend": false,
         "type": "bar",
         "x": {
          "bdata": "AAECAwQFBgcICQoLDA0ODxAREhMUFRYXGBkaGxwdHh8gISIjJCUmJygpKissLS4vMDEyMzQ1Njc4OTo7PD0+P0BBQkNERUZHSElKS0xNTk8=",
          "dtype": "i1"
         },
         "xaxis": "x",
         "y": {
          "bdata": "AAAAAAAAAAB7FK5H4XqUPwAAAAAAAAAAAAAAAAAAAAAAAAAAAAAAAAAAAAAAAAAARhdddNFFlz+WexphuaeRPwAAAAAAAAAARhdddNFFlz8AAAAAAAAAAAAAAAAAAAAAAAAAAAAAAAAAAAAAAAAAAAAAAAAAAAAAAAAAAAAAAAAAAAAAAAAAAB4eHh4eHp4/AAAAAAAAAAAAAAAAAAAAAAAAAAAAAAAAAAAAAAAAAAAAAAAAAAAAAAAAAAAAAAAAAAAAAAAAAAAAAAAAAAAAAAAAAAAAAAAAAAAAAAAAAAAor6G8hvKaPwAAAAAAAAAAAAAAAAAAAAAAAAAAAAAAAAAAAAAAAAAAAAAAAAAAAAAAAAAAAAAAAAAAAAAAAAAAAAAAAAAAAAAAAAAAAAAAABzHcRzHcZw/AAAAAAAAAAAAAAAAAAAAAAAAAAAAAAAAAAAAAAAAAAAAAAAAAAAAAPoYnI/B+Zg/AAAAAAAAAAAAAAAAAAAAAAAAAAAAAAAAAAAAAAAAAAD6GJyPwfmoPwgffPDBB58/AAAAAAAAAAAAAAAAAAAAAAAAAAAAAAAAAAAAAAAAAAAAAAAAAAAAAAAAAAAAAAAAwXgr+xxSkz8AAAAAAAAAAAAAAAAAAAAAAAAAAAAAAAAAAAAAAAAAAAAAAAAAAAAAAAAAAAAAAAAAAAAAAAAAAAAAAAAAAAAAAAAAAAAAAAAAAAAAAAAAAAAAAAAAAAAAAAAAAAAAAAAAAAAAAAAAACivobyG8po/AAAAAAAAAAAAAAAAAAAAAAAAAAAAAAAAAAAAAAAAAAAAAAAAAAAAAAAAAAAAAAAAAAAAAAAAAAAAAAAAAAAAAA==",
          "dtype": "f8"
         },
         "yaxis": "y"
        },
        {
         "marker": {
          "color": "steelblue"
         },
         "name": "Pos 1",
         "showlegend": false,
         "type": "bar",
         "x": {
          "bdata": "AAECAwQFBgcICQoLDA0ODxAREhMUFRYXGBkaGxwdHh8gISIjJCUmJygpKissLS4vMDEyMzQ1Njc4OTo7PD0+P0BBQkNERUZHSElKS0xNTk8=",
          "dtype": "i1"
         },
         "xaxis": "x2",
         "y": {
          "bdata": "AAAAAAAAAAAAAAAAAAAAAAAAAAAAAAAAAAAAAAAAAAAAAAAAAAAAAAAAAAAAAAAAAAAAAAAAAAAAAAAAAAAAAAAAAAAAAAAAAAAAAAAAAAAAAAAAAAAAAAAAAAAAAAAAAAAAAAAAAAAAAAAAAAAAAAAAAAAAAAAAAAAAAAAAAAAAAAAAAAAAAAAAAAAAAAAAAAAAAAAAAAAAAAAAAAAAAAAAAAAAAAAAAAAAAAAAAAAAAAAAAAAAAAAAAAAAAAAAAAAAAAAAAAA5BS+n4OWUPwAAAAAAAAAAAAAAAAAAAAAAAAAAAAAAAAAAAAAAAAAAAAAAAAAAAAAAAAAAAAAAAAAAAAAAAAAAAAAAAAAAAAA5BS+n4OWUPwAAAAAAAAAAVxCTK4jJlT8AAAAAAAAAAAAAAAAAAAAAAAAAAAAAAAAAAAAAAAAAADkFL6fg5ZQ/AAAAAAAAAAAAAAAAAAAAAEYXXXTRRZc/exSuR+F6lD8AAAAAAAAAAB4eHh4eHp4/AAAAAAAAAAAXbMEWbMGWPwAAAAAAAAAAAAAAAAAAAAAAAAAAAAAAAFVVVVVVVaU/AAAAAAAAAAAAAAAAAAAAAAAAAAAAAAAAAAAAAAAAAAAor6G8hvKqPwAAAAAAAAAAAAAAAAAAAACamZmZmZmZPwAAAAAAAAAAAAAAAAAAAAAAAAAAAAAAACivobyG8po/AAAAAAAAAAAAAAAAAAAAAAAAAAAAAAAAAAAAAAAAAAAAAAAAAAAAAAAAAAAAAAAAAAAAAAAAAAAAAAAAAAAAAAAAAAAAAAAAAAAAAAAAAAAAAAAAAAAAAAAAAAAAAAAAAAAAAAAAAAAAAAAAAAAAAA==",
          "dtype": "f8"
         },
         "yaxis": "y2"
        },
        {
         "marker": {
          "color": "steelblue"
         },
         "name": "Pos 2",
         "showlegend": false,
         "type": "bar",
         "x": {
          "bdata": "AAECAwQFBgcICQoLDA0ODxAREhMUFRYXGBkaGxwdHh8gISIjJCUmJygpKissLS4vMDEyMzQ1Njc4OTo7PD0+P0BBQkNERUZHSElKS0xNTk8=",
          "dtype": "i1"
         },
         "xaxis": "x3",
         "y": {
          "bdata": "AAAAAAAAAAAAAAAAAAAAAAAAAAAAAAAA+hicj8H5mD8AAAAAAAAAAAAAAAAAAAAAFBQUFBQUlD8AAAAAAAAAABQ7sRM7sZM/AAAAAAAAAAAAAAAAAAAAAAAAAAAAAAAAAAAAAAAAAAAAAAAAAAAAAAAAAAAAAAAAAAAAAAAAAAAAAAAAAAAAAAAAAAAAAAAAGIZhGIZhqD8AAAAAAAAAAAAAAAAAAAAAKK+hvIbymj8AAAAAAAAAAAAAAAAAAAAAAAAAAAAAAAAAAAAAAAAAAAAAAAAAAAAAAAAAAAAAAAAAAAAAAAAAAAAAAAAAAAAAAAAAAAAAAAAAAAAAAAAAAAAAAAAAAAAAAAAAAAAAAAAAAAAAAAAAAAAAAAAAAAAA0LrBFPmsmz8AAAAAAAAAAAAAAAAAAAAAAAAAAAAAAAAAAAAAAAAAAAAAAAAAAAAAAAAAAAAAAAAAAAAAAAAAAAAAAAAAAAAAAAAAAAAAAAANJ3VfHluRPwAAAAAAAAAAmpmZmZmZmT8AAAAAAAAAAAAAAAAAAAAAAAAAAAAAAAAAAAAAAAAAAAAAAAAAAAAAAAAAAAAAAAAAAAAAAAAAAAAAAAAAAAAAwXgr+xxSkz8AAAAAAAAAAAAAAAAAAAAAAAAAAAAAAAAAAAAAAAAAAAAAAAAAAAAAAAAAAAAAAAAAAAAAAAAAAAAAAAAAAAAAAAAAAAAAAAAAAAAAAAAAAAAAAAAAAAAAHdRBHdRBnT8AAAAAAAAAAAAAAAAAAAAAAAAAAAAAAAAAAAAAAAAAAAAAAAAAAAAAAAAAAAAAAAAAAAAAAAAAAAAAAAAAAAAAAAAAAAAAAAAAAAAAAAAAAA==",
          "dtype": "f8"
         },
         "yaxis": "y3"
        }
       ],
       "layout": {
        "annotations": [
         {
          "font": {
           "size": 16
          },
          "showarrow": false,
          "text": "Position 0",
          "x": 0.5,
          "xanchor": "center",
          "xref": "paper",
          "y": 1,
          "yanchor": "bottom",
          "yref": "paper"
         },
         {
          "font": {
           "size": 16
          },
          "showarrow": false,
          "text": "Position 1",
          "x": 0.5,
          "xanchor": "center",
          "xref": "paper",
          "y": 0.6399999999999999,
          "yanchor": "bottom",
          "yref": "paper"
         },
         {
          "font": {
           "size": 16
          },
          "showarrow": false,
          "text": "Position 2",
          "x": 0.5,
          "xanchor": "center",
          "xref": "paper",
          "y": 0.27999999999999997,
          "yanchor": "bottom",
          "yref": "paper"
         }
        ],
        "height": 1020,
        "template": {
         "data": {
          "bar": [
           {
            "error_x": {
             "color": "#2a3f5f"
            },
            "error_y": {
             "color": "#2a3f5f"
            },
            "marker": {
             "line": {
              "color": "white",
              "width": 0.5
             },
             "pattern": {
              "fillmode": "overlay",
              "size": 10,
              "solidity": 0.2
             }
            },
            "type": "bar"
           }
          ],
          "barpolar": [
           {
            "marker": {
             "line": {
              "color": "white",
              "width": 0.5
             },
             "pattern": {
              "fillmode": "overlay",
              "size": 10,
              "solidity": 0.2
             }
            },
            "type": "barpolar"
           }
          ],
          "carpet": [
           {
            "aaxis": {
             "endlinecolor": "#2a3f5f",
             "gridcolor": "#C8D4E3",
             "linecolor": "#C8D4E3",
             "minorgridcolor": "#C8D4E3",
             "startlinecolor": "#2a3f5f"
            },
            "baxis": {
             "endlinecolor": "#2a3f5f",
             "gridcolor": "#C8D4E3",
             "linecolor": "#C8D4E3",
             "minorgridcolor": "#C8D4E3",
             "startlinecolor": "#2a3f5f"
            },
            "type": "carpet"
           }
          ],
          "choropleth": [
           {
            "colorbar": {
             "outlinewidth": 0,
             "ticks": ""
            },
            "type": "choropleth"
           }
          ],
          "contour": [
           {
            "colorbar": {
             "outlinewidth": 0,
             "ticks": ""
            },
            "colorscale": [
             [
              0,
              "#0d0887"
             ],
             [
              0.1111111111111111,
              "#46039f"
             ],
             [
              0.2222222222222222,
              "#7201a8"
             ],
             [
              0.3333333333333333,
              "#9c179e"
             ],
             [
              0.4444444444444444,
              "#bd3786"
             ],
             [
              0.5555555555555556,
              "#d8576b"
             ],
             [
              0.6666666666666666,
              "#ed7953"
             ],
             [
              0.7777777777777778,
              "#fb9f3a"
             ],
             [
              0.8888888888888888,
              "#fdca26"
             ],
             [
              1,
              "#f0f921"
             ]
            ],
            "type": "contour"
           }
          ],
          "contourcarpet": [
           {
            "colorbar": {
             "outlinewidth": 0,
             "ticks": ""
            },
            "type": "contourcarpet"
           }
          ],
          "heatmap": [
           {
            "colorbar": {
             "outlinewidth": 0,
             "ticks": ""
            },
            "colorscale": [
             [
              0,
              "#0d0887"
             ],
             [
              0.1111111111111111,
              "#46039f"
             ],
             [
              0.2222222222222222,
              "#7201a8"
             ],
             [
              0.3333333333333333,
              "#9c179e"
             ],
             [
              0.4444444444444444,
              "#bd3786"
             ],
             [
              0.5555555555555556,
              "#d8576b"
             ],
             [
              0.6666666666666666,
              "#ed7953"
             ],
             [
              0.7777777777777778,
              "#fb9f3a"
             ],
             [
              0.8888888888888888,
              "#fdca26"
             ],
             [
              1,
              "#f0f921"
             ]
            ],
            "type": "heatmap"
           }
          ],
          "histogram": [
           {
            "marker": {
             "pattern": {
              "fillmode": "overlay",
              "size": 10,
              "solidity": 0.2
             }
            },
            "type": "histogram"
           }
          ],
          "histogram2d": [
           {
            "colorbar": {
             "outlinewidth": 0,
             "ticks": ""
            },
            "colorscale": [
             [
              0,
              "#0d0887"
             ],
             [
              0.1111111111111111,
              "#46039f"
             ],
             [
              0.2222222222222222,
              "#7201a8"
             ],
             [
              0.3333333333333333,
              "#9c179e"
             ],
             [
              0.4444444444444444,
              "#bd3786"
             ],
             [
              0.5555555555555556,
              "#d8576b"
             ],
             [
              0.6666666666666666,
              "#ed7953"
             ],
             [
              0.7777777777777778,
              "#fb9f3a"
             ],
             [
              0.8888888888888888,
              "#fdca26"
             ],
             [
              1,
              "#f0f921"
             ]
            ],
            "type": "histogram2d"
           }
          ],
          "histogram2dcontour": [
           {
            "colorbar": {
             "outlinewidth": 0,
             "ticks": ""
            },
            "colorscale": [
             [
              0,
              "#0d0887"
             ],
             [
              0.1111111111111111,
              "#46039f"
             ],
             [
              0.2222222222222222,
              "#7201a8"
             ],
             [
              0.3333333333333333,
              "#9c179e"
             ],
             [
              0.4444444444444444,
              "#bd3786"
             ],
             [
              0.5555555555555556,
              "#d8576b"
             ],
             [
              0.6666666666666666,
              "#ed7953"
             ],
             [
              0.7777777777777778,
              "#fb9f3a"
             ],
             [
              0.8888888888888888,
              "#fdca26"
             ],
             [
              1,
              "#f0f921"
             ]
            ],
            "type": "histogram2dcontour"
           }
          ],
          "mesh3d": [
           {
            "colorbar": {
             "outlinewidth": 0,
             "ticks": ""
            },
            "type": "mesh3d"
           }
          ],
          "parcoords": [
           {
            "line": {
             "colorbar": {
              "outlinewidth": 0,
              "ticks": ""
             }
            },
            "type": "parcoords"
           }
          ],
          "pie": [
           {
            "automargin": true,
            "type": "pie"
           }
          ],
          "scatter": [
           {
            "fillpattern": {
             "fillmode": "overlay",
             "size": 10,
             "solidity": 0.2
            },
            "type": "scatter"
           }
          ],
          "scatter3d": [
           {
            "line": {
             "colorbar": {
              "outlinewidth": 0,
              "ticks": ""
             }
            },
            "marker": {
             "colorbar": {
              "outlinewidth": 0,
              "ticks": ""
             }
            },
            "type": "scatter3d"
           }
          ],
          "scattercarpet": [
           {
            "marker": {
             "colorbar": {
              "outlinewidth": 0,
              "ticks": ""
             }
            },
            "type": "scattercarpet"
           }
          ],
          "scattergeo": [
           {
            "marker": {
             "colorbar": {
              "outlinewidth": 0,
              "ticks": ""
             }
            },
            "type": "scattergeo"
           }
          ],
          "scattergl": [
           {
            "marker": {
             "colorbar": {
              "outlinewidth": 0,
              "ticks": ""
             }
            },
            "type": "scattergl"
           }
          ],
          "scattermap": [
           {
            "marker": {
             "colorbar": {
              "outlinewidth": 0,
              "ticks": ""
             }
            },
            "type": "scattermap"
           }
          ],
          "scattermapbox": [
           {
            "marker": {
             "colorbar": {
              "outlinewidth": 0,
              "ticks": ""
             }
            },
            "type": "scattermapbox"
           }
          ],
          "scatterpolar": [
           {
            "marker": {
             "colorbar": {
              "outlinewidth": 0,
              "ticks": ""
             }
            },
            "type": "scatterpolar"
           }
          ],
          "scatterpolargl": [
           {
            "marker": {
             "colorbar": {
              "outlinewidth": 0,
              "ticks": ""
             }
            },
            "type": "scatterpolargl"
           }
          ],
          "scatterternary": [
           {
            "marker": {
             "colorbar": {
              "outlinewidth": 0,
              "ticks": ""
             }
            },
            "type": "scatterternary"
           }
          ],
          "surface": [
           {
            "colorbar": {
             "outlinewidth": 0,
             "ticks": ""
            },
            "colorscale": [
             [
              0,
              "#0d0887"
             ],
             [
              0.1111111111111111,
              "#46039f"
             ],
             [
              0.2222222222222222,
              "#7201a8"
             ],
             [
              0.3333333333333333,
              "#9c179e"
             ],
             [
              0.4444444444444444,
              "#bd3786"
             ],
             [
              0.5555555555555556,
              "#d8576b"
             ],
             [
              0.6666666666666666,
              "#ed7953"
             ],
             [
              0.7777777777777778,
              "#fb9f3a"
             ],
             [
              0.8888888888888888,
              "#fdca26"
             ],
             [
              1,
              "#f0f921"
             ]
            ],
            "type": "surface"
           }
          ],
          "table": [
           {
            "cells": {
             "fill": {
              "color": "#EBF0F8"
             },
             "line": {
              "color": "white"
             }
            },
            "header": {
             "fill": {
              "color": "#C8D4E3"
             },
             "line": {
              "color": "white"
             }
            },
            "type": "table"
           }
          ]
         },
         "layout": {
          "annotationdefaults": {
           "arrowcolor": "#2a3f5f",
           "arrowhead": 0,
           "arrowwidth": 1
          },
          "autotypenumbers": "strict",
          "coloraxis": {
           "colorbar": {
            "outlinewidth": 0,
            "ticks": ""
           }
          },
          "colorscale": {
           "diverging": [
            [
             0,
             "#8e0152"
            ],
            [
             0.1,
             "#c51b7d"
            ],
            [
             0.2,
             "#de77ae"
            ],
            [
             0.3,
             "#f1b6da"
            ],
            [
             0.4,
             "#fde0ef"
            ],
            [
             0.5,
             "#f7f7f7"
            ],
            [
             0.6,
             "#e6f5d0"
            ],
            [
             0.7,
             "#b8e186"
            ],
            [
             0.8,
             "#7fbc41"
            ],
            [
             0.9,
             "#4d9221"
            ],
            [
             1,
             "#276419"
            ]
           ],
           "sequential": [
            [
             0,
             "#0d0887"
            ],
            [
             0.1111111111111111,
             "#46039f"
            ],
            [
             0.2222222222222222,
             "#7201a8"
            ],
            [
             0.3333333333333333,
             "#9c179e"
            ],
            [
             0.4444444444444444,
             "#bd3786"
            ],
            [
             0.5555555555555556,
             "#d8576b"
            ],
            [
             0.6666666666666666,
             "#ed7953"
            ],
            [
             0.7777777777777778,
             "#fb9f3a"
            ],
            [
             0.8888888888888888,
             "#fdca26"
            ],
            [
             1,
             "#f0f921"
            ]
           ],
           "sequentialminus": [
            [
             0,
             "#0d0887"
            ],
            [
             0.1111111111111111,
             "#46039f"
            ],
            [
             0.2222222222222222,
             "#7201a8"
            ],
            [
             0.3333333333333333,
             "#9c179e"
            ],
            [
             0.4444444444444444,
             "#bd3786"
            ],
            [
             0.5555555555555556,
             "#d8576b"
            ],
            [
             0.6666666666666666,
             "#ed7953"
            ],
            [
             0.7777777777777778,
             "#fb9f3a"
            ],
            [
             0.8888888888888888,
             "#fdca26"
            ],
            [
             1,
             "#f0f921"
            ]
           ]
          },
          "colorway": [
           "#636efa",
           "#EF553B",
           "#00cc96",
           "#ab63fa",
           "#FFA15A",
           "#19d3f3",
           "#FF6692",
           "#B6E880",
           "#FF97FF",
           "#FECB52"
          ],
          "font": {
           "color": "#2a3f5f"
          },
          "geo": {
           "bgcolor": "white",
           "lakecolor": "white",
           "landcolor": "white",
           "showlakes": true,
           "showland": true,
           "subunitcolor": "#C8D4E3"
          },
          "hoverlabel": {
           "align": "left"
          },
          "hovermode": "closest",
          "mapbox": {
           "style": "light"
          },
          "paper_bgcolor": "white",
          "plot_bgcolor": "white",
          "polar": {
           "angularaxis": {
            "gridcolor": "#EBF0F8",
            "linecolor": "#EBF0F8",
            "ticks": ""
           },
           "bgcolor": "white",
           "radialaxis": {
            "gridcolor": "#EBF0F8",
            "linecolor": "#EBF0F8",
            "ticks": ""
           }
          },
          "scene": {
           "xaxis": {
            "backgroundcolor": "white",
            "gridcolor": "#DFE8F3",
            "gridwidth": 2,
            "linecolor": "#EBF0F8",
            "showbackground": true,
            "ticks": "",
            "zerolinecolor": "#EBF0F8"
           },
           "yaxis": {
            "backgroundcolor": "white",
            "gridcolor": "#DFE8F3",
            "gridwidth": 2,
            "linecolor": "#EBF0F8",
            "showbackground": true,
            "ticks": "",
            "zerolinecolor": "#EBF0F8"
           },
           "zaxis": {
            "backgroundcolor": "white",
            "gridcolor": "#DFE8F3",
            "gridwidth": 2,
            "linecolor": "#EBF0F8",
            "showbackground": true,
            "ticks": "",
            "zerolinecolor": "#EBF0F8"
           }
          },
          "shapedefaults": {
           "line": {
            "color": "#2a3f5f"
           }
          },
          "ternary": {
           "aaxis": {
            "gridcolor": "#DFE8F3",
            "linecolor": "#A2B1C6",
            "ticks": ""
           },
           "baxis": {
            "gridcolor": "#DFE8F3",
            "linecolor": "#A2B1C6",
            "ticks": ""
           },
           "bgcolor": "white",
           "caxis": {
            "gridcolor": "#DFE8F3",
            "linecolor": "#A2B1C6",
            "ticks": ""
           }
          },
          "title": {
           "x": 0.05
          },
          "xaxis": {
           "automargin": true,
           "gridcolor": "#EBF0F8",
           "linecolor": "#EBF0F8",
           "ticks": "",
           "title": {
            "standoff": 15
           },
           "zerolinecolor": "#EBF0F8",
           "zerolinewidth": 2
          },
          "yaxis": {
           "automargin": true,
           "gridcolor": "#EBF0F8",
           "linecolor": "#EBF0F8",
           "ticks": "",
           "title": {
            "standoff": 15
           },
           "zerolinecolor": "#EBF0F8",
           "zerolinewidth": 2
          }
         }
        },
        "title": {
         "text": "Empirical CTR per Action (split by Position)"
        },
        "xaxis": {
         "anchor": "y",
         "domain": [
          0,
          1
         ],
         "tickmode": "array",
         "ticktext": [
          "0",
          "1",
          "2",
          "3",
          "4",
          "5",
          "6",
          "7",
          "8",
          "9",
          "10",
          "11",
          "12",
          "13",
          "14",
          "15",
          "16",
          "17",
          "18",
          "19",
          "20",
          "21",
          "22",
          "23",
          "24",
          "25",
          "26",
          "27",
          "28",
          "29",
          "30",
          "31",
          "32",
          "33",
          "34",
          "35",
          "36",
          "37",
          "38",
          "39",
          "40",
          "41",
          "42",
          "43",
          "44",
          "45",
          "46",
          "47",
          "48",
          "49",
          "50",
          "51",
          "52",
          "53",
          "54",
          "55",
          "56",
          "57",
          "58",
          "59",
          "60",
          "61",
          "62",
          "63",
          "64",
          "65",
          "66",
          "67",
          "68",
          "69",
          "70",
          "71",
          "72",
          "73",
          "74",
          "75",
          "76",
          "77",
          "78",
          "79"
         ],
         "tickvals": {
          "bdata": "AAECAwQFBgcICQoLDA0ODxAREhMUFRYXGBkaGxwdHh8gISIjJCUmJygpKissLS4vMDEyMzQ1Njc4OTo7PD0+P0BBQkNERUZHSElKS0xNTk8=",
          "dtype": "i1"
         },
         "title": {
          "text": ""
         }
        },
        "xaxis2": {
         "anchor": "y2",
         "domain": [
          0,
          1
         ],
         "tickmode": "array",
         "ticktext": [
          "0",
          "1",
          "2",
          "3",
          "4",
          "5",
          "6",
          "7",
          "8",
          "9",
          "10",
          "11",
          "12",
          "13",
          "14",
          "15",
          "16",
          "17",
          "18",
          "19",
          "20",
          "21",
          "22",
          "23",
          "24",
          "25",
          "26",
          "27",
          "28",
          "29",
          "30",
          "31",
          "32",
          "33",
          "34",
          "35",
          "36",
          "37",
          "38",
          "39",
          "40",
          "41",
          "42",
          "43",
          "44",
          "45",
          "46",
          "47",
          "48",
          "49",
          "50",
          "51",
          "52",
          "53",
          "54",
          "55",
          "56",
          "57",
          "58",
          "59",
          "60",
          "61",
          "62",
          "63",
          "64",
          "65",
          "66",
          "67",
          "68",
          "69",
          "70",
          "71",
          "72",
          "73",
          "74",
          "75",
          "76",
          "77",
          "78",
          "79"
         ],
         "tickvals": {
          "bdata": "AAECAwQFBgcICQoLDA0ODxAREhMUFRYXGBkaGxwdHh8gISIjJCUmJygpKissLS4vMDEyMzQ1Njc4OTo7PD0+P0BBQkNERUZHSElKS0xNTk8=",
          "dtype": "i1"
         },
         "title": {
          "text": ""
         }
        },
        "xaxis3": {
         "anchor": "y3",
         "domain": [
          0,
          1
         ],
         "tickmode": "array",
         "ticktext": [
          "0",
          "1",
          "2",
          "3",
          "4",
          "5",
          "6",
          "7",
          "8",
          "9",
          "10",
          "11",
          "12",
          "13",
          "14",
          "15",
          "16",
          "17",
          "18",
          "19",
          "20",
          "21",
          "22",
          "23",
          "24",
          "25",
          "26",
          "27",
          "28",
          "29",
          "30",
          "31",
          "32",
          "33",
          "34",
          "35",
          "36",
          "37",
          "38",
          "39",
          "40",
          "41",
          "42",
          "43",
          "44",
          "45",
          "46",
          "47",
          "48",
          "49",
          "50",
          "51",
          "52",
          "53",
          "54",
          "55",
          "56",
          "57",
          "58",
          "59",
          "60",
          "61",
          "62",
          "63",
          "64",
          "65",
          "66",
          "67",
          "68",
          "69",
          "70",
          "71",
          "72",
          "73",
          "74",
          "75",
          "76",
          "77",
          "78",
          "79"
         ],
         "tickvals": {
          "bdata": "AAECAwQFBgcICQoLDA0ODxAREhMUFRYXGBkaGxwdHh8gISIjJCUmJygpKissLS4vMDEyMzQ1Njc4OTo7PD0+P0BBQkNERUZHSElKS0xNTk8=",
          "dtype": "i1"
         },
         "title": {
          "text": "Action ID (0\u201379)"
         }
        },
        "yaxis": {
         "anchor": "x",
         "domain": [
          0.72,
          1
         ],
         "range": [
          0,
          0.06097560975609756
         ],
         "title": {
          "text": "Empirical CTR"
         }
        },
        "yaxis2": {
         "anchor": "x2",
         "domain": [
          0.36,
          0.6399999999999999
         ],
         "range": [
          0,
          0.06578947368421052
         ],
         "title": {
          "text": "Empirical CTR"
         }
        },
        "yaxis3": {
         "anchor": "x3",
         "domain": [
          0,
          0.27999999999999997
         ],
         "range": [
          0,
          0.05952380952380952
         ],
         "title": {
          "text": "Empirical CTR"
         }
        }
       }
      }
     },
     "metadata": {},
     "output_type": "display_data"
    }
   ],
   "source": [
    "# three rows (pos 0,1,2), actions limited to those present in df\n",
    "fig = plot_empirical_ctr_by_position(df, positions=[0,1,2])\n",
    "fig.show()\n",
    "\n",
    "# if you want to force showing all actions 0..79 on each row (missing CTRs -> 0)\n",
    "fig_full = plot_empirical_ctr_by_position(df, positions=[0,1,2], n_actions=80)\n",
    "fig_full.show()"
   ]
  },
  {
   "cell_type": "code",
   "execution_count": null,
   "id": "e7ddf314",
   "metadata": {},
   "outputs": [],
   "source": []
  },
  {
   "cell_type": "code",
   "execution_count": 85,
   "id": "80aa650f",
   "metadata": {},
   "outputs": [
    {
     "data": {
      "application/vnd.plotly.v1+json": {
       "config": {
        "plotlyServerURL": "https://plot.ly"
       },
       "data": [
        {
         "legendgroup": "0",
         "name": "Position 0",
         "offsetgroup": "0",
         "type": "bar",
         "x": {
          "bdata": "AAECAwQFBgcICQoLDA0ODxAREhMUFRYXGBkaGxwdHh8gISIjJCUmJygpKissLS4vMDEyMzQ1Njc4OTo7PD0+P0BBQkNERUZHSElKS0xNTk8=",
          "dtype": "i1"
         },
         "y": {
          "bdata": "AAAAAAAAAAB7FK5H4XqUPwAAAAAAAAAAAAAAAAAAAAAAAAAAAAAAAAAAAAAAAAAARhdddNFFlz+WexphuaeRPwAAAAAAAAAARhdddNFFlz8AAAAAAAAAAAAAAAAAAAAAAAAAAAAAAAAAAAAAAAAAAAAAAAAAAAAAAAAAAAAAAAAAAAAAAAAAAB4eHh4eHp4/AAAAAAAAAAAAAAAAAAAAAAAAAAAAAAAAAAAAAAAAAAAAAAAAAAAAAAAAAAAAAAAAAAAAAAAAAAAAAAAAAAAAAAAAAAAAAAAAAAAAAAAAAAAor6G8hvKaPwAAAAAAAAAAAAAAAAAAAAAAAAAAAAAAAAAAAAAAAAAAAAAAAAAAAAAAAAAAAAAAAAAAAAAAAAAAAAAAAAAAAAAAAAAAAAAAABzHcRzHcZw/AAAAAAAAAAAAAAAAAAAAAAAAAAAAAAAAAAAAAAAAAAAAAAAAAAAAAPoYnI/B+Zg/AAAAAAAAAAAAAAAAAAAAAAAAAAAAAAAAAAAAAAAAAAD6GJyPwfmoPwgffPDBB58/AAAAAAAAAAAAAAAAAAAAAAAAAAAAAAAAAAAAAAAAAAAAAAAAAAAAAAAAAAAAAAAAwXgr+xxSkz8AAAAAAAAAAAAAAAAAAAAAAAAAAAAAAAAAAAAAAAAAAAAAAAAAAAAAAAAAAAAAAAAAAAAAAAAAAAAAAAAAAAAAAAAAAAAAAAAAAAAAAAAAAAAAAAAAAAAAAAAAAAAAAAAAAAAAAAAAACivobyG8po/AAAAAAAAAAAAAAAAAAAAAAAAAAAAAAAAAAAAAAAAAAAAAAAAAAAAAAAAAAAAAAAAAAAAAAAAAAAAAAAAAAAAAA==",
          "dtype": "f8"
         }
        },
        {
         "legendgroup": "1",
         "name": "Position 1",
         "offsetgroup": "1",
         "type": "bar",
         "x": {
          "bdata": "AAECAwQFBgcICQoLDA0ODxAREhMUFRYXGBkaGxwdHh8gISIjJCUmJygpKissLS4vMDEyMzQ1Njc4OTo7PD0+P0BBQkNERUZHSElKS0xNTk8=",
          "dtype": "i1"
         },
         "y": {
          "bdata": "AAAAAAAAAAAAAAAAAAAAAAAAAAAAAAAAAAAAAAAAAAAAAAAAAAAAAAAAAAAAAAAAAAAAAAAAAAAAAAAAAAAAAAAAAAAAAAAAAAAAAAAAAAAAAAAAAAAAAAAAAAAAAAAAAAAAAAAAAAAAAAAAAAAAAAAAAAAAAAAAAAAAAAAAAAAAAAAAAAAAAAAAAAAAAAAAAAAAAAAAAAAAAAAAAAAAAAAAAAAAAAAAAAAAAAAAAAAAAAAAAAAAAAAAAAAAAAAAAAAAAAAAAAA5BS+n4OWUPwAAAAAAAAAAAAAAAAAAAAAAAAAAAAAAAAAAAAAAAAAAAAAAAAAAAAAAAAAAAAAAAAAAAAAAAAAAAAAAAAAAAAA5BS+n4OWUPwAAAAAAAAAAVxCTK4jJlT8AAAAAAAAAAAAAAAAAAAAAAAAAAAAAAAAAAAAAAAAAADkFL6fg5ZQ/AAAAAAAAAAAAAAAAAAAAAEYXXXTRRZc/exSuR+F6lD8AAAAAAAAAAB4eHh4eHp4/AAAAAAAAAAAXbMEWbMGWPwAAAAAAAAAAAAAAAAAAAAAAAAAAAAAAAFVVVVVVVaU/AAAAAAAAAAAAAAAAAAAAAAAAAAAAAAAAAAAAAAAAAAAor6G8hvKqPwAAAAAAAAAAAAAAAAAAAACamZmZmZmZPwAAAAAAAAAAAAAAAAAAAAAAAAAAAAAAACivobyG8po/AAAAAAAAAAAAAAAAAAAAAAAAAAAAAAAAAAAAAAAAAAAAAAAAAAAAAAAAAAAAAAAAAAAAAAAAAAAAAAAAAAAAAAAAAAAAAAAAAAAAAAAAAAAAAAAAAAAAAAAAAAAAAAAAAAAAAAAAAAAAAAAAAAAAAA==",
          "dtype": "f8"
         }
        },
        {
         "legendgroup": "2",
         "name": "Position 2",
         "offsetgroup": "2",
         "type": "bar",
         "x": {
          "bdata": "AAECAwQFBgcICQoLDA0ODxAREhMUFRYXGBkaGxwdHh8gISIjJCUmJygpKissLS4vMDEyMzQ1Njc4OTo7PD0+P0BBQkNERUZHSElKS0xNTk8=",
          "dtype": "i1"
         },
         "y": {
          "bdata": "AAAAAAAAAAAAAAAAAAAAAAAAAAAAAAAA+hicj8H5mD8AAAAAAAAAAAAAAAAAAAAAFBQUFBQUlD8AAAAAAAAAABQ7sRM7sZM/AAAAAAAAAAAAAAAAAAAAAAAAAAAAAAAAAAAAAAAAAAAAAAAAAAAAAAAAAAAAAAAAAAAAAAAAAAAAAAAAAAAAAAAAAAAAAAAAGIZhGIZhqD8AAAAAAAAAAAAAAAAAAAAAKK+hvIbymj8AAAAAAAAAAAAAAAAAAAAAAAAAAAAAAAAAAAAAAAAAAAAAAAAAAAAAAAAAAAAAAAAAAAAAAAAAAAAAAAAAAAAAAAAAAAAAAAAAAAAAAAAAAAAAAAAAAAAAAAAAAAAAAAAAAAAAAAAAAAAAAAAAAAAA0LrBFPmsmz8AAAAAAAAAAAAAAAAAAAAAAAAAAAAAAAAAAAAAAAAAAAAAAAAAAAAAAAAAAAAAAAAAAAAAAAAAAAAAAAAAAAAAAAAAAAAAAAANJ3VfHluRPwAAAAAAAAAAmpmZmZmZmT8AAAAAAAAAAAAAAAAAAAAAAAAAAAAAAAAAAAAAAAAAAAAAAAAAAAAAAAAAAAAAAAAAAAAAAAAAAAAAAAAAAAAAwXgr+xxSkz8AAAAAAAAAAAAAAAAAAAAAAAAAAAAAAAAAAAAAAAAAAAAAAAAAAAAAAAAAAAAAAAAAAAAAAAAAAAAAAAAAAAAAAAAAAAAAAAAAAAAAAAAAAAAAAAAAAAAAHdRBHdRBnT8AAAAAAAAAAAAAAAAAAAAAAAAAAAAAAAAAAAAAAAAAAAAAAAAAAAAAAAAAAAAAAAAAAAAAAAAAAAAAAAAAAAAAAAAAAAAAAAAAAAAAAAAAAA==",
          "dtype": "f8"
         }
        }
       ],
       "layout": {
        "bargap": 0.15,
        "bargroupgap": 0.05,
        "barmode": "group",
        "height": 600,
        "legend": {
         "title": {
          "text": "Position"
         }
        },
        "template": {
         "data": {
          "bar": [
           {
            "error_x": {
             "color": "#2a3f5f"
            },
            "error_y": {
             "color": "#2a3f5f"
            },
            "marker": {
             "line": {
              "color": "white",
              "width": 0.5
             },
             "pattern": {
              "fillmode": "overlay",
              "size": 10,
              "solidity": 0.2
             }
            },
            "type": "bar"
           }
          ],
          "barpolar": [
           {
            "marker": {
             "line": {
              "color": "white",
              "width": 0.5
             },
             "pattern": {
              "fillmode": "overlay",
              "size": 10,
              "solidity": 0.2
             }
            },
            "type": "barpolar"
           }
          ],
          "carpet": [
           {
            "aaxis": {
             "endlinecolor": "#2a3f5f",
             "gridcolor": "#C8D4E3",
             "linecolor": "#C8D4E3",
             "minorgridcolor": "#C8D4E3",
             "startlinecolor": "#2a3f5f"
            },
            "baxis": {
             "endlinecolor": "#2a3f5f",
             "gridcolor": "#C8D4E3",
             "linecolor": "#C8D4E3",
             "minorgridcolor": "#C8D4E3",
             "startlinecolor": "#2a3f5f"
            },
            "type": "carpet"
           }
          ],
          "choropleth": [
           {
            "colorbar": {
             "outlinewidth": 0,
             "ticks": ""
            },
            "type": "choropleth"
           }
          ],
          "contour": [
           {
            "colorbar": {
             "outlinewidth": 0,
             "ticks": ""
            },
            "colorscale": [
             [
              0,
              "#0d0887"
             ],
             [
              0.1111111111111111,
              "#46039f"
             ],
             [
              0.2222222222222222,
              "#7201a8"
             ],
             [
              0.3333333333333333,
              "#9c179e"
             ],
             [
              0.4444444444444444,
              "#bd3786"
             ],
             [
              0.5555555555555556,
              "#d8576b"
             ],
             [
              0.6666666666666666,
              "#ed7953"
             ],
             [
              0.7777777777777778,
              "#fb9f3a"
             ],
             [
              0.8888888888888888,
              "#fdca26"
             ],
             [
              1,
              "#f0f921"
             ]
            ],
            "type": "contour"
           }
          ],
          "contourcarpet": [
           {
            "colorbar": {
             "outlinewidth": 0,
             "ticks": ""
            },
            "type": "contourcarpet"
           }
          ],
          "heatmap": [
           {
            "colorbar": {
             "outlinewidth": 0,
             "ticks": ""
            },
            "colorscale": [
             [
              0,
              "#0d0887"
             ],
             [
              0.1111111111111111,
              "#46039f"
             ],
             [
              0.2222222222222222,
              "#7201a8"
             ],
             [
              0.3333333333333333,
              "#9c179e"
             ],
             [
              0.4444444444444444,
              "#bd3786"
             ],
             [
              0.5555555555555556,
              "#d8576b"
             ],
             [
              0.6666666666666666,
              "#ed7953"
             ],
             [
              0.7777777777777778,
              "#fb9f3a"
             ],
             [
              0.8888888888888888,
              "#fdca26"
             ],
             [
              1,
              "#f0f921"
             ]
            ],
            "type": "heatmap"
           }
          ],
          "histogram": [
           {
            "marker": {
             "pattern": {
              "fillmode": "overlay",
              "size": 10,
              "solidity": 0.2
             }
            },
            "type": "histogram"
           }
          ],
          "histogram2d": [
           {
            "colorbar": {
             "outlinewidth": 0,
             "ticks": ""
            },
            "colorscale": [
             [
              0,
              "#0d0887"
             ],
             [
              0.1111111111111111,
              "#46039f"
             ],
             [
              0.2222222222222222,
              "#7201a8"
             ],
             [
              0.3333333333333333,
              "#9c179e"
             ],
             [
              0.4444444444444444,
              "#bd3786"
             ],
             [
              0.5555555555555556,
              "#d8576b"
             ],
             [
              0.6666666666666666,
              "#ed7953"
             ],
             [
              0.7777777777777778,
              "#fb9f3a"
             ],
             [
              0.8888888888888888,
              "#fdca26"
             ],
             [
              1,
              "#f0f921"
             ]
            ],
            "type": "histogram2d"
           }
          ],
          "histogram2dcontour": [
           {
            "colorbar": {
             "outlinewidth": 0,
             "ticks": ""
            },
            "colorscale": [
             [
              0,
              "#0d0887"
             ],
             [
              0.1111111111111111,
              "#46039f"
             ],
             [
              0.2222222222222222,
              "#7201a8"
             ],
             [
              0.3333333333333333,
              "#9c179e"
             ],
             [
              0.4444444444444444,
              "#bd3786"
             ],
             [
              0.5555555555555556,
              "#d8576b"
             ],
             [
              0.6666666666666666,
              "#ed7953"
             ],
             [
              0.7777777777777778,
              "#fb9f3a"
             ],
             [
              0.8888888888888888,
              "#fdca26"
             ],
             [
              1,
              "#f0f921"
             ]
            ],
            "type": "histogram2dcontour"
           }
          ],
          "mesh3d": [
           {
            "colorbar": {
             "outlinewidth": 0,
             "ticks": ""
            },
            "type": "mesh3d"
           }
          ],
          "parcoords": [
           {
            "line": {
             "colorbar": {
              "outlinewidth": 0,
              "ticks": ""
             }
            },
            "type": "parcoords"
           }
          ],
          "pie": [
           {
            "automargin": true,
            "type": "pie"
           }
          ],
          "scatter": [
           {
            "fillpattern": {
             "fillmode": "overlay",
             "size": 10,
             "solidity": 0.2
            },
            "type": "scatter"
           }
          ],
          "scatter3d": [
           {
            "line": {
             "colorbar": {
              "outlinewidth": 0,
              "ticks": ""
             }
            },
            "marker": {
             "colorbar": {
              "outlinewidth": 0,
              "ticks": ""
             }
            },
            "type": "scatter3d"
           }
          ],
          "scattercarpet": [
           {
            "marker": {
             "colorbar": {
              "outlinewidth": 0,
              "ticks": ""
             }
            },
            "type": "scattercarpet"
           }
          ],
          "scattergeo": [
           {
            "marker": {
             "colorbar": {
              "outlinewidth": 0,
              "ticks": ""
             }
            },
            "type": "scattergeo"
           }
          ],
          "scattergl": [
           {
            "marker": {
             "colorbar": {
              "outlinewidth": 0,
              "ticks": ""
             }
            },
            "type": "scattergl"
           }
          ],
          "scattermap": [
           {
            "marker": {
             "colorbar": {
              "outlinewidth": 0,
              "ticks": ""
             }
            },
            "type": "scattermap"
           }
          ],
          "scattermapbox": [
           {
            "marker": {
             "colorbar": {
              "outlinewidth": 0,
              "ticks": ""
             }
            },
            "type": "scattermapbox"
           }
          ],
          "scatterpolar": [
           {
            "marker": {
             "colorbar": {
              "outlinewidth": 0,
              "ticks": ""
             }
            },
            "type": "scatterpolar"
           }
          ],
          "scatterpolargl": [
           {
            "marker": {
             "colorbar": {
              "outlinewidth": 0,
              "ticks": ""
             }
            },
            "type": "scatterpolargl"
           }
          ],
          "scatterternary": [
           {
            "marker": {
             "colorbar": {
              "outlinewidth": 0,
              "ticks": ""
             }
            },
            "type": "scatterternary"
           }
          ],
          "surface": [
           {
            "colorbar": {
             "outlinewidth": 0,
             "ticks": ""
            },
            "colorscale": [
             [
              0,
              "#0d0887"
             ],
             [
              0.1111111111111111,
              "#46039f"
             ],
             [
              0.2222222222222222,
              "#7201a8"
             ],
             [
              0.3333333333333333,
              "#9c179e"
             ],
             [
              0.4444444444444444,
              "#bd3786"
             ],
             [
              0.5555555555555556,
              "#d8576b"
             ],
             [
              0.6666666666666666,
              "#ed7953"
             ],
             [
              0.7777777777777778,
              "#fb9f3a"
             ],
             [
              0.8888888888888888,
              "#fdca26"
             ],
             [
              1,
              "#f0f921"
             ]
            ],
            "type": "surface"
           }
          ],
          "table": [
           {
            "cells": {
             "fill": {
              "color": "#EBF0F8"
             },
             "line": {
              "color": "white"
             }
            },
            "header": {
             "fill": {
              "color": "#C8D4E3"
             },
             "line": {
              "color": "white"
             }
            },
            "type": "table"
           }
          ]
         },
         "layout": {
          "annotationdefaults": {
           "arrowcolor": "#2a3f5f",
           "arrowhead": 0,
           "arrowwidth": 1
          },
          "autotypenumbers": "strict",
          "coloraxis": {
           "colorbar": {
            "outlinewidth": 0,
            "ticks": ""
           }
          },
          "colorscale": {
           "diverging": [
            [
             0,
             "#8e0152"
            ],
            [
             0.1,
             "#c51b7d"
            ],
            [
             0.2,
             "#de77ae"
            ],
            [
             0.3,
             "#f1b6da"
            ],
            [
             0.4,
             "#fde0ef"
            ],
            [
             0.5,
             "#f7f7f7"
            ],
            [
             0.6,
             "#e6f5d0"
            ],
            [
             0.7,
             "#b8e186"
            ],
            [
             0.8,
             "#7fbc41"
            ],
            [
             0.9,
             "#4d9221"
            ],
            [
             1,
             "#276419"
            ]
           ],
           "sequential": [
            [
             0,
             "#0d0887"
            ],
            [
             0.1111111111111111,
             "#46039f"
            ],
            [
             0.2222222222222222,
             "#7201a8"
            ],
            [
             0.3333333333333333,
             "#9c179e"
            ],
            [
             0.4444444444444444,
             "#bd3786"
            ],
            [
             0.5555555555555556,
             "#d8576b"
            ],
            [
             0.6666666666666666,
             "#ed7953"
            ],
            [
             0.7777777777777778,
             "#fb9f3a"
            ],
            [
             0.8888888888888888,
             "#fdca26"
            ],
            [
             1,
             "#f0f921"
            ]
           ],
           "sequentialminus": [
            [
             0,
             "#0d0887"
            ],
            [
             0.1111111111111111,
             "#46039f"
            ],
            [
             0.2222222222222222,
             "#7201a8"
            ],
            [
             0.3333333333333333,
             "#9c179e"
            ],
            [
             0.4444444444444444,
             "#bd3786"
            ],
            [
             0.5555555555555556,
             "#d8576b"
            ],
            [
             0.6666666666666666,
             "#ed7953"
            ],
            [
             0.7777777777777778,
             "#fb9f3a"
            ],
            [
             0.8888888888888888,
             "#fdca26"
            ],
            [
             1,
             "#f0f921"
            ]
           ]
          },
          "colorway": [
           "#636efa",
           "#EF553B",
           "#00cc96",
           "#ab63fa",
           "#FFA15A",
           "#19d3f3",
           "#FF6692",
           "#B6E880",
           "#FF97FF",
           "#FECB52"
          ],
          "font": {
           "color": "#2a3f5f"
          },
          "geo": {
           "bgcolor": "white",
           "lakecolor": "white",
           "landcolor": "white",
           "showlakes": true,
           "showland": true,
           "subunitcolor": "#C8D4E3"
          },
          "hoverlabel": {
           "align": "left"
          },
          "hovermode": "closest",
          "mapbox": {
           "style": "light"
          },
          "paper_bgcolor": "white",
          "plot_bgcolor": "white",
          "polar": {
           "angularaxis": {
            "gridcolor": "#EBF0F8",
            "linecolor": "#EBF0F8",
            "ticks": ""
           },
           "bgcolor": "white",
           "radialaxis": {
            "gridcolor": "#EBF0F8",
            "linecolor": "#EBF0F8",
            "ticks": ""
           }
          },
          "scene": {
           "xaxis": {
            "backgroundcolor": "white",
            "gridcolor": "#DFE8F3",
            "gridwidth": 2,
            "linecolor": "#EBF0F8",
            "showbackground": true,
            "ticks": "",
            "zerolinecolor": "#EBF0F8"
           },
           "yaxis": {
            "backgroundcolor": "white",
            "gridcolor": "#DFE8F3",
            "gridwidth": 2,
            "linecolor": "#EBF0F8",
            "showbackground": true,
            "ticks": "",
            "zerolinecolor": "#EBF0F8"
           },
           "zaxis": {
            "backgroundcolor": "white",
            "gridcolor": "#DFE8F3",
            "gridwidth": 2,
            "linecolor": "#EBF0F8",
            "showbackground": true,
            "ticks": "",
            "zerolinecolor": "#EBF0F8"
           }
          },
          "shapedefaults": {
           "line": {
            "color": "#2a3f5f"
           }
          },
          "ternary": {
           "aaxis": {
            "gridcolor": "#DFE8F3",
            "linecolor": "#A2B1C6",
            "ticks": ""
           },
           "baxis": {
            "gridcolor": "#DFE8F3",
            "linecolor": "#A2B1C6",
            "ticks": ""
           },
           "bgcolor": "white",
           "caxis": {
            "gridcolor": "#DFE8F3",
            "linecolor": "#A2B1C6",
            "ticks": ""
           }
          },
          "title": {
           "x": 0.05
          },
          "xaxis": {
           "automargin": true,
           "gridcolor": "#EBF0F8",
           "linecolor": "#EBF0F8",
           "ticks": "",
           "title": {
            "standoff": 15
           },
           "zerolinecolor": "#EBF0F8",
           "zerolinewidth": 2
          },
          "yaxis": {
           "automargin": true,
           "gridcolor": "#EBF0F8",
           "linecolor": "#EBF0F8",
           "ticks": "",
           "title": {
            "standoff": 15
           },
           "zerolinecolor": "#EBF0F8",
           "zerolinewidth": 2
          }
         }
        },
        "title": {
         "text": "Empirical CTR per Action by Position (discrete, grouped)"
        },
        "xaxis": {
         "tickmode": "array",
         "ticktext": [
          "0",
          "1",
          "2",
          "3",
          "4",
          "5",
          "6",
          "7",
          "8",
          "9",
          "10",
          "11",
          "12",
          "13",
          "14",
          "15",
          "16",
          "17",
          "18",
          "19",
          "20",
          "21",
          "22",
          "23",
          "24",
          "25",
          "26",
          "27",
          "28",
          "29",
          "30",
          "31",
          "32",
          "33",
          "34",
          "35",
          "36",
          "37",
          "38",
          "39",
          "40",
          "41",
          "42",
          "43",
          "44",
          "45",
          "46",
          "47",
          "48",
          "49",
          "50",
          "51",
          "52",
          "53",
          "54",
          "55",
          "56",
          "57",
          "58",
          "59",
          "60",
          "61",
          "62",
          "63",
          "64",
          "65",
          "66",
          "67",
          "68",
          "69",
          "70",
          "71",
          "72",
          "73",
          "74",
          "75",
          "76",
          "77",
          "78",
          "79"
         ],
         "tickvals": {
          "bdata": "AAECAwQFBgcICQoLDA0ODxAREhMUFRYXGBkaGxwdHh8gISIjJCUmJygpKissLS4vMDEyMzQ1Njc4OTo7PD0+P0BBQkNERUZHSElKS0xNTk8=",
          "dtype": "i1"
         },
         "title": {
          "text": "Action ID"
         }
        },
        "yaxis": {
         "title": {
          "text": "Empirical CTR"
         }
        }
       }
      }
     },
     "metadata": {},
     "output_type": "display_data"
    }
   ],
   "source": [
    "fig = plot_ctr_grouped_by_action_position_discrete(df)\n",
    "fig.show()"
   ]
  },
  {
   "cell_type": "markdown",
   "id": "da347609",
   "metadata": {},
   "source": [
    "### Every action being equally likely of being chosen"
   ]
  },
  {
   "cell_type": "code",
   "execution_count": 30,
   "id": "48e1eed5",
   "metadata": {},
   "outputs": [
    {
     "data": {
      "image/png": "[encoded data removed]",
      "text/plain": [
       "<Figure size 1200x900 with 3 Axes>"
      ]
     },
     "metadata": {},
     "output_type": "display_data"
    }
   ],
   "source": [
    "def plot_position_pmfs(pmfs, title=\"Probability mass functions per position\", show=False):\n",
    "\n",
    "    positions = list(pmfs.keys())\n",
    "    n_actions = len(next(iter(pmfs.values())))\n",
    "    fig, axes = plt.subplots(len(positions), 1, figsize=(12, 3*len(positions)), sharex=True)\n",
    "    if len(positions) == 1:\n",
    "        axes = [axes]\n",
    "\n",
    "    for pos, ax in zip(positions, axes):\n",
    "        ax.bar(np.arange(n_actions), pmfs[pos])\n",
    "        ax.set_ylabel(f\"P(action) @ pos {pos}\")\n",
    "        ax.set_ylim(0, pmfs[pos].max() * 1.2)\n",
    "\n",
    "    axes[-1].set_xlabel(f\"Action ID (0\u2013{n_actions-1})\")\n",
    "    fig.suptitle(title)\n",
    "    plt.tight_layout()\n",
    "    if show:\n",
    "        plt.show()\n",
    "    return fig\n",
    "\n",
    "\n",
    "n_actions = bf[\"n_actions\"]   # 80\n",
    "positions = [0, 1, 2]\n",
    "\n",
    "# Uniform PMFs for each position\n",
    "pmfs = {pos: np.ones(n_actions) / n_actions for pos in positions}\n",
    "\n",
    "fig = plot_position_pmfs(pmfs, title=\"Initial uniform probability mass functions (per position)\")"
   ]
  },
  {
   "cell_type": "markdown",
   "id": "bbc7334c",
   "metadata": {},
   "source": [
    "# Vanilla TS (ignores position)"
   ]
  },
  {
   "cell_type": "markdown",
   "id": "0980f3d1",
   "metadata": {},
   "source": [
    "### Position-Agnostic Vanilla TS with one hop"
   ]
  },
  {
   "cell_type": "code",
   "execution_count": 42,
   "id": "d88ca171",
   "metadata": {},
   "outputs": [
    {
     "name": "stdout",
     "output_type": "stream",
     "text": [
      "PMF round 0 (first 10 probs): [0.0125 0.0125 0.0125 0.0125 0.0125 0.0125 0.0125 0.0125 0.0125 0.0125]\n",
      "Round 1 sample:\n",
      "    action  position  reward  pscore\n",
      "0      17         1       0  0.0125\n"
     ]
    },
    {
     "data": {
      "text/html": [
       "<div>\n",
       "<style scoped>\n",
       "    .dataframe tbody tr th:only-of-type {\n",
       "        vertical-align: middle;\n",
       "    }\n",
       "\n",
       "    .dataframe tbody tr th {\n",
       "        vertical-align: top;\n",
       "    }\n",
       "\n",
       "    .dataframe thead th {\n",
       "        text-align: right;\n",
       "    }\n",
       "</style>\n",
       "<table border=\"1\" class=\"dataframe\">\n",
       "  <thead>\n",
       "    <tr style=\"text-align: right;\">\n",
       "      <th></th>\n",
       "      <th>action</th>\n",
       "      <th>position</th>\n",
       "      <th>reward</th>\n",
       "      <th>pscore</th>\n",
       "    </tr>\n",
       "  </thead>\n",
       "  <tbody>\n",
       "    <tr>\n",
       "      <th>0</th>\n",
       "      <td>17</td>\n",
       "      <td>1</td>\n",
       "      <td>0</td>\n",
       "      <td>0.0125</td>\n",
       "    </tr>\n",
       "  </tbody>\n",
       "</table>\n",
       "</div>"
      ],
      "text/plain": [
       "   action  position  reward  pscore\n",
       "0      17         1       0  0.0125"
      ]
     },
     "metadata": {},
     "output_type": "display_data"
    },
    {
     "data": {
      "application/vnd.plotly.v1+json": {
       "config": {
        "plotlyServerURL": "https://plot.ly"
       },
       "data": [
        {
         "marker": {
          "color": "steelblue"
         },
         "name": "Round 0",
         "opacity": 0.6,
         "showlegend": true,
         "type": "bar",
         "x": {
          "bdata": "AAECAwQFBgcICQoLDA0ODxAREhMUFRYXGBkaGxwdHh8gISIjJCUmJygpKissLS4vMDEyMzQ1Njc4OTo7PD0+P0BBQkNERUZHSElKS0xNTk8=",
          "dtype": "i1"
         },
         "xaxis": "x",
         "y": {
          "bdata": "mpmZmZmZiT+amZmZmZmJP5qZmZmZmYk/mpmZmZmZiT+amZmZmZmJP5qZmZmZmYk/mpmZmZmZiT+amZmZmZmJP5qZmZmZmYk/mpmZmZmZiT+amZmZmZmJP5qZmZmZmYk/mpmZmZmZiT+amZmZmZmJP5qZmZmZmYk/mpmZmZmZiT+amZmZmZmJP5qZmZmZmYk/mpmZmZmZiT+amZmZmZmJP5qZmZmZmYk/mpmZmZmZiT+amZmZmZmJP5qZmZmZmYk/mpmZmZmZiT+amZmZmZmJP5qZmZmZmYk/mpmZmZmZiT+amZmZmZmJP5qZmZmZmYk/mpmZmZmZiT+amZmZmZmJP5qZmZmZmYk/mpmZmZmZiT+amZmZmZmJP5qZmZmZmYk/mpmZmZmZiT+amZmZmZmJP5qZmZmZmYk/mpmZmZmZiT+amZmZmZmJP5qZmZmZmYk/mpmZmZmZiT+amZmZmZmJP5qZmZmZmYk/mpmZmZmZiT+amZmZmZmJP5qZmZmZmYk/mpmZmZmZiT+amZmZmZmJP5qZmZmZmYk/mpmZmZmZiT+amZmZmZmJP5qZmZmZmYk/mpmZmZmZiT+amZmZmZmJP5qZmZmZmYk/mpmZmZmZiT+amZmZmZmJP5qZmZmZmYk/mpmZmZmZiT+amZmZmZmJP5qZmZmZmYk/mpmZmZmZiT+amZmZmZmJP5qZmZmZmYk/mpmZmZmZiT+amZmZmZmJP5qZmZmZmYk/mpmZmZmZiT+amZmZmZmJP5qZmZmZmYk/mpmZmZmZiT+amZmZmZmJP5qZmZmZmYk/mpmZmZmZiT+amZmZmZmJP5qZmZmZmYk/mpmZmZmZiT+amZmZmZmJPw==",
          "dtype": "f8"
         },
         "yaxis": "y"
        },
        {
         "marker": {
          "color": "darkorange"
         },
         "name": "Round 1",
         "opacity": 0.85,
         "showlegend": true,
         "type": "bar",
         "x": {
          "bdata": "AAECAwQFBgcICQoLDA0ODxAREhMUFRYXGBkaGxwdHh8gISIjJCUmJygpKissLS4vMDEyMzQ1Njc4OTo7PD0+P0BBQkNERUZHSElKS0xNTk8=",
          "dtype": "i1"
         },
         "xaxis": "x",
         "y": {
          "bdata": "U0lcNoLqiT9TSVw2guqJP1NJXDaC6ok/U0lcNoLqiT9TSVw2guqJP1NJXDaC6ok/U0lcNoLqiT9TSVw2guqJP1NJXDaC6ok/U0lcNoLqiT9TSVw2guqJP1NJXDaC6ok/U0lcNoLqiT9TSVw2guqJP1NJXDaC6ok/U0lcNoLqiT9TSVw2guqJP03uqzAnOjQ/U0lcNoLqiT9TSVw2guqJP1NJXDaC6ok/U0lcNoLqiT9TSVw2guqJP1NJXDaC6ok/U0lcNoLqiT9TSVw2guqJP1NJXDaC6ok/U0lcNoLqiT9TSVw2guqJP1NJXDaC6ok/U0lcNoLqiT9TSVw2guqJP1NJXDaC6ok/U0lcNoLqiT9TSVw2guqJP1NJXDaC6ok/U0lcNoLqiT9TSVw2guqJP1NJXDaC6ok/U0lcNoLqiT9TSVw2guqJP1NJXDaC6ok/U0lcNoLqiT9TSVw2guqJP1NJXDaC6ok/U0lcNoLqiT9TSVw2guqJP1NJXDaC6ok/U0lcNoLqiT9TSVw2guqJP1NJXDaC6ok/U0lcNoLqiT9TSVw2guqJP1NJXDaC6ok/U0lcNoLqiT9TSVw2guqJP1NJXDaC6ok/U0lcNoLqiT9TSVw2guqJP1NJXDaC6ok/U0lcNoLqiT9TSVw2guqJP1NJXDaC6ok/U0lcNoLqiT9TSVw2guqJP1NJXDaC6ok/U0lcNoLqiT9TSVw2guqJP1NJXDaC6ok/U0lcNoLqiT9TSVw2guqJP1NJXDaC6ok/U0lcNoLqiT9TSVw2guqJP1NJXDaC6ok/U0lcNoLqiT9TSVw2guqJP1NJXDaC6ok/U0lcNoLqiT9TSVw2guqJPw==",
          "dtype": "f8"
         },
         "yaxis": "y"
        },
        {
         "hovertemplate": "Round 1<br>Bandit: all<br>Action: %{x}<br>P: %{y:.6f}<br>Reward: 0<extra></extra>",
         "marker": {
          "color": "forestgreen",
          "size": 11,
          "symbol": "diamond"
         },
         "mode": "markers",
         "name": "Picked (r=1)",
         "showlegend": true,
         "type": "scatter",
         "x": [
          17
         ],
         "xaxis": "x",
         "y": [
          0.00030864197530864197
         ],
         "yaxis": "y"
        }
       ],
       "layout": {
        "annotations": [
         {
          "font": {
           "size": 16
          },
          "showarrow": false,
          "text": "Vanilla TS",
          "x": 0.5,
          "xanchor": "center",
          "xref": "paper",
          "y": 1,
          "yanchor": "bottom",
          "yref": "paper"
         }
        ],
        "bargap": 0.15,
        "barmode": "group",
        "height": 450,
        "template": {
         "data": {
          "bar": [
           {
            "error_x": {
             "color": "#2a3f5f"
            },
            "error_y": {
             "color": "#2a3f5f"
            },
            "marker": {
             "line": {
              "color": "white",
              "width": 0.5
             },
             "pattern": {
              "fillmode": "overlay",
              "size": 10,
              "solidity": 0.2
             }
            },
            "type": "bar"
           }
          ],
          "barpolar": [
           {
            "marker": {
             "line": {
              "color": "white",
              "width": 0.5
             },
             "pattern": {
              "fillmode": "overlay",
              "size": 10,
              "solidity": 0.2
             }
            },
            "type": "barpolar"
           }
          ],
          "carpet": [
           {
            "aaxis": {
             "endlinecolor": "#2a3f5f",
             "gridcolor": "#C8D4E3",
             "linecolor": "#C8D4E3",
             "minorgridcolor": "#C8D4E3",
             "startlinecolor": "#2a3f5f"
            },
            "baxis": {
             "endlinecolor": "#2a3f5f",
             "gridcolor": "#C8D4E3",
             "linecolor": "#C8D4E3",
             "minorgridcolor": "#C8D4E3",
             "startlinecolor": "#2a3f5f"
            },
            "type": "carpet"
           }
          ],
          "choropleth": [
           {
            "colorbar": {
             "outlinewidth": 0,
             "ticks": ""
            },
            "type": "choropleth"
           }
          ],
          "contour": [
           {
            "colorbar": {
             "outlinewidth": 0,
             "ticks": ""
            },
            "colorscale": [
             [
              0,
              "#0d0887"
             ],
             [
              0.1111111111111111,
              "#46039f"
             ],
             [
              0.2222222222222222,
              "#7201a8"
             ],
             [
              0.3333333333333333,
              "#9c179e"
             ],
             [
              0.4444444444444444,
              "#bd3786"
             ],
             [
              0.5555555555555556,
              "#d8576b"
             ],
             [
              0.6666666666666666,
              "#ed7953"
             ],
             [
              0.7777777777777778,
              "#fb9f3a"
             ],
             [
              0.8888888888888888,
              "#fdca26"
             ],
             [
              1,
              "#f0f921"
             ]
            ],
            "type": "contour"
           }
          ],
          "contourcarpet": [
           {
            "colorbar": {
             "outlinewidth": 0,
             "ticks": ""
            },
            "type": "contourcarpet"
           }
          ],
          "heatmap": [
           {
            "colorbar": {
             "outlinewidth": 0,
             "ticks": ""
            },
            "colorscale": [
             [
              0,
              "#0d0887"
             ],
             [
              0.1111111111111111,
              "#46039f"
             ],
             [
              0.2222222222222222,
              "#7201a8"
             ],
             [
              0.3333333333333333,
              "#9c179e"
             ],
             [
              0.4444444444444444,
              "#bd3786"
             ],
             [
              0.5555555555555556,
              "#d8576b"
             ],
             [
              0.6666666666666666,
              "#ed7953"
             ],
             [
              0.7777777777777778,
              "#fb9f3a"
             ],
             [
              0.8888888888888888,
              "#fdca26"
             ],
             [
              1,
              "#f0f921"
             ]
            ],
            "type": "heatmap"
           }
          ],
          "histogram": [
           {
            "marker": {
             "pattern": {
              "fillmode": "overlay",
              "size": 10,
              "solidity": 0.2
             }
            },
            "type": "histogram"
           }
          ],
          "histogram2d": [
           {
            "colorbar": {
             "outlinewidth": 0,
             "ticks": ""
            },
            "colorscale": [
             [
              0,
              "#0d0887"
             ],
             [
              0.1111111111111111,
              "#46039f"
             ],
             [
              0.2222222222222222,
              "#7201a8"
             ],
             [
              0.3333333333333333,
              "#9c179e"
             ],
             [
              0.4444444444444444,
              "#bd3786"
             ],
             [
              0.5555555555555556,
              "#d8576b"
             ],
             [
              0.6666666666666666,
              "#ed7953"
             ],
             [
              0.7777777777777778,
              "#fb9f3a"
             ],
             [
              0.8888888888888888,
              "#fdca26"
             ],
             [
              1,
              "#f0f921"
             ]
            ],
            "type": "histogram2d"
           }
          ],
          "histogram2dcontour": [
           {
            "colorbar": {
             "outlinewidth": 0,
             "ticks": ""
            },
            "colorscale": [
             [
              0,
              "#0d0887"
             ],
             [
              0.1111111111111111,
              "#46039f"
             ],
             [
              0.2222222222222222,
              "#7201a8"
             ],
             [
              0.3333333333333333,
              "#9c179e"
             ],
             [
              0.4444444444444444,
              "#bd3786"
             ],
             [
              0.5555555555555556,
              "#d8576b"
             ],
             [
              0.6666666666666666,
              "#ed7953"
             ],
             [
              0.7777777777777778,
              "#fb9f3a"
             ],
             [
              0.8888888888888888,
              "#fdca26"
             ],
             [
              1,
              "#f0f921"
             ]
            ],
            "type": "histogram2dcontour"
           }
          ],
          "mesh3d": [
           {
            "colorbar": {
             "outlinewidth": 0,
             "ticks": ""
            },
            "type": "mesh3d"
           }
          ],
          "parcoords": [
           {
            "line": {
             "colorbar": {
              "outlinewidth": 0,
              "ticks": ""
             }
            },
            "type": "parcoords"
           }
          ],
          "pie": [
           {
            "automargin": true,
            "type": "pie"
           }
          ],
          "scatter": [
           {
            "fillpattern": {
             "fillmode": "overlay",
             "size": 10,
             "solidity": 0.2
            },
            "type": "scatter"
           }
          ],
          "scatter3d": [
           {
            "line": {
             "colorbar": {
              "outlinewidth": 0,
              "ticks": ""
             }
            },
            "marker": {
             "colorbar": {
              "outlinewidth": 0,
              "ticks": ""
             }
            },
            "type": "scatter3d"
           }
          ],
          "scattercarpet": [
           {
            "marker": {
             "colorbar": {
              "outlinewidth": 0,
              "ticks": ""
             }
            },
            "type": "scattercarpet"
           }
          ],
          "scattergeo": [
           {
            "marker": {
             "colorbar": {
              "outlinewidth": 0,
              "ticks": ""
             }
            },
            "type": "scattergeo"
           }
          ],
          "scattergl": [
           {
            "marker": {
             "colorbar": {
              "outlinewidth": 0,
              "ticks": ""
             }
            },
            "type": "scattergl"
           }
          ],
          "scattermap": [
           {
            "marker": {
             "colorbar": {
              "outlinewidth": 0,
              "ticks": ""
             }
            },
            "type": "scattermap"
           }
          ],
          "scattermapbox": [
           {
            "marker": {
             "colorbar": {
              "outlinewidth": 0,
              "ticks": ""
             }
            },
            "type": "scattermapbox"
           }
          ],
          "scatterpolar": [
           {
            "marker": {
             "colorbar": {
              "outlinewidth": 0,
              "ticks": ""
             }
            },
            "type": "scatterpolar"
           }
          ],
          "scatterpolargl": [
           {
            "marker": {
             "colorbar": {
              "outlinewidth": 0,
              "ticks": ""
             }
            },
            "type": "scatterpolargl"
           }
          ],
          "scatterternary": [
           {
            "marker": {
             "colorbar": {
              "outlinewidth": 0,
              "ticks": ""
             }
            },
            "type": "scatterternary"
           }
          ],
          "surface": [
           {
            "colorbar": {
             "outlinewidth": 0,
             "ticks": ""
            },
            "colorscale": [
             [
              0,
              "#0d0887"
             ],
             [
              0.1111111111111111,
              "#46039f"
             ],
             [
              0.2222222222222222,
              "#7201a8"
             ],
             [
              0.3333333333333333,
              "#9c179e"
             ],
             [
              0.4444444444444444,
              "#bd3786"
             ],
             [
              0.5555555555555556,
              "#d8576b"
             ],
             [
              0.6666666666666666,
              "#ed7953"
             ],
             [
              0.7777777777777778,
              "#fb9f3a"
             ],
             [
              0.8888888888888888,
              "#fdca26"
             ],
             [
              1,
              "#f0f921"
             ]
            ],
            "type": "surface"
           }
          ],
          "table": [
           {
            "cells": {
             "fill": {
              "color": "#EBF0F8"
             },
             "line": {
              "color": "white"
             }
            },
            "header": {
             "fill": {
              "color": "#C8D4E3"
             },
             "line": {
              "color": "white"
             }
            },
            "type": "table"
           }
          ]
         },
         "layout": {
          "annotationdefaults": {
           "arrowcolor": "#2a3f5f",
           "arrowhead": 0,
           "arrowwidth": 1
          },
          "autotypenumbers": "strict",
          "coloraxis": {
           "colorbar": {
            "outlinewidth": 0,
            "ticks": ""
           }
          },
          "colorscale": {
           "diverging": [
            [
             0,
             "#8e0152"
            ],
            [
             0.1,
             "#c51b7d"
            ],
            [
             0.2,
             "#de77ae"
            ],
            [
             0.3,
             "#f1b6da"
            ],
            [
             0.4,
             "#fde0ef"
            ],
            [
             0.5,
             "#f7f7f7"
            ],
            [
             0.6,
             "#e6f5d0"
            ],
            [
             0.7,
             "#b8e186"
            ],
            [
             0.8,
             "#7fbc41"
            ],
            [
             0.9,
             "#4d9221"
            ],
            [
             1,
             "#276419"
            ]
           ],
           "sequential": [
            [
             0,
             "#0d0887"
            ],
            [
             0.1111111111111111,
             "#46039f"
            ],
            [
             0.2222222222222222,
             "#7201a8"
            ],
            [
             0.3333333333333333,
             "#9c179e"
            ],
            [
             0.4444444444444444,
             "#bd3786"
            ],
            [
             0.5555555555555556,
             "#d8576b"
            ],
            [
             0.6666666666666666,
             "#ed7953"
            ],
            [
             0.7777777777777778,
             "#fb9f3a"
            ],
            [
             0.8888888888888888,
             "#fdca26"
            ],
            [
             1,
             "#f0f921"
            ]
           ],
           "sequentialminus": [
            [
             0,
             "#0d0887"
            ],
            [
             0.1111111111111111,
             "#46039f"
            ],
            [
             0.2222222222222222,
             "#7201a8"
            ],
            [
             0.3333333333333333,
             "#9c179e"
            ],
            [
             0.4444444444444444,
             "#bd3786"
            ],
            [
             0.5555555555555556,
             "#d8576b"
            ],
            [
             0.6666666666666666,
             "#ed7953"
            ],
            [
             0.7777777777777778,
             "#fb9f3a"
            ],
            [
             0.8888888888888888,
             "#fdca26"
            ],
            [
             1,
             "#f0f921"
            ]
           ]
          },
          "colorway": [
           "#636efa",
           "#EF553B",
           "#00cc96",
           "#ab63fa",
           "#FFA15A",
           "#19d3f3",
           "#FF6692",
           "#B6E880",
           "#FF97FF",
           "#FECB52"
          ],
          "font": {
           "color": "#2a3f5f"
          },
          "geo": {
           "bgcolor": "white",
           "lakecolor": "white",
           "landcolor": "white",
           "showlakes": true,
           "showland": true,
           "subunitcolor": "#C8D4E3"
          },
          "hoverlabel": {
           "align": "left"
          },
          "hovermode": "closest",
          "mapbox": {
           "style": "light"
          },
          "paper_bgcolor": "white",
          "plot_bgcolor": "white",
          "polar": {
           "angularaxis": {
            "gridcolor": "#EBF0F8",
            "linecolor": "#EBF0F8",
            "ticks": ""
           },
           "bgcolor": "white",
           "radialaxis": {
            "gridcolor": "#EBF0F8",
            "linecolor": "#EBF0F8",
            "ticks": ""
           }
          },
          "scene": {
           "xaxis": {
            "backgroundcolor": "white",
            "gridcolor": "#DFE8F3",
            "gridwidth": 2,
            "linecolor": "#EBF0F8",
            "showbackground": true,
            "ticks": "",
            "zerolinecolor": "#EBF0F8"
           },
           "yaxis": {
            "backgroundcolor": "white",
            "gridcolor": "#DFE8F3",
            "gridwidth": 2,
            "linecolor": "#EBF0F8",
            "showbackground": true,
            "ticks": "",
            "zerolinecolor": "#EBF0F8"
           },
           "zaxis": {
            "backgroundcolor": "white",
            "gridcolor": "#DFE8F3",
            "gridwidth": 2,
            "linecolor": "#EBF0F8",
            "showbackground": true,
            "ticks": "",
            "zerolinecolor": "#EBF0F8"
           }
          },
          "shapedefaults": {
           "line": {
            "color": "#2a3f5f"
           }
          },
          "ternary": {
           "aaxis": {
            "gridcolor": "#DFE8F3",
            "linecolor": "#A2B1C6",
            "ticks": ""
           },
           "baxis": {
            "gridcolor": "#DFE8F3",
            "linecolor": "#A2B1C6",
            "ticks": ""
           },
           "bgcolor": "white",
           "caxis": {
            "gridcolor": "#DFE8F3",
            "linecolor": "#A2B1C6",
            "ticks": ""
           }
          },
          "title": {
           "x": 0.05
          },
          "xaxis": {
           "automargin": true,
           "gridcolor": "#EBF0F8",
           "linecolor": "#EBF0F8",
           "ticks": "",
           "title": {
            "standoff": 15
           },
           "zerolinecolor": "#EBF0F8",
           "zerolinewidth": 2
          },
          "yaxis": {
           "automargin": true,
           "gridcolor": "#EBF0F8",
           "linecolor": "#EBF0F8",
           "ticks": "",
           "title": {
            "standoff": 15
           },
           "zerolinecolor": "#EBF0F8",
           "zerolinewidth": 2
          }
         }
        },
        "title": {
         "text": "Vanilla TS \u2014 Round 0 vs Round 1"
        },
        "xaxis": {
         "anchor": "y",
         "domain": [
          0,
          1
         ],
         "tickmode": "array",
         "ticktext": [
          "0",
          "1",
          "2",
          "3",
          "4",
          "5",
          "6",
          "7",
          "8",
          "9",
          "10",
          "11",
          "12",
          "13",
          "14",
          "15",
          "16",
          "17",
          "18",
          "19",
          "20",
          "21",
          "22",
          "23",
          "24",
          "25",
          "26",
          "27",
          "28",
          "29",
          "30",
          "31",
          "32",
          "33",
          "34",
          "35",
          "36",
          "37",
          "38",
          "39",
          "40",
          "41",
          "42",
          "43",
          "44",
          "45",
          "46",
          "47",
          "48",
          "49",
          "50",
          "51",
          "52",
          "53",
          "54",
          "55",
          "56",
          "57",
          "58",
          "59",
          "60",
          "61",
          "62",
          "63",
          "64",
          "65",
          "66",
          "67",
          "68",
          "69",
          "70",
          "71",
          "72",
          "73",
          "74",
          "75",
          "76",
          "77",
          "78",
          "79"
         ],
         "tickvals": {
          "bdata": "AAECAwQFBgcICQoLDA0ODxAREhMUFRYXGBkaGxwdHh8gISIjJCUmJygpKissLS4vMDEyMzQ1Njc4OTo7PD0+P0BBQkNERUZHSElKS0xNTk8=",
          "dtype": "i1"
         },
         "title": {
          "text": "Action ID (0\u201379)"
         }
        },
        "yaxis": {
         "anchor": "x",
         "domain": [
          0,
          1
         ],
         "range": [
          0,
          0.015817901234567902
         ],
         "title": {
          "text": "P(select)"
         }
        }
       }
      }
     },
     "metadata": {},
     "output_type": "display_data"
    }
   ],
   "source": [
    "# create tracker (vanilla TS, no per-position separation)\n",
    "tracker = ThompsonSlateTracker(\n",
    "    df=df,\n",
    "    n_actions=bf[\"n_actions\"],\n",
    "    positions=[0, 1, 2],      # passed but ignored since factorize_by_position=False\n",
    "    seed=SEED,\n",
    "    factorize_by_position=False\n",
    ")\n",
    "\n",
    "# round 0 is already uniform\n",
    "print(\"PMF round 0 (first 10 probs):\", tracker.get_pmf(0)[\"all\"][:10])\n",
    "\n",
    "# advance one round\n",
    "samp1 = tracker.next_round(random_state=7, use_mc_if_needed=False)\n",
    "print(\"Round 1 sample:\\n\", samp1)\n",
    "display(samp1)\n",
    "\n",
    "# compare round 0 vs round 1\n",
    "tracker.plot_compare(0, 1, title=\"Vanilla TS \u2014 Round 0 vs Round 1\", show_picks=True)"
   ]
  },
  {
   "cell_type": "markdown",
   "id": "a7c1824c",
   "metadata": {},
   "source": [
    "### Position-Aware Vanilla TS with one hop"
   ]
  },
  {
   "cell_type": "code",
   "execution_count": 41,
   "id": "529c0a4e",
   "metadata": {},
   "outputs": [
    {
     "name": "stdout",
     "output_type": "stream",
     "text": [
      "PMF round 0 @ position 0 (first 5 probs): [0.0125 0.0125 0.0125 0.0125 0.0125]\n",
      "PMF round 0 @ position 1 (first 5 probs): [0.0125 0.0125 0.0125 0.0125 0.0125]\n",
      "PMF round 0 @ position 2 (first 5 probs): [0.0125 0.0125 0.0125 0.0125 0.0125]\n",
      "Round 1 samples:\n",
      "    action  position  reward  pscore\n",
      "0      66         0       0  0.0125\n",
      "1      78         1       0  0.0125\n",
      "2       1         2       0  0.0125\n"
     ]
    },
    {
     "data": {
      "text/html": [
       "<div>\n",
       "<style scoped>\n",
       "    .dataframe tbody tr th:only-of-type {\n",
       "        vertical-align: middle;\n",
       "    }\n",
       "\n",
       "    .dataframe tbody tr th {\n",
       "        vertical-align: top;\n",
       "    }\n",
       "\n",
       "    .dataframe thead th {\n",
       "        text-align: right;\n",
       "    }\n",
       "</style>\n",
       "<table border=\"1\" class=\"dataframe\">\n",
       "  <thead>\n",
       "    <tr style=\"text-align: right;\">\n",
       "      <th></th>\n",
       "      <th>action</th>\n",
       "      <th>position</th>\n",
       "      <th>reward</th>\n",
       "      <th>pscore</th>\n",
       "    </tr>\n",
       "  </thead>\n",
       "  <tbody>\n",
       "    <tr>\n",
       "      <th>0</th>\n",
       "      <td>66</td>\n",
       "      <td>0</td>\n",
       "      <td>0</td>\n",
       "      <td>0.0125</td>\n",
       "    </tr>\n",
       "    <tr>\n",
       "      <th>1</th>\n",
       "      <td>78</td>\n",
       "      <td>1</td>\n",
       "      <td>0</td>\n",
       "      <td>0.0125</td>\n",
       "    </tr>\n",
       "    <tr>\n",
       "      <th>2</th>\n",
       "      <td>1</td>\n",
       "      <td>2</td>\n",
       "      <td>0</td>\n",
       "      <td>0.0125</td>\n",
       "    </tr>\n",
       "  </tbody>\n",
       "</table>\n",
       "</div>"
      ],
      "text/plain": [
       "   action  position  reward  pscore\n",
       "0      66         0       0  0.0125\n",
       "1      78         1       0  0.0125\n",
       "2       1         2       0  0.0125"
      ]
     },
     "metadata": {},
     "output_type": "display_data"
    },
    {
     "data": {
      "application/vnd.plotly.v1+json": {
       "config": {
        "plotlyServerURL": "https://plot.ly"
       },
       "data": [
        {
         "marker": {
          "color": "steelblue"
         },
         "name": "Round 0",
         "opacity": 0.6,
         "showlegend": true,
         "type": "bar",
         "x": {
          "bdata": "AAECAwQFBgcICQoLDA0ODxAREhMUFRYXGBkaGxwdHh8gISIjJCUmJygpKissLS4vMDEyMzQ1Njc4OTo7PD0+P0BBQkNERUZHSElKS0xNTk8=",
          "dtype": "i1"
         },
         "xaxis": "x",
         "y": {
          "bdata": "mpmZmZmZiT+amZmZmZmJP5qZmZmZmYk/mpmZmZmZiT+amZmZmZmJP5qZmZmZmYk/mpmZmZmZiT+amZmZmZmJP5qZmZmZmYk/mpmZmZmZiT+amZmZmZmJP5qZmZmZmYk/mpmZmZmZiT+amZmZmZmJP5qZmZmZmYk/mpmZmZmZiT+amZmZmZmJP5qZmZmZmYk/mpmZmZmZiT+amZmZmZmJP5qZmZmZmYk/mpmZmZmZiT+amZmZmZmJP5qZmZmZmYk/mpmZmZmZiT+amZmZmZmJP5qZmZmZmYk/mpmZmZmZiT+amZmZmZmJP5qZmZmZmYk/mpmZmZmZiT+amZmZmZmJP5qZmZmZmYk/mpmZmZmZiT+amZmZmZmJP5qZmZmZmYk/mpmZmZmZiT+amZmZmZmJP5qZmZmZmYk/mpmZmZmZiT+amZmZmZmJP5qZmZmZmYk/mpmZmZmZiT+amZmZmZmJP5qZmZmZmYk/mpmZmZmZiT+amZmZmZmJP5qZmZmZmYk/mpmZmZmZiT+amZmZmZmJP5qZmZmZmYk/mpmZmZmZiT+amZmZmZmJP5qZmZmZmYk/mpmZmZmZiT+amZmZmZmJP5qZmZmZmYk/mpmZmZmZiT+amZmZmZmJP5qZmZmZmYk/mpmZmZmZiT+amZmZmZmJP5qZmZmZmYk/mpmZmZmZiT+amZmZmZmJP5qZmZmZmYk/mpmZmZmZiT+amZmZmZmJP5qZmZmZmYk/mpmZmZmZiT+amZmZmZmJP5qZmZmZmYk/mpmZmZmZiT+amZmZmZmJP5qZmZmZmYk/mpmZmZmZiT+amZmZmZmJP5qZmZmZmYk/mpmZmZmZiT+amZmZmZmJPw==",
          "dtype": "f8"
         },
         "yaxis": "y"
        },
        {
         "marker": {
          "color": "darkorange"
         },
         "name": "Round 1",
         "opacity": 0.85,
         "showlegend": true,
         "type": "bar",
         "x": {
          "bdata": "AAECAwQFBgcICQoLDA0ODxAREhMUFRYXGBkaGxwdHh8gISIjJCUmJygpKissLS4vMDEyMzQ1Njc4OTo7PD0+P0BBQkNERUZHSElKS0xNTk8=",
          "dtype": "i1"
         },
         "xaxis": "x",
         "y": {
          "bdata": "U0lcNoLqiT9TSVw2guqJP1NJXDaC6ok/U0lcNoLqiT9TSVw2guqJP1NJXDaC6ok/U0lcNoLqiT9TSVw2guqJP1NJXDaC6ok/U0lcNoLqiT9TSVw2guqJP1NJXDaC6ok/U0lcNoLqiT9TSVw2guqJP1NJXDaC6ok/U0lcNoLqiT9TSVw2guqJP1NJXDaC6ok/U0lcNoLqiT9TSVw2guqJP1NJXDaC6ok/U0lcNoLqiT9TSVw2guqJP1NJXDaC6ok/U0lcNoLqiT9TSVw2guqJP1NJXDaC6ok/U0lcNoLqiT9TSVw2guqJP1NJXDaC6ok/U0lcNoLqiT9TSVw2guqJP1NJXDaC6ok/U0lcNoLqiT9TSVw2guqJP1NJXDaC6ok/U0lcNoLqiT9TSVw2guqJP1NJXDaC6ok/U0lcNoLqiT9TSVw2guqJP1NJXDaC6ok/U0lcNoLqiT9TSVw2guqJP1NJXDaC6ok/U0lcNoLqiT9TSVw2guqJP1NJXDaC6ok/U0lcNoLqiT9TSVw2guqJP1NJXDaC6ok/U0lcNoLqiT9TSVw2guqJP1NJXDaC6ok/U0lcNoLqiT9TSVw2guqJP1NJXDaC6ok/U0lcNoLqiT9TSVw2guqJP1NJXDaC6ok/U0lcNoLqiT9TSVw2guqJP1NJXDaC6ok/U0lcNoLqiT9TSVw2guqJP1NJXDaC6ok/Te6rMCc6ND9TSVw2guqJP1NJXDaC6ok/U0lcNoLqiT9TSVw2guqJP1NJXDaC6ok/U0lcNoLqiT9TSVw2guqJP1NJXDaC6ok/U0lcNoLqiT9TSVw2guqJP1NJXDaC6ok/U0lcNoLqiT9TSVw2guqJPw==",
          "dtype": "f8"
         },
         "yaxis": "y"
        },
        {
         "hovertemplate": "Round 1<br>Position: 0<br>Action: %{x}<br>P: %{y:.6f}<br>Reward: 0<extra></extra>",
         "marker": {
          "color": "forestgreen",
          "size": 11,
          "symbol": "diamond"
         },
         "mode": "markers",
         "name": "Picked (r=1)",
         "showlegend": true,
         "type": "scatter",
         "x": [
          66
         ],
         "xaxis": "x",
         "y": [
          0.00030864197530864197
         ],
         "yaxis": "y"
        },
        {
         "marker": {
          "color": "steelblue"
         },
         "name": "Round 0",
         "opacity": 0.6,
         "showlegend": false,
         "type": "bar",
         "x": {
          "bdata": "AAECAwQFBgcICQoLDA0ODxAREhMUFRYXGBkaGxwdHh8gISIjJCUmJygpKissLS4vMDEyMzQ1Njc4OTo7PD0+P0BBQkNERUZHSElKS0xNTk8=",
          "dtype": "i1"
         },
         "xaxis": "x2",
         "y": {
          "bdata": "mpmZmZmZiT+amZmZmZmJP5qZmZmZmYk/mpmZmZmZiT+amZmZmZmJP5qZmZmZmYk/mpmZmZmZiT+amZmZmZmJP5qZmZmZmYk/mpmZmZmZiT+amZmZmZmJP5qZmZmZmYk/mpmZmZmZiT+amZmZmZmJP5qZmZmZmYk/mpmZmZmZiT+amZmZmZmJP5qZmZmZmYk/mpmZmZmZiT+amZmZmZmJP5qZmZmZmYk/mpmZmZmZiT+amZmZmZmJP5qZmZmZmYk/mpmZmZmZiT+amZmZmZmJP5qZmZmZmYk/mpmZmZmZiT+amZmZmZmJP5qZmZmZmYk/mpmZmZmZiT+amZmZmZmJP5qZmZmZmYk/mpmZmZmZiT+amZmZmZmJP5qZmZmZmYk/mpmZmZmZiT+amZmZmZmJP5qZmZmZmYk/mpmZmZmZiT+amZmZmZmJP5qZmZmZmYk/mpmZmZmZiT+amZmZmZmJP5qZmZmZmYk/mpmZmZmZiT+amZmZmZmJP5qZmZmZmYk/mpmZmZmZiT+amZmZmZmJP5qZmZmZmYk/mpmZmZmZiT+amZmZmZmJP5qZmZmZmYk/mpmZmZmZiT+amZmZmZmJP5qZmZmZmYk/mpmZmZmZiT+amZmZmZmJP5qZmZmZmYk/mpmZmZmZiT+amZmZmZmJP5qZmZmZmYk/mpmZmZmZiT+amZmZmZmJP5qZmZmZmYk/mpmZmZmZiT+amZmZmZmJP5qZmZmZmYk/mpmZmZmZiT+amZmZmZmJP5qZmZmZmYk/mpmZmZmZiT+amZmZmZmJP5qZmZmZmYk/mpmZmZmZiT+amZmZmZmJP5qZmZmZmYk/mpmZmZmZiT+amZmZmZmJPw==",
          "dtype": "f8"
         },
         "yaxis": "y2"
        },
        {
         "marker": {
          "color": "darkorange"
         },
         "name": "Round 1",
         "opacity": 0.85,
         "showlegend": false,
         "type": "bar",
         "x": {
          "bdata": "AAECAwQFBgcICQoLDA0ODxAREhMUFRYXGBkaGxwdHh8gISIjJCUmJygpKissLS4vMDEyMzQ1Njc4OTo7PD0+P0BBQkNERUZHSElKS0xNTk8=",
          "dtype": "i1"
         },
         "xaxis": "x2",
         "y": {
          "bdata": "U0lcNoLqiT9TSVw2guqJP1NJXDaC6ok/U0lcNoLqiT9TSVw2guqJP1NJXDaC6ok/U0lcNoLqiT9TSVw2guqJP1NJXDaC6ok/U0lcNoLqiT9TSVw2guqJP1NJXDaC6ok/U0lcNoLqiT9TSVw2guqJP1NJXDaC6ok/U0lcNoLqiT9TSVw2guqJP1NJXDaC6ok/U0lcNoLqiT9TSVw2guqJP1NJXDaC6ok/U0lcNoLqiT9TSVw2guqJP1NJXDaC6ok/U0lcNoLqiT9TSVw2guqJP1NJXDaC6ok/U0lcNoLqiT9TSVw2guqJP1NJXDaC6ok/U0lcNoLqiT9TSVw2guqJP1NJXDaC6ok/U0lcNoLqiT9TSVw2guqJP1NJXDaC6ok/U0lcNoLqiT9TSVw2guqJP1NJXDaC6ok/U0lcNoLqiT9TSVw2guqJP1NJXDaC6ok/U0lcNoLqiT9TSVw2guqJP1NJXDaC6ok/U0lcNoLqiT9TSVw2guqJP1NJXDaC6ok/U0lcNoLqiT9TSVw2guqJP1NJXDaC6ok/U0lcNoLqiT9TSVw2guqJP1NJXDaC6ok/U0lcNoLqiT9TSVw2guqJP1NJXDaC6ok/U0lcNoLqiT9TSVw2guqJP1NJXDaC6ok/U0lcNoLqiT9TSVw2guqJP1NJXDaC6ok/U0lcNoLqiT9TSVw2guqJP1NJXDaC6ok/U0lcNoLqiT9TSVw2guqJP1NJXDaC6ok/U0lcNoLqiT9TSVw2guqJP1NJXDaC6ok/U0lcNoLqiT9TSVw2guqJP1NJXDaC6ok/U0lcNoLqiT9TSVw2guqJP1NJXDaC6ok/Te6rMCc6ND9TSVw2guqJPw==",
          "dtype": "f8"
         },
         "yaxis": "y2"
        },
        {
         "hovertemplate": "Round 1<br>Position: 1<br>Action: %{x}<br>P: %{y:.6f}<br>Reward: 0<extra></extra>",
         "marker": {
          "color": "forestgreen",
          "size": 11,
          "symbol": "diamond"
         },
         "mode": "markers",
         "name": "Picked (r=1)",
         "showlegend": false,
         "type": "scatter",
         "x": [
          78
         ],
         "xaxis": "x2",
         "y": [
          0.00030864197530864197
         ],
         "yaxis": "y2"
        },
        {
         "marker": {
          "color": "steelblue"
         },
         "name": "Round 0",
         "opacity": 0.6,
         "showlegend": false,
         "type": "bar",
         "x": {
          "bdata": "AAECAwQFBgcICQoLDA0ODxAREhMUFRYXGBkaGxwdHh8gISIjJCUmJygpKissLS4vMDEyMzQ1Njc4OTo7PD0+P0BBQkNERUZHSElKS0xNTk8=",
          "dtype": "i1"
         },
         "xaxis": "x3",
         "y": {
          "bdata": "mpmZmZmZiT+amZmZmZmJP5qZmZmZmYk/mpmZmZmZiT+amZmZmZmJP5qZmZmZmYk/mpmZmZmZiT+amZmZmZmJP5qZmZmZmYk/mpmZmZmZiT+amZmZmZmJP5qZmZmZmYk/mpmZmZmZiT+amZmZmZmJP5qZmZmZmYk/mpmZmZmZiT+amZmZmZmJP5qZmZmZmYk/mpmZmZmZiT+amZmZmZmJP5qZmZmZmYk/mpmZmZmZiT+amZmZmZmJP5qZmZmZmYk/mpmZmZmZiT+amZmZmZmJP5qZmZmZmYk/mpmZmZmZiT+amZmZmZmJP5qZmZmZmYk/mpmZmZmZiT+amZmZmZmJP5qZmZmZmYk/mpmZmZmZiT+amZmZmZmJP5qZmZmZmYk/mpmZmZmZiT+amZmZmZmJP5qZmZmZmYk/mpmZmZmZiT+amZmZmZmJP5qZmZmZmYk/mpmZmZmZiT+amZmZmZmJP5qZmZmZmYk/mpmZmZmZiT+amZmZmZmJP5qZmZmZmYk/mpmZmZmZiT+amZmZmZmJP5qZmZmZmYk/mpmZmZmZiT+amZmZmZmJP5qZmZmZmYk/mpmZmZmZiT+amZmZmZmJP5qZmZmZmYk/mpmZmZmZiT+amZmZmZmJP5qZmZmZmYk/mpmZmZmZiT+amZmZmZmJP5qZmZmZmYk/mpmZmZmZiT+amZmZmZmJP5qZmZmZmYk/mpmZmZmZiT+amZmZmZmJP5qZmZmZmYk/mpmZmZmZiT+amZmZmZmJP5qZmZmZmYk/mpmZmZmZiT+amZmZmZmJP5qZmZmZmYk/mpmZmZmZiT+amZmZmZmJP5qZmZmZmYk/mpmZmZmZiT+amZmZmZmJPw==",
          "dtype": "f8"
         },
         "yaxis": "y3"
        },
        {
         "marker": {
          "color": "darkorange"
         },
         "name": "Round 1",
         "opacity": 0.85,
         "showlegend": false,
         "type": "bar",
         "x": {
          "bdata": "AAECAwQFBgcICQoLDA0ODxAREhMUFRYXGBkaGxwdHh8gISIjJCUmJygpKissLS4vMDEyMzQ1Njc4OTo7PD0+P0BBQkNERUZHSElKS0xNTk8=",
          "dtype": "i1"
         },
         "xaxis": "x3",
         "y": {
          "bdata": "U0lcNoLqiT9N7qswJzo0P1NJXDaC6ok/U0lcNoLqiT9TSVw2guqJP1NJXDaC6ok/U0lcNoLqiT9TSVw2guqJP1NJXDaC6ok/U0lcNoLqiT9TSVw2guqJP1NJXDaC6ok/U0lcNoLqiT9TSVw2guqJP1NJXDaC6ok/U0lcNoLqiT9TSVw2guqJP1NJXDaC6ok/U0lcNoLqiT9TSVw2guqJP1NJXDaC6ok/U0lcNoLqiT9TSVw2guqJP1NJXDaC6ok/U0lcNoLqiT9TSVw2guqJP1NJXDaC6ok/U0lcNoLqiT9TSVw2guqJP1NJXDaC6ok/U0lcNoLqiT9TSVw2guqJP1NJXDaC6ok/U0lcNoLqiT9TSVw2guqJP1NJXDaC6ok/U0lcNoLqiT9TSVw2guqJP1NJXDaC6ok/U0lcNoLqiT9TSVw2guqJP1NJXDaC6ok/U0lcNoLqiT9TSVw2guqJP1NJXDaC6ok/U0lcNoLqiT9TSVw2guqJP1NJXDaC6ok/U0lcNoLqiT9TSVw2guqJP1NJXDaC6ok/U0lcNoLqiT9TSVw2guqJP1NJXDaC6ok/U0lcNoLqiT9TSVw2guqJP1NJXDaC6ok/U0lcNoLqiT9TSVw2guqJP1NJXDaC6ok/U0lcNoLqiT9TSVw2guqJP1NJXDaC6ok/U0lcNoLqiT9TSVw2guqJP1NJXDaC6ok/U0lcNoLqiT9TSVw2guqJP1NJXDaC6ok/U0lcNoLqiT9TSVw2guqJP1NJXDaC6ok/U0lcNoLqiT9TSVw2guqJP1NJXDaC6ok/U0lcNoLqiT9TSVw2guqJP1NJXDaC6ok/U0lcNoLqiT9TSVw2guqJPw==",
          "dtype": "f8"
         },
         "yaxis": "y3"
        },
        {
         "hovertemplate": "Round 1<br>Position: 2<br>Action: %{x}<br>P: %{y:.6f}<br>Reward: 0<extra></extra>",
         "marker": {
          "color": "forestgreen",
          "size": 11,
          "symbol": "diamond"
         },
         "mode": "markers",
         "name": "Picked (r=1)",
         "showlegend": false,
         "type": "scatter",
         "x": [
          1
         ],
         "xaxis": "x3",
         "y": [
          0.00030864197530864197
         ],
         "yaxis": "y3"
        }
       ],
       "layout": {
        "annotations": [
         {
          "font": {
           "size": 16
          },
          "showarrow": false,
          "text": "Position 0",
          "x": 0.5,
          "xanchor": "center",
          "xref": "paper",
          "y": 1,
          "yanchor": "bottom",
          "yref": "paper"
         },
         {
          "font": {
           "size": 16
          },
          "showarrow": false,
          "text": "Position 1",
          "x": 0.5,
          "xanchor": "center",
          "xref": "paper",
          "y": 0.6399999999999999,
          "yanchor": "bottom",
          "yref": "paper"
         },
         {
          "font": {
           "size": 16
          },
          "showarrow": false,
          "text": "Position 2",
          "x": 0.5,
          "xanchor": "center",
          "xref": "paper",
          "y": 0.27999999999999997,
          "yanchor": "bottom",
          "yref": "paper"
         }
        ],
        "bargap": 0.15,
        "barmode": "group",
        "height": 1050,
        "template": {
         "data": {
          "bar": [
           {
            "error_x": {
             "color": "#2a3f5f"
            },
            "error_y": {
             "color": "#2a3f5f"
            },
            "marker": {
             "line": {
              "color": "white",
              "width": 0.5
             },
             "pattern": {
              "fillmode": "overlay",
              "size": 10,
              "solidity": 0.2
             }
            },
            "type": "bar"
           }
          ],
          "barpolar": [
           {
            "marker": {
             "line": {
              "color": "white",
              "width": 0.5
             },
             "pattern": {
              "fillmode": "overlay",
              "size": 10,
              "solidity": 0.2
             }
            },
            "type": "barpolar"
           }
          ],
          "carpet": [
           {
            "aaxis": {
             "endlinecolor": "#2a3f5f",
             "gridcolor": "#C8D4E3",
             "linecolor": "#C8D4E3",
             "minorgridcolor": "#C8D4E3",
             "startlinecolor": "#2a3f5f"
            },
            "baxis": {
             "endlinecolor": "#2a3f5f",
             "gridcolor": "#C8D4E3",
             "linecolor": "#C8D4E3",
             "minorgridcolor": "#C8D4E3",
             "startlinecolor": "#2a3f5f"
            },
            "type": "carpet"
           }
          ],
          "choropleth": [
           {
            "colorbar": {
             "outlinewidth": 0,
             "ticks": ""
            },
            "type": "choropleth"
           }
          ],
          "contour": [
           {
            "colorbar": {
             "outlinewidth": 0,
             "ticks": ""
            },
            "colorscale": [
             [
              0,
              "#0d0887"
             ],
             [
              0.1111111111111111,
              "#46039f"
             ],
             [
              0.2222222222222222,
              "#7201a8"
             ],
             [
              0.3333333333333333,
              "#9c179e"
             ],
             [
              0.4444444444444444,
              "#bd3786"
             ],
             [
              0.5555555555555556,
              "#d8576b"
             ],
             [
              0.6666666666666666,
              "#ed7953"
             ],
             [
              0.7777777777777778,
              "#fb9f3a"
             ],
             [
              0.8888888888888888,
              "#fdca26"
             ],
             [
              1,
              "#f0f921"
             ]
            ],
            "type": "contour"
           }
          ],
          "contourcarpet": [
           {
            "colorbar": {
             "outlinewidth": 0,
             "ticks": ""
            },
            "type": "contourcarpet"
           }
          ],
          "heatmap": [
           {
            "colorbar": {
             "outlinewidth": 0,
             "ticks": ""
            },
            "colorscale": [
             [
              0,
              "#0d0887"
             ],
             [
              0.1111111111111111,
              "#46039f"
             ],
             [
              0.2222222222222222,
              "#7201a8"
             ],
             [
              0.3333333333333333,
              "#9c179e"
             ],
             [
              0.4444444444444444,
              "#bd3786"
             ],
             [
              0.5555555555555556,
              "#d8576b"
             ],
             [
              0.6666666666666666,
              "#ed7953"
             ],
             [
              0.7777777777777778,
              "#fb9f3a"
             ],
             [
              0.8888888888888888,
              "#fdca26"
             ],
             [
              1,
              "#f0f921"
             ]
            ],
            "type": "heatmap"
           }
          ],
          "histogram": [
           {
            "marker": {
             "pattern": {
              "fillmode": "overlay",
              "size": 10,
              "solidity": 0.2
             }
            },
            "type": "histogram"
           }
          ],
          "histogram2d": [
           {
            "colorbar": {
             "outlinewidth": 0,
             "ticks": ""
            },
            "colorscale": [
             [
              0,
              "#0d0887"
             ],
             [
              0.1111111111111111,
              "#46039f"
             ],
             [
              0.2222222222222222,
              "#7201a8"
             ],
             [
              0.3333333333333333,
              "#9c179e"
             ],
             [
              0.4444444444444444,
              "#bd3786"
             ],
             [
              0.5555555555555556,
              "#d8576b"
             ],
             [
              0.6666666666666666,
              "#ed7953"
             ],
             [
              0.7777777777777778,
              "#fb9f3a"
             ],
             [
              0.8888888888888888,
              "#fdca26"
             ],
             [
              1,
              "#f0f921"
             ]
            ],
            "type": "histogram2d"
           }
          ],
          "histogram2dcontour": [
           {
            "colorbar": {
             "outlinewidth": 0,
             "ticks": ""
            },
            "colorscale": [
             [
              0,
              "#0d0887"
             ],
             [
              0.1111111111111111,
              "#46039f"
             ],
             [
              0.2222222222222222,
              "#7201a8"
             ],
             [
              0.3333333333333333,
              "#9c179e"
             ],
             [
              0.4444444444444444,
              "#bd3786"
             ],
             [
              0.5555555555555556,
              "#d8576b"
             ],
             [
              0.6666666666666666,
              "#ed7953"
             ],
             [
              0.7777777777777778,
              "#fb9f3a"
             ],
             [
              0.8888888888888888,
              "#fdca26"
             ],
             [
              1,
              "#f0f921"
             ]
            ],
            "type": "histogram2dcontour"
           }
          ],
          "mesh3d": [
           {
            "colorbar": {
             "outlinewidth": 0,
             "ticks": ""
            },
            "type": "mesh3d"
           }
          ],
          "parcoords": [
           {
            "line": {
             "colorbar": {
              "outlinewidth": 0,
              "ticks": ""
             }
            },
            "type": "parcoords"
           }
          ],
          "pie": [
           {
            "automargin": true,
            "type": "pie"
           }
          ],
          "scatter": [
           {
            "fillpattern": {
             "fillmode": "overlay",
             "size": 10,
             "solidity": 0.2
            },
            "type": "scatter"
           }
          ],
          "scatter3d": [
           {
            "line": {
             "colorbar": {
              "outlinewidth": 0,
              "ticks": ""
             }
            },
            "marker": {
             "colorbar": {
              "outlinewidth": 0,
              "ticks": ""
             }
            },
            "type": "scatter3d"
           }
          ],
          "scattercarpet": [
           {
            "marker": {
             "colorbar": {
              "outlinewidth": 0,
              "ticks": ""
             }
            },
            "type": "scattercarpet"
           }
          ],
          "scattergeo": [
           {
            "marker": {
             "colorbar": {
              "outlinewidth": 0,
              "ticks": ""
             }
            },
            "type": "scattergeo"
           }
          ],
          "scattergl": [
           {
            "marker": {
             "colorbar": {
              "outlinewidth": 0,
              "ticks": ""
             }
            },
            "type": "scattergl"
           }
          ],
          "scattermap": [
           {
            "marker": {
             "colorbar": {
              "outlinewidth": 0,
              "ticks": ""
             }
            },
            "type": "scattermap"
           }
          ],
          "scattermapbox": [
           {
            "marker": {
             "colorbar": {
              "outlinewidth": 0,
              "ticks": ""
             }
            },
            "type": "scattermapbox"
           }
          ],
          "scatterpolar": [
           {
            "marker": {
             "colorbar": {
              "outlinewidth": 0,
              "ticks": ""
             }
            },
            "type": "scatterpolar"
           }
          ],
          "scatterpolargl": [
           {
            "marker": {
             "colorbar": {
              "outlinewidth": 0,
              "ticks": ""
             }
            },
            "type": "scatterpolargl"
           }
          ],
          "scatterternary": [
           {
            "marker": {
             "colorbar": {
              "outlinewidth": 0,
              "ticks": ""
             }
            },
            "type": "scatterternary"
           }
          ],
          "surface": [
           {
            "colorbar": {
             "outlinewidth": 0,
             "ticks": ""
            },
            "colorscale": [
             [
              0,
              "#0d0887"
             ],
             [
              0.1111111111111111,
              "#46039f"
             ],
             [
              0.2222222222222222,
              "#7201a8"
             ],
             [
              0.3333333333333333,
              "#9c179e"
             ],
             [
              0.4444444444444444,
              "#bd3786"
             ],
             [
              0.5555555555555556,
              "#d8576b"
             ],
             [
              0.6666666666666666,
              "#ed7953"
             ],
             [
              0.7777777777777778,
              "#fb9f3a"
             ],
             [
              0.8888888888888888,
              "#fdca26"
             ],
             [
              1,
              "#f0f921"
             ]
            ],
            "type": "surface"
           }
          ],
          "table": [
           {
            "cells": {
             "fill": {
              "color": "#EBF0F8"
             },
             "line": {
              "color": "white"
             }
            },
            "header": {
             "fill": {
              "color": "#C8D4E3"
             },
             "line": {
              "color": "white"
             }
            },
            "type": "table"
           }
          ]
         },
         "layout": {
          "annotationdefaults": {
           "arrowcolor": "#2a3f5f",
           "arrowhead": 0,
           "arrowwidth": 1
          },
          "autotypenumbers": "strict",
          "coloraxis": {
           "colorbar": {
            "outlinewidth": 0,
            "ticks": ""
           }
          },
          "colorscale": {
           "diverging": [
            [
             0,
             "#8e0152"
            ],
            [
             0.1,
             "#c51b7d"
            ],
            [
             0.2,
             "#de77ae"
            ],
            [
             0.3,
             "#f1b6da"
            ],
            [
             0.4,
             "#fde0ef"
            ],
            [
             0.5,
             "#f7f7f7"
            ],
            [
             0.6,
             "#e6f5d0"
            ],
            [
             0.7,
             "#b8e186"
            ],
            [
             0.8,
             "#7fbc41"
            ],
            [
             0.9,
             "#4d9221"
            ],
            [
             1,
             "#276419"
            ]
           ],
           "sequential": [
            [
             0,
             "#0d0887"
            ],
            [
             0.1111111111111111,
             "#46039f"
            ],
            [
             0.2222222222222222,
             "#7201a8"
            ],
            [
             0.3333333333333333,
             "#9c179e"
            ],
            [
             0.4444444444444444,
             "#bd3786"
            ],
            [
             0.5555555555555556,
             "#d8576b"
            ],
            [
             0.6666666666666666,
             "#ed7953"
            ],
            [
             0.7777777777777778,
             "#fb9f3a"
            ],
            [
             0.8888888888888888,
             "#fdca26"
            ],
            [
             1,
             "#f0f921"
            ]
           ],
           "sequentialminus": [
            [
             0,
             "#0d0887"
            ],
            [
             0.1111111111111111,
             "#46039f"
            ],
            [
             0.2222222222222222,
             "#7201a8"
            ],
            [
             0.3333333333333333,
             "#9c179e"
            ],
            [
             0.4444444444444444,
             "#bd3786"
            ],
            [
             0.5555555555555556,
             "#d8576b"
            ],
            [
             0.6666666666666666,
             "#ed7953"
            ],
            [
             0.7777777777777778,
             "#fb9f3a"
            ],
            [
             0.8888888888888888,
             "#fdca26"
            ],
            [
             1,
             "#f0f921"
            ]
           ]
          },
          "colorway": [
           "#636efa",
           "#EF553B",
           "#00cc96",
           "#ab63fa",
           "#FFA15A",
           "#19d3f3",
           "#FF6692",
           "#B6E880",
           "#FF97FF",
           "#FECB52"
          ],
          "font": {
           "color": "#2a3f5f"
          },
          "geo": {
           "bgcolor": "white",
           "lakecolor": "white",
           "landcolor": "white",
           "showlakes": true,
           "showland": true,
           "subunitcolor": "#C8D4E3"
          },
          "hoverlabel": {
           "align": "left"
          },
          "hovermode": "closest",
          "mapbox": {
           "style": "light"
          },
          "paper_bgcolor": "white",
          "plot_bgcolor": "white",
          "polar": {
           "angularaxis": {
            "gridcolor": "#EBF0F8",
            "linecolor": "#EBF0F8",
            "ticks": ""
           },
           "bgcolor": "white",
           "radialaxis": {
            "gridcolor": "#EBF0F8",
            "linecolor": "#EBF0F8",
            "ticks": ""
           }
          },
          "scene": {
           "xaxis": {
            "backgroundcolor": "white",
            "gridcolor": "#DFE8F3",
            "gridwidth": 2,
            "linecolor": "#EBF0F8",
            "showbackground": true,
            "ticks": "",
            "zerolinecolor": "#EBF0F8"
           },
           "yaxis": {
            "backgroundcolor": "white",
            "gridcolor": "#DFE8F3",
            "gridwidth": 2,
            "linecolor": "#EBF0F8",
            "showbackground": true,
            "ticks": "",
            "zerolinecolor": "#EBF0F8"
           },
           "zaxis": {
            "backgroundcolor": "white",
            "gridcolor": "#DFE8F3",
            "gridwidth": 2,
            "linecolor": "#EBF0F8",
            "showbackground": true,
            "ticks": "",
            "zerolinecolor": "#EBF0F8"
           }
          },
          "shapedefaults": {
           "line": {
            "color": "#2a3f5f"
           }
          },
          "ternary": {
           "aaxis": {
            "gridcolor": "#DFE8F3",
            "linecolor": "#A2B1C6",
            "ticks": ""
           },
           "baxis": {
            "gridcolor": "#DFE8F3",
            "linecolor": "#A2B1C6",
            "ticks": ""
           },
           "bgcolor": "white",
           "caxis": {
            "gridcolor": "#DFE8F3",
            "linecolor": "#A2B1C6",
            "ticks": ""
           }
          },
          "title": {
           "x": 0.05
          },
          "xaxis": {
           "automargin": true,
           "gridcolor": "#EBF0F8",
           "linecolor": "#EBF0F8",
           "ticks": "",
           "title": {
            "standoff": 15
           },
           "zerolinecolor": "#EBF0F8",
           "zerolinewidth": 2
          },
          "yaxis": {
           "automargin": true,
           "gridcolor": "#EBF0F8",
           "linecolor": "#EBF0F8",
           "ticks": "",
           "title": {
            "standoff": 15
           },
           "zerolinecolor": "#EBF0F8",
           "zerolinewidth": 2
          }
         }
        },
        "title": {
         "text": "Position-aware TS \u2014 Round 0 vs Round 1"
        },
        "xaxis": {
         "anchor": "y",
         "domain": [
          0,
          1
         ],
         "tickmode": "array",
         "ticktext": [
          "0",
          "1",
          "2",
          "3",
          "4",
          "5",
          "6",
          "7",
          "8",
          "9",
          "10",
          "11",
          "12",
          "13",
          "14",
          "15",
          "16",
          "17",
          "18",
          "19",
          "20",
          "21",
          "22",
          "23",
          "24",
          "25",
          "26",
          "27",
          "28",
          "29",
          "30",
          "31",
          "32",
          "33",
          "34",
          "35",
          "36",
          "37",
          "38",
          "39",
          "40",
          "41",
          "42",
          "43",
          "44",
          "45",
          "46",
          "47",
          "48",
          "49",
          "50",
          "51",
          "52",
          "53",
          "54",
          "55",
          "56",
          "57",
          "58",
          "59",
          "60",
          "61",
          "62",
          "63",
          "64",
          "65",
          "66",
          "67",
          "68",
          "69",
          "70",
          "71",
          "72",
          "73",
          "74",
          "75",
          "76",
          "77",
          "78",
          "79"
         ],
         "tickvals": {
          "bdata": "AAECAwQFBgcICQoLDA0ODxAREhMUFRYXGBkaGxwdHh8gISIjJCUmJygpKissLS4vMDEyMzQ1Njc4OTo7PD0+P0BBQkNERUZHSElKS0xNTk8=",
          "dtype": "i1"
         },
         "title": {
          "text": ""
         }
        },
        "xaxis2": {
         "anchor": "y2",
         "domain": [
          0,
          1
         ],
         "tickmode": "array",
         "ticktext": [
          "0",
          "1",
          "2",
          "3",
          "4",
          "5",
          "6",
          "7",
          "8",
          "9",
          "10",
          "11",
          "12",
          "13",
          "14",
          "15",
          "16",
          "17",
          "18",
          "19",
          "20",
          "21",
          "22",
          "23",
          "24",
          "25",
          "26",
          "27",
          "28",
          "29",
          "30",
          "31",
          "32",
          "33",
          "34",
          "35",
          "36",
          "37",
          "38",
          "39",
          "40",
          "41",
          "42",
          "43",
          "44",
          "45",
          "46",
          "47",
          "48",
          "49",
          "50",
          "51",
          "52",
          "53",
          "54",
          "55",
          "56",
          "57",
          "58",
          "59",
          "60",
          "61",
          "62",
          "63",
          "64",
          "65",
          "66",
          "67",
          "68",
          "69",
          "70",
          "71",
          "72",
          "73",
          "74",
          "75",
          "76",
          "77",
          "78",
          "79"
         ],
         "tickvals": {
          "bdata": "AAECAwQFBgcICQoLDA0ODxAREhMUFRYXGBkaGxwdHh8gISIjJCUmJygpKissLS4vMDEyMzQ1Njc4OTo7PD0+P0BBQkNERUZHSElKS0xNTk8=",
          "dtype": "i1"
         },
         "title": {
          "text": ""
         }
        },
        "xaxis3": {
         "anchor": "y3",
         "domain": [
          0,
          1
         ],
         "tickmode": "array",
         "ticktext": [
          "0",
          "1",
          "2",
          "3",
          "4",
          "5",
          "6",
          "7",
          "8",
          "9",
          "10",
          "11",
          "12",
          "13",
          "14",
          "15",
          "16",
          "17",
          "18",
          "19",
          "20",
          "21",
          "22",
          "23",
          "24",
          "25",
          "26",
          "27",
          "28",
          "29",
          "30",
          "31",
          "32",
          "33",
          "34",
          "35",
          "36",
          "37",
          "38",
          "39",
          "40",
          "41",
          "42",
          "43",
          "44",
          "45",
          "46",
          "47",
          "48",
          "49",
          "50",
          "51",
          "52",
          "53",
          "54",
          "55",
          "56",
          "57",
          "58",
          "59",
          "60",
          "61",
          "62",
          "63",
          "64",
          "65",
          "66",
          "67",
          "68",
          "69",
          "70",
          "71",
          "72",
          "73",
          "74",
          "75",
          "76",
          "77",
          "78",
          "79"
         ],
         "tickvals": {
          "bdata": "AAECAwQFBgcICQoLDA0ODxAREhMUFRYXGBkaGxwdHh8gISIjJCUmJygpKissLS4vMDEyMzQ1Njc4OTo7PD0+P0BBQkNERUZHSElKS0xNTk8=",
          "dtype": "i1"
         },
         "title": {
          "text": "Action ID (0\u201379)"
         }
        },
        "yaxis": {
         "anchor": "x",
         "domain": [
          0.72,
          1
         ],
         "range": [
          0,
          0.015817901234567902
         ],
         "title": {
          "text": "P(select)"
         }
        },
        "yaxis2": {
         "anchor": "x2",
         "domain": [
          0.36,
          0.6399999999999999
         ],
         "range": [
          0,
          0.015817901234567902
         ],
         "title": {
          "text": "P(select)"
         }
        },
        "yaxis3": {
         "anchor": "x3",
         "domain": [
          0,
          0.27999999999999997
         ],
         "range": [
          0,
          0.015817901234567902
         ],
         "title": {
          "text": "P(select)"
         }
        }
       }
      }
     },
     "metadata": {},
     "output_type": "display_data"
    }
   ],
   "source": [
    "# create tracker (position-aware TS: one bandit per slot)\n",
    "tracker = ThompsonSlateTracker(\n",
    "    df=df,\n",
    "    n_actions=bf[\"n_actions\"],\n",
    "    positions=[0, 1, 2],     # now actually used\n",
    "    seed=SEED,\n",
    "    factorize_by_position=True\n",
    ")\n",
    "\n",
    "# round 0 = uniform per position\n",
    "for pos, pmf in tracker.get_pmf(0).items():\n",
    "    print(f\"PMF round 0 @ position {pos} (first 5 probs): {pmf[:5]}\")\n",
    "\n",
    "# advance one round: samples one row per position\n",
    "samp1 = tracker.next_round(random_state=7, use_mc_if_needed=False)\n",
    "print(\"Round 1 samples:\\n\", samp1)\n",
    "\n",
    "display(samp1)\n",
    "\n",
    "# plot comparison\n",
    "tracker.plot_compare(0, 1, title=\"Position-aware TS \u2014 Round 0 vs Round 1\", show_picks=True)\n"
   ]
  },
  {
   "cell_type": "markdown",
   "id": "68cab374",
   "metadata": {},
   "source": [
    "### Position Aware Vanilla Thompson Sampling N round (1-100)"
   ]
  },
  {
   "cell_type": "code",
   "execution_count": 64,
   "id": "b0d5fae8",
   "metadata": {},
   "outputs": [],
   "source": [
    "import pandas as pd\n",
    "import numpy as np\n",
    "\n",
    "def pmf_history_to_df(tracker):\n",
    "    \"\"\"\n",
    "    Flatten tracker.pmfs (dict: round -> {key -> np.array(n_actions)})\n",
    "    into a tidy DataFrame with columns:\n",
    "      round, bandit_key, action, p_select\n",
    "    \"\"\"\n",
    "    recs = []\n",
    "    for r, pmf_dict in tracker.pmfs.items():\n",
    "        for key, vec in pmf_dict.items():\n",
    "            for a, p in enumerate(np.asarray(vec)):\n",
    "                recs.append({\"round\": r, \"bandit_key\": key, \"action\": a, \"p_select\": float(p)})\n",
    "    return pd.DataFrame(recs)\n",
    "\n",
    "def picks_history_to_df(tracker):\n",
    "    \"\"\"\n",
    "    Flatten tracker.samples (dict: round -> DataFrame of sampled rows)\n",
    "    into a tidy DataFrame with columns:\n",
    "      round, bandit_key, action, reward, position, pscore\n",
    "    For vanilla TS, bandit_key is 'all'.\n",
    "    For factorized mode, bandit_key equals position.\n",
    "    \"\"\"\n",
    "    recs = []\n",
    "    for r, df_s in tracker.samples.items():\n",
    "        if df_s is None or df_s.empty or r == 0:\n",
    "            continue\n",
    "        if tracker.factorize:\n",
    "            for _, row in df_s.iterrows():\n",
    "                recs.append({\n",
    "                    \"round\": r,\n",
    "                    \"bandit_key\": int(row[\"position\"]),\n",
    "                    \"position\": int(row[\"position\"]),\n",
    "                    \"action\": int(row[\"action\"]),\n",
    "                    \"reward\": int(row[\"reward\"]),\n",
    "                    \"pscore\": float(row[\"pscore\"]),\n",
    "                })\n",
    "        else:\n",
    "            row = df_s.iloc[0]\n",
    "            recs.append({\n",
    "                \"round\": r,\n",
    "                \"bandit_key\": \"all\",\n",
    "                \"position\": int(row[\"position\"]),\n",
    "                \"action\": int(row[\"action\"]),\n",
    "                \"reward\": int(row[\"reward\"]),\n",
    "                \"pscore\": float(row[\"pscore\"]),\n",
    "            })\n",
    "    return pd.DataFrame(recs)\n"
   ]
  },
  {
   "cell_type": "code",
   "execution_count": 60,
   "id": "59c89e9c",
   "metadata": {},
   "outputs": [
    {
     "data": {
      "text/html": [
       "<div>\n",
       "<style scoped>\n",
       "    .dataframe tbody tr th:only-of-type {\n",
       "        vertical-align: middle;\n",
       "    }\n",
       "\n",
       "    .dataframe tbody tr th {\n",
       "        vertical-align: top;\n",
       "    }\n",
       "\n",
       "    .dataframe thead th {\n",
       "        text-align: right;\n",
       "    }\n",
       "</style>\n",
       "<table border=\"1\" class=\"dataframe\">\n",
       "  <thead>\n",
       "    <tr style=\"text-align: right;\">\n",
       "      <th></th>\n",
       "      <th>round</th>\n",
       "      <th>bandit_key</th>\n",
       "      <th>position</th>\n",
       "      <th>action</th>\n",
       "      <th>reward</th>\n",
       "      <th>pscore</th>\n",
       "    </tr>\n",
       "  </thead>\n",
       "  <tbody>\n",
       "    <tr>\n",
       "      <th>0</th>\n",
       "      <td>1</td>\n",
       "      <td>0</td>\n",
       "      <td>0</td>\n",
       "      <td>66</td>\n",
       "      <td>0</td>\n",
       "      <td>0.0125</td>\n",
       "    </tr>\n",
       "    <tr>\n",
       "      <th>1</th>\n",
       "      <td>1</td>\n",
       "      <td>1</td>\n",
       "      <td>1</td>\n",
       "      <td>78</td>\n",
       "      <td>0</td>\n",
       "      <td>0.0125</td>\n",
       "    </tr>\n",
       "    <tr>\n",
       "      <th>2</th>\n",
       "      <td>1</td>\n",
       "      <td>2</td>\n",
       "      <td>2</td>\n",
       "      <td>1</td>\n",
       "      <td>0</td>\n",
       "      <td>0.0125</td>\n",
       "    </tr>\n",
       "    <tr>\n",
       "      <th>3</th>\n",
       "      <td>2</td>\n",
       "      <td>0</td>\n",
       "      <td>0</td>\n",
       "      <td>66</td>\n",
       "      <td>0</td>\n",
       "      <td>0.0125</td>\n",
       "    </tr>\n",
       "    <tr>\n",
       "      <th>4</th>\n",
       "      <td>2</td>\n",
       "      <td>1</td>\n",
       "      <td>1</td>\n",
       "      <td>78</td>\n",
       "      <td>0</td>\n",
       "      <td>0.0125</td>\n",
       "    </tr>\n",
       "    <tr>\n",
       "      <th>...</th>\n",
       "      <td>...</td>\n",
       "      <td>...</td>\n",
       "      <td>...</td>\n",
       "      <td>...</td>\n",
       "      <td>...</td>\n",
       "      <td>...</td>\n",
       "    </tr>\n",
       "    <tr>\n",
       "      <th>295</th>\n",
       "      <td>99</td>\n",
       "      <td>1</td>\n",
       "      <td>1</td>\n",
       "      <td>78</td>\n",
       "      <td>0</td>\n",
       "      <td>0.0125</td>\n",
       "    </tr>\n",
       "    <tr>\n",
       "      <th>296</th>\n",
       "      <td>99</td>\n",
       "      <td>2</td>\n",
       "      <td>2</td>\n",
       "      <td>1</td>\n",
       "      <td>0</td>\n",
       "      <td>0.0125</td>\n",
       "    </tr>\n",
       "    <tr>\n",
       "      <th>297</th>\n",
       "      <td>100</td>\n",
       "      <td>0</td>\n",
       "      <td>0</td>\n",
       "      <td>66</td>\n",
       "      <td>0</td>\n",
       "      <td>0.0125</td>\n",
       "    </tr>\n",
       "    <tr>\n",
       "      <th>298</th>\n",
       "      <td>100</td>\n",
       "      <td>1</td>\n",
       "      <td>1</td>\n",
       "      <td>78</td>\n",
       "      <td>0</td>\n",
       "      <td>0.0125</td>\n",
       "    </tr>\n",
       "    <tr>\n",
       "      <th>299</th>\n",
       "      <td>100</td>\n",
       "      <td>2</td>\n",
       "      <td>2</td>\n",
       "      <td>1</td>\n",
       "      <td>0</td>\n",
       "      <td>0.0125</td>\n",
       "    </tr>\n",
       "  </tbody>\n",
       "</table>\n",
       "<p>300 rows \u00d7 6 columns</p>\n",
       "</div>"
      ],
      "text/plain": [
       "     round  bandit_key  position  action  reward  pscore\n",
       "0        1           0         0      66       0  0.0125\n",
       "1        1           1         1      78       0  0.0125\n",
       "2        1           2         2       1       0  0.0125\n",
       "3        2           0         0      66       0  0.0125\n",
       "4        2           1         1      78       0  0.0125\n",
       "..     ...         ...       ...     ...     ...     ...\n",
       "295     99           1         1      78       0  0.0125\n",
       "296     99           2         2       1       0  0.0125\n",
       "297    100           0         0      66       0  0.0125\n",
       "298    100           1         1      78       0  0.0125\n",
       "299    100           2         2       1       0  0.0125\n",
       "\n",
       "[300 rows x 6 columns]"
      ]
     },
     "execution_count": 60,
     "metadata": {},
     "output_type": "execute_result"
    }
   ],
   "source": [
    "df_picks"
   ]
  },
  {
   "cell_type": "code",
   "execution_count": 63,
   "id": "b5e76c75",
   "metadata": {},
   "outputs": [
    {
     "data": {
      "text/html": [
       "<div>\n",
       "<style scoped>\n",
       "    .dataframe tbody tr th:only-of-type {\n",
       "        vertical-align: middle;\n",
       "    }\n",
       "\n",
       "    .dataframe tbody tr th {\n",
       "        vertical-align: top;\n",
       "    }\n",
       "\n",
       "    .dataframe thead th {\n",
       "        text-align: right;\n",
       "    }\n",
       "</style>\n",
       "<table border=\"1\" class=\"dataframe\">\n",
       "  <thead>\n",
       "    <tr style=\"text-align: right;\">\n",
       "      <th></th>\n",
       "      <th>round</th>\n",
       "      <th>bandit_key</th>\n",
       "      <th>position</th>\n",
       "      <th>action</th>\n",
       "      <th>reward</th>\n",
       "      <th>pscore</th>\n",
       "    </tr>\n",
       "  </thead>\n",
       "  <tbody>\n",
       "    <tr>\n",
       "      <th>3</th>\n",
       "      <td>2</td>\n",
       "      <td>0</td>\n",
       "      <td>0</td>\n",
       "      <td>66</td>\n",
       "      <td>0</td>\n",
       "      <td>0.0125</td>\n",
       "    </tr>\n",
       "    <tr>\n",
       "      <th>4</th>\n",
       "      <td>2</td>\n",
       "      <td>1</td>\n",
       "      <td>1</td>\n",
       "      <td>78</td>\n",
       "      <td>0</td>\n",
       "      <td>0.0125</td>\n",
       "    </tr>\n",
       "    <tr>\n",
       "      <th>5</th>\n",
       "      <td>2</td>\n",
       "      <td>2</td>\n",
       "      <td>2</td>\n",
       "      <td>1</td>\n",
       "      <td>0</td>\n",
       "      <td>0.0125</td>\n",
       "    </tr>\n",
       "  </tbody>\n",
       "</table>\n",
       "</div>"
      ],
      "text/plain": [
       "   round  bandit_key  position  action  reward  pscore\n",
       "3      2           0         0      66       0  0.0125\n",
       "4      2           1         1      78       0  0.0125\n",
       "5      2           2         2       1       0  0.0125"
      ]
     },
     "execution_count": 63,
     "metadata": {},
     "output_type": "execute_result"
    }
   ],
   "source": [
    "df_picks[df_picks[\"round\"] == 2]"
   ]
  },
  {
   "cell_type": "code",
   "execution_count": 61,
   "id": "026031a9",
   "metadata": {},
   "outputs": [
    {
     "data": {
      "text/html": [
       "<div>\n",
       "<style scoped>\n",
       "    .dataframe tbody tr th:only-of-type {\n",
       "        vertical-align: middle;\n",
       "    }\n",
       "\n",
       "    .dataframe tbody tr th {\n",
       "        vertical-align: top;\n",
       "    }\n",
       "\n",
       "    .dataframe thead th {\n",
       "        text-align: right;\n",
       "    }\n",
       "</style>\n",
       "<table border=\"1\" class=\"dataframe\">\n",
       "  <thead>\n",
       "    <tr style=\"text-align: right;\">\n",
       "      <th>action</th>\n",
       "      <th>0</th>\n",
       "      <th>1</th>\n",
       "      <th>2</th>\n",
       "      <th>3</th>\n",
       "      <th>4</th>\n",
       "      <th>5</th>\n",
       "      <th>6</th>\n",
       "      <th>7</th>\n",
       "      <th>8</th>\n",
       "      <th>9</th>\n",
       "      <th>...</th>\n",
       "      <th>70</th>\n",
       "      <th>71</th>\n",
       "      <th>72</th>\n",
       "      <th>73</th>\n",
       "      <th>74</th>\n",
       "      <th>75</th>\n",
       "      <th>76</th>\n",
       "      <th>77</th>\n",
       "      <th>78</th>\n",
       "      <th>79</th>\n",
       "    </tr>\n",
       "    <tr>\n",
       "      <th>bandit_key</th>\n",
       "      <th></th>\n",
       "      <th></th>\n",
       "      <th></th>\n",
       "      <th></th>\n",
       "      <th></th>\n",
       "      <th></th>\n",
       "      <th></th>\n",
       "      <th></th>\n",
       "      <th></th>\n",
       "      <th></th>\n",
       "      <th></th>\n",
       "      <th></th>\n",
       "      <th></th>\n",
       "      <th></th>\n",
       "      <th></th>\n",
       "      <th></th>\n",
       "      <th></th>\n",
       "      <th></th>\n",
       "      <th></th>\n",
       "      <th></th>\n",
       "      <th></th>\n",
       "    </tr>\n",
       "  </thead>\n",
       "  <tbody>\n",
       "    <tr>\n",
       "      <th>0</th>\n",
       "      <td>0.012654</td>\n",
       "      <td>0.012654</td>\n",
       "      <td>0.012654</td>\n",
       "      <td>0.012654</td>\n",
       "      <td>0.012654</td>\n",
       "      <td>0.012654</td>\n",
       "      <td>0.012654</td>\n",
       "      <td>0.012654</td>\n",
       "      <td>0.012654</td>\n",
       "      <td>0.012654</td>\n",
       "      <td>...</td>\n",
       "      <td>0.012654</td>\n",
       "      <td>0.012654</td>\n",
       "      <td>0.012654</td>\n",
       "      <td>0.012654</td>\n",
       "      <td>0.012654</td>\n",
       "      <td>0.012654</td>\n",
       "      <td>0.012654</td>\n",
       "      <td>0.012654</td>\n",
       "      <td>0.012654</td>\n",
       "      <td>0.012654</td>\n",
       "    </tr>\n",
       "    <tr>\n",
       "      <th>1</th>\n",
       "      <td>0.012654</td>\n",
       "      <td>0.012654</td>\n",
       "      <td>0.012654</td>\n",
       "      <td>0.012654</td>\n",
       "      <td>0.012654</td>\n",
       "      <td>0.012654</td>\n",
       "      <td>0.012654</td>\n",
       "      <td>0.012654</td>\n",
       "      <td>0.012654</td>\n",
       "      <td>0.012654</td>\n",
       "      <td>...</td>\n",
       "      <td>0.012654</td>\n",
       "      <td>0.012654</td>\n",
       "      <td>0.012654</td>\n",
       "      <td>0.012654</td>\n",
       "      <td>0.012654</td>\n",
       "      <td>0.012654</td>\n",
       "      <td>0.012654</td>\n",
       "      <td>0.012654</td>\n",
       "      <td>0.000309</td>\n",
       "      <td>0.012654</td>\n",
       "    </tr>\n",
       "    <tr>\n",
       "      <th>2</th>\n",
       "      <td>0.012654</td>\n",
       "      <td>0.000309</td>\n",
       "      <td>0.012654</td>\n",
       "      <td>0.012654</td>\n",
       "      <td>0.012654</td>\n",
       "      <td>0.012654</td>\n",
       "      <td>0.012654</td>\n",
       "      <td>0.012654</td>\n",
       "      <td>0.012654</td>\n",
       "      <td>0.012654</td>\n",
       "      <td>...</td>\n",
       "      <td>0.012654</td>\n",
       "      <td>0.012654</td>\n",
       "      <td>0.012654</td>\n",
       "      <td>0.012654</td>\n",
       "      <td>0.012654</td>\n",
       "      <td>0.012654</td>\n",
       "      <td>0.012654</td>\n",
       "      <td>0.012654</td>\n",
       "      <td>0.012654</td>\n",
       "      <td>0.012654</td>\n",
       "    </tr>\n",
       "  </tbody>\n",
       "</table>\n",
       "<p>3 rows \u00d7 80 columns</p>\n",
       "</div>"
      ],
      "text/plain": [
       "action            0         1         2         3         4         5   \\\n",
       "bandit_key                                                               \n",
       "0           0.012654  0.012654  0.012654  0.012654  0.012654  0.012654   \n",
       "1           0.012654  0.012654  0.012654  0.012654  0.012654  0.012654   \n",
       "2           0.012654  0.000309  0.012654  0.012654  0.012654  0.012654   \n",
       "\n",
       "action            6         7         8         9   ...        70        71  \\\n",
       "bandit_key                                          ...                       \n",
       "0           0.012654  0.012654  0.012654  0.012654  ...  0.012654  0.012654   \n",
       "1           0.012654  0.012654  0.012654  0.012654  ...  0.012654  0.012654   \n",
       "2           0.012654  0.012654  0.012654  0.012654  ...  0.012654  0.012654   \n",
       "\n",
       "action            72        73        74        75        76        77  \\\n",
       "bandit_key                                                               \n",
       "0           0.012654  0.012654  0.012654  0.012654  0.012654  0.012654   \n",
       "1           0.012654  0.012654  0.012654  0.012654  0.012654  0.012654   \n",
       "2           0.012654  0.012654  0.012654  0.012654  0.012654  0.012654   \n",
       "\n",
       "action            78        79  \n",
       "bandit_key                      \n",
       "0           0.012654  0.012654  \n",
       "1           0.000309  0.012654  \n",
       "2           0.012654  0.012654  \n",
       "\n",
       "[3 rows x 80 columns]"
      ]
     },
     "execution_count": 61,
     "metadata": {},
     "output_type": "execute_result"
    }
   ],
   "source": [
    "pmf_wide_r1"
   ]
  },
  {
   "cell_type": "code",
   "execution_count": 62,
   "id": "5435b36d",
   "metadata": {},
   "outputs": [
    {
     "data": {
      "text/html": [
       "<div>\n",
       "<style scoped>\n",
       "    .dataframe tbody tr th:only-of-type {\n",
       "        vertical-align: middle;\n",
       "    }\n",
       "\n",
       "    .dataframe tbody tr th {\n",
       "        vertical-align: top;\n",
       "    }\n",
       "\n",
       "    .dataframe thead th {\n",
       "        text-align: right;\n",
       "    }\n",
       "</style>\n",
       "<table border=\"1\" class=\"dataframe\">\n",
       "  <thead>\n",
       "    <tr style=\"text-align: right;\">\n",
       "      <th>action</th>\n",
       "      <th>0</th>\n",
       "      <th>1</th>\n",
       "      <th>2</th>\n",
       "      <th>3</th>\n",
       "      <th>4</th>\n",
       "      <th>5</th>\n",
       "      <th>6</th>\n",
       "      <th>7</th>\n",
       "      <th>8</th>\n",
       "      <th>9</th>\n",
       "      <th>...</th>\n",
       "      <th>70</th>\n",
       "      <th>71</th>\n",
       "      <th>72</th>\n",
       "      <th>73</th>\n",
       "      <th>74</th>\n",
       "      <th>75</th>\n",
       "      <th>76</th>\n",
       "      <th>77</th>\n",
       "      <th>78</th>\n",
       "      <th>79</th>\n",
       "    </tr>\n",
       "    <tr>\n",
       "      <th>bandit_key</th>\n",
       "      <th></th>\n",
       "      <th></th>\n",
       "      <th></th>\n",
       "      <th></th>\n",
       "      <th></th>\n",
       "      <th></th>\n",
       "      <th></th>\n",
       "      <th></th>\n",
       "      <th></th>\n",
       "      <th></th>\n",
       "      <th></th>\n",
       "      <th></th>\n",
       "      <th></th>\n",
       "      <th></th>\n",
       "      <th></th>\n",
       "      <th></th>\n",
       "      <th></th>\n",
       "      <th></th>\n",
       "      <th></th>\n",
       "      <th></th>\n",
       "      <th></th>\n",
       "    </tr>\n",
       "  </thead>\n",
       "  <tbody>\n",
       "    <tr>\n",
       "      <th>0</th>\n",
       "      <td>0.0135</td>\n",
       "      <td>0.0149</td>\n",
       "      <td>0.0127</td>\n",
       "      <td>0.0127</td>\n",
       "      <td>0.0143</td>\n",
       "      <td>0.0115</td>\n",
       "      <td>0.0116</td>\n",
       "      <td>0.0125</td>\n",
       "      <td>0.0123</td>\n",
       "      <td>0.0123</td>\n",
       "      <td>...</td>\n",
       "      <td>0.0136</td>\n",
       "      <td>0.0133</td>\n",
       "      <td>0.0133</td>\n",
       "      <td>0.0098</td>\n",
       "      <td>0.0128</td>\n",
       "      <td>0.0135</td>\n",
       "      <td>0.0146</td>\n",
       "      <td>0.0129</td>\n",
       "      <td>0.0125</td>\n",
       "      <td>0.0121</td>\n",
       "    </tr>\n",
       "    <tr>\n",
       "      <th>1</th>\n",
       "      <td>0.0128</td>\n",
       "      <td>0.0110</td>\n",
       "      <td>0.0131</td>\n",
       "      <td>0.0131</td>\n",
       "      <td>0.0140</td>\n",
       "      <td>0.0104</td>\n",
       "      <td>0.0129</td>\n",
       "      <td>0.0122</td>\n",
       "      <td>0.0124</td>\n",
       "      <td>0.0125</td>\n",
       "      <td>...</td>\n",
       "      <td>0.0118</td>\n",
       "      <td>0.0131</td>\n",
       "      <td>0.0133</td>\n",
       "      <td>0.0113</td>\n",
       "      <td>0.0140</td>\n",
       "      <td>0.0117</td>\n",
       "      <td>0.0113</td>\n",
       "      <td>0.0122</td>\n",
       "      <td>0.0000</td>\n",
       "      <td>0.0147</td>\n",
       "    </tr>\n",
       "    <tr>\n",
       "      <th>2</th>\n",
       "      <td>0.0134</td>\n",
       "      <td>0.0000</td>\n",
       "      <td>0.0131</td>\n",
       "      <td>0.0122</td>\n",
       "      <td>0.0112</td>\n",
       "      <td>0.0152</td>\n",
       "      <td>0.0115</td>\n",
       "      <td>0.0131</td>\n",
       "      <td>0.0125</td>\n",
       "      <td>0.0149</td>\n",
       "      <td>...</td>\n",
       "      <td>0.0123</td>\n",
       "      <td>0.0133</td>\n",
       "      <td>0.0129</td>\n",
       "      <td>0.0128</td>\n",
       "      <td>0.0137</td>\n",
       "      <td>0.0125</td>\n",
       "      <td>0.0144</td>\n",
       "      <td>0.0137</td>\n",
       "      <td>0.0117</td>\n",
       "      <td>0.0134</td>\n",
       "    </tr>\n",
       "  </tbody>\n",
       "</table>\n",
       "<p>3 rows \u00d7 80 columns</p>\n",
       "</div>"
      ],
      "text/plain": [
       "action          0       1       2       3       4       5       6       7   \\\n",
       "bandit_key                                                                   \n",
       "0           0.0135  0.0149  0.0127  0.0127  0.0143  0.0115  0.0116  0.0125   \n",
       "1           0.0128  0.0110  0.0131  0.0131  0.0140  0.0104  0.0129  0.0122   \n",
       "2           0.0134  0.0000  0.0131  0.0122  0.0112  0.0152  0.0115  0.0131   \n",
       "\n",
       "action          8       9   ...      70      71      72      73      74  \\\n",
       "bandit_key                  ...                                           \n",
       "0           0.0123  0.0123  ...  0.0136  0.0133  0.0133  0.0098  0.0128   \n",
       "1           0.0124  0.0125  ...  0.0118  0.0131  0.0133  0.0113  0.0140   \n",
       "2           0.0125  0.0149  ...  0.0123  0.0133  0.0129  0.0128  0.0137   \n",
       "\n",
       "action          75      76      77      78      79  \n",
       "bandit_key                                          \n",
       "0           0.0135  0.0146  0.0129  0.0125  0.0121  \n",
       "1           0.0117  0.0113  0.0122  0.0000  0.0147  \n",
       "2           0.0125  0.0144  0.0137  0.0117  0.0134  \n",
       "\n",
       "[3 rows x 80 columns]"
      ]
     },
     "execution_count": 62,
     "metadata": {},
     "output_type": "execute_result"
    }
   ],
   "source": [
    "pmf_wide_r100"
   ]
  },
  {
   "cell_type": "code",
   "execution_count": 75,
   "id": "2785ecf7",
   "metadata": {
    "vscode": {
     "languageId": "markdown"
    }
   },
   "outputs": [],
   "source": [
    "### Make sure you leave rollout random state as None, otherwise every time you sample you'll get the exact same set of actions "
   ]
  },
  {
   "cell_type": "code",
   "execution_count": 73,
   "id": "0779c11d",
   "metadata": {},
   "outputs": [
    {
     "name": "stdout",
     "output_type": "stream",
     "text": [
      "Round 1 samples:\n",
      "    action  position  reward  pscore\n",
      "0      66         0       0  0.0125\n",
      "1      78         1       0  0.0125\n",
      "2       1         2       0  0.0125\n"
     ]
    },
    {
     "data": {
      "application/vnd.plotly.v1+json": {
       "config": {
        "plotlyServerURL": "https://plot.ly"
       },
       "data": [
        {
         "marker": {
          "color": "steelblue"
         },
         "name": "Round 1",
         "opacity": 0.6,
         "showlegend": true,
         "type": "bar",
         "x": {
          "bdata": "AAECAwQFBgcICQoLDA0ODxAREhMUFRYXGBkaGxwdHh8gISIjJCUmJygpKissLS4vMDEyMzQ1Njc4OTo7PD0+P0BBQkNERUZHSElKS0xNTk8=",
          "dtype": "i1"
         },
         "xaxis": "x",
         "y": {
          "bdata": "U0lcNoLqiT9TSVw2guqJP1NJXDaC6ok/U0lcNoLqiT9TSVw2guqJP1NJXDaC6ok/U0lcNoLqiT9TSVw2guqJP1NJXDaC6ok/U0lcNoLqiT9TSVw2guqJP1NJXDaC6ok/U0lcNoLqiT9TSVw2guqJP1NJXDaC6ok/U0lcNoLqiT9TSVw2guqJP1NJXDaC6ok/U0lcNoLqiT9TSVw2guqJP1NJXDaC6ok/U0lcNoLqiT9TSVw2guqJP1NJXDaC6ok/U0lcNoLqiT9TSVw2guqJP1NJXDaC6ok/U0lcNoLqiT9TSVw2guqJP1NJXDaC6ok/U0lcNoLqiT9TSVw2guqJP1NJXDaC6ok/U0lcNoLqiT9TSVw2guqJP1NJXDaC6ok/U0lcNoLqiT9TSVw2guqJP1NJXDaC6ok/U0lcNoLqiT9TSVw2guqJP1NJXDaC6ok/U0lcNoLqiT9TSVw2guqJP1NJXDaC6ok/U0lcNoLqiT9TSVw2guqJP1NJXDaC6ok/U0lcNoLqiT9TSVw2guqJP1NJXDaC6ok/U0lcNoLqiT9TSVw2guqJP1NJXDaC6ok/U0lcNoLqiT9TSVw2guqJP1NJXDaC6ok/U0lcNoLqiT9TSVw2guqJP1NJXDaC6ok/U0lcNoLqiT9TSVw2guqJP1NJXDaC6ok/U0lcNoLqiT9TSVw2guqJP1NJXDaC6ok/Te6rMCc6ND9TSVw2guqJP1NJXDaC6ok/U0lcNoLqiT9TSVw2guqJP1NJXDaC6ok/U0lcNoLqiT9TSVw2guqJP1NJXDaC6ok/U0lcNoLqiT9TSVw2guqJP1NJXDaC6ok/U0lcNoLqiT9TSVw2guqJPw==",
          "dtype": "f8"
         },
         "yaxis": "y"
        },
        {
         "marker": {
          "color": "darkorange"
         },
         "name": "Round 100",
         "opacity": 0.85,
         "showlegend": true,
         "type": "bar",
         "x": {
          "bdata": "AAECAwQFBgcICQoLDA0ODxAREhMUFRYXGBkaGxwdHh8gISIjJCUmJygpKissLS4vMDEyMzQ1Njc4OTo7PD0+P0BBQkNERUZHSElKS0xNTk8=",
          "dtype": "i1"
         },
         "xaxis": "x",
         "y": {
          "bdata": "i2zn+6nxoj9hMlUwKqkzP71SliGOdaE/WYY41sVtpD/8qfHSTWJQP5T2Bl+YTGU/LUMc6+I2Kj9IUPwYc9diP3sUrkfhemQ/kDF3LSEfpD8730+Nl26iPy1DHOviNho/taZ5xyk6oj8vbqMBvAViP5MYBFYOLaI/UPwYc9cSoj+xv+yePCykPyfChqdXyqI/YTJVMCqpMz8tQxzr4jYaPy1DHOviNjo/AAAAAAAAAAAaUdobfGGiP67YX3ZPHmY/AAAAAAAAAAAzMzMzMzOjPy1DHOviNjo/AAAAAAAAAAAtQxzr4jZaP2EyVTAqqWM/i2zn+6nxoj8VjErqBDRhPy9uowG8BWI/FYxK6gQ0YT/FjzF3LSFfPy1DHOviNio/4JwRpb3BZz8eFmpN846jP3sUrkfhemQ/L26jAbwFYj8AAAAAAAAAAC1DHOviNjo/YTJVMCqpYz/gnBGlvcFnP0hQ/Bhz16I/AAAAAAAAAAAAAAAAAAAAABKlvcEXJqM/001iEFg5pD8AAAAAAAAAAMWPMXctIV8/WYY41sVtpD8tQxzr4jYqPxWMSuoENGE/YTJVMCqpYz8tQxzr4jYaP/yp8dJNYkA/AAAAAAAAAABVwaikTkCjP2recYqO5KI/4JwRpb3BZz/HuriNBvBmPw3gLZCg+KE/8BZIUPwYoz8AAAAAAAAAAG6jAbwFEqQ/AAAAAAAAAABIUPwYc9diP2EyVTAqqUM/001iEFg5pD8tQxzr4jYqP/p+arx0k1g/YTJVMCqpMz8AAAAAAAAAAHsUrkfhemQ/SFD8GHPXYj97FK5H4XpkPw3gLZCg+KE/SFD8GHPXYj8AAAAAAAAAAA==",
          "dtype": "f8"
         },
         "yaxis": "y"
        },
        {
         "hovertemplate": "Round 1<br>Position: 0<br>Action: %{x}<br>P: %{y:.6f}<br>Reward: 0<extra></extra>",
         "marker": {
          "color": "crimson",
          "size": 12,
          "symbol": "triangle-up"
         },
         "mode": "markers",
         "name": "Picked (r=1)",
         "showlegend": true,
         "type": "scatter",
         "x": [
          66
         ],
         "xaxis": "x",
         "y": [
          0.00030864197530864197
         ],
         "yaxis": "y"
        },
        {
         "hovertemplate": "Round 100<br>Position: 0<br>Action: %{x}<br>P: %{y:.6f}<br>Reward: 0<extra></extra>",
         "marker": {
          "color": "forestgreen",
          "size": 11,
          "symbol": "diamond"
         },
         "mode": "markers",
         "name": "Picked (r=100)",
         "showlegend": true,
         "type": "scatter",
         "x": [
          54
         ],
         "xaxis": "x",
         "y": [
          0.0024
         ],
         "yaxis": "y"
        },
        {
         "marker": {
          "color": "steelblue"
         },
         "name": "Round 1",
         "opacity": 0.6,
         "showlegend": false,
         "type": "bar",
         "x": {
          "bdata": "AAECAwQFBgcICQoLDA0ODxAREhMUFRYXGBkaGxwdHh8gISIjJCUmJygpKissLS4vMDEyMzQ1Njc4OTo7PD0+P0BBQkNERUZHSElKS0xNTk8=",
          "dtype": "i1"
         },
         "xaxis": "x2",
         "y": {
          "bdata": "U0lcNoLqiT9TSVw2guqJP1NJXDaC6ok/U0lcNoLqiT9TSVw2guqJP1NJXDaC6ok/U0lcNoLqiT9TSVw2guqJP1NJXDaC6ok/U0lcNoLqiT9TSVw2guqJP1NJXDaC6ok/U0lcNoLqiT9TSVw2guqJP1NJXDaC6ok/U0lcNoLqiT9TSVw2guqJP1NJXDaC6ok/U0lcNoLqiT9TSVw2guqJP1NJXDaC6ok/U0lcNoLqiT9TSVw2guqJP1NJXDaC6ok/U0lcNoLqiT9TSVw2guqJP1NJXDaC6ok/U0lcNoLqiT9TSVw2guqJP1NJXDaC6ok/U0lcNoLqiT9TSVw2guqJP1NJXDaC6ok/U0lcNoLqiT9TSVw2guqJP1NJXDaC6ok/U0lcNoLqiT9TSVw2guqJP1NJXDaC6ok/U0lcNoLqiT9TSVw2guqJP1NJXDaC6ok/U0lcNoLqiT9TSVw2guqJP1NJXDaC6ok/U0lcNoLqiT9TSVw2guqJP1NJXDaC6ok/U0lcNoLqiT9TSVw2guqJP1NJXDaC6ok/U0lcNoLqiT9TSVw2guqJP1NJXDaC6ok/U0lcNoLqiT9TSVw2guqJP1NJXDaC6ok/U0lcNoLqiT9TSVw2guqJP1NJXDaC6ok/U0lcNoLqiT9TSVw2guqJP1NJXDaC6ok/U0lcNoLqiT9TSVw2guqJP1NJXDaC6ok/U0lcNoLqiT9TSVw2guqJP1NJXDaC6ok/U0lcNoLqiT9TSVw2guqJP1NJXDaC6ok/U0lcNoLqiT9TSVw2guqJP1NJXDaC6ok/U0lcNoLqiT9TSVw2guqJP1NJXDaC6ok/Te6rMCc6ND9TSVw2guqJPw==",
          "dtype": "f8"
         },
         "yaxis": "y2"
        },
        {
         "marker": {
          "color": "darkorange"
         },
         "name": "Round 100",
         "opacity": 0.85,
         "showlegend": false,
         "type": "bar",
         "x": {
          "bdata": "AAECAwQFBgcICQoLDA0ODxAREhMUFRYXGBkaGxwdHh8gISIjJCUmJygpKissLS4vMDEyMzQ1Njc4OTo7PD0+P0BBQkNERUZHSElKS0xNTk8=",
          "dtype": "i1"
         },
         "xaxis": "x2",
         "y": {
          "bdata": "LUMc6+I2Sj/ecYqO5PJvPwAAAAAAAAAA/Knx0k1icD9hMlUwKqlTP4hjXdxGA6g/YTJVMCqpMz/1udqK/WWnPy1DHOviNjo/Iv32deCccT+srdhfdk9uP3npJjEIrGw/YTJVMCqpMz8TYcPTK2VpP0VHcvkP6ac/xY8xdy0hbz+/DpwzorSnP52AJsKGp6c/kQ96Nqs+pz8tQxzr4jY6PwAAAAAAAAAAYTJVMCqpMz8tQxzr4jYaP2fV52or9qc/LUMc6+I2Kj9hMlUwKqlDPy9uowG8BXI/LUMc6+I2Kj/HuriNBvBGPwkbnl4py3A/xY8xdy0hbz8AAAAAAAAAAAAAAAAAAAAAE2HD0ytlaT9JLv8h/falP0YldQKaCGs/x7q4jQbwZj+srdhfdk9uP/yp8dJNYkA/SgwCK4cWqT8tQxzr4jYqP+lILv8h/aY//Knx0k1iQD+Sy39Iv31tP5LLf0i/fW0/LUMc6+I2Oj/HuriNBvBmP+0NvjCZKqg/LUMc6+I2Kj+Sy39Iv31tP2EyVTAqqUM/uycPC7WmqT/HuriNBvBmPwrXo3A9Cqc/E2HD0ytlaT8tQxzr4jZqP8WPMXctIW8/kst/SL99bT+srdhfdk9uP3zysFBrmqc/LUMc6+I2Gj+7Jw8LtaapP/yp8dJNYmA/D5wzorQ3qD/8qfHSTWJwPwAAAAAAAAAALUMc6+I2Oj9aZDvfT42nP2b35GGh1qQ/kst/SL99bT8tQxzr4jZqPy1DHOviNho/eekmMQisbD+Sy39Iv31tP/yp8dJNYkA/eekmMQisbD8tQxzr4jY6PwrXo3A9Cqc/AAAAAAAAAACSy39Iv31tPw==",
          "dtype": "f8"
         },
         "yaxis": "y2"
        },
        {
         "hovertemplate": "Round 1<br>Position: 1<br>Action: %{x}<br>P: %{y:.6f}<br>Reward: 0<extra></extra>",
         "marker": {
          "color": "crimson",
          "size": 12,
          "symbol": "triangle-up"
         },
         "mode": "markers",
         "name": "Picked (r=1)",
         "showlegend": false,
         "type": "scatter",
         "x": [
          78
         ],
         "xaxis": "x2",
         "y": [
          0.00030864197530864197
         ],
         "yaxis": "y2"
        },
        {
         "hovertemplate": "Round 100<br>Position: 1<br>Action: %{x}<br>P: %{y:.6f}<br>Reward: 0<extra></extra>",
         "marker": {
          "color": "forestgreen",
          "size": 11,
          "symbol": "diamond"
         },
         "mode": "markers",
         "name": "Picked (r=100)",
         "showlegend": false,
         "type": "scatter",
         "x": [
          43
         ],
         "xaxis": "x2",
         "y": [
          0.0036
         ],
         "yaxis": "y2"
        },
        {
         "marker": {
          "color": "steelblue"
         },
         "name": "Round 1",
         "opacity": 0.6,
         "showlegend": false,
         "type": "bar",
         "x": {
          "bdata": "AAECAwQFBgcICQoLDA0ODxAREhMUFRYXGBkaGxwdHh8gISIjJCUmJygpKissLS4vMDEyMzQ1Njc4OTo7PD0+P0BBQkNERUZHSElKS0xNTk8=",
          "dtype": "i1"
         },
         "xaxis": "x3",
         "y": {
          "bdata": "U0lcNoLqiT9N7qswJzo0P1NJXDaC6ok/U0lcNoLqiT9TSVw2guqJP1NJXDaC6ok/U0lcNoLqiT9TSVw2guqJP1NJXDaC6ok/U0lcNoLqiT9TSVw2guqJP1NJXDaC6ok/U0lcNoLqiT9TSVw2guqJP1NJXDaC6ok/U0lcNoLqiT9TSVw2guqJP1NJXDaC6ok/U0lcNoLqiT9TSVw2guqJP1NJXDaC6ok/U0lcNoLqiT9TSVw2guqJP1NJXDaC6ok/U0lcNoLqiT9TSVw2guqJP1NJXDaC6ok/U0lcNoLqiT9TSVw2guqJP1NJXDaC6ok/U0lcNoLqiT9TSVw2guqJP1NJXDaC6ok/U0lcNoLqiT9TSVw2guqJP1NJXDaC6ok/U0lcNoLqiT9TSVw2guqJP1NJXDaC6ok/U0lcNoLqiT9TSVw2guqJP1NJXDaC6ok/U0lcNoLqiT9TSVw2guqJP1NJXDaC6ok/U0lcNoLqiT9TSVw2guqJP1NJXDaC6ok/U0lcNoLqiT9TSVw2guqJP1NJXDaC6ok/U0lcNoLqiT9TSVw2guqJP1NJXDaC6ok/U0lcNoLqiT9TSVw2guqJP1NJXDaC6ok/U0lcNoLqiT9TSVw2guqJP1NJXDaC6ok/U0lcNoLqiT9TSVw2guqJP1NJXDaC6ok/U0lcNoLqiT9TSVw2guqJP1NJXDaC6ok/U0lcNoLqiT9TSVw2guqJP1NJXDaC6ok/U0lcNoLqiT9TSVw2guqJP1NJXDaC6ok/U0lcNoLqiT9TSVw2guqJP1NJXDaC6ok/U0lcNoLqiT9TSVw2guqJP1NJXDaC6ok/U0lcNoLqiT9TSVw2guqJPw==",
          "dtype": "f8"
         },
         "yaxis": "y3"
        },
        {
         "marker": {
          "color": "darkorange"
         },
         "name": "Round 100",
         "opacity": 0.85,
         "showlegend": false,
         "type": "bar",
         "x": {
          "bdata": "AAECAwQFBgcICQoLDA0ODxAREhMUFRYXGBkaGxwdHh8gISIjJCUmJygpKissLS4vMDEyMzQ1Njc4OTo7PD0+P0BBQkNERUZHSElKS0xNTk8=",
          "dtype": "i1"
         },
         "xaxis": "x3",
         "y": {
          "bdata": "AAAAAAAAAAAtQxzr4jYqPy1DHOviNio/YTJVMCqpMz9IUPwYc9diP0hQ/Bhz12I/XwfOGVHaWz/gnBGlvcFnP2EyVTAqqVM/YTJVMCqpYz9hMlUwKqlDPxKlvcEXJqM/RIts5/upoT8tQxzr4jYaP2EyVTAqqTM/2ht8YTJVoD+Y3ZOHhVqjP2EyVTAqqWM/xty1hHzQoz+oNc07TtGhP1D8GHPXEqI/lPYGX5hMZT8FNBE2PL2iP2UZ4lgXt6E/whcmUwWjoj9fB84ZUdpbP9c07zhFR6I/FYxK6gQ0YT9IUPwYc9diP2EyVTAqqWM/MzMzMzMzoz9IUPwYc9diPwAAAAAAAAAAAAAAAAAAAABhMlUwKqlDPzvfT42XbqI/LUMc6+I2Wj+Sy39Iv31dP7prCfmgZ6M/AAAAAAAAAACSy39Iv31dP2UZ4lgXt6E/LUMc6+I2Gj9hMlUwKqkzP/yp8dJNYmA/LUMc6+I2Oj8AAAAAAAAAAAU0ETY8vaI/qRPQRNjwpD/sUbgeheuhP8rDQq1p3qE/1zTvOEVHoj8tQxzr4jYqP67YX3ZPHmY/AAAAAAAAAAAAAAAAAAAAAAAAAAAAAAAALUMc6+I2Gj+xv+yePCykP9obfGEyVaA/YTJVMCqpMz/9h/Tb14GjP2EyVTAqqTM/LUMc6+I2Gj/9h/Tb14GjPwAAAAAAAAAA+n5qvHSTaD/HuriNBvBmPwAAAAAAAAAAkst/SL99XT8tQxzr4jYqPy1DHOviNio/f/s6cM6Ioj/8qfHSTWJAP/yp8dJNYkA/AAAAAAAAAAAtQxzr4jZaP+hqK/aX3aM/lPYGX5hMVT8tQxzr4jYqPw==",
          "dtype": "f8"
         },
         "yaxis": "y3"
        },
        {
         "hovertemplate": "Round 1<br>Position: 2<br>Action: %{x}<br>P: %{y:.6f}<br>Reward: 0<extra></extra>",
         "marker": {
          "color": "crimson",
          "size": 12,
          "symbol": "triangle-up"
         },
         "mode": "markers",
         "name": "Picked (r=1)",
         "showlegend": false,
         "type": "scatter",
         "x": [
          1
         ],
         "xaxis": "x3",
         "y": [
          0.00030864197530864197
         ],
         "yaxis": "y3"
        },
        {
         "hovertemplate": "Round 100<br>Position: 2<br>Action: %{x}<br>P: %{y:.6f}<br>Reward: 0<extra></extra>",
         "marker": {
          "color": "forestgreen",
          "size": 11,
          "symbol": "diamond"
         },
         "mode": "markers",
         "name": "Picked (r=100)",
         "showlegend": false,
         "type": "scatter",
         "x": [
          54
         ],
         "xaxis": "x3",
         "y": [
          0
         ],
         "yaxis": "y3"
        }
       ],
       "layout": {
        "annotations": [
         {
          "font": {
           "size": 16
          },
          "showarrow": false,
          "text": "Position 0",
          "x": 0.5,
          "xanchor": "center",
          "xref": "paper",
          "y": 1,
          "yanchor": "bottom",
          "yref": "paper"
         },
         {
          "font": {
           "size": 16
          },
          "showarrow": false,
          "text": "Position 1",
          "x": 0.5,
          "xanchor": "center",
          "xref": "paper",
          "y": 0.6399999999999999,
          "yanchor": "bottom",
          "yref": "paper"
         },
         {
          "font": {
           "size": 16
          },
          "showarrow": false,
          "text": "Position 2",
          "x": 0.5,
          "xanchor": "center",
          "xref": "paper",
          "y": 0.27999999999999997,
          "yanchor": "bottom",
          "yref": "paper"
         }
        ],
        "bargap": 0.15,
        "barmode": "group",
        "height": 1050,
        "template": {
         "data": {
          "bar": [
           {
            "error_x": {
             "color": "#2a3f5f"
            },
            "error_y": {
             "color": "#2a3f5f"
            },
            "marker": {
             "line": {
              "color": "white",
              "width": 0.5
             },
             "pattern": {
              "fillmode": "overlay",
              "size": 10,
              "solidity": 0.2
             }
            },
            "type": "bar"
           }
          ],
          "barpolar": [
           {
            "marker": {
             "line": {
              "color": "white",
              "width": 0.5
             },
             "pattern": {
              "fillmode": "overlay",
              "size": 10,
              "solidity": 0.2
             }
            },
            "type": "barpolar"
           }
          ],
          "carpet": [
           {
            "aaxis": {
             "endlinecolor": "#2a3f5f",
             "gridcolor": "#C8D4E3",
             "linecolor": "#C8D4E3",
             "minorgridcolor": "#C8D4E3",
             "startlinecolor": "#2a3f5f"
            },
            "baxis": {
             "endlinecolor": "#2a3f5f",
             "gridcolor": "#C8D4E3",
             "linecolor": "#C8D4E3",
             "minorgridcolor": "#C8D4E3",
             "startlinecolor": "#2a3f5f"
            },
            "type": "carpet"
           }
          ],
          "choropleth": [
           {
            "colorbar": {
             "outlinewidth": 0,
             "ticks": ""
            },
            "type": "choropleth"
           }
          ],
          "contour": [
           {
            "colorbar": {
             "outlinewidth": 0,
             "ticks": ""
            },
            "colorscale": [
             [
              0,
              "#0d0887"
             ],
             [
              0.1111111111111111,
              "#46039f"
             ],
             [
              0.2222222222222222,
              "#7201a8"
             ],
             [
              0.3333333333333333,
              "#9c179e"
             ],
             [
              0.4444444444444444,
              "#bd3786"
             ],
             [
              0.5555555555555556,
              "#d8576b"
             ],
             [
              0.6666666666666666,
              "#ed7953"
             ],
             [
              0.7777777777777778,
              "#fb9f3a"
             ],
             [
              0.8888888888888888,
              "#fdca26"
             ],
             [
              1,
              "#f0f921"
             ]
            ],
            "type": "contour"
           }
          ],
          "contourcarpet": [
           {
            "colorbar": {
             "outlinewidth": 0,
             "ticks": ""
            },
            "type": "contourcarpet"
           }
          ],
          "heatmap": [
           {
            "colorbar": {
             "outlinewidth": 0,
             "ticks": ""
            },
            "colorscale": [
             [
              0,
              "#0d0887"
             ],
             [
              0.1111111111111111,
              "#46039f"
             ],
             [
              0.2222222222222222,
              "#7201a8"
             ],
             [
              0.3333333333333333,
              "#9c179e"
             ],
             [
              0.4444444444444444,
              "#bd3786"
             ],
             [
              0.5555555555555556,
              "#d8576b"
             ],
             [
              0.6666666666666666,
              "#ed7953"
             ],
             [
              0.7777777777777778,
              "#fb9f3a"
             ],
             [
              0.8888888888888888,
              "#fdca26"
             ],
             [
              1,
              "#f0f921"
             ]
            ],
            "type": "heatmap"
           }
          ],
          "histogram": [
           {
            "marker": {
             "pattern": {
              "fillmode": "overlay",
              "size": 10,
              "solidity": 0.2
             }
            },
            "type": "histogram"
           }
          ],
          "histogram2d": [
           {
            "colorbar": {
             "outlinewidth": 0,
             "ticks": ""
            },
            "colorscale": [
             [
              0,
              "#0d0887"
             ],
             [
              0.1111111111111111,
              "#46039f"
             ],
             [
              0.2222222222222222,
              "#7201a8"
             ],
             [
              0.3333333333333333,
              "#9c179e"
             ],
             [
              0.4444444444444444,
              "#bd3786"
             ],
             [
              0.5555555555555556,
              "#d8576b"
             ],
             [
              0.6666666666666666,
              "#ed7953"
             ],
             [
              0.7777777777777778,
              "#fb9f3a"
             ],
             [
              0.8888888888888888,
              "#fdca26"
             ],
             [
              1,
              "#f0f921"
             ]
            ],
            "type": "histogram2d"
           }
          ],
          "histogram2dcontour": [
           {
            "colorbar": {
             "outlinewidth": 0,
             "ticks": ""
            },
            "colorscale": [
             [
              0,
              "#0d0887"
             ],
             [
              0.1111111111111111,
              "#46039f"
             ],
             [
              0.2222222222222222,
              "#7201a8"
             ],
             [
              0.3333333333333333,
              "#9c179e"
             ],
             [
              0.4444444444444444,
              "#bd3786"
             ],
             [
              0.5555555555555556,
              "#d8576b"
             ],
             [
              0.6666666666666666,
              "#ed7953"
             ],
             [
              0.7777777777777778,
              "#fb9f3a"
             ],
             [
              0.8888888888888888,
              "#fdca26"
             ],
             [
              1,
              "#f0f921"
             ]
            ],
            "type": "histogram2dcontour"
           }
          ],
          "mesh3d": [
           {
            "colorbar": {
             "outlinewidth": 0,
             "ticks": ""
            },
            "type": "mesh3d"
           }
          ],
          "parcoords": [
           {
            "line": {
             "colorbar": {
              "outlinewidth": 0,
              "ticks": ""
             }
            },
            "type": "parcoords"
           }
          ],
          "pie": [
           {
            "automargin": true,
            "type": "pie"
           }
          ],
          "scatter": [
           {
            "fillpattern": {
             "fillmode": "overlay",
             "size": 10,
             "solidity": 0.2
            },
            "type": "scatter"
           }
          ],
          "scatter3d": [
           {
            "line": {
             "colorbar": {
              "outlinewidth": 0,
              "ticks": ""
             }
            },
            "marker": {
             "colorbar": {
              "outlinewidth": 0,
              "ticks": ""
             }
            },
            "type": "scatter3d"
           }
          ],
          "scattercarpet": [
           {
            "marker": {
             "colorbar": {
              "outlinewidth": 0,
              "ticks": ""
             }
            },
            "type": "scattercarpet"
           }
          ],
          "scattergeo": [
           {
            "marker": {
             "colorbar": {
              "outlinewidth": 0,
              "ticks": ""
             }
            },
            "type": "scattergeo"
           }
          ],
          "scattergl": [
           {
            "marker": {
             "colorbar": {
              "outlinewidth": 0,
              "ticks": ""
             }
            },
            "type": "scattergl"
           }
          ],
          "scattermap": [
           {
            "marker": {
             "colorbar": {
              "outlinewidth": 0,
              "ticks": ""
             }
            },
            "type": "scattermap"
           }
          ],
          "scattermapbox": [
           {
            "marker": {
             "colorbar": {
              "outlinewidth": 0,
              "ticks": ""
             }
            },
            "type": "scattermapbox"
           }
          ],
          "scatterpolar": [
           {
            "marker": {
             "colorbar": {
              "outlinewidth": 0,
              "ticks": ""
             }
            },
            "type": "scatterpolar"
           }
          ],
          "scatterpolargl": [
           {
            "marker": {
             "colorbar": {
              "outlinewidth": 0,
              "ticks": ""
             }
            },
            "type": "scatterpolargl"
           }
          ],
          "scatterternary": [
           {
            "marker": {
             "colorbar": {
              "outlinewidth": 0,
              "ticks": ""
             }
            },
            "type": "scatterternary"
           }
          ],
          "surface": [
           {
            "colorbar": {
             "outlinewidth": 0,
             "ticks": ""
            },
            "colorscale": [
             [
              0,
              "#0d0887"
             ],
             [
              0.1111111111111111,
              "#46039f"
             ],
             [
              0.2222222222222222,
              "#7201a8"
             ],
             [
              0.3333333333333333,
              "#9c179e"
             ],
             [
              0.4444444444444444,
              "#bd3786"
             ],
             [
              0.5555555555555556,
              "#d8576b"
             ],
             [
              0.6666666666666666,
              "#ed7953"
             ],
             [
              0.7777777777777778,
              "#fb9f3a"
             ],
             [
              0.8888888888888888,
              "#fdca26"
             ],
             [
              1,
              "#f0f921"
             ]
            ],
            "type": "surface"
           }
          ],
          "table": [
           {
            "cells": {
             "fill": {
              "color": "#EBF0F8"
             },
             "line": {
              "color": "white"
             }
            },
            "header": {
             "fill": {
              "color": "#C8D4E3"
             },
             "line": {
              "color": "white"
             }
            },
            "type": "table"
           }
          ]
         },
         "layout": {
          "annotationdefaults": {
           "arrowcolor": "#2a3f5f",
           "arrowhead": 0,
           "arrowwidth": 1
          },
          "autotypenumbers": "strict",
          "coloraxis": {
           "colorbar": {
            "outlinewidth": 0,
            "ticks": ""
           }
          },
          "colorscale": {
           "diverging": [
            [
             0,
             "#8e0152"
            ],
            [
             0.1,
             "#c51b7d"
            ],
            [
             0.2,
             "#de77ae"
            ],
            [
             0.3,
             "#f1b6da"
            ],
            [
             0.4,
             "#fde0ef"
            ],
            [
             0.5,
             "#f7f7f7"
            ],
            [
             0.6,
             "#e6f5d0"
            ],
            [
             0.7,
             "#b8e186"
            ],
            [
             0.8,
             "#7fbc41"
            ],
            [
             0.9,
             "#4d9221"
            ],
            [
             1,
             "#276419"
            ]
           ],
           "sequential": [
            [
             0,
             "#0d0887"
            ],
            [
             0.1111111111111111,
             "#46039f"
            ],
            [
             0.2222222222222222,
             "#7201a8"
            ],
            [
             0.3333333333333333,
             "#9c179e"
            ],
            [
             0.4444444444444444,
             "#bd3786"
            ],
            [
             0.5555555555555556,
             "#d8576b"
            ],
            [
             0.6666666666666666,
             "#ed7953"
            ],
            [
             0.7777777777777778,
             "#fb9f3a"
            ],
            [
             0.8888888888888888,
             "#fdca26"
            ],
            [
             1,
             "#f0f921"
            ]
           ],
           "sequentialminus": [
            [
             0,
             "#0d0887"
            ],
            [
             0.1111111111111111,
             "#46039f"
            ],
            [
             0.2222222222222222,
             "#7201a8"
            ],
            [
             0.3333333333333333,
             "#9c179e"
            ],
            [
             0.4444444444444444,
             "#bd3786"
            ],
            [
             0.5555555555555556,
             "#d8576b"
            ],
            [
             0.6666666666666666,
             "#ed7953"
            ],
            [
             0.7777777777777778,
             "#fb9f3a"
            ],
            [
             0.8888888888888888,
             "#fdca26"
            ],
            [
             1,
             "#f0f921"
            ]
           ]
          },
          "colorway": [
           "#636efa",
           "#EF553B",
           "#00cc96",
           "#ab63fa",
           "#FFA15A",
           "#19d3f3",
           "#FF6692",
           "#B6E880",
           "#FF97FF",
           "#FECB52"
          ],
          "font": {
           "color": "#2a3f5f"
          },
          "geo": {
           "bgcolor": "white",
           "lakecolor": "white",
           "landcolor": "white",
           "showlakes": true,
           "showland": true,
           "subunitcolor": "#C8D4E3"
          },
          "hoverlabel": {
           "align": "left"
          },
          "hovermode": "closest",
          "mapbox": {
           "style": "light"
          },
          "paper_bgcolor": "white",
          "plot_bgcolor": "white",
          "polar": {
           "angularaxis": {
            "gridcolor": "#EBF0F8",
            "linecolor": "#EBF0F8",
            "ticks": ""
           },
           "bgcolor": "white",
           "radialaxis": {
            "gridcolor": "#EBF0F8",
            "linecolor": "#EBF0F8",
            "ticks": ""
           }
          },
          "scene": {
           "xaxis": {
            "backgroundcolor": "white",
            "gridcolor": "#DFE8F3",
            "gridwidth": 2,
            "linecolor": "#EBF0F8",
            "showbackground": true,
            "ticks": "",
            "zerolinecolor": "#EBF0F8"
           },
           "yaxis": {
            "backgroundcolor": "white",
            "gridcolor": "#DFE8F3",
            "gridwidth": 2,
            "linecolor": "#EBF0F8",
            "showbackground": true,
            "ticks": "",
            "zerolinecolor": "#EBF0F8"
           },
           "zaxis": {
            "backgroundcolor": "white",
            "gridcolor": "#DFE8F3",
            "gridwidth": 2,
            "linecolor": "#EBF0F8",
            "showbackground": true,
            "ticks": "",
            "zerolinecolor": "#EBF0F8"
           }
          },
          "shapedefaults": {
           "line": {
            "color": "#2a3f5f"
           }
          },
          "ternary": {
           "aaxis": {
            "gridcolor": "#DFE8F3",
            "linecolor": "#A2B1C6",
            "ticks": ""
           },
           "baxis": {
            "gridcolor": "#DFE8F3",
            "linecolor": "#A2B1C6",
            "ticks": ""
           },
           "bgcolor": "white",
           "caxis": {
            "gridcolor": "#DFE8F3",
            "linecolor": "#A2B1C6",
            "ticks": ""
           }
          },
          "title": {
           "x": 0.05
          },
          "xaxis": {
           "automargin": true,
           "gridcolor": "#EBF0F8",
           "linecolor": "#EBF0F8",
           "ticks": "",
           "title": {
            "standoff": 15
           },
           "zerolinecolor": "#EBF0F8",
           "zerolinewidth": 2
          },
          "yaxis": {
           "automargin": true,
           "gridcolor": "#EBF0F8",
           "linecolor": "#EBF0F8",
           "ticks": "",
           "title": {
            "standoff": 15
           },
           "zerolinecolor": "#EBF0F8",
           "zerolinewidth": 2
          }
         }
        },
        "title": {
         "text": "Position-aware TS \u2014 Round 1 vs Round 100"
        },
        "xaxis": {
         "anchor": "y",
         "domain": [
          0,
          1
         ],
         "tickmode": "array",
         "ticktext": [
          "0",
          "1",
          "2",
          "3",
          "4",
          "5",
          "6",
          "7",
          "8",
          "9",
          "10",
          "11",
          "12",
          "13",
          "14",
          "15",
          "16",
          "17",
          "18",
          "19",
          "20",
          "21",
          "22",
          "23",
          "24",
          "25",
          "26",
          "27",
          "28",
          "29",
          "30",
          "31",
          "32",
          "33",
          "34",
          "35",
          "36",
          "37",
          "38",
          "39",
          "40",
          "41",
          "42",
          "43",
          "44",
          "45",
          "46",
          "47",
          "48",
          "49",
          "50",
          "51",
          "52",
          "53",
          "54",
          "55",
          "56",
          "57",
          "58",
          "59",
          "60",
          "61",
          "62",
          "63",
          "64",
          "65",
          "66",
          "67",
          "68",
          "69",
          "70",
          "71",
          "72",
          "73",
          "74",
          "75",
          "76",
          "77",
          "78",
          "79"
         ],
         "tickvals": {
          "bdata": "AAECAwQFBgcICQoLDA0ODxAREhMUFRYXGBkaGxwdHh8gISIjJCUmJygpKissLS4vMDEyMzQ1Njc4OTo7PD0+P0BBQkNERUZHSElKS0xNTk8=",
          "dtype": "i1"
         },
         "title": {
          "text": ""
         }
        },
        "xaxis2": {
         "anchor": "y2",
         "domain": [
          0,
          1
         ],
         "tickmode": "array",
         "ticktext": [
          "0",
          "1",
          "2",
          "3",
          "4",
          "5",
          "6",
          "7",
          "8",
          "9",
          "10",
          "11",
          "12",
          "13",
          "14",
          "15",
          "16",
          "17",
          "18",
          "19",
          "20",
          "21",
          "22",
          "23",
          "24",
          "25",
          "26",
          "27",
          "28",
          "29",
          "30",
          "31",
          "32",
          "33",
          "34",
          "35",
          "36",
          "37",
          "38",
          "39",
          "40",
          "41",
          "42",
          "43",
          "44",
          "45",
          "46",
          "47",
          "48",
          "49",
          "50",
          "51",
          "52",
          "53",
          "54",
          "55",
          "56",
          "57",
          "58",
          "59",
          "60",
          "61",
          "62",
          "63",
          "64",
          "65",
          "66",
          "67",
          "68",
          "69",
          "70",
          "71",
          "72",
          "73",
          "74",
          "75",
          "76",
          "77",
          "78",
          "79"
         ],
         "tickvals": {
          "bdata": "AAECAwQFBgcICQoLDA0ODxAREhMUFRYXGBkaGxwdHh8gISIjJCUmJygpKissLS4vMDEyMzQ1Njc4OTo7PD0+P0BBQkNERUZHSElKS0xNTk8=",
          "dtype": "i1"
         },
         "title": {
          "text": ""
         }
        },
        "xaxis3": {
         "anchor": "y3",
         "domain": [
          0,
          1
         ],
         "tickmode": "array",
         "ticktext": [
          "0",
          "1",
          "2",
          "3",
          "4",
          "5",
          "6",
          "7",
          "8",
          "9",
          "10",
          "11",
          "12",
          "13",
          "14",
          "15",
          "16",
          "17",
          "18",
          "19",
          "20",
          "21",
          "22",
          "23",
          "24",
          "25",
          "26",
          "27",
          "28",
          "29",
          "30",
          "31",
          "32",
          "33",
          "34",
          "35",
          "36",
          "37",
          "38",
          "39",
          "40",
          "41",
          "42",
          "43",
          "44",
          "45",
          "46",
          "47",
          "48",
          "49",
          "50",
          "51",
          "52",
          "53",
          "54",
          "55",
          "56",
          "57",
          "58",
          "59",
          "60",
          "61",
          "62",
          "63",
          "64",
          "65",
          "66",
          "67",
          "68",
          "69",
          "70",
          "71",
          "72",
          "73",
          "74",
          "75",
          "76",
          "77",
          "78",
          "79"
         ],
         "tickvals": {
          "bdata": "AAECAwQFBgcICQoLDA0ODxAREhMUFRYXGBkaGxwdHh8gISIjJCUmJygpKissLS4vMDEyMzQ1Njc4OTo7PD0+P0BBQkNERUZHSElKS0xNTk8=",
          "dtype": "i1"
         },
         "title": {
          "text": "Action ID (0\u201379)"
         }
        },
        "yaxis": {
         "anchor": "x",
         "domain": [
          0.72,
          1
         ],
         "range": [
          0,
          0.049874999999999996
         ],
         "title": {
          "text": "P(select)"
         }
        },
        "yaxis2": {
         "anchor": "x2",
         "domain": [
          0.36,
          0.6399999999999999
         ],
         "range": [
          0,
          0.062625
         ],
         "title": {
          "text": "P(select)"
         }
        },
        "yaxis3": {
         "anchor": "x3",
         "domain": [
          0,
          0.27999999999999997
         ],
         "range": [
          0,
          0.051125
         ],
         "title": {
          "text": "P(select)"
         }
        }
       }
      }
     },
     "metadata": {},
     "output_type": "display_data"
    }
   ],
   "source": [
    "# --- Position-aware TS over 100 rounds; show Round 1 vs Round 100 ---\n",
    "\n",
    "# fresh tracker\n",
    "tracker = ThompsonSlateTracker(\n",
    "    df=df,\n",
    "    n_actions=bf[\"n_actions\"],\n",
    "    positions=[0, 1, 2],\n",
    "    seed=7,\n",
    "    factorize_by_position=True,   # position-aware\n",
    ")\n",
    "\n",
    "# Round 0 -> Round 1 (exact closed-form is valid, so keep MC off)\n",
    "samp1 = tracker.next_round(random_state=SEED, use_mc_if_needed=False)\n",
    "print(\"Round 1 samples:\\n\", samp1)\n",
    "\n",
    "# Rounds 2..100 (now exact may not apply; allow MC to compute PMFs)\n",
    "# Tip: random_state=None => fresh randomness each round\n",
    "tracker.rollout(\n",
    "    n_rounds=99,                  # advances from current round=1 to round=100\n",
    "    random_state=None,\n",
    "    use_mc_if_needed=True,\n",
    "    n_sim=10_000                  # adjust for speed/variance\n",
    ")\n",
    "\n",
    "# Plot Round 1 vs Round 100 with picks highlighted\n",
    "tracker.plot_compare(\n",
    "    round_a=1,\n",
    "    round_b=100,\n",
    "    title=\"Position-aware TS \u2014 Round 1 vs Round 100\",\n",
    "    show_picks=True\n",
    ")"
   ]
  },
  {
   "cell_type": "code",
   "execution_count": 76,
   "id": "0cba1749",
   "metadata": {},
   "outputs": [],
   "source": [
    "\n",
    "\n",
    "# 1) Get PMFs for specific rounds (e.g., 1 and 100)\n",
    "pmf_round1  = tracker.get_pmf(1)     # dict: key -> np.array(n_actions)\n",
    "pmf_round100 = tracker.get_pmf(100)\n",
    "\n",
    "# Access per position/key\n",
    "p_pos0_r1 = pmf_round1[0]            # numpy vector length = n_actions (if factorized)\n",
    "p_pos1_r100 = pmf_round100[1]\n",
    "\n",
    "# 2) Get the full PMF history as a tidy frame\n",
    "df_pmfs = pmf_history_to_df(tracker)\n",
    "# e.g., compare round 1 vs 100 for position 0\n",
    "df_pmfs[(df_pmfs[\"bandit_key\"] == 0) & (df_pmfs[\"round\"].isin([1, 100]))] \\\n",
    "    .sort_values([\"round\",\"action\"]).head()\n",
    "\n",
    "# 3) Get which samples updated each round\n",
    "df_picks = picks_history_to_df(tracker)\n",
    "df_picks.head()\n",
    "\n",
    "# Option A: bracket indexing (safe for any column name)\n",
    "pmf_wide_r1 = df_pmfs[df_pmfs[\"round\"] == 1].pivot(\n",
    "    index=\"bandit_key\", columns=\"action\", values=\"p_select\"\n",
    ")\n",
    "\n",
    "pmf_wide_r100 = df_pmfs[df_pmfs[\"round\"] == 100].pivot(\n",
    "    index=\"bandit_key\", columns=\"action\", values=\"p_select\"\n",
    ")"
   ]
  },
  {
   "cell_type": "code",
   "execution_count": 70,
   "id": "1113aac0",
   "metadata": {},
   "outputs": [
    {
     "data": {
      "text/html": [
       "<div>\n",
       "<style scoped>\n",
       "    .dataframe tbody tr th:only-of-type {\n",
       "        vertical-align: middle;\n",
       "    }\n",
       "\n",
       "    .dataframe tbody tr th {\n",
       "        vertical-align: top;\n",
       "    }\n",
       "\n",
       "    .dataframe thead th {\n",
       "        text-align: right;\n",
       "    }\n",
       "</style>\n",
       "<table border=\"1\" class=\"dataframe\">\n",
       "  <thead>\n",
       "    <tr style=\"text-align: right;\">\n",
       "      <th></th>\n",
       "      <th>round</th>\n",
       "      <th>bandit_key</th>\n",
       "      <th>position</th>\n",
       "      <th>action</th>\n",
       "      <th>reward</th>\n",
       "      <th>pscore</th>\n",
       "    </tr>\n",
       "  </thead>\n",
       "  <tbody>\n",
       "    <tr>\n",
       "      <th>0</th>\n",
       "      <td>1</td>\n",
       "      <td>0</td>\n",
       "      <td>0</td>\n",
       "      <td>66</td>\n",
       "      <td>0</td>\n",
       "      <td>0.0125</td>\n",
       "    </tr>\n",
       "    <tr>\n",
       "      <th>1</th>\n",
       "      <td>1</td>\n",
       "      <td>1</td>\n",
       "      <td>1</td>\n",
       "      <td>78</td>\n",
       "      <td>0</td>\n",
       "      <td>0.0125</td>\n",
       "    </tr>\n",
       "    <tr>\n",
       "      <th>2</th>\n",
       "      <td>1</td>\n",
       "      <td>2</td>\n",
       "      <td>2</td>\n",
       "      <td>1</td>\n",
       "      <td>0</td>\n",
       "      <td>0.0125</td>\n",
       "    </tr>\n",
       "    <tr>\n",
       "      <th>3</th>\n",
       "      <td>2</td>\n",
       "      <td>0</td>\n",
       "      <td>0</td>\n",
       "      <td>18</td>\n",
       "      <td>0</td>\n",
       "      <td>0.0125</td>\n",
       "    </tr>\n",
       "    <tr>\n",
       "      <th>4</th>\n",
       "      <td>2</td>\n",
       "      <td>1</td>\n",
       "      <td>1</td>\n",
       "      <td>21</td>\n",
       "      <td>0</td>\n",
       "      <td>0.0125</td>\n",
       "    </tr>\n",
       "    <tr>\n",
       "      <th>...</th>\n",
       "      <td>...</td>\n",
       "      <td>...</td>\n",
       "      <td>...</td>\n",
       "      <td>...</td>\n",
       "      <td>...</td>\n",
       "      <td>...</td>\n",
       "    </tr>\n",
       "    <tr>\n",
       "      <th>295</th>\n",
       "      <td>99</td>\n",
       "      <td>1</td>\n",
       "      <td>1</td>\n",
       "      <td>29</td>\n",
       "      <td>0</td>\n",
       "      <td>0.0125</td>\n",
       "    </tr>\n",
       "    <tr>\n",
       "      <th>296</th>\n",
       "      <td>99</td>\n",
       "      <td>2</td>\n",
       "      <td>2</td>\n",
       "      <td>7</td>\n",
       "      <td>0</td>\n",
       "      <td>0.0125</td>\n",
       "    </tr>\n",
       "    <tr>\n",
       "      <th>297</th>\n",
       "      <td>100</td>\n",
       "      <td>0</td>\n",
       "      <td>0</td>\n",
       "      <td>14</td>\n",
       "      <td>0</td>\n",
       "      <td>0.0125</td>\n",
       "    </tr>\n",
       "    <tr>\n",
       "      <th>298</th>\n",
       "      <td>100</td>\n",
       "      <td>1</td>\n",
       "      <td>1</td>\n",
       "      <td>25</td>\n",
       "      <td>0</td>\n",
       "      <td>0.0125</td>\n",
       "    </tr>\n",
       "    <tr>\n",
       "      <th>299</th>\n",
       "      <td>100</td>\n",
       "      <td>2</td>\n",
       "      <td>2</td>\n",
       "      <td>79</td>\n",
       "      <td>0</td>\n",
       "      <td>0.0125</td>\n",
       "    </tr>\n",
       "  </tbody>\n",
       "</table>\n",
       "<p>300 rows \u00d7 6 columns</p>\n",
       "</div>"
      ],
      "text/plain": [
       "     round  bandit_key  position  action  reward  pscore\n",
       "0        1           0         0      66       0  0.0125\n",
       "1        1           1         1      78       0  0.0125\n",
       "2        1           2         2       1       0  0.0125\n",
       "3        2           0         0      18       0  0.0125\n",
       "4        2           1         1      21       0  0.0125\n",
       "..     ...         ...       ...     ...     ...     ...\n",
       "295     99           1         1      29       0  0.0125\n",
       "296     99           2         2       7       0  0.0125\n",
       "297    100           0         0      14       0  0.0125\n",
       "298    100           1         1      25       0  0.0125\n",
       "299    100           2         2      79       0  0.0125\n",
       "\n",
       "[300 rows x 6 columns]"
      ]
     },
     "execution_count": 70,
     "metadata": {},
     "output_type": "execute_result"
    }
   ],
   "source": [
    "df_picks"
   ]
  },
  {
   "cell_type": "code",
   "execution_count": 43,
   "id": "f5e8287f",
   "metadata": {},
   "outputs": [
    {
     "ename": "SyntaxError",
     "evalue": "'break' outside loop (668683560.py, line 1)",
     "output_type": "error",
     "traceback": [
      "\u001b[0;36m  Cell \u001b[0;32mIn[43], line 1\u001b[0;36m\u001b[0m\n\u001b[0;31m    break\u001b[0m\n\u001b[0m    ^\u001b[0m\n\u001b[0;31mSyntaxError\u001b[0m\u001b[0;31m:\u001b[0m 'break' outside loop\n"
     ]
    }
   ],
   "source": [
    "break"
   ]
  },
  {
   "cell_type": "code",
   "execution_count": 24,
   "id": "d83dc831",
   "metadata": {},
   "outputs": [
    {
     "data": {
      "application/vnd.plotly.v1+json": {
       "config": {
        "plotlyServerURL": "https://plot.ly"
       },
       "data": [
        {
         "marker": {
          "color": "steelblue"
         },
         "name": "Round 0",
         "opacity": 0.6,
         "showlegend": true,
         "type": "bar",
         "x": {
          "bdata": "AAECAwQFBgcICQoLDA0ODxAREhMUFRYXGBkaGxwdHh8gISIjJCUmJygpKissLS4vMDEyMzQ1Njc4OTo7PD0+P0BBQkNERUZHSElKS0xNTk8=",
          "dtype": "i1"
         },
         "xaxis": "x",
         "y": {
          "bdata": "mpmZmZmZiT+amZmZmZmJP5qZmZmZmYk/mpmZmZmZiT+amZmZmZmJP5qZmZmZmYk/mpmZmZmZiT+amZmZmZmJP5qZmZmZmYk/mpmZmZmZiT+amZmZmZmJP5qZmZmZmYk/mpmZmZmZiT+amZmZmZmJP5qZmZmZmYk/mpmZmZmZiT+amZmZmZmJP5qZmZmZmYk/mpmZmZmZiT+amZmZmZmJP5qZmZmZmYk/mpmZmZmZiT+amZmZmZmJP5qZmZmZmYk/mpmZmZmZiT+amZmZmZmJP5qZmZmZmYk/mpmZmZmZiT+amZmZmZmJP5qZmZmZmYk/mpmZmZmZiT+amZmZmZmJP5qZmZmZmYk/mpmZmZmZiT+amZmZmZmJP5qZmZmZmYk/mpmZmZmZiT+amZmZmZmJP5qZmZmZmYk/mpmZmZmZiT+amZmZmZmJP5qZmZmZmYk/mpmZmZmZiT+amZmZmZmJP5qZmZmZmYk/mpmZmZmZiT+amZmZmZmJP5qZmZmZmYk/mpmZmZmZiT+amZmZmZmJP5qZmZmZmYk/mpmZmZmZiT+amZmZmZmJP5qZmZmZmYk/mpmZmZmZiT+amZmZmZmJP5qZmZmZmYk/mpmZmZmZiT+amZmZmZmJP5qZmZmZmYk/mpmZmZmZiT+amZmZmZmJP5qZmZmZmYk/mpmZmZmZiT+amZmZmZmJP5qZmZmZmYk/mpmZmZmZiT+amZmZmZmJP5qZmZmZmYk/mpmZmZmZiT+amZmZmZmJP5qZmZmZmYk/mpmZmZmZiT+amZmZmZmJP5qZmZmZmYk/mpmZmZmZiT+amZmZmZmJP5qZmZmZmYk/mpmZmZmZiT+amZmZmZmJPw==",
          "dtype": "f8"
         },
         "yaxis": "y"
        },
        {
         "marker": {
          "color": "darkorange"
         },
         "name": "Round 1",
         "opacity": 0.85,
         "showlegend": true,
         "type": "bar",
         "x": {
          "bdata": "AAECAwQFBgcICQoLDA0ODxAREhMUFRYXGBkaGxwdHh8gISIjJCUmJygpKissLS4vMDEyMzQ1Njc4OTo7PD0+P0BBQkNERUZHSElKS0xNTk8=",
          "dtype": "i1"
         },
         "xaxis": "x",
         "y": {
          "bdata": "U0lcNoLqiT9TSVw2guqJP1NJXDaC6ok/U0lcNoLqiT9TSVw2guqJP1NJXDaC6ok/U0lcNoLqiT9TSVw2guqJP1NJXDaC6ok/U0lcNoLqiT9TSVw2guqJP1NJXDaC6ok/U0lcNoLqiT9TSVw2guqJP1NJXDaC6ok/U0lcNoLqiT9TSVw2guqJP03uqzAnOjQ/U0lcNoLqiT9TSVw2guqJP1NJXDaC6ok/U0lcNoLqiT9TSVw2guqJP1NJXDaC6ok/U0lcNoLqiT9TSVw2guqJP1NJXDaC6ok/U0lcNoLqiT9TSVw2guqJP1NJXDaC6ok/U0lcNoLqiT9TSVw2guqJP1NJXDaC6ok/U0lcNoLqiT9TSVw2guqJP1NJXDaC6ok/U0lcNoLqiT9TSVw2guqJP1NJXDaC6ok/U0lcNoLqiT9TSVw2guqJP1NJXDaC6ok/U0lcNoLqiT9TSVw2guqJP1NJXDaC6ok/U0lcNoLqiT9TSVw2guqJP1NJXDaC6ok/U0lcNoLqiT9TSVw2guqJP1NJXDaC6ok/U0lcNoLqiT9TSVw2guqJP1NJXDaC6ok/U0lcNoLqiT9TSVw2guqJP1NJXDaC6ok/U0lcNoLqiT9TSVw2guqJP1NJXDaC6ok/U0lcNoLqiT9TSVw2guqJP1NJXDaC6ok/U0lcNoLqiT9TSVw2guqJP1NJXDaC6ok/U0lcNoLqiT9TSVw2guqJP1NJXDaC6ok/U0lcNoLqiT9TSVw2guqJP1NJXDaC6ok/U0lcNoLqiT9TSVw2guqJP1NJXDaC6ok/U0lcNoLqiT9TSVw2guqJP1NJXDaC6ok/U0lcNoLqiT9TSVw2guqJPw==",
          "dtype": "f8"
         },
         "yaxis": "y"
        },
        {
         "hovertemplate": "Round 1<br>Bandit: all<br>Action: %{x}<br>P: %{y:.6f}<br>Reward: 0<extra></extra>",
         "marker": {
          "color": "forestgreen",
          "size": 11,
          "symbol": "diamond"
         },
         "mode": "markers",
         "name": "Picked (r=1)",
         "showlegend": true,
         "type": "scatter",
         "x": [
          17
         ],
         "xaxis": "x",
         "y": [
          0.00030864197530864197
         ],
         "yaxis": "y"
        }
       ],
       "layout": {
        "annotations": [
         {
          "font": {
           "size": 16
          },
          "showarrow": false,
          "text": "Vanilla TS",
          "x": 0.5,
          "xanchor": "center",
          "xref": "paper",
          "y": 1,
          "yanchor": "bottom",
          "yref": "paper"
         }
        ],
        "bargap": 0.15,
        "barmode": "group",
        "height": 450,
        "template": {
         "data": {
          "bar": [
           {
            "error_x": {
             "color": "#2a3f5f"
            },
            "error_y": {
             "color": "#2a3f5f"
            },
            "marker": {
             "line": {
              "color": "white",
              "width": 0.5
             },
             "pattern": {
              "fillmode": "overlay",
              "size": 10,
              "solidity": 0.2
             }
            },
            "type": "bar"
           }
          ],
          "barpolar": [
           {
            "marker": {
             "line": {
              "color": "white",
              "width": 0.5
             },
             "pattern": {
              "fillmode": "overlay",
              "size": 10,
              "solidity": 0.2
             }
            },
            "type": "barpolar"
           }
          ],
          "carpet": [
           {
            "aaxis": {
             "endlinecolor": "#2a3f5f",
             "gridcolor": "#C8D4E3",
             "linecolor": "#C8D4E3",
             "minorgridcolor": "#C8D4E3",
             "startlinecolor": "#2a3f5f"
            },
            "baxis": {
             "endlinecolor": "#2a3f5f",
             "gridcolor": "#C8D4E3",
             "linecolor": "#C8D4E3",
             "minorgridcolor": "#C8D4E3",
             "startlinecolor": "#2a3f5f"
            },
            "type": "carpet"
           }
          ],
          "choropleth": [
           {
            "colorbar": {
             "outlinewidth": 0,
             "ticks": ""
            },
            "type": "choropleth"
           }
          ],
          "contour": [
           {
            "colorbar": {
             "outlinewidth": 0,
             "ticks": ""
            },
            "colorscale": [
             [
              0,
              "#0d0887"
             ],
             [
              0.1111111111111111,
              "#46039f"
             ],
             [
              0.2222222222222222,
              "#7201a8"
             ],
             [
              0.3333333333333333,
              "#9c179e"
             ],
             [
              0.4444444444444444,
              "#bd3786"
             ],
             [
              0.5555555555555556,
              "#d8576b"
             ],
             [
              0.6666666666666666,
              "#ed7953"
             ],
             [
              0.7777777777777778,
              "#fb9f3a"
             ],
             [
              0.8888888888888888,
              "#fdca26"
             ],
             [
              1,
              "#f0f921"
             ]
            ],
            "type": "contour"
           }
          ],
          "contourcarpet": [
           {
            "colorbar": {
             "outlinewidth": 0,
             "ticks": ""
            },
            "type": "contourcarpet"
           }
          ],
          "heatmap": [
           {
            "colorbar": {
             "outlinewidth": 0,
             "ticks": ""
            },
            "colorscale": [
             [
              0,
              "#0d0887"
             ],
             [
              0.1111111111111111,
              "#46039f"
             ],
             [
              0.2222222222222222,
              "#7201a8"
             ],
             [
              0.3333333333333333,
              "#9c179e"
             ],
             [
              0.4444444444444444,
              "#bd3786"
             ],
             [
              0.5555555555555556,
              "#d8576b"
             ],
             [
              0.6666666666666666,
              "#ed7953"
             ],
             [
              0.7777777777777778,
              "#fb9f3a"
             ],
             [
              0.8888888888888888,
              "#fdca26"
             ],
             [
              1,
              "#f0f921"
             ]
            ],
            "type": "heatmap"
           }
          ],
          "histogram": [
           {
            "marker": {
             "pattern": {
              "fillmode": "overlay",
              "size": 10,
              "solidity": 0.2
             }
            },
            "type": "histogram"
           }
          ],
          "histogram2d": [
           {
            "colorbar": {
             "outlinewidth": 0,
             "ticks": ""
            },
            "colorscale": [
             [
              0,
              "#0d0887"
             ],
             [
              0.1111111111111111,
              "#46039f"
             ],
             [
              0.2222222222222222,
              "#7201a8"
             ],
             [
              0.3333333333333333,
              "#9c179e"
             ],
             [
              0.4444444444444444,
              "#bd3786"
             ],
             [
              0.5555555555555556,
              "#d8576b"
             ],
             [
              0.6666666666666666,
              "#ed7953"
             ],
             [
              0.7777777777777778,
              "#fb9f3a"
             ],
             [
              0.8888888888888888,
              "#fdca26"
             ],
             [
              1,
              "#f0f921"
             ]
            ],
            "type": "histogram2d"
           }
          ],
          "histogram2dcontour": [
           {
            "colorbar": {
             "outlinewidth": 0,
             "ticks": ""
            },
            "colorscale": [
             [
              0,
              "#0d0887"
             ],
             [
              0.1111111111111111,
              "#46039f"
             ],
             [
              0.2222222222222222,
              "#7201a8"
             ],
             [
              0.3333333333333333,
              "#9c179e"
             ],
             [
              0.4444444444444444,
              "#bd3786"
             ],
             [
              0.5555555555555556,
              "#d8576b"
             ],
             [
              0.6666666666666666,
              "#ed7953"
             ],
             [
              0.7777777777777778,
              "#fb9f3a"
             ],
             [
              0.8888888888888888,
              "#fdca26"
             ],
             [
              1,
              "#f0f921"
             ]
            ],
            "type": "histogram2dcontour"
           }
          ],
          "mesh3d": [
           {
            "colorbar": {
             "outlinewidth": 0,
             "ticks": ""
            },
            "type": "mesh3d"
           }
          ],
          "parcoords": [
           {
            "line": {
             "colorbar": {
              "outlinewidth": 0,
              "ticks": ""
             }
            },
            "type": "parcoords"
           }
          ],
          "pie": [
           {
            "automargin": true,
            "type": "pie"
           }
          ],
          "scatter": [
           {
            "fillpattern": {
             "fillmode": "overlay",
             "size": 10,
             "solidity": 0.2
            },
            "type": "scatter"
           }
          ],
          "scatter3d": [
           {
            "line": {
             "colorbar": {
              "outlinewidth": 0,
              "ticks": ""
             }
            },
            "marker": {
             "colorbar": {
              "outlinewidth": 0,
              "ticks": ""
             }
            },
            "type": "scatter3d"
           }
          ],
          "scattercarpet": [
           {
            "marker": {
             "colorbar": {
              "outlinewidth": 0,
              "ticks": ""
             }
            },
            "type": "scattercarpet"
           }
          ],
          "scattergeo": [
           {
            "marker": {
             "colorbar": {
              "outlinewidth": 0,
              "ticks": ""
             }
            },
            "type": "scattergeo"
           }
          ],
          "scattergl": [
           {
            "marker": {
             "colorbar": {
              "outlinewidth": 0,
              "ticks": ""
             }
            },
            "type": "scattergl"
           }
          ],
          "scattermap": [
           {
            "marker": {
             "colorbar": {
              "outlinewidth": 0,
              "ticks": ""
             }
            },
            "type": "scattermap"
           }
          ],
          "scattermapbox": [
           {
            "marker": {
             "colorbar": {
              "outlinewidth": 0,
              "ticks": ""
             }
            },
            "type": "scattermapbox"
           }
          ],
          "scatterpolar": [
           {
            "marker": {
             "colorbar": {
              "outlinewidth": 0,
              "ticks": ""
             }
            },
            "type": "scatterpolar"
           }
          ],
          "scatterpolargl": [
           {
            "marker": {
             "colorbar": {
              "outlinewidth": 0,
              "ticks": ""
             }
            },
            "type": "scatterpolargl"
           }
          ],
          "scatterternary": [
           {
            "marker": {
             "colorbar": {
              "outlinewidth": 0,
              "ticks": ""
             }
            },
            "type": "scatterternary"
           }
          ],
          "surface": [
           {
            "colorbar": {
             "outlinewidth": 0,
             "ticks": ""
            },
            "colorscale": [
             [
              0,
              "#0d0887"
             ],
             [
              0.1111111111111111,
              "#46039f"
             ],
             [
              0.2222222222222222,
              "#7201a8"
             ],
             [
              0.3333333333333333,
              "#9c179e"
             ],
             [
              0.4444444444444444,
              "#bd3786"
             ],
             [
              0.5555555555555556,
              "#d8576b"
             ],
             [
              0.6666666666666666,
              "#ed7953"
             ],
             [
              0.7777777777777778,
              "#fb9f3a"
             ],
             [
              0.8888888888888888,
              "#fdca26"
             ],
             [
              1,
              "#f0f921"
             ]
            ],
            "type": "surface"
           }
          ],
          "table": [
           {
            "cells": {
             "fill": {
              "color": "#EBF0F8"
             },
             "line": {
              "color": "white"
             }
            },
            "header": {
             "fill": {
              "color": "#C8D4E3"
             },
             "line": {
              "color": "white"
             }
            },
            "type": "table"
           }
          ]
         },
         "layout": {
          "annotationdefaults": {
           "arrowcolor": "#2a3f5f",
           "arrowhead": 0,
           "arrowwidth": 1
          },
          "autotypenumbers": "strict",
          "coloraxis": {
           "colorbar": {
            "outlinewidth": 0,
            "ticks": ""
           }
          },
          "colorscale": {
           "diverging": [
            [
             0,
             "#8e0152"
            ],
            [
             0.1,
             "#c51b7d"
            ],
            [
             0.2,
             "#de77ae"
            ],
            [
             0.3,
             "#f1b6da"
            ],
            [
             0.4,
             "#fde0ef"
            ],
            [
             0.5,
             "#f7f7f7"
            ],
            [
             0.6,
             "#e6f5d0"
            ],
            [
             0.7,
             "#b8e186"
            ],
            [
             0.8,
             "#7fbc41"
            ],
            [
             0.9,
             "#4d9221"
            ],
            [
             1,
             "#276419"
            ]
           ],
           "sequential": [
            [
             0,
             "#0d0887"
            ],
            [
             0.1111111111111111,
             "#46039f"
            ],
            [
             0.2222222222222222,
             "#7201a8"
            ],
            [
             0.3333333333333333,
             "#9c179e"
            ],
            [
             0.4444444444444444,
             "#bd3786"
            ],
            [
             0.5555555555555556,
             "#d8576b"
            ],
            [
             0.6666666666666666,
             "#ed7953"
            ],
            [
             0.7777777777777778,
             "#fb9f3a"
            ],
            [
             0.8888888888888888,
             "#fdca26"
            ],
            [
             1,
             "#f0f921"
            ]
           ],
           "sequentialminus": [
            [
             0,
             "#0d0887"
            ],
            [
             0.1111111111111111,
             "#46039f"
            ],
            [
             0.2222222222222222,
             "#7201a8"
            ],
            [
             0.3333333333333333,
             "#9c179e"
            ],
            [
             0.4444444444444444,
             "#bd3786"
            ],
            [
             0.5555555555555556,
             "#d8576b"
            ],
            [
             0.6666666666666666,
             "#ed7953"
            ],
            [
             0.7777777777777778,
             "#fb9f3a"
            ],
            [
             0.8888888888888888,
             "#fdca26"
            ],
            [
             1,
             "#f0f921"
            ]
           ]
          },
          "colorway": [
           "#636efa",
           "#EF553B",
           "#00cc96",
           "#ab63fa",
           "#FFA15A",
           "#19d3f3",
           "#FF6692",
           "#B6E880",
           "#FF97FF",
           "#FECB52"
          ],
          "font": {
           "color": "#2a3f5f"
          },
          "geo": {
           "bgcolor": "white",
           "lakecolor": "white",
           "landcolor": "white",
           "showlakes": true,
           "showland": true,
           "subunitcolor": "#C8D4E3"
          },
          "hoverlabel": {
           "align": "left"
          },
          "hovermode": "closest",
          "mapbox": {
           "style": "light"
          },
          "paper_bgcolor": "white",
          "plot_bgcolor": "white",
          "polar": {
           "angularaxis": {
            "gridcolor": "#EBF0F8",
            "linecolor": "#EBF0F8",
            "ticks": ""
           },
           "bgcolor": "white",
           "radialaxis": {
            "gridcolor": "#EBF0F8",
            "linecolor": "#EBF0F8",
            "ticks": ""
           }
          },
          "scene": {
           "xaxis": {
            "backgroundcolor": "white",
            "gridcolor": "#DFE8F3",
            "gridwidth": 2,
            "linecolor": "#EBF0F8",
            "showbackground": true,
            "ticks": "",
            "zerolinecolor": "#EBF0F8"
           },
           "yaxis": {
            "backgroundcolor": "white",
            "gridcolor": "#DFE8F3",
            "gridwidth": 2,
            "linecolor": "#EBF0F8",
            "showbackground": true,
            "ticks": "",
            "zerolinecolor": "#EBF0F8"
           },
           "zaxis": {
            "backgroundcolor": "white",
            "gridcolor": "#DFE8F3",
            "gridwidth": 2,
            "linecolor": "#EBF0F8",
            "showbackground": true,
            "ticks": "",
            "zerolinecolor": "#EBF0F8"
           }
          },
          "shapedefaults": {
           "line": {
            "color": "#2a3f5f"
           }
          },
          "ternary": {
           "aaxis": {
            "gridcolor": "#DFE8F3",
            "linecolor": "#A2B1C6",
            "ticks": ""
           },
           "baxis": {
            "gridcolor": "#DFE8F3",
            "linecolor": "#A2B1C6",
            "ticks": ""
           },
           "bgcolor": "white",
           "caxis": {
            "gridcolor": "#DFE8F3",
            "linecolor": "#A2B1C6",
            "ticks": ""
           }
          },
          "title": {
           "x": 0.05
          },
          "xaxis": {
           "automargin": true,
           "gridcolor": "#EBF0F8",
           "linecolor": "#EBF0F8",
           "ticks": "",
           "title": {
            "standoff": 15
           },
           "zerolinecolor": "#EBF0F8",
           "zerolinewidth": 2
          },
          "yaxis": {
           "automargin": true,
           "gridcolor": "#EBF0F8",
           "linecolor": "#EBF0F8",
           "ticks": "",
           "title": {
            "standoff": 15
           },
           "zerolinecolor": "#EBF0F8",
           "zerolinewidth": 2
          }
         }
        },
        "title": {
         "text": "Position-aware TS \u2014 Round 0 vs 1"
        },
        "xaxis": {
         "anchor": "y",
         "domain": [
          0,
          1
         ],
         "tickmode": "array",
         "ticktext": [
          "0",
          "1",
          "2",
          "3",
          "4",
          "5",
          "6",
          "7",
          "8",
          "9",
          "10",
          "11",
          "12",
          "13",
          "14",
          "15",
          "16",
          "17",
          "18",
          "19",
          "20",
          "21",
          "22",
          "23",
          "24",
          "25",
          "26",
          "27",
          "28",
          "29",
          "30",
          "31",
          "32",
          "33",
          "34",
          "35",
          "36",
          "37",
          "38",
          "39",
          "40",
          "41",
          "42",
          "43",
          "44",
          "45",
          "46",
          "47",
          "48",
          "49",
          "50",
          "51",
          "52",
          "53",
          "54",
          "55",
          "56",
          "57",
          "58",
          "59",
          "60",
          "61",
          "62",
          "63",
          "64",
          "65",
          "66",
          "67",
          "68",
          "69",
          "70",
          "71",
          "72",
          "73",
          "74",
          "75",
          "76",
          "77",
          "78",
          "79"
         ],
         "tickvals": {
          "bdata": "AAECAwQFBgcICQoLDA0ODxAREhMUFRYXGBkaGxwdHh8gISIjJCUmJygpKissLS4vMDEyMzQ1Njc4OTo7PD0+P0BBQkNERUZHSElKS0xNTk8=",
          "dtype": "i1"
         },
         "title": {
          "text": "Action ID (0\u201379)"
         }
        },
        "yaxis": {
         "anchor": "x",
         "domain": [
          0,
          1
         ],
         "range": [
          0,
          0.015817901234567902
         ],
         "title": {
          "text": "P(select)"
         }
        }
       }
      }
     },
     "metadata": {},
     "output_type": "display_data"
    },
    {
     "data": {
      "application/vnd.plotly.v1+json": {
       "config": {
        "plotlyServerURL": "https://plot.ly"
       },
       "data": [
        {
         "marker": {
          "color": "steelblue"
         },
         "name": "Round 1",
         "opacity": 0.6,
         "showlegend": true,
         "type": "bar",
         "x": {
          "bdata": "AAECAwQFBgcICQoLDA0ODxAREhMUFRYXGBkaGxwdHh8gISIjJCUmJygpKissLS4vMDEyMzQ1Njc4OTo7PD0+P0BBQkNERUZHSElKS0xNTk8=",
          "dtype": "i1"
         },
         "xaxis": "x",
         "y": {
          "bdata": "U0lcNoLqiT9TSVw2guqJP1NJXDaC6ok/U0lcNoLqiT9TSVw2guqJP1NJXDaC6ok/U0lcNoLqiT9TSVw2guqJP1NJXDaC6ok/U0lcNoLqiT9TSVw2guqJP1NJXDaC6ok/U0lcNoLqiT9TSVw2guqJP1NJXDaC6ok/U0lcNoLqiT9TSVw2guqJP03uqzAnOjQ/U0lcNoLqiT9TSVw2guqJP1NJXDaC6ok/U0lcNoLqiT9TSVw2guqJP1NJXDaC6ok/U0lcNoLqiT9TSVw2guqJP1NJXDaC6ok/U0lcNoLqiT9TSVw2guqJP1NJXDaC6ok/U0lcNoLqiT9TSVw2guqJP1NJXDaC6ok/U0lcNoLqiT9TSVw2guqJP1NJXDaC6ok/U0lcNoLqiT9TSVw2guqJP1NJXDaC6ok/U0lcNoLqiT9TSVw2guqJP1NJXDaC6ok/U0lcNoLqiT9TSVw2guqJP1NJXDaC6ok/U0lcNoLqiT9TSVw2guqJP1NJXDaC6ok/U0lcNoLqiT9TSVw2guqJP1NJXDaC6ok/U0lcNoLqiT9TSVw2guqJP1NJXDaC6ok/U0lcNoLqiT9TSVw2guqJP1NJXDaC6ok/U0lcNoLqiT9TSVw2guqJP1NJXDaC6ok/U0lcNoLqiT9TSVw2guqJP1NJXDaC6ok/U0lcNoLqiT9TSVw2guqJP1NJXDaC6ok/U0lcNoLqiT9TSVw2guqJP1NJXDaC6ok/U0lcNoLqiT9TSVw2guqJP1NJXDaC6ok/U0lcNoLqiT9TSVw2guqJP1NJXDaC6ok/U0lcNoLqiT9TSVw2guqJP1NJXDaC6ok/U0lcNoLqiT9TSVw2guqJPw==",
          "dtype": "f8"
         },
         "yaxis": "y"
        },
        {
         "marker": {
          "color": "darkorange"
         },
         "name": "Round 2",
         "opacity": 0.85,
         "showlegend": true,
         "type": "bar",
         "x": {
          "bdata": "AAECAwQFBgcICQoLDA0ODxAREhMUFRYXGBkaGxwdHh8gISIjJCUmJygpKissLS4vMDEyMzQ1Njc4OTo7PD0+P0BBQkNERUZHSElKS0xNTk8=",
          "dtype": "i1"
         },
         "xaxis": "x",
         "y": {
          "bdata": "E2HD0ytliT+mCkYldQKKP4W2nEtxVYk/ptB5jV2iij940VeQZiyKP9AKDFnd6ok/W7bWFwltiT/Q0D/BxYqKP7fu5qkOuYk/wCZr1EM0ij/ymIHK+PeJP+HurN12oYk/LUMc6+I2ij+/YDdsW5SJP9UJaCJseIo/wCZr1EM0ij/2RUJbzqWIP/Fo44i1+PQ+KAr0iTxJij/6RJ4kXTOJPyx96IL6lok/opdRLLe0ij8cmUf+YOCJP/bRqSuf5Yk/6uxkcJS8ij/l7QinBS+KP1+1MuGX+ok/xJlfzQGCiT81tWytLxKKPyTRyyiWW4o/ke18PzVeij/dtYR80LOJP8jShy6ob4k/Y7SOqiaIij/MRXwnZr2IP1t8CoDxDIo/ke18PzVeij8xthDkoISJP7e0GhL3WIo/cJnTZTGxiT/uX1lpUgqKP0GasWg6O4k/GGAfnbryiT857pQO1v+JP1JEhlW8kYk/jXqIRncQiz+aJQFqatmKPyy3tBoS94g/0NA/wcWKij/QCgxZ3eqJPw/uztptF4o/gUOoUrMHij8cX3tmSYCKP0qYaftXVoo/X+/+eK9aiT8L73IR34mJP+2ZJQFqaok/9pfdk4eFij+z74rgfyuJP5EnSddMvok/Yygn2lVIiT94f7xXrUyIP3jRV5BmLIo/Eyf3OxQFij81tWytLxKKP8Ama9RDNIo/+tAF9S1zij900vvG156JP2fttgvNdYo/s3vysFBrij9nJ4Oj5NWJP3TS+8bXnok/eAskKH6MiT8LtaZ5xymKP+2ZJQFqaok/D+7O2m0Xij/ZQpCDEmaKP/uWOV0WE4s/a2CrBIvDiT90DMhe7/6IPw==",
          "dtype": "f8"
         },
         "yaxis": "y"
        },
        {
         "hovertemplate": "Round 1<br>Bandit: all<br>Action: %{x}<br>P: %{y:.6f}<br>Reward: 0<extra></extra>",
         "marker": {
          "color": "crimson",
          "size": 12,
          "symbol": "triangle-up"
         },
         "mode": "markers",
         "name": "Picked (r=1)",
         "showlegend": true,
         "type": "scatter",
         "x": [
          17
         ],
         "xaxis": "x",
         "y": [
          0.00030864197530864197
         ],
         "yaxis": "y"
        },
        {
         "hovertemplate": "Round 2<br>Bandit: all<br>Action: %{x}<br>P: %{y:.6f}<br>Reward: 0<extra></extra>",
         "marker": {
          "color": "forestgreen",
          "size": 11,
          "symbol": "diamond"
         },
         "mode": "markers",
         "name": "Picked (r=2)",
         "showlegend": true,
         "type": "scatter",
         "x": [
          17
         ],
         "xaxis": "x",
         "y": [
          2e-05
         ],
         "yaxis": "y"
        }
       ],
       "layout": {
        "annotations": [
         {
          "font": {
           "size": 16
          },
          "showarrow": false,
          "text": "Vanilla TS",
          "x": 0.5,
          "xanchor": "center",
          "xref": "paper",
          "y": 1,
          "yanchor": "bottom",
          "yref": "paper"
         }
        ],
        "bargap": 0.15,
        "barmode": "group",
        "height": 450,
        "template": {
         "data": {
          "bar": [
           {
            "error_x": {
             "color": "#2a3f5f"
            },
            "error_y": {
             "color": "#2a3f5f"
            },
            "marker": {
             "line": {
              "color": "white",
              "width": 0.5
             },
             "pattern": {
              "fillmode": "overlay",
              "size": 10,
              "solidity": 0.2
             }
            },
            "type": "bar"
           }
          ],
          "barpolar": [
           {
            "marker": {
             "line": {
              "color": "white",
              "width": 0.5
             },
             "pattern": {
              "fillmode": "overlay",
              "size": 10,
              "solidity": 0.2
             }
            },
            "type": "barpolar"
           }
          ],
          "carpet": [
           {
            "aaxis": {
             "endlinecolor": "#2a3f5f",
             "gridcolor": "#C8D4E3",
             "linecolor": "#C8D4E3",
             "minorgridcolor": "#C8D4E3",
             "startlinecolor": "#2a3f5f"
            },
            "baxis": {
             "endlinecolor": "#2a3f5f",
             "gridcolor": "#C8D4E3",
             "linecolor": "#C8D4E3",
             "minorgridcolor": "#C8D4E3",
             "startlinecolor": "#2a3f5f"
            },
            "type": "carpet"
           }
          ],
          "choropleth": [
           {
            "colorbar": {
             "outlinewidth": 0,
             "ticks": ""
            },
            "type": "choropleth"
           }
          ],
          "contour": [
           {
            "colorbar": {
             "outlinewidth": 0,
             "ticks": ""
            },
            "colorscale": [
             [
              0,
              "#0d0887"
             ],
             [
              0.1111111111111111,
              "#46039f"
             ],
             [
              0.2222222222222222,
              "#7201a8"
             ],
             [
              0.3333333333333333,
              "#9c179e"
             ],
             [
              0.4444444444444444,
              "#bd3786"
             ],
             [
              0.5555555555555556,
              "#d8576b"
             ],
             [
              0.6666666666666666,
              "#ed7953"
             ],
             [
              0.7777777777777778,
              "#fb9f3a"
             ],
             [
              0.8888888888888888,
              "#fdca26"
             ],
             [
              1,
              "#f0f921"
             ]
            ],
            "type": "contour"
           }
          ],
          "contourcarpet": [
           {
            "colorbar": {
             "outlinewidth": 0,
             "ticks": ""
            },
            "type": "contourcarpet"
           }
          ],
          "heatmap": [
           {
            "colorbar": {
             "outlinewidth": 0,
             "ticks": ""
            },
            "colorscale": [
             [
              0,
              "#0d0887"
             ],
             [
              0.1111111111111111,
              "#46039f"
             ],
             [
              0.2222222222222222,
              "#7201a8"
             ],
             [
              0.3333333333333333,
              "#9c179e"
             ],
             [
              0.4444444444444444,
              "#bd3786"
             ],
             [
              0.5555555555555556,
              "#d8576b"
             ],
             [
              0.6666666666666666,
              "#ed7953"
             ],
             [
              0.7777777777777778,
              "#fb9f3a"
             ],
             [
              0.8888888888888888,
              "#fdca26"
             ],
             [
              1,
              "#f0f921"
             ]
            ],
            "type": "heatmap"
           }
          ],
          "histogram": [
           {
            "marker": {
             "pattern": {
              "fillmode": "overlay",
              "size": 10,
              "solidity": 0.2
             }
            },
            "type": "histogram"
           }
          ],
          "histogram2d": [
           {
            "colorbar": {
             "outlinewidth": 0,
             "ticks": ""
            },
            "colorscale": [
             [
              0,
              "#0d0887"
             ],
             [
              0.1111111111111111,
              "#46039f"
             ],
             [
              0.2222222222222222,
              "#7201a8"
             ],
             [
              0.3333333333333333,
              "#9c179e"
             ],
             [
              0.4444444444444444,
              "#bd3786"
             ],
             [
              0.5555555555555556,
              "#d8576b"
             ],
             [
              0.6666666666666666,
              "#ed7953"
             ],
             [
              0.7777777777777778,
              "#fb9f3a"
             ],
             [
              0.8888888888888888,
              "#fdca26"
             ],
             [
              1,
              "#f0f921"
             ]
            ],
            "type": "histogram2d"
           }
          ],
          "histogram2dcontour": [
           {
            "colorbar": {
             "outlinewidth": 0,
             "ticks": ""
            },
            "colorscale": [
             [
              0,
              "#0d0887"
             ],
             [
              0.1111111111111111,
              "#46039f"
             ],
             [
              0.2222222222222222,
              "#7201a8"
             ],
             [
              0.3333333333333333,
              "#9c179e"
             ],
             [
              0.4444444444444444,
              "#bd3786"
             ],
             [
              0.5555555555555556,
              "#d8576b"
             ],
             [
              0.6666666666666666,
              "#ed7953"
             ],
             [
              0.7777777777777778,
              "#fb9f3a"
             ],
             [
              0.8888888888888888,
              "#fdca26"
             ],
             [
              1,
              "#f0f921"
             ]
            ],
            "type": "histogram2dcontour"
           }
          ],
          "mesh3d": [
           {
            "colorbar": {
             "outlinewidth": 0,
             "ticks": ""
            },
            "type": "mesh3d"
           }
          ],
          "parcoords": [
           {
            "line": {
             "colorbar": {
              "outlinewidth": 0,
              "ticks": ""
             }
            },
            "type": "parcoords"
           }
          ],
          "pie": [
           {
            "automargin": true,
            "type": "pie"
           }
          ],
          "scatter": [
           {
            "fillpattern": {
             "fillmode": "overlay",
             "size": 10,
             "solidity": 0.2
            },
            "type": "scatter"
           }
          ],
          "scatter3d": [
           {
            "line": {
             "colorbar": {
              "outlinewidth": 0,
              "ticks": ""
             }
            },
            "marker": {
             "colorbar": {
              "outlinewidth": 0,
              "ticks": ""
             }
            },
            "type": "scatter3d"
           }
          ],
          "scattercarpet": [
           {
            "marker": {
             "colorbar": {
              "outlinewidth": 0,
              "ticks": ""
             }
            },
            "type": "scattercarpet"
           }
          ],
          "scattergeo": [
           {
            "marker": {
             "colorbar": {
              "outlinewidth": 0,
              "ticks": ""
             }
            },
            "type": "scattergeo"
           }
          ],
          "scattergl": [
           {
            "marker": {
             "colorbar": {
              "outlinewidth": 0,
              "ticks": ""
             }
            },
            "type": "scattergl"
           }
          ],
          "scattermap": [
           {
            "marker": {
             "colorbar": {
              "outlinewidth": 0,
              "ticks": ""
             }
            },
            "type": "scattermap"
           }
          ],
          "scattermapbox": [
           {
            "marker": {
             "colorbar": {
              "outlinewidth": 0,
              "ticks": ""
             }
            },
            "type": "scattermapbox"
           }
          ],
          "scatterpolar": [
           {
            "marker": {
             "colorbar": {
              "outlinewidth": 0,
              "ticks": ""
             }
            },
            "type": "scatterpolar"
           }
          ],
          "scatterpolargl": [
           {
            "marker": {
             "colorbar": {
              "outlinewidth": 0,
              "ticks": ""
             }
            },
            "type": "scatterpolargl"
           }
          ],
          "scatterternary": [
           {
            "marker": {
             "colorbar": {
              "outlinewidth": 0,
              "ticks": ""
             }
            },
            "type": "scatterternary"
           }
          ],
          "surface": [
           {
            "colorbar": {
             "outlinewidth": 0,
             "ticks": ""
            },
            "colorscale": [
             [
              0,
              "#0d0887"
             ],
             [
              0.1111111111111111,
              "#46039f"
             ],
             [
              0.2222222222222222,
              "#7201a8"
             ],
             [
              0.3333333333333333,
              "#9c179e"
             ],
             [
              0.4444444444444444,
              "#bd3786"
             ],
             [
              0.5555555555555556,
              "#d8576b"
             ],
             [
              0.6666666666666666,
              "#ed7953"
             ],
             [
              0.7777777777777778,
              "#fb9f3a"
             ],
             [
              0.8888888888888888,
              "#fdca26"
             ],
             [
              1,
              "#f0f921"
             ]
            ],
            "type": "surface"
           }
          ],
          "table": [
           {
            "cells": {
             "fill": {
              "color": "#EBF0F8"
             },
             "line": {
              "color": "white"
             }
            },
            "header": {
             "fill": {
              "color": "#C8D4E3"
             },
             "line": {
              "color": "white"
             }
            },
            "type": "table"
           }
          ]
         },
         "layout": {
          "annotationdefaults": {
           "arrowcolor": "#2a3f5f",
           "arrowhead": 0,
           "arrowwidth": 1
          },
          "autotypenumbers": "strict",
          "coloraxis": {
           "colorbar": {
            "outlinewidth": 0,
            "ticks": ""
           }
          },
          "colorscale": {
           "diverging": [
            [
             0,
             "#8e0152"
            ],
            [
             0.1,
             "#c51b7d"
            ],
            [
             0.2,
             "#de77ae"
            ],
            [
             0.3,
             "#f1b6da"
            ],
            [
             0.4,
             "#fde0ef"
            ],
            [
             0.5,
             "#f7f7f7"
            ],
            [
             0.6,
             "#e6f5d0"
            ],
            [
             0.7,
             "#b8e186"
            ],
            [
             0.8,
             "#7fbc41"
            ],
            [
             0.9,
             "#4d9221"
            ],
            [
             1,
             "#276419"
            ]
           ],
           "sequential": [
            [
             0,
             "#0d0887"
            ],
            [
             0.1111111111111111,
             "#46039f"
            ],
            [
             0.2222222222222222,
             "#7201a8"
            ],
            [
             0.3333333333333333,
             "#9c179e"
            ],
            [
             0.4444444444444444,
             "#bd3786"
            ],
            [
             0.5555555555555556,
             "#d8576b"
            ],
            [
             0.6666666666666666,
             "#ed7953"
            ],
            [
             0.7777777777777778,
             "#fb9f3a"
            ],
            [
             0.8888888888888888,
             "#fdca26"
            ],
            [
             1,
             "#f0f921"
            ]
           ],
           "sequentialminus": [
            [
             0,
             "#0d0887"
            ],
            [
             0.1111111111111111,
             "#46039f"
            ],
            [
             0.2222222222222222,
             "#7201a8"
            ],
            [
             0.3333333333333333,
             "#9c179e"
            ],
            [
             0.4444444444444444,
             "#bd3786"
            ],
            [
             0.5555555555555556,
             "#d8576b"
            ],
            [
             0.6666666666666666,
             "#ed7953"
            ],
            [
             0.7777777777777778,
             "#fb9f3a"
            ],
            [
             0.8888888888888888,
             "#fdca26"
            ],
            [
             1,
             "#f0f921"
            ]
           ]
          },
          "colorway": [
           "#636efa",
           "#EF553B",
           "#00cc96",
           "#ab63fa",
           "#FFA15A",
           "#19d3f3",
           "#FF6692",
           "#B6E880",
           "#FF97FF",
           "#FECB52"
          ],
          "font": {
           "color": "#2a3f5f"
          },
          "geo": {
           "bgcolor": "white",
           "lakecolor": "white",
           "landcolor": "white",
           "showlakes": true,
           "showland": true,
           "subunitcolor": "#C8D4E3"
          },
          "hoverlabel": {
           "align": "left"
          },
          "hovermode": "closest",
          "mapbox": {
           "style": "light"
          },
          "paper_bgcolor": "white",
          "plot_bgcolor": "white",
          "polar": {
           "angularaxis": {
            "gridcolor": "#EBF0F8",
            "linecolor": "#EBF0F8",
            "ticks": ""
           },
           "bgcolor": "white",
           "radialaxis": {
            "gridcolor": "#EBF0F8",
            "linecolor": "#EBF0F8",
            "ticks": ""
           }
          },
          "scene": {
           "xaxis": {
            "backgroundcolor": "white",
            "gridcolor": "#DFE8F3",
            "gridwidth": 2,
            "linecolor": "#EBF0F8",
            "showbackground": true,
            "ticks": "",
            "zerolinecolor": "#EBF0F8"
           },
           "yaxis": {
            "backgroundcolor": "white",
            "gridcolor": "#DFE8F3",
            "gridwidth": 2,
            "linecolor": "#EBF0F8",
            "showbackground": true,
            "ticks": "",
            "zerolinecolor": "#EBF0F8"
           },
           "zaxis": {
            "backgroundcolor": "white",
            "gridcolor": "#DFE8F3",
            "gridwidth": 2,
            "linecolor": "#EBF0F8",
            "showbackground": true,
            "ticks": "",
            "zerolinecolor": "#EBF0F8"
           }
          },
          "shapedefaults": {
           "line": {
            "color": "#2a3f5f"
           }
          },
          "ternary": {
           "aaxis": {
            "gridcolor": "#DFE8F3",
            "linecolor": "#A2B1C6",
            "ticks": ""
           },
           "baxis": {
            "gridcolor": "#DFE8F3",
            "linecolor": "#A2B1C6",
            "ticks": ""
           },
           "bgcolor": "white",
           "caxis": {
            "gridcolor": "#DFE8F3",
            "linecolor": "#A2B1C6",
            "ticks": ""
           }
          },
          "title": {
           "x": 0.05
          },
          "xaxis": {
           "automargin": true,
           "gridcolor": "#EBF0F8",
           "linecolor": "#EBF0F8",
           "ticks": "",
           "title": {
            "standoff": 15
           },
           "zerolinecolor": "#EBF0F8",
           "zerolinewidth": 2
          },
          "yaxis": {
           "automargin": true,
           "gridcolor": "#EBF0F8",
           "linecolor": "#EBF0F8",
           "ticks": "",
           "title": {
            "standoff": 15
           },
           "zerolinecolor": "#EBF0F8",
           "zerolinewidth": 2
          }
         }
        },
        "title": {
         "text": "Position-aware TS \u2014 Round 1 vs 2"
        },
        "xaxis": {
         "anchor": "y",
         "domain": [
          0,
          1
         ],
         "tickmode": "array",
         "ticktext": [
          "0",
          "1",
          "2",
          "3",
          "4",
          "5",
          "6",
          "7",
          "8",
          "9",
          "10",
          "11",
          "12",
          "13",
          "14",
          "15",
          "16",
          "17",
          "18",
          "19",
          "20",
          "21",
          "22",
          "23",
          "24",
          "25",
          "26",
          "27",
          "28",
          "29",
          "30",
          "31",
          "32",
          "33",
          "34",
          "35",
          "36",
          "37",
          "38",
          "39",
          "40",
          "41",
          "42",
          "43",
          "44",
          "45",
          "46",
          "47",
          "48",
          "49",
          "50",
          "51",
          "52",
          "53",
          "54",
          "55",
          "56",
          "57",
          "58",
          "59",
          "60",
          "61",
          "62",
          "63",
          "64",
          "65",
          "66",
          "67",
          "68",
          "69",
          "70",
          "71",
          "72",
          "73",
          "74",
          "75",
          "76",
          "77",
          "78",
          "79"
         ],
         "tickvals": {
          "bdata": "AAECAwQFBgcICQoLDA0ODxAREhMUFRYXGBkaGxwdHh8gISIjJCUmJygpKissLS4vMDEyMzQ1Njc4OTo7PD0+P0BBQkNERUZHSElKS0xNTk8=",
          "dtype": "i1"
         },
         "title": {
          "text": "Action ID (0\u201379)"
         }
        },
        "yaxis": {
         "anchor": "x",
         "domain": [
          0,
          1
         ],
         "range": [
          0,
          0.016525
         ],
         "title": {
          "text": "P(select)"
         }
        }
       }
      }
     },
     "metadata": {},
     "output_type": "display_data"
    }
   ],
   "source": [
    "tracker = ThompsonSlateTracker(\n",
    "    df=df, n_actions=bf[\"n_actions\"], positions=[0,1,2],\n",
    "    seed=7, factorize_by_position=False\n",
    ")\n",
    "\n",
    "samp1 = tracker.next_round(random_state=7, use_mc_if_needed=False)\n",
    "tracker.plot_compare(0, 1, title=\"Position-aware TS \u2014 Round 0 vs 1\", show_picks=True)\n",
    "\n",
    "samp2 = tracker.next_round(random_state=7, use_mc_if_needed=True)\n",
    "tracker.plot_compare(1, 2, title=\"Position-aware TS \u2014 Round 1 vs 2\", show_picks=True)"
   ]
  },
  {
   "cell_type": "code",
   "execution_count": 8,
   "id": "3110cffa",
   "metadata": {},
   "outputs": [
    {
     "data": {
      "application/vnd.plotly.v1+json": {
       "config": {
        "plotlyServerURL": "https://plot.ly"
       },
       "data": [
        {
         "marker": {
          "color": "steelblue"
         },
         "name": "Round 0",
         "opacity": 0.6,
         "showlegend": true,
         "type": "bar",
         "x": {
          "bdata": "AAECAwQFBgcICQoLDA0ODxAREhMUFRYXGBkaGxwdHh8gISIjJCUmJygpKissLS4vMDEyMzQ1Njc4OTo7PD0+P0BBQkNERUZHSElKS0xNTk8=",
          "dtype": "i1"
         },
         "xaxis": "x",
         "y": {
          "bdata": "mpmZmZmZiT+amZmZmZmJP5qZmZmZmYk/mpmZmZmZiT+amZmZmZmJP5qZmZmZmYk/mpmZmZmZiT+amZmZmZmJP5qZmZmZmYk/mpmZmZmZiT+amZmZmZmJP5qZmZmZmYk/mpmZmZmZiT+amZmZmZmJP5qZmZmZmYk/mpmZmZmZiT+amZmZmZmJP5qZmZmZmYk/mpmZmZmZiT+amZmZmZmJP5qZmZmZmYk/mpmZmZmZiT+amZmZmZmJP5qZmZmZmYk/mpmZmZmZiT+amZmZmZmJP5qZmZmZmYk/mpmZmZmZiT+amZmZmZmJP5qZmZmZmYk/mpmZmZmZiT+amZmZmZmJP5qZmZmZmYk/mpmZmZmZiT+amZmZmZmJP5qZmZmZmYk/mpmZmZmZiT+amZmZmZmJP5qZmZmZmYk/mpmZmZmZiT+amZmZmZmJP5qZmZmZmYk/mpmZmZmZiT+amZmZmZmJP5qZmZmZmYk/mpmZmZmZiT+amZmZmZmJP5qZmZmZmYk/mpmZmZmZiT+amZmZmZmJP5qZmZmZmYk/mpmZmZmZiT+amZmZmZmJP5qZmZmZmYk/mpmZmZmZiT+amZmZmZmJP5qZmZmZmYk/mpmZmZmZiT+amZmZmZmJP5qZmZmZmYk/mpmZmZmZiT+amZmZmZmJP5qZmZmZmYk/mpmZmZmZiT+amZmZmZmJP5qZmZmZmYk/mpmZmZmZiT+amZmZmZmJP5qZmZmZmYk/mpmZmZmZiT+amZmZmZmJP5qZmZmZmYk/mpmZmZmZiT+amZmZmZmJP5qZmZmZmYk/mpmZmZmZiT+amZmZmZmJP5qZmZmZmYk/mpmZmZmZiT+amZmZmZmJPw==",
          "dtype": "f8"
         },
         "yaxis": "y"
        },
        {
         "marker": {
          "color": "darkorange"
         },
         "name": "Round 1",
         "opacity": 0.85,
         "showlegend": true,
         "type": "bar",
         "x": {
          "bdata": "AAECAwQFBgcICQoLDA0ODxAREhMUFRYXGBkaGxwdHh8gISIjJCUmJygpKissLS4vMDEyMzQ1Njc4OTo7PD0+P0BBQkNERUZHSElKS0xNTk8=",
          "dtype": "i1"
         },
         "xaxis": "x",
         "y": {
          "bdata": "U0lcNoLqiT9TSVw2guqJP1NJXDaC6ok/U0lcNoLqiT9TSVw2guqJP1NJXDaC6ok/U0lcNoLqiT9TSVw2guqJP1NJXDaC6ok/U0lcNoLqiT9TSVw2guqJP1NJXDaC6ok/U0lcNoLqiT9TSVw2guqJP1NJXDaC6ok/U0lcNoLqiT9TSVw2guqJP03uqzAnOjQ/U0lcNoLqiT9TSVw2guqJP1NJXDaC6ok/U0lcNoLqiT9TSVw2guqJP1NJXDaC6ok/U0lcNoLqiT9TSVw2guqJP1NJXDaC6ok/U0lcNoLqiT9TSVw2guqJP1NJXDaC6ok/U0lcNoLqiT9TSVw2guqJP1NJXDaC6ok/U0lcNoLqiT9TSVw2guqJP1NJXDaC6ok/U0lcNoLqiT9TSVw2guqJP1NJXDaC6ok/U0lcNoLqiT9TSVw2guqJP1NJXDaC6ok/U0lcNoLqiT9TSVw2guqJP1NJXDaC6ok/U0lcNoLqiT9TSVw2guqJP1NJXDaC6ok/U0lcNoLqiT9TSVw2guqJP1NJXDaC6ok/U0lcNoLqiT9TSVw2guqJP1NJXDaC6ok/U0lcNoLqiT9TSVw2guqJP1NJXDaC6ok/U0lcNoLqiT9TSVw2guqJP1NJXDaC6ok/U0lcNoLqiT9TSVw2guqJP1NJXDaC6ok/U0lcNoLqiT9TSVw2guqJP1NJXDaC6ok/U0lcNoLqiT9TSVw2guqJP1NJXDaC6ok/U0lcNoLqiT9TSVw2guqJP1NJXDaC6ok/U0lcNoLqiT9TSVw2guqJP1NJXDaC6ok/U0lcNoLqiT9TSVw2guqJP1NJXDaC6ok/U0lcNoLqiT9TSVw2guqJPw==",
          "dtype": "f8"
         },
         "yaxis": "y"
        }
       ],
       "layout": {
        "annotations": [
         {
          "font": {
           "size": 16
          },
          "showarrow": false,
          "text": "Vanilla TS",
          "x": 0.5,
          "xanchor": "center",
          "xref": "paper",
          "y": 1,
          "yanchor": "bottom",
          "yref": "paper"
         }
        ],
        "bargap": 0.15,
        "barmode": "group",
        "height": 450,
        "template": {
         "data": {
          "bar": [
           {
            "error_x": {
             "color": "#2a3f5f"
            },
            "error_y": {
             "color": "#2a3f5f"
            },
            "marker": {
             "line": {
              "color": "white",
              "width": 0.5
             },
             "pattern": {
              "fillmode": "overlay",
              "size": 10,
              "solidity": 0.2
             }
            },
            "type": "bar"
           }
          ],
          "barpolar": [
           {
            "marker": {
             "line": {
              "color": "white",
              "width": 0.5
             },
             "pattern": {
              "fillmode": "overlay",
              "size": 10,
              "solidity": 0.2
             }
            },
            "type": "barpolar"
           }
          ],
          "carpet": [
           {
            "aaxis": {
             "endlinecolor": "#2a3f5f",
             "gridcolor": "#C8D4E3",
             "linecolor": "#C8D4E3",
             "minorgridcolor": "#C8D4E3",
             "startlinecolor": "#2a3f5f"
            },
            "baxis": {
             "endlinecolor": "#2a3f5f",
             "gridcolor": "#C8D4E3",
             "linecolor": "#C8D4E3",
             "minorgridcolor": "#C8D4E3",
             "startlinecolor": "#2a3f5f"
            },
            "type": "carpet"
           }
          ],
          "choropleth": [
           {
            "colorbar": {
             "outlinewidth": 0,
             "ticks": ""
            },
            "type": "choropleth"
           }
          ],
          "contour": [
           {
            "colorbar": {
             "outlinewidth": 0,
             "ticks": ""
            },
            "colorscale": [
             [
              0,
              "#0d0887"
             ],
             [
              0.1111111111111111,
              "#46039f"
             ],
             [
              0.2222222222222222,
              "#7201a8"
             ],
             [
              0.3333333333333333,
              "#9c179e"
             ],
             [
              0.4444444444444444,
              "#bd3786"
             ],
             [
              0.5555555555555556,
              "#d8576b"
             ],
             [
              0.6666666666666666,
              "#ed7953"
             ],
             [
              0.7777777777777778,
              "#fb9f3a"
             ],
             [
              0.8888888888888888,
              "#fdca26"
             ],
             [
              1,
              "#f0f921"
             ]
            ],
            "type": "contour"
           }
          ],
          "contourcarpet": [
           {
            "colorbar": {
             "outlinewidth": 0,
             "ticks": ""
            },
            "type": "contourcarpet"
           }
          ],
          "heatmap": [
           {
            "colorbar": {
             "outlinewidth": 0,
             "ticks": ""
            },
            "colorscale": [
             [
              0,
              "#0d0887"
             ],
             [
              0.1111111111111111,
              "#46039f"
             ],
             [
              0.2222222222222222,
              "#7201a8"
             ],
             [
              0.3333333333333333,
              "#9c179e"
             ],
             [
              0.4444444444444444,
              "#bd3786"
             ],
             [
              0.5555555555555556,
              "#d8576b"
             ],
             [
              0.6666666666666666,
              "#ed7953"
             ],
             [
              0.7777777777777778,
              "#fb9f3a"
             ],
             [
              0.8888888888888888,
              "#fdca26"
             ],
             [
              1,
              "#f0f921"
             ]
            ],
            "type": "heatmap"
           }
          ],
          "histogram": [
           {
            "marker": {
             "pattern": {
              "fillmode": "overlay",
              "size": 10,
              "solidity": 0.2
             }
            },
            "type": "histogram"
           }
          ],
          "histogram2d": [
           {
            "colorbar": {
             "outlinewidth": 0,
             "ticks": ""
            },
            "colorscale": [
             [
              0,
              "#0d0887"
             ],
             [
              0.1111111111111111,
              "#46039f"
             ],
             [
              0.2222222222222222,
              "#7201a8"
             ],
             [
              0.3333333333333333,
              "#9c179e"
             ],
             [
              0.4444444444444444,
              "#bd3786"
             ],
             [
              0.5555555555555556,
              "#d8576b"
             ],
             [
              0.6666666666666666,
              "#ed7953"
             ],
             [
              0.7777777777777778,
              "#fb9f3a"
             ],
             [
              0.8888888888888888,
              "#fdca26"
             ],
             [
              1,
              "#f0f921"
             ]
            ],
            "type": "histogram2d"
           }
          ],
          "histogram2dcontour": [
           {
            "colorbar": {
             "outlinewidth": 0,
             "ticks": ""
            },
            "colorscale": [
             [
              0,
              "#0d0887"
             ],
             [
              0.1111111111111111,
              "#46039f"
             ],
             [
              0.2222222222222222,
              "#7201a8"
             ],
             [
              0.3333333333333333,
              "#9c179e"
             ],
             [
              0.4444444444444444,
              "#bd3786"
             ],
             [
              0.5555555555555556,
              "#d8576b"
             ],
             [
              0.6666666666666666,
              "#ed7953"
             ],
             [
              0.7777777777777778,
              "#fb9f3a"
             ],
             [
              0.8888888888888888,
              "#fdca26"
             ],
             [
              1,
              "#f0f921"
             ]
            ],
            "type": "histogram2dcontour"
           }
          ],
          "mesh3d": [
           {
            "colorbar": {
             "outlinewidth": 0,
             "ticks": ""
            },
            "type": "mesh3d"
           }
          ],
          "parcoords": [
           {
            "line": {
             "colorbar": {
              "outlinewidth": 0,
              "ticks": ""
             }
            },
            "type": "parcoords"
           }
          ],
          "pie": [
           {
            "automargin": true,
            "type": "pie"
           }
          ],
          "scatter": [
           {
            "fillpattern": {
             "fillmode": "overlay",
             "size": 10,
             "solidity": 0.2
            },
            "type": "scatter"
           }
          ],
          "scatter3d": [
           {
            "line": {
             "colorbar": {
              "outlinewidth": 0,
              "ticks": ""
             }
            },
            "marker": {
             "colorbar": {
              "outlinewidth": 0,
              "ticks": ""
             }
            },
            "type": "scatter3d"
           }
          ],
          "scattercarpet": [
           {
            "marker": {
             "colorbar": {
              "outlinewidth": 0,
              "ticks": ""
             }
            },
            "type": "scattercarpet"
           }
          ],
          "scattergeo": [
           {
            "marker": {
             "colorbar": {
              "outlinewidth": 0,
              "ticks": ""
             }
            },
            "type": "scattergeo"
           }
          ],
          "scattergl": [
           {
            "marker": {
             "colorbar": {
              "outlinewidth": 0,
              "ticks": ""
             }
            },
            "type": "scattergl"
           }
          ],
          "scattermap": [
           {
            "marker": {
             "colorbar": {
              "outlinewidth": 0,
              "ticks": ""
             }
            },
            "type": "scattermap"
           }
          ],
          "scattermapbox": [
           {
            "marker": {
             "colorbar": {
              "outlinewidth": 0,
              "ticks": ""
             }
            },
            "type": "scattermapbox"
           }
          ],
          "scatterpolar": [
           {
            "marker": {
             "colorbar": {
              "outlinewidth": 0,
              "ticks": ""
             }
            },
            "type": "scatterpolar"
           }
          ],
          "scatterpolargl": [
           {
            "marker": {
             "colorbar": {
              "outlinewidth": 0,
              "ticks": ""
             }
            },
            "type": "scatterpolargl"
           }
          ],
          "scatterternary": [
           {
            "marker": {
             "colorbar": {
              "outlinewidth": 0,
              "ticks": ""
             }
            },
            "type": "scatterternary"
           }
          ],
          "surface": [
           {
            "colorbar": {
             "outlinewidth": 0,
             "ticks": ""
            },
            "colorscale": [
             [
              0,
              "#0d0887"
             ],
             [
              0.1111111111111111,
              "#46039f"
             ],
             [
              0.2222222222222222,
              "#7201a8"
             ],
             [
              0.3333333333333333,
              "#9c179e"
             ],
             [
              0.4444444444444444,
              "#bd3786"
             ],
             [
              0.5555555555555556,
              "#d8576b"
             ],
             [
              0.6666666666666666,
              "#ed7953"
             ],
             [
              0.7777777777777778,
              "#fb9f3a"
             ],
             [
              0.8888888888888888,
              "#fdca26"
             ],
             [
              1,
              "#f0f921"
             ]
            ],
            "type": "surface"
           }
          ],
          "table": [
           {
            "cells": {
             "fill": {
              "color": "#EBF0F8"
             },
             "line": {
              "color": "white"
             }
            },
            "header": {
             "fill": {
              "color": "#C8D4E3"
             },
             "line": {
              "color": "white"
             }
            },
            "type": "table"
           }
          ]
         },
         "layout": {
          "annotationdefaults": {
           "arrowcolor": "#2a3f5f",
           "arrowhead": 0,
           "arrowwidth": 1
          },
          "autotypenumbers": "strict",
          "coloraxis": {
           "colorbar": {
            "outlinewidth": 0,
            "ticks": ""
           }
          },
          "colorscale": {
           "diverging": [
            [
             0,
             "#8e0152"
            ],
            [
             0.1,
             "#c51b7d"
            ],
            [
             0.2,
             "#de77ae"
            ],
            [
             0.3,
             "#f1b6da"
            ],
            [
             0.4,
             "#fde0ef"
            ],
            [
             0.5,
             "#f7f7f7"
            ],
            [
             0.6,
             "#e6f5d0"
            ],
            [
             0.7,
             "#b8e186"
            ],
            [
             0.8,
             "#7fbc41"
            ],
            [
             0.9,
             "#4d9221"
            ],
            [
             1,
             "#276419"
            ]
           ],
           "sequential": [
            [
             0,
             "#0d0887"
            ],
            [
             0.1111111111111111,
             "#46039f"
            ],
            [
             0.2222222222222222,
             "#7201a8"
            ],
            [
             0.3333333333333333,
             "#9c179e"
            ],
            [
             0.4444444444444444,
             "#bd3786"
            ],
            [
             0.5555555555555556,
             "#d8576b"
            ],
            [
             0.6666666666666666,
             "#ed7953"
            ],
            [
             0.7777777777777778,
             "#fb9f3a"
            ],
            [
             0.8888888888888888,
             "#fdca26"
            ],
            [
             1,
             "#f0f921"
            ]
           ],
           "sequentialminus": [
            [
             0,
             "#0d0887"
            ],
            [
             0.1111111111111111,
             "#46039f"
            ],
            [
             0.2222222222222222,
             "#7201a8"
            ],
            [
             0.3333333333333333,
             "#9c179e"
            ],
            [
             0.4444444444444444,
             "#bd3786"
            ],
            [
             0.5555555555555556,
             "#d8576b"
            ],
            [
             0.6666666666666666,
             "#ed7953"
            ],
            [
             0.7777777777777778,
             "#fb9f3a"
            ],
            [
             0.8888888888888888,
             "#fdca26"
            ],
            [
             1,
             "#f0f921"
            ]
           ]
          },
          "colorway": [
           "#636efa",
           "#EF553B",
           "#00cc96",
           "#ab63fa",
           "#FFA15A",
           "#19d3f3",
           "#FF6692",
           "#B6E880",
           "#FF97FF",
           "#FECB52"
          ],
          "font": {
           "color": "#2a3f5f"
          },
          "geo": {
           "bgcolor": "white",
           "lakecolor": "white",
           "landcolor": "white",
           "showlakes": true,
           "showland": true,
           "subunitcolor": "#C8D4E3"
          },
          "hoverlabel": {
           "align": "left"
          },
          "hovermode": "closest",
          "mapbox": {
           "style": "light"
          },
          "paper_bgcolor": "white",
          "plot_bgcolor": "white",
          "polar": {
           "angularaxis": {
            "gridcolor": "#EBF0F8",
            "linecolor": "#EBF0F8",
            "ticks": ""
           },
           "bgcolor": "white",
           "radialaxis": {
            "gridcolor": "#EBF0F8",
            "linecolor": "#EBF0F8",
            "ticks": ""
           }
          },
          "scene": {
           "xaxis": {
            "backgroundcolor": "white",
            "gridcolor": "#DFE8F3",
            "gridwidth": 2,
            "linecolor": "#EBF0F8",
            "showbackground": true,
            "ticks": "",
            "zerolinecolor": "#EBF0F8"
           },
           "yaxis": {
            "backgroundcolor": "white",
            "gridcolor": "#DFE8F3",
            "gridwidth": 2,
            "linecolor": "#EBF0F8",
            "showbackground": true,
            "ticks": "",
            "zerolinecolor": "#EBF0F8"
           },
           "zaxis": {
            "backgroundcolor": "white",
            "gridcolor": "#DFE8F3",
            "gridwidth": 2,
            "linecolor": "#EBF0F8",
            "showbackground": true,
            "ticks": "",
            "zerolinecolor": "#EBF0F8"
           }
          },
          "shapedefaults": {
           "line": {
            "color": "#2a3f5f"
           }
          },
          "ternary": {
           "aaxis": {
            "gridcolor": "#DFE8F3",
            "linecolor": "#A2B1C6",
            "ticks": ""
           },
           "baxis": {
            "gridcolor": "#DFE8F3",
            "linecolor": "#A2B1C6",
            "ticks": ""
           },
           "bgcolor": "white",
           "caxis": {
            "gridcolor": "#DFE8F3",
            "linecolor": "#A2B1C6",
            "ticks": ""
           }
          },
          "title": {
           "x": 0.05
          },
          "xaxis": {
           "automargin": true,
           "gridcolor": "#EBF0F8",
           "linecolor": "#EBF0F8",
           "ticks": "",
           "title": {
            "standoff": 15
           },
           "zerolinecolor": "#EBF0F8",
           "zerolinewidth": 2
          },
          "yaxis": {
           "automargin": true,
           "gridcolor": "#EBF0F8",
           "linecolor": "#EBF0F8",
           "ticks": "",
           "title": {
            "standoff": 15
           },
           "zerolinecolor": "#EBF0F8",
           "zerolinewidth": 2
          }
         }
        },
        "title": {
         "text": "Vanilla TS \u2014 Round 0 vs 1"
        },
        "xaxis": {
         "anchor": "y",
         "domain": [
          0,
          1
         ],
         "tickmode": "array",
         "ticktext": [
          "0",
          "1",
          "2",
          "3",
          "4",
          "5",
          "6",
          "7",
          "8",
          "9",
          "10",
          "11",
          "12",
          "13",
          "14",
          "15",
          "16",
          "17",
          "18",
          "19",
          "20",
          "21",
          "22",
          "23",
          "24",
          "25",
          "26",
          "27",
          "28",
          "29",
          "30",
          "31",
          "32",
          "33",
          "34",
          "35",
          "36",
          "37",
          "38",
          "39",
          "40",
          "41",
          "42",
          "43",
          "44",
          "45",
          "46",
          "47",
          "48",
          "49",
          "50",
          "51",
          "52",
          "53",
          "54",
          "55",
          "56",
          "57",
          "58",
          "59",
          "60",
          "61",
          "62",
          "63",
          "64",
          "65",
          "66",
          "67",
          "68",
          "69",
          "70",
          "71",
          "72",
          "73",
          "74",
          "75",
          "76",
          "77",
          "78",
          "79"
         ],
         "tickvals": {
          "bdata": "AAECAwQFBgcICQoLDA0ODxAREhMUFRYXGBkaGxwdHh8gISIjJCUmJygpKissLS4vMDEyMzQ1Njc4OTo7PD0+P0BBQkNERUZHSElKS0xNTk8=",
          "dtype": "i1"
         },
         "title": {
          "text": "Action ID (0\u201379)"
         }
        },
        "yaxis": {
         "anchor": "x",
         "domain": [
          0,
          1
         ],
         "range": [
          0,
          0.015817901234567902
         ],
         "title": {
          "text": "P(select)"
         }
        }
       }
      }
     },
     "metadata": {},
     "output_type": "display_data"
    },
    {
     "data": {
      "application/vnd.plotly.v1+json": {
       "config": {
        "plotlyServerURL": "https://plot.ly"
       },
       "data": [
        {
         "marker": {
          "color": "steelblue"
         },
         "name": "Round 1",
         "opacity": 0.6,
         "showlegend": true,
         "type": "bar",
         "x": {
          "bdata": "AAECAwQFBgcICQoLDA0ODxAREhMUFRYXGBkaGxwdHh8gISIjJCUmJygpKissLS4vMDEyMzQ1Njc4OTo7PD0+P0BBQkNERUZHSElKS0xNTk8=",
          "dtype": "i1"
         },
         "xaxis": "x",
         "y": {
          "bdata": "U0lcNoLqiT9TSVw2guqJP1NJXDaC6ok/U0lcNoLqiT9TSVw2guqJP1NJXDaC6ok/U0lcNoLqiT9TSVw2guqJP1NJXDaC6ok/U0lcNoLqiT9TSVw2guqJP1NJXDaC6ok/U0lcNoLqiT9TSVw2guqJP1NJXDaC6ok/U0lcNoLqiT9TSVw2guqJP03uqzAnOjQ/U0lcNoLqiT9TSVw2guqJP1NJXDaC6ok/U0lcNoLqiT9TSVw2guqJP1NJXDaC6ok/U0lcNoLqiT9TSVw2guqJP1NJXDaC6ok/U0lcNoLqiT9TSVw2guqJP1NJXDaC6ok/U0lcNoLqiT9TSVw2guqJP1NJXDaC6ok/U0lcNoLqiT9TSVw2guqJP1NJXDaC6ok/U0lcNoLqiT9TSVw2guqJP1NJXDaC6ok/U0lcNoLqiT9TSVw2guqJP1NJXDaC6ok/U0lcNoLqiT9TSVw2guqJP1NJXDaC6ok/U0lcNoLqiT9TSVw2guqJP1NJXDaC6ok/U0lcNoLqiT9TSVw2guqJP1NJXDaC6ok/U0lcNoLqiT9TSVw2guqJP1NJXDaC6ok/U0lcNoLqiT9TSVw2guqJP1NJXDaC6ok/U0lcNoLqiT9TSVw2guqJP1NJXDaC6ok/U0lcNoLqiT9TSVw2guqJP1NJXDaC6ok/U0lcNoLqiT9TSVw2guqJP1NJXDaC6ok/U0lcNoLqiT9TSVw2guqJP1NJXDaC6ok/U0lcNoLqiT9TSVw2guqJP1NJXDaC6ok/U0lcNoLqiT9TSVw2guqJP1NJXDaC6ok/U0lcNoLqiT9TSVw2guqJP1NJXDaC6ok/U0lcNoLqiT9TSVw2guqJPw==",
          "dtype": "f8"
         },
         "yaxis": "y"
        },
        {
         "marker": {
          "color": "darkorange"
         },
         "name": "Round 2",
         "opacity": 0.85,
         "showlegend": true,
         "type": "bar",
         "x": {
          "bdata": "AAECAwQFBgcICQoLDA0ODxAREhMUFRYXGBkaGxwdHh8gISIjJCUmJygpKissLS4vMDEyMzQ1Njc4OTo7PD0+P0BBQkNERUZHSElKS0xNTk8=",
          "dtype": "i1"
         },
         "xaxis": "x",
         "y": {
          "bdata": "E2HD0ytliT+mCkYldQKKP4W2nEtxVYk/ptB5jV2iij940VeQZiyKP9AKDFnd6ok/W7bWFwltiT/Q0D/BxYqKP7fu5qkOuYk/wCZr1EM0ij/ymIHK+PeJP+HurN12oYk/LUMc6+I2ij+/YDdsW5SJP9UJaCJseIo/wCZr1EM0ij/2RUJbzqWIP/Fo44i1+PQ+KAr0iTxJij/6RJ4kXTOJPyx96IL6lok/opdRLLe0ij8cmUf+YOCJP/bRqSuf5Yk/6uxkcJS8ij/l7QinBS+KP1+1MuGX+ok/xJlfzQGCiT81tWytLxKKPyTRyyiWW4o/ke18PzVeij/dtYR80LOJP8jShy6ob4k/Y7SOqiaIij/MRXwnZr2IP1t8CoDxDIo/ke18PzVeij8xthDkoISJP7e0GhL3WIo/cJnTZTGxiT/uX1lpUgqKP0GasWg6O4k/GGAfnbryiT857pQO1v+JP1JEhlW8kYk/jXqIRncQiz+aJQFqatmKPyy3tBoS94g/0NA/wcWKij/QCgxZ3eqJPw/uztptF4o/gUOoUrMHij8cX3tmSYCKP0qYaftXVoo/X+/+eK9aiT8L73IR34mJP+2ZJQFqaok/9pfdk4eFij+z74rgfyuJP5EnSddMvok/Yygn2lVIiT94f7xXrUyIP3jRV5BmLIo/Eyf3OxQFij81tWytLxKKP8Ama9RDNIo/+tAF9S1zij900vvG156JP2fttgvNdYo/s3vysFBrij9nJ4Oj5NWJP3TS+8bXnok/eAskKH6MiT8LtaZ5xymKP+2ZJQFqaok/D+7O2m0Xij/ZQpCDEmaKP/uWOV0WE4s/a2CrBIvDiT90DMhe7/6IPw==",
          "dtype": "f8"
         },
         "yaxis": "y"
        }
       ],
       "layout": {
        "annotations": [
         {
          "font": {
           "size": 16
          },
          "showarrow": false,
          "text": "Vanilla TS",
          "x": 0.5,
          "xanchor": "center",
          "xref": "paper",
          "y": 1,
          "yanchor": "bottom",
          "yref": "paper"
         }
        ],
        "bargap": 0.15,
        "barmode": "group",
        "height": 450,
        "template": {
         "data": {
          "bar": [
           {
            "error_x": {
             "color": "#2a3f5f"
            },
            "error_y": {
             "color": "#2a3f5f"
            },
            "marker": {
             "line": {
              "color": "white",
              "width": 0.5
             },
             "pattern": {
              "fillmode": "overlay",
              "size": 10,
              "solidity": 0.2
             }
            },
            "type": "bar"
           }
          ],
          "barpolar": [
           {
            "marker": {
             "line": {
              "color": "white",
              "width": 0.5
             },
             "pattern": {
              "fillmode": "overlay",
              "size": 10,
              "solidity": 0.2
             }
            },
            "type": "barpolar"
           }
          ],
          "carpet": [
           {
            "aaxis": {
             "endlinecolor": "#2a3f5f",
             "gridcolor": "#C8D4E3",
             "linecolor": "#C8D4E3",
             "minorgridcolor": "#C8D4E3",
             "startlinecolor": "#2a3f5f"
            },
            "baxis": {
             "endlinecolor": "#2a3f5f",
             "gridcolor": "#C8D4E3",
             "linecolor": "#C8D4E3",
             "minorgridcolor": "#C8D4E3",
             "startlinecolor": "#2a3f5f"
            },
            "type": "carpet"
           }
          ],
          "choropleth": [
           {
            "colorbar": {
             "outlinewidth": 0,
             "ticks": ""
            },
            "type": "choropleth"
           }
          ],
          "contour": [
           {
            "colorbar": {
             "outlinewidth": 0,
             "ticks": ""
            },
            "colorscale": [
             [
              0,
              "#0d0887"
             ],
             [
              0.1111111111111111,
              "#46039f"
             ],
             [
              0.2222222222222222,
              "#7201a8"
             ],
             [
              0.3333333333333333,
              "#9c179e"
             ],
             [
              0.4444444444444444,
              "#bd3786"
             ],
             [
              0.5555555555555556,
              "#d8576b"
             ],
             [
              0.6666666666666666,
              "#ed7953"
             ],
             [
              0.7777777777777778,
              "#fb9f3a"
             ],
             [
              0.8888888888888888,
              "#fdca26"
             ],
             [
              1,
              "#f0f921"
             ]
            ],
            "type": "contour"
           }
          ],
          "contourcarpet": [
           {
            "colorbar": {
             "outlinewidth": 0,
             "ticks": ""
            },
            "type": "contourcarpet"
           }
          ],
          "heatmap": [
           {
            "colorbar": {
             "outlinewidth": 0,
             "ticks": ""
            },
            "colorscale": [
             [
              0,
              "#0d0887"
             ],
             [
              0.1111111111111111,
              "#46039f"
             ],
             [
              0.2222222222222222,
              "#7201a8"
             ],
             [
              0.3333333333333333,
              "#9c179e"
             ],
             [
              0.4444444444444444,
              "#bd3786"
             ],
             [
              0.5555555555555556,
              "#d8576b"
             ],
             [
              0.6666666666666666,
              "#ed7953"
             ],
             [
              0.7777777777777778,
              "#fb9f3a"
             ],
             [
              0.8888888888888888,
              "#fdca26"
             ],
             [
              1,
              "#f0f921"
             ]
            ],
            "type": "heatmap"
           }
          ],
          "histogram": [
           {
            "marker": {
             "pattern": {
              "fillmode": "overlay",
              "size": 10,
              "solidity": 0.2
             }
            },
            "type": "histogram"
           }
          ],
          "histogram2d": [
           {
            "colorbar": {
             "outlinewidth": 0,
             "ticks": ""
            },
            "colorscale": [
             [
              0,
              "#0d0887"
             ],
             [
              0.1111111111111111,
              "#46039f"
             ],
             [
              0.2222222222222222,
              "#7201a8"
             ],
             [
              0.3333333333333333,
              "#9c179e"
             ],
             [
              0.4444444444444444,
              "#bd3786"
             ],
             [
              0.5555555555555556,
              "#d8576b"
             ],
             [
              0.6666666666666666,
              "#ed7953"
             ],
             [
              0.7777777777777778,
              "#fb9f3a"
             ],
             [
              0.8888888888888888,
              "#fdca26"
             ],
             [
              1,
              "#f0f921"
             ]
            ],
            "type": "histogram2d"
           }
          ],
          "histogram2dcontour": [
           {
            "colorbar": {
             "outlinewidth": 0,
             "ticks": ""
            },
            "colorscale": [
             [
              0,
              "#0d0887"
             ],
             [
              0.1111111111111111,
              "#46039f"
             ],
             [
              0.2222222222222222,
              "#7201a8"
             ],
             [
              0.3333333333333333,
              "#9c179e"
             ],
             [
              0.4444444444444444,
              "#bd3786"
             ],
             [
              0.5555555555555556,
              "#d8576b"
             ],
             [
              0.6666666666666666,
              "#ed7953"
             ],
             [
              0.7777777777777778,
              "#fb9f3a"
             ],
             [
              0.8888888888888888,
              "#fdca26"
             ],
             [
              1,
              "#f0f921"
             ]
            ],
            "type": "histogram2dcontour"
           }
          ],
          "mesh3d": [
           {
            "colorbar": {
             "outlinewidth": 0,
             "ticks": ""
            },
            "type": "mesh3d"
           }
          ],
          "parcoords": [
           {
            "line": {
             "colorbar": {
              "outlinewidth": 0,
              "ticks": ""
             }
            },
            "type": "parcoords"
           }
          ],
          "pie": [
           {
            "automargin": true,
            "type": "pie"
           }
          ],
          "scatter": [
           {
            "fillpattern": {
             "fillmode": "overlay",
             "size": 10,
             "solidity": 0.2
            },
            "type": "scatter"
           }
          ],
          "scatter3d": [
           {
            "line": {
             "colorbar": {
              "outlinewidth": 0,
              "ticks": ""
             }
            },
            "marker": {
             "colorbar": {
              "outlinewidth": 0,
              "ticks": ""
             }
            },
            "type": "scatter3d"
           }
          ],
          "scattercarpet": [
           {
            "marker": {
             "colorbar": {
              "outlinewidth": 0,
              "ticks": ""
             }
            },
            "type": "scattercarpet"
           }
          ],
          "scattergeo": [
           {
            "marker": {
             "colorbar": {
              "outlinewidth": 0,
              "ticks": ""
             }
            },
            "type": "scattergeo"
           }
          ],
          "scattergl": [
           {
            "marker": {
             "colorbar": {
              "outlinewidth": 0,
              "ticks": ""
             }
            },
            "type": "scattergl"
           }
          ],
          "scattermap": [
           {
            "marker": {
             "colorbar": {
              "outlinewidth": 0,
              "ticks": ""
             }
            },
            "type": "scattermap"
           }
          ],
          "scattermapbox": [
           {
            "marker": {
             "colorbar": {
              "outlinewidth": 0,
              "ticks": ""
             }
            },
            "type": "scattermapbox"
           }
          ],
          "scatterpolar": [
           {
            "marker": {
             "colorbar": {
              "outlinewidth": 0,
              "ticks": ""
             }
            },
            "type": "scatterpolar"
           }
          ],
          "scatterpolargl": [
           {
            "marker": {
             "colorbar": {
              "outlinewidth": 0,
              "ticks": ""
             }
            },
            "type": "scatterpolargl"
           }
          ],
          "scatterternary": [
           {
            "marker": {
             "colorbar": {
              "outlinewidth": 0,
              "ticks": ""
             }
            },
            "type": "scatterternary"
           }
          ],
          "surface": [
           {
            "colorbar": {
             "outlinewidth": 0,
             "ticks": ""
            },
            "colorscale": [
             [
              0,
              "#0d0887"
             ],
             [
              0.1111111111111111,
              "#46039f"
             ],
             [
              0.2222222222222222,
              "#7201a8"
             ],
             [
              0.3333333333333333,
              "#9c179e"
             ],
             [
              0.4444444444444444,
              "#bd3786"
             ],
             [
              0.5555555555555556,
              "#d8576b"
             ],
             [
              0.6666666666666666,
              "#ed7953"
             ],
             [
              0.7777777777777778,
              "#fb9f3a"
             ],
             [
              0.8888888888888888,
              "#fdca26"
             ],
             [
              1,
              "#f0f921"
             ]
            ],
            "type": "surface"
           }
          ],
          "table": [
           {
            "cells": {
             "fill": {
              "color": "#EBF0F8"
             },
             "line": {
              "color": "white"
             }
            },
            "header": {
             "fill": {
              "color": "#C8D4E3"
             },
             "line": {
              "color": "white"
             }
            },
            "type": "table"
           }
          ]
         },
         "layout": {
          "annotationdefaults": {
           "arrowcolor": "#2a3f5f",
           "arrowhead": 0,
           "arrowwidth": 1
          },
          "autotypenumbers": "strict",
          "coloraxis": {
           "colorbar": {
            "outlinewidth": 0,
            "ticks": ""
           }
          },
          "colorscale": {
           "diverging": [
            [
             0,
             "#8e0152"
            ],
            [
             0.1,
             "#c51b7d"
            ],
            [
             0.2,
             "#de77ae"
            ],
            [
             0.3,
             "#f1b6da"
            ],
            [
             0.4,
             "#fde0ef"
            ],
            [
             0.5,
             "#f7f7f7"
            ],
            [
             0.6,
             "#e6f5d0"
            ],
            [
             0.7,
             "#b8e186"
            ],
            [
             0.8,
             "#7fbc41"
            ],
            [
             0.9,
             "#4d9221"
            ],
            [
             1,
             "#276419"
            ]
           ],
           "sequential": [
            [
             0,
             "#0d0887"
            ],
            [
             0.1111111111111111,
             "#46039f"
            ],
            [
             0.2222222222222222,
             "#7201a8"
            ],
            [
             0.3333333333333333,
             "#9c179e"
            ],
            [
             0.4444444444444444,
             "#bd3786"
            ],
            [
             0.5555555555555556,
             "#d8576b"
            ],
            [
             0.6666666666666666,
             "#ed7953"
            ],
            [
             0.7777777777777778,
             "#fb9f3a"
            ],
            [
             0.8888888888888888,
             "#fdca26"
            ],
            [
             1,
             "#f0f921"
            ]
           ],
           "sequentialminus": [
            [
             0,
             "#0d0887"
            ],
            [
             0.1111111111111111,
             "#46039f"
            ],
            [
             0.2222222222222222,
             "#7201a8"
            ],
            [
             0.3333333333333333,
             "#9c179e"
            ],
            [
             0.4444444444444444,
             "#bd3786"
            ],
            [
             0.5555555555555556,
             "#d8576b"
            ],
            [
             0.6666666666666666,
             "#ed7953"
            ],
            [
             0.7777777777777778,
             "#fb9f3a"
            ],
            [
             0.8888888888888888,
             "#fdca26"
            ],
            [
             1,
             "#f0f921"
            ]
           ]
          },
          "colorway": [
           "#636efa",
           "#EF553B",
           "#00cc96",
           "#ab63fa",
           "#FFA15A",
           "#19d3f3",
           "#FF6692",
           "#B6E880",
           "#FF97FF",
           "#FECB52"
          ],
          "font": {
           "color": "#2a3f5f"
          },
          "geo": {
           "bgcolor": "white",
           "lakecolor": "white",
           "landcolor": "white",
           "showlakes": true,
           "showland": true,
           "subunitcolor": "#C8D4E3"
          },
          "hoverlabel": {
           "align": "left"
          },
          "hovermode": "closest",
          "mapbox": {
           "style": "light"
          },
          "paper_bgcolor": "white",
          "plot_bgcolor": "white",
          "polar": {
           "angularaxis": {
            "gridcolor": "#EBF0F8",
            "linecolor": "#EBF0F8",
            "ticks": ""
           },
           "bgcolor": "white",
           "radialaxis": {
            "gridcolor": "#EBF0F8",
            "linecolor": "#EBF0F8",
            "ticks": ""
           }
          },
          "scene": {
           "xaxis": {
            "backgroundcolor": "white",
            "gridcolor": "#DFE8F3",
            "gridwidth": 2,
            "linecolor": "#EBF0F8",
            "showbackground": true,
            "ticks": "",
            "zerolinecolor": "#EBF0F8"
           },
           "yaxis": {
            "backgroundcolor": "white",
            "gridcolor": "#DFE8F3",
            "gridwidth": 2,
            "linecolor": "#EBF0F8",
            "showbackground": true,
            "ticks": "",
            "zerolinecolor": "#EBF0F8"
           },
           "zaxis": {
            "backgroundcolor": "white",
            "gridcolor": "#DFE8F3",
            "gridwidth": 2,
            "linecolor": "#EBF0F8",
            "showbackground": true,
            "ticks": "",
            "zerolinecolor": "#EBF0F8"
           }
          },
          "shapedefaults": {
           "line": {
            "color": "#2a3f5f"
           }
          },
          "ternary": {
           "aaxis": {
            "gridcolor": "#DFE8F3",
            "linecolor": "#A2B1C6",
            "ticks": ""
           },
           "baxis": {
            "gridcolor": "#DFE8F3",
            "linecolor": "#A2B1C6",
            "ticks": ""
           },
           "bgcolor": "white",
           "caxis": {
            "gridcolor": "#DFE8F3",
            "linecolor": "#A2B1C6",
            "ticks": ""
           }
          },
          "title": {
           "x": 0.05
          },
          "xaxis": {
           "automargin": true,
           "gridcolor": "#EBF0F8",
           "linecolor": "#EBF0F8",
           "ticks": "",
           "title": {
            "standoff": 15
           },
           "zerolinecolor": "#EBF0F8",
           "zerolinewidth": 2
          },
          "yaxis": {
           "automargin": true,
           "gridcolor": "#EBF0F8",
           "linecolor": "#EBF0F8",
           "ticks": "",
           "title": {
            "standoff": 15
           },
           "zerolinecolor": "#EBF0F8",
           "zerolinewidth": 2
          }
         }
        },
        "title": {
         "text": "Vanilla TS \u2014 Round 1 vs 2"
        },
        "xaxis": {
         "anchor": "y",
         "domain": [
          0,
          1
         ],
         "tickmode": "array",
         "ticktext": [
          "0",
          "1",
          "2",
          "3",
          "4",
          "5",
          "6",
          "7",
          "8",
          "9",
          "10",
          "11",
          "12",
          "13",
          "14",
          "15",
          "16",
          "17",
          "18",
          "19",
          "20",
          "21",
          "22",
          "23",
          "24",
          "25",
          "26",
          "27",
          "28",
          "29",
          "30",
          "31",
          "32",
          "33",
          "34",
          "35",
          "36",
          "37",
          "38",
          "39",
          "40",
          "41",
          "42",
          "43",
          "44",
          "45",
          "46",
          "47",
          "48",
          "49",
          "50",
          "51",
          "52",
          "53",
          "54",
          "55",
          "56",
          "57",
          "58",
          "59",
          "60",
          "61",
          "62",
          "63",
          "64",
          "65",
          "66",
          "67",
          "68",
          "69",
          "70",
          "71",
          "72",
          "73",
          "74",
          "75",
          "76",
          "77",
          "78",
          "79"
         ],
         "tickvals": {
          "bdata": "AAECAwQFBgcICQoLDA0ODxAREhMUFRYXGBkaGxwdHh8gISIjJCUmJygpKissLS4vMDEyMzQ1Njc4OTo7PD0+P0BBQkNERUZHSElKS0xNTk8=",
          "dtype": "i1"
         },
         "title": {
          "text": "Action ID (0\u201379)"
         }
        },
        "yaxis": {
         "anchor": "x",
         "domain": [
          0,
          1
         ],
         "range": [
          0,
          0.016525
         ],
         "title": {
          "text": "P(select)"
         }
        }
       }
      }
     },
     "metadata": {},
     "output_type": "display_data"
    }
   ],
   "source": [
    "tracker = ThompsonSlateTracker(\n",
    "    df=df, n_actions=bf[\"n_actions\"], positions=[0,1,2],  # positions not used\n",
    "    seed=7, factorize_by_position=False\n",
    ")\n",
    "samp1 = tracker.next_round(random_state=7, use_mc_if_needed=False)  # exact valid at round 1\n",
    "tracker.plot_compare(0, 1, title=\"Vanilla TS \u2014 Round 0 vs 1\")\n",
    "\n",
    "samp2 = tracker.next_round(random_state=7, use_mc_if_needed=True)\n",
    "tracker.plot_compare(1, 2, title=\"Vanilla TS \u2014 Round 1 vs 2\")"
   ]
  },
  {
   "cell_type": "markdown",
   "id": "933816d1",
   "metadata": {},
   "source": [
    "# Position-aware TS (independent bandit per slot)"
   ]
  },
  {
   "cell_type": "code",
   "execution_count": 9,
   "id": "604d30bc",
   "metadata": {},
   "outputs": [
    {
     "data": {
      "application/vnd.plotly.v1+json": {
       "config": {
        "plotlyServerURL": "https://plot.ly"
       },
       "data": [
        {
         "marker": {
          "color": "steelblue"
         },
         "name": "Round 0",
         "opacity": 0.6,
         "showlegend": true,
         "type": "bar",
         "x": {
          "bdata": "AAECAwQFBgcICQoLDA0ODxAREhMUFRYXGBkaGxwdHh8gISIjJCUmJygpKissLS4vMDEyMzQ1Njc4OTo7PD0+P0BBQkNERUZHSElKS0xNTk8=",
          "dtype": "i1"
         },
         "xaxis": "x",
         "y": {
          "bdata": "mpmZmZmZiT+amZmZmZmJP5qZmZmZmYk/mpmZmZmZiT+amZmZmZmJP5qZmZmZmYk/mpmZmZmZiT+amZmZmZmJP5qZmZmZmYk/mpmZmZmZiT+amZmZmZmJP5qZmZmZmYk/mpmZmZmZiT+amZmZmZmJP5qZmZmZmYk/mpmZmZmZiT+amZmZmZmJP5qZmZmZmYk/mpmZmZmZiT+amZmZmZmJP5qZmZmZmYk/mpmZmZmZiT+amZmZmZmJP5qZmZmZmYk/mpmZmZmZiT+amZmZmZmJP5qZmZmZmYk/mpmZmZmZiT+amZmZmZmJP5qZmZmZmYk/mpmZmZmZiT+amZmZmZmJP5qZmZmZmYk/mpmZmZmZiT+amZmZmZmJP5qZmZmZmYk/mpmZmZmZiT+amZmZmZmJP5qZmZmZmYk/mpmZmZmZiT+amZmZmZmJP5qZmZmZmYk/mpmZmZmZiT+amZmZmZmJP5qZmZmZmYk/mpmZmZmZiT+amZmZmZmJP5qZmZmZmYk/mpmZmZmZiT+amZmZmZmJP5qZmZmZmYk/mpmZmZmZiT+amZmZmZmJP5qZmZmZmYk/mpmZmZmZiT+amZmZmZmJP5qZmZmZmYk/mpmZmZmZiT+amZmZmZmJP5qZmZmZmYk/mpmZmZmZiT+amZmZmZmJP5qZmZmZmYk/mpmZmZmZiT+amZmZmZmJP5qZmZmZmYk/mpmZmZmZiT+amZmZmZmJP5qZmZmZmYk/mpmZmZmZiT+amZmZmZmJP5qZmZmZmYk/mpmZmZmZiT+amZmZmZmJP5qZmZmZmYk/mpmZmZmZiT+amZmZmZmJP5qZmZmZmYk/mpmZmZmZiT+amZmZmZmJPw==",
          "dtype": "f8"
         },
         "yaxis": "y"
        },
        {
         "marker": {
          "color": "darkorange"
         },
         "name": "Round 1",
         "opacity": 0.85,
         "showlegend": true,
         "type": "bar",
         "x": {
          "bdata": "AAECAwQFBgcICQoLDA0ODxAREhMUFRYXGBkaGxwdHh8gISIjJCUmJygpKissLS4vMDEyMzQ1Njc4OTo7PD0+P0BBQkNERUZHSElKS0xNTk8=",
          "dtype": "i1"
         },
         "xaxis": "x",
         "y": {
          "bdata": "U0lcNoLqiT9TSVw2guqJP1NJXDaC6ok/U0lcNoLqiT9TSVw2guqJP1NJXDaC6ok/U0lcNoLqiT9TSVw2guqJP1NJXDaC6ok/U0lcNoLqiT9TSVw2guqJP1NJXDaC6ok/U0lcNoLqiT9TSVw2guqJP1NJXDaC6ok/U0lcNoLqiT9TSVw2guqJP1NJXDaC6ok/U0lcNoLqiT9TSVw2guqJP1NJXDaC6ok/U0lcNoLqiT9TSVw2guqJP1NJXDaC6ok/U0lcNoLqiT9TSVw2guqJP1NJXDaC6ok/U0lcNoLqiT9TSVw2guqJP1NJXDaC6ok/U0lcNoLqiT9TSVw2guqJP1NJXDaC6ok/U0lcNoLqiT9TSVw2guqJP1NJXDaC6ok/U0lcNoLqiT9TSVw2guqJP1NJXDaC6ok/U0lcNoLqiT9TSVw2guqJP1NJXDaC6ok/U0lcNoLqiT9TSVw2guqJP1NJXDaC6ok/U0lcNoLqiT9TSVw2guqJP1NJXDaC6ok/U0lcNoLqiT9TSVw2guqJP1NJXDaC6ok/U0lcNoLqiT9TSVw2guqJP1NJXDaC6ok/U0lcNoLqiT9TSVw2guqJP1NJXDaC6ok/U0lcNoLqiT9TSVw2guqJP1NJXDaC6ok/U0lcNoLqiT9TSVw2guqJP1NJXDaC6ok/U0lcNoLqiT9TSVw2guqJP1NJXDaC6ok/Te6rMCc6ND9TSVw2guqJP1NJXDaC6ok/U0lcNoLqiT9TSVw2guqJP1NJXDaC6ok/U0lcNoLqiT9TSVw2guqJP1NJXDaC6ok/U0lcNoLqiT9TSVw2guqJP1NJXDaC6ok/U0lcNoLqiT9TSVw2guqJPw==",
          "dtype": "f8"
         },
         "yaxis": "y"
        },
        {
         "marker": {
          "color": "steelblue"
         },
         "name": "Round 0",
         "opacity": 0.6,
         "showlegend": false,
         "type": "bar",
         "x": {
          "bdata": "AAECAwQFBgcICQoLDA0ODxAREhMUFRYXGBkaGxwdHh8gISIjJCUmJygpKissLS4vMDEyMzQ1Njc4OTo7PD0+P0BBQkNERUZHSElKS0xNTk8=",
          "dtype": "i1"
         },
         "xaxis": "x2",
         "y": {
          "bdata": "mpmZmZmZiT+amZmZmZmJP5qZmZmZmYk/mpmZmZmZiT+amZmZmZmJP5qZmZmZmYk/mpmZmZmZiT+amZmZmZmJP5qZmZmZmYk/mpmZmZmZiT+amZmZmZmJP5qZmZmZmYk/mpmZmZmZiT+amZmZmZmJP5qZmZmZmYk/mpmZmZmZiT+amZmZmZmJP5qZmZmZmYk/mpmZmZmZiT+amZmZmZmJP5qZmZmZmYk/mpmZmZmZiT+amZmZmZmJP5qZmZmZmYk/mpmZmZmZiT+amZmZmZmJP5qZmZmZmYk/mpmZmZmZiT+amZmZmZmJP5qZmZmZmYk/mpmZmZmZiT+amZmZmZmJP5qZmZmZmYk/mpmZmZmZiT+amZmZmZmJP5qZmZmZmYk/mpmZmZmZiT+amZmZmZmJP5qZmZmZmYk/mpmZmZmZiT+amZmZmZmJP5qZmZmZmYk/mpmZmZmZiT+amZmZmZmJP5qZmZmZmYk/mpmZmZmZiT+amZmZmZmJP5qZmZmZmYk/mpmZmZmZiT+amZmZmZmJP5qZmZmZmYk/mpmZmZmZiT+amZmZmZmJP5qZmZmZmYk/mpmZmZmZiT+amZmZmZmJP5qZmZmZmYk/mpmZmZmZiT+amZmZmZmJP5qZmZmZmYk/mpmZmZmZiT+amZmZmZmJP5qZmZmZmYk/mpmZmZmZiT+amZmZmZmJP5qZmZmZmYk/mpmZmZmZiT+amZmZmZmJP5qZmZmZmYk/mpmZmZmZiT+amZmZmZmJP5qZmZmZmYk/mpmZmZmZiT+amZmZmZmJP5qZmZmZmYk/mpmZmZmZiT+amZmZmZmJP5qZmZmZmYk/mpmZmZmZiT+amZmZmZmJPw==",
          "dtype": "f8"
         },
         "yaxis": "y2"
        },
        {
         "marker": {
          "color": "darkorange"
         },
         "name": "Round 1",
         "opacity": 0.85,
         "showlegend": false,
         "type": "bar",
         "x": {
          "bdata": "AAECAwQFBgcICQoLDA0ODxAREhMUFRYXGBkaGxwdHh8gISIjJCUmJygpKissLS4vMDEyMzQ1Njc4OTo7PD0+P0BBQkNERUZHSElKS0xNTk8=",
          "dtype": "i1"
         },
         "xaxis": "x2",
         "y": {
          "bdata": "U0lcNoLqiT9TSVw2guqJP1NJXDaC6ok/U0lcNoLqiT9TSVw2guqJP1NJXDaC6ok/U0lcNoLqiT9TSVw2guqJP1NJXDaC6ok/U0lcNoLqiT9TSVw2guqJP1NJXDaC6ok/U0lcNoLqiT9TSVw2guqJP1NJXDaC6ok/U0lcNoLqiT9TSVw2guqJP1NJXDaC6ok/U0lcNoLqiT9TSVw2guqJP1NJXDaC6ok/U0lcNoLqiT9TSVw2guqJP1NJXDaC6ok/U0lcNoLqiT9TSVw2guqJP1NJXDaC6ok/U0lcNoLqiT9TSVw2guqJP1NJXDaC6ok/U0lcNoLqiT9TSVw2guqJP1NJXDaC6ok/U0lcNoLqiT9TSVw2guqJP1NJXDaC6ok/U0lcNoLqiT9TSVw2guqJP1NJXDaC6ok/U0lcNoLqiT9TSVw2guqJP1NJXDaC6ok/U0lcNoLqiT9TSVw2guqJP1NJXDaC6ok/U0lcNoLqiT9TSVw2guqJP1NJXDaC6ok/U0lcNoLqiT9TSVw2guqJP1NJXDaC6ok/U0lcNoLqiT9TSVw2guqJP1NJXDaC6ok/U0lcNoLqiT9TSVw2guqJP1NJXDaC6ok/U0lcNoLqiT9TSVw2guqJP1NJXDaC6ok/U0lcNoLqiT9TSVw2guqJP1NJXDaC6ok/U0lcNoLqiT9TSVw2guqJP1NJXDaC6ok/U0lcNoLqiT9TSVw2guqJP1NJXDaC6ok/U0lcNoLqiT9TSVw2guqJP1NJXDaC6ok/U0lcNoLqiT9TSVw2guqJP1NJXDaC6ok/U0lcNoLqiT9TSVw2guqJP1NJXDaC6ok/Te6rMCc6ND9TSVw2guqJPw==",
          "dtype": "f8"
         },
         "yaxis": "y2"
        },
        {
         "marker": {
          "color": "steelblue"
         },
         "name": "Round 0",
         "opacity": 0.6,
         "showlegend": false,
         "type": "bar",
         "x": {
          "bdata": "AAECAwQFBgcICQoLDA0ODxAREhMUFRYXGBkaGxwdHh8gISIjJCUmJygpKissLS4vMDEyMzQ1Njc4OTo7PD0+P0BBQkNERUZHSElKS0xNTk8=",
          "dtype": "i1"
         },
         "xaxis": "x3",
         "y": {
          "bdata": "mpmZmZmZiT+amZmZmZmJP5qZmZmZmYk/mpmZmZmZiT+amZmZmZmJP5qZmZmZmYk/mpmZmZmZiT+amZmZmZmJP5qZmZmZmYk/mpmZmZmZiT+amZmZmZmJP5qZmZmZmYk/mpmZmZmZiT+amZmZmZmJP5qZmZmZmYk/mpmZmZmZiT+amZmZmZmJP5qZmZmZmYk/mpmZmZmZiT+amZmZmZmJP5qZmZmZmYk/mpmZmZmZiT+amZmZmZmJP5qZmZmZmYk/mpmZmZmZiT+amZmZmZmJP5qZmZmZmYk/mpmZmZmZiT+amZmZmZmJP5qZmZmZmYk/mpmZmZmZiT+amZmZmZmJP5qZmZmZmYk/mpmZmZmZiT+amZmZmZmJP5qZmZmZmYk/mpmZmZmZiT+amZmZmZmJP5qZmZmZmYk/mpmZmZmZiT+amZmZmZmJP5qZmZmZmYk/mpmZmZmZiT+amZmZmZmJP5qZmZmZmYk/mpmZmZmZiT+amZmZmZmJP5qZmZmZmYk/mpmZmZmZiT+amZmZmZmJP5qZmZmZmYk/mpmZmZmZiT+amZmZmZmJP5qZmZmZmYk/mpmZmZmZiT+amZmZmZmJP5qZmZmZmYk/mpmZmZmZiT+amZmZmZmJP5qZmZmZmYk/mpmZmZmZiT+amZmZmZmJP5qZmZmZmYk/mpmZmZmZiT+amZmZmZmJP5qZmZmZmYk/mpmZmZmZiT+amZmZmZmJP5qZmZmZmYk/mpmZmZmZiT+amZmZmZmJP5qZmZmZmYk/mpmZmZmZiT+amZmZmZmJP5qZmZmZmYk/mpmZmZmZiT+amZmZmZmJP5qZmZmZmYk/mpmZmZmZiT+amZmZmZmJPw==",
          "dtype": "f8"
         },
         "yaxis": "y3"
        },
        {
         "marker": {
          "color": "darkorange"
         },
         "name": "Round 1",
         "opacity": 0.85,
         "showlegend": false,
         "type": "bar",
         "x": {
          "bdata": "AAECAwQFBgcICQoLDA0ODxAREhMUFRYXGBkaGxwdHh8gISIjJCUmJygpKissLS4vMDEyMzQ1Njc4OTo7PD0+P0BBQkNERUZHSElKS0xNTk8=",
          "dtype": "i1"
         },
         "xaxis": "x3",
         "y": {
          "bdata": "U0lcNoLqiT9N7qswJzo0P1NJXDaC6ok/U0lcNoLqiT9TSVw2guqJP1NJXDaC6ok/U0lcNoLqiT9TSVw2guqJP1NJXDaC6ok/U0lcNoLqiT9TSVw2guqJP1NJXDaC6ok/U0lcNoLqiT9TSVw2guqJP1NJXDaC6ok/U0lcNoLqiT9TSVw2guqJP1NJXDaC6ok/U0lcNoLqiT9TSVw2guqJP1NJXDaC6ok/U0lcNoLqiT9TSVw2guqJP1NJXDaC6ok/U0lcNoLqiT9TSVw2guqJP1NJXDaC6ok/U0lcNoLqiT9TSVw2guqJP1NJXDaC6ok/U0lcNoLqiT9TSVw2guqJP1NJXDaC6ok/U0lcNoLqiT9TSVw2guqJP1NJXDaC6ok/U0lcNoLqiT9TSVw2guqJP1NJXDaC6ok/U0lcNoLqiT9TSVw2guqJP1NJXDaC6ok/U0lcNoLqiT9TSVw2guqJP1NJXDaC6ok/U0lcNoLqiT9TSVw2guqJP1NJXDaC6ok/U0lcNoLqiT9TSVw2guqJP1NJXDaC6ok/U0lcNoLqiT9TSVw2guqJP1NJXDaC6ok/U0lcNoLqiT9TSVw2guqJP1NJXDaC6ok/U0lcNoLqiT9TSVw2guqJP1NJXDaC6ok/U0lcNoLqiT9TSVw2guqJP1NJXDaC6ok/U0lcNoLqiT9TSVw2guqJP1NJXDaC6ok/U0lcNoLqiT9TSVw2guqJP1NJXDaC6ok/U0lcNoLqiT9TSVw2guqJP1NJXDaC6ok/U0lcNoLqiT9TSVw2guqJP1NJXDaC6ok/U0lcNoLqiT9TSVw2guqJP1NJXDaC6ok/U0lcNoLqiT9TSVw2guqJPw==",
          "dtype": "f8"
         },
         "yaxis": "y3"
        }
       ],
       "layout": {
        "annotations": [
         {
          "font": {
           "size": 16
          },
          "showarrow": false,
          "text": "Position 0",
          "x": 0.5,
          "xanchor": "center",
          "xref": "paper",
          "y": 1,
          "yanchor": "bottom",
          "yref": "paper"
         },
         {
          "font": {
           "size": 16
          },
          "showarrow": false,
          "text": "Position 1",
          "x": 0.5,
          "xanchor": "center",
          "xref": "paper",
          "y": 0.6399999999999999,
          "yanchor": "bottom",
          "yref": "paper"
         },
         {
          "font": {
           "size": 16
          },
          "showarrow": false,
          "text": "Position 2",
          "x": 0.5,
          "xanchor": "center",
          "xref": "paper",
          "y": 0.27999999999999997,
          "yanchor": "bottom",
          "yref": "paper"
         }
        ],
        "bargap": 0.15,
        "barmode": "group",
        "height": 1050,
        "template": {
         "data": {
          "bar": [
           {
            "error_x": {
             "color": "#2a3f5f"
            },
            "error_y": {
             "color": "#2a3f5f"
            },
            "marker": {
             "line": {
              "color": "white",
              "width": 0.5
             },
             "pattern": {
              "fillmode": "overlay",
              "size": 10,
              "solidity": 0.2
             }
            },
            "type": "bar"
           }
          ],
          "barpolar": [
           {
            "marker": {
             "line": {
              "color": "white",
              "width": 0.5
             },
             "pattern": {
              "fillmode": "overlay",
              "size": 10,
              "solidity": 0.2
             }
            },
            "type": "barpolar"
           }
          ],
          "carpet": [
           {
            "aaxis": {
             "endlinecolor": "#2a3f5f",
             "gridcolor": "#C8D4E3",
             "linecolor": "#C8D4E3",
             "minorgridcolor": "#C8D4E3",
             "startlinecolor": "#2a3f5f"
            },
            "baxis": {
             "endlinecolor": "#2a3f5f",
             "gridcolor": "#C8D4E3",
             "linecolor": "#C8D4E3",
             "minorgridcolor": "#C8D4E3",
             "startlinecolor": "#2a3f5f"
            },
            "type": "carpet"
           }
          ],
          "choropleth": [
           {
            "colorbar": {
             "outlinewidth": 0,
             "ticks": ""
            },
            "type": "choropleth"
           }
          ],
          "contour": [
           {
            "colorbar": {
             "outlinewidth": 0,
             "ticks": ""
            },
            "colorscale": [
             [
              0,
              "#0d0887"
             ],
             [
              0.1111111111111111,
              "#46039f"
             ],
             [
              0.2222222222222222,
              "#7201a8"
             ],
             [
              0.3333333333333333,
              "#9c179e"
             ],
             [
              0.4444444444444444,
              "#bd3786"
             ],
             [
              0.5555555555555556,
              "#d8576b"
             ],
             [
              0.6666666666666666,
              "#ed7953"
             ],
             [
              0.7777777777777778,
              "#fb9f3a"
             ],
             [
              0.8888888888888888,
              "#fdca26"
             ],
             [
              1,
              "#f0f921"
             ]
            ],
            "type": "contour"
           }
          ],
          "contourcarpet": [
           {
            "colorbar": {
             "outlinewidth": 0,
             "ticks": ""
            },
            "type": "contourcarpet"
           }
          ],
          "heatmap": [
           {
            "colorbar": {
             "outlinewidth": 0,
             "ticks": ""
            },
            "colorscale": [
             [
              0,
              "#0d0887"
             ],
             [
              0.1111111111111111,
              "#46039f"
             ],
             [
              0.2222222222222222,
              "#7201a8"
             ],
             [
              0.3333333333333333,
              "#9c179e"
             ],
             [
              0.4444444444444444,
              "#bd3786"
             ],
             [
              0.5555555555555556,
              "#d8576b"
             ],
             [
              0.6666666666666666,
              "#ed7953"
             ],
             [
              0.7777777777777778,
              "#fb9f3a"
             ],
             [
              0.8888888888888888,
              "#fdca26"
             ],
             [
              1,
              "#f0f921"
             ]
            ],
            "type": "heatmap"
           }
          ],
          "histogram": [
           {
            "marker": {
             "pattern": {
              "fillmode": "overlay",
              "size": 10,
              "solidity": 0.2
             }
            },
            "type": "histogram"
           }
          ],
          "histogram2d": [
           {
            "colorbar": {
             "outlinewidth": 0,
             "ticks": ""
            },
            "colorscale": [
             [
              0,
              "#0d0887"
             ],
             [
              0.1111111111111111,
              "#46039f"
             ],
             [
              0.2222222222222222,
              "#7201a8"
             ],
             [
              0.3333333333333333,
              "#9c179e"
             ],
             [
              0.4444444444444444,
              "#bd3786"
             ],
             [
              0.5555555555555556,
              "#d8576b"
             ],
             [
              0.6666666666666666,
              "#ed7953"
             ],
             [
              0.7777777777777778,
              "#fb9f3a"
             ],
             [
              0.8888888888888888,
              "#fdca26"
             ],
             [
              1,
              "#f0f921"
             ]
            ],
            "type": "histogram2d"
           }
          ],
          "histogram2dcontour": [
           {
            "colorbar": {
             "outlinewidth": 0,
             "ticks": ""
            },
            "colorscale": [
             [
              0,
              "#0d0887"
             ],
             [
              0.1111111111111111,
              "#46039f"
             ],
             [
              0.2222222222222222,
              "#7201a8"
             ],
             [
              0.3333333333333333,
              "#9c179e"
             ],
             [
              0.4444444444444444,
              "#bd3786"
             ],
             [
              0.5555555555555556,
              "#d8576b"
             ],
             [
              0.6666666666666666,
              "#ed7953"
             ],
             [
              0.7777777777777778,
              "#fb9f3a"
             ],
             [
              0.8888888888888888,
              "#fdca26"
             ],
             [
              1,
              "#f0f921"
             ]
            ],
            "type": "histogram2dcontour"
           }
          ],
          "mesh3d": [
           {
            "colorbar": {
             "outlinewidth": 0,
             "ticks": ""
            },
            "type": "mesh3d"
           }
          ],
          "parcoords": [
           {
            "line": {
             "colorbar": {
              "outlinewidth": 0,
              "ticks": ""
             }
            },
            "type": "parcoords"
           }
          ],
          "pie": [
           {
            "automargin": true,
            "type": "pie"
           }
          ],
          "scatter": [
           {
            "fillpattern": {
             "fillmode": "overlay",
             "size": 10,
             "solidity": 0.2
            },
            "type": "scatter"
           }
          ],
          "scatter3d": [
           {
            "line": {
             "colorbar": {
              "outlinewidth": 0,
              "ticks": ""
             }
            },
            "marker": {
             "colorbar": {
              "outlinewidth": 0,
              "ticks": ""
             }
            },
            "type": "scatter3d"
           }
          ],
          "scattercarpet": [
           {
            "marker": {
             "colorbar": {
              "outlinewidth": 0,
              "ticks": ""
             }
            },
            "type": "scattercarpet"
           }
          ],
          "scattergeo": [
           {
            "marker": {
             "colorbar": {
              "outlinewidth": 0,
              "ticks": ""
             }
            },
            "type": "scattergeo"
           }
          ],
          "scattergl": [
           {
            "marker": {
             "colorbar": {
              "outlinewidth": 0,
              "ticks": ""
             }
            },
            "type": "scattergl"
           }
          ],
          "scattermap": [
           {
            "marker": {
             "colorbar": {
              "outlinewidth": 0,
              "ticks": ""
             }
            },
            "type": "scattermap"
           }
          ],
          "scattermapbox": [
           {
            "marker": {
             "colorbar": {
              "outlinewidth": 0,
              "ticks": ""
             }
            },
            "type": "scattermapbox"
           }
          ],
          "scatterpolar": [
           {
            "marker": {
             "colorbar": {
              "outlinewidth": 0,
              "ticks": ""
             }
            },
            "type": "scatterpolar"
           }
          ],
          "scatterpolargl": [
           {
            "marker": {
             "colorbar": {
              "outlinewidth": 0,
              "ticks": ""
             }
            },
            "type": "scatterpolargl"
           }
          ],
          "scatterternary": [
           {
            "marker": {
             "colorbar": {
              "outlinewidth": 0,
              "ticks": ""
             }
            },
            "type": "scatterternary"
           }
          ],
          "surface": [
           {
            "colorbar": {
             "outlinewidth": 0,
             "ticks": ""
            },
            "colorscale": [
             [
              0,
              "#0d0887"
             ],
             [
              0.1111111111111111,
              "#46039f"
             ],
             [
              0.2222222222222222,
              "#7201a8"
             ],
             [
              0.3333333333333333,
              "#9c179e"
             ],
             [
              0.4444444444444444,
              "#bd3786"
             ],
             [
              0.5555555555555556,
              "#d8576b"
             ],
             [
              0.6666666666666666,
              "#ed7953"
             ],
             [
              0.7777777777777778,
              "#fb9f3a"
             ],
             [
              0.8888888888888888,
              "#fdca26"
             ],
             [
              1,
              "#f0f921"
             ]
            ],
            "type": "surface"
           }
          ],
          "table": [
           {
            "cells": {
             "fill": {
              "color": "#EBF0F8"
             },
             "line": {
              "color": "white"
             }
            },
            "header": {
             "fill": {
              "color": "#C8D4E3"
             },
             "line": {
              "color": "white"
             }
            },
            "type": "table"
           }
          ]
         },
         "layout": {
          "annotationdefaults": {
           "arrowcolor": "#2a3f5f",
           "arrowhead": 0,
           "arrowwidth": 1
          },
          "autotypenumbers": "strict",
          "coloraxis": {
           "colorbar": {
            "outlinewidth": 0,
            "ticks": ""
           }
          },
          "colorscale": {
           "diverging": [
            [
             0,
             "#8e0152"
            ],
            [
             0.1,
             "#c51b7d"
            ],
            [
             0.2,
             "#de77ae"
            ],
            [
             0.3,
             "#f1b6da"
            ],
            [
             0.4,
             "#fde0ef"
            ],
            [
             0.5,
             "#f7f7f7"
            ],
            [
             0.6,
             "#e6f5d0"
            ],
            [
             0.7,
             "#b8e186"
            ],
            [
             0.8,
             "#7fbc41"
            ],
            [
             0.9,
             "#4d9221"
            ],
            [
             1,
             "#276419"
            ]
           ],
           "sequential": [
            [
             0,
             "#0d0887"
            ],
            [
             0.1111111111111111,
             "#46039f"
            ],
            [
             0.2222222222222222,
             "#7201a8"
            ],
            [
             0.3333333333333333,
             "#9c179e"
            ],
            [
             0.4444444444444444,
             "#bd3786"
            ],
            [
             0.5555555555555556,
             "#d8576b"
            ],
            [
             0.6666666666666666,
             "#ed7953"
            ],
            [
             0.7777777777777778,
             "#fb9f3a"
            ],
            [
             0.8888888888888888,
             "#fdca26"
            ],
            [
             1,
             "#f0f921"
            ]
           ],
           "sequentialminus": [
            [
             0,
             "#0d0887"
            ],
            [
             0.1111111111111111,
             "#46039f"
            ],
            [
             0.2222222222222222,
             "#7201a8"
            ],
            [
             0.3333333333333333,
             "#9c179e"
            ],
            [
             0.4444444444444444,
             "#bd3786"
            ],
            [
             0.5555555555555556,
             "#d8576b"
            ],
            [
             0.6666666666666666,
             "#ed7953"
            ],
            [
             0.7777777777777778,
             "#fb9f3a"
            ],
            [
             0.8888888888888888,
             "#fdca26"
            ],
            [
             1,
             "#f0f921"
            ]
           ]
          },
          "colorway": [
           "#636efa",
           "#EF553B",
           "#00cc96",
           "#ab63fa",
           "#FFA15A",
           "#19d3f3",
           "#FF6692",
           "#B6E880",
           "#FF97FF",
           "#FECB52"
          ],
          "font": {
           "color": "#2a3f5f"
          },
          "geo": {
           "bgcolor": "white",
           "lakecolor": "white",
           "landcolor": "white",
           "showlakes": true,
           "showland": true,
           "subunitcolor": "#C8D4E3"
          },
          "hoverlabel": {
           "align": "left"
          },
          "hovermode": "closest",
          "mapbox": {
           "style": "light"
          },
          "paper_bgcolor": "white",
          "plot_bgcolor": "white",
          "polar": {
           "angularaxis": {
            "gridcolor": "#EBF0F8",
            "linecolor": "#EBF0F8",
            "ticks": ""
           },
           "bgcolor": "white",
           "radialaxis": {
            "gridcolor": "#EBF0F8",
            "linecolor": "#EBF0F8",
            "ticks": ""
           }
          },
          "scene": {
           "xaxis": {
            "backgroundcolor": "white",
            "gridcolor": "#DFE8F3",
            "gridwidth": 2,
            "linecolor": "#EBF0F8",
            "showbackground": true,
            "ticks": "",
            "zerolinecolor": "#EBF0F8"
           },
           "yaxis": {
            "backgroundcolor": "white",
            "gridcolor": "#DFE8F3",
            "gridwidth": 2,
            "linecolor": "#EBF0F8",
            "showbackground": true,
            "ticks": "",
            "zerolinecolor": "#EBF0F8"
           },
           "zaxis": {
            "backgroundcolor": "white",
            "gridcolor": "#DFE8F3",
            "gridwidth": 2,
            "linecolor": "#EBF0F8",
            "showbackground": true,
            "ticks": "",
            "zerolinecolor": "#EBF0F8"
           }
          },
          "shapedefaults": {
           "line": {
            "color": "#2a3f5f"
           }
          },
          "ternary": {
           "aaxis": {
            "gridcolor": "#DFE8F3",
            "linecolor": "#A2B1C6",
            "ticks": ""
           },
           "baxis": {
            "gridcolor": "#DFE8F3",
            "linecolor": "#A2B1C6",
            "ticks": ""
           },
           "bgcolor": "white",
           "caxis": {
            "gridcolor": "#DFE8F3",
            "linecolor": "#A2B1C6",
            "ticks": ""
           }
          },
          "title": {
           "x": 0.05
          },
          "xaxis": {
           "automargin": true,
           "gridcolor": "#EBF0F8",
           "linecolor": "#EBF0F8",
           "ticks": "",
           "title": {
            "standoff": 15
           },
           "zerolinecolor": "#EBF0F8",
           "zerolinewidth": 2
          },
          "yaxis": {
           "automargin": true,
           "gridcolor": "#EBF0F8",
           "linecolor": "#EBF0F8",
           "ticks": "",
           "title": {
            "standoff": 15
           },
           "zerolinecolor": "#EBF0F8",
           "zerolinewidth": 2
          }
         }
        },
        "title": {
         "text": "Position-aware TS \u2014 Round 0 vs 1"
        },
        "xaxis": {
         "anchor": "y",
         "domain": [
          0,
          1
         ],
         "tickmode": "array",
         "ticktext": [
          "0",
          "1",
          "2",
          "3",
          "4",
          "5",
          "6",
          "7",
          "8",
          "9",
          "10",
          "11",
          "12",
          "13",
          "14",
          "15",
          "16",
          "17",
          "18",
          "19",
          "20",
          "21",
          "22",
          "23",
          "24",
          "25",
          "26",
          "27",
          "28",
          "29",
          "30",
          "31",
          "32",
          "33",
          "34",
          "35",
          "36",
          "37",
          "38",
          "39",
          "40",
          "41",
          "42",
          "43",
          "44",
          "45",
          "46",
          "47",
          "48",
          "49",
          "50",
          "51",
          "52",
          "53",
          "54",
          "55",
          "56",
          "57",
          "58",
          "59",
          "60",
          "61",
          "62",
          "63",
          "64",
          "65",
          "66",
          "67",
          "68",
          "69",
          "70",
          "71",
          "72",
          "73",
          "74",
          "75",
          "76",
          "77",
          "78",
          "79"
         ],
         "tickvals": {
          "bdata": "AAECAwQFBgcICQoLDA0ODxAREhMUFRYXGBkaGxwdHh8gISIjJCUmJygpKissLS4vMDEyMzQ1Njc4OTo7PD0+P0BBQkNERUZHSElKS0xNTk8=",
          "dtype": "i1"
         },
         "title": {
          "text": ""
         }
        },
        "xaxis2": {
         "anchor": "y2",
         "domain": [
          0,
          1
         ],
         "tickmode": "array",
         "ticktext": [
          "0",
          "1",
          "2",
          "3",
          "4",
          "5",
          "6",
          "7",
          "8",
          "9",
          "10",
          "11",
          "12",
          "13",
          "14",
          "15",
          "16",
          "17",
          "18",
          "19",
          "20",
          "21",
          "22",
          "23",
          "24",
          "25",
          "26",
          "27",
          "28",
          "29",
          "30",
          "31",
          "32",
          "33",
          "34",
          "35",
          "36",
          "37",
          "38",
          "39",
          "40",
          "41",
          "42",
          "43",
          "44",
          "45",
          "46",
          "47",
          "48",
          "49",
          "50",
          "51",
          "52",
          "53",
          "54",
          "55",
          "56",
          "57",
          "58",
          "59",
          "60",
          "61",
          "62",
          "63",
          "64",
          "65",
          "66",
          "67",
          "68",
          "69",
          "70",
          "71",
          "72",
          "73",
          "74",
          "75",
          "76",
          "77",
          "78",
          "79"
         ],
         "tickvals": {
          "bdata": "AAECAwQFBgcICQoLDA0ODxAREhMUFRYXGBkaGxwdHh8gISIjJCUmJygpKissLS4vMDEyMzQ1Njc4OTo7PD0+P0BBQkNERUZHSElKS0xNTk8=",
          "dtype": "i1"
         },
         "title": {
          "text": ""
         }
        },
        "xaxis3": {
         "anchor": "y3",
         "domain": [
          0,
          1
         ],
         "tickmode": "array",
         "ticktext": [
          "0",
          "1",
          "2",
          "3",
          "4",
          "5",
          "6",
          "7",
          "8",
          "9",
          "10",
          "11",
          "12",
          "13",
          "14",
          "15",
          "16",
          "17",
          "18",
          "19",
          "20",
          "21",
          "22",
          "23",
          "24",
          "25",
          "26",
          "27",
          "28",
          "29",
          "30",
          "31",
          "32",
          "33",
          "34",
          "35",
          "36",
          "37",
          "38",
          "39",
          "40",
          "41",
          "42",
          "43",
          "44",
          "45",
          "46",
          "47",
          "48",
          "49",
          "50",
          "51",
          "52",
          "53",
          "54",
          "55",
          "56",
          "57",
          "58",
          "59",
          "60",
          "61",
          "62",
          "63",
          "64",
          "65",
          "66",
          "67",
          "68",
          "69",
          "70",
          "71",
          "72",
          "73",
          "74",
          "75",
          "76",
          "77",
          "78",
          "79"
         ],
         "tickvals": {
          "bdata": "AAECAwQFBgcICQoLDA0ODxAREhMUFRYXGBkaGxwdHh8gISIjJCUmJygpKissLS4vMDEyMzQ1Njc4OTo7PD0+P0BBQkNERUZHSElKS0xNTk8=",
          "dtype": "i1"
         },
         "title": {
          "text": "Action ID (0\u201379)"
         }
        },
        "yaxis": {
         "anchor": "x",
         "domain": [
          0.72,
          1
         ],
         "range": [
          0,
          0.015817901234567902
         ],
         "title": {
          "text": "P(select)"
         }
        },
        "yaxis2": {
         "anchor": "x2",
         "domain": [
          0.36,
          0.6399999999999999
         ],
         "range": [
          0,
          0.015817901234567902
         ],
         "title": {
          "text": "P(select)"
         }
        },
        "yaxis3": {
         "anchor": "x3",
         "domain": [
          0,
          0.27999999999999997
         ],
         "range": [
          0,
          0.015817901234567902
         ],
         "title": {
          "text": "P(select)"
         }
        }
       }
      }
     },
     "metadata": {},
     "output_type": "display_data"
    },
    {
     "data": {
      "application/vnd.plotly.v1+json": {
       "config": {
        "plotlyServerURL": "https://plot.ly"
       },
       "data": [
        {
         "marker": {
          "color": "steelblue"
         },
         "name": "Round 1",
         "opacity": 0.6,
         "showlegend": true,
         "type": "bar",
         "x": {
          "bdata": "AAECAwQFBgcICQoLDA0ODxAREhMUFRYXGBkaGxwdHh8gISIjJCUmJygpKissLS4vMDEyMzQ1Njc4OTo7PD0+P0BBQkNERUZHSElKS0xNTk8=",
          "dtype": "i1"
         },
         "xaxis": "x",
         "y": {
          "bdata": "U0lcNoLqiT9TSVw2guqJP1NJXDaC6ok/U0lcNoLqiT9TSVw2guqJP1NJXDaC6ok/U0lcNoLqiT9TSVw2guqJP1NJXDaC6ok/U0lcNoLqiT9TSVw2guqJP1NJXDaC6ok/U0lcNoLqiT9TSVw2guqJP1NJXDaC6ok/U0lcNoLqiT9TSVw2guqJP1NJXDaC6ok/U0lcNoLqiT9TSVw2guqJP1NJXDaC6ok/U0lcNoLqiT9TSVw2guqJP1NJXDaC6ok/U0lcNoLqiT9TSVw2guqJP1NJXDaC6ok/U0lcNoLqiT9TSVw2guqJP1NJXDaC6ok/U0lcNoLqiT9TSVw2guqJP1NJXDaC6ok/U0lcNoLqiT9TSVw2guqJP1NJXDaC6ok/U0lcNoLqiT9TSVw2guqJP1NJXDaC6ok/U0lcNoLqiT9TSVw2guqJP1NJXDaC6ok/U0lcNoLqiT9TSVw2guqJP1NJXDaC6ok/U0lcNoLqiT9TSVw2guqJP1NJXDaC6ok/U0lcNoLqiT9TSVw2guqJP1NJXDaC6ok/U0lcNoLqiT9TSVw2guqJP1NJXDaC6ok/U0lcNoLqiT9TSVw2guqJP1NJXDaC6ok/U0lcNoLqiT9TSVw2guqJP1NJXDaC6ok/U0lcNoLqiT9TSVw2guqJP1NJXDaC6ok/U0lcNoLqiT9TSVw2guqJP1NJXDaC6ok/Te6rMCc6ND9TSVw2guqJP1NJXDaC6ok/U0lcNoLqiT9TSVw2guqJP1NJXDaC6ok/U0lcNoLqiT9TSVw2guqJP1NJXDaC6ok/U0lcNoLqiT9TSVw2guqJP1NJXDaC6ok/U0lcNoLqiT9TSVw2guqJPw==",
          "dtype": "f8"
         },
         "yaxis": "y"
        },
        {
         "marker": {
          "color": "darkorange"
         },
         "name": "Round 2",
         "opacity": 0.85,
         "showlegend": true,
         "type": "bar",
         "x": {
          "bdata": "AAECAwQFBgcICQoLDA0ODxAREhMUFRYXGBkaGxwdHh8gISIjJCUmJygpKissLS4vMDEyMzQ1Njc4OTo7PD0+P0BBQkNERUZHSElKS0xNTk8=",
          "dtype": "i1"
         },
         "xaxis": "x",
         "y": {
          "bdata": "LUMc6+I2ij/d71AU6BOJPwd8fhghPIo/Un5S7dPxiD+NtFTejnCKPz7t8NdkjYo/0ETY8PRKiT+BQ6hSsweKP/oK0oxF04k/Eyf3OxQFij+At0CC4seIP7N78rBQa4o/cF8HzhlRij/+Q/rt68CJP4EJ3Lqbp4o/cCU7NgLxij+/mgMEc/SIP8Qlx53SwYo/eNFXkGYsij/ZQpCDEmaKP8iYu5aQD4o/C3va4a/Jij85tMh2vp+KPyx96IL6lok/otEdxM4Uij9f7/54r1qJP6LRHcTOFIo/t+7mqQ65iT/UfQBSmziJPxhgH5268ok/t2J/2T15iD8HfH4YITyKP/KYgcr494k/A30iT5KuiT8HtkqwOJyJP2wm32xzY4o/Yygn2lVIiT+aX80BgjmKP0qYaftXVoo/F5rrNNJSiT+BQ6hSsweKP/rQBfUtc4o/MXxETIkkij+RJ0nXTL6JP3CZ02UxsYk/eJeL+E7Mij86evzepj+LP9AKDFnd6ok/cJnTZTGxiT+mft5UpMKIP/bRqSuf5Yk/pkQSvYxiiT/uX1lpUgqKP6pDboYb8Ik/UkSGVbyRiT+7Jw8LtaaJPwu1pnnHKYo/W3wKgPEMij//CS5W1GCKP9lCkIMSZoo/tyizQSYZiT857pQO1v+JP7PviuB/K4k/npj1Yignij8sfeiC+paJPxea6zTSUok/8WjjiLX45D5OC170FaSJP0bT2cngKIk/5SfVPh2PiT9wXwfOGVGKP8zR4/c2/Yk/Ugq6vaQxij+aX80BgjmKPwu1pnnHKYo/X+/+eK9aiT/QCgxZ3eqJP07RkVz+Q4o/bCbfbHNjij9XCRaHM7+KPw==",
          "dtype": "f8"
         },
         "yaxis": "y"
        },
        {
         "marker": {
          "color": "steelblue"
         },
         "name": "Round 1",
         "opacity": 0.6,
         "showlegend": false,
         "type": "bar",
         "x": {
          "bdata": "AAECAwQFBgcICQoLDA0ODxAREhMUFRYXGBkaGxwdHh8gISIjJCUmJygpKissLS4vMDEyMzQ1Njc4OTo7PD0+P0BBQkNERUZHSElKS0xNTk8=",
          "dtype": "i1"
         },
         "xaxis": "x2",
         "y": {
          "bdata": "U0lcNoLqiT9TSVw2guqJP1NJXDaC6ok/U0lcNoLqiT9TSVw2guqJP1NJXDaC6ok/U0lcNoLqiT9TSVw2guqJP1NJXDaC6ok/U0lcNoLqiT9TSVw2guqJP1NJXDaC6ok/U0lcNoLqiT9TSVw2guqJP1NJXDaC6ok/U0lcNoLqiT9TSVw2guqJP1NJXDaC6ok/U0lcNoLqiT9TSVw2guqJP1NJXDaC6ok/U0lcNoLqiT9TSVw2guqJP1NJXDaC6ok/U0lcNoLqiT9TSVw2guqJP1NJXDaC6ok/U0lcNoLqiT9TSVw2guqJP1NJXDaC6ok/U0lcNoLqiT9TSVw2guqJP1NJXDaC6ok/U0lcNoLqiT9TSVw2guqJP1NJXDaC6ok/U0lcNoLqiT9TSVw2guqJP1NJXDaC6ok/U0lcNoLqiT9TSVw2guqJP1NJXDaC6ok/U0lcNoLqiT9TSVw2guqJP1NJXDaC6ok/U0lcNoLqiT9TSVw2guqJP1NJXDaC6ok/U0lcNoLqiT9TSVw2guqJP1NJXDaC6ok/U0lcNoLqiT9TSVw2guqJP1NJXDaC6ok/U0lcNoLqiT9TSVw2guqJP1NJXDaC6ok/U0lcNoLqiT9TSVw2guqJP1NJXDaC6ok/U0lcNoLqiT9TSVw2guqJP1NJXDaC6ok/U0lcNoLqiT9TSVw2guqJP1NJXDaC6ok/U0lcNoLqiT9TSVw2guqJP1NJXDaC6ok/U0lcNoLqiT9TSVw2guqJP1NJXDaC6ok/U0lcNoLqiT9TSVw2guqJP1NJXDaC6ok/U0lcNoLqiT9TSVw2guqJP1NJXDaC6ok/Te6rMCc6ND9TSVw2guqJPw==",
          "dtype": "f8"
         },
         "yaxis": "y2"
        },
        {
         "marker": {
          "color": "darkorange"
         },
         "name": "Round 2",
         "opacity": 0.85,
         "showlegend": false,
         "type": "bar",
         "x": {
          "bdata": "AAECAwQFBgcICQoLDA0ODxAREhMUFRYXGBkaGxwdHh8gISIjJCUmJygpKissLS4vMDEyMzQ1Njc4OTo7PD0+P0BBQkNERUZHSElKS0xNTk8=",
          "dtype": "i1"
         },
         "xaxis": "x2",
         "y": {
          "bdata": "JJf/kH77ij8YYB+duvKJP+qymNh8XIs/9tGpK5/liT8YYB+duvKJP+G04EVfQYo/KAr0iTxJij/EX5M16iGKP33Qs1n1uYo/+tAF9S1zij8TJ/c7FAWKP0qYaftXVoo/6SYxCKwcij+iC+pb5nSJP4FDqFKzB4o/bCbfbHNjij8LKT+p9umIP9RDNLqD2Ik/X+/+eK9aiT/ImLuWkA+KP2tgqwSLw4k/u+1Cc51Gij857pQO1v+JP6p9Oh4zUIk/1QloImx4ij/de7jkuFOKPxea6zTSUok/gQncupunij9Wfa62Yn+JP1t8CoDxDIo/4e6s3XahiT+mCkYldQKKP+Un1T4dj4k/s3vysFBrij9fe2ZJgJqKP2PuWkI+6Ik/lialoNtLij/QRNjw9EqJPwu1pnnHKYo/KETAIVSpiT/M0eP3Nv2JP6pDboYb8Ik/4e6s3XahiT+ztb5IaMuJP4m1+BQA44k/Ugq6vaQxij89J71vfO2JP4FDqFKzB4o/bCbfbHNjij9r1EM0uoOIP7O1vkhoy4k/t+7mqQ65iT+AfXTqymeJP5VgcTjzq4k/kSdJ10y+iT8LtaZ5xymKP9DQP8HFioo/cJnTZTGxiT/ymIHK+PeJP69Cyk+qfYo/gUOoUrMHij/ZfFwbKsaJP3SYLy/APoo/2UKQgxJmij817zhFR3KJP5nTZTGx+Yg/Arfu5qkOiT8LtaZ5xymKP2cng6Pk1Yk/B/AWSFD8iD/YtiizQSaJP/bRqSuf5Yk/X+/+eK9aiT8+7fDXZI2KP6pDboYb8Ik/mdNlMbH5iD/dtYR80LOJP+5fWWlSCoo/aR1VTRB17z4HfH4YITyKPw==",
          "dtype": "f8"
         },
         "yaxis": "y2"
        },
        {
         "marker": {
          "color": "steelblue"
         },
         "name": "Round 1",
         "opacity": 0.6,
         "showlegend": false,
         "type": "bar",
         "x": {
          "bdata": "AAECAwQFBgcICQoLDA0ODxAREhMUFRYXGBkaGxwdHh8gISIjJCUmJygpKissLS4vMDEyMzQ1Njc4OTo7PD0+P0BBQkNERUZHSElKS0xNTk8=",
          "dtype": "i1"
         },
         "xaxis": "x3",
         "y": {
          "bdata": "U0lcNoLqiT9N7qswJzo0P1NJXDaC6ok/U0lcNoLqiT9TSVw2guqJP1NJXDaC6ok/U0lcNoLqiT9TSVw2guqJP1NJXDaC6ok/U0lcNoLqiT9TSVw2guqJP1NJXDaC6ok/U0lcNoLqiT9TSVw2guqJP1NJXDaC6ok/U0lcNoLqiT9TSVw2guqJP1NJXDaC6ok/U0lcNoLqiT9TSVw2guqJP1NJXDaC6ok/U0lcNoLqiT9TSVw2guqJP1NJXDaC6ok/U0lcNoLqiT9TSVw2guqJP1NJXDaC6ok/U0lcNoLqiT9TSVw2guqJP1NJXDaC6ok/U0lcNoLqiT9TSVw2guqJP1NJXDaC6ok/U0lcNoLqiT9TSVw2guqJP1NJXDaC6ok/U0lcNoLqiT9TSVw2guqJP1NJXDaC6ok/U0lcNoLqiT9TSVw2guqJP1NJXDaC6ok/U0lcNoLqiT9TSVw2guqJP1NJXDaC6ok/U0lcNoLqiT9TSVw2guqJP1NJXDaC6ok/U0lcNoLqiT9TSVw2guqJP1NJXDaC6ok/U0lcNoLqiT9TSVw2guqJP1NJXDaC6ok/U0lcNoLqiT9TSVw2guqJP1NJXDaC6ok/U0lcNoLqiT9TSVw2guqJP1NJXDaC6ok/U0lcNoLqiT9TSVw2guqJP1NJXDaC6ok/U0lcNoLqiT9TSVw2guqJP1NJXDaC6ok/U0lcNoLqiT9TSVw2guqJP1NJXDaC6ok/U0lcNoLqiT9TSVw2guqJP1NJXDaC6ok/U0lcNoLqiT9TSVw2guqJP1NJXDaC6ok/U0lcNoLqiT9TSVw2guqJP1NJXDaC6ok/U0lcNoLqiT9TSVw2guqJPw==",
          "dtype": "f8"
         },
         "yaxis": "y3"
        },
        {
         "marker": {
          "color": "darkorange"
         },
         "name": "Round 2",
         "opacity": 0.85,
         "showlegend": false,
         "type": "bar",
         "x": {
          "bdata": "AAECAwQFBgcICQoLDA0ODxAREhMUFRYXGBkaGxwdHh8gISIjJCUmJygpKissLS4vMDEyMzQ1Njc4OTo7PD0+P0BBQkNERUZHSElKS0xNTk8=",
          "dtype": "i1"
         },
         "xaxis": "x3",
         "y": {
          "bdata": "dNL7xteeiT/xaOOItfjUPo0o7Q2+MIk/hXzQs1n1iT9ftTLhl/qJP6LRHcTOFIo/t+7mqQ65iT89J71vfO2JPwt72uGvyYo/LH3ogvqWiT/EX5M16iGKP5EnSddMvok/1QloImx4ij8LKT+p9umIP54MjpJX54g/2UKQgxJmij+amZmZmZmJP+G04EVfQYo/Yygn2lVIiT8TJ/c7FAWKP3gLJCh+jIk/D7QCQ1a3ij8P7s7abReKP3CZ02UxsYk/aLPqc7UViz8HfH4YITyKP7N78rBQa4o/r0LKT6p9ij8PKJtyhXeJPz7t8NdkjYo/Z2FPO/w1iT9O0ZFc/kOKP/oK0oxF04k/QmDl0CLbiT+/YDdsW5SJP9R9AFKbOIk/SgwCK4cWiT+ze/KwUGuKP4EJ3Lqbp4o/9tGpK5/liT817zhFR3KJP43uIHam0Ik/DyibcoV3iT//CS5W1GCKP/5D+u3rwIk/pkQSvYxiiT/htOBFX0GKP0qYaftXVoo/Sphp+1dWij8g0m9fB86JP05FKowtBIk/t+7mqQ65iT/hehSuR+GKP+5fWWlSCoo/MXxETIkkij8TJ/c7FAWKP28NbJVgcYg/INJvXwfOiT+mCkYldQKKP0aZDTLJyIk/kSdJ10y+iT9w626e6pCLP+2ZJQFqaok/yJi7lpAPij+mRBK9jGKJPyDSb18Hzok/zNHj9zb9iT+e0sH6P4eJP7e0GhL3WIo/V0PiHksfij9XCRaHM7+KP662Yn/ZPYk/3Xu45LhTij/M0eP3Nv2JPwd8fhghPIo/HF97ZkmAij940VeQZiyKP662Yn/ZPYk/0AoMWd3qiT/QCgxZ3eqJPw==",
          "dtype": "f8"
         },
         "yaxis": "y3"
        }
       ],
       "layout": {
        "annotations": [
         {
          "font": {
           "size": 16
          },
          "showarrow": false,
          "text": "Position 0",
          "x": 0.5,
          "xanchor": "center",
          "xref": "paper",
          "y": 1,
          "yanchor": "bottom",
          "yref": "paper"
         },
         {
          "font": {
           "size": 16
          },
          "showarrow": false,
          "text": "Position 1",
          "x": 0.5,
          "xanchor": "center",
          "xref": "paper",
          "y": 0.6399999999999999,
          "yanchor": "bottom",
          "yref": "paper"
         },
         {
          "font": {
           "size": 16
          },
          "showarrow": false,
          "text": "Position 2",
          "x": 0.5,
          "xanchor": "center",
          "xref": "paper",
          "y": 0.27999999999999997,
          "yanchor": "bottom",
          "yref": "paper"
         }
        ],
        "bargap": 0.15,
        "barmode": "group",
        "height": 1050,
        "template": {
         "data": {
          "bar": [
           {
            "error_x": {
             "color": "#2a3f5f"
            },
            "error_y": {
             "color": "#2a3f5f"
            },
            "marker": {
             "line": {
              "color": "white",
              "width": 0.5
             },
             "pattern": {
              "fillmode": "overlay",
              "size": 10,
              "solidity": 0.2
             }
            },
            "type": "bar"
           }
          ],
          "barpolar": [
           {
            "marker": {
             "line": {
              "color": "white",
              "width": 0.5
             },
             "pattern": {
              "fillmode": "overlay",
              "size": 10,
              "solidity": 0.2
             }
            },
            "type": "barpolar"
           }
          ],
          "carpet": [
           {
            "aaxis": {
             "endlinecolor": "#2a3f5f",
             "gridcolor": "#C8D4E3",
             "linecolor": "#C8D4E3",
             "minorgridcolor": "#C8D4E3",
             "startlinecolor": "#2a3f5f"
            },
            "baxis": {
             "endlinecolor": "#2a3f5f",
             "gridcolor": "#C8D4E3",
             "linecolor": "#C8D4E3",
             "minorgridcolor": "#C8D4E3",
             "startlinecolor": "#2a3f5f"
            },
            "type": "carpet"
           }
          ],
          "choropleth": [
           {
            "colorbar": {
             "outlinewidth": 0,
             "ticks": ""
            },
            "type": "choropleth"
           }
          ],
          "contour": [
           {
            "colorbar": {
             "outlinewidth": 0,
             "ticks": ""
            },
            "colorscale": [
             [
              0,
              "#0d0887"
             ],
             [
              0.1111111111111111,
              "#46039f"
             ],
             [
              0.2222222222222222,
              "#7201a8"
             ],
             [
              0.3333333333333333,
              "#9c179e"
             ],
             [
              0.4444444444444444,
              "#bd3786"
             ],
             [
              0.5555555555555556,
              "#d8576b"
             ],
             [
              0.6666666666666666,
              "#ed7953"
             ],
             [
              0.7777777777777778,
              "#fb9f3a"
             ],
             [
              0.8888888888888888,
              "#fdca26"
             ],
             [
              1,
              "#f0f921"
             ]
            ],
            "type": "contour"
           }
          ],
          "contourcarpet": [
           {
            "colorbar": {
             "outlinewidth": 0,
             "ticks": ""
            },
            "type": "contourcarpet"
           }
          ],
          "heatmap": [
           {
            "colorbar": {
             "outlinewidth": 0,
             "ticks": ""
            },
            "colorscale": [
             [
              0,
              "#0d0887"
             ],
             [
              0.1111111111111111,
              "#46039f"
             ],
             [
              0.2222222222222222,
              "#7201a8"
             ],
             [
              0.3333333333333333,
              "#9c179e"
             ],
             [
              0.4444444444444444,
              "#bd3786"
             ],
             [
              0.5555555555555556,
              "#d8576b"
             ],
             [
              0.6666666666666666,
              "#ed7953"
             ],
             [
              0.7777777777777778,
              "#fb9f3a"
             ],
             [
              0.8888888888888888,
              "#fdca26"
             ],
             [
              1,
              "#f0f921"
             ]
            ],
            "type": "heatmap"
           }
          ],
          "histogram": [
           {
            "marker": {
             "pattern": {
              "fillmode": "overlay",
              "size": 10,
              "solidity": 0.2
             }
            },
            "type": "histogram"
           }
          ],
          "histogram2d": [
           {
            "colorbar": {
             "outlinewidth": 0,
             "ticks": ""
            },
            "colorscale": [
             [
              0,
              "#0d0887"
             ],
             [
              0.1111111111111111,
              "#46039f"
             ],
             [
              0.2222222222222222,
              "#7201a8"
             ],
             [
              0.3333333333333333,
              "#9c179e"
             ],
             [
              0.4444444444444444,
              "#bd3786"
             ],
             [
              0.5555555555555556,
              "#d8576b"
             ],
             [
              0.6666666666666666,
              "#ed7953"
             ],
             [
              0.7777777777777778,
              "#fb9f3a"
             ],
             [
              0.8888888888888888,
              "#fdca26"
             ],
             [
              1,
              "#f0f921"
             ]
            ],
            "type": "histogram2d"
           }
          ],
          "histogram2dcontour": [
           {
            "colorbar": {
             "outlinewidth": 0,
             "ticks": ""
            },
            "colorscale": [
             [
              0,
              "#0d0887"
             ],
             [
              0.1111111111111111,
              "#46039f"
             ],
             [
              0.2222222222222222,
              "#7201a8"
             ],
             [
              0.3333333333333333,
              "#9c179e"
             ],
             [
              0.4444444444444444,
              "#bd3786"
             ],
             [
              0.5555555555555556,
              "#d8576b"
             ],
             [
              0.6666666666666666,
              "#ed7953"
             ],
             [
              0.7777777777777778,
              "#fb9f3a"
             ],
             [
              0.8888888888888888,
              "#fdca26"
             ],
             [
              1,
              "#f0f921"
             ]
            ],
            "type": "histogram2dcontour"
           }
          ],
          "mesh3d": [
           {
            "colorbar": {
             "outlinewidth": 0,
             "ticks": ""
            },
            "type": "mesh3d"
           }
          ],
          "parcoords": [
           {
            "line": {
             "colorbar": {
              "outlinewidth": 0,
              "ticks": ""
             }
            },
            "type": "parcoords"
           }
          ],
          "pie": [
           {
            "automargin": true,
            "type": "pie"
           }
          ],
          "scatter": [
           {
            "fillpattern": {
             "fillmode": "overlay",
             "size": 10,
             "solidity": 0.2
            },
            "type": "scatter"
           }
          ],
          "scatter3d": [
           {
            "line": {
             "colorbar": {
              "outlinewidth": 0,
              "ticks": ""
             }
            },
            "marker": {
             "colorbar": {
              "outlinewidth": 0,
              "ticks": ""
             }
            },
            "type": "scatter3d"
           }
          ],
          "scattercarpet": [
           {
            "marker": {
             "colorbar": {
              "outlinewidth": 0,
              "ticks": ""
             }
            },
            "type": "scattercarpet"
           }
          ],
          "scattergeo": [
           {
            "marker": {
             "colorbar": {
              "outlinewidth": 0,
              "ticks": ""
             }
            },
            "type": "scattergeo"
           }
          ],
          "scattergl": [
           {
            "marker": {
             "colorbar": {
              "outlinewidth": 0,
              "ticks": ""
             }
            },
            "type": "scattergl"
           }
          ],
          "scattermap": [
           {
            "marker": {
             "colorbar": {
              "outlinewidth": 0,
              "ticks": ""
             }
            },
            "type": "scattermap"
           }
          ],
          "scattermapbox": [
           {
            "marker": {
             "colorbar": {
              "outlinewidth": 0,
              "ticks": ""
             }
            },
            "type": "scattermapbox"
           }
          ],
          "scatterpolar": [
           {
            "marker": {
             "colorbar": {
              "outlinewidth": 0,
              "ticks": ""
             }
            },
            "type": "scatterpolar"
           }
          ],
          "scatterpolargl": [
           {
            "marker": {
             "colorbar": {
              "outlinewidth": 0,
              "ticks": ""
             }
            },
            "type": "scatterpolargl"
           }
          ],
          "scatterternary": [
           {
            "marker": {
             "colorbar": {
              "outlinewidth": 0,
              "ticks": ""
             }
            },
            "type": "scatterternary"
           }
          ],
          "surface": [
           {
            "colorbar": {
             "outlinewidth": 0,
             "ticks": ""
            },
            "colorscale": [
             [
              0,
              "#0d0887"
             ],
             [
              0.1111111111111111,
              "#46039f"
             ],
             [
              0.2222222222222222,
              "#7201a8"
             ],
             [
              0.3333333333333333,
              "#9c179e"
             ],
             [
              0.4444444444444444,
              "#bd3786"
             ],
             [
              0.5555555555555556,
              "#d8576b"
             ],
             [
              0.6666666666666666,
              "#ed7953"
             ],
             [
              0.7777777777777778,
              "#fb9f3a"
             ],
             [
              0.8888888888888888,
              "#fdca26"
             ],
             [
              1,
              "#f0f921"
             ]
            ],
            "type": "surface"
           }
          ],
          "table": [
           {
            "cells": {
             "fill": {
              "color": "#EBF0F8"
             },
             "line": {
              "color": "white"
             }
            },
            "header": {
             "fill": {
              "color": "#C8D4E3"
             },
             "line": {
              "color": "white"
             }
            },
            "type": "table"
           }
          ]
         },
         "layout": {
          "annotationdefaults": {
           "arrowcolor": "#2a3f5f",
           "arrowhead": 0,
           "arrowwidth": 1
          },
          "autotypenumbers": "strict",
          "coloraxis": {
           "colorbar": {
            "outlinewidth": 0,
            "ticks": ""
           }
          },
          "colorscale": {
           "diverging": [
            [
             0,
             "#8e0152"
            ],
            [
             0.1,
             "#c51b7d"
            ],
            [
             0.2,
             "#de77ae"
            ],
            [
             0.3,
             "#f1b6da"
            ],
            [
             0.4,
             "#fde0ef"
            ],
            [
             0.5,
             "#f7f7f7"
            ],
            [
             0.6,
             "#e6f5d0"
            ],
            [
             0.7,
             "#b8e186"
            ],
            [
             0.8,
             "#7fbc41"
            ],
            [
             0.9,
             "#4d9221"
            ],
            [
             1,
             "#276419"
            ]
           ],
           "sequential": [
            [
             0,
             "#0d0887"
            ],
            [
             0.1111111111111111,
             "#46039f"
            ],
            [
             0.2222222222222222,
             "#7201a8"
            ],
            [
             0.3333333333333333,
             "#9c179e"
            ],
            [
             0.4444444444444444,
             "#bd3786"
            ],
            [
             0.5555555555555556,
             "#d8576b"
            ],
            [
             0.6666666666666666,
             "#ed7953"
            ],
            [
             0.7777777777777778,
             "#fb9f3a"
            ],
            [
             0.8888888888888888,
             "#fdca26"
            ],
            [
             1,
             "#f0f921"
            ]
           ],
           "sequentialminus": [
            [
             0,
             "#0d0887"
            ],
            [
             0.1111111111111111,
             "#46039f"
            ],
            [
             0.2222222222222222,
             "#7201a8"
            ],
            [
             0.3333333333333333,
             "#9c179e"
            ],
            [
             0.4444444444444444,
             "#bd3786"
            ],
            [
             0.5555555555555556,
             "#d8576b"
            ],
            [
             0.6666666666666666,
             "#ed7953"
            ],
            [
             0.7777777777777778,
             "#fb9f3a"
            ],
            [
             0.8888888888888888,
             "#fdca26"
            ],
            [
             1,
             "#f0f921"
            ]
           ]
          },
          "colorway": [
           "#636efa",
           "#EF553B",
           "#00cc96",
           "#ab63fa",
           "#FFA15A",
           "#19d3f3",
           "#FF6692",
           "#B6E880",
           "#FF97FF",
           "#FECB52"
          ],
          "font": {
           "color": "#2a3f5f"
          },
          "geo": {
           "bgcolor": "white",
           "lakecolor": "white",
           "landcolor": "white",
           "showlakes": true,
           "showland": true,
           "subunitcolor": "#C8D4E3"
          },
          "hoverlabel": {
           "align": "left"
          },
          "hovermode": "closest",
          "mapbox": {
           "style": "light"
          },
          "paper_bgcolor": "white",
          "plot_bgcolor": "white",
          "polar": {
           "angularaxis": {
            "gridcolor": "#EBF0F8",
            "linecolor": "#EBF0F8",
            "ticks": ""
           },
           "bgcolor": "white",
           "radialaxis": {
            "gridcolor": "#EBF0F8",
            "linecolor": "#EBF0F8",
            "ticks": ""
           }
          },
          "scene": {
           "xaxis": {
            "backgroundcolor": "white",
            "gridcolor": "#DFE8F3",
            "gridwidth": 2,
            "linecolor": "#EBF0F8",
            "showbackground": true,
            "ticks": "",
            "zerolinecolor": "#EBF0F8"
           },
           "yaxis": {
            "backgroundcolor": "white",
            "gridcolor": "#DFE8F3",
            "gridwidth": 2,
            "linecolor": "#EBF0F8",
            "showbackground": true,
            "ticks": "",
            "zerolinecolor": "#EBF0F8"
           },
           "zaxis": {
            "backgroundcolor": "white",
            "gridcolor": "#DFE8F3",
            "gridwidth": 2,
            "linecolor": "#EBF0F8",
            "showbackground": true,
            "ticks": "",
            "zerolinecolor": "#EBF0F8"
           }
          },
          "shapedefaults": {
           "line": {
            "color": "#2a3f5f"
           }
          },
          "ternary": {
           "aaxis": {
            "gridcolor": "#DFE8F3",
            "linecolor": "#A2B1C6",
            "ticks": ""
           },
           "baxis": {
            "gridcolor": "#DFE8F3",
            "linecolor": "#A2B1C6",
            "ticks": ""
           },
           "bgcolor": "white",
           "caxis": {
            "gridcolor": "#DFE8F3",
            "linecolor": "#A2B1C6",
            "ticks": ""
           }
          },
          "title": {
           "x": 0.05
          },
          "xaxis": {
           "automargin": true,
           "gridcolor": "#EBF0F8",
           "linecolor": "#EBF0F8",
           "ticks": "",
           "title": {
            "standoff": 15
           },
           "zerolinecolor": "#EBF0F8",
           "zerolinewidth": 2
          },
          "yaxis": {
           "automargin": true,
           "gridcolor": "#EBF0F8",
           "linecolor": "#EBF0F8",
           "ticks": "",
           "title": {
            "standoff": 15
           },
           "zerolinecolor": "#EBF0F8",
           "zerolinewidth": 2
          }
         }
        },
        "title": {
         "text": "Position-aware TS \u2014 Round 1 vs 2"
        },
        "xaxis": {
         "anchor": "y",
         "domain": [
          0,
          1
         ],
         "tickmode": "array",
         "ticktext": [
          "0",
          "1",
          "2",
          "3",
          "4",
          "5",
          "6",
          "7",
          "8",
          "9",
          "10",
          "11",
          "12",
          "13",
          "14",
          "15",
          "16",
          "17",
          "18",
          "19",
          "20",
          "21",
          "22",
          "23",
          "24",
          "25",
          "26",
          "27",
          "28",
          "29",
          "30",
          "31",
          "32",
          "33",
          "34",
          "35",
          "36",
          "37",
          "38",
          "39",
          "40",
          "41",
          "42",
          "43",
          "44",
          "45",
          "46",
          "47",
          "48",
          "49",
          "50",
          "51",
          "52",
          "53",
          "54",
          "55",
          "56",
          "57",
          "58",
          "59",
          "60",
          "61",
          "62",
          "63",
          "64",
          "65",
          "66",
          "67",
          "68",
          "69",
          "70",
          "71",
          "72",
          "73",
          "74",
          "75",
          "76",
          "77",
          "78",
          "79"
         ],
         "tickvals": {
          "bdata": "AAECAwQFBgcICQoLDA0ODxAREhMUFRYXGBkaGxwdHh8gISIjJCUmJygpKissLS4vMDEyMzQ1Njc4OTo7PD0+P0BBQkNERUZHSElKS0xNTk8=",
          "dtype": "i1"
         },
         "title": {
          "text": ""
         }
        },
        "xaxis2": {
         "anchor": "y2",
         "domain": [
          0,
          1
         ],
         "tickmode": "array",
         "ticktext": [
          "0",
          "1",
          "2",
          "3",
          "4",
          "5",
          "6",
          "7",
          "8",
          "9",
          "10",
          "11",
          "12",
          "13",
          "14",
          "15",
          "16",
          "17",
          "18",
          "19",
          "20",
          "21",
          "22",
          "23",
          "24",
          "25",
          "26",
          "27",
          "28",
          "29",
          "30",
          "31",
          "32",
          "33",
          "34",
          "35",
          "36",
          "37",
          "38",
          "39",
          "40",
          "41",
          "42",
          "43",
          "44",
          "45",
          "46",
          "47",
          "48",
          "49",
          "50",
          "51",
          "52",
          "53",
          "54",
          "55",
          "56",
          "57",
          "58",
          "59",
          "60",
          "61",
          "62",
          "63",
          "64",
          "65",
          "66",
          "67",
          "68",
          "69",
          "70",
          "71",
          "72",
          "73",
          "74",
          "75",
          "76",
          "77",
          "78",
          "79"
         ],
         "tickvals": {
          "bdata": "AAECAwQFBgcICQoLDA0ODxAREhMUFRYXGBkaGxwdHh8gISIjJCUmJygpKissLS4vMDEyMzQ1Njc4OTo7PD0+P0BBQkNERUZHSElKS0xNTk8=",
          "dtype": "i1"
         },
         "title": {
          "text": ""
         }
        },
        "xaxis3": {
         "anchor": "y3",
         "domain": [
          0,
          1
         ],
         "tickmode": "array",
         "ticktext": [
          "0",
          "1",
          "2",
          "3",
          "4",
          "5",
          "6",
          "7",
          "8",
          "9",
          "10",
          "11",
          "12",
          "13",
          "14",
          "15",
          "16",
          "17",
          "18",
          "19",
          "20",
          "21",
          "22",
          "23",
          "24",
          "25",
          "26",
          "27",
          "28",
          "29",
          "30",
          "31",
          "32",
          "33",
          "34",
          "35",
          "36",
          "37",
          "38",
          "39",
          "40",
          "41",
          "42",
          "43",
          "44",
          "45",
          "46",
          "47",
          "48",
          "49",
          "50",
          "51",
          "52",
          "53",
          "54",
          "55",
          "56",
          "57",
          "58",
          "59",
          "60",
          "61",
          "62",
          "63",
          "64",
          "65",
          "66",
          "67",
          "68",
          "69",
          "70",
          "71",
          "72",
          "73",
          "74",
          "75",
          "76",
          "77",
          "78",
          "79"
         ],
         "tickvals": {
          "bdata": "AAECAwQFBgcICQoLDA0ODxAREhMUFRYXGBkaGxwdHh8gISIjJCUmJygpKissLS4vMDEyMzQ1Njc4OTo7PD0+P0BBQkNERUZHSElKS0xNTk8=",
          "dtype": "i1"
         },
         "title": {
          "text": "Action ID (0\u201379)"
         }
        },
        "yaxis": {
         "anchor": "x",
         "domain": [
          0.72,
          1
         ],
         "range": [
          0,
          0.01663125
         ],
         "title": {
          "text": "P(select)"
         }
        },
        "yaxis2": {
         "anchor": "x2",
         "domain": [
          0.36,
          0.6399999999999999
         ],
         "range": [
          0,
          0.0167
         ],
         "title": {
          "text": "P(select)"
         }
        },
        "yaxis3": {
         "anchor": "x3",
         "domain": [
          0,
          0.27999999999999997
         ],
         "range": [
          0,
          0.016825
         ],
         "title": {
          "text": "P(select)"
         }
        }
       }
      }
     },
     "metadata": {},
     "output_type": "display_data"
    }
   ],
   "source": [
    "tracker = ThompsonSlateTracker(\n",
    "    df=df, n_actions=bf[\"n_actions\"], positions=[0,1,2],\n",
    "    seed=7, factorize_by_position=True\n",
    ")\n",
    "samp1 = tracker.next_round(random_state=7, use_mc_if_needed=False)\n",
    "tracker.plot_compare(0, 1, title=\"Position-aware TS \u2014 Round 0 vs 1\")\n",
    "\n",
    "samp2 = tracker.next_round(random_state=7, use_mc_if_needed=True)\n",
    "tracker.plot_compare(1, 2, title=\"Position-aware TS \u2014 Round 1 vs 2\")"
   ]
  },
  {
   "cell_type": "code",
   "execution_count": 10,
   "id": "0ba83b5b",
   "metadata": {},
   "outputs": [
    {
     "ename": "SyntaxError",
     "evalue": "'break' outside loop (371449011.py, line 1)",
     "output_type": "error",
     "traceback": [
      "\u001b[0;36m  Cell \u001b[0;32mIn[10], line 1\u001b[0;36m\u001b[0m\n\u001b[0;31m    break\u001b[0m\n\u001b[0m    ^\u001b[0m\n\u001b[0;31mSyntaxError\u001b[0m\u001b[0;31m:\u001b[0m 'break' outside loop\n"
     ]
    }
   ],
   "source": [
    "break "
   ]
  },
  {
   "cell_type": "markdown",
   "id": "c2f5c26c",
   "metadata": {},
   "source": [
    "# Round 1 "
   ]
  },
  {
   "cell_type": "markdown",
   "id": "c5457a95",
   "metadata": {},
   "source": [
    "### 1A. Initialize alphas and betas"
   ]
  },
  {
   "cell_type": "code",
   "execution_count": 48,
   "id": "e344fbdc",
   "metadata": {},
   "outputs": [],
   "source": [
    "# ---------- Setup ----------\n",
    "n_actions = bf[\"n_actions\"]     # K=80\n",
    "positions = [0, 1, 2]\n",
    "\n",
    "# Priors: Beta(1,1) everywhere (Round 0 state)\n",
    "alpha = {pos: np.ones(n_actions, dtype=float) for pos in positions}\n",
    "beta  =  {pos: np.ones(n_actions, dtype=float) for pos in positions}\n",
    "\n",
    "# ---------- Round 0: before any updates ----------\n",
    "pmf_round0 = {pos: np.full(n_actions, 1.0 / n_actions) for pos in positions}  # uniform\n",
    "df_round0  = make_probs_df(round_num=0, alpha=alpha, beta=beta, pmf_by_pos=pmf_round0)"
   ]
  },
  {
   "cell_type": "markdown",
   "id": "1e584adf",
   "metadata": {},
   "source": [
    "### 1B. Sample Observation"
   ]
  },
  {
   "cell_type": "code",
   "execution_count": 49,
   "id": "c1adbf27",
   "metadata": {},
   "outputs": [
    {
     "data": {
      "text/html": [
       "<div>\n",
       "<style scoped>\n",
       "    .dataframe tbody tr th:only-of-type {\n",
       "        vertical-align: middle;\n",
       "    }\n",
       "\n",
       "    .dataframe tbody tr th {\n",
       "        vertical-align: top;\n",
       "    }\n",
       "\n",
       "    .dataframe thead th {\n",
       "        text-align: right;\n",
       "    }\n",
       "</style>\n",
       "<table border=\"1\" class=\"dataframe\">\n",
       "  <thead>\n",
       "    <tr style=\"text-align: right;\">\n",
       "      <th></th>\n",
       "      <th>action</th>\n",
       "      <th>position</th>\n",
       "      <th>reward</th>\n",
       "      <th>pscore</th>\n",
       "    </tr>\n",
       "  </thead>\n",
       "  <tbody>\n",
       "    <tr>\n",
       "      <th>0</th>\n",
       "      <td>66</td>\n",
       "      <td>0</td>\n",
       "      <td>0</td>\n",
       "      <td>0.0125</td>\n",
       "    </tr>\n",
       "    <tr>\n",
       "      <th>1</th>\n",
       "      <td>78</td>\n",
       "      <td>1</td>\n",
       "      <td>0</td>\n",
       "      <td>0.0125</td>\n",
       "    </tr>\n",
       "    <tr>\n",
       "      <th>2</th>\n",
       "      <td>1</td>\n",
       "      <td>2</td>\n",
       "      <td>0</td>\n",
       "      <td>0.0125</td>\n",
       "    </tr>\n",
       "  </tbody>\n",
       "</table>\n",
       "</div>"
      ],
      "text/plain": [
       "   action  position  reward  pscore\n",
       "0      66         0       0  0.0125\n",
       "1      78         1       0  0.0125\n",
       "2       1         2       0  0.0125"
      ]
     },
     "execution_count": 49,
     "metadata": {},
     "output_type": "execute_result"
    }
   ],
   "source": [
    "# ---------- Sample one observation per position from your log DF ----------\n",
    "# NOTE: set random_state=<int> for reproducibility; None for fresh randomness.\n",
    "sampled = (\n",
    "    df.groupby(\"position\", group_keys=False)\n",
    "      .apply(lambda x: x.sample(1, random_state=SEED))\n",
    "      .reset_index(drop=True)\n",
    ")\n",
    "sampled\n"
   ]
  },
  {
   "cell_type": "markdown",
   "id": "44a0a11f",
   "metadata": {},
   "source": [
    "### 1C. Update based on observations"
   ]
  },
  {
   "cell_type": "code",
   "execution_count": 50,
   "id": "dab09163",
   "metadata": {},
   "outputs": [
    {
     "name": "stdout",
     "output_type": "stream",
     "text": [
      "\n",
      "Updated actions across rounds:\n"
     ]
    },
    {
     "data": {
      "text/html": [
       "<div>\n",
       "<style scoped>\n",
       "    .dataframe tbody tr th:only-of-type {\n",
       "        vertical-align: middle;\n",
       "    }\n",
       "\n",
       "    .dataframe tbody tr th {\n",
       "        vertical-align: top;\n",
       "    }\n",
       "\n",
       "    .dataframe thead th {\n",
       "        text-align: right;\n",
       "    }\n",
       "</style>\n",
       "<table border=\"1\" class=\"dataframe\">\n",
       "  <thead>\n",
       "    <tr style=\"text-align: right;\">\n",
       "      <th></th>\n",
       "      <th>round</th>\n",
       "      <th>action</th>\n",
       "      <th>p_pos0</th>\n",
       "      <th>alpha_pos0</th>\n",
       "      <th>beta_pos0</th>\n",
       "      <th>p_pos1</th>\n",
       "      <th>alpha_pos1</th>\n",
       "      <th>beta_pos1</th>\n",
       "      <th>p_pos2</th>\n",
       "      <th>alpha_pos2</th>\n",
       "      <th>beta_pos2</th>\n",
       "    </tr>\n",
       "  </thead>\n",
       "  <tbody>\n",
       "    <tr>\n",
       "      <th>1</th>\n",
       "      <td>0</td>\n",
       "      <td>1</td>\n",
       "      <td>0.012500</td>\n",
       "      <td>1.0</td>\n",
       "      <td>1.0</td>\n",
       "      <td>0.012500</td>\n",
       "      <td>1.0</td>\n",
       "      <td>1.0</td>\n",
       "      <td>0.012500</td>\n",
       "      <td>1.0</td>\n",
       "      <td>1.0</td>\n",
       "    </tr>\n",
       "    <tr>\n",
       "      <th>66</th>\n",
       "      <td>0</td>\n",
       "      <td>66</td>\n",
       "      <td>0.012500</td>\n",
       "      <td>1.0</td>\n",
       "      <td>1.0</td>\n",
       "      <td>0.012500</td>\n",
       "      <td>1.0</td>\n",
       "      <td>1.0</td>\n",
       "      <td>0.012500</td>\n",
       "      <td>1.0</td>\n",
       "      <td>1.0</td>\n",
       "    </tr>\n",
       "    <tr>\n",
       "      <th>78</th>\n",
       "      <td>0</td>\n",
       "      <td>78</td>\n",
       "      <td>0.012500</td>\n",
       "      <td>1.0</td>\n",
       "      <td>1.0</td>\n",
       "      <td>0.012500</td>\n",
       "      <td>1.0</td>\n",
       "      <td>1.0</td>\n",
       "      <td>0.012500</td>\n",
       "      <td>1.0</td>\n",
       "      <td>1.0</td>\n",
       "    </tr>\n",
       "    <tr>\n",
       "      <th>81</th>\n",
       "      <td>1</td>\n",
       "      <td>1</td>\n",
       "      <td>0.012654</td>\n",
       "      <td>1.0</td>\n",
       "      <td>1.0</td>\n",
       "      <td>0.012654</td>\n",
       "      <td>1.0</td>\n",
       "      <td>1.0</td>\n",
       "      <td>0.000309</td>\n",
       "      <td>1.0</td>\n",
       "      <td>2.0</td>\n",
       "    </tr>\n",
       "    <tr>\n",
       "      <th>146</th>\n",
       "      <td>1</td>\n",
       "      <td>66</td>\n",
       "      <td>0.000309</td>\n",
       "      <td>1.0</td>\n",
       "      <td>2.0</td>\n",
       "      <td>0.012654</td>\n",
       "      <td>1.0</td>\n",
       "      <td>1.0</td>\n",
       "      <td>0.012654</td>\n",
       "      <td>1.0</td>\n",
       "      <td>1.0</td>\n",
       "    </tr>\n",
       "    <tr>\n",
       "      <th>158</th>\n",
       "      <td>1</td>\n",
       "      <td>78</td>\n",
       "      <td>0.012654</td>\n",
       "      <td>1.0</td>\n",
       "      <td>1.0</td>\n",
       "      <td>0.000309</td>\n",
       "      <td>1.0</td>\n",
       "      <td>2.0</td>\n",
       "      <td>0.012654</td>\n",
       "      <td>1.0</td>\n",
       "      <td>1.0</td>\n",
       "    </tr>\n",
       "  </tbody>\n",
       "</table>\n",
       "</div>"
      ],
      "text/plain": [
       "     round  action    p_pos0  alpha_pos0  beta_pos0    p_pos1  alpha_pos1  \\\n",
       "1        0       1  0.012500         1.0        1.0  0.012500         1.0   \n",
       "66       0      66  0.012500         1.0        1.0  0.012500         1.0   \n",
       "78       0      78  0.012500         1.0        1.0  0.012500         1.0   \n",
       "81       1       1  0.012654         1.0        1.0  0.012654         1.0   \n",
       "146      1      66  0.000309         1.0        2.0  0.012654         1.0   \n",
       "158      1      78  0.012654         1.0        1.0  0.000309         1.0   \n",
       "\n",
       "     beta_pos1    p_pos2  alpha_pos2  beta_pos2  \n",
       "1          1.0  0.012500         1.0        1.0  \n",
       "66         1.0  0.012500         1.0        1.0  \n",
       "78         1.0  0.012500         1.0        1.0  \n",
       "81         1.0  0.000309         1.0        2.0  \n",
       "146        1.0  0.012654         1.0        1.0  \n",
       "158        2.0  0.012654         1.0        1.0  "
      ]
     },
     "execution_count": 50,
     "metadata": {},
     "output_type": "execute_result"
    }
   ],
   "source": [
    "# ---------- Round 1: apply sampled updates ----------\n",
    "for _, r in sampled.iterrows():\n",
    "    a_obs = int(r[\"action\"])\n",
    "    p_obs = int(r[\"position\"])\n",
    "    r_obs = int(r[\"reward\"])\n",
    "    alpha[p_obs][a_obs] += r_obs\n",
    "    beta[p_obs][a_obs]  += (1 - r_obs)\n",
    "\n",
    "\n",
    "# Build PMFs after the (one) update at each position (closed-form)\n",
    "pmf_round1 = {}\n",
    "for pos in positions:\n",
    "    obs_row = sampled.loc[sampled[\"position\"] == pos].iloc[0]\n",
    "    pmf_round1[pos] = exact_pmf_one_update(\n",
    "        K=n_actions,\n",
    "        updated_arm=int(obs_row[\"action\"]),\n",
    "        reward=int(obs_row[\"reward\"]),\n",
    "    )\n",
    "\n",
    "df_round1 = make_probs_df(round_num=1, alpha=alpha, beta=beta, pmf_by_pos=pmf_round1)\n",
    "\n",
    "\n",
    "# ---------- Combine rounds for tracking ----------\n",
    "df_probs_all_rounds = pd.concat([df_round0, df_round1], ignore_index=True)\n",
    "\n",
    "# Peek: show just the three updated actions across rounds\n",
    "updated_actions = sampled[\"action\"].tolist()\n",
    "print(\"\\nUpdated actions across rounds:\")\n",
    "df_probs_all_rounds[df_probs_all_rounds[\"action\"].isin(updated_actions)].sort_values([\"round\",\"action\"])\n"
   ]
  },
  {
   "cell_type": "code",
   "execution_count": 51,
   "id": "478d3f81",
   "metadata": {},
   "outputs": [
    {
     "name": "stdout",
     "output_type": "stream",
     "text": [
      "Sampled (one row per position):\n",
      "   action  position  reward  pscore\n",
      "0      66         0       0  0.0125\n",
      "1      78         1       0  0.0125\n",
      "2       1         2       0  0.0125\n"
     ]
    },
    {
     "data": {
      "application/vnd.plotly.v1+json": {
       "config": {
        "plotlyServerURL": "https://plot.ly"
       },
       "data": [
        {
         "customdata": {
          "bdata": "AAAAAAAAAAAAAAAAAAAAAAAAAAAAAAAAAAAAAAAAAAAAAAAAAAAAAAAAAAAAAAAAAAAAAAAAAAAAAAAAAAAAAAAAAAAAAAAAAAAAAAAAAAA=",
          "dtype": "i1",
          "shape": "80, 1"
         },
         "hovertemplate": "Position: %{customdata[0]}<br>Action: %{x}<br>Round 0 (uniform)<br>P: %{y:.6f}<extra></extra>",
         "legendgroup": "roundA",
         "marker": {
          "color": "steelblue"
         },
         "name": "Round 0 (uniform)",
         "opacity": 0.6,
         "showlegend": true,
         "type": "bar",
         "x": {
          "bdata": "AAECAwQFBgcICQoLDA0ODxAREhMUFRYXGBkaGxwdHh8gISIjJCUmJygpKissLS4vMDEyMzQ1Njc4OTo7PD0+P0BBQkNERUZHSElKS0xNTk8=",
          "dtype": "i1"
         },
         "xaxis": "x",
         "y": {
          "bdata": "mpmZmZmZiT+amZmZmZmJP5qZmZmZmYk/mpmZmZmZiT+amZmZmZmJP5qZmZmZmYk/mpmZmZmZiT+amZmZmZmJP5qZmZmZmYk/mpmZmZmZiT+amZmZmZmJP5qZmZmZmYk/mpmZmZmZiT+amZmZmZmJP5qZmZmZmYk/mpmZmZmZiT+amZmZmZmJP5qZmZmZmYk/mpmZmZmZiT+amZmZmZmJP5qZmZmZmYk/mpmZmZmZiT+amZmZmZmJP5qZmZmZmYk/mpmZmZmZiT+amZmZmZmJP5qZmZmZmYk/mpmZmZmZiT+amZmZmZmJP5qZmZmZmYk/mpmZmZmZiT+amZmZmZmJP5qZmZmZmYk/mpmZmZmZiT+amZmZmZmJP5qZmZmZmYk/mpmZmZmZiT+amZmZmZmJP5qZmZmZmYk/mpmZmZmZiT+amZmZmZmJP5qZmZmZmYk/mpmZmZmZiT+amZmZmZmJP5qZmZmZmYk/mpmZmZmZiT+amZmZmZmJP5qZmZmZmYk/mpmZmZmZiT+amZmZmZmJP5qZmZmZmYk/mpmZmZmZiT+amZmZmZmJP5qZmZmZmYk/mpmZmZmZiT+amZmZmZmJP5qZmZmZmYk/mpmZmZmZiT+amZmZmZmJP5qZmZmZmYk/mpmZmZmZiT+amZmZmZmJP5qZmZmZmYk/mpmZmZmZiT+amZmZmZmJP5qZmZmZmYk/mpmZmZmZiT+amZmZmZmJP5qZmZmZmYk/mpmZmZmZiT+amZmZmZmJP5qZmZmZmYk/mpmZmZmZiT+amZmZmZmJP5qZmZmZmYk/mpmZmZmZiT+amZmZmZmJP5qZmZmZmYk/mpmZmZmZiT+amZmZmZmJPw==",
          "dtype": "f8"
         },
         "yaxis": "y"
        },
        {
         "customdata": {
          "bdata": "AAAAAAAAAAAAAAAAAAAAAAAAAAAAAAAAAAAAAAAAAAAAAAAAAAAAAAAAAAAAAAAAAAAAAAAAAAAAAAAAAAAAAAAAAAAAAAAAAAAAAAAAAAA=",
          "dtype": "i1",
          "shape": "80, 1"
         },
         "hovertemplate": "Position: %{customdata[0]}<br>Action: %{x}<br>Round 1 (updated)<br>P: %{y:.6f}<extra></extra>",
         "legendgroup": "roundB",
         "marker": {
          "color": "darkorange"
         },
         "name": "Round 1 (updated)",
         "opacity": 0.85,
         "showlegend": true,
         "type": "bar",
         "x": {
          "bdata": "AAECAwQFBgcICQoLDA0ODxAREhMUFRYXGBkaGxwdHh8gISIjJCUmJygpKissLS4vMDEyMzQ1Njc4OTo7PD0+P0BBQkNERUZHSElKS0xNTk8=",
          "dtype": "i1"
         },
         "xaxis": "x",
         "y": {
          "bdata": "U0lcNoLqiT9TSVw2guqJP1NJXDaC6ok/U0lcNoLqiT9TSVw2guqJP1NJXDaC6ok/U0lcNoLqiT9TSVw2guqJP1NJXDaC6ok/U0lcNoLqiT9TSVw2guqJP1NJXDaC6ok/U0lcNoLqiT9TSVw2guqJP1NJXDaC6ok/U0lcNoLqiT9TSVw2guqJP1NJXDaC6ok/U0lcNoLqiT9TSVw2guqJP1NJXDaC6ok/U0lcNoLqiT9TSVw2guqJP1NJXDaC6ok/U0lcNoLqiT9TSVw2guqJP1NJXDaC6ok/U0lcNoLqiT9TSVw2guqJP1NJXDaC6ok/U0lcNoLqiT9TSVw2guqJP1NJXDaC6ok/U0lcNoLqiT9TSVw2guqJP1NJXDaC6ok/U0lcNoLqiT9TSVw2guqJP1NJXDaC6ok/U0lcNoLqiT9TSVw2guqJP1NJXDaC6ok/U0lcNoLqiT9TSVw2guqJP1NJXDaC6ok/U0lcNoLqiT9TSVw2guqJP1NJXDaC6ok/U0lcNoLqiT9TSVw2guqJP1NJXDaC6ok/U0lcNoLqiT9TSVw2guqJP1NJXDaC6ok/U0lcNoLqiT9TSVw2guqJP1NJXDaC6ok/U0lcNoLqiT9TSVw2guqJP1NJXDaC6ok/U0lcNoLqiT9TSVw2guqJP1NJXDaC6ok/U0lcNoLqiT9TSVw2guqJP1NJXDaC6ok/Te6rMCc6ND9TSVw2guqJP1NJXDaC6ok/U0lcNoLqiT9TSVw2guqJP1NJXDaC6ok/U0lcNoLqiT9TSVw2guqJP1NJXDaC6ok/U0lcNoLqiT9TSVw2guqJP1NJXDaC6ok/U0lcNoLqiT9TSVw2guqJPw==",
          "dtype": "f8"
         },
         "yaxis": "y"
        },
        {
         "customdata": {
          "bdata": "AQEBAQEBAQEBAQEBAQEBAQEBAQEBAQEBAQEBAQEBAQEBAQEBAQEBAQEBAQEBAQEBAQEBAQEBAQEBAQEBAQEBAQEBAQEBAQEBAQEBAQEBAQE=",
          "dtype": "i1",
          "shape": "80, 1"
         },
         "hovertemplate": "Position: %{customdata[0]}<br>Action: %{x}<br>Round 0 (uniform)<br>P: %{y:.6f}<extra></extra>",
         "legendgroup": "roundA",
         "marker": {
          "color": "steelblue"
         },
         "name": "Round 0 (uniform)",
         "opacity": 0.6,
         "showlegend": false,
         "type": "bar",
         "x": {
          "bdata": "AAECAwQFBgcICQoLDA0ODxAREhMUFRYXGBkaGxwdHh8gISIjJCUmJygpKissLS4vMDEyMzQ1Njc4OTo7PD0+P0BBQkNERUZHSElKS0xNTk8=",
          "dtype": "i1"
         },
         "xaxis": "x2",
         "y": {
          "bdata": "mpmZmZmZiT+amZmZmZmJP5qZmZmZmYk/mpmZmZmZiT+amZmZmZmJP5qZmZmZmYk/mpmZmZmZiT+amZmZmZmJP5qZmZmZmYk/mpmZmZmZiT+amZmZmZmJP5qZmZmZmYk/mpmZmZmZiT+amZmZmZmJP5qZmZmZmYk/mpmZmZmZiT+amZmZmZmJP5qZmZmZmYk/mpmZmZmZiT+amZmZmZmJP5qZmZmZmYk/mpmZmZmZiT+amZmZmZmJP5qZmZmZmYk/mpmZmZmZiT+amZmZmZmJP5qZmZmZmYk/mpmZmZmZiT+amZmZmZmJP5qZmZmZmYk/mpmZmZmZiT+amZmZmZmJP5qZmZmZmYk/mpmZmZmZiT+amZmZmZmJP5qZmZmZmYk/mpmZmZmZiT+amZmZmZmJP5qZmZmZmYk/mpmZmZmZiT+amZmZmZmJP5qZmZmZmYk/mpmZmZmZiT+amZmZmZmJP5qZmZmZmYk/mpmZmZmZiT+amZmZmZmJP5qZmZmZmYk/mpmZmZmZiT+amZmZmZmJP5qZmZmZmYk/mpmZmZmZiT+amZmZmZmJP5qZmZmZmYk/mpmZmZmZiT+amZmZmZmJP5qZmZmZmYk/mpmZmZmZiT+amZmZmZmJP5qZmZmZmYk/mpmZmZmZiT+amZmZmZmJP5qZmZmZmYk/mpmZmZmZiT+amZmZmZmJP5qZmZmZmYk/mpmZmZmZiT+amZmZmZmJP5qZmZmZmYk/mpmZmZmZiT+amZmZmZmJP5qZmZmZmYk/mpmZmZmZiT+amZmZmZmJP5qZmZmZmYk/mpmZmZmZiT+amZmZmZmJP5qZmZmZmYk/mpmZmZmZiT+amZmZmZmJPw==",
          "dtype": "f8"
         },
         "yaxis": "y2"
        },
        {
         "customdata": {
          "bdata": "AQEBAQEBAQEBAQEBAQEBAQEBAQEBAQEBAQEBAQEBAQEBAQEBAQEBAQEBAQEBAQEBAQEBAQEBAQEBAQEBAQEBAQEBAQEBAQEBAQEBAQEBAQE=",
          "dtype": "i1",
          "shape": "80, 1"
         },
         "hovertemplate": "Position: %{customdata[0]}<br>Action: %{x}<br>Round 1 (updated)<br>P: %{y:.6f}<extra></extra>",
         "legendgroup": "roundB",
         "marker": {
          "color": "darkorange"
         },
         "name": "Round 1 (updated)",
         "opacity": 0.85,
         "showlegend": false,
         "type": "bar",
         "x": {
          "bdata": "AAECAwQFBgcICQoLDA0ODxAREhMUFRYXGBkaGxwdHh8gISIjJCUmJygpKissLS4vMDEyMzQ1Njc4OTo7PD0+P0BBQkNERUZHSElKS0xNTk8=",
          "dtype": "i1"
         },
         "xaxis": "x2",
         "y": {
          "bdata": "U0lcNoLqiT9TSVw2guqJP1NJXDaC6ok/U0lcNoLqiT9TSVw2guqJP1NJXDaC6ok/U0lcNoLqiT9TSVw2guqJP1NJXDaC6ok/U0lcNoLqiT9TSVw2guqJP1NJXDaC6ok/U0lcNoLqiT9TSVw2guqJP1NJXDaC6ok/U0lcNoLqiT9TSVw2guqJP1NJXDaC6ok/U0lcNoLqiT9TSVw2guqJP1NJXDaC6ok/U0lcNoLqiT9TSVw2guqJP1NJXDaC6ok/U0lcNoLqiT9TSVw2guqJP1NJXDaC6ok/U0lcNoLqiT9TSVw2guqJP1NJXDaC6ok/U0lcNoLqiT9TSVw2guqJP1NJXDaC6ok/U0lcNoLqiT9TSVw2guqJP1NJXDaC6ok/U0lcNoLqiT9TSVw2guqJP1NJXDaC6ok/U0lcNoLqiT9TSVw2guqJP1NJXDaC6ok/U0lcNoLqiT9TSVw2guqJP1NJXDaC6ok/U0lcNoLqiT9TSVw2guqJP1NJXDaC6ok/U0lcNoLqiT9TSVw2guqJP1NJXDaC6ok/U0lcNoLqiT9TSVw2guqJP1NJXDaC6ok/U0lcNoLqiT9TSVw2guqJP1NJXDaC6ok/U0lcNoLqiT9TSVw2guqJP1NJXDaC6ok/U0lcNoLqiT9TSVw2guqJP1NJXDaC6ok/U0lcNoLqiT9TSVw2guqJP1NJXDaC6ok/U0lcNoLqiT9TSVw2guqJP1NJXDaC6ok/U0lcNoLqiT9TSVw2guqJP1NJXDaC6ok/U0lcNoLqiT9TSVw2guqJP1NJXDaC6ok/U0lcNoLqiT9TSVw2guqJP1NJXDaC6ok/Te6rMCc6ND9TSVw2guqJPw==",
          "dtype": "f8"
         },
         "yaxis": "y2"
        },
        {
         "customdata": {
          "bdata": "AgICAgICAgICAgICAgICAgICAgICAgICAgICAgICAgICAgICAgICAgICAgICAgICAgICAgICAgICAgICAgICAgICAgICAgICAgICAgICAgI=",
          "dtype": "i1",
          "shape": "80, 1"
         },
         "hovertemplate": "Position: %{customdata[0]}<br>Action: %{x}<br>Round 0 (uniform)<br>P: %{y:.6f}<extra></extra>",
         "legendgroup": "roundA",
         "marker": {
          "color": "steelblue"
         },
         "name": "Round 0 (uniform)",
         "opacity": 0.6,
         "showlegend": false,
         "type": "bar",
         "x": {
          "bdata": "AAECAwQFBgcICQoLDA0ODxAREhMUFRYXGBkaGxwdHh8gISIjJCUmJygpKissLS4vMDEyMzQ1Njc4OTo7PD0+P0BBQkNERUZHSElKS0xNTk8=",
          "dtype": "i1"
         },
         "xaxis": "x3",
         "y": {
          "bdata": "mpmZmZmZiT+amZmZmZmJP5qZmZmZmYk/mpmZmZmZiT+amZmZmZmJP5qZmZmZmYk/mpmZmZmZiT+amZmZmZmJP5qZmZmZmYk/mpmZmZmZiT+amZmZmZmJP5qZmZmZmYk/mpmZmZmZiT+amZmZmZmJP5qZmZmZmYk/mpmZmZmZiT+amZmZmZmJP5qZmZmZmYk/mpmZmZmZiT+amZmZmZmJP5qZmZmZmYk/mpmZmZmZiT+amZmZmZmJP5qZmZmZmYk/mpmZmZmZiT+amZmZmZmJP5qZmZmZmYk/mpmZmZmZiT+amZmZmZmJP5qZmZmZmYk/mpmZmZmZiT+amZmZmZmJP5qZmZmZmYk/mpmZmZmZiT+amZmZmZmJP5qZmZmZmYk/mpmZmZmZiT+amZmZmZmJP5qZmZmZmYk/mpmZmZmZiT+amZmZmZmJP5qZmZmZmYk/mpmZmZmZiT+amZmZmZmJP5qZmZmZmYk/mpmZmZmZiT+amZmZmZmJP5qZmZmZmYk/mpmZmZmZiT+amZmZmZmJP5qZmZmZmYk/mpmZmZmZiT+amZmZmZmJP5qZmZmZmYk/mpmZmZmZiT+amZmZmZmJP5qZmZmZmYk/mpmZmZmZiT+amZmZmZmJP5qZmZmZmYk/mpmZmZmZiT+amZmZmZmJP5qZmZmZmYk/mpmZmZmZiT+amZmZmZmJP5qZmZmZmYk/mpmZmZmZiT+amZmZmZmJP5qZmZmZmYk/mpmZmZmZiT+amZmZmZmJP5qZmZmZmYk/mpmZmZmZiT+amZmZmZmJP5qZmZmZmYk/mpmZmZmZiT+amZmZmZmJP5qZmZmZmYk/mpmZmZmZiT+amZmZmZmJPw==",
          "dtype": "f8"
         },
         "yaxis": "y3"
        },
        {
         "customdata": {
          "bdata": "AgICAgICAgICAgICAgICAgICAgICAgICAgICAgICAgICAgICAgICAgICAgICAgICAgICAgICAgICAgICAgICAgICAgICAgICAgICAgICAgI=",
          "dtype": "i1",
          "shape": "80, 1"
         },
         "hovertemplate": "Position: %{customdata[0]}<br>Action: %{x}<br>Round 1 (updated)<br>P: %{y:.6f}<extra></extra>",
         "legendgroup": "roundB",
         "marker": {
          "color": "darkorange"
         },
         "name": "Round 1 (updated)",
         "opacity": 0.85,
         "showlegend": false,
         "type": "bar",
         "x": {
          "bdata": "AAECAwQFBgcICQoLDA0ODxAREhMUFRYXGBkaGxwdHh8gISIjJCUmJygpKissLS4vMDEyMzQ1Njc4OTo7PD0+P0BBQkNERUZHSElKS0xNTk8=",
          "dtype": "i1"
         },
         "xaxis": "x3",
         "y": {
          "bdata": "U0lcNoLqiT9N7qswJzo0P1NJXDaC6ok/U0lcNoLqiT9TSVw2guqJP1NJXDaC6ok/U0lcNoLqiT9TSVw2guqJP1NJXDaC6ok/U0lcNoLqiT9TSVw2guqJP1NJXDaC6ok/U0lcNoLqiT9TSVw2guqJP1NJXDaC6ok/U0lcNoLqiT9TSVw2guqJP1NJXDaC6ok/U0lcNoLqiT9TSVw2guqJP1NJXDaC6ok/U0lcNoLqiT9TSVw2guqJP1NJXDaC6ok/U0lcNoLqiT9TSVw2guqJP1NJXDaC6ok/U0lcNoLqiT9TSVw2guqJP1NJXDaC6ok/U0lcNoLqiT9TSVw2guqJP1NJXDaC6ok/U0lcNoLqiT9TSVw2guqJP1NJXDaC6ok/U0lcNoLqiT9TSVw2guqJP1NJXDaC6ok/U0lcNoLqiT9TSVw2guqJP1NJXDaC6ok/U0lcNoLqiT9TSVw2guqJP1NJXDaC6ok/U0lcNoLqiT9TSVw2guqJP1NJXDaC6ok/U0lcNoLqiT9TSVw2guqJP1NJXDaC6ok/U0lcNoLqiT9TSVw2guqJP1NJXDaC6ok/U0lcNoLqiT9TSVw2guqJP1NJXDaC6ok/U0lcNoLqiT9TSVw2guqJP1NJXDaC6ok/U0lcNoLqiT9TSVw2guqJP1NJXDaC6ok/U0lcNoLqiT9TSVw2guqJP1NJXDaC6ok/U0lcNoLqiT9TSVw2guqJP1NJXDaC6ok/U0lcNoLqiT9TSVw2guqJP1NJXDaC6ok/U0lcNoLqiT9TSVw2guqJP1NJXDaC6ok/U0lcNoLqiT9TSVw2guqJP1NJXDaC6ok/U0lcNoLqiT9TSVw2guqJPw==",
          "dtype": "f8"
         },
         "yaxis": "y3"
        }
       ],
       "layout": {
        "annotations": [
         {
          "font": {
           "size": 16
          },
          "showarrow": false,
          "text": "Position 0",
          "x": 0.5,
          "xanchor": "center",
          "xref": "paper",
          "y": 1,
          "yanchor": "bottom",
          "yref": "paper"
         },
         {
          "font": {
           "size": 16
          },
          "showarrow": false,
          "text": "Position 1",
          "x": 0.5,
          "xanchor": "center",
          "xref": "paper",
          "y": 0.6399999999999999,
          "yanchor": "bottom",
          "yref": "paper"
         },
         {
          "font": {
           "size": 16
          },
          "showarrow": false,
          "text": "Position 2",
          "x": 0.5,
          "xanchor": "center",
          "xref": "paper",
          "y": 0.27999999999999997,
          "yanchor": "bottom",
          "yref": "paper"
         }
        ],
        "bargap": 0.15,
        "barmode": "group",
        "height": 1020,
        "template": {
         "data": {
          "bar": [
           {
            "error_x": {
             "color": "#2a3f5f"
            },
            "error_y": {
             "color": "#2a3f5f"
            },
            "marker": {
             "line": {
              "color": "white",
              "width": 0.5
             },
             "pattern": {
              "fillmode": "overlay",
              "size": 10,
              "solidity": 0.2
             }
            },
            "type": "bar"
           }
          ],
          "barpolar": [
           {
            "marker": {
             "line": {
              "color": "white",
              "width": 0.5
             },
             "pattern": {
              "fillmode": "overlay",
              "size": 10,
              "solidity": 0.2
             }
            },
            "type": "barpolar"
           }
          ],
          "carpet": [
           {
            "aaxis": {
             "endlinecolor": "#2a3f5f",
             "gridcolor": "#C8D4E3",
             "linecolor": "#C8D4E3",
             "minorgridcolor": "#C8D4E3",
             "startlinecolor": "#2a3f5f"
            },
            "baxis": {
             "endlinecolor": "#2a3f5f",
             "gridcolor": "#C8D4E3",
             "linecolor": "#C8D4E3",
             "minorgridcolor": "#C8D4E3",
             "startlinecolor": "#2a3f5f"
            },
            "type": "carpet"
           }
          ],
          "choropleth": [
           {
            "colorbar": {
             "outlinewidth": 0,
             "ticks": ""
            },
            "type": "choropleth"
           }
          ],
          "contour": [
           {
            "colorbar": {
             "outlinewidth": 0,
             "ticks": ""
            },
            "colorscale": [
             [
              0,
              "#0d0887"
             ],
             [
              0.1111111111111111,
              "#46039f"
             ],
             [
              0.2222222222222222,
              "#7201a8"
             ],
             [
              0.3333333333333333,
              "#9c179e"
             ],
             [
              0.4444444444444444,
              "#bd3786"
             ],
             [
              0.5555555555555556,
              "#d8576b"
             ],
             [
              0.6666666666666666,
              "#ed7953"
             ],
             [
              0.7777777777777778,
              "#fb9f3a"
             ],
             [
              0.8888888888888888,
              "#fdca26"
             ],
             [
              1,
              "#f0f921"
             ]
            ],
            "type": "contour"
           }
          ],
          "contourcarpet": [
           {
            "colorbar": {
             "outlinewidth": 0,
             "ticks": ""
            },
            "type": "contourcarpet"
           }
          ],
          "heatmap": [
           {
            "colorbar": {
             "outlinewidth": 0,
             "ticks": ""
            },
            "colorscale": [
             [
              0,
              "#0d0887"
             ],
             [
              0.1111111111111111,
              "#46039f"
             ],
             [
              0.2222222222222222,
              "#7201a8"
             ],
             [
              0.3333333333333333,
              "#9c179e"
             ],
             [
              0.4444444444444444,
              "#bd3786"
             ],
             [
              0.5555555555555556,
              "#d8576b"
             ],
             [
              0.6666666666666666,
              "#ed7953"
             ],
             [
              0.7777777777777778,
              "#fb9f3a"
             ],
             [
              0.8888888888888888,
              "#fdca26"
             ],
             [
              1,
              "#f0f921"
             ]
            ],
            "type": "heatmap"
           }
          ],
          "histogram": [
           {
            "marker": {
             "pattern": {
              "fillmode": "overlay",
              "size": 10,
              "solidity": 0.2
             }
            },
            "type": "histogram"
           }
          ],
          "histogram2d": [
           {
            "colorbar": {
             "outlinewidth": 0,
             "ticks": ""
            },
            "colorscale": [
             [
              0,
              "#0d0887"
             ],
             [
              0.1111111111111111,
              "#46039f"
             ],
             [
              0.2222222222222222,
              "#7201a8"
             ],
             [
              0.3333333333333333,
              "#9c179e"
             ],
             [
              0.4444444444444444,
              "#bd3786"
             ],
             [
              0.5555555555555556,
              "#d8576b"
             ],
             [
              0.6666666666666666,
              "#ed7953"
             ],
             [
              0.7777777777777778,
              "#fb9f3a"
             ],
             [
              0.8888888888888888,
              "#fdca26"
             ],
             [
              1,
              "#f0f921"
             ]
            ],
            "type": "histogram2d"
           }
          ],
          "histogram2dcontour": [
           {
            "colorbar": {
             "outlinewidth": 0,
             "ticks": ""
            },
            "colorscale": [
             [
              0,
              "#0d0887"
             ],
             [
              0.1111111111111111,
              "#46039f"
             ],
             [
              0.2222222222222222,
              "#7201a8"
             ],
             [
              0.3333333333333333,
              "#9c179e"
             ],
             [
              0.4444444444444444,
              "#bd3786"
             ],
             [
              0.5555555555555556,
              "#d8576b"
             ],
             [
              0.6666666666666666,
              "#ed7953"
             ],
             [
              0.7777777777777778,
              "#fb9f3a"
             ],
             [
              0.8888888888888888,
              "#fdca26"
             ],
             [
              1,
              "#f0f921"
             ]
            ],
            "type": "histogram2dcontour"
           }
          ],
          "mesh3d": [
           {
            "colorbar": {
             "outlinewidth": 0,
             "ticks": ""
            },
            "type": "mesh3d"
           }
          ],
          "parcoords": [
           {
            "line": {
             "colorbar": {
              "outlinewidth": 0,
              "ticks": ""
             }
            },
            "type": "parcoords"
           }
          ],
          "pie": [
           {
            "automargin": true,
            "type": "pie"
           }
          ],
          "scatter": [
           {
            "fillpattern": {
             "fillmode": "overlay",
             "size": 10,
             "solidity": 0.2
            },
            "type": "scatter"
           }
          ],
          "scatter3d": [
           {
            "line": {
             "colorbar": {
              "outlinewidth": 0,
              "ticks": ""
             }
            },
            "marker": {
             "colorbar": {
              "outlinewidth": 0,
              "ticks": ""
             }
            },
            "type": "scatter3d"
           }
          ],
          "scattercarpet": [
           {
            "marker": {
             "colorbar": {
              "outlinewidth": 0,
              "ticks": ""
             }
            },
            "type": "scattercarpet"
           }
          ],
          "scattergeo": [
           {
            "marker": {
             "colorbar": {
              "outlinewidth": 0,
              "ticks": ""
             }
            },
            "type": "scattergeo"
           }
          ],
          "scattergl": [
           {
            "marker": {
             "colorbar": {
              "outlinewidth": 0,
              "ticks": ""
             }
            },
            "type": "scattergl"
           }
          ],
          "scattermap": [
           {
            "marker": {
             "colorbar": {
              "outlinewidth": 0,
              "ticks": ""
             }
            },
            "type": "scattermap"
           }
          ],
          "scattermapbox": [
           {
            "marker": {
             "colorbar": {
              "outlinewidth": 0,
              "ticks": ""
             }
            },
            "type": "scattermapbox"
           }
          ],
          "scatterpolar": [
           {
            "marker": {
             "colorbar": {
              "outlinewidth": 0,
              "ticks": ""
             }
            },
            "type": "scatterpolar"
           }
          ],
          "scatterpolargl": [
           {
            "marker": {
             "colorbar": {
              "outlinewidth": 0,
              "ticks": ""
             }
            },
            "type": "scatterpolargl"
           }
          ],
          "scatterternary": [
           {
            "marker": {
             "colorbar": {
              "outlinewidth": 0,
              "ticks": ""
             }
            },
            "type": "scatterternary"
           }
          ],
          "surface": [
           {
            "colorbar": {
             "outlinewidth": 0,
             "ticks": ""
            },
            "colorscale": [
             [
              0,
              "#0d0887"
             ],
             [
              0.1111111111111111,
              "#46039f"
             ],
             [
              0.2222222222222222,
              "#7201a8"
             ],
             [
              0.3333333333333333,
              "#9c179e"
             ],
             [
              0.4444444444444444,
              "#bd3786"
             ],
             [
              0.5555555555555556,
              "#d8576b"
             ],
             [
              0.6666666666666666,
              "#ed7953"
             ],
             [
              0.7777777777777778,
              "#fb9f3a"
             ],
             [
              0.8888888888888888,
              "#fdca26"
             ],
             [
              1,
              "#f0f921"
             ]
            ],
            "type": "surface"
           }
          ],
          "table": [
           {
            "cells": {
             "fill": {
              "color": "#EBF0F8"
             },
             "line": {
              "color": "white"
             }
            },
            "header": {
             "fill": {
              "color": "#C8D4E3"
             },
             "line": {
              "color": "white"
             }
            },
            "type": "table"
           }
          ]
         },
         "layout": {
          "annotationdefaults": {
           "arrowcolor": "#2a3f5f",
           "arrowhead": 0,
           "arrowwidth": 1
          },
          "autotypenumbers": "strict",
          "coloraxis": {
           "colorbar": {
            "outlinewidth": 0,
            "ticks": ""
           }
          },
          "colorscale": {
           "diverging": [
            [
             0,
             "#8e0152"
            ],
            [
             0.1,
             "#c51b7d"
            ],
            [
             0.2,
             "#de77ae"
            ],
            [
             0.3,
             "#f1b6da"
            ],
            [
             0.4,
             "#fde0ef"
            ],
            [
             0.5,
             "#f7f7f7"
            ],
            [
             0.6,
             "#e6f5d0"
            ],
            [
             0.7,
             "#b8e186"
            ],
            [
             0.8,
             "#7fbc41"
            ],
            [
             0.9,
             "#4d9221"
            ],
            [
             1,
             "#276419"
            ]
           ],
           "sequential": [
            [
             0,
             "#0d0887"
            ],
            [
             0.1111111111111111,
             "#46039f"
            ],
            [
             0.2222222222222222,
             "#7201a8"
            ],
            [
             0.3333333333333333,
             "#9c179e"
            ],
            [
             0.4444444444444444,
             "#bd3786"
            ],
            [
             0.5555555555555556,
             "#d8576b"
            ],
            [
             0.6666666666666666,
             "#ed7953"
            ],
            [
             0.7777777777777778,
             "#fb9f3a"
            ],
            [
             0.8888888888888888,
             "#fdca26"
            ],
            [
             1,
             "#f0f921"
            ]
           ],
           "sequentialminus": [
            [
             0,
             "#0d0887"
            ],
            [
             0.1111111111111111,
             "#46039f"
            ],
            [
             0.2222222222222222,
             "#7201a8"
            ],
            [
             0.3333333333333333,
             "#9c179e"
            ],
            [
             0.4444444444444444,
             "#bd3786"
            ],
            [
             0.5555555555555556,
             "#d8576b"
            ],
            [
             0.6666666666666666,
             "#ed7953"
            ],
            [
             0.7777777777777778,
             "#fb9f3a"
            ],
            [
             0.8888888888888888,
             "#fdca26"
            ],
            [
             1,
             "#f0f921"
            ]
           ]
          },
          "colorway": [
           "#636efa",
           "#EF553B",
           "#00cc96",
           "#ab63fa",
           "#FFA15A",
           "#19d3f3",
           "#FF6692",
           "#B6E880",
           "#FF97FF",
           "#FECB52"
          ],
          "font": {
           "color": "#2a3f5f"
          },
          "geo": {
           "bgcolor": "white",
           "lakecolor": "white",
           "landcolor": "white",
           "showlakes": true,
           "showland": true,
           "subunitcolor": "#C8D4E3"
          },
          "hoverlabel": {
           "align": "left"
          },
          "hovermode": "closest",
          "mapbox": {
           "style": "light"
          },
          "paper_bgcolor": "white",
          "plot_bgcolor": "white",
          "polar": {
           "angularaxis": {
            "gridcolor": "#EBF0F8",
            "linecolor": "#EBF0F8",
            "ticks": ""
           },
           "bgcolor": "white",
           "radialaxis": {
            "gridcolor": "#EBF0F8",
            "linecolor": "#EBF0F8",
            "ticks": ""
           }
          },
          "scene": {
           "xaxis": {
            "backgroundcolor": "white",
            "gridcolor": "#DFE8F3",
            "gridwidth": 2,
            "linecolor": "#EBF0F8",
            "showbackground": true,
            "ticks": "",
            "zerolinecolor": "#EBF0F8"
           },
           "yaxis": {
            "backgroundcolor": "white",
            "gridcolor": "#DFE8F3",
            "gridwidth": 2,
            "linecolor": "#EBF0F8",
            "showbackground": true,
            "ticks": "",
            "zerolinecolor": "#EBF0F8"
           },
           "zaxis": {
            "backgroundcolor": "white",
            "gridcolor": "#DFE8F3",
            "gridwidth": 2,
            "linecolor": "#EBF0F8",
            "showbackground": true,
            "ticks": "",
            "zerolinecolor": "#EBF0F8"
           }
          },
          "shapedefaults": {
           "line": {
            "color": "#2a3f5f"
           }
          },
          "ternary": {
           "aaxis": {
            "gridcolor": "#DFE8F3",
            "linecolor": "#A2B1C6",
            "ticks": ""
           },
           "baxis": {
            "gridcolor": "#DFE8F3",
            "linecolor": "#A2B1C6",
            "ticks": ""
           },
           "bgcolor": "white",
           "caxis": {
            "gridcolor": "#DFE8F3",
            "linecolor": "#A2B1C6",
            "ticks": ""
           }
          },
          "title": {
           "x": 0.05
          },
          "xaxis": {
           "automargin": true,
           "gridcolor": "#EBF0F8",
           "linecolor": "#EBF0F8",
           "ticks": "",
           "title": {
            "standoff": 15
           },
           "zerolinecolor": "#EBF0F8",
           "zerolinewidth": 2
          },
          "yaxis": {
           "automargin": true,
           "gridcolor": "#EBF0F8",
           "linecolor": "#EBF0F8",
           "ticks": "",
           "title": {
            "standoff": 15
           },
           "zerolinecolor": "#EBF0F8",
           "zerolinewidth": 2
          }
         }
        },
        "title": {
         "text": "Selection probabilities by position: Round 0 vs Round 1"
        },
        "xaxis": {
         "anchor": "y",
         "domain": [
          0,
          1
         ],
         "showticklabels": true,
         "tickmode": "array",
         "ticks": "outside",
         "ticktext": [
          "0",
          "1",
          "2",
          "3",
          "4",
          "5",
          "6",
          "7",
          "8",
          "9",
          "10",
          "11",
          "12",
          "13",
          "14",
          "15",
          "16",
          "17",
          "18",
          "19",
          "20",
          "21",
          "22",
          "23",
          "24",
          "25",
          "26",
          "27",
          "28",
          "29",
          "30",
          "31",
          "32",
          "33",
          "34",
          "35",
          "36",
          "37",
          "38",
          "39",
          "40",
          "41",
          "42",
          "43",
          "44",
          "45",
          "46",
          "47",
          "48",
          "49",
          "50",
          "51",
          "52",
          "53",
          "54",
          "55",
          "56",
          "57",
          "58",
          "59",
          "60",
          "61",
          "62",
          "63",
          "64",
          "65",
          "66",
          "67",
          "68",
          "69",
          "70",
          "71",
          "72",
          "73",
          "74",
          "75",
          "76",
          "77",
          "78",
          "79"
         ],
         "tickvals": {
          "bdata": "AAECAwQFBgcICQoLDA0ODxAREhMUFRYXGBkaGxwdHh8gISIjJCUmJygpKissLS4vMDEyMzQ1Njc4OTo7PD0+P0BBQkNERUZHSElKS0xNTk8=",
          "dtype": "i1"
         },
         "title": {
          "text": ""
         }
        },
        "xaxis2": {
         "anchor": "y2",
         "domain": [
          0,
          1
         ],
         "showticklabels": true,
         "tickmode": "array",
         "ticks": "outside",
         "ticktext": [
          "0",
          "1",
          "2",
          "3",
          "4",
          "5",
          "6",
          "7",
          "8",
          "9",
          "10",
          "11",
          "12",
          "13",
          "14",
          "15",
          "16",
          "17",
          "18",
          "19",
          "20",
          "21",
          "22",
          "23",
          "24",
          "25",
          "26",
          "27",
          "28",
          "29",
          "30",
          "31",
          "32",
          "33",
          "34",
          "35",
          "36",
          "37",
          "38",
          "39",
          "40",
          "41",
          "42",
          "43",
          "44",
          "45",
          "46",
          "47",
          "48",
          "49",
          "50",
          "51",
          "52",
          "53",
          "54",
          "55",
          "56",
          "57",
          "58",
          "59",
          "60",
          "61",
          "62",
          "63",
          "64",
          "65",
          "66",
          "67",
          "68",
          "69",
          "70",
          "71",
          "72",
          "73",
          "74",
          "75",
          "76",
          "77",
          "78",
          "79"
         ],
         "tickvals": {
          "bdata": "AAECAwQFBgcICQoLDA0ODxAREhMUFRYXGBkaGxwdHh8gISIjJCUmJygpKissLS4vMDEyMzQ1Njc4OTo7PD0+P0BBQkNERUZHSElKS0xNTk8=",
          "dtype": "i1"
         },
         "title": {
          "text": ""
         }
        },
        "xaxis3": {
         "anchor": "y3",
         "domain": [
          0,
          1
         ],
         "showticklabels": true,
         "tickmode": "array",
         "ticks": "outside",
         "ticktext": [
          "0",
          "1",
          "2",
          "3",
          "4",
          "5",
          "6",
          "7",
          "8",
          "9",
          "10",
          "11",
          "12",
          "13",
          "14",
          "15",
          "16",
          "17",
          "18",
          "19",
          "20",
          "21",
          "22",
          "23",
          "24",
          "25",
          "26",
          "27",
          "28",
          "29",
          "30",
          "31",
          "32",
          "33",
          "34",
          "35",
          "36",
          "37",
          "38",
          "39",
          "40",
          "41",
          "42",
          "43",
          "44",
          "45",
          "46",
          "47",
          "48",
          "49",
          "50",
          "51",
          "52",
          "53",
          "54",
          "55",
          "56",
          "57",
          "58",
          "59",
          "60",
          "61",
          "62",
          "63",
          "64",
          "65",
          "66",
          "67",
          "68",
          "69",
          "70",
          "71",
          "72",
          "73",
          "74",
          "75",
          "76",
          "77",
          "78",
          "79"
         ],
         "tickvals": {
          "bdata": "AAECAwQFBgcICQoLDA0ODxAREhMUFRYXGBkaGxwdHh8gISIjJCUmJygpKissLS4vMDEyMzQ1Njc4OTo7PD0+P0BBQkNERUZHSElKS0xNTk8=",
          "dtype": "i1"
         },
         "title": {
          "text": "Action ID (0\u201379)"
         }
        },
        "yaxis": {
         "anchor": "x",
         "domain": [
          0.72,
          1
         ],
         "range": [
          0,
          0.015817901234567902
         ],
         "title": {
          "text": "P(action selected)"
         }
        },
        "yaxis2": {
         "anchor": "x2",
         "domain": [
          0.36,
          0.6399999999999999
         ],
         "range": [
          0,
          0.015817901234567902
         ],
         "title": {
          "text": "P(action selected)"
         }
        },
        "yaxis3": {
         "anchor": "x3",
         "domain": [
          0,
          0.27999999999999997
         ],
         "range": [
          0,
          0.015817901234567902
         ],
         "title": {
          "text": "P(action selected)"
         }
        }
       }
      }
     },
     "metadata": {},
     "output_type": "display_data"
    }
   ],
   "source": [
    "print(\"Sampled (one row per position):\")\n",
    "print(sampled[[\"action\",\"position\",\"reward\",\"pscore\"]])\n",
    "\n",
    "fig = plot_pmf_compare_by_position(\n",
    "    pmf_round_A=pmf_round0,\n",
    "    pmf_round_B=pmf_round1,\n",
    "    positions=positions,\n",
    "    n_actions=n_actions,\n",
    "    title=\"Selection probabilities by position: Round 0 vs Round 1\",\n",
    "    round_labels=(\"Round 0 (uniform)\", \"Round 1 (updated)\")\n",
    ")\n",
    "fig.show()"
   ]
  },
  {
   "cell_type": "code",
   "execution_count": 52,
   "id": "92bbc41a",
   "metadata": {},
   "outputs": [
    {
     "name": "stdout",
     "output_type": "stream",
     "text": [
      "Round 1 samples:\n",
      "    action  position  reward  pscore\n",
      "0      66         0       0  0.0125\n",
      "1      78         1       0  0.0125\n",
      "2       1         2       0  0.0125\n"
     ]
    },
    {
     "data": {
      "application/vnd.plotly.v1+json": {
       "config": {
        "plotlyServerURL": "https://plot.ly"
       },
       "data": [
        {
         "marker": {
          "color": "steelblue"
         },
         "name": "Round 0",
         "opacity": 0.6,
         "showlegend": true,
         "type": "bar",
         "x": {
          "bdata": "AAECAwQFBgcICQoLDA0ODxAREhMUFRYXGBkaGxwdHh8gISIjJCUmJygpKissLS4vMDEyMzQ1Njc4OTo7PD0+P0BBQkNERUZHSElKS0xNTk8=",
          "dtype": "i1"
         },
         "xaxis": "x",
         "y": {
          "bdata": "mpmZmZmZiT+amZmZmZmJP5qZmZmZmYk/mpmZmZmZiT+amZmZmZmJP5qZmZmZmYk/mpmZmZmZiT+amZmZmZmJP5qZmZmZmYk/mpmZmZmZiT+amZmZmZmJP5qZmZmZmYk/mpmZmZmZiT+amZmZmZmJP5qZmZmZmYk/mpmZmZmZiT+amZmZmZmJP5qZmZmZmYk/mpmZmZmZiT+amZmZmZmJP5qZmZmZmYk/mpmZmZmZiT+amZmZmZmJP5qZmZmZmYk/mpmZmZmZiT+amZmZmZmJP5qZmZmZmYk/mpmZmZmZiT+amZmZmZmJP5qZmZmZmYk/mpmZmZmZiT+amZmZmZmJP5qZmZmZmYk/mpmZmZmZiT+amZmZmZmJP5qZmZmZmYk/mpmZmZmZiT+amZmZmZmJP5qZmZmZmYk/mpmZmZmZiT+amZmZmZmJP5qZmZmZmYk/mpmZmZmZiT+amZmZmZmJP5qZmZmZmYk/mpmZmZmZiT+amZmZmZmJP5qZmZmZmYk/mpmZmZmZiT+amZmZmZmJP5qZmZmZmYk/mpmZmZmZiT+amZmZmZmJP5qZmZmZmYk/mpmZmZmZiT+amZmZmZmJP5qZmZmZmYk/mpmZmZmZiT+amZmZmZmJP5qZmZmZmYk/mpmZmZmZiT+amZmZmZmJP5qZmZmZmYk/mpmZmZmZiT+amZmZmZmJP5qZmZmZmYk/mpmZmZmZiT+amZmZmZmJP5qZmZmZmYk/mpmZmZmZiT+amZmZmZmJP5qZmZmZmYk/mpmZmZmZiT+amZmZmZmJP5qZmZmZmYk/mpmZmZmZiT+amZmZmZmJP5qZmZmZmYk/mpmZmZmZiT+amZmZmZmJPw==",
          "dtype": "f8"
         },
         "yaxis": "y"
        },
        {
         "marker": {
          "color": "darkorange"
         },
         "name": "Round 1",
         "opacity": 0.85,
         "showlegend": true,
         "type": "bar",
         "x": {
          "bdata": "AAECAwQFBgcICQoLDA0ODxAREhMUFRYXGBkaGxwdHh8gISIjJCUmJygpKissLS4vMDEyMzQ1Njc4OTo7PD0+P0BBQkNERUZHSElKS0xNTk8=",
          "dtype": "i1"
         },
         "xaxis": "x",
         "y": {
          "bdata": "U0lcNoLqiT9TSVw2guqJP1NJXDaC6ok/U0lcNoLqiT9TSVw2guqJP1NJXDaC6ok/U0lcNoLqiT9TSVw2guqJP1NJXDaC6ok/U0lcNoLqiT9TSVw2guqJP1NJXDaC6ok/U0lcNoLqiT9TSVw2guqJP1NJXDaC6ok/U0lcNoLqiT9TSVw2guqJP1NJXDaC6ok/U0lcNoLqiT9TSVw2guqJP1NJXDaC6ok/U0lcNoLqiT9TSVw2guqJP1NJXDaC6ok/U0lcNoLqiT9TSVw2guqJP1NJXDaC6ok/U0lcNoLqiT9TSVw2guqJP1NJXDaC6ok/U0lcNoLqiT9TSVw2guqJP1NJXDaC6ok/U0lcNoLqiT9TSVw2guqJP1NJXDaC6ok/U0lcNoLqiT9TSVw2guqJP1NJXDaC6ok/U0lcNoLqiT9TSVw2guqJP1NJXDaC6ok/U0lcNoLqiT9TSVw2guqJP1NJXDaC6ok/U0lcNoLqiT9TSVw2guqJP1NJXDaC6ok/U0lcNoLqiT9TSVw2guqJP1NJXDaC6ok/U0lcNoLqiT9TSVw2guqJP1NJXDaC6ok/U0lcNoLqiT9TSVw2guqJP1NJXDaC6ok/U0lcNoLqiT9TSVw2guqJP1NJXDaC6ok/U0lcNoLqiT9TSVw2guqJP1NJXDaC6ok/U0lcNoLqiT9TSVw2guqJP1NJXDaC6ok/Te6rMCc6ND9TSVw2guqJP1NJXDaC6ok/U0lcNoLqiT9TSVw2guqJP1NJXDaC6ok/U0lcNoLqiT9TSVw2guqJP1NJXDaC6ok/U0lcNoLqiT9TSVw2guqJP1NJXDaC6ok/U0lcNoLqiT9TSVw2guqJPw==",
          "dtype": "f8"
         },
         "yaxis": "y"
        },
        {
         "hovertemplate": "Round 1<br>Position: 0<br>Action: %{x}<br>P: %{y:.6f}<br>Reward: 0<extra></extra>",
         "marker": {
          "color": "forestgreen",
          "size": 11,
          "symbol": "diamond"
         },
         "mode": "markers",
         "name": "Picked (r=1)",
         "showlegend": true,
         "type": "scatter",
         "x": [
          66
         ],
         "xaxis": "x",
         "y": [
          0.00030864197530864197
         ],
         "yaxis": "y"
        },
        {
         "marker": {
          "color": "steelblue"
         },
         "name": "Round 0",
         "opacity": 0.6,
         "showlegend": false,
         "type": "bar",
         "x": {
          "bdata": "AAECAwQFBgcICQoLDA0ODxAREhMUFRYXGBkaGxwdHh8gISIjJCUmJygpKissLS4vMDEyMzQ1Njc4OTo7PD0+P0BBQkNERUZHSElKS0xNTk8=",
          "dtype": "i1"
         },
         "xaxis": "x2",
         "y": {
          "bdata": "mpmZmZmZiT+amZmZmZmJP5qZmZmZmYk/mpmZmZmZiT+amZmZmZmJP5qZmZmZmYk/mpmZmZmZiT+amZmZmZmJP5qZmZmZmYk/mpmZmZmZiT+amZmZmZmJP5qZmZmZmYk/mpmZmZmZiT+amZmZmZmJP5qZmZmZmYk/mpmZmZmZiT+amZmZmZmJP5qZmZmZmYk/mpmZmZmZiT+amZmZmZmJP5qZmZmZmYk/mpmZmZmZiT+amZmZmZmJP5qZmZmZmYk/mpmZmZmZiT+amZmZmZmJP5qZmZmZmYk/mpmZmZmZiT+amZmZmZmJP5qZmZmZmYk/mpmZmZmZiT+amZmZmZmJP5qZmZmZmYk/mpmZmZmZiT+amZmZmZmJP5qZmZmZmYk/mpmZmZmZiT+amZmZmZmJP5qZmZmZmYk/mpmZmZmZiT+amZmZmZmJP5qZmZmZmYk/mpmZmZmZiT+amZmZmZmJP5qZmZmZmYk/mpmZmZmZiT+amZmZmZmJP5qZmZmZmYk/mpmZmZmZiT+amZmZmZmJP5qZmZmZmYk/mpmZmZmZiT+amZmZmZmJP5qZmZmZmYk/mpmZmZmZiT+amZmZmZmJP5qZmZmZmYk/mpmZmZmZiT+amZmZmZmJP5qZmZmZmYk/mpmZmZmZiT+amZmZmZmJP5qZmZmZmYk/mpmZmZmZiT+amZmZmZmJP5qZmZmZmYk/mpmZmZmZiT+amZmZmZmJP5qZmZmZmYk/mpmZmZmZiT+amZmZmZmJP5qZmZmZmYk/mpmZmZmZiT+amZmZmZmJP5qZmZmZmYk/mpmZmZmZiT+amZmZmZmJP5qZmZmZmYk/mpmZmZmZiT+amZmZmZmJPw==",
          "dtype": "f8"
         },
         "yaxis": "y2"
        },
        {
         "marker": {
          "color": "darkorange"
         },
         "name": "Round 1",
         "opacity": 0.85,
         "showlegend": false,
         "type": "bar",
         "x": {
          "bdata": "AAECAwQFBgcICQoLDA0ODxAREhMUFRYXGBkaGxwdHh8gISIjJCUmJygpKissLS4vMDEyMzQ1Njc4OTo7PD0+P0BBQkNERUZHSElKS0xNTk8=",
          "dtype": "i1"
         },
         "xaxis": "x2",
         "y": {
          "bdata": "U0lcNoLqiT9TSVw2guqJP1NJXDaC6ok/U0lcNoLqiT9TSVw2guqJP1NJXDaC6ok/U0lcNoLqiT9TSVw2guqJP1NJXDaC6ok/U0lcNoLqiT9TSVw2guqJP1NJXDaC6ok/U0lcNoLqiT9TSVw2guqJP1NJXDaC6ok/U0lcNoLqiT9TSVw2guqJP1NJXDaC6ok/U0lcNoLqiT9TSVw2guqJP1NJXDaC6ok/U0lcNoLqiT9TSVw2guqJP1NJXDaC6ok/U0lcNoLqiT9TSVw2guqJP1NJXDaC6ok/U0lcNoLqiT9TSVw2guqJP1NJXDaC6ok/U0lcNoLqiT9TSVw2guqJP1NJXDaC6ok/U0lcNoLqiT9TSVw2guqJP1NJXDaC6ok/U0lcNoLqiT9TSVw2guqJP1NJXDaC6ok/U0lcNoLqiT9TSVw2guqJP1NJXDaC6ok/U0lcNoLqiT9TSVw2guqJP1NJXDaC6ok/U0lcNoLqiT9TSVw2guqJP1NJXDaC6ok/U0lcNoLqiT9TSVw2guqJP1NJXDaC6ok/U0lcNoLqiT9TSVw2guqJP1NJXDaC6ok/U0lcNoLqiT9TSVw2guqJP1NJXDaC6ok/U0lcNoLqiT9TSVw2guqJP1NJXDaC6ok/U0lcNoLqiT9TSVw2guqJP1NJXDaC6ok/U0lcNoLqiT9TSVw2guqJP1NJXDaC6ok/U0lcNoLqiT9TSVw2guqJP1NJXDaC6ok/U0lcNoLqiT9TSVw2guqJP1NJXDaC6ok/U0lcNoLqiT9TSVw2guqJP1NJXDaC6ok/U0lcNoLqiT9TSVw2guqJP1NJXDaC6ok/Te6rMCc6ND9TSVw2guqJPw==",
          "dtype": "f8"
         },
         "yaxis": "y2"
        },
        {
         "hovertemplate": "Round 1<br>Position: 1<br>Action: %{x}<br>P: %{y:.6f}<br>Reward: 0<extra></extra>",
         "marker": {
          "color": "forestgreen",
          "size": 11,
          "symbol": "diamond"
         },
         "mode": "markers",
         "name": "Picked (r=1)",
         "showlegend": false,
         "type": "scatter",
         "x": [
          78
         ],
         "xaxis": "x2",
         "y": [
          0.00030864197530864197
         ],
         "yaxis": "y2"
        },
        {
         "marker": {
          "color": "steelblue"
         },
         "name": "Round 0",
         "opacity": 0.6,
         "showlegend": false,
         "type": "bar",
         "x": {
          "bdata": "AAECAwQFBgcICQoLDA0ODxAREhMUFRYXGBkaGxwdHh8gISIjJCUmJygpKissLS4vMDEyMzQ1Njc4OTo7PD0+P0BBQkNERUZHSElKS0xNTk8=",
          "dtype": "i1"
         },
         "xaxis": "x3",
         "y": {
          "bdata": "mpmZmZmZiT+amZmZmZmJP5qZmZmZmYk/mpmZmZmZiT+amZmZmZmJP5qZmZmZmYk/mpmZmZmZiT+amZmZmZmJP5qZmZmZmYk/mpmZmZmZiT+amZmZmZmJP5qZmZmZmYk/mpmZmZmZiT+amZmZmZmJP5qZmZmZmYk/mpmZmZmZiT+amZmZmZmJP5qZmZmZmYk/mpmZmZmZiT+amZmZmZmJP5qZmZmZmYk/mpmZmZmZiT+amZmZmZmJP5qZmZmZmYk/mpmZmZmZiT+amZmZmZmJP5qZmZmZmYk/mpmZmZmZiT+amZmZmZmJP5qZmZmZmYk/mpmZmZmZiT+amZmZmZmJP5qZmZmZmYk/mpmZmZmZiT+amZmZmZmJP5qZmZmZmYk/mpmZmZmZiT+amZmZmZmJP5qZmZmZmYk/mpmZmZmZiT+amZmZmZmJP5qZmZmZmYk/mpmZmZmZiT+amZmZmZmJP5qZmZmZmYk/mpmZmZmZiT+amZmZmZmJP5qZmZmZmYk/mpmZmZmZiT+amZmZmZmJP5qZmZmZmYk/mpmZmZmZiT+amZmZmZmJP5qZmZmZmYk/mpmZmZmZiT+amZmZmZmJP5qZmZmZmYk/mpmZmZmZiT+amZmZmZmJP5qZmZmZmYk/mpmZmZmZiT+amZmZmZmJP5qZmZmZmYk/mpmZmZmZiT+amZmZmZmJP5qZmZmZmYk/mpmZmZmZiT+amZmZmZmJP5qZmZmZmYk/mpmZmZmZiT+amZmZmZmJP5qZmZmZmYk/mpmZmZmZiT+amZmZmZmJP5qZmZmZmYk/mpmZmZmZiT+amZmZmZmJP5qZmZmZmYk/mpmZmZmZiT+amZmZmZmJPw==",
          "dtype": "f8"
         },
         "yaxis": "y3"
        },
        {
         "marker": {
          "color": "darkorange"
         },
         "name": "Round 1",
         "opacity": 0.85,
         "showlegend": false,
         "type": "bar",
         "x": {
          "bdata": "AAECAwQFBgcICQoLDA0ODxAREhMUFRYXGBkaGxwdHh8gISIjJCUmJygpKissLS4vMDEyMzQ1Njc4OTo7PD0+P0BBQkNERUZHSElKS0xNTk8=",
          "dtype": "i1"
         },
         "xaxis": "x3",
         "y": {
          "bdata": "U0lcNoLqiT9N7qswJzo0P1NJXDaC6ok/U0lcNoLqiT9TSVw2guqJP1NJXDaC6ok/U0lcNoLqiT9TSVw2guqJP1NJXDaC6ok/U0lcNoLqiT9TSVw2guqJP1NJXDaC6ok/U0lcNoLqiT9TSVw2guqJP1NJXDaC6ok/U0lcNoLqiT9TSVw2guqJP1NJXDaC6ok/U0lcNoLqiT9TSVw2guqJP1NJXDaC6ok/U0lcNoLqiT9TSVw2guqJP1NJXDaC6ok/U0lcNoLqiT9TSVw2guqJP1NJXDaC6ok/U0lcNoLqiT9TSVw2guqJP1NJXDaC6ok/U0lcNoLqiT9TSVw2guqJP1NJXDaC6ok/U0lcNoLqiT9TSVw2guqJP1NJXDaC6ok/U0lcNoLqiT9TSVw2guqJP1NJXDaC6ok/U0lcNoLqiT9TSVw2guqJP1NJXDaC6ok/U0lcNoLqiT9TSVw2guqJP1NJXDaC6ok/U0lcNoLqiT9TSVw2guqJP1NJXDaC6ok/U0lcNoLqiT9TSVw2guqJP1NJXDaC6ok/U0lcNoLqiT9TSVw2guqJP1NJXDaC6ok/U0lcNoLqiT9TSVw2guqJP1NJXDaC6ok/U0lcNoLqiT9TSVw2guqJP1NJXDaC6ok/U0lcNoLqiT9TSVw2guqJP1NJXDaC6ok/U0lcNoLqiT9TSVw2guqJP1NJXDaC6ok/U0lcNoLqiT9TSVw2guqJP1NJXDaC6ok/U0lcNoLqiT9TSVw2guqJP1NJXDaC6ok/U0lcNoLqiT9TSVw2guqJP1NJXDaC6ok/U0lcNoLqiT9TSVw2guqJP1NJXDaC6ok/U0lcNoLqiT9TSVw2guqJPw==",
          "dtype": "f8"
         },
         "yaxis": "y3"
        },
        {
         "hovertemplate": "Round 1<br>Position: 2<br>Action: %{x}<br>P: %{y:.6f}<br>Reward: 0<extra></extra>",
         "marker": {
          "color": "forestgreen",
          "size": 11,
          "symbol": "diamond"
         },
         "mode": "markers",
         "name": "Picked (r=1)",
         "showlegend": false,
         "type": "scatter",
         "x": [
          1
         ],
         "xaxis": "x3",
         "y": [
          0.00030864197530864197
         ],
         "yaxis": "y3"
        }
       ],
       "layout": {
        "annotations": [
         {
          "font": {
           "size": 16
          },
          "showarrow": false,
          "text": "Position 0",
          "x": 0.5,
          "xanchor": "center",
          "xref": "paper",
          "y": 1,
          "yanchor": "bottom",
          "yref": "paper"
         },
         {
          "font": {
           "size": 16
          },
          "showarrow": false,
          "text": "Position 1",
          "x": 0.5,
          "xanchor": "center",
          "xref": "paper",
          "y": 0.6399999999999999,
          "yanchor": "bottom",
          "yref": "paper"
         },
         {
          "font": {
           "size": 16
          },
          "showarrow": false,
          "text": "Position 2",
          "x": 0.5,
          "xanchor": "center",
          "xref": "paper",
          "y": 0.27999999999999997,
          "yanchor": "bottom",
          "yref": "paper"
         }
        ],
        "bargap": 0.15,
        "barmode": "group",
        "height": 1050,
        "template": {
         "data": {
          "bar": [
           {
            "error_x": {
             "color": "#2a3f5f"
            },
            "error_y": {
             "color": "#2a3f5f"
            },
            "marker": {
             "line": {
              "color": "white",
              "width": 0.5
             },
             "pattern": {
              "fillmode": "overlay",
              "size": 10,
              "solidity": 0.2
             }
            },
            "type": "bar"
           }
          ],
          "barpolar": [
           {
            "marker": {
             "line": {
              "color": "white",
              "width": 0.5
             },
             "pattern": {
              "fillmode": "overlay",
              "size": 10,
              "solidity": 0.2
             }
            },
            "type": "barpolar"
           }
          ],
          "carpet": [
           {
            "aaxis": {
             "endlinecolor": "#2a3f5f",
             "gridcolor": "#C8D4E3",
             "linecolor": "#C8D4E3",
             "minorgridcolor": "#C8D4E3",
             "startlinecolor": "#2a3f5f"
            },
            "baxis": {
             "endlinecolor": "#2a3f5f",
             "gridcolor": "#C8D4E3",
             "linecolor": "#C8D4E3",
             "minorgridcolor": "#C8D4E3",
             "startlinecolor": "#2a3f5f"
            },
            "type": "carpet"
           }
          ],
          "choropleth": [
           {
            "colorbar": {
             "outlinewidth": 0,
             "ticks": ""
            },
            "type": "choropleth"
           }
          ],
          "contour": [
           {
            "colorbar": {
             "outlinewidth": 0,
             "ticks": ""
            },
            "colorscale": [
             [
              0,
              "#0d0887"
             ],
             [
              0.1111111111111111,
              "#46039f"
             ],
             [
              0.2222222222222222,
              "#7201a8"
             ],
             [
              0.3333333333333333,
              "#9c179e"
             ],
             [
              0.4444444444444444,
              "#bd3786"
             ],
             [
              0.5555555555555556,
              "#d8576b"
             ],
             [
              0.6666666666666666,
              "#ed7953"
             ],
             [
              0.7777777777777778,
              "#fb9f3a"
             ],
             [
              0.8888888888888888,
              "#fdca26"
             ],
             [
              1,
              "#f0f921"
             ]
            ],
            "type": "contour"
           }
          ],
          "contourcarpet": [
           {
            "colorbar": {
             "outlinewidth": 0,
             "ticks": ""
            },
            "type": "contourcarpet"
           }
          ],
          "heatmap": [
           {
            "colorbar": {
             "outlinewidth": 0,
             "ticks": ""
            },
            "colorscale": [
             [
              0,
              "#0d0887"
             ],
             [
              0.1111111111111111,
              "#46039f"
             ],
             [
              0.2222222222222222,
              "#7201a8"
             ],
             [
              0.3333333333333333,
              "#9c179e"
             ],
             [
              0.4444444444444444,
              "#bd3786"
             ],
             [
              0.5555555555555556,
              "#d8576b"
             ],
             [
              0.6666666666666666,
              "#ed7953"
             ],
             [
              0.7777777777777778,
              "#fb9f3a"
             ],
             [
              0.8888888888888888,
              "#fdca26"
             ],
             [
              1,
              "#f0f921"
             ]
            ],
            "type": "heatmap"
           }
          ],
          "histogram": [
           {
            "marker": {
             "pattern": {
              "fillmode": "overlay",
              "size": 10,
              "solidity": 0.2
             }
            },
            "type": "histogram"
           }
          ],
          "histogram2d": [
           {
            "colorbar": {
             "outlinewidth": 0,
             "ticks": ""
            },
            "colorscale": [
             [
              0,
              "#0d0887"
             ],
             [
              0.1111111111111111,
              "#46039f"
             ],
             [
              0.2222222222222222,
              "#7201a8"
             ],
             [
              0.3333333333333333,
              "#9c179e"
             ],
             [
              0.4444444444444444,
              "#bd3786"
             ],
             [
              0.5555555555555556,
              "#d8576b"
             ],
             [
              0.6666666666666666,
              "#ed7953"
             ],
             [
              0.7777777777777778,
              "#fb9f3a"
             ],
             [
              0.8888888888888888,
              "#fdca26"
             ],
             [
              1,
              "#f0f921"
             ]
            ],
            "type": "histogram2d"
           }
          ],
          "histogram2dcontour": [
           {
            "colorbar": {
             "outlinewidth": 0,
             "ticks": ""
            },
            "colorscale": [
             [
              0,
              "#0d0887"
             ],
             [
              0.1111111111111111,
              "#46039f"
             ],
             [
              0.2222222222222222,
              "#7201a8"
             ],
             [
              0.3333333333333333,
              "#9c179e"
             ],
             [
              0.4444444444444444,
              "#bd3786"
             ],
             [
              0.5555555555555556,
              "#d8576b"
             ],
             [
              0.6666666666666666,
              "#ed7953"
             ],
             [
              0.7777777777777778,
              "#fb9f3a"
             ],
             [
              0.8888888888888888,
              "#fdca26"
             ],
             [
              1,
              "#f0f921"
             ]
            ],
            "type": "histogram2dcontour"
           }
          ],
          "mesh3d": [
           {
            "colorbar": {
             "outlinewidth": 0,
             "ticks": ""
            },
            "type": "mesh3d"
           }
          ],
          "parcoords": [
           {
            "line": {
             "colorbar": {
              "outlinewidth": 0,
              "ticks": ""
             }
            },
            "type": "parcoords"
           }
          ],
          "pie": [
           {
            "automargin": true,
            "type": "pie"
           }
          ],
          "scatter": [
           {
            "fillpattern": {
             "fillmode": "overlay",
             "size": 10,
             "solidity": 0.2
            },
            "type": "scatter"
           }
          ],
          "scatter3d": [
           {
            "line": {
             "colorbar": {
              "outlinewidth": 0,
              "ticks": ""
             }
            },
            "marker": {
             "colorbar": {
              "outlinewidth": 0,
              "ticks": ""
             }
            },
            "type": "scatter3d"
           }
          ],
          "scattercarpet": [
           {
            "marker": {
             "colorbar": {
              "outlinewidth": 0,
              "ticks": ""
             }
            },
            "type": "scattercarpet"
           }
          ],
          "scattergeo": [
           {
            "marker": {
             "colorbar": {
              "outlinewidth": 0,
              "ticks": ""
             }
            },
            "type": "scattergeo"
           }
          ],
          "scattergl": [
           {
            "marker": {
             "colorbar": {
              "outlinewidth": 0,
              "ticks": ""
             }
            },
            "type": "scattergl"
           }
          ],
          "scattermap": [
           {
            "marker": {
             "colorbar": {
              "outlinewidth": 0,
              "ticks": ""
             }
            },
            "type": "scattermap"
           }
          ],
          "scattermapbox": [
           {
            "marker": {
             "colorbar": {
              "outlinewidth": 0,
              "ticks": ""
             }
            },
            "type": "scattermapbox"
           }
          ],
          "scatterpolar": [
           {
            "marker": {
             "colorbar": {
              "outlinewidth": 0,
              "ticks": ""
             }
            },
            "type": "scatterpolar"
           }
          ],
          "scatterpolargl": [
           {
            "marker": {
             "colorbar": {
              "outlinewidth": 0,
              "ticks": ""
             }
            },
            "type": "scatterpolargl"
           }
          ],
          "scatterternary": [
           {
            "marker": {
             "colorbar": {
              "outlinewidth": 0,
              "ticks": ""
             }
            },
            "type": "scatterternary"
           }
          ],
          "surface": [
           {
            "colorbar": {
             "outlinewidth": 0,
             "ticks": ""
            },
            "colorscale": [
             [
              0,
              "#0d0887"
             ],
             [
              0.1111111111111111,
              "#46039f"
             ],
             [
              0.2222222222222222,
              "#7201a8"
             ],
             [
              0.3333333333333333,
              "#9c179e"
             ],
             [
              0.4444444444444444,
              "#bd3786"
             ],
             [
              0.5555555555555556,
              "#d8576b"
             ],
             [
              0.6666666666666666,
              "#ed7953"
             ],
             [
              0.7777777777777778,
              "#fb9f3a"
             ],
             [
              0.8888888888888888,
              "#fdca26"
             ],
             [
              1,
              "#f0f921"
             ]
            ],
            "type": "surface"
           }
          ],
          "table": [
           {
            "cells": {
             "fill": {
              "color": "#EBF0F8"
             },
             "line": {
              "color": "white"
             }
            },
            "header": {
             "fill": {
              "color": "#C8D4E3"
             },
             "line": {
              "color": "white"
             }
            },
            "type": "table"
           }
          ]
         },
         "layout": {
          "annotationdefaults": {
           "arrowcolor": "#2a3f5f",
           "arrowhead": 0,
           "arrowwidth": 1
          },
          "autotypenumbers": "strict",
          "coloraxis": {
           "colorbar": {
            "outlinewidth": 0,
            "ticks": ""
           }
          },
          "colorscale": {
           "diverging": [
            [
             0,
             "#8e0152"
            ],
            [
             0.1,
             "#c51b7d"
            ],
            [
             0.2,
             "#de77ae"
            ],
            [
             0.3,
             "#f1b6da"
            ],
            [
             0.4,
             "#fde0ef"
            ],
            [
             0.5,
             "#f7f7f7"
            ],
            [
             0.6,
             "#e6f5d0"
            ],
            [
             0.7,
             "#b8e186"
            ],
            [
             0.8,
             "#7fbc41"
            ],
            [
             0.9,
             "#4d9221"
            ],
            [
             1,
             "#276419"
            ]
           ],
           "sequential": [
            [
             0,
             "#0d0887"
            ],
            [
             0.1111111111111111,
             "#46039f"
            ],
            [
             0.2222222222222222,
             "#7201a8"
            ],
            [
             0.3333333333333333,
             "#9c179e"
            ],
            [
             0.4444444444444444,
             "#bd3786"
            ],
            [
             0.5555555555555556,
             "#d8576b"
            ],
            [
             0.6666666666666666,
             "#ed7953"
            ],
            [
             0.7777777777777778,
             "#fb9f3a"
            ],
            [
             0.8888888888888888,
             "#fdca26"
            ],
            [
             1,
             "#f0f921"
            ]
           ],
           "sequentialminus": [
            [
             0,
             "#0d0887"
            ],
            [
             0.1111111111111111,
             "#46039f"
            ],
            [
             0.2222222222222222,
             "#7201a8"
            ],
            [
             0.3333333333333333,
             "#9c179e"
            ],
            [
             0.4444444444444444,
             "#bd3786"
            ],
            [
             0.5555555555555556,
             "#d8576b"
            ],
            [
             0.6666666666666666,
             "#ed7953"
            ],
            [
             0.7777777777777778,
             "#fb9f3a"
            ],
            [
             0.8888888888888888,
             "#fdca26"
            ],
            [
             1,
             "#f0f921"
            ]
           ]
          },
          "colorway": [
           "#636efa",
           "#EF553B",
           "#00cc96",
           "#ab63fa",
           "#FFA15A",
           "#19d3f3",
           "#FF6692",
           "#B6E880",
           "#FF97FF",
           "#FECB52"
          ],
          "font": {
           "color": "#2a3f5f"
          },
          "geo": {
           "bgcolor": "white",
           "lakecolor": "white",
           "landcolor": "white",
           "showlakes": true,
           "showland": true,
           "subunitcolor": "#C8D4E3"
          },
          "hoverlabel": {
           "align": "left"
          },
          "hovermode": "closest",
          "mapbox": {
           "style": "light"
          },
          "paper_bgcolor": "white",
          "plot_bgcolor": "white",
          "polar": {
           "angularaxis": {
            "gridcolor": "#EBF0F8",
            "linecolor": "#EBF0F8",
            "ticks": ""
           },
           "bgcolor": "white",
           "radialaxis": {
            "gridcolor": "#EBF0F8",
            "linecolor": "#EBF0F8",
            "ticks": ""
           }
          },
          "scene": {
           "xaxis": {
            "backgroundcolor": "white",
            "gridcolor": "#DFE8F3",
            "gridwidth": 2,
            "linecolor": "#EBF0F8",
            "showbackground": true,
            "ticks": "",
            "zerolinecolor": "#EBF0F8"
           },
           "yaxis": {
            "backgroundcolor": "white",
            "gridcolor": "#DFE8F3",
            "gridwidth": 2,
            "linecolor": "#EBF0F8",
            "showbackground": true,
            "ticks": "",
            "zerolinecolor": "#EBF0F8"
           },
           "zaxis": {
            "backgroundcolor": "white",
            "gridcolor": "#DFE8F3",
            "gridwidth": 2,
            "linecolor": "#EBF0F8",
            "showbackground": true,
            "ticks": "",
            "zerolinecolor": "#EBF0F8"
           }
          },
          "shapedefaults": {
           "line": {
            "color": "#2a3f5f"
           }
          },
          "ternary": {
           "aaxis": {
            "gridcolor": "#DFE8F3",
            "linecolor": "#A2B1C6",
            "ticks": ""
           },
           "baxis": {
            "gridcolor": "#DFE8F3",
            "linecolor": "#A2B1C6",
            "ticks": ""
           },
           "bgcolor": "white",
           "caxis": {
            "gridcolor": "#DFE8F3",
            "linecolor": "#A2B1C6",
            "ticks": ""
           }
          },
          "title": {
           "x": 0.05
          },
          "xaxis": {
           "automargin": true,
           "gridcolor": "#EBF0F8",
           "linecolor": "#EBF0F8",
           "ticks": "",
           "title": {
            "standoff": 15
           },
           "zerolinecolor": "#EBF0F8",
           "zerolinewidth": 2
          },
          "yaxis": {
           "automargin": true,
           "gridcolor": "#EBF0F8",
           "linecolor": "#EBF0F8",
           "ticks": "",
           "title": {
            "standoff": 15
           },
           "zerolinecolor": "#EBF0F8",
           "zerolinewidth": 2
          }
         }
        },
        "title": {
         "text": "Round 0 vs Round 1"
        },
        "xaxis": {
         "anchor": "y",
         "domain": [
          0,
          1
         ],
         "tickmode": "array",
         "ticktext": [
          "0",
          "1",
          "2",
          "3",
          "4",
          "5",
          "6",
          "7",
          "8",
          "9",
          "10",
          "11",
          "12",
          "13",
          "14",
          "15",
          "16",
          "17",
          "18",
          "19",
          "20",
          "21",
          "22",
          "23",
          "24",
          "25",
          "26",
          "27",
          "28",
          "29",
          "30",
          "31",
          "32",
          "33",
          "34",
          "35",
          "36",
          "37",
          "38",
          "39",
          "40",
          "41",
          "42",
          "43",
          "44",
          "45",
          "46",
          "47",
          "48",
          "49",
          "50",
          "51",
          "52",
          "53",
          "54",
          "55",
          "56",
          "57",
          "58",
          "59",
          "60",
          "61",
          "62",
          "63",
          "64",
          "65",
          "66",
          "67",
          "68",
          "69",
          "70",
          "71",
          "72",
          "73",
          "74",
          "75",
          "76",
          "77",
          "78",
          "79"
         ],
         "tickvals": {
          "bdata": "AAECAwQFBgcICQoLDA0ODxAREhMUFRYXGBkaGxwdHh8gISIjJCUmJygpKissLS4vMDEyMzQ1Njc4OTo7PD0+P0BBQkNERUZHSElKS0xNTk8=",
          "dtype": "i1"
         },
         "title": {
          "text": ""
         }
        },
        "xaxis2": {
         "anchor": "y2",
         "domain": [
          0,
          1
         ],
         "tickmode": "array",
         "ticktext": [
          "0",
          "1",
          "2",
          "3",
          "4",
          "5",
          "6",
          "7",
          "8",
          "9",
          "10",
          "11",
          "12",
          "13",
          "14",
          "15",
          "16",
          "17",
          "18",
          "19",
          "20",
          "21",
          "22",
          "23",
          "24",
          "25",
          "26",
          "27",
          "28",
          "29",
          "30",
          "31",
          "32",
          "33",
          "34",
          "35",
          "36",
          "37",
          "38",
          "39",
          "40",
          "41",
          "42",
          "43",
          "44",
          "45",
          "46",
          "47",
          "48",
          "49",
          "50",
          "51",
          "52",
          "53",
          "54",
          "55",
          "56",
          "57",
          "58",
          "59",
          "60",
          "61",
          "62",
          "63",
          "64",
          "65",
          "66",
          "67",
          "68",
          "69",
          "70",
          "71",
          "72",
          "73",
          "74",
          "75",
          "76",
          "77",
          "78",
          "79"
         ],
         "tickvals": {
          "bdata": "AAECAwQFBgcICQoLDA0ODxAREhMUFRYXGBkaGxwdHh8gISIjJCUmJygpKissLS4vMDEyMzQ1Njc4OTo7PD0+P0BBQkNERUZHSElKS0xNTk8=",
          "dtype": "i1"
         },
         "title": {
          "text": ""
         }
        },
        "xaxis3": {
         "anchor": "y3",
         "domain": [
          0,
          1
         ],
         "tickmode": "array",
         "ticktext": [
          "0",
          "1",
          "2",
          "3",
          "4",
          "5",
          "6",
          "7",
          "8",
          "9",
          "10",
          "11",
          "12",
          "13",
          "14",
          "15",
          "16",
          "17",
          "18",
          "19",
          "20",
          "21",
          "22",
          "23",
          "24",
          "25",
          "26",
          "27",
          "28",
          "29",
          "30",
          "31",
          "32",
          "33",
          "34",
          "35",
          "36",
          "37",
          "38",
          "39",
          "40",
          "41",
          "42",
          "43",
          "44",
          "45",
          "46",
          "47",
          "48",
          "49",
          "50",
          "51",
          "52",
          "53",
          "54",
          "55",
          "56",
          "57",
          "58",
          "59",
          "60",
          "61",
          "62",
          "63",
          "64",
          "65",
          "66",
          "67",
          "68",
          "69",
          "70",
          "71",
          "72",
          "73",
          "74",
          "75",
          "76",
          "77",
          "78",
          "79"
         ],
         "tickvals": {
          "bdata": "AAECAwQFBgcICQoLDA0ODxAREhMUFRYXGBkaGxwdHh8gISIjJCUmJygpKissLS4vMDEyMzQ1Njc4OTo7PD0+P0BBQkNERUZHSElKS0xNTk8=",
          "dtype": "i1"
         },
         "title": {
          "text": "Action ID (0\u201379)"
         }
        },
        "yaxis": {
         "anchor": "x",
         "domain": [
          0.72,
          1
         ],
         "range": [
          0,
          0.015817901234567902
         ],
         "title": {
          "text": "P(select)"
         }
        },
        "yaxis2": {
         "anchor": "x2",
         "domain": [
          0.36,
          0.6399999999999999
         ],
         "range": [
          0,
          0.015817901234567902
         ],
         "title": {
          "text": "P(select)"
         }
        },
        "yaxis3": {
         "anchor": "x3",
         "domain": [
          0,
          0.27999999999999997
         ],
         "range": [
          0,
          0.015817901234567902
         ],
         "title": {
          "text": "P(select)"
         }
        }
       }
      }
     },
     "metadata": {},
     "output_type": "display_data"
    },
    {
     "name": "stdout",
     "output_type": "stream",
     "text": [
      "Round 2 samples:\n",
      "    action  position  reward  pscore\n",
      "0      66         0       0  0.0125\n",
      "1      78         1       0  0.0125\n",
      "2       1         2       0  0.0125\n"
     ]
    },
    {
     "data": {
      "application/vnd.plotly.v1+json": {
       "config": {
        "plotlyServerURL": "https://plot.ly"
       },
       "data": [
        {
         "marker": {
          "color": "steelblue"
         },
         "name": "Round 1",
         "opacity": 0.6,
         "showlegend": true,
         "type": "bar",
         "x": {
          "bdata": "AAECAwQFBgcICQoLDA0ODxAREhMUFRYXGBkaGxwdHh8gISIjJCUmJygpKissLS4vMDEyMzQ1Njc4OTo7PD0+P0BBQkNERUZHSElKS0xNTk8=",
          "dtype": "i1"
         },
         "xaxis": "x",
         "y": {
          "bdata": "U0lcNoLqiT9TSVw2guqJP1NJXDaC6ok/U0lcNoLqiT9TSVw2guqJP1NJXDaC6ok/U0lcNoLqiT9TSVw2guqJP1NJXDaC6ok/U0lcNoLqiT9TSVw2guqJP1NJXDaC6ok/U0lcNoLqiT9TSVw2guqJP1NJXDaC6ok/U0lcNoLqiT9TSVw2guqJP1NJXDaC6ok/U0lcNoLqiT9TSVw2guqJP1NJXDaC6ok/U0lcNoLqiT9TSVw2guqJP1NJXDaC6ok/U0lcNoLqiT9TSVw2guqJP1NJXDaC6ok/U0lcNoLqiT9TSVw2guqJP1NJXDaC6ok/U0lcNoLqiT9TSVw2guqJP1NJXDaC6ok/U0lcNoLqiT9TSVw2guqJP1NJXDaC6ok/U0lcNoLqiT9TSVw2guqJP1NJXDaC6ok/U0lcNoLqiT9TSVw2guqJP1NJXDaC6ok/U0lcNoLqiT9TSVw2guqJP1NJXDaC6ok/U0lcNoLqiT9TSVw2guqJP1NJXDaC6ok/U0lcNoLqiT9TSVw2guqJP1NJXDaC6ok/U0lcNoLqiT9TSVw2guqJP1NJXDaC6ok/U0lcNoLqiT9TSVw2guqJP1NJXDaC6ok/U0lcNoLqiT9TSVw2guqJP1NJXDaC6ok/U0lcNoLqiT9TSVw2guqJP1NJXDaC6ok/U0lcNoLqiT9TSVw2guqJP1NJXDaC6ok/Te6rMCc6ND9TSVw2guqJP1NJXDaC6ok/U0lcNoLqiT9TSVw2guqJP1NJXDaC6ok/U0lcNoLqiT9TSVw2guqJP1NJXDaC6ok/U0lcNoLqiT9TSVw2guqJP1NJXDaC6ok/U0lcNoLqiT9TSVw2guqJPw==",
          "dtype": "f8"
         },
         "yaxis": "y"
        },
        {
         "marker": {
          "color": "darkorange"
         },
         "name": "Round 2",
         "opacity": 0.85,
         "showlegend": true,
         "type": "bar",
         "x": {
          "bdata": "AAECAwQFBgcICQoLDA0ODxAREhMUFRYXGBkaGxwdHh8gISIjJCUmJygpKissLS4vMDEyMzQ1Njc4OTo7PD0+P0BBQkNERUZHSElKS0xNTk8=",
          "dtype": "i1"
         },
         "xaxis": "x",
         "y": {
          "bdata": "LUMc6+I2ij/d71AU6BOJPwd8fhghPIo/Un5S7dPxiD+NtFTejnCKPz7t8NdkjYo/0ETY8PRKiT+BQ6hSsweKP/oK0oxF04k/Eyf3OxQFij+At0CC4seIP7N78rBQa4o/cF8HzhlRij/+Q/rt68CJP4EJ3Lqbp4o/cCU7NgLxij+/mgMEc/SIP8Qlx53SwYo/eNFXkGYsij/ZQpCDEmaKP8iYu5aQD4o/C3va4a/Jij85tMh2vp+KPyx96IL6lok/otEdxM4Uij9f7/54r1qJP6LRHcTOFIo/t+7mqQ65iT/UfQBSmziJPxhgH5268ok/t2J/2T15iD8HfH4YITyKP/KYgcr494k/A30iT5KuiT8HtkqwOJyJP2wm32xzY4o/Yygn2lVIiT+aX80BgjmKP0qYaftXVoo/F5rrNNJSiT+BQ6hSsweKP/rQBfUtc4o/MXxETIkkij+RJ0nXTL6JP3CZ02UxsYk/eJeL+E7Mij86evzepj+LP9AKDFnd6ok/cJnTZTGxiT+mft5UpMKIP/bRqSuf5Yk/pkQSvYxiiT/uX1lpUgqKP6pDboYb8Ik/UkSGVbyRiT+7Jw8LtaaJPwu1pnnHKYo/W3wKgPEMij//CS5W1GCKP9lCkIMSZoo/tyizQSYZiT857pQO1v+JP7PviuB/K4k/npj1Yignij8sfeiC+paJPxea6zTSUok/8WjjiLX45D5OC170FaSJP0bT2cngKIk/5SfVPh2PiT9wXwfOGVGKP8zR4/c2/Yk/Ugq6vaQxij+aX80BgjmKPwu1pnnHKYo/X+/+eK9aiT/QCgxZ3eqJP07RkVz+Q4o/bCbfbHNjij9XCRaHM7+KPw==",
          "dtype": "f8"
         },
         "yaxis": "y"
        },
        {
         "hovertemplate": "Round 1<br>Position: 0<br>Action: %{x}<br>P: %{y:.6f}<br>Reward: 0<extra></extra>",
         "marker": {
          "color": "crimson",
          "size": 12,
          "symbol": "triangle-up"
         },
         "mode": "markers",
         "name": "Picked (r=1)",
         "showlegend": true,
         "type": "scatter",
         "x": [
          66
         ],
         "xaxis": "x",
         "y": [
          0.00030864197530864197
         ],
         "yaxis": "y"
        },
        {
         "hovertemplate": "Round 2<br>Position: 0<br>Action: %{x}<br>P: %{y:.6f}<br>Reward: 0<extra></extra>",
         "marker": {
          "color": "forestgreen",
          "size": 11,
          "symbol": "diamond"
         },
         "mode": "markers",
         "name": "Picked (r=2)",
         "showlegend": true,
         "type": "scatter",
         "x": [
          66
         ],
         "xaxis": "x",
         "y": [
          1e-05
         ],
         "yaxis": "y"
        },
        {
         "marker": {
          "color": "steelblue"
         },
         "name": "Round 1",
         "opacity": 0.6,
         "showlegend": false,
         "type": "bar",
         "x": {
          "bdata": "AAECAwQFBgcICQoLDA0ODxAREhMUFRYXGBkaGxwdHh8gISIjJCUmJygpKissLS4vMDEyMzQ1Njc4OTo7PD0+P0BBQkNERUZHSElKS0xNTk8=",
          "dtype": "i1"
         },
         "xaxis": "x2",
         "y": {
          "bdata": "U0lcNoLqiT9TSVw2guqJP1NJXDaC6ok/U0lcNoLqiT9TSVw2guqJP1NJXDaC6ok/U0lcNoLqiT9TSVw2guqJP1NJXDaC6ok/U0lcNoLqiT9TSVw2guqJP1NJXDaC6ok/U0lcNoLqiT9TSVw2guqJP1NJXDaC6ok/U0lcNoLqiT9TSVw2guqJP1NJXDaC6ok/U0lcNoLqiT9TSVw2guqJP1NJXDaC6ok/U0lcNoLqiT9TSVw2guqJP1NJXDaC6ok/U0lcNoLqiT9TSVw2guqJP1NJXDaC6ok/U0lcNoLqiT9TSVw2guqJP1NJXDaC6ok/U0lcNoLqiT9TSVw2guqJP1NJXDaC6ok/U0lcNoLqiT9TSVw2guqJP1NJXDaC6ok/U0lcNoLqiT9TSVw2guqJP1NJXDaC6ok/U0lcNoLqiT9TSVw2guqJP1NJXDaC6ok/U0lcNoLqiT9TSVw2guqJP1NJXDaC6ok/U0lcNoLqiT9TSVw2guqJP1NJXDaC6ok/U0lcNoLqiT9TSVw2guqJP1NJXDaC6ok/U0lcNoLqiT9TSVw2guqJP1NJXDaC6ok/U0lcNoLqiT9TSVw2guqJP1NJXDaC6ok/U0lcNoLqiT9TSVw2guqJP1NJXDaC6ok/U0lcNoLqiT9TSVw2guqJP1NJXDaC6ok/U0lcNoLqiT9TSVw2guqJP1NJXDaC6ok/U0lcNoLqiT9TSVw2guqJP1NJXDaC6ok/U0lcNoLqiT9TSVw2guqJP1NJXDaC6ok/U0lcNoLqiT9TSVw2guqJP1NJXDaC6ok/U0lcNoLqiT9TSVw2guqJP1NJXDaC6ok/Te6rMCc6ND9TSVw2guqJPw==",
          "dtype": "f8"
         },
         "yaxis": "y2"
        },
        {
         "marker": {
          "color": "darkorange"
         },
         "name": "Round 2",
         "opacity": 0.85,
         "showlegend": false,
         "type": "bar",
         "x": {
          "bdata": "AAECAwQFBgcICQoLDA0ODxAREhMUFRYXGBkaGxwdHh8gISIjJCUmJygpKissLS4vMDEyMzQ1Njc4OTo7PD0+P0BBQkNERUZHSElKS0xNTk8=",
          "dtype": "i1"
         },
         "xaxis": "x2",
         "y": {
          "bdata": "JJf/kH77ij8YYB+duvKJP+qymNh8XIs/9tGpK5/liT8YYB+duvKJP+G04EVfQYo/KAr0iTxJij/EX5M16iGKP33Qs1n1uYo/+tAF9S1zij8TJ/c7FAWKP0qYaftXVoo/6SYxCKwcij+iC+pb5nSJP4FDqFKzB4o/bCbfbHNjij8LKT+p9umIP9RDNLqD2Ik/X+/+eK9aiT/ImLuWkA+KP2tgqwSLw4k/u+1Cc51Gij857pQO1v+JP6p9Oh4zUIk/1QloImx4ij/de7jkuFOKPxea6zTSUok/gQncupunij9Wfa62Yn+JP1t8CoDxDIo/4e6s3XahiT+mCkYldQKKP+Un1T4dj4k/s3vysFBrij9fe2ZJgJqKP2PuWkI+6Ik/lialoNtLij/QRNjw9EqJPwu1pnnHKYo/KETAIVSpiT/M0eP3Nv2JP6pDboYb8Ik/4e6s3XahiT+ztb5IaMuJP4m1+BQA44k/Ugq6vaQxij89J71vfO2JP4FDqFKzB4o/bCbfbHNjij9r1EM0uoOIP7O1vkhoy4k/t+7mqQ65iT+AfXTqymeJP5VgcTjzq4k/kSdJ10y+iT8LtaZ5xymKP9DQP8HFioo/cJnTZTGxiT/ymIHK+PeJP69Cyk+qfYo/gUOoUrMHij/ZfFwbKsaJP3SYLy/APoo/2UKQgxJmij817zhFR3KJP5nTZTGx+Yg/Arfu5qkOiT8LtaZ5xymKP2cng6Pk1Yk/B/AWSFD8iD/YtiizQSaJP/bRqSuf5Yk/X+/+eK9aiT8+7fDXZI2KP6pDboYb8Ik/mdNlMbH5iD/dtYR80LOJP+5fWWlSCoo/aR1VTRB17z4HfH4YITyKPw==",
          "dtype": "f8"
         },
         "yaxis": "y2"
        },
        {
         "hovertemplate": "Round 1<br>Position: 1<br>Action: %{x}<br>P: %{y:.6f}<br>Reward: 0<extra></extra>",
         "marker": {
          "color": "crimson",
          "size": 12,
          "symbol": "triangle-up"
         },
         "mode": "markers",
         "name": "Picked (r=1)",
         "showlegend": false,
         "type": "scatter",
         "x": [
          78
         ],
         "xaxis": "x2",
         "y": [
          0.00030864197530864197
         ],
         "yaxis": "y2"
        },
        {
         "hovertemplate": "Round 2<br>Position: 1<br>Action: %{x}<br>P: %{y:.6f}<br>Reward: 0<extra></extra>",
         "marker": {
          "color": "forestgreen",
          "size": 11,
          "symbol": "diamond"
         },
         "mode": "markers",
         "name": "Picked (r=2)",
         "showlegend": false,
         "type": "scatter",
         "x": [
          78
         ],
         "xaxis": "x2",
         "y": [
          1.5e-05
         ],
         "yaxis": "y2"
        },
        {
         "marker": {
          "color": "steelblue"
         },
         "name": "Round 1",
         "opacity": 0.6,
         "showlegend": false,
         "type": "bar",
         "x": {
          "bdata": "AAECAwQFBgcICQoLDA0ODxAREhMUFRYXGBkaGxwdHh8gISIjJCUmJygpKissLS4vMDEyMzQ1Njc4OTo7PD0+P0BBQkNERUZHSElKS0xNTk8=",
          "dtype": "i1"
         },
         "xaxis": "x3",
         "y": {
          "bdata": "U0lcNoLqiT9N7qswJzo0P1NJXDaC6ok/U0lcNoLqiT9TSVw2guqJP1NJXDaC6ok/U0lcNoLqiT9TSVw2guqJP1NJXDaC6ok/U0lcNoLqiT9TSVw2guqJP1NJXDaC6ok/U0lcNoLqiT9TSVw2guqJP1NJXDaC6ok/U0lcNoLqiT9TSVw2guqJP1NJXDaC6ok/U0lcNoLqiT9TSVw2guqJP1NJXDaC6ok/U0lcNoLqiT9TSVw2guqJP1NJXDaC6ok/U0lcNoLqiT9TSVw2guqJP1NJXDaC6ok/U0lcNoLqiT9TSVw2guqJP1NJXDaC6ok/U0lcNoLqiT9TSVw2guqJP1NJXDaC6ok/U0lcNoLqiT9TSVw2guqJP1NJXDaC6ok/U0lcNoLqiT9TSVw2guqJP1NJXDaC6ok/U0lcNoLqiT9TSVw2guqJP1NJXDaC6ok/U0lcNoLqiT9TSVw2guqJP1NJXDaC6ok/U0lcNoLqiT9TSVw2guqJP1NJXDaC6ok/U0lcNoLqiT9TSVw2guqJP1NJXDaC6ok/U0lcNoLqiT9TSVw2guqJP1NJXDaC6ok/U0lcNoLqiT9TSVw2guqJP1NJXDaC6ok/U0lcNoLqiT9TSVw2guqJP1NJXDaC6ok/U0lcNoLqiT9TSVw2guqJP1NJXDaC6ok/U0lcNoLqiT9TSVw2guqJP1NJXDaC6ok/U0lcNoLqiT9TSVw2guqJP1NJXDaC6ok/U0lcNoLqiT9TSVw2guqJP1NJXDaC6ok/U0lcNoLqiT9TSVw2guqJP1NJXDaC6ok/U0lcNoLqiT9TSVw2guqJP1NJXDaC6ok/U0lcNoLqiT9TSVw2guqJPw==",
          "dtype": "f8"
         },
         "yaxis": "y3"
        },
        {
         "marker": {
          "color": "darkorange"
         },
         "name": "Round 2",
         "opacity": 0.85,
         "showlegend": false,
         "type": "bar",
         "x": {
          "bdata": "AAECAwQFBgcICQoLDA0ODxAREhMUFRYXGBkaGxwdHh8gISIjJCUmJygpKissLS4vMDEyMzQ1Njc4OTo7PD0+P0BBQkNERUZHSElKS0xNTk8=",
          "dtype": "i1"
         },
         "xaxis": "x3",
         "y": {
          "bdata": "dNL7xteeiT/xaOOItfjUPo0o7Q2+MIk/hXzQs1n1iT9ftTLhl/qJP6LRHcTOFIo/t+7mqQ65iT89J71vfO2JPwt72uGvyYo/LH3ogvqWiT/EX5M16iGKP5EnSddMvok/1QloImx4ij8LKT+p9umIP54MjpJX54g/2UKQgxJmij+amZmZmZmJP+G04EVfQYo/Yygn2lVIiT8TJ/c7FAWKP3gLJCh+jIk/D7QCQ1a3ij8P7s7abReKP3CZ02UxsYk/aLPqc7UViz8HfH4YITyKP7N78rBQa4o/r0LKT6p9ij8PKJtyhXeJPz7t8NdkjYo/Z2FPO/w1iT9O0ZFc/kOKP/oK0oxF04k/QmDl0CLbiT+/YDdsW5SJP9R9AFKbOIk/SgwCK4cWiT+ze/KwUGuKP4EJ3Lqbp4o/9tGpK5/liT817zhFR3KJP43uIHam0Ik/DyibcoV3iT//CS5W1GCKP/5D+u3rwIk/pkQSvYxiiT/htOBFX0GKP0qYaftXVoo/Sphp+1dWij8g0m9fB86JP05FKowtBIk/t+7mqQ65iT/hehSuR+GKP+5fWWlSCoo/MXxETIkkij8TJ/c7FAWKP28NbJVgcYg/INJvXwfOiT+mCkYldQKKP0aZDTLJyIk/kSdJ10y+iT9w626e6pCLP+2ZJQFqaok/yJi7lpAPij+mRBK9jGKJPyDSb18Hzok/zNHj9zb9iT+e0sH6P4eJP7e0GhL3WIo/V0PiHksfij9XCRaHM7+KP662Yn/ZPYk/3Xu45LhTij/M0eP3Nv2JPwd8fhghPIo/HF97ZkmAij940VeQZiyKP662Yn/ZPYk/0AoMWd3qiT/QCgxZ3eqJPw==",
          "dtype": "f8"
         },
         "yaxis": "y3"
        },
        {
         "hovertemplate": "Round 1<br>Position: 2<br>Action: %{x}<br>P: %{y:.6f}<br>Reward: 0<extra></extra>",
         "marker": {
          "color": "crimson",
          "size": 12,
          "symbol": "triangle-up"
         },
         "mode": "markers",
         "name": "Picked (r=1)",
         "showlegend": false,
         "type": "scatter",
         "x": [
          1
         ],
         "xaxis": "x3",
         "y": [
          0.00030864197530864197
         ],
         "yaxis": "y3"
        },
        {
         "hovertemplate": "Round 2<br>Position: 2<br>Action: %{x}<br>P: %{y:.6f}<br>Reward: 0<extra></extra>",
         "marker": {
          "color": "forestgreen",
          "size": 11,
          "symbol": "diamond"
         },
         "mode": "markers",
         "name": "Picked (r=2)",
         "showlegend": false,
         "type": "scatter",
         "x": [
          1
         ],
         "xaxis": "x3",
         "y": [
          5e-06
         ],
         "yaxis": "y3"
        }
       ],
       "layout": {
        "annotations": [
         {
          "font": {
           "size": 16
          },
          "showarrow": false,
          "text": "Position 0",
          "x": 0.5,
          "xanchor": "center",
          "xref": "paper",
          "y": 1,
          "yanchor": "bottom",
          "yref": "paper"
         },
         {
          "font": {
           "size": 16
          },
          "showarrow": false,
          "text": "Position 1",
          "x": 0.5,
          "xanchor": "center",
          "xref": "paper",
          "y": 0.6399999999999999,
          "yanchor": "bottom",
          "yref": "paper"
         },
         {
          "font": {
           "size": 16
          },
          "showarrow": false,
          "text": "Position 2",
          "x": 0.5,
          "xanchor": "center",
          "xref": "paper",
          "y": 0.27999999999999997,
          "yanchor": "bottom",
          "yref": "paper"
         }
        ],
        "bargap": 0.15,
        "barmode": "group",
        "height": 1050,
        "template": {
         "data": {
          "bar": [
           {
            "error_x": {
             "color": "#2a3f5f"
            },
            "error_y": {
             "color": "#2a3f5f"
            },
            "marker": {
             "line": {
              "color": "white",
              "width": 0.5
             },
             "pattern": {
              "fillmode": "overlay",
              "size": 10,
              "solidity": 0.2
             }
            },
            "type": "bar"
           }
          ],
          "barpolar": [
           {
            "marker": {
             "line": {
              "color": "white",
              "width": 0.5
             },
             "pattern": {
              "fillmode": "overlay",
              "size": 10,
              "solidity": 0.2
             }
            },
            "type": "barpolar"
           }
          ],
          "carpet": [
           {
            "aaxis": {
             "endlinecolor": "#2a3f5f",
             "gridcolor": "#C8D4E3",
             "linecolor": "#C8D4E3",
             "minorgridcolor": "#C8D4E3",
             "startlinecolor": "#2a3f5f"
            },
            "baxis": {
             "endlinecolor": "#2a3f5f",
             "gridcolor": "#C8D4E3",
             "linecolor": "#C8D4E3",
             "minorgridcolor": "#C8D4E3",
             "startlinecolor": "#2a3f5f"
            },
            "type": "carpet"
           }
          ],
          "choropleth": [
           {
            "colorbar": {
             "outlinewidth": 0,
             "ticks": ""
            },
            "type": "choropleth"
           }
          ],
          "contour": [
           {
            "colorbar": {
             "outlinewidth": 0,
             "ticks": ""
            },
            "colorscale": [
             [
              0,
              "#0d0887"
             ],
             [
              0.1111111111111111,
              "#46039f"
             ],
             [
              0.2222222222222222,
              "#7201a8"
             ],
             [
              0.3333333333333333,
              "#9c179e"
             ],
             [
              0.4444444444444444,
              "#bd3786"
             ],
             [
              0.5555555555555556,
              "#d8576b"
             ],
             [
              0.6666666666666666,
              "#ed7953"
             ],
             [
              0.7777777777777778,
              "#fb9f3a"
             ],
             [
              0.8888888888888888,
              "#fdca26"
             ],
             [
              1,
              "#f0f921"
             ]
            ],
            "type": "contour"
           }
          ],
          "contourcarpet": [
           {
            "colorbar": {
             "outlinewidth": 0,
             "ticks": ""
            },
            "type": "contourcarpet"
           }
          ],
          "heatmap": [
           {
            "colorbar": {
             "outlinewidth": 0,
             "ticks": ""
            },
            "colorscale": [
             [
              0,
              "#0d0887"
             ],
             [
              0.1111111111111111,
              "#46039f"
             ],
             [
              0.2222222222222222,
              "#7201a8"
             ],
             [
              0.3333333333333333,
              "#9c179e"
             ],
             [
              0.4444444444444444,
              "#bd3786"
             ],
             [
              0.5555555555555556,
              "#d8576b"
             ],
             [
              0.6666666666666666,
              "#ed7953"
             ],
             [
              0.7777777777777778,
              "#fb9f3a"
             ],
             [
              0.8888888888888888,
              "#fdca26"
             ],
             [
              1,
              "#f0f921"
             ]
            ],
            "type": "heatmap"
           }
          ],
          "histogram": [
           {
            "marker": {
             "pattern": {
              "fillmode": "overlay",
              "size": 10,
              "solidity": 0.2
             }
            },
            "type": "histogram"
           }
          ],
          "histogram2d": [
           {
            "colorbar": {
             "outlinewidth": 0,
             "ticks": ""
            },
            "colorscale": [
             [
              0,
              "#0d0887"
             ],
             [
              0.1111111111111111,
              "#46039f"
             ],
             [
              0.2222222222222222,
              "#7201a8"
             ],
             [
              0.3333333333333333,
              "#9c179e"
             ],
             [
              0.4444444444444444,
              "#bd3786"
             ],
             [
              0.5555555555555556,
              "#d8576b"
             ],
             [
              0.6666666666666666,
              "#ed7953"
             ],
             [
              0.7777777777777778,
              "#fb9f3a"
             ],
             [
              0.8888888888888888,
              "#fdca26"
             ],
             [
              1,
              "#f0f921"
             ]
            ],
            "type": "histogram2d"
           }
          ],
          "histogram2dcontour": [
           {
            "colorbar": {
             "outlinewidth": 0,
             "ticks": ""
            },
            "colorscale": [
             [
              0,
              "#0d0887"
             ],
             [
              0.1111111111111111,
              "#46039f"
             ],
             [
              0.2222222222222222,
              "#7201a8"
             ],
             [
              0.3333333333333333,
              "#9c179e"
             ],
             [
              0.4444444444444444,
              "#bd3786"
             ],
             [
              0.5555555555555556,
              "#d8576b"
             ],
             [
              0.6666666666666666,
              "#ed7953"
             ],
             [
              0.7777777777777778,
              "#fb9f3a"
             ],
             [
              0.8888888888888888,
              "#fdca26"
             ],
             [
              1,
              "#f0f921"
             ]
            ],
            "type": "histogram2dcontour"
           }
          ],
          "mesh3d": [
           {
            "colorbar": {
             "outlinewidth": 0,
             "ticks": ""
            },
            "type": "mesh3d"
           }
          ],
          "parcoords": [
           {
            "line": {
             "colorbar": {
              "outlinewidth": 0,
              "ticks": ""
             }
            },
            "type": "parcoords"
           }
          ],
          "pie": [
           {
            "automargin": true,
            "type": "pie"
           }
          ],
          "scatter": [
           {
            "fillpattern": {
             "fillmode": "overlay",
             "size": 10,
             "solidity": 0.2
            },
            "type": "scatter"
           }
          ],
          "scatter3d": [
           {
            "line": {
             "colorbar": {
              "outlinewidth": 0,
              "ticks": ""
             }
            },
            "marker": {
             "colorbar": {
              "outlinewidth": 0,
              "ticks": ""
             }
            },
            "type": "scatter3d"
           }
          ],
          "scattercarpet": [
           {
            "marker": {
             "colorbar": {
              "outlinewidth": 0,
              "ticks": ""
             }
            },
            "type": "scattercarpet"
           }
          ],
          "scattergeo": [
           {
            "marker": {
             "colorbar": {
              "outlinewidth": 0,
              "ticks": ""
             }
            },
            "type": "scattergeo"
           }
          ],
          "scattergl": [
           {
            "marker": {
             "colorbar": {
              "outlinewidth": 0,
              "ticks": ""
             }
            },
            "type": "scattergl"
           }
          ],
          "scattermap": [
           {
            "marker": {
             "colorbar": {
              "outlinewidth": 0,
              "ticks": ""
             }
            },
            "type": "scattermap"
           }
          ],
          "scattermapbox": [
           {
            "marker": {
             "colorbar": {
              "outlinewidth": 0,
              "ticks": ""
             }
            },
            "type": "scattermapbox"
           }
          ],
          "scatterpolar": [
           {
            "marker": {
             "colorbar": {
              "outlinewidth": 0,
              "ticks": ""
             }
            },
            "type": "scatterpolar"
           }
          ],
          "scatterpolargl": [
           {
            "marker": {
             "colorbar": {
              "outlinewidth": 0,
              "ticks": ""
             }
            },
            "type": "scatterpolargl"
           }
          ],
          "scatterternary": [
           {
            "marker": {
             "colorbar": {
              "outlinewidth": 0,
              "ticks": ""
             }
            },
            "type": "scatterternary"
           }
          ],
          "surface": [
           {
            "colorbar": {
             "outlinewidth": 0,
             "ticks": ""
            },
            "colorscale": [
             [
              0,
              "#0d0887"
             ],
             [
              0.1111111111111111,
              "#46039f"
             ],
             [
              0.2222222222222222,
              "#7201a8"
             ],
             [
              0.3333333333333333,
              "#9c179e"
             ],
             [
              0.4444444444444444,
              "#bd3786"
             ],
             [
              0.5555555555555556,
              "#d8576b"
             ],
             [
              0.6666666666666666,
              "#ed7953"
             ],
             [
              0.7777777777777778,
              "#fb9f3a"
             ],
             [
              0.8888888888888888,
              "#fdca26"
             ],
             [
              1,
              "#f0f921"
             ]
            ],
            "type": "surface"
           }
          ],
          "table": [
           {
            "cells": {
             "fill": {
              "color": "#EBF0F8"
             },
             "line": {
              "color": "white"
             }
            },
            "header": {
             "fill": {
              "color": "#C8D4E3"
             },
             "line": {
              "color": "white"
             }
            },
            "type": "table"
           }
          ]
         },
         "layout": {
          "annotationdefaults": {
           "arrowcolor": "#2a3f5f",
           "arrowhead": 0,
           "arrowwidth": 1
          },
          "autotypenumbers": "strict",
          "coloraxis": {
           "colorbar": {
            "outlinewidth": 0,
            "ticks": ""
           }
          },
          "colorscale": {
           "diverging": [
            [
             0,
             "#8e0152"
            ],
            [
             0.1,
             "#c51b7d"
            ],
            [
             0.2,
             "#de77ae"
            ],
            [
             0.3,
             "#f1b6da"
            ],
            [
             0.4,
             "#fde0ef"
            ],
            [
             0.5,
             "#f7f7f7"
            ],
            [
             0.6,
             "#e6f5d0"
            ],
            [
             0.7,
             "#b8e186"
            ],
            [
             0.8,
             "#7fbc41"
            ],
            [
             0.9,
             "#4d9221"
            ],
            [
             1,
             "#276419"
            ]
           ],
           "sequential": [
            [
             0,
             "#0d0887"
            ],
            [
             0.1111111111111111,
             "#46039f"
            ],
            [
             0.2222222222222222,
             "#7201a8"
            ],
            [
             0.3333333333333333,
             "#9c179e"
            ],
            [
             0.4444444444444444,
             "#bd3786"
            ],
            [
             0.5555555555555556,
             "#d8576b"
            ],
            [
             0.6666666666666666,
             "#ed7953"
            ],
            [
             0.7777777777777778,
             "#fb9f3a"
            ],
            [
             0.8888888888888888,
             "#fdca26"
            ],
            [
             1,
             "#f0f921"
            ]
           ],
           "sequentialminus": [
            [
             0,
             "#0d0887"
            ],
            [
             0.1111111111111111,
             "#46039f"
            ],
            [
             0.2222222222222222,
             "#7201a8"
            ],
            [
             0.3333333333333333,
             "#9c179e"
            ],
            [
             0.4444444444444444,
             "#bd3786"
            ],
            [
             0.5555555555555556,
             "#d8576b"
            ],
            [
             0.6666666666666666,
             "#ed7953"
            ],
            [
             0.7777777777777778,
             "#fb9f3a"
            ],
            [
             0.8888888888888888,
             "#fdca26"
            ],
            [
             1,
             "#f0f921"
            ]
           ]
          },
          "colorway": [
           "#636efa",
           "#EF553B",
           "#00cc96",
           "#ab63fa",
           "#FFA15A",
           "#19d3f3",
           "#FF6692",
           "#B6E880",
           "#FF97FF",
           "#FECB52"
          ],
          "font": {
           "color": "#2a3f5f"
          },
          "geo": {
           "bgcolor": "white",
           "lakecolor": "white",
           "landcolor": "white",
           "showlakes": true,
           "showland": true,
           "subunitcolor": "#C8D4E3"
          },
          "hoverlabel": {
           "align": "left"
          },
          "hovermode": "closest",
          "mapbox": {
           "style": "light"
          },
          "paper_bgcolor": "white",
          "plot_bgcolor": "white",
          "polar": {
           "angularaxis": {
            "gridcolor": "#EBF0F8",
            "linecolor": "#EBF0F8",
            "ticks": ""
           },
           "bgcolor": "white",
           "radialaxis": {
            "gridcolor": "#EBF0F8",
            "linecolor": "#EBF0F8",
            "ticks": ""
           }
          },
          "scene": {
           "xaxis": {
            "backgroundcolor": "white",
            "gridcolor": "#DFE8F3",
            "gridwidth": 2,
            "linecolor": "#EBF0F8",
            "showbackground": true,
            "ticks": "",
            "zerolinecolor": "#EBF0F8"
           },
           "yaxis": {
            "backgroundcolor": "white",
            "gridcolor": "#DFE8F3",
            "gridwidth": 2,
            "linecolor": "#EBF0F8",
            "showbackground": true,
            "ticks": "",
            "zerolinecolor": "#EBF0F8"
           },
           "zaxis": {
            "backgroundcolor": "white",
            "gridcolor": "#DFE8F3",
            "gridwidth": 2,
            "linecolor": "#EBF0F8",
            "showbackground": true,
            "ticks": "",
            "zerolinecolor": "#EBF0F8"
           }
          },
          "shapedefaults": {
           "line": {
            "color": "#2a3f5f"
           }
          },
          "ternary": {
           "aaxis": {
            "gridcolor": "#DFE8F3",
            "linecolor": "#A2B1C6",
            "ticks": ""
           },
           "baxis": {
            "gridcolor": "#DFE8F3",
            "linecolor": "#A2B1C6",
            "ticks": ""
           },
           "bgcolor": "white",
           "caxis": {
            "gridcolor": "#DFE8F3",
            "linecolor": "#A2B1C6",
            "ticks": ""
           }
          },
          "title": {
           "x": 0.05
          },
          "xaxis": {
           "automargin": true,
           "gridcolor": "#EBF0F8",
           "linecolor": "#EBF0F8",
           "ticks": "",
           "title": {
            "standoff": 15
           },
           "zerolinecolor": "#EBF0F8",
           "zerolinewidth": 2
          },
          "yaxis": {
           "automargin": true,
           "gridcolor": "#EBF0F8",
           "linecolor": "#EBF0F8",
           "ticks": "",
           "title": {
            "standoff": 15
           },
           "zerolinecolor": "#EBF0F8",
           "zerolinewidth": 2
          }
         }
        },
        "title": {
         "text": "Round 1 vs Round 2"
        },
        "xaxis": {
         "anchor": "y",
         "domain": [
          0,
          1
         ],
         "tickmode": "array",
         "ticktext": [
          "0",
          "1",
          "2",
          "3",
          "4",
          "5",
          "6",
          "7",
          "8",
          "9",
          "10",
          "11",
          "12",
          "13",
          "14",
          "15",
          "16",
          "17",
          "18",
          "19",
          "20",
          "21",
          "22",
          "23",
          "24",
          "25",
          "26",
          "27",
          "28",
          "29",
          "30",
          "31",
          "32",
          "33",
          "34",
          "35",
          "36",
          "37",
          "38",
          "39",
          "40",
          "41",
          "42",
          "43",
          "44",
          "45",
          "46",
          "47",
          "48",
          "49",
          "50",
          "51",
          "52",
          "53",
          "54",
          "55",
          "56",
          "57",
          "58",
          "59",
          "60",
          "61",
          "62",
          "63",
          "64",
          "65",
          "66",
          "67",
          "68",
          "69",
          "70",
          "71",
          "72",
          "73",
          "74",
          "75",
          "76",
          "77",
          "78",
          "79"
         ],
         "tickvals": {
          "bdata": "AAECAwQFBgcICQoLDA0ODxAREhMUFRYXGBkaGxwdHh8gISIjJCUmJygpKissLS4vMDEyMzQ1Njc4OTo7PD0+P0BBQkNERUZHSElKS0xNTk8=",
          "dtype": "i1"
         },
         "title": {
          "text": ""
         }
        },
        "xaxis2": {
         "anchor": "y2",
         "domain": [
          0,
          1
         ],
         "tickmode": "array",
         "ticktext": [
          "0",
          "1",
          "2",
          "3",
          "4",
          "5",
          "6",
          "7",
          "8",
          "9",
          "10",
          "11",
          "12",
          "13",
          "14",
          "15",
          "16",
          "17",
          "18",
          "19",
          "20",
          "21",
          "22",
          "23",
          "24",
          "25",
          "26",
          "27",
          "28",
          "29",
          "30",
          "31",
          "32",
          "33",
          "34",
          "35",
          "36",
          "37",
          "38",
          "39",
          "40",
          "41",
          "42",
          "43",
          "44",
          "45",
          "46",
          "47",
          "48",
          "49",
          "50",
          "51",
          "52",
          "53",
          "54",
          "55",
          "56",
          "57",
          "58",
          "59",
          "60",
          "61",
          "62",
          "63",
          "64",
          "65",
          "66",
          "67",
          "68",
          "69",
          "70",
          "71",
          "72",
          "73",
          "74",
          "75",
          "76",
          "77",
          "78",
          "79"
         ],
         "tickvals": {
          "bdata": "AAECAwQFBgcICQoLDA0ODxAREhMUFRYXGBkaGxwdHh8gISIjJCUmJygpKissLS4vMDEyMzQ1Njc4OTo7PD0+P0BBQkNERUZHSElKS0xNTk8=",
          "dtype": "i1"
         },
         "title": {
          "text": ""
         }
        },
        "xaxis3": {
         "anchor": "y3",
         "domain": [
          0,
          1
         ],
         "tickmode": "array",
         "ticktext": [
          "0",
          "1",
          "2",
          "3",
          "4",
          "5",
          "6",
          "7",
          "8",
          "9",
          "10",
          "11",
          "12",
          "13",
          "14",
          "15",
          "16",
          "17",
          "18",
          "19",
          "20",
          "21",
          "22",
          "23",
          "24",
          "25",
          "26",
          "27",
          "28",
          "29",
          "30",
          "31",
          "32",
          "33",
          "34",
          "35",
          "36",
          "37",
          "38",
          "39",
          "40",
          "41",
          "42",
          "43",
          "44",
          "45",
          "46",
          "47",
          "48",
          "49",
          "50",
          "51",
          "52",
          "53",
          "54",
          "55",
          "56",
          "57",
          "58",
          "59",
          "60",
          "61",
          "62",
          "63",
          "64",
          "65",
          "66",
          "67",
          "68",
          "69",
          "70",
          "71",
          "72",
          "73",
          "74",
          "75",
          "76",
          "77",
          "78",
          "79"
         ],
         "tickvals": {
          "bdata": "AAECAwQFBgcICQoLDA0ODxAREhMUFRYXGBkaGxwdHh8gISIjJCUmJygpKissLS4vMDEyMzQ1Njc4OTo7PD0+P0BBQkNERUZHSElKS0xNTk8=",
          "dtype": "i1"
         },
         "title": {
          "text": "Action ID (0\u201379)"
         }
        },
        "yaxis": {
         "anchor": "x",
         "domain": [
          0.72,
          1
         ],
         "range": [
          0,
          0.01663125
         ],
         "title": {
          "text": "P(select)"
         }
        },
        "yaxis2": {
         "anchor": "x2",
         "domain": [
          0.36,
          0.6399999999999999
         ],
         "range": [
          0,
          0.0167
         ],
         "title": {
          "text": "P(select)"
         }
        },
        "yaxis3": {
         "anchor": "x3",
         "domain": [
          0,
          0.27999999999999997
         ],
         "range": [
          0,
          0.016825
         ],
         "title": {
          "text": "P(select)"
         }
        }
       }
      }
     },
     "metadata": {},
     "output_type": "display_data"
    }
   ],
   "source": [
    "# Assumes you already built df (action, position, reward, pscore) and bf for n_actions\n",
    "tracker = ThompsonSlateTracker(df=df, n_actions=bf[\"n_actions\"], positions=[0,1,2], seed=SEED)\n",
    "\n",
    "# Round 0 is already recorded (uniform)\n",
    "# Take Round 1 (samples per position, updates \u03b1/\u03b2, stores PMFs)\n",
    "samp1 = tracker.next_round(random_state=SEED, use_mc_if_needed=False)  # exact is valid here\n",
    "print(\"Round 1 samples:\\n\", samp1)\n",
    "\n",
    "# Plot Round 0 vs Round 1\n",
    "tracker.plot_compare(0, 1, title=\"Round 0 vs Round 1\")\n",
    "\n",
    "# Take Round 2 (now exact may be invalid; allow MC to compute PMFs)\n",
    "samp2 = tracker.next_round(random_state=SEED, use_mc_if_needed=True)   # enables MC fallback\n",
    "print(\"Round 2 samples:\\n\", samp2)\n",
    "\n",
    "# Plot Round 1 vs Round 2\n",
    "tracker.plot_compare(1, 2, title=\"Round 1 vs Round 2\")"
   ]
  },
  {
   "cell_type": "code",
   "execution_count": 53,
   "id": "aba65455",
   "metadata": {},
   "outputs": [
    {
     "name": "stdout",
     "output_type": "stream",
     "text": [
      "Round 3 samples:\n",
      "    action  position  reward  pscore\n",
      "0      66         0       0  0.0125\n",
      "1      78         1       0  0.0125\n",
      "2       1         2       0  0.0125\n"
     ]
    },
    {
     "data": {
      "application/vnd.plotly.v1+json": {
       "config": {
        "plotlyServerURL": "https://plot.ly"
       },
       "data": [
        {
         "marker": {
          "color": "steelblue"
         },
         "name": "Round 2",
         "opacity": 0.6,
         "showlegend": true,
         "type": "bar",
         "x": {
          "bdata": "AAECAwQFBgcICQoLDA0ODxAREhMUFRYXGBkaGxwdHh8gISIjJCUmJygpKissLS4vMDEyMzQ1Njc4OTo7PD0+P0BBQkNERUZHSElKS0xNTk8=",
          "dtype": "i1"
         },
         "xaxis": "x",
         "y": {
          "bdata": "LUMc6+I2ij/d71AU6BOJPwd8fhghPIo/Un5S7dPxiD+NtFTejnCKPz7t8NdkjYo/0ETY8PRKiT+BQ6hSsweKP/oK0oxF04k/Eyf3OxQFij+At0CC4seIP7N78rBQa4o/cF8HzhlRij/+Q/rt68CJP4EJ3Lqbp4o/cCU7NgLxij+/mgMEc/SIP8Qlx53SwYo/eNFXkGYsij/ZQpCDEmaKP8iYu5aQD4o/C3va4a/Jij85tMh2vp+KPyx96IL6lok/otEdxM4Uij9f7/54r1qJP6LRHcTOFIo/t+7mqQ65iT/UfQBSmziJPxhgH5268ok/t2J/2T15iD8HfH4YITyKP/KYgcr494k/A30iT5KuiT8HtkqwOJyJP2wm32xzY4o/Yygn2lVIiT+aX80BgjmKP0qYaftXVoo/F5rrNNJSiT+BQ6hSsweKP/rQBfUtc4o/MXxETIkkij+RJ0nXTL6JP3CZ02UxsYk/eJeL+E7Mij86evzepj+LP9AKDFnd6ok/cJnTZTGxiT+mft5UpMKIP/bRqSuf5Yk/pkQSvYxiiT/uX1lpUgqKP6pDboYb8Ik/UkSGVbyRiT+7Jw8LtaaJPwu1pnnHKYo/W3wKgPEMij//CS5W1GCKP9lCkIMSZoo/tyizQSYZiT857pQO1v+JP7PviuB/K4k/npj1Yignij8sfeiC+paJPxea6zTSUok/8WjjiLX45D5OC170FaSJP0bT2cngKIk/5SfVPh2PiT9wXwfOGVGKP8zR4/c2/Yk/Ugq6vaQxij+aX80BgjmKPwu1pnnHKYo/X+/+eK9aiT/QCgxZ3eqJP07RkVz+Q4o/bCbfbHNjij9XCRaHM7+KPw==",
          "dtype": "f8"
         },
         "yaxis": "y"
        },
        {
         "marker": {
          "color": "darkorange"
         },
         "name": "Round 3",
         "opacity": 0.85,
         "showlegend": true,
         "type": "bar",
         "x": {
          "bdata": "AAECAwQFBgcICQoLDA0ODxAREhMUFRYXGBkaGxwdHh8gISIjJCUmJygpKissLS4vMDEyMzQ1Njc4OTo7PD0+P0BBQkNERUZHSElKS0xNTk8=",
          "dtype": "i1"
         },
         "xaxis": "x",
         "y": {
          "bdata": "X7Uy4Zf6iT98REyJJHqJP5FhFW9kHok/W3wKgPEMij+E8GjjiLWIP+G04EVfQYo/0ETY8PRKiT+/1M+bilSIP5HtfD81Xoo/0AoMWd3qiT+zQSYZOQuLP1+1MuGX+ok/yAxUxr/PiD9bfAqA8QyKP+Un1T4dj4k/wCZr1EM0ij+ztb5IaMuJP1tCPujZrIo/zAuwj05diT/AJmvUQzSKP+WzPA/uzoo/jSjtDb4wiT8gmKPH722KP9l8XBsqxok/qn06HjNQiT9Wfa62Yn+JP1/v/nivWok/DyibcoV3iT+rCaLuA5CKP/oK0oxF04k/hXzQs1n1iT+NtFTejnCKP9kIxOv6BYs/luzYCMTrij+77UJznUaKPyh+jLlrCYk/3e9QFOgTiT9K0jWTb7aJP4m1+BQA44k/V0PiHksfij90XmOXqN6KP57Swfo/h4k/eNFXkGYsij9wXwfOGVGKP9l8XBsqxok/zAuwj05diT+amZmZmZmJP9RDNLqD2Ik/Sphp+1dWij+BQ6hSsweKPyCYo8fvbYo/yJi7lpAPij8TJ/c7FAWKPznulA7W/4k/1QloImx4ij9n7bYLzXWKP8RfkzXqIYo/C3va4a/Jij9jKCfaVUiJP2cng6Pk1Yk/V0PiHksfij9nJ4Oj5NWJPzV7oBUYsoo/JAuYwK27iT8TJ/c7FAWKP2PuWkI+6Ik/AAAAAAAAAAA17zhFR3KJP4m1+BQA44k/KAr0iTxJij8g0m9fB86JP2tgqwSLw4k/Tgte9BWkiT94RfC/leyIP56Y9WIoJ4o/MUJ4tHHEij/2l92Th4WKP3wKgPEMGoo/DyibcoV3iT+RJ0nXTL6JPw==",
          "dtype": "f8"
         },
         "yaxis": "y"
        },
        {
         "hovertemplate": "Round 2<br>Position: 0<br>Action: %{x}<br>P: %{y:.6f}<br>Reward: 0<extra></extra>",
         "marker": {
          "color": "crimson",
          "size": 12,
          "symbol": "triangle-up"
         },
         "mode": "markers",
         "name": "Picked (r=2)",
         "showlegend": true,
         "type": "scatter",
         "x": [
          66
         ],
         "xaxis": "x",
         "y": [
          1e-05
         ],
         "yaxis": "y"
        },
        {
         "hovertemplate": "Round 3<br>Position: 0<br>Action: %{x}<br>P: %{y:.6f}<br>Reward: 0<extra></extra>",
         "marker": {
          "color": "forestgreen",
          "size": 11,
          "symbol": "diamond"
         },
         "mode": "markers",
         "name": "Picked (r=3)",
         "showlegend": true,
         "type": "scatter",
         "x": [
          66
         ],
         "xaxis": "x",
         "y": [
          0
         ],
         "yaxis": "y"
        },
        {
         "marker": {
          "color": "steelblue"
         },
         "name": "Round 2",
         "opacity": 0.6,
         "showlegend": false,
         "type": "bar",
         "x": {
          "bdata": "AAECAwQFBgcICQoLDA0ODxAREhMUFRYXGBkaGxwdHh8gISIjJCUmJygpKissLS4vMDEyMzQ1Njc4OTo7PD0+P0BBQkNERUZHSElKS0xNTk8=",
          "dtype": "i1"
         },
         "xaxis": "x2",
         "y": {
          "bdata": "JJf/kH77ij8YYB+duvKJP+qymNh8XIs/9tGpK5/liT8YYB+duvKJP+G04EVfQYo/KAr0iTxJij/EX5M16iGKP33Qs1n1uYo/+tAF9S1zij8TJ/c7FAWKP0qYaftXVoo/6SYxCKwcij+iC+pb5nSJP4FDqFKzB4o/bCbfbHNjij8LKT+p9umIP9RDNLqD2Ik/X+/+eK9aiT/ImLuWkA+KP2tgqwSLw4k/u+1Cc51Gij857pQO1v+JP6p9Oh4zUIk/1QloImx4ij/de7jkuFOKPxea6zTSUok/gQncupunij9Wfa62Yn+JP1t8CoDxDIo/4e6s3XahiT+mCkYldQKKP+Un1T4dj4k/s3vysFBrij9fe2ZJgJqKP2PuWkI+6Ik/lialoNtLij/QRNjw9EqJPwu1pnnHKYo/KETAIVSpiT/M0eP3Nv2JP6pDboYb8Ik/4e6s3XahiT+ztb5IaMuJP4m1+BQA44k/Ugq6vaQxij89J71vfO2JP4FDqFKzB4o/bCbfbHNjij9r1EM0uoOIP7O1vkhoy4k/t+7mqQ65iT+AfXTqymeJP5VgcTjzq4k/kSdJ10y+iT8LtaZ5xymKP9DQP8HFioo/cJnTZTGxiT/ymIHK+PeJP69Cyk+qfYo/gUOoUrMHij/ZfFwbKsaJP3SYLy/APoo/2UKQgxJmij817zhFR3KJP5nTZTGx+Yg/Arfu5qkOiT8LtaZ5xymKP2cng6Pk1Yk/B/AWSFD8iD/YtiizQSaJP/bRqSuf5Yk/X+/+eK9aiT8+7fDXZI2KP6pDboYb8Ik/mdNlMbH5iD/dtYR80LOJP+5fWWlSCoo/aR1VTRB17z4HfH4YITyKPw==",
          "dtype": "f8"
         },
         "yaxis": "y2"
        },
        {
         "marker": {
          "color": "darkorange"
         },
         "name": "Round 3",
         "opacity": 0.85,
         "showlegend": false,
         "type": "bar",
         "x": {
          "bdata": "AAECAwQFBgcICQoLDA0ODxAREhMUFRYXGBkaGxwdHh8gISIjJCUmJygpKissLS4vMDEyMzQ1Njc4OTo7PD0+P0BBQkNERUZHSElKS0xNTk8=",
          "dtype": "i1"
         },
         "xaxis": "x2",
         "y": {
          "bdata": "Rl9BmrFoij8c0xOWeECJP+5fWWlSCoo/+grSjEXTiT/dQexMofOKP5olAWpq2Yo/V0PiHksfij9fe2ZJgJqKP1J+Uu3T8Yg/r3yW58HdiT+BQ6hSsweKP1dD4h5LH4o/A0NWt3pOij/tmSUBamqJP5EnSddMvok/r3yW58HdiT+z74rgfyuJPwNDVrd6Too/zNHj9zb9iT/QCgxZ3eqJP+Un1T4dj4k/r3yW58HdiT8k0csolluKP/bRqSuf5Yk/A0NWt3pOij9fe2ZJgJqKP1/v/nivWok/qkNuhhvwiT/uJY3ROqqKPyh+jLlrCYk/u2HboswGiT9XCRaHM7+KP0bT2cngKIk/Ugq6vaQxij/ymIHK+PeJPz0nvW987Yk/6SYxCKwcij+AfXTqymeJP0aZDTLJyIk/fAqA8Qwaij/QCgxZ3eqJP5EnSddMvok/mpmZmZmZiT8g0m9fB86JP1IKur2kMYo//kP67evAiT/QRNjw9EqJPxyZR/5g4Ik/X7Uy4Zf6iT/Q0D/BxYqKP33Qs1n1uYo/v2A3bFuUiT/htOBFX0GKPwe2SrA4nIk//kP67evAiT+m0HmNXaKKP79gN2xblIk/MXxETIkkij9O0ZFc/kOKP0GasWg6O4k/lialoNtLij+7Jw8LtaaJP3QMyF7v/og/zJcXYB+dij/h7qzddqGJP5YmpaDbS4o/QZqxaDo7iT81e6AVGLKKP1+1MuGX+ok/C2MLQQ5KiD8g0m9fB86JPzV7oBUYsoo/KH6MuWsJiT9bttYXCW2JP8Ama9RDNIo/ml/NAYI5ij8cX3tmSYCKP1dD4h5LH4o/AAAAAAAAAACi0R3EzhSKPw==",
          "dtype": "f8"
         },
         "yaxis": "y2"
        },
        {
         "hovertemplate": "Round 2<br>Position: 1<br>Action: %{x}<br>P: %{y:.6f}<br>Reward: 0<extra></extra>",
         "marker": {
          "color": "crimson",
          "size": 12,
          "symbol": "triangle-up"
         },
         "mode": "markers",
         "name": "Picked (r=2)",
         "showlegend": false,
         "type": "scatter",
         "x": [
          78
         ],
         "xaxis": "x2",
         "y": [
          1.5e-05
         ],
         "yaxis": "y2"
        },
        {
         "hovertemplate": "Round 3<br>Position: 1<br>Action: %{x}<br>P: %{y:.6f}<br>Reward: 0<extra></extra>",
         "marker": {
          "color": "forestgreen",
          "size": 11,
          "symbol": "diamond"
         },
         "mode": "markers",
         "name": "Picked (r=3)",
         "showlegend": false,
         "type": "scatter",
         "x": [
          78
         ],
         "xaxis": "x2",
         "y": [
          0
         ],
         "yaxis": "y2"
        },
        {
         "marker": {
          "color": "steelblue"
         },
         "name": "Round 2",
         "opacity": 0.6,
         "showlegend": false,
         "type": "bar",
         "x": {
          "bdata": "AAECAwQFBgcICQoLDA0ODxAREhMUFRYXGBkaGxwdHh8gISIjJCUmJygpKissLS4vMDEyMzQ1Njc4OTo7PD0+P0BBQkNERUZHSElKS0xNTk8=",
          "dtype": "i1"
         },
         "xaxis": "x3",
         "y": {
          "bdata": "dNL7xteeiT/xaOOItfjUPo0o7Q2+MIk/hXzQs1n1iT9ftTLhl/qJP6LRHcTOFIo/t+7mqQ65iT89J71vfO2JPwt72uGvyYo/LH3ogvqWiT/EX5M16iGKP5EnSddMvok/1QloImx4ij8LKT+p9umIP54MjpJX54g/2UKQgxJmij+amZmZmZmJP+G04EVfQYo/Yygn2lVIiT8TJ/c7FAWKP3gLJCh+jIk/D7QCQ1a3ij8P7s7abReKP3CZ02UxsYk/aLPqc7UViz8HfH4YITyKP7N78rBQa4o/r0LKT6p9ij8PKJtyhXeJPz7t8NdkjYo/Z2FPO/w1iT9O0ZFc/kOKP/oK0oxF04k/QmDl0CLbiT+/YDdsW5SJP9R9AFKbOIk/SgwCK4cWiT+ze/KwUGuKP4EJ3Lqbp4o/9tGpK5/liT817zhFR3KJP43uIHam0Ik/DyibcoV3iT//CS5W1GCKP/5D+u3rwIk/pkQSvYxiiT/htOBFX0GKP0qYaftXVoo/Sphp+1dWij8g0m9fB86JP05FKowtBIk/t+7mqQ65iT/hehSuR+GKP+5fWWlSCoo/MXxETIkkij8TJ/c7FAWKP28NbJVgcYg/INJvXwfOiT+mCkYldQKKP0aZDTLJyIk/kSdJ10y+iT9w626e6pCLP+2ZJQFqaok/yJi7lpAPij+mRBK9jGKJPyDSb18Hzok/zNHj9zb9iT+e0sH6P4eJP7e0GhL3WIo/V0PiHksfij9XCRaHM7+KP662Yn/ZPYk/3Xu45LhTij/M0eP3Nv2JPwd8fhghPIo/HF97ZkmAij940VeQZiyKP662Yn/ZPYk/0AoMWd3qiT/QCgxZ3eqJPw==",
          "dtype": "f8"
         },
         "yaxis": "y3"
        },
        {
         "marker": {
          "color": "darkorange"
         },
         "name": "Round 3",
         "opacity": 0.85,
         "showlegend": false,
         "type": "bar",
         "x": {
          "bdata": "AAECAwQFBgcICQoLDA0ODxAREhMUFRYXGBkaGxwdHh8gISIjJCUmJygpKissLS4vMDEyMzQ1Njc4OTo7PD0+P0BBQkNERUZHSElKS0xNTk8=",
          "dtype": "i1"
         },
         "xaxis": "x3",
         "y": {
          "bdata": "7l9ZaVIKij8AAAAAAAAAAGPuWkI+6Ik/RtPZyeAoiT/M0eP3Nv2JP04LXvQVpIk/B7ZKsDiciT9CJhk5C3uKP4l7LH3ogoo/A30iT5KuiT900vvG156JPw/uztptF4o/tyizQSYZiT81KQXdXtKIP/59xoUDIYk/JAuYwK27iT8P7s7abReKP8iYu5aQD4o/5WGh1jTviD9CYOXQItuJP07RkVz+Q4o/s3vysFBrij+amZmZmZmJP9AKDFnd6ok/qwmi7gOQij/pYP2fw3yJP6p9Oh4zUIk/xF+TNeohij+i0R3EzhSKP3SYLy/APoo/4bTgRV9Bij8TJ/c7FAWKP5KzsKcd/oo/fAqA8Qwaij+e0sH6P4eJPxTtKqT8pIo/ntLB+j+HiT94CyQofoyJPy1DHOviNoo/HJlH/mDgiT8c0xOWeECJP8Qlx53SwYo/QiYZOQt7ij+3tBoS91iKPxMn9zsUBYo/GCZTBaOSij+ztb5IaMuJP79gN2xblIk/r3yW58HdiT+RYRVvZB6JPz1hiQeUTYk/QZqxaDo7iT8sfeiC+paJPxgmUwWjkoo/wLLSpBR0iz8DQ1a3ek6KP+lg/Z/DfIk/t7QaEvdYij/ZQpCDEmaKP/5D+u3rwIk/Oe6UDtb/iT9jtI6qJoiKPwe2SrA4nIk/W3wKgPEMij/yDBr6J7iIP1IKur2kMYo/FO0qpPykij8HfH4YITyKP8iYu5aQD4o/cJnTZTGxiT89J71vfO2JPzF8REyJJIo/a2CrBIvDiT+i0R3EzhSKP7O1vkhoy4k/r3yW58HdiT8Ct+7mqQ6JP+G04EVfQYo/Oe6UDtb/iT8YYB+duvKJPw==",
          "dtype": "f8"
         },
         "yaxis": "y3"
        },
        {
         "hovertemplate": "Round 2<br>Position: 2<br>Action: %{x}<br>P: %{y:.6f}<br>Reward: 0<extra></extra>",
         "marker": {
          "color": "crimson",
          "size": 12,
          "symbol": "triangle-up"
         },
         "mode": "markers",
         "name": "Picked (r=2)",
         "showlegend": false,
         "type": "scatter",
         "x": [
          1
         ],
         "xaxis": "x3",
         "y": [
          5e-06
         ],
         "yaxis": "y3"
        },
        {
         "hovertemplate": "Round 3<br>Position: 2<br>Action: %{x}<br>P: %{y:.6f}<br>Reward: 0<extra></extra>",
         "marker": {
          "color": "forestgreen",
          "size": 11,
          "symbol": "diamond"
         },
         "mode": "markers",
         "name": "Picked (r=3)",
         "showlegend": false,
         "type": "scatter",
         "x": [
          1
         ],
         "xaxis": "x3",
         "y": [
          0
         ],
         "yaxis": "y3"
        }
       ],
       "layout": {
        "annotations": [
         {
          "font": {
           "size": 16
          },
          "showarrow": false,
          "text": "Position 0",
          "x": 0.5,
          "xanchor": "center",
          "xref": "paper",
          "y": 1,
          "yanchor": "bottom",
          "yref": "paper"
         },
         {
          "font": {
           "size": 16
          },
          "showarrow": false,
          "text": "Position 1",
          "x": 0.5,
          "xanchor": "center",
          "xref": "paper",
          "y": 0.6399999999999999,
          "yanchor": "bottom",
          "yref": "paper"
         },
         {
          "font": {
           "size": 16
          },
          "showarrow": false,
          "text": "Position 2",
          "x": 0.5,
          "xanchor": "center",
          "xref": "paper",
          "y": 0.27999999999999997,
          "yanchor": "bottom",
          "yref": "paper"
         }
        ],
        "bargap": 0.15,
        "barmode": "group",
        "height": 1050,
        "template": {
         "data": {
          "bar": [
           {
            "error_x": {
             "color": "#2a3f5f"
            },
            "error_y": {
             "color": "#2a3f5f"
            },
            "marker": {
             "line": {
              "color": "white",
              "width": 0.5
             },
             "pattern": {
              "fillmode": "overlay",
              "size": 10,
              "solidity": 0.2
             }
            },
            "type": "bar"
           }
          ],
          "barpolar": [
           {
            "marker": {
             "line": {
              "color": "white",
              "width": 0.5
             },
             "pattern": {
              "fillmode": "overlay",
              "size": 10,
              "solidity": 0.2
             }
            },
            "type": "barpolar"
           }
          ],
          "carpet": [
           {
            "aaxis": {
             "endlinecolor": "#2a3f5f",
             "gridcolor": "#C8D4E3",
             "linecolor": "#C8D4E3",
             "minorgridcolor": "#C8D4E3",
             "startlinecolor": "#2a3f5f"
            },
            "baxis": {
             "endlinecolor": "#2a3f5f",
             "gridcolor": "#C8D4E3",
             "linecolor": "#C8D4E3",
             "minorgridcolor": "#C8D4E3",
             "startlinecolor": "#2a3f5f"
            },
            "type": "carpet"
           }
          ],
          "choropleth": [
           {
            "colorbar": {
             "outlinewidth": 0,
             "ticks": ""
            },
            "type": "choropleth"
           }
          ],
          "contour": [
           {
            "colorbar": {
             "outlinewidth": 0,
             "ticks": ""
            },
            "colorscale": [
             [
              0,
              "#0d0887"
             ],
             [
              0.1111111111111111,
              "#46039f"
             ],
             [
              0.2222222222222222,
              "#7201a8"
             ],
             [
              0.3333333333333333,
              "#9c179e"
             ],
             [
              0.4444444444444444,
              "#bd3786"
             ],
             [
              0.5555555555555556,
              "#d8576b"
             ],
             [
              0.6666666666666666,
              "#ed7953"
             ],
             [
              0.7777777777777778,
              "#fb9f3a"
             ],
             [
              0.8888888888888888,
              "#fdca26"
             ],
             [
              1,
              "#f0f921"
             ]
            ],
            "type": "contour"
           }
          ],
          "contourcarpet": [
           {
            "colorbar": {
             "outlinewidth": 0,
             "ticks": ""
            },
            "type": "contourcarpet"
           }
          ],
          "heatmap": [
           {
            "colorbar": {
             "outlinewidth": 0,
             "ticks": ""
            },
            "colorscale": [
             [
              0,
              "#0d0887"
             ],
             [
              0.1111111111111111,
              "#46039f"
             ],
             [
              0.2222222222222222,
              "#7201a8"
             ],
             [
              0.3333333333333333,
              "#9c179e"
             ],
             [
              0.4444444444444444,
              "#bd3786"
             ],
             [
              0.5555555555555556,
              "#d8576b"
             ],
             [
              0.6666666666666666,
              "#ed7953"
             ],
             [
              0.7777777777777778,
              "#fb9f3a"
             ],
             [
              0.8888888888888888,
              "#fdca26"
             ],
             [
              1,
              "#f0f921"
             ]
            ],
            "type": "heatmap"
           }
          ],
          "histogram": [
           {
            "marker": {
             "pattern": {
              "fillmode": "overlay",
              "size": 10,
              "solidity": 0.2
             }
            },
            "type": "histogram"
           }
          ],
          "histogram2d": [
           {
            "colorbar": {
             "outlinewidth": 0,
             "ticks": ""
            },
            "colorscale": [
             [
              0,
              "#0d0887"
             ],
             [
              0.1111111111111111,
              "#46039f"
             ],
             [
              0.2222222222222222,
              "#7201a8"
             ],
             [
              0.3333333333333333,
              "#9c179e"
             ],
             [
              0.4444444444444444,
              "#bd3786"
             ],
             [
              0.5555555555555556,
              "#d8576b"
             ],
             [
              0.6666666666666666,
              "#ed7953"
             ],
             [
              0.7777777777777778,
              "#fb9f3a"
             ],
             [
              0.8888888888888888,
              "#fdca26"
             ],
             [
              1,
              "#f0f921"
             ]
            ],
            "type": "histogram2d"
           }
          ],
          "histogram2dcontour": [
           {
            "colorbar": {
             "outlinewidth": 0,
             "ticks": ""
            },
            "colorscale": [
             [
              0,
              "#0d0887"
             ],
             [
              0.1111111111111111,
              "#46039f"
             ],
             [
              0.2222222222222222,
              "#7201a8"
             ],
             [
              0.3333333333333333,
              "#9c179e"
             ],
             [
              0.4444444444444444,
              "#bd3786"
             ],
             [
              0.5555555555555556,
              "#d8576b"
             ],
             [
              0.6666666666666666,
              "#ed7953"
             ],
             [
              0.7777777777777778,
              "#fb9f3a"
             ],
             [
              0.8888888888888888,
              "#fdca26"
             ],
             [
              1,
              "#f0f921"
             ]
            ],
            "type": "histogram2dcontour"
           }
          ],
          "mesh3d": [
           {
            "colorbar": {
             "outlinewidth": 0,
             "ticks": ""
            },
            "type": "mesh3d"
           }
          ],
          "parcoords": [
           {
            "line": {
             "colorbar": {
              "outlinewidth": 0,
              "ticks": ""
             }
            },
            "type": "parcoords"
           }
          ],
          "pie": [
           {
            "automargin": true,
            "type": "pie"
           }
          ],
          "scatter": [
           {
            "fillpattern": {
             "fillmode": "overlay",
             "size": 10,
             "solidity": 0.2
            },
            "type": "scatter"
           }
          ],
          "scatter3d": [
           {
            "line": {
             "colorbar": {
              "outlinewidth": 0,
              "ticks": ""
             }
            },
            "marker": {
             "colorbar": {
              "outlinewidth": 0,
              "ticks": ""
             }
            },
            "type": "scatter3d"
           }
          ],
          "scattercarpet": [
           {
            "marker": {
             "colorbar": {
              "outlinewidth": 0,
              "ticks": ""
             }
            },
            "type": "scattercarpet"
           }
          ],
          "scattergeo": [
           {
            "marker": {
             "colorbar": {
              "outlinewidth": 0,
              "ticks": ""
             }
            },
            "type": "scattergeo"
           }
          ],
          "scattergl": [
           {
            "marker": {
             "colorbar": {
              "outlinewidth": 0,
              "ticks": ""
             }
            },
            "type": "scattergl"
           }
          ],
          "scattermap": [
           {
            "marker": {
             "colorbar": {
              "outlinewidth": 0,
              "ticks": ""
             }
            },
            "type": "scattermap"
           }
          ],
          "scattermapbox": [
           {
            "marker": {
             "colorbar": {
              "outlinewidth": 0,
              "ticks": ""
             }
            },
            "type": "scattermapbox"
           }
          ],
          "scatterpolar": [
           {
            "marker": {
             "colorbar": {
              "outlinewidth": 0,
              "ticks": ""
             }
            },
            "type": "scatterpolar"
           }
          ],
          "scatterpolargl": [
           {
            "marker": {
             "colorbar": {
              "outlinewidth": 0,
              "ticks": ""
             }
            },
            "type": "scatterpolargl"
           }
          ],
          "scatterternary": [
           {
            "marker": {
             "colorbar": {
              "outlinewidth": 0,
              "ticks": ""
             }
            },
            "type": "scatterternary"
           }
          ],
          "surface": [
           {
            "colorbar": {
             "outlinewidth": 0,
             "ticks": ""
            },
            "colorscale": [
             [
              0,
              "#0d0887"
             ],
             [
              0.1111111111111111,
              "#46039f"
             ],
             [
              0.2222222222222222,
              "#7201a8"
             ],
             [
              0.3333333333333333,
              "#9c179e"
             ],
             [
              0.4444444444444444,
              "#bd3786"
             ],
             [
              0.5555555555555556,
              "#d8576b"
             ],
             [
              0.6666666666666666,
              "#ed7953"
             ],
             [
              0.7777777777777778,
              "#fb9f3a"
             ],
             [
              0.8888888888888888,
              "#fdca26"
             ],
             [
              1,
              "#f0f921"
             ]
            ],
            "type": "surface"
           }
          ],
          "table": [
           {
            "cells": {
             "fill": {
              "color": "#EBF0F8"
             },
             "line": {
              "color": "white"
             }
            },
            "header": {
             "fill": {
              "color": "#C8D4E3"
             },
             "line": {
              "color": "white"
             }
            },
            "type": "table"
           }
          ]
         },
         "layout": {
          "annotationdefaults": {
           "arrowcolor": "#2a3f5f",
           "arrowhead": 0,
           "arrowwidth": 1
          },
          "autotypenumbers": "strict",
          "coloraxis": {
           "colorbar": {
            "outlinewidth": 0,
            "ticks": ""
           }
          },
          "colorscale": {
           "diverging": [
            [
             0,
             "#8e0152"
            ],
            [
             0.1,
             "#c51b7d"
            ],
            [
             0.2,
             "#de77ae"
            ],
            [
             0.3,
             "#f1b6da"
            ],
            [
             0.4,
             "#fde0ef"
            ],
            [
             0.5,
             "#f7f7f7"
            ],
            [
             0.6,
             "#e6f5d0"
            ],
            [
             0.7,
             "#b8e186"
            ],
            [
             0.8,
             "#7fbc41"
            ],
            [
             0.9,
             "#4d9221"
            ],
            [
             1,
             "#276419"
            ]
           ],
           "sequential": [
            [
             0,
             "#0d0887"
            ],
            [
             0.1111111111111111,
             "#46039f"
            ],
            [
             0.2222222222222222,
             "#7201a8"
            ],
            [
             0.3333333333333333,
             "#9c179e"
            ],
            [
             0.4444444444444444,
             "#bd3786"
            ],
            [
             0.5555555555555556,
             "#d8576b"
            ],
            [
             0.6666666666666666,
             "#ed7953"
            ],
            [
             0.7777777777777778,
             "#fb9f3a"
            ],
            [
             0.8888888888888888,
             "#fdca26"
            ],
            [
             1,
             "#f0f921"
            ]
           ],
           "sequentialminus": [
            [
             0,
             "#0d0887"
            ],
            [
             0.1111111111111111,
             "#46039f"
            ],
            [
             0.2222222222222222,
             "#7201a8"
            ],
            [
             0.3333333333333333,
             "#9c179e"
            ],
            [
             0.4444444444444444,
             "#bd3786"
            ],
            [
             0.5555555555555556,
             "#d8576b"
            ],
            [
             0.6666666666666666,
             "#ed7953"
            ],
            [
             0.7777777777777778,
             "#fb9f3a"
            ],
            [
             0.8888888888888888,
             "#fdca26"
            ],
            [
             1,
             "#f0f921"
            ]
           ]
          },
          "colorway": [
           "#636efa",
           "#EF553B",
           "#00cc96",
           "#ab63fa",
           "#FFA15A",
           "#19d3f3",
           "#FF6692",
           "#B6E880",
           "#FF97FF",
           "#FECB52"
          ],
          "font": {
           "color": "#2a3f5f"
          },
          "geo": {
           "bgcolor": "white",
           "lakecolor": "white",
           "landcolor": "white",
           "showlakes": true,
           "showland": true,
           "subunitcolor": "#C8D4E3"
          },
          "hoverlabel": {
           "align": "left"
          },
          "hovermode": "closest",
          "mapbox": {
           "style": "light"
          },
          "paper_bgcolor": "white",
          "plot_bgcolor": "white",
          "polar": {
           "angularaxis": {
            "gridcolor": "#EBF0F8",
            "linecolor": "#EBF0F8",
            "ticks": ""
           },
           "bgcolor": "white",
           "radialaxis": {
            "gridcolor": "#EBF0F8",
            "linecolor": "#EBF0F8",
            "ticks": ""
           }
          },
          "scene": {
           "xaxis": {
            "backgroundcolor": "white",
            "gridcolor": "#DFE8F3",
            "gridwidth": 2,
            "linecolor": "#EBF0F8",
            "showbackground": true,
            "ticks": "",
            "zerolinecolor": "#EBF0F8"
           },
           "yaxis": {
            "backgroundcolor": "white",
            "gridcolor": "#DFE8F3",
            "gridwidth": 2,
            "linecolor": "#EBF0F8",
            "showbackground": true,
            "ticks": "",
            "zerolinecolor": "#EBF0F8"
           },
           "zaxis": {
            "backgroundcolor": "white",
            "gridcolor": "#DFE8F3",
            "gridwidth": 2,
            "linecolor": "#EBF0F8",
            "showbackground": true,
            "ticks": "",
            "zerolinecolor": "#EBF0F8"
           }
          },
          "shapedefaults": {
           "line": {
            "color": "#2a3f5f"
           }
          },
          "ternary": {
           "aaxis": {
            "gridcolor": "#DFE8F3",
            "linecolor": "#A2B1C6",
            "ticks": ""
           },
           "baxis": {
            "gridcolor": "#DFE8F3",
            "linecolor": "#A2B1C6",
            "ticks": ""
           },
           "bgcolor": "white",
           "caxis": {
            "gridcolor": "#DFE8F3",
            "linecolor": "#A2B1C6",
            "ticks": ""
           }
          },
          "title": {
           "x": 0.05
          },
          "xaxis": {
           "automargin": true,
           "gridcolor": "#EBF0F8",
           "linecolor": "#EBF0F8",
           "ticks": "",
           "title": {
            "standoff": 15
           },
           "zerolinecolor": "#EBF0F8",
           "zerolinewidth": 2
          },
          "yaxis": {
           "automargin": true,
           "gridcolor": "#EBF0F8",
           "linecolor": "#EBF0F8",
           "ticks": "",
           "title": {
            "standoff": 15
           },
           "zerolinecolor": "#EBF0F8",
           "zerolinewidth": 2
          }
         }
        },
        "title": {
         "text": "Round 2 vs Round 3"
        },
        "xaxis": {
         "anchor": "y",
         "domain": [
          0,
          1
         ],
         "tickmode": "array",
         "ticktext": [
          "0",
          "1",
          "2",
          "3",
          "4",
          "5",
          "6",
          "7",
          "8",
          "9",
          "10",
          "11",
          "12",
          "13",
          "14",
          "15",
          "16",
          "17",
          "18",
          "19",
          "20",
          "21",
          "22",
          "23",
          "24",
          "25",
          "26",
          "27",
          "28",
          "29",
          "30",
          "31",
          "32",
          "33",
          "34",
          "35",
          "36",
          "37",
          "38",
          "39",
          "40",
          "41",
          "42",
          "43",
          "44",
          "45",
          "46",
          "47",
          "48",
          "49",
          "50",
          "51",
          "52",
          "53",
          "54",
          "55",
          "56",
          "57",
          "58",
          "59",
          "60",
          "61",
          "62",
          "63",
          "64",
          "65",
          "66",
          "67",
          "68",
          "69",
          "70",
          "71",
          "72",
          "73",
          "74",
          "75",
          "76",
          "77",
          "78",
          "79"
         ],
         "tickvals": {
          "bdata": "AAECAwQFBgcICQoLDA0ODxAREhMUFRYXGBkaGxwdHh8gISIjJCUmJygpKissLS4vMDEyMzQ1Njc4OTo7PD0+P0BBQkNERUZHSElKS0xNTk8=",
          "dtype": "i1"
         },
         "title": {
          "text": ""
         }
        },
        "xaxis2": {
         "anchor": "y2",
         "domain": [
          0,
          1
         ],
         "tickmode": "array",
         "ticktext": [
          "0",
          "1",
          "2",
          "3",
          "4",
          "5",
          "6",
          "7",
          "8",
          "9",
          "10",
          "11",
          "12",
          "13",
          "14",
          "15",
          "16",
          "17",
          "18",
          "19",
          "20",
          "21",
          "22",
          "23",
          "24",
          "25",
          "26",
          "27",
          "28",
          "29",
          "30",
          "31",
          "32",
          "33",
          "34",
          "35",
          "36",
          "37",
          "38",
          "39",
          "40",
          "41",
          "42",
          "43",
          "44",
          "45",
          "46",
          "47",
          "48",
          "49",
          "50",
          "51",
          "52",
          "53",
          "54",
          "55",
          "56",
          "57",
          "58",
          "59",
          "60",
          "61",
          "62",
          "63",
          "64",
          "65",
          "66",
          "67",
          "68",
          "69",
          "70",
          "71",
          "72",
          "73",
          "74",
          "75",
          "76",
          "77",
          "78",
          "79"
         ],
         "tickvals": {
          "bdata": "AAECAwQFBgcICQoLDA0ODxAREhMUFRYXGBkaGxwdHh8gISIjJCUmJygpKissLS4vMDEyMzQ1Njc4OTo7PD0+P0BBQkNERUZHSElKS0xNTk8=",
          "dtype": "i1"
         },
         "title": {
          "text": ""
         }
        },
        "xaxis3": {
         "anchor": "y3",
         "domain": [
          0,
          1
         ],
         "tickmode": "array",
         "ticktext": [
          "0",
          "1",
          "2",
          "3",
          "4",
          "5",
          "6",
          "7",
          "8",
          "9",
          "10",
          "11",
          "12",
          "13",
          "14",
          "15",
          "16",
          "17",
          "18",
          "19",
          "20",
          "21",
          "22",
          "23",
          "24",
          "25",
          "26",
          "27",
          "28",
          "29",
          "30",
          "31",
          "32",
          "33",
          "34",
          "35",
          "36",
          "37",
          "38",
          "39",
          "40",
          "41",
          "42",
          "43",
          "44",
          "45",
          "46",
          "47",
          "48",
          "49",
          "50",
          "51",
          "52",
          "53",
          "54",
          "55",
          "56",
          "57",
          "58",
          "59",
          "60",
          "61",
          "62",
          "63",
          "64",
          "65",
          "66",
          "67",
          "68",
          "69",
          "70",
          "71",
          "72",
          "73",
          "74",
          "75",
          "76",
          "77",
          "78",
          "79"
         ],
         "tickvals": {
          "bdata": "AAECAwQFBgcICQoLDA0ODxAREhMUFRYXGBkaGxwdHh8gISIjJCUmJygpKissLS4vMDEyMzQ1Njc4OTo7PD0+P0BBQkNERUZHSElKS0xNTk8=",
          "dtype": "i1"
         },
         "title": {
          "text": "Action ID (0\u201379)"
         }
        },
        "yaxis": {
         "anchor": "x",
         "domain": [
          0.72,
          1
         ],
         "range": [
          0,
          0.01663125
         ],
         "title": {
          "text": "P(select)"
         }
        },
        "yaxis2": {
         "anchor": "x2",
         "domain": [
          0.36,
          0.6399999999999999
         ],
         "range": [
          0,
          0.0167
         ],
         "title": {
          "text": "P(select)"
         }
        },
        "yaxis3": {
         "anchor": "x3",
         "domain": [
          0,
          0.27999999999999997
         ],
         "range": [
          0,
          0.016825
         ],
         "title": {
          "text": "P(select)"
         }
        }
       }
      }
     },
     "metadata": {},
     "output_type": "display_data"
    }
   ],
   "source": [
    "# Round 3 (same tracker instance)\n",
    "samp3 = tracker.next_round(\n",
    "    random_state=SEED,     # or an int for reproducibility\n",
    "    use_mc_if_needed=True, # True recommended for rounds >= 2\n",
    "    n_sim=200_000          # tweak if you want faster/lower-variance\n",
    ")\n",
    "print(\"Round 3 samples:\\n\", samp3)\n",
    "\n",
    "# Plot Round 2 vs Round 3\n",
    "tracker.plot_compare(2, 3, title=\"Round 2 vs Round 3\")"
   ]
  },
  {
   "cell_type": "code",
   "execution_count": 54,
   "id": "16f079a3",
   "metadata": {},
   "outputs": [
    {
     "name": "stdout",
     "output_type": "stream",
     "text": [
      "Round 1 samples:\n",
      "    action  position  reward  pscore\n",
      "0      79         0       0  0.0125\n",
      "1       1         1       0  0.0125\n",
      "2      41         2       0  0.0125\n",
      "Round 2 samples:\n",
      "    action  position  reward  pscore\n",
      "0      66         0       0  0.0125\n",
      "1      54         1       0  0.0125\n",
      "2      10         2       0  0.0125\n",
      "Round 3 samples:\n",
      "    action  position  reward  pscore\n",
      "0       7         0       0  0.0125\n",
      "1      56         1       0  0.0125\n",
      "2      43         2       0  0.0125\n",
      "Round 4 samples:\n",
      "    action  position  reward  pscore\n",
      "0       2         0       0  0.0125\n",
      "1      10         1       0  0.0125\n",
      "2      21         2       0  0.0125\n",
      "Round 5 samples:\n",
      "    action  position  reward  pscore\n",
      "0      48         0       0  0.0125\n",
      "1      32         1       0  0.0125\n",
      "2      10         2       0  0.0125\n",
      "Round 6 samples:\n",
      "    action  position  reward  pscore\n",
      "0       7         0       0  0.0125\n",
      "1       7         1       0  0.0125\n",
      "2       0         2       0  0.0125\n",
      "Round 7 samples:\n",
      "    action  position  reward  pscore\n",
      "0       6         0       0  0.0125\n",
      "1      37         1       0  0.0125\n",
      "2      21         2       0  0.0125\n",
      "Round 8 samples:\n",
      "    action  position  reward  pscore\n",
      "0       3         0       0  0.0125\n",
      "1      25         1       0  0.0125\n",
      "2      73         2       0  0.0125\n",
      "Round 9 samples:\n",
      "    action  position  reward  pscore\n",
      "0       5         0       0  0.0125\n",
      "1      15         1       0  0.0125\n",
      "2      56         2       0  0.0125\n",
      "Round 10 samples:\n",
      "    action  position  reward  pscore\n",
      "0      79         0       0  0.0125\n",
      "1      35         1       0  0.0125\n",
      "2      62         2       0  0.0125\n",
      "Round 11 samples:\n",
      "    action  position  reward  pscore\n",
      "0      18         0       0  0.0125\n",
      "1      51         1       0  0.0125\n",
      "2      44         2       0  0.0125\n",
      "Round 12 samples:\n",
      "    action  position  reward  pscore\n",
      "0      62         0       0  0.0125\n",
      "1      72         1       0  0.0125\n",
      "2      77         2       0  0.0125\n",
      "Round 13 samples:\n",
      "    action  position  reward  pscore\n",
      "0      69         0       0  0.0125\n",
      "1      18         1       0  0.0125\n",
      "2      65         2       0  0.0125\n",
      "Round 14 samples:\n",
      "    action  position  reward  pscore\n",
      "0      35         0       0  0.0125\n",
      "1      69         1       0  0.0125\n",
      "2      12         2       0  0.0125\n",
      "Round 15 samples:\n",
      "    action  position  reward  pscore\n",
      "0      79         0       0  0.0125\n",
      "1      60         1       0  0.0125\n",
      "2      25         2       0  0.0125\n",
      "Round 16 samples:\n",
      "    action  position  reward  pscore\n",
      "0      28         0       0  0.0125\n",
      "1      60         1       0  0.0125\n",
      "2       1         2       0  0.0125\n",
      "Round 17 samples:\n",
      "    action  position  reward  pscore\n",
      "0      45         0       0  0.0125\n",
      "1       6         1       0  0.0125\n",
      "2      46         2       0  0.0125\n",
      "Round 18 samples:\n",
      "    action  position  reward  pscore\n",
      "0      62         0       0  0.0125\n",
      "1      57         1       0  0.0125\n",
      "2       8         2       0  0.0125\n",
      "Round 19 samples:\n",
      "    action  position  reward  pscore\n",
      "0      33         0       0  0.0125\n",
      "1       3         1       0  0.0125\n",
      "2      52         2       0  0.0125\n",
      "Round 20 samples:\n",
      "    action  position  reward  pscore\n",
      "0      71         0       0  0.0125\n",
      "1      58         1       0  0.0125\n",
      "2      41         2       0  0.0125\n",
      "Round 21 samples:\n",
      "    action  position  reward  pscore\n",
      "0      13         0       0  0.0125\n",
      "1      72         1       0  0.0125\n",
      "2       3         2       0  0.0125\n",
      "Round 22 samples:\n",
      "    action  position  reward  pscore\n",
      "0      65         0       0  0.0125\n",
      "1      26         1       0  0.0125\n",
      "2       2         2       0  0.0125\n",
      "Round 23 samples:\n",
      "    action  position  reward  pscore\n",
      "0      36         0       0  0.0125\n",
      "1      62         1       0  0.0125\n",
      "2      32         2       0  0.0125\n",
      "Round 24 samples:\n",
      "    action  position  reward  pscore\n",
      "0      57         0       0  0.0125\n",
      "1      15         1       0  0.0125\n",
      "2      51         2       0  0.0125\n",
      "Round 25 samples:\n",
      "    action  position  reward  pscore\n",
      "0       2         0       0  0.0125\n",
      "1      39         1       0  0.0125\n",
      "2      63         2       0  0.0125\n",
      "Round 26 samples:\n",
      "    action  position  reward  pscore\n",
      "0      13         0       0  0.0125\n",
      "1       5         1       0  0.0125\n",
      "2      72         2       0  0.0125\n",
      "Round 27 samples:\n",
      "    action  position  reward  pscore\n",
      "0      27         0       0  0.0125\n",
      "1       1         1       0  0.0125\n",
      "2      44         2       0  0.0125\n",
      "Round 28 samples:\n",
      "    action  position  reward  pscore\n",
      "0      59         0       0  0.0125\n",
      "1      19         1       0  0.0125\n",
      "2      66         2       0  0.0125\n",
      "Round 29 samples:\n",
      "    action  position  reward  pscore\n",
      "0      42         0       0  0.0125\n",
      "1      23         1       0  0.0125\n",
      "2       1         2       0  0.0125\n",
      "Round 30 samples:\n",
      "    action  position  reward  pscore\n",
      "0      39         0       0  0.0125\n",
      "1      19         1       0  0.0125\n",
      "2      22         2       0  0.0125\n",
      "Round 31 samples:\n",
      "    action  position  reward  pscore\n",
      "0      60         0       0  0.0125\n",
      "1      54         1       0  0.0125\n",
      "2      12         2       0  0.0125\n",
      "Round 32 samples:\n",
      "    action  position  reward  pscore\n",
      "0      10         0       0  0.0125\n",
      "1      59         1       0  0.0125\n",
      "2      17         2       0  0.0125\n",
      "Round 33 samples:\n",
      "    action  position  reward  pscore\n",
      "0      36         0       0  0.0125\n",
      "1       8         1       0  0.0125\n",
      "2      79         2       0  0.0125\n",
      "Round 34 samples:\n",
      "    action  position  reward  pscore\n",
      "0      50         0       0  0.0125\n",
      "1      29         1       0  0.0125\n",
      "2      75         2       0  0.0125\n",
      "Round 35 samples:\n",
      "    action  position  reward  pscore\n",
      "0       7         0       0  0.0125\n",
      "1       2         1       0  0.0125\n",
      "2      56         2       0  0.0125\n",
      "Round 36 samples:\n",
      "    action  position  reward  pscore\n",
      "0      21         0       0  0.0125\n",
      "1       0         1       0  0.0125\n",
      "2      21         2       0  0.0125\n",
      "Round 37 samples:\n",
      "    action  position  reward  pscore\n",
      "0      70         0       0  0.0125\n",
      "1       0         1       0  0.0125\n",
      "2       1         2       0  0.0125\n",
      "Round 38 samples:\n",
      "    action  position  reward  pscore\n",
      "0      65         0       0  0.0125\n",
      "1      18         1       0  0.0125\n",
      "2      17         2       0  0.0125\n",
      "Round 39 samples:\n",
      "    action  position  reward  pscore\n",
      "0      31         0       0  0.0125\n",
      "1      45         1       0  0.0125\n",
      "2      49         2       0  0.0125\n",
      "Round 40 samples:\n",
      "    action  position  reward  pscore\n",
      "0      34         0       0  0.0125\n",
      "1      35         1       0  0.0125\n",
      "2      16         2       0  0.0125\n",
      "Round 41 samples:\n",
      "    action  position  reward  pscore\n",
      "0      13         0       0  0.0125\n",
      "1      35         1       0  0.0125\n",
      "2      31         2       0  0.0125\n",
      "Round 42 samples:\n",
      "    action  position  reward  pscore\n",
      "0       4         0       0  0.0125\n",
      "1      50         1       0  0.0125\n",
      "2      78         2       0  0.0125\n",
      "Round 43 samples:\n",
      "    action  position  reward  pscore\n",
      "0      71         0       0  0.0125\n",
      "1       7         1       0  0.0125\n",
      "2      26         2       0  0.0125\n",
      "Round 44 samples:\n",
      "    action  position  reward  pscore\n",
      "0      50         0       0  0.0125\n",
      "1      44         1       0  0.0125\n",
      "2      30         2       0  0.0125\n",
      "Round 45 samples:\n",
      "    action  position  reward  pscore\n",
      "0      38         0       0  0.0125\n",
      "1       4         1       0  0.0125\n",
      "2      17         2       0  0.0125\n",
      "Round 46 samples:\n",
      "    action  position  reward  pscore\n",
      "0      66         0       0  0.0125\n",
      "1      10         1       0  0.0125\n",
      "2       3         2       0  0.0125\n",
      "Round 47 samples:\n",
      "    action  position  reward  pscore\n",
      "0      69         0       0  0.0125\n",
      "1      24         1       0  0.0125\n",
      "2      75         2       0  0.0125\n",
      "Round 48 samples:\n",
      "    action  position  reward  pscore\n",
      "0      23         0       0  0.0125\n",
      "1      43         1       0  0.0125\n",
      "2      33         2       0  0.0125\n",
      "Round 49 samples:\n",
      "    action  position  reward  pscore\n",
      "0      25         0       0  0.0125\n",
      "1      54         1       0  0.0125\n",
      "2      70         2       0  0.0125\n",
      "Round 50 samples:\n",
      "    action  position  reward  pscore\n",
      "0       8         0       0  0.0125\n",
      "1       3         1       0  0.0125\n",
      "2      33         2       0  0.0125\n",
      "Round 51 samples:\n",
      "    action  position  reward  pscore\n",
      "0       1         0       0  0.0125\n",
      "1      34         1       0  0.0125\n",
      "2      41         2       0  0.0125\n",
      "Round 52 samples:\n",
      "    action  position  reward  pscore\n",
      "0      74         0       0  0.0125\n",
      "1      19         1       0  0.0125\n",
      "2      16         2       0  0.0125\n",
      "Round 53 samples:\n",
      "    action  position  reward  pscore\n",
      "0      23         0       0  0.0125\n",
      "1      57         1       0  0.0125\n",
      "2      33         2       0  0.0125\n",
      "Round 54 samples:\n",
      "    action  position  reward  pscore\n",
      "0      72         0       0  0.0125\n",
      "1      67         1       0  0.0125\n",
      "2      11         2       0  0.0125\n",
      "Round 55 samples:\n",
      "    action  position  reward  pscore\n",
      "0      27         0       0  0.0125\n",
      "1      53         1       0  0.0125\n",
      "2      21         2       0  0.0125\n",
      "Round 56 samples:\n",
      "    action  position  reward  pscore\n",
      "0      77         0       0  0.0125\n",
      "1      33         1       0  0.0125\n",
      "2      37         2       0  0.0125\n",
      "Round 57 samples:\n",
      "    action  position  reward  pscore\n",
      "0      78         0       0  0.0125\n",
      "1      69         1       0  0.0125\n",
      "2      28         2       0  0.0125\n",
      "Round 58 samples:\n",
      "    action  position  reward  pscore\n",
      "0      77         0       0  0.0125\n",
      "1      58         1       0  0.0125\n",
      "2      10         2       0  0.0125\n",
      "Round 59 samples:\n",
      "    action  position  reward  pscore\n",
      "0      79         0       0  0.0125\n",
      "1      35         1       0  0.0125\n",
      "2      56         2       0  0.0125\n",
      "Round 60 samples:\n",
      "    action  position  reward  pscore\n",
      "0      37         0       0  0.0125\n",
      "1      29         1       0  0.0125\n",
      "2       9         2       0  0.0125\n",
      "Round 61 samples:\n",
      "    action  position  reward  pscore\n",
      "0      40         0       0  0.0125\n",
      "1      28         1       0  0.0125\n",
      "2       1         2       0  0.0125\n",
      "Round 62 samples:\n",
      "    action  position  reward  pscore\n",
      "0      78         0       0  0.0125\n",
      "1      55         1       0  0.0125\n",
      "2      41         2       0  0.0125\n",
      "Round 63 samples:\n",
      "    action  position  reward  pscore\n",
      "0      20         0       0  0.0125\n",
      "1      13         1       0  0.0125\n",
      "2      64         2       0  0.0125\n",
      "Round 64 samples:\n",
      "    action  position  reward  pscore\n",
      "0      50         0       0  0.0125\n",
      "1      72         1       0  0.0125\n",
      "2      21         2       0  0.0125\n",
      "Round 65 samples:\n",
      "    action  position  reward  pscore\n",
      "0      77         0       0  0.0125\n",
      "1      22         1       0  0.0125\n",
      "2      10         2       0  0.0125\n",
      "Round 66 samples:\n",
      "    action  position  reward  pscore\n",
      "0      61         0       0  0.0125\n",
      "1      24         1       0  0.0125\n",
      "2      55         2       0  0.0125\n",
      "Round 67 samples:\n",
      "    action  position  reward  pscore\n",
      "0      26         0       0  0.0125\n",
      "1      46         1       0  0.0125\n",
      "2      50         2       0  0.0125\n",
      "Round 68 samples:\n",
      "    action  position  reward  pscore\n",
      "0      50         0       0  0.0125\n",
      "1      34         1       0  0.0125\n",
      "2      40         2       0  0.0125\n",
      "Round 69 samples:\n",
      "    action  position  reward  pscore\n",
      "0      52         0       0  0.0125\n",
      "1      18         1       0  0.0125\n",
      "2      27         2       0  0.0125\n",
      "Round 70 samples:\n",
      "    action  position  reward  pscore\n",
      "0      75         0       0  0.0125\n",
      "1      70         1       0  0.0125\n",
      "2      63         2       0  0.0125\n",
      "Round 71 samples:\n",
      "    action  position  reward  pscore\n",
      "0      63         0       0  0.0125\n",
      "1      39         1       0  0.0125\n",
      "2      47         2       0  0.0125\n",
      "Round 72 samples:\n",
      "    action  position  reward  pscore\n",
      "0      34         0       0  0.0125\n",
      "1      65         1       0  0.0125\n",
      "2      16         2       0  0.0125\n",
      "Round 73 samples:\n",
      "    action  position  reward  pscore\n",
      "0      74         0       0  0.0125\n",
      "1      77         1       0  0.0125\n",
      "2      54         2       0  0.0125\n",
      "Round 74 samples:\n",
      "    action  position  reward  pscore\n",
      "0      72         0       0  0.0125\n",
      "1      69         1       0  0.0125\n",
      "2      79         2       0  0.0125\n",
      "Round 75 samples:\n",
      "    action  position  reward  pscore\n",
      "0      62         0       0  0.0125\n",
      "1      11         1       0  0.0125\n",
      "2      56         2       0  0.0125\n",
      "Round 76 samples:\n",
      "    action  position  reward  pscore\n",
      "0      56         0       0  0.0125\n",
      "1      23         1       0  0.0125\n",
      "2      54         2       0  0.0125\n",
      "Round 77 samples:\n",
      "    action  position  reward  pscore\n",
      "0      38         0       0  0.0125\n",
      "1      49         1       0  0.0125\n",
      "2      45         2       0  0.0125\n",
      "Round 78 samples:\n",
      "    action  position  reward  pscore\n",
      "0      10         0       0  0.0125\n",
      "1      32         1       0  0.0125\n",
      "2      15         2       0  0.0125\n",
      "Round 79 samples:\n",
      "    action  position  reward  pscore\n",
      "0      42         0       0  0.0125\n",
      "1      43         1       0  0.0125\n",
      "2      24         2       0  0.0125\n",
      "Round 80 samples:\n",
      "    action  position  reward  pscore\n",
      "0      56         0       0  0.0125\n",
      "1      68         1       0  0.0125\n",
      "2      56         2       0  0.0125\n",
      "Round 81 samples:\n",
      "    action  position  reward  pscore\n",
      "0      77         0       0  0.0125\n",
      "1       2         1       0  0.0125\n",
      "2       2         2       0  0.0125\n",
      "Round 82 samples:\n",
      "    action  position  reward  pscore\n",
      "0      40         0       0  0.0125\n",
      "1       1         1       0  0.0125\n",
      "2       0         2       0  0.0125\n",
      "Round 83 samples:\n",
      "    action  position  reward  pscore\n",
      "0      72         0       0  0.0125\n",
      "1       8         1       0  0.0125\n",
      "2      28         2       0  0.0125\n",
      "Round 84 samples:\n",
      "    action  position  reward  pscore\n",
      "0      27         0       0  0.0125\n",
      "1      26         1       0  0.0125\n",
      "2      23         2       0  0.0125\n",
      "Round 85 samples:\n",
      "    action  position  reward  pscore\n",
      "0      35         0       0  0.0125\n",
      "1      48         1       0  0.0125\n",
      "2      49         2       0  0.0125\n",
      "Round 86 samples:\n",
      "    action  position  reward  pscore\n",
      "0      51         0       0  0.0125\n",
      "1      23         1       0  0.0125\n",
      "2      43         2       0  0.0125\n",
      "Round 87 samples:\n",
      "    action  position  reward  pscore\n",
      "0      75         0       0  0.0125\n",
      "1      32         1       0  0.0125\n",
      "2      66         2       0  0.0125\n",
      "Round 88 samples:\n",
      "    action  position  reward  pscore\n",
      "0      12         0       0  0.0125\n",
      "1       5         1       0  0.0125\n",
      "2      39         2       0  0.0125\n",
      "Round 89 samples:\n",
      "    action  position  reward  pscore\n",
      "0      51         0       0  0.0125\n",
      "1      38         1       0  0.0125\n",
      "2       5         2       0  0.0125\n",
      "Round 90 samples:\n",
      "    action  position  reward  pscore\n",
      "0      35         0       0  0.0125\n",
      "1      65         1       0  0.0125\n",
      "2      44         2       0  0.0125\n",
      "Round 91 samples:\n",
      "    action  position  reward  pscore\n",
      "0      55         0       0  0.0125\n",
      "1      79         1       0  0.0125\n",
      "2      70         2       0  0.0125\n",
      "Round 92 samples:\n",
      "    action  position  reward  pscore\n",
      "0      19         0       0  0.0125\n",
      "1      44         1       0  0.0125\n",
      "2      38         2       0  0.0125\n",
      "Round 93 samples:\n",
      "    action  position  reward  pscore\n",
      "0      61         0       0  0.0125\n",
      "1      59         1       0  0.0125\n",
      "2      24         2       0  0.0125\n",
      "Round 94 samples:\n",
      "    action  position  reward  pscore\n",
      "0       2         0       0  0.0125\n",
      "1      70         1       0  0.0125\n",
      "2      23         2       0  0.0125\n",
      "Round 95 samples:\n",
      "    action  position  reward  pscore\n",
      "0      63         0       0  0.0125\n",
      "1      43         1       0  0.0125\n",
      "2       9         2       0  0.0125\n",
      "Round 96 samples:\n",
      "    action  position  reward  pscore\n",
      "0      19         0       0  0.0125\n",
      "1      12         1       0  0.0125\n",
      "2      19         2       0  0.0125\n",
      "Round 97 samples:\n",
      "    action  position  reward  pscore\n",
      "0      63         0       0  0.0125\n",
      "1      52         1       0  0.0125\n",
      "2      13         2       0  0.0125\n",
      "Round 98 samples:\n",
      "    action  position  reward  pscore\n",
      "0      68         0       0  0.0125\n",
      "1      11         1       0  0.0125\n",
      "2      51         2       0  0.0125\n",
      "Round 99 samples:\n",
      "    action  position  reward  pscore\n",
      "0      28         0       0  0.0125\n",
      "1      59         1       0  0.0125\n",
      "2      38         2       0  0.0125\n",
      "Round 100 samples:\n",
      "    action  position  reward  pscore\n",
      "0      36         0       0  0.0125\n",
      "1      17         1       0  0.0125\n",
      "2      68         2       0  0.0125\n"
     ]
    }
   ],
   "source": [
    "# Run 100 rounds\n",
    "n_rounds = 100\n",
    "for r in range(1, n_rounds+1):   # Round 1 .. 100\n",
    "    samp = tracker.next_round(\n",
    "        random_state=SEED+r,     # or an int for reproducibility\n",
    "        use_mc_if_needed=True, # needed beyond round 1\n",
    "        n_sim=50_000           # you can lower this for speed if needed\n",
    "    )\n",
    "    print(f\"Round {r} samples:\\n\", samp.head())  # head() just to avoid giant printouts"
   ]
  },
  {
   "cell_type": "code",
   "execution_count": 55,
   "id": "97c2bfb1",
   "metadata": {},
   "outputs": [
    {
     "data": {
      "application/vnd.plotly.v1+json": {
       "config": {
        "plotlyServerURL": "https://plot.ly"
       },
       "data": [
        {
         "marker": {
          "color": "steelblue"
         },
         "name": "Round 0",
         "opacity": 0.6,
         "showlegend": true,
         "type": "bar",
         "x": {
          "bdata": "AAECAwQFBgcICQoLDA0ODxAREhMUFRYXGBkaGxwdHh8gISIjJCUmJygpKissLS4vMDEyMzQ1Njc4OTo7PD0+P0BBQkNERUZHSElKS0xNTk8=",
          "dtype": "i1"
         },
         "xaxis": "x",
         "y": {
          "bdata": "mpmZmZmZiT+amZmZmZmJP5qZmZmZmYk/mpmZmZmZiT+amZmZmZmJP5qZmZmZmYk/mpmZmZmZiT+amZmZmZmJP5qZmZmZmYk/mpmZmZmZiT+amZmZmZmJP5qZmZmZmYk/mpmZmZmZiT+amZmZmZmJP5qZmZmZmYk/mpmZmZmZiT+amZmZmZmJP5qZmZmZmYk/mpmZmZmZiT+amZmZmZmJP5qZmZmZmYk/mpmZmZmZiT+amZmZmZmJP5qZmZmZmYk/mpmZmZmZiT+amZmZmZmJP5qZmZmZmYk/mpmZmZmZiT+amZmZmZmJP5qZmZmZmYk/mpmZmZmZiT+amZmZmZmJP5qZmZmZmYk/mpmZmZmZiT+amZmZmZmJP5qZmZmZmYk/mpmZmZmZiT+amZmZmZmJP5qZmZmZmYk/mpmZmZmZiT+amZmZmZmJP5qZmZmZmYk/mpmZmZmZiT+amZmZmZmJP5qZmZmZmYk/mpmZmZmZiT+amZmZmZmJP5qZmZmZmYk/mpmZmZmZiT+amZmZmZmJP5qZmZmZmYk/mpmZmZmZiT+amZmZmZmJP5qZmZmZmYk/mpmZmZmZiT+amZmZmZmJP5qZmZmZmYk/mpmZmZmZiT+amZmZmZmJP5qZmZmZmYk/mpmZmZmZiT+amZmZmZmJP5qZmZmZmYk/mpmZmZmZiT+amZmZmZmJP5qZmZmZmYk/mpmZmZmZiT+amZmZmZmJP5qZmZmZmYk/mpmZmZmZiT+amZmZmZmJP5qZmZmZmYk/mpmZmZmZiT+amZmZmZmJP5qZmZmZmYk/mpmZmZmZiT+amZmZmZmJP5qZmZmZmYk/mpmZmZmZiT+amZmZmZmJPw==",
          "dtype": "f8"
         },
         "yaxis": "y"
        },
        {
         "marker": {
          "color": "darkorange"
         },
         "name": "Round 100",
         "opacity": 0.85,
         "showlegend": true,
         "type": "bar",
         "x": {
          "bdata": "AAECAwQFBgcICQoLDA0ODxAREhMUFRYXGBkaGxwdHh8gISIjJCUmJygpKissLS4vMDEyMzQ1Njc4OTo7PD0+P0BBQkNERUZHSElKS0xNTk8=",
          "dtype": "i1"
         },
         "xaxis": "x",
         "y": {
          "bdata": "GhcOhGQBoz/s3R/vVStjP/Fo44i1+PQ+3BFOC170ZT/S+8bXnlliP4CfceFASGY/H6LRHcTOZD/xaOOItfj0PqTC2EKQg2I/zsKedvhroj/xaOOItfgkPxHfiVkvhqI/donqrYGtYj/xaOOItfgEPxYYsrrVc6I/sW1RZoNMoj9ZNJ2dDI6iP1X7dDxmoKI/uRluwOeHYT8tQxzr4jYqP+dSXFX2XWE/H6LRHcTOZD/fbHNjesKiP0uwOJz51Sw/sW1RZoNMoj+kwthCkINiP9L7xteeWWI/AAAAAAAAAAC+pDFaR1VjP7ml1ZC4x6I/qcE0DB8Roz8aFw6EZAFjP3KKjuTyH6I/oDcVqTC2YD+An3HhQEg2P/Fo44i1+PQ+aR1VTRB1Hz+kwthCkINiP/Fo44i1+CQ/wi/186YiZT/xaOOItfgkP+zdH+9VK6M/aR1VTRB1Hz8zbf/KSpOiPz9SRIZVvKE/L26jAbwFYj8eUDblCu+iP+wX7IZti6I/XaeRlsrbYT/O/GoOEMyhPwAAAAAAAAAA0vvG155ZIj8fotEdxM5kP+wX7IZti6I/SIrIsIo3oj9pHVVNEHVfP0uwOJz51Sw/donqrYGtYj9yUMJM27+iPx+i0R3EzmQ//Knx0k1iYD9LsDic+dUsP/Fo44i1+PQ+aR1VTRB1Dz+YUSy3tBqiPy1DHOviNio/AAAAAAAAAACt+lxtxf6iP2XfFcH/VqI/Q8U4fxMKMT+L4H8r2bFhP/Fo44i1+CQ/8WjjiLX49D4vbqMBvAWiP/Fo44i1+CQ/Q8U4fxMKMT8vbqMBvAWiPwAAAAAAAAAA8WjjiLX4JD8AAAAAAAAAAA==",
          "dtype": "f8"
         },
         "yaxis": "y"
        },
        {
         "hovertemplate": "Round 100<br>Position: 0<br>Action: %{x}<br>P: %{y:.6f}<br>Reward: 0<extra></extra>",
         "marker": {
          "color": "forestgreen",
          "size": 11,
          "symbol": "diamond"
         },
         "mode": "markers",
         "name": "Picked (r=100)",
         "showlegend": true,
         "type": "scatter",
         "x": [
          63
         ],
         "xaxis": "x",
         "y": [
          6e-05
         ],
         "yaxis": "y"
        },
        {
         "marker": {
          "color": "steelblue"
         },
         "name": "Round 0",
         "opacity": 0.6,
         "showlegend": false,
         "type": "bar",
         "x": {
          "bdata": "AAECAwQFBgcICQoLDA0ODxAREhMUFRYXGBkaGxwdHh8gISIjJCUmJygpKissLS4vMDEyMzQ1Njc4OTo7PD0+P0BBQkNERUZHSElKS0xNTk8=",
          "dtype": "i1"
         },
         "xaxis": "x2",
         "y": {
          "bdata": "mpmZmZmZiT+amZmZmZmJP5qZmZmZmYk/mpmZmZmZiT+amZmZmZmJP5qZmZmZmYk/mpmZmZmZiT+amZmZmZmJP5qZmZmZmYk/mpmZmZmZiT+amZmZmZmJP5qZmZmZmYk/mpmZmZmZiT+amZmZmZmJP5qZmZmZmYk/mpmZmZmZiT+amZmZmZmJP5qZmZmZmYk/mpmZmZmZiT+amZmZmZmJP5qZmZmZmYk/mpmZmZmZiT+amZmZmZmJP5qZmZmZmYk/mpmZmZmZiT+amZmZmZmJP5qZmZmZmYk/mpmZmZmZiT+amZmZmZmJP5qZmZmZmYk/mpmZmZmZiT+amZmZmZmJP5qZmZmZmYk/mpmZmZmZiT+amZmZmZmJP5qZmZmZmYk/mpmZmZmZiT+amZmZmZmJP5qZmZmZmYk/mpmZmZmZiT+amZmZmZmJP5qZmZmZmYk/mpmZmZmZiT+amZmZmZmJP5qZmZmZmYk/mpmZmZmZiT+amZmZmZmJP5qZmZmZmYk/mpmZmZmZiT+amZmZmZmJP5qZmZmZmYk/mpmZmZmZiT+amZmZmZmJP5qZmZmZmYk/mpmZmZmZiT+amZmZmZmJP5qZmZmZmYk/mpmZmZmZiT+amZmZmZmJP5qZmZmZmYk/mpmZmZmZiT+amZmZmZmJP5qZmZmZmYk/mpmZmZmZiT+amZmZmZmJP5qZmZmZmYk/mpmZmZmZiT+amZmZmZmJP5qZmZmZmYk/mpmZmZmZiT+amZmZmZmJP5qZmZmZmYk/mpmZmZmZiT+amZmZmZmJP5qZmZmZmYk/mpmZmZmZiT+amZmZmZmJP5qZmZmZmYk/mpmZmZmZiT+amZmZmZmJPw==",
          "dtype": "f8"
         },
         "yaxis": "y2"
        },
        {
         "marker": {
          "color": "darkorange"
         },
         "name": "Round 100",
         "opacity": 0.85,
         "showlegend": false,
         "type": "bar",
         "x": {
          "bdata": "AAECAwQFBgcICQoLDA0ODxAREhMUFRYXGBkaGxwdHh8gISIjJCUmJygpKissLS4vMDEyMzQ1Njc4OTo7PD0+P0BBQkNERUZHSElKS0xNTk8=",
          "dtype": "i1"
         },
         "xaxis": "x2",
         "y": {
          "bdata": "8WjjiLX4JD/xaOOItfgEP4CfceFASDY/S7A4nPnVLD+U9gZfmExlP/Fo44i1+CQ/QZqxaDo7aT9pHVVNEHUvP4CfceFASDY/wmnBi76CpD8P1v85zJcnPwXAeAYN/WM/wi/186YiZT/gnBGlvcFnP1nABG7dzaM/aR1VTRB1Lz9JopdRLLekPy+GcqJdhaQ/8WjjiLX4BD9pHVVNEHUPP7a+SGjLuaQ/9dvXgXNGpD+An3HhQEhmP/Fo44i1+PQ+S7A4nPnVLD+U9gZfmExlPy1DHOviNjo/Tdu/stKkpD/6fmq8dJNoPw/W/znMlyc/QPZ698d7pT/PTgZHyaujP/Fo44i1+PQ+KLhYUYNpaD9LsDic+dUsP/Fo44i1+AQ/g4b+CS5WpD+U9gZfmExlP0YldQKaCGs/0vvG155ZMj+thsQ9lj6kP4y+gjRj0aQ/5DEDlfHvoz/xaOOItfgEP0uwOJz51Sw/4JwRpb3BZz9rSNxj6UNnP772zJIANaU/E2HD0ytlaT/CL/XzpiJlPz0P7s7abWc/Zr0Yyol2ZT89D+7O2m1nP3sUrkfhemQ/AAAAAAAAAAAjLZW3I5xmPyi4WFGDaWg/Q8U4fxMKMT8tQxzr4jYqP2kdVU0QdS8/aR1VTRB1Lz+DTDJyFvakPwpLPKBsymU/kPeqlQm/pD88MevFUE6kPw/W/znMlyc/iIVa07zjpD+U9gZfmExlP/p+arx0k2g/8WjjiLX4BD9DxTh/EwoxPx7cnbXbLqQ/AAAAAAAAAAC2vkhoy7mkP75qZcIv9aM/fxMKEXAIpT8vhnKiXYWkPziEKjV7oGU/LUMc6+I2Gj+Zgcr49xlnPw==",
          "dtype": "f8"
         },
         "yaxis": "y2"
        },
        {
         "hovertemplate": "Round 100<br>Position: 1<br>Action: %{x}<br>P: %{y:.6f}<br>Reward: 0<extra></extra>",
         "marker": {
          "color": "forestgreen",
          "size": 11,
          "symbol": "diamond"
         },
         "mode": "markers",
         "name": "Picked (r=100)",
         "showlegend": false,
         "type": "scatter",
         "x": [
          52
         ],
         "xaxis": "x2",
         "y": [
          0.00286
         ],
         "yaxis": "y2"
        },
        {
         "marker": {
          "color": "steelblue"
         },
         "name": "Round 0",
         "opacity": 0.6,
         "showlegend": false,
         "type": "bar",
         "x": {
          "bdata": "AAECAwQFBgcICQoLDA0ODxAREhMUFRYXGBkaGxwdHh8gISIjJCUmJygpKissLS4vMDEyMzQ1Njc4OTo7PD0+P0BBQkNERUZHSElKS0xNTk8=",
          "dtype": "i1"
         },
         "xaxis": "x3",
         "y": {
          "bdata": "mpmZmZmZiT+amZmZmZmJP5qZmZmZmYk/mpmZmZmZiT+amZmZmZmJP5qZmZmZmYk/mpmZmZmZiT+amZmZmZmJP5qZmZmZmYk/mpmZmZmZiT+amZmZmZmJP5qZmZmZmYk/mpmZmZmZiT+amZmZmZmJP5qZmZmZmYk/mpmZmZmZiT+amZmZmZmJP5qZmZmZmYk/mpmZmZmZiT+amZmZmZmJP5qZmZmZmYk/mpmZmZmZiT+amZmZmZmJP5qZmZmZmYk/mpmZmZmZiT+amZmZmZmJP5qZmZmZmYk/mpmZmZmZiT+amZmZmZmJP5qZmZmZmYk/mpmZmZmZiT+amZmZmZmJP5qZmZmZmYk/mpmZmZmZiT+amZmZmZmJP5qZmZmZmYk/mpmZmZmZiT+amZmZmZmJP5qZmZmZmYk/mpmZmZmZiT+amZmZmZmJP5qZmZmZmYk/mpmZmZmZiT+amZmZmZmJP5qZmZmZmYk/mpmZmZmZiT+amZmZmZmJP5qZmZmZmYk/mpmZmZmZiT+amZmZmZmJP5qZmZmZmYk/mpmZmZmZiT+amZmZmZmJP5qZmZmZmYk/mpmZmZmZiT+amZmZmZmJP5qZmZmZmYk/mpmZmZmZiT+amZmZmZmJP5qZmZmZmYk/mpmZmZmZiT+amZmZmZmJP5qZmZmZmYk/mpmZmZmZiT+amZmZmZmJP5qZmZmZmYk/mpmZmZmZiT+amZmZmZmJP5qZmZmZmYk/mpmZmZmZiT+amZmZmZmJP5qZmZmZmYk/mpmZmZmZiT+amZmZmZmJP5qZmZmZmYk/mpmZmZmZiT+amZmZmZmJP5qZmZmZmYk/mpmZmZmZiT+amZmZmZmJPw==",
          "dtype": "f8"
         },
         "yaxis": "y3"
        },
        {
         "marker": {
          "color": "darkorange"
         },
         "name": "Round 100",
         "opacity": 0.85,
         "showlegend": false,
         "type": "bar",
         "x": {
          "bdata": "AAECAwQFBgcICQoLDA0ODxAREhMUFRYXGBkaGxwdHh8gISIjJCUmJygpKissLS4vMDEyMzQ1Njc4OTo7PD0+P0BBQkNERUZHSElKS0xNTk8=",
          "dtype": "i1"
         },
         "xaxis": "x3",
         "y": {
          "bdata": "S7A4nPnVLD8AAAAAAAAAAGkdVU0QdR8/YTJVMCqpMz8iT5KumXyjP2EyVTAqqWM/URToE3mSpD8Bh1ClZg+kP2EyVTAqqWM/0vvG155ZMj8AAAAAAAAAAM5wAz4/jGA/aR1VTRB1Hz/Xhopx/iZkP7G/7J48LKQ/14aKcf4mZD8AAAAAAAAAAAAAAAAAAAAAK8HicOZXoz97FK5H4XpkP7Ezhc5r7KI/AAAAAAAAAABRZoNMMnJmPw/W/znMlyc/LUMc6+I2Kj+Zgcr49xlnP5BrQ8U4f2M/3BFOC170ZT/xaOOItfgkP89OBkfJq6M/7N0f71UrYz/Xhopx/iZkP3aJ6q2BrWI/8WjjiLX49D70FaQZi6ajPyvB4nDmV6M/IxXGFoIcpD8aFw6EZAFjPwpLPKBsymU/uRluwOeHYT9N27+y0qRkPwAAAAAAAAAApIgMq3gjoz/S+8bXnlkiP/Fo44i1+PQ+wi/186YiZT/cEU4LXvRlP4CfceFASGY/RN0HILWJoz8tQxzr4jYqPyECDqFKzV4/SFD8GHPXYj8KSzygbMplPwkzbf/KSqM/S7A4nPnVLD8z+WabG9NjPwAAAAAAAAAA3zKny2Jioz/G3LWEfNCjP9OHLqhvmaM/yk+qfToeoz97Tnrf+NqjP0hQ/Bhz12I/Q8U4fxMKMT8jLZW3I5xmP6TC2EKQg2I/LUMc6+I2Oj+DwMqhRbajP8IXJlMFo6I/FqQZi6azoz9LsDic+dUsP9fAVgkWh6M/OIQqNXugZT8FwHgGDf1jP3LcKR2s/6M/D9b/OcyXJz/129eBc0akP5T2Bl+YTGU/D9b/OcyXZz/S+8bXnlkyPw==",
          "dtype": "f8"
         },
         "yaxis": "y3"
        },
        {
         "hovertemplate": "Round 100<br>Position: 2<br>Action: %{x}<br>P: %{y:.6f}<br>Reward: 0<extra></extra>",
         "marker": {
          "color": "forestgreen",
          "size": 11,
          "symbol": "diamond"
         },
         "mode": "markers",
         "name": "Picked (r=100)",
         "showlegend": false,
         "type": "scatter",
         "x": [
          13
         ],
         "xaxis": "x3",
         "y": [
          0.00246
         ],
         "yaxis": "y3"
        }
       ],
       "layout": {
        "annotations": [
         {
          "font": {
           "size": 16
          },
          "showarrow": false,
          "text": "Position 0",
          "x": 0.5,
          "xanchor": "center",
          "xref": "paper",
          "y": 1,
          "yanchor": "bottom",
          "yref": "paper"
         },
         {
          "font": {
           "size": 16
          },
          "showarrow": false,
          "text": "Position 1",
          "x": 0.5,
          "xanchor": "center",
          "xref": "paper",
          "y": 0.6399999999999999,
          "yanchor": "bottom",
          "yref": "paper"
         },
         {
          "font": {
           "size": 16
          },
          "showarrow": false,
          "text": "Position 2",
          "x": 0.5,
          "xanchor": "center",
          "xref": "paper",
          "y": 0.27999999999999997,
          "yanchor": "bottom",
          "yref": "paper"
         }
        ],
        "bargap": 0.15,
        "barmode": "group",
        "height": 1050,
        "template": {
         "data": {
          "bar": [
           {
            "error_x": {
             "color": "#2a3f5f"
            },
            "error_y": {
             "color": "#2a3f5f"
            },
            "marker": {
             "line": {
              "color": "white",
              "width": 0.5
             },
             "pattern": {
              "fillmode": "overlay",
              "size": 10,
              "solidity": 0.2
             }
            },
            "type": "bar"
           }
          ],
          "barpolar": [
           {
            "marker": {
             "line": {
              "color": "white",
              "width": 0.5
             },
             "pattern": {
              "fillmode": "overlay",
              "size": 10,
              "solidity": 0.2
             }
            },
            "type": "barpolar"
           }
          ],
          "carpet": [
           {
            "aaxis": {
             "endlinecolor": "#2a3f5f",
             "gridcolor": "#C8D4E3",
             "linecolor": "#C8D4E3",
             "minorgridcolor": "#C8D4E3",
             "startlinecolor": "#2a3f5f"
            },
            "baxis": {
             "endlinecolor": "#2a3f5f",
             "gridcolor": "#C8D4E3",
             "linecolor": "#C8D4E3",
             "minorgridcolor": "#C8D4E3",
             "startlinecolor": "#2a3f5f"
            },
            "type": "carpet"
           }
          ],
          "choropleth": [
           {
            "colorbar": {
             "outlinewidth": 0,
             "ticks": ""
            },
            "type": "choropleth"
           }
          ],
          "contour": [
           {
            "colorbar": {
             "outlinewidth": 0,
             "ticks": ""
            },
            "colorscale": [
             [
              0,
              "#0d0887"
             ],
             [
              0.1111111111111111,
              "#46039f"
             ],
             [
              0.2222222222222222,
              "#7201a8"
             ],
             [
              0.3333333333333333,
              "#9c179e"
             ],
             [
              0.4444444444444444,
              "#bd3786"
             ],
             [
              0.5555555555555556,
              "#d8576b"
             ],
             [
              0.6666666666666666,
              "#ed7953"
             ],
             [
              0.7777777777777778,
              "#fb9f3a"
             ],
             [
              0.8888888888888888,
              "#fdca26"
             ],
             [
              1,
              "#f0f921"
             ]
            ],
            "type": "contour"
           }
          ],
          "contourcarpet": [
           {
            "colorbar": {
             "outlinewidth": 0,
             "ticks": ""
            },
            "type": "contourcarpet"
           }
          ],
          "heatmap": [
           {
            "colorbar": {
             "outlinewidth": 0,
             "ticks": ""
            },
            "colorscale": [
             [
              0,
              "#0d0887"
             ],
             [
              0.1111111111111111,
              "#46039f"
             ],
             [
              0.2222222222222222,
              "#7201a8"
             ],
             [
              0.3333333333333333,
              "#9c179e"
             ],
             [
              0.4444444444444444,
              "#bd3786"
             ],
             [
              0.5555555555555556,
              "#d8576b"
             ],
             [
              0.6666666666666666,
              "#ed7953"
             ],
             [
              0.7777777777777778,
              "#fb9f3a"
             ],
             [
              0.8888888888888888,
              "#fdca26"
             ],
             [
              1,
              "#f0f921"
             ]
            ],
            "type": "heatmap"
           }
          ],
          "histogram": [
           {
            "marker": {
             "pattern": {
              "fillmode": "overlay",
              "size": 10,
              "solidity": 0.2
             }
            },
            "type": "histogram"
           }
          ],
          "histogram2d": [
           {
            "colorbar": {
             "outlinewidth": 0,
             "ticks": ""
            },
            "colorscale": [
             [
              0,
              "#0d0887"
             ],
             [
              0.1111111111111111,
              "#46039f"
             ],
             [
              0.2222222222222222,
              "#7201a8"
             ],
             [
              0.3333333333333333,
              "#9c179e"
             ],
             [
              0.4444444444444444,
              "#bd3786"
             ],
             [
              0.5555555555555556,
              "#d8576b"
             ],
             [
              0.6666666666666666,
              "#ed7953"
             ],
             [
              0.7777777777777778,
              "#fb9f3a"
             ],
             [
              0.8888888888888888,
              "#fdca26"
             ],
             [
              1,
              "#f0f921"
             ]
            ],
            "type": "histogram2d"
           }
          ],
          "histogram2dcontour": [
           {
            "colorbar": {
             "outlinewidth": 0,
             "ticks": ""
            },
            "colorscale": [
             [
              0,
              "#0d0887"
             ],
             [
              0.1111111111111111,
              "#46039f"
             ],
             [
              0.2222222222222222,
              "#7201a8"
             ],
             [
              0.3333333333333333,
              "#9c179e"
             ],
             [
              0.4444444444444444,
              "#bd3786"
             ],
             [
              0.5555555555555556,
              "#d8576b"
             ],
             [
              0.6666666666666666,
              "#ed7953"
             ],
             [
              0.7777777777777778,
              "#fb9f3a"
             ],
             [
              0.8888888888888888,
              "#fdca26"
             ],
             [
              1,
              "#f0f921"
             ]
            ],
            "type": "histogram2dcontour"
           }
          ],
          "mesh3d": [
           {
            "colorbar": {
             "outlinewidth": 0,
             "ticks": ""
            },
            "type": "mesh3d"
           }
          ],
          "parcoords": [
           {
            "line": {
             "colorbar": {
              "outlinewidth": 0,
              "ticks": ""
             }
            },
            "type": "parcoords"
           }
          ],
          "pie": [
           {
            "automargin": true,
            "type": "pie"
           }
          ],
          "scatter": [
           {
            "fillpattern": {
             "fillmode": "overlay",
             "size": 10,
             "solidity": 0.2
            },
            "type": "scatter"
           }
          ],
          "scatter3d": [
           {
            "line": {
             "colorbar": {
              "outlinewidth": 0,
              "ticks": ""
             }
            },
            "marker": {
             "colorbar": {
              "outlinewidth": 0,
              "ticks": ""
             }
            },
            "type": "scatter3d"
           }
          ],
          "scattercarpet": [
           {
            "marker": {
             "colorbar": {
              "outlinewidth": 0,
              "ticks": ""
             }
            },
            "type": "scattercarpet"
           }
          ],
          "scattergeo": [
           {
            "marker": {
             "colorbar": {
              "outlinewidth": 0,
              "ticks": ""
             }
            },
            "type": "scattergeo"
           }
          ],
          "scattergl": [
           {
            "marker": {
             "colorbar": {
              "outlinewidth": 0,
              "ticks": ""
             }
            },
            "type": "scattergl"
           }
          ],
          "scattermap": [
           {
            "marker": {
             "colorbar": {
              "outlinewidth": 0,
              "ticks": ""
             }
            },
            "type": "scattermap"
           }
          ],
          "scattermapbox": [
           {
            "marker": {
             "colorbar": {
              "outlinewidth": 0,
              "ticks": ""
             }
            },
            "type": "scattermapbox"
           }
          ],
          "scatterpolar": [
           {
            "marker": {
             "colorbar": {
              "outlinewidth": 0,
              "ticks": ""
             }
            },
            "type": "scatterpolar"
           }
          ],
          "scatterpolargl": [
           {
            "marker": {
             "colorbar": {
              "outlinewidth": 0,
              "ticks": ""
             }
            },
            "type": "scatterpolargl"
           }
          ],
          "scatterternary": [
           {
            "marker": {
             "colorbar": {
              "outlinewidth": 0,
              "ticks": ""
             }
            },
            "type": "scatterternary"
           }
          ],
          "surface": [
           {
            "colorbar": {
             "outlinewidth": 0,
             "ticks": ""
            },
            "colorscale": [
             [
              0,
              "#0d0887"
             ],
             [
              0.1111111111111111,
              "#46039f"
             ],
             [
              0.2222222222222222,
              "#7201a8"
             ],
             [
              0.3333333333333333,
              "#9c179e"
             ],
             [
              0.4444444444444444,
              "#bd3786"
             ],
             [
              0.5555555555555556,
              "#d8576b"
             ],
             [
              0.6666666666666666,
              "#ed7953"
             ],
             [
              0.7777777777777778,
              "#fb9f3a"
             ],
             [
              0.8888888888888888,
              "#fdca26"
             ],
             [
              1,
              "#f0f921"
             ]
            ],
            "type": "surface"
           }
          ],
          "table": [
           {
            "cells": {
             "fill": {
              "color": "#EBF0F8"
             },
             "line": {
              "color": "white"
             }
            },
            "header": {
             "fill": {
              "color": "#C8D4E3"
             },
             "line": {
              "color": "white"
             }
            },
            "type": "table"
           }
          ]
         },
         "layout": {
          "annotationdefaults": {
           "arrowcolor": "#2a3f5f",
           "arrowhead": 0,
           "arrowwidth": 1
          },
          "autotypenumbers": "strict",
          "coloraxis": {
           "colorbar": {
            "outlinewidth": 0,
            "ticks": ""
           }
          },
          "colorscale": {
           "diverging": [
            [
             0,
             "#8e0152"
            ],
            [
             0.1,
             "#c51b7d"
            ],
            [
             0.2,
             "#de77ae"
            ],
            [
             0.3,
             "#f1b6da"
            ],
            [
             0.4,
             "#fde0ef"
            ],
            [
             0.5,
             "#f7f7f7"
            ],
            [
             0.6,
             "#e6f5d0"
            ],
            [
             0.7,
             "#b8e186"
            ],
            [
             0.8,
             "#7fbc41"
            ],
            [
             0.9,
             "#4d9221"
            ],
            [
             1,
             "#276419"
            ]
           ],
           "sequential": [
            [
             0,
             "#0d0887"
            ],
            [
             0.1111111111111111,
             "#46039f"
            ],
            [
             0.2222222222222222,
             "#7201a8"
            ],
            [
             0.3333333333333333,
             "#9c179e"
            ],
            [
             0.4444444444444444,
             "#bd3786"
            ],
            [
             0.5555555555555556,
             "#d8576b"
            ],
            [
             0.6666666666666666,
             "#ed7953"
            ],
            [
             0.7777777777777778,
             "#fb9f3a"
            ],
            [
             0.8888888888888888,
             "#fdca26"
            ],
            [
             1,
             "#f0f921"
            ]
           ],
           "sequentialminus": [
            [
             0,
             "#0d0887"
            ],
            [
             0.1111111111111111,
             "#46039f"
            ],
            [
             0.2222222222222222,
             "#7201a8"
            ],
            [
             0.3333333333333333,
             "#9c179e"
            ],
            [
             0.4444444444444444,
             "#bd3786"
            ],
            [
             0.5555555555555556,
             "#d8576b"
            ],
            [
             0.6666666666666666,
             "#ed7953"
            ],
            [
             0.7777777777777778,
             "#fb9f3a"
            ],
            [
             0.8888888888888888,
             "#fdca26"
            ],
            [
             1,
             "#f0f921"
            ]
           ]
          },
          "colorway": [
           "#636efa",
           "#EF553B",
           "#00cc96",
           "#ab63fa",
           "#FFA15A",
           "#19d3f3",
           "#FF6692",
           "#B6E880",
           "#FF97FF",
           "#FECB52"
          ],
          "font": {
           "color": "#2a3f5f"
          },
          "geo": {
           "bgcolor": "white",
           "lakecolor": "white",
           "landcolor": "white",
           "showlakes": true,
           "showland": true,
           "subunitcolor": "#C8D4E3"
          },
          "hoverlabel": {
           "align": "left"
          },
          "hovermode": "closest",
          "mapbox": {
           "style": "light"
          },
          "paper_bgcolor": "white",
          "plot_bgcolor": "white",
          "polar": {
           "angularaxis": {
            "gridcolor": "#EBF0F8",
            "linecolor": "#EBF0F8",
            "ticks": ""
           },
           "bgcolor": "white",
           "radialaxis": {
            "gridcolor": "#EBF0F8",
            "linecolor": "#EBF0F8",
            "ticks": ""
           }
          },
          "scene": {
           "xaxis": {
            "backgroundcolor": "white",
            "gridcolor": "#DFE8F3",
            "gridwidth": 2,
            "linecolor": "#EBF0F8",
            "showbackground": true,
            "ticks": "",
            "zerolinecolor": "#EBF0F8"
           },
           "yaxis": {
            "backgroundcolor": "white",
            "gridcolor": "#DFE8F3",
            "gridwidth": 2,
            "linecolor": "#EBF0F8",
            "showbackground": true,
            "ticks": "",
            "zerolinecolor": "#EBF0F8"
           },
           "zaxis": {
            "backgroundcolor": "white",
            "gridcolor": "#DFE8F3",
            "gridwidth": 2,
            "linecolor": "#EBF0F8",
            "showbackground": true,
            "ticks": "",
            "zerolinecolor": "#EBF0F8"
           }
          },
          "shapedefaults": {
           "line": {
            "color": "#2a3f5f"
           }
          },
          "ternary": {
           "aaxis": {
            "gridcolor": "#DFE8F3",
            "linecolor": "#A2B1C6",
            "ticks": ""
           },
           "baxis": {
            "gridcolor": "#DFE8F3",
            "linecolor": "#A2B1C6",
            "ticks": ""
           },
           "bgcolor": "white",
           "caxis": {
            "gridcolor": "#DFE8F3",
            "linecolor": "#A2B1C6",
            "ticks": ""
           }
          },
          "title": {
           "x": 0.05
          },
          "xaxis": {
           "automargin": true,
           "gridcolor": "#EBF0F8",
           "linecolor": "#EBF0F8",
           "ticks": "",
           "title": {
            "standoff": 15
           },
           "zerolinecolor": "#EBF0F8",
           "zerolinewidth": 2
          },
          "yaxis": {
           "automargin": true,
           "gridcolor": "#EBF0F8",
           "linecolor": "#EBF0F8",
           "ticks": "",
           "title": {
            "standoff": 15
           },
           "zerolinecolor": "#EBF0F8",
           "zerolinewidth": 2
          }
         }
        },
        "title": {
         "text": "Round 0 vs Round 100"
        },
        "xaxis": {
         "anchor": "y",
         "domain": [
          0,
          1
         ],
         "tickmode": "array",
         "ticktext": [
          "0",
          "1",
          "2",
          "3",
          "4",
          "5",
          "6",
          "7",
          "8",
          "9",
          "10",
          "11",
          "12",
          "13",
          "14",
          "15",
          "16",
          "17",
          "18",
          "19",
          "20",
          "21",
          "22",
          "23",
          "24",
          "25",
          "26",
          "27",
          "28",
          "29",
          "30",
          "31",
          "32",
          "33",
          "34",
          "35",
          "36",
          "37",
          "38",
          "39",
          "40",
          "41",
          "42",
          "43",
          "44",
          "45",
          "46",
          "47",
          "48",
          "49",
          "50",
          "51",
          "52",
          "53",
          "54",
          "55",
          "56",
          "57",
          "58",
          "59",
          "60",
          "61",
          "62",
          "63",
          "64",
          "65",
          "66",
          "67",
          "68",
          "69",
          "70",
          "71",
          "72",
          "73",
          "74",
          "75",
          "76",
          "77",
          "78",
          "79"
         ],
         "tickvals": {
          "bdata": "AAECAwQFBgcICQoLDA0ODxAREhMUFRYXGBkaGxwdHh8gISIjJCUmJygpKissLS4vMDEyMzQ1Njc4OTo7PD0+P0BBQkNERUZHSElKS0xNTk8=",
          "dtype": "i1"
         },
         "title": {
          "text": ""
         }
        },
        "xaxis2": {
         "anchor": "y2",
         "domain": [
          0,
          1
         ],
         "tickmode": "array",
         "ticktext": [
          "0",
          "1",
          "2",
          "3",
          "4",
          "5",
          "6",
          "7",
          "8",
          "9",
          "10",
          "11",
          "12",
          "13",
          "14",
          "15",
          "16",
          "17",
          "18",
          "19",
          "20",
          "21",
          "22",
          "23",
          "24",
          "25",
          "26",
          "27",
          "28",
          "29",
          "30",
          "31",
          "32",
          "33",
          "34",
          "35",
          "36",
          "37",
          "38",
          "39",
          "40",
          "41",
          "42",
          "43",
          "44",
          "45",
          "46",
          "47",
          "48",
          "49",
          "50",
          "51",
          "52",
          "53",
          "54",
          "55",
          "56",
          "57",
          "58",
          "59",
          "60",
          "61",
          "62",
          "63",
          "64",
          "65",
          "66",
          "67",
          "68",
          "69",
          "70",
          "71",
          "72",
          "73",
          "74",
          "75",
          "76",
          "77",
          "78",
          "79"
         ],
         "tickvals": {
          "bdata": "AAECAwQFBgcICQoLDA0ODxAREhMUFRYXGBkaGxwdHh8gISIjJCUmJygpKissLS4vMDEyMzQ1Njc4OTo7PD0+P0BBQkNERUZHSElKS0xNTk8=",
          "dtype": "i1"
         },
         "title": {
          "text": ""
         }
        },
        "xaxis3": {
         "anchor": "y3",
         "domain": [
          0,
          1
         ],
         "tickmode": "array",
         "ticktext": [
          "0",
          "1",
          "2",
          "3",
          "4",
          "5",
          "6",
          "7",
          "8",
          "9",
          "10",
          "11",
          "12",
          "13",
          "14",
          "15",
          "16",
          "17",
          "18",
          "19",
          "20",
          "21",
          "22",
          "23",
          "24",
          "25",
          "26",
          "27",
          "28",
          "29",
          "30",
          "31",
          "32",
          "33",
          "34",
          "35",
          "36",
          "37",
          "38",
          "39",
          "40",
          "41",
          "42",
          "43",
          "44",
          "45",
          "46",
          "47",
          "48",
          "49",
          "50",
          "51",
          "52",
          "53",
          "54",
          "55",
          "56",
          "57",
          "58",
          "59",
          "60",
          "61",
          "62",
          "63",
          "64",
          "65",
          "66",
          "67",
          "68",
          "69",
          "70",
          "71",
          "72",
          "73",
          "74",
          "75",
          "76",
          "77",
          "78",
          "79"
         ],
         "tickvals": {
          "bdata": "AAECAwQFBgcICQoLDA0ODxAREhMUFRYXGBkaGxwdHh8gISIjJCUmJygpKissLS4vMDEyMzQ1Njc4OTo7PD0+P0BBQkNERUZHSElKS0xNTk8=",
          "dtype": "i1"
         },
         "title": {
          "text": "Action ID (0\u201379)"
         }
        },
        "yaxis": {
         "anchor": "x",
         "domain": [
          0.72,
          1
         ],
         "range": [
          0,
          0.0468
         ],
         "title": {
          "text": "P(select)"
         }
        },
        "yaxis2": {
         "anchor": "x2",
         "domain": [
          0.36,
          0.6399999999999999
         ],
         "range": [
          0,
          0.05245
         ],
         "title": {
          "text": "P(select)"
         }
        },
        "yaxis3": {
         "anchor": "x3",
         "domain": [
          0,
          0.27999999999999997
         ],
         "range": [
          0,
          0.050225
         ],
         "title": {
          "text": "P(select)"
         }
        }
       }
      }
     },
     "metadata": {},
     "output_type": "display_data"
    }
   ],
   "source": [
    "# make sure you\u2019ve advanced to round 100 already\n",
    "# for r in range(1, 101):\n",
    "#     _ = tracker.next_round(use_mc_if_needed=True, n_sim=50_000)\n",
    "\n",
    "tracker.plot_compare(0, 100, title=\"Round 0 vs Round 100\")"
   ]
  },
  {
   "cell_type": "code",
   "execution_count": null,
   "id": "4f28b291",
   "metadata": {},
   "outputs": [],
   "source": []
  },
  {
   "cell_type": "code",
   "execution_count": null,
   "id": "a098e3cb",
   "metadata": {},
   "outputs": [],
   "source": [
    "import numpy as np\n",
    "import pandas as pd\n",
    "import plotly.graph_objects as go\n",
    "\n",
    "def run_ts_and_plot(df, n_actions, n_rounds, seed=7, alpha0=1.0, beta0=1.0, title=None):\n",
    "    \"\"\"\n",
    "    Online Thompson Sampling (single-slot) using empirical CTR per action as ground-truth.\n",
    "    Plots selection frequency vs empirical CTR and returns (fig, results_df).\n",
    "\n",
    "    Parameters\n",
    "    ----------\n",
    "    df : pd.DataFrame with columns [\"action\",\"reward\", ...]\n",
    "    n_actions : int\n",
    "    n_rounds : int\n",
    "    seed : int\n",
    "    alpha0, beta0 : float\n",
    "        Beta prior for all actions (default Beta(1,1))\n",
    "    title : str or None\n",
    "    \"\"\"\n",
    "    # Ground-truth Bernoulli p per action from logs (missing actions -> 0 CTR)\n",
    "    p_true = (\n",
    "        df.groupby(\"action\")[\"reward\"].mean()\n",
    "          .reindex(range(n_actions), fill_value=0.0)\n",
    "          .to_numpy()\n",
    "    )\n",
    "    assert p_true.ndim == 1 and p_true.shape[0] == n_actions\n",
    "\n",
    "    # TS state\n",
    "    alpha_ts = np.full(n_actions, float(alpha0))\n",
    "    beta_ts  = np.full(n_actions, float(beta0))\n",
    "    chosen_counts = np.zeros(n_actions, dtype=int)\n",
    "\n",
    "    rng = np.random.RandomState(seed)\n",
    "\n",
    "    # Online TS loop (draw max, pick, observe, update)\n",
    "    for _ in range(int(n_rounds)):\n",
    "        theta = rng.beta(alpha_ts, beta_ts)\n",
    "        a = int(theta.argmax())\n",
    "        chosen_counts[a] += 1\n",
    "        r = rng.rand() < p_true[a]   # simulate Bernoulli reward from empirical CTR\n",
    "        alpha_ts[a] += int(r)\n",
    "        beta_ts[a]  += int(not r)\n",
    "\n",
    "    sel_freq = chosen_counts / float(n_rounds)\n",
    "\n",
    "    # Assemble results\n",
    "    res = pd.DataFrame({\n",
    "        \"action\": np.arange(n_actions),\n",
    "        \"empirical_ctr\": p_true,\n",
    "        \"ts_selection_freq\": sel_freq,\n",
    "        \"alpha_final\": alpha_ts,\n",
    "        \"beta_final\": beta_ts,\n",
    "        \"impressions\": df.groupby(\"action\")[\"reward\"].size()\n",
    "                           .reindex(range(n_actions), fill_value=0)\n",
    "                           .to_numpy()\n",
    "    })\n",
    "\n",
    "    # Plot\n",
    "    fig = go.Figure()\n",
    "    fig.add_bar(x=res[\"action\"], y=res[\"empirical_ctr\"], name=\"Empirical CTR\")\n",
    "    fig.add_bar(x=res[\"action\"], y=res[\"ts_selection_freq\"], name=f\"TS selection freq over {n_rounds:,} rounds\")\n",
    "    fig.update_layout(\n",
    "        title=title or f\"Online TS: selection frequency vs empirical CTR (n_rounds={n_rounds:,})\",\n",
    "        barmode=\"group\", template=\"plotly_white\",\n",
    "        xaxis=dict(title=\"Action ID\",\n",
    "                   tickmode=\"array\",\n",
    "                   tickvals=res[\"action\"],\n",
    "                   ticktext=[str(a) for a in res[\"action\"]]),\n",
    "        yaxis=dict(title=\"Value\")\n",
    "    )\n",
    "    return fig, res"
   ]
  },
  {
   "cell_type": "code",
   "execution_count": null,
   "id": "180eaba4",
   "metadata": {},
   "outputs": [],
   "source": [
    "K = bf[\"n_actions\"]\n",
    "\n",
    "# 100 rounds\n",
    "fig100, res100 = run_ts_and_plot(df, n_actions=K, n_rounds=100,  seed=7, title=\"Round 100\")\n",
    "fig100.show()\n",
    "\n",
    "# 1,000 rounds\n",
    "fig1k, res1k = run_ts_and_plot(df, n_actions=K, n_rounds=1_000, seed=7, title=\"Round 1,000\")\n",
    "fig1k.show()\n",
    "\n",
    "# 10,000 rounds\n",
    "fig10k, res10k = run_ts_and_plot(df, n_actions=K, n_rounds=10_000, seed=7, title=\"Round 10,000\")\n",
    "fig10k.show()\n",
    "\n",
    "\n",
    "fig100k, res100k = run_ts_and_plot(df, n_actions=K, n_rounds=100_000, seed=7, title=\"Round 100,000\")\n",
    "fig100k.show()\n",
    "\n",
    "# 1,000,000 rounds (\u26a0\ufe0f slow; pure Python loop)\n",
    "# Consider 50k\u2013200k if runtime is high.\n",
    "# fig1m, res1m = run_ts_and_plot(df, n_actions=K, n_rounds=1_000_000, seed=7, title=\"Round 1,000,000\")\n",
    "# fig1m.show()"
   ]
  },
  {
   "cell_type": "code",
   "execution_count": null,
   "id": "cd19e2b0",
   "metadata": {},
   "outputs": [],
   "source": [
    "\n",
    "fig100k, res100k = run_ts_and_plot(df, n_actions=K, n_rounds=100_000, seed=7, title=\"Round 100,000\")\n",
    "fig100k.show()"
   ]
  },
  {
   "cell_type": "code",
   "execution_count": null,
   "id": "2d4449f8",
   "metadata": {},
   "outputs": [],
   "source": []
  },
  {
   "cell_type": "markdown",
   "id": "5cd01ee2",
   "metadata": {},
   "source": [
    "### Position Aware TS"
   ]
  },
  {
   "cell_type": "code",
   "execution_count": null,
   "id": "aba135f7",
   "metadata": {},
   "outputs": [],
   "source": [
    "import numpy as np\n",
    "import pandas as pd\n",
    "from plotly.subplots import make_subplots\n",
    "import plotly.graph_objects as go\n",
    "\n",
    "def run_ts_by_position_and_plot(\n",
    "    df: pd.DataFrame,\n",
    "    n_actions: int,\n",
    "    positions=(0,1,2),\n",
    "    n_rounds: int = 10_000,\n",
    "    seed: int = 7,\n",
    "    alpha0: float = 1.0,\n",
    "    beta0: float  = 1.0,\n",
    "    title: str | None = None,\n",
    "):\n",
    "    \"\"\"\n",
    "    Position-aware online Thompson Sampling (independent bandit per position).\n",
    "    Uses per-position empirical CTR as the 'true' Bernoulli rate for simulation.\n",
    "\n",
    "    df must have columns: ['action','position','reward', ...]\n",
    "    Returns (fig, results_df) where results_df has one row per (position, action).\n",
    "    \"\"\"\n",
    "    positions = list(positions)\n",
    "\n",
    "    # ----- Ground-truth p_true per (position, action) from logs -----\n",
    "    # shape: dict[pos] -> length-n_actions float array\n",
    "    grp_mean = (\n",
    "        df.groupby([\"position\",\"action\"])[\"reward\"].mean().unstack(fill_value=np.nan)\n",
    "    )\n",
    "    # reindex to ensure we have full action range for each position\n",
    "    full_cols = pd.Index(range(n_actions), name=\"action\")\n",
    "    grp_mean = grp_mean.reindex(columns=full_cols)\n",
    "\n",
    "    p_true = {}\n",
    "    for pos in positions:\n",
    "        # if a position is missing in df, fill with zeros\n",
    "        if pos in grp_mean.index:\n",
    "            vec = grp_mean.loc[pos].to_numpy()\n",
    "        else:\n",
    "            vec = np.zeros(n_actions, dtype=float)\n",
    "        # NaNs (no impressions for an action at that pos) -> 0 CTR\n",
    "        vec = np.nan_to_num(vec, nan=0.0)\n",
    "        p_true[pos] = vec\n",
    "\n",
    "    # impressions per (pos, action) (optional diagnostics)\n",
    "    grp_count = (\n",
    "        df.groupby([\"position\",\"action\"])[\"reward\"].size().unstack(fill_value=0)\n",
    "         .reindex(index=positions, columns=full_cols, fill_value=0)\n",
    "    )\n",
    "\n",
    "    # ----- TS state per position -----\n",
    "    alpha = {pos: np.full(n_actions, float(alpha0)) for pos in positions}\n",
    "    beta  = {pos: np.full(n_actions, float(beta0))  for pos in positions}\n",
    "    chosen_counts = {pos: np.zeros(n_actions, dtype=int) for pos in positions}\n",
    "\n",
    "    rng = np.random.RandomState(seed)\n",
    "\n",
    "    # ----- Online TS loop (independent per position each round) -----\n",
    "    for _ in range(int(n_rounds)):\n",
    "        for pos in positions:\n",
    "            theta = rng.beta(alpha[pos], beta[pos])\n",
    "            a = int(theta.argmax())\n",
    "            chosen_counts[pos][a] += 1\n",
    "            # simulate reward with per-position ground-truth CTR\n",
    "            r = rng.rand() < p_true[pos][a]\n",
    "            alpha[pos][a] += int(r)\n",
    "            beta[pos][a]  += int(not r)\n",
    "\n",
    "    # ----- Collect results into a tidy DataFrame -----\n",
    "    records = []\n",
    "    for pos in positions:\n",
    "        sel_freq = chosen_counts[pos] / float(n_rounds)\n",
    "        for a in range(n_actions):\n",
    "            records.append({\n",
    "                \"position\": pos,\n",
    "                \"action\": a,\n",
    "                \"empirical_ctr\": float(p_true[pos][a]),\n",
    "                \"ts_selection_freq\": float(sel_freq[a]),\n",
    "                \"alpha_final\": float(alpha[pos][a]),\n",
    "                \"beta_final\": float(beta[pos][a]),\n",
    "                \"impressions\": int(grp_count.loc[pos, a]) if pos in grp_count.index else 0,\n",
    "            })\n",
    "    res = pd.DataFrame(records)\n",
    "\n",
    "    # ----- Plot (one row per position, grouped bars) -----\n",
    "    fig = make_subplots(\n",
    "        rows=len(positions), cols=1, shared_xaxes=False,\n",
    "        subplot_titles=[f\"Position {p}\" for p in positions],\n",
    "        vertical_spacing=0.08\n",
    "    )\n",
    "\n",
    "    for i, pos in enumerate(positions, start=1):\n",
    "        df_pos = res[res[\"position\"] == pos].sort_values(\"action\")\n",
    "        xs = df_pos[\"action\"].to_numpy()\n",
    "\n",
    "        fig.add_bar(\n",
    "            x=xs, y=df_pos[\"empirical_ctr\"], name=\"Empirical CTR\",\n",
    "            marker_color=\"steelblue\", opacity=0.6,\n",
    "            showlegend=(i == 1), row=i, col=1\n",
    "        )\n",
    "        fig.add_bar(\n",
    "            x=xs, y=df_pos[\"ts_selection_freq\"], name=f\"TS selection freq (n={n_rounds:,})\",\n",
    "            marker_color=\"darkorange\", opacity=0.85,\n",
    "            showlegend=(i == 1), row=i, col=1\n",
    "        )\n",
    "\n",
    "        # pretty axes per row\n",
    "        fig.update_yaxes(title_text=\"Value\", row=i, col=1)\n",
    "        fig.update_xaxes(\n",
    "            title_text=\"Action ID (0\u2013{})\".format(n_actions-1) if i==len(positions) else \"\",\n",
    "            tickmode=\"array\",\n",
    "            tickvals=xs,\n",
    "            ticktext=[str(a) for a in xs],\n",
    "            row=i, col=1\n",
    "        )\n",
    "\n",
    "    fig.update_layout(\n",
    "        title=title or f\"Position-aware TS vs Empirical CTR (n_rounds={n_rounds:,})\",\n",
    "        barmode=\"group\", template=\"plotly_white\",\n",
    "        height=300*len(positions) + 100,\n",
    "    )\n",
    "    return fig, res\n"
   ]
  },
  {
   "cell_type": "code",
   "execution_count": null,
   "id": "af14cc1b",
   "metadata": {},
   "outputs": [],
   "source": [
    "\n",
    "K = bf[\"n_actions\"]\n",
    "fig, res = run_ts_by_position_and_plot(\n",
    "    df=df,\n",
    "    n_actions=K,\n",
    "    positions=[0,1,2],\n",
    "    n_rounds=1000,   # try 100, 1_000, 10_000\n",
    "    seed=7,\n",
    "    alpha0=1.0, beta0=1.0,\n",
    "    title=\"Thompson Sampling per position after 1000 rounds\"\n",
    ")\n",
    "fig.show()\n",
    "\n",
    "# Inspect top actions TS focused on at each position:\n",
    "(res.sort_values([\"position\",\"ts_selection_freq\"], ascending=[True,False])\n",
    "    .groupby(\"position\").head(5))"
   ]
  },
  {
   "cell_type": "code",
   "execution_count": null,
   "id": "8bf78945",
   "metadata": {},
   "outputs": [],
   "source": [
    "\n",
    "K = bf[\"n_actions\"]\n",
    "fig, res = run_ts_by_position_and_plot(\n",
    "    df=df,\n",
    "    n_actions=K,\n",
    "    positions=[0,1,2],\n",
    "    n_rounds=10_000,   # try 100, 1_000, 10_000\n",
    "    seed=7,\n",
    "    alpha0=1.0, beta0=1.0,\n",
    "    title=\"Thompson Sampling per position after 10k rounds\"\n",
    ")\n",
    "fig.show()\n",
    "\n",
    "# Inspect top actions TS focused on at each position:\n",
    "(res.sort_values([\"position\",\"ts_selection_freq\"], ascending=[True,False])\n",
    "    .groupby(\"position\").head(5))"
   ]
  },
  {
   "cell_type": "code",
   "execution_count": null,
   "id": "c3a4982e",
   "metadata": {},
   "outputs": [],
   "source": [
    "\n",
    "K = bf[\"n_actions\"]\n",
    "fig, res = run_ts_by_position_and_plot(\n",
    "    df=df,\n",
    "    n_actions=K,\n",
    "    positions=[0,1,2],\n",
    "    n_rounds=100_000,   # try 100, 1_000, 10_000\n",
    "    seed=7,\n",
    "    alpha0=1.0, beta0=1.0,\n",
    "    title=\"Thompson Sampling per position after 100k rounds\"\n",
    ")\n",
    "fig.show()\n",
    "\n",
    "# Inspect top actions TS focused on at each position:\n",
    "(res.sort_values([\"position\",\"ts_selection_freq\"], ascending=[True,False])\n",
    "    .groupby(\"position\").head(5))"
   ]
  },
  {
   "cell_type": "markdown",
   "id": "e481e0db",
   "metadata": {},
   "source": [
    "### Using Open Bandit Pipeline"
   ]
  },
  {
   "cell_type": "code",
   "execution_count": null,
   "id": "e7871350",
   "metadata": {},
   "outputs": [],
   "source": [
    "import numpy as np\n",
    "import pandas as pd\n",
    "from obp.dataset import OpenBanditDataset\n",
    "from obp.policy import BernoulliTS\n",
    "from plotly.subplots import make_subplots\n",
    "import plotly.graph_objects as go\n",
    "\n",
    "# -----------------------------\n",
    "# 1) Load OBD (Random/all) and prep a simple df\n",
    "# -----------------------------\n",
    "ds = OpenBanditDataset(behavior_policy=\"random\", campaign=\"all\")\n",
    "bf = ds.obtain_batch_bandit_feedback()\n",
    "\n",
    "df = pd.DataFrame({\n",
    "    \"action\": bf[\"action\"],\n",
    "    \"position\": bf[\"position\"],   # 0,1,2 in OBP small\n",
    "    \"reward\": bf[\"reward\"].astype(int),\n",
    "    \"pscore\": bf[\"pscore\"],\n",
    "})\n",
    "\n",
    "K = bf[\"n_actions\"]           # 80\n",
    "positions = [0, 1, 2]\n",
    "SEED = 7\n",
    "\n",
    "# -----------------------------\n",
    "# 2) Init OBP\u2019s BernoulliTS (evaluation policy)\n",
    "#    - You can use ZOZOTOWN prior or plain Beta(1,1) prior\n",
    "# -----------------------------\n",
    "pi_e = BernoulliTS(\n",
    "    n_actions=K,\n",
    "    len_list=len(positions),\n",
    "    is_zozotown_prior=False,   # set True to use ZOZOTOWN prior\n",
    "    campaign=\"all\",\n",
    "    random_state=SEED,\n",
    ")\n",
    "\n",
    "def snapshot_pmf(policy: BernoulliTS):\n",
    "    \"\"\"\n",
    "    Returns per-position selection probs as a dict {pos -> np.array(K)}\n",
    "    OBP's compute_batch_action_dist returns shape (n_rounds, n_actions, len_list),\n",
    "    so we take [0] and transpose to get (len_list, n_actions).\n",
    "    \"\"\"\n",
    "    ad = policy.compute_batch_action_dist(n_rounds=1, n_sim=100_000)[0]  # (K, len_list)\n",
    "    ad = ad.T  # -> (len_list, K)\n",
    "    return {pos: ad[i] for i, pos in enumerate(positions)}\n",
    "\n",
    "def sample_one_per_position(df):\n",
    "    \"\"\"One logged event per position.\"\"\"\n",
    "    return (df.groupby(\"position\", group_keys=False)\n",
    "              .apply(lambda x: x.sample(1, random_state=None))\n",
    "              .reset_index(drop=True))\n",
    "\n",
    "# -----------------------------\n",
    "# 3) Round 0 snapshot (before any learning)\n",
    "# -----------------------------\n",
    "pmf_round0 = snapshot_pmf(pi_e)   # dict: pos -> (K,)\n",
    "\n",
    "# -----------------------------\n",
    "# 4) Run R rounds of \"offline online\" updates from the logs\n",
    "#    (factorized by position: one update per position per round)\n",
    "# -----------------------------\n",
    "R = 100  # change to 1_000, 10_000, etc.\n",
    "for _ in range(R):\n",
    "    samp = sample_one_per_position(df)   # 3 rows (pos 0,1,2)\n",
    "    for _, r in samp.iterrows():\n",
    "        a = int(r[\"action\"])\n",
    "        y = int(r[\"reward\"])\n",
    "        # Update OBP policy with that arm's observed reward\n",
    "        pi_e.update_params(action=a, reward=y)\n",
    "\n",
    "# After R rounds, snapshot again\n",
    "pmf_roundR = snapshot_pmf(pi_e)\n",
    "\n",
    "# -----------------------------\n",
    "# 5) Plot Round 0 vs Round R (per position)\n",
    "# -----------------------------\n",
    "fig = make_subplots(\n",
    "    rows=3, cols=1, shared_xaxes=False,\n",
    "    subplot_titles=[f\"Position {p}\" for p in positions],\n",
    "    vertical_spacing=0.08\n",
    ")\n",
    "\n",
    "for i, pos in enumerate(positions, start=1):\n",
    "    xs = np.arange(K)\n",
    "    y0 = pmf_round0[pos]\n",
    "    yR = pmf_roundR[pos]\n",
    "    ymax = float(max(y0.max(), yR.max())) * 1.25\n",
    "\n",
    "    fig.add_bar(x=xs, y=y0, name=f\"Round 0\", marker_color=\"steelblue\",\n",
    "                opacity=0.6, showlegend=(i==1), row=i, col=1)\n",
    "    fig.add_bar(x=xs, y=yR, name=f\"Round {R}\", marker_color=\"darkorange\",\n",
    "                opacity=0.85, showlegend=(i==1), row=i, col=1)\n",
    "\n",
    "    fig.update_yaxes(range=[0, ymax], title_text=\"P(select)\", row=i, col=1)\n",
    "    fig.update_xaxes(\n",
    "        tickmode=\"array\",\n",
    "        tickvals=xs,\n",
    "        ticktext=[str(a) for a in xs],\n",
    "        title_text=\"Action ID (0\u201379)\" if i==3 else \"\",\n",
    "        row=i, col=1\n",
    "    )\n",
    "\n",
    "fig.update_layout(\n",
    "    title=f\"OBP BernoulliTS selection probabilities \u2014 Round 0 vs Round {R}\",\n",
    "    barmode=\"group\", bargap=0.15, template=\"plotly_white\",\n",
    "    height=900\n",
    ")\n",
    "fig.show()\n",
    "\n",
    "# -----------------------------\n",
    "# 6) (Optional) Export a tidy DataFrame of the PMFs\n",
    "# -----------------------------\n",
    "def pmf_to_df(pmf_dict, round_id):\n",
    "    recs = []\n",
    "    for pos in positions:\n",
    "        for a, p in enumerate(pmf_dict[pos]):\n",
    "            recs.append({\"round\": round_id, \"position\": pos, \"action\": a, \"p_select\": float(p)})\n",
    "    return pd.DataFrame(recs)\n",
    "\n",
    "df_pmf0 = pmf_to_df(pmf_round0, 0)\n",
    "df_pmfR = pmf_to_df(pmf_roundR, R)\n",
    "df_pmfs = pd.concat([df_pmf0, df_pmfR], ignore_index=True)\n",
    "# df_pmfs.to_csv(f\"obp_pmf_rounds_0_{R}.csv\", index=False)"
   ]
  },
  {
   "cell_type": "code",
   "execution_count": null,
   "id": "0790d386",
   "metadata": {},
   "outputs": [],
   "source": [
    "import numpy as np\n",
    "import pandas as pd\n",
    "from obp.dataset import OpenBanditDataset\n",
    "from obp.policy import BernoulliTS\n",
    "from plotly.subplots import make_subplots\n",
    "import plotly.graph_objects as go\n",
    "\n",
    "# -----------------------------\n",
    "# Load logs and prep\n",
    "# -----------------------------\n",
    "ds = OpenBanditDataset(behavior_policy=\"random\", campaign=\"all\")\n",
    "bf = ds.obtain_batch_bandit_feedback()\n",
    "\n",
    "df = pd.DataFrame({\n",
    "    \"action\":  bf[\"action\"],\n",
    "    \"position\": bf[\"position\"],    # 0,1,2\n",
    "    \"reward\":  bf[\"reward\"].astype(int),\n",
    "    \"pscore\":  bf[\"pscore\"],\n",
    "})\n",
    "K = bf[\"n_actions\"]          # 80\n",
    "positions = [0,1,2]\n",
    "SEED = 7\n",
    "\n",
    "# -----------------------------\n",
    "# Empirical CTR per (position, action)\n",
    "# -----------------------------\n",
    "# mean reward by (pos, action), fill missing with 0\n",
    "ctr_pos_act = (\n",
    "    df.groupby([\"position\",\"action\"])[\"reward\"].mean().unstack(fill_value=np.nan)\n",
    "      .reindex(index=positions, columns=range(K))\n",
    "      .fillna(0.0)\n",
    ")\n",
    "\n",
    "# -----------------------------\n",
    "# Init BernoulliTS policy\n",
    "#   - set is_zozotown_prior=True if you want their production prior\n",
    "# -----------------------------\n",
    "pi_e = BernoulliTS(\n",
    "    n_actions=K,\n",
    "    len_list=len(positions),\n",
    "    is_zozotown_prior=False,\n",
    "    campaign=\"all\",\n",
    "    random_state=SEED,\n",
    ")\n",
    "\n",
    "def snapshot_pmf(policy: BernoulliTS, n_sim=50_000):\n",
    "    \"\"\"\n",
    "    Returns dict: {pos -> np.array(K)} of selection probabilities.\n",
    "    OBP returns (n_rounds, n_actions, len_list); take [0] and transpose.\n",
    "    \"\"\"\n",
    "    ad = policy.compute_batch_action_dist(n_rounds=1, n_sim=n_sim)[0]  # (K, len_list)\n",
    "    ad = ad.T  # -> (len_list, K)\n",
    "    return {pos: ad[i] for i, pos in enumerate(positions)}\n",
    "\n",
    "def sample_one_per_position(df):\n",
    "    \"\"\"Sample exactly one logged event per position.\"\"\"\n",
    "    return (df.groupby(\"position\", group_keys=False)\n",
    "              .apply(lambda x: x.sample(1, random_state=None))\n",
    "              .reset_index(drop=True))\n",
    "\n",
    "# -----------------------------\n",
    "# Run R rounds of \u201coffline online\u201d updates\n",
    "# -----------------------------\n",
    "R = 10_000\n",
    "for _ in range(R):\n",
    "    samp = sample_one_per_position(df)\n",
    "    for _, r in samp.iterrows():\n",
    "        a = int(r[\"action\"])\n",
    "        y = int(r[\"reward\"])\n",
    "        pi_e.update_params(action=a, reward=y)\n",
    "\n",
    "pmf_after = snapshot_pmf(pi_e, n_sim=100_000)  # selection probabilities after 10k rounds\n",
    "\n",
    "# -----------------------------\n",
    "# Plot: Empirical CTR vs. Policy Selection Probability (per position)\n",
    "# -----------------------------\n",
    "fig = make_subplots(\n",
    "    rows=3, cols=1, shared_xaxes=False,\n",
    "    subplot_titles=[f\"Position {p}\" for p in positions],\n",
    "    vertical_spacing=0.08\n",
    ")\n",
    "\n",
    "for i, pos in enumerate(positions, start=1):\n",
    "    xs = np.arange(K)\n",
    "    y_ctr = ctr_pos_act.loc[pos].to_numpy()\n",
    "    y_sel = pmf_after[pos]\n",
    "\n",
    "    fig.add_bar(\n",
    "        x=xs, y=y_ctr, name=\"Empirical CTR\",\n",
    "        marker_color=\"steelblue\", opacity=0.6,\n",
    "        showlegend=(i==1), row=i, col=1\n",
    "    )\n",
    "    fig.add_bar(\n",
    "        x=xs, y=y_sel, name=f\"Policy selection prob (after {R:,})\",\n",
    "        marker_color=\"darkorange\", opacity=0.85,\n",
    "        showlegend=(i==1), row=i, col=1\n",
    "    )\n",
    "\n",
    "    ymax = float(max(y_ctr.max(), y_sel.max())) * 1.25 if (y_ctr.max() or y_sel.max()) else 0.02\n",
    "    fig.update_yaxes(title_text=\"Value\", range=[0, ymax], row=i, col=1)\n",
    "    fig.update_xaxes(\n",
    "        title_text=\"Action ID (0\u201379)\" if i==3 else \"\",\n",
    "        tickmode=\"array\",\n",
    "        tickvals=xs,\n",
    "        ticktext=[str(a) for a in xs],\n",
    "        row=i, col=1\n",
    "    )\n",
    "\n",
    "fig.update_layout(\n",
    "    title=f\"OBP BernoulliTS: Selection Probability vs Empirical CTR (after {R:,} rounds)\",\n",
    "    barmode=\"group\", bargap=0.15, template=\"plotly_white\",\n",
    "    height=900\n",
    ")\n",
    "fig.show()\n",
    "\n",
    "# -----------------------------\n",
    "# (Optional) Tidy table you can export\n",
    "# -----------------------------\n",
    "rows = []\n",
    "for pos in positions:\n",
    "    for a in range(K):\n",
    "        rows.append({\n",
    "            \"position\": pos,\n",
    "            \"action\": a,\n",
    "            \"empirical_ctr\": float(ctr_pos_act.loc[pos, a]),\n",
    "            \"policy_p_select_after\": float(pmf_after[pos][a]),\n",
    "        })\n",
    "df_compare = pd.DataFrame(rows)\n",
    "# df_compare.to_csv(\"obp_compare_ctr_vs_policy_p_after_10k.csv\", index=False)"
   ]
  },
  {
   "cell_type": "code",
   "execution_count": null,
   "id": "30a54a23",
   "metadata": {},
   "outputs": [],
   "source": [
    "import numpy as np\n",
    "import pandas as pd\n",
    "from obp.policy import BernoulliTS\n",
    "from plotly.subplots import make_subplots\n",
    "import plotly.graph_objects as go\n",
    "\n",
    "def run_obp_ts_factorized_and_plot(\n",
    "    df: pd.DataFrame,\n",
    "    n_actions: int,\n",
    "    positions=(0,1,2),\n",
    "    R: int = 10_000,\n",
    "    seed: int = 7,\n",
    "    use_zozo_prior: bool = False,\n",
    "    n_sim_snapshot: int = 100_000,\n",
    "    title: str | None = None,\n",
    "):\n",
    "    \"\"\"\n",
    "    Factorized slate: one BernoulliTS per position (slot).\n",
    "    Updates each policy only with samples from its slot, then compares\n",
    "    empirical CTR vs policy selection probability per position.\n",
    "\n",
    "    df columns: ['action','position','reward', ...]\n",
    "    \"\"\"\n",
    "    positions = list(positions)\n",
    "\n",
    "    # per-(pos,action) empirical CTR as ground truth for plotting reference\n",
    "    ctr_pos_act = (\n",
    "        df.groupby([\"position\",\"action\"])[\"reward\"].mean().unstack(fill_value=np.nan)\n",
    "          .reindex(index=positions, columns=range(n_actions))\n",
    "          .fillna(0.0)\n",
    "    )\n",
    "\n",
    "    # one TS policy per position (len_list=1 because each policy controls one slot)\n",
    "    policies = {\n",
    "        pos: BernoulliTS(\n",
    "            n_actions=n_actions,\n",
    "            len_list=1,\n",
    "            is_zozotown_prior=use_zozo_prior,\n",
    "            campaign=\"all\",\n",
    "            random_state=seed + pos,\n",
    "        )\n",
    "        for pos in positions\n",
    "    }\n",
    "\n",
    "    # helper: snapshot PMF for a single-position policy (returns length-n_actions)\n",
    "    def snapshot_vec(policy: BernoulliTS) -> np.ndarray:\n",
    "        # OBP shape: (n_rounds, n_actions, len_list). len_list=1 here.\n",
    "        ad = policy.compute_batch_action_dist(n_rounds=1, n_sim=n_sim_snapshot)[0, :, 0]\n",
    "        return ad  # (n_actions,)\n",
    "\n",
    "    # --- run R rounds: sample one row per position, update that position's policy\n",
    "    for _ in range(R):\n",
    "        samp = (df.groupby(\"position\", group_keys=False)\n",
    "                  .apply(lambda x: x.sample(1, random_state=None))\n",
    "                  .reset_index(drop=True))\n",
    "        for _, r in samp.iterrows():\n",
    "            pos = int(r[\"position\"]); a = int(r[\"action\"]); y = int(r[\"reward\"])\n",
    "            policies[pos].update_params(action=a, reward=y)\n",
    "\n",
    "    # snapshot after training\n",
    "    pmf_after = {pos: snapshot_vec(policies[pos]) for pos in positions}\n",
    "\n",
    "    # --- build tidy result frame\n",
    "    rows = []\n",
    "    for pos in positions:\n",
    "        for a in range(n_actions):\n",
    "            rows.append({\n",
    "                \"position\": pos,\n",
    "                \"action\": a,\n",
    "                \"empirical_ctr\": float(ctr_pos_act.loc[pos, a]),\n",
    "                \"policy_p_select_after\": float(pmf_after[pos][a]),\n",
    "            })\n",
    "    res = pd.DataFrame(rows)\n",
    "\n",
    "    # --- plot per position\n",
    "    fig = make_subplots(\n",
    "        rows=len(positions), cols=1, shared_xaxes=False,\n",
    "        subplot_titles=[f\"Position {p}\" for p in positions],\n",
    "        vertical_spacing=0.08\n",
    "    )\n",
    "    for i, pos in enumerate(positions, start=1):\n",
    "        dfp = res[res[\"position\"] == pos].sort_values(\"action\")\n",
    "        xs = dfp[\"action\"].to_numpy()\n",
    "        y_ctr = dfp[\"empirical_ctr\"].to_numpy()\n",
    "        y_sel = dfp[\"policy_p_select_after\"].to_numpy()\n",
    "        ymax = float(max(y_ctr.max(), y_sel.max())) * 1.25 if (y_ctr.max() or y_sel.max()) else 0.02\n",
    "\n",
    "        fig.add_bar(x=xs, y=y_ctr, name=\"Empirical CTR\",\n",
    "                    marker_color=\"steelblue\", opacity=0.6, showlegend=(i==1),\n",
    "                    row=i, col=1)\n",
    "        fig.add_bar(x=xs, y=y_sel, name=f\"Policy P(select) after {R:,}\",\n",
    "                    marker_color=\"darkorange\", opacity=0.85, showlegend=(i==1),\n",
    "                    row=i, col=1)\n",
    "\n",
    "        fig.update_yaxes(title_text=\"Value\", range=[0, ymax], row=i, col=1)\n",
    "        fig.update_xaxes(\n",
    "            title_text=\"Action ID (0\u2013{})\".format(n_actions-1) if i==len(positions) else \"\",\n",
    "            tickmode=\"array\", tickvals=xs, ticktext=[str(a) for a in xs],\n",
    "            row=i, col=1\n",
    "        )\n",
    "\n",
    "    fig.update_layout(\n",
    "        title=title or f\"Factorized BernoulliTS (one policy per position) \u2014 after {R:,} rounds\",\n",
    "        barmode=\"group\", bargap=0.15, template=\"plotly_white\",\n",
    "        height=300*len(positions) + 120,\n",
    "    )\n",
    "    return fig, res\n",
    "\n",
    "\n",
    "K = bf[\"n_actions\"]\n",
    "fig, res = run_obp_ts_factorized_and_plot(\n",
    "    df=df, n_actions=K, positions=[0,1,2],\n",
    "    R=10_000, seed=7, use_zozo_prior=False, n_sim_snapshot=100_000,\n",
    "    title=\"Position-aware (factorized) TS vs Empirical CTR - 10k rounds\"\n",
    ")\n",
    "fig.show()"
   ]
  },
  {
   "cell_type": "code",
   "execution_count": null,
   "id": "4d3f8155",
   "metadata": {},
   "outputs": [],
   "source": [
    "K = bf[\"n_actions\"]\n",
    "fig, res = run_obp_ts_factorized_and_plot(\n",
    "    df=df, n_actions=K, positions=[0,1,2],\n",
    "    R=100_000, seed=7, use_zozo_prior=False, n_sim_snapshot=100_000,\n",
    "    title=\"Position-aware (factorized) TS vs Empirical CTR - 100k rounds\" \n",
    ")\n",
    "fig.show()"
   ]
  },
  {
   "cell_type": "markdown",
   "id": "d03afb10",
   "metadata": {},
   "source": [
    "### Running an RL loop to compare policies learned"
   ]
  },
  {
   "cell_type": "code",
   "execution_count": null,
   "id": "fa764dda",
   "metadata": {},
   "outputs": [],
   "source": [
    "import numpy as np\n",
    "import pandas as pd\n",
    "from plotly.subplots import make_subplots\n",
    "import plotly.graph_objects as go\n",
    "\n",
    "# --- Build the simulator from logs: p_true[pos, action] = empirical CTR ---\n",
    "def make_ctr_table(df, n_actions, positions=(0,1,2)):\n",
    "    ctr = (df.groupby([\"position\",\"action\"])[\"reward\"].mean()\n",
    "             .unstack(fill_value=np.nan)\n",
    "             .reindex(index=positions, columns=range(n_actions))\n",
    "             .fillna(0.0))\n",
    "    return ctr  # DataFrame: index=position, cols=action\n",
    "\n",
    "def softmax(x, axis=-1):\n",
    "    x = x - x.max(axis=axis, keepdims=True)\n",
    "    e = np.exp(x)\n",
    "    return e / e.sum(axis=axis, keepdims=True)\n",
    "\n",
    "class PositionAwareSoftmaxPolicy:\n",
    "    \"\"\"\n",
    "    One softmax over actions per position (no context).\n",
    "    logits[pos, action] are learned. Produces a slate by sampling per position independently.\n",
    "    \"\"\"\n",
    "    def __init__(self, n_actions, positions=(0,1,2), seed=7, init_scale=0.0):\n",
    "        self.n_actions = n_actions\n",
    "        self.positions = list(positions)\n",
    "        rng = np.random.RandomState(seed)\n",
    "        self.logits = {p: init_scale * rng.randn(n_actions) for p in self.positions}\n",
    "\n",
    "    def action_probs(self, pos):\n",
    "        return softmax(self.logits[pos])\n",
    "\n",
    "    def sample_action(self, pos, rng):\n",
    "        p = self.action_probs(pos)\n",
    "        return int(rng.choice(self.n_actions, p=p)), p\n",
    "\n",
    "    def update_reinforce(self, grads, lr=0.1):\n",
    "        # grads: dict pos -> grad vector length n_actions\n",
    "        for p in self.positions:\n",
    "            self.logits[p] += lr * grads[p]\n",
    "\n",
    "def run_reinforce_training(ctr_df, n_rounds=10000, lr=0.1, baseline=True, seed=7):\n",
    "    \"\"\"\n",
    "    Simple REINFORCE on a position-factorized bandit:\n",
    "      At each round, for each position pick an action from policy softmax, get Bernoulli reward with p_true,\n",
    "      and do REINFORCE update (optionally with average-reward baseline per position).\n",
    "    \"\"\"\n",
    "    positions = list(ctr_df.index)\n",
    "    n_actions = ctr_df.shape[1]\n",
    "    rng = np.random.RandomState(seed)\n",
    "\n",
    "    policy = PositionAwareSoftmaxPolicy(n_actions, positions, seed=seed)\n",
    "    running_baseline = {p: 0.0 for p in positions}\n",
    "    beta = 0.99  # baseline EMA factor\n",
    "\n",
    "    for t in range(n_rounds):\n",
    "        grads = {p: np.zeros(n_actions) for p in positions}\n",
    "        rewards = {}\n",
    "        for p in positions:\n",
    "            a, pvec = policy.sample_action(p, rng)\n",
    "            r = float(rng.rand() < ctr_df.loc[p, a])  # simulate reward\n",
    "            rewards[p] = r\n",
    "            # gradient of log softmax at chosen action = (onehot - pvec)\n",
    "            g = -pvec\n",
    "            g[a] += 1.0\n",
    "            # REINFORCE weight = (r - b)\n",
    "            adv = r - (running_baseline[p] if baseline else 0.0)\n",
    "            grads[p] += adv * g\n",
    "\n",
    "        # baseline updates\n",
    "        if baseline:\n",
    "            for p in positions:\n",
    "                running_baseline[p] = beta * running_baseline[p] + (1 - beta) * rewards[p]\n",
    "\n",
    "        policy.update_reinforce(grads, lr=lr)\n",
    "\n",
    "    # Return learned per-position distributions\n",
    "    learned = {p: policy.action_probs(p) for p in positions}\n",
    "    return policy, learned\n",
    "\n",
    "# --- Use your df/bf from earlier ---\n",
    "# df must have columns: action, position (0/1/2), reward\u2208{0,1}\n",
    "K = bf[\"n_actions\"]\n",
    "positions = [0,1,2]\n",
    "ctr_pos_act = make_ctr_table(df, n_actions=K, positions=positions)\n",
    "\n",
    "# Train RL policy\n",
    "policy, learned_p = run_reinforce_training(\n",
    "    ctr_pos_act, n_rounds=10_000, lr=0.1, baseline=True, seed=7\n",
    ")\n",
    "\n",
    "# Plot learned selection probs vs empirical CTR per position\n",
    "fig = make_subplots(rows=3, cols=1, shared_xaxes=False,\n",
    "                    subplot_titles=[f\"Position {p}\" for p in positions],\n",
    "                    vertical_spacing=0.08)\n",
    "\n",
    "for i, p in enumerate(positions, start=1):\n",
    "    xs = np.arange(K)\n",
    "    y_ctr = ctr_pos_act.loc[p].to_numpy()\n",
    "    y_pol = learned_p[p]\n",
    "    ymax = float(max(y_ctr.max(), y_pol.max())) * 1.25 if (y_ctr.max() or y_pol.max()) else 0.02\n",
    "\n",
    "    fig.add_bar(x=xs, y=y_ctr, name=\"Empirical CTR\",\n",
    "                marker_color=\"steelblue\", opacity=0.6, showlegend=(i==1),\n",
    "                row=i, col=1)\n",
    "    fig.add_bar(x=xs, y=y_pol, name=\"RL policy P(select)\",\n",
    "                marker_color=\"darkorange\", opacity=0.85, showlegend=(i==1),\n",
    "                row=i, col=1)\n",
    "\n",
    "    fig.update_yaxes(title_text=\"Value\", range=[0, ymax], row=i, col=1)\n",
    "    fig.update_xaxes(\n",
    "        title_text=\"Action ID (0\u2013{})\".format(K-1) if i==3 else \"\",\n",
    "        tickmode=\"array\", tickvals=xs, ticktext=[str(a) for a in xs],\n",
    "        row=i, col=1\n",
    "    )\n",
    "\n",
    "fig.update_layout(\n",
    "    title=\"Position-aware REINFORCE (simulated env): Learned selection vs Empirical CTR\",\n",
    "    barmode=\"group\", bargap=0.15, template=\"plotly_white\", height=900\n",
    ")\n",
    "fig.show()"
   ]
  },
  {
   "cell_type": "code",
   "execution_count": null,
   "id": "8dd9780f",
   "metadata": {},
   "outputs": [],
   "source": [
    "import numpy as np\n",
    "from obp.ope import OffPolicyEvaluation, InverseProbabilityWeighting as IPW, SelfNormalizedInverseProbabilityWeighting as SNIPW\n",
    "\n",
    "K         = bf[\"n_actions\"]\n",
    "len_list  = len(positions)          # should be 3 for OBD\n",
    "n_rounds  = bf[\"n_rounds\"]\n",
    "\n",
    "# Build action_dist in the expected shape: (n_rounds, n_actions, len_list)\n",
    "action_dist = np.zeros((n_rounds, K, len_list), dtype=float)\n",
    "\n",
    "# learned_p[pos] must be a length-K prob vector that sums to 1\n",
    "for slot_index, pos in enumerate(positions):\n",
    "    vec = np.asarray(learned_p[pos], dtype=float)\n",
    "    # safety: renormalize tiny numeric drift\n",
    "    s = vec.sum()\n",
    "    if not np.isfinite(s) or s <= 0:\n",
    "        raise ValueError(f\"learned_p[{pos}] is invalid (sum={s}).\")\n",
    "    vec = vec / s\n",
    "    # repeat the same per-position distribution across all rounds\n",
    "    action_dist[:, :, slot_index] = vec[None, :]\n",
    "\n",
    "# --- validations (OBP will do similar checks) ---\n",
    "assert action_dist.shape == (n_rounds, K, len_list)\n",
    "assert np.all(np.isfinite(action_dist))\n",
    "assert np.all(action_dist >= 0)\n",
    "row_sums = action_dist.sum(axis=1)  # shape (n_rounds, len_list); sums over actions\n",
    "assert np.allclose(row_sums, 1.0, atol=1e-8), (row_sums.min(), row_sums.max())\n",
    "\n",
    "# Run OPE\n",
    "ope = OffPolicyEvaluation(bandit_feedback=bf, ope_estimators=[IPW(), SNIPW()])\n",
    "est = ope.estimate_policy_values(action_dist=action_dist)\n",
    "\n",
    "logged = bf[\"reward\"].mean()\n",
    "print(\"Logged avg reward:\", logged)\n",
    "print(\"IPW:   \", est[\"ipw\"])\n",
    "print(\"SNIPW: \", est[\"snipw\"])\n",
    "print(\"Relative (IPW / logged):\", est[\"ipw\"] / logged)"
   ]
  },
  {
   "cell_type": "code",
   "execution_count": null,
   "id": "e99c2188",
   "metadata": {},
   "outputs": [],
   "source": [
    "import numpy as np\n",
    "import pandas as pd\n",
    "from plotly.subplots import make_subplots\n",
    "import plotly.graph_objects as go\n",
    "from obp.ope import OffPolicyEvaluation, InverseProbabilityWeighting as IPW, SelfNormalizedInverseProbabilityWeighting as SNIPW\n",
    "\n",
    "# ---------- Data prep ----------\n",
    "def make_ctr_table(df: pd.DataFrame, n_actions: int, positions=(0,1,2)) -> pd.DataFrame:\n",
    "    ctr = (df.groupby([\"position\",\"action\"])[\"reward\"].mean()\n",
    "             .unstack(fill_value=np.nan)\n",
    "             .reindex(index=list(positions), columns=range(n_actions))\n",
    "             .fillna(0.0))\n",
    "    return ctr\n",
    "\n",
    "# ---------- Simple position-aware REINFORCE ----------\n",
    "def _softmax(x, axis=-1):\n",
    "    x = x - x.max(axis=axis, keepdims=True)\n",
    "    ex = np.exp(x)\n",
    "    return ex / ex.sum(axis=axis, keepdims=True)\n",
    "\n",
    "class PositionAwareSoftmaxPolicy:\n",
    "    def __init__(self, n_actions, positions=(0,1,2), seed=7, init_scale=0.0):\n",
    "        self.n_actions = int(n_actions)\n",
    "        self.positions = list(positions)\n",
    "        rng = np.random.RandomState(seed)\n",
    "        self.logits = {p: init_scale * rng.randn(self.n_actions) for p in self.positions}\n",
    "\n",
    "    def action_probs(self, pos: int) -> np.ndarray:\n",
    "        return _softmax(self.logits[pos])\n",
    "\n",
    "    def sample_action(self, pos: int, rng) -> tuple[int, np.ndarray]:\n",
    "        p = self.action_probs(pos)\n",
    "        a = int(rng.choice(self.n_actions, p=p))\n",
    "        return a, p\n",
    "\n",
    "    def update_reinforce(self, grads: dict[int, np.ndarray], lr: float = 0.1):\n",
    "        for p in self.positions:\n",
    "            self.logits[p] += lr * grads[p]\n",
    "\n",
    "def run_reinforce_training(\n",
    "    ctr_df: pd.DataFrame,\n",
    "    n_rounds: int = 10_000,\n",
    "    lr: float = 0.1,\n",
    "    baseline: bool = True,\n",
    "    seed: int = 7,\n",
    "    init_scale: float = 0.0,\n",
    "):\n",
    "    positions = list(ctr_df.index)\n",
    "    n_actions = ctr_df.shape[1]\n",
    "    rng = np.random.RandomState(seed)\n",
    "\n",
    "    policy = PositionAwareSoftmaxPolicy(n_actions, positions, seed=seed, init_scale=init_scale)\n",
    "    running_baseline = {p: 0.0 for p in positions}\n",
    "    beta = 0.99\n",
    "\n",
    "    for _ in range(n_rounds):\n",
    "        grads = {p: np.zeros(n_actions) for p in positions}\n",
    "        rewards = {}\n",
    "        for p in positions:\n",
    "            a, pvec = policy.sample_action(p, rng)\n",
    "            r = float(rng.rand() < ctr_df.loc[p, a])\n",
    "            rewards[p] = r\n",
    "            g = -pvec; g[a] += 1.0\n",
    "            adv = r - (running_baseline[p] if baseline else 0.0)\n",
    "            grads[p] += adv * g\n",
    "\n",
    "        if baseline:\n",
    "            for p in positions:\n",
    "                running_baseline[p] = beta * running_baseline[p] + (1 - beta) * rewards[p]\n",
    "\n",
    "        policy.update_reinforce(grads, lr=lr)\n",
    "\n",
    "    learned_p = {p: policy.action_probs(p) for p in positions}\n",
    "    return policy, learned_p\n",
    "\n",
    "# ---------- Plotting ----------\n",
    "def plot_learned_vs_ctr(ctr_pos_act: pd.DataFrame, learned_p: dict[int, np.ndarray], title: str):\n",
    "    positions = list(ctr_pos_act.index)\n",
    "    K = ctr_pos_act.shape[1]\n",
    "\n",
    "    fig = make_subplots(\n",
    "        rows=len(positions), cols=1, shared_xaxes=False,\n",
    "        subplot_titles=[f\"Position {p}\" for p in positions],\n",
    "        vertical_spacing=0.08\n",
    "    )\n",
    "\n",
    "    for i, p in enumerate(positions, start=1):\n",
    "        xs = np.arange(K)\n",
    "        y_ctr = ctr_pos_act.loc[p].to_numpy()\n",
    "        y_pol = learned_p[p]\n",
    "        ymax = float(max(y_ctr.max(), y_pol.max())) * 1.25 if (y_ctr.max() or y_pol.max()) else 0.02\n",
    "\n",
    "        fig.add_bar(x=xs, y=y_ctr, name=\"Empirical CTR\",\n",
    "                    marker_color=\"steelblue\", opacity=0.6, showlegend=(i==1),\n",
    "                    row=i, col=1)\n",
    "        fig.add_bar(x=xs, y=y_pol, name=\"RL policy P(select)\",\n",
    "                    marker_color=\"darkorange\", opacity=0.85, showlegend=(i==1),\n",
    "                    row=i, col=1)\n",
    "\n",
    "        fig.update_yaxes(title_text=\"Value\", range=[0, ymax], row=i, col=1)\n",
    "        fig.update_xaxes(\n",
    "            title_text=\"Action ID (0\u2013{})\".format(K-1) if i==len(positions) else \"\",\n",
    "            tickmode=\"array\", tickvals=xs, ticktext=[str(a) for a in xs],\n",
    "            row=i, col=1\n",
    "        )\n",
    "\n",
    "    fig.update_layout(\n",
    "        title=title, barmode=\"group\", bargap=0.15, template=\"plotly_white\",\n",
    "        height=300*len(positions) + 120\n",
    "    )\n",
    "    return fig\n",
    "\n",
    "# ---------- OPE ----------\n",
    "def learned_to_action_dist(learned_p: dict[int, np.ndarray], bf: dict, positions=(0,1,2)) -> np.ndarray:\n",
    "    K = bf[\"n_actions\"]; T = bf[\"n_rounds\"]; L = len(positions)\n",
    "    action_dist = np.zeros((T, K, L), dtype=float)\n",
    "    for slot_idx, pos in enumerate(positions):\n",
    "        vec = np.asarray(learned_p[pos], dtype=float)\n",
    "        s = vec.sum()\n",
    "        if not np.isfinite(s) or s <= 0:\n",
    "            raise ValueError(f\"learned_p[{pos}] invalid (sum={s}).\")\n",
    "        action_dist[:, :, slot_idx] = (vec / s)[None, :]\n",
    "    row_sums = action_dist.sum(axis=1)\n",
    "    if not np.allclose(row_sums, 1.0, atol=1e-8):\n",
    "        raise ValueError(f\"action_dist rows must sum to 1; got min/max {row_sums.min()}, {row_sums.max()}\")\n",
    "    return action_dist\n",
    "\n",
    "def eval_with_ope(bf: dict, action_dist: np.ndarray):\n",
    "    ope = OffPolicyEvaluation(bandit_feedback=bf, ope_estimators=[IPW(), SNIPW()])\n",
    "    est = ope.estimate_policy_values(action_dist=action_dist)\n",
    "    logged = float(np.mean(bf[\"reward\"]))\n",
    "    return {\n",
    "        \"logged_avg_reward\": logged,\n",
    "        \"ipw\": float(est[\"ipw\"]),\n",
    "        \"snipw\": float(est[\"snipw\"]),\n",
    "        \"ipw_over_logged\": float(est[\"ipw\"] / logged if logged > 0 else np.nan),\n",
    "        \"snipw_over_logged\": float(est[\"snipw\"] / logged if logged > 0 else np.nan),\n",
    "    }\n",
    "\n",
    "# ---------- Title formatter & end-to-end ----------\n",
    "def _format_config_title(n_rounds_rl, lr, baseline, seed, positions, prefix=\"REINFORCE\"):\n",
    "    pos_txt = \",\".join(str(p) for p in positions)\n",
    "    base_txt = \"on\" if baseline else \"off\"\n",
    "    return (f\"{prefix} \u2014 rounds={n_rounds_rl:,}, lr={lr}, baseline={base_txt}, \"\n",
    "            f\"seed={seed}, positions=[{pos_txt}]\")\n",
    "\n",
    "def train_plot_ope(\n",
    "    df: pd.DataFrame,\n",
    "    bf: dict,\n",
    "    positions=(0,1,2),\n",
    "    n_rounds_rl: int = 10_000,\n",
    "    lr: float = 0.1,\n",
    "    baseline: bool = True,\n",
    "    seed: int = 7,\n",
    "    init_scale: float = 0.0,\n",
    "    title: str | None = None,\n",
    "):\n",
    "    K = bf[\"n_actions\"]\n",
    "    ctr_pos_act = make_ctr_table(df, n_actions=K, positions=positions)\n",
    "    _, learned_p = run_reinforce_training(\n",
    "        ctr_pos_act, n_rounds=n_rounds_rl, lr=lr, baseline=baseline, seed=seed, init_scale=init_scale\n",
    "    )\n",
    "\n",
    "    # auto-title if none provided\n",
    "    auto_title = _format_config_title(n_rounds_rl, lr, baseline, seed, positions)\n",
    "    fig = plot_learned_vs_ctr(ctr_pos_act, learned_p, title or auto_title)\n",
    "\n",
    "    action_dist = learned_to_action_dist(learned_p, bf, positions=positions)\n",
    "    metrics = eval_with_ope(bf, action_dist)\n",
    "    return fig, learned_p, action_dist, metrics\n",
    "\n",
    "# ---------- Batch sweep ----------\n",
    "def sweep_and_compare(\n",
    "    df: pd.DataFrame,\n",
    "    bf: dict,\n",
    "    configs: list[dict],\n",
    "    positions=(0,1,2),\n",
    "):\n",
    "    rows = []\n",
    "    for cfg in configs:\n",
    "        fig, learned_p, action_dist, metrics = train_plot_ope(\n",
    "            df=df, bf=bf, positions=positions, **cfg\n",
    "        )\n",
    "        rows.append({\"config\": cfg, **metrics})\n",
    "    return pd.DataFrame(rows)"
   ]
  },
  {
   "cell_type": "code",
   "execution_count": null,
   "id": "799e6ccc",
   "metadata": {},
   "outputs": [],
   "source": [
    "fig, learned_p, action_dist, metrics = train_plot_ope(\n",
    "    df=df, bf=bf,\n",
    "    positions=[0,1,2],\n",
    "    n_rounds_rl=20_000,\n",
    "    lr=0.05,\n",
    "    baseline=False,\n",
    "    seed=42\n",
    ")\n",
    "fig.show()\n",
    "print(metrics)"
   ]
  },
  {
   "cell_type": "markdown",
   "id": "8b9e8303",
   "metadata": {},
   "source": [
    "### Comparing Policy performance between contextual bandit and RL"
   ]
  },
  {
   "cell_type": "code",
   "execution_count": null,
   "id": "ea9fec4a",
   "metadata": {},
   "outputs": [],
   "source": [
    "import numpy as np\n",
    "import pandas as pd\n",
    "from obp.policy import BernoulliTS\n",
    "import plotly.graph_objects as go\n",
    "\n",
    "# --- reuse your utilities from before ---\n",
    "# make_ctr_table, run_reinforce_training, learned_to_action_dist, eval_with_ope, plot_learned_vs_ctr, train_plot_ope\n",
    "\n",
    "def train_factorized_ts(\n",
    "    df: pd.DataFrame,\n",
    "    n_actions: int,\n",
    "    positions=(0,1,2),\n",
    "    R: int = 10_000,\n",
    "    seed: int = 7,\n",
    "    use_zozo_prior: bool = False,\n",
    "    n_sim_snapshot: int = 100_000,\n",
    "):\n",
    "    \"\"\"\n",
    "    One BernoulliTS per position; update each with samples from its slot for R rounds.\n",
    "    Returns: pmf_after (dict pos -> length-K prob vector).\n",
    "    \"\"\"\n",
    "    positions = list(positions)\n",
    "    policies = {\n",
    "        pos: BernoulliTS(\n",
    "            n_actions=n_actions, len_list=1,\n",
    "            is_zozotown_prior=use_zozo_prior, campaign=\"all\",\n",
    "            random_state=seed + pos\n",
    "        )\n",
    "        for pos in positions\n",
    "    }\n",
    "\n",
    "    # simulate R updates using one logged row per position each round\n",
    "    for _ in range(R):\n",
    "        samp = (df.groupby(\"position\", group_keys=False)\n",
    "                  .apply(lambda x: x.sample(1, random_state=None))\n",
    "                  .reset_index(drop=True))\n",
    "        for _, r in samp.iterrows():\n",
    "            pos = int(r[\"position\"]); a = int(r[\"action\"]); y = int(r[\"reward\"])\n",
    "            policies[pos].update_params(action=a, reward=y)\n",
    "\n",
    "    # snapshot per-position selection distribution (len_list=1 => (1, K, 1))\n",
    "    pmf_after = {}\n",
    "    for pos in positions:\n",
    "        ad = policies[pos].compute_batch_action_dist(n_rounds=1, n_sim=n_sim_snapshot)\n",
    "        pmf_after[pos] = ad[0, :, 0]  # (K,)\n",
    "        # normalize just in case of tiny MC drift\n",
    "        s = pmf_after[pos].sum()\n",
    "        pmf_after[pos] = pmf_after[pos] / s if s > 0 else np.full(n_actions, 1.0/n_actions)\n",
    "\n",
    "    return pmf_after\n",
    "\n",
    "def ts_to_action_dist(pmf_by_pos: dict[int, np.ndarray], bf: dict, positions=(0,1,2)) -> np.ndarray:\n",
    "    \"\"\"\n",
    "    Convert factorized TS per-position vectors into OBP shape (T, K, L).\n",
    "    \"\"\"\n",
    "    K = bf[\"n_actions\"]; T = bf[\"n_rounds\"]; L = len(positions)\n",
    "    action_dist = np.zeros((T, K, L), dtype=float)\n",
    "    for slot_idx, pos in enumerate(positions):\n",
    "        vec = np.asarray(pmf_by_pos[pos], dtype=float)\n",
    "        s = vec.sum(); vec = vec / s if s > 0 else np.full(K, 1.0/K)\n",
    "        action_dist[:, :, slot_idx] = vec[None, :]\n",
    "    # safety check\n",
    "    sums = action_dist.sum(axis=1)\n",
    "    if not np.allclose(sums, 1.0, atol=1e-8):\n",
    "        raise ValueError(f\"action_dist rows must sum to 1 (min={sums.min()}, max={sums.max()})\")\n",
    "    return action_dist\n",
    "\n",
    "def compare_rl_vs_ts(\n",
    "    df: pd.DataFrame,\n",
    "    bf: dict,\n",
    "    positions=(0,1,2),\n",
    "    # RL config\n",
    "    n_rounds_rl=10_000, lr=0.1, baseline=True, seed_rl=7, init_scale=0.0,\n",
    "    # TS config\n",
    "    R_ts=10_000, seed_ts=7, use_zozo_prior=False, n_sim_snapshot=100_000,\n",
    "):\n",
    "    \"\"\"\n",
    "    Train RL and factorized TS, evaluate both with OPE, and return:\n",
    "      - results_df: metrics table\n",
    "      - figs: dict with 'rl_vs_ctr' and 'bar_metrics' Plotly figs\n",
    "      - action_dists: dict with 'rl' and 'ts' OBP-shaped tensors\n",
    "    \"\"\"\n",
    "    K = bf[\"n_actions\"]\n",
    "\n",
    "    # 1) RL: train + plot + OPE\n",
    "    fig_rl, learned_p_rl, action_dist_rl, metrics_rl = train_plot_ope(\n",
    "        df=df, bf=bf, positions=positions,\n",
    "        n_rounds_rl=n_rounds_rl, lr=lr, baseline=baseline, seed=seed_rl, init_scale=init_scale,\n",
    "        title=None  # auto-title already includes config\n",
    "    )\n",
    "\n",
    "    # 2) Factorized TS: train + OPE\n",
    "    pmf_ts = train_factorized_ts(\n",
    "        df=df, n_actions=K, positions=positions,\n",
    "        R=R_ts, seed=seed_ts, use_zozo_prior=use_zozo_prior, n_sim_snapshot=n_sim_snapshot,\n",
    "    )\n",
    "    action_dist_ts = ts_to_action_dist(pmf_ts, bf, positions=positions)\n",
    "    metrics_ts = eval_with_ope(bf, action_dist_ts)\n",
    "\n",
    "    # 3) Tidy comparison table\n",
    "    results = pd.DataFrame([\n",
    "        {\"policy\": \"RL (REINFORCE)\",\n",
    "         \"logged_avg_reward\": metrics_rl[\"logged_avg_reward\"],\n",
    "         \"ipw\": metrics_rl[\"ipw\"],\n",
    "         \"snipw\": metrics_rl[\"snipw\"],\n",
    "         \"ipw_over_logged\": metrics_rl[\"ipw_over_logged\"],\n",
    "         \"snipw_over_logged\": metrics_rl[\"snipw_over_logged\"],\n",
    "         \"config\": {\"n_rounds_rl\": n_rounds_rl, \"lr\": lr, \"baseline\": baseline, \"seed\": seed_rl}},\n",
    "        {\"policy\": \"Factorized TS\",\n",
    "         \"logged_avg_reward\": metrics_ts[\"logged_avg_reward\"],\n",
    "         \"ipw\": metrics_ts[\"ipw\"],\n",
    "         \"snipw\": metrics_ts[\"snipw\"],\n",
    "         \"ipw_over_logged\": metrics_ts[\"ipw_over_logged\"],\n",
    "         \"snipw_over_logged\": metrics_ts[\"snipw_over_logged\"],\n",
    "         \"config\": {\"R_ts\": R_ts, \"seed\": seed_ts, \"use_zozo_prior\": use_zozo_prior}},\n",
    "    ])\n",
    "\n",
    "    # 4) Small bar chart comparing estimated values\n",
    "    fig_bar = go.Figure()\n",
    "    for row in results.itertuples(index=False):\n",
    "        fig_bar.add_bar(name=row.policy, x=[\"IPW\",\"SNIPW\"], y=[row.ipw, row.snipw])\n",
    "    fig_bar.update_layout(\n",
    "        title=\"OPE comparison: RL vs Factorized TS (higher is better)\",\n",
    "        barmode=\"group\", template=\"plotly_white\", yaxis_title=\"Estimated policy value\"\n",
    "    )\n",
    "\n",
    "    figs = {\"rl_vs_ctr\": fig_rl, \"bar_metrics\": fig_bar}\n",
    "    action_dists = {\"rl\": action_dist_rl, \"ts\": action_dist_ts}\n",
    "    return results, figs, action_dists"
   ]
  },
  {
   "cell_type": "code",
   "execution_count": null,
   "id": "eac4e9d8",
   "metadata": {},
   "outputs": [],
   "source": [
    "bf"
   ]
  },
  {
   "cell_type": "code",
   "execution_count": null,
   "id": "afb2572d",
   "metadata": {},
   "outputs": [],
   "source": [
    "# Compare with defaults (10k RL steps vs 10k TS updates)\n",
    "results, figs, action_dists = compare_rl_vs_ts(\n",
    "    df=df, bf=bf, positions=[0,1,2],\n",
    "    n_rounds_rl=10_000, lr=0.1, baseline=True, seed_rl=7,\n",
    "    R_ts=10_000, seed_ts=7, use_zozo_prior=False\n",
    ")\n",
    "\n",
    "# Show plots\n",
    "figs[\"rl_vs_ctr\"].show()   # RL selection probs vs empirical CTR (per position)\n",
    "figs[\"bar_metrics\"].show() # IPW & SNIPW bars: RL vs TS\n",
    "\n",
    "# Inspect table\n",
    "print(results)\n",
    "\n",
    "# If you want to feed either policy into other OBP estimators, you already have:\n",
    "# action_dists[\"rl\"]  and  action_dists[\"ts\"]  in shape (n_rounds, n_actions, len_list)"
   ]
  },
  {
   "cell_type": "code",
   "execution_count": null,
   "id": "451cebcb",
   "metadata": {},
   "outputs": [],
   "source": [
    "results"
   ]
  },
  {
   "cell_type": "code",
   "execution_count": null,
   "id": "ed8fd571",
   "metadata": {},
   "outputs": [],
   "source": [
    "results['config'][0]"
   ]
  },
  {
   "cell_type": "code",
   "execution_count": null,
   "id": "72ac2317",
   "metadata": {},
   "outputs": [],
   "source": [
    "results['config'][1]"
   ]
  },
  {
   "cell_type": "markdown",
   "id": "28d3e510",
   "metadata": {},
   "source": []
  },
  {
   "cell_type": "code",
   "execution_count": null,
   "id": "b48f3d6f",
   "metadata": {},
   "outputs": [],
   "source": [
    "# Suppose `results` is your DataFrame\n",
    "config_df = pd.json_normalize(results[\"config\"])   # turn list of dicts into a DataFrame\n",
    "results_expanded = results.drop(columns=\"config\").join(config_df)\n",
    "\n",
    "results_expanded"
   ]
  },
  {
   "cell_type": "code",
   "execution_count": null,
   "id": "e4d222ad",
   "metadata": {},
   "outputs": [],
   "source": [
    "df.head()"
   ]
  },
  {
   "cell_type": "code",
   "execution_count": null,
   "id": "0b567d49",
   "metadata": {},
   "outputs": [],
   "source": [
    "!jupyter nbconvert --to script bandit.ipynb"
   ]
  },
  {
   "cell_type": "code",
   "execution_count": null,
   "id": "4eda6803",
   "metadata": {},
   "outputs": [],
   "source": []
  }
 ],
 "metadata": {
  "kernelspec": {
   "display_name": "obp_replication",
   "language": "python",
   "name": "python3"
  },
  "language_info": {
   "codemirror_mode": {
    "name": "ipython",
    "version": 3
   },
   "file_extension": ".py",
   "mimetype": "text/x-python",
   "name": "python",
   "nbconvert_exporter": "python",
   "pygments_lexer": "ipython3",
   "version": "3.10.18"
  }
 },
 "nbformat": 4,
 "nbformat_minor": 5
}